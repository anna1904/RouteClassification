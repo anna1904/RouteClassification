{
 "cells": [
  {
   "cell_type": "markdown",
   "source": [
    "# Generate routes"
   ],
   "metadata": {
    "collapsed": false,
    "pycharm": {
     "name": "#%% md\n"
    }
   }
  },
  {
   "cell_type": "code",
   "execution_count": 1,
   "outputs": [],
   "source": [
    "import pandas as pd\n",
    "import numpy as np\n",
    "from datetime import datetime\n",
    "import pandas as pd\n",
    "import matplotlib.pyplot as plt\n",
    "from datetime import datetime, timedelta\n",
    "from sklearn.cluster import KMeans"
   ],
   "metadata": {
    "collapsed": false,
    "pycharm": {
     "name": "#%%\n"
    }
   }
  },
  {
   "cell_type": "code",
   "execution_count": 2,
   "outputs": [
    {
     "name": "stdout",
     "output_type": "stream",
     "text": [
      "stop_completed_at         0\n",
      "stop_arrived_at           0\n",
      "stop_latest               0\n",
      "stop_earliest             0\n",
      "stop_dispatched_at        0\n",
      "location_id               0\n",
      "location_type_id          0\n",
      "driver_workday_id         0\n",
      "address_id                0\n",
      "location_is_depot         0\n",
      "driver_id                 0\n",
      "current_lat               0\n",
      "current_lng               0\n",
      "prev_planned_lat      27440\n",
      "prev_planned_lng      27440\n",
      "prev_actual_lat       27440\n",
      "prev_actual_lng       27440\n",
      "dtype: int64\n",
      "number of groups 11589\n"
     ]
    },
    {
     "data": {
      "text/plain": "       driver_workday_id                                          driver_id  \\\n0                 297900  [1255, 1255, 1255, 1255, 1255, 1255, 1255, 125...   \n1                 297906         [1195, 1195, 1195, 1195, 1195, 1195, 1195]   \n2                 297908  [1176, 1176, 1176, 1176, 1176, 1176, 1176, 117...   \n3                 297911  [1197, 1197, 1197, 1197, 1197, 1197, 1197, 119...   \n4                 297919  [1218, 1218, 1218, 1218, 1218, 1218, 1218, 121...   \n...                  ...                                                ...   \n27441             442393                [877, 877, 877, 877, 877, 877, 877]   \n27442             443087  [1562, 1562, 1562, 1562, 1562, 1562, 1562, 156...   \n27443             443092                           [1417, 1417, 1417, 1417]   \n27444             443098                                         [874, 874]   \n27445             443107  [723, 723, 723, 723, 723, 723, 723, 723, 723, ...   \n\n                                        location_type_id  \\\n0                         [1, 2, 2, 2, 2, 2, 2, 2, 2, 2]   \n1                                  [1, 2, 2, 2, 2, 2, 2]   \n2      [1, 2, 2, 2, 2, 2, 2, 2, 2, 2, 2, 2, 2, 2, 2, ...   \n3                         [1, 2, 2, 2, 2, 2, 2, 2, 2, 2]   \n4                      [1, 2, 2, 2, 2, 2, 2, 2, 2, 2, 2]   \n...                                                  ...   \n27441                              [1, 2, 2, 2, 2, 2, 2]   \n27442  [1, 2, 2, 2, 2, 1, 2, 2, 1, 2, 2, 1, 2, 2, 2, ...   \n27443                                       [1, 2, 1, 2]   \n27444                                             [1, 2]   \n27445               [1, 2, 2, 2, 2, 2, 2, 2, 2, 2, 1, 2]   \n\n                                  planned_route_location  \\\n0      [122267, 118973, 118854, 118820, 118623, 11909...   \n1      [122267, 120295, 120297, 118930, 120298, 13328...   \n2      [122267, 120515, 119217, 119215, 119170, 13445...   \n3      [122267, 145327, 133259, 133259, 133259, 13325...   \n4      [122267, 119426, 118790, 119069, 118805, 11885...   \n...                                                  ...   \n27441  [23977, 58941, 38726, 176478, 153920, 186237, ...   \n27442  [163647, 173249, 179617, 180628, 160877, 16186...   \n27443                      [46452, 46955, 46452, 154273]   \n27444                                    [23977, 135840]   \n27445  [46452, 45160, 156665, 44587, 45161, 44634, 50...   \n\n                                      stop_dispatched_at  \\\n0      [2024-01-01 19:41:35.136881+00, 2024-01-01 19:...   \n1      [2024-01-01 19:42:05.147145+00, 2024-01-01 19:...   \n2      [2024-01-01 21:25:47.230131+00, 2024-01-01 21:...   \n3      [2024-01-01 19:42:59.704147+00, 2024-01-01 19:...   \n4      [2024-01-01 19:46:51.16173+00, 2024-01-01 19:4...   \n...                                                  ...   \n27441  [2024-08-06 19:39:12.755331+00, 2024-08-06 19:...   \n27442  [2024-08-07 01:23:02.437621+00, 2024-08-07 01:...   \n27443  [2024-08-07 05:59:26.311221+00, 2024-08-07 05:...   \n27444  [2024-08-07 05:42:45.306612+00, 2024-08-07 05:...   \n27445  [2024-08-07 08:27:45.361844+00, 2024-08-07 08:...   \n\n                                         stop_arrived_at  \\\n0      [2024-01-01 22:14:16.454324+00, 2024-01-01 23:...   \n1      [2024-01-01 20:50:17.003744+00, 2024-01-02 02:...   \n2      [2024-01-01 23:06:27.627368+00, 2024-01-02 01:...   \n3      [2024-01-02 00:09:15.241119+00, 2024-01-02 04:...   \n4      [2024-01-01 23:05:52.039818+00, 2024-01-02 01:...   \n...                                                  ...   \n27441  [2024-08-07 13:31:50.711864+00, 2024-08-07 13:...   \n27442  [2024-08-07 01:24:05.33254+00, 2024-08-07 03:3...   \n27443  [2024-08-07 06:38:14.810272+00, 2024-08-07 07:...   \n27444  [2024-08-07 13:31:52.652071+00, 2024-08-07 13:...   \n27445  [2024-08-07 09:00:31.581115+00, 2024-08-07 10:...   \n\n                                           stop_earliest  \\\n0      [2024-01-01 19:00:00+00, 2024-01-01 23:00:00+0...   \n1      [2024-01-01 19:00:00+00, 2024-01-01 21:00:00+0...   \n2      [2024-01-01 19:00:00+00, 2024-01-01 21:00:00+0...   \n3      [2024-01-02 00:00:00+00, 2024-01-02 04:30:00+0...   \n4      [2024-01-01 19:00:00+00, 2024-01-01 21:00:00+0...   \n...                                                  ...   \n27441  [2024-08-07 01:00:00+00, 2024-08-07 05:00:00+0...   \n27442  [2024-08-07 00:00:00+00, 2024-08-07 02:00:00+0...   \n27443  [2024-08-07 02:00:00+00, 2024-08-07 05:00:00+0...   \n27444   [2024-08-07 01:00:00+00, 2024-08-07 05:00:00+00]   \n27445  [2024-08-07 02:00:00+00, 2024-08-07 06:00:00+0...   \n\n                                             stop_latest  \\\n0      [2024-01-02 01:00:00+00, 2024-01-02 03:00:00+0...   \n1      [2024-01-02 01:00:00+00, 2024-01-02 04:00:00+0...   \n2      [2024-01-02 01:00:00+00, 2024-01-02 04:00:00+0...   \n3      [2024-01-02 22:00:00+00, 2024-01-02 08:00:00+0...   \n4      [2024-01-02 01:00:00+00, 2024-01-02 04:00:00+0...   \n...                                                  ...   \n27441  [2024-08-07 14:00:00+00, 2024-08-07 11:00:00+0...   \n27442  [2024-08-07 16:00:00+00, 2024-08-07 04:00:00+0...   \n27443  [2024-08-07 20:00:00+00, 2024-08-07 07:00:00+0...   \n27444   [2024-08-07 14:00:00+00, 2024-08-07 11:00:00+00]   \n27445  [2024-08-07 20:00:00+00, 2024-08-07 10:00:00+0...   \n\n                                             current_lat  \\\n0      [55.6465393, 55.6669147, 55.676665, 55.6757322...   \n1      [55.6465393, 55.662018, 55.662429, 55.6727433,...   \n2      [55.6465393, 55.619592, 55.636304, 55.631888, ...   \n3      [55.6465393, 54.65117396302384, 54.666191, 54....   \n4      [55.6465393, 55.62296, 55.562168, 55.6381577, ...   \n...                                                  ...   \n27441  [60.007627, 59.923836, 59.93422, 59.811373, 59...   \n27442  [56.0667627, 56.13472729999999, 56.1352239, 56...   \n27443  [59.805664, 59.795058, 59.805664, 59.948098894...   \n27444                             [60.007627, 59.905421]   \n27445  [59.805664, 59.420838, 59.415188, 59.414098, 5...   \n\n                                             current_lng  \\\n0      [12.1522978, 12.5262801, 12.566428, 12.5619711...   \n1      [12.1522978, 12.360745, 12.363469, 12.3935111,...   \n2      [12.1522978, 12.028735, 12.044857, 12.055067, ...   \n3      [12.1522978, 11.375901220879824, 11.333044, 11...   \n4      [12.1522978, 12.615835, 12.576841, 12.6515491,...   \n...                                                  ...   \n27441  [11.047135, 10.814451, 10.800594, 10.80755, 10...   \n27442  [9.986944, 8.9884048, 8.9838423, 8.9810943, 8....   \n27443  [10.290383, 10.279009, 10.290383, 10.771520299...   \n27444                             [11.047135, 10.618603]   \n27445  [10.290383, 10.488199, 10.496616, 10.487423, 1...   \n\n                                       stop_completed_at  \\\n0      [2024-01-01 22:14:54.872731+00, 2024-01-01 23:...   \n1      [2024-01-01 20:50:29.721122+00, 2024-01-02 02:...   \n2      [2024-01-01 23:06:36.064172+00, 2024-01-02 01:...   \n3      [2024-01-02 00:09:21.131516+00, 2024-01-02 04:...   \n4      [2024-01-01 23:05:58.283704+00, 2024-01-02 01:...   \n...                                                  ...   \n27441  [2024-08-07 13:31:50.711869+00, 2024-08-07 13:...   \n27442  [2024-08-07 01:24:05.33256+00, 2024-08-07 03:3...   \n27443  [2024-08-07 07:10:49.406797+00, 2024-08-07 07:...   \n27444  [2024-08-07 13:31:52.652071+00, 2024-08-07 13:...   \n27445  [2024-08-07 09:00:39.885506+00, 2024-08-07 10:...   \n\n                                   planned_route_cluster  \\\n0      [3165, 1419, 3238, 3429, 720, 1360, 4511, 3703...   \n1              [3165, 122, 3540, 1413, 3487, 2070, 1287]   \n2      [3165, 1073, 1995, 3776, 1059, 1266, 1938, 193...   \n3      [3165, 442, 137, 137, 137, 137, 137, 137, 1809...   \n4      [3165, 3301, 537, 1830, 4879, 3305, 3305, 1642...   \n...                                                  ...   \n27441             [30, 3949, 4848, 4971, 2429, 45, 2313]   \n27442  [39, 1071, 3823, 4365, 4365, 39, 3823, 3823, 4...   \n27443                               [33, 2032, 33, 2852]   \n27444                                         [30, 3836]   \n27445  [33, 3225, 4361, 4473, 1308, 2346, 37, 3408, 4...   \n\n                                     planned_route_craft  \\\n0      [1169, 1405, 1577, 1560, 1479, 1391, 1434, 141...   \n1             [1169, 1352, 1356, 1508, 1350, 1312, 1401]   \n2      [1169, 960, 1049, 1026, 982, 916, 1284, 1281, ...   \n3               [1169, 7, 23, 23, 23, 23, 23, 23, 12, 4]   \n4      [1169, 965, 818, 1070, 1658, 1168, 1166, 888, ...   \n...                                                  ...   \n27441        [10076, 8785, 9172, 7204, 6955, 5902, 7045]   \n27442  [3162, 3403, 3408, 3440, 3437, 3162, 3408, 338...   \n27443                           [7166, 7127, 7166, 9527]   \n27444                                      [10076, 7846]   \n27445  [7166, 5428, 5394, 5385, 5347, 4633, 4350, 431...   \n\n                                             day_of_week  \\\n0      [Monday, Monday, Monday, Monday, Monday, Monda...   \n1      [Monday, Monday, Monday, Monday, Monday, Monda...   \n2      [Monday, Monday, Monday, Monday, Monday, Monda...   \n3      [Monday, Monday, Monday, Monday, Monday, Monda...   \n4      [Monday, Monday, Monday, Monday, Monday, Monda...   \n...                                                  ...   \n27441  [Tuesday, Tuesday, Tuesday, Tuesday, Tuesday, ...   \n27442  [Wednesday, Wednesday, Wednesday, Wednesday, W...   \n27443       [Wednesday, Wednesday, Wednesday, Wednesday]   \n27444                             [Wednesday, Wednesday]   \n27445  [Wednesday, Wednesday, Wednesday, Wednesday, W...   \n\n                                       location_is_depot  \\\n0      [True, False, False, False, False, False, Fals...   \n1       [True, False, False, False, False, False, False]   \n2      [True, False, False, False, False, False, Fals...   \n3      [True, False, False, False, False, False, Fals...   \n4      [True, False, False, False, False, False, Fals...   \n...                                                  ...   \n27441   [True, False, False, False, False, False, False]   \n27442  [True, True, False, False, False, False, False...   \n27443                         [True, False, True, False]   \n27444                                      [True, False]   \n27445  [True, False, False, False, False, False, Fals...   \n\n                                                    date  \n0      [2024-01-01, 2024-01-01, 2024-01-01, 2024-01-0...  \n1      [2024-01-01, 2024-01-01, 2024-01-01, 2024-01-0...  \n2      [2024-01-01, 2024-01-01, 2024-01-01, 2024-01-0...  \n3      [2024-01-01, 2024-01-01, 2024-01-01, 2024-01-0...  \n4      [2024-01-01, 2024-01-01, 2024-01-01, 2024-01-0...  \n...                                                  ...  \n27441  [2024-08-06, 2024-08-06, 2024-08-06, 2024-08-0...  \n27442  [2024-08-07, 2024-08-07, 2024-08-07, 2024-08-0...  \n27443   [2024-08-07, 2024-08-07, 2024-08-07, 2024-08-07]  \n27444                           [2024-08-07, 2024-08-07]  \n27445  [2024-08-07, 2024-08-07, 2024-08-07, 2024-08-0...  \n\n[27446 rows x 16 columns]",
      "text/html": "<div>\n<style scoped>\n    .dataframe tbody tr th:only-of-type {\n        vertical-align: middle;\n    }\n\n    .dataframe tbody tr th {\n        vertical-align: top;\n    }\n\n    .dataframe thead th {\n        text-align: right;\n    }\n</style>\n<table border=\"1\" class=\"dataframe\">\n  <thead>\n    <tr style=\"text-align: right;\">\n      <th></th>\n      <th>driver_workday_id</th>\n      <th>driver_id</th>\n      <th>location_type_id</th>\n      <th>planned_route_location</th>\n      <th>stop_dispatched_at</th>\n      <th>stop_arrived_at</th>\n      <th>stop_earliest</th>\n      <th>stop_latest</th>\n      <th>current_lat</th>\n      <th>current_lng</th>\n      <th>stop_completed_at</th>\n      <th>planned_route_cluster</th>\n      <th>planned_route_craft</th>\n      <th>day_of_week</th>\n      <th>location_is_depot</th>\n      <th>date</th>\n    </tr>\n  </thead>\n  <tbody>\n    <tr>\n      <th>0</th>\n      <td>297900</td>\n      <td>[1255, 1255, 1255, 1255, 1255, 1255, 1255, 125...</td>\n      <td>[1, 2, 2, 2, 2, 2, 2, 2, 2, 2]</td>\n      <td>[122267, 118973, 118854, 118820, 118623, 11909...</td>\n      <td>[2024-01-01 19:41:35.136881+00, 2024-01-01 19:...</td>\n      <td>[2024-01-01 22:14:16.454324+00, 2024-01-01 23:...</td>\n      <td>[2024-01-01 19:00:00+00, 2024-01-01 23:00:00+0...</td>\n      <td>[2024-01-02 01:00:00+00, 2024-01-02 03:00:00+0...</td>\n      <td>[55.6465393, 55.6669147, 55.676665, 55.6757322...</td>\n      <td>[12.1522978, 12.5262801, 12.566428, 12.5619711...</td>\n      <td>[2024-01-01 22:14:54.872731+00, 2024-01-01 23:...</td>\n      <td>[3165, 1419, 3238, 3429, 720, 1360, 4511, 3703...</td>\n      <td>[1169, 1405, 1577, 1560, 1479, 1391, 1434, 141...</td>\n      <td>[Monday, Monday, Monday, Monday, Monday, Monda...</td>\n      <td>[True, False, False, False, False, False, Fals...</td>\n      <td>[2024-01-01, 2024-01-01, 2024-01-01, 2024-01-0...</td>\n    </tr>\n    <tr>\n      <th>1</th>\n      <td>297906</td>\n      <td>[1195, 1195, 1195, 1195, 1195, 1195, 1195]</td>\n      <td>[1, 2, 2, 2, 2, 2, 2]</td>\n      <td>[122267, 120295, 120297, 118930, 120298, 13328...</td>\n      <td>[2024-01-01 19:42:05.147145+00, 2024-01-01 19:...</td>\n      <td>[2024-01-01 20:50:17.003744+00, 2024-01-02 02:...</td>\n      <td>[2024-01-01 19:00:00+00, 2024-01-01 21:00:00+0...</td>\n      <td>[2024-01-02 01:00:00+00, 2024-01-02 04:00:00+0...</td>\n      <td>[55.6465393, 55.662018, 55.662429, 55.6727433,...</td>\n      <td>[12.1522978, 12.360745, 12.363469, 12.3935111,...</td>\n      <td>[2024-01-01 20:50:29.721122+00, 2024-01-02 02:...</td>\n      <td>[3165, 122, 3540, 1413, 3487, 2070, 1287]</td>\n      <td>[1169, 1352, 1356, 1508, 1350, 1312, 1401]</td>\n      <td>[Monday, Monday, Monday, Monday, Monday, Monda...</td>\n      <td>[True, False, False, False, False, False, False]</td>\n      <td>[2024-01-01, 2024-01-01, 2024-01-01, 2024-01-0...</td>\n    </tr>\n    <tr>\n      <th>2</th>\n      <td>297908</td>\n      <td>[1176, 1176, 1176, 1176, 1176, 1176, 1176, 117...</td>\n      <td>[1, 2, 2, 2, 2, 2, 2, 2, 2, 2, 2, 2, 2, 2, 2, ...</td>\n      <td>[122267, 120515, 119217, 119215, 119170, 13445...</td>\n      <td>[2024-01-01 21:25:47.230131+00, 2024-01-01 21:...</td>\n      <td>[2024-01-01 23:06:27.627368+00, 2024-01-02 01:...</td>\n      <td>[2024-01-01 19:00:00+00, 2024-01-01 21:00:00+0...</td>\n      <td>[2024-01-02 01:00:00+00, 2024-01-02 04:00:00+0...</td>\n      <td>[55.6465393, 55.619592, 55.636304, 55.631888, ...</td>\n      <td>[12.1522978, 12.028735, 12.044857, 12.055067, ...</td>\n      <td>[2024-01-01 23:06:36.064172+00, 2024-01-02 01:...</td>\n      <td>[3165, 1073, 1995, 3776, 1059, 1266, 1938, 193...</td>\n      <td>[1169, 960, 1049, 1026, 982, 916, 1284, 1281, ...</td>\n      <td>[Monday, Monday, Monday, Monday, Monday, Monda...</td>\n      <td>[True, False, False, False, False, False, Fals...</td>\n      <td>[2024-01-01, 2024-01-01, 2024-01-01, 2024-01-0...</td>\n    </tr>\n    <tr>\n      <th>3</th>\n      <td>297911</td>\n      <td>[1197, 1197, 1197, 1197, 1197, 1197, 1197, 119...</td>\n      <td>[1, 2, 2, 2, 2, 2, 2, 2, 2, 2]</td>\n      <td>[122267, 145327, 133259, 133259, 133259, 13325...</td>\n      <td>[2024-01-01 19:42:59.704147+00, 2024-01-01 19:...</td>\n      <td>[2024-01-02 00:09:15.241119+00, 2024-01-02 04:...</td>\n      <td>[2024-01-02 00:00:00+00, 2024-01-02 04:30:00+0...</td>\n      <td>[2024-01-02 22:00:00+00, 2024-01-02 08:00:00+0...</td>\n      <td>[55.6465393, 54.65117396302384, 54.666191, 54....</td>\n      <td>[12.1522978, 11.375901220879824, 11.333044, 11...</td>\n      <td>[2024-01-02 00:09:21.131516+00, 2024-01-02 04:...</td>\n      <td>[3165, 442, 137, 137, 137, 137, 137, 137, 1809...</td>\n      <td>[1169, 7, 23, 23, 23, 23, 23, 23, 12, 4]</td>\n      <td>[Monday, Monday, Monday, Monday, Monday, Monda...</td>\n      <td>[True, False, False, False, False, False, Fals...</td>\n      <td>[2024-01-01, 2024-01-01, 2024-01-01, 2024-01-0...</td>\n    </tr>\n    <tr>\n      <th>4</th>\n      <td>297919</td>\n      <td>[1218, 1218, 1218, 1218, 1218, 1218, 1218, 121...</td>\n      <td>[1, 2, 2, 2, 2, 2, 2, 2, 2, 2, 2]</td>\n      <td>[122267, 119426, 118790, 119069, 118805, 11885...</td>\n      <td>[2024-01-01 19:46:51.16173+00, 2024-01-01 19:4...</td>\n      <td>[2024-01-01 23:05:52.039818+00, 2024-01-02 01:...</td>\n      <td>[2024-01-01 19:00:00+00, 2024-01-01 21:00:00+0...</td>\n      <td>[2024-01-02 01:00:00+00, 2024-01-02 04:00:00+0...</td>\n      <td>[55.6465393, 55.62296, 55.562168, 55.6381577, ...</td>\n      <td>[12.1522978, 12.615835, 12.576841, 12.6515491,...</td>\n      <td>[2024-01-01 23:05:58.283704+00, 2024-01-02 01:...</td>\n      <td>[3165, 3301, 537, 1830, 4879, 3305, 3305, 1642...</td>\n      <td>[1169, 965, 818, 1070, 1658, 1168, 1166, 888, ...</td>\n      <td>[Monday, Monday, Monday, Monday, Monday, Monda...</td>\n      <td>[True, False, False, False, False, False, Fals...</td>\n      <td>[2024-01-01, 2024-01-01, 2024-01-01, 2024-01-0...</td>\n    </tr>\n    <tr>\n      <th>...</th>\n      <td>...</td>\n      <td>...</td>\n      <td>...</td>\n      <td>...</td>\n      <td>...</td>\n      <td>...</td>\n      <td>...</td>\n      <td>...</td>\n      <td>...</td>\n      <td>...</td>\n      <td>...</td>\n      <td>...</td>\n      <td>...</td>\n      <td>...</td>\n      <td>...</td>\n      <td>...</td>\n    </tr>\n    <tr>\n      <th>27441</th>\n      <td>442393</td>\n      <td>[877, 877, 877, 877, 877, 877, 877]</td>\n      <td>[1, 2, 2, 2, 2, 2, 2]</td>\n      <td>[23977, 58941, 38726, 176478, 153920, 186237, ...</td>\n      <td>[2024-08-06 19:39:12.755331+00, 2024-08-06 19:...</td>\n      <td>[2024-08-07 13:31:50.711864+00, 2024-08-07 13:...</td>\n      <td>[2024-08-07 01:00:00+00, 2024-08-07 05:00:00+0...</td>\n      <td>[2024-08-07 14:00:00+00, 2024-08-07 11:00:00+0...</td>\n      <td>[60.007627, 59.923836, 59.93422, 59.811373, 59...</td>\n      <td>[11.047135, 10.814451, 10.800594, 10.80755, 10...</td>\n      <td>[2024-08-07 13:31:50.711869+00, 2024-08-07 13:...</td>\n      <td>[30, 3949, 4848, 4971, 2429, 45, 2313]</td>\n      <td>[10076, 8785, 9172, 7204, 6955, 5902, 7045]</td>\n      <td>[Tuesday, Tuesday, Tuesday, Tuesday, Tuesday, ...</td>\n      <td>[True, False, False, False, False, False, False]</td>\n      <td>[2024-08-06, 2024-08-06, 2024-08-06, 2024-08-0...</td>\n    </tr>\n    <tr>\n      <th>27442</th>\n      <td>443087</td>\n      <td>[1562, 1562, 1562, 1562, 1562, 1562, 1562, 156...</td>\n      <td>[1, 2, 2, 2, 2, 1, 2, 2, 1, 2, 2, 1, 2, 2, 2, ...</td>\n      <td>[163647, 173249, 179617, 180628, 160877, 16186...</td>\n      <td>[2024-08-07 01:23:02.437621+00, 2024-08-07 01:...</td>\n      <td>[2024-08-07 01:24:05.33254+00, 2024-08-07 03:3...</td>\n      <td>[2024-08-07 00:00:00+00, 2024-08-07 02:00:00+0...</td>\n      <td>[2024-08-07 16:00:00+00, 2024-08-07 04:00:00+0...</td>\n      <td>[56.0667627, 56.13472729999999, 56.1352239, 56...</td>\n      <td>[9.986944, 8.9884048, 8.9838423, 8.9810943, 8....</td>\n      <td>[2024-08-07 01:24:05.33256+00, 2024-08-07 03:3...</td>\n      <td>[39, 1071, 3823, 4365, 4365, 39, 3823, 3823, 4...</td>\n      <td>[3162, 3403, 3408, 3440, 3437, 3162, 3408, 338...</td>\n      <td>[Wednesday, Wednesday, Wednesday, Wednesday, W...</td>\n      <td>[True, True, False, False, False, False, False...</td>\n      <td>[2024-08-07, 2024-08-07, 2024-08-07, 2024-08-0...</td>\n    </tr>\n    <tr>\n      <th>27443</th>\n      <td>443092</td>\n      <td>[1417, 1417, 1417, 1417]</td>\n      <td>[1, 2, 1, 2]</td>\n      <td>[46452, 46955, 46452, 154273]</td>\n      <td>[2024-08-07 05:59:26.311221+00, 2024-08-07 05:...</td>\n      <td>[2024-08-07 06:38:14.810272+00, 2024-08-07 07:...</td>\n      <td>[2024-08-07 02:00:00+00, 2024-08-07 05:00:00+0...</td>\n      <td>[2024-08-07 20:00:00+00, 2024-08-07 07:00:00+0...</td>\n      <td>[59.805664, 59.795058, 59.805664, 59.948098894...</td>\n      <td>[10.290383, 10.279009, 10.290383, 10.771520299...</td>\n      <td>[2024-08-07 07:10:49.406797+00, 2024-08-07 07:...</td>\n      <td>[33, 2032, 33, 2852]</td>\n      <td>[7166, 7127, 7166, 9527]</td>\n      <td>[Wednesday, Wednesday, Wednesday, Wednesday]</td>\n      <td>[True, False, True, False]</td>\n      <td>[2024-08-07, 2024-08-07, 2024-08-07, 2024-08-07]</td>\n    </tr>\n    <tr>\n      <th>27444</th>\n      <td>443098</td>\n      <td>[874, 874]</td>\n      <td>[1, 2]</td>\n      <td>[23977, 135840]</td>\n      <td>[2024-08-07 05:42:45.306612+00, 2024-08-07 05:...</td>\n      <td>[2024-08-07 13:31:52.652071+00, 2024-08-07 13:...</td>\n      <td>[2024-08-07 01:00:00+00, 2024-08-07 05:00:00+00]</td>\n      <td>[2024-08-07 14:00:00+00, 2024-08-07 11:00:00+00]</td>\n      <td>[60.007627, 59.905421]</td>\n      <td>[11.047135, 10.618603]</td>\n      <td>[2024-08-07 13:31:52.652071+00, 2024-08-07 13:...</td>\n      <td>[30, 3836]</td>\n      <td>[10076, 7846]</td>\n      <td>[Wednesday, Wednesday]</td>\n      <td>[True, False]</td>\n      <td>[2024-08-07, 2024-08-07]</td>\n    </tr>\n    <tr>\n      <th>27445</th>\n      <td>443107</td>\n      <td>[723, 723, 723, 723, 723, 723, 723, 723, 723, ...</td>\n      <td>[1, 2, 2, 2, 2, 2, 2, 2, 2, 2, 1, 2]</td>\n      <td>[46452, 45160, 156665, 44587, 45161, 44634, 50...</td>\n      <td>[2024-08-07 08:27:45.361844+00, 2024-08-07 08:...</td>\n      <td>[2024-08-07 09:00:31.581115+00, 2024-08-07 10:...</td>\n      <td>[2024-08-07 02:00:00+00, 2024-08-07 06:00:00+0...</td>\n      <td>[2024-08-07 20:00:00+00, 2024-08-07 10:00:00+0...</td>\n      <td>[59.805664, 59.420838, 59.415188, 59.414098, 5...</td>\n      <td>[10.290383, 10.488199, 10.496616, 10.487423, 1...</td>\n      <td>[2024-08-07 09:00:39.885506+00, 2024-08-07 10:...</td>\n      <td>[33, 3225, 4361, 4473, 1308, 2346, 37, 3408, 4...</td>\n      <td>[7166, 5428, 5394, 5385, 5347, 4633, 4350, 431...</td>\n      <td>[Wednesday, Wednesday, Wednesday, Wednesday, W...</td>\n      <td>[True, False, False, False, False, False, Fals...</td>\n      <td>[2024-08-07, 2024-08-07, 2024-08-07, 2024-08-0...</td>\n    </tr>\n  </tbody>\n</table>\n<p>27446 rows × 16 columns</p>\n</div>"
     },
     "execution_count": 2,
     "metadata": {},
     "output_type": "execute_result"
    }
   ],
   "source": [
    "data_stops = pd.read_csv('data/uni_molde_v3.csv', sep=';')\n",
    "\n",
    "data_stops\n",
    "data_stops.loc[data_stops['stop_completed_at'].isna(), 'stop_completed_at'] = \"-1\"\n",
    "data_stops.loc[data_stops['stop_arrived_at'].isna(), 'stop_arrived_at'] = \"-1\"\n",
    "\n",
    "print(data_stops.isnull().sum())\n",
    "\n",
    "\n",
    "sorted_data_stops = data_stops.sort_values(by='stop_dispatched_at', ascending=True)\n",
    "sorted_data_stops = sorted_data_stops.reset_index(drop=True)\n",
    "sorted_data_stops['day_of_week'] = pd.to_datetime(sorted_data_stops['stop_dispatched_at']).dt.day_name()\n",
    "sorted_data_stops['date'] = pd.to_datetime(sorted_data_stops['stop_dispatched_at']).dt.date\n",
    "\n",
    "#clustering\n",
    "locations_df = sorted_data_stops[['current_lat', 'current_lng']]\n",
    "kmeans = KMeans(n_clusters=5000, random_state=42)\n",
    "kmeans.fit(locations_df)\n",
    "sorted_data_stops['cluster'] = kmeans.labels_ + 1\n",
    "\n",
    "sorted_data_stops['location_id_craft'] = sorted_data_stops.groupby(['current_lat', 'current_lng']).ngroup()+1\n",
    "with open('output.txt', 'w') as f:\n",
    "    print(sorted_data_stops.to_string(), file=f)\n",
    "print('number of groups', sorted_data_stops['location_id_craft'].nunique())\n",
    "\n",
    "# data_stops_day= sorted_data_stops[sorted_data_stops['day_of_week'] == \"Wednesday\"]\n",
    "grouped_df = sorted_data_stops.groupby('driver_workday_id')[['driver_id', 'location_type_id', 'address_id', 'stop_dispatched_at', 'stop_arrived_at', 'stop_earliest', 'stop_latest', 'current_lat', 'current_lng', 'stop_completed_at', 'cluster', 'location_id_craft','day_of_week', 'date', 'location_is_depot']].apply(lambda x: pd.Series({\n",
    "    'driver_id': x['driver_id'].tolist(),\n",
    "    'location_type_id': x['location_type_id'].tolist(),\n",
    "    'planned_route_location': x['address_id'].tolist(),\n",
    "    'stop_dispatched_at': x['stop_dispatched_at'].tolist(),\n",
    "    'stop_arrived_at': x['stop_arrived_at'].tolist(),\n",
    "    'stop_earliest': x['stop_earliest'].tolist(),\n",
    "    'stop_latest': x['stop_latest'].tolist(),\n",
    "    'current_lat': x['current_lat'].tolist(),\n",
    "    'current_lng': x['current_lng'].tolist(),\n",
    "    'stop_completed_at': x['stop_completed_at'].tolist(),\n",
    "    'planned_route_cluster': x['cluster'].tolist(),\n",
    "    'planned_route_craft': x['location_id_craft'].tolist(),\n",
    "    'day_of_week': x['day_of_week'].tolist(),\n",
    "    'location_is_depot': x['location_is_depot'].tolist(),\n",
    "    'date': x['date'].tolist()\n",
    "})).reset_index()\n",
    "grouped_df\n",
    "# grouped_df"
   ],
   "metadata": {
    "collapsed": false,
    "pycharm": {
     "name": "#%%\n"
    }
   }
  },
  {
   "cell_type": "code",
   "execution_count": 3,
   "outputs": [
    {
     "data": {
      "text/plain": "               stop_completed_at                stop_arrived_at  \\\n0  2024-01-02 11:10:52.185782+00  2024-01-02 11:10:51.209288+00   \n1  2024-01-02 11:10:52.185783+00  2024-01-02 11:10:51.209289+00   \n2  2024-01-02 11:10:52.178147+00   2024-01-02 11:10:51.03874+00   \n3  2024-01-02 11:10:52.178148+00  2024-01-02 11:10:51.038741+00   \n4  2024-01-02 08:39:35.128145+00  2024-01-02 07:45:25.310456+00   \n\n              stop_latest           stop_earliest  \\\n0  2024-01-02 22:59:00+00  2024-01-02 05:00:00+00   \n1  2024-01-02 22:59:00+00  2024-01-02 05:00:00+00   \n2  2024-01-02 21:00:00+00  2024-01-02 05:00:00+00   \n3  2024-01-02 21:00:00+00  2024-01-02 05:00:00+00   \n4  2024-01-02 21:00:00+00  2024-01-02 05:00:00+00   \n\n              stop_dispatched_at  location_id  location_type_id  \\\n0  2023-12-20 09:20:12.139397+00       104448                 1   \n1  2023-12-20 09:20:12.144071+00        86931                 2   \n2  2023-12-20 09:21:01.657773+00        86931                 1   \n3  2023-12-20 09:21:01.661233+00       148025                 2   \n4  2023-12-20 09:22:29.569837+00        86931                 1   \n\n   driver_workday_id  address_id  location_is_depot  ...  current_lat  \\\n0             299448       80079              False  ...    56.455617   \n1             299448       81843              False  ...    59.473000   \n2             299447       81843              False  ...    59.473000   \n3             299447      134404              False  ...    58.783764   \n4             299444       81843              False  ...    59.473000   \n\n   current_lng  prev_planned_lat  prev_planned_lng  prev_actual_lat  \\\n0    10.051820               NaN               NaN              NaN   \n1    10.318318         56.455617         10.051820        56.455617   \n2    10.318318               NaN               NaN              NaN   \n3     5.734901         59.473000         10.318318        59.473000   \n4    10.318318               NaN               NaN              NaN   \n\n   prev_actual_lng  day_of_week        date cluster  location_id_craft  \n0              NaN    Wednesday  2023-12-20    1499               4134  \n1        10.051820    Wednesday  2023-12-20     684               5561  \n2              NaN    Wednesday  2023-12-20     684               5561  \n3        10.318318    Wednesday  2023-12-20      55               4265  \n4              NaN    Wednesday  2023-12-20     684               5561  \n\n[5 rows x 21 columns]",
      "text/html": "<div>\n<style scoped>\n    .dataframe tbody tr th:only-of-type {\n        vertical-align: middle;\n    }\n\n    .dataframe tbody tr th {\n        vertical-align: top;\n    }\n\n    .dataframe thead th {\n        text-align: right;\n    }\n</style>\n<table border=\"1\" class=\"dataframe\">\n  <thead>\n    <tr style=\"text-align: right;\">\n      <th></th>\n      <th>stop_completed_at</th>\n      <th>stop_arrived_at</th>\n      <th>stop_latest</th>\n      <th>stop_earliest</th>\n      <th>stop_dispatched_at</th>\n      <th>location_id</th>\n      <th>location_type_id</th>\n      <th>driver_workday_id</th>\n      <th>address_id</th>\n      <th>location_is_depot</th>\n      <th>...</th>\n      <th>current_lat</th>\n      <th>current_lng</th>\n      <th>prev_planned_lat</th>\n      <th>prev_planned_lng</th>\n      <th>prev_actual_lat</th>\n      <th>prev_actual_lng</th>\n      <th>day_of_week</th>\n      <th>date</th>\n      <th>cluster</th>\n      <th>location_id_craft</th>\n    </tr>\n  </thead>\n  <tbody>\n    <tr>\n      <th>0</th>\n      <td>2024-01-02 11:10:52.185782+00</td>\n      <td>2024-01-02 11:10:51.209288+00</td>\n      <td>2024-01-02 22:59:00+00</td>\n      <td>2024-01-02 05:00:00+00</td>\n      <td>2023-12-20 09:20:12.139397+00</td>\n      <td>104448</td>\n      <td>1</td>\n      <td>299448</td>\n      <td>80079</td>\n      <td>False</td>\n      <td>...</td>\n      <td>56.455617</td>\n      <td>10.051820</td>\n      <td>NaN</td>\n      <td>NaN</td>\n      <td>NaN</td>\n      <td>NaN</td>\n      <td>Wednesday</td>\n      <td>2023-12-20</td>\n      <td>1499</td>\n      <td>4134</td>\n    </tr>\n    <tr>\n      <th>1</th>\n      <td>2024-01-02 11:10:52.185783+00</td>\n      <td>2024-01-02 11:10:51.209289+00</td>\n      <td>2024-01-02 22:59:00+00</td>\n      <td>2024-01-02 05:00:00+00</td>\n      <td>2023-12-20 09:20:12.144071+00</td>\n      <td>86931</td>\n      <td>2</td>\n      <td>299448</td>\n      <td>81843</td>\n      <td>False</td>\n      <td>...</td>\n      <td>59.473000</td>\n      <td>10.318318</td>\n      <td>56.455617</td>\n      <td>10.051820</td>\n      <td>56.455617</td>\n      <td>10.051820</td>\n      <td>Wednesday</td>\n      <td>2023-12-20</td>\n      <td>684</td>\n      <td>5561</td>\n    </tr>\n    <tr>\n      <th>2</th>\n      <td>2024-01-02 11:10:52.178147+00</td>\n      <td>2024-01-02 11:10:51.03874+00</td>\n      <td>2024-01-02 21:00:00+00</td>\n      <td>2024-01-02 05:00:00+00</td>\n      <td>2023-12-20 09:21:01.657773+00</td>\n      <td>86931</td>\n      <td>1</td>\n      <td>299447</td>\n      <td>81843</td>\n      <td>False</td>\n      <td>...</td>\n      <td>59.473000</td>\n      <td>10.318318</td>\n      <td>NaN</td>\n      <td>NaN</td>\n      <td>NaN</td>\n      <td>NaN</td>\n      <td>Wednesday</td>\n      <td>2023-12-20</td>\n      <td>684</td>\n      <td>5561</td>\n    </tr>\n    <tr>\n      <th>3</th>\n      <td>2024-01-02 11:10:52.178148+00</td>\n      <td>2024-01-02 11:10:51.038741+00</td>\n      <td>2024-01-02 21:00:00+00</td>\n      <td>2024-01-02 05:00:00+00</td>\n      <td>2023-12-20 09:21:01.661233+00</td>\n      <td>148025</td>\n      <td>2</td>\n      <td>299447</td>\n      <td>134404</td>\n      <td>False</td>\n      <td>...</td>\n      <td>58.783764</td>\n      <td>5.734901</td>\n      <td>59.473000</td>\n      <td>10.318318</td>\n      <td>59.473000</td>\n      <td>10.318318</td>\n      <td>Wednesday</td>\n      <td>2023-12-20</td>\n      <td>55</td>\n      <td>4265</td>\n    </tr>\n    <tr>\n      <th>4</th>\n      <td>2024-01-02 08:39:35.128145+00</td>\n      <td>2024-01-02 07:45:25.310456+00</td>\n      <td>2024-01-02 21:00:00+00</td>\n      <td>2024-01-02 05:00:00+00</td>\n      <td>2023-12-20 09:22:29.569837+00</td>\n      <td>86931</td>\n      <td>1</td>\n      <td>299444</td>\n      <td>81843</td>\n      <td>False</td>\n      <td>...</td>\n      <td>59.473000</td>\n      <td>10.318318</td>\n      <td>NaN</td>\n      <td>NaN</td>\n      <td>NaN</td>\n      <td>NaN</td>\n      <td>Wednesday</td>\n      <td>2023-12-20</td>\n      <td>684</td>\n      <td>5561</td>\n    </tr>\n  </tbody>\n</table>\n<p>5 rows × 21 columns</p>\n</div>"
     },
     "execution_count": 3,
     "metadata": {},
     "output_type": "execute_result"
    }
   ],
   "source": [
    "sorted_data_stops.head()"
   ],
   "metadata": {
    "collapsed": false,
    "pycharm": {
     "name": "#%%\n"
    }
   }
  },
  {
   "cell_type": "code",
   "execution_count": 4,
   "outputs": [],
   "source": [
    "from geopy.distance import geodesic\n",
    "import pandas as pd\n",
    "\n",
    "# Function to calculate distance between two coordinates\n",
    "def calculate_distance(row):\n",
    "    distances = []\n",
    "    for i in range(len(row['planned_route_craft'])-1):\n",
    "        coords_1 = (sorted_data_stops.loc[sorted_data_stops['location_id_craft'] == row['planned_route_craft'][i], ['current_lat']].values[0][0],\n",
    "                     sorted_data_stops.loc[sorted_data_stops['location_id_craft'] == row['planned_route_craft'][i], ['current_lng']].values[0][0])\n",
    "        coords_2 = (sorted_data_stops.loc[sorted_data_stops['location_id_craft'] == row['planned_route_craft'][i+1], ['current_lat']].values[0][0],\n",
    "                     sorted_data_stops.loc[sorted_data_stops['location_id_craft'] == row['planned_route_craft'][i+1], ['current_lng']].values[0][0])\n",
    "        distances.append(geodesic(coords_1, coords_2).miles)\n",
    "    return distances\n",
    "\n",
    "def calculate_distance_actual(row):\n",
    "    distances = []\n",
    "    for i in range(len(row['actual_route_location'])-1):\n",
    "        coords_1 = (sorted_data_stops.loc[sorted_data_stops['location_id_craft'] == row['actual_route_location'][i], ['current_lat']].values[0][0],\n",
    "                     sorted_data_stops.loc[sorted_data_stops['location_id_craft'] == row['actual_route_location'][i], ['current_lng']].values[0][0])\n",
    "        coords_2 = (sorted_data_stops.loc[sorted_data_stops['location_id_craft'] == row['actual_route_location'][i+1], ['current_lat']].values[0][0],\n",
    "                     sorted_data_stops.loc[sorted_data_stops['location_id_craft'] == row['actual_route_location'][i+1], ['current_lng']].values[0][0])\n",
    "        distances.append(geodesic(coords_1, coords_2).miles)\n",
    "    return distances\n",
    "\n",
    "# Create a new column 'distance_route' in 'final_routes'\n",
    "# grouped_df['distance_route'] = grouped_df.apply(calculate_distance, axis=1)\n",
    "# grouped_df['distance_route'] = grouped_df.apply(calculate_distance, axis=1)\n",
    "# total_sum_distance = grouped_df['distance_route'].sum()\n",
    "# grouped_df['total_distance'] = total_sum_distance"
   ],
   "metadata": {
    "collapsed": false,
    "pycharm": {
     "name": "#%%\n"
    }
   }
  },
  {
   "cell_type": "code",
   "execution_count": 5,
   "outputs": [],
   "source": [
    "# indexes_to_drop = grouped_df[grouped_df['driver_id'].apply(lambda x: len(x) == 1)].index\n",
    "#\n",
    "# grouped_df = grouped_df.drop(indexes_to_drop)\n",
    "#\n",
    "# # Step 3: Reset the index\n",
    "# grouped_df = grouped_df.reset_index(drop=True)"
   ],
   "metadata": {
    "collapsed": false,
    "pycharm": {
     "name": "#%%\n"
    }
   }
  },
  {
   "cell_type": "code",
   "execution_count": 5,
   "outputs": [],
   "source": [],
   "metadata": {
    "collapsed": false,
    "pycharm": {
     "name": "#%%\n"
    }
   }
  },
  {
   "cell_type": "code",
   "execution_count": 6,
   "outputs": [
    {
     "data": {
      "text/plain": "20692"
     },
     "execution_count": 6,
     "metadata": {},
     "output_type": "execute_result"
    }
   ],
   "source": [
    "# grouped_df['total_distance_planned'] = grouped_df['distance_route'].apply(sum)\n",
    "# grouped_df\n",
    "\n",
    "routes = grouped_df[grouped_df.apply(lambda row: max(row['stop_dispatched_at']) < min(row['stop_completed_at']), axis=1)]\n",
    "routes = routes.reset_index(drop=True)\n",
    "len(routes)"
   ],
   "metadata": {
    "collapsed": false,
    "pycharm": {
     "name": "#%%\n"
    }
   }
  },
  {
   "cell_type": "code",
   "execution_count": 7,
   "outputs": [
    {
     "name": "stdout",
     "output_type": "stream",
     "text": [
      "The number of routes where one value is NA(arrived time) 23\n",
      "[1187, 1464, 1688, 1746, 2113, 3424, 3880, 4471, 4974, 5098, 5172, 5182, 5540, 5787, 6476, 7626, 10793, 11161, 11621, 13845, 17739, 19786, 20033]\n",
      "20669\n"
     ]
    }
   ],
   "source": [
    "index_routes_with_na = []\n",
    "for i in range(len(routes)):\n",
    "    row = routes.iloc[i]\n",
    "    if \"-1\" in row['stop_arrived_at']:\n",
    "        index_routes_with_na.append(i)\n",
    "print(\"The number of routes where one value is NA(arrived time)\", len(index_routes_with_na))\n",
    "print(index_routes_with_na)\n",
    "routes = routes.drop(index_routes_with_na)\n",
    "routes.reset_index(drop=True)\n",
    "#\n",
    "print(len(routes))"
   ],
   "metadata": {
    "collapsed": false,
    "pycharm": {
     "name": "#%%\n"
    }
   }
  },
  {
   "cell_type": "code",
   "execution_count": 8,
   "outputs": [],
   "source": [
    "#check if it is the same driver in the route\n",
    "def get_mode(x):\n",
    "    return pd.Series(x).mode().iloc[0] if not pd.Series(x).mode().empty else np.nan\n",
    "\n",
    "for i in routes['driver_id']:\n",
    "    if not all(x == i[0] for x in i):\n",
    "            print('Not the same driver in the route')\n",
    "routes['driver_id'] = routes['driver_id'].apply(lambda x : x[0])\n",
    "\n",
    "routes['day_of_week'] = routes['day_of_week'].apply(get_mode)\n",
    "routes['date'] = routes['date'].apply(get_mode)\n",
    "\n",
    "routes['date'] = pd.to_datetime(routes['date'])\n",
    "routes['last_two_weeks_count'] = routes.apply(lambda row:\n",
    "                                      routes[(routes['driver_id'] == row['driver_id']) &\n",
    "                                         (row['date'] - routes['date']).dt.days.between(-14, 0)].shape[0],\n",
    "                                      axis=1)\n",
    "routes = routes[(routes['date'] < '2023-12-21') | (routes['date'] > '2024-01-14')]\n",
    "routes['location_type_id'] = routes['location_type_id'].apply(lambda x: [0 if i == 1 else 1 for i in x])\n",
    "routes['location_is_depot'] = routes['location_is_depot'].apply(lambda x: [int(value) for value in x])\n",
    "\n",
    "routes = routes[routes['planned_route_craft'].apply(lambda x: len(x) > 2)]\n",
    "routes = routes.reset_index(drop=True)"
   ],
   "metadata": {
    "collapsed": false,
    "pycharm": {
     "name": "#%%\n"
    }
   }
  },
  {
   "cell_type": "code",
   "execution_count": 9,
   "outputs": [
    {
     "data": {
      "text/plain": "       driver_workday_id  driver_id  \\\n0                 305735       1255   \n1                 305741       1195   \n2                 305742       1186   \n3                 305754       1218   \n4                 305758       1192   \n...                  ...        ...   \n18557             442390        276   \n18558             442391        968   \n18559             442393        877   \n18560             443092       1417   \n18561             443107        723   \n\n                                    location_type_id  \\\n0                           [0, 1, 1, 1, 1, 1, 1, 1]   \n1                           [0, 1, 1, 1, 1, 1, 1, 1]   \n2                              [0, 1, 1, 1, 1, 1, 1]   \n3                     [0, 1, 1, 1, 1, 1, 1, 1, 1, 1]   \n4                        [0, 1, 1, 1, 1, 1, 1, 1, 1]   \n...                                              ...   \n18557  [0, 1, 1, 1, 1, 1, 1, 1, 1, 1, 1, 1, 1, 1, 1]   \n18558        [0, 1, 1, 1, 1, 1, 1, 0, 1, 1, 1, 1, 1]   \n18559                          [0, 1, 1, 1, 1, 1, 1]   \n18560                                   [0, 1, 0, 1]   \n18561           [0, 1, 1, 1, 1, 1, 1, 1, 1, 1, 0, 1]   \n\n                                  planned_route_location  \\\n0      [153184, 118973, 118820, 119089, 118814, 11909...   \n1      [153184, 120295, 133280, 120297, 118930, 11893...   \n2      [153184, 118945, 119107, 119964, 126319, 12031...   \n3      [153184, 118858, 119855, 118805, 119069, 11879...   \n4      [153184, 118509, 144815, 119179, 118785, 11928...   \n...                                                  ...   \n18557  [23977, 46865, 149896, 24638, 42874, 136813, 3...   \n18558  [46452, 44276, 46120, 46866, 44979, 44976, 468...   \n18559  [23977, 58941, 38726, 176478, 153920, 186237, ...   \n18560                      [46452, 46955, 46452, 154273]   \n18561  [46452, 45160, 156665, 44587, 45161, 44634, 50...   \n\n                                      stop_dispatched_at  \\\n0      [2024-01-15 20:13:10.25734+00, 2024-01-15 20:1...   \n1      [2024-01-15 20:14:10.430711+00, 2024-01-15 20:...   \n2      [2024-01-15 20:15:12.147596+00, 2024-01-15 20:...   \n3      [2024-01-15 20:17:12.871538+00, 2024-01-15 20:...   \n4      [2024-01-15 20:17:36.851051+00, 2024-01-15 20:...   \n...                                                  ...   \n18557  [2024-08-06 19:39:14.014177+00, 2024-08-06 19:...   \n18558  [2024-08-06 19:08:15.862161+00, 2024-08-06 19:...   \n18559  [2024-08-06 19:39:12.755331+00, 2024-08-06 19:...   \n18560  [2024-08-07 05:59:26.311221+00, 2024-08-07 05:...   \n18561  [2024-08-07 08:27:45.361844+00, 2024-08-07 08:...   \n\n                                         stop_arrived_at  \\\n0      [2024-01-15 22:11:49.528537+00, 2024-01-15 23:...   \n1      [2024-01-15 22:58:58.038139+00, 2024-01-15 23:...   \n2      [2024-01-15 22:32:42.615543+00, 2024-01-15 23:...   \n3      [2024-01-15 22:37:07.860851+00, 2024-01-16 00:...   \n4      [2024-01-15 23:06:33.822316+00, 2024-01-16 01:...   \n...                                                  ...   \n18557  [2024-08-07 13:31:52.955936+00, 2024-08-07 13:...   \n18558  [2024-08-07 03:50:55.931321+00, 2024-08-07 05:...   \n18559  [2024-08-07 13:31:50.711864+00, 2024-08-07 13:...   \n18560  [2024-08-07 06:38:14.810272+00, 2024-08-07 07:...   \n18561  [2024-08-07 09:00:31.581115+00, 2024-08-07 10:...   \n\n                                           stop_earliest  \\\n0      [2024-01-15 19:00:00+00, 2024-01-15 23:00:00+0...   \n1      [2024-01-15 19:00:00+00, 2024-01-15 21:00:00+0...   \n2      [2024-01-15 19:00:00+00, 2024-01-15 21:00:00+0...   \n3      [2024-01-15 19:00:00+00, 2024-01-15 21:00:00+0...   \n4      [2024-01-15 19:00:00+00, 2024-01-15 21:00:00+0...   \n...                                                  ...   \n18557  [2024-08-07 01:00:00+00, 2024-08-07 05:00:00+0...   \n18558  [2024-08-07 02:00:00+00, 2024-08-07 05:00:00+0...   \n18559  [2024-08-07 01:00:00+00, 2024-08-07 05:00:00+0...   \n18560  [2024-08-07 02:00:00+00, 2024-08-07 05:00:00+0...   \n18561  [2024-08-07 02:00:00+00, 2024-08-07 06:00:00+0...   \n\n                                             stop_latest  \\\n0      [2024-01-16 01:00:00+00, 2024-01-16 03:00:00+0...   \n1      [2024-01-16 01:00:00+00, 2024-01-16 04:00:00+0...   \n2      [2024-01-16 01:00:00+00, 2024-01-16 04:00:00+0...   \n3      [2024-01-16 01:00:00+00, 2024-01-16 04:00:00+0...   \n4      [2024-01-16 01:00:00+00, 2024-01-16 04:00:00+0...   \n...                                                  ...   \n18557  [2024-08-07 14:00:00+00, 2024-08-07 11:00:00+0...   \n18558  [2024-08-07 20:00:00+00, 2024-08-07 07:00:00+0...   \n18559  [2024-08-07 14:00:00+00, 2024-08-07 11:00:00+0...   \n18560  [2024-08-07 20:00:00+00, 2024-08-07 07:00:00+0...   \n18561  [2024-08-07 20:00:00+00, 2024-08-07 10:00:00+0...   \n\n                                             current_lat  \\\n0      [55.64641920439919, 55.6669147, 55.6757322, 55...   \n1      [55.64641920439919, 55.662018, 55.658103, 55.6...   \n2      [55.64641920439919, 55.7498333, 55.80148, 55.7...   \n3      [55.64641920439919, 55.646535, 55.672309, 55.6...   \n4      [55.64641920439919, 55.640375, 55.639120600000...   \n...                                                  ...   \n18557  [60.007627, 60.01175632293701, 59.950832, 59.9...   \n18558  [59.805664, 59.749221, 59.747942, 59.737167777...   \n18559  [60.007627, 59.923836, 59.93422, 59.811373, 59...   \n18560  [59.805664, 59.795058, 59.805664, 59.948098894...   \n18561  [59.805664, 59.420838, 59.415188, 59.414098, 5...   \n\n                                             current_lng  \\\n0      [12.15372974969827, 12.5262801, 12.5619711, 12...   \n1      [12.15372974969827, 12.360745, 12.368506, 12.3...   \n2      [12.15372974969827, 12.5870785, 12.525814, 12....   \n3      [12.15372974969827, 12.539958, 12.588959, 12.6...   \n4      [12.15372974969827, 12.091312, 12.0627714, 12....   \n...                                                  ...   \n18557  [11.047135, 11.052440556594831, 10.856852, 10....   \n18558  [10.290383, 10.26819, 10.291249, 10.3725904226...   \n18559  [11.047135, 10.814451, 10.800594, 10.80755, 10...   \n18560  [10.290383, 10.279009, 10.290383, 10.771520299...   \n18561  [10.290383, 10.488199, 10.496616, 10.487423, 1...   \n\n                                       stop_completed_at  \\\n0      [2024-01-15 22:14:55.135437+00, 2024-01-15 23:...   \n1      [2024-01-15 22:59:10.867219+00, 2024-01-15 23:...   \n2      [2024-01-15 22:32:54.670991+00, 2024-01-15 23:...   \n3      [2024-01-15 22:37:19.03627+00, 2024-01-16 00:2...   \n4      [2024-01-15 23:06:46.892607+00, 2024-01-16 01:...   \n...                                                  ...   \n18557  [2024-08-07 13:31:52.955952+00, 2024-08-07 13:...   \n18558  [2024-08-07 04:49:12.961702+00, 2024-08-07 05:...   \n18559  [2024-08-07 13:31:50.711869+00, 2024-08-07 13:...   \n18560  [2024-08-07 07:10:49.406797+00, 2024-08-07 07:...   \n18561  [2024-08-07 09:00:39.885506+00, 2024-08-07 10:...   \n\n                                   planned_route_cluster  \\\n0         [147, 1419, 3429, 3703, 1360, 1360, 4511, 335]   \n1         [147, 122, 2070, 3540, 1413, 1413, 3663, 1287]   \n2               [147, 2596, 521, 4623, 3326, 3115, 1050]   \n3      [147, 3305, 3715, 4879, 1830, 537, 3301, 2199,...   \n4      [147, 4979, 3980, 3679, 2681, 2319, 708, 1644,...   \n...                                                  ...   \n18557  [30, 4754, 846, 4226, 3915, 3949, 1293, 4349, ...   \n18558  [33, 2460, 1978, 1234, 2493, 931, 2241, 148, 1...   \n18559             [30, 3949, 4848, 4971, 2429, 45, 2313]   \n18560                               [33, 2032, 33, 2852]   \n18561  [33, 3225, 4361, 4473, 1308, 2346, 37, 3408, 4...   \n\n                                     planned_route_craft day_of_week  \\\n0       [1167, 1405, 1560, 1413, 1391, 1391, 1434, 1269]      Monday   \n1       [1167, 1352, 1312, 1356, 1508, 1508, 1621, 1401]      Monday   \n2             [1167, 2231, 2406, 2349, 2298, 2588, 2493]      Monday   \n3      [1167, 1168, 1495, 1658, 1070, 818, 965, 936, ...      Monday   \n4      [1167, 1101, 1079, 1282, 1123, 1098, 834, 1262...      Monday   \n...                                                  ...         ...   \n18557  [10076, 10099, 9596, 9507, 9158, 8853, 9640, 8...     Tuesday   \n18558  [7166, 6718, 6699, 6495, 6560, 6558, 6756, 653...     Tuesday   \n18559        [10076, 8785, 9172, 7204, 6955, 5902, 7045]     Tuesday   \n18560                           [7166, 7127, 7166, 9527]   Wednesday   \n18561  [7166, 5428, 5394, 5385, 5347, 4633, 4350, 431...   Wednesday   \n\n                                   location_is_depot       date  \\\n0                           [1, 0, 0, 0, 0, 0, 0, 0] 2024-01-15   \n1                           [1, 0, 0, 0, 0, 0, 0, 0] 2024-01-15   \n2                              [1, 0, 0, 0, 0, 0, 0] 2024-01-15   \n3                     [1, 0, 0, 0, 0, 0, 0, 0, 0, 0] 2024-01-15   \n4                        [1, 0, 0, 0, 0, 0, 0, 0, 0] 2024-01-15   \n...                                              ...        ...   \n18557  [1, 0, 0, 0, 0, 0, 0, 0, 0, 0, 0, 0, 0, 0, 0] 2024-08-06   \n18558        [1, 0, 0, 0, 0, 0, 0, 0, 0, 0, 0, 0, 0] 2024-08-06   \n18559                          [1, 0, 0, 0, 0, 0, 0] 2024-08-06   \n18560                                   [1, 0, 1, 0] 2024-08-07   \n18561           [1, 0, 0, 0, 0, 0, 0, 0, 0, 0, 0, 0] 2024-08-07   \n\n       last_two_weeks_count  \n0                         8  \n1                        11  \n2                         9  \n3                        11  \n4                        11  \n...                     ...  \n18557                     1  \n18558                     2  \n18559                     1  \n18560                     1  \n18561                     1  \n\n[18562 rows x 17 columns]",
      "text/html": "<div>\n<style scoped>\n    .dataframe tbody tr th:only-of-type {\n        vertical-align: middle;\n    }\n\n    .dataframe tbody tr th {\n        vertical-align: top;\n    }\n\n    .dataframe thead th {\n        text-align: right;\n    }\n</style>\n<table border=\"1\" class=\"dataframe\">\n  <thead>\n    <tr style=\"text-align: right;\">\n      <th></th>\n      <th>driver_workday_id</th>\n      <th>driver_id</th>\n      <th>location_type_id</th>\n      <th>planned_route_location</th>\n      <th>stop_dispatched_at</th>\n      <th>stop_arrived_at</th>\n      <th>stop_earliest</th>\n      <th>stop_latest</th>\n      <th>current_lat</th>\n      <th>current_lng</th>\n      <th>stop_completed_at</th>\n      <th>planned_route_cluster</th>\n      <th>planned_route_craft</th>\n      <th>day_of_week</th>\n      <th>location_is_depot</th>\n      <th>date</th>\n      <th>last_two_weeks_count</th>\n    </tr>\n  </thead>\n  <tbody>\n    <tr>\n      <th>0</th>\n      <td>305735</td>\n      <td>1255</td>\n      <td>[0, 1, 1, 1, 1, 1, 1, 1]</td>\n      <td>[153184, 118973, 118820, 119089, 118814, 11909...</td>\n      <td>[2024-01-15 20:13:10.25734+00, 2024-01-15 20:1...</td>\n      <td>[2024-01-15 22:11:49.528537+00, 2024-01-15 23:...</td>\n      <td>[2024-01-15 19:00:00+00, 2024-01-15 23:00:00+0...</td>\n      <td>[2024-01-16 01:00:00+00, 2024-01-16 03:00:00+0...</td>\n      <td>[55.64641920439919, 55.6669147, 55.6757322, 55...</td>\n      <td>[12.15372974969827, 12.5262801, 12.5619711, 12...</td>\n      <td>[2024-01-15 22:14:55.135437+00, 2024-01-15 23:...</td>\n      <td>[147, 1419, 3429, 3703, 1360, 1360, 4511, 335]</td>\n      <td>[1167, 1405, 1560, 1413, 1391, 1391, 1434, 1269]</td>\n      <td>Monday</td>\n      <td>[1, 0, 0, 0, 0, 0, 0, 0]</td>\n      <td>2024-01-15</td>\n      <td>8</td>\n    </tr>\n    <tr>\n      <th>1</th>\n      <td>305741</td>\n      <td>1195</td>\n      <td>[0, 1, 1, 1, 1, 1, 1, 1]</td>\n      <td>[153184, 120295, 133280, 120297, 118930, 11893...</td>\n      <td>[2024-01-15 20:14:10.430711+00, 2024-01-15 20:...</td>\n      <td>[2024-01-15 22:58:58.038139+00, 2024-01-15 23:...</td>\n      <td>[2024-01-15 19:00:00+00, 2024-01-15 21:00:00+0...</td>\n      <td>[2024-01-16 01:00:00+00, 2024-01-16 04:00:00+0...</td>\n      <td>[55.64641920439919, 55.662018, 55.658103, 55.6...</td>\n      <td>[12.15372974969827, 12.360745, 12.368506, 12.3...</td>\n      <td>[2024-01-15 22:59:10.867219+00, 2024-01-15 23:...</td>\n      <td>[147, 122, 2070, 3540, 1413, 1413, 3663, 1287]</td>\n      <td>[1167, 1352, 1312, 1356, 1508, 1508, 1621, 1401]</td>\n      <td>Monday</td>\n      <td>[1, 0, 0, 0, 0, 0, 0, 0]</td>\n      <td>2024-01-15</td>\n      <td>11</td>\n    </tr>\n    <tr>\n      <th>2</th>\n      <td>305742</td>\n      <td>1186</td>\n      <td>[0, 1, 1, 1, 1, 1, 1]</td>\n      <td>[153184, 118945, 119107, 119964, 126319, 12031...</td>\n      <td>[2024-01-15 20:15:12.147596+00, 2024-01-15 20:...</td>\n      <td>[2024-01-15 22:32:42.615543+00, 2024-01-15 23:...</td>\n      <td>[2024-01-15 19:00:00+00, 2024-01-15 21:00:00+0...</td>\n      <td>[2024-01-16 01:00:00+00, 2024-01-16 04:00:00+0...</td>\n      <td>[55.64641920439919, 55.7498333, 55.80148, 55.7...</td>\n      <td>[12.15372974969827, 12.5870785, 12.525814, 12....</td>\n      <td>[2024-01-15 22:32:54.670991+00, 2024-01-15 23:...</td>\n      <td>[147, 2596, 521, 4623, 3326, 3115, 1050]</td>\n      <td>[1167, 2231, 2406, 2349, 2298, 2588, 2493]</td>\n      <td>Monday</td>\n      <td>[1, 0, 0, 0, 0, 0, 0]</td>\n      <td>2024-01-15</td>\n      <td>9</td>\n    </tr>\n    <tr>\n      <th>3</th>\n      <td>305754</td>\n      <td>1218</td>\n      <td>[0, 1, 1, 1, 1, 1, 1, 1, 1, 1]</td>\n      <td>[153184, 118858, 119855, 118805, 119069, 11879...</td>\n      <td>[2024-01-15 20:17:12.871538+00, 2024-01-15 20:...</td>\n      <td>[2024-01-15 22:37:07.860851+00, 2024-01-16 00:...</td>\n      <td>[2024-01-15 19:00:00+00, 2024-01-15 21:00:00+0...</td>\n      <td>[2024-01-16 01:00:00+00, 2024-01-16 04:00:00+0...</td>\n      <td>[55.64641920439919, 55.646535, 55.672309, 55.6...</td>\n      <td>[12.15372974969827, 12.539958, 12.588959, 12.6...</td>\n      <td>[2024-01-15 22:37:19.03627+00, 2024-01-16 00:2...</td>\n      <td>[147, 3305, 3715, 4879, 1830, 537, 3301, 2199,...</td>\n      <td>[1167, 1168, 1495, 1658, 1070, 818, 965, 936, ...</td>\n      <td>Monday</td>\n      <td>[1, 0, 0, 0, 0, 0, 0, 0, 0, 0]</td>\n      <td>2024-01-15</td>\n      <td>11</td>\n    </tr>\n    <tr>\n      <th>4</th>\n      <td>305758</td>\n      <td>1192</td>\n      <td>[0, 1, 1, 1, 1, 1, 1, 1, 1]</td>\n      <td>[153184, 118509, 144815, 119179, 118785, 11928...</td>\n      <td>[2024-01-15 20:17:36.851051+00, 2024-01-15 20:...</td>\n      <td>[2024-01-15 23:06:33.822316+00, 2024-01-16 01:...</td>\n      <td>[2024-01-15 19:00:00+00, 2024-01-15 21:00:00+0...</td>\n      <td>[2024-01-16 01:00:00+00, 2024-01-16 04:00:00+0...</td>\n      <td>[55.64641920439919, 55.640375, 55.639120600000...</td>\n      <td>[12.15372974969827, 12.091312, 12.0627714, 12....</td>\n      <td>[2024-01-15 23:06:46.892607+00, 2024-01-16 01:...</td>\n      <td>[147, 4979, 3980, 3679, 2681, 2319, 708, 1644,...</td>\n      <td>[1167, 1101, 1079, 1282, 1123, 1098, 834, 1262...</td>\n      <td>Monday</td>\n      <td>[1, 0, 0, 0, 0, 0, 0, 0, 0]</td>\n      <td>2024-01-15</td>\n      <td>11</td>\n    </tr>\n    <tr>\n      <th>...</th>\n      <td>...</td>\n      <td>...</td>\n      <td>...</td>\n      <td>...</td>\n      <td>...</td>\n      <td>...</td>\n      <td>...</td>\n      <td>...</td>\n      <td>...</td>\n      <td>...</td>\n      <td>...</td>\n      <td>...</td>\n      <td>...</td>\n      <td>...</td>\n      <td>...</td>\n      <td>...</td>\n      <td>...</td>\n    </tr>\n    <tr>\n      <th>18557</th>\n      <td>442390</td>\n      <td>276</td>\n      <td>[0, 1, 1, 1, 1, 1, 1, 1, 1, 1, 1, 1, 1, 1, 1]</td>\n      <td>[23977, 46865, 149896, 24638, 42874, 136813, 3...</td>\n      <td>[2024-08-06 19:39:14.014177+00, 2024-08-06 19:...</td>\n      <td>[2024-08-07 13:31:52.955936+00, 2024-08-07 13:...</td>\n      <td>[2024-08-07 01:00:00+00, 2024-08-07 05:00:00+0...</td>\n      <td>[2024-08-07 14:00:00+00, 2024-08-07 11:00:00+0...</td>\n      <td>[60.007627, 60.01175632293701, 59.950832, 59.9...</td>\n      <td>[11.047135, 11.052440556594831, 10.856852, 10....</td>\n      <td>[2024-08-07 13:31:52.955952+00, 2024-08-07 13:...</td>\n      <td>[30, 4754, 846, 4226, 3915, 3949, 1293, 4349, ...</td>\n      <td>[10076, 10099, 9596, 9507, 9158, 8853, 9640, 8...</td>\n      <td>Tuesday</td>\n      <td>[1, 0, 0, 0, 0, 0, 0, 0, 0, 0, 0, 0, 0, 0, 0]</td>\n      <td>2024-08-06</td>\n      <td>1</td>\n    </tr>\n    <tr>\n      <th>18558</th>\n      <td>442391</td>\n      <td>968</td>\n      <td>[0, 1, 1, 1, 1, 1, 1, 0, 1, 1, 1, 1, 1]</td>\n      <td>[46452, 44276, 46120, 46866, 44979, 44976, 468...</td>\n      <td>[2024-08-06 19:08:15.862161+00, 2024-08-06 19:...</td>\n      <td>[2024-08-07 03:50:55.931321+00, 2024-08-07 05:...</td>\n      <td>[2024-08-07 02:00:00+00, 2024-08-07 05:00:00+0...</td>\n      <td>[2024-08-07 20:00:00+00, 2024-08-07 07:00:00+0...</td>\n      <td>[59.805664, 59.749221, 59.747942, 59.737167777...</td>\n      <td>[10.290383, 10.26819, 10.291249, 10.3725904226...</td>\n      <td>[2024-08-07 04:49:12.961702+00, 2024-08-07 05:...</td>\n      <td>[33, 2460, 1978, 1234, 2493, 931, 2241, 148, 1...</td>\n      <td>[7166, 6718, 6699, 6495, 6560, 6558, 6756, 653...</td>\n      <td>Tuesday</td>\n      <td>[1, 0, 0, 0, 0, 0, 0, 0, 0, 0, 0, 0, 0]</td>\n      <td>2024-08-06</td>\n      <td>2</td>\n    </tr>\n    <tr>\n      <th>18559</th>\n      <td>442393</td>\n      <td>877</td>\n      <td>[0, 1, 1, 1, 1, 1, 1]</td>\n      <td>[23977, 58941, 38726, 176478, 153920, 186237, ...</td>\n      <td>[2024-08-06 19:39:12.755331+00, 2024-08-06 19:...</td>\n      <td>[2024-08-07 13:31:50.711864+00, 2024-08-07 13:...</td>\n      <td>[2024-08-07 01:00:00+00, 2024-08-07 05:00:00+0...</td>\n      <td>[2024-08-07 14:00:00+00, 2024-08-07 11:00:00+0...</td>\n      <td>[60.007627, 59.923836, 59.93422, 59.811373, 59...</td>\n      <td>[11.047135, 10.814451, 10.800594, 10.80755, 10...</td>\n      <td>[2024-08-07 13:31:50.711869+00, 2024-08-07 13:...</td>\n      <td>[30, 3949, 4848, 4971, 2429, 45, 2313]</td>\n      <td>[10076, 8785, 9172, 7204, 6955, 5902, 7045]</td>\n      <td>Tuesday</td>\n      <td>[1, 0, 0, 0, 0, 0, 0]</td>\n      <td>2024-08-06</td>\n      <td>1</td>\n    </tr>\n    <tr>\n      <th>18560</th>\n      <td>443092</td>\n      <td>1417</td>\n      <td>[0, 1, 0, 1]</td>\n      <td>[46452, 46955, 46452, 154273]</td>\n      <td>[2024-08-07 05:59:26.311221+00, 2024-08-07 05:...</td>\n      <td>[2024-08-07 06:38:14.810272+00, 2024-08-07 07:...</td>\n      <td>[2024-08-07 02:00:00+00, 2024-08-07 05:00:00+0...</td>\n      <td>[2024-08-07 20:00:00+00, 2024-08-07 07:00:00+0...</td>\n      <td>[59.805664, 59.795058, 59.805664, 59.948098894...</td>\n      <td>[10.290383, 10.279009, 10.290383, 10.771520299...</td>\n      <td>[2024-08-07 07:10:49.406797+00, 2024-08-07 07:...</td>\n      <td>[33, 2032, 33, 2852]</td>\n      <td>[7166, 7127, 7166, 9527]</td>\n      <td>Wednesday</td>\n      <td>[1, 0, 1, 0]</td>\n      <td>2024-08-07</td>\n      <td>1</td>\n    </tr>\n    <tr>\n      <th>18561</th>\n      <td>443107</td>\n      <td>723</td>\n      <td>[0, 1, 1, 1, 1, 1, 1, 1, 1, 1, 0, 1]</td>\n      <td>[46452, 45160, 156665, 44587, 45161, 44634, 50...</td>\n      <td>[2024-08-07 08:27:45.361844+00, 2024-08-07 08:...</td>\n      <td>[2024-08-07 09:00:31.581115+00, 2024-08-07 10:...</td>\n      <td>[2024-08-07 02:00:00+00, 2024-08-07 06:00:00+0...</td>\n      <td>[2024-08-07 20:00:00+00, 2024-08-07 10:00:00+0...</td>\n      <td>[59.805664, 59.420838, 59.415188, 59.414098, 5...</td>\n      <td>[10.290383, 10.488199, 10.496616, 10.487423, 1...</td>\n      <td>[2024-08-07 09:00:39.885506+00, 2024-08-07 10:...</td>\n      <td>[33, 3225, 4361, 4473, 1308, 2346, 37, 3408, 4...</td>\n      <td>[7166, 5428, 5394, 5385, 5347, 4633, 4350, 431...</td>\n      <td>Wednesday</td>\n      <td>[1, 0, 0, 0, 0, 0, 0, 0, 0, 0, 0, 0]</td>\n      <td>2024-08-07</td>\n      <td>1</td>\n    </tr>\n  </tbody>\n</table>\n<p>18562 rows × 17 columns</p>\n</div>"
     },
     "execution_count": 9,
     "metadata": {},
     "output_type": "execute_result"
    }
   ],
   "source": [
    "routes"
   ],
   "metadata": {
    "collapsed": false,
    "pycharm": {
     "name": "#%%\n"
    }
   }
  },
  {
   "cell_type": "code",
   "execution_count": 10,
   "outputs": [
    {
     "data": {
      "text/plain": "18562"
     },
     "execution_count": 10,
     "metadata": {},
     "output_type": "execute_result"
    }
   ],
   "source": [
    "def create_actual_route(df, column):\n",
    "    res_col = []\n",
    "    for i in range(len(df)):\n",
    "        row = df.iloc[i]\n",
    "        sorted_dates = sorted(row['stop_arrived_at'])\n",
    "        mapping = {}\n",
    "        for i, date in enumerate(sorted_dates):\n",
    "            mapping[date] = row[column][i]\n",
    "        res_val = [mapping[row['stop_arrived_at'][i]] for i in range(len(row['stop_arrived_at']))]\n",
    "        res_col.append(res_val)\n",
    "    return res_col\n",
    "\n",
    "def create_actual_route_type(df, column):\n",
    "    res_col = []\n",
    "    for i in range(len(df)):\n",
    "        row = df.iloc[i]\n",
    "        sorted_dates = sorted(row['stop_arrived_at'])\n",
    "        mapping = {}\n",
    "        for i, date in enumerate(sorted_dates):\n",
    "            mapping[date] = row['location_type_id'][i]\n",
    "        res_val = [mapping[row['stop_arrived_at'][i]] for i in range(len(row['stop_arrived_at']))]\n",
    "        res_col.append(res_val)\n",
    "    return res_col\n",
    "\n",
    "routes['actual_route_location'] = create_actual_route(routes, 'planned_route_craft')\n",
    "routes['actual_route_type'] = create_actual_route_type(routes, 'planned_route_craft')\n",
    "# routes['distance_actual_route'] = routes.apply(calculate_distance_actual, axis=1)\n",
    "# routes['total_distance_actual'] = routes['distance_actual_route'].apply(sum)\n",
    "# routes['difference_distance'] = (routes['total_distance_actual'] - routes['total_distance_planned'])/routes['total_distance_planned']\n",
    "\n",
    "#remove all the routes with length <= 2\n",
    "routes = routes[routes['planned_route_craft'].apply(lambda x: len(x) > 2)]\n",
    "routes = routes.reset_index(drop=True)\n",
    "# routes['distance_actual_route'] = routes.apply(calculate_distance_actual, axis=1)\n",
    "# routes['total_distance_actual'] = routes['distance_actual_route'].apply(sum)\n",
    "len(routes)"
   ],
   "metadata": {
    "collapsed": false,
    "pycharm": {
     "name": "#%%\n"
    }
   }
  },
  {
   "cell_type": "code",
   "execution_count": 11,
   "outputs": [
    {
     "data": {
      "text/plain": "       driver_workday_id  driver_id  \\\n7                 305777       1184   \n11                305822       1222   \n13                306381       1190   \n22                306394       1193   \n24                306396       1208   \n...                  ...        ...   \n18551             442354        290   \n18553             442382       1658   \n18554             442383       1243   \n18555             442386       1520   \n18560             443092       1417   \n\n                                        location_type_id  \\\n7       [0, 1, 0, 1, 1, 1, 1, 1, 1, 1, 1, 1, 1, 1, 1, 1]   \n11               [0, 0, 1, 1, 1, 1, 1, 1, 1, 1, 1, 1, 1]   \n13                                       [0, 1, 1, 0, 1]   \n22            [0, 1, 1, 1, 0, 1, 0, 1, 1, 1, 1, 0, 1, 1]   \n24     [0, 1, 1, 1, 1, 1, 1, 1, 1, 1, 1, 1, 1, 1, 1, ...   \n...                                                  ...   \n18551                           [0, 1, 1, 1, 0, 1, 1, 1]   \n18553         [0, 1, 1, 1, 0, 1, 1, 1, 1, 1, 1, 1, 1, 1]   \n18554  [0, 1, 1, 1, 1, 1, 1, 1, 0, 0, 1, 1, 1, 1, 1, ...   \n18555  [0, 1, 1, 1, 1, 1, 0, 1, 1, 1, 1, 1, 1, 1, 1, ...   \n18560                                       [0, 1, 0, 1]   \n\n                                  planned_route_location  \\\n7      [153184, 149629, 153184, 133530, 126197, 12617...   \n11     [153184, 153184, 126299, 133416, 133416, 12722...   \n13              [153184, 118473, 118476, 144329, 153184]   \n22     [153184, 119965, 118462, 118782, 153184, 12626...   \n24     [153184, 118551, 120151, 118602, 118569, 11904...   \n...                                                  ...   \n18551  [24927, 24953, 158094, 25021, 24927, 25032, 25...   \n18553  [153184, 119516, 118968, 163781, 163781, 12056...   \n18554  [153184, 126201, 133371, 159132, 126218, 13362...   \n18555  [163647, 160704, 162824, 161803, 163817, 16203...   \n18560                      [46452, 46955, 46452, 154273]   \n\n                                      stop_dispatched_at  \\\n7      [2024-01-15 01:00:55.998747+00, 2024-01-15 01:...   \n11     [2024-01-15 20:18:10.752813+00, 2024-01-15 20:...   \n13     [2024-01-23 10:42:01.731+00, 2024-01-23 10:42:...   \n22     [2024-01-15 23:57:51.582139+00, 2024-01-15 23:...   \n24     [2024-01-15 23:32:24.727186+00, 2024-01-15 23:...   \n...                                                  ...   \n18551  [2024-08-06 07:50:29.678714+00, 2024-08-06 07:...   \n18553  [2024-08-06 23:09:43.069421+00, 2024-08-07 00:...   \n18554  [2024-08-06 23:09:47.587529+00, 2024-08-06 23:...   \n18555  [2024-08-06 23:09:03.798004+00, 2024-08-06 23:...   \n18560  [2024-08-07 05:59:26.311221+00, 2024-08-07 05:...   \n\n                                         stop_arrived_at  \\\n7      [2024-01-15 02:30:31.162054+00, 2024-01-15 03:...   \n11     [2024-01-15 22:32:59.762652+00, 2024-01-15 22:...   \n13     [2024-01-23 10:49:20.166468+00, 2024-01-23 10:...   \n22     [2024-01-16 02:56:53.195248+00, 2024-01-16 04:...   \n24     [2024-01-16 03:16:27.520502+00, 2024-01-16 03:...   \n...                                                  ...   \n18551  [2024-08-07 05:34:13.327006+00, 2024-08-07 06:...   \n18553  [2024-08-07 02:40:13.728229+00, 2024-08-07 04:...   \n18554  [2024-08-06 23:28:28.870578+00, 2024-08-07 02:...   \n18555  [2024-08-07 01:55:50.864283+00, 2024-08-07 02:...   \n18560  [2024-08-07 06:38:14.810272+00, 2024-08-07 07:...   \n\n                                           stop_earliest  \\\n7      [2024-01-15 00:00:00+00, 2024-01-15 02:00:00+0...   \n11     [2024-01-15 19:00:00+00, 2024-01-15 19:00:00+0...   \n13     [2024-01-16 00:00:00+00, 2024-01-16 05:00:00+0...   \n22     [2024-01-16 00:00:00+00, 2024-01-16 04:00:00+0...   \n24     [2024-01-16 00:00:00+00, 2024-01-16 04:00:00+0...   \n...                                                  ...   \n18551  [2024-08-07 01:00:00+00, 2024-08-07 06:15:00+0...   \n18553  [2024-08-06 23:00:00+00, 2024-08-07 04:00:00+0...   \n18554  [2024-08-06 23:00:00+00, 2024-08-07 03:30:00+0...   \n18555  [2024-08-07 00:00:00+00, 2024-08-07 02:00:00+0...   \n18560  [2024-08-07 02:00:00+00, 2024-08-07 05:00:00+0...   \n\n                                             stop_latest  \\\n7      [2024-01-15 05:00:00+00, 2024-01-15 05:00:00+0...   \n11     [2024-01-16 01:00:00+00, 2024-01-16 01:00:00+0...   \n13     [2024-01-16 22:00:00+00, 2024-01-16 11:00:00+0...   \n22     [2024-01-16 22:00:00+00, 2024-01-16 06:00:00+0...   \n24     [2024-01-16 22:00:00+00, 2024-01-16 06:00:00+0...   \n...                                                  ...   \n18551  [2024-08-07 16:00:00+00, 2024-08-07 08:15:00+0...   \n18553  [2024-08-07 14:00:00+00, 2024-08-07 06:00:00+0...   \n18554  [2024-08-07 14:00:00+00, 2024-08-07 10:30:00+0...   \n18555  [2024-08-07 16:00:00+00, 2024-08-07 05:00:00+0...   \n18560  [2024-08-07 20:00:00+00, 2024-08-07 07:00:00+0...   \n\n                                             current_lat  \\\n7      [55.64641920439919, 55.32612200000001, 55.6464...   \n11     [55.64641920439919, 55.64641920439919, 55.7084...   \n13     [55.64641920439919, 55.6487125, 55.6163424, 55...   \n22     [55.64641920439919, 55.680064, 55.67597, 55.67...   \n24     [55.64641920439919, 55.659909, 55.667373, 55.6...   \n...                                                  ...   \n18551  [59.98883, 59.874914, 59.905434, 59.910636, 59...   \n18553  [55.64641920439919, 54.83743, 54.915425, 54.84...   \n18554  [55.64641920439919, 54.6603213, 54.696715, 54....   \n18555  [56.0667627, 56.1004096, 56.117045, 56.117045,...   \n18560  [59.805664, 59.795058, 59.805664, 59.948098894...   \n\n                                             current_lng  \\\n7      [12.15372974969827, 11.9560479, 12.15372974969...   \n11     [12.15372974969827, 12.15372974969827, 12.5917...   \n13     [12.15372974969827, 12.1307559, 12.3275461, 12...   \n22     [12.15372974969827, 12.591503, 12.559307, 12.5...   \n24     [12.15372974969827, 12.299289, 12.438708, 12.3...   \n...                                                  ...   \n18551  [10.947692, 10.810462, 10.759455, 10.725937, 1...   \n18553  [12.15372974969827, 11.4762, 11.35596, 11.2352...   \n18554  [12.15372974969827, 11.734435, 11.629326, 11.5...   \n18555  [9.986944, 10.0686046, 10.1408688, 10.1408688,...   \n18560  [10.290383, 10.279009, 10.290383, 10.771520299...   \n\n                                       stop_completed_at  \\\n7      [2024-01-15 02:30:39.234141+00, 2024-01-15 03:...   \n11     [2024-01-15 22:33:08.599355+00, 2024-01-15 22:...   \n13     [2024-01-23 10:49:20.166469+00, 2024-01-23 10:...   \n22     [2024-01-16 09:19:36.924514+00, 2024-01-16 09:...   \n24     [2024-01-16 03:16:44.779308+00, 2024-01-16 03:...   \n...                                                  ...   \n18551  [2024-08-07 06:02:35.310246+00, 2024-08-07 07:...   \n18553  [2024-08-07 02:40:50.261824+00, 2024-08-07 04:...   \n18554  [2024-08-07 01:01:02.779507+00, 2024-08-07 03:...   \n18555  [2024-08-07 01:56:20.459562+00, 2024-08-07 02:...   \n18560  [2024-08-07 07:10:49.406797+00, 2024-08-07 07:...   \n\n                                   planned_route_cluster  \\\n7      [147, 4285, 147, 550, 2257, 323, 1777, 191, 17...   \n11     [147, 147, 2116, 2116, 2116, 2116, 4914, 579, ...   \n13                          [147, 2954, 2738, 4334, 147]   \n22     [147, 4217, 2338, 4309, 147, 1178, 147, 1543, ...   \n24     [147, 2970, 2940, 956, 2051, 375, 1413, 2769, ...   \n...                                                  ...   \n18551      [525, 907, 4579, 4590, 525, 2930, 2266, 3001]   \n18553  [147, 642, 330, 378, 378, 378, 1089, 387, 2402...   \n18554  [147, 2045, 1190, 390, 411, 131, 1947, 4030, 1...   \n18555  [39, 370, 1929, 1929, 2354, 1955, 1997, 1997, ...   \n18560                               [33, 2032, 33, 2852]   \n\n                                     planned_route_craft day_of_week  \\\n7      [1167, 574, 1167, 523, 473, 462, 444, 400, 190...      Monday   \n11     [1167, 1167, 1905, 1914, 1914, 1912, 2084, 215...      Monday   \n13                         [1167, 1194, 947, 1797, 1167]     Tuesday   \n22     [1167, 1646, 1562, 1614, 1167, 1254, 1167, 217...     Tuesday   \n24     [1167, 1329, 1411, 1732, 1424, 1441, 1508, 130...      Monday   \n...                                                  ...         ...   \n18551  [10001, 7554, 7847, 8053, 10001, 9389, 9909, 9...     Tuesday   \n18553  [1167, 166, 188, 170, 170, 171, 168, 157, 151,...   Wednesday   \n18554  [1167, 15, 35, 38, 41, 91, 102, 90, 1167, 90, ...     Tuesday   \n18555  [3162, 3240, 3295, 3295, 3243, 3280, 3327, 332...     Tuesday   \n18560                           [7166, 7127, 7166, 9527]   Wednesday   \n\n                                       location_is_depot       date  \\\n7       [1, 0, 1, 0, 0, 0, 0, 0, 0, 0, 0, 0, 0, 0, 0, 0] 2024-01-15   \n11               [1, 1, 0, 0, 0, 0, 0, 0, 0, 0, 0, 0, 0] 2024-01-15   \n13                                       [1, 0, 0, 0, 1] 2024-01-23   \n22            [1, 0, 0, 0, 1, 0, 1, 0, 0, 0, 0, 1, 0, 0] 2024-01-16   \n24     [1, 0, 0, 0, 0, 0, 0, 0, 0, 0, 0, 0, 0, 0, 0, ... 2024-01-15   \n...                                                  ...        ...   \n18551                           [1, 0, 0, 0, 1, 0, 0, 0] 2024-08-06   \n18553         [1, 0, 0, 0, 0, 0, 0, 0, 0, 0, 0, 0, 0, 1] 2024-08-07   \n18554  [1, 0, 0, 0, 0, 0, 0, 0, 1, 0, 0, 0, 0, 0, 0, ... 2024-08-06   \n18555  [1, 0, 0, 0, 0, 0, 0, 0, 0, 0, 0, 0, 0, 0, 0, ... 2024-08-06   \n18560                                       [1, 0, 1, 0] 2024-08-07   \n\n       last_two_weeks_count  \\\n7                         8   \n11                        8   \n13                        2   \n22                        2   \n24                        8   \n...                     ...   \n18551                     1   \n18553                     1   \n18554                     2   \n18555                     1   \n18560                     1   \n\n                                   actual_route_location  \\\n7      [1167, 1167, 574, 523, 473, 462, 444, 400, 190...   \n11     [1167, 1167, 2158, 2094, 2152, 2093, 2084, 191...   \n13                         [1167, 1194, 947, 1797, 1167]   \n22     [1167, 1646, 1614, 1562, 1167, 1254, 1167, 228...   \n24     [1167, 1329, 1472, 1424, 1441, 1732, 1411, 152...   \n...                                                  ...   \n18551  [10001, 7554, 7847, 8053, 10001, 9389, 9909, 9...   \n18553  [1167, 166, 188, 170, 170, 171, 168, 157, 151,...   \n18554  [1167, 35, 38, 41, 91, 102, 90, 1167, 15, 90, ...   \n18555  [3162, 3295, 3243, 3295, 3240, 3327, 3258, 324...   \n18560                           [7166, 7166, 7127, 9527]   \n\n                                       actual_route_type  \n7       [0, 0, 1, 1, 1, 1, 1, 1, 1, 1, 1, 1, 1, 1, 1, 1]  \n11               [0, 0, 1, 1, 1, 1, 1, 1, 1, 1, 1, 1, 1]  \n13                                       [0, 1, 1, 0, 1]  \n22            [0, 1, 1, 1, 0, 1, 0, 1, 1, 1, 1, 1, 1, 0]  \n24     [0, 1, 1, 1, 1, 1, 1, 1, 1, 1, 1, 1, 1, 1, 1, ...  \n...                                                  ...  \n18551                           [0, 1, 1, 1, 0, 1, 1, 1]  \n18553         [0, 1, 1, 1, 0, 1, 1, 1, 1, 1, 1, 1, 1, 1]  \n18554  [0, 1, 1, 1, 1, 1, 1, 0, 1, 0, 1, 1, 1, 1, 1, ...  \n18555  [0, 1, 1, 1, 1, 1, 1, 1, 0, 1, 0, 1, 1, 1, 1, ...  \n18560                                       [0, 0, 1, 1]  \n\n[6322 rows x 19 columns]",
      "text/html": "<div>\n<style scoped>\n    .dataframe tbody tr th:only-of-type {\n        vertical-align: middle;\n    }\n\n    .dataframe tbody tr th {\n        vertical-align: top;\n    }\n\n    .dataframe thead th {\n        text-align: right;\n    }\n</style>\n<table border=\"1\" class=\"dataframe\">\n  <thead>\n    <tr style=\"text-align: right;\">\n      <th></th>\n      <th>driver_workday_id</th>\n      <th>driver_id</th>\n      <th>location_type_id</th>\n      <th>planned_route_location</th>\n      <th>stop_dispatched_at</th>\n      <th>stop_arrived_at</th>\n      <th>stop_earliest</th>\n      <th>stop_latest</th>\n      <th>current_lat</th>\n      <th>current_lng</th>\n      <th>stop_completed_at</th>\n      <th>planned_route_cluster</th>\n      <th>planned_route_craft</th>\n      <th>day_of_week</th>\n      <th>location_is_depot</th>\n      <th>date</th>\n      <th>last_two_weeks_count</th>\n      <th>actual_route_location</th>\n      <th>actual_route_type</th>\n    </tr>\n  </thead>\n  <tbody>\n    <tr>\n      <th>7</th>\n      <td>305777</td>\n      <td>1184</td>\n      <td>[0, 1, 0, 1, 1, 1, 1, 1, 1, 1, 1, 1, 1, 1, 1, 1]</td>\n      <td>[153184, 149629, 153184, 133530, 126197, 12617...</td>\n      <td>[2024-01-15 01:00:55.998747+00, 2024-01-15 01:...</td>\n      <td>[2024-01-15 02:30:31.162054+00, 2024-01-15 03:...</td>\n      <td>[2024-01-15 00:00:00+00, 2024-01-15 02:00:00+0...</td>\n      <td>[2024-01-15 05:00:00+00, 2024-01-15 05:00:00+0...</td>\n      <td>[55.64641920439919, 55.32612200000001, 55.6464...</td>\n      <td>[12.15372974969827, 11.9560479, 12.15372974969...</td>\n      <td>[2024-01-15 02:30:39.234141+00, 2024-01-15 03:...</td>\n      <td>[147, 4285, 147, 550, 2257, 323, 1777, 191, 17...</td>\n      <td>[1167, 574, 1167, 523, 473, 462, 444, 400, 190...</td>\n      <td>Monday</td>\n      <td>[1, 0, 1, 0, 0, 0, 0, 0, 0, 0, 0, 0, 0, 0, 0, 0]</td>\n      <td>2024-01-15</td>\n      <td>8</td>\n      <td>[1167, 1167, 574, 523, 473, 462, 444, 400, 190...</td>\n      <td>[0, 0, 1, 1, 1, 1, 1, 1, 1, 1, 1, 1, 1, 1, 1, 1]</td>\n    </tr>\n    <tr>\n      <th>11</th>\n      <td>305822</td>\n      <td>1222</td>\n      <td>[0, 0, 1, 1, 1, 1, 1, 1, 1, 1, 1, 1, 1]</td>\n      <td>[153184, 153184, 126299, 133416, 133416, 12722...</td>\n      <td>[2024-01-15 20:18:10.752813+00, 2024-01-15 20:...</td>\n      <td>[2024-01-15 22:32:59.762652+00, 2024-01-15 22:...</td>\n      <td>[2024-01-15 19:00:00+00, 2024-01-15 19:00:00+0...</td>\n      <td>[2024-01-16 01:00:00+00, 2024-01-16 01:00:00+0...</td>\n      <td>[55.64641920439919, 55.64641920439919, 55.7084...</td>\n      <td>[12.15372974969827, 12.15372974969827, 12.5917...</td>\n      <td>[2024-01-15 22:33:08.599355+00, 2024-01-15 22:...</td>\n      <td>[147, 147, 2116, 2116, 2116, 2116, 4914, 579, ...</td>\n      <td>[1167, 1167, 1905, 1914, 1914, 1912, 2084, 215...</td>\n      <td>Monday</td>\n      <td>[1, 1, 0, 0, 0, 0, 0, 0, 0, 0, 0, 0, 0]</td>\n      <td>2024-01-15</td>\n      <td>8</td>\n      <td>[1167, 1167, 2158, 2094, 2152, 2093, 2084, 191...</td>\n      <td>[0, 0, 1, 1, 1, 1, 1, 1, 1, 1, 1, 1, 1]</td>\n    </tr>\n    <tr>\n      <th>13</th>\n      <td>306381</td>\n      <td>1190</td>\n      <td>[0, 1, 1, 0, 1]</td>\n      <td>[153184, 118473, 118476, 144329, 153184]</td>\n      <td>[2024-01-23 10:42:01.731+00, 2024-01-23 10:42:...</td>\n      <td>[2024-01-23 10:49:20.166468+00, 2024-01-23 10:...</td>\n      <td>[2024-01-16 00:00:00+00, 2024-01-16 05:00:00+0...</td>\n      <td>[2024-01-16 22:00:00+00, 2024-01-16 11:00:00+0...</td>\n      <td>[55.64641920439919, 55.6487125, 55.6163424, 55...</td>\n      <td>[12.15372974969827, 12.1307559, 12.3275461, 12...</td>\n      <td>[2024-01-23 10:49:20.166469+00, 2024-01-23 10:...</td>\n      <td>[147, 2954, 2738, 4334, 147]</td>\n      <td>[1167, 1194, 947, 1797, 1167]</td>\n      <td>Tuesday</td>\n      <td>[1, 0, 0, 0, 1]</td>\n      <td>2024-01-23</td>\n      <td>2</td>\n      <td>[1167, 1194, 947, 1797, 1167]</td>\n      <td>[0, 1, 1, 0, 1]</td>\n    </tr>\n    <tr>\n      <th>22</th>\n      <td>306394</td>\n      <td>1193</td>\n      <td>[0, 1, 1, 1, 0, 1, 0, 1, 1, 1, 1, 0, 1, 1]</td>\n      <td>[153184, 119965, 118462, 118782, 153184, 12626...</td>\n      <td>[2024-01-15 23:57:51.582139+00, 2024-01-15 23:...</td>\n      <td>[2024-01-16 02:56:53.195248+00, 2024-01-16 04:...</td>\n      <td>[2024-01-16 00:00:00+00, 2024-01-16 04:00:00+0...</td>\n      <td>[2024-01-16 22:00:00+00, 2024-01-16 06:00:00+0...</td>\n      <td>[55.64641920439919, 55.680064, 55.67597, 55.67...</td>\n      <td>[12.15372974969827, 12.591503, 12.559307, 12.5...</td>\n      <td>[2024-01-16 09:19:36.924514+00, 2024-01-16 09:...</td>\n      <td>[147, 4217, 2338, 4309, 147, 1178, 147, 1543, ...</td>\n      <td>[1167, 1646, 1562, 1614, 1167, 1254, 1167, 217...</td>\n      <td>Tuesday</td>\n      <td>[1, 0, 0, 0, 1, 0, 1, 0, 0, 0, 0, 1, 0, 0]</td>\n      <td>2024-01-16</td>\n      <td>2</td>\n      <td>[1167, 1646, 1614, 1562, 1167, 1254, 1167, 228...</td>\n      <td>[0, 1, 1, 1, 0, 1, 0, 1, 1, 1, 1, 1, 1, 0]</td>\n    </tr>\n    <tr>\n      <th>24</th>\n      <td>306396</td>\n      <td>1208</td>\n      <td>[0, 1, 1, 1, 1, 1, 1, 1, 1, 1, 1, 1, 1, 1, 1, ...</td>\n      <td>[153184, 118551, 120151, 118602, 118569, 11904...</td>\n      <td>[2024-01-15 23:32:24.727186+00, 2024-01-15 23:...</td>\n      <td>[2024-01-16 03:16:27.520502+00, 2024-01-16 03:...</td>\n      <td>[2024-01-16 00:00:00+00, 2024-01-16 04:00:00+0...</td>\n      <td>[2024-01-16 22:00:00+00, 2024-01-16 06:00:00+0...</td>\n      <td>[55.64641920439919, 55.659909, 55.667373, 55.6...</td>\n      <td>[12.15372974969827, 12.299289, 12.438708, 12.3...</td>\n      <td>[2024-01-16 03:16:44.779308+00, 2024-01-16 03:...</td>\n      <td>[147, 2970, 2940, 956, 2051, 375, 1413, 2769, ...</td>\n      <td>[1167, 1329, 1411, 1732, 1424, 1441, 1508, 130...</td>\n      <td>Monday</td>\n      <td>[1, 0, 0, 0, 0, 0, 0, 0, 0, 0, 0, 0, 0, 0, 0, ...</td>\n      <td>2024-01-15</td>\n      <td>8</td>\n      <td>[1167, 1329, 1472, 1424, 1441, 1732, 1411, 152...</td>\n      <td>[0, 1, 1, 1, 1, 1, 1, 1, 1, 1, 1, 1, 1, 1, 1, ...</td>\n    </tr>\n    <tr>\n      <th>...</th>\n      <td>...</td>\n      <td>...</td>\n      <td>...</td>\n      <td>...</td>\n      <td>...</td>\n      <td>...</td>\n      <td>...</td>\n      <td>...</td>\n      <td>...</td>\n      <td>...</td>\n      <td>...</td>\n      <td>...</td>\n      <td>...</td>\n      <td>...</td>\n      <td>...</td>\n      <td>...</td>\n      <td>...</td>\n      <td>...</td>\n      <td>...</td>\n    </tr>\n    <tr>\n      <th>18551</th>\n      <td>442354</td>\n      <td>290</td>\n      <td>[0, 1, 1, 1, 0, 1, 1, 1]</td>\n      <td>[24927, 24953, 158094, 25021, 24927, 25032, 25...</td>\n      <td>[2024-08-06 07:50:29.678714+00, 2024-08-06 07:...</td>\n      <td>[2024-08-07 05:34:13.327006+00, 2024-08-07 06:...</td>\n      <td>[2024-08-07 01:00:00+00, 2024-08-07 06:15:00+0...</td>\n      <td>[2024-08-07 16:00:00+00, 2024-08-07 08:15:00+0...</td>\n      <td>[59.98883, 59.874914, 59.905434, 59.910636, 59...</td>\n      <td>[10.947692, 10.810462, 10.759455, 10.725937, 1...</td>\n      <td>[2024-08-07 06:02:35.310246+00, 2024-08-07 07:...</td>\n      <td>[525, 907, 4579, 4590, 525, 2930, 2266, 3001]</td>\n      <td>[10001, 7554, 7847, 8053, 10001, 9389, 9909, 9...</td>\n      <td>Tuesday</td>\n      <td>[1, 0, 0, 0, 1, 0, 0, 0]</td>\n      <td>2024-08-06</td>\n      <td>1</td>\n      <td>[10001, 7554, 7847, 8053, 10001, 9389, 9909, 9...</td>\n      <td>[0, 1, 1, 1, 0, 1, 1, 1]</td>\n    </tr>\n    <tr>\n      <th>18553</th>\n      <td>442382</td>\n      <td>1658</td>\n      <td>[0, 1, 1, 1, 0, 1, 1, 1, 1, 1, 1, 1, 1, 1]</td>\n      <td>[153184, 119516, 118968, 163781, 163781, 12056...</td>\n      <td>[2024-08-06 23:09:43.069421+00, 2024-08-07 00:...</td>\n      <td>[2024-08-07 02:40:13.728229+00, 2024-08-07 04:...</td>\n      <td>[2024-08-06 23:00:00+00, 2024-08-07 04:00:00+0...</td>\n      <td>[2024-08-07 14:00:00+00, 2024-08-07 06:00:00+0...</td>\n      <td>[55.64641920439919, 54.83743, 54.915425, 54.84...</td>\n      <td>[12.15372974969827, 11.4762, 11.35596, 11.2352...</td>\n      <td>[2024-08-07 02:40:50.261824+00, 2024-08-07 04:...</td>\n      <td>[147, 642, 330, 378, 378, 378, 1089, 387, 2402...</td>\n      <td>[1167, 166, 188, 170, 170, 171, 168, 157, 151,...</td>\n      <td>Wednesday</td>\n      <td>[1, 0, 0, 0, 0, 0, 0, 0, 0, 0, 0, 0, 0, 1]</td>\n      <td>2024-08-07</td>\n      <td>1</td>\n      <td>[1167, 166, 188, 170, 170, 171, 168, 157, 151,...</td>\n      <td>[0, 1, 1, 1, 0, 1, 1, 1, 1, 1, 1, 1, 1, 1]</td>\n    </tr>\n    <tr>\n      <th>18554</th>\n      <td>442383</td>\n      <td>1243</td>\n      <td>[0, 1, 1, 1, 1, 1, 1, 1, 0, 0, 1, 1, 1, 1, 1, ...</td>\n      <td>[153184, 126201, 133371, 159132, 126218, 13362...</td>\n      <td>[2024-08-06 23:09:47.587529+00, 2024-08-06 23:...</td>\n      <td>[2024-08-06 23:28:28.870578+00, 2024-08-07 02:...</td>\n      <td>[2024-08-06 23:00:00+00, 2024-08-07 03:30:00+0...</td>\n      <td>[2024-08-07 14:00:00+00, 2024-08-07 10:30:00+0...</td>\n      <td>[55.64641920439919, 54.6603213, 54.696715, 54....</td>\n      <td>[12.15372974969827, 11.734435, 11.629326, 11.5...</td>\n      <td>[2024-08-07 01:01:02.779507+00, 2024-08-07 03:...</td>\n      <td>[147, 2045, 1190, 390, 411, 131, 1947, 4030, 1...</td>\n      <td>[1167, 15, 35, 38, 41, 91, 102, 90, 1167, 90, ...</td>\n      <td>Tuesday</td>\n      <td>[1, 0, 0, 0, 0, 0, 0, 0, 1, 0, 0, 0, 0, 0, 0, ...</td>\n      <td>2024-08-06</td>\n      <td>2</td>\n      <td>[1167, 35, 38, 41, 91, 102, 90, 1167, 15, 90, ...</td>\n      <td>[0, 1, 1, 1, 1, 1, 1, 0, 1, 0, 1, 1, 1, 1, 1, ...</td>\n    </tr>\n    <tr>\n      <th>18555</th>\n      <td>442386</td>\n      <td>1520</td>\n      <td>[0, 1, 1, 1, 1, 1, 0, 1, 1, 1, 1, 1, 1, 1, 1, ...</td>\n      <td>[163647, 160704, 162824, 161803, 163817, 16203...</td>\n      <td>[2024-08-06 23:09:03.798004+00, 2024-08-06 23:...</td>\n      <td>[2024-08-07 01:55:50.864283+00, 2024-08-07 02:...</td>\n      <td>[2024-08-07 00:00:00+00, 2024-08-07 02:00:00+0...</td>\n      <td>[2024-08-07 16:00:00+00, 2024-08-07 05:00:00+0...</td>\n      <td>[56.0667627, 56.1004096, 56.117045, 56.117045,...</td>\n      <td>[9.986944, 10.0686046, 10.1408688, 10.1408688,...</td>\n      <td>[2024-08-07 01:56:20.459562+00, 2024-08-07 02:...</td>\n      <td>[39, 370, 1929, 1929, 2354, 1955, 1997, 1997, ...</td>\n      <td>[3162, 3240, 3295, 3295, 3243, 3280, 3327, 332...</td>\n      <td>Tuesday</td>\n      <td>[1, 0, 0, 0, 0, 0, 0, 0, 0, 0, 0, 0, 0, 0, 0, ...</td>\n      <td>2024-08-06</td>\n      <td>1</td>\n      <td>[3162, 3295, 3243, 3295, 3240, 3327, 3258, 324...</td>\n      <td>[0, 1, 1, 1, 1, 1, 1, 1, 0, 1, 0, 1, 1, 1, 1, ...</td>\n    </tr>\n    <tr>\n      <th>18560</th>\n      <td>443092</td>\n      <td>1417</td>\n      <td>[0, 1, 0, 1]</td>\n      <td>[46452, 46955, 46452, 154273]</td>\n      <td>[2024-08-07 05:59:26.311221+00, 2024-08-07 05:...</td>\n      <td>[2024-08-07 06:38:14.810272+00, 2024-08-07 07:...</td>\n      <td>[2024-08-07 02:00:00+00, 2024-08-07 05:00:00+0...</td>\n      <td>[2024-08-07 20:00:00+00, 2024-08-07 07:00:00+0...</td>\n      <td>[59.805664, 59.795058, 59.805664, 59.948098894...</td>\n      <td>[10.290383, 10.279009, 10.290383, 10.771520299...</td>\n      <td>[2024-08-07 07:10:49.406797+00, 2024-08-07 07:...</td>\n      <td>[33, 2032, 33, 2852]</td>\n      <td>[7166, 7127, 7166, 9527]</td>\n      <td>Wednesday</td>\n      <td>[1, 0, 1, 0]</td>\n      <td>2024-08-07</td>\n      <td>1</td>\n      <td>[7166, 7166, 7127, 9527]</td>\n      <td>[0, 0, 1, 1]</td>\n    </tr>\n  </tbody>\n</table>\n<p>6322 rows × 19 columns</p>\n</div>"
     },
     "execution_count": 11,
     "metadata": {},
     "output_type": "execute_result"
    }
   ],
   "source": [
    "routes = routes.reset_index(drop=True)\n",
    "more_than_one_1 = routes[routes['location_is_depot'].apply(lambda x: x.count(True) > 1)]\n",
    "len(more_than_one_1), len(routes)\n",
    "\n",
    "# more_than_one_1_2 = more_than_one_1[more_than_one_1['location_type_id'].apply(lambda x: x[0] != 1)]\n",
    "#\n",
    "# more_than_one_1_2\n",
    "more_than_one_1"
   ],
   "metadata": {
    "collapsed": false,
    "pycharm": {
     "name": "#%%\n"
    }
   }
  },
  {
   "cell_type": "code",
   "execution_count": 12,
   "outputs": [
    {
     "ename": "KeyError",
     "evalue": "'total_distance_actual'",
     "output_type": "error",
     "traceback": [
      "\u001B[0;31m---------------------------------------------------------------------------\u001B[0m",
      "\u001B[0;31mKeyError\u001B[0m                                  Traceback (most recent call last)",
      "File \u001B[0;32m~/opt/anaconda3/envs/RealDataClassificator/lib/python3.10/site-packages/pandas/core/indexes/base.py:3805\u001B[0m, in \u001B[0;36mIndex.get_loc\u001B[0;34m(self, key)\u001B[0m\n\u001B[1;32m   3804\u001B[0m \u001B[38;5;28;01mtry\u001B[39;00m:\n\u001B[0;32m-> 3805\u001B[0m     \u001B[38;5;28;01mreturn\u001B[39;00m \u001B[38;5;28;43mself\u001B[39;49m\u001B[38;5;241;43m.\u001B[39;49m\u001B[43m_engine\u001B[49m\u001B[38;5;241;43m.\u001B[39;49m\u001B[43mget_loc\u001B[49m\u001B[43m(\u001B[49m\u001B[43mcasted_key\u001B[49m\u001B[43m)\u001B[49m\n\u001B[1;32m   3806\u001B[0m \u001B[38;5;28;01mexcept\u001B[39;00m \u001B[38;5;167;01mKeyError\u001B[39;00m \u001B[38;5;28;01mas\u001B[39;00m err:\n",
      "File \u001B[0;32mindex.pyx:167\u001B[0m, in \u001B[0;36mpandas._libs.index.IndexEngine.get_loc\u001B[0;34m()\u001B[0m\n",
      "File \u001B[0;32mindex.pyx:196\u001B[0m, in \u001B[0;36mpandas._libs.index.IndexEngine.get_loc\u001B[0;34m()\u001B[0m\n",
      "File \u001B[0;32mpandas/_libs/hashtable_class_helper.pxi:7081\u001B[0m, in \u001B[0;36mpandas._libs.hashtable.PyObjectHashTable.get_item\u001B[0;34m()\u001B[0m\n",
      "File \u001B[0;32mpandas/_libs/hashtable_class_helper.pxi:7089\u001B[0m, in \u001B[0;36mpandas._libs.hashtable.PyObjectHashTable.get_item\u001B[0;34m()\u001B[0m\n",
      "\u001B[0;31mKeyError\u001B[0m: 'total_distance_actual'",
      "\nThe above exception was the direct cause of the following exception:\n",
      "\u001B[0;31mKeyError\u001B[0m                                  Traceback (most recent call last)",
      "Cell \u001B[0;32mIn[12], line 1\u001B[0m\n\u001B[0;32m----> 1\u001B[0m routes[\u001B[38;5;124m'\u001B[39m\u001B[38;5;124mdifference_distance\u001B[39m\u001B[38;5;124m'\u001B[39m] \u001B[38;5;241m=\u001B[39m \u001B[43mroutes\u001B[49m\u001B[43m[\u001B[49m\u001B[38;5;124;43m'\u001B[39;49m\u001B[38;5;124;43mtotal_distance_actual\u001B[39;49m\u001B[38;5;124;43m'\u001B[39;49m\u001B[43m]\u001B[49m \u001B[38;5;241m-\u001B[39m routes[\u001B[38;5;124m'\u001B[39m\u001B[38;5;124mtotal_distance_planned\u001B[39m\u001B[38;5;124m'\u001B[39m]\n",
      "File \u001B[0;32m~/opt/anaconda3/envs/RealDataClassificator/lib/python3.10/site-packages/pandas/core/frame.py:4102\u001B[0m, in \u001B[0;36mDataFrame.__getitem__\u001B[0;34m(self, key)\u001B[0m\n\u001B[1;32m   4100\u001B[0m \u001B[38;5;28;01mif\u001B[39;00m \u001B[38;5;28mself\u001B[39m\u001B[38;5;241m.\u001B[39mcolumns\u001B[38;5;241m.\u001B[39mnlevels \u001B[38;5;241m>\u001B[39m \u001B[38;5;241m1\u001B[39m:\n\u001B[1;32m   4101\u001B[0m     \u001B[38;5;28;01mreturn\u001B[39;00m \u001B[38;5;28mself\u001B[39m\u001B[38;5;241m.\u001B[39m_getitem_multilevel(key)\n\u001B[0;32m-> 4102\u001B[0m indexer \u001B[38;5;241m=\u001B[39m \u001B[38;5;28;43mself\u001B[39;49m\u001B[38;5;241;43m.\u001B[39;49m\u001B[43mcolumns\u001B[49m\u001B[38;5;241;43m.\u001B[39;49m\u001B[43mget_loc\u001B[49m\u001B[43m(\u001B[49m\u001B[43mkey\u001B[49m\u001B[43m)\u001B[49m\n\u001B[1;32m   4103\u001B[0m \u001B[38;5;28;01mif\u001B[39;00m is_integer(indexer):\n\u001B[1;32m   4104\u001B[0m     indexer \u001B[38;5;241m=\u001B[39m [indexer]\n",
      "File \u001B[0;32m~/opt/anaconda3/envs/RealDataClassificator/lib/python3.10/site-packages/pandas/core/indexes/base.py:3812\u001B[0m, in \u001B[0;36mIndex.get_loc\u001B[0;34m(self, key)\u001B[0m\n\u001B[1;32m   3807\u001B[0m     \u001B[38;5;28;01mif\u001B[39;00m \u001B[38;5;28misinstance\u001B[39m(casted_key, \u001B[38;5;28mslice\u001B[39m) \u001B[38;5;129;01mor\u001B[39;00m (\n\u001B[1;32m   3808\u001B[0m         \u001B[38;5;28misinstance\u001B[39m(casted_key, abc\u001B[38;5;241m.\u001B[39mIterable)\n\u001B[1;32m   3809\u001B[0m         \u001B[38;5;129;01mand\u001B[39;00m \u001B[38;5;28many\u001B[39m(\u001B[38;5;28misinstance\u001B[39m(x, \u001B[38;5;28mslice\u001B[39m) \u001B[38;5;28;01mfor\u001B[39;00m x \u001B[38;5;129;01min\u001B[39;00m casted_key)\n\u001B[1;32m   3810\u001B[0m     ):\n\u001B[1;32m   3811\u001B[0m         \u001B[38;5;28;01mraise\u001B[39;00m InvalidIndexError(key)\n\u001B[0;32m-> 3812\u001B[0m     \u001B[38;5;28;01mraise\u001B[39;00m \u001B[38;5;167;01mKeyError\u001B[39;00m(key) \u001B[38;5;28;01mfrom\u001B[39;00m \u001B[38;5;21;01merr\u001B[39;00m\n\u001B[1;32m   3813\u001B[0m \u001B[38;5;28;01mexcept\u001B[39;00m \u001B[38;5;167;01mTypeError\u001B[39;00m:\n\u001B[1;32m   3814\u001B[0m     \u001B[38;5;66;03m# If we have a listlike key, _check_indexing_error will raise\u001B[39;00m\n\u001B[1;32m   3815\u001B[0m     \u001B[38;5;66;03m#  InvalidIndexError. Otherwise we fall through and re-raise\u001B[39;00m\n\u001B[1;32m   3816\u001B[0m     \u001B[38;5;66;03m#  the TypeError.\u001B[39;00m\n\u001B[1;32m   3817\u001B[0m     \u001B[38;5;28mself\u001B[39m\u001B[38;5;241m.\u001B[39m_check_indexing_error(key)\n",
      "\u001B[0;31mKeyError\u001B[0m: 'total_distance_actual'"
     ]
    }
   ],
   "source": [
    "routes['difference_distance'] = routes['total_distance_actual'] - routes['total_distance_planned']"
   ],
   "metadata": {
    "collapsed": false,
    "pycharm": {
     "name": "#%%\n"
    }
   }
  },
  {
   "cell_type": "code",
   "execution_count": 13,
   "outputs": [],
   "source": [
    "planned_routes = routes[['planned_route_craft', 'actual_route_location', 'driver_id', 'day_of_week', 'last_two_weeks_count', 'location_type_id', 'stop_arrived_at', 'stop_earliest', 'stop_latest', 'current_lat', 'current_lng', 'location_is_depot', 'date', 'planned_route_cluster']]\n",
    "actual_routes = routes['actual_route_location']"
   ],
   "metadata": {
    "collapsed": false,
    "pycharm": {
     "name": "#%%\n"
    }
   }
  },
  {
   "cell_type": "code",
   "execution_count": 14,
   "outputs": [
    {
     "data": {
      "text/plain": "(18562, 18562)"
     },
     "execution_count": 14,
     "metadata": {},
     "output_type": "execute_result"
    }
   ],
   "source": [
    "planned_routes_list = planned_routes['planned_route_craft'].tolist()\n",
    "actual_routes_list = actual_routes.tolist()\n",
    "\n",
    "# filtered_rows = []\n",
    "#\n",
    "# for row in actual_routes_list:\n",
    "#     if row not in planned_routes_list:\n",
    "#         filtered_rows.append(row)\n",
    "\n",
    "#duplicated removed\n",
    "# planned_routes_list = [array for i, array in enumerate(planned_routes_list) if array not in planned_routes_list[:i]]\n",
    "# actual_routes_list = [array for i, array in enumerate(filtered_rows) if array not in filtered_rows[:i]]\n",
    "len(planned_routes_list),len(actual_routes_list)"
   ],
   "metadata": {
    "collapsed": false,
    "pycharm": {
     "name": "#%%\n"
    }
   }
  },
  {
   "cell_type": "markdown",
   "source": [
    "# Edit distance"
   ],
   "metadata": {
    "collapsed": false,
    "pycharm": {
     "name": "#%% md\n"
    }
   }
  },
  {
   "cell_type": "code",
   "execution_count": 15,
   "outputs": [
    {
     "name": "stdout",
     "output_type": "stream",
     "text": [
      "3\n"
     ]
    }
   ],
   "source": [
    "# Edit Distance\n",
    "\n",
    "def minDistance(word1, word2) -> int:\n",
    "    m = len(word1)\n",
    "    n = len(word2)\n",
    "    # dp[i][j] := min # Of operations to convert word1[0..i) to word2[0..j)\n",
    "    dp = [[0] * (n + 1) for _ in range(m + 1)]\n",
    "\n",
    "    for i in range(1, m + 1):\n",
    "      dp[i][0] = i\n",
    "\n",
    "    for j in range(1, n + 1):\n",
    "      dp[0][j] = j\n",
    "\n",
    "    for i in range(1, m + 1):\n",
    "      for j in range(1, n + 1):\n",
    "        if word1[i - 1] == word2[j - 1]:\n",
    "          dp[i][j] = dp[i - 1][j - 1]\n",
    "        else:\n",
    "          dp[i][j] = min(dp[i - 1][j - 1], dp[i - 1][j], dp[i][j - 1]) + 1\n",
    "\n",
    "    return dp[m][n]\n",
    "\n",
    "print(minDistance([878, 1526, 1613, 1706, 1857, 1777], [878, 1526, 1706, 1613, 1777, 1857]))"
   ],
   "metadata": {
    "collapsed": false,
    "pycharm": {
     "name": "#%%\n"
    }
   }
  },
  {
   "cell_type": "markdown",
   "source": [
    "\n",
    "# Route quality score"
   ],
   "metadata": {
    "collapsed": false,
    "pycharm": {
     "name": "#%% md\n"
    }
   }
  },
  {
   "cell_type": "code",
   "execution_count": 16,
   "outputs": [],
   "source": [
    "def calculate_route_quality_score(planned_ranks, actual_ranks):\n",
    "    # Calculate sum of absolute differences in ranks\n",
    "    sum_of_differences = sum(abs(actual_ranks.index(x) - planned_ranks.index(x)) for x in planned_ranks)\n",
    "\n",
    "    # Calculate max possible difference\n",
    "    max_possible_difference = sum([abs(2 * i - (len(planned_ranks) + 1)) for i in range(1, len(planned_ranks) + 1)])\n",
    "\n",
    "    # Calculate route quality score\n",
    "    route_quality_score = 1 - (sum_of_differences / max_possible_difference)\n",
    "\n",
    "    return route_quality_score"
   ],
   "metadata": {
    "collapsed": false,
    "pycharm": {
     "name": "#%%\n"
    }
   }
  },
  {
   "cell_type": "markdown",
   "source": [
    "For each driver-day, we consider only the planned route. For each planned route we calculate how much it deviates from the actual route (e.g., use some form of edit distance - see https://link.springer.com/article/10.1007/s10732-006-9001-3?), which is then normalized (divide by max edit distance, or number of visits or something?) to the interval [0, 1]. Then, a planned route is good if this distance (between planned and actual) is less than a certain threshold and otherwise it is bad. This becomes the label (bad/good)"
   ],
   "metadata": {
    "collapsed": false,
    "pycharm": {
     "name": "#%% md\n"
    }
   }
  },
  {
   "cell_type": "code",
   "execution_count": 17,
   "outputs": [
    {
     "name": "stderr",
     "output_type": "stream",
     "text": [
      "/var/folders/0j/mpbqwzf51p38zw2w423xp1fw0000gn/T/ipykernel_16575/3613957424.py:6: FutureWarning: The behavior of DataFrame concatenation with empty or all-NA entries is deprecated. In a future version, this will no longer exclude empty or all-NA columns when determining the result dtypes. To retain the old behavior, exclude the relevant entries before the concat operation.\n",
      "  completed_routes_df = pd.concat([completed_routes_df, pd.DataFrame([planned_routes.iloc[i]]).assign(score=score).reset_index(drop=True)], ignore_index=True)\n"
     ]
    },
    {
     "name": "stdout",
     "output_type": "stream",
     "text": [
      "18562\n"
     ]
    },
    {
     "data": {
      "text/plain": "                                     planned_route_craft  \\\n0       [1167, 1405, 1560, 1413, 1391, 1391, 1434, 1269]   \n1       [1167, 1352, 1312, 1356, 1508, 1508, 1621, 1401]   \n2             [1167, 2231, 2406, 2349, 2298, 2588, 2493]   \n3      [1167, 1168, 1495, 1658, 1070, 818, 965, 936, ...   \n4      [1167, 1101, 1079, 1282, 1123, 1098, 834, 1262...   \n...                                                  ...   \n18557  [10076, 10099, 9596, 9507, 9158, 8853, 9640, 8...   \n18558  [7166, 6718, 6699, 6495, 6560, 6558, 6756, 653...   \n18559        [10076, 8785, 9172, 7204, 6955, 5902, 7045]   \n18560                           [7166, 7127, 7166, 9527]   \n18561  [7166, 5428, 5394, 5385, 5347, 4633, 4350, 431...   \n\n                                   actual_route_location driver_id  \\\n0       [1167, 1405, 1560, 1413, 1391, 1391, 1434, 1269]      1255   \n1       [1167, 1312, 1356, 1352, 1508, 1508, 1621, 1401]      1195   \n2             [1167, 2231, 2349, 2406, 2298, 2493, 2588]      1186   \n3      [1167, 1070, 936, 822, 963, 965, 818, 1658, 14...      1218   \n4      [1167, 1098, 1315, 1282, 1262, 834, 1123, 1079...      1192   \n...                                                  ...       ...   \n18557  [10076, 10099, 9596, 9507, 9158, 8853, 9640, 8...       276   \n18558  [7166, 6718, 6699, 6495, 6560, 6558, 6756, 653...       968   \n18559        [10076, 8785, 9172, 7204, 6955, 5902, 7045]       877   \n18560                           [7166, 7166, 7127, 9527]      1417   \n18561  [7166, 5428, 5394, 5385, 5347, 4633, 4350, 431...       723   \n\n      day_of_week last_two_weeks_count  \\\n0          Monday                    8   \n1          Monday                   11   \n2          Monday                    9   \n3          Monday                   11   \n4          Monday                   11   \n...           ...                  ...   \n18557     Tuesday                    1   \n18558     Tuesday                    2   \n18559     Tuesday                    1   \n18560   Wednesday                    1   \n18561   Wednesday                    1   \n\n                                    location_type_id  \\\n0                           [0, 1, 1, 1, 1, 1, 1, 1]   \n1                           [0, 1, 1, 1, 1, 1, 1, 1]   \n2                              [0, 1, 1, 1, 1, 1, 1]   \n3                     [0, 1, 1, 1, 1, 1, 1, 1, 1, 1]   \n4                        [0, 1, 1, 1, 1, 1, 1, 1, 1]   \n...                                              ...   \n18557  [0, 1, 1, 1, 1, 1, 1, 1, 1, 1, 1, 1, 1, 1, 1]   \n18558        [0, 1, 1, 1, 1, 1, 1, 0, 1, 1, 1, 1, 1]   \n18559                          [0, 1, 1, 1, 1, 1, 1]   \n18560                                   [0, 1, 0, 1]   \n18561           [0, 1, 1, 1, 1, 1, 1, 1, 1, 1, 0, 1]   \n\n                                         stop_arrived_at  \\\n0      [2024-01-15 22:11:49.528537+00, 2024-01-15 23:...   \n1      [2024-01-15 22:58:58.038139+00, 2024-01-15 23:...   \n2      [2024-01-15 22:32:42.615543+00, 2024-01-15 23:...   \n3      [2024-01-15 22:37:07.860851+00, 2024-01-16 00:...   \n4      [2024-01-15 23:06:33.822316+00, 2024-01-16 01:...   \n...                                                  ...   \n18557  [2024-08-07 13:31:52.955936+00, 2024-08-07 13:...   \n18558  [2024-08-07 03:50:55.931321+00, 2024-08-07 05:...   \n18559  [2024-08-07 13:31:50.711864+00, 2024-08-07 13:...   \n18560  [2024-08-07 06:38:14.810272+00, 2024-08-07 07:...   \n18561  [2024-08-07 09:00:31.581115+00, 2024-08-07 10:...   \n\n                                           stop_earliest  \\\n0      [2024-01-15 19:00:00+00, 2024-01-15 23:00:00+0...   \n1      [2024-01-15 19:00:00+00, 2024-01-15 21:00:00+0...   \n2      [2024-01-15 19:00:00+00, 2024-01-15 21:00:00+0...   \n3      [2024-01-15 19:00:00+00, 2024-01-15 21:00:00+0...   \n4      [2024-01-15 19:00:00+00, 2024-01-15 21:00:00+0...   \n...                                                  ...   \n18557  [2024-08-07 01:00:00+00, 2024-08-07 05:00:00+0...   \n18558  [2024-08-07 02:00:00+00, 2024-08-07 05:00:00+0...   \n18559  [2024-08-07 01:00:00+00, 2024-08-07 05:00:00+0...   \n18560  [2024-08-07 02:00:00+00, 2024-08-07 05:00:00+0...   \n18561  [2024-08-07 02:00:00+00, 2024-08-07 06:00:00+0...   \n\n                                             stop_latest  \\\n0      [2024-01-16 01:00:00+00, 2024-01-16 03:00:00+0...   \n1      [2024-01-16 01:00:00+00, 2024-01-16 04:00:00+0...   \n2      [2024-01-16 01:00:00+00, 2024-01-16 04:00:00+0...   \n3      [2024-01-16 01:00:00+00, 2024-01-16 04:00:00+0...   \n4      [2024-01-16 01:00:00+00, 2024-01-16 04:00:00+0...   \n...                                                  ...   \n18557  [2024-08-07 14:00:00+00, 2024-08-07 11:00:00+0...   \n18558  [2024-08-07 20:00:00+00, 2024-08-07 07:00:00+0...   \n18559  [2024-08-07 14:00:00+00, 2024-08-07 11:00:00+0...   \n18560  [2024-08-07 20:00:00+00, 2024-08-07 07:00:00+0...   \n18561  [2024-08-07 20:00:00+00, 2024-08-07 10:00:00+0...   \n\n                                             current_lat  \\\n0      [55.64641920439919, 55.6669147, 55.6757322, 55...   \n1      [55.64641920439919, 55.662018, 55.658103, 55.6...   \n2      [55.64641920439919, 55.7498333, 55.80148, 55.7...   \n3      [55.64641920439919, 55.646535, 55.672309, 55.6...   \n4      [55.64641920439919, 55.640375, 55.639120600000...   \n...                                                  ...   \n18557  [60.007627, 60.01175632293701, 59.950832, 59.9...   \n18558  [59.805664, 59.749221, 59.747942, 59.737167777...   \n18559  [60.007627, 59.923836, 59.93422, 59.811373, 59...   \n18560  [59.805664, 59.795058, 59.805664, 59.948098894...   \n18561  [59.805664, 59.420838, 59.415188, 59.414098, 5...   \n\n                                             current_lng     score  \\\n0      [12.15372974969827, 12.5262801, 12.5619711, 12...  1.000000   \n1      [12.15372974969827, 12.360745, 12.368506, 12.3...  0.875000   \n2      [12.15372974969827, 12.5870785, 12.525814, 12....  0.833333   \n3      [12.15372974969827, 12.539958, 12.588959, 12.6...  0.240000   \n4      [12.15372974969827, 12.091312, 12.0627714, 12....  0.300000   \n...                                                  ...       ...   \n18557  [11.047135, 11.052440556594831, 10.856852, 10....  1.000000   \n18558  [10.290383, 10.26819, 10.291249, 10.3725904226...  0.976190   \n18559  [11.047135, 10.814451, 10.800594, 10.80755, 10...  1.000000   \n18560  [10.290383, 10.279009, 10.290383, 10.771520299...  0.875000   \n18561  [10.290383, 10.488199, 10.496616, 10.487423, 1...  1.000000   \n\n                                   location_is_depot       date  \\\n0                           [1, 0, 0, 0, 0, 0, 0, 0] 2024-01-15   \n1                           [1, 0, 0, 0, 0, 0, 0, 0] 2024-01-15   \n2                              [1, 0, 0, 0, 0, 0, 0] 2024-01-15   \n3                     [1, 0, 0, 0, 0, 0, 0, 0, 0, 0] 2024-01-15   \n4                        [1, 0, 0, 0, 0, 0, 0, 0, 0] 2024-01-15   \n...                                              ...        ...   \n18557  [1, 0, 0, 0, 0, 0, 0, 0, 0, 0, 0, 0, 0, 0, 0] 2024-08-06   \n18558        [1, 0, 0, 0, 0, 0, 0, 0, 0, 0, 0, 0, 0] 2024-08-06   \n18559                          [1, 0, 0, 0, 0, 0, 0] 2024-08-06   \n18560                                   [1, 0, 1, 0] 2024-08-07   \n18561           [1, 0, 0, 0, 0, 0, 0, 0, 0, 0, 0, 0] 2024-08-07   \n\n                                   planned_route_cluster  \n0         [147, 1419, 3429, 3703, 1360, 1360, 4511, 335]  \n1         [147, 122, 2070, 3540, 1413, 1413, 3663, 1287]  \n2               [147, 2596, 521, 4623, 3326, 3115, 1050]  \n3      [147, 3305, 3715, 4879, 1830, 537, 3301, 2199,...  \n4      [147, 4979, 3980, 3679, 2681, 2319, 708, 1644,...  \n...                                                  ...  \n18557  [30, 4754, 846, 4226, 3915, 3949, 1293, 4349, ...  \n18558  [33, 2460, 1978, 1234, 2493, 931, 2241, 148, 1...  \n18559             [30, 3949, 4848, 4971, 2429, 45, 2313]  \n18560                               [33, 2032, 33, 2852]  \n18561  [33, 3225, 4361, 4473, 1308, 2346, 37, 3408, 4...  \n\n[18562 rows x 15 columns]",
      "text/html": "<div>\n<style scoped>\n    .dataframe tbody tr th:only-of-type {\n        vertical-align: middle;\n    }\n\n    .dataframe tbody tr th {\n        vertical-align: top;\n    }\n\n    .dataframe thead th {\n        text-align: right;\n    }\n</style>\n<table border=\"1\" class=\"dataframe\">\n  <thead>\n    <tr style=\"text-align: right;\">\n      <th></th>\n      <th>planned_route_craft</th>\n      <th>actual_route_location</th>\n      <th>driver_id</th>\n      <th>day_of_week</th>\n      <th>last_two_weeks_count</th>\n      <th>location_type_id</th>\n      <th>stop_arrived_at</th>\n      <th>stop_earliest</th>\n      <th>stop_latest</th>\n      <th>current_lat</th>\n      <th>current_lng</th>\n      <th>score</th>\n      <th>location_is_depot</th>\n      <th>date</th>\n      <th>planned_route_cluster</th>\n    </tr>\n  </thead>\n  <tbody>\n    <tr>\n      <th>0</th>\n      <td>[1167, 1405, 1560, 1413, 1391, 1391, 1434, 1269]</td>\n      <td>[1167, 1405, 1560, 1413, 1391, 1391, 1434, 1269]</td>\n      <td>1255</td>\n      <td>Monday</td>\n      <td>8</td>\n      <td>[0, 1, 1, 1, 1, 1, 1, 1]</td>\n      <td>[2024-01-15 22:11:49.528537+00, 2024-01-15 23:...</td>\n      <td>[2024-01-15 19:00:00+00, 2024-01-15 23:00:00+0...</td>\n      <td>[2024-01-16 01:00:00+00, 2024-01-16 03:00:00+0...</td>\n      <td>[55.64641920439919, 55.6669147, 55.6757322, 55...</td>\n      <td>[12.15372974969827, 12.5262801, 12.5619711, 12...</td>\n      <td>1.000000</td>\n      <td>[1, 0, 0, 0, 0, 0, 0, 0]</td>\n      <td>2024-01-15</td>\n      <td>[147, 1419, 3429, 3703, 1360, 1360, 4511, 335]</td>\n    </tr>\n    <tr>\n      <th>1</th>\n      <td>[1167, 1352, 1312, 1356, 1508, 1508, 1621, 1401]</td>\n      <td>[1167, 1312, 1356, 1352, 1508, 1508, 1621, 1401]</td>\n      <td>1195</td>\n      <td>Monday</td>\n      <td>11</td>\n      <td>[0, 1, 1, 1, 1, 1, 1, 1]</td>\n      <td>[2024-01-15 22:58:58.038139+00, 2024-01-15 23:...</td>\n      <td>[2024-01-15 19:00:00+00, 2024-01-15 21:00:00+0...</td>\n      <td>[2024-01-16 01:00:00+00, 2024-01-16 04:00:00+0...</td>\n      <td>[55.64641920439919, 55.662018, 55.658103, 55.6...</td>\n      <td>[12.15372974969827, 12.360745, 12.368506, 12.3...</td>\n      <td>0.875000</td>\n      <td>[1, 0, 0, 0, 0, 0, 0, 0]</td>\n      <td>2024-01-15</td>\n      <td>[147, 122, 2070, 3540, 1413, 1413, 3663, 1287]</td>\n    </tr>\n    <tr>\n      <th>2</th>\n      <td>[1167, 2231, 2406, 2349, 2298, 2588, 2493]</td>\n      <td>[1167, 2231, 2349, 2406, 2298, 2493, 2588]</td>\n      <td>1186</td>\n      <td>Monday</td>\n      <td>9</td>\n      <td>[0, 1, 1, 1, 1, 1, 1]</td>\n      <td>[2024-01-15 22:32:42.615543+00, 2024-01-15 23:...</td>\n      <td>[2024-01-15 19:00:00+00, 2024-01-15 21:00:00+0...</td>\n      <td>[2024-01-16 01:00:00+00, 2024-01-16 04:00:00+0...</td>\n      <td>[55.64641920439919, 55.7498333, 55.80148, 55.7...</td>\n      <td>[12.15372974969827, 12.5870785, 12.525814, 12....</td>\n      <td>0.833333</td>\n      <td>[1, 0, 0, 0, 0, 0, 0]</td>\n      <td>2024-01-15</td>\n      <td>[147, 2596, 521, 4623, 3326, 3115, 1050]</td>\n    </tr>\n    <tr>\n      <th>3</th>\n      <td>[1167, 1168, 1495, 1658, 1070, 818, 965, 936, ...</td>\n      <td>[1167, 1070, 936, 822, 963, 965, 818, 1658, 14...</td>\n      <td>1218</td>\n      <td>Monday</td>\n      <td>11</td>\n      <td>[0, 1, 1, 1, 1, 1, 1, 1, 1, 1]</td>\n      <td>[2024-01-15 22:37:07.860851+00, 2024-01-16 00:...</td>\n      <td>[2024-01-15 19:00:00+00, 2024-01-15 21:00:00+0...</td>\n      <td>[2024-01-16 01:00:00+00, 2024-01-16 04:00:00+0...</td>\n      <td>[55.64641920439919, 55.646535, 55.672309, 55.6...</td>\n      <td>[12.15372974969827, 12.539958, 12.588959, 12.6...</td>\n      <td>0.240000</td>\n      <td>[1, 0, 0, 0, 0, 0, 0, 0, 0, 0]</td>\n      <td>2024-01-15</td>\n      <td>[147, 3305, 3715, 4879, 1830, 537, 3301, 2199,...</td>\n    </tr>\n    <tr>\n      <th>4</th>\n      <td>[1167, 1101, 1079, 1282, 1123, 1098, 834, 1262...</td>\n      <td>[1167, 1098, 1315, 1282, 1262, 834, 1123, 1079...</td>\n      <td>1192</td>\n      <td>Monday</td>\n      <td>11</td>\n      <td>[0, 1, 1, 1, 1, 1, 1, 1, 1]</td>\n      <td>[2024-01-15 23:06:33.822316+00, 2024-01-16 01:...</td>\n      <td>[2024-01-15 19:00:00+00, 2024-01-15 21:00:00+0...</td>\n      <td>[2024-01-16 01:00:00+00, 2024-01-16 04:00:00+0...</td>\n      <td>[55.64641920439919, 55.640375, 55.639120600000...</td>\n      <td>[12.15372974969827, 12.091312, 12.0627714, 12....</td>\n      <td>0.300000</td>\n      <td>[1, 0, 0, 0, 0, 0, 0, 0, 0]</td>\n      <td>2024-01-15</td>\n      <td>[147, 4979, 3980, 3679, 2681, 2319, 708, 1644,...</td>\n    </tr>\n    <tr>\n      <th>...</th>\n      <td>...</td>\n      <td>...</td>\n      <td>...</td>\n      <td>...</td>\n      <td>...</td>\n      <td>...</td>\n      <td>...</td>\n      <td>...</td>\n      <td>...</td>\n      <td>...</td>\n      <td>...</td>\n      <td>...</td>\n      <td>...</td>\n      <td>...</td>\n      <td>...</td>\n    </tr>\n    <tr>\n      <th>18557</th>\n      <td>[10076, 10099, 9596, 9507, 9158, 8853, 9640, 8...</td>\n      <td>[10076, 10099, 9596, 9507, 9158, 8853, 9640, 8...</td>\n      <td>276</td>\n      <td>Tuesday</td>\n      <td>1</td>\n      <td>[0, 1, 1, 1, 1, 1, 1, 1, 1, 1, 1, 1, 1, 1, 1]</td>\n      <td>[2024-08-07 13:31:52.955936+00, 2024-08-07 13:...</td>\n      <td>[2024-08-07 01:00:00+00, 2024-08-07 05:00:00+0...</td>\n      <td>[2024-08-07 14:00:00+00, 2024-08-07 11:00:00+0...</td>\n      <td>[60.007627, 60.01175632293701, 59.950832, 59.9...</td>\n      <td>[11.047135, 11.052440556594831, 10.856852, 10....</td>\n      <td>1.000000</td>\n      <td>[1, 0, 0, 0, 0, 0, 0, 0, 0, 0, 0, 0, 0, 0, 0]</td>\n      <td>2024-08-06</td>\n      <td>[30, 4754, 846, 4226, 3915, 3949, 1293, 4349, ...</td>\n    </tr>\n    <tr>\n      <th>18558</th>\n      <td>[7166, 6718, 6699, 6495, 6560, 6558, 6756, 653...</td>\n      <td>[7166, 6718, 6699, 6495, 6560, 6558, 6756, 653...</td>\n      <td>968</td>\n      <td>Tuesday</td>\n      <td>2</td>\n      <td>[0, 1, 1, 1, 1, 1, 1, 0, 1, 1, 1, 1, 1]</td>\n      <td>[2024-08-07 03:50:55.931321+00, 2024-08-07 05:...</td>\n      <td>[2024-08-07 02:00:00+00, 2024-08-07 05:00:00+0...</td>\n      <td>[2024-08-07 20:00:00+00, 2024-08-07 07:00:00+0...</td>\n      <td>[59.805664, 59.749221, 59.747942, 59.737167777...</td>\n      <td>[10.290383, 10.26819, 10.291249, 10.3725904226...</td>\n      <td>0.976190</td>\n      <td>[1, 0, 0, 0, 0, 0, 0, 0, 0, 0, 0, 0, 0]</td>\n      <td>2024-08-06</td>\n      <td>[33, 2460, 1978, 1234, 2493, 931, 2241, 148, 1...</td>\n    </tr>\n    <tr>\n      <th>18559</th>\n      <td>[10076, 8785, 9172, 7204, 6955, 5902, 7045]</td>\n      <td>[10076, 8785, 9172, 7204, 6955, 5902, 7045]</td>\n      <td>877</td>\n      <td>Tuesday</td>\n      <td>1</td>\n      <td>[0, 1, 1, 1, 1, 1, 1]</td>\n      <td>[2024-08-07 13:31:50.711864+00, 2024-08-07 13:...</td>\n      <td>[2024-08-07 01:00:00+00, 2024-08-07 05:00:00+0...</td>\n      <td>[2024-08-07 14:00:00+00, 2024-08-07 11:00:00+0...</td>\n      <td>[60.007627, 59.923836, 59.93422, 59.811373, 59...</td>\n      <td>[11.047135, 10.814451, 10.800594, 10.80755, 10...</td>\n      <td>1.000000</td>\n      <td>[1, 0, 0, 0, 0, 0, 0]</td>\n      <td>2024-08-06</td>\n      <td>[30, 3949, 4848, 4971, 2429, 45, 2313]</td>\n    </tr>\n    <tr>\n      <th>18560</th>\n      <td>[7166, 7127, 7166, 9527]</td>\n      <td>[7166, 7166, 7127, 9527]</td>\n      <td>1417</td>\n      <td>Wednesday</td>\n      <td>1</td>\n      <td>[0, 1, 0, 1]</td>\n      <td>[2024-08-07 06:38:14.810272+00, 2024-08-07 07:...</td>\n      <td>[2024-08-07 02:00:00+00, 2024-08-07 05:00:00+0...</td>\n      <td>[2024-08-07 20:00:00+00, 2024-08-07 07:00:00+0...</td>\n      <td>[59.805664, 59.795058, 59.805664, 59.948098894...</td>\n      <td>[10.290383, 10.279009, 10.290383, 10.771520299...</td>\n      <td>0.875000</td>\n      <td>[1, 0, 1, 0]</td>\n      <td>2024-08-07</td>\n      <td>[33, 2032, 33, 2852]</td>\n    </tr>\n    <tr>\n      <th>18561</th>\n      <td>[7166, 5428, 5394, 5385, 5347, 4633, 4350, 431...</td>\n      <td>[7166, 5428, 5394, 5385, 5347, 4633, 4350, 431...</td>\n      <td>723</td>\n      <td>Wednesday</td>\n      <td>1</td>\n      <td>[0, 1, 1, 1, 1, 1, 1, 1, 1, 1, 0, 1]</td>\n      <td>[2024-08-07 09:00:31.581115+00, 2024-08-07 10:...</td>\n      <td>[2024-08-07 02:00:00+00, 2024-08-07 06:00:00+0...</td>\n      <td>[2024-08-07 20:00:00+00, 2024-08-07 10:00:00+0...</td>\n      <td>[59.805664, 59.420838, 59.415188, 59.414098, 5...</td>\n      <td>[10.290383, 10.488199, 10.496616, 10.487423, 1...</td>\n      <td>1.000000</td>\n      <td>[1, 0, 0, 0, 0, 0, 0, 0, 0, 0, 0, 0]</td>\n      <td>2024-08-07</td>\n      <td>[33, 3225, 4361, 4473, 1308, 2346, 37, 3408, 4...</td>\n    </tr>\n  </tbody>\n</table>\n<p>18562 rows × 15 columns</p>\n</div>"
     },
     "execution_count": 17,
     "metadata": {},
     "output_type": "execute_result"
    }
   ],
   "source": [
    "completed_routes_df = pd.DataFrame(columns=['planned_route_craft', 'actual_route_location', 'driver_id', 'day_of_week', 'last_two_weeks_count', 'location_type_id', 'stop_arrived_at', 'stop_earliest', 'stop_latest', 'current_lat', 'current_lng', 'score', 'location_is_depot', 'date', 'planned_route_cluster'])\n",
    "#11700795\n",
    "for i in range(len(planned_routes_list)):\n",
    "    # editDistance = minDistance(planned_routes_list[i],actual_routes_list[i])\n",
    "    score = calculate_route_quality_score(planned_routes_list[i],actual_routes_list[i])\n",
    "    completed_routes_df = pd.concat([completed_routes_df, pd.DataFrame([planned_routes.iloc[i]]).assign(score=score).reset_index(drop=True)], ignore_index=True)\n",
    "\n",
    "\n",
    "print(len(completed_routes_df))\n",
    "# completed_routes_df\n",
    "completed_routes_df"
   ],
   "metadata": {
    "collapsed": false,
    "pycharm": {
     "name": "#%%\n"
    }
   }
  },
  {
   "cell_type": "code",
   "execution_count": 18,
   "outputs": [
    {
     "name": "stdout",
     "output_type": "stream",
     "text": [
      "Total number of drivers 395\n"
     ]
    },
    {
     "data": {
      "text/plain": "                                     planned_route_craft  \\\n0       [1167, 1405, 1560, 1413, 1391, 1391, 1434, 1269]   \n1       [1167, 1352, 1312, 1356, 1508, 1508, 1621, 1401]   \n2             [1167, 2231, 2406, 2349, 2298, 2588, 2493]   \n3      [1167, 1168, 1495, 1658, 1070, 818, 965, 936, ...   \n4      [1167, 1101, 1079, 1282, 1123, 1098, 834, 1262...   \n...                                                  ...   \n18557  [10076, 10099, 9596, 9507, 9158, 8853, 9640, 8...   \n18558  [7166, 6718, 6699, 6495, 6560, 6558, 6756, 653...   \n18559        [10076, 8785, 9172, 7204, 6955, 5902, 7045]   \n18560                           [7166, 7127, 7166, 9527]   \n18561  [7166, 5428, 5394, 5385, 5347, 4633, 4350, 431...   \n\n                                   actual_route_location driver_id  \\\n0       [1167, 1405, 1560, 1413, 1391, 1391, 1434, 1269]      1255   \n1       [1167, 1312, 1356, 1352, 1508, 1508, 1621, 1401]      1195   \n2             [1167, 2231, 2349, 2406, 2298, 2493, 2588]      1186   \n3      [1167, 1070, 936, 822, 963, 965, 818, 1658, 14...      1218   \n4      [1167, 1098, 1315, 1282, 1262, 834, 1123, 1079...      1192   \n...                                                  ...       ...   \n18557  [10076, 10099, 9596, 9507, 9158, 8853, 9640, 8...       276   \n18558  [7166, 6718, 6699, 6495, 6560, 6558, 6756, 653...       968   \n18559        [10076, 8785, 9172, 7204, 6955, 5902, 7045]       877   \n18560                           [7166, 7166, 7127, 9527]      1417   \n18561  [7166, 5428, 5394, 5385, 5347, 4633, 4350, 431...       723   \n\n      day_of_week last_two_weeks_count  \\\n0          Monday                    8   \n1          Monday                   11   \n2          Monday                    9   \n3          Monday                   11   \n4          Monday                   11   \n...           ...                  ...   \n18557     Tuesday                    1   \n18558     Tuesday                    2   \n18559     Tuesday                    1   \n18560   Wednesday                    1   \n18561   Wednesday                    1   \n\n                                    location_type_id  \\\n0                           [0, 1, 1, 1, 1, 1, 1, 1]   \n1                           [0, 1, 1, 1, 1, 1, 1, 1]   \n2                              [0, 1, 1, 1, 1, 1, 1]   \n3                     [0, 1, 1, 1, 1, 1, 1, 1, 1, 1]   \n4                        [0, 1, 1, 1, 1, 1, 1, 1, 1]   \n...                                              ...   \n18557  [0, 1, 1, 1, 1, 1, 1, 1, 1, 1, 1, 1, 1, 1, 1]   \n18558        [0, 1, 1, 1, 1, 1, 1, 0, 1, 1, 1, 1, 1]   \n18559                          [0, 1, 1, 1, 1, 1, 1]   \n18560                                   [0, 1, 0, 1]   \n18561           [0, 1, 1, 1, 1, 1, 1, 1, 1, 1, 0, 1]   \n\n                                         stop_arrived_at  \\\n0      [2024-01-15 22:11:49.528537+00, 2024-01-15 23:...   \n1      [2024-01-15 22:58:58.038139+00, 2024-01-15 23:...   \n2      [2024-01-15 22:32:42.615543+00, 2024-01-15 23:...   \n3      [2024-01-15 22:37:07.860851+00, 2024-01-16 00:...   \n4      [2024-01-15 23:06:33.822316+00, 2024-01-16 01:...   \n...                                                  ...   \n18557  [2024-08-07 13:31:52.955936+00, 2024-08-07 13:...   \n18558  [2024-08-07 03:50:55.931321+00, 2024-08-07 05:...   \n18559  [2024-08-07 13:31:50.711864+00, 2024-08-07 13:...   \n18560  [2024-08-07 06:38:14.810272+00, 2024-08-07 07:...   \n18561  [2024-08-07 09:00:31.581115+00, 2024-08-07 10:...   \n\n                                           stop_earliest  \\\n0      [2024-01-15 19:00:00+00, 2024-01-15 23:00:00+0...   \n1      [2024-01-15 19:00:00+00, 2024-01-15 21:00:00+0...   \n2      [2024-01-15 19:00:00+00, 2024-01-15 21:00:00+0...   \n3      [2024-01-15 19:00:00+00, 2024-01-15 21:00:00+0...   \n4      [2024-01-15 19:00:00+00, 2024-01-15 21:00:00+0...   \n...                                                  ...   \n18557  [2024-08-07 01:00:00+00, 2024-08-07 05:00:00+0...   \n18558  [2024-08-07 02:00:00+00, 2024-08-07 05:00:00+0...   \n18559  [2024-08-07 01:00:00+00, 2024-08-07 05:00:00+0...   \n18560  [2024-08-07 02:00:00+00, 2024-08-07 05:00:00+0...   \n18561  [2024-08-07 02:00:00+00, 2024-08-07 06:00:00+0...   \n\n                                             stop_latest  \\\n0      [2024-01-16 01:00:00+00, 2024-01-16 03:00:00+0...   \n1      [2024-01-16 01:00:00+00, 2024-01-16 04:00:00+0...   \n2      [2024-01-16 01:00:00+00, 2024-01-16 04:00:00+0...   \n3      [2024-01-16 01:00:00+00, 2024-01-16 04:00:00+0...   \n4      [2024-01-16 01:00:00+00, 2024-01-16 04:00:00+0...   \n...                                                  ...   \n18557  [2024-08-07 14:00:00+00, 2024-08-07 11:00:00+0...   \n18558  [2024-08-07 20:00:00+00, 2024-08-07 07:00:00+0...   \n18559  [2024-08-07 14:00:00+00, 2024-08-07 11:00:00+0...   \n18560  [2024-08-07 20:00:00+00, 2024-08-07 07:00:00+0...   \n18561  [2024-08-07 20:00:00+00, 2024-08-07 10:00:00+0...   \n\n                                             current_lat  \\\n0      [55.64641920439919, 55.6669147, 55.6757322, 55...   \n1      [55.64641920439919, 55.662018, 55.658103, 55.6...   \n2      [55.64641920439919, 55.7498333, 55.80148, 55.7...   \n3      [55.64641920439919, 55.646535, 55.672309, 55.6...   \n4      [55.64641920439919, 55.640375, 55.639120600000...   \n...                                                  ...   \n18557  [60.007627, 60.01175632293701, 59.950832, 59.9...   \n18558  [59.805664, 59.749221, 59.747942, 59.737167777...   \n18559  [60.007627, 59.923836, 59.93422, 59.811373, 59...   \n18560  [59.805664, 59.795058, 59.805664, 59.948098894...   \n18561  [59.805664, 59.420838, 59.415188, 59.414098, 5...   \n\n                                             current_lng     score  \\\n0      [12.15372974969827, 12.5262801, 12.5619711, 12...  1.000000   \n1      [12.15372974969827, 12.360745, 12.368506, 12.3...  0.875000   \n2      [12.15372974969827, 12.5870785, 12.525814, 12....  0.833333   \n3      [12.15372974969827, 12.539958, 12.588959, 12.6...  0.240000   \n4      [12.15372974969827, 12.091312, 12.0627714, 12....  0.300000   \n...                                                  ...       ...   \n18557  [11.047135, 11.052440556594831, 10.856852, 10....  1.000000   \n18558  [10.290383, 10.26819, 10.291249, 10.3725904226...  0.976190   \n18559  [11.047135, 10.814451, 10.800594, 10.80755, 10...  1.000000   \n18560  [10.290383, 10.279009, 10.290383, 10.771520299...  0.875000   \n18561  [10.290383, 10.488199, 10.496616, 10.487423, 1...  1.000000   \n\n                                   location_is_depot       date  \\\n0                           [1, 0, 0, 0, 0, 0, 0, 0] 2024-01-15   \n1                           [1, 0, 0, 0, 0, 0, 0, 0] 2024-01-15   \n2                              [1, 0, 0, 0, 0, 0, 0] 2024-01-15   \n3                     [1, 0, 0, 0, 0, 0, 0, 0, 0, 0] 2024-01-15   \n4                        [1, 0, 0, 0, 0, 0, 0, 0, 0] 2024-01-15   \n...                                              ...        ...   \n18557  [1, 0, 0, 0, 0, 0, 0, 0, 0, 0, 0, 0, 0, 0, 0] 2024-08-06   \n18558        [1, 0, 0, 0, 0, 0, 0, 0, 0, 0, 0, 0, 0] 2024-08-06   \n18559                          [1, 0, 0, 0, 0, 0, 0] 2024-08-06   \n18560                                   [1, 0, 1, 0] 2024-08-07   \n18561           [1, 0, 0, 0, 0, 0, 0, 0, 0, 0, 0, 0] 2024-08-07   \n\n                                   planned_route_cluster  driver_id_sorted  \n0         [147, 1419, 3429, 3703, 1360, 1360, 4511, 335]                 1  \n1         [147, 122, 2070, 3540, 1413, 1413, 3663, 1287]                 2  \n2               [147, 2596, 521, 4623, 3326, 3115, 1050]                 3  \n3      [147, 3305, 3715, 4879, 1830, 537, 3301, 2199,...                 4  \n4      [147, 4979, 3980, 3679, 2681, 2319, 708, 1644,...                 5  \n...                                                  ...               ...  \n18557  [30, 4754, 846, 4226, 3915, 3949, 1293, 4349, ...               192  \n18558  [33, 2460, 1978, 1234, 2493, 931, 2241, 148, 1...               331  \n18559             [30, 3949, 4848, 4971, 2429, 45, 2313]               168  \n18560                               [33, 2032, 33, 2852]               174  \n18561  [33, 3225, 4361, 4473, 1308, 2346, 37, 3408, 4...               163  \n\n[18562 rows x 16 columns]",
      "text/html": "<div>\n<style scoped>\n    .dataframe tbody tr th:only-of-type {\n        vertical-align: middle;\n    }\n\n    .dataframe tbody tr th {\n        vertical-align: top;\n    }\n\n    .dataframe thead th {\n        text-align: right;\n    }\n</style>\n<table border=\"1\" class=\"dataframe\">\n  <thead>\n    <tr style=\"text-align: right;\">\n      <th></th>\n      <th>planned_route_craft</th>\n      <th>actual_route_location</th>\n      <th>driver_id</th>\n      <th>day_of_week</th>\n      <th>last_two_weeks_count</th>\n      <th>location_type_id</th>\n      <th>stop_arrived_at</th>\n      <th>stop_earliest</th>\n      <th>stop_latest</th>\n      <th>current_lat</th>\n      <th>current_lng</th>\n      <th>score</th>\n      <th>location_is_depot</th>\n      <th>date</th>\n      <th>planned_route_cluster</th>\n      <th>driver_id_sorted</th>\n    </tr>\n  </thead>\n  <tbody>\n    <tr>\n      <th>0</th>\n      <td>[1167, 1405, 1560, 1413, 1391, 1391, 1434, 1269]</td>\n      <td>[1167, 1405, 1560, 1413, 1391, 1391, 1434, 1269]</td>\n      <td>1255</td>\n      <td>Monday</td>\n      <td>8</td>\n      <td>[0, 1, 1, 1, 1, 1, 1, 1]</td>\n      <td>[2024-01-15 22:11:49.528537+00, 2024-01-15 23:...</td>\n      <td>[2024-01-15 19:00:00+00, 2024-01-15 23:00:00+0...</td>\n      <td>[2024-01-16 01:00:00+00, 2024-01-16 03:00:00+0...</td>\n      <td>[55.64641920439919, 55.6669147, 55.6757322, 55...</td>\n      <td>[12.15372974969827, 12.5262801, 12.5619711, 12...</td>\n      <td>1.000000</td>\n      <td>[1, 0, 0, 0, 0, 0, 0, 0]</td>\n      <td>2024-01-15</td>\n      <td>[147, 1419, 3429, 3703, 1360, 1360, 4511, 335]</td>\n      <td>1</td>\n    </tr>\n    <tr>\n      <th>1</th>\n      <td>[1167, 1352, 1312, 1356, 1508, 1508, 1621, 1401]</td>\n      <td>[1167, 1312, 1356, 1352, 1508, 1508, 1621, 1401]</td>\n      <td>1195</td>\n      <td>Monday</td>\n      <td>11</td>\n      <td>[0, 1, 1, 1, 1, 1, 1, 1]</td>\n      <td>[2024-01-15 22:58:58.038139+00, 2024-01-15 23:...</td>\n      <td>[2024-01-15 19:00:00+00, 2024-01-15 21:00:00+0...</td>\n      <td>[2024-01-16 01:00:00+00, 2024-01-16 04:00:00+0...</td>\n      <td>[55.64641920439919, 55.662018, 55.658103, 55.6...</td>\n      <td>[12.15372974969827, 12.360745, 12.368506, 12.3...</td>\n      <td>0.875000</td>\n      <td>[1, 0, 0, 0, 0, 0, 0, 0]</td>\n      <td>2024-01-15</td>\n      <td>[147, 122, 2070, 3540, 1413, 1413, 3663, 1287]</td>\n      <td>2</td>\n    </tr>\n    <tr>\n      <th>2</th>\n      <td>[1167, 2231, 2406, 2349, 2298, 2588, 2493]</td>\n      <td>[1167, 2231, 2349, 2406, 2298, 2493, 2588]</td>\n      <td>1186</td>\n      <td>Monday</td>\n      <td>9</td>\n      <td>[0, 1, 1, 1, 1, 1, 1]</td>\n      <td>[2024-01-15 22:32:42.615543+00, 2024-01-15 23:...</td>\n      <td>[2024-01-15 19:00:00+00, 2024-01-15 21:00:00+0...</td>\n      <td>[2024-01-16 01:00:00+00, 2024-01-16 04:00:00+0...</td>\n      <td>[55.64641920439919, 55.7498333, 55.80148, 55.7...</td>\n      <td>[12.15372974969827, 12.5870785, 12.525814, 12....</td>\n      <td>0.833333</td>\n      <td>[1, 0, 0, 0, 0, 0, 0]</td>\n      <td>2024-01-15</td>\n      <td>[147, 2596, 521, 4623, 3326, 3115, 1050]</td>\n      <td>3</td>\n    </tr>\n    <tr>\n      <th>3</th>\n      <td>[1167, 1168, 1495, 1658, 1070, 818, 965, 936, ...</td>\n      <td>[1167, 1070, 936, 822, 963, 965, 818, 1658, 14...</td>\n      <td>1218</td>\n      <td>Monday</td>\n      <td>11</td>\n      <td>[0, 1, 1, 1, 1, 1, 1, 1, 1, 1]</td>\n      <td>[2024-01-15 22:37:07.860851+00, 2024-01-16 00:...</td>\n      <td>[2024-01-15 19:00:00+00, 2024-01-15 21:00:00+0...</td>\n      <td>[2024-01-16 01:00:00+00, 2024-01-16 04:00:00+0...</td>\n      <td>[55.64641920439919, 55.646535, 55.672309, 55.6...</td>\n      <td>[12.15372974969827, 12.539958, 12.588959, 12.6...</td>\n      <td>0.240000</td>\n      <td>[1, 0, 0, 0, 0, 0, 0, 0, 0, 0]</td>\n      <td>2024-01-15</td>\n      <td>[147, 3305, 3715, 4879, 1830, 537, 3301, 2199,...</td>\n      <td>4</td>\n    </tr>\n    <tr>\n      <th>4</th>\n      <td>[1167, 1101, 1079, 1282, 1123, 1098, 834, 1262...</td>\n      <td>[1167, 1098, 1315, 1282, 1262, 834, 1123, 1079...</td>\n      <td>1192</td>\n      <td>Monday</td>\n      <td>11</td>\n      <td>[0, 1, 1, 1, 1, 1, 1, 1, 1]</td>\n      <td>[2024-01-15 23:06:33.822316+00, 2024-01-16 01:...</td>\n      <td>[2024-01-15 19:00:00+00, 2024-01-15 21:00:00+0...</td>\n      <td>[2024-01-16 01:00:00+00, 2024-01-16 04:00:00+0...</td>\n      <td>[55.64641920439919, 55.640375, 55.639120600000...</td>\n      <td>[12.15372974969827, 12.091312, 12.0627714, 12....</td>\n      <td>0.300000</td>\n      <td>[1, 0, 0, 0, 0, 0, 0, 0, 0]</td>\n      <td>2024-01-15</td>\n      <td>[147, 4979, 3980, 3679, 2681, 2319, 708, 1644,...</td>\n      <td>5</td>\n    </tr>\n    <tr>\n      <th>...</th>\n      <td>...</td>\n      <td>...</td>\n      <td>...</td>\n      <td>...</td>\n      <td>...</td>\n      <td>...</td>\n      <td>...</td>\n      <td>...</td>\n      <td>...</td>\n      <td>...</td>\n      <td>...</td>\n      <td>...</td>\n      <td>...</td>\n      <td>...</td>\n      <td>...</td>\n      <td>...</td>\n    </tr>\n    <tr>\n      <th>18557</th>\n      <td>[10076, 10099, 9596, 9507, 9158, 8853, 9640, 8...</td>\n      <td>[10076, 10099, 9596, 9507, 9158, 8853, 9640, 8...</td>\n      <td>276</td>\n      <td>Tuesday</td>\n      <td>1</td>\n      <td>[0, 1, 1, 1, 1, 1, 1, 1, 1, 1, 1, 1, 1, 1, 1]</td>\n      <td>[2024-08-07 13:31:52.955936+00, 2024-08-07 13:...</td>\n      <td>[2024-08-07 01:00:00+00, 2024-08-07 05:00:00+0...</td>\n      <td>[2024-08-07 14:00:00+00, 2024-08-07 11:00:00+0...</td>\n      <td>[60.007627, 60.01175632293701, 59.950832, 59.9...</td>\n      <td>[11.047135, 11.052440556594831, 10.856852, 10....</td>\n      <td>1.000000</td>\n      <td>[1, 0, 0, 0, 0, 0, 0, 0, 0, 0, 0, 0, 0, 0, 0]</td>\n      <td>2024-08-06</td>\n      <td>[30, 4754, 846, 4226, 3915, 3949, 1293, 4349, ...</td>\n      <td>192</td>\n    </tr>\n    <tr>\n      <th>18558</th>\n      <td>[7166, 6718, 6699, 6495, 6560, 6558, 6756, 653...</td>\n      <td>[7166, 6718, 6699, 6495, 6560, 6558, 6756, 653...</td>\n      <td>968</td>\n      <td>Tuesday</td>\n      <td>2</td>\n      <td>[0, 1, 1, 1, 1, 1, 1, 0, 1, 1, 1, 1, 1]</td>\n      <td>[2024-08-07 03:50:55.931321+00, 2024-08-07 05:...</td>\n      <td>[2024-08-07 02:00:00+00, 2024-08-07 05:00:00+0...</td>\n      <td>[2024-08-07 20:00:00+00, 2024-08-07 07:00:00+0...</td>\n      <td>[59.805664, 59.749221, 59.747942, 59.737167777...</td>\n      <td>[10.290383, 10.26819, 10.291249, 10.3725904226...</td>\n      <td>0.976190</td>\n      <td>[1, 0, 0, 0, 0, 0, 0, 0, 0, 0, 0, 0, 0]</td>\n      <td>2024-08-06</td>\n      <td>[33, 2460, 1978, 1234, 2493, 931, 2241, 148, 1...</td>\n      <td>331</td>\n    </tr>\n    <tr>\n      <th>18559</th>\n      <td>[10076, 8785, 9172, 7204, 6955, 5902, 7045]</td>\n      <td>[10076, 8785, 9172, 7204, 6955, 5902, 7045]</td>\n      <td>877</td>\n      <td>Tuesday</td>\n      <td>1</td>\n      <td>[0, 1, 1, 1, 1, 1, 1]</td>\n      <td>[2024-08-07 13:31:50.711864+00, 2024-08-07 13:...</td>\n      <td>[2024-08-07 01:00:00+00, 2024-08-07 05:00:00+0...</td>\n      <td>[2024-08-07 14:00:00+00, 2024-08-07 11:00:00+0...</td>\n      <td>[60.007627, 59.923836, 59.93422, 59.811373, 59...</td>\n      <td>[11.047135, 10.814451, 10.800594, 10.80755, 10...</td>\n      <td>1.000000</td>\n      <td>[1, 0, 0, 0, 0, 0, 0]</td>\n      <td>2024-08-06</td>\n      <td>[30, 3949, 4848, 4971, 2429, 45, 2313]</td>\n      <td>168</td>\n    </tr>\n    <tr>\n      <th>18560</th>\n      <td>[7166, 7127, 7166, 9527]</td>\n      <td>[7166, 7166, 7127, 9527]</td>\n      <td>1417</td>\n      <td>Wednesday</td>\n      <td>1</td>\n      <td>[0, 1, 0, 1]</td>\n      <td>[2024-08-07 06:38:14.810272+00, 2024-08-07 07:...</td>\n      <td>[2024-08-07 02:00:00+00, 2024-08-07 05:00:00+0...</td>\n      <td>[2024-08-07 20:00:00+00, 2024-08-07 07:00:00+0...</td>\n      <td>[59.805664, 59.795058, 59.805664, 59.948098894...</td>\n      <td>[10.290383, 10.279009, 10.290383, 10.771520299...</td>\n      <td>0.875000</td>\n      <td>[1, 0, 1, 0]</td>\n      <td>2024-08-07</td>\n      <td>[33, 2032, 33, 2852]</td>\n      <td>174</td>\n    </tr>\n    <tr>\n      <th>18561</th>\n      <td>[7166, 5428, 5394, 5385, 5347, 4633, 4350, 431...</td>\n      <td>[7166, 5428, 5394, 5385, 5347, 4633, 4350, 431...</td>\n      <td>723</td>\n      <td>Wednesday</td>\n      <td>1</td>\n      <td>[0, 1, 1, 1, 1, 1, 1, 1, 1, 1, 0, 1]</td>\n      <td>[2024-08-07 09:00:31.581115+00, 2024-08-07 10:...</td>\n      <td>[2024-08-07 02:00:00+00, 2024-08-07 06:00:00+0...</td>\n      <td>[2024-08-07 20:00:00+00, 2024-08-07 10:00:00+0...</td>\n      <td>[59.805664, 59.420838, 59.415188, 59.414098, 5...</td>\n      <td>[10.290383, 10.488199, 10.496616, 10.487423, 1...</td>\n      <td>1.000000</td>\n      <td>[1, 0, 0, 0, 0, 0, 0, 0, 0, 0, 0, 0]</td>\n      <td>2024-08-07</td>\n      <td>[33, 3225, 4361, 4473, 1308, 2346, 37, 3408, 4...</td>\n      <td>163</td>\n    </tr>\n  </tbody>\n</table>\n<p>18562 rows × 16 columns</p>\n</div>"
     },
     "execution_count": 18,
     "metadata": {},
     "output_type": "execute_result"
    }
   ],
   "source": [
    "drivers_dic = {}\n",
    "k = 1\n",
    "for driver in completed_routes_df['driver_id']:\n",
    "    if driver not in drivers_dic:\n",
    "        drivers_dic[driver] = k\n",
    "        k += 1\n",
    "print('Total number of drivers', len(drivers_dic))\n",
    "total_drivers = len(drivers_dic)\n",
    "encoding_drivers = []\n",
    "for driver in completed_routes_df['driver_id']:\n",
    "    encoding_drivers.append(drivers_dic[driver])\n",
    "#\n",
    "completed_routes_df['driver_id_sorted'] = encoding_drivers\n",
    "# final_routes = pd.concat([final_routes, pd.get_dummies(final_routes['driver_id_sorted'], prefix='encoding_drivers')], axis=1)\n",
    "completed_routes_df"
   ],
   "metadata": {
    "collapsed": false,
    "pycharm": {
     "name": "#%%\n"
    }
   }
  },
  {
   "cell_type": "code",
   "execution_count": 19,
   "outputs": [
    {
     "name": "stdout",
     "output_type": "stream",
     "text": [
      "Number of rows on Sunday: 1804\n"
     ]
    }
   ],
   "source": [
    "sunday_count = completed_routes_df[completed_routes_df[\"day_of_week\"] == \"Sunday\"].shape[0]\n",
    "print(f\"Number of rows on Sunday: {sunday_count}\")"
   ],
   "metadata": {
    "collapsed": false,
    "pycharm": {
     "name": "#%%\n"
    }
   }
  },
  {
   "cell_type": "code",
   "execution_count": 20,
   "outputs": [],
   "source": [
    "\n",
    "# completed_routes_list_unique = [array for i, array in enumerate(completed_routes_list) if array not in completed_routes_list[:i]]\n",
    "# uncompleted_routes_list_unique = [array for i, array in enumerate(uncompleted_routes_list) if array not in uncompleted_routes_list[:i]]\n",
    "# len(completed_routes_list_unique), len (uncompleted_routes_list_unique)\n",
    "# len(completed_routes_df), len(uncompleted_routes_df)"
   ],
   "metadata": {
    "collapsed": false,
    "pycharm": {
     "name": "#%%\n"
    }
   }
  },
  {
   "cell_type": "code",
   "execution_count": 21,
   "outputs": [
    {
     "data": {
      "text/plain": "                                                  routes  \\\n0       [1167, 1405, 1560, 1413, 1391, 1391, 1434, 1269]   \n1       [1167, 1352, 1312, 1356, 1508, 1508, 1621, 1401]   \n2             [1167, 2231, 2406, 2349, 2298, 2588, 2493]   \n3      [1167, 1168, 1495, 1658, 1070, 818, 965, 936, ...   \n4      [1167, 1101, 1079, 1282, 1123, 1098, 834, 1262...   \n...                                                  ...   \n18557  [10076, 10099, 9596, 9507, 9158, 8853, 9640, 8...   \n18558  [7166, 6718, 6699, 6495, 6560, 6558, 6756, 653...   \n18559        [10076, 8785, 9172, 7204, 6955, 5902, 7045]   \n18560                           [7166, 7127, 7166, 9527]   \n18561  [7166, 5428, 5394, 5385, 5347, 4633, 4350, 431...   \n\n                                           actual_routes  driver_id  \\\n0       [1167, 1405, 1560, 1413, 1391, 1391, 1434, 1269]       1255   \n1       [1167, 1312, 1356, 1352, 1508, 1508, 1621, 1401]       1195   \n2             [1167, 2231, 2349, 2406, 2298, 2493, 2588]       1186   \n3      [1167, 1070, 936, 822, 963, 965, 818, 1658, 14...       1218   \n4      [1167, 1098, 1315, 1282, 1262, 834, 1123, 1079...       1192   \n...                                                  ...        ...   \n18557  [10076, 10099, 9596, 9507, 9158, 8853, 9640, 8...        276   \n18558  [7166, 6718, 6699, 6495, 6560, 6558, 6756, 653...        968   \n18559        [10076, 8785, 9172, 7204, 6955, 5902, 7045]        877   \n18560                           [7166, 7166, 7127, 9527]       1417   \n18561  [7166, 5428, 5394, 5385, 5347, 4633, 4350, 431...        723   \n\n       last_two_weeks_count day_of_week     score  \\\n0                         8      Monday  1.000000   \n1                        11      Monday  0.875000   \n2                         9      Monday  0.833333   \n3                        11      Monday  0.240000   \n4                        11      Monday  0.300000   \n...                     ...         ...       ...   \n18557                     1     Tuesday  1.000000   \n18558                     2     Tuesday  0.976190   \n18559                     1     Tuesday  1.000000   \n18560                     1   Wednesday  0.875000   \n18561                     1   Wednesday  1.000000   \n\n                                   location_is_depot  \\\n0                           [1, 0, 0, 0, 0, 0, 0, 0]   \n1                           [1, 0, 0, 0, 0, 0, 0, 0]   \n2                              [1, 0, 0, 0, 0, 0, 0]   \n3                     [1, 0, 0, 0, 0, 0, 0, 0, 0, 0]   \n4                        [1, 0, 0, 0, 0, 0, 0, 0, 0]   \n...                                              ...   \n18557  [1, 0, 0, 0, 0, 0, 0, 0, 0, 0, 0, 0, 0, 0, 0]   \n18558        [1, 0, 0, 0, 0, 0, 0, 0, 0, 0, 0, 0, 0]   \n18559                          [1, 0, 0, 0, 0, 0, 0]   \n18560                                   [1, 0, 1, 0]   \n18561           [1, 0, 0, 0, 0, 0, 0, 0, 0, 0, 0, 0]   \n\n                                    location_type_id  \\\n0                           [0, 1, 1, 1, 1, 1, 1, 1]   \n1                           [0, 1, 1, 1, 1, 1, 1, 1]   \n2                              [0, 1, 1, 1, 1, 1, 1]   \n3                     [0, 1, 1, 1, 1, 1, 1, 1, 1, 1]   \n4                        [0, 1, 1, 1, 1, 1, 1, 1, 1]   \n...                                              ...   \n18557  [0, 1, 1, 1, 1, 1, 1, 1, 1, 1, 1, 1, 1, 1, 1]   \n18558        [0, 1, 1, 1, 1, 1, 1, 0, 1, 1, 1, 1, 1]   \n18559                          [0, 1, 1, 1, 1, 1, 1]   \n18560                                   [0, 1, 0, 1]   \n18561           [0, 1, 1, 1, 1, 1, 1, 1, 1, 1, 0, 1]   \n\n                                             current_lat  \\\n0      [55.64641920439919, 55.6669147, 55.6757322, 55...   \n1      [55.64641920439919, 55.662018, 55.658103, 55.6...   \n2      [55.64641920439919, 55.7498333, 55.80148, 55.7...   \n3      [55.64641920439919, 55.646535, 55.672309, 55.6...   \n4      [55.64641920439919, 55.640375, 55.639120600000...   \n...                                                  ...   \n18557  [60.007627, 60.01175632293701, 59.950832, 59.9...   \n18558  [59.805664, 59.749221, 59.747942, 59.737167777...   \n18559  [60.007627, 59.923836, 59.93422, 59.811373, 59...   \n18560  [59.805664, 59.795058, 59.805664, 59.948098894...   \n18561  [59.805664, 59.420838, 59.415188, 59.414098, 5...   \n\n                                             current_lng       date  len  \n0      [12.15372974969827, 12.5262801, 12.5619711, 12... 2024-01-15    8  \n1      [12.15372974969827, 12.360745, 12.368506, 12.3... 2024-01-15    8  \n2      [12.15372974969827, 12.5870785, 12.525814, 12.... 2024-01-15    7  \n3      [12.15372974969827, 12.539958, 12.588959, 12.6... 2024-01-15   10  \n4      [12.15372974969827, 12.091312, 12.0627714, 12.... 2024-01-15    9  \n...                                                  ...        ...  ...  \n18557  [11.047135, 11.052440556594831, 10.856852, 10.... 2024-08-06   15  \n18558  [10.290383, 10.26819, 10.291249, 10.3725904226... 2024-08-06   13  \n18559  [11.047135, 10.814451, 10.800594, 10.80755, 10... 2024-08-06    7  \n18560  [10.290383, 10.279009, 10.290383, 10.771520299... 2024-08-07    4  \n18561  [10.290383, 10.488199, 10.496616, 10.487423, 1... 2024-08-07   12  \n\n[18562 rows x 12 columns]",
      "text/html": "<div>\n<style scoped>\n    .dataframe tbody tr th:only-of-type {\n        vertical-align: middle;\n    }\n\n    .dataframe tbody tr th {\n        vertical-align: top;\n    }\n\n    .dataframe thead th {\n        text-align: right;\n    }\n</style>\n<table border=\"1\" class=\"dataframe\">\n  <thead>\n    <tr style=\"text-align: right;\">\n      <th></th>\n      <th>routes</th>\n      <th>actual_routes</th>\n      <th>driver_id</th>\n      <th>last_two_weeks_count</th>\n      <th>day_of_week</th>\n      <th>score</th>\n      <th>location_is_depot</th>\n      <th>location_type_id</th>\n      <th>current_lat</th>\n      <th>current_lng</th>\n      <th>date</th>\n      <th>len</th>\n    </tr>\n  </thead>\n  <tbody>\n    <tr>\n      <th>0</th>\n      <td>[1167, 1405, 1560, 1413, 1391, 1391, 1434, 1269]</td>\n      <td>[1167, 1405, 1560, 1413, 1391, 1391, 1434, 1269]</td>\n      <td>1255</td>\n      <td>8</td>\n      <td>Monday</td>\n      <td>1.000000</td>\n      <td>[1, 0, 0, 0, 0, 0, 0, 0]</td>\n      <td>[0, 1, 1, 1, 1, 1, 1, 1]</td>\n      <td>[55.64641920439919, 55.6669147, 55.6757322, 55...</td>\n      <td>[12.15372974969827, 12.5262801, 12.5619711, 12...</td>\n      <td>2024-01-15</td>\n      <td>8</td>\n    </tr>\n    <tr>\n      <th>1</th>\n      <td>[1167, 1352, 1312, 1356, 1508, 1508, 1621, 1401]</td>\n      <td>[1167, 1312, 1356, 1352, 1508, 1508, 1621, 1401]</td>\n      <td>1195</td>\n      <td>11</td>\n      <td>Monday</td>\n      <td>0.875000</td>\n      <td>[1, 0, 0, 0, 0, 0, 0, 0]</td>\n      <td>[0, 1, 1, 1, 1, 1, 1, 1]</td>\n      <td>[55.64641920439919, 55.662018, 55.658103, 55.6...</td>\n      <td>[12.15372974969827, 12.360745, 12.368506, 12.3...</td>\n      <td>2024-01-15</td>\n      <td>8</td>\n    </tr>\n    <tr>\n      <th>2</th>\n      <td>[1167, 2231, 2406, 2349, 2298, 2588, 2493]</td>\n      <td>[1167, 2231, 2349, 2406, 2298, 2493, 2588]</td>\n      <td>1186</td>\n      <td>9</td>\n      <td>Monday</td>\n      <td>0.833333</td>\n      <td>[1, 0, 0, 0, 0, 0, 0]</td>\n      <td>[0, 1, 1, 1, 1, 1, 1]</td>\n      <td>[55.64641920439919, 55.7498333, 55.80148, 55.7...</td>\n      <td>[12.15372974969827, 12.5870785, 12.525814, 12....</td>\n      <td>2024-01-15</td>\n      <td>7</td>\n    </tr>\n    <tr>\n      <th>3</th>\n      <td>[1167, 1168, 1495, 1658, 1070, 818, 965, 936, ...</td>\n      <td>[1167, 1070, 936, 822, 963, 965, 818, 1658, 14...</td>\n      <td>1218</td>\n      <td>11</td>\n      <td>Monday</td>\n      <td>0.240000</td>\n      <td>[1, 0, 0, 0, 0, 0, 0, 0, 0, 0]</td>\n      <td>[0, 1, 1, 1, 1, 1, 1, 1, 1, 1]</td>\n      <td>[55.64641920439919, 55.646535, 55.672309, 55.6...</td>\n      <td>[12.15372974969827, 12.539958, 12.588959, 12.6...</td>\n      <td>2024-01-15</td>\n      <td>10</td>\n    </tr>\n    <tr>\n      <th>4</th>\n      <td>[1167, 1101, 1079, 1282, 1123, 1098, 834, 1262...</td>\n      <td>[1167, 1098, 1315, 1282, 1262, 834, 1123, 1079...</td>\n      <td>1192</td>\n      <td>11</td>\n      <td>Monday</td>\n      <td>0.300000</td>\n      <td>[1, 0, 0, 0, 0, 0, 0, 0, 0]</td>\n      <td>[0, 1, 1, 1, 1, 1, 1, 1, 1]</td>\n      <td>[55.64641920439919, 55.640375, 55.639120600000...</td>\n      <td>[12.15372974969827, 12.091312, 12.0627714, 12....</td>\n      <td>2024-01-15</td>\n      <td>9</td>\n    </tr>\n    <tr>\n      <th>...</th>\n      <td>...</td>\n      <td>...</td>\n      <td>...</td>\n      <td>...</td>\n      <td>...</td>\n      <td>...</td>\n      <td>...</td>\n      <td>...</td>\n      <td>...</td>\n      <td>...</td>\n      <td>...</td>\n      <td>...</td>\n    </tr>\n    <tr>\n      <th>18557</th>\n      <td>[10076, 10099, 9596, 9507, 9158, 8853, 9640, 8...</td>\n      <td>[10076, 10099, 9596, 9507, 9158, 8853, 9640, 8...</td>\n      <td>276</td>\n      <td>1</td>\n      <td>Tuesday</td>\n      <td>1.000000</td>\n      <td>[1, 0, 0, 0, 0, 0, 0, 0, 0, 0, 0, 0, 0, 0, 0]</td>\n      <td>[0, 1, 1, 1, 1, 1, 1, 1, 1, 1, 1, 1, 1, 1, 1]</td>\n      <td>[60.007627, 60.01175632293701, 59.950832, 59.9...</td>\n      <td>[11.047135, 11.052440556594831, 10.856852, 10....</td>\n      <td>2024-08-06</td>\n      <td>15</td>\n    </tr>\n    <tr>\n      <th>18558</th>\n      <td>[7166, 6718, 6699, 6495, 6560, 6558, 6756, 653...</td>\n      <td>[7166, 6718, 6699, 6495, 6560, 6558, 6756, 653...</td>\n      <td>968</td>\n      <td>2</td>\n      <td>Tuesday</td>\n      <td>0.976190</td>\n      <td>[1, 0, 0, 0, 0, 0, 0, 0, 0, 0, 0, 0, 0]</td>\n      <td>[0, 1, 1, 1, 1, 1, 1, 0, 1, 1, 1, 1, 1]</td>\n      <td>[59.805664, 59.749221, 59.747942, 59.737167777...</td>\n      <td>[10.290383, 10.26819, 10.291249, 10.3725904226...</td>\n      <td>2024-08-06</td>\n      <td>13</td>\n    </tr>\n    <tr>\n      <th>18559</th>\n      <td>[10076, 8785, 9172, 7204, 6955, 5902, 7045]</td>\n      <td>[10076, 8785, 9172, 7204, 6955, 5902, 7045]</td>\n      <td>877</td>\n      <td>1</td>\n      <td>Tuesday</td>\n      <td>1.000000</td>\n      <td>[1, 0, 0, 0, 0, 0, 0]</td>\n      <td>[0, 1, 1, 1, 1, 1, 1]</td>\n      <td>[60.007627, 59.923836, 59.93422, 59.811373, 59...</td>\n      <td>[11.047135, 10.814451, 10.800594, 10.80755, 10...</td>\n      <td>2024-08-06</td>\n      <td>7</td>\n    </tr>\n    <tr>\n      <th>18560</th>\n      <td>[7166, 7127, 7166, 9527]</td>\n      <td>[7166, 7166, 7127, 9527]</td>\n      <td>1417</td>\n      <td>1</td>\n      <td>Wednesday</td>\n      <td>0.875000</td>\n      <td>[1, 0, 1, 0]</td>\n      <td>[0, 1, 0, 1]</td>\n      <td>[59.805664, 59.795058, 59.805664, 59.948098894...</td>\n      <td>[10.290383, 10.279009, 10.290383, 10.771520299...</td>\n      <td>2024-08-07</td>\n      <td>4</td>\n    </tr>\n    <tr>\n      <th>18561</th>\n      <td>[7166, 5428, 5394, 5385, 5347, 4633, 4350, 431...</td>\n      <td>[7166, 5428, 5394, 5385, 5347, 4633, 4350, 431...</td>\n      <td>723</td>\n      <td>1</td>\n      <td>Wednesday</td>\n      <td>1.000000</td>\n      <td>[1, 0, 0, 0, 0, 0, 0, 0, 0, 0, 0, 0]</td>\n      <td>[0, 1, 1, 1, 1, 1, 1, 1, 1, 1, 0, 1]</td>\n      <td>[59.805664, 59.420838, 59.415188, 59.414098, 5...</td>\n      <td>[10.290383, 10.488199, 10.496616, 10.487423, 1...</td>\n      <td>2024-08-07</td>\n      <td>12</td>\n    </tr>\n  </tbody>\n</table>\n<p>18562 rows × 12 columns</p>\n</div>"
     },
     "execution_count": 21,
     "metadata": {},
     "output_type": "execute_result"
    }
   ],
   "source": [
    "final_routes = pd.DataFrame({\n",
    "    'routes': completed_routes_df['planned_route_craft'].tolist(),\n",
    "    'actual_routes': completed_routes_df['actual_route_location'].tolist(),\n",
    "    'driver_id': completed_routes_df['driver_id'].tolist() ,\n",
    "    'last_two_weeks_count': completed_routes_df['last_two_weeks_count'].tolist(),\n",
    "    'day_of_week': completed_routes_df['day_of_week'].tolist(),\n",
    "    'score': completed_routes_df['score'].tolist(),\n",
    "    'location_is_depot': completed_routes_df['location_is_depot'].tolist(),\n",
    "    'location_type_id': completed_routes_df['location_type_id'].tolist(),\n",
    "    # 'distance_route': completed_routes_df['distance_route'].tolist(),\n",
    "    'current_lat': completed_routes_df['current_lat'].tolist(),\n",
    "    'current_lng': completed_routes_df['current_lng'].tolist(),\n",
    "    'date': completed_routes_df['date'].tolist(),\n",
    "})\n",
    "final_routes['len'] = final_routes['routes'].apply(lambda x: len(x))\n",
    "final_routes\n",
    "\n",
    "# [0] * len(artificial_planned_routes)\n",
    "# artificial_planned_routes['distance_route'].tolist()\n",
    "# artificial_planned_routes['driver_id'].tolist()\n",
    "# artificial_planned_routes['common_subsequence'].tolist()"
   ],
   "metadata": {
    "collapsed": false,
    "pycharm": {
     "name": "#%%\n"
    }
   }
  },
  {
   "cell_type": "code",
   "execution_count": 54,
   "outputs": [],
   "source": [
    "preparing_data = final_routes.copy()"
   ],
   "metadata": {
    "collapsed": false,
    "pycharm": {
     "name": "#%%\n"
    }
   }
  },
  {
   "cell_type": "code",
   "execution_count": 24,
   "outputs": [
    {
     "data": {
      "text/plain": "36"
     },
     "execution_count": 24,
     "metadata": {},
     "output_type": "execute_result"
    }
   ],
   "source": [
    "def determine_country(lat, lng):\n",
    "    if 57.5 <= lat <= 71.2 and 4.0 <= lng <= 31.0:\n",
    "        return 0  # Norway\n",
    "    elif 54.5 <= lat <= 57.8 and 8.0 <= lng <= 15.0:\n",
    "        return 1  # Denmark\n",
    "    else:\n",
    "        return 1\n",
    "final_routes['country_flag'] = final_routes.apply(lambda row: determine_country(row['current_lat'][0], row['current_lng'][0]), axis=1)\n",
    "\n",
    "max([len(i) for i in final_routes['routes']])"
   ],
   "metadata": {
    "collapsed": false,
    "pycharm": {
     "name": "#%%\n"
    }
   }
  },
  {
   "cell_type": "code",
   "execution_count": 23,
   "outputs": [
    {
     "name": "stdout",
     "output_type": "stream",
     "text": [
      "10704\n"
     ]
    }
   ],
   "source": [
    "#create dictionary and encode to smaller unique numbers\n",
    "locations_dic = {}\n",
    "location_count = {}\n",
    "k = 1\n",
    "for row in final_routes['routes']:\n",
    "   for location in row:\n",
    "       if location not in locations_dic:\n",
    "           locations_dic[location] = k\n",
    "           k += 1\n",
    "k = 1\n",
    "print(len(locations_dic))\n",
    "\n",
    "for row in final_routes['routes']:\n",
    "   for location in row:\n",
    "       if location not in location_count:\n",
    "            location_count[location] = 1\n",
    "       else:\n",
    "            location_count[location] += 1\n"
   ],
   "metadata": {
    "collapsed": false,
    "pycharm": {
     "name": "#%%\n"
    }
   }
  },
  {
   "cell_type": "code",
   "execution_count": 25,
   "outputs": [
    {
     "name": "stdout",
     "output_type": "stream",
     "text": [
      "Total number of drivers 395\n",
      "correlation -0.13121186778744828\n",
      "correlation 36\n"
     ]
    }
   ],
   "source": [
    "drivers_dic = {}\n",
    "k = 1\n",
    "for driver in final_routes['driver_id']:\n",
    "    if driver not in drivers_dic:\n",
    "        drivers_dic[driver] = k\n",
    "        k += 1\n",
    "print('Total number of drivers', len(drivers_dic))\n",
    "total_drivers = len(drivers_dic)\n",
    "encoding_drivers = []\n",
    "for driver in final_routes['driver_id']:\n",
    "    encoding_drivers.append(drivers_dic[driver])\n",
    "#\n",
    "final_routes['driver_id_sorted'] = encoding_drivers\n",
    "final_routes['day_of_week_encoded'] = pd.Categorical(final_routes['day_of_week']).codes+1\n",
    "\n",
    "def encode_day_of_week(row):\n",
    "    a = np.zeros((36, 7), dtype=int)\n",
    "    route_len = row['len']\n",
    "    day_encoded = row['day_of_week_encoded']\n",
    "    for i in range(36 - route_len, len(a)):\n",
    "        a[i][day_encoded-1] = 1\n",
    "    return a\n",
    "\n",
    "def encode_day_of_week_simple(row):\n",
    "    a = np.zeros(7, dtype=int)\n",
    "    day_encoded = row['day_of_week_encoded']\n",
    "    a[day_encoded - 1] = 1\n",
    "    return a\n",
    "\n",
    "final_routes['experience_feature'] = final_routes.apply(lambda x: x['len'] * [x['last_two_weeks_count']], axis = 1)\n",
    "final_routes['len_feature'] = final_routes.apply(lambda x: x['len'] * [x['len']], axis = 1)\n",
    "final_routes['driver_id_feature'] = final_routes.apply(lambda x: x['len'] * [x['driver_id_sorted']], axis = 1)\n",
    "final_routes['country_flag_feature'] = final_routes.apply(lambda x: x['len'] * [x['country_flag']], axis = 1)\n",
    "final_routes['day_of_week_feature'] = final_routes.apply(encode_day_of_week, axis = 1)\n",
    "final_routes['day_of_week_encoded_ext'] = final_routes.apply(encode_day_of_week_simple, axis = 1)\n",
    "\n",
    "encoding_routes = []\n",
    "for row in final_routes['routes']:\n",
    "    encoding_route = []\n",
    "    for location in row:\n",
    "        encoding_route.append(locations_dic[location])\n",
    "    encoding_routes.append(encoding_route)\n",
    "final_routes['routes'] = encoding_routes\n",
    "\n",
    "print('correlation', final_routes['len'].corr(final_routes['score']))\n",
    "print('correlation', max(final_routes['len']))\n",
    "# final_routes = pd.concat([final_routes, pd.get_dummies(final_routes['driver_id_sorted'], prefix='encoding_drivers')], axis=1)"
   ],
   "metadata": {
    "collapsed": false,
    "pycharm": {
     "name": "#%%\n"
    }
   }
  },
  {
   "cell_type": "code",
   "execution_count": 35,
   "outputs": [],
   "source": [
    "np.random.seed(42)\n",
    "final_routes['date'] = pd.to_datetime(final_routes['date'])\n",
    "final_routes['tie_breaker'] = range(len(final_routes))\n",
    "final_routes = final_routes.sort_values(by=['date', 'tie_breaker'], ascending=[True, True])\n",
    "final_routes = final_routes.reset_index(drop=True)\n",
    "final_routes = final_routes.drop('tie_breaker', axis=1)\n",
    "final_routes['score_cumulative_avg'] = final_routes.groupby(['driver_id_sorted', 'day_of_week'])['score'].transform(\n",
    "        lambda x: x.expanding().mean()\n",
    "    )\n",
    "final_routes['score_avg_total'] = final_routes['score'].expanding().mean()\n",
    "\n",
    "final_routes['score_cumulative_driver'] = final_routes.groupby(['driver_id_sorted'])['score'].transform(\n",
    "        lambda x: x.expanding().mean()\n",
    "    )"
   ],
   "metadata": {
    "collapsed": false,
    "pycharm": {
     "name": "#%%\n"
    }
   }
  },
  {
   "cell_type": "markdown",
   "source": [
    "# Average benchmark here"
   ],
   "metadata": {
    "collapsed": false,
    "pycharm": {
     "name": "#%% md\n"
    }
   }
  },
  {
   "cell_type": "code",
   "execution_count": 36,
   "outputs": [],
   "source": [
    "# result = final_routes.groupby('driver_id_sorted')[['driver_id_sorted', 'score']].apply(\n",
    "#     lambda x: pd.Series({'count': len(x), 'score': x['score'].tolist()})\n",
    "# ).reset_index()\n",
    "#\n",
    "# sorted_result = result.sort_values(by='count', ascending=False).reset_index(drop=True)\n"
   ],
   "metadata": {
    "collapsed": false,
    "pycharm": {
     "name": "#%%\n"
    }
   }
  },
  {
   "cell_type": "code",
   "execution_count": 47,
   "outputs": [
    {
     "name": "stderr",
     "output_type": "stream",
     "text": [
      "/var/folders/0j/mpbqwzf51p38zw2w423xp1fw0000gn/T/ipykernel_16575/1614851030.py:44: DeprecationWarning: DataFrameGroupBy.apply operated on the grouping columns. This behavior is deprecated, and in a future version of pandas the grouping columns will be excluded from the operation. Either pass `include_groups=False` to exclude the groupings or explicitly select the grouping columns after groupby to silence this warning.\n",
      "  final_routes_split = final_routes.groupby(['driver_id_sorted', 'day_of_week']).apply(split_group).reset_index(drop=True)\n"
     ]
    },
    {
     "name": "stdout",
     "output_type": "stream",
     "text": [
      "Total number of drivers 316\n",
      "10538\n",
      "17354\n",
      "13555 2167 1632\n",
      "Validation Metrics:\n",
      "MSE: 0.024604169105929698, RMSE: 0.1568571614747943, MAE: 0.11378687399726202, R2: 0.24157457130178417\n",
      "\n",
      "Test Metrics:\n",
      "MSE: 0.03282877715944816, RMSE: 0.18118713298534242, MAE: 0.14798068651152962, R2: -0.0018104256142486008\n"
     ]
    },
    {
     "data": {
      "text/plain": "                                                  routes     score  prediction\n18                       [1, 16, 4, 5, 5, 9, 7, 6, 3, 8]  0.620000    0.826289\n19                          [1, 16, 9, 5, 5, 4, 8, 6, 7]  0.800000    0.826289\n36                      [1, 4, 3, 16, 9, 15, 5, 5, 6, 7]  0.700000    0.826289\n37               [1, 15, 9, 16, 14, 3, 8, 4, 5, 5, 6, 7]  0.500000    0.826289\n55                [1, 1, 16, 9, 4, 8, 3, 14, 5, 5, 6, 7]  0.736111    0.826289\n...                                                  ...       ...         ...\n17270  [2152, 6835, 5467, 4920, 5465, 4621, 5794, 579...  1.000000    0.826289\n17278  [1, 23, 29, 836, 835, 841, 842, 833, 839, 846,...  0.972222    0.826289\n17294  [1, 1551, 1552, 1592, 452, 1245, 1591, 1568, 1...  0.976190    0.826289\n17302  [2152, 2200, 2214, 2215, 2223, 2201, 2201, 220...  1.000000    0.826289\n17322  [8736, 10361, 10048, 9965, 9967, 10364, 10374,...  0.726562    0.826289\n\n[1632 rows x 3 columns]",
      "text/html": "<div>\n<style scoped>\n    .dataframe tbody tr th:only-of-type {\n        vertical-align: middle;\n    }\n\n    .dataframe tbody tr th {\n        vertical-align: top;\n    }\n\n    .dataframe thead th {\n        text-align: right;\n    }\n</style>\n<table border=\"1\" class=\"dataframe\">\n  <thead>\n    <tr style=\"text-align: right;\">\n      <th></th>\n      <th>routes</th>\n      <th>score</th>\n      <th>prediction</th>\n    </tr>\n  </thead>\n  <tbody>\n    <tr>\n      <th>18</th>\n      <td>[1, 16, 4, 5, 5, 9, 7, 6, 3, 8]</td>\n      <td>0.620000</td>\n      <td>0.826289</td>\n    </tr>\n    <tr>\n      <th>19</th>\n      <td>[1, 16, 9, 5, 5, 4, 8, 6, 7]</td>\n      <td>0.800000</td>\n      <td>0.826289</td>\n    </tr>\n    <tr>\n      <th>36</th>\n      <td>[1, 4, 3, 16, 9, 15, 5, 5, 6, 7]</td>\n      <td>0.700000</td>\n      <td>0.826289</td>\n    </tr>\n    <tr>\n      <th>37</th>\n      <td>[1, 15, 9, 16, 14, 3, 8, 4, 5, 5, 6, 7]</td>\n      <td>0.500000</td>\n      <td>0.826289</td>\n    </tr>\n    <tr>\n      <th>55</th>\n      <td>[1, 1, 16, 9, 4, 8, 3, 14, 5, 5, 6, 7]</td>\n      <td>0.736111</td>\n      <td>0.826289</td>\n    </tr>\n    <tr>\n      <th>...</th>\n      <td>...</td>\n      <td>...</td>\n      <td>...</td>\n    </tr>\n    <tr>\n      <th>17270</th>\n      <td>[2152, 6835, 5467, 4920, 5465, 4621, 5794, 579...</td>\n      <td>1.000000</td>\n      <td>0.826289</td>\n    </tr>\n    <tr>\n      <th>17278</th>\n      <td>[1, 23, 29, 836, 835, 841, 842, 833, 839, 846,...</td>\n      <td>0.972222</td>\n      <td>0.826289</td>\n    </tr>\n    <tr>\n      <th>17294</th>\n      <td>[1, 1551, 1552, 1592, 452, 1245, 1591, 1568, 1...</td>\n      <td>0.976190</td>\n      <td>0.826289</td>\n    </tr>\n    <tr>\n      <th>17302</th>\n      <td>[2152, 2200, 2214, 2215, 2223, 2201, 2201, 220...</td>\n      <td>1.000000</td>\n      <td>0.826289</td>\n    </tr>\n    <tr>\n      <th>17322</th>\n      <td>[8736, 10361, 10048, 9965, 9967, 10364, 10374,...</td>\n      <td>0.726562</td>\n      <td>0.826289</td>\n    </tr>\n  </tbody>\n</table>\n<p>1632 rows × 3 columns</p>\n</div>"
     },
     "execution_count": 47,
     "metadata": {},
     "output_type": "execute_result"
    }
   ],
   "source": [
    "from sklearn.metrics import mean_squared_error, mean_absolute_error, r2_score\n",
    "import matplotlib.pyplot as plt\n",
    "def get_predictions(df, scores_dict):\n",
    "    def predict(row):\n",
    "        # Try to get the score from the main dictionary\n",
    "        label = scores_dict.get((row['driver_id_sorted'], row['day_of_week']))\n",
    "\n",
    "        # If not found, fall back to the driver-only dictionary\n",
    "        if label is None:\n",
    "            print('1')\n",
    "            return 0.5\n",
    "        else:\n",
    "            return label\n",
    "\n",
    "    return df.apply(predict, axis=1)\n",
    "\n",
    "extra_to_val = True\n",
    "def split_group(group):\n",
    "    n = len(group)\n",
    "    if n < 4:  # Ensure at least 1 sample for train and 1 each for val and test\n",
    "        return pd.DataFrame()\n",
    "\n",
    "    # Calculate sizes for each split\n",
    "    train_size = max(int(n * 0.8), n - 4)  # Ensure at least 2 samples total for val and test\n",
    "    val_test_size = n - train_size\n",
    "\n",
    "    # Always give the extra sample to val when odd\n",
    "    val_size = (val_test_size + 1) // 2  # This will be larger when val_test_size is odd\n",
    "    test_size = val_test_size - val_size\n",
    "\n",
    "    return pd.concat([\n",
    "        group.iloc[:train_size].assign(split='train'),\n",
    "        group.iloc[train_size:train_size+val_size].assign(split='val'),\n",
    "        group.iloc[train_size+val_size:].assign(split='test')\n",
    "    ])\n",
    "\n",
    "def calculate_metrics(y_true, y_pred):\n",
    "    mse = mean_squared_error(y_true, y_pred)\n",
    "    rmse = np.sqrt(mse)\n",
    "    mae = mean_absolute_error(y_true, y_pred)\n",
    "    r2 = r2_score(y_true, y_pred)\n",
    "    return mse, rmse, mae, r2\n",
    "\n",
    "final_routes_split = final_routes.groupby(['driver_id_sorted', 'day_of_week']).apply(split_group).reset_index(drop=True)\n",
    "\n",
    "drivers_dic = {}\n",
    "k = 1\n",
    "for driver in final_routes_split['driver_id']:\n",
    "    if driver not in drivers_dic:\n",
    "        drivers_dic[driver] = k\n",
    "        k += 1\n",
    "print('Total number of drivers', len(drivers_dic))\n",
    "total_drivers = len(drivers_dic)\n",
    "encoding_drivers = []\n",
    "for driver in final_routes_split['driver_id']:\n",
    "    encoding_drivers.append(drivers_dic[driver])\n",
    "#\n",
    "final_routes_split['driver_id_sorted'] = encoding_drivers\n",
    "\n",
    "locations_dic = {}\n",
    "location_count = {}\n",
    "k = 1\n",
    "for row in final_routes_split['routes']:\n",
    "   for location in row:\n",
    "       if location not in locations_dic:\n",
    "           locations_dic[location] = k\n",
    "           k += 1\n",
    "k = 1\n",
    "print(len(locations_dic))\n",
    "\n",
    "for row in final_routes_split['routes']:\n",
    "   for location in row:\n",
    "       if location not in location_count:\n",
    "            location_count[location] = 1\n",
    "       else:\n",
    "            location_count[location] += 1\n",
    "encoding_routes = []\n",
    "for row in final_routes_split['routes']:\n",
    "    encoding_route = []\n",
    "    for location in row:\n",
    "        encoding_route.append(locations_dic[location])\n",
    "    encoding_routes.append(encoding_route)\n",
    "final_routes_split['routes'] = encoding_routes\n",
    "\n",
    "# Separate into train, validation, and test sets\n",
    "print(len(final_routes_split))\n",
    "train_df = final_routes_split[final_routes_split['split'] == 'train'].drop('split', axis=1)\n",
    "val_df = final_routes_split[final_routes_split['split'] == 'val'].drop('split', axis=1)\n",
    "test_df = final_routes_split[final_routes_split['split'] == 'test'].drop('split', axis=1)\n",
    "\n",
    "print(len(train_df), len(val_df), len(test_df))\n",
    "combined_df = pd.concat([train_df, val_df, test_df], axis=0)\n",
    "combined_df = combined_df.reset_index(drop=True)\n",
    "\n",
    "val_y_true = val_df['score']\n",
    "average_scores_dict = train_df.groupby(['driver_id_sorted', 'day_of_week'])['score_cumulative_avg'].last().to_dict()\n",
    "total_avg = train_df['score_avg_total'].iloc[-1]\n",
    "val_y_pred = get_predictions(val_df, average_scores_dict)\n",
    "val_mse, val_rmse, val_mae, val_r2 = calculate_metrics(val_y_true, val_y_pred)\n",
    "\n",
    "\n",
    "# Calculate metrics for test set\n",
    "test_y_true = test_df['score']\n",
    "test_y_pred = get_predictions(test_df, average_scores_dict)\n",
    "test_mse, test_rmse, test_mae, test_r2 = calculate_metrics(test_y_true, test_y_pred)\n",
    "\n",
    "#Global HA\n",
    "test_mse, test_rmse, test_mae, test_r2 = calculate_metrics(test_y_true, [total_avg] * len(test_y_true))\n",
    "\n",
    "test_df_group_HA = test_df.copy()\n",
    "# test_df_group_HA['prediction'] = test_y_pred\n",
    "test_df_group_HA['prediction'] = [total_avg] * len(test_y_true)\n",
    "# Print results\n",
    "print(\"Validation Metrics:\")\n",
    "print(f\"MSE: {val_mse}, RMSE: {val_rmse}, MAE: {val_mae}, R2: {val_r2}\")\n",
    "print(\"\\nTest Metrics:\")\n",
    "print(f\"MSE: {test_mse}, RMSE: {test_rmse}, MAE: {test_mae}, R2: {test_r2}\")\n",
    "test_df_group_HA[['routes', 'score', 'prediction']]"
   ],
   "metadata": {
    "collapsed": false,
    "pycharm": {
     "name": "#%%\n"
    }
   }
  },
  {
   "cell_type": "code",
   "execution_count": 48,
   "outputs": [],
   "source": [
    "def plot_prediction_score_difference(df, model_name):\n",
    "    # Calculate the difference\n",
    "    df['difference'] = df['prediction'] - df['score']\n",
    "    print(df['prediction'], df['score'])\n",
    "    # Create the plot\n",
    "    plt.figure(figsize=(12, 6))\n",
    "    plt.plot(range(len(df)), df['difference'], 'b-')\n",
    "    plt.axhline(y=0, color='r', linestyle='--')\n",
    "\n",
    "    # plt.title(f'{model_name}: Difference between Prediction and Score', fontsize=16)\n",
    "    plt.xlabel('Test routes (in original order)', fontsize=22)\n",
    "    plt.ylabel('Prediction - Score', fontsize=22)\n",
    "\n",
    "    plt.ylim(-1, 1)\n",
    "\n",
    "    # Add summary statistics\n",
    "    mean_diff = np.abs(df['difference']).mean()\n",
    "    std_diff = np.abs(df['difference']).std()\n",
    "    plt.text(0.02, 0.98, f'Mean difference: {mean_diff:.4f}\\nStd deviation: {std_diff:.4f}',\n",
    "             transform=plt.gca().transAxes, verticalalignment='top', fontsize=22)\n",
    "\n",
    "    plt.tight_layout()\n",
    "    plt.show()\n",
    "\n",
    "    # Print additional statistics\n",
    "    print(f\"\\nStatistics for {model_name}:\")\n",
    "    print(f\"Mean difference: {mean_diff:.4f}\")\n",
    "    print(f\"Std deviation: {std_diff:.4f}\")\n",
    "    print(f\"Min difference: {df['difference'].min():.4f}\")\n",
    "    print(f\"Max difference: {df['difference'].max():.4f}\")"
   ],
   "metadata": {
    "collapsed": false,
    "pycharm": {
     "name": "#%%\n"
    }
   }
  },
  {
   "cell_type": "code",
   "execution_count": 49,
   "outputs": [],
   "source": [
    "from scipy import stats\n",
    "def compare_model_scores(df1, df2):\n",
    "    diff1 = df1['prediction'] - df1['score']\n",
    "    diff2 = df2['prediction'] - df2['score']\n",
    "\n",
    "    # Perform t-test\n",
    "    t_stat, p_value = stats.ttest_ind(diff1, diff2)\n",
    "    print(t_stat, p_value)\n"
   ],
   "metadata": {
    "collapsed": false,
    "pycharm": {
     "name": "#%%\n"
    }
   }
  },
  {
   "cell_type": "markdown",
   "source": [
    "# After benchmark, continue model"
   ],
   "metadata": {
    "collapsed": false,
    "pycharm": {
     "name": "#%% md\n"
    }
   }
  },
  {
   "cell_type": "code",
   "execution_count": 50,
   "outputs": [
    {
     "name": "stdout",
     "output_type": "stream",
     "text": [
      "18       0.826289\n",
      "19       0.826289\n",
      "36       0.826289\n",
      "37       0.826289\n",
      "55       0.826289\n",
      "           ...   \n",
      "17270    0.826289\n",
      "17278    0.826289\n",
      "17294    0.826289\n",
      "17302    0.826289\n",
      "17322    0.826289\n",
      "Name: prediction, Length: 1632, dtype: float64 18       0.620000\n",
      "19       0.800000\n",
      "36       0.700000\n",
      "37       0.500000\n",
      "55       0.736111\n",
      "           ...   \n",
      "17270    1.000000\n",
      "17278    0.972222\n",
      "17294    0.976190\n",
      "17302    1.000000\n",
      "17322    0.726562\n",
      "Name: score, Length: 1632, dtype: float64\n"
     ]
    },
    {
     "data": {
      "text/plain": "<Figure size 1200x600 with 1 Axes>",
      "image/png": "[encoded data removed]"
     },
     "metadata": {},
     "output_type": "display_data"
    },
    {
     "name": "stdout",
     "output_type": "stream",
     "text": [
      "\n",
      "Statistics for HA Model:\n",
      "Mean difference: 0.1480\n",
      "Std deviation: 0.1046\n",
      "Min difference: -0.1737\n",
      "Max difference: 0.7013\n"
     ]
    }
   ],
   "source": [
    "plot_prediction_score_difference(test_df_group_HA, 'HA Model')\n",
    "\n"
   ],
   "metadata": {
    "collapsed": false,
    "pycharm": {
     "name": "#%%\n"
    }
   }
  },
  {
   "cell_type": "code",
   "execution_count": 51,
   "outputs": [
    {
     "name": "stdout",
     "output_type": "stream",
     "text": [
      "13555 2167 1632\n",
      "Validation Set Metrics:\n",
      "MSE: 0.0246\n",
      "RMSE: 0.1567\n",
      "MAE: 0.1137\n",
      "R2: 0.2428\n",
      "\n",
      "Test Set Metrics:\n",
      "MSE: 0.0240\n",
      "RMSE: 0.1550\n",
      "MAE: 0.1152\n",
      "R2: 0.2664\n"
     ]
    }
   ],
   "source": [
    "from sklearn.ensemble import RandomForestRegressor\n",
    "from sklearn.metrics import mean_squared_error, mean_absolute_error, r2_score\n",
    "import numpy as np\n",
    "import pandas as pd\n",
    "import matplotlib.pyplot as plt\n",
    "\n",
    "# Assuming final_routes dataframe is available and sorted by date\n",
    "# If not, make sure to sort it by date first\n",
    "\n",
    "# Prepare the data\n",
    "rf_df = final_routes_split[['driver_id_sorted', 'day_of_week_encoded', 'score', 'split']]\n",
    "o_day_of = pd.get_dummies(rf_df['day_of_week_encoded'], prefix='day')\n",
    "o_driver = pd.get_dummies(rf_df['driver_id_sorted'], prefix='driver')\n",
    "rf_df = pd.concat([o_day_of, o_driver, rf_df['split'], rf_df['score']], axis=1)\n",
    "\n",
    "\n",
    "for col in rf_df.columns:\n",
    "    if col != 'split' and col != 'score':\n",
    "        rf_df[col] = rf_df[col].astype(int)\n",
    "\n",
    "train_df = rf_df[rf_df['split'] == 'train'].drop('split', axis=1)\n",
    "val_df = rf_df[rf_df['split'] == 'val'].drop('split', axis=1)\n",
    "test_df = rf_df[rf_df['split'] == 'test'].drop('split', axis=1)\n",
    "\n",
    "# Create X_train and y_train\n",
    "X_train = train_df.drop('score', axis=1)\n",
    "y_train = train_df['score']\n",
    "\n",
    "# Create X_val and y_val (optional, but often useful)\n",
    "X_val = val_df.drop('score', axis=1)\n",
    "y_val = val_df['score']\n",
    "\n",
    "# Create X_test and y_test (optional, but often useful)\n",
    "X_test = test_df.drop('score', axis=1)\n",
    "y_test = test_df['score']\n",
    "\n",
    "print(len(train_df), len(val_df), len(test_df))\n",
    "#\n",
    "#\n",
    "# Train the model\n",
    "model = RandomForestRegressor(random_state=42)\n",
    "model.fit(X_train, y_train)\n",
    "\n",
    "# Function to calculate metrics\n",
    "def calculate_metrics(y_true, y_pred):\n",
    "    mse = mean_squared_error(y_true, y_pred)\n",
    "    rmse = np.sqrt(mse)\n",
    "    mae = mean_absolute_error(y_true, y_pred)\n",
    "    r2 = r2_score(y_true, y_pred)\n",
    "    return mse, rmse, mae, r2\n",
    "\n",
    "# Evaluate on validation set\n",
    "y_val_pred = model.predict(X_val)\n",
    "val_mse, val_rmse, val_mae, val_r2 = calculate_metrics(y_val, y_val_pred)\n",
    "\n",
    "# Evaluate on test set\n",
    "y_test_pred = model.predict(X_test)\n",
    "test_mse, test_rmse, test_mae, test_r2 = calculate_metrics(y_test, y_test_pred)\n",
    "\n",
    "# Print metrics\n",
    "print(\"Validation Set Metrics:\")\n",
    "print(f\"MSE: {val_mse:.4f}\")\n",
    "print(f\"RMSE: {val_rmse:.4f}\")\n",
    "print(f\"MAE: {val_mae:.4f}\")\n",
    "print(f\"R2: {val_r2:.4f}\")\n",
    "\n",
    "print(\"\\nTest Set Metrics:\")\n",
    "print(f\"MSE: {test_mse:.4f}\")\n",
    "print(f\"RMSE: {test_rmse:.4f}\")\n",
    "print(f\"MAE: {test_mae:.4f}\")\n",
    "print(f\"R2: {test_r2:.4f}\")\n",
    "\n"
   ],
   "metadata": {
    "collapsed": false,
    "pycharm": {
     "name": "#%%\n"
    }
   }
  },
  {
   "cell_type": "code",
   "execution_count": 55,
   "outputs": [
    {
     "name": "stdout",
     "output_type": "stream",
     "text": [
      "Epoch [10/100], Train Loss: 0.5552, Val Loss: 0.5615\n",
      "Epoch [20/100], Train Loss: 0.3625, Val Loss: 0.3629\n",
      "Epoch [30/100], Train Loss: 0.1782, Val Loss: 0.1743\n",
      "Epoch [40/100], Train Loss: 0.0562, Val Loss: 0.0532\n",
      "Epoch [50/100], Train Loss: 0.0312, Val Loss: 0.0294\n",
      "Epoch [60/100], Train Loss: 0.0315, Val Loss: 0.0284\n",
      "Epoch [70/100], Train Loss: 0.0238, Val Loss: 0.0238\n",
      "Epoch [80/100], Train Loss: 0.0224, Val Loss: 0.0243\n",
      "Epoch [90/100], Train Loss: 0.0217, Val Loss: 0.0238\n",
      "Epoch [100/100], Train Loss: 0.0212, Val Loss: 0.0232\n",
      "\n",
      "Test Set Metrics:\n",
      "MSE: 0.022494111210107803\n",
      "RMSE: 0.149980366230011\n",
      "MAE: 0.11430604755878448\n",
      "R2: 0.31356459820611315\n"
     ]
    }
   ],
   "source": [
    "import torch\n",
    "import torch.nn as nn\n",
    "import torch.optim as optim\n",
    "from sklearn.model_selection import KFold\n",
    "from sklearn.metrics import mean_squared_error, mean_absolute_error, r2_score\n",
    "import numpy as np\n",
    "import pandas as pd\n",
    "import os\n",
    "import random\n",
    "\n",
    "def set_seed(seed):\n",
    "    random.seed(seed)\n",
    "    np.random.seed(seed)\n",
    "    torch.manual_seed(seed)\n",
    "    torch.cuda.manual_seed(seed)\n",
    "    torch.cuda.manual_seed_all(seed)\n",
    "    torch.backends.cudnn.deterministic = True\n",
    "    torch.backends.cudnn.benchmark = False\n",
    "    os.environ['PYTHONHASHSEED'] = str(seed)\n",
    "    os.environ['CUBLAS_WORKSPACE_CONFIG'] = ':4096:8'\n",
    "    torch.use_deterministic_algorithms(True)\n",
    "\n",
    "set_seed(42)\n",
    "\n",
    "class SimpleNN(nn.Module):\n",
    "    def __init__(self, input_size):\n",
    "        super(SimpleNN, self).__init__()\n",
    "        self.layer1 = nn.Linear(input_size, 128)\n",
    "        self.layer2 = nn.Linear(128, 1)\n",
    "        self.relu = nn.ReLU()\n",
    "\n",
    "    def forward(self, x):\n",
    "        x = self.relu(self.layer1(x))\n",
    "        x = self.layer2(x)\n",
    "        return x\n",
    "\n",
    "# Convert data to PyTorch tensors\n",
    "X_train_tensor = torch.tensor(X_train.values, dtype=torch.float32)\n",
    "y_train_tensor = torch.tensor(y_train.values, dtype=torch.float32).view(-1, 1)\n",
    "X_val_tensor = torch.tensor(X_val.values, dtype=torch.float32)\n",
    "y_val_tensor = torch.tensor(y_val.values, dtype=torch.float32).view(-1, 1)\n",
    "X_test_tensor = torch.tensor(X_test.values, dtype=torch.float32)\n",
    "y_test_tensor = torch.tensor(y_test.values, dtype=torch.float32).view(-1, 1)\n",
    "\n",
    "# Training settings\n",
    "num_epochs = 100\n",
    "learning_rate = 0.001\n",
    "\n",
    "model = SimpleNN(X_train.shape[1])\n",
    "criterion = nn.MSELoss()\n",
    "optimizer = optim.Adam(model.parameters(), lr=learning_rate)\n",
    "\n",
    "# Training and validation loop\n",
    "best_val_loss = float('inf')\n",
    "best_model = None\n",
    "\n",
    "for epoch in range(num_epochs):\n",
    "    model.train()\n",
    "    optimizer.zero_grad()\n",
    "    outputs = model(X_train_tensor)\n",
    "    loss = criterion(outputs, y_train_tensor)\n",
    "    loss.backward()\n",
    "    optimizer.step()\n",
    "\n",
    "    # Validation\n",
    "    model.eval()\n",
    "    with torch.no_grad():\n",
    "        val_outputs = model(X_val_tensor)\n",
    "        val_loss = criterion(val_outputs, y_val_tensor)\n",
    "\n",
    "    if val_loss < best_val_loss:\n",
    "        best_val_loss = val_loss\n",
    "        best_model = model.state_dict()\n",
    "\n",
    "    if (epoch + 1) % 10 == 0:\n",
    "        print(f'Epoch [{epoch+1}/{num_epochs}], Train Loss: {loss.item():.4f}, Val Loss: {val_loss.item():.4f}')\n",
    "\n",
    "# Load the best model\n",
    "model.load_state_dict(best_model)\n",
    "\n",
    "# Evaluation on test set\n",
    "model.eval()\n",
    "with torch.no_grad():\n",
    "    y_pred = model(X_test_tensor)\n",
    "    y_true = y_test_tensor\n",
    "\n",
    "y_pred = y_pred.numpy()\n",
    "y_true = y_true.numpy()\n",
    "\n",
    "mse = mean_squared_error(y_true, y_pred)\n",
    "rmse = np.sqrt(mse)\n",
    "mae = mean_absolute_error(y_true, y_pred)\n",
    "r2 = r2_score(y_true, y_pred)\n",
    "\n",
    "print(\"\\nTest Set Metrics:\")\n",
    "print(f\"MSE: {mse}\")\n",
    "print(f\"RMSE: {rmse}\")\n",
    "print(f\"MAE: {mae}\")\n",
    "print(f\"R2: {r2}\")"
   ],
   "metadata": {
    "collapsed": false,
    "pycharm": {
     "name": "#%%\n"
    }
   }
  },
  {
   "cell_type": "code",
   "execution_count": 53,
   "outputs": [],
   "source": [
    "# unique_days = final_routes['day_of_week'].unique()\n",
    "# day_of_week_encoded = pd.get_dummies(final_routes['day_of_week'], prefix='day_of_week')\n",
    "# final_routes = pd.concat([final_routes, day_of_week_encoded], axis=1)\n",
    "# final_routes"
   ],
   "metadata": {
    "collapsed": false,
    "pycharm": {
     "name": "#%%\n"
    }
   }
  },
  {
   "cell_type": "code",
   "execution_count": 36,
   "outputs": [
    {
     "name": "stdout",
     "output_type": "stream",
     "text": [
      "Total number of drivers 316\n"
     ]
    }
   ],
   "source": [
    "# drivers_dic = {}\n",
    "# k = 1\n",
    "# for driver in final_routes_split['driver_id_sorted']:\n",
    "#     if driver not in drivers_dic:\n",
    "#         drivers_dic[driver] = k\n",
    "#         k += 1\n",
    "# print('Total number of drivers', len(drivers_dic))\n",
    "# total_drivers = len(drivers_dic)\n",
    "# encoding_drivers = []\n",
    "# for driver in final_routes_split['driver_id_sorted']:\n",
    "#     encoding_drivers.append(drivers_dic[driver])\n",
    "# #\n",
    "# final_routes_split['driver_id_sorted'] = encoding_drivers\n"
   ],
   "metadata": {
    "collapsed": false,
    "pycharm": {
     "name": "#%%\n"
    }
   }
  },
  {
   "cell_type": "markdown",
   "source": [
    "# Model"
   ],
   "metadata": {
    "collapsed": false,
    "pycharm": {
     "name": "#%% md\n"
    }
   }
  },
  {
   "cell_type": "code",
   "execution_count": 56,
   "outputs": [
    {
     "data": {
      "text/plain": "                                                  routes  \\\n0                               [1, 2, 3, 4, 5, 5, 6, 7]   \n1                            [1, 2, 3, 8, 4, 5, 5, 6, 7]   \n2                            [1, 2, 3, 4, 5, 5, 7, 6, 8]   \n3                            [1, 2, 3, 8, 4, 5, 6, 9, 7]   \n4                            [1, 2, 3, 4, 5, 5, 6, 9, 7]   \n...                                                  ...   \n17349  [2152, 4637, 4637, 4636, 4638, 4639, 2400, 464...   \n17350  [2351, 2898, 10538, 2548, 8544, 2413, 2181, 29...   \n17351  [2351, 2354, 2395, 2788, 2351, 2527, 2373, 239...   \n17352               [2351, 2478, 2366, 2686, 2673, 2672]   \n17353         [2351, 2374, 2374, 2717, 2369, 2365, 2370]   \n\n                                           actual_routes  driver_id  \\\n0       [1167, 1405, 1560, 1413, 1391, 1391, 1434, 1269]     1255.0   \n1      [1167, 1405, 1577, 1560, 1413, 1391, 1391, 143...     1255.0   \n2      [1167, 1405, 1560, 1391, 1391, 1269, 1577, 143...     1255.0   \n3      [1167, 1405, 1168, 1560, 1577, 1413, 1391, 126...     1255.0   \n4      [1167, 1405, 1560, 1413, 1391, 1391, 1434, 126...     1255.0   \n...                                                  ...        ...   \n17349  [7166, 9311, 9311, 9604, 8209, 8188, 8277, 827...     1683.0   \n17350  [10001, 8408, 7940, 8455, 7992, 8276, 8314, 85...     1132.0   \n17351  [10001, 8499, 8249, 10177, 10001, 9736, 9498, ...     1132.0   \n17352              [10001, 5797, 7464, 5484, 4818, 4324]     1132.0   \n17353        [10001, 9052, 9052, 8341, 9364, 7049, 7716]     1132.0   \n\n       last_two_weeks_count day_of_week     score  \\\n0                       8.0      Monday  1.000000   \n1                      11.0      Monday  0.950000   \n2                      11.0      Monday  0.750000   \n3                      10.0      Monday  0.700000   \n4                      10.0      Monday  0.950000   \n...                     ...         ...       ...   \n17349                   1.0     Tuesday  0.734694   \n17350                  10.0      Friday  1.000000   \n17351                  10.0      Friday  1.000000   \n17352                   7.0      Friday  1.000000   \n17353                   5.0      Friday  1.000000   \n\n                                location_is_depot  \\\n0                        [1, 0, 0, 0, 0, 0, 0, 0]   \n1                     [1, 0, 0, 0, 0, 0, 0, 0, 0]   \n2                     [1, 0, 0, 0, 0, 0, 0, 0, 0]   \n3                     [1, 0, 0, 0, 0, 0, 0, 0, 0]   \n4                     [1, 0, 0, 0, 0, 0, 0, 0, 0]   \n...                                           ...   \n17349  [1, 0, 0, 0, 0, 0, 0, 0, 0, 0, 0, 0, 0, 0]   \n17350              [1, 0, 0, 0, 0, 0, 0, 0, 0, 0]   \n17351                 [1, 0, 0, 0, 1, 0, 0, 0, 0]   \n17352                          [1, 0, 0, 0, 0, 0]   \n17353                       [1, 0, 0, 0, 0, 0, 0]   \n\n                                 location_type_id  \\\n0                        [0, 1, 1, 1, 1, 1, 1, 1]   \n1                     [0, 1, 1, 1, 1, 1, 1, 1, 1]   \n2                     [0, 1, 1, 1, 1, 1, 1, 1, 1]   \n3                     [0, 1, 1, 1, 1, 1, 1, 1, 1]   \n4                     [0, 1, 1, 1, 1, 1, 1, 1, 1]   \n...                                           ...   \n17349  [0, 1, 1, 1, 1, 1, 1, 1, 1, 1, 1, 1, 1, 1]   \n17350              [0, 1, 1, 1, 1, 1, 1, 1, 1, 1]   \n17351                 [0, 1, 1, 1, 0, 1, 1, 1, 1]   \n17352                          [0, 1, 1, 1, 1, 1]   \n17353                       [0, 1, 1, 1, 1, 1, 1]   \n\n                                             current_lat  \\\n0      [55.64641920439919, 55.6669147, 55.6757322, 55...   \n1      [55.64641920439919, 55.6669147, 55.6757322, 55...   \n2      [55.64641920439919, 55.6669147, 55.6757322, 55...   \n3      [55.64641920439919, 55.6669147, 55.6757322, 55...   \n4      [55.64641920439919, 55.6669147, 55.6757322, 55...   \n...                                                  ...   \n17349  [59.805664, 59.93947939999999, 59.939479399999...   \n17350  [59.98883, 59.915849, 59.908422, 59.916528, 59...   \n17351  [59.98883, 59.917405, 59.913836, 60.047412, 59...   \n17352  [59.98883, 59.576297, 59.855923, 59.436834, 59...   \n17353  [59.98883, 59.930729, 59.930729, 59.914992, 59...   \n\n                                             current_lng  ...  \\\n0      [12.15372974969827, 12.5262801, 12.5619711, 12...  ...   \n1      [12.15372974969827, 12.5262801, 12.5619711, 12...  ...   \n2      [12.15372974969827, 12.5262801, 12.5619711, 12...  ...   \n3      [12.15372974969827, 12.5262801, 12.5619711, 12...  ...   \n4      [12.15372974969827, 12.5262801, 12.5619711, 12...  ...   \n...                                                  ...  ...   \n17349  [10.290383, 10.8291978, 10.8291978, 11.0489412...  ...   \n17350  [10.947692, 10.750834, 10.723568, 10.715331, 1...  ...   \n17351  [10.947692, 10.636047, 10.841898, 10.880604, 1...  ...   \n17352  [10.947692, 10.746172, 10.660825, 10.662897, 1...  ...   \n17353  [10.947692, 10.709962, 10.709962, 10.720439, 1...  ...   \n\n                               experience_feature  \\\n0                        [8, 8, 8, 8, 8, 8, 8, 8]   \n1            [11, 11, 11, 11, 11, 11, 11, 11, 11]   \n2            [11, 11, 11, 11, 11, 11, 11, 11, 11]   \n3            [10, 10, 10, 10, 10, 10, 10, 10, 10]   \n4            [10, 10, 10, 10, 10, 10, 10, 10, 10]   \n...                                           ...   \n17349  [1, 1, 1, 1, 1, 1, 1, 1, 1, 1, 1, 1, 1, 1]   \n17350    [10, 10, 10, 10, 10, 10, 10, 10, 10, 10]   \n17351        [10, 10, 10, 10, 10, 10, 10, 10, 10]   \n17352                          [7, 7, 7, 7, 7, 7]   \n17353                       [5, 5, 5, 5, 5, 5, 5]   \n\n                                             len_feature  \\\n0                               [8, 8, 8, 8, 8, 8, 8, 8]   \n1                            [9, 9, 9, 9, 9, 9, 9, 9, 9]   \n2                            [9, 9, 9, 9, 9, 9, 9, 9, 9]   \n3                            [9, 9, 9, 9, 9, 9, 9, 9, 9]   \n4                            [9, 9, 9, 9, 9, 9, 9, 9, 9]   \n...                                                  ...   \n17349  [14, 14, 14, 14, 14, 14, 14, 14, 14, 14, 14, 1...   \n17350           [10, 10, 10, 10, 10, 10, 10, 10, 10, 10]   \n17351                        [9, 9, 9, 9, 9, 9, 9, 9, 9]   \n17352                                 [6, 6, 6, 6, 6, 6]   \n17353                              [7, 7, 7, 7, 7, 7, 7]   \n\n                                       driver_id_feature  \\\n0                               [1, 1, 1, 1, 1, 1, 1, 1]   \n1                            [1, 1, 1, 1, 1, 1, 1, 1, 1]   \n2                            [1, 1, 1, 1, 1, 1, 1, 1, 1]   \n3                            [1, 1, 1, 1, 1, 1, 1, 1, 1]   \n4                            [1, 1, 1, 1, 1, 1, 1, 1, 1]   \n...                                                  ...   \n17349  [388, 388, 388, 388, 388, 388, 388, 388, 388, ...   \n17350  [391, 391, 391, 391, 391, 391, 391, 391, 391, ...   \n17351      [391, 391, 391, 391, 391, 391, 391, 391, 391]   \n17352                     [391, 391, 391, 391, 391, 391]   \n17353                [391, 391, 391, 391, 391, 391, 391]   \n\n                             country_flag_feature  \\\n0                        [1, 1, 1, 1, 1, 1, 1, 1]   \n1                     [1, 1, 1, 1, 1, 1, 1, 1, 1]   \n2                     [1, 1, 1, 1, 1, 1, 1, 1, 1]   \n3                     [1, 1, 1, 1, 1, 1, 1, 1, 1]   \n4                     [1, 1, 1, 1, 1, 1, 1, 1, 1]   \n...                                           ...   \n17349  [0, 0, 0, 0, 0, 0, 0, 0, 0, 0, 0, 0, 0, 0]   \n17350              [0, 0, 0, 0, 0, 0, 0, 0, 0, 0]   \n17351                 [0, 0, 0, 0, 0, 0, 0, 0, 0]   \n17352                          [0, 0, 0, 0, 0, 0]   \n17353                       [0, 0, 0, 0, 0, 0, 0]   \n\n                                     day_of_week_feature  \\\n0      [[0, 0, 0, 0, 0, 0, 0], [0, 0, 0, 0, 0, 0, 0],...   \n1      [[0, 0, 0, 0, 0, 0, 0], [0, 0, 0, 0, 0, 0, 0],...   \n2      [[0, 0, 0, 0, 0, 0, 0], [0, 0, 0, 0, 0, 0, 0],...   \n3      [[0, 0, 0, 0, 0, 0, 0], [0, 0, 0, 0, 0, 0, 0],...   \n4      [[0, 0, 0, 0, 0, 0, 0], [0, 0, 0, 0, 0, 0, 0],...   \n...                                                  ...   \n17349  [[0, 0, 0, 0, 0, 0, 0], [0, 0, 0, 0, 0, 0, 0],...   \n17350  [[0, 0, 0, 0, 0, 0, 0], [0, 0, 0, 0, 0, 0, 0],...   \n17351  [[0, 0, 0, 0, 0, 0, 0], [0, 0, 0, 0, 0, 0, 0],...   \n17352  [[0, 0, 0, 0, 0, 0, 0], [0, 0, 0, 0, 0, 0, 0],...   \n17353  [[0, 0, 0, 0, 0, 0, 0], [0, 0, 0, 0, 0, 0, 0],...   \n\n      day_of_week_encoded_ext score_cumulative_avg score_cumulative_driver  \\\n0       [0, 1, 0, 0, 0, 0, 0]             1.000000                1.000000   \n1       [0, 1, 0, 0, 0, 0, 0]             0.975000                0.923472   \n2       [0, 1, 0, 0, 0, 0, 0]             0.900000                0.889510   \n3       [0, 1, 0, 0, 0, 0, 0]             0.850000                0.867652   \n4       [0, 1, 0, 0, 0, 0, 0]             0.870000                0.854198   \n...                       ...                  ...                     ...   \n17349   [0, 0, 0, 0, 0, 1, 0]             0.843673                0.896884   \n17350   [1, 0, 0, 0, 0, 0, 0]             1.000000                0.972222   \n17351   [1, 0, 0, 0, 0, 0, 0]             1.000000                0.979167   \n17352   [1, 0, 0, 0, 0, 0, 0]             1.000000                0.974583   \n17353   [1, 0, 0, 0, 0, 0, 0]             1.000000                0.955278   \n\n      score_avg_total  split  \n0            1.000000  train  \n1            0.813865  train  \n2            0.813471  train  \n3            0.814953  train  \n4            0.815875  train  \n...               ...    ...  \n17349        0.826439    val  \n17350        0.826184  train  \n17351        0.826194  train  \n17352        0.826289  train  \n17353        0.826574    val  \n\n[17354 rows x 25 columns]",
      "text/html": "<div>\n<style scoped>\n    .dataframe tbody tr th:only-of-type {\n        vertical-align: middle;\n    }\n\n    .dataframe tbody tr th {\n        vertical-align: top;\n    }\n\n    .dataframe thead th {\n        text-align: right;\n    }\n</style>\n<table border=\"1\" class=\"dataframe\">\n  <thead>\n    <tr style=\"text-align: right;\">\n      <th></th>\n      <th>routes</th>\n      <th>actual_routes</th>\n      <th>driver_id</th>\n      <th>last_two_weeks_count</th>\n      <th>day_of_week</th>\n      <th>score</th>\n      <th>location_is_depot</th>\n      <th>location_type_id</th>\n      <th>current_lat</th>\n      <th>current_lng</th>\n      <th>...</th>\n      <th>experience_feature</th>\n      <th>len_feature</th>\n      <th>driver_id_feature</th>\n      <th>country_flag_feature</th>\n      <th>day_of_week_feature</th>\n      <th>day_of_week_encoded_ext</th>\n      <th>score_cumulative_avg</th>\n      <th>score_cumulative_driver</th>\n      <th>score_avg_total</th>\n      <th>split</th>\n    </tr>\n  </thead>\n  <tbody>\n    <tr>\n      <th>0</th>\n      <td>[1, 2, 3, 4, 5, 5, 6, 7]</td>\n      <td>[1167, 1405, 1560, 1413, 1391, 1391, 1434, 1269]</td>\n      <td>1255.0</td>\n      <td>8.0</td>\n      <td>Monday</td>\n      <td>1.000000</td>\n      <td>[1, 0, 0, 0, 0, 0, 0, 0]</td>\n      <td>[0, 1, 1, 1, 1, 1, 1, 1]</td>\n      <td>[55.64641920439919, 55.6669147, 55.6757322, 55...</td>\n      <td>[12.15372974969827, 12.5262801, 12.5619711, 12...</td>\n      <td>...</td>\n      <td>[8, 8, 8, 8, 8, 8, 8, 8]</td>\n      <td>[8, 8, 8, 8, 8, 8, 8, 8]</td>\n      <td>[1, 1, 1, 1, 1, 1, 1, 1]</td>\n      <td>[1, 1, 1, 1, 1, 1, 1, 1]</td>\n      <td>[[0, 0, 0, 0, 0, 0, 0], [0, 0, 0, 0, 0, 0, 0],...</td>\n      <td>[0, 1, 0, 0, 0, 0, 0]</td>\n      <td>1.000000</td>\n      <td>1.000000</td>\n      <td>1.000000</td>\n      <td>train</td>\n    </tr>\n    <tr>\n      <th>1</th>\n      <td>[1, 2, 3, 8, 4, 5, 5, 6, 7]</td>\n      <td>[1167, 1405, 1577, 1560, 1413, 1391, 1391, 143...</td>\n      <td>1255.0</td>\n      <td>11.0</td>\n      <td>Monday</td>\n      <td>0.950000</td>\n      <td>[1, 0, 0, 0, 0, 0, 0, 0, 0]</td>\n      <td>[0, 1, 1, 1, 1, 1, 1, 1, 1]</td>\n      <td>[55.64641920439919, 55.6669147, 55.6757322, 55...</td>\n      <td>[12.15372974969827, 12.5262801, 12.5619711, 12...</td>\n      <td>...</td>\n      <td>[11, 11, 11, 11, 11, 11, 11, 11, 11]</td>\n      <td>[9, 9, 9, 9, 9, 9, 9, 9, 9]</td>\n      <td>[1, 1, 1, 1, 1, 1, 1, 1, 1]</td>\n      <td>[1, 1, 1, 1, 1, 1, 1, 1, 1]</td>\n      <td>[[0, 0, 0, 0, 0, 0, 0], [0, 0, 0, 0, 0, 0, 0],...</td>\n      <td>[0, 1, 0, 0, 0, 0, 0]</td>\n      <td>0.975000</td>\n      <td>0.923472</td>\n      <td>0.813865</td>\n      <td>train</td>\n    </tr>\n    <tr>\n      <th>2</th>\n      <td>[1, 2, 3, 4, 5, 5, 7, 6, 8]</td>\n      <td>[1167, 1405, 1560, 1391, 1391, 1269, 1577, 143...</td>\n      <td>1255.0</td>\n      <td>11.0</td>\n      <td>Monday</td>\n      <td>0.750000</td>\n      <td>[1, 0, 0, 0, 0, 0, 0, 0, 0]</td>\n      <td>[0, 1, 1, 1, 1, 1, 1, 1, 1]</td>\n      <td>[55.64641920439919, 55.6669147, 55.6757322, 55...</td>\n      <td>[12.15372974969827, 12.5262801, 12.5619711, 12...</td>\n      <td>...</td>\n      <td>[11, 11, 11, 11, 11, 11, 11, 11, 11]</td>\n      <td>[9, 9, 9, 9, 9, 9, 9, 9, 9]</td>\n      <td>[1, 1, 1, 1, 1, 1, 1, 1, 1]</td>\n      <td>[1, 1, 1, 1, 1, 1, 1, 1, 1]</td>\n      <td>[[0, 0, 0, 0, 0, 0, 0], [0, 0, 0, 0, 0, 0, 0],...</td>\n      <td>[0, 1, 0, 0, 0, 0, 0]</td>\n      <td>0.900000</td>\n      <td>0.889510</td>\n      <td>0.813471</td>\n      <td>train</td>\n    </tr>\n    <tr>\n      <th>3</th>\n      <td>[1, 2, 3, 8, 4, 5, 6, 9, 7]</td>\n      <td>[1167, 1405, 1168, 1560, 1577, 1413, 1391, 126...</td>\n      <td>1255.0</td>\n      <td>10.0</td>\n      <td>Monday</td>\n      <td>0.700000</td>\n      <td>[1, 0, 0, 0, 0, 0, 0, 0, 0]</td>\n      <td>[0, 1, 1, 1, 1, 1, 1, 1, 1]</td>\n      <td>[55.64641920439919, 55.6669147, 55.6757322, 55...</td>\n      <td>[12.15372974969827, 12.5262801, 12.5619711, 12...</td>\n      <td>...</td>\n      <td>[10, 10, 10, 10, 10, 10, 10, 10, 10]</td>\n      <td>[9, 9, 9, 9, 9, 9, 9, 9, 9]</td>\n      <td>[1, 1, 1, 1, 1, 1, 1, 1, 1]</td>\n      <td>[1, 1, 1, 1, 1, 1, 1, 1, 1]</td>\n      <td>[[0, 0, 0, 0, 0, 0, 0], [0, 0, 0, 0, 0, 0, 0],...</td>\n      <td>[0, 1, 0, 0, 0, 0, 0]</td>\n      <td>0.850000</td>\n      <td>0.867652</td>\n      <td>0.814953</td>\n      <td>train</td>\n    </tr>\n    <tr>\n      <th>4</th>\n      <td>[1, 2, 3, 4, 5, 5, 6, 9, 7]</td>\n      <td>[1167, 1405, 1560, 1413, 1391, 1391, 1434, 126...</td>\n      <td>1255.0</td>\n      <td>10.0</td>\n      <td>Monday</td>\n      <td>0.950000</td>\n      <td>[1, 0, 0, 0, 0, 0, 0, 0, 0]</td>\n      <td>[0, 1, 1, 1, 1, 1, 1, 1, 1]</td>\n      <td>[55.64641920439919, 55.6669147, 55.6757322, 55...</td>\n      <td>[12.15372974969827, 12.5262801, 12.5619711, 12...</td>\n      <td>...</td>\n      <td>[10, 10, 10, 10, 10, 10, 10, 10, 10]</td>\n      <td>[9, 9, 9, 9, 9, 9, 9, 9, 9]</td>\n      <td>[1, 1, 1, 1, 1, 1, 1, 1, 1]</td>\n      <td>[1, 1, 1, 1, 1, 1, 1, 1, 1]</td>\n      <td>[[0, 0, 0, 0, 0, 0, 0], [0, 0, 0, 0, 0, 0, 0],...</td>\n      <td>[0, 1, 0, 0, 0, 0, 0]</td>\n      <td>0.870000</td>\n      <td>0.854198</td>\n      <td>0.815875</td>\n      <td>train</td>\n    </tr>\n    <tr>\n      <th>...</th>\n      <td>...</td>\n      <td>...</td>\n      <td>...</td>\n      <td>...</td>\n      <td>...</td>\n      <td>...</td>\n      <td>...</td>\n      <td>...</td>\n      <td>...</td>\n      <td>...</td>\n      <td>...</td>\n      <td>...</td>\n      <td>...</td>\n      <td>...</td>\n      <td>...</td>\n      <td>...</td>\n      <td>...</td>\n      <td>...</td>\n      <td>...</td>\n      <td>...</td>\n      <td>...</td>\n    </tr>\n    <tr>\n      <th>17349</th>\n      <td>[2152, 4637, 4637, 4636, 4638, 4639, 2400, 464...</td>\n      <td>[7166, 9311, 9311, 9604, 8209, 8188, 8277, 827...</td>\n      <td>1683.0</td>\n      <td>1.0</td>\n      <td>Tuesday</td>\n      <td>0.734694</td>\n      <td>[1, 0, 0, 0, 0, 0, 0, 0, 0, 0, 0, 0, 0, 0]</td>\n      <td>[0, 1, 1, 1, 1, 1, 1, 1, 1, 1, 1, 1, 1, 1]</td>\n      <td>[59.805664, 59.93947939999999, 59.939479399999...</td>\n      <td>[10.290383, 10.8291978, 10.8291978, 11.0489412...</td>\n      <td>...</td>\n      <td>[1, 1, 1, 1, 1, 1, 1, 1, 1, 1, 1, 1, 1, 1]</td>\n      <td>[14, 14, 14, 14, 14, 14, 14, 14, 14, 14, 14, 1...</td>\n      <td>[388, 388, 388, 388, 388, 388, 388, 388, 388, ...</td>\n      <td>[0, 0, 0, 0, 0, 0, 0, 0, 0, 0, 0, 0, 0, 0]</td>\n      <td>[[0, 0, 0, 0, 0, 0, 0], [0, 0, 0, 0, 0, 0, 0],...</td>\n      <td>[0, 0, 0, 0, 0, 1, 0]</td>\n      <td>0.843673</td>\n      <td>0.896884</td>\n      <td>0.826439</td>\n      <td>val</td>\n    </tr>\n    <tr>\n      <th>17350</th>\n      <td>[2351, 2898, 10538, 2548, 8544, 2413, 2181, 29...</td>\n      <td>[10001, 8408, 7940, 8455, 7992, 8276, 8314, 85...</td>\n      <td>1132.0</td>\n      <td>10.0</td>\n      <td>Friday</td>\n      <td>1.000000</td>\n      <td>[1, 0, 0, 0, 0, 0, 0, 0, 0, 0]</td>\n      <td>[0, 1, 1, 1, 1, 1, 1, 1, 1, 1]</td>\n      <td>[59.98883, 59.915849, 59.908422, 59.916528, 59...</td>\n      <td>[10.947692, 10.750834, 10.723568, 10.715331, 1...</td>\n      <td>...</td>\n      <td>[10, 10, 10, 10, 10, 10, 10, 10, 10, 10]</td>\n      <td>[10, 10, 10, 10, 10, 10, 10, 10, 10, 10]</td>\n      <td>[391, 391, 391, 391, 391, 391, 391, 391, 391, ...</td>\n      <td>[0, 0, 0, 0, 0, 0, 0, 0, 0, 0]</td>\n      <td>[[0, 0, 0, 0, 0, 0, 0], [0, 0, 0, 0, 0, 0, 0],...</td>\n      <td>[1, 0, 0, 0, 0, 0, 0]</td>\n      <td>1.000000</td>\n      <td>0.972222</td>\n      <td>0.826184</td>\n      <td>train</td>\n    </tr>\n    <tr>\n      <th>17351</th>\n      <td>[2351, 2354, 2395, 2788, 2351, 2527, 2373, 239...</td>\n      <td>[10001, 8499, 8249, 10177, 10001, 9736, 9498, ...</td>\n      <td>1132.0</td>\n      <td>10.0</td>\n      <td>Friday</td>\n      <td>1.000000</td>\n      <td>[1, 0, 0, 0, 1, 0, 0, 0, 0]</td>\n      <td>[0, 1, 1, 1, 0, 1, 1, 1, 1]</td>\n      <td>[59.98883, 59.917405, 59.913836, 60.047412, 59...</td>\n      <td>[10.947692, 10.636047, 10.841898, 10.880604, 1...</td>\n      <td>...</td>\n      <td>[10, 10, 10, 10, 10, 10, 10, 10, 10]</td>\n      <td>[9, 9, 9, 9, 9, 9, 9, 9, 9]</td>\n      <td>[391, 391, 391, 391, 391, 391, 391, 391, 391]</td>\n      <td>[0, 0, 0, 0, 0, 0, 0, 0, 0]</td>\n      <td>[[0, 0, 0, 0, 0, 0, 0], [0, 0, 0, 0, 0, 0, 0],...</td>\n      <td>[1, 0, 0, 0, 0, 0, 0]</td>\n      <td>1.000000</td>\n      <td>0.979167</td>\n      <td>0.826194</td>\n      <td>train</td>\n    </tr>\n    <tr>\n      <th>17352</th>\n      <td>[2351, 2478, 2366, 2686, 2673, 2672]</td>\n      <td>[10001, 5797, 7464, 5484, 4818, 4324]</td>\n      <td>1132.0</td>\n      <td>7.0</td>\n      <td>Friday</td>\n      <td>1.000000</td>\n      <td>[1, 0, 0, 0, 0, 0]</td>\n      <td>[0, 1, 1, 1, 1, 1]</td>\n      <td>[59.98883, 59.576297, 59.855923, 59.436834, 59...</td>\n      <td>[10.947692, 10.746172, 10.660825, 10.662897, 1...</td>\n      <td>...</td>\n      <td>[7, 7, 7, 7, 7, 7]</td>\n      <td>[6, 6, 6, 6, 6, 6]</td>\n      <td>[391, 391, 391, 391, 391, 391]</td>\n      <td>[0, 0, 0, 0, 0, 0]</td>\n      <td>[[0, 0, 0, 0, 0, 0, 0], [0, 0, 0, 0, 0, 0, 0],...</td>\n      <td>[1, 0, 0, 0, 0, 0, 0]</td>\n      <td>1.000000</td>\n      <td>0.974583</td>\n      <td>0.826289</td>\n      <td>train</td>\n    </tr>\n    <tr>\n      <th>17353</th>\n      <td>[2351, 2374, 2374, 2717, 2369, 2365, 2370]</td>\n      <td>[10001, 9052, 9052, 8341, 9364, 7049, 7716]</td>\n      <td>1132.0</td>\n      <td>5.0</td>\n      <td>Friday</td>\n      <td>1.000000</td>\n      <td>[1, 0, 0, 0, 0, 0, 0]</td>\n      <td>[0, 1, 1, 1, 1, 1, 1]</td>\n      <td>[59.98883, 59.930729, 59.930729, 59.914992, 59...</td>\n      <td>[10.947692, 10.709962, 10.709962, 10.720439, 1...</td>\n      <td>...</td>\n      <td>[5, 5, 5, 5, 5, 5, 5]</td>\n      <td>[7, 7, 7, 7, 7, 7, 7]</td>\n      <td>[391, 391, 391, 391, 391, 391, 391]</td>\n      <td>[0, 0, 0, 0, 0, 0, 0]</td>\n      <td>[[0, 0, 0, 0, 0, 0, 0], [0, 0, 0, 0, 0, 0, 0],...</td>\n      <td>[1, 0, 0, 0, 0, 0, 0]</td>\n      <td>1.000000</td>\n      <td>0.955278</td>\n      <td>0.826574</td>\n      <td>val</td>\n    </tr>\n  </tbody>\n</table>\n<p>17354 rows × 25 columns</p>\n</div>"
     },
     "execution_count": 56,
     "metadata": {},
     "output_type": "execute_result"
    }
   ],
   "source": [
    "def padding_(routes, route_len):\n",
    "    features = np.zeros((len(routes), route_len),dtype=np.float16)\n",
    "    for ii, route in enumerate(routes):\n",
    "        if len(route) != 0:\n",
    "            features[ii, -len(route):] = np.array(route)[:route_len]\n",
    "    return features\n",
    "\n",
    "#post_padding\n",
    "# def padding_(routes, route_len):\n",
    "#     features = np.zeros((len(routes), route_len), dtype=np.float16)\n",
    "#     for ii, route in enumerate(routes):\n",
    "#         if len(route) != 0:\n",
    "#             features[ii, :min(len(route), route_len)] = np.array(route)[:route_len]\n",
    "#     return features\n",
    "\n",
    "X = final_routes_split.drop(columns = ['driver_id', 'len', 'driver_id_sorted','day_of_week_encoded'])\n",
    "max_route_length = max(len(item) for item in final_routes_split['routes'])\n",
    "y = np.array(final_routes_split['score'])\n",
    "# X = np.concatenate([padding_(X['routes'], max_route_length),padding_(X['distance_route'], max_route_length), X.to_numpy()[:,2:]], axis=1)\n",
    "# X = np.concatenate([padding_(X['routes'], max_route_length),padding_(X['distance_route'], max_route_length), padding_(X['experience_feature'], max_route_length), padding_(X['len_feature'], max_route_length), padding_(X['driver_id_feature'], max_route_length)], axis=1)\n",
    "# X = X.astype(np.float16)\n",
    "# X = X.astype(int) #for boolean values, to converst from string to int\n",
    "# final_routes\n",
    "final_routes_split"
   ],
   "metadata": {
    "collapsed": false,
    "pycharm": {
     "name": "#%%\n"
    }
   }
  },
  {
   "cell_type": "markdown",
   "source": [
    "# Driver id and location id counting and overwritten with transformed dataset"
   ],
   "metadata": {
    "collapsed": false,
    "pycharm": {
     "name": "#%% md\n"
    }
   }
  },
  {
   "cell_type": "markdown",
   "source": [
    "## List of features\n",
    "\n",
    "routes\n",
    "\n",
    "\n",
    "\n",
    "experience_feature\n",
    "len_feature\n",
    "driver_id_feature\n",
    "\n",
    "Total: 175\n"
   ],
   "metadata": {
    "collapsed": false,
    "pycharm": {
     "name": "#%% md\n"
    }
   }
  },
  {
   "cell_type": "code",
   "execution_count": 57,
   "outputs": [],
   "source": [
    "from torch.utils.data import Dataset, DataLoader\n",
    "import torch\n",
    "import random\n",
    "\n",
    "seed_value = 42\n",
    "device = \"cpu\"\n",
    "\n",
    "\n",
    "g = torch.Generator()\n",
    "\n",
    "torch.backends.cudnn.deterministic = True\n",
    "torch.backends.cudnn.benchmark = False\n",
    "\n",
    "# Additional steps if using DataLoaders (to ensure reproducibility in data loading)\n",
    "torch.use_deterministic_algorithms(True)\n",
    "\n",
    "def reset_random():\n",
    "    g.manual_seed(seed_value)\n",
    "    torch.manual_seed(seed_value)\n",
    "\n",
    "def seed_worker(worker_id):\n",
    "    worker_seed = torch.initial_seed() % 2**32\n",
    "    np.random.seed(worker_seed)\n",
    "    random.seed(worker_seed)\n",
    "\n",
    "def set_seed(seed):\n",
    "    random.seed(seed)\n",
    "    np.random.seed(seed)\n",
    "    torch.manual_seed(seed)\n",
    "    torch.cuda.manual_seed(seed)\n",
    "    torch.cuda.manual_seed_all(seed)\n",
    "    torch.backends.cudnn.deterministic = True\n",
    "    torch.backends.cudnn.benchmark = False\n",
    "    os.environ['PYTHONHASHSEED'] = str(seed)\n",
    "    os.environ['CUBLAS_WORKSPACE_CONFIG'] = ':4096:8'\n",
    "    torch.use_deterministic_algorithms(True)\n",
    "\n",
    "set_seed(42)"
   ],
   "metadata": {
    "collapsed": false,
    "pycharm": {
     "name": "#%%\n"
    }
   }
  },
  {
   "cell_type": "code",
   "execution_count": 58,
   "outputs": [],
   "source": [
    "import torch #pytorch\n",
    "import torch.nn as nn"
   ],
   "metadata": {
    "collapsed": false,
    "pycharm": {
     "name": "#%%\n"
    }
   }
  },
  {
   "cell_type": "code",
   "execution_count": 59,
   "outputs": [],
   "source": [
    "class PredictionRNN(nn.Module):\n",
    "    def __init__(self,no_layers,vocab_size, vocab_size_driv, vocab_size_len,hidden_dim,embedding_dim,embedding_dim_driv, output_dim,additional_feature_count,drop_prob=0.5):\n",
    "        super(PredictionRNN,self).__init__()\n",
    "\n",
    "        self.output_dim = output_dim\n",
    "        self.hidden_dim = hidden_dim\n",
    "\n",
    "        self.no_layers = no_layers\n",
    "        self.vocab_size = vocab_size\n",
    "        self.vocab_size_driv = vocab_size_driv\n",
    "        self.vocab_size_len = vocab_size_len\n",
    "\n",
    "        # embedding and LSTM layers\n",
    "        self.embedding = nn.Embedding(vocab_size, embedding_dim)\n",
    "        self.embedding_driv = nn.Embedding(vocab_size_driv, embedding_dim_driv)\n",
    "\n",
    "        #lstm\n",
    "        self.lstm = nn.LSTM(input_size=embedding_dim,hidden_size=self.hidden_dim,\n",
    "                           num_layers=no_layers, batch_first=True)\n",
    "        # self.lstm = nn.LSTM(input_size=embedding_dim,hidden_size=self.hidden_dim,\n",
    "        #                    num_layers=no_layers, batch_first=True)\n",
    "        # embedding_dim_driv+2\n",
    "        # self.lstm = nn.LSTM(input_size=embedding_dim,hidden_size=self.hidden_dim,\n",
    "        #                    num_layers=no_layers, batch_first=True)\n",
    "\n",
    "\n",
    "        # dropout layer\n",
    "\n",
    "        # dropout layer\n",
    "        self.dropout = nn.Dropout(drop_prob)\n",
    "        # self.fc = nn.Linear(self.hidden_dim, output_dim)\n",
    "        # self.fc_static_1 = nn.Linear(embedding_dim_driv+embedding_dim_len+9, 16)\n",
    "        self.fc_static_1 = nn.Linear(embedding_dim_driv+9, 128)\n",
    "        # self.fc_static_2 = nn.Linear(128, 128)\n",
    "        # # self.fc = nn.Linear(36, output_dim)\n",
    "        # # self.fc = nn.Linear(1316, output_dim)\n",
    "        self.fc = nn.Linear(64+128,128)\n",
    "        self.layer2 = nn.Linear(128, 64)\n",
    "        self.layer3 = nn.Linear(64, 1)\n",
    "        self.relu = nn.ReLU()\n",
    "        self.sig = nn.Sigmoid()\n",
    "\n",
    "    def forward(self,x):\n",
    "        batch_size = len(x['routes'])\n",
    "        route_ids = x['routes'].int()\n",
    "\n",
    "        embeds = self.embedding(route_ids)  # shape: B x S x Feature   since batch = True\n",
    "\n",
    "        # get driver ids example\n",
    "        driver_ids = x['driver_id_sorted'].int()\n",
    "        experience = x['last_two_weeks_count'].int()\n",
    "        len_feature = x['len'].float()\n",
    "        # distance = x['distance_route'].int()\n",
    "        day_of_week_feature = x['day_of_week_encoded_ext'].float()\n",
    "        country_flag = x['country_flag'].int()\n",
    "        location_is_depot = x['location_is_depot'].int()\n",
    "        location_type_id = x['location_type_id'].int()\n",
    "\n",
    "        embedding_driv = self.embedding_driv(driver_ids)\n",
    "        # ,distance.view(batch_size, max_route_length, 1)\n",
    "        # experience.view(batch_size, max_route_length, 1)\n",
    "\n",
    "        # all_embeds = torch.concatenate((embeds, distance.view(batch_size, max_route_length, 1), location_is_depot.view(batch_size, max_route_length, 1), location_type_id.view(batch_size, max_route_length, 1)), dim=2)\n",
    "        all_embeds = embeds\n",
    "\n",
    "        # all_static = torch.concatenate((embedding_driv, embedding_len, day_of_week_feature, country_flag.view(batch_size, 1),experience.view(batch_size, 1)), dim=1)\n",
    "        # len_feature.view(batch_size, 1)\n",
    "        all_static = torch.concatenate((embedding_driv, country_flag.view(batch_size, 1), day_of_week_feature, len_feature.view(batch_size, 1)), dim=1)\n",
    "        # all_static = torch.concatenate((embedding_driv, day_of_week_feature), dim=1)\n",
    "\n",
    "\n",
    "\n",
    "        lstm_out, _ = self.lstm(all_embeds)\n",
    "        lstm_out = lstm_out.contiguous().view(batch_size, max_route_length, self.hidden_dim)\n",
    "        out = self.dropout(lstm_out)\n",
    "\n",
    "        out_static = self.relu(self.fc_static_1(all_static))\n",
    "        # out_static = self.dropout(self.fc_static_2(out_static))\n",
    "        # out_static = out_static.unsqueeze(1)\n",
    "        # print(out.shape, out_static.shape)\n",
    "        # out = self.fc(torch.concatenate((out, out_static), dim=1))\n",
    "        out_static = out_static.squeeze(1).unsqueeze(1).repeat(1, 36, 1)  # New shape: [2048, 36, 64]\n",
    "        out = self.fc(torch.cat((out, out_static), dim=2))\n",
    "        x = self.relu(out)\n",
    "        x = self.relu(self.layer2(x))\n",
    "        x = self.layer3(x)\n",
    "        # print(out.shape)\n",
    "        # sigmoid function\n",
    "        sig_out = self.sig(x)\n",
    "\n",
    "        # reshape to be batch_size first\n",
    "        sig_out = sig_out.view(batch_size, -1)\n",
    "        sig_out = sig_out[:, -1] # get last batch of labels\n",
    "        # print(sig_out.shape)\n",
    "        return sig_out"
   ],
   "metadata": {
    "collapsed": false,
    "pycharm": {
     "name": "#%%\n"
    }
   }
  },
  {
   "cell_type": "code",
   "execution_count": 77,
   "outputs": [],
   "source": [
    "def get_model():\n",
    "    no_layers = 2\n",
    "    vocab_size = 10539 #extra 1 for padding\n",
    "    vocab_size_driv = 317\n",
    "    vocab_size_len = 37 #extra 1 for padding\n",
    "    embedding_dim = 64 #was 64\n",
    "    embedding_dim_driv = 32 #was 64\n",
    "    # embedding_dim_len = 2 #was 64\n",
    "    output_dim = 1\n",
    "    hidden_dim = 64 #was 64\n",
    "\n",
    "\n",
    "    # model = PredictionRNN(no_layers,vocab_size, vocab_size_driv, vocab_size_len, hidden_dim,embedding_dim, embedding_dim_driv, output_dim,len(drivers_dic),drop_prob=0.5)\n",
    "    model = PredictionAllFeaturesCNN(no_layers, vocab_size, vocab_size_driv, embedding_dim, embedding_dim_driv, output_dim, drop_prob=0.5)\n",
    "    # model = NanoTransformer(embedding_dim, vocab_size, embedding_dim_driv, vocab_size_driv)\n",
    "    model.train()\n",
    "    print(model)\n",
    "    return model"
   ],
   "metadata": {
    "collapsed": false,
    "pycharm": {
     "name": "#%%\n"
    }
   }
  },
  {
   "cell_type": "code",
   "execution_count": 78,
   "outputs": [],
   "source": [
    "# function to predict accuracy\n",
    "# def acc(pred,label):\n",
    "#     pred = torch.round(pred.squeeze())\n",
    "#     return torch.sum(pred == label.squeeze()).item()\n",
    "\n",
    "def rmse(pred, label):\n",
    "    return torch.sqrt(torch.mean((pred.squeeze() - label.squeeze())**2))\n",
    "\n",
    "# def get_precision(pred, label):\n",
    "#     pred = torch.round(pred.squeeze())\n",
    "#     true_positive = torch.sum((pred == 1) & (label.squeeze() == 1)).item()\n",
    "#     false_positive = torch.sum((pred == 1) & (label.squeeze() == 0)).item()\n",
    "#\n",
    "#     if true_positive + false_positive == 0:\n",
    "#         return 0.0, true_positive, false_positive  # Handle the case where there are no predicted positives\n",
    "#\n",
    "#     precision_value = true_positive / (true_positive + false_positive)\n",
    "#     return precision_value, true_positive, false_positive"
   ],
   "metadata": {
    "collapsed": false,
    "pycharm": {
     "name": "#%%\n"
    }
   }
  },
  {
   "cell_type": "code",
   "execution_count": 79,
   "outputs": [],
   "source": [
    "RUN_NAME = 'first_run_4'\n",
    "def train_model(data, model, epochs = 20):\n",
    "    train_loader, valid_loader = data\n",
    "    lr=0.001\n",
    "\n",
    "    criterion = nn.MSELoss()\n",
    "\n",
    "    optimizer = torch.optim.Adam(model.parameters(), lr=lr)\n",
    "\n",
    "    clip = 5\n",
    "    valid_loss_min = np.Inf\n",
    "    # train for some number of epochs\n",
    "    epoch_tr_loss,epoch_vl_loss = [],[]\n",
    "    epoch_tr_acc,epoch_vl_acc = [],[]\n",
    "    epoch_tr_precision,epoch_vl_precision = [],[]\n",
    "    # wandb.init(project='Route_classification', name=f'{run_name}')\n",
    "\n",
    "    for epoch in range(epochs):\n",
    "        train_losses = []\n",
    "        train_rmse = 0.0\n",
    "        model.train()\n",
    "        for inputs, labels in train_loader:\n",
    "            # print(labels)\n",
    "\n",
    "            model.zero_grad()\n",
    "            # print(inputs.shape, h[0].shape, h[1].shape)\n",
    "            output = model(inputs)\n",
    "\n",
    "            # calculate the loss and perform backprop\n",
    "            # print(output, labels)\n",
    "            # print(output.shape, labels.shape)\n",
    "            loss = criterion(output.view(-1), labels.float())\n",
    "            loss.backward()\n",
    "            train_losses.append(loss.item())\n",
    "            train_rmse += rmse(output,labels)\n",
    "            #`clip_grad_norm` helps prevent the exploding gradient problem in RNNs / LSTMs.\n",
    "            nn.utils.clip_grad_norm_(model.parameters(), clip)\n",
    "            optimizer.step()\n",
    "        val_losses = []\n",
    "        val_rmse = 0.0\n",
    "        model.eval()\n",
    "        for inputs, labels in valid_loader:\n",
    "                # inputs, labels = inputs.to(device), labels.to(device)\n",
    "                output = model(inputs)\n",
    "                val_loss = criterion(output.view(-1), labels.float())\n",
    "                val_losses.append(val_loss.item())\n",
    "                val_rmse += rmse(output,labels)\n",
    "\n",
    "        epoch_train_loss = np.mean(train_losses)\n",
    "        epoch_val_loss = np.mean(val_losses)\n",
    "\n",
    "        epoch_tr_loss.append(epoch_train_loss)\n",
    "        epoch_vl_loss.append(epoch_val_loss)\n",
    "        epoch_train_rmse = train_rmse / len(train_loader)\n",
    "        epoch_val_rmse = val_rmse / len(valid_loader)\n",
    "        print(f'Epoch {epoch+1}')\n",
    "        print(f'train_loss : {epoch_train_loss} val_loss : {epoch_val_loss}')\n",
    "        print(f'train_rmse : {epoch_train_rmse} val_rmse : {epoch_val_rmse}')\n",
    "\n",
    "        if epoch_val_loss <= valid_loss_min:\n",
    "            torch.save(model.state_dict(), f'{RUN_NAME}.pt')\n",
    "            print('Validation loss decreased ({:.6f} --> {:.6f}).  Saving model ...'.format(valid_loss_min,epoch_val_loss))\n",
    "            valid_loss_min = epoch_val_loss\n",
    "        print(25*'==')"
   ],
   "metadata": {
    "collapsed": false,
    "pycharm": {
     "name": "#%%\n"
    }
   }
  },
  {
   "cell_type": "code",
   "execution_count": 80,
   "outputs": [],
   "source": [
    "from sklearn.metrics import mean_squared_error, mean_absolute_error, r2_score\n",
    "import matplotlib.pyplot as plt\n",
    "\n",
    "def get_stats(model, data):\n",
    "    model.eval()\n",
    "    y_pred = []\n",
    "    y = []\n",
    "    for inputs, labels in data:\n",
    "        y.extend(labels)\n",
    "        results = model(inputs).detach()\n",
    "        y_pred.extend(results)\n",
    "\n",
    "    y = np.array(y)\n",
    "    y_pred = np.array(y_pred)\n",
    "\n",
    "    mse = mean_squared_error(y, y_pred)\n",
    "    rmse = np.sqrt(mse)\n",
    "    mae = mean_absolute_error(y, y_pred)\n",
    "    r2 = r2_score(y, y_pred)\n",
    "\n",
    "    return {\n",
    "        \"mse\": mse,\n",
    "        \"rmse\": rmse,\n",
    "        \"mae\": mae,\n",
    "        \"r2\": r2,\n",
    "        \"y\": y,\n",
    "        \"y_pred\":y_pred\n",
    "    }\n"
   ],
   "metadata": {
    "collapsed": false,
    "pycharm": {
     "name": "#%%\n"
    }
   }
  },
  {
   "cell_type": "code",
   "execution_count": 81,
   "outputs": [
    {
     "name": "stdout",
     "output_type": "stream",
     "text": [
      "len(train_df) = 13555, len(val_df) = 2167, len(test_df) = 1632\n",
      "PredictionAllFeaturesCNN(\n",
      "  (embedding): Embedding(10539, 64)\n",
      "  (embedding_driv): Embedding(317, 32)\n",
      "  (conv1): Conv1d(64, 64, kernel_size=(3,), stride=(1,), padding=(1,))\n",
      "  (pool): MaxPool1d(kernel_size=2, stride=2, padding=0, dilation=1, ceil_mode=False)\n",
      "  (dropout): Dropout(p=0.5, inplace=False)\n",
      "  (fc_static_1): Linear(in_features=41, out_features=128, bias=True)\n",
      "  (fc): Linear(in_features=192, out_features=64, bias=True)\n",
      "  (layer2): Linear(in_features=128, out_features=64, bias=True)\n",
      "  (layer3): Linear(in_features=64, out_features=1, bias=True)\n",
      "  (relu): ReLU()\n",
      "  (sig): Sigmoid()\n",
      ")\n",
      "Epoch 1\n",
      "train_loss : 0.08959028976304191 val_loss : 0.04781359247863293\n",
      "train_rmse : 0.2946520881881574 val_rmse : 0.21859341113946218\n",
      "Validation loss decreased (inf --> 0.047814).  Saving model ...\n",
      "==================================================\n",
      "Epoch 2\n",
      "train_loss : 0.03650348314217159 val_loss : 0.030842263251543045\n",
      "train_rmse : 0.18947315433528975 val_rmse : 0.17549980617966718\n",
      "Validation loss decreased (0.047814 --> 0.030842).  Saving model ...\n",
      "==================================================\n",
      "Epoch 3\n",
      "train_loss : 0.03794687959764685 val_loss : 0.03286111447960138\n",
      "train_rmse : 0.19065887280951072 val_rmse : 0.18117142511019652\n",
      "==================================================\n",
      "Epoch 4\n",
      "train_loss : 0.03840884779180799 val_loss : 0.030025611631572247\n",
      "train_rmse : 0.19068288397355354 val_rmse : 0.1731512292752022\n",
      "Validation loss decreased (0.030842 --> 0.030026).  Saving model ...\n",
      "==================================================\n",
      "Epoch 5\n",
      "train_loss : 0.035262491554021835 val_loss : 0.02968334499746561\n",
      "train_rmse : 0.1834827993595751 val_rmse : 0.17214938724742979\n",
      "Validation loss decreased (0.030026 --> 0.029683).  Saving model ...\n",
      "==================================================\n",
      "Epoch 6\n",
      "train_loss : 0.03445870003529957 val_loss : 0.030356507748365402\n",
      "train_rmse : 0.1828430998318322 val_rmse : 0.17409466413321606\n",
      "==================================================\n",
      "Epoch 7\n",
      "train_loss : 0.03347304809306349 val_loss : 0.029258648864924908\n",
      "train_rmse : 0.18067598153348943 val_rmse : 0.17090722520318802\n",
      "Validation loss decreased (0.029683 --> 0.029259).  Saving model ...\n",
      "==================================================\n",
      "Epoch 8\n",
      "train_loss : 0.03272615186870098 val_loss : 0.028333453461527824\n",
      "train_rmse : 0.17860112035142953 val_rmse : 0.16817345896403296\n",
      "Validation loss decreased (0.029259 --> 0.028333).  Saving model ...\n",
      "==================================================\n",
      "Epoch 9\n",
      "train_loss : 0.03218552124287401 val_loss : 0.02793689724057913\n",
      "train_rmse : 0.17684494243216703 val_rmse : 0.16698700893002622\n",
      "Validation loss decreased (0.028333 --> 0.027937).  Saving model ...\n",
      "==================================================\n",
      "Epoch 10\n",
      "train_loss : 0.03184492753020355 val_loss : 0.027723015286028385\n",
      "train_rmse : 0.17596433058021338 val_rmse : 0.16634466221035882\n",
      "Validation loss decreased (0.027937 --> 0.027723).  Saving model ...\n",
      "==================================================\n",
      "Epoch 11\n",
      "train_loss : 0.03115936102611678 val_loss : 0.02748115360736847\n",
      "train_rmse : 0.17435299068822552 val_rmse : 0.16561543512667698\n",
      "Validation loss decreased (0.027723 --> 0.027481).  Saving model ...\n",
      "==================================================\n",
      "Epoch 12\n",
      "train_loss : 0.030614859025393213 val_loss : 0.02713912259787321\n",
      "train_rmse : 0.17301158805685107 val_rmse : 0.16457821647459614\n",
      "Validation loss decreased (0.027481 --> 0.027139).  Saving model ...\n",
      "==================================================\n",
      "Epoch 13\n",
      "train_loss : 0.030158735013433864 val_loss : 0.026773303747177124\n",
      "train_rmse : 0.17185286616931889 val_rmse : 0.16346218409100913\n",
      "Validation loss decreased (0.027139 --> 0.026773).  Saving model ...\n",
      "==================================================\n",
      "Epoch 14\n",
      "train_loss : 0.02944327092596463 val_loss : 0.026335093192756176\n",
      "train_rmse : 0.1699740138855708 val_rmse : 0.16211568718111216\n",
      "Validation loss decreased (0.026773 --> 0.026335).  Saving model ...\n",
      "==================================================\n",
      "Epoch 15\n",
      "train_loss : 0.02901295412864004 val_loss : 0.026118258945643902\n",
      "train_rmse : 0.16877465002837902 val_rmse : 0.16145230376766587\n",
      "Validation loss decreased (0.026335 --> 0.026118).  Saving model ...\n",
      "==================================================\n",
      "Epoch 16\n",
      "train_loss : 0.028490378920521055 val_loss : 0.025862655602395535\n",
      "train_rmse : 0.1674427532981119 val_rmse : 0.1606659664619584\n",
      "Validation loss decreased (0.026118 --> 0.025863).  Saving model ...\n",
      "==================================================\n",
      "Epoch 17\n",
      "train_loss : 0.027729805558919907 val_loss : 0.025502406992018223\n",
      "train_rmse : 0.16532037115055775 val_rmse : 0.1595463666082015\n",
      "Validation loss decreased (0.025863 --> 0.025502).  Saving model ...\n",
      "==================================================\n",
      "Epoch 18\n",
      "train_loss : 0.027304634717958316 val_loss : 0.025035406462848186\n",
      "train_rmse : 0.16415994892551586 val_rmse : 0.15807863470677302\n",
      "Validation loss decreased (0.025502 --> 0.025035).  Saving model ...\n",
      "==================================================\n",
      "Epoch 19\n",
      "train_loss : 0.02687352363552366 val_loss : 0.02501549944281578\n",
      "train_rmse : 0.16286707692466823 val_rmse : 0.15803485742181694\n",
      "Validation loss decreased (0.025035 --> 0.025015).  Saving model ...\n",
      "==================================================\n",
      "Epoch 20\n",
      "train_loss : 0.02617464799966131 val_loss : 0.024701416492462158\n",
      "train_rmse : 0.1609071908515503 val_rmse : 0.15704787291160727\n",
      "Validation loss decreased (0.025015 --> 0.024701).  Saving model ...\n",
      "==================================================\n",
      "Epoch 21\n",
      "train_loss : 0.025667427107691765 val_loss : 0.024314509704709053\n",
      "train_rmse : 0.1593997671826405 val_rmse : 0.15581701414426302\n",
      "Validation loss decreased (0.024701 --> 0.024315).  Saving model ...\n",
      "==================================================\n",
      "Epoch 22\n",
      "train_loss : 0.025266419830066816 val_loss : 0.0242679500952363\n",
      "train_rmse : 0.15816458226943902 val_rmse : 0.15568283490049858\n",
      "Validation loss decreased (0.024315 --> 0.024268).  Saving model ...\n",
      "==================================================\n",
      "Epoch 23\n",
      "train_loss : 0.02472805790603161 val_loss : 0.024007178843021393\n",
      "train_rmse : 0.15653349033247316 val_rmse : 0.15484887109995837\n",
      "Validation loss decreased (0.024268 --> 0.024007).  Saving model ...\n",
      "==================================================\n",
      "Epoch 24\n",
      "train_loss : 0.024239135640008107 val_loss : 0.023538928478956223\n",
      "train_rmse : 0.15502698524227868 val_rmse : 0.15332722458813733\n",
      "Validation loss decreased (0.024007 --> 0.023539).  Saving model ...\n",
      "==================================================\n",
      "Epoch 25\n",
      "train_loss : 0.02389756217598915 val_loss : 0.02359110303223133\n",
      "train_rmse : 0.1539270923487428 val_rmse : 0.15351004712918404\n",
      "==================================================\n",
      "Epoch 26\n",
      "train_loss : 0.02340684432004179 val_loss : 0.0232705008238554\n",
      "train_rmse : 0.1523818829748109 val_rmse : 0.1524619163114581\n",
      "Validation loss decreased (0.023539 --> 0.023271).  Saving model ...\n",
      "==================================================\n",
      "Epoch 27\n",
      "train_loss : 0.023016647568770816 val_loss : 0.02297568041831255\n",
      "train_rmse : 0.151128199323065 val_rmse : 0.1514920357842104\n",
      "Validation loss decreased (0.023271 --> 0.022976).  Saving model ...\n",
      "==================================================\n",
      "Epoch 28\n",
      "train_loss : 0.022633265437824384 val_loss : 0.022847875021398067\n",
      "train_rmse : 0.14986675878777905 val_rmse : 0.15107496003701626\n",
      "Validation loss decreased (0.022976 --> 0.022848).  Saving model ...\n",
      "==================================================\n",
      "Epoch 29\n",
      "train_loss : 0.02224894001015595 val_loss : 0.022671006619930267\n",
      "train_rmse : 0.14861673994271832 val_rmse : 0.15049163353555592\n",
      "Validation loss decreased (0.022848 --> 0.022671).  Saving model ...\n",
      "==================================================\n",
      "Epoch 30\n",
      "train_loss : 0.02189173017229353 val_loss : 0.022549779154360294\n",
      "train_rmse : 0.1474300858335236 val_rmse : 0.1500927242076731\n",
      "Validation loss decreased (0.022671 --> 0.022550).  Saving model ...\n",
      "==================================================\n",
      "Epoch 31\n",
      "train_loss : 0.021643474165882384 val_loss : 0.022403807379305363\n",
      "train_rmse : 0.14660113968919236 val_rmse : 0.1496073517900022\n",
      "Validation loss decreased (0.022550 --> 0.022404).  Saving model ...\n",
      "==================================================\n",
      "Epoch 32\n",
      "train_loss : 0.02132415771484375 val_loss : 0.02223714254796505\n",
      "train_rmse : 0.1455176531756175 val_rmse : 0.14905106849831512\n",
      "Validation loss decreased (0.022404 --> 0.022237).  Saving model ...\n",
      "==================================================\n",
      "Epoch 33\n",
      "train_loss : 0.02115082581128393 val_loss : 0.02216243464499712\n",
      "train_rmse : 0.14493427529932387 val_rmse : 0.14880540762829347\n",
      "Validation loss decreased (0.022237 --> 0.022162).  Saving model ...\n",
      "==================================================\n",
      "Epoch 34\n",
      "train_loss : 0.020782286833439554 val_loss : 0.022014853544533253\n",
      "train_rmse : 0.14367273706270392 val_rmse : 0.14831025692978733\n",
      "Validation loss decreased (0.022162 --> 0.022015).  Saving model ...\n",
      "==================================================\n",
      "Epoch 35\n",
      "train_loss : 0.02055674245847123 val_loss : 0.021939517930150032\n",
      "train_rmse : 0.14287198820253594 val_rmse : 0.14805843144590808\n",
      "Validation loss decreased (0.022015 --> 0.021940).  Saving model ...\n",
      "==================================================\n",
      "Epoch 36\n",
      "train_loss : 0.02039678700800453 val_loss : 0.02187524549663067\n",
      "train_rmse : 0.14232098446561978 val_rmse : 0.14784467467981433\n",
      "Validation loss decreased (0.021940 --> 0.021875).  Saving model ...\n",
      "==================================================\n",
      "Epoch 37\n",
      "train_loss : 0.020033886123980795 val_loss : 0.02175766322761774\n",
      "train_rmse : 0.14104914426831086 val_rmse : 0.14744888396857275\n",
      "Validation loss decreased (0.021875 --> 0.021758).  Saving model ...\n",
      "==================================================\n",
      "Epoch 38\n",
      "train_loss : 0.019913002848625183 val_loss : 0.021624618209898472\n",
      "train_rmse : 0.1406505812364876 val_rmse : 0.1469956568898254\n",
      "Validation loss decreased (0.021758 --> 0.021625).  Saving model ...\n",
      "==================================================\n",
      "Epoch 39\n",
      "train_loss : 0.019647587090730667 val_loss : 0.021609527990221977\n",
      "train_rmse : 0.139659092144806 val_rmse : 0.1469489751724996\n",
      "Validation loss decreased (0.021625 --> 0.021610).  Saving model ...\n",
      "==================================================\n",
      "Epoch 40\n",
      "train_loss : 0.019535840089832033 val_loss : 0.021560112945735455\n",
      "train_rmse : 0.13929681470052457 val_rmse : 0.1467840252022814\n",
      "Validation loss decreased (0.021610 --> 0.021560).  Saving model ...\n",
      "==================================================\n",
      "Epoch 41\n",
      "train_loss : 0.019388213088469847 val_loss : 0.021570646204054356\n",
      "train_rmse : 0.13875609343204412 val_rmse : 0.1468242142879374\n",
      "==================================================\n",
      "Epoch 42\n",
      "train_loss : 0.019030082438673292 val_loss : 0.021389654837548733\n",
      "train_rmse : 0.137501506121636 val_rmse : 0.14620111681431924\n",
      "Validation loss decreased (0.021560 --> 0.021390).  Saving model ...\n",
      "==================================================\n",
      "Epoch 43\n",
      "train_loss : 0.018990265604640757 val_loss : 0.02140947710722685\n",
      "train_rmse : 0.13735252063578046 val_rmse : 0.1462679796534369\n",
      "==================================================\n",
      "Epoch 44\n",
      "train_loss : 0.018684288087700094 val_loss : 0.021209120750427246\n",
      "train_rmse : 0.13622320385492256 val_rmse : 0.145575870308777\n",
      "Validation loss decreased (0.021390 --> 0.021209).  Saving model ...\n",
      "==================================================\n",
      "Epoch 45\n",
      "train_loss : 0.018485109454819133 val_loss : 0.021245061419904232\n",
      "train_rmse : 0.1355214891474007 val_rmse : 0.14570045175434393\n",
      "==================================================\n",
      "Epoch 46\n",
      "train_loss : 0.018329093365796974 val_loss : 0.021175965666770935\n",
      "train_rmse : 0.13492977884310378 val_rmse : 0.14546253374254953\n",
      "Validation loss decreased (0.021209 --> 0.021176).  Saving model ...\n",
      "==================================================\n",
      "Epoch 47\n",
      "train_loss : 0.018154270414795195 val_loss : 0.02123772818595171\n",
      "train_rmse : 0.13426138663522647 val_rmse : 0.14567658928460966\n",
      "==================================================\n",
      "Epoch 48\n",
      "train_loss : 0.018042759836784432 val_loss : 0.0210473770275712\n",
      "train_rmse : 0.13391025168639917 val_rmse : 0.14501380796171914\n",
      "Validation loss decreased (0.021176 --> 0.021047).  Saving model ...\n",
      "==================================================\n",
      "Epoch 49\n",
      "train_loss : 0.017872230548943793 val_loss : 0.02124800533056259\n",
      "train_rmse : 0.13328010294967158 val_rmse : 0.14571374551885907\n",
      "==================================================\n",
      "Epoch 50\n",
      "train_loss : 0.01756453381053039 val_loss : 0.02113565243780613\n",
      "train_rmse : 0.13209483211514486 val_rmse : 0.14532497816590895\n",
      "==================================================\n",
      "PredictionAllFeaturesCNN(\n",
      "  (embedding): Embedding(10539, 64)\n",
      "  (embedding_driv): Embedding(317, 32)\n",
      "  (conv1): Conv1d(64, 64, kernel_size=(3,), stride=(1,), padding=(1,))\n",
      "  (pool): MaxPool1d(kernel_size=2, stride=2, padding=0, dilation=1, ceil_mode=False)\n",
      "  (dropout): Dropout(p=0.5, inplace=False)\n",
      "  (fc_static_1): Linear(in_features=41, out_features=128, bias=True)\n",
      "  (fc): Linear(in_features=192, out_features=64, bias=True)\n",
      "  (layer2): Linear(in_features=128, out_features=64, bias=True)\n",
      "  (layer3): Linear(in_features=64, out_features=1, bias=True)\n",
      "  (relu): ReLU()\n",
      "  (sig): Sigmoid()\n",
      ")\n",
      "\n",
      "Test Set Metrics:\n",
      "MSE: 0.020987022416047992\n",
      "RMSE: 0.14486898362330008\n",
      "MAE: 0.10923124207397739\n",
      "R2: 0.3595552537068597\n"
     ]
    }
   ],
   "source": [
    "from sklearn.preprocessing import StandardScaler\n",
    "set_seed(42)\n",
    "FEATURE_COLUMNS = ['routes', 'driver_id_feature', 'driver_id_sorted','last_two_weeks_count', 'len', 'day_of_week_feature', 'day_of_week_encoded_ext', 'country_flag', 'location_is_depot', 'location_type_id']\n",
    "\n",
    "\n",
    "class DataFrameDataset(Dataset):\n",
    "    def __init__(self, df, len_scaler=None, two_weeks_scaler=None):\n",
    "        self.df = df\n",
    "        self.len_scaler = len_scaler\n",
    "        self.two_weeks_scaler = two_weeks_scaler\n",
    "\n",
    "    def __len__(self):\n",
    "        return len(self.df)\n",
    "\n",
    "    def __getitem__(self, idx):\n",
    "        item = {}\n",
    "        for col in FEATURE_COLUMNS:\n",
    "            feature = self.df[col].iloc[idx]\n",
    "            if isinstance(feature, list):\n",
    "                feature = padding_([feature], max_route_length)[0]\n",
    "            if col == 'len' and self.len_scaler is not None:\n",
    "                feature_df = pd.DataFrame({'len': [feature]})\n",
    "                feature = self.len_scaler.transform(feature_df)[0][0]\n",
    "            elif col == 'last_two_weeks_count' and self.two_weeks_scaler is not None:\n",
    "                feature_df = pd.DataFrame({'last_two_weeks_count': [feature]})\n",
    "                feature = self.two_weeks_scaler.transform(feature_df)[0][0]\n",
    "            item[col] = feature\n",
    "        item['score'] = self.df['score'].iloc[idx]\n",
    "        return item, item['score']\n",
    "\n",
    "def get_data_loaders(train_df, val_df, test_df):\n",
    "\n",
    "    len_scaler = StandardScaler()\n",
    "    two_weeks_scaler = StandardScaler()\n",
    "\n",
    "    len_scaler.fit(train_df[['len']])\n",
    "    two_weeks_scaler.fit(train_df[['last_two_weeks_count']])\n",
    "\n",
    "    for df in [train_df, val_df, test_df]:\n",
    "        df['len'] = len_scaler.transform(df[['len']])\n",
    "        df['last_two_weeks_count'] = two_weeks_scaler.transform(df[['last_two_weeks_count']])\n",
    "\n",
    "    # Create Tensor datasets\n",
    "    train_data = DataFrameDataset(train_df, len_scaler, two_weeks_scaler)\n",
    "    val_data = DataFrameDataset(val_df, len_scaler, two_weeks_scaler)\n",
    "    test_data = DataFrameDataset(test_df, len_scaler, two_weeks_scaler)\n",
    "\n",
    "    # dataloaders\n",
    "    batch_size = 2048\n",
    "\n",
    "    # make sure to SHUFFLE your data\n",
    "    train_loader = DataLoader(train_data, shuffle=False, batch_size=batch_size, generator=g, worker_init_fn=seed_worker)\n",
    "    val_loader = DataLoader(val_data, shuffle=False, batch_size=batch_size, generator=g, worker_init_fn=seed_worker)\n",
    "    test_loader = DataLoader(test_data, shuffle=False, batch_size=batch_size, generator=g, worker_init_fn=seed_worker)\n",
    "    return train_loader, val_loader, test_loader\n",
    "\n",
    "train_df = final_routes_split[final_routes_split['split'] == 'train'].drop('split', axis=1)\n",
    "val_df = final_routes_split[final_routes_split['split'] == 'val'].drop('split', axis=1)\n",
    "test_df = final_routes_split[final_routes_split['split'] == 'test'].drop('split', axis=1)\n",
    "\n",
    "print(f'len(train_df) = {len(train_df)}, len(val_df) = {len(val_df)}, len(test_df) = {len(test_df)}')\n",
    "\n",
    "train_loader, val_loader, test_loader = get_data_loaders(train_df, val_df, test_df)\n",
    "\n",
    "model = get_model()\n",
    "model.train()\n",
    "\n",
    "# Train the model\n",
    "train_model((train_loader, val_loader), model, epochs=50)\n",
    "\n",
    "# Load the best model\n",
    "model = get_model()\n",
    "model.load_state_dict(torch.load(f'{RUN_NAME}.pt'))\n",
    "\n",
    "# Evaluate on test set\n",
    "model.eval()\n",
    "test_stats = get_stats(model, test_loader)\n",
    "\n",
    "print(\"\\nTest Set Metrics:\")\n",
    "print(f\"MSE: {test_stats['mse']}\")\n",
    "print(f\"RMSE: {test_stats['rmse']}\")\n",
    "print(f\"MAE: {test_stats['mae']}\")\n",
    "print(f\"R2: {test_stats['r2']}\")"
   ],
   "metadata": {
    "collapsed": false,
    "pycharm": {
     "name": "#%%\n"
    }
   }
  },
  {
   "cell_type": "code",
   "execution_count": 185,
   "outputs": [
    {
     "name": "stdout",
     "output_type": "stream",
     "text": [
      "18       0.786555\n",
      "19       0.856732\n",
      "36       0.824913\n",
      "37       0.869863\n",
      "55       0.887693\n",
      "           ...   \n",
      "17270    0.903664\n",
      "17278    0.938815\n",
      "17294    0.962836\n",
      "17302    0.901747\n",
      "17322    0.774227\n",
      "Name: prediction, Length: 1632, dtype: float32 18       0.620000\n",
      "19       0.800000\n",
      "36       0.700000\n",
      "37       0.500000\n",
      "55       0.736111\n",
      "           ...   \n",
      "17270    1.000000\n",
      "17278    0.972222\n",
      "17294    0.976190\n",
      "17302    1.000000\n",
      "17322    0.726562\n",
      "Name: score, Length: 1632, dtype: float64\n"
     ]
    },
    {
     "data": {
      "text/plain": "<Figure size 1200x600 with 1 Axes>",
      "image/png": "[encoded data removed]"
     },
     "metadata": {},
     "output_type": "display_data"
    },
    {
     "name": "stdout",
     "output_type": "stream",
     "text": [
      "\n",
      "Statistics for LSTM Model:\n",
      "Mean difference: 0.1072\n",
      "Std deviation: 0.1012\n",
      "Min difference: -0.5356\n",
      "Max difference: 0.7135\n"
     ]
    }
   ],
   "source": [
    "test_df_group_LSTM_2 = test_df.copy()\n",
    "test_df_group_LSTM_2['prediction'] = test_stats['y_pred']\n",
    "test_df_group_LSTM_2['score'] = test_stats['y']\n",
    "plot_prediction_score_difference(test_df_group_LSTM_2, 'LSTM Model')"
   ],
   "metadata": {
    "collapsed": false,
    "pycharm": {
     "name": "#%%\n"
    }
   }
  },
  {
   "cell_type": "code",
   "execution_count": 188,
   "outputs": [
    {
     "name": "stdout",
     "output_type": "stream",
     "text": [
      "-6.263472382768358 4.2574648609018327e-10\n"
     ]
    }
   ],
   "source": [
    "compare_model_scores(test_df_group_HA, test_df_group_LSTM_2)"
   ],
   "metadata": {
    "collapsed": false,
    "pycharm": {
     "name": "#%%\n"
    }
   }
  },
  {
   "cell_type": "code",
   "execution_count": 193,
   "outputs": [
    {
     "name": "stdout",
     "output_type": "stream",
     "text": [
      "18       0.620000\n",
      "19       0.800000\n",
      "36       0.700000\n",
      "37       0.500000\n",
      "55       0.736111\n",
      "           ...   \n",
      "17270    1.000000\n",
      "17278    0.972222\n",
      "17294    0.976190\n",
      "17302    1.000000\n",
      "17322    0.726562\n",
      "Name: score, Length: 1632, dtype: float64 18       0.620000\n",
      "19       0.800000\n",
      "36       0.700000\n",
      "37       0.500000\n",
      "55       0.736111\n",
      "           ...   \n",
      "17270    1.000000\n",
      "17278    0.972222\n",
      "17294    0.976190\n",
      "17302    1.000000\n",
      "17322    0.726562\n",
      "Name: score, Length: 1632, dtype: float64\n"
     ]
    }
   ],
   "source": [
    "print(test_df_group_HA['score'], test_df_group_LSTM_2['score'])\n"
   ],
   "metadata": {
    "collapsed": false,
    "pycharm": {
     "name": "#%%\n"
    }
   }
  },
  {
   "cell_type": "code",
   "execution_count": 76,
   "outputs": [],
   "source": [
    "class PredictionAllFeaturesCNN(nn.Module):\n",
    "    def __init__(self, no_layers, vocab_size, vocab_size_driv, embedding_dim, embedding_dim_driv, output_dim, drop_prob=0.5):\n",
    "        super(PredictionAllFeaturesCNN, self).__init__()\n",
    "\n",
    "        self.no_layers = no_layers\n",
    "        self.output_dim = output_dim\n",
    "        self.vocab_size = vocab_size\n",
    "        self.vocab_size_driv = vocab_size_driv\n",
    "\n",
    "        # Embedding layers\n",
    "        self.embedding = nn.Embedding(vocab_size, embedding_dim)\n",
    "        self.embedding_driv = nn.Embedding(vocab_size_driv, embedding_dim_driv)\n",
    "\n",
    "        # CNN layers\n",
    "        self.conv1 = nn.Conv1d(in_channels=embedding_dim, out_channels=64, kernel_size=3, padding=1)\n",
    "        self.pool = nn.MaxPool1d(kernel_size=2, stride=2)\n",
    "\n",
    "\n",
    "        # self.lstm = nn.LSTM(input_size=embedding_dim,hidden_size=self.hidden_dim,\n",
    "        #                    num_layers=no_layers, batch_first=True)\n",
    "        # self.lstm = nn.LSTM(input_size=embedding_dim,hidden_size=self.hidden_dim,\n",
    "        #                    num_layers=no_layers, batch_first=True)\n",
    "        # embedding_dim_driv+2\n",
    "        # self.lstm = nn.LSTM(input_size=embedding_dim,hidden_size=self.hidden_dim,\n",
    "        #                    num_layers=no_layers, batch_first=True)\n",
    "\n",
    "\n",
    "        # dropout layer\n",
    "        # self.lstm = nn.LSTM(input_size=embedding_dim,hidden_size=self.hidden_dim,\n",
    "        #                    num_layers=no_layers, batch_first=True)\n",
    "\n",
    "        self.dropout = nn.Dropout(drop_prob)\n",
    "        # self.fc = nn.Linear(self.hidden_dim, output_dim)\n",
    "        # self.fc_static_1 = nn.Linear(embedding_dim_driv+embedding_dim_len+9, 16)\n",
    "        self.fc_static_1 = nn.Linear(embedding_dim_driv+9, 128)\n",
    "        # self.fc_static_2 = nn.Linear(128, 128)\n",
    "        # # self.fc = nn.Linear(36, output_dim)\n",
    "        # # self.fc = nn.Linear(1316, output_dim)\n",
    "        self.fc = nn.Linear(128+64,64)\n",
    "        # # self.fc = nn.Linear(128,128)\n",
    "        self.layer2 = nn.Linear(128, 64)\n",
    "        self.layer3 = nn.Linear(64, 1)\n",
    "        self.relu = nn.ReLU()\n",
    "        self.sig = nn.Sigmoid()\n",
    "\n",
    "    def forward(self, x, is_training=True):\n",
    "        batch_size = len(x['routes'])\n",
    "        route_ids = x['routes'].int()\n",
    "\n",
    "        embeds = self.embedding(route_ids)  # shape: B x S x Feature   since batch = True\n",
    "\n",
    "        # get driver ids example\n",
    "        driver_ids = x['driver_id_sorted'].int()\n",
    "        experience = x['last_two_weeks_count'].int()\n",
    "        len_feature = x['len'].int()\n",
    "        # distance = x['distance_route'].int()\n",
    "        day_of_week_feature = x['day_of_week_encoded_ext'].int()\n",
    "        country_flag = x['country_flag'].int()\n",
    "        location_is_depot = x['location_is_depot'].int()\n",
    "        location_type_id = x['location_type_id'].int()\n",
    "\n",
    "        embedding_driv = self.embedding_driv(driver_ids)\n",
    "        # ,distance.view(batch_size, max_route_length, 1)\n",
    "        # experience.view(batch_size, max_route_length, 1)\n",
    "\n",
    "        # all_embeds = torch.concatenate((embeds, distance.view(batch_size, max_route_length, 1), location_is_depot.view(batch_size, max_route_length, 1), location_type_id.view(batch_size, max_route_length, 1)), dim=2)\n",
    "        all_embeds = embeds\n",
    "\n",
    "        # all_static = torch.concatenate((embedding_driv, embedding_len, day_of_week_feature, country_flag.view(batch_size, 1),experience.view(batch_size, 1)), dim=1)\n",
    "        all_static = torch.concatenate((embedding_driv, country_flag.view(batch_size, 1),len_feature.view(batch_size, 1), day_of_week_feature), dim=1)\n",
    "        # all_static = torch.concatenate((embedding_driv, day_of_week_feature), dim=1)\n",
    "\n",
    "\n",
    "        cnn_input = embeds.permute(0, 2, 1)  # Reshape for CNN: B x Feature x S\n",
    "        cnn_out = self.conv1(cnn_input)\n",
    "        cnn_out = self.relu(cnn_out)\n",
    "        cnn_out = self.pool(cnn_out)\n",
    "        # cnn_out = cnn_out.permute(0, 2, 1)\n",
    "        cnn_out = torch.mean(cnn_out, dim=2)\n",
    "        cnn_out = self.dropout(cnn_out)\n",
    "\n",
    "        # lstm_out, _ = self.lstm(cnn_out)\n",
    "        # # lstm_out = lstm_out.contiguous().view(batch_size, max_route_length, self.hidden_dim)\n",
    "        # lstm_out = lstm_out.contiguous().view(batch_size, -1, self.hidden_dim)\n",
    "        # out = self.dropout(lstm_out)\n",
    "\n",
    "        out_static = self.relu(self.fc_static_1(all_static))\n",
    "        # out_static = self.dropout(self.fc_static_2(out_static))\n",
    "        # out_static = out_static.unsqueeze(1)\n",
    "\n",
    "        combined = self.fc(torch.cat((cnn_out, out_static), dim=1))\n",
    "        # out = self.fc(torch.concatenate((out, out_static), dim=1))\n",
    "        # out_static = out_static.squeeze(1).unsqueeze(1).repeat(1, 36, 1)  # New shape: [2048, 36, 64]\n",
    "        # out = self.fc(torch.cat((out, out_static), dim=2))\n",
    "        x = self.relu(combined)\n",
    "        # x = self.relu(self.layer2(out))\n",
    "        # out = self.dropout(x)\n",
    "        out = self.layer3(x)\n",
    "        # print(out.shape)\n",
    "        # sigmoid function\n",
    "        sig_out = self.sig(out)\n",
    "\n",
    "        # reshape to be batch_size first\n",
    "        sig_out = sig_out.view(batch_size, -1)\n",
    "        sig_out = sig_out[:, -1] # get last batch of labels\n",
    "        # print(sig_out.shape)\n",
    "        return sig_out"
   ],
   "metadata": {
    "collapsed": false,
    "pycharm": {
     "name": "#%%\n"
    }
   }
  },
  {
   "cell_type": "code",
   "execution_count": 174,
   "outputs": [],
   "source": [
    "import math\n",
    "\n",
    "\n",
    "class RunningNorm:\n",
    "    def __init__(self, dim=0):\n",
    "        self.dim = dim\n",
    "        self.n = 0\n",
    "        self.mean = 0\n",
    "        self.var = 0\n",
    "\n",
    "    def update(self, x):\n",
    "        self.n += 1\n",
    "        if self.n == 1:\n",
    "            self.mean = x\n",
    "            self.var = torch.zeros_like(x)\n",
    "        else:\n",
    "            new_mean = self.mean + (x - self.mean) / self.n\n",
    "            self.var = (self.var * (self.n - 1) + (x - self.mean) * (x - new_mean)) / self.n\n",
    "            self.mean = new_mean\n",
    "\n",
    "    def normalize(self, x):\n",
    "        if self.n == 0:\n",
    "            return x\n",
    "        return (x - self.mean) / (torch.sqrt(self.var) + 1e-8)\n",
    "\n",
    "class PositionalEncoding(nn.Module):\n",
    "    def __init__(self, d_model, max_len=35):\n",
    "        super(PositionalEncoding, self).__init__()\n",
    "        pe = torch.zeros(max_len, d_model)\n",
    "        position = torch.arange(0, max_len, dtype=torch.float).unsqueeze(1)\n",
    "        div_term = torch.exp(torch.arange(0, d_model, 2).float() * (-math.log(10000.0) / d_model))\n",
    "        pe[:, 0::2] = torch.sin(position * div_term)\n",
    "        pe[:, 1::2] = torch.cos(position * div_term)\n",
    "        pe = pe.unsqueeze(0)\n",
    "        self.register_buffer('pe', pe)\n",
    "\n",
    "    def forward(self, x):\n",
    "        # x.shape should be (batch_size, sequence_length, d_model)\n",
    "        sequence_length = x.size(1)\n",
    "        x = x + self.pe[:, :sequence_length, :]\n",
    "        return x\n",
    "\n",
    "class SinusoidalPosEmb(nn.Module):\n",
    "    def __init__(self, dim):\n",
    "        super().__init__()\n",
    "        self.dim = dim\n",
    "\n",
    "    def forward(self, x):\n",
    "        device = x.device\n",
    "        half_dim = self.dim // 2\n",
    "        emb = math.log(10000) / (half_dim - 1)\n",
    "        emb = torch.exp(torch.arange(half_dim, device=device) * -emb)\n",
    "        emb = x[:, None] * emb[None, :]\n",
    "        emb = torch.cat((emb.sin(), emb.cos()), dim=-1)\n",
    "        return emb\n",
    "\n",
    "\n",
    "# \"Encoder-Only\" Style Transformer\n",
    "class NanoTransformer(nn.Module):\n",
    "    \"\"\"\n",
    "    This class implements a simplified Transformer model for sequence classification.\n",
    "    It uses an embedding layer for tokens, sinusoidal positional embeddings,\n",
    "    a single Transformer block, and a final linear layer for prediction.\n",
    "\n",
    "    Args:\n",
    "      num_emb: The number of unique tokens in the vocabulary.\n",
    "      output_size: The size of the output layer (number of classes).\n",
    "      hidden_size: The dimension of the hidden layer in the Transformer block (default: 128).\n",
    "      num_heads: The number of heads in the multi-head attention layer (default: 4).\n",
    "    \"\"\"\n",
    "    def __init__(self, embedding_dim, vocab_size, embedding_dim_driv, vocab_size_driv, hidden_size=64, num_heads=4):\n",
    "        super(NanoTransformer, self).__init__()\n",
    "\n",
    "        # Create an embedding for each token\n",
    "        self.embedding = nn.Embedding(vocab_size, embedding_dim)\n",
    "        self.embedding_driv = nn.Embedding(vocab_size_driv, embedding_dim_driv)\n",
    "        self.embedding.weight.data = 0.001 * self.embedding.weight.data\n",
    "\n",
    "        self.hidden_size = hidden_size\n",
    "        self.embedding_dim_driv = embedding_dim_driv\n",
    "        self.vocab_size_driv = vocab_size_driv\n",
    "\n",
    "        self.pos_emb = SinusoidalPosEmb(hidden_size)\n",
    "\n",
    "        self.multihead_attn1 = nn.MultiheadAttention(hidden_size, num_heads=num_heads, batch_first=True)\n",
    "        self.layer_norm = nn.LayerNorm(hidden_size)\n",
    "        self.fc_static_1 = nn.Linear(embedding_dim_driv+9, 128)\n",
    "        self.layer3 = nn.Linear(128, 1)\n",
    "        self.fc = nn.Linear(hidden_size+128, 64)\n",
    "        self.layer3 = nn.Linear(64, 1)\n",
    "        self.relu = nn.ReLU()\n",
    "        self.sig = nn.Sigmoid()\n",
    "\n",
    "\n",
    "\n",
    "    def forward(self, x, is_training=True):\n",
    "        bs = len(x['routes'])\n",
    "        l = len(x['routes'][0])\n",
    "        route_ids = x['routes'].int()\n",
    "        input_embs = self.embedding(route_ids)  # shape: B x S x Feature   since batch = True\n",
    "\n",
    "        driver_ids = x['driver_id_sorted'].int()\n",
    "        experience = x['last_two_weeks_count'].float()\n",
    "        len_feature = x['len'].float()\n",
    "        day_of_week_feature = x['day_of_week_encoded_ext'].int()\n",
    "        country_flag = x['country_flag'].int()\n",
    "        location_is_depot = x['location_is_depot'].int()\n",
    "        location_type_id = x['location_type_id'].int()\n",
    "\n",
    "        embedding_driv = self.embedding_driv(driver_ids)\n",
    "\n",
    "        all_static = torch.cat((embedding_driv, country_flag.view(bs, 1),\n",
    "                                len_feature.view(bs, 1), day_of_week_feature), dim=1)\n",
    "\n",
    "\n",
    "        seq_indx = torch.arange(l)\n",
    "        pos_emb = self.pos_emb(seq_indx).reshape(1, l, -1).expand(bs, l, -1)\n",
    "        embs = input_embs + pos_emb\n",
    "        output1, attn_map1 = self.multihead_attn1(embs, embs, embs)\n",
    "        output = self.layer_norm(embs + output1)\n",
    "\n",
    "        out_static = self.relu(self.fc_static_1(all_static))\n",
    "        out_static = out_static.unsqueeze(1).expand(-1, l, -1)\n",
    "\n",
    "        out = self.fc(torch.cat((output, out_static), dim=2))\n",
    "        out = self.layer3(out)\n",
    "        sig_out = self.sig(out).squeeze(-1)\n",
    "        final_out = torch.mean(sig_out, dim=1)\n",
    "        # seq_indx = torch.arange(l)\n",
    "        # pos_emb = self.pos_emb(seq_indx).reshape(1, l, -1).expand(bs, l, -1)\n",
    "        # embs = input_embs + pos_emb\n",
    "        # output, attn_map = self.multihead_attn(embs, embs, embs)\n",
    "        #\n",
    "        # out_static = self.bn1(self.relu(self.fc_static_1(all_static)))\n",
    "        #\n",
    "        # out_static = out_static.squeeze(1).unsqueeze(1).repeat(1, 36, 1)  # New shape: [2048, 36, 64]\n",
    "        # out = self.fc(torch.cat((output, out_static), dim=2))\n",
    "\n",
    "        # print(out.shape)\n",
    "        # out = self.layer3(out)\n",
    "        # sig_out = self.sig(out)\n",
    "        # print(sig_out.shape)\n",
    "        # sig_out = sig_out.view(bs, -1)\n",
    "        # print(sig_out.shape)\n",
    "        # sig_out = sig_out[:, -1] # get last batch of labels\n",
    "        # print(sig_out.shape)\n",
    "        # raise 'ere'\n",
    "        return final_out"
   ],
   "metadata": {
    "collapsed": false,
    "pycharm": {
     "name": "#%%\n"
    }
   }
  },
  {
   "cell_type": "code",
   "execution_count": null,
   "outputs": [],
   "source": [],
   "metadata": {
    "collapsed": false,
    "pycharm": {
     "name": "#%%\n"
    }
   }
  }
 ],
 "metadata": {
  "kernelspec": {
   "display_name": "Python 3",
   "language": "python",
   "name": "python3"
  },
  "language_info": {
   "codemirror_mode": {
    "name": "ipython",
    "version": 2
   },
   "file_extension": ".py",
   "mimetype": "text/x-python",
   "name": "python",
   "nbconvert_exporter": "python",
   "pygments_lexer": "ipython2",
   "version": "2.7.6"
  }
 },
 "nbformat": 4,
 "nbformat_minor": 0
}