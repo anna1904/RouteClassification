{
 "cells": [
  {
   "cell_type": "markdown",
   "source": [
    "# Generate routes"
   ],
   "metadata": {
    "collapsed": false,
    "pycharm": {
     "name": "#%% md\n"
    }
   }
  },
  {
   "cell_type": "code",
   "execution_count": 3,
   "outputs": [],
   "source": [
    "import pandas as pd\n",
    "import numpy as np\n",
    "from datetime import datetime\n",
    "import pandas as pd\n",
    "import matplotlib.pyplot as plt\n",
    "from datetime import datetime, timedelta\n",
    "from sklearn.cluster import KMeans"
   ],
   "metadata": {
    "collapsed": false,
    "pycharm": {
     "name": "#%%\n"
    }
   }
  },
  {
   "cell_type": "code",
   "execution_count": 4,
   "outputs": [
    {
     "name": "stdout",
     "output_type": "stream",
     "text": [
      "stop_completed_at         0\n",
      "stop_arrived_at           0\n",
      "stop_latest               0\n",
      "stop_earliest             0\n",
      "stop_dispatched_at        0\n",
      "location_id               0\n",
      "location_type_id          0\n",
      "driver_workday_id         0\n",
      "address_id                0\n",
      "location_is_depot         0\n",
      "driver_id                 0\n",
      "current_lat               0\n",
      "current_lng               0\n",
      "prev_planned_lat      27440\n",
      "prev_planned_lng      27440\n",
      "prev_actual_lat       27440\n",
      "prev_actual_lng       27440\n",
      "dtype: int64\n",
      "number of groups 11589\n"
     ]
    },
    {
     "data": {
      "text/plain": "       driver_workday_id                                          driver_id  \\\n0                 297900  [1255, 1255, 1255, 1255, 1255, 1255, 1255, 125...   \n1                 297906         [1195, 1195, 1195, 1195, 1195, 1195, 1195]   \n2                 297908  [1176, 1176, 1176, 1176, 1176, 1176, 1176, 117...   \n3                 297911  [1197, 1197, 1197, 1197, 1197, 1197, 1197, 119...   \n4                 297919  [1218, 1218, 1218, 1218, 1218, 1218, 1218, 121...   \n...                  ...                                                ...   \n27441             442393                [877, 877, 877, 877, 877, 877, 877]   \n27442             443087  [1562, 1562, 1562, 1562, 1562, 1562, 1562, 156...   \n27443             443092                           [1417, 1417, 1417, 1417]   \n27444             443098                                         [874, 874]   \n27445             443107  [723, 723, 723, 723, 723, 723, 723, 723, 723, ...   \n\n                                        location_type_id  \\\n0                         [1, 2, 2, 2, 2, 2, 2, 2, 2, 2]   \n1                                  [1, 2, 2, 2, 2, 2, 2]   \n2      [1, 2, 2, 2, 2, 2, 2, 2, 2, 2, 2, 2, 2, 2, 2, ...   \n3                         [1, 2, 2, 2, 2, 2, 2, 2, 2, 2]   \n4                      [1, 2, 2, 2, 2, 2, 2, 2, 2, 2, 2]   \n...                                                  ...   \n27441                              [1, 2, 2, 2, 2, 2, 2]   \n27442  [1, 2, 2, 2, 2, 1, 2, 2, 1, 2, 2, 1, 2, 2, 2, ...   \n27443                                       [1, 2, 1, 2]   \n27444                                             [1, 2]   \n27445               [1, 2, 2, 2, 2, 2, 2, 2, 2, 2, 1, 2]   \n\n                                  planned_route_location  \\\n0      [132992, 128289, 128104, 128048, 127766, 12845...   \n1      [132992, 130073, 130075, 128234, 130076, 14676...   \n2      [132992, 130448, 128643, 128641, 128584, 13017...   \n3      [132992, 153283, 146745, 146743, 146740, 14673...   \n4      [132992, 129015, 127984, 128413, 128017, 12811...   \n...                                                  ...   \n27441  [23287, 64432, 40011, 208678, 176858, 222554, ...   \n27442  [183410, 186769, 186495, 188745, 186479, 18874...   \n27443                      [50009, 50553, 50009, 176776]   \n27444                                    [23287, 150068]   \n27445  [50009, 47694, 180866, 46972, 47695, 47029, 52...   \n\n                                      stop_dispatched_at  \\\n0      [2024-01-01 19:41:35.136881+00, 2024-01-01 19:...   \n1      [2024-01-01 19:42:05.147145+00, 2024-01-01 19:...   \n2      [2024-01-01 21:25:47.230131+00, 2024-01-01 21:...   \n3      [2024-01-01 19:42:59.704147+00, 2024-01-01 19:...   \n4      [2024-01-01 19:46:51.16173+00, 2024-01-01 19:4...   \n...                                                  ...   \n27441  [2024-08-06 19:39:12.755331+00, 2024-08-06 19:...   \n27442  [2024-08-07 01:23:02.437621+00, 2024-08-07 01:...   \n27443  [2024-08-07 05:59:26.311221+00, 2024-08-07 05:...   \n27444  [2024-08-07 05:42:45.306612+00, 2024-08-07 05:...   \n27445  [2024-08-07 08:27:45.361844+00, 2024-08-07 08:...   \n\n                                         stop_arrived_at  \\\n0      [2024-01-01 22:14:16.454324+00, 2024-01-01 23:...   \n1      [2024-01-01 20:50:17.003744+00, 2024-01-02 02:...   \n2      [2024-01-01 23:06:27.627368+00, 2024-01-02 01:...   \n3      [2024-01-02 00:09:15.241119+00, 2024-01-02 04:...   \n4      [2024-01-01 23:05:52.039818+00, 2024-01-02 01:...   \n...                                                  ...   \n27441  [2024-08-07 13:31:50.711864+00, 2024-08-07 13:...   \n27442  [2024-08-07 01:24:05.33254+00, 2024-08-07 03:3...   \n27443  [2024-08-07 06:38:14.810272+00, 2024-08-07 07:...   \n27444  [2024-08-07 13:31:52.652071+00, 2024-08-07 13:...   \n27445  [2024-08-07 09:00:31.581115+00, 2024-08-07 10:...   \n\n                                           stop_earliest  \\\n0      [2024-01-01 19:00:00+00, 2024-01-01 23:00:00+0...   \n1      [2024-01-01 19:00:00+00, 2024-01-01 21:00:00+0...   \n2      [2024-01-01 19:00:00+00, 2024-01-01 21:00:00+0...   \n3      [2024-01-02 00:00:00+00, 2024-01-02 04:30:00+0...   \n4      [2024-01-01 19:00:00+00, 2024-01-01 21:00:00+0...   \n...                                                  ...   \n27441  [2024-08-07 01:00:00+00, 2024-08-07 05:00:00+0...   \n27442  [2024-08-07 00:00:00+00, 2024-08-07 02:00:00+0...   \n27443  [2024-08-07 02:00:00+00, 2024-08-07 05:00:00+0...   \n27444   [2024-08-07 01:00:00+00, 2024-08-07 05:00:00+00]   \n27445  [2024-08-07 02:00:00+00, 2024-08-07 06:00:00+0...   \n\n                                             stop_latest  \\\n0      [2024-01-02 01:00:00+00, 2024-01-02 03:00:00+0...   \n1      [2024-01-02 01:00:00+00, 2024-01-02 04:00:00+0...   \n2      [2024-01-02 01:00:00+00, 2024-01-02 04:00:00+0...   \n3      [2024-01-02 22:00:00+00, 2024-01-02 08:00:00+0...   \n4      [2024-01-02 01:00:00+00, 2024-01-02 04:00:00+0...   \n...                                                  ...   \n27441  [2024-08-07 14:00:00+00, 2024-08-07 11:00:00+0...   \n27442  [2024-08-07 16:00:00+00, 2024-08-07 04:00:00+0...   \n27443  [2024-08-07 20:00:00+00, 2024-08-07 07:00:00+0...   \n27444   [2024-08-07 14:00:00+00, 2024-08-07 11:00:00+00]   \n27445  [2024-08-07 20:00:00+00, 2024-08-07 10:00:00+0...   \n\n                                             current_lat  \\\n0      [55.6465393, 55.6669147, 55.676665, 55.6757322...   \n1      [55.6465393, 55.662018, 55.662429, 55.6727433,...   \n2      [55.6465393, 55.619592, 55.636304, 55.631888, ...   \n3      [55.6465393, 54.65117396302384, 54.666191, 54....   \n4      [55.6465393, 55.62296, 55.562168, 55.6381577, ...   \n...                                                  ...   \n27441  [60.007627, 59.923836, 59.93422, 59.811373, 59...   \n27442  [56.0667627, 56.13472729999999, 56.1352239, 56...   \n27443  [59.805664, 59.795058, 59.805664, 59.948098894...   \n27444                             [60.007627, 59.905421]   \n27445  [59.805664, 59.420838, 59.415188, 59.414098, 5...   \n\n                                             current_lng  \\\n0      [12.1522978, 12.5262801, 12.566428, 12.5619711...   \n1      [12.1522978, 12.360745, 12.363469, 12.3935111,...   \n2      [12.1522978, 12.028735, 12.044857, 12.055067, ...   \n3      [12.1522978, 11.375901220879824, 11.333044, 11...   \n4      [12.1522978, 12.615835, 12.576841, 12.6515491,...   \n...                                                  ...   \n27441  [11.047135, 10.814451, 10.800594, 10.80755, 10...   \n27442  [9.986944, 8.9884048, 8.9838423, 8.9810943, 8....   \n27443  [10.290383, 10.279009, 10.290383, 10.771520299...   \n27444                             [11.047135, 10.618603]   \n27445  [10.290383, 10.488199, 10.496616, 10.487423, 1...   \n\n                                       stop_completed_at  \\\n0      [2024-01-01 22:14:54.872731+00, 2024-01-01 23:...   \n1      [2024-01-01 20:50:29.721122+00, 2024-01-02 02:...   \n2      [2024-01-01 23:06:36.064172+00, 2024-01-02 01:...   \n3      [2024-01-02 00:09:21.131516+00, 2024-01-02 04:...   \n4      [2024-01-01 23:05:58.283704+00, 2024-01-02 01:...   \n...                                                  ...   \n27441  [2024-08-07 13:31:50.711869+00, 2024-08-07 13:...   \n27442  [2024-08-07 01:24:05.33256+00, 2024-08-07 03:3...   \n27443  [2024-08-07 07:10:49.406797+00, 2024-08-07 07:...   \n27444  [2024-08-07 13:31:52.652071+00, 2024-08-07 13:...   \n27445  [2024-08-07 09:00:39.885506+00, 2024-08-07 10:...   \n\n                                   planned_route_cluster  \\\n0      [3165, 1419, 3238, 3429, 720, 1360, 4511, 3703...   \n1              [3165, 122, 3540, 1413, 3487, 2070, 1287]   \n2      [3165, 1073, 1995, 3776, 1059, 1266, 1938, 193...   \n3      [3165, 442, 137, 137, 137, 137, 137, 137, 1809...   \n4      [3165, 3301, 537, 1830, 4879, 3305, 3305, 1642...   \n...                                                  ...   \n27441             [30, 3949, 4848, 4971, 2429, 45, 2313]   \n27442  [39, 1071, 3823, 4365, 4365, 39, 3823, 3823, 4...   \n27443                               [33, 2032, 33, 2852]   \n27444                                         [30, 3836]   \n27445  [33, 3225, 4361, 4473, 1308, 2346, 37, 3408, 4...   \n\n                                     planned_route_craft  \\\n0      [1169, 1405, 1577, 1560, 1479, 1391, 1434, 141...   \n1             [1169, 1352, 1356, 1508, 1350, 1312, 1401]   \n2      [1169, 960, 1049, 1026, 982, 916, 1284, 1281, ...   \n3               [1169, 7, 23, 23, 23, 23, 23, 23, 12, 4]   \n4      [1169, 965, 818, 1070, 1658, 1168, 1166, 888, ...   \n...                                                  ...   \n27441        [10076, 8785, 9172, 7204, 6955, 5902, 7045]   \n27442  [3162, 3403, 3408, 3440, 3437, 3162, 3408, 338...   \n27443                           [7166, 7127, 7166, 9527]   \n27444                                      [10076, 7846]   \n27445  [7166, 5428, 5394, 5385, 5347, 4633, 4350, 431...   \n\n                                             day_of_week  \\\n0      [Monday, Monday, Monday, Monday, Monday, Monda...   \n1      [Monday, Monday, Monday, Monday, Monday, Monda...   \n2      [Monday, Monday, Monday, Monday, Monday, Monda...   \n3      [Monday, Monday, Monday, Monday, Monday, Monda...   \n4      [Monday, Monday, Monday, Monday, Monday, Monda...   \n...                                                  ...   \n27441  [Tuesday, Tuesday, Tuesday, Tuesday, Tuesday, ...   \n27442  [Wednesday, Wednesday, Wednesday, Wednesday, W...   \n27443       [Wednesday, Wednesday, Wednesday, Wednesday]   \n27444                             [Wednesday, Wednesday]   \n27445  [Wednesday, Wednesday, Wednesday, Wednesday, W...   \n\n                                       location_is_depot  \\\n0      [True, False, False, False, False, False, Fals...   \n1       [True, False, False, False, False, False, False]   \n2      [True, False, False, False, False, False, Fals...   \n3      [True, False, False, False, False, False, Fals...   \n4      [True, False, False, False, False, False, Fals...   \n...                                                  ...   \n27441   [True, False, False, False, False, False, False]   \n27442  [True, True, False, False, False, False, False...   \n27443                         [True, False, True, False]   \n27444                                      [True, False]   \n27445  [True, False, False, False, False, False, Fals...   \n\n                                                    date  \n0      [2024-01-01, 2024-01-01, 2024-01-01, 2024-01-0...  \n1      [2024-01-01, 2024-01-01, 2024-01-01, 2024-01-0...  \n2      [2024-01-01, 2024-01-01, 2024-01-01, 2024-01-0...  \n3      [2024-01-01, 2024-01-01, 2024-01-01, 2024-01-0...  \n4      [2024-01-01, 2024-01-01, 2024-01-01, 2024-01-0...  \n...                                                  ...  \n27441  [2024-08-06, 2024-08-06, 2024-08-06, 2024-08-0...  \n27442  [2024-08-07, 2024-08-07, 2024-08-07, 2024-08-0...  \n27443   [2024-08-07, 2024-08-07, 2024-08-07, 2024-08-07]  \n27444                           [2024-08-07, 2024-08-07]  \n27445  [2024-08-07, 2024-08-07, 2024-08-07, 2024-08-0...  \n\n[27446 rows x 16 columns]",
      "text/html": "<div>\n<style scoped>\n    .dataframe tbody tr th:only-of-type {\n        vertical-align: middle;\n    }\n\n    .dataframe tbody tr th {\n        vertical-align: top;\n    }\n\n    .dataframe thead th {\n        text-align: right;\n    }\n</style>\n<table border=\"1\" class=\"dataframe\">\n  <thead>\n    <tr style=\"text-align: right;\">\n      <th></th>\n      <th>driver_workday_id</th>\n      <th>driver_id</th>\n      <th>location_type_id</th>\n      <th>planned_route_location</th>\n      <th>stop_dispatched_at</th>\n      <th>stop_arrived_at</th>\n      <th>stop_earliest</th>\n      <th>stop_latest</th>\n      <th>current_lat</th>\n      <th>current_lng</th>\n      <th>stop_completed_at</th>\n      <th>planned_route_cluster</th>\n      <th>planned_route_craft</th>\n      <th>day_of_week</th>\n      <th>location_is_depot</th>\n      <th>date</th>\n    </tr>\n  </thead>\n  <tbody>\n    <tr>\n      <th>0</th>\n      <td>297900</td>\n      <td>[1255, 1255, 1255, 1255, 1255, 1255, 1255, 125...</td>\n      <td>[1, 2, 2, 2, 2, 2, 2, 2, 2, 2]</td>\n      <td>[132992, 128289, 128104, 128048, 127766, 12845...</td>\n      <td>[2024-01-01 19:41:35.136881+00, 2024-01-01 19:...</td>\n      <td>[2024-01-01 22:14:16.454324+00, 2024-01-01 23:...</td>\n      <td>[2024-01-01 19:00:00+00, 2024-01-01 23:00:00+0...</td>\n      <td>[2024-01-02 01:00:00+00, 2024-01-02 03:00:00+0...</td>\n      <td>[55.6465393, 55.6669147, 55.676665, 55.6757322...</td>\n      <td>[12.1522978, 12.5262801, 12.566428, 12.5619711...</td>\n      <td>[2024-01-01 22:14:54.872731+00, 2024-01-01 23:...</td>\n      <td>[3165, 1419, 3238, 3429, 720, 1360, 4511, 3703...</td>\n      <td>[1169, 1405, 1577, 1560, 1479, 1391, 1434, 141...</td>\n      <td>[Monday, Monday, Monday, Monday, Monday, Monda...</td>\n      <td>[True, False, False, False, False, False, Fals...</td>\n      <td>[2024-01-01, 2024-01-01, 2024-01-01, 2024-01-0...</td>\n    </tr>\n    <tr>\n      <th>1</th>\n      <td>297906</td>\n      <td>[1195, 1195, 1195, 1195, 1195, 1195, 1195]</td>\n      <td>[1, 2, 2, 2, 2, 2, 2]</td>\n      <td>[132992, 130073, 130075, 128234, 130076, 14676...</td>\n      <td>[2024-01-01 19:42:05.147145+00, 2024-01-01 19:...</td>\n      <td>[2024-01-01 20:50:17.003744+00, 2024-01-02 02:...</td>\n      <td>[2024-01-01 19:00:00+00, 2024-01-01 21:00:00+0...</td>\n      <td>[2024-01-02 01:00:00+00, 2024-01-02 04:00:00+0...</td>\n      <td>[55.6465393, 55.662018, 55.662429, 55.6727433,...</td>\n      <td>[12.1522978, 12.360745, 12.363469, 12.3935111,...</td>\n      <td>[2024-01-01 20:50:29.721122+00, 2024-01-02 02:...</td>\n      <td>[3165, 122, 3540, 1413, 3487, 2070, 1287]</td>\n      <td>[1169, 1352, 1356, 1508, 1350, 1312, 1401]</td>\n      <td>[Monday, Monday, Monday, Monday, Monday, Monda...</td>\n      <td>[True, False, False, False, False, False, False]</td>\n      <td>[2024-01-01, 2024-01-01, 2024-01-01, 2024-01-0...</td>\n    </tr>\n    <tr>\n      <th>2</th>\n      <td>297908</td>\n      <td>[1176, 1176, 1176, 1176, 1176, 1176, 1176, 117...</td>\n      <td>[1, 2, 2, 2, 2, 2, 2, 2, 2, 2, 2, 2, 2, 2, 2, ...</td>\n      <td>[132992, 130448, 128643, 128641, 128584, 13017...</td>\n      <td>[2024-01-01 21:25:47.230131+00, 2024-01-01 21:...</td>\n      <td>[2024-01-01 23:06:27.627368+00, 2024-01-02 01:...</td>\n      <td>[2024-01-01 19:00:00+00, 2024-01-01 21:00:00+0...</td>\n      <td>[2024-01-02 01:00:00+00, 2024-01-02 04:00:00+0...</td>\n      <td>[55.6465393, 55.619592, 55.636304, 55.631888, ...</td>\n      <td>[12.1522978, 12.028735, 12.044857, 12.055067, ...</td>\n      <td>[2024-01-01 23:06:36.064172+00, 2024-01-02 01:...</td>\n      <td>[3165, 1073, 1995, 3776, 1059, 1266, 1938, 193...</td>\n      <td>[1169, 960, 1049, 1026, 982, 916, 1284, 1281, ...</td>\n      <td>[Monday, Monday, Monday, Monday, Monday, Monda...</td>\n      <td>[True, False, False, False, False, False, Fals...</td>\n      <td>[2024-01-01, 2024-01-01, 2024-01-01, 2024-01-0...</td>\n    </tr>\n    <tr>\n      <th>3</th>\n      <td>297911</td>\n      <td>[1197, 1197, 1197, 1197, 1197, 1197, 1197, 119...</td>\n      <td>[1, 2, 2, 2, 2, 2, 2, 2, 2, 2]</td>\n      <td>[132992, 153283, 146745, 146743, 146740, 14673...</td>\n      <td>[2024-01-01 19:42:59.704147+00, 2024-01-01 19:...</td>\n      <td>[2024-01-02 00:09:15.241119+00, 2024-01-02 04:...</td>\n      <td>[2024-01-02 00:00:00+00, 2024-01-02 04:30:00+0...</td>\n      <td>[2024-01-02 22:00:00+00, 2024-01-02 08:00:00+0...</td>\n      <td>[55.6465393, 54.65117396302384, 54.666191, 54....</td>\n      <td>[12.1522978, 11.375901220879824, 11.333044, 11...</td>\n      <td>[2024-01-02 00:09:21.131516+00, 2024-01-02 04:...</td>\n      <td>[3165, 442, 137, 137, 137, 137, 137, 137, 1809...</td>\n      <td>[1169, 7, 23, 23, 23, 23, 23, 23, 12, 4]</td>\n      <td>[Monday, Monday, Monday, Monday, Monday, Monda...</td>\n      <td>[True, False, False, False, False, False, Fals...</td>\n      <td>[2024-01-01, 2024-01-01, 2024-01-01, 2024-01-0...</td>\n    </tr>\n    <tr>\n      <th>4</th>\n      <td>297919</td>\n      <td>[1218, 1218, 1218, 1218, 1218, 1218, 1218, 121...</td>\n      <td>[1, 2, 2, 2, 2, 2, 2, 2, 2, 2, 2]</td>\n      <td>[132992, 129015, 127984, 128413, 128017, 12811...</td>\n      <td>[2024-01-01 19:46:51.16173+00, 2024-01-01 19:4...</td>\n      <td>[2024-01-01 23:05:52.039818+00, 2024-01-02 01:...</td>\n      <td>[2024-01-01 19:00:00+00, 2024-01-01 21:00:00+0...</td>\n      <td>[2024-01-02 01:00:00+00, 2024-01-02 04:00:00+0...</td>\n      <td>[55.6465393, 55.62296, 55.562168, 55.6381577, ...</td>\n      <td>[12.1522978, 12.615835, 12.576841, 12.6515491,...</td>\n      <td>[2024-01-01 23:05:58.283704+00, 2024-01-02 01:...</td>\n      <td>[3165, 3301, 537, 1830, 4879, 3305, 3305, 1642...</td>\n      <td>[1169, 965, 818, 1070, 1658, 1168, 1166, 888, ...</td>\n      <td>[Monday, Monday, Monday, Monday, Monday, Monda...</td>\n      <td>[True, False, False, False, False, False, Fals...</td>\n      <td>[2024-01-01, 2024-01-01, 2024-01-01, 2024-01-0...</td>\n    </tr>\n    <tr>\n      <th>...</th>\n      <td>...</td>\n      <td>...</td>\n      <td>...</td>\n      <td>...</td>\n      <td>...</td>\n      <td>...</td>\n      <td>...</td>\n      <td>...</td>\n      <td>...</td>\n      <td>...</td>\n      <td>...</td>\n      <td>...</td>\n      <td>...</td>\n      <td>...</td>\n      <td>...</td>\n      <td>...</td>\n    </tr>\n    <tr>\n      <th>27441</th>\n      <td>442393</td>\n      <td>[877, 877, 877, 877, 877, 877, 877]</td>\n      <td>[1, 2, 2, 2, 2, 2, 2]</td>\n      <td>[23287, 64432, 40011, 208678, 176858, 222554, ...</td>\n      <td>[2024-08-06 19:39:12.755331+00, 2024-08-06 19:...</td>\n      <td>[2024-08-07 13:31:50.711864+00, 2024-08-07 13:...</td>\n      <td>[2024-08-07 01:00:00+00, 2024-08-07 05:00:00+0...</td>\n      <td>[2024-08-07 14:00:00+00, 2024-08-07 11:00:00+0...</td>\n      <td>[60.007627, 59.923836, 59.93422, 59.811373, 59...</td>\n      <td>[11.047135, 10.814451, 10.800594, 10.80755, 10...</td>\n      <td>[2024-08-07 13:31:50.711869+00, 2024-08-07 13:...</td>\n      <td>[30, 3949, 4848, 4971, 2429, 45, 2313]</td>\n      <td>[10076, 8785, 9172, 7204, 6955, 5902, 7045]</td>\n      <td>[Tuesday, Tuesday, Tuesday, Tuesday, Tuesday, ...</td>\n      <td>[True, False, False, False, False, False, False]</td>\n      <td>[2024-08-06, 2024-08-06, 2024-08-06, 2024-08-0...</td>\n    </tr>\n    <tr>\n      <th>27442</th>\n      <td>443087</td>\n      <td>[1562, 1562, 1562, 1562, 1562, 1562, 1562, 156...</td>\n      <td>[1, 2, 2, 2, 2, 1, 2, 2, 1, 2, 2, 1, 2, 2, 2, ...</td>\n      <td>[183410, 186769, 186495, 188745, 186479, 18874...</td>\n      <td>[2024-08-07 01:23:02.437621+00, 2024-08-07 01:...</td>\n      <td>[2024-08-07 01:24:05.33254+00, 2024-08-07 03:3...</td>\n      <td>[2024-08-07 00:00:00+00, 2024-08-07 02:00:00+0...</td>\n      <td>[2024-08-07 16:00:00+00, 2024-08-07 04:00:00+0...</td>\n      <td>[56.0667627, 56.13472729999999, 56.1352239, 56...</td>\n      <td>[9.986944, 8.9884048, 8.9838423, 8.9810943, 8....</td>\n      <td>[2024-08-07 01:24:05.33256+00, 2024-08-07 03:3...</td>\n      <td>[39, 1071, 3823, 4365, 4365, 39, 3823, 3823, 4...</td>\n      <td>[3162, 3403, 3408, 3440, 3437, 3162, 3408, 338...</td>\n      <td>[Wednesday, Wednesday, Wednesday, Wednesday, W...</td>\n      <td>[True, True, False, False, False, False, False...</td>\n      <td>[2024-08-07, 2024-08-07, 2024-08-07, 2024-08-0...</td>\n    </tr>\n    <tr>\n      <th>27443</th>\n      <td>443092</td>\n      <td>[1417, 1417, 1417, 1417]</td>\n      <td>[1, 2, 1, 2]</td>\n      <td>[50009, 50553, 50009, 176776]</td>\n      <td>[2024-08-07 05:59:26.311221+00, 2024-08-07 05:...</td>\n      <td>[2024-08-07 06:38:14.810272+00, 2024-08-07 07:...</td>\n      <td>[2024-08-07 02:00:00+00, 2024-08-07 05:00:00+0...</td>\n      <td>[2024-08-07 20:00:00+00, 2024-08-07 07:00:00+0...</td>\n      <td>[59.805664, 59.795058, 59.805664, 59.948098894...</td>\n      <td>[10.290383, 10.279009, 10.290383, 10.771520299...</td>\n      <td>[2024-08-07 07:10:49.406797+00, 2024-08-07 07:...</td>\n      <td>[33, 2032, 33, 2852]</td>\n      <td>[7166, 7127, 7166, 9527]</td>\n      <td>[Wednesday, Wednesday, Wednesday, Wednesday]</td>\n      <td>[True, False, True, False]</td>\n      <td>[2024-08-07, 2024-08-07, 2024-08-07, 2024-08-07]</td>\n    </tr>\n    <tr>\n      <th>27444</th>\n      <td>443098</td>\n      <td>[874, 874]</td>\n      <td>[1, 2]</td>\n      <td>[23287, 150068]</td>\n      <td>[2024-08-07 05:42:45.306612+00, 2024-08-07 05:...</td>\n      <td>[2024-08-07 13:31:52.652071+00, 2024-08-07 13:...</td>\n      <td>[2024-08-07 01:00:00+00, 2024-08-07 05:00:00+00]</td>\n      <td>[2024-08-07 14:00:00+00, 2024-08-07 11:00:00+00]</td>\n      <td>[60.007627, 59.905421]</td>\n      <td>[11.047135, 10.618603]</td>\n      <td>[2024-08-07 13:31:52.652071+00, 2024-08-07 13:...</td>\n      <td>[30, 3836]</td>\n      <td>[10076, 7846]</td>\n      <td>[Wednesday, Wednesday]</td>\n      <td>[True, False]</td>\n      <td>[2024-08-07, 2024-08-07]</td>\n    </tr>\n    <tr>\n      <th>27445</th>\n      <td>443107</td>\n      <td>[723, 723, 723, 723, 723, 723, 723, 723, 723, ...</td>\n      <td>[1, 2, 2, 2, 2, 2, 2, 2, 2, 2, 1, 2]</td>\n      <td>[50009, 47694, 180866, 46972, 47695, 47029, 52...</td>\n      <td>[2024-08-07 08:27:45.361844+00, 2024-08-07 08:...</td>\n      <td>[2024-08-07 09:00:31.581115+00, 2024-08-07 10:...</td>\n      <td>[2024-08-07 02:00:00+00, 2024-08-07 06:00:00+0...</td>\n      <td>[2024-08-07 20:00:00+00, 2024-08-07 10:00:00+0...</td>\n      <td>[59.805664, 59.420838, 59.415188, 59.414098, 5...</td>\n      <td>[10.290383, 10.488199, 10.496616, 10.487423, 1...</td>\n      <td>[2024-08-07 09:00:39.885506+00, 2024-08-07 10:...</td>\n      <td>[33, 3225, 4361, 4473, 1308, 2346, 37, 3408, 4...</td>\n      <td>[7166, 5428, 5394, 5385, 5347, 4633, 4350, 431...</td>\n      <td>[Wednesday, Wednesday, Wednesday, Wednesday, W...</td>\n      <td>[True, False, False, False, False, False, Fals...</td>\n      <td>[2024-08-07, 2024-08-07, 2024-08-07, 2024-08-0...</td>\n    </tr>\n  </tbody>\n</table>\n<p>27446 rows × 16 columns</p>\n</div>"
     },
     "execution_count": 4,
     "metadata": {},
     "output_type": "execute_result"
    }
   ],
   "source": [
    "data_stops = pd.read_csv('data/uni_molde_v3.csv', sep=';')\n",
    "\n",
    "data_stops\n",
    "data_stops.loc[data_stops['stop_completed_at'].isna(), 'stop_completed_at'] = \"-1\"\n",
    "data_stops.loc[data_stops['stop_arrived_at'].isna(), 'stop_arrived_at'] = \"-1\"\n",
    "\n",
    "print(data_stops.isnull().sum())\n",
    "\n",
    "\n",
    "sorted_data_stops = data_stops.sort_values(by='stop_dispatched_at', ascending=True)\n",
    "sorted_data_stops = sorted_data_stops.reset_index(drop=True)\n",
    "sorted_data_stops['day_of_week'] = pd.to_datetime(sorted_data_stops['stop_dispatched_at']).dt.day_name()\n",
    "sorted_data_stops['date'] = pd.to_datetime(sorted_data_stops['stop_dispatched_at']).dt.date\n",
    "\n",
    "#clustering\n",
    "locations_df = sorted_data_stops[['current_lat', 'current_lng']]\n",
    "kmeans = KMeans(n_clusters=5000, random_state=42)\n",
    "kmeans.fit(locations_df)\n",
    "sorted_data_stops['cluster'] = kmeans.labels_ + 1\n",
    "\n",
    "sorted_data_stops['location_id_craft'] = sorted_data_stops.groupby(['current_lat', 'current_lng']).ngroup()+1\n",
    "with open('output.txt', 'w') as f:\n",
    "    print(sorted_data_stops.to_string(), file=f)\n",
    "print('number of groups', sorted_data_stops['location_id_craft'].nunique())\n",
    "\n",
    "# data_stops_day= sorted_data_stops[sorted_data_stops['day_of_week'] == \"Wednesday\"]\n",
    "grouped_df = sorted_data_stops.groupby('driver_workday_id')[['driver_id', 'location_type_id', 'address_id', 'location_id','stop_dispatched_at', 'stop_arrived_at', 'stop_earliest', 'stop_latest', 'current_lat', 'current_lng', 'stop_completed_at', 'cluster', 'location_id_craft','day_of_week', 'date', 'location_is_depot']].apply(lambda x: pd.Series({\n",
    "    'driver_id': x['driver_id'].tolist(),\n",
    "    'location_type_id': x['location_type_id'].tolist(),\n",
    "    'planned_route_location': x['location_id'].tolist(),\n",
    "    'stop_dispatched_at': x['stop_dispatched_at'].tolist(),\n",
    "    'stop_arrived_at': x['stop_arrived_at'].tolist(),\n",
    "    'stop_earliest': x['stop_earliest'].tolist(),\n",
    "    'stop_latest': x['stop_latest'].tolist(),\n",
    "    'current_lat': x['current_lat'].tolist(),\n",
    "    'current_lng': x['current_lng'].tolist(),\n",
    "    'stop_completed_at': x['stop_completed_at'].tolist(),\n",
    "    'planned_route_cluster': x['cluster'].tolist(),\n",
    "    'planned_route_craft': x['location_id_craft'].tolist(),\n",
    "    'day_of_week': x['day_of_week'].tolist(),\n",
    "    'location_is_depot': x['location_is_depot'].tolist(),\n",
    "    'date': x['date'].tolist()\n",
    "})).reset_index()\n",
    "grouped_df\n",
    "# grouped_df"
   ],
   "metadata": {
    "collapsed": false,
    "pycharm": {
     "name": "#%%\n"
    }
   }
  },
  {
   "cell_type": "code",
   "execution_count": 5,
   "outputs": [
    {
     "data": {
      "text/plain": "               stop_completed_at                stop_arrived_at  \\\n0  2024-01-02 11:10:52.185782+00  2024-01-02 11:10:51.209288+00   \n1  2024-01-02 11:10:52.185783+00  2024-01-02 11:10:51.209289+00   \n2  2024-01-02 11:10:52.178147+00   2024-01-02 11:10:51.03874+00   \n3  2024-01-02 11:10:52.178148+00  2024-01-02 11:10:51.038741+00   \n4  2024-01-02 08:39:35.128145+00  2024-01-02 07:45:25.310456+00   \n\n              stop_latest           stop_earliest  \\\n0  2024-01-02 22:59:00+00  2024-01-02 05:00:00+00   \n1  2024-01-02 22:59:00+00  2024-01-02 05:00:00+00   \n2  2024-01-02 21:00:00+00  2024-01-02 05:00:00+00   \n3  2024-01-02 21:00:00+00  2024-01-02 05:00:00+00   \n4  2024-01-02 21:00:00+00  2024-01-02 05:00:00+00   \n\n              stop_dispatched_at  location_id  location_type_id  \\\n0  2023-12-20 09:20:12.139397+00       104448                 1   \n1  2023-12-20 09:20:12.144071+00        86931                 2   \n2  2023-12-20 09:21:01.657773+00        86931                 1   \n3  2023-12-20 09:21:01.661233+00       148025                 2   \n4  2023-12-20 09:22:29.569837+00        86931                 1   \n\n   driver_workday_id  address_id  location_is_depot  ...  current_lat  \\\n0             299448       80079              False  ...    56.455617   \n1             299448       81843              False  ...    59.473000   \n2             299447       81843              False  ...    59.473000   \n3             299447      134404              False  ...    58.783764   \n4             299444       81843              False  ...    59.473000   \n\n   current_lng  prev_planned_lat  prev_planned_lng  prev_actual_lat  \\\n0    10.051820               NaN               NaN              NaN   \n1    10.318318         56.455617         10.051820        56.455617   \n2    10.318318               NaN               NaN              NaN   \n3     5.734901         59.473000         10.318318        59.473000   \n4    10.318318               NaN               NaN              NaN   \n\n   prev_actual_lng  day_of_week        date cluster  location_id_craft  \n0              NaN    Wednesday  2023-12-20    1499               4134  \n1        10.051820    Wednesday  2023-12-20     684               5561  \n2              NaN    Wednesday  2023-12-20     684               5561  \n3        10.318318    Wednesday  2023-12-20      55               4265  \n4              NaN    Wednesday  2023-12-20     684               5561  \n\n[5 rows x 21 columns]",
      "text/html": "<div>\n<style scoped>\n    .dataframe tbody tr th:only-of-type {\n        vertical-align: middle;\n    }\n\n    .dataframe tbody tr th {\n        vertical-align: top;\n    }\n\n    .dataframe thead th {\n        text-align: right;\n    }\n</style>\n<table border=\"1\" class=\"dataframe\">\n  <thead>\n    <tr style=\"text-align: right;\">\n      <th></th>\n      <th>stop_completed_at</th>\n      <th>stop_arrived_at</th>\n      <th>stop_latest</th>\n      <th>stop_earliest</th>\n      <th>stop_dispatched_at</th>\n      <th>location_id</th>\n      <th>location_type_id</th>\n      <th>driver_workday_id</th>\n      <th>address_id</th>\n      <th>location_is_depot</th>\n      <th>...</th>\n      <th>current_lat</th>\n      <th>current_lng</th>\n      <th>prev_planned_lat</th>\n      <th>prev_planned_lng</th>\n      <th>prev_actual_lat</th>\n      <th>prev_actual_lng</th>\n      <th>day_of_week</th>\n      <th>date</th>\n      <th>cluster</th>\n      <th>location_id_craft</th>\n    </tr>\n  </thead>\n  <tbody>\n    <tr>\n      <th>0</th>\n      <td>2024-01-02 11:10:52.185782+00</td>\n      <td>2024-01-02 11:10:51.209288+00</td>\n      <td>2024-01-02 22:59:00+00</td>\n      <td>2024-01-02 05:00:00+00</td>\n      <td>2023-12-20 09:20:12.139397+00</td>\n      <td>104448</td>\n      <td>1</td>\n      <td>299448</td>\n      <td>80079</td>\n      <td>False</td>\n      <td>...</td>\n      <td>56.455617</td>\n      <td>10.051820</td>\n      <td>NaN</td>\n      <td>NaN</td>\n      <td>NaN</td>\n      <td>NaN</td>\n      <td>Wednesday</td>\n      <td>2023-12-20</td>\n      <td>1499</td>\n      <td>4134</td>\n    </tr>\n    <tr>\n      <th>1</th>\n      <td>2024-01-02 11:10:52.185783+00</td>\n      <td>2024-01-02 11:10:51.209289+00</td>\n      <td>2024-01-02 22:59:00+00</td>\n      <td>2024-01-02 05:00:00+00</td>\n      <td>2023-12-20 09:20:12.144071+00</td>\n      <td>86931</td>\n      <td>2</td>\n      <td>299448</td>\n      <td>81843</td>\n      <td>False</td>\n      <td>...</td>\n      <td>59.473000</td>\n      <td>10.318318</td>\n      <td>56.455617</td>\n      <td>10.051820</td>\n      <td>56.455617</td>\n      <td>10.051820</td>\n      <td>Wednesday</td>\n      <td>2023-12-20</td>\n      <td>684</td>\n      <td>5561</td>\n    </tr>\n    <tr>\n      <th>2</th>\n      <td>2024-01-02 11:10:52.178147+00</td>\n      <td>2024-01-02 11:10:51.03874+00</td>\n      <td>2024-01-02 21:00:00+00</td>\n      <td>2024-01-02 05:00:00+00</td>\n      <td>2023-12-20 09:21:01.657773+00</td>\n      <td>86931</td>\n      <td>1</td>\n      <td>299447</td>\n      <td>81843</td>\n      <td>False</td>\n      <td>...</td>\n      <td>59.473000</td>\n      <td>10.318318</td>\n      <td>NaN</td>\n      <td>NaN</td>\n      <td>NaN</td>\n      <td>NaN</td>\n      <td>Wednesday</td>\n      <td>2023-12-20</td>\n      <td>684</td>\n      <td>5561</td>\n    </tr>\n    <tr>\n      <th>3</th>\n      <td>2024-01-02 11:10:52.178148+00</td>\n      <td>2024-01-02 11:10:51.038741+00</td>\n      <td>2024-01-02 21:00:00+00</td>\n      <td>2024-01-02 05:00:00+00</td>\n      <td>2023-12-20 09:21:01.661233+00</td>\n      <td>148025</td>\n      <td>2</td>\n      <td>299447</td>\n      <td>134404</td>\n      <td>False</td>\n      <td>...</td>\n      <td>58.783764</td>\n      <td>5.734901</td>\n      <td>59.473000</td>\n      <td>10.318318</td>\n      <td>59.473000</td>\n      <td>10.318318</td>\n      <td>Wednesday</td>\n      <td>2023-12-20</td>\n      <td>55</td>\n      <td>4265</td>\n    </tr>\n    <tr>\n      <th>4</th>\n      <td>2024-01-02 08:39:35.128145+00</td>\n      <td>2024-01-02 07:45:25.310456+00</td>\n      <td>2024-01-02 21:00:00+00</td>\n      <td>2024-01-02 05:00:00+00</td>\n      <td>2023-12-20 09:22:29.569837+00</td>\n      <td>86931</td>\n      <td>1</td>\n      <td>299444</td>\n      <td>81843</td>\n      <td>False</td>\n      <td>...</td>\n      <td>59.473000</td>\n      <td>10.318318</td>\n      <td>NaN</td>\n      <td>NaN</td>\n      <td>NaN</td>\n      <td>NaN</td>\n      <td>Wednesday</td>\n      <td>2023-12-20</td>\n      <td>684</td>\n      <td>5561</td>\n    </tr>\n  </tbody>\n</table>\n<p>5 rows × 21 columns</p>\n</div>"
     },
     "execution_count": 5,
     "metadata": {},
     "output_type": "execute_result"
    }
   ],
   "source": [
    "sorted_data_stops.head()"
   ],
   "metadata": {
    "collapsed": false,
    "pycharm": {
     "name": "#%%\n"
    }
   }
  },
  {
   "cell_type": "code",
   "execution_count": 6,
   "outputs": [],
   "source": [
    "from geopy.distance import geodesic\n",
    "import pandas as pd\n",
    "\n",
    "# Function to calculate distance between two coordinates\n",
    "def calculate_distance(row):\n",
    "    distances = []\n",
    "    for i in range(len(row['planned_route_craft'])-1):\n",
    "        coords_1 = (sorted_data_stops.loc[sorted_data_stops['location_id_craft'] == row['planned_route_craft'][i], ['current_lat']].values[0][0],\n",
    "                     sorted_data_stops.loc[sorted_data_stops['location_id_craft'] == row['planned_route_craft'][i], ['current_lng']].values[0][0])\n",
    "        coords_2 = (sorted_data_stops.loc[sorted_data_stops['location_id_craft'] == row['planned_route_craft'][i+1], ['current_lat']].values[0][0],\n",
    "                     sorted_data_stops.loc[sorted_data_stops['location_id_craft'] == row['planned_route_craft'][i+1], ['current_lng']].values[0][0])\n",
    "        distances.append(geodesic(coords_1, coords_2).miles)\n",
    "    return distances\n",
    "\n",
    "def calculate_distance_actual(row):\n",
    "    distances = []\n",
    "    for i in range(len(row['actual_route_location'])-1):\n",
    "        coords_1 = (sorted_data_stops.loc[sorted_data_stops['location_id_craft'] == row['actual_route_location'][i], ['current_lat']].values[0][0],\n",
    "                     sorted_data_stops.loc[sorted_data_stops['location_id_craft'] == row['actual_route_location'][i], ['current_lng']].values[0][0])\n",
    "        coords_2 = (sorted_data_stops.loc[sorted_data_stops['location_id_craft'] == row['actual_route_location'][i+1], ['current_lat']].values[0][0],\n",
    "                     sorted_data_stops.loc[sorted_data_stops['location_id_craft'] == row['actual_route_location'][i+1], ['current_lng']].values[0][0])\n",
    "        distances.append(geodesic(coords_1, coords_2).miles)\n",
    "    return distances\n",
    "\n",
    "# Create a new column 'distance_route' in 'final_routes'\n",
    "grouped_df['distance_route'] = grouped_df.apply(calculate_distance, axis=1)\n",
    "# total_sum_distance = grouped_df['distance_route'].sum()\n",
    "# grouped_df['total_distance'] = total_sum_distance"
   ],
   "metadata": {
    "collapsed": false,
    "pycharm": {
     "name": "#%%\n"
    }
   }
  },
  {
   "cell_type": "code",
   "execution_count": 7,
   "outputs": [
    {
     "data": {
      "text/plain": "       driver_workday_id                                          driver_id  \\\n0                 297900  [1255, 1255, 1255, 1255, 1255, 1255, 1255, 125...   \n1                 297906         [1195, 1195, 1195, 1195, 1195, 1195, 1195]   \n2                 297908  [1176, 1176, 1176, 1176, 1176, 1176, 1176, 117...   \n3                 297911  [1197, 1197, 1197, 1197, 1197, 1197, 1197, 119...   \n4                 297919  [1218, 1218, 1218, 1218, 1218, 1218, 1218, 121...   \n...                  ...                                                ...   \n27441             442393                [877, 877, 877, 877, 877, 877, 877]   \n27442             443087  [1562, 1562, 1562, 1562, 1562, 1562, 1562, 156...   \n27443             443092                           [1417, 1417, 1417, 1417]   \n27444             443098                                         [874, 874]   \n27445             443107  [723, 723, 723, 723, 723, 723, 723, 723, 723, ...   \n\n                                        location_type_id  \\\n0                         [1, 2, 2, 2, 2, 2, 2, 2, 2, 2]   \n1                                  [1, 2, 2, 2, 2, 2, 2]   \n2      [1, 2, 2, 2, 2, 2, 2, 2, 2, 2, 2, 2, 2, 2, 2, ...   \n3                         [1, 2, 2, 2, 2, 2, 2, 2, 2, 2]   \n4                      [1, 2, 2, 2, 2, 2, 2, 2, 2, 2, 2]   \n...                                                  ...   \n27441                              [1, 2, 2, 2, 2, 2, 2]   \n27442  [1, 2, 2, 2, 2, 1, 2, 2, 1, 2, 2, 1, 2, 2, 2, ...   \n27443                                       [1, 2, 1, 2]   \n27444                                             [1, 2]   \n27445               [1, 2, 2, 2, 2, 2, 2, 2, 2, 2, 1, 2]   \n\n                                  planned_route_location  \\\n0      [132992, 128289, 128104, 128048, 127766, 12845...   \n1      [132992, 130073, 130075, 128234, 130076, 14676...   \n2      [132992, 130448, 128643, 128641, 128584, 13017...   \n3      [132992, 153283, 146745, 146743, 146740, 14673...   \n4      [132992, 129015, 127984, 128413, 128017, 12811...   \n...                                                  ...   \n27441  [23287, 64432, 40011, 208678, 176858, 222554, ...   \n27442  [183410, 186769, 186495, 188745, 186479, 18874...   \n27443                      [50009, 50553, 50009, 176776]   \n27444                                    [23287, 150068]   \n27445  [50009, 47694, 180866, 46972, 47695, 47029, 52...   \n\n                                      stop_dispatched_at  \\\n0      [2024-01-01 19:41:35.136881+00, 2024-01-01 19:...   \n1      [2024-01-01 19:42:05.147145+00, 2024-01-01 19:...   \n2      [2024-01-01 21:25:47.230131+00, 2024-01-01 21:...   \n3      [2024-01-01 19:42:59.704147+00, 2024-01-01 19:...   \n4      [2024-01-01 19:46:51.16173+00, 2024-01-01 19:4...   \n...                                                  ...   \n27441  [2024-08-06 19:39:12.755331+00, 2024-08-06 19:...   \n27442  [2024-08-07 01:23:02.437621+00, 2024-08-07 01:...   \n27443  [2024-08-07 05:59:26.311221+00, 2024-08-07 05:...   \n27444  [2024-08-07 05:42:45.306612+00, 2024-08-07 05:...   \n27445  [2024-08-07 08:27:45.361844+00, 2024-08-07 08:...   \n\n                                         stop_arrived_at  \\\n0      [2024-01-01 22:14:16.454324+00, 2024-01-01 23:...   \n1      [2024-01-01 20:50:17.003744+00, 2024-01-02 02:...   \n2      [2024-01-01 23:06:27.627368+00, 2024-01-02 01:...   \n3      [2024-01-02 00:09:15.241119+00, 2024-01-02 04:...   \n4      [2024-01-01 23:05:52.039818+00, 2024-01-02 01:...   \n...                                                  ...   \n27441  [2024-08-07 13:31:50.711864+00, 2024-08-07 13:...   \n27442  [2024-08-07 01:24:05.33254+00, 2024-08-07 03:3...   \n27443  [2024-08-07 06:38:14.810272+00, 2024-08-07 07:...   \n27444  [2024-08-07 13:31:52.652071+00, 2024-08-07 13:...   \n27445  [2024-08-07 09:00:31.581115+00, 2024-08-07 10:...   \n\n                                           stop_earliest  \\\n0      [2024-01-01 19:00:00+00, 2024-01-01 23:00:00+0...   \n1      [2024-01-01 19:00:00+00, 2024-01-01 21:00:00+0...   \n2      [2024-01-01 19:00:00+00, 2024-01-01 21:00:00+0...   \n3      [2024-01-02 00:00:00+00, 2024-01-02 04:30:00+0...   \n4      [2024-01-01 19:00:00+00, 2024-01-01 21:00:00+0...   \n...                                                  ...   \n27441  [2024-08-07 01:00:00+00, 2024-08-07 05:00:00+0...   \n27442  [2024-08-07 00:00:00+00, 2024-08-07 02:00:00+0...   \n27443  [2024-08-07 02:00:00+00, 2024-08-07 05:00:00+0...   \n27444   [2024-08-07 01:00:00+00, 2024-08-07 05:00:00+00]   \n27445  [2024-08-07 02:00:00+00, 2024-08-07 06:00:00+0...   \n\n                                             stop_latest  \\\n0      [2024-01-02 01:00:00+00, 2024-01-02 03:00:00+0...   \n1      [2024-01-02 01:00:00+00, 2024-01-02 04:00:00+0...   \n2      [2024-01-02 01:00:00+00, 2024-01-02 04:00:00+0...   \n3      [2024-01-02 22:00:00+00, 2024-01-02 08:00:00+0...   \n4      [2024-01-02 01:00:00+00, 2024-01-02 04:00:00+0...   \n...                                                  ...   \n27441  [2024-08-07 14:00:00+00, 2024-08-07 11:00:00+0...   \n27442  [2024-08-07 16:00:00+00, 2024-08-07 04:00:00+0...   \n27443  [2024-08-07 20:00:00+00, 2024-08-07 07:00:00+0...   \n27444   [2024-08-07 14:00:00+00, 2024-08-07 11:00:00+00]   \n27445  [2024-08-07 20:00:00+00, 2024-08-07 10:00:00+0...   \n\n                                             current_lat  \\\n0      [55.6465393, 55.6669147, 55.676665, 55.6757322...   \n1      [55.6465393, 55.662018, 55.662429, 55.6727433,...   \n2      [55.6465393, 55.619592, 55.636304, 55.631888, ...   \n3      [55.6465393, 54.65117396302384, 54.666191, 54....   \n4      [55.6465393, 55.62296, 55.562168, 55.6381577, ...   \n...                                                  ...   \n27441  [60.007627, 59.923836, 59.93422, 59.811373, 59...   \n27442  [56.0667627, 56.13472729999999, 56.1352239, 56...   \n27443  [59.805664, 59.795058, 59.805664, 59.948098894...   \n27444                             [60.007627, 59.905421]   \n27445  [59.805664, 59.420838, 59.415188, 59.414098, 5...   \n\n                                             current_lng  \\\n0      [12.1522978, 12.5262801, 12.566428, 12.5619711...   \n1      [12.1522978, 12.360745, 12.363469, 12.3935111,...   \n2      [12.1522978, 12.028735, 12.044857, 12.055067, ...   \n3      [12.1522978, 11.375901220879824, 11.333044, 11...   \n4      [12.1522978, 12.615835, 12.576841, 12.6515491,...   \n...                                                  ...   \n27441  [11.047135, 10.814451, 10.800594, 10.80755, 10...   \n27442  [9.986944, 8.9884048, 8.9838423, 8.9810943, 8....   \n27443  [10.290383, 10.279009, 10.290383, 10.771520299...   \n27444                             [11.047135, 10.618603]   \n27445  [10.290383, 10.488199, 10.496616, 10.487423, 1...   \n\n                                       stop_completed_at  \\\n0      [2024-01-01 22:14:54.872731+00, 2024-01-01 23:...   \n1      [2024-01-01 20:50:29.721122+00, 2024-01-02 02:...   \n2      [2024-01-01 23:06:36.064172+00, 2024-01-02 01:...   \n3      [2024-01-02 00:09:21.131516+00, 2024-01-02 04:...   \n4      [2024-01-01 23:05:58.283704+00, 2024-01-02 01:...   \n...                                                  ...   \n27441  [2024-08-07 13:31:50.711869+00, 2024-08-07 13:...   \n27442  [2024-08-07 01:24:05.33256+00, 2024-08-07 03:3...   \n27443  [2024-08-07 07:10:49.406797+00, 2024-08-07 07:...   \n27444  [2024-08-07 13:31:52.652071+00, 2024-08-07 13:...   \n27445  [2024-08-07 09:00:39.885506+00, 2024-08-07 10:...   \n\n                                   planned_route_cluster  \\\n0      [3165, 1419, 3238, 3429, 720, 1360, 4511, 3703...   \n1              [3165, 122, 3540, 1413, 3487, 2070, 1287]   \n2      [3165, 1073, 1995, 3776, 1059, 1266, 1938, 193...   \n3      [3165, 442, 137, 137, 137, 137, 137, 137, 1809...   \n4      [3165, 3301, 537, 1830, 4879, 3305, 3305, 1642...   \n...                                                  ...   \n27441             [30, 3949, 4848, 4971, 2429, 45, 2313]   \n27442  [39, 1071, 3823, 4365, 4365, 39, 3823, 3823, 4...   \n27443                               [33, 2032, 33, 2852]   \n27444                                         [30, 3836]   \n27445  [33, 3225, 4361, 4473, 1308, 2346, 37, 3408, 4...   \n\n                                     planned_route_craft  \\\n0      [1169, 1405, 1577, 1560, 1479, 1391, 1434, 141...   \n1             [1169, 1352, 1356, 1508, 1350, 1312, 1401]   \n2      [1169, 960, 1049, 1026, 982, 916, 1284, 1281, ...   \n3               [1169, 7, 23, 23, 23, 23, 23, 23, 12, 4]   \n4      [1169, 965, 818, 1070, 1658, 1168, 1166, 888, ...   \n...                                                  ...   \n27441        [10076, 8785, 9172, 7204, 6955, 5902, 7045]   \n27442  [3162, 3403, 3408, 3440, 3437, 3162, 3408, 338...   \n27443                           [7166, 7127, 7166, 9527]   \n27444                                      [10076, 7846]   \n27445  [7166, 5428, 5394, 5385, 5347, 4633, 4350, 431...   \n\n                                             day_of_week  \\\n0      [Monday, Monday, Monday, Monday, Monday, Monda...   \n1      [Monday, Monday, Monday, Monday, Monday, Monda...   \n2      [Monday, Monday, Monday, Monday, Monday, Monda...   \n3      [Monday, Monday, Monday, Monday, Monday, Monda...   \n4      [Monday, Monday, Monday, Monday, Monday, Monda...   \n...                                                  ...   \n27441  [Tuesday, Tuesday, Tuesday, Tuesday, Tuesday, ...   \n27442  [Wednesday, Wednesday, Wednesday, Wednesday, W...   \n27443       [Wednesday, Wednesday, Wednesday, Wednesday]   \n27444                             [Wednesday, Wednesday]   \n27445  [Wednesday, Wednesday, Wednesday, Wednesday, W...   \n\n                                       location_is_depot  \\\n0      [True, False, False, False, False, False, Fals...   \n1       [True, False, False, False, False, False, False]   \n2      [True, False, False, False, False, False, Fals...   \n3      [True, False, False, False, False, False, Fals...   \n4      [True, False, False, False, False, False, Fals...   \n...                                                  ...   \n27441   [True, False, False, False, False, False, False]   \n27442  [True, True, False, False, False, False, False...   \n27443                         [True, False, True, False]   \n27444                                      [True, False]   \n27445  [True, False, False, False, False, False, Fals...   \n\n                                                    date  \\\n0      [2024-01-01, 2024-01-01, 2024-01-01, 2024-01-0...   \n1      [2024-01-01, 2024-01-01, 2024-01-01, 2024-01-0...   \n2      [2024-01-01, 2024-01-01, 2024-01-01, 2024-01-0...   \n3      [2024-01-01, 2024-01-01, 2024-01-01, 2024-01-0...   \n4      [2024-01-01, 2024-01-01, 2024-01-01, 2024-01-0...   \n...                                                  ...   \n27441  [2024-08-06, 2024-08-06, 2024-08-06, 2024-08-0...   \n27442  [2024-08-07, 2024-08-07, 2024-08-07, 2024-08-0...   \n27443   [2024-08-07, 2024-08-07, 2024-08-07, 2024-08-07]   \n27444                           [2024-08-07, 2024-08-07]   \n27445  [2024-08-07, 2024-08-07, 2024-08-07, 2024-08-0...   \n\n                                          distance_route  \\\n0      [14.694940475474436, 1.7084597707961175, 0.185...   \n1      [8.223311758249285, 0.11025550750368773, 1.374...   \n2      [5.182600931419761, 1.3171408361998556, 0.5029...   \n3      [75.41095073521456, 2.0081266994719744, 0.0, 0...   \n4      [18.213184104634966, 4.474441733294021, 6.0165...   \n...                                                  ...   \n27441  [9.94338251969985, 0.8652097234693148, 8.50777...   \n27442  [38.89658559157216, 0.17958419709224266, 0.158...   \n27443  [0.8345487564187866, 0.8345487564187866, 19.43...   \n27444                               [16.474513151113996]   \n27445  [27.52809355932868, 0.4910623122012766, 0.3330...   \n\n       total_distance_planned  \n0                   19.039848  \n1                   12.124804  \n2                   56.772919  \n3                   79.685240  \n4                   54.345069  \n...                       ...  \n27441               46.524795  \n27442              208.812499  \n27443               21.100814  \n27444               16.474513  \n27445              118.311923  \n\n[27446 rows x 18 columns]",
      "text/html": "<div>\n<style scoped>\n    .dataframe tbody tr th:only-of-type {\n        vertical-align: middle;\n    }\n\n    .dataframe tbody tr th {\n        vertical-align: top;\n    }\n\n    .dataframe thead th {\n        text-align: right;\n    }\n</style>\n<table border=\"1\" class=\"dataframe\">\n  <thead>\n    <tr style=\"text-align: right;\">\n      <th></th>\n      <th>driver_workday_id</th>\n      <th>driver_id</th>\n      <th>location_type_id</th>\n      <th>planned_route_location</th>\n      <th>stop_dispatched_at</th>\n      <th>stop_arrived_at</th>\n      <th>stop_earliest</th>\n      <th>stop_latest</th>\n      <th>current_lat</th>\n      <th>current_lng</th>\n      <th>stop_completed_at</th>\n      <th>planned_route_cluster</th>\n      <th>planned_route_craft</th>\n      <th>day_of_week</th>\n      <th>location_is_depot</th>\n      <th>date</th>\n      <th>distance_route</th>\n      <th>total_distance_planned</th>\n    </tr>\n  </thead>\n  <tbody>\n    <tr>\n      <th>0</th>\n      <td>297900</td>\n      <td>[1255, 1255, 1255, 1255, 1255, 1255, 1255, 125...</td>\n      <td>[1, 2, 2, 2, 2, 2, 2, 2, 2, 2]</td>\n      <td>[132992, 128289, 128104, 128048, 127766, 12845...</td>\n      <td>[2024-01-01 19:41:35.136881+00, 2024-01-01 19:...</td>\n      <td>[2024-01-01 22:14:16.454324+00, 2024-01-01 23:...</td>\n      <td>[2024-01-01 19:00:00+00, 2024-01-01 23:00:00+0...</td>\n      <td>[2024-01-02 01:00:00+00, 2024-01-02 03:00:00+0...</td>\n      <td>[55.6465393, 55.6669147, 55.676665, 55.6757322...</td>\n      <td>[12.1522978, 12.5262801, 12.566428, 12.5619711...</td>\n      <td>[2024-01-01 22:14:54.872731+00, 2024-01-01 23:...</td>\n      <td>[3165, 1419, 3238, 3429, 720, 1360, 4511, 3703...</td>\n      <td>[1169, 1405, 1577, 1560, 1479, 1391, 1434, 141...</td>\n      <td>[Monday, Monday, Monday, Monday, Monday, Monda...</td>\n      <td>[True, False, False, False, False, False, Fals...</td>\n      <td>[2024-01-01, 2024-01-01, 2024-01-01, 2024-01-0...</td>\n      <td>[14.694940475474436, 1.7084597707961175, 0.185...</td>\n      <td>19.039848</td>\n    </tr>\n    <tr>\n      <th>1</th>\n      <td>297906</td>\n      <td>[1195, 1195, 1195, 1195, 1195, 1195, 1195]</td>\n      <td>[1, 2, 2, 2, 2, 2, 2]</td>\n      <td>[132992, 130073, 130075, 128234, 130076, 14676...</td>\n      <td>[2024-01-01 19:42:05.147145+00, 2024-01-01 19:...</td>\n      <td>[2024-01-01 20:50:17.003744+00, 2024-01-02 02:...</td>\n      <td>[2024-01-01 19:00:00+00, 2024-01-01 21:00:00+0...</td>\n      <td>[2024-01-02 01:00:00+00, 2024-01-02 04:00:00+0...</td>\n      <td>[55.6465393, 55.662018, 55.662429, 55.6727433,...</td>\n      <td>[12.1522978, 12.360745, 12.363469, 12.3935111,...</td>\n      <td>[2024-01-01 20:50:29.721122+00, 2024-01-02 02:...</td>\n      <td>[3165, 122, 3540, 1413, 3487, 2070, 1287]</td>\n      <td>[1169, 1352, 1356, 1508, 1350, 1312, 1401]</td>\n      <td>[Monday, Monday, Monday, Monday, Monday, Monda...</td>\n      <td>[True, False, False, False, False, False, False]</td>\n      <td>[2024-01-01, 2024-01-01, 2024-01-01, 2024-01-0...</td>\n      <td>[8.223311758249285, 0.11025550750368773, 1.374...</td>\n      <td>12.124804</td>\n    </tr>\n    <tr>\n      <th>2</th>\n      <td>297908</td>\n      <td>[1176, 1176, 1176, 1176, 1176, 1176, 1176, 117...</td>\n      <td>[1, 2, 2, 2, 2, 2, 2, 2, 2, 2, 2, 2, 2, 2, 2, ...</td>\n      <td>[132992, 130448, 128643, 128641, 128584, 13017...</td>\n      <td>[2024-01-01 21:25:47.230131+00, 2024-01-01 21:...</td>\n      <td>[2024-01-01 23:06:27.627368+00, 2024-01-02 01:...</td>\n      <td>[2024-01-01 19:00:00+00, 2024-01-01 21:00:00+0...</td>\n      <td>[2024-01-02 01:00:00+00, 2024-01-02 04:00:00+0...</td>\n      <td>[55.6465393, 55.619592, 55.636304, 55.631888, ...</td>\n      <td>[12.1522978, 12.028735, 12.044857, 12.055067, ...</td>\n      <td>[2024-01-01 23:06:36.064172+00, 2024-01-02 01:...</td>\n      <td>[3165, 1073, 1995, 3776, 1059, 1266, 1938, 193...</td>\n      <td>[1169, 960, 1049, 1026, 982, 916, 1284, 1281, ...</td>\n      <td>[Monday, Monday, Monday, Monday, Monday, Monda...</td>\n      <td>[True, False, False, False, False, False, Fals...</td>\n      <td>[2024-01-01, 2024-01-01, 2024-01-01, 2024-01-0...</td>\n      <td>[5.182600931419761, 1.3171408361998556, 0.5029...</td>\n      <td>56.772919</td>\n    </tr>\n    <tr>\n      <th>3</th>\n      <td>297911</td>\n      <td>[1197, 1197, 1197, 1197, 1197, 1197, 1197, 119...</td>\n      <td>[1, 2, 2, 2, 2, 2, 2, 2, 2, 2]</td>\n      <td>[132992, 153283, 146745, 146743, 146740, 14673...</td>\n      <td>[2024-01-01 19:42:59.704147+00, 2024-01-01 19:...</td>\n      <td>[2024-01-02 00:09:15.241119+00, 2024-01-02 04:...</td>\n      <td>[2024-01-02 00:00:00+00, 2024-01-02 04:30:00+0...</td>\n      <td>[2024-01-02 22:00:00+00, 2024-01-02 08:00:00+0...</td>\n      <td>[55.6465393, 54.65117396302384, 54.666191, 54....</td>\n      <td>[12.1522978, 11.375901220879824, 11.333044, 11...</td>\n      <td>[2024-01-02 00:09:21.131516+00, 2024-01-02 04:...</td>\n      <td>[3165, 442, 137, 137, 137, 137, 137, 137, 1809...</td>\n      <td>[1169, 7, 23, 23, 23, 23, 23, 23, 12, 4]</td>\n      <td>[Monday, Monday, Monday, Monday, Monday, Monda...</td>\n      <td>[True, False, False, False, False, False, Fals...</td>\n      <td>[2024-01-01, 2024-01-01, 2024-01-01, 2024-01-0...</td>\n      <td>[75.41095073521456, 2.0081266994719744, 0.0, 0...</td>\n      <td>79.685240</td>\n    </tr>\n    <tr>\n      <th>4</th>\n      <td>297919</td>\n      <td>[1218, 1218, 1218, 1218, 1218, 1218, 1218, 121...</td>\n      <td>[1, 2, 2, 2, 2, 2, 2, 2, 2, 2, 2]</td>\n      <td>[132992, 129015, 127984, 128413, 128017, 12811...</td>\n      <td>[2024-01-01 19:46:51.16173+00, 2024-01-01 19:4...</td>\n      <td>[2024-01-01 23:05:52.039818+00, 2024-01-02 01:...</td>\n      <td>[2024-01-01 19:00:00+00, 2024-01-01 21:00:00+0...</td>\n      <td>[2024-01-02 01:00:00+00, 2024-01-02 04:00:00+0...</td>\n      <td>[55.6465393, 55.62296, 55.562168, 55.6381577, ...</td>\n      <td>[12.1522978, 12.615835, 12.576841, 12.6515491,...</td>\n      <td>[2024-01-01 23:05:58.283704+00, 2024-01-02 01:...</td>\n      <td>[3165, 3301, 537, 1830, 4879, 3305, 3305, 1642...</td>\n      <td>[1169, 965, 818, 1070, 1658, 1168, 1166, 888, ...</td>\n      <td>[Monday, Monday, Monday, Monday, Monday, Monda...</td>\n      <td>[True, False, False, False, False, False, Fals...</td>\n      <td>[2024-01-01, 2024-01-01, 2024-01-01, 2024-01-0...</td>\n      <td>[18.213184104634966, 4.474441733294021, 6.0165...</td>\n      <td>54.345069</td>\n    </tr>\n    <tr>\n      <th>...</th>\n      <td>...</td>\n      <td>...</td>\n      <td>...</td>\n      <td>...</td>\n      <td>...</td>\n      <td>...</td>\n      <td>...</td>\n      <td>...</td>\n      <td>...</td>\n      <td>...</td>\n      <td>...</td>\n      <td>...</td>\n      <td>...</td>\n      <td>...</td>\n      <td>...</td>\n      <td>...</td>\n      <td>...</td>\n      <td>...</td>\n    </tr>\n    <tr>\n      <th>27441</th>\n      <td>442393</td>\n      <td>[877, 877, 877, 877, 877, 877, 877]</td>\n      <td>[1, 2, 2, 2, 2, 2, 2]</td>\n      <td>[23287, 64432, 40011, 208678, 176858, 222554, ...</td>\n      <td>[2024-08-06 19:39:12.755331+00, 2024-08-06 19:...</td>\n      <td>[2024-08-07 13:31:50.711864+00, 2024-08-07 13:...</td>\n      <td>[2024-08-07 01:00:00+00, 2024-08-07 05:00:00+0...</td>\n      <td>[2024-08-07 14:00:00+00, 2024-08-07 11:00:00+0...</td>\n      <td>[60.007627, 59.923836, 59.93422, 59.811373, 59...</td>\n      <td>[11.047135, 10.814451, 10.800594, 10.80755, 10...</td>\n      <td>[2024-08-07 13:31:50.711869+00, 2024-08-07 13:...</td>\n      <td>[30, 3949, 4848, 4971, 2429, 45, 2313]</td>\n      <td>[10076, 8785, 9172, 7204, 6955, 5902, 7045]</td>\n      <td>[Tuesday, Tuesday, Tuesday, Tuesday, Tuesday, ...</td>\n      <td>[True, False, False, False, False, False, False]</td>\n      <td>[2024-08-06, 2024-08-06, 2024-08-06, 2024-08-0...</td>\n      <td>[9.94338251969985, 0.8652097234693148, 8.50777...</td>\n      <td>46.524795</td>\n    </tr>\n    <tr>\n      <th>27442</th>\n      <td>443087</td>\n      <td>[1562, 1562, 1562, 1562, 1562, 1562, 1562, 156...</td>\n      <td>[1, 2, 2, 2, 2, 1, 2, 2, 1, 2, 2, 1, 2, 2, 2, ...</td>\n      <td>[183410, 186769, 186495, 188745, 186479, 18874...</td>\n      <td>[2024-08-07 01:23:02.437621+00, 2024-08-07 01:...</td>\n      <td>[2024-08-07 01:24:05.33254+00, 2024-08-07 03:3...</td>\n      <td>[2024-08-07 00:00:00+00, 2024-08-07 02:00:00+0...</td>\n      <td>[2024-08-07 16:00:00+00, 2024-08-07 04:00:00+0...</td>\n      <td>[56.0667627, 56.13472729999999, 56.1352239, 56...</td>\n      <td>[9.986944, 8.9884048, 8.9838423, 8.9810943, 8....</td>\n      <td>[2024-08-07 01:24:05.33256+00, 2024-08-07 03:3...</td>\n      <td>[39, 1071, 3823, 4365, 4365, 39, 3823, 3823, 4...</td>\n      <td>[3162, 3403, 3408, 3440, 3437, 3162, 3408, 338...</td>\n      <td>[Wednesday, Wednesday, Wednesday, Wednesday, W...</td>\n      <td>[True, True, False, False, False, False, False...</td>\n      <td>[2024-08-07, 2024-08-07, 2024-08-07, 2024-08-0...</td>\n      <td>[38.89658559157216, 0.17958419709224266, 0.158...</td>\n      <td>208.812499</td>\n    </tr>\n    <tr>\n      <th>27443</th>\n      <td>443092</td>\n      <td>[1417, 1417, 1417, 1417]</td>\n      <td>[1, 2, 1, 2]</td>\n      <td>[50009, 50553, 50009, 176776]</td>\n      <td>[2024-08-07 05:59:26.311221+00, 2024-08-07 05:...</td>\n      <td>[2024-08-07 06:38:14.810272+00, 2024-08-07 07:...</td>\n      <td>[2024-08-07 02:00:00+00, 2024-08-07 05:00:00+0...</td>\n      <td>[2024-08-07 20:00:00+00, 2024-08-07 07:00:00+0...</td>\n      <td>[59.805664, 59.795058, 59.805664, 59.948098894...</td>\n      <td>[10.290383, 10.279009, 10.290383, 10.771520299...</td>\n      <td>[2024-08-07 07:10:49.406797+00, 2024-08-07 07:...</td>\n      <td>[33, 2032, 33, 2852]</td>\n      <td>[7166, 7127, 7166, 9527]</td>\n      <td>[Wednesday, Wednesday, Wednesday, Wednesday]</td>\n      <td>[True, False, True, False]</td>\n      <td>[2024-08-07, 2024-08-07, 2024-08-07, 2024-08-07]</td>\n      <td>[0.8345487564187866, 0.8345487564187866, 19.43...</td>\n      <td>21.100814</td>\n    </tr>\n    <tr>\n      <th>27444</th>\n      <td>443098</td>\n      <td>[874, 874]</td>\n      <td>[1, 2]</td>\n      <td>[23287, 150068]</td>\n      <td>[2024-08-07 05:42:45.306612+00, 2024-08-07 05:...</td>\n      <td>[2024-08-07 13:31:52.652071+00, 2024-08-07 13:...</td>\n      <td>[2024-08-07 01:00:00+00, 2024-08-07 05:00:00+00]</td>\n      <td>[2024-08-07 14:00:00+00, 2024-08-07 11:00:00+00]</td>\n      <td>[60.007627, 59.905421]</td>\n      <td>[11.047135, 10.618603]</td>\n      <td>[2024-08-07 13:31:52.652071+00, 2024-08-07 13:...</td>\n      <td>[30, 3836]</td>\n      <td>[10076, 7846]</td>\n      <td>[Wednesday, Wednesday]</td>\n      <td>[True, False]</td>\n      <td>[2024-08-07, 2024-08-07]</td>\n      <td>[16.474513151113996]</td>\n      <td>16.474513</td>\n    </tr>\n    <tr>\n      <th>27445</th>\n      <td>443107</td>\n      <td>[723, 723, 723, 723, 723, 723, 723, 723, 723, ...</td>\n      <td>[1, 2, 2, 2, 2, 2, 2, 2, 2, 2, 1, 2]</td>\n      <td>[50009, 47694, 180866, 46972, 47695, 47029, 52...</td>\n      <td>[2024-08-07 08:27:45.361844+00, 2024-08-07 08:...</td>\n      <td>[2024-08-07 09:00:31.581115+00, 2024-08-07 10:...</td>\n      <td>[2024-08-07 02:00:00+00, 2024-08-07 06:00:00+0...</td>\n      <td>[2024-08-07 20:00:00+00, 2024-08-07 10:00:00+0...</td>\n      <td>[59.805664, 59.420838, 59.415188, 59.414098, 5...</td>\n      <td>[10.290383, 10.488199, 10.496616, 10.487423, 1...</td>\n      <td>[2024-08-07 09:00:39.885506+00, 2024-08-07 10:...</td>\n      <td>[33, 3225, 4361, 4473, 1308, 2346, 37, 3408, 4...</td>\n      <td>[7166, 5428, 5394, 5385, 5347, 4633, 4350, 431...</td>\n      <td>[Wednesday, Wednesday, Wednesday, Wednesday, W...</td>\n      <td>[True, False, False, False, False, False, Fals...</td>\n      <td>[2024-08-07, 2024-08-07, 2024-08-07, 2024-08-0...</td>\n      <td>[27.52809355932868, 0.4910623122012766, 0.3330...</td>\n      <td>118.311923</td>\n    </tr>\n  </tbody>\n</table>\n<p>27446 rows × 18 columns</p>\n</div>"
     },
     "execution_count": 7,
     "metadata": {},
     "output_type": "execute_result"
    }
   ],
   "source": [
    "grouped_df['total_distance_planned'] = grouped_df['distance_route'].apply(sum)\n",
    "grouped_df\n"
   ],
   "metadata": {
    "collapsed": false,
    "pycharm": {
     "name": "#%%\n"
    }
   }
  },
  {
   "cell_type": "code",
   "execution_count": 8,
   "outputs": [
    {
     "data": {
      "text/plain": "20692"
     },
     "execution_count": 8,
     "metadata": {},
     "output_type": "execute_result"
    }
   ],
   "source": [
    "grouped_df['total_distance_planned'] = grouped_df['distance_route'].apply(sum)\n",
    "routes = grouped_df[grouped_df.apply(lambda row: max(row['stop_dispatched_at']) < min(row['stop_completed_at']), axis=1)]\n",
    "routes = routes.reset_index(drop=True)\n",
    "len(routes)"
   ],
   "metadata": {
    "collapsed": false,
    "pycharm": {
     "name": "#%%\n"
    }
   }
  },
  {
   "cell_type": "code",
   "execution_count": 9,
   "outputs": [
    {
     "name": "stdout",
     "output_type": "stream",
     "text": [
      "The number of routes where one value is NA(arrived time) 23\n",
      "[1187, 1464, 1688, 1746, 2113, 3424, 3880, 4471, 4974, 5098, 5172, 5182, 5540, 5787, 6476, 7626, 10793, 11161, 11621, 13845, 17739, 19786, 20033]\n",
      "20669\n"
     ]
    }
   ],
   "source": [
    "index_routes_with_na = []\n",
    "for i in range(len(routes)):\n",
    "    row = routes.iloc[i]\n",
    "    if \"-1\" in row['stop_arrived_at']:\n",
    "        index_routes_with_na.append(i)\n",
    "print(\"The number of routes where one value is NA(arrived time)\", len(index_routes_with_na))\n",
    "print(index_routes_with_na)\n",
    "routes = routes.drop(index_routes_with_na)\n",
    "routes.reset_index(drop=True)\n",
    "#\n",
    "print(len(routes))"
   ],
   "metadata": {
    "collapsed": false,
    "pycharm": {
     "name": "#%%\n"
    }
   }
  },
  {
   "cell_type": "code",
   "execution_count": 10,
   "outputs": [],
   "source": [
    "#check if it is the same driver in the route\n",
    "routes['day_of_week'] = routes['stop_arrived_at'].apply(lambda x: [pd.to_datetime(dt).day_name() for dt in x])\n",
    "\n",
    "def get_mode(x):\n",
    "    return pd.Series(x).mode().iloc[0] if not pd.Series(x).mode().empty else np.nan\n",
    "\n",
    "for i in routes['driver_id']:\n",
    "    if not all(x == i[0] for x in i):\n",
    "            print('Not the same driver in the route')\n",
    "routes['driver_id'] = routes['driver_id'].apply(lambda x : x[0])\n",
    "\n",
    "routes['day_of_week'] = routes['day_of_week'].apply(get_mode)\n",
    "routes['date'] = routes['date'].apply(get_mode)\n",
    "\n",
    "routes['date'] = pd.to_datetime(routes['date'])\n",
    "routes['last_two_weeks_count'] = routes.apply(lambda row:\n",
    "                                      routes[(routes['driver_id'] == row['driver_id']) &\n",
    "                                         (row['date'] - routes['date']).dt.days.between(-14, 0)].shape[0],\n",
    "                                      axis=1)\n",
    "routes = routes[(routes['date'] < '2023-12-21') | (routes['date'] > '2024-01-14')]\n",
    "routes['location_type_id'] = routes['location_type_id'].apply(lambda x: [0 if i == 1 else 1 for i in x])\n",
    "routes['location_is_depot'] = routes['location_is_depot'].apply(lambda x: [int(value) for value in x])\n",
    "\n",
    "routes = routes[routes['planned_route_craft'].apply(lambda x: len(x) > 2)]\n",
    "routes = routes.reset_index(drop=True)"
   ],
   "metadata": {
    "collapsed": false,
    "pycharm": {
     "name": "#%%\n"
    }
   }
  },
  {
   "cell_type": "code",
   "execution_count": 11,
   "outputs": [
    {
     "data": {
      "text/plain": "       driver_workday_id  driver_id  \\\n0                 305735       1255   \n1                 305741       1195   \n2                 305742       1186   \n3                 305754       1218   \n4                 305758       1192   \n...                  ...        ...   \n18557             442390        276   \n18558             442391        968   \n18559             442393        877   \n18560             443092       1417   \n18561             443107        723   \n\n                                    location_type_id  \\\n0                           [0, 1, 1, 1, 1, 1, 1, 1]   \n1                           [0, 1, 1, 1, 1, 1, 1, 1]   \n2                              [0, 1, 1, 1, 1, 1, 1]   \n3                     [0, 1, 1, 1, 1, 1, 1, 1, 1, 1]   \n4                        [0, 1, 1, 1, 1, 1, 1, 1, 1]   \n...                                              ...   \n18557  [0, 1, 1, 1, 1, 1, 1, 1, 1, 1, 1, 1, 1, 1, 1]   \n18558        [0, 1, 1, 1, 1, 1, 1, 0, 1, 1, 1, 1, 1]   \n18559                          [0, 1, 1, 1, 1, 1, 1]   \n18560                                   [0, 1, 0, 1]   \n18561           [0, 1, 1, 1, 1, 1, 1, 1, 1, 1, 0, 1]   \n\n                                  planned_route_location  \\\n0      [132992, 128289, 128048, 128448, 128037, 12845...   \n1      [132992, 130073, 146768, 130075, 128234, 12823...   \n2      [132992, 128251, 128480, 129701, 130263, 13014...   \n3      [132992, 128114, 129560, 128017, 128413, 12798...   \n4      [132992, 127628, 128567, 128593, 127977, 12878...   \n...                                                  ...   \n18557  [23287, 24605, 171404, 62110, 25046, 151521, 3...   \n18558  [50009, 46569, 49498, 50461, 47432, 47429, 504...   \n18559  [23287, 64432, 40011, 208678, 176858, 222554, ...   \n18560                      [50009, 50553, 50009, 176776]   \n18561  [50009, 47694, 180866, 46972, 47695, 47029, 52...   \n\n                                      stop_dispatched_at  \\\n0      [2024-01-15 20:13:10.25734+00, 2024-01-15 20:1...   \n1      [2024-01-15 20:14:10.430711+00, 2024-01-15 20:...   \n2      [2024-01-15 20:15:12.147596+00, 2024-01-15 20:...   \n3      [2024-01-15 20:17:12.871538+00, 2024-01-15 20:...   \n4      [2024-01-15 20:17:36.851051+00, 2024-01-15 20:...   \n...                                                  ...   \n18557  [2024-08-06 19:39:14.014177+00, 2024-08-06 19:...   \n18558  [2024-08-06 19:08:15.862161+00, 2024-08-06 19:...   \n18559  [2024-08-06 19:39:12.755331+00, 2024-08-06 19:...   \n18560  [2024-08-07 05:59:26.311221+00, 2024-08-07 05:...   \n18561  [2024-08-07 08:27:45.361844+00, 2024-08-07 08:...   \n\n                                         stop_arrived_at  \\\n0      [2024-01-15 22:11:49.528537+00, 2024-01-15 23:...   \n1      [2024-01-15 22:58:58.038139+00, 2024-01-15 23:...   \n2      [2024-01-15 22:32:42.615543+00, 2024-01-15 23:...   \n3      [2024-01-15 22:37:07.860851+00, 2024-01-16 00:...   \n4      [2024-01-15 23:06:33.822316+00, 2024-01-16 01:...   \n...                                                  ...   \n18557  [2024-08-07 13:31:52.955936+00, 2024-08-07 13:...   \n18558  [2024-08-07 03:50:55.931321+00, 2024-08-07 05:...   \n18559  [2024-08-07 13:31:50.711864+00, 2024-08-07 13:...   \n18560  [2024-08-07 06:38:14.810272+00, 2024-08-07 07:...   \n18561  [2024-08-07 09:00:31.581115+00, 2024-08-07 10:...   \n\n                                           stop_earliest  \\\n0      [2024-01-15 19:00:00+00, 2024-01-15 23:00:00+0...   \n1      [2024-01-15 19:00:00+00, 2024-01-15 21:00:00+0...   \n2      [2024-01-15 19:00:00+00, 2024-01-15 21:00:00+0...   \n3      [2024-01-15 19:00:00+00, 2024-01-15 21:00:00+0...   \n4      [2024-01-15 19:00:00+00, 2024-01-15 21:00:00+0...   \n...                                                  ...   \n18557  [2024-08-07 01:00:00+00, 2024-08-07 05:00:00+0...   \n18558  [2024-08-07 02:00:00+00, 2024-08-07 05:00:00+0...   \n18559  [2024-08-07 01:00:00+00, 2024-08-07 05:00:00+0...   \n18560  [2024-08-07 02:00:00+00, 2024-08-07 05:00:00+0...   \n18561  [2024-08-07 02:00:00+00, 2024-08-07 06:00:00+0...   \n\n                                             stop_latest  \\\n0      [2024-01-16 01:00:00+00, 2024-01-16 03:00:00+0...   \n1      [2024-01-16 01:00:00+00, 2024-01-16 04:00:00+0...   \n2      [2024-01-16 01:00:00+00, 2024-01-16 04:00:00+0...   \n3      [2024-01-16 01:00:00+00, 2024-01-16 04:00:00+0...   \n4      [2024-01-16 01:00:00+00, 2024-01-16 04:00:00+0...   \n...                                                  ...   \n18557  [2024-08-07 14:00:00+00, 2024-08-07 11:00:00+0...   \n18558  [2024-08-07 20:00:00+00, 2024-08-07 07:00:00+0...   \n18559  [2024-08-07 14:00:00+00, 2024-08-07 11:00:00+0...   \n18560  [2024-08-07 20:00:00+00, 2024-08-07 07:00:00+0...   \n18561  [2024-08-07 20:00:00+00, 2024-08-07 10:00:00+0...   \n\n                                             current_lat  \\\n0      [55.64641920439919, 55.6669147, 55.6757322, 55...   \n1      [55.64641920439919, 55.662018, 55.658103, 55.6...   \n2      [55.64641920439919, 55.7498333, 55.80148, 55.7...   \n3      [55.64641920439919, 55.646535, 55.672309, 55.6...   \n4      [55.64641920439919, 55.640375, 55.639120600000...   \n...                                                  ...   \n18557  [60.007627, 60.01175632293701, 59.950832, 59.9...   \n18558  [59.805664, 59.749221, 59.747942, 59.737167777...   \n18559  [60.007627, 59.923836, 59.93422, 59.811373, 59...   \n18560  [59.805664, 59.795058, 59.805664, 59.948098894...   \n18561  [59.805664, 59.420838, 59.415188, 59.414098, 5...   \n\n                                             current_lng  \\\n0      [12.15372974969827, 12.5262801, 12.5619711, 12...   \n1      [12.15372974969827, 12.360745, 12.368506, 12.3...   \n2      [12.15372974969827, 12.5870785, 12.525814, 12....   \n3      [12.15372974969827, 12.539958, 12.588959, 12.6...   \n4      [12.15372974969827, 12.091312, 12.0627714, 12....   \n...                                                  ...   \n18557  [11.047135, 11.052440556594831, 10.856852, 10....   \n18558  [10.290383, 10.26819, 10.291249, 10.3725904226...   \n18559  [11.047135, 10.814451, 10.800594, 10.80755, 10...   \n18560  [10.290383, 10.279009, 10.290383, 10.771520299...   \n18561  [10.290383, 10.488199, 10.496616, 10.487423, 1...   \n\n                                       stop_completed_at  \\\n0      [2024-01-15 22:14:55.135437+00, 2024-01-15 23:...   \n1      [2024-01-15 22:59:10.867219+00, 2024-01-15 23:...   \n2      [2024-01-15 22:32:54.670991+00, 2024-01-15 23:...   \n3      [2024-01-15 22:37:19.03627+00, 2024-01-16 00:2...   \n4      [2024-01-15 23:06:46.892607+00, 2024-01-16 01:...   \n...                                                  ...   \n18557  [2024-08-07 13:31:52.955952+00, 2024-08-07 13:...   \n18558  [2024-08-07 04:49:12.961702+00, 2024-08-07 05:...   \n18559  [2024-08-07 13:31:50.711869+00, 2024-08-07 13:...   \n18560  [2024-08-07 07:10:49.406797+00, 2024-08-07 07:...   \n18561  [2024-08-07 09:00:39.885506+00, 2024-08-07 10:...   \n\n                                   planned_route_cluster  \\\n0         [147, 1419, 3429, 3703, 1360, 1360, 4511, 335]   \n1         [147, 122, 2070, 3540, 1413, 1413, 3663, 1287]   \n2               [147, 2596, 521, 4623, 3326, 3115, 1050]   \n3      [147, 3305, 3715, 4879, 1830, 537, 3301, 2199,...   \n4      [147, 4979, 3980, 3679, 2681, 2319, 708, 1644,...   \n...                                                  ...   \n18557  [30, 4754, 846, 4226, 3915, 3949, 1293, 4349, ...   \n18558  [33, 2460, 1978, 1234, 2493, 931, 2241, 148, 1...   \n18559             [30, 3949, 4848, 4971, 2429, 45, 2313]   \n18560                               [33, 2032, 33, 2852]   \n18561  [33, 3225, 4361, 4473, 1308, 2346, 37, 3408, 4...   \n\n                                     planned_route_craft day_of_week  \\\n0       [1167, 1405, 1560, 1413, 1391, 1391, 1434, 1269]     Tuesday   \n1       [1167, 1352, 1312, 1356, 1508, 1508, 1621, 1401]      Monday   \n2             [1167, 2231, 2406, 2349, 2298, 2588, 2493]     Tuesday   \n3      [1167, 1168, 1495, 1658, 1070, 818, 965, 936, ...     Tuesday   \n4      [1167, 1101, 1079, 1282, 1123, 1098, 834, 1262...     Tuesday   \n...                                                  ...         ...   \n18557  [10076, 10099, 9596, 9507, 9158, 8853, 9640, 8...   Wednesday   \n18558  [7166, 6718, 6699, 6495, 6560, 6558, 6756, 653...   Wednesday   \n18559        [10076, 8785, 9172, 7204, 6955, 5902, 7045]   Wednesday   \n18560                           [7166, 7127, 7166, 9527]   Wednesday   \n18561  [7166, 5428, 5394, 5385, 5347, 4633, 4350, 431...   Wednesday   \n\n                                   location_is_depot       date  \\\n0                           [1, 0, 0, 0, 0, 0, 0, 0] 2024-01-15   \n1                           [1, 0, 0, 0, 0, 0, 0, 0] 2024-01-15   \n2                              [1, 0, 0, 0, 0, 0, 0] 2024-01-15   \n3                     [1, 0, 0, 0, 0, 0, 0, 0, 0, 0] 2024-01-15   \n4                        [1, 0, 0, 0, 0, 0, 0, 0, 0] 2024-01-15   \n...                                              ...        ...   \n18557  [1, 0, 0, 0, 0, 0, 0, 0, 0, 0, 0, 0, 0, 0, 0] 2024-08-06   \n18558        [1, 0, 0, 0, 0, 0, 0, 0, 0, 0, 0, 0, 0] 2024-08-06   \n18559                          [1, 0, 0, 0, 0, 0, 0] 2024-08-06   \n18560                                   [1, 0, 1, 0] 2024-08-07   \n18561           [1, 0, 0, 0, 0, 0, 0, 0, 0, 0, 0, 0] 2024-08-07   \n\n                                          distance_route  \\\n0      [14.640018023192697, 1.5229312527257717, 0.606...   \n1      [8.16888775040224, 0.4067943329231743, 0.35828...   \n2      [18.380690356980487, 4.298068156860068, 1.5617...   \n3      [15.110089331615377, 2.617611669361755, 0.8878...   \n4      [2.4776512575967895, 1.1201296974431052, 1.598...   \n...                                                  ...   \n18557  [0.3399120416382811, 7.9893719361707864, 1.229...   \n18558  [3.9833740421767767, 0.8104231018807364, 2.938...   \n18559  [9.94338251969985, 0.8652097234693148, 8.50777...   \n18560  [0.8345487564187866, 0.8345487564187866, 19.43...   \n18561  [27.52809355932868, 0.4910623122012766, 0.3330...   \n\n       total_distance_planned  last_two_weeks_count  \n0                   18.615111                     8  \n1                   12.682013                    11  \n2                   34.403233                     9  \n3                   53.800967                    11  \n4                   18.376147                    11  \n...                       ...                   ...  \n18557               78.874740                     1  \n18558               33.936285                     2  \n18559               46.524795                     1  \n18560               21.100814                     1  \n18561              118.311923                     1  \n\n[18562 rows x 19 columns]",
      "text/html": "<div>\n<style scoped>\n    .dataframe tbody tr th:only-of-type {\n        vertical-align: middle;\n    }\n\n    .dataframe tbody tr th {\n        vertical-align: top;\n    }\n\n    .dataframe thead th {\n        text-align: right;\n    }\n</style>\n<table border=\"1\" class=\"dataframe\">\n  <thead>\n    <tr style=\"text-align: right;\">\n      <th></th>\n      <th>driver_workday_id</th>\n      <th>driver_id</th>\n      <th>location_type_id</th>\n      <th>planned_route_location</th>\n      <th>stop_dispatched_at</th>\n      <th>stop_arrived_at</th>\n      <th>stop_earliest</th>\n      <th>stop_latest</th>\n      <th>current_lat</th>\n      <th>current_lng</th>\n      <th>stop_completed_at</th>\n      <th>planned_route_cluster</th>\n      <th>planned_route_craft</th>\n      <th>day_of_week</th>\n      <th>location_is_depot</th>\n      <th>date</th>\n      <th>distance_route</th>\n      <th>total_distance_planned</th>\n      <th>last_two_weeks_count</th>\n    </tr>\n  </thead>\n  <tbody>\n    <tr>\n      <th>0</th>\n      <td>305735</td>\n      <td>1255</td>\n      <td>[0, 1, 1, 1, 1, 1, 1, 1]</td>\n      <td>[132992, 128289, 128048, 128448, 128037, 12845...</td>\n      <td>[2024-01-15 20:13:10.25734+00, 2024-01-15 20:1...</td>\n      <td>[2024-01-15 22:11:49.528537+00, 2024-01-15 23:...</td>\n      <td>[2024-01-15 19:00:00+00, 2024-01-15 23:00:00+0...</td>\n      <td>[2024-01-16 01:00:00+00, 2024-01-16 03:00:00+0...</td>\n      <td>[55.64641920439919, 55.6669147, 55.6757322, 55...</td>\n      <td>[12.15372974969827, 12.5262801, 12.5619711, 12...</td>\n      <td>[2024-01-15 22:14:55.135437+00, 2024-01-15 23:...</td>\n      <td>[147, 1419, 3429, 3703, 1360, 1360, 4511, 335]</td>\n      <td>[1167, 1405, 1560, 1413, 1391, 1391, 1434, 1269]</td>\n      <td>Tuesday</td>\n      <td>[1, 0, 0, 0, 0, 0, 0, 0]</td>\n      <td>2024-01-15</td>\n      <td>[14.640018023192697, 1.5229312527257717, 0.606...</td>\n      <td>18.615111</td>\n      <td>8</td>\n    </tr>\n    <tr>\n      <th>1</th>\n      <td>305741</td>\n      <td>1195</td>\n      <td>[0, 1, 1, 1, 1, 1, 1, 1]</td>\n      <td>[132992, 130073, 146768, 130075, 128234, 12823...</td>\n      <td>[2024-01-15 20:14:10.430711+00, 2024-01-15 20:...</td>\n      <td>[2024-01-15 22:58:58.038139+00, 2024-01-15 23:...</td>\n      <td>[2024-01-15 19:00:00+00, 2024-01-15 21:00:00+0...</td>\n      <td>[2024-01-16 01:00:00+00, 2024-01-16 04:00:00+0...</td>\n      <td>[55.64641920439919, 55.662018, 55.658103, 55.6...</td>\n      <td>[12.15372974969827, 12.360745, 12.368506, 12.3...</td>\n      <td>[2024-01-15 22:59:10.867219+00, 2024-01-15 23:...</td>\n      <td>[147, 122, 2070, 3540, 1413, 1413, 3663, 1287]</td>\n      <td>[1167, 1352, 1312, 1356, 1508, 1508, 1621, 1401]</td>\n      <td>Monday</td>\n      <td>[1, 0, 0, 0, 0, 0, 0, 0]</td>\n      <td>2024-01-15</td>\n      <td>[8.16888775040224, 0.4067943329231743, 0.35828...</td>\n      <td>12.682013</td>\n      <td>11</td>\n    </tr>\n    <tr>\n      <th>2</th>\n      <td>305742</td>\n      <td>1186</td>\n      <td>[0, 1, 1, 1, 1, 1, 1]</td>\n      <td>[132992, 128251, 128480, 129701, 130263, 13014...</td>\n      <td>[2024-01-15 20:15:12.147596+00, 2024-01-15 20:...</td>\n      <td>[2024-01-15 22:32:42.615543+00, 2024-01-15 23:...</td>\n      <td>[2024-01-15 19:00:00+00, 2024-01-15 21:00:00+0...</td>\n      <td>[2024-01-16 01:00:00+00, 2024-01-16 04:00:00+0...</td>\n      <td>[55.64641920439919, 55.7498333, 55.80148, 55.7...</td>\n      <td>[12.15372974969827, 12.5870785, 12.525814, 12....</td>\n      <td>[2024-01-15 22:32:54.670991+00, 2024-01-15 23:...</td>\n      <td>[147, 2596, 521, 4623, 3326, 3115, 1050]</td>\n      <td>[1167, 2231, 2406, 2349, 2298, 2588, 2493]</td>\n      <td>Tuesday</td>\n      <td>[1, 0, 0, 0, 0, 0, 0]</td>\n      <td>2024-01-15</td>\n      <td>[18.380690356980487, 4.298068156860068, 1.5617...</td>\n      <td>34.403233</td>\n      <td>9</td>\n    </tr>\n    <tr>\n      <th>3</th>\n      <td>305754</td>\n      <td>1218</td>\n      <td>[0, 1, 1, 1, 1, 1, 1, 1, 1, 1]</td>\n      <td>[132992, 128114, 129560, 128017, 128413, 12798...</td>\n      <td>[2024-01-15 20:17:12.871538+00, 2024-01-15 20:...</td>\n      <td>[2024-01-15 22:37:07.860851+00, 2024-01-16 00:...</td>\n      <td>[2024-01-15 19:00:00+00, 2024-01-15 21:00:00+0...</td>\n      <td>[2024-01-16 01:00:00+00, 2024-01-16 04:00:00+0...</td>\n      <td>[55.64641920439919, 55.646535, 55.672309, 55.6...</td>\n      <td>[12.15372974969827, 12.539958, 12.588959, 12.6...</td>\n      <td>[2024-01-15 22:37:19.03627+00, 2024-01-16 00:2...</td>\n      <td>[147, 3305, 3715, 4879, 1830, 537, 3301, 2199,...</td>\n      <td>[1167, 1168, 1495, 1658, 1070, 818, 965, 936, ...</td>\n      <td>Tuesday</td>\n      <td>[1, 0, 0, 0, 0, 0, 0, 0, 0, 0]</td>\n      <td>2024-01-15</td>\n      <td>[15.110089331615377, 2.617611669361755, 0.8878...</td>\n      <td>53.800967</td>\n      <td>11</td>\n    </tr>\n    <tr>\n      <th>4</th>\n      <td>305758</td>\n      <td>1192</td>\n      <td>[0, 1, 1, 1, 1, 1, 1, 1, 1]</td>\n      <td>[132992, 127628, 128567, 128593, 127977, 12878...</td>\n      <td>[2024-01-15 20:17:36.851051+00, 2024-01-15 20:...</td>\n      <td>[2024-01-15 23:06:33.822316+00, 2024-01-16 01:...</td>\n      <td>[2024-01-15 19:00:00+00, 2024-01-15 21:00:00+0...</td>\n      <td>[2024-01-16 01:00:00+00, 2024-01-16 04:00:00+0...</td>\n      <td>[55.64641920439919, 55.640375, 55.639120600000...</td>\n      <td>[12.15372974969827, 12.091312, 12.0627714, 12....</td>\n      <td>[2024-01-15 23:06:46.892607+00, 2024-01-16 01:...</td>\n      <td>[147, 4979, 3980, 3679, 2681, 2319, 708, 1644,...</td>\n      <td>[1167, 1101, 1079, 1282, 1123, 1098, 834, 1262...</td>\n      <td>Tuesday</td>\n      <td>[1, 0, 0, 0, 0, 0, 0, 0, 0]</td>\n      <td>2024-01-15</td>\n      <td>[2.4776512575967895, 1.1201296974431052, 1.598...</td>\n      <td>18.376147</td>\n      <td>11</td>\n    </tr>\n    <tr>\n      <th>...</th>\n      <td>...</td>\n      <td>...</td>\n      <td>...</td>\n      <td>...</td>\n      <td>...</td>\n      <td>...</td>\n      <td>...</td>\n      <td>...</td>\n      <td>...</td>\n      <td>...</td>\n      <td>...</td>\n      <td>...</td>\n      <td>...</td>\n      <td>...</td>\n      <td>...</td>\n      <td>...</td>\n      <td>...</td>\n      <td>...</td>\n      <td>...</td>\n    </tr>\n    <tr>\n      <th>18557</th>\n      <td>442390</td>\n      <td>276</td>\n      <td>[0, 1, 1, 1, 1, 1, 1, 1, 1, 1, 1, 1, 1, 1, 1]</td>\n      <td>[23287, 24605, 171404, 62110, 25046, 151521, 3...</td>\n      <td>[2024-08-06 19:39:14.014177+00, 2024-08-06 19:...</td>\n      <td>[2024-08-07 13:31:52.955936+00, 2024-08-07 13:...</td>\n      <td>[2024-08-07 01:00:00+00, 2024-08-07 05:00:00+0...</td>\n      <td>[2024-08-07 14:00:00+00, 2024-08-07 11:00:00+0...</td>\n      <td>[60.007627, 60.01175632293701, 59.950832, 59.9...</td>\n      <td>[11.047135, 11.052440556594831, 10.856852, 10....</td>\n      <td>[2024-08-07 13:31:52.955952+00, 2024-08-07 13:...</td>\n      <td>[30, 4754, 846, 4226, 3915, 3949, 1293, 4349, ...</td>\n      <td>[10076, 10099, 9596, 9507, 9158, 8853, 9640, 8...</td>\n      <td>Wednesday</td>\n      <td>[1, 0, 0, 0, 0, 0, 0, 0, 0, 0, 0, 0, 0, 0, 0]</td>\n      <td>2024-08-06</td>\n      <td>[0.3399120416382811, 7.9893719361707864, 1.229...</td>\n      <td>78.874740</td>\n      <td>1</td>\n    </tr>\n    <tr>\n      <th>18558</th>\n      <td>442391</td>\n      <td>968</td>\n      <td>[0, 1, 1, 1, 1, 1, 1, 0, 1, 1, 1, 1, 1]</td>\n      <td>[50009, 46569, 49498, 50461, 47432, 47429, 504...</td>\n      <td>[2024-08-06 19:08:15.862161+00, 2024-08-06 19:...</td>\n      <td>[2024-08-07 03:50:55.931321+00, 2024-08-07 05:...</td>\n      <td>[2024-08-07 02:00:00+00, 2024-08-07 05:00:00+0...</td>\n      <td>[2024-08-07 20:00:00+00, 2024-08-07 07:00:00+0...</td>\n      <td>[59.805664, 59.749221, 59.747942, 59.737167777...</td>\n      <td>[10.290383, 10.26819, 10.291249, 10.3725904226...</td>\n      <td>[2024-08-07 04:49:12.961702+00, 2024-08-07 05:...</td>\n      <td>[33, 2460, 1978, 1234, 2493, 931, 2241, 148, 1...</td>\n      <td>[7166, 6718, 6699, 6495, 6560, 6558, 6756, 653...</td>\n      <td>Wednesday</td>\n      <td>[1, 0, 0, 0, 0, 0, 0, 0, 0, 0, 0, 0, 0]</td>\n      <td>2024-08-06</td>\n      <td>[3.9833740421767767, 0.8104231018807364, 2.938...</td>\n      <td>33.936285</td>\n      <td>2</td>\n    </tr>\n    <tr>\n      <th>18559</th>\n      <td>442393</td>\n      <td>877</td>\n      <td>[0, 1, 1, 1, 1, 1, 1]</td>\n      <td>[23287, 64432, 40011, 208678, 176858, 222554, ...</td>\n      <td>[2024-08-06 19:39:12.755331+00, 2024-08-06 19:...</td>\n      <td>[2024-08-07 13:31:50.711864+00, 2024-08-07 13:...</td>\n      <td>[2024-08-07 01:00:00+00, 2024-08-07 05:00:00+0...</td>\n      <td>[2024-08-07 14:00:00+00, 2024-08-07 11:00:00+0...</td>\n      <td>[60.007627, 59.923836, 59.93422, 59.811373, 59...</td>\n      <td>[11.047135, 10.814451, 10.800594, 10.80755, 10...</td>\n      <td>[2024-08-07 13:31:50.711869+00, 2024-08-07 13:...</td>\n      <td>[30, 3949, 4848, 4971, 2429, 45, 2313]</td>\n      <td>[10076, 8785, 9172, 7204, 6955, 5902, 7045]</td>\n      <td>Wednesday</td>\n      <td>[1, 0, 0, 0, 0, 0, 0]</td>\n      <td>2024-08-06</td>\n      <td>[9.94338251969985, 0.8652097234693148, 8.50777...</td>\n      <td>46.524795</td>\n      <td>1</td>\n    </tr>\n    <tr>\n      <th>18560</th>\n      <td>443092</td>\n      <td>1417</td>\n      <td>[0, 1, 0, 1]</td>\n      <td>[50009, 50553, 50009, 176776]</td>\n      <td>[2024-08-07 05:59:26.311221+00, 2024-08-07 05:...</td>\n      <td>[2024-08-07 06:38:14.810272+00, 2024-08-07 07:...</td>\n      <td>[2024-08-07 02:00:00+00, 2024-08-07 05:00:00+0...</td>\n      <td>[2024-08-07 20:00:00+00, 2024-08-07 07:00:00+0...</td>\n      <td>[59.805664, 59.795058, 59.805664, 59.948098894...</td>\n      <td>[10.290383, 10.279009, 10.290383, 10.771520299...</td>\n      <td>[2024-08-07 07:10:49.406797+00, 2024-08-07 07:...</td>\n      <td>[33, 2032, 33, 2852]</td>\n      <td>[7166, 7127, 7166, 9527]</td>\n      <td>Wednesday</td>\n      <td>[1, 0, 1, 0]</td>\n      <td>2024-08-07</td>\n      <td>[0.8345487564187866, 0.8345487564187866, 19.43...</td>\n      <td>21.100814</td>\n      <td>1</td>\n    </tr>\n    <tr>\n      <th>18561</th>\n      <td>443107</td>\n      <td>723</td>\n      <td>[0, 1, 1, 1, 1, 1, 1, 1, 1, 1, 0, 1]</td>\n      <td>[50009, 47694, 180866, 46972, 47695, 47029, 52...</td>\n      <td>[2024-08-07 08:27:45.361844+00, 2024-08-07 08:...</td>\n      <td>[2024-08-07 09:00:31.581115+00, 2024-08-07 10:...</td>\n      <td>[2024-08-07 02:00:00+00, 2024-08-07 06:00:00+0...</td>\n      <td>[2024-08-07 20:00:00+00, 2024-08-07 10:00:00+0...</td>\n      <td>[59.805664, 59.420838, 59.415188, 59.414098, 5...</td>\n      <td>[10.290383, 10.488199, 10.496616, 10.487423, 1...</td>\n      <td>[2024-08-07 09:00:39.885506+00, 2024-08-07 10:...</td>\n      <td>[33, 3225, 4361, 4473, 1308, 2346, 37, 3408, 4...</td>\n      <td>[7166, 5428, 5394, 5385, 5347, 4633, 4350, 431...</td>\n      <td>Wednesday</td>\n      <td>[1, 0, 0, 0, 0, 0, 0, 0, 0, 0, 0, 0]</td>\n      <td>2024-08-07</td>\n      <td>[27.52809355932868, 0.4910623122012766, 0.3330...</td>\n      <td>118.311923</td>\n      <td>1</td>\n    </tr>\n  </tbody>\n</table>\n<p>18562 rows × 19 columns</p>\n</div>"
     },
     "execution_count": 11,
     "metadata": {},
     "output_type": "execute_result"
    }
   ],
   "source": [
    "routes"
   ],
   "metadata": {
    "collapsed": false,
    "pycharm": {
     "name": "#%%\n"
    }
   }
  },
  {
   "cell_type": "code",
   "execution_count": 12,
   "outputs": [
    {
     "data": {
      "text/plain": "18562"
     },
     "execution_count": 12,
     "metadata": {},
     "output_type": "execute_result"
    }
   ],
   "source": [
    "def create_actual_route(df, column):\n",
    "    res_col = []\n",
    "    for i in range(len(df)):\n",
    "        row = df.iloc[i]\n",
    "        sorted_dates = sorted(row['stop_arrived_at'])\n",
    "        mapping = {}\n",
    "        for i, date in enumerate(sorted_dates):\n",
    "            mapping[date] = row[column][i]\n",
    "        res_val = [mapping[row['stop_arrived_at'][i]] for i in range(len(row['stop_arrived_at']))]\n",
    "        res_col.append(res_val)\n",
    "    return res_col\n",
    "\n",
    "def create_actual_route_type(df, column):\n",
    "    res_col = []\n",
    "    for i in range(len(df)):\n",
    "        row = df.iloc[i]\n",
    "        sorted_dates = sorted(row['stop_arrived_at'])\n",
    "        mapping = {}\n",
    "        for i, date in enumerate(sorted_dates):\n",
    "            mapping[date] = row['location_type_id'][i]\n",
    "        res_val = [mapping[row['stop_arrived_at'][i]] for i in range(len(row['stop_arrived_at']))]\n",
    "        res_col.append(res_val)\n",
    "    return res_col\n",
    "\n",
    "routes['actual_route_location'] = create_actual_route(routes, 'planned_route_craft')\n",
    "routes['actual_route_type'] = create_actual_route_type(routes, 'planned_route_craft')\n",
    "routes['distance_actual_route'] = routes.apply(calculate_distance_actual, axis=1)\n",
    "routes['total_distance_actual'] = routes['distance_actual_route'].apply(sum)\n",
    "routes['difference_distance'] = (routes['total_distance_actual'] - routes['total_distance_planned'])/routes['total_distance_planned']\n",
    "\n",
    "#remove all the routes with length <= 2\n",
    "routes = routes[routes['planned_route_craft'].apply(lambda x: len(x) > 2)]\n",
    "routes = routes.reset_index(drop=True)\n",
    "\n",
    "len(routes)"
   ],
   "metadata": {
    "collapsed": false,
    "pycharm": {
     "name": "#%%\n"
    }
   }
  },
  {
   "cell_type": "code",
   "execution_count": 13,
   "outputs": [],
   "source": [
    "routes = routes.reset_index(drop=True)\n",
    "more_than_one_1 = routes[routes['location_is_depot'].apply(lambda x: x.count(True) > 1)]\n",
    "len(more_than_one_1), len(routes)\n",
    "\n",
    "routes['actual_route_unique'] = create_actual_route(routes, 'planned_route_location')"
   ],
   "metadata": {
    "collapsed": false,
    "pycharm": {
     "name": "#%%\n"
    }
   }
  },
  {
   "cell_type": "code",
   "execution_count": 14,
   "outputs": [],
   "source": [
    "planned_routes = routes[['planned_route_craft', 'actual_route_location', 'driver_id', 'day_of_week', 'last_two_weeks_count', 'location_type_id', 'stop_arrived_at', 'stop_earliest', 'stop_latest', 'current_lat', 'current_lng', 'difference_distance', 'distance_route', 'distance_actual_route', 'location_is_depot', 'location_type_id', 'date', 'planned_route_location', 'actual_route_unique']]\n",
    "actual_routes = routes['actual_route_location']"
   ],
   "metadata": {
    "collapsed": false,
    "pycharm": {
     "name": "#%%\n"
    }
   }
  },
  {
   "cell_type": "code",
   "execution_count": 15,
   "outputs": [
    {
     "data": {
      "text/plain": "                                     planned_route_craft  \\\n0       [1167, 1405, 1560, 1413, 1391, 1391, 1434, 1269]   \n1       [1167, 1352, 1312, 1356, 1508, 1508, 1621, 1401]   \n2             [1167, 2231, 2406, 2349, 2298, 2588, 2493]   \n3      [1167, 1168, 1495, 1658, 1070, 818, 965, 936, ...   \n4      [1167, 1101, 1079, 1282, 1123, 1098, 834, 1262...   \n...                                                  ...   \n18557  [10076, 10099, 9596, 9507, 9158, 8853, 9640, 8...   \n18558  [7166, 6718, 6699, 6495, 6560, 6558, 6756, 653...   \n18559        [10076, 8785, 9172, 7204, 6955, 5902, 7045]   \n18560                           [7166, 7127, 7166, 9527]   \n18561  [7166, 5428, 5394, 5385, 5347, 4633, 4350, 431...   \n\n                                   actual_route_location  driver_id  \\\n0       [1167, 1405, 1560, 1413, 1391, 1391, 1434, 1269]       1255   \n1       [1167, 1312, 1356, 1352, 1508, 1508, 1621, 1401]       1195   \n2             [1167, 2231, 2349, 2406, 2298, 2493, 2588]       1186   \n3      [1167, 1070, 936, 822, 963, 965, 818, 1658, 14...       1218   \n4      [1167, 1098, 1315, 1282, 1262, 834, 1123, 1079...       1192   \n...                                                  ...        ...   \n18557  [10076, 10099, 9596, 9507, 9158, 8853, 9640, 8...        276   \n18558  [7166, 6718, 6699, 6495, 6560, 6558, 6756, 653...        968   \n18559        [10076, 8785, 9172, 7204, 6955, 5902, 7045]        877   \n18560                           [7166, 7166, 7127, 9527]       1417   \n18561  [7166, 5428, 5394, 5385, 5347, 4633, 4350, 431...        723   \n\n      day_of_week  last_two_weeks_count  \\\n0         Tuesday                     8   \n1          Monday                    11   \n2         Tuesday                     9   \n3         Tuesday                    11   \n4         Tuesday                    11   \n...           ...                   ...   \n18557   Wednesday                     1   \n18558   Wednesday                     2   \n18559   Wednesday                     1   \n18560   Wednesday                     1   \n18561   Wednesday                     1   \n\n                                    location_type_id  \\\n0                           [0, 1, 1, 1, 1, 1, 1, 1]   \n1                           [0, 1, 1, 1, 1, 1, 1, 1]   \n2                              [0, 1, 1, 1, 1, 1, 1]   \n3                     [0, 1, 1, 1, 1, 1, 1, 1, 1, 1]   \n4                        [0, 1, 1, 1, 1, 1, 1, 1, 1]   \n...                                              ...   \n18557  [0, 1, 1, 1, 1, 1, 1, 1, 1, 1, 1, 1, 1, 1, 1]   \n18558        [0, 1, 1, 1, 1, 1, 1, 0, 1, 1, 1, 1, 1]   \n18559                          [0, 1, 1, 1, 1, 1, 1]   \n18560                                   [0, 1, 0, 1]   \n18561           [0, 1, 1, 1, 1, 1, 1, 1, 1, 1, 0, 1]   \n\n                                         stop_arrived_at  \\\n0      [2024-01-15 22:11:49.528537+00, 2024-01-15 23:...   \n1      [2024-01-15 22:58:58.038139+00, 2024-01-15 23:...   \n2      [2024-01-15 22:32:42.615543+00, 2024-01-15 23:...   \n3      [2024-01-15 22:37:07.860851+00, 2024-01-16 00:...   \n4      [2024-01-15 23:06:33.822316+00, 2024-01-16 01:...   \n...                                                  ...   \n18557  [2024-08-07 13:31:52.955936+00, 2024-08-07 13:...   \n18558  [2024-08-07 03:50:55.931321+00, 2024-08-07 05:...   \n18559  [2024-08-07 13:31:50.711864+00, 2024-08-07 13:...   \n18560  [2024-08-07 06:38:14.810272+00, 2024-08-07 07:...   \n18561  [2024-08-07 09:00:31.581115+00, 2024-08-07 10:...   \n\n                                           stop_earliest  \\\n0      [2024-01-15 19:00:00+00, 2024-01-15 23:00:00+0...   \n1      [2024-01-15 19:00:00+00, 2024-01-15 21:00:00+0...   \n2      [2024-01-15 19:00:00+00, 2024-01-15 21:00:00+0...   \n3      [2024-01-15 19:00:00+00, 2024-01-15 21:00:00+0...   \n4      [2024-01-15 19:00:00+00, 2024-01-15 21:00:00+0...   \n...                                                  ...   \n18557  [2024-08-07 01:00:00+00, 2024-08-07 05:00:00+0...   \n18558  [2024-08-07 02:00:00+00, 2024-08-07 05:00:00+0...   \n18559  [2024-08-07 01:00:00+00, 2024-08-07 05:00:00+0...   \n18560  [2024-08-07 02:00:00+00, 2024-08-07 05:00:00+0...   \n18561  [2024-08-07 02:00:00+00, 2024-08-07 06:00:00+0...   \n\n                                             stop_latest  \\\n0      [2024-01-16 01:00:00+00, 2024-01-16 03:00:00+0...   \n1      [2024-01-16 01:00:00+00, 2024-01-16 04:00:00+0...   \n2      [2024-01-16 01:00:00+00, 2024-01-16 04:00:00+0...   \n3      [2024-01-16 01:00:00+00, 2024-01-16 04:00:00+0...   \n4      [2024-01-16 01:00:00+00, 2024-01-16 04:00:00+0...   \n...                                                  ...   \n18557  [2024-08-07 14:00:00+00, 2024-08-07 11:00:00+0...   \n18558  [2024-08-07 20:00:00+00, 2024-08-07 07:00:00+0...   \n18559  [2024-08-07 14:00:00+00, 2024-08-07 11:00:00+0...   \n18560  [2024-08-07 20:00:00+00, 2024-08-07 07:00:00+0...   \n18561  [2024-08-07 20:00:00+00, 2024-08-07 10:00:00+0...   \n\n                                             current_lat  \\\n0      [55.64641920439919, 55.6669147, 55.6757322, 55...   \n1      [55.64641920439919, 55.662018, 55.658103, 55.6...   \n2      [55.64641920439919, 55.7498333, 55.80148, 55.7...   \n3      [55.64641920439919, 55.646535, 55.672309, 55.6...   \n4      [55.64641920439919, 55.640375, 55.639120600000...   \n...                                                  ...   \n18557  [60.007627, 60.01175632293701, 59.950832, 59.9...   \n18558  [59.805664, 59.749221, 59.747942, 59.737167777...   \n18559  [60.007627, 59.923836, 59.93422, 59.811373, 59...   \n18560  [59.805664, 59.795058, 59.805664, 59.948098894...   \n18561  [59.805664, 59.420838, 59.415188, 59.414098, 5...   \n\n                                             current_lng  difference_distance  \\\n0      [12.15372974969827, 12.5262801, 12.5619711, 12...             0.000000   \n1      [12.15372974969827, 12.360745, 12.368506, 12.3...             0.006369   \n2      [12.15372974969827, 12.5870785, 12.525814, 12....            -0.027603   \n3      [12.15372974969827, 12.539958, 12.588959, 12.6...             0.435438   \n4      [12.15372974969827, 12.091312, 12.0627714, 12....             0.162129   \n...                                                  ...                  ...   \n18557  [11.047135, 11.052440556594831, 10.856852, 10....             0.000000   \n18558  [10.290383, 10.26819, 10.291249, 10.3725904226...            -0.039707   \n18559  [11.047135, 10.814451, 10.800594, 10.80755, 10...             0.000000   \n18560  [10.290383, 10.279009, 10.290383, 10.771520299...            -0.005401   \n18561  [10.290383, 10.488199, 10.496616, 10.487423, 1...             0.000000   \n\n                                          distance_route  \\\n0      [14.640018023192697, 1.5229312527257717, 0.606...   \n1      [8.16888775040224, 0.4067943329231743, 0.35828...   \n2      [18.380690356980487, 4.298068156860068, 1.5617...   \n3      [15.110089331615377, 2.617611669361755, 0.8878...   \n4      [2.4776512575967895, 1.1201296974431052, 1.598...   \n...                                                  ...   \n18557  [0.3399120416382811, 7.9893719361707864, 1.229...   \n18558  [3.9833740421767767, 0.8104231018807364, 2.938...   \n18559  [9.94338251969985, 0.8652097234693148, 8.50777...   \n18560  [0.8345487564187866, 0.8345487564187866, 19.43...   \n18561  [27.52809355932868, 0.4910623122012766, 0.3330...   \n\n                                   distance_actual_route  \\\n0      [14.640018023192697, 1.5229312527257717, 0.606...   \n1      [8.440075587409163, 0.35828887642036544, 0.110...   \n2      [18.380690356980487, 3.164379243258826, 1.5617...   \n3      [19.4862183744275, 11.162649116186252, 5.20670...   \n4      [2.5909389807670826, 2.6002283089649945, 2.104...   \n...                                                  ...   \n18557  [0.3399120416382811, 7.9893719361707864, 1.229...   \n18558  [3.9833740421767767, 0.8104231018807364, 2.938...   \n18559  [9.94338251969985, 0.8652097234693148, 8.50777...   \n18560      [0.0, 0.8345487564187866, 20.152305668374094]   \n18561  [27.52809355932868, 0.4910623122012766, 0.3330...   \n\n                                   location_is_depot  \\\n0                           [1, 0, 0, 0, 0, 0, 0, 0]   \n1                           [1, 0, 0, 0, 0, 0, 0, 0]   \n2                              [1, 0, 0, 0, 0, 0, 0]   \n3                     [1, 0, 0, 0, 0, 0, 0, 0, 0, 0]   \n4                        [1, 0, 0, 0, 0, 0, 0, 0, 0]   \n...                                              ...   \n18557  [1, 0, 0, 0, 0, 0, 0, 0, 0, 0, 0, 0, 0, 0, 0]   \n18558        [1, 0, 0, 0, 0, 0, 0, 0, 0, 0, 0, 0, 0]   \n18559                          [1, 0, 0, 0, 0, 0, 0]   \n18560                                   [1, 0, 1, 0]   \n18561           [1, 0, 0, 0, 0, 0, 0, 0, 0, 0, 0, 0]   \n\n                                    location_type_id       date  \\\n0                           [0, 1, 1, 1, 1, 1, 1, 1] 2024-01-15   \n1                           [0, 1, 1, 1, 1, 1, 1, 1] 2024-01-15   \n2                              [0, 1, 1, 1, 1, 1, 1] 2024-01-15   \n3                     [0, 1, 1, 1, 1, 1, 1, 1, 1, 1] 2024-01-15   \n4                        [0, 1, 1, 1, 1, 1, 1, 1, 1] 2024-01-15   \n...                                              ...        ...   \n18557  [0, 1, 1, 1, 1, 1, 1, 1, 1, 1, 1, 1, 1, 1, 1] 2024-08-06   \n18558        [0, 1, 1, 1, 1, 1, 1, 0, 1, 1, 1, 1, 1] 2024-08-06   \n18559                          [0, 1, 1, 1, 1, 1, 1] 2024-08-06   \n18560                                   [0, 1, 0, 1] 2024-08-07   \n18561           [0, 1, 1, 1, 1, 1, 1, 1, 1, 1, 0, 1] 2024-08-07   \n\n                                  planned_route_location  \\\n0      [132992, 128289, 128048, 128448, 128037, 12845...   \n1      [132992, 130073, 146768, 130075, 128234, 12823...   \n2      [132992, 128251, 128480, 129701, 130263, 13014...   \n3      [132992, 128114, 129560, 128017, 128413, 12798...   \n4      [132992, 127628, 128567, 128593, 127977, 12878...   \n...                                                  ...   \n18557  [23287, 24605, 171404, 62110, 25046, 151521, 3...   \n18558  [50009, 46569, 49498, 50461, 47432, 47429, 504...   \n18559  [23287, 64432, 40011, 208678, 176858, 222554, ...   \n18560                      [50009, 50553, 50009, 176776]   \n18561  [50009, 47694, 180866, 46972, 47695, 47029, 52...   \n\n                                     actual_route_unique  \n0      [132992, 128289, 128048, 128448, 128454, 12803...  \n1      [132992, 146768, 130075, 130073, 128234, 12823...  \n2      [132992, 128251, 129701, 128480, 130263, 14652...  \n3      [132992, 128413, 128394, 129091, 128617, 12901...  \n4      [132992, 128788, 128647, 128593, 128612, 12860...  \n...                                                  ...  \n18557  [23287, 24605, 171404, 62110, 25046, 151521, 3...  \n18558  [50009, 46569, 49498, 50461, 47432, 47429, 504...  \n18559  [23287, 64432, 40011, 208678, 176858, 222554, ...  \n18560                      [50009, 50009, 50553, 176776]  \n18561  [50009, 47694, 180866, 46972, 47695, 47029, 52...  \n\n[18562 rows x 19 columns]",
      "text/html": "<div>\n<style scoped>\n    .dataframe tbody tr th:only-of-type {\n        vertical-align: middle;\n    }\n\n    .dataframe tbody tr th {\n        vertical-align: top;\n    }\n\n    .dataframe thead th {\n        text-align: right;\n    }\n</style>\n<table border=\"1\" class=\"dataframe\">\n  <thead>\n    <tr style=\"text-align: right;\">\n      <th></th>\n      <th>planned_route_craft</th>\n      <th>actual_route_location</th>\n      <th>driver_id</th>\n      <th>day_of_week</th>\n      <th>last_two_weeks_count</th>\n      <th>location_type_id</th>\n      <th>stop_arrived_at</th>\n      <th>stop_earliest</th>\n      <th>stop_latest</th>\n      <th>current_lat</th>\n      <th>current_lng</th>\n      <th>difference_distance</th>\n      <th>distance_route</th>\n      <th>distance_actual_route</th>\n      <th>location_is_depot</th>\n      <th>location_type_id</th>\n      <th>date</th>\n      <th>planned_route_location</th>\n      <th>actual_route_unique</th>\n    </tr>\n  </thead>\n  <tbody>\n    <tr>\n      <th>0</th>\n      <td>[1167, 1405, 1560, 1413, 1391, 1391, 1434, 1269]</td>\n      <td>[1167, 1405, 1560, 1413, 1391, 1391, 1434, 1269]</td>\n      <td>1255</td>\n      <td>Tuesday</td>\n      <td>8</td>\n      <td>[0, 1, 1, 1, 1, 1, 1, 1]</td>\n      <td>[2024-01-15 22:11:49.528537+00, 2024-01-15 23:...</td>\n      <td>[2024-01-15 19:00:00+00, 2024-01-15 23:00:00+0...</td>\n      <td>[2024-01-16 01:00:00+00, 2024-01-16 03:00:00+0...</td>\n      <td>[55.64641920439919, 55.6669147, 55.6757322, 55...</td>\n      <td>[12.15372974969827, 12.5262801, 12.5619711, 12...</td>\n      <td>0.000000</td>\n      <td>[14.640018023192697, 1.5229312527257717, 0.606...</td>\n      <td>[14.640018023192697, 1.5229312527257717, 0.606...</td>\n      <td>[1, 0, 0, 0, 0, 0, 0, 0]</td>\n      <td>[0, 1, 1, 1, 1, 1, 1, 1]</td>\n      <td>2024-01-15</td>\n      <td>[132992, 128289, 128048, 128448, 128037, 12845...</td>\n      <td>[132992, 128289, 128048, 128448, 128454, 12803...</td>\n    </tr>\n    <tr>\n      <th>1</th>\n      <td>[1167, 1352, 1312, 1356, 1508, 1508, 1621, 1401]</td>\n      <td>[1167, 1312, 1356, 1352, 1508, 1508, 1621, 1401]</td>\n      <td>1195</td>\n      <td>Monday</td>\n      <td>11</td>\n      <td>[0, 1, 1, 1, 1, 1, 1, 1]</td>\n      <td>[2024-01-15 22:58:58.038139+00, 2024-01-15 23:...</td>\n      <td>[2024-01-15 19:00:00+00, 2024-01-15 21:00:00+0...</td>\n      <td>[2024-01-16 01:00:00+00, 2024-01-16 04:00:00+0...</td>\n      <td>[55.64641920439919, 55.662018, 55.658103, 55.6...</td>\n      <td>[12.15372974969827, 12.360745, 12.368506, 12.3...</td>\n      <td>0.006369</td>\n      <td>[8.16888775040224, 0.4067943329231743, 0.35828...</td>\n      <td>[8.440075587409163, 0.35828887642036544, 0.110...</td>\n      <td>[1, 0, 0, 0, 0, 0, 0, 0]</td>\n      <td>[0, 1, 1, 1, 1, 1, 1, 1]</td>\n      <td>2024-01-15</td>\n      <td>[132992, 130073, 146768, 130075, 128234, 12823...</td>\n      <td>[132992, 146768, 130075, 130073, 128234, 12823...</td>\n    </tr>\n    <tr>\n      <th>2</th>\n      <td>[1167, 2231, 2406, 2349, 2298, 2588, 2493]</td>\n      <td>[1167, 2231, 2349, 2406, 2298, 2493, 2588]</td>\n      <td>1186</td>\n      <td>Tuesday</td>\n      <td>9</td>\n      <td>[0, 1, 1, 1, 1, 1, 1]</td>\n      <td>[2024-01-15 22:32:42.615543+00, 2024-01-15 23:...</td>\n      <td>[2024-01-15 19:00:00+00, 2024-01-15 21:00:00+0...</td>\n      <td>[2024-01-16 01:00:00+00, 2024-01-16 04:00:00+0...</td>\n      <td>[55.64641920439919, 55.7498333, 55.80148, 55.7...</td>\n      <td>[12.15372974969827, 12.5870785, 12.525814, 12....</td>\n      <td>-0.027603</td>\n      <td>[18.380690356980487, 4.298068156860068, 1.5617...</td>\n      <td>[18.380690356980487, 3.164379243258826, 1.5617...</td>\n      <td>[1, 0, 0, 0, 0, 0, 0]</td>\n      <td>[0, 1, 1, 1, 1, 1, 1]</td>\n      <td>2024-01-15</td>\n      <td>[132992, 128251, 128480, 129701, 130263, 13014...</td>\n      <td>[132992, 128251, 129701, 128480, 130263, 14652...</td>\n    </tr>\n    <tr>\n      <th>3</th>\n      <td>[1167, 1168, 1495, 1658, 1070, 818, 965, 936, ...</td>\n      <td>[1167, 1070, 936, 822, 963, 965, 818, 1658, 14...</td>\n      <td>1218</td>\n      <td>Tuesday</td>\n      <td>11</td>\n      <td>[0, 1, 1, 1, 1, 1, 1, 1, 1, 1]</td>\n      <td>[2024-01-15 22:37:07.860851+00, 2024-01-16 00:...</td>\n      <td>[2024-01-15 19:00:00+00, 2024-01-15 21:00:00+0...</td>\n      <td>[2024-01-16 01:00:00+00, 2024-01-16 04:00:00+0...</td>\n      <td>[55.64641920439919, 55.646535, 55.672309, 55.6...</td>\n      <td>[12.15372974969827, 12.539958, 12.588959, 12.6...</td>\n      <td>0.435438</td>\n      <td>[15.110089331615377, 2.617611669361755, 0.8878...</td>\n      <td>[19.4862183744275, 11.162649116186252, 5.20670...</td>\n      <td>[1, 0, 0, 0, 0, 0, 0, 0, 0, 0]</td>\n      <td>[0, 1, 1, 1, 1, 1, 1, 1, 1, 1]</td>\n      <td>2024-01-15</td>\n      <td>[132992, 128114, 129560, 128017, 128413, 12798...</td>\n      <td>[132992, 128413, 128394, 129091, 128617, 12901...</td>\n    </tr>\n    <tr>\n      <th>4</th>\n      <td>[1167, 1101, 1079, 1282, 1123, 1098, 834, 1262...</td>\n      <td>[1167, 1098, 1315, 1282, 1262, 834, 1123, 1079...</td>\n      <td>1192</td>\n      <td>Tuesday</td>\n      <td>11</td>\n      <td>[0, 1, 1, 1, 1, 1, 1, 1, 1]</td>\n      <td>[2024-01-15 23:06:33.822316+00, 2024-01-16 01:...</td>\n      <td>[2024-01-15 19:00:00+00, 2024-01-15 21:00:00+0...</td>\n      <td>[2024-01-16 01:00:00+00, 2024-01-16 04:00:00+0...</td>\n      <td>[55.64641920439919, 55.640375, 55.639120600000...</td>\n      <td>[12.15372974969827, 12.091312, 12.0627714, 12....</td>\n      <td>0.162129</td>\n      <td>[2.4776512575967895, 1.1201296974431052, 1.598...</td>\n      <td>[2.5909389807670826, 2.6002283089649945, 2.104...</td>\n      <td>[1, 0, 0, 0, 0, 0, 0, 0, 0]</td>\n      <td>[0, 1, 1, 1, 1, 1, 1, 1, 1]</td>\n      <td>2024-01-15</td>\n      <td>[132992, 127628, 128567, 128593, 127977, 12878...</td>\n      <td>[132992, 128788, 128647, 128593, 128612, 12860...</td>\n    </tr>\n    <tr>\n      <th>...</th>\n      <td>...</td>\n      <td>...</td>\n      <td>...</td>\n      <td>...</td>\n      <td>...</td>\n      <td>...</td>\n      <td>...</td>\n      <td>...</td>\n      <td>...</td>\n      <td>...</td>\n      <td>...</td>\n      <td>...</td>\n      <td>...</td>\n      <td>...</td>\n      <td>...</td>\n      <td>...</td>\n      <td>...</td>\n      <td>...</td>\n      <td>...</td>\n    </tr>\n    <tr>\n      <th>18557</th>\n      <td>[10076, 10099, 9596, 9507, 9158, 8853, 9640, 8...</td>\n      <td>[10076, 10099, 9596, 9507, 9158, 8853, 9640, 8...</td>\n      <td>276</td>\n      <td>Wednesday</td>\n      <td>1</td>\n      <td>[0, 1, 1, 1, 1, 1, 1, 1, 1, 1, 1, 1, 1, 1, 1]</td>\n      <td>[2024-08-07 13:31:52.955936+00, 2024-08-07 13:...</td>\n      <td>[2024-08-07 01:00:00+00, 2024-08-07 05:00:00+0...</td>\n      <td>[2024-08-07 14:00:00+00, 2024-08-07 11:00:00+0...</td>\n      <td>[60.007627, 60.01175632293701, 59.950832, 59.9...</td>\n      <td>[11.047135, 11.052440556594831, 10.856852, 10....</td>\n      <td>0.000000</td>\n      <td>[0.3399120416382811, 7.9893719361707864, 1.229...</td>\n      <td>[0.3399120416382811, 7.9893719361707864, 1.229...</td>\n      <td>[1, 0, 0, 0, 0, 0, 0, 0, 0, 0, 0, 0, 0, 0, 0]</td>\n      <td>[0, 1, 1, 1, 1, 1, 1, 1, 1, 1, 1, 1, 1, 1, 1]</td>\n      <td>2024-08-06</td>\n      <td>[23287, 24605, 171404, 62110, 25046, 151521, 3...</td>\n      <td>[23287, 24605, 171404, 62110, 25046, 151521, 3...</td>\n    </tr>\n    <tr>\n      <th>18558</th>\n      <td>[7166, 6718, 6699, 6495, 6560, 6558, 6756, 653...</td>\n      <td>[7166, 6718, 6699, 6495, 6560, 6558, 6756, 653...</td>\n      <td>968</td>\n      <td>Wednesday</td>\n      <td>2</td>\n      <td>[0, 1, 1, 1, 1, 1, 1, 0, 1, 1, 1, 1, 1]</td>\n      <td>[2024-08-07 03:50:55.931321+00, 2024-08-07 05:...</td>\n      <td>[2024-08-07 02:00:00+00, 2024-08-07 05:00:00+0...</td>\n      <td>[2024-08-07 20:00:00+00, 2024-08-07 07:00:00+0...</td>\n      <td>[59.805664, 59.749221, 59.747942, 59.737167777...</td>\n      <td>[10.290383, 10.26819, 10.291249, 10.3725904226...</td>\n      <td>-0.039707</td>\n      <td>[3.9833740421767767, 0.8104231018807364, 2.938...</td>\n      <td>[3.9833740421767767, 0.8104231018807364, 2.938...</td>\n      <td>[1, 0, 0, 0, 0, 0, 0, 0, 0, 0, 0, 0, 0]</td>\n      <td>[0, 1, 1, 1, 1, 1, 1, 0, 1, 1, 1, 1, 1]</td>\n      <td>2024-08-06</td>\n      <td>[50009, 46569, 49498, 50461, 47432, 47429, 504...</td>\n      <td>[50009, 46569, 49498, 50461, 47432, 47429, 504...</td>\n    </tr>\n    <tr>\n      <th>18559</th>\n      <td>[10076, 8785, 9172, 7204, 6955, 5902, 7045]</td>\n      <td>[10076, 8785, 9172, 7204, 6955, 5902, 7045]</td>\n      <td>877</td>\n      <td>Wednesday</td>\n      <td>1</td>\n      <td>[0, 1, 1, 1, 1, 1, 1]</td>\n      <td>[2024-08-07 13:31:50.711864+00, 2024-08-07 13:...</td>\n      <td>[2024-08-07 01:00:00+00, 2024-08-07 05:00:00+0...</td>\n      <td>[2024-08-07 14:00:00+00, 2024-08-07 11:00:00+0...</td>\n      <td>[60.007627, 59.923836, 59.93422, 59.811373, 59...</td>\n      <td>[11.047135, 10.814451, 10.800594, 10.80755, 10...</td>\n      <td>0.000000</td>\n      <td>[9.94338251969985, 0.8652097234693148, 8.50777...</td>\n      <td>[9.94338251969985, 0.8652097234693148, 8.50777...</td>\n      <td>[1, 0, 0, 0, 0, 0, 0]</td>\n      <td>[0, 1, 1, 1, 1, 1, 1]</td>\n      <td>2024-08-06</td>\n      <td>[23287, 64432, 40011, 208678, 176858, 222554, ...</td>\n      <td>[23287, 64432, 40011, 208678, 176858, 222554, ...</td>\n    </tr>\n    <tr>\n      <th>18560</th>\n      <td>[7166, 7127, 7166, 9527]</td>\n      <td>[7166, 7166, 7127, 9527]</td>\n      <td>1417</td>\n      <td>Wednesday</td>\n      <td>1</td>\n      <td>[0, 1, 0, 1]</td>\n      <td>[2024-08-07 06:38:14.810272+00, 2024-08-07 07:...</td>\n      <td>[2024-08-07 02:00:00+00, 2024-08-07 05:00:00+0...</td>\n      <td>[2024-08-07 20:00:00+00, 2024-08-07 07:00:00+0...</td>\n      <td>[59.805664, 59.795058, 59.805664, 59.948098894...</td>\n      <td>[10.290383, 10.279009, 10.290383, 10.771520299...</td>\n      <td>-0.005401</td>\n      <td>[0.8345487564187866, 0.8345487564187866, 19.43...</td>\n      <td>[0.0, 0.8345487564187866, 20.152305668374094]</td>\n      <td>[1, 0, 1, 0]</td>\n      <td>[0, 1, 0, 1]</td>\n      <td>2024-08-07</td>\n      <td>[50009, 50553, 50009, 176776]</td>\n      <td>[50009, 50009, 50553, 176776]</td>\n    </tr>\n    <tr>\n      <th>18561</th>\n      <td>[7166, 5428, 5394, 5385, 5347, 4633, 4350, 431...</td>\n      <td>[7166, 5428, 5394, 5385, 5347, 4633, 4350, 431...</td>\n      <td>723</td>\n      <td>Wednesday</td>\n      <td>1</td>\n      <td>[0, 1, 1, 1, 1, 1, 1, 1, 1, 1, 0, 1]</td>\n      <td>[2024-08-07 09:00:31.581115+00, 2024-08-07 10:...</td>\n      <td>[2024-08-07 02:00:00+00, 2024-08-07 06:00:00+0...</td>\n      <td>[2024-08-07 20:00:00+00, 2024-08-07 10:00:00+0...</td>\n      <td>[59.805664, 59.420838, 59.415188, 59.414098, 5...</td>\n      <td>[10.290383, 10.488199, 10.496616, 10.487423, 1...</td>\n      <td>0.000000</td>\n      <td>[27.52809355932868, 0.4910623122012766, 0.3330...</td>\n      <td>[27.52809355932868, 0.4910623122012766, 0.3330...</td>\n      <td>[1, 0, 0, 0, 0, 0, 0, 0, 0, 0, 0, 0]</td>\n      <td>[0, 1, 1, 1, 1, 1, 1, 1, 1, 1, 0, 1]</td>\n      <td>2024-08-07</td>\n      <td>[50009, 47694, 180866, 46972, 47695, 47029, 52...</td>\n      <td>[50009, 47694, 180866, 46972, 47695, 47029, 52...</td>\n    </tr>\n  </tbody>\n</table>\n<p>18562 rows × 19 columns</p>\n</div>"
     },
     "execution_count": 15,
     "metadata": {},
     "output_type": "execute_result"
    }
   ],
   "source": [
    "planned_routes"
   ],
   "metadata": {
    "collapsed": false,
    "pycharm": {
     "name": "#%%\n"
    }
   }
  },
  {
   "cell_type": "code",
   "execution_count": 16,
   "outputs": [
    {
     "data": {
      "text/plain": "(18562, 18562)"
     },
     "execution_count": 16,
     "metadata": {},
     "output_type": "execute_result"
    }
   ],
   "source": [
    "planned_routes_list = planned_routes['planned_route_craft'].tolist()\n",
    "actual_routes_list = actual_routes.tolist()\n",
    "\n",
    "# filtered_rows = []\n",
    "#\n",
    "# for row in actual_routes_list:\n",
    "#     if row not in planned_routes_list:\n",
    "#         filtered_rows.append(row)\n",
    "\n",
    "#duplicated removed\n",
    "# planned_routes_list = [array for i, array in enumerate(planned_routes_list) if array not in planned_routes_list[:i]]\n",
    "# actual_routes_list = [array for i, array in enumerate(filtered_rows) if array not in filtered_rows[:i]]\n",
    "len(planned_routes_list),len(actual_routes_list)"
   ],
   "metadata": {
    "collapsed": false,
    "pycharm": {
     "name": "#%%\n"
    }
   }
  },
  {
   "cell_type": "markdown",
   "source": [
    "# Edit distance"
   ],
   "metadata": {
    "collapsed": false,
    "pycharm": {
     "name": "#%% md\n"
    }
   }
  },
  {
   "cell_type": "code",
   "execution_count": 17,
   "outputs": [
    {
     "name": "stdout",
     "output_type": "stream",
     "text": [
      "3\n"
     ]
    }
   ],
   "source": [
    "# Edit Distance\n",
    "\n",
    "def minDistance(word1, word2) -> int:\n",
    "    m = len(word1)\n",
    "    n = len(word2)\n",
    "    # dp[i][j] := min # Of operations to convert word1[0..i) to word2[0..j)\n",
    "    dp = [[0] * (n + 1) for _ in range(m + 1)]\n",
    "\n",
    "    for i in range(1, m + 1):\n",
    "      dp[i][0] = i\n",
    "\n",
    "    for j in range(1, n + 1):\n",
    "      dp[0][j] = j\n",
    "\n",
    "    for i in range(1, m + 1):\n",
    "      for j in range(1, n + 1):\n",
    "        if word1[i - 1] == word2[j - 1]:\n",
    "          dp[i][j] = dp[i - 1][j - 1]\n",
    "        else:\n",
    "          dp[i][j] = min(dp[i - 1][j - 1], dp[i - 1][j], dp[i][j - 1]) + 1\n",
    "\n",
    "    return dp[m][n]\n",
    "\n",
    "print(minDistance([878, 1526, 1613, 1706, 1857, 1777], [878, 1526, 1706, 1613, 1777, 1857]))"
   ],
   "metadata": {
    "collapsed": false,
    "pycharm": {
     "name": "#%%\n"
    }
   }
  },
  {
   "cell_type": "markdown",
   "source": [
    "\n",
    "# Route quality score"
   ],
   "metadata": {
    "collapsed": false,
    "pycharm": {
     "name": "#%% md\n"
    }
   }
  },
  {
   "cell_type": "code",
   "execution_count": 18,
   "outputs": [],
   "source": [
    "def calculate_route_quality_score(planned_ranks, actual_ranks):\n",
    "    # Calculate sum of absolute differences in ranks\n",
    "    sum_of_differences = sum(abs(actual_ranks.index(x) - planned_ranks.index(x)) for x in planned_ranks)\n",
    "\n",
    "    # Calculate max possible difference\n",
    "    max_possible_difference = sum([abs(2 * i - (len(planned_ranks) + 1)) for i in range(1, len(planned_ranks) + 1)])\n",
    "\n",
    "    # Calculate route quality score\n",
    "    route_quality_score = 1 - (sum_of_differences / max_possible_difference)\n",
    "\n",
    "    return route_quality_score"
   ],
   "metadata": {
    "collapsed": false,
    "pycharm": {
     "name": "#%%\n"
    }
   }
  },
  {
   "cell_type": "markdown",
   "source": [
    "For each driver-day, we consider only the planned route. For each planned route we calculate how much it deviates from the actual route (e.g., use some form of edit distance - see https://link.springer.com/article/10.1007/s10732-006-9001-3?), which is then normalized (divide by max edit distance, or number of visits or something?) to the interval [0, 1]. Then, a planned route is good if this distance (between planned and actual) is less than a certain threshold and otherwise it is bad. This becomes the label (bad/good)"
   ],
   "metadata": {
    "collapsed": false,
    "pycharm": {
     "name": "#%% md\n"
    }
   }
  },
  {
   "cell_type": "code",
   "execution_count": 19,
   "outputs": [
    {
     "name": "stdout",
     "output_type": "stream",
     "text": [
      "8612 9950\n"
     ]
    },
    {
     "data": {
      "text/plain": "                                    planned_route_craft  \\\n0            [1167, 2231, 2406, 2349, 2298, 2588, 2493]   \n1     [1167, 1168, 1495, 1658, 1070, 818, 965, 936, ...   \n2     [1167, 1101, 1079, 1282, 1123, 1098, 834, 1262...   \n3     [1167, 1951, 1951, 1777, 1796, 1811, 1949, 196...   \n4      [1167, 1420, 1519, 1687, 1528, 1367, 1174, 1174]   \n...                                                 ...   \n9945  [3162, 3243, 3295, 3295, 3280, 3249, 3281, 329...   \n9946         [1167, 1174, 1167, 2231, 1970, 1949, 1954]   \n9947         [11372, 11173, 11150, 11158, 11157, 11154]   \n9948  [3162, 3240, 3295, 3295, 3243, 3280, 3327, 332...   \n9949                           [7166, 7127, 7166, 9527]   \n\n                                  actual_route_location  driver_id  \\\n0            [1167, 2231, 2349, 2406, 2298, 2493, 2588]       1186   \n1     [1167, 1070, 936, 822, 963, 965, 818, 1658, 14...       1218   \n2     [1167, 1098, 1315, 1282, 1262, 834, 1123, 1079...       1192   \n3     [1167, 1999, 1929, 1951, 1951, 1777, 1796, 181...       1198   \n4      [1167, 1174, 1174, 1367, 1528, 1687, 1519, 1420]       1210   \n...                                                 ...        ...   \n9945  [3162, 3243, 3295, 3295, 3281, 3296, 3273, 327...       1520   \n9946         [1167, 1954, 1174, 1167, 1949, 2231, 1970]       1624   \n9947         [11372, 11173, 11154, 11158, 11150, 11157]        441   \n9948  [3162, 3295, 3243, 3295, 3240, 3327, 3258, 324...       1520   \n9949                           [7166, 7166, 7127, 9527]       1417   \n\n     day_of_week  last_two_weeks_count  \\\n0        Tuesday                     9   \n1        Tuesday                    11   \n2        Tuesday                    11   \n3        Tuesday                     8   \n4        Tuesday                    10   \n...          ...                   ...   \n9945     Tuesday                     2   \n9946      Monday                     1   \n9947   Wednesday                     2   \n9948   Wednesday                     1   \n9949   Wednesday                     1   \n\n                                       location_type_id  \\\n0                                 [0, 1, 1, 1, 1, 1, 1]   \n1                        [0, 1, 1, 1, 1, 1, 1, 1, 1, 1]   \n2                           [0, 1, 1, 1, 1, 1, 1, 1, 1]   \n3            [0, 1, 1, 1, 1, 1, 1, 1, 1, 1, 1, 1, 1, 1]   \n4                              [0, 1, 1, 1, 1, 1, 1, 1]   \n...                                                 ...   \n9945  [0, 1, 1, 1, 1, 1, 1, 1, 1, 1, 1, 1, 1, 1, 1, ...   \n9946                              [0, 1, 0, 1, 1, 1, 1]   \n9947                                 [0, 1, 1, 1, 1, 1]   \n9948  [0, 1, 1, 1, 1, 1, 0, 1, 1, 1, 1, 1, 1, 1, 1, ...   \n9949                                       [0, 1, 0, 1]   \n\n                                        stop_arrived_at  \\\n0     [2024-01-15 22:32:42.615543+00, 2024-01-15 23:...   \n1     [2024-01-15 22:37:07.860851+00, 2024-01-16 00:...   \n2     [2024-01-15 23:06:33.822316+00, 2024-01-16 01:...   \n3     [2024-01-15 22:08:46.207788+00, 2024-01-16 01:...   \n4     [2024-01-15 21:51:16.697854+00, 2024-01-16 01:...   \n...                                                 ...   \n9945  [2024-08-06 01:57:14.727094+00, 2024-08-06 02:...   \n9946  [2024-08-05 21:45:40.106773+00, 2024-08-05 23:...   \n9947  [2024-08-07 05:31:08.421936+00, 2024-08-07 09:...   \n9948  [2024-08-07 01:55:50.864283+00, 2024-08-07 02:...   \n9949  [2024-08-07 06:38:14.810272+00, 2024-08-07 07:...   \n\n                                          stop_earliest  \\\n0     [2024-01-15 19:00:00+00, 2024-01-15 21:00:00+0...   \n1     [2024-01-15 19:00:00+00, 2024-01-15 21:00:00+0...   \n2     [2024-01-15 19:00:00+00, 2024-01-15 21:00:00+0...   \n3     [2024-01-15 19:00:00+00, 2024-01-15 23:00:00+0...   \n4     [2024-01-15 19:00:00+00, 2024-01-15 21:00:00+0...   \n...                                                 ...   \n9945  [2024-08-06 00:00:00+00, 2024-08-06 01:00:00+0...   \n9946  [2024-08-05 18:00:00+00, 2024-08-05 20:00:00+0...   \n9947  [2024-08-07 05:00:00+00, 2024-08-07 05:00:00+0...   \n9948  [2024-08-07 00:00:00+00, 2024-08-07 02:00:00+0...   \n9949  [2024-08-07 02:00:00+00, 2024-08-07 05:00:00+0...   \n\n                                            stop_latest  \\\n0     [2024-01-16 01:00:00+00, 2024-01-16 04:00:00+0...   \n1     [2024-01-16 01:00:00+00, 2024-01-16 04:00:00+0...   \n2     [2024-01-16 01:00:00+00, 2024-01-16 04:00:00+0...   \n3     [2024-01-16 01:00:00+00, 2024-01-16 08:30:00+0...   \n4     [2024-01-16 01:00:00+00, 2024-01-16 04:00:00+0...   \n...                                                 ...   \n9945  [2024-08-06 16:00:00+00, 2024-08-06 04:00:00+0...   \n9946  [2024-08-06 00:00:00+00, 2024-08-06 03:00:00+0...   \n9947  [2024-08-07 14:00:00+00, 2024-08-07 14:00:00+0...   \n9948  [2024-08-07 16:00:00+00, 2024-08-07 05:00:00+0...   \n9949  [2024-08-07 20:00:00+00, 2024-08-07 07:00:00+0...   \n\n                                            current_lat  \\\n0     [55.64641920439919, 55.7498333, 55.80148, 55.7...   \n1     [55.64641920439919, 55.646535, 55.672309, 55.6...   \n2     [55.64641920439919, 55.640375, 55.639120600000...   \n3     [55.64641920439919, 55.712176, 55.712176, 55.6...   \n4     [55.64641920439919, 55.66807900000001, 55.6733...   \n...                                                 ...   \n9945  [56.0667627, 56.1005391, 56.117045, 56.117045,...   \n9946  [55.64641920439919, 55.64716869999999, 55.6464...   \n9947  [63.43263220000001, 63.044793, 62.569893, 62.5...   \n9948  [56.0667627, 56.1004096, 56.117045, 56.117045,...   \n9949  [59.805664, 59.795058, 59.805664, 59.948098894...   \n\n                                            current_lng  difference_distance  \\\n0     [12.15372974969827, 12.5870785, 12.525814, 12....            -0.027603   \n1     [12.15372974969827, 12.539958, 12.588959, 12.6...             0.435438   \n2     [12.15372974969827, 12.091312, 12.0627714, 12....             0.162129   \n3     [12.15372974969827, 12.541758, 12.541758, 12.5...             0.114027   \n4     [12.15372974969827, 12.562603, 12.5660271, 12....            -0.231637   \n...                                                 ...                  ...   \n9945  [9.986944, 10.0739552, 10.1408688, 10.1408688,...             0.138498   \n9946  [12.15372974969827, 12.4170801, 12.15372974969...             0.337309   \n9947  [10.3643774, 10.283446, 9.623898, 9.659513, 9....             0.003619   \n9948  [9.986944, 10.0686046, 10.1408688, 10.1408688,...             0.510986   \n9949  [10.290383, 10.279009, 10.290383, 10.771520299...            -0.005401   \n\n                                         distance_route  \\\n0     [18.380690356980487, 4.298068156860068, 1.5617...   \n1     [15.110089331615377, 2.617611669361755, 0.8878...   \n2     [2.4776512575967895, 1.1201296974431052, 1.598...   \n3     [15.835300652256178, 0.0, 1.5016735562871621, ...   \n4     [16.061664613017072, 0.3894836165795559, 0.958...   \n...                                                 ...   \n9945  [4.097697796278882, 2.827734737537246, 0.0, 0....   \n9946  [10.302891542998038, 10.302891542998038, 18.38...   \n9947  [26.980923351959824, 38.97044955780091, 1.9401...   \n9948  [3.9241224150190654, 3.0215328879604293, 0.0, ...   \n9949  [0.8345487564187866, 0.8345487564187866, 19.43...   \n\n                                  distance_actual_route  \\\n0     [18.380690356980487, 3.164379243258826, 1.5617...   \n1     [19.4862183744275, 11.162649116186252, 5.20670...   \n2     [2.5909389807670826, 2.6002283089649945, 2.104...   \n3     [16.720642190707288, 0.31770677054599067, 0.84...   \n4     [10.302891542998038, 0.0, 5.823064259213148, 0...   \n...                                                 ...   \n9945  [4.097697796278882, 2.827734737537246, 0.0, 2....   \n9946  [17.128106628397973, 7.677143750409514, 10.302...   \n9947  [26.980923351959824, 36.71871050629079, 1.2691...   \n9948  [6.8952530096090685, 2.827734737537246, 2.8277...   \n9949      [0.0, 0.8345487564187866, 20.152305668374094]   \n\n                                      location_is_depot       date  \\\n0                                 [1, 0, 0, 0, 0, 0, 0] 2024-01-15   \n1                        [1, 0, 0, 0, 0, 0, 0, 0, 0, 0] 2024-01-15   \n2                           [1, 0, 0, 0, 0, 0, 0, 0, 0] 2024-01-15   \n3            [1, 0, 0, 0, 0, 0, 0, 0, 0, 0, 0, 0, 0, 0] 2024-01-15   \n4                              [1, 0, 0, 0, 0, 0, 0, 0] 2024-01-15   \n...                                                 ...        ...   \n9945  [1, 0, 0, 0, 0, 0, 0, 0, 0, 0, 0, 0, 0, 0, 0, ... 2024-08-05   \n9946                              [1, 0, 1, 0, 0, 0, 0] 2024-08-05   \n9947                                 [1, 0, 0, 0, 0, 0] 2024-08-06   \n9948  [1, 0, 0, 0, 0, 0, 0, 0, 0, 0, 0, 0, 0, 0, 0, ... 2024-08-06   \n9949                                       [1, 0, 1, 0] 2024-08-07   \n\n                                 planned_route_location  \\\n0     [132992, 128251, 128480, 129701, 130263, 13014...   \n1     [132992, 128114, 129560, 128017, 128413, 12798...   \n2     [132992, 127628, 128567, 128593, 127977, 12878...   \n3     [132992, 128181, 128177, 127738, 128193, 13045...   \n4     [132992, 129648, 127603, 130480, 127950, 12810...   \n...                                                 ...   \n9945  [183410, 191003, 189793, 188666, 188937, 18892...   \n9946  [132992, 146399, 132992, 128251, 127552, 13044...   \n9947     [32174, 146475, 214353, 41434, 146475, 210645]   \n9948  [183410, 186301, 189793, 188666, 191003, 18893...   \n9949                      [50009, 50553, 50009, 176776]   \n\n                                    actual_route_unique  \n0     [132992, 128251, 129701, 128480, 130263, 14652...  \n1     [132992, 128413, 128394, 129091, 128617, 12901...  \n2     [132992, 128788, 128647, 128593, 128612, 12860...  \n3     [132992, 130491, 147908, 128177, 128181, 12773...  \n4     [132992, 146399, 146401, 128107, 127950, 13048...  \n...                                                 ...  \n9945  [183410, 191003, 188666, 189793, 186076, 19067...  \n9946  [132992, 217429, 146399, 132992, 130441, 12825...  \n9947     [32174, 146475, 210645, 41434, 214353, 146475]  \n9948  [183410, 189793, 191003, 188666, 186301, 18670...  \n9949                      [50009, 50009, 50553, 176776]  \n\n[9950 rows x 18 columns]",
      "text/html": "<div>\n<style scoped>\n    .dataframe tbody tr th:only-of-type {\n        vertical-align: middle;\n    }\n\n    .dataframe tbody tr th {\n        vertical-align: top;\n    }\n\n    .dataframe thead th {\n        text-align: right;\n    }\n</style>\n<table border=\"1\" class=\"dataframe\">\n  <thead>\n    <tr style=\"text-align: right;\">\n      <th></th>\n      <th>planned_route_craft</th>\n      <th>actual_route_location</th>\n      <th>driver_id</th>\n      <th>day_of_week</th>\n      <th>last_two_weeks_count</th>\n      <th>location_type_id</th>\n      <th>stop_arrived_at</th>\n      <th>stop_earliest</th>\n      <th>stop_latest</th>\n      <th>current_lat</th>\n      <th>current_lng</th>\n      <th>difference_distance</th>\n      <th>distance_route</th>\n      <th>distance_actual_route</th>\n      <th>location_is_depot</th>\n      <th>date</th>\n      <th>planned_route_location</th>\n      <th>actual_route_unique</th>\n    </tr>\n  </thead>\n  <tbody>\n    <tr>\n      <th>0</th>\n      <td>[1167, 2231, 2406, 2349, 2298, 2588, 2493]</td>\n      <td>[1167, 2231, 2349, 2406, 2298, 2493, 2588]</td>\n      <td>1186</td>\n      <td>Tuesday</td>\n      <td>9</td>\n      <td>[0, 1, 1, 1, 1, 1, 1]</td>\n      <td>[2024-01-15 22:32:42.615543+00, 2024-01-15 23:...</td>\n      <td>[2024-01-15 19:00:00+00, 2024-01-15 21:00:00+0...</td>\n      <td>[2024-01-16 01:00:00+00, 2024-01-16 04:00:00+0...</td>\n      <td>[55.64641920439919, 55.7498333, 55.80148, 55.7...</td>\n      <td>[12.15372974969827, 12.5870785, 12.525814, 12....</td>\n      <td>-0.027603</td>\n      <td>[18.380690356980487, 4.298068156860068, 1.5617...</td>\n      <td>[18.380690356980487, 3.164379243258826, 1.5617...</td>\n      <td>[1, 0, 0, 0, 0, 0, 0]</td>\n      <td>2024-01-15</td>\n      <td>[132992, 128251, 128480, 129701, 130263, 13014...</td>\n      <td>[132992, 128251, 129701, 128480, 130263, 14652...</td>\n    </tr>\n    <tr>\n      <th>1</th>\n      <td>[1167, 1168, 1495, 1658, 1070, 818, 965, 936, ...</td>\n      <td>[1167, 1070, 936, 822, 963, 965, 818, 1658, 14...</td>\n      <td>1218</td>\n      <td>Tuesday</td>\n      <td>11</td>\n      <td>[0, 1, 1, 1, 1, 1, 1, 1, 1, 1]</td>\n      <td>[2024-01-15 22:37:07.860851+00, 2024-01-16 00:...</td>\n      <td>[2024-01-15 19:00:00+00, 2024-01-15 21:00:00+0...</td>\n      <td>[2024-01-16 01:00:00+00, 2024-01-16 04:00:00+0...</td>\n      <td>[55.64641920439919, 55.646535, 55.672309, 55.6...</td>\n      <td>[12.15372974969827, 12.539958, 12.588959, 12.6...</td>\n      <td>0.435438</td>\n      <td>[15.110089331615377, 2.617611669361755, 0.8878...</td>\n      <td>[19.4862183744275, 11.162649116186252, 5.20670...</td>\n      <td>[1, 0, 0, 0, 0, 0, 0, 0, 0, 0]</td>\n      <td>2024-01-15</td>\n      <td>[132992, 128114, 129560, 128017, 128413, 12798...</td>\n      <td>[132992, 128413, 128394, 129091, 128617, 12901...</td>\n    </tr>\n    <tr>\n      <th>2</th>\n      <td>[1167, 1101, 1079, 1282, 1123, 1098, 834, 1262...</td>\n      <td>[1167, 1098, 1315, 1282, 1262, 834, 1123, 1079...</td>\n      <td>1192</td>\n      <td>Tuesday</td>\n      <td>11</td>\n      <td>[0, 1, 1, 1, 1, 1, 1, 1, 1]</td>\n      <td>[2024-01-15 23:06:33.822316+00, 2024-01-16 01:...</td>\n      <td>[2024-01-15 19:00:00+00, 2024-01-15 21:00:00+0...</td>\n      <td>[2024-01-16 01:00:00+00, 2024-01-16 04:00:00+0...</td>\n      <td>[55.64641920439919, 55.640375, 55.639120600000...</td>\n      <td>[12.15372974969827, 12.091312, 12.0627714, 12....</td>\n      <td>0.162129</td>\n      <td>[2.4776512575967895, 1.1201296974431052, 1.598...</td>\n      <td>[2.5909389807670826, 2.6002283089649945, 2.104...</td>\n      <td>[1, 0, 0, 0, 0, 0, 0, 0, 0]</td>\n      <td>2024-01-15</td>\n      <td>[132992, 127628, 128567, 128593, 127977, 12878...</td>\n      <td>[132992, 128788, 128647, 128593, 128612, 12860...</td>\n    </tr>\n    <tr>\n      <th>3</th>\n      <td>[1167, 1951, 1951, 1777, 1796, 1811, 1949, 196...</td>\n      <td>[1167, 1999, 1929, 1951, 1951, 1777, 1796, 181...</td>\n      <td>1198</td>\n      <td>Tuesday</td>\n      <td>8</td>\n      <td>[0, 1, 1, 1, 1, 1, 1, 1, 1, 1, 1, 1, 1, 1]</td>\n      <td>[2024-01-15 22:08:46.207788+00, 2024-01-16 01:...</td>\n      <td>[2024-01-15 19:00:00+00, 2024-01-15 23:00:00+0...</td>\n      <td>[2024-01-16 01:00:00+00, 2024-01-16 08:30:00+0...</td>\n      <td>[55.64641920439919, 55.712176, 55.712176, 55.6...</td>\n      <td>[12.15372974969827, 12.541758, 12.541758, 12.5...</td>\n      <td>0.114027</td>\n      <td>[15.835300652256178, 0.0, 1.5016735562871621, ...</td>\n      <td>[16.720642190707288, 0.31770677054599067, 0.84...</td>\n      <td>[1, 0, 0, 0, 0, 0, 0, 0, 0, 0, 0, 0, 0, 0]</td>\n      <td>2024-01-15</td>\n      <td>[132992, 128181, 128177, 127738, 128193, 13045...</td>\n      <td>[132992, 130491, 147908, 128177, 128181, 12773...</td>\n    </tr>\n    <tr>\n      <th>4</th>\n      <td>[1167, 1420, 1519, 1687, 1528, 1367, 1174, 1174]</td>\n      <td>[1167, 1174, 1174, 1367, 1528, 1687, 1519, 1420]</td>\n      <td>1210</td>\n      <td>Tuesday</td>\n      <td>10</td>\n      <td>[0, 1, 1, 1, 1, 1, 1, 1]</td>\n      <td>[2024-01-15 21:51:16.697854+00, 2024-01-16 01:...</td>\n      <td>[2024-01-15 19:00:00+00, 2024-01-15 21:00:00+0...</td>\n      <td>[2024-01-16 01:00:00+00, 2024-01-16 04:00:00+0...</td>\n      <td>[55.64641920439919, 55.66807900000001, 55.6733...</td>\n      <td>[12.15372974969827, 12.562603, 12.5660271, 12....</td>\n      <td>-0.231637</td>\n      <td>[16.061664613017072, 0.3894836165795559, 0.958...</td>\n      <td>[10.302891542998038, 0.0, 5.823064259213148, 0...</td>\n      <td>[1, 0, 0, 0, 0, 0, 0, 0]</td>\n      <td>2024-01-15</td>\n      <td>[132992, 129648, 127603, 130480, 127950, 12810...</td>\n      <td>[132992, 146399, 146401, 128107, 127950, 13048...</td>\n    </tr>\n    <tr>\n      <th>...</th>\n      <td>...</td>\n      <td>...</td>\n      <td>...</td>\n      <td>...</td>\n      <td>...</td>\n      <td>...</td>\n      <td>...</td>\n      <td>...</td>\n      <td>...</td>\n      <td>...</td>\n      <td>...</td>\n      <td>...</td>\n      <td>...</td>\n      <td>...</td>\n      <td>...</td>\n      <td>...</td>\n      <td>...</td>\n      <td>...</td>\n    </tr>\n    <tr>\n      <th>9945</th>\n      <td>[3162, 3243, 3295, 3295, 3280, 3249, 3281, 329...</td>\n      <td>[3162, 3243, 3295, 3295, 3281, 3296, 3273, 327...</td>\n      <td>1520</td>\n      <td>Tuesday</td>\n      <td>2</td>\n      <td>[0, 1, 1, 1, 1, 1, 1, 1, 1, 1, 1, 1, 1, 1, 1, ...</td>\n      <td>[2024-08-06 01:57:14.727094+00, 2024-08-06 02:...</td>\n      <td>[2024-08-06 00:00:00+00, 2024-08-06 01:00:00+0...</td>\n      <td>[2024-08-06 16:00:00+00, 2024-08-06 04:00:00+0...</td>\n      <td>[56.0667627, 56.1005391, 56.117045, 56.117045,...</td>\n      <td>[9.986944, 10.0739552, 10.1408688, 10.1408688,...</td>\n      <td>0.138498</td>\n      <td>[4.097697796278882, 2.827734737537246, 0.0, 0....</td>\n      <td>[4.097697796278882, 2.827734737537246, 0.0, 2....</td>\n      <td>[1, 0, 0, 0, 0, 0, 0, 0, 0, 0, 0, 0, 0, 0, 0, ...</td>\n      <td>2024-08-05</td>\n      <td>[183410, 191003, 189793, 188666, 188937, 18892...</td>\n      <td>[183410, 191003, 188666, 189793, 186076, 19067...</td>\n    </tr>\n    <tr>\n      <th>9946</th>\n      <td>[1167, 1174, 1167, 2231, 1970, 1949, 1954]</td>\n      <td>[1167, 1954, 1174, 1167, 1949, 2231, 1970]</td>\n      <td>1624</td>\n      <td>Monday</td>\n      <td>1</td>\n      <td>[0, 1, 0, 1, 1, 1, 1]</td>\n      <td>[2024-08-05 21:45:40.106773+00, 2024-08-05 23:...</td>\n      <td>[2024-08-05 18:00:00+00, 2024-08-05 20:00:00+0...</td>\n      <td>[2024-08-06 00:00:00+00, 2024-08-06 03:00:00+0...</td>\n      <td>[55.64641920439919, 55.64716869999999, 55.6464...</td>\n      <td>[12.15372974969827, 12.4170801, 12.15372974969...</td>\n      <td>0.337309</td>\n      <td>[10.302891542998038, 10.302891542998038, 18.38...</td>\n      <td>[17.128106628397973, 7.677143750409514, 10.302...</td>\n      <td>[1, 0, 1, 0, 0, 0, 0]</td>\n      <td>2024-08-05</td>\n      <td>[132992, 146399, 132992, 128251, 127552, 13044...</td>\n      <td>[132992, 217429, 146399, 132992, 130441, 12825...</td>\n    </tr>\n    <tr>\n      <th>9947</th>\n      <td>[11372, 11173, 11150, 11158, 11157, 11154]</td>\n      <td>[11372, 11173, 11154, 11158, 11150, 11157]</td>\n      <td>441</td>\n      <td>Wednesday</td>\n      <td>2</td>\n      <td>[0, 1, 1, 1, 1, 1]</td>\n      <td>[2024-08-07 05:31:08.421936+00, 2024-08-07 09:...</td>\n      <td>[2024-08-07 05:00:00+00, 2024-08-07 05:00:00+0...</td>\n      <td>[2024-08-07 14:00:00+00, 2024-08-07 14:00:00+0...</td>\n      <td>[63.43263220000001, 63.044793, 62.569893, 62.5...</td>\n      <td>[10.3643774, 10.283446, 9.623898, 9.659513, 9....</td>\n      <td>0.003619</td>\n      <td>[26.980923351959824, 38.97044955780091, 1.9401...</td>\n      <td>[26.980923351959824, 36.71871050629079, 1.2691...</td>\n      <td>[1, 0, 0, 0, 0, 0]</td>\n      <td>2024-08-06</td>\n      <td>[32174, 146475, 214353, 41434, 146475, 210645]</td>\n      <td>[32174, 146475, 210645, 41434, 214353, 146475]</td>\n    </tr>\n    <tr>\n      <th>9948</th>\n      <td>[3162, 3240, 3295, 3295, 3243, 3280, 3327, 332...</td>\n      <td>[3162, 3295, 3243, 3295, 3240, 3327, 3258, 324...</td>\n      <td>1520</td>\n      <td>Wednesday</td>\n      <td>1</td>\n      <td>[0, 1, 1, 1, 1, 1, 0, 1, 1, 1, 1, 1, 1, 1, 1, ...</td>\n      <td>[2024-08-07 01:55:50.864283+00, 2024-08-07 02:...</td>\n      <td>[2024-08-07 00:00:00+00, 2024-08-07 02:00:00+0...</td>\n      <td>[2024-08-07 16:00:00+00, 2024-08-07 05:00:00+0...</td>\n      <td>[56.0667627, 56.1004096, 56.117045, 56.117045,...</td>\n      <td>[9.986944, 10.0686046, 10.1408688, 10.1408688,...</td>\n      <td>0.510986</td>\n      <td>[3.9241224150190654, 3.0215328879604293, 0.0, ...</td>\n      <td>[6.8952530096090685, 2.827734737537246, 2.8277...</td>\n      <td>[1, 0, 0, 0, 0, 0, 0, 0, 0, 0, 0, 0, 0, 0, 0, ...</td>\n      <td>2024-08-06</td>\n      <td>[183410, 186301, 189793, 188666, 191003, 18893...</td>\n      <td>[183410, 189793, 191003, 188666, 186301, 18670...</td>\n    </tr>\n    <tr>\n      <th>9949</th>\n      <td>[7166, 7127, 7166, 9527]</td>\n      <td>[7166, 7166, 7127, 9527]</td>\n      <td>1417</td>\n      <td>Wednesday</td>\n      <td>1</td>\n      <td>[0, 1, 0, 1]</td>\n      <td>[2024-08-07 06:38:14.810272+00, 2024-08-07 07:...</td>\n      <td>[2024-08-07 02:00:00+00, 2024-08-07 05:00:00+0...</td>\n      <td>[2024-08-07 20:00:00+00, 2024-08-07 07:00:00+0...</td>\n      <td>[59.805664, 59.795058, 59.805664, 59.948098894...</td>\n      <td>[10.290383, 10.279009, 10.290383, 10.771520299...</td>\n      <td>-0.005401</td>\n      <td>[0.8345487564187866, 0.8345487564187866, 19.43...</td>\n      <td>[0.0, 0.8345487564187866, 20.152305668374094]</td>\n      <td>[1, 0, 1, 0]</td>\n      <td>2024-08-07</td>\n      <td>[50009, 50553, 50009, 176776]</td>\n      <td>[50009, 50009, 50553, 176776]</td>\n    </tr>\n  </tbody>\n</table>\n<p>9950 rows × 18 columns</p>\n</div>"
     },
     "execution_count": 19,
     "metadata": {},
     "output_type": "execute_result"
    }
   ],
   "source": [
    "import statistics\n",
    "completed_routes_df = pd.DataFrame(columns=['planned_route_craft', 'actual_route_location', 'driver_id', 'day_of_week', 'distance_route', 'distance_actual_route', 'last_two_weeks_count', 'stop_arrived_at', 'stop_earliest', 'stop_latest', 'current_lat', 'current_lng', 'location_type_id', 'location_is_depot', 'date','actual_route_unique','planned_route_location'])\n",
    "uncompleted_routes_df = pd.DataFrame(columns=['planned_route_craft', 'actual_route_location', 'driver_id', 'day_of_week', 'distance_route', 'distance_actual_route', 'last_two_weeks_count', 'stop_arrived_at', 'stop_earliest', 'stop_latest', 'current_lat', 'current_lng', 'location_type_id', 'location_is_depot', 'date', 'actual_route_unique', 'planned_route_location'])\n",
    "#11700795\n",
    "scores = []\n",
    "edit_distances = []\n",
    "completed_routes_list = []\n",
    "uncompleted_routes_list = []\n",
    "for i in range(len(planned_routes_list)):\n",
    "    editDistance = minDistance(planned_routes_list[i], actual_routes_list[i]) / len(planned_routes_list[i])\n",
    "    score = calculate_route_quality_score(planned_routes_list[i], actual_routes_list[i])\n",
    "    scores.append(score)\n",
    "    edit_distances.append(editDistance)\n",
    "\n",
    "    # if editDistance > 0.05 and score < 0.95 and planned_routes['difference_distance'].iloc[i] > 0.01:\n",
    "    if editDistance <= 0.3 and score >= 0.7 and planned_routes['difference_distance'].iloc[i] <= 0.3:\n",
    "    # if editDistance <= 0 and score >= 1 and planned_routes['difference_distance'].iloc[i] <= 0:\n",
    "        completed_routes_list.append(planned_routes.iloc[i].to_dict())\n",
    "    else:\n",
    "        uncompleted_routes_list.append(planned_routes.iloc[i].to_dict())\n",
    "\n",
    "# Convert the lists to DataFrames\n",
    "completed_routes_df = pd.DataFrame(completed_routes_list)\n",
    "uncompleted_routes_df = pd.DataFrame(uncompleted_routes_list)\n",
    "\n",
    "print(len(completed_routes_df), len(uncompleted_routes_df))\n",
    "uncompleted_routes_df"
   ],
   "metadata": {
    "collapsed": false,
    "pycharm": {
     "name": "#%%\n"
    }
   }
  },
  {
   "cell_type": "code",
   "execution_count": 20,
   "outputs": [
    {
     "name": "stdout",
     "output_type": "stream",
     "text": [
      "Total number of drivers 379\n"
     ]
    },
    {
     "data": {
      "text/plain": "                                    planned_route_craft  \\\n0      [1167, 1405, 1560, 1413, 1391, 1391, 1434, 1269]   \n1      [1167, 1352, 1312, 1356, 1508, 1508, 1621, 1401]   \n2     [1167, 1405, 1479, 1560, 1413, 1391, 1391, 143...   \n3                         [1167, 1194, 947, 1797, 1167]   \n4     [1167, 696, 662, 615, 614, 628, 628, 634, 633,...   \n...                                                 ...   \n8607  [10076, 7957, 10076, 9131, 6485, 6362, 6086, 5...   \n8608  [10076, 10099, 9596, 9507, 9158, 8853, 9640, 8...   \n8609  [7166, 6718, 6699, 6495, 6560, 6558, 6756, 653...   \n8610        [10076, 8785, 9172, 7204, 6955, 5902, 7045]   \n8611  [7166, 5428, 5394, 5385, 5347, 4633, 4350, 431...   \n\n                                  actual_route_location  driver_id  \\\n0      [1167, 1405, 1560, 1413, 1391, 1391, 1434, 1269]       1255   \n1      [1167, 1312, 1356, 1352, 1508, 1508, 1621, 1401]       1195   \n2     [1167, 1405, 1479, 1560, 1413, 1391, 1391, 143...       1255   \n3                         [1167, 1194, 947, 1797, 1167]       1190   \n4     [1167, 696, 662, 615, 614, 628, 628, 634, 633,...       1178   \n...                                                 ...        ...   \n8607  [10076, 7957, 10076, 9131, 6485, 6362, 6086, 5...        274   \n8608  [10076, 10099, 9596, 9507, 9158, 8853, 9640, 8...        276   \n8609  [7166, 6718, 6699, 6495, 6560, 6558, 6756, 653...        968   \n8610        [10076, 8785, 9172, 7204, 6955, 5902, 7045]        877   \n8611  [7166, 5428, 5394, 5385, 5347, 4633, 4350, 431...        723   \n\n     day_of_week  last_two_weeks_count  \\\n0        Tuesday                     8   \n1         Monday                    11   \n2      Wednesday                     7   \n3        Tuesday                     2   \n4        Tuesday                     8   \n...          ...                   ...   \n8607   Wednesday                     1   \n8608   Wednesday                     1   \n8609   Wednesday                     2   \n8610   Wednesday                     1   \n8611   Wednesday                     1   \n\n                                       location_type_id  \\\n0                              [0, 1, 1, 1, 1, 1, 1, 1]   \n1                              [0, 1, 1, 1, 1, 1, 1, 1]   \n2                           [0, 1, 1, 1, 1, 1, 1, 1, 1]   \n3                                       [0, 1, 1, 0, 1]   \n4     [0, 1, 1, 1, 1, 1, 1, 1, 1, 1, 1, 1, 1, 1, 1, ...   \n...                                                 ...   \n8607                        [0, 1, 0, 1, 1, 1, 1, 1, 1]   \n8608      [0, 1, 1, 1, 1, 1, 1, 1, 1, 1, 1, 1, 1, 1, 1]   \n8609            [0, 1, 1, 1, 1, 1, 1, 0, 1, 1, 1, 1, 1]   \n8610                              [0, 1, 1, 1, 1, 1, 1]   \n8611               [0, 1, 1, 1, 1, 1, 1, 1, 1, 1, 0, 1]   \n\n                                        stop_arrived_at  \\\n0     [2024-01-15 22:11:49.528537+00, 2024-01-15 23:...   \n1     [2024-01-15 22:58:58.038139+00, 2024-01-15 23:...   \n2     [2024-01-16 22:24:33.871644+00, 2024-01-16 23:...   \n3     [2024-01-23 10:49:20.166468+00, 2024-01-23 10:...   \n4     [2024-01-23 10:49:20.775856+00, 2024-01-23 10:...   \n...                                                 ...   \n8607  [2024-08-07 15:24:29.958093+00, 2024-08-07 15:...   \n8608  [2024-08-07 13:31:52.955936+00, 2024-08-07 13:...   \n8609  [2024-08-07 03:50:55.931321+00, 2024-08-07 05:...   \n8610  [2024-08-07 13:31:50.711864+00, 2024-08-07 13:...   \n8611  [2024-08-07 09:00:31.581115+00, 2024-08-07 10:...   \n\n                                          stop_earliest  \\\n0     [2024-01-15 19:00:00+00, 2024-01-15 23:00:00+0...   \n1     [2024-01-15 19:00:00+00, 2024-01-15 21:00:00+0...   \n2     [2024-01-16 19:00:00+00, 2024-01-16 23:00:00+0...   \n3     [2024-01-16 00:00:00+00, 2024-01-16 05:00:00+0...   \n4     [2024-01-16 00:00:00+00, 2024-01-15 23:00:00+0...   \n...                                                 ...   \n8607  [2024-08-07 01:00:00+00, 2024-08-07 05:00:00+0...   \n8608  [2024-08-07 01:00:00+00, 2024-08-07 05:00:00+0...   \n8609  [2024-08-07 02:00:00+00, 2024-08-07 05:00:00+0...   \n8610  [2024-08-07 01:00:00+00, 2024-08-07 05:00:00+0...   \n8611  [2024-08-07 02:00:00+00, 2024-08-07 06:00:00+0...   \n\n                                            stop_latest  \\\n0     [2024-01-16 01:00:00+00, 2024-01-16 03:00:00+0...   \n1     [2024-01-16 01:00:00+00, 2024-01-16 04:00:00+0...   \n2     [2024-01-17 01:00:00+00, 2024-01-17 03:00:00+0...   \n3     [2024-01-16 22:00:00+00, 2024-01-16 11:00:00+0...   \n4     [2024-01-16 22:00:00+00, 2024-01-16 07:30:00+0...   \n...                                                 ...   \n8607  [2024-08-07 14:00:00+00, 2024-08-07 11:00:00+0...   \n8608  [2024-08-07 14:00:00+00, 2024-08-07 11:00:00+0...   \n8609  [2024-08-07 20:00:00+00, 2024-08-07 07:00:00+0...   \n8610  [2024-08-07 14:00:00+00, 2024-08-07 11:00:00+0...   \n8611  [2024-08-07 20:00:00+00, 2024-08-07 10:00:00+0...   \n\n                                            current_lat  \\\n0     [55.64641920439919, 55.6669147, 55.6757322, 55...   \n1     [55.64641920439919, 55.662018, 55.658103, 55.6...   \n2     [55.64641920439919, 55.6669147, 55.671473, 55....   \n3     [55.64641920439919, 55.6487125, 55.6163424, 55...   \n4     [55.64641920439919, 55.4520374, 55.4421082, 55...   \n...                                                 ...   \n8607  [60.007627, 59.908689, 60.007627, 59.932623, 5...   \n8608  [60.007627, 60.01175632293701, 59.950832, 59.9...   \n8609  [59.805664, 59.749221, 59.747942, 59.737167777...   \n8610  [60.007627, 59.923836, 59.93422, 59.811373, 59...   \n8611  [59.805664, 59.420838, 59.415188, 59.414098, 5...   \n\n                                            current_lng  difference_distance  \\\n0     [12.15372974969827, 12.5262801, 12.5619711, 12...             0.000000   \n1     [12.15372974969827, 12.360745, 12.368506, 12.3...             0.006369   \n2     [12.15372974969827, 12.5262801, 12.561174, 12....             0.000000   \n3     [12.15372974969827, 12.1307559, 12.3275461, 12...             0.000000   \n4     [12.15372974969827, 12.1856949, 12.1677321, 12...             0.000000   \n...                                                 ...                  ...   \n8607  [11.047135, 10.816701, 11.047135, 10.829719, 1...             0.000000   \n8608  [11.047135, 11.052440556594831, 10.856852, 10....             0.000000   \n8609  [10.290383, 10.26819, 10.291249, 10.3725904226...            -0.039707   \n8610  [11.047135, 10.814451, 10.800594, 10.80755, 10...             0.000000   \n8611  [10.290383, 10.488199, 10.496616, 10.487423, 1...             0.000000   \n\n                                         distance_route  \\\n0     [14.640018023192697, 1.5229312527257717, 0.606...   \n1     [8.16888775040224, 0.4067943329231743, 0.35828...   \n2     [14.640018023192697, 1.400306417188586, 0.2962...   \n3     [0.9126584187089052, 8.020566881548852, 6.6327...   \n4     [13.505545464972036, 0.9852343060237925, 2.970...   \n...                                                 ...   \n8607  [10.531350401060454, 10.531350401060454, 9.159...   \n8608  [0.3399120416382811, 7.9893719361707864, 1.229...   \n8609  [3.9833740421767767, 0.8104231018807364, 2.938...   \n8610  [9.94338251969985, 0.8652097234693148, 8.50777...   \n8611  [27.52809355932868, 0.4910623122012766, 0.3330...   \n\n                                  distance_actual_route  \\\n0     [14.640018023192697, 1.5229312527257717, 0.606...   \n1     [8.440075587409163, 0.35828887642036544, 0.110...   \n2     [14.640018023192697, 1.400306417188586, 0.2962...   \n3     [0.9126584187089052, 8.020566881548852, 6.6327...   \n4     [13.505545464972036, 0.9852343060237925, 2.970...   \n...                                                 ...   \n8607  [10.531350401060454, 10.531350401060454, 9.159...   \n8608  [0.3399120416382811, 7.9893719361707864, 1.229...   \n8609  [3.9833740421767767, 0.8104231018807364, 2.938...   \n8610  [9.94338251969985, 0.8652097234693148, 8.50777...   \n8611  [27.52809355932868, 0.4910623122012766, 0.3330...   \n\n                                      location_is_depot       date  \\\n0                              [1, 0, 0, 0, 0, 0, 0, 0] 2024-01-15   \n1                              [1, 0, 0, 0, 0, 0, 0, 0] 2024-01-15   \n2                           [1, 0, 0, 0, 0, 0, 0, 0, 0] 2024-01-16   \n3                                       [1, 0, 0, 0, 1] 2024-01-23   \n4     [1, 0, 0, 0, 0, 0, 0, 0, 0, 0, 0, 0, 0, 0, 0, ... 2024-01-23   \n...                                                 ...        ...   \n8607                        [1, 0, 0, 0, 0, 0, 0, 0, 0] 2024-08-07   \n8608      [1, 0, 0, 0, 0, 0, 0, 0, 0, 0, 0, 0, 0, 0, 0] 2024-08-06   \n8609            [1, 0, 0, 0, 0, 0, 0, 0, 0, 0, 0, 0, 0] 2024-08-06   \n8610                              [1, 0, 0, 0, 0, 0, 0] 2024-08-06   \n8611               [1, 0, 0, 0, 0, 0, 0, 0, 0, 0, 0, 0] 2024-08-07   \n\n                                 planned_route_location  \\\n0     [132992, 128289, 128048, 128448, 128037, 12845...   \n1     [132992, 130073, 146768, 130075, 128234, 12823...   \n2     [132992, 128289, 127766, 128048, 128448, 12803...   \n3              [132992, 127580, 127584, 164074, 132992]   \n4     [132992, 129376, 129449, 129405, 129868, 12931...   \n...                                                 ...   \n8607  [23287, 185781, 208727, 26625, 113874, 222601,...   \n8608  [23287, 24605, 171404, 62110, 25046, 151521, 3...   \n8609  [50009, 46569, 49498, 50461, 47432, 47429, 504...   \n8610  [23287, 64432, 40011, 208678, 176858, 222554, ...   \n8611  [50009, 47694, 180866, 46972, 47695, 47029, 52...   \n\n                                    actual_route_unique  driver_id_sorted  \n0     [132992, 128289, 128048, 128448, 128454, 12803...                 1  \n1     [132992, 146768, 130075, 130073, 128234, 12823...                 2  \n2     [132992, 128289, 127766, 128048, 128448, 12845...                 1  \n3              [132992, 127580, 127584, 164074, 132992]                 3  \n4     [132992, 129376, 129449, 129405, 129868, 12931...                 4  \n...                                                 ...               ...  \n8607  [23287, 185781, 208727, 26625, 113874, 222601,...               157  \n8608  [23287, 24605, 171404, 62110, 25046, 151521, 3...               194  \n8609  [50009, 46569, 49498, 50461, 47432, 47429, 504...               305  \n8610  [23287, 64432, 40011, 208678, 176858, 222554, ...               137  \n8611  [50009, 47694, 180866, 46972, 47695, 47029, 52...               113  \n\n[8612 rows x 19 columns]",
      "text/html": "<div>\n<style scoped>\n    .dataframe tbody tr th:only-of-type {\n        vertical-align: middle;\n    }\n\n    .dataframe tbody tr th {\n        vertical-align: top;\n    }\n\n    .dataframe thead th {\n        text-align: right;\n    }\n</style>\n<table border=\"1\" class=\"dataframe\">\n  <thead>\n    <tr style=\"text-align: right;\">\n      <th></th>\n      <th>planned_route_craft</th>\n      <th>actual_route_location</th>\n      <th>driver_id</th>\n      <th>day_of_week</th>\n      <th>last_two_weeks_count</th>\n      <th>location_type_id</th>\n      <th>stop_arrived_at</th>\n      <th>stop_earliest</th>\n      <th>stop_latest</th>\n      <th>current_lat</th>\n      <th>current_lng</th>\n      <th>difference_distance</th>\n      <th>distance_route</th>\n      <th>distance_actual_route</th>\n      <th>location_is_depot</th>\n      <th>date</th>\n      <th>planned_route_location</th>\n      <th>actual_route_unique</th>\n      <th>driver_id_sorted</th>\n    </tr>\n  </thead>\n  <tbody>\n    <tr>\n      <th>0</th>\n      <td>[1167, 1405, 1560, 1413, 1391, 1391, 1434, 1269]</td>\n      <td>[1167, 1405, 1560, 1413, 1391, 1391, 1434, 1269]</td>\n      <td>1255</td>\n      <td>Tuesday</td>\n      <td>8</td>\n      <td>[0, 1, 1, 1, 1, 1, 1, 1]</td>\n      <td>[2024-01-15 22:11:49.528537+00, 2024-01-15 23:...</td>\n      <td>[2024-01-15 19:00:00+00, 2024-01-15 23:00:00+0...</td>\n      <td>[2024-01-16 01:00:00+00, 2024-01-16 03:00:00+0...</td>\n      <td>[55.64641920439919, 55.6669147, 55.6757322, 55...</td>\n      <td>[12.15372974969827, 12.5262801, 12.5619711, 12...</td>\n      <td>0.000000</td>\n      <td>[14.640018023192697, 1.5229312527257717, 0.606...</td>\n      <td>[14.640018023192697, 1.5229312527257717, 0.606...</td>\n      <td>[1, 0, 0, 0, 0, 0, 0, 0]</td>\n      <td>2024-01-15</td>\n      <td>[132992, 128289, 128048, 128448, 128037, 12845...</td>\n      <td>[132992, 128289, 128048, 128448, 128454, 12803...</td>\n      <td>1</td>\n    </tr>\n    <tr>\n      <th>1</th>\n      <td>[1167, 1352, 1312, 1356, 1508, 1508, 1621, 1401]</td>\n      <td>[1167, 1312, 1356, 1352, 1508, 1508, 1621, 1401]</td>\n      <td>1195</td>\n      <td>Monday</td>\n      <td>11</td>\n      <td>[0, 1, 1, 1, 1, 1, 1, 1]</td>\n      <td>[2024-01-15 22:58:58.038139+00, 2024-01-15 23:...</td>\n      <td>[2024-01-15 19:00:00+00, 2024-01-15 21:00:00+0...</td>\n      <td>[2024-01-16 01:00:00+00, 2024-01-16 04:00:00+0...</td>\n      <td>[55.64641920439919, 55.662018, 55.658103, 55.6...</td>\n      <td>[12.15372974969827, 12.360745, 12.368506, 12.3...</td>\n      <td>0.006369</td>\n      <td>[8.16888775040224, 0.4067943329231743, 0.35828...</td>\n      <td>[8.440075587409163, 0.35828887642036544, 0.110...</td>\n      <td>[1, 0, 0, 0, 0, 0, 0, 0]</td>\n      <td>2024-01-15</td>\n      <td>[132992, 130073, 146768, 130075, 128234, 12823...</td>\n      <td>[132992, 146768, 130075, 130073, 128234, 12823...</td>\n      <td>2</td>\n    </tr>\n    <tr>\n      <th>2</th>\n      <td>[1167, 1405, 1479, 1560, 1413, 1391, 1391, 143...</td>\n      <td>[1167, 1405, 1479, 1560, 1413, 1391, 1391, 143...</td>\n      <td>1255</td>\n      <td>Wednesday</td>\n      <td>7</td>\n      <td>[0, 1, 1, 1, 1, 1, 1, 1, 1]</td>\n      <td>[2024-01-16 22:24:33.871644+00, 2024-01-16 23:...</td>\n      <td>[2024-01-16 19:00:00+00, 2024-01-16 23:00:00+0...</td>\n      <td>[2024-01-17 01:00:00+00, 2024-01-17 03:00:00+0...</td>\n      <td>[55.64641920439919, 55.6669147, 55.671473, 55....</td>\n      <td>[12.15372974969827, 12.5262801, 12.561174, 12....</td>\n      <td>0.000000</td>\n      <td>[14.640018023192697, 1.400306417188586, 0.2962...</td>\n      <td>[14.640018023192697, 1.400306417188586, 0.2962...</td>\n      <td>[1, 0, 0, 0, 0, 0, 0, 0, 0]</td>\n      <td>2024-01-16</td>\n      <td>[132992, 128289, 127766, 128048, 128448, 12803...</td>\n      <td>[132992, 128289, 127766, 128048, 128448, 12845...</td>\n      <td>1</td>\n    </tr>\n    <tr>\n      <th>3</th>\n      <td>[1167, 1194, 947, 1797, 1167]</td>\n      <td>[1167, 1194, 947, 1797, 1167]</td>\n      <td>1190</td>\n      <td>Tuesday</td>\n      <td>2</td>\n      <td>[0, 1, 1, 0, 1]</td>\n      <td>[2024-01-23 10:49:20.166468+00, 2024-01-23 10:...</td>\n      <td>[2024-01-16 00:00:00+00, 2024-01-16 05:00:00+0...</td>\n      <td>[2024-01-16 22:00:00+00, 2024-01-16 11:00:00+0...</td>\n      <td>[55.64641920439919, 55.6487125, 55.6163424, 55...</td>\n      <td>[12.15372974969827, 12.1307559, 12.3275461, 12...</td>\n      <td>0.000000</td>\n      <td>[0.9126584187089052, 8.020566881548852, 6.6327...</td>\n      <td>[0.9126584187089052, 8.020566881548852, 6.6327...</td>\n      <td>[1, 0, 0, 0, 1]</td>\n      <td>2024-01-23</td>\n      <td>[132992, 127580, 127584, 164074, 132992]</td>\n      <td>[132992, 127580, 127584, 164074, 132992]</td>\n      <td>3</td>\n    </tr>\n    <tr>\n      <th>4</th>\n      <td>[1167, 696, 662, 615, 614, 628, 628, 634, 633,...</td>\n      <td>[1167, 696, 662, 615, 614, 628, 628, 634, 633,...</td>\n      <td>1178</td>\n      <td>Tuesday</td>\n      <td>8</td>\n      <td>[0, 1, 1, 1, 1, 1, 1, 1, 1, 1, 1, 1, 1, 1, 1, ...</td>\n      <td>[2024-01-23 10:49:20.775856+00, 2024-01-23 10:...</td>\n      <td>[2024-01-16 00:00:00+00, 2024-01-15 23:00:00+0...</td>\n      <td>[2024-01-16 22:00:00+00, 2024-01-16 07:30:00+0...</td>\n      <td>[55.64641920439919, 55.4520374, 55.4421082, 55...</td>\n      <td>[12.15372974969827, 12.1856949, 12.1677321, 12...</td>\n      <td>0.000000</td>\n      <td>[13.505545464972036, 0.9852343060237925, 2.970...</td>\n      <td>[13.505545464972036, 0.9852343060237925, 2.970...</td>\n      <td>[1, 0, 0, 0, 0, 0, 0, 0, 0, 0, 0, 0, 0, 0, 0, ...</td>\n      <td>2024-01-23</td>\n      <td>[132992, 129376, 129449, 129405, 129868, 12931...</td>\n      <td>[132992, 129376, 129449, 129405, 129868, 12931...</td>\n      <td>4</td>\n    </tr>\n    <tr>\n      <th>...</th>\n      <td>...</td>\n      <td>...</td>\n      <td>...</td>\n      <td>...</td>\n      <td>...</td>\n      <td>...</td>\n      <td>...</td>\n      <td>...</td>\n      <td>...</td>\n      <td>...</td>\n      <td>...</td>\n      <td>...</td>\n      <td>...</td>\n      <td>...</td>\n      <td>...</td>\n      <td>...</td>\n      <td>...</td>\n      <td>...</td>\n      <td>...</td>\n    </tr>\n    <tr>\n      <th>8607</th>\n      <td>[10076, 7957, 10076, 9131, 6485, 6362, 6086, 5...</td>\n      <td>[10076, 7957, 10076, 9131, 6485, 6362, 6086, 5...</td>\n      <td>274</td>\n      <td>Wednesday</td>\n      <td>1</td>\n      <td>[0, 1, 0, 1, 1, 1, 1, 1, 1]</td>\n      <td>[2024-08-07 15:24:29.958093+00, 2024-08-07 15:...</td>\n      <td>[2024-08-07 01:00:00+00, 2024-08-07 05:00:00+0...</td>\n      <td>[2024-08-07 14:00:00+00, 2024-08-07 11:00:00+0...</td>\n      <td>[60.007627, 59.908689, 60.007627, 59.932623, 5...</td>\n      <td>[11.047135, 10.816701, 11.047135, 10.829719, 1...</td>\n      <td>0.000000</td>\n      <td>[10.531350401060454, 10.531350401060454, 9.159...</td>\n      <td>[10.531350401060454, 10.531350401060454, 9.159...</td>\n      <td>[1, 0, 0, 0, 0, 0, 0, 0, 0]</td>\n      <td>2024-08-07</td>\n      <td>[23287, 185781, 208727, 26625, 113874, 222601,...</td>\n      <td>[23287, 185781, 208727, 26625, 113874, 222601,...</td>\n      <td>157</td>\n    </tr>\n    <tr>\n      <th>8608</th>\n      <td>[10076, 10099, 9596, 9507, 9158, 8853, 9640, 8...</td>\n      <td>[10076, 10099, 9596, 9507, 9158, 8853, 9640, 8...</td>\n      <td>276</td>\n      <td>Wednesday</td>\n      <td>1</td>\n      <td>[0, 1, 1, 1, 1, 1, 1, 1, 1, 1, 1, 1, 1, 1, 1]</td>\n      <td>[2024-08-07 13:31:52.955936+00, 2024-08-07 13:...</td>\n      <td>[2024-08-07 01:00:00+00, 2024-08-07 05:00:00+0...</td>\n      <td>[2024-08-07 14:00:00+00, 2024-08-07 11:00:00+0...</td>\n      <td>[60.007627, 60.01175632293701, 59.950832, 59.9...</td>\n      <td>[11.047135, 11.052440556594831, 10.856852, 10....</td>\n      <td>0.000000</td>\n      <td>[0.3399120416382811, 7.9893719361707864, 1.229...</td>\n      <td>[0.3399120416382811, 7.9893719361707864, 1.229...</td>\n      <td>[1, 0, 0, 0, 0, 0, 0, 0, 0, 0, 0, 0, 0, 0, 0]</td>\n      <td>2024-08-06</td>\n      <td>[23287, 24605, 171404, 62110, 25046, 151521, 3...</td>\n      <td>[23287, 24605, 171404, 62110, 25046, 151521, 3...</td>\n      <td>194</td>\n    </tr>\n    <tr>\n      <th>8609</th>\n      <td>[7166, 6718, 6699, 6495, 6560, 6558, 6756, 653...</td>\n      <td>[7166, 6718, 6699, 6495, 6560, 6558, 6756, 653...</td>\n      <td>968</td>\n      <td>Wednesday</td>\n      <td>2</td>\n      <td>[0, 1, 1, 1, 1, 1, 1, 0, 1, 1, 1, 1, 1]</td>\n      <td>[2024-08-07 03:50:55.931321+00, 2024-08-07 05:...</td>\n      <td>[2024-08-07 02:00:00+00, 2024-08-07 05:00:00+0...</td>\n      <td>[2024-08-07 20:00:00+00, 2024-08-07 07:00:00+0...</td>\n      <td>[59.805664, 59.749221, 59.747942, 59.737167777...</td>\n      <td>[10.290383, 10.26819, 10.291249, 10.3725904226...</td>\n      <td>-0.039707</td>\n      <td>[3.9833740421767767, 0.8104231018807364, 2.938...</td>\n      <td>[3.9833740421767767, 0.8104231018807364, 2.938...</td>\n      <td>[1, 0, 0, 0, 0, 0, 0, 0, 0, 0, 0, 0, 0]</td>\n      <td>2024-08-06</td>\n      <td>[50009, 46569, 49498, 50461, 47432, 47429, 504...</td>\n      <td>[50009, 46569, 49498, 50461, 47432, 47429, 504...</td>\n      <td>305</td>\n    </tr>\n    <tr>\n      <th>8610</th>\n      <td>[10076, 8785, 9172, 7204, 6955, 5902, 7045]</td>\n      <td>[10076, 8785, 9172, 7204, 6955, 5902, 7045]</td>\n      <td>877</td>\n      <td>Wednesday</td>\n      <td>1</td>\n      <td>[0, 1, 1, 1, 1, 1, 1]</td>\n      <td>[2024-08-07 13:31:50.711864+00, 2024-08-07 13:...</td>\n      <td>[2024-08-07 01:00:00+00, 2024-08-07 05:00:00+0...</td>\n      <td>[2024-08-07 14:00:00+00, 2024-08-07 11:00:00+0...</td>\n      <td>[60.007627, 59.923836, 59.93422, 59.811373, 59...</td>\n      <td>[11.047135, 10.814451, 10.800594, 10.80755, 10...</td>\n      <td>0.000000</td>\n      <td>[9.94338251969985, 0.8652097234693148, 8.50777...</td>\n      <td>[9.94338251969985, 0.8652097234693148, 8.50777...</td>\n      <td>[1, 0, 0, 0, 0, 0, 0]</td>\n      <td>2024-08-06</td>\n      <td>[23287, 64432, 40011, 208678, 176858, 222554, ...</td>\n      <td>[23287, 64432, 40011, 208678, 176858, 222554, ...</td>\n      <td>137</td>\n    </tr>\n    <tr>\n      <th>8611</th>\n      <td>[7166, 5428, 5394, 5385, 5347, 4633, 4350, 431...</td>\n      <td>[7166, 5428, 5394, 5385, 5347, 4633, 4350, 431...</td>\n      <td>723</td>\n      <td>Wednesday</td>\n      <td>1</td>\n      <td>[0, 1, 1, 1, 1, 1, 1, 1, 1, 1, 0, 1]</td>\n      <td>[2024-08-07 09:00:31.581115+00, 2024-08-07 10:...</td>\n      <td>[2024-08-07 02:00:00+00, 2024-08-07 06:00:00+0...</td>\n      <td>[2024-08-07 20:00:00+00, 2024-08-07 10:00:00+0...</td>\n      <td>[59.805664, 59.420838, 59.415188, 59.414098, 5...</td>\n      <td>[10.290383, 10.488199, 10.496616, 10.487423, 1...</td>\n      <td>0.000000</td>\n      <td>[27.52809355932868, 0.4910623122012766, 0.3330...</td>\n      <td>[27.52809355932868, 0.4910623122012766, 0.3330...</td>\n      <td>[1, 0, 0, 0, 0, 0, 0, 0, 0, 0, 0, 0]</td>\n      <td>2024-08-07</td>\n      <td>[50009, 47694, 180866, 46972, 47695, 47029, 52...</td>\n      <td>[50009, 47694, 180866, 46972, 47695, 47029, 52...</td>\n      <td>113</td>\n    </tr>\n  </tbody>\n</table>\n<p>8612 rows × 19 columns</p>\n</div>"
     },
     "execution_count": 20,
     "metadata": {},
     "output_type": "execute_result"
    }
   ],
   "source": [
    "drivers_dic = {}\n",
    "k = 1\n",
    "for driver in completed_routes_df['driver_id']:\n",
    "    if driver not in drivers_dic:\n",
    "        drivers_dic[driver] = k\n",
    "        k += 1\n",
    "print('Total number of drivers', len(drivers_dic))\n",
    "total_drivers = len(drivers_dic)\n",
    "encoding_drivers = []\n",
    "for driver in completed_routes_df['driver_id']:\n",
    "    encoding_drivers.append(drivers_dic[driver])\n",
    "#\n",
    "completed_routes_df['driver_id_sorted'] = encoding_drivers\n",
    "# final_routes = pd.concat([final_routes, pd.get_dummies(final_routes['driver_id_sorted'], prefix='encoding_drivers')], axis=1)\n",
    "completed_routes_df"
   ],
   "metadata": {
    "collapsed": false,
    "pycharm": {
     "name": "#%%\n"
    }
   }
  },
  {
   "cell_type": "code",
   "execution_count": 21,
   "outputs": [
    {
     "data": {
      "text/plain": "                                    planned_route_craft  \\\n0            [1167, 2231, 2406, 2349, 2298, 2588, 2493]   \n1     [1167, 1168, 1495, 1658, 1070, 818, 965, 936, ...   \n2     [1167, 1101, 1079, 1282, 1123, 1098, 834, 1262...   \n3     [1167, 1951, 1951, 1777, 1796, 1811, 1949, 196...   \n4      [1167, 1420, 1519, 1687, 1528, 1367, 1174, 1174]   \n...                                                 ...   \n9945  [3162, 3243, 3295, 3295, 3280, 3249, 3281, 329...   \n9946         [1167, 1174, 1167, 2231, 1970, 1949, 1954]   \n9947         [11372, 11173, 11150, 11158, 11157, 11154]   \n9948  [3162, 3240, 3295, 3295, 3243, 3280, 3327, 332...   \n9949                           [7166, 7127, 7166, 9527]   \n\n                                  actual_route_location  driver_id  \\\n0            [1167, 2231, 2349, 2406, 2298, 2493, 2588]       1186   \n1     [1167, 1070, 936, 822, 963, 965, 818, 1658, 14...       1218   \n2     [1167, 1098, 1315, 1282, 1262, 834, 1123, 1079...       1192   \n3     [1167, 1999, 1929, 1951, 1951, 1777, 1796, 181...       1198   \n4      [1167, 1174, 1174, 1367, 1528, 1687, 1519, 1420]       1210   \n...                                                 ...        ...   \n9945  [3162, 3243, 3295, 3295, 3281, 3296, 3273, 327...       1520   \n9946         [1167, 1954, 1174, 1167, 1949, 2231, 1970]       1624   \n9947         [11372, 11173, 11154, 11158, 11150, 11157]        441   \n9948  [3162, 3295, 3243, 3295, 3240, 3327, 3258, 324...       1520   \n9949                           [7166, 7166, 7127, 9527]       1417   \n\n     day_of_week  last_two_weeks_count  \\\n0        Tuesday                     9   \n1        Tuesday                    11   \n2        Tuesday                    11   \n3        Tuesday                     8   \n4        Tuesday                    10   \n...          ...                   ...   \n9945     Tuesday                     2   \n9946      Monday                     1   \n9947   Wednesday                     2   \n9948   Wednesday                     1   \n9949   Wednesday                     1   \n\n                                       location_type_id  \\\n0                                 [0, 1, 1, 1, 1, 1, 1]   \n1                        [0, 1, 1, 1, 1, 1, 1, 1, 1, 1]   \n2                           [0, 1, 1, 1, 1, 1, 1, 1, 1]   \n3            [0, 1, 1, 1, 1, 1, 1, 1, 1, 1, 1, 1, 1, 1]   \n4                              [0, 1, 1, 1, 1, 1, 1, 1]   \n...                                                 ...   \n9945  [0, 1, 1, 1, 1, 1, 1, 1, 1, 1, 1, 1, 1, 1, 1, ...   \n9946                              [0, 1, 0, 1, 1, 1, 1]   \n9947                                 [0, 1, 1, 1, 1, 1]   \n9948  [0, 1, 1, 1, 1, 1, 0, 1, 1, 1, 1, 1, 1, 1, 1, ...   \n9949                                       [0, 1, 0, 1]   \n\n                                        stop_arrived_at  \\\n0     [2024-01-15 22:32:42.615543+00, 2024-01-15 23:...   \n1     [2024-01-15 22:37:07.860851+00, 2024-01-16 00:...   \n2     [2024-01-15 23:06:33.822316+00, 2024-01-16 01:...   \n3     [2024-01-15 22:08:46.207788+00, 2024-01-16 01:...   \n4     [2024-01-15 21:51:16.697854+00, 2024-01-16 01:...   \n...                                                 ...   \n9945  [2024-08-06 01:57:14.727094+00, 2024-08-06 02:...   \n9946  [2024-08-05 21:45:40.106773+00, 2024-08-05 23:...   \n9947  [2024-08-07 05:31:08.421936+00, 2024-08-07 09:...   \n9948  [2024-08-07 01:55:50.864283+00, 2024-08-07 02:...   \n9949  [2024-08-07 06:38:14.810272+00, 2024-08-07 07:...   \n\n                                          stop_earliest  \\\n0     [2024-01-15 19:00:00+00, 2024-01-15 21:00:00+0...   \n1     [2024-01-15 19:00:00+00, 2024-01-15 21:00:00+0...   \n2     [2024-01-15 19:00:00+00, 2024-01-15 21:00:00+0...   \n3     [2024-01-15 19:00:00+00, 2024-01-15 23:00:00+0...   \n4     [2024-01-15 19:00:00+00, 2024-01-15 21:00:00+0...   \n...                                                 ...   \n9945  [2024-08-06 00:00:00+00, 2024-08-06 01:00:00+0...   \n9946  [2024-08-05 18:00:00+00, 2024-08-05 20:00:00+0...   \n9947  [2024-08-07 05:00:00+00, 2024-08-07 05:00:00+0...   \n9948  [2024-08-07 00:00:00+00, 2024-08-07 02:00:00+0...   \n9949  [2024-08-07 02:00:00+00, 2024-08-07 05:00:00+0...   \n\n                                            stop_latest  \\\n0     [2024-01-16 01:00:00+00, 2024-01-16 04:00:00+0...   \n1     [2024-01-16 01:00:00+00, 2024-01-16 04:00:00+0...   \n2     [2024-01-16 01:00:00+00, 2024-01-16 04:00:00+0...   \n3     [2024-01-16 01:00:00+00, 2024-01-16 08:30:00+0...   \n4     [2024-01-16 01:00:00+00, 2024-01-16 04:00:00+0...   \n...                                                 ...   \n9945  [2024-08-06 16:00:00+00, 2024-08-06 04:00:00+0...   \n9946  [2024-08-06 00:00:00+00, 2024-08-06 03:00:00+0...   \n9947  [2024-08-07 14:00:00+00, 2024-08-07 14:00:00+0...   \n9948  [2024-08-07 16:00:00+00, 2024-08-07 05:00:00+0...   \n9949  [2024-08-07 20:00:00+00, 2024-08-07 07:00:00+0...   \n\n                                            current_lat  \\\n0     [55.64641920439919, 55.7498333, 55.80148, 55.7...   \n1     [55.64641920439919, 55.646535, 55.672309, 55.6...   \n2     [55.64641920439919, 55.640375, 55.639120600000...   \n3     [55.64641920439919, 55.712176, 55.712176, 55.6...   \n4     [55.64641920439919, 55.66807900000001, 55.6733...   \n...                                                 ...   \n9945  [56.0667627, 56.1005391, 56.117045, 56.117045,...   \n9946  [55.64641920439919, 55.64716869999999, 55.6464...   \n9947  [63.43263220000001, 63.044793, 62.569893, 62.5...   \n9948  [56.0667627, 56.1004096, 56.117045, 56.117045,...   \n9949  [59.805664, 59.795058, 59.805664, 59.948098894...   \n\n                                            current_lng  difference_distance  \\\n0     [12.15372974969827, 12.5870785, 12.525814, 12....            -0.027603   \n1     [12.15372974969827, 12.539958, 12.588959, 12.6...             0.435438   \n2     [12.15372974969827, 12.091312, 12.0627714, 12....             0.162129   \n3     [12.15372974969827, 12.541758, 12.541758, 12.5...             0.114027   \n4     [12.15372974969827, 12.562603, 12.5660271, 12....            -0.231637   \n...                                                 ...                  ...   \n9945  [9.986944, 10.0739552, 10.1408688, 10.1408688,...             0.138498   \n9946  [12.15372974969827, 12.4170801, 12.15372974969...             0.337309   \n9947  [10.3643774, 10.283446, 9.623898, 9.659513, 9....             0.003619   \n9948  [9.986944, 10.0686046, 10.1408688, 10.1408688,...             0.510986   \n9949  [10.290383, 10.279009, 10.290383, 10.771520299...            -0.005401   \n\n                                         distance_route  \\\n0     [18.380690356980487, 4.298068156860068, 1.5617...   \n1     [15.110089331615377, 2.617611669361755, 0.8878...   \n2     [2.4776512575967895, 1.1201296974431052, 1.598...   \n3     [15.835300652256178, 0.0, 1.5016735562871621, ...   \n4     [16.061664613017072, 0.3894836165795559, 0.958...   \n...                                                 ...   \n9945  [4.097697796278882, 2.827734737537246, 0.0, 0....   \n9946  [10.302891542998038, 10.302891542998038, 18.38...   \n9947  [26.980923351959824, 38.97044955780091, 1.9401...   \n9948  [3.9241224150190654, 3.0215328879604293, 0.0, ...   \n9949  [0.8345487564187866, 0.8345487564187866, 19.43...   \n\n                                  distance_actual_route  \\\n0     [18.380690356980487, 3.164379243258826, 1.5617...   \n1     [19.4862183744275, 11.162649116186252, 5.20670...   \n2     [2.5909389807670826, 2.6002283089649945, 2.104...   \n3     [16.720642190707288, 0.31770677054599067, 0.84...   \n4     [10.302891542998038, 0.0, 5.823064259213148, 0...   \n...                                                 ...   \n9945  [4.097697796278882, 2.827734737537246, 0.0, 2....   \n9946  [17.128106628397973, 7.677143750409514, 10.302...   \n9947  [26.980923351959824, 36.71871050629079, 1.2691...   \n9948  [6.8952530096090685, 2.827734737537246, 2.8277...   \n9949      [0.0, 0.8345487564187866, 20.152305668374094]   \n\n                                      location_is_depot       date  \\\n0                                 [1, 0, 0, 0, 0, 0, 0] 2024-01-15   \n1                        [1, 0, 0, 0, 0, 0, 0, 0, 0, 0] 2024-01-15   \n2                           [1, 0, 0, 0, 0, 0, 0, 0, 0] 2024-01-15   \n3            [1, 0, 0, 0, 0, 0, 0, 0, 0, 0, 0, 0, 0, 0] 2024-01-15   \n4                              [1, 0, 0, 0, 0, 0, 0, 0] 2024-01-15   \n...                                                 ...        ...   \n9945  [1, 0, 0, 0, 0, 0, 0, 0, 0, 0, 0, 0, 0, 0, 0, ... 2024-08-05   \n9946                              [1, 0, 1, 0, 0, 0, 0] 2024-08-05   \n9947                                 [1, 0, 0, 0, 0, 0] 2024-08-06   \n9948  [1, 0, 0, 0, 0, 0, 0, 0, 0, 0, 0, 0, 0, 0, 0, ... 2024-08-06   \n9949                                       [1, 0, 1, 0] 2024-08-07   \n\n                                 planned_route_location  \\\n0     [132992, 128251, 128480, 129701, 130263, 13014...   \n1     [132992, 128114, 129560, 128017, 128413, 12798...   \n2     [132992, 127628, 128567, 128593, 127977, 12878...   \n3     [132992, 128181, 128177, 127738, 128193, 13045...   \n4     [132992, 129648, 127603, 130480, 127950, 12810...   \n...                                                 ...   \n9945  [183410, 191003, 189793, 188666, 188937, 18892...   \n9946  [132992, 146399, 132992, 128251, 127552, 13044...   \n9947     [32174, 146475, 214353, 41434, 146475, 210645]   \n9948  [183410, 186301, 189793, 188666, 191003, 18893...   \n9949                      [50009, 50553, 50009, 176776]   \n\n                                    actual_route_unique  \n0     [132992, 128251, 129701, 128480, 130263, 14652...  \n1     [132992, 128413, 128394, 129091, 128617, 12901...  \n2     [132992, 128788, 128647, 128593, 128612, 12860...  \n3     [132992, 130491, 147908, 128177, 128181, 12773...  \n4     [132992, 146399, 146401, 128107, 127950, 13048...  \n...                                                 ...  \n9945  [183410, 191003, 188666, 189793, 186076, 19067...  \n9946  [132992, 217429, 146399, 132992, 130441, 12825...  \n9947     [32174, 146475, 210645, 41434, 214353, 146475]  \n9948  [183410, 189793, 191003, 188666, 186301, 18670...  \n9949                      [50009, 50009, 50553, 176776]  \n\n[9950 rows x 18 columns]",
      "text/html": "<div>\n<style scoped>\n    .dataframe tbody tr th:only-of-type {\n        vertical-align: middle;\n    }\n\n    .dataframe tbody tr th {\n        vertical-align: top;\n    }\n\n    .dataframe thead th {\n        text-align: right;\n    }\n</style>\n<table border=\"1\" class=\"dataframe\">\n  <thead>\n    <tr style=\"text-align: right;\">\n      <th></th>\n      <th>planned_route_craft</th>\n      <th>actual_route_location</th>\n      <th>driver_id</th>\n      <th>day_of_week</th>\n      <th>last_two_weeks_count</th>\n      <th>location_type_id</th>\n      <th>stop_arrived_at</th>\n      <th>stop_earliest</th>\n      <th>stop_latest</th>\n      <th>current_lat</th>\n      <th>current_lng</th>\n      <th>difference_distance</th>\n      <th>distance_route</th>\n      <th>distance_actual_route</th>\n      <th>location_is_depot</th>\n      <th>date</th>\n      <th>planned_route_location</th>\n      <th>actual_route_unique</th>\n    </tr>\n  </thead>\n  <tbody>\n    <tr>\n      <th>0</th>\n      <td>[1167, 2231, 2406, 2349, 2298, 2588, 2493]</td>\n      <td>[1167, 2231, 2349, 2406, 2298, 2493, 2588]</td>\n      <td>1186</td>\n      <td>Tuesday</td>\n      <td>9</td>\n      <td>[0, 1, 1, 1, 1, 1, 1]</td>\n      <td>[2024-01-15 22:32:42.615543+00, 2024-01-15 23:...</td>\n      <td>[2024-01-15 19:00:00+00, 2024-01-15 21:00:00+0...</td>\n      <td>[2024-01-16 01:00:00+00, 2024-01-16 04:00:00+0...</td>\n      <td>[55.64641920439919, 55.7498333, 55.80148, 55.7...</td>\n      <td>[12.15372974969827, 12.5870785, 12.525814, 12....</td>\n      <td>-0.027603</td>\n      <td>[18.380690356980487, 4.298068156860068, 1.5617...</td>\n      <td>[18.380690356980487, 3.164379243258826, 1.5617...</td>\n      <td>[1, 0, 0, 0, 0, 0, 0]</td>\n      <td>2024-01-15</td>\n      <td>[132992, 128251, 128480, 129701, 130263, 13014...</td>\n      <td>[132992, 128251, 129701, 128480, 130263, 14652...</td>\n    </tr>\n    <tr>\n      <th>1</th>\n      <td>[1167, 1168, 1495, 1658, 1070, 818, 965, 936, ...</td>\n      <td>[1167, 1070, 936, 822, 963, 965, 818, 1658, 14...</td>\n      <td>1218</td>\n      <td>Tuesday</td>\n      <td>11</td>\n      <td>[0, 1, 1, 1, 1, 1, 1, 1, 1, 1]</td>\n      <td>[2024-01-15 22:37:07.860851+00, 2024-01-16 00:...</td>\n      <td>[2024-01-15 19:00:00+00, 2024-01-15 21:00:00+0...</td>\n      <td>[2024-01-16 01:00:00+00, 2024-01-16 04:00:00+0...</td>\n      <td>[55.64641920439919, 55.646535, 55.672309, 55.6...</td>\n      <td>[12.15372974969827, 12.539958, 12.588959, 12.6...</td>\n      <td>0.435438</td>\n      <td>[15.110089331615377, 2.617611669361755, 0.8878...</td>\n      <td>[19.4862183744275, 11.162649116186252, 5.20670...</td>\n      <td>[1, 0, 0, 0, 0, 0, 0, 0, 0, 0]</td>\n      <td>2024-01-15</td>\n      <td>[132992, 128114, 129560, 128017, 128413, 12798...</td>\n      <td>[132992, 128413, 128394, 129091, 128617, 12901...</td>\n    </tr>\n    <tr>\n      <th>2</th>\n      <td>[1167, 1101, 1079, 1282, 1123, 1098, 834, 1262...</td>\n      <td>[1167, 1098, 1315, 1282, 1262, 834, 1123, 1079...</td>\n      <td>1192</td>\n      <td>Tuesday</td>\n      <td>11</td>\n      <td>[0, 1, 1, 1, 1, 1, 1, 1, 1]</td>\n      <td>[2024-01-15 23:06:33.822316+00, 2024-01-16 01:...</td>\n      <td>[2024-01-15 19:00:00+00, 2024-01-15 21:00:00+0...</td>\n      <td>[2024-01-16 01:00:00+00, 2024-01-16 04:00:00+0...</td>\n      <td>[55.64641920439919, 55.640375, 55.639120600000...</td>\n      <td>[12.15372974969827, 12.091312, 12.0627714, 12....</td>\n      <td>0.162129</td>\n      <td>[2.4776512575967895, 1.1201296974431052, 1.598...</td>\n      <td>[2.5909389807670826, 2.6002283089649945, 2.104...</td>\n      <td>[1, 0, 0, 0, 0, 0, 0, 0, 0]</td>\n      <td>2024-01-15</td>\n      <td>[132992, 127628, 128567, 128593, 127977, 12878...</td>\n      <td>[132992, 128788, 128647, 128593, 128612, 12860...</td>\n    </tr>\n    <tr>\n      <th>3</th>\n      <td>[1167, 1951, 1951, 1777, 1796, 1811, 1949, 196...</td>\n      <td>[1167, 1999, 1929, 1951, 1951, 1777, 1796, 181...</td>\n      <td>1198</td>\n      <td>Tuesday</td>\n      <td>8</td>\n      <td>[0, 1, 1, 1, 1, 1, 1, 1, 1, 1, 1, 1, 1, 1]</td>\n      <td>[2024-01-15 22:08:46.207788+00, 2024-01-16 01:...</td>\n      <td>[2024-01-15 19:00:00+00, 2024-01-15 23:00:00+0...</td>\n      <td>[2024-01-16 01:00:00+00, 2024-01-16 08:30:00+0...</td>\n      <td>[55.64641920439919, 55.712176, 55.712176, 55.6...</td>\n      <td>[12.15372974969827, 12.541758, 12.541758, 12.5...</td>\n      <td>0.114027</td>\n      <td>[15.835300652256178, 0.0, 1.5016735562871621, ...</td>\n      <td>[16.720642190707288, 0.31770677054599067, 0.84...</td>\n      <td>[1, 0, 0, 0, 0, 0, 0, 0, 0, 0, 0, 0, 0, 0]</td>\n      <td>2024-01-15</td>\n      <td>[132992, 128181, 128177, 127738, 128193, 13045...</td>\n      <td>[132992, 130491, 147908, 128177, 128181, 12773...</td>\n    </tr>\n    <tr>\n      <th>4</th>\n      <td>[1167, 1420, 1519, 1687, 1528, 1367, 1174, 1174]</td>\n      <td>[1167, 1174, 1174, 1367, 1528, 1687, 1519, 1420]</td>\n      <td>1210</td>\n      <td>Tuesday</td>\n      <td>10</td>\n      <td>[0, 1, 1, 1, 1, 1, 1, 1]</td>\n      <td>[2024-01-15 21:51:16.697854+00, 2024-01-16 01:...</td>\n      <td>[2024-01-15 19:00:00+00, 2024-01-15 21:00:00+0...</td>\n      <td>[2024-01-16 01:00:00+00, 2024-01-16 04:00:00+0...</td>\n      <td>[55.64641920439919, 55.66807900000001, 55.6733...</td>\n      <td>[12.15372974969827, 12.562603, 12.5660271, 12....</td>\n      <td>-0.231637</td>\n      <td>[16.061664613017072, 0.3894836165795559, 0.958...</td>\n      <td>[10.302891542998038, 0.0, 5.823064259213148, 0...</td>\n      <td>[1, 0, 0, 0, 0, 0, 0, 0]</td>\n      <td>2024-01-15</td>\n      <td>[132992, 129648, 127603, 130480, 127950, 12810...</td>\n      <td>[132992, 146399, 146401, 128107, 127950, 13048...</td>\n    </tr>\n    <tr>\n      <th>...</th>\n      <td>...</td>\n      <td>...</td>\n      <td>...</td>\n      <td>...</td>\n      <td>...</td>\n      <td>...</td>\n      <td>...</td>\n      <td>...</td>\n      <td>...</td>\n      <td>...</td>\n      <td>...</td>\n      <td>...</td>\n      <td>...</td>\n      <td>...</td>\n      <td>...</td>\n      <td>...</td>\n      <td>...</td>\n      <td>...</td>\n    </tr>\n    <tr>\n      <th>9945</th>\n      <td>[3162, 3243, 3295, 3295, 3280, 3249, 3281, 329...</td>\n      <td>[3162, 3243, 3295, 3295, 3281, 3296, 3273, 327...</td>\n      <td>1520</td>\n      <td>Tuesday</td>\n      <td>2</td>\n      <td>[0, 1, 1, 1, 1, 1, 1, 1, 1, 1, 1, 1, 1, 1, 1, ...</td>\n      <td>[2024-08-06 01:57:14.727094+00, 2024-08-06 02:...</td>\n      <td>[2024-08-06 00:00:00+00, 2024-08-06 01:00:00+0...</td>\n      <td>[2024-08-06 16:00:00+00, 2024-08-06 04:00:00+0...</td>\n      <td>[56.0667627, 56.1005391, 56.117045, 56.117045,...</td>\n      <td>[9.986944, 10.0739552, 10.1408688, 10.1408688,...</td>\n      <td>0.138498</td>\n      <td>[4.097697796278882, 2.827734737537246, 0.0, 0....</td>\n      <td>[4.097697796278882, 2.827734737537246, 0.0, 2....</td>\n      <td>[1, 0, 0, 0, 0, 0, 0, 0, 0, 0, 0, 0, 0, 0, 0, ...</td>\n      <td>2024-08-05</td>\n      <td>[183410, 191003, 189793, 188666, 188937, 18892...</td>\n      <td>[183410, 191003, 188666, 189793, 186076, 19067...</td>\n    </tr>\n    <tr>\n      <th>9946</th>\n      <td>[1167, 1174, 1167, 2231, 1970, 1949, 1954]</td>\n      <td>[1167, 1954, 1174, 1167, 1949, 2231, 1970]</td>\n      <td>1624</td>\n      <td>Monday</td>\n      <td>1</td>\n      <td>[0, 1, 0, 1, 1, 1, 1]</td>\n      <td>[2024-08-05 21:45:40.106773+00, 2024-08-05 23:...</td>\n      <td>[2024-08-05 18:00:00+00, 2024-08-05 20:00:00+0...</td>\n      <td>[2024-08-06 00:00:00+00, 2024-08-06 03:00:00+0...</td>\n      <td>[55.64641920439919, 55.64716869999999, 55.6464...</td>\n      <td>[12.15372974969827, 12.4170801, 12.15372974969...</td>\n      <td>0.337309</td>\n      <td>[10.302891542998038, 10.302891542998038, 18.38...</td>\n      <td>[17.128106628397973, 7.677143750409514, 10.302...</td>\n      <td>[1, 0, 1, 0, 0, 0, 0]</td>\n      <td>2024-08-05</td>\n      <td>[132992, 146399, 132992, 128251, 127552, 13044...</td>\n      <td>[132992, 217429, 146399, 132992, 130441, 12825...</td>\n    </tr>\n    <tr>\n      <th>9947</th>\n      <td>[11372, 11173, 11150, 11158, 11157, 11154]</td>\n      <td>[11372, 11173, 11154, 11158, 11150, 11157]</td>\n      <td>441</td>\n      <td>Wednesday</td>\n      <td>2</td>\n      <td>[0, 1, 1, 1, 1, 1]</td>\n      <td>[2024-08-07 05:31:08.421936+00, 2024-08-07 09:...</td>\n      <td>[2024-08-07 05:00:00+00, 2024-08-07 05:00:00+0...</td>\n      <td>[2024-08-07 14:00:00+00, 2024-08-07 14:00:00+0...</td>\n      <td>[63.43263220000001, 63.044793, 62.569893, 62.5...</td>\n      <td>[10.3643774, 10.283446, 9.623898, 9.659513, 9....</td>\n      <td>0.003619</td>\n      <td>[26.980923351959824, 38.97044955780091, 1.9401...</td>\n      <td>[26.980923351959824, 36.71871050629079, 1.2691...</td>\n      <td>[1, 0, 0, 0, 0, 0]</td>\n      <td>2024-08-06</td>\n      <td>[32174, 146475, 214353, 41434, 146475, 210645]</td>\n      <td>[32174, 146475, 210645, 41434, 214353, 146475]</td>\n    </tr>\n    <tr>\n      <th>9948</th>\n      <td>[3162, 3240, 3295, 3295, 3243, 3280, 3327, 332...</td>\n      <td>[3162, 3295, 3243, 3295, 3240, 3327, 3258, 324...</td>\n      <td>1520</td>\n      <td>Wednesday</td>\n      <td>1</td>\n      <td>[0, 1, 1, 1, 1, 1, 0, 1, 1, 1, 1, 1, 1, 1, 1, ...</td>\n      <td>[2024-08-07 01:55:50.864283+00, 2024-08-07 02:...</td>\n      <td>[2024-08-07 00:00:00+00, 2024-08-07 02:00:00+0...</td>\n      <td>[2024-08-07 16:00:00+00, 2024-08-07 05:00:00+0...</td>\n      <td>[56.0667627, 56.1004096, 56.117045, 56.117045,...</td>\n      <td>[9.986944, 10.0686046, 10.1408688, 10.1408688,...</td>\n      <td>0.510986</td>\n      <td>[3.9241224150190654, 3.0215328879604293, 0.0, ...</td>\n      <td>[6.8952530096090685, 2.827734737537246, 2.8277...</td>\n      <td>[1, 0, 0, 0, 0, 0, 0, 0, 0, 0, 0, 0, 0, 0, 0, ...</td>\n      <td>2024-08-06</td>\n      <td>[183410, 186301, 189793, 188666, 191003, 18893...</td>\n      <td>[183410, 189793, 191003, 188666, 186301, 18670...</td>\n    </tr>\n    <tr>\n      <th>9949</th>\n      <td>[7166, 7127, 7166, 9527]</td>\n      <td>[7166, 7166, 7127, 9527]</td>\n      <td>1417</td>\n      <td>Wednesday</td>\n      <td>1</td>\n      <td>[0, 1, 0, 1]</td>\n      <td>[2024-08-07 06:38:14.810272+00, 2024-08-07 07:...</td>\n      <td>[2024-08-07 02:00:00+00, 2024-08-07 05:00:00+0...</td>\n      <td>[2024-08-07 20:00:00+00, 2024-08-07 07:00:00+0...</td>\n      <td>[59.805664, 59.795058, 59.805664, 59.948098894...</td>\n      <td>[10.290383, 10.279009, 10.290383, 10.771520299...</td>\n      <td>-0.005401</td>\n      <td>[0.8345487564187866, 0.8345487564187866, 19.43...</td>\n      <td>[0.0, 0.8345487564187866, 20.152305668374094]</td>\n      <td>[1, 0, 1, 0]</td>\n      <td>2024-08-07</td>\n      <td>[50009, 50553, 50009, 176776]</td>\n      <td>[50009, 50009, 50553, 176776]</td>\n    </tr>\n  </tbody>\n</table>\n<p>9950 rows × 18 columns</p>\n</div>"
     },
     "execution_count": 21,
     "metadata": {},
     "output_type": "execute_result"
    }
   ],
   "source": [
    "uncompleted_routes_df"
   ],
   "metadata": {
    "collapsed": false,
    "pycharm": {
     "name": "#%%\n"
    }
   }
  },
  {
   "cell_type": "code",
   "execution_count": 22,
   "outputs": [
    {
     "name": "stdout",
     "output_type": "stream",
     "text": [
      "Number of rows on Sunday: 27\n"
     ]
    }
   ],
   "source": [
    "sunday_count = completed_routes_df[completed_routes_df[\"day_of_week\"] == \"Sunday\"].shape[0]\n",
    "print(f\"Number of rows on Sunday: {sunday_count}\")"
   ],
   "metadata": {
    "collapsed": false,
    "pycharm": {
     "name": "#%%\n"
    }
   }
  },
  {
   "cell_type": "code",
   "execution_count": 23,
   "outputs": [],
   "source": [
    "\n",
    "# completed_routes_list_unique = [array for i, array in enumerate(completed_routes_list) if array not in completed_routes_list[:i]]\n",
    "# uncompleted_routes_list_unique = [array for i, array in enumerate(uncompleted_routes_list) if array not in uncompleted_routes_list[:i]]\n",
    "# len(completed_routes_list_unique), len (uncompleted_routes_list_unique)\n",
    "# len(completed_routes_df), len(uncompleted_routes_df)"
   ],
   "metadata": {
    "collapsed": false,
    "pycharm": {
     "name": "#%%\n"
    }
   }
  },
  {
   "cell_type": "code",
   "execution_count": 38,
   "outputs": [
    {
     "data": {
      "text/plain": "                                                  routes  \\\n0       [1167, 1405, 1560, 1413, 1391, 1391, 1434, 1269]   \n1       [1167, 1352, 1312, 1356, 1508, 1508, 1621, 1401]   \n2      [1167, 1405, 1479, 1560, 1413, 1391, 1391, 143...   \n3                          [1167, 1194, 947, 1797, 1167]   \n4      [1167, 696, 662, 615, 614, 628, 628, 634, 633,...   \n...                                                  ...   \n18557  [3162, 3243, 3295, 3295, 3280, 3249, 3281, 329...   \n18558         [1167, 1174, 1167, 2231, 1970, 1949, 1954]   \n18559         [11372, 11173, 11150, 11158, 11157, 11154]   \n18560  [3162, 3240, 3295, 3295, 3243, 3280, 3327, 332...   \n18561                           [7166, 7127, 7166, 9527]   \n\n                                           actual_routes  driver_id  \\\n0       [1167, 1405, 1560, 1413, 1391, 1391, 1434, 1269]       1255   \n1       [1167, 1312, 1356, 1352, 1508, 1508, 1621, 1401]       1195   \n2      [1167, 1405, 1479, 1560, 1413, 1391, 1391, 143...       1255   \n3                          [1167, 1194, 947, 1797, 1167]       1190   \n4      [1167, 696, 662, 615, 614, 628, 628, 634, 633,...       1178   \n...                                                  ...        ...   \n18557  [3162, 3243, 3295, 3295, 3281, 3296, 3273, 327...       1520   \n18558         [1167, 1954, 1174, 1167, 1949, 2231, 1970]       1624   \n18559         [11372, 11173, 11154, 11158, 11150, 11157]        441   \n18560  [3162, 3295, 3243, 3295, 3240, 3327, 3258, 324...       1520   \n18561                           [7166, 7166, 7127, 9527]       1417   \n\n                                          distance_route  \\\n0      [14.640018023192697, 1.5229312527257717, 0.606...   \n1      [8.16888775040224, 0.4067943329231743, 0.35828...   \n2      [14.640018023192697, 1.400306417188586, 0.2962...   \n3      [0.9126584187089052, 8.020566881548852, 6.6327...   \n4      [13.505545464972036, 0.9852343060237925, 2.970...   \n...                                                  ...   \n18557  [4.097697796278882, 2.827734737537246, 0.0, 0....   \n18558  [10.302891542998038, 10.302891542998038, 18.38...   \n18559  [26.980923351959824, 38.97044955780091, 1.9401...   \n18560  [3.9241224150190654, 3.0215328879604293, 0.0, ...   \n18561  [0.8345487564187866, 0.8345487564187866, 19.43...   \n\n                                   distance_actual_route  \\\n0      [14.640018023192697, 1.5229312527257717, 0.606...   \n1      [8.440075587409163, 0.35828887642036544, 0.110...   \n2      [14.640018023192697, 1.400306417188586, 0.2962...   \n3      [0.9126584187089052, 8.020566881548852, 6.6327...   \n4      [13.505545464972036, 0.9852343060237925, 2.970...   \n...                                                  ...   \n18557  [4.097697796278882, 2.827734737537246, 0.0, 2....   \n18558  [17.128106628397973, 7.677143750409514, 10.302...   \n18559  [26.980923351959824, 36.71871050629079, 1.2691...   \n18560  [6.8952530096090685, 2.827734737537246, 2.8277...   \n18561      [0.0, 0.8345487564187866, 20.152305668374094]   \n\n       last_two_weeks_count  \\\n0                         8   \n1                        11   \n2                         7   \n3                         2   \n4                         8   \n...                     ...   \n18557                     2   \n18558                     1   \n18559                     2   \n18560                     1   \n18561                     1   \n\n                                             current_lat  \\\n0      [55.64641920439919, 55.6669147, 55.6757322, 55...   \n1      [55.64641920439919, 55.662018, 55.658103, 55.6...   \n2      [55.64641920439919, 55.6669147, 55.671473, 55....   \n3      [55.64641920439919, 55.6487125, 55.6163424, 55...   \n4      [55.64641920439919, 55.4520374, 55.4421082, 55...   \n...                                                  ...   \n18557  [56.0667627, 56.1005391, 56.117045, 56.117045,...   \n18558  [55.64641920439919, 55.64716869999999, 55.6464...   \n18559  [63.43263220000001, 63.044793, 62.569893, 62.5...   \n18560  [56.0667627, 56.1004096, 56.117045, 56.117045,...   \n18561  [59.805664, 59.795058, 59.805664, 59.948098894...   \n\n                                             current_lng day_of_week  \\\n0      [12.15372974969827, 12.5262801, 12.5619711, 12...     Tuesday   \n1      [12.15372974969827, 12.360745, 12.368506, 12.3...      Monday   \n2      [12.15372974969827, 12.5262801, 12.561174, 12....   Wednesday   \n3      [12.15372974969827, 12.1307559, 12.3275461, 12...     Tuesday   \n4      [12.15372974969827, 12.1856949, 12.1677321, 12...     Tuesday   \n...                                                  ...         ...   \n18557  [9.986944, 10.0739552, 10.1408688, 10.1408688,...     Tuesday   \n18558  [12.15372974969827, 12.4170801, 12.15372974969...      Monday   \n18559  [10.3643774, 10.283446, 9.623898, 9.659513, 9....   Wednesday   \n18560  [9.986944, 10.0686046, 10.1408688, 10.1408688,...   Wednesday   \n18561  [10.290383, 10.279009, 10.290383, 10.771520299...   Wednesday   \n\n            date                                  location_is_depot  \\\n0     2024-01-15                           [1, 0, 0, 0, 0, 0, 0, 0]   \n1     2024-01-15                           [1, 0, 0, 0, 0, 0, 0, 0]   \n2     2024-01-16                        [1, 0, 0, 0, 0, 0, 0, 0, 0]   \n3     2024-01-23                                    [1, 0, 0, 0, 1]   \n4     2024-01-23  [1, 0, 0, 0, 0, 0, 0, 0, 0, 0, 0, 0, 0, 0, 0, ...   \n...          ...                                                ...   \n18557 2024-08-05  [1, 0, 0, 0, 0, 0, 0, 0, 0, 0, 0, 0, 0, 0, 0, ...   \n18558 2024-08-05                              [1, 0, 1, 0, 0, 0, 0]   \n18559 2024-08-06                                 [1, 0, 0, 0, 0, 0]   \n18560 2024-08-06  [1, 0, 0, 0, 0, 0, 0, 0, 0, 0, 0, 0, 0, 0, 0, ...   \n18561 2024-08-07                                       [1, 0, 1, 0]   \n\n                                        location_type_id  \\\n0                               [0, 1, 1, 1, 1, 1, 1, 1]   \n1                               [0, 1, 1, 1, 1, 1, 1, 1]   \n2                            [0, 1, 1, 1, 1, 1, 1, 1, 1]   \n3                                        [0, 1, 1, 0, 1]   \n4      [0, 1, 1, 1, 1, 1, 1, 1, 1, 1, 1, 1, 1, 1, 1, ...   \n...                                                  ...   \n18557  [0, 1, 1, 1, 1, 1, 1, 1, 1, 1, 1, 1, 1, 1, 1, ...   \n18558                              [0, 1, 0, 1, 1, 1, 1]   \n18559                                 [0, 1, 1, 1, 1, 1]   \n18560  [0, 1, 1, 1, 1, 1, 0, 1, 1, 1, 1, 1, 1, 1, 1, ...   \n18561                                       [0, 1, 0, 1]   \n\n                                           arriving_time  \\\n0      [2024-01-15 22:11:49.528537+00, 2024-01-15 23:...   \n1      [2024-01-15 22:58:58.038139+00, 2024-01-15 23:...   \n2      [2024-01-16 22:24:33.871644+00, 2024-01-16 23:...   \n3      [2024-01-23 10:49:20.166468+00, 2024-01-23 10:...   \n4      [2024-01-23 10:49:20.775856+00, 2024-01-23 10:...   \n...                                                  ...   \n18557  [2024-08-06 01:57:14.727094+00, 2024-08-06 02:...   \n18558  [2024-08-05 21:45:40.106773+00, 2024-08-05 23:...   \n18559  [2024-08-07 05:31:08.421936+00, 2024-08-07 09:...   \n18560  [2024-08-07 01:55:50.864283+00, 2024-08-07 02:...   \n18561  [2024-08-07 06:38:14.810272+00, 2024-08-07 07:...   \n\n                                  planned_route_location  \\\n0      [132992, 128289, 128048, 128448, 128037, 12845...   \n1      [132992, 130073, 146768, 130075, 128234, 12823...   \n2      [132992, 128289, 127766, 128048, 128448, 12803...   \n3               [132992, 127580, 127584, 164074, 132992]   \n4      [132992, 129376, 129449, 129405, 129868, 12931...   \n...                                                  ...   \n18557  [183410, 191003, 189793, 188666, 188937, 18892...   \n18558  [132992, 146399, 132992, 128251, 127552, 13044...   \n18559     [32174, 146475, 214353, 41434, 146475, 210645]   \n18560  [183410, 186301, 189793, 188666, 191003, 18893...   \n18561                      [50009, 50553, 50009, 176776]   \n\n                                     actual_route_unique  \\\n0      [132992, 128289, 128048, 128448, 128454, 12803...   \n1      [132992, 146768, 130075, 130073, 128234, 12823...   \n2      [132992, 128289, 127766, 128048, 128448, 12845...   \n3               [132992, 127580, 127584, 164074, 132992]   \n4      [132992, 129376, 129449, 129405, 129868, 12931...   \n...                                                  ...   \n18557  [183410, 191003, 188666, 189793, 186076, 19067...   \n18558  [132992, 217429, 146399, 132992, 130441, 12825...   \n18559     [32174, 146475, 210645, 41434, 214353, 146475]   \n18560  [183410, 189793, 191003, 188666, 186301, 18670...   \n18561                      [50009, 50009, 50553, 176776]   \n\n                                           stop_earliest  \\\n0      [2024-01-15 19:00:00+00, 2024-01-15 23:00:00+0...   \n1      [2024-01-15 19:00:00+00, 2024-01-15 21:00:00+0...   \n2      [2024-01-16 19:00:00+00, 2024-01-16 23:00:00+0...   \n3      [2024-01-16 00:00:00+00, 2024-01-16 05:00:00+0...   \n4      [2024-01-16 00:00:00+00, 2024-01-15 23:00:00+0...   \n...                                                  ...   \n18557  [2024-08-06 00:00:00+00, 2024-08-06 01:00:00+0...   \n18558  [2024-08-05 18:00:00+00, 2024-08-05 20:00:00+0...   \n18559  [2024-08-07 05:00:00+00, 2024-08-07 05:00:00+0...   \n18560  [2024-08-07 00:00:00+00, 2024-08-07 02:00:00+0...   \n18561  [2024-08-07 02:00:00+00, 2024-08-07 05:00:00+0...   \n\n                                             stop_latest  label  len  \n0      [2024-01-16 01:00:00+00, 2024-01-16 03:00:00+0...      0    8  \n1      [2024-01-16 01:00:00+00, 2024-01-16 04:00:00+0...      0    8  \n2      [2024-01-17 01:00:00+00, 2024-01-17 03:00:00+0...      0    9  \n3      [2024-01-16 22:00:00+00, 2024-01-16 11:00:00+0...      0    5  \n4      [2024-01-16 22:00:00+00, 2024-01-16 07:30:00+0...      0   23  \n...                                                  ...    ...  ...  \n18557  [2024-08-06 16:00:00+00, 2024-08-06 04:00:00+0...      1   20  \n18558  [2024-08-06 00:00:00+00, 2024-08-06 03:00:00+0...      1    7  \n18559  [2024-08-07 14:00:00+00, 2024-08-07 14:00:00+0...      1    6  \n18560  [2024-08-07 16:00:00+00, 2024-08-07 05:00:00+0...      1   24  \n18561  [2024-08-07 20:00:00+00, 2024-08-07 07:00:00+0...      1    4  \n\n[18562 rows x 19 columns]",
      "text/html": "<div>\n<style scoped>\n    .dataframe tbody tr th:only-of-type {\n        vertical-align: middle;\n    }\n\n    .dataframe tbody tr th {\n        vertical-align: top;\n    }\n\n    .dataframe thead th {\n        text-align: right;\n    }\n</style>\n<table border=\"1\" class=\"dataframe\">\n  <thead>\n    <tr style=\"text-align: right;\">\n      <th></th>\n      <th>routes</th>\n      <th>actual_routes</th>\n      <th>driver_id</th>\n      <th>distance_route</th>\n      <th>distance_actual_route</th>\n      <th>last_two_weeks_count</th>\n      <th>current_lat</th>\n      <th>current_lng</th>\n      <th>day_of_week</th>\n      <th>date</th>\n      <th>location_is_depot</th>\n      <th>location_type_id</th>\n      <th>arriving_time</th>\n      <th>planned_route_location</th>\n      <th>actual_route_unique</th>\n      <th>stop_earliest</th>\n      <th>stop_latest</th>\n      <th>label</th>\n      <th>len</th>\n    </tr>\n  </thead>\n  <tbody>\n    <tr>\n      <th>0</th>\n      <td>[1167, 1405, 1560, 1413, 1391, 1391, 1434, 1269]</td>\n      <td>[1167, 1405, 1560, 1413, 1391, 1391, 1434, 1269]</td>\n      <td>1255</td>\n      <td>[14.640018023192697, 1.5229312527257717, 0.606...</td>\n      <td>[14.640018023192697, 1.5229312527257717, 0.606...</td>\n      <td>8</td>\n      <td>[55.64641920439919, 55.6669147, 55.6757322, 55...</td>\n      <td>[12.15372974969827, 12.5262801, 12.5619711, 12...</td>\n      <td>Tuesday</td>\n      <td>2024-01-15</td>\n      <td>[1, 0, 0, 0, 0, 0, 0, 0]</td>\n      <td>[0, 1, 1, 1, 1, 1, 1, 1]</td>\n      <td>[2024-01-15 22:11:49.528537+00, 2024-01-15 23:...</td>\n      <td>[132992, 128289, 128048, 128448, 128037, 12845...</td>\n      <td>[132992, 128289, 128048, 128448, 128454, 12803...</td>\n      <td>[2024-01-15 19:00:00+00, 2024-01-15 23:00:00+0...</td>\n      <td>[2024-01-16 01:00:00+00, 2024-01-16 03:00:00+0...</td>\n      <td>0</td>\n      <td>8</td>\n    </tr>\n    <tr>\n      <th>1</th>\n      <td>[1167, 1352, 1312, 1356, 1508, 1508, 1621, 1401]</td>\n      <td>[1167, 1312, 1356, 1352, 1508, 1508, 1621, 1401]</td>\n      <td>1195</td>\n      <td>[8.16888775040224, 0.4067943329231743, 0.35828...</td>\n      <td>[8.440075587409163, 0.35828887642036544, 0.110...</td>\n      <td>11</td>\n      <td>[55.64641920439919, 55.662018, 55.658103, 55.6...</td>\n      <td>[12.15372974969827, 12.360745, 12.368506, 12.3...</td>\n      <td>Monday</td>\n      <td>2024-01-15</td>\n      <td>[1, 0, 0, 0, 0, 0, 0, 0]</td>\n      <td>[0, 1, 1, 1, 1, 1, 1, 1]</td>\n      <td>[2024-01-15 22:58:58.038139+00, 2024-01-15 23:...</td>\n      <td>[132992, 130073, 146768, 130075, 128234, 12823...</td>\n      <td>[132992, 146768, 130075, 130073, 128234, 12823...</td>\n      <td>[2024-01-15 19:00:00+00, 2024-01-15 21:00:00+0...</td>\n      <td>[2024-01-16 01:00:00+00, 2024-01-16 04:00:00+0...</td>\n      <td>0</td>\n      <td>8</td>\n    </tr>\n    <tr>\n      <th>2</th>\n      <td>[1167, 1405, 1479, 1560, 1413, 1391, 1391, 143...</td>\n      <td>[1167, 1405, 1479, 1560, 1413, 1391, 1391, 143...</td>\n      <td>1255</td>\n      <td>[14.640018023192697, 1.400306417188586, 0.2962...</td>\n      <td>[14.640018023192697, 1.400306417188586, 0.2962...</td>\n      <td>7</td>\n      <td>[55.64641920439919, 55.6669147, 55.671473, 55....</td>\n      <td>[12.15372974969827, 12.5262801, 12.561174, 12....</td>\n      <td>Wednesday</td>\n      <td>2024-01-16</td>\n      <td>[1, 0, 0, 0, 0, 0, 0, 0, 0]</td>\n      <td>[0, 1, 1, 1, 1, 1, 1, 1, 1]</td>\n      <td>[2024-01-16 22:24:33.871644+00, 2024-01-16 23:...</td>\n      <td>[132992, 128289, 127766, 128048, 128448, 12803...</td>\n      <td>[132992, 128289, 127766, 128048, 128448, 12845...</td>\n      <td>[2024-01-16 19:00:00+00, 2024-01-16 23:00:00+0...</td>\n      <td>[2024-01-17 01:00:00+00, 2024-01-17 03:00:00+0...</td>\n      <td>0</td>\n      <td>9</td>\n    </tr>\n    <tr>\n      <th>3</th>\n      <td>[1167, 1194, 947, 1797, 1167]</td>\n      <td>[1167, 1194, 947, 1797, 1167]</td>\n      <td>1190</td>\n      <td>[0.9126584187089052, 8.020566881548852, 6.6327...</td>\n      <td>[0.9126584187089052, 8.020566881548852, 6.6327...</td>\n      <td>2</td>\n      <td>[55.64641920439919, 55.6487125, 55.6163424, 55...</td>\n      <td>[12.15372974969827, 12.1307559, 12.3275461, 12...</td>\n      <td>Tuesday</td>\n      <td>2024-01-23</td>\n      <td>[1, 0, 0, 0, 1]</td>\n      <td>[0, 1, 1, 0, 1]</td>\n      <td>[2024-01-23 10:49:20.166468+00, 2024-01-23 10:...</td>\n      <td>[132992, 127580, 127584, 164074, 132992]</td>\n      <td>[132992, 127580, 127584, 164074, 132992]</td>\n      <td>[2024-01-16 00:00:00+00, 2024-01-16 05:00:00+0...</td>\n      <td>[2024-01-16 22:00:00+00, 2024-01-16 11:00:00+0...</td>\n      <td>0</td>\n      <td>5</td>\n    </tr>\n    <tr>\n      <th>4</th>\n      <td>[1167, 696, 662, 615, 614, 628, 628, 634, 633,...</td>\n      <td>[1167, 696, 662, 615, 614, 628, 628, 634, 633,...</td>\n      <td>1178</td>\n      <td>[13.505545464972036, 0.9852343060237925, 2.970...</td>\n      <td>[13.505545464972036, 0.9852343060237925, 2.970...</td>\n      <td>8</td>\n      <td>[55.64641920439919, 55.4520374, 55.4421082, 55...</td>\n      <td>[12.15372974969827, 12.1856949, 12.1677321, 12...</td>\n      <td>Tuesday</td>\n      <td>2024-01-23</td>\n      <td>[1, 0, 0, 0, 0, 0, 0, 0, 0, 0, 0, 0, 0, 0, 0, ...</td>\n      <td>[0, 1, 1, 1, 1, 1, 1, 1, 1, 1, 1, 1, 1, 1, 1, ...</td>\n      <td>[2024-01-23 10:49:20.775856+00, 2024-01-23 10:...</td>\n      <td>[132992, 129376, 129449, 129405, 129868, 12931...</td>\n      <td>[132992, 129376, 129449, 129405, 129868, 12931...</td>\n      <td>[2024-01-16 00:00:00+00, 2024-01-15 23:00:00+0...</td>\n      <td>[2024-01-16 22:00:00+00, 2024-01-16 07:30:00+0...</td>\n      <td>0</td>\n      <td>23</td>\n    </tr>\n    <tr>\n      <th>...</th>\n      <td>...</td>\n      <td>...</td>\n      <td>...</td>\n      <td>...</td>\n      <td>...</td>\n      <td>...</td>\n      <td>...</td>\n      <td>...</td>\n      <td>...</td>\n      <td>...</td>\n      <td>...</td>\n      <td>...</td>\n      <td>...</td>\n      <td>...</td>\n      <td>...</td>\n      <td>...</td>\n      <td>...</td>\n      <td>...</td>\n      <td>...</td>\n    </tr>\n    <tr>\n      <th>18557</th>\n      <td>[3162, 3243, 3295, 3295, 3280, 3249, 3281, 329...</td>\n      <td>[3162, 3243, 3295, 3295, 3281, 3296, 3273, 327...</td>\n      <td>1520</td>\n      <td>[4.097697796278882, 2.827734737537246, 0.0, 0....</td>\n      <td>[4.097697796278882, 2.827734737537246, 0.0, 2....</td>\n      <td>2</td>\n      <td>[56.0667627, 56.1005391, 56.117045, 56.117045,...</td>\n      <td>[9.986944, 10.0739552, 10.1408688, 10.1408688,...</td>\n      <td>Tuesday</td>\n      <td>2024-08-05</td>\n      <td>[1, 0, 0, 0, 0, 0, 0, 0, 0, 0, 0, 0, 0, 0, 0, ...</td>\n      <td>[0, 1, 1, 1, 1, 1, 1, 1, 1, 1, 1, 1, 1, 1, 1, ...</td>\n      <td>[2024-08-06 01:57:14.727094+00, 2024-08-06 02:...</td>\n      <td>[183410, 191003, 189793, 188666, 188937, 18892...</td>\n      <td>[183410, 191003, 188666, 189793, 186076, 19067...</td>\n      <td>[2024-08-06 00:00:00+00, 2024-08-06 01:00:00+0...</td>\n      <td>[2024-08-06 16:00:00+00, 2024-08-06 04:00:00+0...</td>\n      <td>1</td>\n      <td>20</td>\n    </tr>\n    <tr>\n      <th>18558</th>\n      <td>[1167, 1174, 1167, 2231, 1970, 1949, 1954]</td>\n      <td>[1167, 1954, 1174, 1167, 1949, 2231, 1970]</td>\n      <td>1624</td>\n      <td>[10.302891542998038, 10.302891542998038, 18.38...</td>\n      <td>[17.128106628397973, 7.677143750409514, 10.302...</td>\n      <td>1</td>\n      <td>[55.64641920439919, 55.64716869999999, 55.6464...</td>\n      <td>[12.15372974969827, 12.4170801, 12.15372974969...</td>\n      <td>Monday</td>\n      <td>2024-08-05</td>\n      <td>[1, 0, 1, 0, 0, 0, 0]</td>\n      <td>[0, 1, 0, 1, 1, 1, 1]</td>\n      <td>[2024-08-05 21:45:40.106773+00, 2024-08-05 23:...</td>\n      <td>[132992, 146399, 132992, 128251, 127552, 13044...</td>\n      <td>[132992, 217429, 146399, 132992, 130441, 12825...</td>\n      <td>[2024-08-05 18:00:00+00, 2024-08-05 20:00:00+0...</td>\n      <td>[2024-08-06 00:00:00+00, 2024-08-06 03:00:00+0...</td>\n      <td>1</td>\n      <td>7</td>\n    </tr>\n    <tr>\n      <th>18559</th>\n      <td>[11372, 11173, 11150, 11158, 11157, 11154]</td>\n      <td>[11372, 11173, 11154, 11158, 11150, 11157]</td>\n      <td>441</td>\n      <td>[26.980923351959824, 38.97044955780091, 1.9401...</td>\n      <td>[26.980923351959824, 36.71871050629079, 1.2691...</td>\n      <td>2</td>\n      <td>[63.43263220000001, 63.044793, 62.569893, 62.5...</td>\n      <td>[10.3643774, 10.283446, 9.623898, 9.659513, 9....</td>\n      <td>Wednesday</td>\n      <td>2024-08-06</td>\n      <td>[1, 0, 0, 0, 0, 0]</td>\n      <td>[0, 1, 1, 1, 1, 1]</td>\n      <td>[2024-08-07 05:31:08.421936+00, 2024-08-07 09:...</td>\n      <td>[32174, 146475, 214353, 41434, 146475, 210645]</td>\n      <td>[32174, 146475, 210645, 41434, 214353, 146475]</td>\n      <td>[2024-08-07 05:00:00+00, 2024-08-07 05:00:00+0...</td>\n      <td>[2024-08-07 14:00:00+00, 2024-08-07 14:00:00+0...</td>\n      <td>1</td>\n      <td>6</td>\n    </tr>\n    <tr>\n      <th>18560</th>\n      <td>[3162, 3240, 3295, 3295, 3243, 3280, 3327, 332...</td>\n      <td>[3162, 3295, 3243, 3295, 3240, 3327, 3258, 324...</td>\n      <td>1520</td>\n      <td>[3.9241224150190654, 3.0215328879604293, 0.0, ...</td>\n      <td>[6.8952530096090685, 2.827734737537246, 2.8277...</td>\n      <td>1</td>\n      <td>[56.0667627, 56.1004096, 56.117045, 56.117045,...</td>\n      <td>[9.986944, 10.0686046, 10.1408688, 10.1408688,...</td>\n      <td>Wednesday</td>\n      <td>2024-08-06</td>\n      <td>[1, 0, 0, 0, 0, 0, 0, 0, 0, 0, 0, 0, 0, 0, 0, ...</td>\n      <td>[0, 1, 1, 1, 1, 1, 0, 1, 1, 1, 1, 1, 1, 1, 1, ...</td>\n      <td>[2024-08-07 01:55:50.864283+00, 2024-08-07 02:...</td>\n      <td>[183410, 186301, 189793, 188666, 191003, 18893...</td>\n      <td>[183410, 189793, 191003, 188666, 186301, 18670...</td>\n      <td>[2024-08-07 00:00:00+00, 2024-08-07 02:00:00+0...</td>\n      <td>[2024-08-07 16:00:00+00, 2024-08-07 05:00:00+0...</td>\n      <td>1</td>\n      <td>24</td>\n    </tr>\n    <tr>\n      <th>18561</th>\n      <td>[7166, 7127, 7166, 9527]</td>\n      <td>[7166, 7166, 7127, 9527]</td>\n      <td>1417</td>\n      <td>[0.8345487564187866, 0.8345487564187866, 19.43...</td>\n      <td>[0.0, 0.8345487564187866, 20.152305668374094]</td>\n      <td>1</td>\n      <td>[59.805664, 59.795058, 59.805664, 59.948098894...</td>\n      <td>[10.290383, 10.279009, 10.290383, 10.771520299...</td>\n      <td>Wednesday</td>\n      <td>2024-08-07</td>\n      <td>[1, 0, 1, 0]</td>\n      <td>[0, 1, 0, 1]</td>\n      <td>[2024-08-07 06:38:14.810272+00, 2024-08-07 07:...</td>\n      <td>[50009, 50553, 50009, 176776]</td>\n      <td>[50009, 50009, 50553, 176776]</td>\n      <td>[2024-08-07 02:00:00+00, 2024-08-07 05:00:00+0...</td>\n      <td>[2024-08-07 20:00:00+00, 2024-08-07 07:00:00+0...</td>\n      <td>1</td>\n      <td>4</td>\n    </tr>\n  </tbody>\n</table>\n<p>18562 rows × 19 columns</p>\n</div>"
     },
     "execution_count": 38,
     "metadata": {},
     "output_type": "execute_result"
    }
   ],
   "source": [
    "final_routes = pd.DataFrame({\n",
    "    'routes': completed_routes_df['planned_route_craft'].tolist() + uncompleted_routes_df['planned_route_craft'].tolist(),\n",
    "    'actual_routes': completed_routes_df['actual_route_location'].tolist() + uncompleted_routes_df['actual_route_location'].tolist(),\n",
    "    'driver_id': completed_routes_df['driver_id'].tolist() +  uncompleted_routes_df['driver_id'].tolist(),\n",
    "    'distance_route': completed_routes_df['distance_route'].tolist() + uncompleted_routes_df['distance_route'].tolist(),\n",
    "    'distance_actual_route': completed_routes_df['distance_actual_route'].tolist() + uncompleted_routes_df['distance_actual_route'].tolist(),\n",
    "    'last_two_weeks_count': completed_routes_df['last_two_weeks_count'].tolist() + uncompleted_routes_df['last_two_weeks_count'].tolist(),\n",
    "    'current_lat': completed_routes_df['current_lat'].tolist() + uncompleted_routes_df['current_lat'].tolist(),\n",
    "    'current_lng': completed_routes_df['current_lng'].tolist() + uncompleted_routes_df['current_lng'].tolist(),\n",
    "    'day_of_week': completed_routes_df['day_of_week'].tolist() + uncompleted_routes_df['day_of_week'].tolist(),\n",
    "    'date': completed_routes_df['date'].tolist() + uncompleted_routes_df['date'].tolist(),\n",
    "    'location_is_depot': completed_routes_df['location_is_depot'].tolist() + uncompleted_routes_df['location_is_depot'].tolist(),\n",
    "    'location_type_id': completed_routes_df['location_type_id'].tolist() + uncompleted_routes_df['location_type_id'].tolist(),\n",
    "    'arriving_time': completed_routes_df['stop_arrived_at'].tolist() + uncompleted_routes_df['stop_arrived_at'].tolist(),\n",
    "    'planned_route_location': completed_routes_df['planned_route_location'].tolist() + uncompleted_routes_df['planned_route_location'].tolist(),\n",
    "    'actual_route_unique': completed_routes_df['actual_route_unique'].tolist() + uncompleted_routes_df['actual_route_unique'].tolist(),\n",
    "    'stop_earliest': completed_routes_df['stop_earliest'].tolist() + uncompleted_routes_df['stop_earliest'].tolist(),\n",
    "    'stop_latest': completed_routes_df['stop_latest'].tolist() + uncompleted_routes_df['stop_latest'].tolist(),\n",
    "    'label': [0] * len(completed_routes_df)  + [1] * len(uncompleted_routes_df)\n",
    "})\n",
    "final_routes['len'] = final_routes['routes'].apply(lambda x: len(x))\n",
    "final_routes\n",
    "\n",
    "# [0] * len(artificial_planned_routes)\n",
    "# artificial_planned_routes['distance_route'].tolist()\n",
    "# artificial_planned_routes['driver_id'].tolist()\n",
    "# artificial_planned_routes['common_subsequence'].tolist()"
   ],
   "metadata": {
    "collapsed": false,
    "pycharm": {
     "name": "#%%\n"
    }
   }
  },
  {
   "cell_type": "code",
   "execution_count": 39,
   "outputs": [
    {
     "data": {
      "text/plain": "36"
     },
     "execution_count": 39,
     "metadata": {},
     "output_type": "execute_result"
    }
   ],
   "source": [
    "def determine_country(lat, lng):\n",
    "    if 57.5 <= lat <= 71.2 and 4.0 <= lng <= 31.0:\n",
    "        return 0  # Norway\n",
    "    elif 54.5 <= lat <= 57.8 and 8.0 <= lng <= 15.0:\n",
    "        return 1  # Denmark\n",
    "    else:\n",
    "        return 1\n",
    "final_routes['country_flag'] = final_routes.apply(lambda row: determine_country(row['current_lat'][0], row['current_lng'][0]), axis=1)\n",
    "\n",
    "max([len(i) for i in final_routes['routes']])"
   ],
   "metadata": {
    "collapsed": false,
    "pycharm": {
     "name": "#%%\n"
    }
   }
  },
  {
   "cell_type": "code",
   "execution_count": 40,
   "outputs": [
    {
     "name": "stdout",
     "output_type": "stream",
     "text": [
      "10704\n"
     ]
    }
   ],
   "source": [
    "#create dictionary and encode to smaller unique numbers\n",
    "locations_dic = {}\n",
    "location_count = {}\n",
    "k = 1\n",
    "for row in final_routes['routes']:\n",
    "   for location in row:\n",
    "       if location not in locations_dic:\n",
    "           locations_dic[location] = k\n",
    "           k += 1\n",
    "k = 1\n",
    "print(len(locations_dic))\n",
    "\n",
    "for row in final_routes['routes']:\n",
    "   for location in row:\n",
    "       if location not in location_count:\n",
    "            location_count[location] = 1\n",
    "       else:\n",
    "            location_count[location] += 1\n"
   ],
   "metadata": {
    "collapsed": false,
    "pycharm": {
     "name": "#%%\n"
    }
   }
  },
  {
   "cell_type": "code",
   "execution_count": 41,
   "outputs": [
    {
     "name": "stdout",
     "output_type": "stream",
     "text": [
      "Total number of drivers 395\n",
      "correlation 0.3069126041002025\n",
      "correlation 36\n"
     ]
    }
   ],
   "source": [
    "drivers_dic = {}\n",
    "k = 1\n",
    "for driver in final_routes['driver_id']:\n",
    "    if driver not in drivers_dic:\n",
    "        drivers_dic[driver] = k\n",
    "        k += 1\n",
    "print('Total number of drivers', len(drivers_dic))\n",
    "total_drivers = len(drivers_dic)\n",
    "encoding_drivers = []\n",
    "for driver in final_routes['driver_id']:\n",
    "    encoding_drivers.append(drivers_dic[driver])\n",
    "#\n",
    "final_routes['driver_id_sorted'] = encoding_drivers\n",
    "final_routes['day_of_week_encoded'] = pd.Categorical(final_routes['day_of_week']).codes+1\n",
    "\n",
    "def encode_day_of_week(row):\n",
    "    a = np.zeros((36, 7), dtype=int)\n",
    "    route_len = row['len']\n",
    "    day_encoded = row['day_of_week_encoded']\n",
    "    for i in range(36 - route_len, len(a)):\n",
    "        a[i][day_encoded-1] = 1\n",
    "    return a\n",
    "\n",
    "def encode_day_of_week_simple(row):\n",
    "    a = np.zeros(7, dtype=int)\n",
    "    day_encoded = row['day_of_week_encoded']\n",
    "    a[day_encoded - 1] = 1\n",
    "    return a\n",
    "\n",
    "final_routes['experience_feature'] = final_routes.apply(lambda x: x['len'] * [x['last_two_weeks_count']], axis = 1)\n",
    "final_routes['len_feature'] = final_routes.apply(lambda x: x['len'] * [x['len']], axis = 1)\n",
    "final_routes['driver_id_feature'] = final_routes.apply(lambda x: x['len'] * [x['driver_id_sorted']], axis = 1)\n",
    "final_routes['country_flag_feature'] = final_routes.apply(lambda x: x['len'] * [x['country_flag']], axis = 1)\n",
    "final_routes['day_of_week_feature'] = final_routes.apply(encode_day_of_week, axis = 1)\n",
    "final_routes['day_of_week_encoded_ext'] = final_routes.apply(encode_day_of_week_simple, axis = 1)\n",
    "\n",
    "# encoding_routes = []\n",
    "# for row in final_routes['routes']:\n",
    "#     encoding_route = []\n",
    "#     for location in row:\n",
    "#         encoding_route.append(locations_dic[location])\n",
    "#     encoding_routes.append(encoding_route)\n",
    "# final_routes['routes'] = encoding_routes\n",
    "\n",
    "print('correlation', final_routes['len'].corr(final_routes['label']))\n",
    "print('correlation', max(final_routes['len']))\n",
    "# final_routes = pd.concat([final_routes, pd.get_dummies(final_routes['driver_id_sorted'], prefix='encoding_drivers')], axis=1)"
   ],
   "metadata": {
    "collapsed": false,
    "pycharm": {
     "name": "#%%\n"
    }
   }
  },
  {
   "cell_type": "code",
   "execution_count": 42,
   "outputs": [
    {
     "data": {
      "text/plain": "                                                  routes  \\\n0      [1167, 574, 1167, 523, 473, 462, 444, 400, 190...   \n1      [1167, 1204, 1042, 1039, 1033, 1033, 1030, 127...   \n2      [7166, 7166, 8045, 8718, 8457, 8093, 8310, 840...   \n3      [7166, 10203, 10214, 10214, 10623, 10692, 1066...   \n4      [1167, 2331, 2299, 2294, 2383, 2385, 2397, 240...   \n...                                                  ...   \n18557  [1167, 35, 38, 41, 45, 91, 110, 134, 121, 125,...   \n18558  [1167, 755, 694, 574, 595, 572, 428, 428, 474,...   \n18559                 [1167, 180, 105, 166, 186, 67, 67]   \n18560  [1167, 1261, 1148, 989, 991, 914, 941, 1701, 1...   \n18561  [1167, 192, 191, 189, 219, 220, 213, 212, 214,...   \n\n                                           actual_routes  driver_id  \\\n0      [1167, 1167, 574, 523, 473, 462, 444, 400, 190...       1184   \n1      [1167, 1204, 1042, 1039, 1030, 1275, 962, 1033...       1486   \n2      [7166, 7166, 8045, 8718, 8457, 8093, 8310, 840...       1432   \n3      [7166, 10203, 10214, 10214, 10623, 10692, 1066...        723   \n4      [1167, 2383, 2299, 2294, 2381, 2390, 2384, 235...       1324   \n...                                                  ...        ...   \n18557  [1167, 35, 38, 41, 45, 91, 110, 134, 121, 125,...       1243   \n18558  [1167, 755, 694, 595, 574, 572, 428, 428, 475,...       1628   \n18559                 [1167, 180, 105, 166, 186, 67, 67]       1173   \n18560  [1167, 1261, 1148, 991, 989, 914, 941, 1701, 1...       1443   \n18561  [1167, 191, 192, 189, 214, 215, 220, 219, 212,...       1184   \n\n                                          distance_route  \\\n0      [23.479040480510506, 23.479040480510506, 26.97...   \n1      [1.141374091100897, 2.8522152887994903, 1.5389...   \n2      [0.0, 16.752201025499367, 1.501855696871057, 0...   \n3      [31.65996164052381, 0.43893999280403884, 0.0, ...   \n4      [8.678113362175365, 0.7124995743679728, 0.2457...   \n...                                                  ...   \n18557  [68.89851202059795, 1.2509793817380201, 4.9521...   \n18558  [11.01602482949159, 6.654913214140149, 8.85708...   \n18559  [54.0389092556839, 8.395552239732819, 15.20686...   \n18560  [8.593375524055487, 0.5755007431477985, 1.2338...   \n18561  [50.31198761409171, 0.07481280750535345, 4.285...   \n\n                                   distance_actual_route  \\\n0      [0.0, 23.479040480510506, 8.146314511821483, 3...   \n1      [1.141374091100897, 2.8522152887994903, 1.5389...   \n2      [0.0, 16.752201025499367, 1.501855696871057, 0...   \n3      [31.65996164052381, 0.43893999280403884, 0.0, ...   \n4      [10.893805973040553, 3.7200180786093084, 0.245...   \n...                                                  ...   \n18557  [68.89851202059795, 1.2509793817380201, 4.9521...   \n18558  [11.01602482949159, 6.654913214140149, 5.99532...   \n18559  [54.0389092556839, 8.395552239732819, 15.20686...   \n18560  [8.593375524055487, 0.5755007431477985, 1.2605...   \n18561  [50.34070909483395, 0.07481280750535345, 4.354...   \n\n       last_two_weeks_count  \\\n0                         8   \n1                         2   \n2                         8   \n3                         4   \n4                         4   \n...                     ...   \n18557                     1   \n18558                     1   \n18559                     1   \n18560                     1   \n18561                     1   \n\n                                             current_lat  \\\n0      [55.64641920439919, 55.32612200000001, 55.6464...   \n1      [55.64641920439919, 55.649076, 55.63469, 55.63...   \n2      [59.805664, 59.805664, 59.910491, 59.922304900...   \n3      [59.805664, 60.066484, 60.072593, 60.072593, 6...   \n4      [55.64641920439919, 55.77168, 55.766721, 55.76...   \n...                                                  ...   \n18557  [55.64641920439919, 54.696715, 54.6986631, 54....   \n18558  [55.64641920439919, 55.4871834, 55.4519557, 55...   \n18559  [55.64641920439919, 54.893049, 54.775049499999...   \n18560  [55.64641920439919, 55.652685, 55.644387, 55.6...   \n18561  [55.64641920439919, 54.9216487, 54.92115310000...   \n\n                                             current_lng day_of_week  \\\n0      [12.15372974969827, 11.9560479, 12.15372974969...      Monday   \n1      [12.15372974969827, 12.124935, 12.05662, 12.01...      Monday   \n2      [10.290383, 10.290383, 10.723998, 10.6877597, ...      Monday   \n3      [10.290383, 11.039009, 11.035613, 11.035613, 1...      Monday   \n4      [12.15372974969827, 12.165606, 12.181618, 12.1...      Monday   \n...                                                  ...         ...   \n18557  [12.15372974969827, 11.629326, 11.598282, 11.4...    Thursday   \n18558  [12.15372974969827, 12.1551468, 11.9975665, 11...    Thursday   \n18559  [12.15372974969827, 11.791921, 11.8411527, 11....    Thursday   \n18560  [12.15372974969827, 12.373122, 12.374162, 12.3...    Thursday   \n18561  [12.15372974969827, 12.0475591, 12.0492281, 12...    Thursday   \n\n            date  ... len country_flag driver_id_sorted day_of_week_encoded  \\\n0     2024-01-15  ...  16            1                7                   2   \n1     2024-01-15  ...  13            1              146                   2   \n2     2024-01-15  ...  13            0               23                   2   \n3     2024-01-15  ...   8            0              113                   2   \n4     2024-01-15  ...  13            1               27                   2   \n...          ...  ...  ..          ...              ...                 ...   \n18557 2024-08-07  ...  11            1               17                   5   \n18558 2024-08-07  ...  11            1              310                   5   \n18559 2024-08-07  ...   7            1              268                   5   \n18560 2024-08-07  ...  10            1              214                   5   \n18561 2024-08-08  ...  10            1                7                   5   \n\n                                     experience_feature  \\\n0      [8, 8, 8, 8, 8, 8, 8, 8, 8, 8, 8, 8, 8, 8, 8, 8]   \n1               [2, 2, 2, 2, 2, 2, 2, 2, 2, 2, 2, 2, 2]   \n2               [8, 8, 8, 8, 8, 8, 8, 8, 8, 8, 8, 8, 8]   \n3                              [4, 4, 4, 4, 4, 4, 4, 4]   \n4               [4, 4, 4, 4, 4, 4, 4, 4, 4, 4, 4, 4, 4]   \n...                                                 ...   \n18557                 [1, 1, 1, 1, 1, 1, 1, 1, 1, 1, 1]   \n18558                 [1, 1, 1, 1, 1, 1, 1, 1, 1, 1, 1]   \n18559                             [1, 1, 1, 1, 1, 1, 1]   \n18560                    [1, 1, 1, 1, 1, 1, 1, 1, 1, 1]   \n18561                    [1, 1, 1, 1, 1, 1, 1, 1, 1, 1]   \n\n                                             len_feature  \\\n0      [16, 16, 16, 16, 16, 16, 16, 16, 16, 16, 16, 1...   \n1      [13, 13, 13, 13, 13, 13, 13, 13, 13, 13, 13, 1...   \n2      [13, 13, 13, 13, 13, 13, 13, 13, 13, 13, 13, 1...   \n3                               [8, 8, 8, 8, 8, 8, 8, 8]   \n4      [13, 13, 13, 13, 13, 13, 13, 13, 13, 13, 13, 1...   \n...                                                  ...   \n18557       [11, 11, 11, 11, 11, 11, 11, 11, 11, 11, 11]   \n18558       [11, 11, 11, 11, 11, 11, 11, 11, 11, 11, 11]   \n18559                              [7, 7, 7, 7, 7, 7, 7]   \n18560           [10, 10, 10, 10, 10, 10, 10, 10, 10, 10]   \n18561           [10, 10, 10, 10, 10, 10, 10, 10, 10, 10]   \n\n                                       driver_id_feature  \\\n0       [7, 7, 7, 7, 7, 7, 7, 7, 7, 7, 7, 7, 7, 7, 7, 7]   \n1      [146, 146, 146, 146, 146, 146, 146, 146, 146, ...   \n2      [23, 23, 23, 23, 23, 23, 23, 23, 23, 23, 23, 2...   \n3               [113, 113, 113, 113, 113, 113, 113, 113]   \n4      [27, 27, 27, 27, 27, 27, 27, 27, 27, 27, 27, 2...   \n...                                                  ...   \n18557       [17, 17, 17, 17, 17, 17, 17, 17, 17, 17, 17]   \n18558  [310, 310, 310, 310, 310, 310, 310, 310, 310, ...   \n18559                [268, 268, 268, 268, 268, 268, 268]   \n18560  [214, 214, 214, 214, 214, 214, 214, 214, 214, ...   \n18561                     [7, 7, 7, 7, 7, 7, 7, 7, 7, 7]   \n\n                                   country_flag_feature  \\\n0      [1, 1, 1, 1, 1, 1, 1, 1, 1, 1, 1, 1, 1, 1, 1, 1]   \n1               [1, 1, 1, 1, 1, 1, 1, 1, 1, 1, 1, 1, 1]   \n2               [0, 0, 0, 0, 0, 0, 0, 0, 0, 0, 0, 0, 0]   \n3                              [0, 0, 0, 0, 0, 0, 0, 0]   \n4               [1, 1, 1, 1, 1, 1, 1, 1, 1, 1, 1, 1, 1]   \n...                                                 ...   \n18557                 [1, 1, 1, 1, 1, 1, 1, 1, 1, 1, 1]   \n18558                 [1, 1, 1, 1, 1, 1, 1, 1, 1, 1, 1]   \n18559                             [1, 1, 1, 1, 1, 1, 1]   \n18560                    [1, 1, 1, 1, 1, 1, 1, 1, 1, 1]   \n18561                    [1, 1, 1, 1, 1, 1, 1, 1, 1, 1]   \n\n                                     day_of_week_feature  \\\n0      [[0, 0, 0, 0, 0, 0, 0], [0, 0, 0, 0, 0, 0, 0],...   \n1      [[0, 0, 0, 0, 0, 0, 0], [0, 0, 0, 0, 0, 0, 0],...   \n2      [[0, 0, 0, 0, 0, 0, 0], [0, 0, 0, 0, 0, 0, 0],...   \n3      [[0, 0, 0, 0, 0, 0, 0], [0, 0, 0, 0, 0, 0, 0],...   \n4      [[0, 0, 0, 0, 0, 0, 0], [0, 0, 0, 0, 0, 0, 0],...   \n...                                                  ...   \n18557  [[0, 0, 0, 0, 0, 0, 0], [0, 0, 0, 0, 0, 0, 0],...   \n18558  [[0, 0, 0, 0, 0, 0, 0], [0, 0, 0, 0, 0, 0, 0],...   \n18559  [[0, 0, 0, 0, 0, 0, 0], [0, 0, 0, 0, 0, 0, 0],...   \n18560  [[0, 0, 0, 0, 0, 0, 0], [0, 0, 0, 0, 0, 0, 0],...   \n18561  [[0, 0, 0, 0, 0, 0, 0], [0, 0, 0, 0, 0, 0, 0],...   \n\n       day_of_week_encoded_ext  \n0        [0, 1, 0, 0, 0, 0, 0]  \n1        [0, 1, 0, 0, 0, 0, 0]  \n2        [0, 1, 0, 0, 0, 0, 0]  \n3        [0, 1, 0, 0, 0, 0, 0]  \n4        [0, 1, 0, 0, 0, 0, 0]  \n...                        ...  \n18557    [0, 0, 0, 0, 1, 0, 0]  \n18558    [0, 0, 0, 0, 1, 0, 0]  \n18559    [0, 0, 0, 0, 1, 0, 0]  \n18560    [0, 0, 0, 0, 1, 0, 0]  \n18561    [0, 0, 0, 0, 1, 0, 0]  \n\n[18562 rows x 28 columns]",
      "text/html": "<div>\n<style scoped>\n    .dataframe tbody tr th:only-of-type {\n        vertical-align: middle;\n    }\n\n    .dataframe tbody tr th {\n        vertical-align: top;\n    }\n\n    .dataframe thead th {\n        text-align: right;\n    }\n</style>\n<table border=\"1\" class=\"dataframe\">\n  <thead>\n    <tr style=\"text-align: right;\">\n      <th></th>\n      <th>routes</th>\n      <th>actual_routes</th>\n      <th>driver_id</th>\n      <th>distance_route</th>\n      <th>distance_actual_route</th>\n      <th>last_two_weeks_count</th>\n      <th>current_lat</th>\n      <th>current_lng</th>\n      <th>day_of_week</th>\n      <th>date</th>\n      <th>...</th>\n      <th>len</th>\n      <th>country_flag</th>\n      <th>driver_id_sorted</th>\n      <th>day_of_week_encoded</th>\n      <th>experience_feature</th>\n      <th>len_feature</th>\n      <th>driver_id_feature</th>\n      <th>country_flag_feature</th>\n      <th>day_of_week_feature</th>\n      <th>day_of_week_encoded_ext</th>\n    </tr>\n  </thead>\n  <tbody>\n    <tr>\n      <th>0</th>\n      <td>[1167, 574, 1167, 523, 473, 462, 444, 400, 190...</td>\n      <td>[1167, 1167, 574, 523, 473, 462, 444, 400, 190...</td>\n      <td>1184</td>\n      <td>[23.479040480510506, 23.479040480510506, 26.97...</td>\n      <td>[0.0, 23.479040480510506, 8.146314511821483, 3...</td>\n      <td>8</td>\n      <td>[55.64641920439919, 55.32612200000001, 55.6464...</td>\n      <td>[12.15372974969827, 11.9560479, 12.15372974969...</td>\n      <td>Monday</td>\n      <td>2024-01-15</td>\n      <td>...</td>\n      <td>16</td>\n      <td>1</td>\n      <td>7</td>\n      <td>2</td>\n      <td>[8, 8, 8, 8, 8, 8, 8, 8, 8, 8, 8, 8, 8, 8, 8, 8]</td>\n      <td>[16, 16, 16, 16, 16, 16, 16, 16, 16, 16, 16, 1...</td>\n      <td>[7, 7, 7, 7, 7, 7, 7, 7, 7, 7, 7, 7, 7, 7, 7, 7]</td>\n      <td>[1, 1, 1, 1, 1, 1, 1, 1, 1, 1, 1, 1, 1, 1, 1, 1]</td>\n      <td>[[0, 0, 0, 0, 0, 0, 0], [0, 0, 0, 0, 0, 0, 0],...</td>\n      <td>[0, 1, 0, 0, 0, 0, 0]</td>\n    </tr>\n    <tr>\n      <th>1</th>\n      <td>[1167, 1204, 1042, 1039, 1033, 1033, 1030, 127...</td>\n      <td>[1167, 1204, 1042, 1039, 1030, 1275, 962, 1033...</td>\n      <td>1486</td>\n      <td>[1.141374091100897, 2.8522152887994903, 1.5389...</td>\n      <td>[1.141374091100897, 2.8522152887994903, 1.5389...</td>\n      <td>2</td>\n      <td>[55.64641920439919, 55.649076, 55.63469, 55.63...</td>\n      <td>[12.15372974969827, 12.124935, 12.05662, 12.01...</td>\n      <td>Monday</td>\n      <td>2024-01-15</td>\n      <td>...</td>\n      <td>13</td>\n      <td>1</td>\n      <td>146</td>\n      <td>2</td>\n      <td>[2, 2, 2, 2, 2, 2, 2, 2, 2, 2, 2, 2, 2]</td>\n      <td>[13, 13, 13, 13, 13, 13, 13, 13, 13, 13, 13, 1...</td>\n      <td>[146, 146, 146, 146, 146, 146, 146, 146, 146, ...</td>\n      <td>[1, 1, 1, 1, 1, 1, 1, 1, 1, 1, 1, 1, 1]</td>\n      <td>[[0, 0, 0, 0, 0, 0, 0], [0, 0, 0, 0, 0, 0, 0],...</td>\n      <td>[0, 1, 0, 0, 0, 0, 0]</td>\n    </tr>\n    <tr>\n      <th>2</th>\n      <td>[7166, 7166, 8045, 8718, 8457, 8093, 8310, 840...</td>\n      <td>[7166, 7166, 8045, 8718, 8457, 8093, 8310, 840...</td>\n      <td>1432</td>\n      <td>[0.0, 16.752201025499367, 1.501855696871057, 0...</td>\n      <td>[0.0, 16.752201025499367, 1.501855696871057, 0...</td>\n      <td>8</td>\n      <td>[59.805664, 59.805664, 59.910491, 59.922304900...</td>\n      <td>[10.290383, 10.290383, 10.723998, 10.6877597, ...</td>\n      <td>Monday</td>\n      <td>2024-01-15</td>\n      <td>...</td>\n      <td>13</td>\n      <td>0</td>\n      <td>23</td>\n      <td>2</td>\n      <td>[8, 8, 8, 8, 8, 8, 8, 8, 8, 8, 8, 8, 8]</td>\n      <td>[13, 13, 13, 13, 13, 13, 13, 13, 13, 13, 13, 1...</td>\n      <td>[23, 23, 23, 23, 23, 23, 23, 23, 23, 23, 23, 2...</td>\n      <td>[0, 0, 0, 0, 0, 0, 0, 0, 0, 0, 0, 0, 0]</td>\n      <td>[[0, 0, 0, 0, 0, 0, 0], [0, 0, 0, 0, 0, 0, 0],...</td>\n      <td>[0, 1, 0, 0, 0, 0, 0]</td>\n    </tr>\n    <tr>\n      <th>3</th>\n      <td>[7166, 10203, 10214, 10214, 10623, 10692, 1066...</td>\n      <td>[7166, 10203, 10214, 10214, 10623, 10692, 1066...</td>\n      <td>723</td>\n      <td>[31.65996164052381, 0.43893999280403884, 0.0, ...</td>\n      <td>[31.65996164052381, 0.43893999280403884, 0.0, ...</td>\n      <td>4</td>\n      <td>[59.805664, 60.066484, 60.072593, 60.072593, 6...</td>\n      <td>[10.290383, 11.039009, 11.035613, 11.035613, 1...</td>\n      <td>Monday</td>\n      <td>2024-01-15</td>\n      <td>...</td>\n      <td>8</td>\n      <td>0</td>\n      <td>113</td>\n      <td>2</td>\n      <td>[4, 4, 4, 4, 4, 4, 4, 4]</td>\n      <td>[8, 8, 8, 8, 8, 8, 8, 8]</td>\n      <td>[113, 113, 113, 113, 113, 113, 113, 113]</td>\n      <td>[0, 0, 0, 0, 0, 0, 0, 0]</td>\n      <td>[[0, 0, 0, 0, 0, 0, 0], [0, 0, 0, 0, 0, 0, 0],...</td>\n      <td>[0, 1, 0, 0, 0, 0, 0]</td>\n    </tr>\n    <tr>\n      <th>4</th>\n      <td>[1167, 2331, 2299, 2294, 2383, 2385, 2397, 240...</td>\n      <td>[1167, 2383, 2299, 2294, 2381, 2390, 2384, 235...</td>\n      <td>1324</td>\n      <td>[8.678113362175365, 0.7124995743679728, 0.2457...</td>\n      <td>[10.893805973040553, 3.7200180786093084, 0.245...</td>\n      <td>4</td>\n      <td>[55.64641920439919, 55.77168, 55.766721, 55.76...</td>\n      <td>[12.15372974969827, 12.165606, 12.181618, 12.1...</td>\n      <td>Monday</td>\n      <td>2024-01-15</td>\n      <td>...</td>\n      <td>13</td>\n      <td>1</td>\n      <td>27</td>\n      <td>2</td>\n      <td>[4, 4, 4, 4, 4, 4, 4, 4, 4, 4, 4, 4, 4]</td>\n      <td>[13, 13, 13, 13, 13, 13, 13, 13, 13, 13, 13, 1...</td>\n      <td>[27, 27, 27, 27, 27, 27, 27, 27, 27, 27, 27, 2...</td>\n      <td>[1, 1, 1, 1, 1, 1, 1, 1, 1, 1, 1, 1, 1]</td>\n      <td>[[0, 0, 0, 0, 0, 0, 0], [0, 0, 0, 0, 0, 0, 0],...</td>\n      <td>[0, 1, 0, 0, 0, 0, 0]</td>\n    </tr>\n    <tr>\n      <th>...</th>\n      <td>...</td>\n      <td>...</td>\n      <td>...</td>\n      <td>...</td>\n      <td>...</td>\n      <td>...</td>\n      <td>...</td>\n      <td>...</td>\n      <td>...</td>\n      <td>...</td>\n      <td>...</td>\n      <td>...</td>\n      <td>...</td>\n      <td>...</td>\n      <td>...</td>\n      <td>...</td>\n      <td>...</td>\n      <td>...</td>\n      <td>...</td>\n      <td>...</td>\n      <td>...</td>\n    </tr>\n    <tr>\n      <th>18557</th>\n      <td>[1167, 35, 38, 41, 45, 91, 110, 134, 121, 125,...</td>\n      <td>[1167, 35, 38, 41, 45, 91, 110, 134, 121, 125,...</td>\n      <td>1243</td>\n      <td>[68.89851202059795, 1.2509793817380201, 4.9521...</td>\n      <td>[68.89851202059795, 1.2509793817380201, 4.9521...</td>\n      <td>1</td>\n      <td>[55.64641920439919, 54.696715, 54.6986631, 54....</td>\n      <td>[12.15372974969827, 11.629326, 11.598282, 11.4...</td>\n      <td>Thursday</td>\n      <td>2024-08-07</td>\n      <td>...</td>\n      <td>11</td>\n      <td>1</td>\n      <td>17</td>\n      <td>5</td>\n      <td>[1, 1, 1, 1, 1, 1, 1, 1, 1, 1, 1]</td>\n      <td>[11, 11, 11, 11, 11, 11, 11, 11, 11, 11, 11]</td>\n      <td>[17, 17, 17, 17, 17, 17, 17, 17, 17, 17, 17]</td>\n      <td>[1, 1, 1, 1, 1, 1, 1, 1, 1, 1, 1]</td>\n      <td>[[0, 0, 0, 0, 0, 0, 0], [0, 0, 0, 0, 0, 0, 0],...</td>\n      <td>[0, 0, 0, 0, 1, 0, 0]</td>\n    </tr>\n    <tr>\n      <th>18558</th>\n      <td>[1167, 755, 694, 574, 595, 572, 428, 428, 474,...</td>\n      <td>[1167, 755, 694, 595, 574, 572, 428, 428, 475,...</td>\n      <td>1628</td>\n      <td>[11.01602482949159, 6.654913214140149, 8.85708...</td>\n      <td>[11.01602482949159, 6.654913214140149, 5.99532...</td>\n      <td>1</td>\n      <td>[55.64641920439919, 55.4871834, 55.4519557, 55...</td>\n      <td>[12.15372974969827, 12.1551468, 11.9975665, 11...</td>\n      <td>Thursday</td>\n      <td>2024-08-07</td>\n      <td>...</td>\n      <td>11</td>\n      <td>1</td>\n      <td>310</td>\n      <td>5</td>\n      <td>[1, 1, 1, 1, 1, 1, 1, 1, 1, 1, 1]</td>\n      <td>[11, 11, 11, 11, 11, 11, 11, 11, 11, 11, 11]</td>\n      <td>[310, 310, 310, 310, 310, 310, 310, 310, 310, ...</td>\n      <td>[1, 1, 1, 1, 1, 1, 1, 1, 1, 1, 1]</td>\n      <td>[[0, 0, 0, 0, 0, 0, 0], [0, 0, 0, 0, 0, 0, 0],...</td>\n      <td>[0, 0, 0, 0, 1, 0, 0]</td>\n    </tr>\n    <tr>\n      <th>18559</th>\n      <td>[1167, 180, 105, 166, 186, 67, 67]</td>\n      <td>[1167, 180, 105, 166, 186, 67, 67]</td>\n      <td>1173</td>\n      <td>[54.0389092556839, 8.395552239732819, 15.20686...</td>\n      <td>[54.0389092556839, 8.395552239732819, 15.20686...</td>\n      <td>1</td>\n      <td>[55.64641920439919, 54.893049, 54.775049499999...</td>\n      <td>[12.15372974969827, 11.791921, 11.8411527, 11....</td>\n      <td>Thursday</td>\n      <td>2024-08-07</td>\n      <td>...</td>\n      <td>7</td>\n      <td>1</td>\n      <td>268</td>\n      <td>5</td>\n      <td>[1, 1, 1, 1, 1, 1, 1]</td>\n      <td>[7, 7, 7, 7, 7, 7, 7]</td>\n      <td>[268, 268, 268, 268, 268, 268, 268]</td>\n      <td>[1, 1, 1, 1, 1, 1, 1]</td>\n      <td>[[0, 0, 0, 0, 0, 0, 0], [0, 0, 0, 0, 0, 0, 0],...</td>\n      <td>[0, 0, 0, 0, 1, 0, 0]</td>\n    </tr>\n    <tr>\n      <th>18560</th>\n      <td>[1167, 1261, 1148, 989, 991, 914, 941, 1701, 1...</td>\n      <td>[1167, 1261, 1148, 991, 989, 914, 941, 1701, 1...</td>\n      <td>1443</td>\n      <td>[8.593375524055487, 0.5755007431477985, 1.2338...</td>\n      <td>[8.593375524055487, 0.5755007431477985, 1.2605...</td>\n      <td>1</td>\n      <td>[55.64641920439919, 55.652685, 55.644387, 55.6...</td>\n      <td>[12.15372974969827, 12.373122, 12.374162, 12.3...</td>\n      <td>Thursday</td>\n      <td>2024-08-07</td>\n      <td>...</td>\n      <td>10</td>\n      <td>1</td>\n      <td>214</td>\n      <td>5</td>\n      <td>[1, 1, 1, 1, 1, 1, 1, 1, 1, 1]</td>\n      <td>[10, 10, 10, 10, 10, 10, 10, 10, 10, 10]</td>\n      <td>[214, 214, 214, 214, 214, 214, 214, 214, 214, ...</td>\n      <td>[1, 1, 1, 1, 1, 1, 1, 1, 1, 1]</td>\n      <td>[[0, 0, 0, 0, 0, 0, 0], [0, 0, 0, 0, 0, 0, 0],...</td>\n      <td>[0, 0, 0, 0, 1, 0, 0]</td>\n    </tr>\n    <tr>\n      <th>18561</th>\n      <td>[1167, 192, 191, 189, 219, 220, 213, 212, 214,...</td>\n      <td>[1167, 191, 192, 189, 214, 215, 220, 219, 212,...</td>\n      <td>1184</td>\n      <td>[50.31198761409171, 0.07481280750535345, 4.285...</td>\n      <td>[50.34070909483395, 0.07481280750535345, 4.354...</td>\n      <td>1</td>\n      <td>[55.64641920439919, 54.9216487, 54.92115310000...</td>\n      <td>[12.15372974969827, 12.0475591, 12.0492281, 12...</td>\n      <td>Thursday</td>\n      <td>2024-08-08</td>\n      <td>...</td>\n      <td>10</td>\n      <td>1</td>\n      <td>7</td>\n      <td>5</td>\n      <td>[1, 1, 1, 1, 1, 1, 1, 1, 1, 1]</td>\n      <td>[10, 10, 10, 10, 10, 10, 10, 10, 10, 10]</td>\n      <td>[7, 7, 7, 7, 7, 7, 7, 7, 7, 7]</td>\n      <td>[1, 1, 1, 1, 1, 1, 1, 1, 1, 1]</td>\n      <td>[[0, 0, 0, 0, 0, 0, 0], [0, 0, 0, 0, 0, 0, 0],...</td>\n      <td>[0, 0, 0, 0, 1, 0, 0]</td>\n    </tr>\n  </tbody>\n</table>\n<p>18562 rows × 28 columns</p>\n</div>"
     },
     "execution_count": 42,
     "metadata": {},
     "output_type": "execute_result"
    }
   ],
   "source": [
    "final_routes['first_arrival'] = final_routes['arriving_time'].apply(lambda x: x[0])\n",
    "\n",
    "# Convert to datetime and sort\n",
    "final_routes['first_arrival'] = pd.to_datetime(final_routes['first_arrival'])\n",
    "final_routes = final_routes.sort_values('first_arrival').reset_index(drop=True)\n",
    "\n",
    "# Drop the temporary column\n",
    "final_routes = final_routes.drop('first_arrival', axis=1)\n",
    "final_routes"
   ],
   "metadata": {
    "collapsed": false,
    "pycharm": {
     "name": "#%%\n"
    }
   }
  },
  {
   "cell_type": "code",
   "execution_count": 43,
   "outputs": [],
   "source": [
    "# np.random.seed(42)\n",
    "# final_routes['date'] = pd.to_datetime(final_routes['date'])\n",
    "# final_routes['tie_breaker'] = range(len(final_routes))\n",
    "# final_routes = final_routes.sort_values(by=['date', 'tie_breaker'], ascending=[True, True])\n",
    "# final_routes = final_routes.reset_index(drop=True)\n",
    "# final_routes = final_routes.drop('tie_breaker', axis=1)\n",
    "# final_routes"
   ],
   "metadata": {
    "collapsed": false,
    "pycharm": {
     "name": "#%%\n"
    }
   }
  },
  {
   "cell_type": "code",
   "execution_count": 44,
   "outputs": [
    {
     "data": {
      "text/plain": "                                                  routes  \\\n0      [1167, 574, 1167, 523, 473, 462, 444, 400, 190...   \n1      [1167, 1204, 1042, 1039, 1033, 1033, 1030, 127...   \n2      [7166, 7166, 8045, 8718, 8457, 8093, 8310, 840...   \n3      [7166, 10203, 10214, 10214, 10623, 10692, 1066...   \n4      [1167, 2331, 2299, 2294, 2383, 2385, 2397, 240...   \n...                                                  ...   \n18557  [1167, 35, 38, 41, 45, 91, 110, 134, 121, 125,...   \n18558  [1167, 755, 694, 574, 595, 572, 428, 428, 474,...   \n18559                 [1167, 180, 105, 166, 186, 67, 67]   \n18560  [1167, 1261, 1148, 989, 991, 914, 941, 1701, 1...   \n18561  [1167, 192, 191, 189, 219, 220, 213, 212, 214,...   \n\n                                           actual_routes  driver_id  \\\n0      [1167, 1167, 574, 523, 473, 462, 444, 400, 190...       1184   \n1      [1167, 1204, 1042, 1039, 1030, 1275, 962, 1033...       1486   \n2      [7166, 7166, 8045, 8718, 8457, 8093, 8310, 840...       1432   \n3      [7166, 10203, 10214, 10214, 10623, 10692, 1066...        723   \n4      [1167, 2383, 2299, 2294, 2381, 2390, 2384, 235...       1324   \n...                                                  ...        ...   \n18557  [1167, 35, 38, 41, 45, 91, 110, 134, 121, 125,...       1243   \n18558  [1167, 755, 694, 595, 574, 572, 428, 428, 475,...       1628   \n18559                 [1167, 180, 105, 166, 186, 67, 67]       1173   \n18560  [1167, 1261, 1148, 991, 989, 914, 941, 1701, 1...       1443   \n18561  [1167, 191, 192, 189, 214, 215, 220, 219, 212,...       1184   \n\n                                          distance_route  \\\n0      [23.479040480510506, 23.479040480510506, 26.97...   \n1      [1.141374091100897, 2.8522152887994903, 1.5389...   \n2      [0.0, 16.752201025499367, 1.501855696871057, 0...   \n3      [31.65996164052381, 0.43893999280403884, 0.0, ...   \n4      [8.678113362175365, 0.7124995743679728, 0.2457...   \n...                                                  ...   \n18557  [68.89851202059795, 1.2509793817380201, 4.9521...   \n18558  [11.01602482949159, 6.654913214140149, 8.85708...   \n18559  [54.0389092556839, 8.395552239732819, 15.20686...   \n18560  [8.593375524055487, 0.5755007431477985, 1.2338...   \n18561  [50.31198761409171, 0.07481280750535345, 4.285...   \n\n                                   distance_actual_route  \\\n0      [0.0, 23.479040480510506, 8.146314511821483, 3...   \n1      [1.141374091100897, 2.8522152887994903, 1.5389...   \n2      [0.0, 16.752201025499367, 1.501855696871057, 0...   \n3      [31.65996164052381, 0.43893999280403884, 0.0, ...   \n4      [10.893805973040553, 3.7200180786093084, 0.245...   \n...                                                  ...   \n18557  [68.89851202059795, 1.2509793817380201, 4.9521...   \n18558  [11.01602482949159, 6.654913214140149, 5.99532...   \n18559  [54.0389092556839, 8.395552239732819, 15.20686...   \n18560  [8.593375524055487, 0.5755007431477985, 1.2605...   \n18561  [50.34070909483395, 0.07481280750535345, 4.354...   \n\n       last_two_weeks_count  \\\n0                         8   \n1                         2   \n2                         8   \n3                         4   \n4                         4   \n...                     ...   \n18557                     1   \n18558                     1   \n18559                     1   \n18560                     1   \n18561                     1   \n\n                                             current_lat  \\\n0      [55.64641920439919, 55.32612200000001, 55.6464...   \n1      [55.64641920439919, 55.649076, 55.63469, 55.63...   \n2      [59.805664, 59.805664, 59.910491, 59.922304900...   \n3      [59.805664, 60.066484, 60.072593, 60.072593, 6...   \n4      [55.64641920439919, 55.77168, 55.766721, 55.76...   \n...                                                  ...   \n18557  [55.64641920439919, 54.696715, 54.6986631, 54....   \n18558  [55.64641920439919, 55.4871834, 55.4519557, 55...   \n18559  [55.64641920439919, 54.893049, 54.775049499999...   \n18560  [55.64641920439919, 55.652685, 55.644387, 55.6...   \n18561  [55.64641920439919, 54.9216487, 54.92115310000...   \n\n                                             current_lng day_of_week  \\\n0      [12.15372974969827, 11.9560479, 12.15372974969...      Monday   \n1      [12.15372974969827, 12.124935, 12.05662, 12.01...      Monday   \n2      [10.290383, 10.290383, 10.723998, 10.6877597, ...      Monday   \n3      [10.290383, 11.039009, 11.035613, 11.035613, 1...      Monday   \n4      [12.15372974969827, 12.165606, 12.181618, 12.1...      Monday   \n...                                                  ...         ...   \n18557  [12.15372974969827, 11.629326, 11.598282, 11.4...    Thursday   \n18558  [12.15372974969827, 12.1551468, 11.9975665, 11...    Thursday   \n18559  [12.15372974969827, 11.791921, 11.8411527, 11....    Thursday   \n18560  [12.15372974969827, 12.373122, 12.374162, 12.3...    Thursday   \n18561  [12.15372974969827, 12.0475591, 12.0492281, 12...    Thursday   \n\n            date  ... len country_flag driver_id_sorted day_of_week_encoded  \\\n0     2024-01-15  ...  16            1                7                   2   \n1     2024-01-15  ...  13            1              146                   2   \n2     2024-01-15  ...  13            0               23                   2   \n3     2024-01-15  ...   8            0              113                   2   \n4     2024-01-15  ...  13            1               27                   2   \n...          ...  ...  ..          ...              ...                 ...   \n18557 2024-08-07  ...  11            1               17                   5   \n18558 2024-08-07  ...  11            1              310                   5   \n18559 2024-08-07  ...   7            1              268                   5   \n18560 2024-08-07  ...  10            1              214                   5   \n18561 2024-08-08  ...  10            1                7                   5   \n\n                                     experience_feature  \\\n0      [8, 8, 8, 8, 8, 8, 8, 8, 8, 8, 8, 8, 8, 8, 8, 8]   \n1               [2, 2, 2, 2, 2, 2, 2, 2, 2, 2, 2, 2, 2]   \n2               [8, 8, 8, 8, 8, 8, 8, 8, 8, 8, 8, 8, 8]   \n3                              [4, 4, 4, 4, 4, 4, 4, 4]   \n4               [4, 4, 4, 4, 4, 4, 4, 4, 4, 4, 4, 4, 4]   \n...                                                 ...   \n18557                 [1, 1, 1, 1, 1, 1, 1, 1, 1, 1, 1]   \n18558                 [1, 1, 1, 1, 1, 1, 1, 1, 1, 1, 1]   \n18559                             [1, 1, 1, 1, 1, 1, 1]   \n18560                    [1, 1, 1, 1, 1, 1, 1, 1, 1, 1]   \n18561                    [1, 1, 1, 1, 1, 1, 1, 1, 1, 1]   \n\n                                             len_feature  \\\n0      [16, 16, 16, 16, 16, 16, 16, 16, 16, 16, 16, 1...   \n1      [13, 13, 13, 13, 13, 13, 13, 13, 13, 13, 13, 1...   \n2      [13, 13, 13, 13, 13, 13, 13, 13, 13, 13, 13, 1...   \n3                               [8, 8, 8, 8, 8, 8, 8, 8]   \n4      [13, 13, 13, 13, 13, 13, 13, 13, 13, 13, 13, 1...   \n...                                                  ...   \n18557       [11, 11, 11, 11, 11, 11, 11, 11, 11, 11, 11]   \n18558       [11, 11, 11, 11, 11, 11, 11, 11, 11, 11, 11]   \n18559                              [7, 7, 7, 7, 7, 7, 7]   \n18560           [10, 10, 10, 10, 10, 10, 10, 10, 10, 10]   \n18561           [10, 10, 10, 10, 10, 10, 10, 10, 10, 10]   \n\n                                       driver_id_feature  \\\n0       [7, 7, 7, 7, 7, 7, 7, 7, 7, 7, 7, 7, 7, 7, 7, 7]   \n1      [146, 146, 146, 146, 146, 146, 146, 146, 146, ...   \n2      [23, 23, 23, 23, 23, 23, 23, 23, 23, 23, 23, 2...   \n3               [113, 113, 113, 113, 113, 113, 113, 113]   \n4      [27, 27, 27, 27, 27, 27, 27, 27, 27, 27, 27, 2...   \n...                                                  ...   \n18557       [17, 17, 17, 17, 17, 17, 17, 17, 17, 17, 17]   \n18558  [310, 310, 310, 310, 310, 310, 310, 310, 310, ...   \n18559                [268, 268, 268, 268, 268, 268, 268]   \n18560  [214, 214, 214, 214, 214, 214, 214, 214, 214, ...   \n18561                     [7, 7, 7, 7, 7, 7, 7, 7, 7, 7]   \n\n                                   country_flag_feature  \\\n0      [1, 1, 1, 1, 1, 1, 1, 1, 1, 1, 1, 1, 1, 1, 1, 1]   \n1               [1, 1, 1, 1, 1, 1, 1, 1, 1, 1, 1, 1, 1]   \n2               [0, 0, 0, 0, 0, 0, 0, 0, 0, 0, 0, 0, 0]   \n3                              [0, 0, 0, 0, 0, 0, 0, 0]   \n4               [1, 1, 1, 1, 1, 1, 1, 1, 1, 1, 1, 1, 1]   \n...                                                 ...   \n18557                 [1, 1, 1, 1, 1, 1, 1, 1, 1, 1, 1]   \n18558                 [1, 1, 1, 1, 1, 1, 1, 1, 1, 1, 1]   \n18559                             [1, 1, 1, 1, 1, 1, 1]   \n18560                    [1, 1, 1, 1, 1, 1, 1, 1, 1, 1]   \n18561                    [1, 1, 1, 1, 1, 1, 1, 1, 1, 1]   \n\n                                     day_of_week_feature  \\\n0      [[0, 0, 0, 0, 0, 0, 0], [0, 0, 0, 0, 0, 0, 0],...   \n1      [[0, 0, 0, 0, 0, 0, 0], [0, 0, 0, 0, 0, 0, 0],...   \n2      [[0, 0, 0, 0, 0, 0, 0], [0, 0, 0, 0, 0, 0, 0],...   \n3      [[0, 0, 0, 0, 0, 0, 0], [0, 0, 0, 0, 0, 0, 0],...   \n4      [[0, 0, 0, 0, 0, 0, 0], [0, 0, 0, 0, 0, 0, 0],...   \n...                                                  ...   \n18557  [[0, 0, 0, 0, 0, 0, 0], [0, 0, 0, 0, 0, 0, 0],...   \n18558  [[0, 0, 0, 0, 0, 0, 0], [0, 0, 0, 0, 0, 0, 0],...   \n18559  [[0, 0, 0, 0, 0, 0, 0], [0, 0, 0, 0, 0, 0, 0],...   \n18560  [[0, 0, 0, 0, 0, 0, 0], [0, 0, 0, 0, 0, 0, 0],...   \n18561  [[0, 0, 0, 0, 0, 0, 0], [0, 0, 0, 0, 0, 0, 0],...   \n\n       day_of_week_encoded_ext  \n0        [0, 1, 0, 0, 0, 0, 0]  \n1        [0, 1, 0, 0, 0, 0, 0]  \n2        [0, 1, 0, 0, 0, 0, 0]  \n3        [0, 1, 0, 0, 0, 0, 0]  \n4        [0, 1, 0, 0, 0, 0, 0]  \n...                        ...  \n18557    [0, 0, 0, 0, 1, 0, 0]  \n18558    [0, 0, 0, 0, 1, 0, 0]  \n18559    [0, 0, 0, 0, 1, 0, 0]  \n18560    [0, 0, 0, 0, 1, 0, 0]  \n18561    [0, 0, 0, 0, 1, 0, 0]  \n\n[18562 rows x 28 columns]",
      "text/html": "<div>\n<style scoped>\n    .dataframe tbody tr th:only-of-type {\n        vertical-align: middle;\n    }\n\n    .dataframe tbody tr th {\n        vertical-align: top;\n    }\n\n    .dataframe thead th {\n        text-align: right;\n    }\n</style>\n<table border=\"1\" class=\"dataframe\">\n  <thead>\n    <tr style=\"text-align: right;\">\n      <th></th>\n      <th>routes</th>\n      <th>actual_routes</th>\n      <th>driver_id</th>\n      <th>distance_route</th>\n      <th>distance_actual_route</th>\n      <th>last_two_weeks_count</th>\n      <th>current_lat</th>\n      <th>current_lng</th>\n      <th>day_of_week</th>\n      <th>date</th>\n      <th>...</th>\n      <th>len</th>\n      <th>country_flag</th>\n      <th>driver_id_sorted</th>\n      <th>day_of_week_encoded</th>\n      <th>experience_feature</th>\n      <th>len_feature</th>\n      <th>driver_id_feature</th>\n      <th>country_flag_feature</th>\n      <th>day_of_week_feature</th>\n      <th>day_of_week_encoded_ext</th>\n    </tr>\n  </thead>\n  <tbody>\n    <tr>\n      <th>0</th>\n      <td>[1167, 574, 1167, 523, 473, 462, 444, 400, 190...</td>\n      <td>[1167, 1167, 574, 523, 473, 462, 444, 400, 190...</td>\n      <td>1184</td>\n      <td>[23.479040480510506, 23.479040480510506, 26.97...</td>\n      <td>[0.0, 23.479040480510506, 8.146314511821483, 3...</td>\n      <td>8</td>\n      <td>[55.64641920439919, 55.32612200000001, 55.6464...</td>\n      <td>[12.15372974969827, 11.9560479, 12.15372974969...</td>\n      <td>Monday</td>\n      <td>2024-01-15</td>\n      <td>...</td>\n      <td>16</td>\n      <td>1</td>\n      <td>7</td>\n      <td>2</td>\n      <td>[8, 8, 8, 8, 8, 8, 8, 8, 8, 8, 8, 8, 8, 8, 8, 8]</td>\n      <td>[16, 16, 16, 16, 16, 16, 16, 16, 16, 16, 16, 1...</td>\n      <td>[7, 7, 7, 7, 7, 7, 7, 7, 7, 7, 7, 7, 7, 7, 7, 7]</td>\n      <td>[1, 1, 1, 1, 1, 1, 1, 1, 1, 1, 1, 1, 1, 1, 1, 1]</td>\n      <td>[[0, 0, 0, 0, 0, 0, 0], [0, 0, 0, 0, 0, 0, 0],...</td>\n      <td>[0, 1, 0, 0, 0, 0, 0]</td>\n    </tr>\n    <tr>\n      <th>1</th>\n      <td>[1167, 1204, 1042, 1039, 1033, 1033, 1030, 127...</td>\n      <td>[1167, 1204, 1042, 1039, 1030, 1275, 962, 1033...</td>\n      <td>1486</td>\n      <td>[1.141374091100897, 2.8522152887994903, 1.5389...</td>\n      <td>[1.141374091100897, 2.8522152887994903, 1.5389...</td>\n      <td>2</td>\n      <td>[55.64641920439919, 55.649076, 55.63469, 55.63...</td>\n      <td>[12.15372974969827, 12.124935, 12.05662, 12.01...</td>\n      <td>Monday</td>\n      <td>2024-01-15</td>\n      <td>...</td>\n      <td>13</td>\n      <td>1</td>\n      <td>146</td>\n      <td>2</td>\n      <td>[2, 2, 2, 2, 2, 2, 2, 2, 2, 2, 2, 2, 2]</td>\n      <td>[13, 13, 13, 13, 13, 13, 13, 13, 13, 13, 13, 1...</td>\n      <td>[146, 146, 146, 146, 146, 146, 146, 146, 146, ...</td>\n      <td>[1, 1, 1, 1, 1, 1, 1, 1, 1, 1, 1, 1, 1]</td>\n      <td>[[0, 0, 0, 0, 0, 0, 0], [0, 0, 0, 0, 0, 0, 0],...</td>\n      <td>[0, 1, 0, 0, 0, 0, 0]</td>\n    </tr>\n    <tr>\n      <th>2</th>\n      <td>[7166, 7166, 8045, 8718, 8457, 8093, 8310, 840...</td>\n      <td>[7166, 7166, 8045, 8718, 8457, 8093, 8310, 840...</td>\n      <td>1432</td>\n      <td>[0.0, 16.752201025499367, 1.501855696871057, 0...</td>\n      <td>[0.0, 16.752201025499367, 1.501855696871057, 0...</td>\n      <td>8</td>\n      <td>[59.805664, 59.805664, 59.910491, 59.922304900...</td>\n      <td>[10.290383, 10.290383, 10.723998, 10.6877597, ...</td>\n      <td>Monday</td>\n      <td>2024-01-15</td>\n      <td>...</td>\n      <td>13</td>\n      <td>0</td>\n      <td>23</td>\n      <td>2</td>\n      <td>[8, 8, 8, 8, 8, 8, 8, 8, 8, 8, 8, 8, 8]</td>\n      <td>[13, 13, 13, 13, 13, 13, 13, 13, 13, 13, 13, 1...</td>\n      <td>[23, 23, 23, 23, 23, 23, 23, 23, 23, 23, 23, 2...</td>\n      <td>[0, 0, 0, 0, 0, 0, 0, 0, 0, 0, 0, 0, 0]</td>\n      <td>[[0, 0, 0, 0, 0, 0, 0], [0, 0, 0, 0, 0, 0, 0],...</td>\n      <td>[0, 1, 0, 0, 0, 0, 0]</td>\n    </tr>\n    <tr>\n      <th>3</th>\n      <td>[7166, 10203, 10214, 10214, 10623, 10692, 1066...</td>\n      <td>[7166, 10203, 10214, 10214, 10623, 10692, 1066...</td>\n      <td>723</td>\n      <td>[31.65996164052381, 0.43893999280403884, 0.0, ...</td>\n      <td>[31.65996164052381, 0.43893999280403884, 0.0, ...</td>\n      <td>4</td>\n      <td>[59.805664, 60.066484, 60.072593, 60.072593, 6...</td>\n      <td>[10.290383, 11.039009, 11.035613, 11.035613, 1...</td>\n      <td>Monday</td>\n      <td>2024-01-15</td>\n      <td>...</td>\n      <td>8</td>\n      <td>0</td>\n      <td>113</td>\n      <td>2</td>\n      <td>[4, 4, 4, 4, 4, 4, 4, 4]</td>\n      <td>[8, 8, 8, 8, 8, 8, 8, 8]</td>\n      <td>[113, 113, 113, 113, 113, 113, 113, 113]</td>\n      <td>[0, 0, 0, 0, 0, 0, 0, 0]</td>\n      <td>[[0, 0, 0, 0, 0, 0, 0], [0, 0, 0, 0, 0, 0, 0],...</td>\n      <td>[0, 1, 0, 0, 0, 0, 0]</td>\n    </tr>\n    <tr>\n      <th>4</th>\n      <td>[1167, 2331, 2299, 2294, 2383, 2385, 2397, 240...</td>\n      <td>[1167, 2383, 2299, 2294, 2381, 2390, 2384, 235...</td>\n      <td>1324</td>\n      <td>[8.678113362175365, 0.7124995743679728, 0.2457...</td>\n      <td>[10.893805973040553, 3.7200180786093084, 0.245...</td>\n      <td>4</td>\n      <td>[55.64641920439919, 55.77168, 55.766721, 55.76...</td>\n      <td>[12.15372974969827, 12.165606, 12.181618, 12.1...</td>\n      <td>Monday</td>\n      <td>2024-01-15</td>\n      <td>...</td>\n      <td>13</td>\n      <td>1</td>\n      <td>27</td>\n      <td>2</td>\n      <td>[4, 4, 4, 4, 4, 4, 4, 4, 4, 4, 4, 4, 4]</td>\n      <td>[13, 13, 13, 13, 13, 13, 13, 13, 13, 13, 13, 1...</td>\n      <td>[27, 27, 27, 27, 27, 27, 27, 27, 27, 27, 27, 2...</td>\n      <td>[1, 1, 1, 1, 1, 1, 1, 1, 1, 1, 1, 1, 1]</td>\n      <td>[[0, 0, 0, 0, 0, 0, 0], [0, 0, 0, 0, 0, 0, 0],...</td>\n      <td>[0, 1, 0, 0, 0, 0, 0]</td>\n    </tr>\n    <tr>\n      <th>...</th>\n      <td>...</td>\n      <td>...</td>\n      <td>...</td>\n      <td>...</td>\n      <td>...</td>\n      <td>...</td>\n      <td>...</td>\n      <td>...</td>\n      <td>...</td>\n      <td>...</td>\n      <td>...</td>\n      <td>...</td>\n      <td>...</td>\n      <td>...</td>\n      <td>...</td>\n      <td>...</td>\n      <td>...</td>\n      <td>...</td>\n      <td>...</td>\n      <td>...</td>\n      <td>...</td>\n    </tr>\n    <tr>\n      <th>18557</th>\n      <td>[1167, 35, 38, 41, 45, 91, 110, 134, 121, 125,...</td>\n      <td>[1167, 35, 38, 41, 45, 91, 110, 134, 121, 125,...</td>\n      <td>1243</td>\n      <td>[68.89851202059795, 1.2509793817380201, 4.9521...</td>\n      <td>[68.89851202059795, 1.2509793817380201, 4.9521...</td>\n      <td>1</td>\n      <td>[55.64641920439919, 54.696715, 54.6986631, 54....</td>\n      <td>[12.15372974969827, 11.629326, 11.598282, 11.4...</td>\n      <td>Thursday</td>\n      <td>2024-08-07</td>\n      <td>...</td>\n      <td>11</td>\n      <td>1</td>\n      <td>17</td>\n      <td>5</td>\n      <td>[1, 1, 1, 1, 1, 1, 1, 1, 1, 1, 1]</td>\n      <td>[11, 11, 11, 11, 11, 11, 11, 11, 11, 11, 11]</td>\n      <td>[17, 17, 17, 17, 17, 17, 17, 17, 17, 17, 17]</td>\n      <td>[1, 1, 1, 1, 1, 1, 1, 1, 1, 1, 1]</td>\n      <td>[[0, 0, 0, 0, 0, 0, 0], [0, 0, 0, 0, 0, 0, 0],...</td>\n      <td>[0, 0, 0, 0, 1, 0, 0]</td>\n    </tr>\n    <tr>\n      <th>18558</th>\n      <td>[1167, 755, 694, 574, 595, 572, 428, 428, 474,...</td>\n      <td>[1167, 755, 694, 595, 574, 572, 428, 428, 475,...</td>\n      <td>1628</td>\n      <td>[11.01602482949159, 6.654913214140149, 8.85708...</td>\n      <td>[11.01602482949159, 6.654913214140149, 5.99532...</td>\n      <td>1</td>\n      <td>[55.64641920439919, 55.4871834, 55.4519557, 55...</td>\n      <td>[12.15372974969827, 12.1551468, 11.9975665, 11...</td>\n      <td>Thursday</td>\n      <td>2024-08-07</td>\n      <td>...</td>\n      <td>11</td>\n      <td>1</td>\n      <td>310</td>\n      <td>5</td>\n      <td>[1, 1, 1, 1, 1, 1, 1, 1, 1, 1, 1]</td>\n      <td>[11, 11, 11, 11, 11, 11, 11, 11, 11, 11, 11]</td>\n      <td>[310, 310, 310, 310, 310, 310, 310, 310, 310, ...</td>\n      <td>[1, 1, 1, 1, 1, 1, 1, 1, 1, 1, 1]</td>\n      <td>[[0, 0, 0, 0, 0, 0, 0], [0, 0, 0, 0, 0, 0, 0],...</td>\n      <td>[0, 0, 0, 0, 1, 0, 0]</td>\n    </tr>\n    <tr>\n      <th>18559</th>\n      <td>[1167, 180, 105, 166, 186, 67, 67]</td>\n      <td>[1167, 180, 105, 166, 186, 67, 67]</td>\n      <td>1173</td>\n      <td>[54.0389092556839, 8.395552239732819, 15.20686...</td>\n      <td>[54.0389092556839, 8.395552239732819, 15.20686...</td>\n      <td>1</td>\n      <td>[55.64641920439919, 54.893049, 54.775049499999...</td>\n      <td>[12.15372974969827, 11.791921, 11.8411527, 11....</td>\n      <td>Thursday</td>\n      <td>2024-08-07</td>\n      <td>...</td>\n      <td>7</td>\n      <td>1</td>\n      <td>268</td>\n      <td>5</td>\n      <td>[1, 1, 1, 1, 1, 1, 1]</td>\n      <td>[7, 7, 7, 7, 7, 7, 7]</td>\n      <td>[268, 268, 268, 268, 268, 268, 268]</td>\n      <td>[1, 1, 1, 1, 1, 1, 1]</td>\n      <td>[[0, 0, 0, 0, 0, 0, 0], [0, 0, 0, 0, 0, 0, 0],...</td>\n      <td>[0, 0, 0, 0, 1, 0, 0]</td>\n    </tr>\n    <tr>\n      <th>18560</th>\n      <td>[1167, 1261, 1148, 989, 991, 914, 941, 1701, 1...</td>\n      <td>[1167, 1261, 1148, 991, 989, 914, 941, 1701, 1...</td>\n      <td>1443</td>\n      <td>[8.593375524055487, 0.5755007431477985, 1.2338...</td>\n      <td>[8.593375524055487, 0.5755007431477985, 1.2605...</td>\n      <td>1</td>\n      <td>[55.64641920439919, 55.652685, 55.644387, 55.6...</td>\n      <td>[12.15372974969827, 12.373122, 12.374162, 12.3...</td>\n      <td>Thursday</td>\n      <td>2024-08-07</td>\n      <td>...</td>\n      <td>10</td>\n      <td>1</td>\n      <td>214</td>\n      <td>5</td>\n      <td>[1, 1, 1, 1, 1, 1, 1, 1, 1, 1]</td>\n      <td>[10, 10, 10, 10, 10, 10, 10, 10, 10, 10]</td>\n      <td>[214, 214, 214, 214, 214, 214, 214, 214, 214, ...</td>\n      <td>[1, 1, 1, 1, 1, 1, 1, 1, 1, 1]</td>\n      <td>[[0, 0, 0, 0, 0, 0, 0], [0, 0, 0, 0, 0, 0, 0],...</td>\n      <td>[0, 0, 0, 0, 1, 0, 0]</td>\n    </tr>\n    <tr>\n      <th>18561</th>\n      <td>[1167, 192, 191, 189, 219, 220, 213, 212, 214,...</td>\n      <td>[1167, 191, 192, 189, 214, 215, 220, 219, 212,...</td>\n      <td>1184</td>\n      <td>[50.31198761409171, 0.07481280750535345, 4.285...</td>\n      <td>[50.34070909483395, 0.07481280750535345, 4.354...</td>\n      <td>1</td>\n      <td>[55.64641920439919, 54.9216487, 54.92115310000...</td>\n      <td>[12.15372974969827, 12.0475591, 12.0492281, 12...</td>\n      <td>Thursday</td>\n      <td>2024-08-08</td>\n      <td>...</td>\n      <td>10</td>\n      <td>1</td>\n      <td>7</td>\n      <td>5</td>\n      <td>[1, 1, 1, 1, 1, 1, 1, 1, 1, 1]</td>\n      <td>[10, 10, 10, 10, 10, 10, 10, 10, 10, 10]</td>\n      <td>[7, 7, 7, 7, 7, 7, 7, 7, 7, 7]</td>\n      <td>[1, 1, 1, 1, 1, 1, 1, 1, 1, 1]</td>\n      <td>[[0, 0, 0, 0, 0, 0, 0], [0, 0, 0, 0, 0, 0, 0],...</td>\n      <td>[0, 0, 0, 0, 1, 0, 0]</td>\n    </tr>\n  </tbody>\n</table>\n<p>18562 rows × 28 columns</p>\n</div>"
     },
     "execution_count": 44,
     "metadata": {},
     "output_type": "execute_result"
    }
   ],
   "source": [
    "final_routes"
   ],
   "metadata": {
    "collapsed": false,
    "pycharm": {
     "name": "#%%\n"
    }
   }
  },
  {
   "cell_type": "code",
   "execution_count": 37,
   "outputs": [
    {
     "name": "stdout",
     "output_type": "stream",
     "text": [
      "['2024-01-15 02:30:31.162054+00', '2024-01-15 03:37:34.655985+00', '2024-01-15 02:33:18.999068+00', '2024-01-15 04:21:40.479367+00', '2024-01-15 04:42:08.083062+00', '2024-01-15 05:27:38.858569+00', '2024-01-15 05:41:08.376625+00', '2024-01-15 06:17:27.001502+00', '2024-01-15 07:06:52.536473+00', '2024-01-15 07:59:54.966326+00', '2024-01-15 07:51:59.351042+00', '2024-01-15 09:22:28.131422+00', '2024-01-15 09:30:07.68767+00', '2024-01-15 08:45:53.218983+00', '2024-01-15 08:37:35.625759+00', '2024-01-15 08:19:42.279029+00'] [0.0, 4023.493931, 167.837014, 6669.317313, 7896.921008, 10627.696515, 11437.214571, 13615.839448, 16581.374419, 19763.804272, 19288.188988, 24716.969368, 25176.525616, 22522.056929, 22024.463705, 20951.116975]\n"
     ]
    },
    {
     "ename": "TypeError",
     "evalue": "exceptions must derive from BaseException",
     "output_type": "error",
     "traceback": [
      "\u001B[0;31m---------------------------------------------------------------------------\u001B[0m",
      "\u001B[0;31mTypeError\u001B[0m                                 Traceback (most recent call last)",
      "Cell \u001B[0;32mIn[37], line 61\u001B[0m\n\u001B[1;32m     43\u001B[0m             rows\u001B[38;5;241m.\u001B[39mappend({\n\u001B[1;32m     44\u001B[0m                 \u001B[38;5;124m'\u001B[39m\u001B[38;5;124mRoute ID\u001B[39m\u001B[38;5;124m'\u001B[39m: route_id,\n\u001B[1;32m     45\u001B[0m                 \u001B[38;5;124m'\u001B[39m\u001B[38;5;124mDriver ID\u001B[39m\u001B[38;5;124m'\u001B[39m: driver_id,\n\u001B[0;32m   (...)\u001B[0m\n\u001B[1;32m     56\u001B[0m                 \u001B[38;5;124m'\u001B[39m\u001B[38;5;124mDistanceA\u001B[39m\u001B[38;5;124m'\u001B[39m: actual_distance\n\u001B[1;32m     57\u001B[0m             })\n\u001B[1;32m     59\u001B[0m     \u001B[38;5;28;01mreturn\u001B[39;00m pd\u001B[38;5;241m.\u001B[39mDataFrame(rows)\n\u001B[0;32m---> 61\u001B[0m newdf \u001B[38;5;241m=\u001B[39m \u001B[43manalyze_routes\u001B[49m\u001B[43m(\u001B[49m\u001B[43mfinal_routes\u001B[49m\u001B[43m)\u001B[49m\n\u001B[1;32m     62\u001B[0m newdf\u001B[38;5;241m.\u001B[39mto_csv(\u001B[38;5;124m'\u001B[39m\u001B[38;5;124mroutes_driver_analysis.csv\u001B[39m\u001B[38;5;124m'\u001B[39m, index\u001B[38;5;241m=\u001B[39m\u001B[38;5;28;01mFalse\u001B[39;00m)\n",
      "Cell \u001B[0;32mIn[37], line 25\u001B[0m, in \u001B[0;36manalyze_routes\u001B[0;34m(df)\u001B[0m\n\u001B[1;32m     22\u001B[0m arr_durations \u001B[38;5;241m=\u001B[39m [(t \u001B[38;5;241m-\u001B[39m arr_times[\u001B[38;5;241m0\u001B[39m])\u001B[38;5;241m.\u001B[39mtotal_seconds()  \u001B[38;5;28;01mfor\u001B[39;00m t \u001B[38;5;129;01min\u001B[39;00m arr_times]\n\u001B[1;32m     24\u001B[0m \u001B[38;5;28mprint\u001B[39m(arriving_times, arr_durations)\n\u001B[0;32m---> 25\u001B[0m \u001B[38;5;28;01mraise\u001B[39;00m \u001B[38;5;124m'\u001B[39m\u001B[38;5;124mere\u001B[39m\u001B[38;5;124m'\u001B[39m\n\u001B[1;32m     27\u001B[0m \u001B[38;5;28mmap\u001B[39m \u001B[38;5;241m=\u001B[39m defaultdict(\u001B[38;5;28;01mlambda\u001B[39;00m: [])\n\u001B[1;32m     28\u001B[0m \u001B[38;5;28;01mfor\u001B[39;00m i \u001B[38;5;129;01min\u001B[39;00m \u001B[38;5;28mrange\u001B[39m(\u001B[38;5;28mlen\u001B[39m(planned_real)):\n",
      "\u001B[0;31mTypeError\u001B[0m: exceptions must derive from BaseException"
     ]
    }
   ],
   "source": [
    "from collections import defaultdict\n",
    "\n",
    "def analyze_routes(df):\n",
    "    rows = []\n",
    "\n",
    "    for idx, row in df.iterrows():\n",
    "        route_id = idx\n",
    "        driver_id = row['driver_id_sorted']\n",
    "        planned_real = row['planned_route_location']\n",
    "        actual_real = row['actual_route_unique']\n",
    "        arriving_times = row['arriving_time']\n",
    "        planned_distances = row['distance_route']\n",
    "        actual_distances = row['distance_actual_route']\n",
    "        country_flag = row['country_flag']\n",
    "        day_of_week = row['day_of_week']\n",
    "        date = row['date']\n",
    "        experience = row['last_two_weeks_count']\n",
    "        is_depot = row['location_is_depot']\n",
    "        craft_id = row['routes']\n",
    "\n",
    "        #times\n",
    "        arr_times = [pd.to_datetime(ts) for ts in arriving_times]\n",
    "        earliest_times = [pd.to_datetime(ts) for ts in row['earliest_times']]\n",
    "        latest_times = [pd.to_datetime(ts) for ts in row['latest_times']]\n",
    "        all_times = [arr_times, earliest_times, latest_times]\n",
    "        arr_durations = [(t - arr_times[0]).total_seconds()  for t in arr_times]\n",
    "\n",
    "        #indexes\n",
    "        map = defaultdict(lambda: [])\n",
    "        for i in range(len(planned_real)):\n",
    "            map[planned_real[i]].append(i)\n",
    "\n",
    "        map_index = defaultdict(lambda: 0)\n",
    "\n",
    "        for (idx, stop) in enumerate(actual_real):\n",
    "            planned_index = idx\n",
    "            planned_distance = 0 if planned_index == 0 else planned_distances[planned_index - 1]\n",
    "            if stop in map:\n",
    "                actual_index = map[stop][map_index[stop]]\n",
    "                map_index[stop] += 1\n",
    "            else:\n",
    "                actual_index = planned_real.index(stop)\n",
    "            actual_distance = 0 if actual_index == 0 else actual_distances[actual_index - 1]\n",
    "\n",
    "            rows.append({\n",
    "                'Route ID': route_id,\n",
    "                'Driver ID': driver_id,\n",
    "                'Country': country_flag,\n",
    "                'Day of Week': day_of_week,\n",
    "                'Stop ID': stop-1,\n",
    "                'Location ID': craft_id[idx],\n",
    "                'IndexP': planned_index,\n",
    "                'IndexA': actual_index,\n",
    "                'Visit Time': visit_time,\n",
    "                'DistanceP': planned_distance,\n",
    "                'DistanceA': actual_distance\n",
    "            })\n",
    "\n",
    "    return pd.DataFrame(rows)\n",
    "\n",
    "newdf = analyze_routes(final_routes)\n",
    "newdf.to_csv('routes_driver_analysis.csv', index=False)"
   ],
   "metadata": {
    "collapsed": false,
    "pycharm": {
     "name": "#%%\n"
    }
   }
  },
  {
   "cell_type": "code",
   "execution_count": 28,
   "outputs": [
    {
     "data": {
      "text/plain": "                                                  routes  \\\n0      [1, 1385, 1, 1386, 1387, 49, 1388, 50, 9229, 4...   \n1      [1, 1171, 1172, 1173, 1954, 1954, 4762, 1183, ...   \n2      [287, 287, 288, 289, 290, 291, 292, 293, 294, ...   \n3         [287, 1419, 1420, 1420, 1421, 1422, 1423, 287]   \n4      [1, 3787, 3785, 3784, 3781, 3780, 3782, 3783, ...   \n...                                                  ...   \n18557  [1, 4270, 5391, 3861, 4651, 2736, 4652, 2734, ...   \n18558  [1, 189, 36, 1385, 1017, 1923, 3098, 3098, 283...   \n18559            [1, 4192, 7423, 4234, 5627, 8571, 8571]   \n18560  [1, 6852, 3912, 3908, 3907, 3915, 3916, 6226, ...   \n18561   [1, 10694, 51, 1393, 55, 56, 1390, 2443, 53, 54]   \n\n                                           actual_routes  driver_id  \\\n0      [1, 1385, 1, 1386, 1387, 49, 1388, 50, 9229, 4...       1184   \n1      [1, 1171, 1172, 1173, 1954, 1954, 4762, 1183, ...       1486   \n2      [287, 287, 288, 289, 290, 291, 292, 293, 294, ...       1432   \n3         [287, 1419, 1420, 1420, 1421, 1422, 1423, 287]        723   \n4      [1, 3787, 3785, 3784, 3781, 3780, 3782, 3783, ...       1324   \n...                                                  ...        ...   \n18557  [1, 4270, 5391, 3861, 4651, 2736, 4652, 2734, ...       1243   \n18558  [1, 189, 36, 1385, 1017, 1923, 3098, 3098, 283...       1628   \n18559            [1, 4192, 7423, 4234, 5627, 8571, 8571]       1173   \n18560  [1, 6852, 3912, 3908, 3907, 3915, 3916, 6226, ...       1443   \n18561   [1, 10694, 51, 1393, 55, 56, 1390, 2443, 53, 54]       1184   \n\n                                          distance_route  \\\n0      [23.479040480510506, 23.479040480510506, 26.97...   \n1      [1.141374091100897, 2.8522152887994903, 1.5389...   \n2      [0.0, 16.752201025499367, 1.501855696871057, 0...   \n3      [31.65996164052381, 0.43893999280403884, 0.0, ...   \n4      [8.678113362175365, 0.7124995743679728, 0.2457...   \n...                                                  ...   \n18557  [68.89851202059795, 1.2509793817380201, 4.9521...   \n18558  [11.01602482949159, 6.654913214140149, 8.85708...   \n18559  [54.0389092556839, 8.395552239732819, 15.20686...   \n18560  [8.593375524055487, 0.5755007431477985, 1.2338...   \n18561  [50.31198761409171, 0.07481280750535345, 4.285...   \n\n                                   distance_actual_route  \\\n0      [0.0, 23.479040480510506, 8.146314511821483, 3...   \n1      [1.141374091100897, 2.8522152887994903, 1.5389...   \n2      [0.0, 16.752201025499367, 1.501855696871057, 0...   \n3      [31.65996164052381, 0.43893999280403884, 0.0, ...   \n4      [10.893805973040553, 3.7200180786093084, 0.245...   \n...                                                  ...   \n18557  [68.89851202059795, 1.2509793817380201, 4.9521...   \n18558  [11.01602482949159, 6.654913214140149, 5.99532...   \n18559  [54.0389092556839, 8.395552239732819, 15.20686...   \n18560  [8.593375524055487, 0.5755007431477985, 1.2605...   \n18561  [50.34070909483395, 0.07481280750535345, 4.354...   \n\n       last_two_weeks_count  \\\n0                         8   \n1                         2   \n2                         8   \n3                         4   \n4                         4   \n...                     ...   \n18557                     1   \n18558                     1   \n18559                     1   \n18560                     1   \n18561                     1   \n\n                                             current_lat  \\\n0      [55.64641920439919, 55.32612200000001, 55.6464...   \n1      [55.64641920439919, 55.649076, 55.63469, 55.63...   \n2      [59.805664, 59.805664, 59.910491, 59.922304900...   \n3      [59.805664, 60.066484, 60.072593, 60.072593, 6...   \n4      [55.64641920439919, 55.77168, 55.766721, 55.76...   \n...                                                  ...   \n18557  [55.64641920439919, 54.696715, 54.6986631, 54....   \n18558  [55.64641920439919, 55.4871834, 55.4519557, 55...   \n18559  [55.64641920439919, 54.893049, 54.775049499999...   \n18560  [55.64641920439919, 55.652685, 55.644387, 55.6...   \n18561  [55.64641920439919, 54.9216487, 54.92115310000...   \n\n                                             current_lng day_of_week  \\\n0      [12.15372974969827, 11.9560479, 12.15372974969...      Monday   \n1      [12.15372974969827, 12.124935, 12.05662, 12.01...      Monday   \n2      [10.290383, 10.290383, 10.723998, 10.6877597, ...      Monday   \n3      [10.290383, 11.039009, 11.035613, 11.035613, 1...      Monday   \n4      [12.15372974969827, 12.165606, 12.181618, 12.1...      Monday   \n...                                                  ...         ...   \n18557  [12.15372974969827, 11.629326, 11.598282, 11.4...    Thursday   \n18558  [12.15372974969827, 12.1551468, 11.9975665, 11...    Thursday   \n18559  [12.15372974969827, 11.791921, 11.8411527, 11....    Thursday   \n18560  [12.15372974969827, 12.373122, 12.374162, 12.3...    Thursday   \n18561  [12.15372974969827, 12.0475591, 12.0492281, 12...    Thursday   \n\n            date  ... day_of_week_encoded  \\\n0     2024-01-15  ...                   2   \n1     2024-01-15  ...                   2   \n2     2024-01-15  ...                   2   \n3     2024-01-15  ...                   2   \n4     2024-01-15  ...                   2   \n...          ...  ...                 ...   \n18557 2024-08-07  ...                   5   \n18558 2024-08-07  ...                   5   \n18559 2024-08-07  ...                   5   \n18560 2024-08-07  ...                   5   \n18561 2024-08-08  ...                   5   \n\n                                     experience_feature  \\\n0      [8, 8, 8, 8, 8, 8, 8, 8, 8, 8, 8, 8, 8, 8, 8, 8]   \n1               [2, 2, 2, 2, 2, 2, 2, 2, 2, 2, 2, 2, 2]   \n2               [8, 8, 8, 8, 8, 8, 8, 8, 8, 8, 8, 8, 8]   \n3                              [4, 4, 4, 4, 4, 4, 4, 4]   \n4               [4, 4, 4, 4, 4, 4, 4, 4, 4, 4, 4, 4, 4]   \n...                                                 ...   \n18557                 [1, 1, 1, 1, 1, 1, 1, 1, 1, 1, 1]   \n18558                 [1, 1, 1, 1, 1, 1, 1, 1, 1, 1, 1]   \n18559                             [1, 1, 1, 1, 1, 1, 1]   \n18560                    [1, 1, 1, 1, 1, 1, 1, 1, 1, 1]   \n18561                    [1, 1, 1, 1, 1, 1, 1, 1, 1, 1]   \n\n                                             len_feature  \\\n0      [16, 16, 16, 16, 16, 16, 16, 16, 16, 16, 16, 1...   \n1      [13, 13, 13, 13, 13, 13, 13, 13, 13, 13, 13, 1...   \n2      [13, 13, 13, 13, 13, 13, 13, 13, 13, 13, 13, 1...   \n3                               [8, 8, 8, 8, 8, 8, 8, 8]   \n4      [13, 13, 13, 13, 13, 13, 13, 13, 13, 13, 13, 1...   \n...                                                  ...   \n18557       [11, 11, 11, 11, 11, 11, 11, 11, 11, 11, 11]   \n18558       [11, 11, 11, 11, 11, 11, 11, 11, 11, 11, 11]   \n18559                              [7, 7, 7, 7, 7, 7, 7]   \n18560           [10, 10, 10, 10, 10, 10, 10, 10, 10, 10]   \n18561           [10, 10, 10, 10, 10, 10, 10, 10, 10, 10]   \n\n                                       driver_id_feature  \\\n0       [7, 7, 7, 7, 7, 7, 7, 7, 7, 7, 7, 7, 7, 7, 7, 7]   \n1      [146, 146, 146, 146, 146, 146, 146, 146, 146, ...   \n2      [23, 23, 23, 23, 23, 23, 23, 23, 23, 23, 23, 2...   \n3               [113, 113, 113, 113, 113, 113, 113, 113]   \n4      [27, 27, 27, 27, 27, 27, 27, 27, 27, 27, 27, 2...   \n...                                                  ...   \n18557       [17, 17, 17, 17, 17, 17, 17, 17, 17, 17, 17]   \n18558  [310, 310, 310, 310, 310, 310, 310, 310, 310, ...   \n18559                [268, 268, 268, 268, 268, 268, 268]   \n18560  [214, 214, 214, 214, 214, 214, 214, 214, 214, ...   \n18561                     [7, 7, 7, 7, 7, 7, 7, 7, 7, 7]   \n\n                                   country_flag_feature  \\\n0      [1, 1, 1, 1, 1, 1, 1, 1, 1, 1, 1, 1, 1, 1, 1, 1]   \n1               [1, 1, 1, 1, 1, 1, 1, 1, 1, 1, 1, 1, 1]   \n2               [0, 0, 0, 0, 0, 0, 0, 0, 0, 0, 0, 0, 0]   \n3                              [0, 0, 0, 0, 0, 0, 0, 0]   \n4               [1, 1, 1, 1, 1, 1, 1, 1, 1, 1, 1, 1, 1]   \n...                                                 ...   \n18557                 [1, 1, 1, 1, 1, 1, 1, 1, 1, 1, 1]   \n18558                 [1, 1, 1, 1, 1, 1, 1, 1, 1, 1, 1]   \n18559                             [1, 1, 1, 1, 1, 1, 1]   \n18560                    [1, 1, 1, 1, 1, 1, 1, 1, 1, 1]   \n18561                    [1, 1, 1, 1, 1, 1, 1, 1, 1, 1]   \n\n                                     day_of_week_feature  \\\n0      [[0, 0, 0, 0, 0, 0, 0], [0, 0, 0, 0, 0, 0, 0],...   \n1      [[0, 0, 0, 0, 0, 0, 0], [0, 0, 0, 0, 0, 0, 0],...   \n2      [[0, 0, 0, 0, 0, 0, 0], [0, 0, 0, 0, 0, 0, 0],...   \n3      [[0, 0, 0, 0, 0, 0, 0], [0, 0, 0, 0, 0, 0, 0],...   \n4      [[0, 0, 0, 0, 0, 0, 0], [0, 0, 0, 0, 0, 0, 0],...   \n...                                                  ...   \n18557  [[0, 0, 0, 0, 0, 0, 0], [0, 0, 0, 0, 0, 0, 0],...   \n18558  [[0, 0, 0, 0, 0, 0, 0], [0, 0, 0, 0, 0, 0, 0],...   \n18559  [[0, 0, 0, 0, 0, 0, 0], [0, 0, 0, 0, 0, 0, 0],...   \n18560  [[0, 0, 0, 0, 0, 0, 0], [0, 0, 0, 0, 0, 0, 0],...   \n18561  [[0, 0, 0, 0, 0, 0, 0], [0, 0, 0, 0, 0, 0, 0],...   \n\n       day_of_week_encoded_ext  score_cumulative_avg score_cumulative_driver  \\\n0        [0, 1, 0, 0, 0, 0, 0]              1.000000                1.000000   \n1        [0, 1, 0, 0, 0, 0, 0]              1.000000                1.000000   \n2        [0, 1, 0, 0, 0, 0, 0]              0.000000                0.000000   \n3        [0, 1, 0, 0, 0, 0, 0]              0.000000                0.000000   \n4        [0, 1, 0, 0, 0, 0, 0]              1.000000                1.000000   \n...                        ...                   ...                     ...   \n18557    [0, 0, 0, 0, 1, 0, 0]              0.208333                0.282609   \n18558    [0, 0, 0, 0, 1, 0, 0]              0.416667                0.593220   \n18559    [0, 0, 0, 0, 1, 0, 0]              0.466667                0.382979   \n18560    [0, 0, 0, 0, 1, 0, 0]              0.733333                0.725490   \n18561    [0, 0, 0, 0, 1, 0, 0]              1.000000                0.741935   \n\n      score_avg_total  \n0            1.000000  \n1            1.000000  \n2            0.666667  \n3            0.500000  \n4            0.600000  \n...               ...  \n18557        0.536049  \n18558        0.536074  \n18559        0.536045  \n18560        0.536016  \n18561        0.536041  \n\n[18562 rows x 27 columns]",
      "text/html": "<div>\n<style scoped>\n    .dataframe tbody tr th:only-of-type {\n        vertical-align: middle;\n    }\n\n    .dataframe tbody tr th {\n        vertical-align: top;\n    }\n\n    .dataframe thead th {\n        text-align: right;\n    }\n</style>\n<table border=\"1\" class=\"dataframe\">\n  <thead>\n    <tr style=\"text-align: right;\">\n      <th></th>\n      <th>routes</th>\n      <th>actual_routes</th>\n      <th>driver_id</th>\n      <th>distance_route</th>\n      <th>distance_actual_route</th>\n      <th>last_two_weeks_count</th>\n      <th>current_lat</th>\n      <th>current_lng</th>\n      <th>day_of_week</th>\n      <th>date</th>\n      <th>...</th>\n      <th>day_of_week_encoded</th>\n      <th>experience_feature</th>\n      <th>len_feature</th>\n      <th>driver_id_feature</th>\n      <th>country_flag_feature</th>\n      <th>day_of_week_feature</th>\n      <th>day_of_week_encoded_ext</th>\n      <th>score_cumulative_avg</th>\n      <th>score_cumulative_driver</th>\n      <th>score_avg_total</th>\n    </tr>\n  </thead>\n  <tbody>\n    <tr>\n      <th>0</th>\n      <td>[1, 1385, 1, 1386, 1387, 49, 1388, 50, 9229, 4...</td>\n      <td>[1, 1385, 1, 1386, 1387, 49, 1388, 50, 9229, 4...</td>\n      <td>1184</td>\n      <td>[23.479040480510506, 23.479040480510506, 26.97...</td>\n      <td>[0.0, 23.479040480510506, 8.146314511821483, 3...</td>\n      <td>8</td>\n      <td>[55.64641920439919, 55.32612200000001, 55.6464...</td>\n      <td>[12.15372974969827, 11.9560479, 12.15372974969...</td>\n      <td>Monday</td>\n      <td>2024-01-15</td>\n      <td>...</td>\n      <td>2</td>\n      <td>[8, 8, 8, 8, 8, 8, 8, 8, 8, 8, 8, 8, 8, 8, 8, 8]</td>\n      <td>[16, 16, 16, 16, 16, 16, 16, 16, 16, 16, 16, 1...</td>\n      <td>[7, 7, 7, 7, 7, 7, 7, 7, 7, 7, 7, 7, 7, 7, 7, 7]</td>\n      <td>[1, 1, 1, 1, 1, 1, 1, 1, 1, 1, 1, 1, 1, 1, 1, 1]</td>\n      <td>[[0, 0, 0, 0, 0, 0, 0], [0, 0, 0, 0, 0, 0, 0],...</td>\n      <td>[0, 1, 0, 0, 0, 0, 0]</td>\n      <td>1.000000</td>\n      <td>1.000000</td>\n      <td>1.000000</td>\n    </tr>\n    <tr>\n      <th>1</th>\n      <td>[1, 1171, 1172, 1173, 1954, 1954, 4762, 1183, ...</td>\n      <td>[1, 1171, 1172, 1173, 1954, 1954, 4762, 1183, ...</td>\n      <td>1486</td>\n      <td>[1.141374091100897, 2.8522152887994903, 1.5389...</td>\n      <td>[1.141374091100897, 2.8522152887994903, 1.5389...</td>\n      <td>2</td>\n      <td>[55.64641920439919, 55.649076, 55.63469, 55.63...</td>\n      <td>[12.15372974969827, 12.124935, 12.05662, 12.01...</td>\n      <td>Monday</td>\n      <td>2024-01-15</td>\n      <td>...</td>\n      <td>2</td>\n      <td>[2, 2, 2, 2, 2, 2, 2, 2, 2, 2, 2, 2, 2]</td>\n      <td>[13, 13, 13, 13, 13, 13, 13, 13, 13, 13, 13, 1...</td>\n      <td>[146, 146, 146, 146, 146, 146, 146, 146, 146, ...</td>\n      <td>[1, 1, 1, 1, 1, 1, 1, 1, 1, 1, 1, 1, 1]</td>\n      <td>[[0, 0, 0, 0, 0, 0, 0], [0, 0, 0, 0, 0, 0, 0],...</td>\n      <td>[0, 1, 0, 0, 0, 0, 0]</td>\n      <td>1.000000</td>\n      <td>1.000000</td>\n      <td>1.000000</td>\n    </tr>\n    <tr>\n      <th>2</th>\n      <td>[287, 287, 288, 289, 290, 291, 292, 293, 294, ...</td>\n      <td>[287, 287, 288, 289, 290, 291, 292, 293, 294, ...</td>\n      <td>1432</td>\n      <td>[0.0, 16.752201025499367, 1.501855696871057, 0...</td>\n      <td>[0.0, 16.752201025499367, 1.501855696871057, 0...</td>\n      <td>8</td>\n      <td>[59.805664, 59.805664, 59.910491, 59.922304900...</td>\n      <td>[10.290383, 10.290383, 10.723998, 10.6877597, ...</td>\n      <td>Monday</td>\n      <td>2024-01-15</td>\n      <td>...</td>\n      <td>2</td>\n      <td>[8, 8, 8, 8, 8, 8, 8, 8, 8, 8, 8, 8, 8]</td>\n      <td>[13, 13, 13, 13, 13, 13, 13, 13, 13, 13, 13, 1...</td>\n      <td>[23, 23, 23, 23, 23, 23, 23, 23, 23, 23, 23, 2...</td>\n      <td>[0, 0, 0, 0, 0, 0, 0, 0, 0, 0, 0, 0, 0]</td>\n      <td>[[0, 0, 0, 0, 0, 0, 0], [0, 0, 0, 0, 0, 0, 0],...</td>\n      <td>[0, 1, 0, 0, 0, 0, 0]</td>\n      <td>0.000000</td>\n      <td>0.000000</td>\n      <td>0.666667</td>\n    </tr>\n    <tr>\n      <th>3</th>\n      <td>[287, 1419, 1420, 1420, 1421, 1422, 1423, 287]</td>\n      <td>[287, 1419, 1420, 1420, 1421, 1422, 1423, 287]</td>\n      <td>723</td>\n      <td>[31.65996164052381, 0.43893999280403884, 0.0, ...</td>\n      <td>[31.65996164052381, 0.43893999280403884, 0.0, ...</td>\n      <td>4</td>\n      <td>[59.805664, 60.066484, 60.072593, 60.072593, 6...</td>\n      <td>[10.290383, 11.039009, 11.035613, 11.035613, 1...</td>\n      <td>Monday</td>\n      <td>2024-01-15</td>\n      <td>...</td>\n      <td>2</td>\n      <td>[4, 4, 4, 4, 4, 4, 4, 4]</td>\n      <td>[8, 8, 8, 8, 8, 8, 8, 8]</td>\n      <td>[113, 113, 113, 113, 113, 113, 113, 113]</td>\n      <td>[0, 0, 0, 0, 0, 0, 0, 0]</td>\n      <td>[[0, 0, 0, 0, 0, 0, 0], [0, 0, 0, 0, 0, 0, 0],...</td>\n      <td>[0, 1, 0, 0, 0, 0, 0]</td>\n      <td>0.000000</td>\n      <td>0.000000</td>\n      <td>0.500000</td>\n    </tr>\n    <tr>\n      <th>4</th>\n      <td>[1, 3787, 3785, 3784, 3781, 3780, 3782, 3783, ...</td>\n      <td>[1, 3787, 3785, 3784, 3781, 3780, 3782, 3783, ...</td>\n      <td>1324</td>\n      <td>[8.678113362175365, 0.7124995743679728, 0.2457...</td>\n      <td>[10.893805973040553, 3.7200180786093084, 0.245...</td>\n      <td>4</td>\n      <td>[55.64641920439919, 55.77168, 55.766721, 55.76...</td>\n      <td>[12.15372974969827, 12.165606, 12.181618, 12.1...</td>\n      <td>Monday</td>\n      <td>2024-01-15</td>\n      <td>...</td>\n      <td>2</td>\n      <td>[4, 4, 4, 4, 4, 4, 4, 4, 4, 4, 4, 4, 4]</td>\n      <td>[13, 13, 13, 13, 13, 13, 13, 13, 13, 13, 13, 1...</td>\n      <td>[27, 27, 27, 27, 27, 27, 27, 27, 27, 27, 27, 2...</td>\n      <td>[1, 1, 1, 1, 1, 1, 1, 1, 1, 1, 1, 1, 1]</td>\n      <td>[[0, 0, 0, 0, 0, 0, 0], [0, 0, 0, 0, 0, 0, 0],...</td>\n      <td>[0, 1, 0, 0, 0, 0, 0]</td>\n      <td>1.000000</td>\n      <td>1.000000</td>\n      <td>0.600000</td>\n    </tr>\n    <tr>\n      <th>...</th>\n      <td>...</td>\n      <td>...</td>\n      <td>...</td>\n      <td>...</td>\n      <td>...</td>\n      <td>...</td>\n      <td>...</td>\n      <td>...</td>\n      <td>...</td>\n      <td>...</td>\n      <td>...</td>\n      <td>...</td>\n      <td>...</td>\n      <td>...</td>\n      <td>...</td>\n      <td>...</td>\n      <td>...</td>\n      <td>...</td>\n      <td>...</td>\n      <td>...</td>\n      <td>...</td>\n    </tr>\n    <tr>\n      <th>18557</th>\n      <td>[1, 4270, 5391, 3861, 4651, 2736, 4652, 2734, ...</td>\n      <td>[1, 4270, 5391, 3861, 4651, 2736, 4652, 2734, ...</td>\n      <td>1243</td>\n      <td>[68.89851202059795, 1.2509793817380201, 4.9521...</td>\n      <td>[68.89851202059795, 1.2509793817380201, 4.9521...</td>\n      <td>1</td>\n      <td>[55.64641920439919, 54.696715, 54.6986631, 54....</td>\n      <td>[12.15372974969827, 11.629326, 11.598282, 11.4...</td>\n      <td>Thursday</td>\n      <td>2024-08-07</td>\n      <td>...</td>\n      <td>5</td>\n      <td>[1, 1, 1, 1, 1, 1, 1, 1, 1, 1, 1]</td>\n      <td>[11, 11, 11, 11, 11, 11, 11, 11, 11, 11, 11]</td>\n      <td>[17, 17, 17, 17, 17, 17, 17, 17, 17, 17, 17]</td>\n      <td>[1, 1, 1, 1, 1, 1, 1, 1, 1, 1, 1]</td>\n      <td>[[0, 0, 0, 0, 0, 0, 0], [0, 0, 0, 0, 0, 0, 0],...</td>\n      <td>[0, 0, 0, 0, 1, 0, 0]</td>\n      <td>0.208333</td>\n      <td>0.282609</td>\n      <td>0.536049</td>\n    </tr>\n    <tr>\n      <th>18558</th>\n      <td>[1, 189, 36, 1385, 1017, 1923, 3098, 3098, 283...</td>\n      <td>[1, 189, 36, 1385, 1017, 1923, 3098, 3098, 283...</td>\n      <td>1628</td>\n      <td>[11.01602482949159, 6.654913214140149, 8.85708...</td>\n      <td>[11.01602482949159, 6.654913214140149, 5.99532...</td>\n      <td>1</td>\n      <td>[55.64641920439919, 55.4871834, 55.4519557, 55...</td>\n      <td>[12.15372974969827, 12.1551468, 11.9975665, 11...</td>\n      <td>Thursday</td>\n      <td>2024-08-07</td>\n      <td>...</td>\n      <td>5</td>\n      <td>[1, 1, 1, 1, 1, 1, 1, 1, 1, 1, 1]</td>\n      <td>[11, 11, 11, 11, 11, 11, 11, 11, 11, 11, 11]</td>\n      <td>[310, 310, 310, 310, 310, 310, 310, 310, 310, ...</td>\n      <td>[1, 1, 1, 1, 1, 1, 1, 1, 1, 1, 1]</td>\n      <td>[[0, 0, 0, 0, 0, 0, 0], [0, 0, 0, 0, 0, 0, 0],...</td>\n      <td>[0, 0, 0, 0, 1, 0, 0]</td>\n      <td>0.416667</td>\n      <td>0.593220</td>\n      <td>0.536074</td>\n    </tr>\n    <tr>\n      <th>18559</th>\n      <td>[1, 4192, 7423, 4234, 5627, 8571, 8571]</td>\n      <td>[1, 4192, 7423, 4234, 5627, 8571, 8571]</td>\n      <td>1173</td>\n      <td>[54.0389092556839, 8.395552239732819, 15.20686...</td>\n      <td>[54.0389092556839, 8.395552239732819, 15.20686...</td>\n      <td>1</td>\n      <td>[55.64641920439919, 54.893049, 54.775049499999...</td>\n      <td>[12.15372974969827, 11.791921, 11.8411527, 11....</td>\n      <td>Thursday</td>\n      <td>2024-08-07</td>\n      <td>...</td>\n      <td>5</td>\n      <td>[1, 1, 1, 1, 1, 1, 1]</td>\n      <td>[7, 7, 7, 7, 7, 7, 7]</td>\n      <td>[268, 268, 268, 268, 268, 268, 268]</td>\n      <td>[1, 1, 1, 1, 1, 1, 1]</td>\n      <td>[[0, 0, 0, 0, 0, 0, 0], [0, 0, 0, 0, 0, 0, 0],...</td>\n      <td>[0, 0, 0, 0, 1, 0, 0]</td>\n      <td>0.466667</td>\n      <td>0.382979</td>\n      <td>0.536045</td>\n    </tr>\n    <tr>\n      <th>18560</th>\n      <td>[1, 6852, 3912, 3908, 3907, 3915, 3916, 6226, ...</td>\n      <td>[1, 6852, 3912, 3908, 3907, 3915, 3916, 6226, ...</td>\n      <td>1443</td>\n      <td>[8.593375524055487, 0.5755007431477985, 1.2338...</td>\n      <td>[8.593375524055487, 0.5755007431477985, 1.2605...</td>\n      <td>1</td>\n      <td>[55.64641920439919, 55.652685, 55.644387, 55.6...</td>\n      <td>[12.15372974969827, 12.373122, 12.374162, 12.3...</td>\n      <td>Thursday</td>\n      <td>2024-08-07</td>\n      <td>...</td>\n      <td>5</td>\n      <td>[1, 1, 1, 1, 1, 1, 1, 1, 1, 1]</td>\n      <td>[10, 10, 10, 10, 10, 10, 10, 10, 10, 10]</td>\n      <td>[214, 214, 214, 214, 214, 214, 214, 214, 214, ...</td>\n      <td>[1, 1, 1, 1, 1, 1, 1, 1, 1, 1]</td>\n      <td>[[0, 0, 0, 0, 0, 0, 0], [0, 0, 0, 0, 0, 0, 0],...</td>\n      <td>[0, 0, 0, 0, 1, 0, 0]</td>\n      <td>0.733333</td>\n      <td>0.725490</td>\n      <td>0.536016</td>\n    </tr>\n    <tr>\n      <th>18561</th>\n      <td>[1, 10694, 51, 1393, 55, 56, 1390, 2443, 53, 54]</td>\n      <td>[1, 10694, 51, 1393, 55, 56, 1390, 2443, 53, 54]</td>\n      <td>1184</td>\n      <td>[50.31198761409171, 0.07481280750535345, 4.285...</td>\n      <td>[50.34070909483395, 0.07481280750535345, 4.354...</td>\n      <td>1</td>\n      <td>[55.64641920439919, 54.9216487, 54.92115310000...</td>\n      <td>[12.15372974969827, 12.0475591, 12.0492281, 12...</td>\n      <td>Thursday</td>\n      <td>2024-08-08</td>\n      <td>...</td>\n      <td>5</td>\n      <td>[1, 1, 1, 1, 1, 1, 1, 1, 1, 1]</td>\n      <td>[10, 10, 10, 10, 10, 10, 10, 10, 10, 10]</td>\n      <td>[7, 7, 7, 7, 7, 7, 7, 7, 7, 7]</td>\n      <td>[1, 1, 1, 1, 1, 1, 1, 1, 1, 1]</td>\n      <td>[[0, 0, 0, 0, 0, 0, 0], [0, 0, 0, 0, 0, 0, 0],...</td>\n      <td>[0, 0, 0, 0, 1, 0, 0]</td>\n      <td>1.000000</td>\n      <td>0.741935</td>\n      <td>0.536041</td>\n    </tr>\n  </tbody>\n</table>\n<p>18562 rows × 27 columns</p>\n</div>"
     },
     "execution_count": 28,
     "metadata": {},
     "output_type": "execute_result"
    }
   ],
   "source": [
    "\n",
    "\n",
    "final_routes['score_cumulative_avg'] = final_routes.groupby(['driver_id_sorted', 'day_of_week'])['label'].transform(\n",
    "        lambda x: x.expanding().mean()\n",
    "    )\n",
    "final_routes['score_cumulative_driver'] = final_routes.groupby(['driver_id_sorted'])['label'].transform(\n",
    "        lambda x: x.expanding().mean()\n",
    "    )\n",
    "final_routes['score_avg_total'] = final_routes['label'].expanding().mean()\n",
    "\n",
    "final_routes"
   ],
   "metadata": {
    "collapsed": false,
    "pycharm": {
     "name": "#%%\n"
    }
   }
  },
  {
   "cell_type": "markdown",
   "source": [
    "# Average benchmark here"
   ],
   "metadata": {
    "collapsed": false,
    "pycharm": {
     "name": "#%% md\n"
    }
   }
  },
  {
   "cell_type": "code",
   "execution_count": 29,
   "outputs": [],
   "source": [
    "# result = final_routes.groupby('driver_id_sorted')[['driver_id_sorted', 'score']].apply(\n",
    "#     lambda x: pd.Series({'count': len(x), 'score': x['score'].tolist()})\n",
    "# ).reset_index()\n",
    "#\n",
    "# sorted_result = result.sort_values(by='count', ascending=False).reset_index(drop=True)\n"
   ],
   "metadata": {
    "collapsed": false,
    "pycharm": {
     "name": "#%%\n"
    }
   }
  },
  {
   "cell_type": "code",
   "execution_count": 30,
   "outputs": [],
   "source": [
    "import pandas as pd\n",
    "from sklearn.metrics import (\n",
    "    accuracy_score, precision_score, recall_score, f1_score,\n",
    "    roc_auc_score, average_precision_score, log_loss, brier_score_loss\n",
    ")\n",
    "import matplotlib.pyplot as plt\n",
    "\n",
    "def get_predictions(df, scores_dict):\n",
    "    def predict(row):\n",
    "        # Try to get the score from the main dictionary\n",
    "        label = scores_dict.get((row['driver_id_sorted'], row['day_of_week']))\n",
    "\n",
    "        # If not found, fall back to the driver-only dictionary\n",
    "        if label is None:\n",
    "            print('1')\n",
    "            return 0.5\n",
    "        else:\n",
    "            return label\n",
    "\n",
    "    return df.apply(predict, axis=1)\n",
    "\n",
    "\n",
    "# Function to calculate metrics\n",
    "def calculate_metrics(y_true, y_pred, y_pred_proba):\n",
    "    acc = accuracy_score(y_true, y_pred)\n",
    "    precision = precision_score(y_true, y_pred)\n",
    "    recall = recall_score(y_true, y_pred)\n",
    "    f1 = f1_score(y_true, y_pred)\n",
    "    roc_auc = roc_auc_score(y_true, y_pred)\n",
    "    average_precision = average_precision_score(y_true, y_pred)\n",
    "    quadratic_loss = log_loss(y_true, y_pred_proba)\n",
    "    brier_score = brier_score_loss(y_true, y_pred_proba)\n",
    "\n",
    "    metrics = {\n",
    "        \"acc\": acc,\n",
    "        \"precision\": precision,\n",
    "        \"recall\": recall,\n",
    "        \"f1\": f1,\n",
    "        \"roc_auc\": roc_auc,\n",
    "        \"average_precision\": average_precision,\n",
    "        \"quadratic_loss\": quadratic_loss,\n",
    "        \"brier_score\": brier_score,\n",
    "    }\n",
    "    return metrics"
   ],
   "metadata": {
    "collapsed": false,
    "pycharm": {
     "name": "#%%\n"
    }
   }
  },
  {
   "cell_type": "code",
   "execution_count": 31,
   "outputs": [
    {
     "name": "stdout",
     "output_type": "stream",
     "text": [
      "Total number of drivers 314\n",
      "10546\n",
      "17667\n",
      "lens 13823 2188 1656\n",
      "val_metrics {'acc': 0.7079524680073126, 'precision': 0.7094240837696335, 'recall': 0.7265415549597856, 'f1': 0.7178807947019867, 'roc_auc': 0.7075177372553839, 'average_precision': 0.6552798246627187, 'quadratic_loss': 1.3110032629733819, 'brier_score': 0.1963393520342656, 'true_positive': 813, 'false_positive': 333, 'true_negative': 736, 'false_negative': 306}\n",
      "test_metrics {'acc': 0.7137681159420289, 'precision': 0.7096774193548387, 'recall': 0.7350835322195705, 'f1': 0.7221570926143025, 'roc_auc': 0.7135075362809344, 'average_precision': 0.655730155170317, 'quadratic_loss': 1.3141721524216174, 'brier_score': 0.19706852026087537, 'true_positive': 616, 'false_positive': 252, 'true_negative': 566, 'false_negative': 222}\n",
      "616 252\n"
     ]
    },
    {
     "name": "stderr",
     "output_type": "stream",
     "text": [
      "/var/folders/0j/mpbqwzf51p38zw2w423xp1fw0000gn/T/ipykernel_83336/1217222917.py:76: DeprecationWarning: DataFrameGroupBy.apply operated on the grouping columns. This behavior is deprecated, and in a future version of pandas the grouping columns will be excluded from the operation. Either pass `include_groups=False` to exclude the groupings or explicitly select the grouping columns after groupby to silence this warning.\n",
      "  final_routes_split = final_routes.groupby(['driver_id_sorted', 'day_of_week']).apply(split_group).reset_index(drop=True)\n"
     ]
    }
   ],
   "source": [
    "from sklearn.metrics import confusion_matrix\n",
    "def get_predictions(df, scores_dict):\n",
    "    def predict(row):\n",
    "        # Try to get the score from the main dictionary\n",
    "        label = scores_dict.get((row['driver_id_sorted'], row['day_of_week']))\n",
    "\n",
    "        # If not found, fall back to the driver-only dictionary\n",
    "        if label is None:\n",
    "            print('1')\n",
    "            return 0.5\n",
    "        else:\n",
    "            return label\n",
    "\n",
    "    return df.apply(predict, axis=1)\n",
    "def calculate_metrics(y_true, y_pred, y_pred_proba):\n",
    "    acc = accuracy_score(y_true, y_pred)\n",
    "    precision = precision_score(y_true, y_pred)\n",
    "    recall = recall_score(y_true, y_pred)\n",
    "    f1 = f1_score(y_true, y_pred)\n",
    "    roc_auc = roc_auc_score(y_true, y_pred)\n",
    "    average_precision = average_precision_score(y_true, y_pred)\n",
    "    quadratic_loss = log_loss(y_true, y_pred_proba)\n",
    "    brier_score = brier_score_loss(y_true, y_pred_proba)\n",
    "    tn, fp, fn, tp = confusion_matrix(y_true, y_pred).ravel()\n",
    "\n",
    "    metrics = {\n",
    "        \"acc\": acc,\n",
    "        \"precision\": precision,\n",
    "        \"recall\": recall,\n",
    "        \"f1\": f1,\n",
    "        \"roc_auc\": roc_auc,\n",
    "        \"average_precision\": average_precision,\n",
    "        \"quadratic_loss\": quadratic_loss,\n",
    "        \"brier_score\": brier_score,\n",
    "        \"true_positive\": tp,\n",
    "        \"false_positive\": fp,\n",
    "        \"true_negative\": tn,\n",
    "        \"false_negative\": fn\n",
    "    }\n",
    "    return metrics\n",
    "\n",
    "def split_group(group):\n",
    "    n = len(group)\n",
    "    if n < 4:  # Ensure at least 1 sample for train and 1 each for val and test\n",
    "        return pd.DataFrame()\n",
    "\n",
    "    # Calculate sizes for each split\n",
    "    train_size = max(int(n * 0.8), n - 4)  # Ensure at least 2 samples total for val and test\n",
    "    val_test_size = n - train_size\n",
    "\n",
    "    # Always give the extra sample to val when odd\n",
    "    val_size = (val_test_size + 1) // 2  # This will be larger when val_test_size is odd\n",
    "    test_size = val_test_size - val_size\n",
    "\n",
    "    return pd.concat([\n",
    "        group.iloc[:train_size].assign(split='train'),\n",
    "        group.iloc[train_size:train_size+val_size].assign(split='val'),\n",
    "        group.iloc[train_size+val_size:].assign(split='test')\n",
    "    ])\n",
    "\n",
    "def categorize_predictions(df, y_true, y_pred, y_pred_proba):\n",
    "    df = df.copy()\n",
    "    df['prediction_category'] = 'Unknown'\n",
    "    df.loc[(y_true == 1) & (y_pred == 1), 'prediction_category'] = 'True Positive'\n",
    "    df.loc[(y_true == 0) & (y_pred == 1), 'prediction_category'] = 'False Positive'\n",
    "    df.loc[(y_true == 1) & (y_pred == 0), 'prediction_category'] = 'False Negative'\n",
    "    df.loc[(y_true == 0) & (y_pred == 0), 'prediction_category'] = 'True Negative'\n",
    "    df['predictive_probability'] = y_pred_proba\n",
    "    return df\n",
    "\n",
    "def save_categorized_routes(df, filename):\n",
    "    df.to_csv(filename, index=False)\n",
    "    print(f\"Saved categorized routes to {filename}\")\n",
    "\n",
    "\n",
    "final_routes_split = final_routes.groupby(['driver_id_sorted', 'day_of_week']).apply(split_group).reset_index(drop=True)\n",
    "# Separate into train, validation, and test sets\n",
    "\n",
    "drivers_dic = {}\n",
    "k = 1\n",
    "for driver in final_routes_split['driver_id_sorted']:\n",
    "    if driver not in drivers_dic:\n",
    "        drivers_dic[driver] = k\n",
    "        k += 1\n",
    "print('Total number of drivers', len(drivers_dic))\n",
    "total_drivers = len(drivers_dic)\n",
    "encoding_drivers = []\n",
    "for driver in final_routes_split['driver_id_sorted']:\n",
    "    encoding_drivers.append(drivers_dic[driver])\n",
    "#\n",
    "final_routes_split['driver_id_sorted'] = encoding_drivers\n",
    "\n",
    "locations_dic = {}\n",
    "location_count = {}\n",
    "k = 1\n",
    "for row in final_routes_split['routes']:\n",
    "   for location in row:\n",
    "       if location not in locations_dic:\n",
    "           locations_dic[location] = k\n",
    "           k += 1\n",
    "k = 1\n",
    "print(len(locations_dic))\n",
    "\n",
    "for row in final_routes_split['routes']:\n",
    "   for location in row:\n",
    "       if location not in location_count:\n",
    "            location_count[location] = 1\n",
    "       else:\n",
    "            location_count[location] += 1\n",
    "encoding_routes = []\n",
    "for row in final_routes_split['routes']:\n",
    "    encoding_route = []\n",
    "    for location in row:\n",
    "        encoding_route.append(locations_dic[location])\n",
    "    encoding_routes.append(encoding_route)\n",
    "final_routes_split['routes'] = encoding_routes\n",
    "\n",
    "print(len(final_routes_split))\n",
    "train_df = final_routes_split[final_routes_split['split'] == 'train'].drop('split', axis=1)\n",
    "val_df = final_routes_split[final_routes_split['split'] == 'val'].drop('split', axis=1)\n",
    "test_df = final_routes_split[final_routes_split['split'] == 'test'].drop('split', axis=1)\n",
    "\n",
    "print('lens', len(train_df), len(val_df), len(test_df))\n",
    "combined_df = pd.concat([train_df, val_df, test_df], axis=0)\n",
    "combined_df = combined_df.reset_index(drop=True)\n",
    "\n",
    "val_y_true = val_df['label']\n",
    "average_scores_dict = train_df.groupby(['driver_id_sorted', 'day_of_week'])['score_cumulative_avg'].last().to_dict()\n",
    "average_scores_dict_driver = train_df.groupby(['driver_id_sorted'])['score_cumulative_driver'].last().to_dict()\n",
    "total_avg = train_df['score_avg_total'].iloc[-1]\n",
    "val_y_pred_proba = get_predictions(val_df, average_scores_dict)\n",
    "val_y_pred = (val_y_pred_proba.values > 0.5).astype(int)\n",
    "val_metrics = calculate_metrics(val_y_true, val_y_pred, val_y_pred_proba)\n",
    "\n",
    "# # # Calculate metrics for test set\n",
    "test_y_true = test_df['label']\n",
    "test_y_pred_proba = get_predictions(test_df, average_scores_dict)\n",
    "test_y_pred = (test_y_pred_proba.values > 0.5).astype(int)\n",
    "test_metrics = calculate_metrics(test_y_true, test_y_pred, test_y_pred_proba)\n",
    "\n",
    "# test_y_pred_proba = pd.Series([total_avg] * len(test_y_true))\n",
    "# test_y_pred = (test_y_pred_proba > 0.5).astype(int)\n",
    "# test_metrics = calculate_metrics(test_y_true, test_y_pred, test_y_pred_proba)\n",
    "\n",
    "print('val_metrics', val_metrics)\n",
    "print('test_metrics', test_metrics)\n",
    "\n",
    "test_df_group_HA = categorize_predictions(test_df, test_y_true, test_y_pred, test_y_pred_proba)\n",
    "# save_categorized_routes(test_df_categorized, 'test_routes_categorized_HA.csv')\n",
    "test_df_group_HA[test_df_group_HA['prediction_category'] == 'True Positive']['routes']\n",
    "print(len(test_df_group_HA[test_df_group_HA['prediction_category'] == 'True Positive']['routes']), len(test_df_group_HA[test_df_group_HA['prediction_category'] == 'False Positive']['routes']))"
   ],
   "metadata": {
    "collapsed": false,
    "pycharm": {
     "name": "#%%\n"
    }
   }
  },
  {
   "cell_type": "markdown",
   "source": [
    "# After benchmark, continue model"
   ],
   "metadata": {
    "collapsed": false,
    "pycharm": {
     "name": "#%% md\n"
    }
   }
  },
  {
   "cell_type": "code",
   "execution_count": 32,
   "outputs": [
    {
     "data": {
      "text/plain": "                                                  routes  \\\n0                            [1, 2, 3, 4, 5, 6, 6, 7, 8]   \n1                         [1, 6, 6, 1, 2, 3, 4, 5, 7, 8]   \n2                            [1, 2, 3, 4, 5, 6, 6, 7, 8]   \n3                               [1, 2, 9, 4, 5, 6, 7, 8]   \n4                     [1, 1, 2, 9, 3, 4, 5, 6, 7, 10, 8]   \n...                                                  ...   \n17662  [8656, 9169, 9170, 9180, 9177, 9171, 9174, 917...   \n17663  [8656, 9169, 9170, 9183, 9180, 9171, 9174, 917...   \n17664  [8656, 9179, 9171, 9174, 9175, 9169, 9181, 918...   \n17665  [8656, 9179, 9180, 9170, 9171, 9175, 9172, 917...   \n17666  [8656, 9179, 9169, 9171, 9171, 9174, 9175, 917...   \n\n                                           actual_routes  driver_id  \\\n0                          [1, 2, 3, 156, 4, 5, 5, 6, 7]     1255.0   \n1                       [1, 5, 5, 1, 2, 3, 156, 4, 6, 7]     1255.0   \n2                          [1, 2, 3, 156, 4, 5, 5, 6, 7]     1255.0   \n3                            [1, 2, 14, 156, 4, 5, 6, 7]     1255.0   \n4                [1, 1, 2, 14, 3, 156, 4, 5, 6, 3769, 7]     1255.0   \n...                                                  ...        ...   \n17662  [4315, 9711, 9715, 9717, 9738, 9712, 9714, 971...     1555.0   \n17663  [4315, 9711, 9715, 9710, 9717, 9712, 9714, 971...     1555.0   \n17664  [4315, 8575, 9712, 9714, 9713, 9711, 9739, 971...     1555.0   \n17665  [4315, 8575, 9717, 9715, 9712, 9713, 9977, 699...     1555.0   \n17666  [4315, 8575, 9711, 9712, 9712, 9714, 9713, 584...     1555.0   \n\n                                          distance_route  \\\n0      [14.640018023192697, 1.5229312527257717, 0.185...   \n1      [16.153537949626582, 0.0, 16.153537949626582, ...   \n2      [14.640018023192697, 1.5229312527257717, 0.185...   \n3      [14.640018023192697, 1.400306417188586, 0.4137...   \n4      [0.0, 14.640018023192697, 1.400306417188586, 0...   \n...                                                  ...   \n17662  [10.550783573784587, 0.025338060555759063, 0.1...   \n17663  [10.550783573784587, 0.025338060555759063, 0.2...   \n17664  [10.35361799875347, 0.40596031876087574, 0.082...   \n17665  [10.35361799875347, 0.03919354991180035, 0.190...   \n17666  [10.35361799875347, 0.21530908942333182, 0.190...   \n\n                                   distance_actual_route  \\\n0      [14.640018023192697, 1.7084597707961175, 0.185...   \n1      [16.274521631876873, 0.18579849611701657, 0.70...   \n2      [14.640018023192697, 1.7084597707961175, 0.185...   \n3      [14.640018023192697, 1.400306417188586, 0.4137...   \n4      [0.0, 14.640018023192697, 1.400306417188586, 0...   \n...                                                  ...   \n17662  [10.649090169527625, 0.036295189300920946, 0.0...   \n17663  [10.546100389513956, 0.2605297061859036, 0.209...   \n17664  [10.72146514256661, 0.09549283569487783, 0.403...   \n17665  [10.343876004844796, 0.19032608932355963, 0.66...   \n17666  [10.550783573784587, 0.24659091695350344, 0.10...   \n\n       last_two_weeks_count  \\\n0                       5.0   \n1                       4.0   \n2                       6.0   \n3                      11.0   \n4                      11.0   \n...                     ...   \n17662                   9.0   \n17663                  11.0   \n17664                  11.0   \n17665                   8.0   \n17666                   3.0   \n\n                                             current_lat  \\\n0      [55.64641920439919, 55.6669147, 55.6757322, 55...   \n1      [55.64641920439919, 55.6657227, 55.6657227, 55...   \n2      [55.64641920439919, 55.6669147, 55.6757322, 55...   \n3      [55.64641920439919, 55.6669147, 55.671473, 55....   \n4      [55.64641920439919, 55.64641920439919, 55.6669...   \n...                                                  ...   \n17662  [56.0667627, 56.159131, 56.15884339999999, 56....   \n17663  [56.0667627, 56.159131, 56.15884339999999, 56....   \n17664  [56.0667627, 56.158392, 56.1596286, 56.1587772...   \n17665  [56.0667627, 56.158392, 56.1578712, 56.1588433...   \n17666  [56.0667627, 56.158392, 56.159131, 56.1596286,...   \n\n                                             current_lng day_of_week  \\\n0      [12.15372974969827, 12.5262801, 12.5619711, 12...      Friday   \n1      [12.15372974969827, 12.5653169, 12.5653169, 12...      Friday   \n2      [12.15372974969827, 12.5262801, 12.5619711, 12...      Friday   \n3      [12.15372974969827, 12.5262801, 12.561174, 12....      Friday   \n4      [12.15372974969827, 12.15372974969827, 12.5262...      Friday   \n...                                                  ...         ...   \n17662  [9.986944, 10.204122, 10.2037157, 10.1991044, ...   Wednesday   \n17663  [9.986944, 10.204122, 10.2037157, 10.1976219, ...   Wednesday   \n17664  [9.986944, 10.198705, 10.2089833, 10.2104772, ...   Wednesday   \n17665  [9.986944, 10.198705, 10.1991044, 10.2037157, ...   Wednesday   \n17666  [9.986944, 10.198705, 10.204122, 10.2089833, 1...   Wednesday   \n\n            date  ...                                 experience_feature  \\\n0     2024-01-18  ...                        [5, 5, 5, 5, 5, 5, 5, 5, 5]   \n1     2024-01-25  ...                     [4, 4, 4, 4, 4, 4, 4, 4, 4, 4]   \n2     2024-02-08  ...                        [6, 6, 6, 6, 6, 6, 6, 6, 6]   \n3     2024-02-22  ...                   [11, 11, 11, 11, 11, 11, 11, 11]   \n4     2024-02-29  ...       [11, 11, 11, 11, 11, 11, 11, 11, 11, 11, 11]   \n...          ...  ...                                                ...   \n17662 2024-05-21  ...  [9, 9, 9, 9, 9, 9, 9, 9, 9, 9, 9, 9, 9, 9, 9, ...   \n17663 2024-06-04  ...  [11, 11, 11, 11, 11, 11, 11, 11, 11, 11, 11, 1...   \n17664 2024-06-18  ...  [11, 11, 11, 11, 11, 11, 11, 11, 11, 11, 11, 1...   \n17665 2024-06-25  ...   [8, 8, 8, 8, 8, 8, 8, 8, 8, 8, 8, 8, 8, 8, 8, 8]   \n17666 2024-07-02  ...  [3, 3, 3, 3, 3, 3, 3, 3, 3, 3, 3, 3, 3, 3, 3, ...   \n\n                                             len_feature  \\\n0                            [9, 9, 9, 9, 9, 9, 9, 9, 9]   \n1               [10, 10, 10, 10, 10, 10, 10, 10, 10, 10]   \n2                            [9, 9, 9, 9, 9, 9, 9, 9, 9]   \n3                               [8, 8, 8, 8, 8, 8, 8, 8]   \n4           [11, 11, 11, 11, 11, 11, 11, 11, 11, 11, 11]   \n...                                                  ...   \n17662  [20, 20, 20, 20, 20, 20, 20, 20, 20, 20, 20, 2...   \n17663  [21, 21, 21, 21, 21, 21, 21, 21, 21, 21, 21, 2...   \n17664  [22, 22, 22, 22, 22, 22, 22, 22, 22, 22, 22, 2...   \n17665  [16, 16, 16, 16, 16, 16, 16, 16, 16, 16, 16, 1...   \n17666  [25, 25, 25, 25, 25, 25, 25, 25, 25, 25, 25, 2...   \n\n                                       driver_id_feature  \\\n0                            [1, 1, 1, 1, 1, 1, 1, 1, 1]   \n1                         [1, 1, 1, 1, 1, 1, 1, 1, 1, 1]   \n2                            [1, 1, 1, 1, 1, 1, 1, 1, 1]   \n3                               [1, 1, 1, 1, 1, 1, 1, 1]   \n4                      [1, 1, 1, 1, 1, 1, 1, 1, 1, 1, 1]   \n...                                                  ...   \n17662  [387, 387, 387, 387, 387, 387, 387, 387, 387, ...   \n17663  [387, 387, 387, 387, 387, 387, 387, 387, 387, ...   \n17664  [387, 387, 387, 387, 387, 387, 387, 387, 387, ...   \n17665  [387, 387, 387, 387, 387, 387, 387, 387, 387, ...   \n17666  [387, 387, 387, 387, 387, 387, 387, 387, 387, ...   \n\n                                    country_flag_feature  \\\n0                            [1, 1, 1, 1, 1, 1, 1, 1, 1]   \n1                         [1, 1, 1, 1, 1, 1, 1, 1, 1, 1]   \n2                            [1, 1, 1, 1, 1, 1, 1, 1, 1]   \n3                               [1, 1, 1, 1, 1, 1, 1, 1]   \n4                      [1, 1, 1, 1, 1, 1, 1, 1, 1, 1, 1]   \n...                                                  ...   \n17662  [1, 1, 1, 1, 1, 1, 1, 1, 1, 1, 1, 1, 1, 1, 1, ...   \n17663  [1, 1, 1, 1, 1, 1, 1, 1, 1, 1, 1, 1, 1, 1, 1, ...   \n17664  [1, 1, 1, 1, 1, 1, 1, 1, 1, 1, 1, 1, 1, 1, 1, ...   \n17665   [1, 1, 1, 1, 1, 1, 1, 1, 1, 1, 1, 1, 1, 1, 1, 1]   \n17666  [1, 1, 1, 1, 1, 1, 1, 1, 1, 1, 1, 1, 1, 1, 1, ...   \n\n                                     day_of_week_feature  \\\n0      [[0, 0, 0, 0, 0, 0, 0], [0, 0, 0, 0, 0, 0, 0],...   \n1      [[0, 0, 0, 0, 0, 0, 0], [0, 0, 0, 0, 0, 0, 0],...   \n2      [[0, 0, 0, 0, 0, 0, 0], [0, 0, 0, 0, 0, 0, 0],...   \n3      [[0, 0, 0, 0, 0, 0, 0], [0, 0, 0, 0, 0, 0, 0],...   \n4      [[0, 0, 0, 0, 0, 0, 0], [0, 0, 0, 0, 0, 0, 0],...   \n...                                                  ...   \n17662  [[0, 0, 0, 0, 0, 0, 0], [0, 0, 0, 0, 0, 0, 0],...   \n17663  [[0, 0, 0, 0, 0, 0, 0], [0, 0, 0, 0, 0, 0, 0],...   \n17664  [[0, 0, 0, 0, 0, 0, 0], [0, 0, 0, 0, 0, 0, 0],...   \n17665  [[0, 0, 0, 0, 0, 0, 0], [0, 0, 0, 0, 0, 0, 0],...   \n17666  [[0, 0, 0, 0, 0, 0, 0], [0, 0, 0, 0, 0, 0, 0],...   \n\n       day_of_week_encoded_ext  score_cumulative_avg  score_cumulative_driver  \\\n0        [1, 0, 0, 0, 0, 0, 0]              0.000000                 0.250000   \n1        [1, 0, 0, 0, 0, 0, 0]              0.500000                 0.285714   \n2        [1, 0, 0, 0, 0, 0, 0]              0.333333                 0.200000   \n3        [1, 0, 0, 0, 0, 0, 0]              0.250000                 0.200000   \n4        [1, 0, 0, 0, 0, 0, 0]              0.200000                 0.250000   \n...                        ...                   ...                      ...   \n17662    [0, 0, 0, 0, 0, 0, 1]              1.000000                 1.000000   \n17663    [0, 0, 0, 0, 0, 0, 1]              1.000000                 1.000000   \n17664    [0, 0, 0, 0, 0, 0, 1]              1.000000                 1.000000   \n17665    [0, 0, 0, 0, 0, 0, 1]              1.000000                 1.000000   \n17666    [0, 0, 0, 0, 0, 0, 1]              1.000000                 1.000000   \n\n      score_avg_total  split  \n0            0.607038  train  \n1            0.591422  train  \n2            0.564024  train  \n3            0.559459  train  \n4            0.554858  train  \n...               ...    ...  \n17662        0.542148  train  \n17663        0.542478  train  \n17664        0.539395  train  \n17665        0.540239    val  \n17666        0.538637   test  \n\n[17667 rows x 28 columns]",
      "text/html": "<div>\n<style scoped>\n    .dataframe tbody tr th:only-of-type {\n        vertical-align: middle;\n    }\n\n    .dataframe tbody tr th {\n        vertical-align: top;\n    }\n\n    .dataframe thead th {\n        text-align: right;\n    }\n</style>\n<table border=\"1\" class=\"dataframe\">\n  <thead>\n    <tr style=\"text-align: right;\">\n      <th></th>\n      <th>routes</th>\n      <th>actual_routes</th>\n      <th>driver_id</th>\n      <th>distance_route</th>\n      <th>distance_actual_route</th>\n      <th>last_two_weeks_count</th>\n      <th>current_lat</th>\n      <th>current_lng</th>\n      <th>day_of_week</th>\n      <th>date</th>\n      <th>...</th>\n      <th>experience_feature</th>\n      <th>len_feature</th>\n      <th>driver_id_feature</th>\n      <th>country_flag_feature</th>\n      <th>day_of_week_feature</th>\n      <th>day_of_week_encoded_ext</th>\n      <th>score_cumulative_avg</th>\n      <th>score_cumulative_driver</th>\n      <th>score_avg_total</th>\n      <th>split</th>\n    </tr>\n  </thead>\n  <tbody>\n    <tr>\n      <th>0</th>\n      <td>[1, 2, 3, 4, 5, 6, 6, 7, 8]</td>\n      <td>[1, 2, 3, 156, 4, 5, 5, 6, 7]</td>\n      <td>1255.0</td>\n      <td>[14.640018023192697, 1.5229312527257717, 0.185...</td>\n      <td>[14.640018023192697, 1.7084597707961175, 0.185...</td>\n      <td>5.0</td>\n      <td>[55.64641920439919, 55.6669147, 55.6757322, 55...</td>\n      <td>[12.15372974969827, 12.5262801, 12.5619711, 12...</td>\n      <td>Friday</td>\n      <td>2024-01-18</td>\n      <td>...</td>\n      <td>[5, 5, 5, 5, 5, 5, 5, 5, 5]</td>\n      <td>[9, 9, 9, 9, 9, 9, 9, 9, 9]</td>\n      <td>[1, 1, 1, 1, 1, 1, 1, 1, 1]</td>\n      <td>[1, 1, 1, 1, 1, 1, 1, 1, 1]</td>\n      <td>[[0, 0, 0, 0, 0, 0, 0], [0, 0, 0, 0, 0, 0, 0],...</td>\n      <td>[1, 0, 0, 0, 0, 0, 0]</td>\n      <td>0.000000</td>\n      <td>0.250000</td>\n      <td>0.607038</td>\n      <td>train</td>\n    </tr>\n    <tr>\n      <th>1</th>\n      <td>[1, 6, 6, 1, 2, 3, 4, 5, 7, 8]</td>\n      <td>[1, 5, 5, 1, 2, 3, 156, 4, 6, 7]</td>\n      <td>1255.0</td>\n      <td>[16.153537949626582, 0.0, 16.153537949626582, ...</td>\n      <td>[16.274521631876873, 0.18579849611701657, 0.70...</td>\n      <td>4.0</td>\n      <td>[55.64641920439919, 55.6657227, 55.6657227, 55...</td>\n      <td>[12.15372974969827, 12.5653169, 12.5653169, 12...</td>\n      <td>Friday</td>\n      <td>2024-01-25</td>\n      <td>...</td>\n      <td>[4, 4, 4, 4, 4, 4, 4, 4, 4, 4]</td>\n      <td>[10, 10, 10, 10, 10, 10, 10, 10, 10, 10]</td>\n      <td>[1, 1, 1, 1, 1, 1, 1, 1, 1, 1]</td>\n      <td>[1, 1, 1, 1, 1, 1, 1, 1, 1, 1]</td>\n      <td>[[0, 0, 0, 0, 0, 0, 0], [0, 0, 0, 0, 0, 0, 0],...</td>\n      <td>[1, 0, 0, 0, 0, 0, 0]</td>\n      <td>0.500000</td>\n      <td>0.285714</td>\n      <td>0.591422</td>\n      <td>train</td>\n    </tr>\n    <tr>\n      <th>2</th>\n      <td>[1, 2, 3, 4, 5, 6, 6, 7, 8]</td>\n      <td>[1, 2, 3, 156, 4, 5, 5, 6, 7]</td>\n      <td>1255.0</td>\n      <td>[14.640018023192697, 1.5229312527257717, 0.185...</td>\n      <td>[14.640018023192697, 1.7084597707961175, 0.185...</td>\n      <td>6.0</td>\n      <td>[55.64641920439919, 55.6669147, 55.6757322, 55...</td>\n      <td>[12.15372974969827, 12.5262801, 12.5619711, 12...</td>\n      <td>Friday</td>\n      <td>2024-02-08</td>\n      <td>...</td>\n      <td>[6, 6, 6, 6, 6, 6, 6, 6, 6]</td>\n      <td>[9, 9, 9, 9, 9, 9, 9, 9, 9]</td>\n      <td>[1, 1, 1, 1, 1, 1, 1, 1, 1]</td>\n      <td>[1, 1, 1, 1, 1, 1, 1, 1, 1]</td>\n      <td>[[0, 0, 0, 0, 0, 0, 0], [0, 0, 0, 0, 0, 0, 0],...</td>\n      <td>[1, 0, 0, 0, 0, 0, 0]</td>\n      <td>0.333333</td>\n      <td>0.200000</td>\n      <td>0.564024</td>\n      <td>train</td>\n    </tr>\n    <tr>\n      <th>3</th>\n      <td>[1, 2, 9, 4, 5, 6, 7, 8]</td>\n      <td>[1, 2, 14, 156, 4, 5, 6, 7]</td>\n      <td>1255.0</td>\n      <td>[14.640018023192697, 1.400306417188586, 0.4137...</td>\n      <td>[14.640018023192697, 1.400306417188586, 0.4137...</td>\n      <td>11.0</td>\n      <td>[55.64641920439919, 55.6669147, 55.671473, 55....</td>\n      <td>[12.15372974969827, 12.5262801, 12.561174, 12....</td>\n      <td>Friday</td>\n      <td>2024-02-22</td>\n      <td>...</td>\n      <td>[11, 11, 11, 11, 11, 11, 11, 11]</td>\n      <td>[8, 8, 8, 8, 8, 8, 8, 8]</td>\n      <td>[1, 1, 1, 1, 1, 1, 1, 1]</td>\n      <td>[1, 1, 1, 1, 1, 1, 1, 1]</td>\n      <td>[[0, 0, 0, 0, 0, 0, 0], [0, 0, 0, 0, 0, 0, 0],...</td>\n      <td>[1, 0, 0, 0, 0, 0, 0]</td>\n      <td>0.250000</td>\n      <td>0.200000</td>\n      <td>0.559459</td>\n      <td>train</td>\n    </tr>\n    <tr>\n      <th>4</th>\n      <td>[1, 1, 2, 9, 3, 4, 5, 6, 7, 10, 8]</td>\n      <td>[1, 1, 2, 14, 3, 156, 4, 5, 6, 3769, 7]</td>\n      <td>1255.0</td>\n      <td>[0.0, 14.640018023192697, 1.400306417188586, 0...</td>\n      <td>[0.0, 14.640018023192697, 1.400306417188586, 0...</td>\n      <td>11.0</td>\n      <td>[55.64641920439919, 55.64641920439919, 55.6669...</td>\n      <td>[12.15372974969827, 12.15372974969827, 12.5262...</td>\n      <td>Friday</td>\n      <td>2024-02-29</td>\n      <td>...</td>\n      <td>[11, 11, 11, 11, 11, 11, 11, 11, 11, 11, 11]</td>\n      <td>[11, 11, 11, 11, 11, 11, 11, 11, 11, 11, 11]</td>\n      <td>[1, 1, 1, 1, 1, 1, 1, 1, 1, 1, 1]</td>\n      <td>[1, 1, 1, 1, 1, 1, 1, 1, 1, 1, 1]</td>\n      <td>[[0, 0, 0, 0, 0, 0, 0], [0, 0, 0, 0, 0, 0, 0],...</td>\n      <td>[1, 0, 0, 0, 0, 0, 0]</td>\n      <td>0.200000</td>\n      <td>0.250000</td>\n      <td>0.554858</td>\n      <td>train</td>\n    </tr>\n    <tr>\n      <th>...</th>\n      <td>...</td>\n      <td>...</td>\n      <td>...</td>\n      <td>...</td>\n      <td>...</td>\n      <td>...</td>\n      <td>...</td>\n      <td>...</td>\n      <td>...</td>\n      <td>...</td>\n      <td>...</td>\n      <td>...</td>\n      <td>...</td>\n      <td>...</td>\n      <td>...</td>\n      <td>...</td>\n      <td>...</td>\n      <td>...</td>\n      <td>...</td>\n      <td>...</td>\n      <td>...</td>\n    </tr>\n    <tr>\n      <th>17662</th>\n      <td>[8656, 9169, 9170, 9180, 9177, 9171, 9174, 917...</td>\n      <td>[4315, 9711, 9715, 9717, 9738, 9712, 9714, 971...</td>\n      <td>1555.0</td>\n      <td>[10.550783573784587, 0.025338060555759063, 0.1...</td>\n      <td>[10.649090169527625, 0.036295189300920946, 0.0...</td>\n      <td>9.0</td>\n      <td>[56.0667627, 56.159131, 56.15884339999999, 56....</td>\n      <td>[9.986944, 10.204122, 10.2037157, 10.1991044, ...</td>\n      <td>Wednesday</td>\n      <td>2024-05-21</td>\n      <td>...</td>\n      <td>[9, 9, 9, 9, 9, 9, 9, 9, 9, 9, 9, 9, 9, 9, 9, ...</td>\n      <td>[20, 20, 20, 20, 20, 20, 20, 20, 20, 20, 20, 2...</td>\n      <td>[387, 387, 387, 387, 387, 387, 387, 387, 387, ...</td>\n      <td>[1, 1, 1, 1, 1, 1, 1, 1, 1, 1, 1, 1, 1, 1, 1, ...</td>\n      <td>[[0, 0, 0, 0, 0, 0, 0], [0, 0, 0, 0, 0, 0, 0],...</td>\n      <td>[0, 0, 0, 0, 0, 0, 1]</td>\n      <td>1.000000</td>\n      <td>1.000000</td>\n      <td>0.542148</td>\n      <td>train</td>\n    </tr>\n    <tr>\n      <th>17663</th>\n      <td>[8656, 9169, 9170, 9183, 9180, 9171, 9174, 917...</td>\n      <td>[4315, 9711, 9715, 9710, 9717, 9712, 9714, 971...</td>\n      <td>1555.0</td>\n      <td>[10.550783573784587, 0.025338060555759063, 0.2...</td>\n      <td>[10.546100389513956, 0.2605297061859036, 0.209...</td>\n      <td>11.0</td>\n      <td>[56.0667627, 56.159131, 56.15884339999999, 56....</td>\n      <td>[9.986944, 10.204122, 10.2037157, 10.1976219, ...</td>\n      <td>Wednesday</td>\n      <td>2024-06-04</td>\n      <td>...</td>\n      <td>[11, 11, 11, 11, 11, 11, 11, 11, 11, 11, 11, 1...</td>\n      <td>[21, 21, 21, 21, 21, 21, 21, 21, 21, 21, 21, 2...</td>\n      <td>[387, 387, 387, 387, 387, 387, 387, 387, 387, ...</td>\n      <td>[1, 1, 1, 1, 1, 1, 1, 1, 1, 1, 1, 1, 1, 1, 1, ...</td>\n      <td>[[0, 0, 0, 0, 0, 0, 0], [0, 0, 0, 0, 0, 0, 0],...</td>\n      <td>[0, 0, 0, 0, 0, 0, 1]</td>\n      <td>1.000000</td>\n      <td>1.000000</td>\n      <td>0.542478</td>\n      <td>train</td>\n    </tr>\n    <tr>\n      <th>17664</th>\n      <td>[8656, 9179, 9171, 9174, 9175, 9169, 9181, 918...</td>\n      <td>[4315, 8575, 9712, 9714, 9713, 9711, 9739, 971...</td>\n      <td>1555.0</td>\n      <td>[10.35361799875347, 0.40596031876087574, 0.082...</td>\n      <td>[10.72146514256661, 0.09549283569487783, 0.403...</td>\n      <td>11.0</td>\n      <td>[56.0667627, 56.158392, 56.1596286, 56.1587772...</td>\n      <td>[9.986944, 10.198705, 10.2089833, 10.2104772, ...</td>\n      <td>Wednesday</td>\n      <td>2024-06-18</td>\n      <td>...</td>\n      <td>[11, 11, 11, 11, 11, 11, 11, 11, 11, 11, 11, 1...</td>\n      <td>[22, 22, 22, 22, 22, 22, 22, 22, 22, 22, 22, 2...</td>\n      <td>[387, 387, 387, 387, 387, 387, 387, 387, 387, ...</td>\n      <td>[1, 1, 1, 1, 1, 1, 1, 1, 1, 1, 1, 1, 1, 1, 1, ...</td>\n      <td>[[0, 0, 0, 0, 0, 0, 0], [0, 0, 0, 0, 0, 0, 0],...</td>\n      <td>[0, 0, 0, 0, 0, 0, 1]</td>\n      <td>1.000000</td>\n      <td>1.000000</td>\n      <td>0.539395</td>\n      <td>train</td>\n    </tr>\n    <tr>\n      <th>17665</th>\n      <td>[8656, 9179, 9180, 9170, 9171, 9175, 9172, 917...</td>\n      <td>[4315, 8575, 9717, 9715, 9712, 9713, 9977, 699...</td>\n      <td>1555.0</td>\n      <td>[10.35361799875347, 0.03919354991180035, 0.190...</td>\n      <td>[10.343876004844796, 0.19032608932355963, 0.66...</td>\n      <td>8.0</td>\n      <td>[56.0667627, 56.158392, 56.1578712, 56.1588433...</td>\n      <td>[9.986944, 10.198705, 10.1991044, 10.2037157, ...</td>\n      <td>Wednesday</td>\n      <td>2024-06-25</td>\n      <td>...</td>\n      <td>[8, 8, 8, 8, 8, 8, 8, 8, 8, 8, 8, 8, 8, 8, 8, 8]</td>\n      <td>[16, 16, 16, 16, 16, 16, 16, 16, 16, 16, 16, 1...</td>\n      <td>[387, 387, 387, 387, 387, 387, 387, 387, 387, ...</td>\n      <td>[1, 1, 1, 1, 1, 1, 1, 1, 1, 1, 1, 1, 1, 1, 1, 1]</td>\n      <td>[[0, 0, 0, 0, 0, 0, 0], [0, 0, 0, 0, 0, 0, 0],...</td>\n      <td>[0, 0, 0, 0, 0, 0, 1]</td>\n      <td>1.000000</td>\n      <td>1.000000</td>\n      <td>0.540239</td>\n      <td>val</td>\n    </tr>\n    <tr>\n      <th>17666</th>\n      <td>[8656, 9179, 9169, 9171, 9171, 9174, 9175, 917...</td>\n      <td>[4315, 8575, 9711, 9712, 9712, 9714, 9713, 584...</td>\n      <td>1555.0</td>\n      <td>[10.35361799875347, 0.21530908942333182, 0.190...</td>\n      <td>[10.550783573784587, 0.24659091695350344, 0.10...</td>\n      <td>3.0</td>\n      <td>[56.0667627, 56.158392, 56.159131, 56.1596286,...</td>\n      <td>[9.986944, 10.198705, 10.204122, 10.2089833, 1...</td>\n      <td>Wednesday</td>\n      <td>2024-07-02</td>\n      <td>...</td>\n      <td>[3, 3, 3, 3, 3, 3, 3, 3, 3, 3, 3, 3, 3, 3, 3, ...</td>\n      <td>[25, 25, 25, 25, 25, 25, 25, 25, 25, 25, 25, 2...</td>\n      <td>[387, 387, 387, 387, 387, 387, 387, 387, 387, ...</td>\n      <td>[1, 1, 1, 1, 1, 1, 1, 1, 1, 1, 1, 1, 1, 1, 1, ...</td>\n      <td>[[0, 0, 0, 0, 0, 0, 0], [0, 0, 0, 0, 0, 0, 0],...</td>\n      <td>[0, 0, 0, 0, 0, 0, 1]</td>\n      <td>1.000000</td>\n      <td>1.000000</td>\n      <td>0.538637</td>\n      <td>test</td>\n    </tr>\n  </tbody>\n</table>\n<p>17667 rows × 28 columns</p>\n</div>"
     },
     "execution_count": 32,
     "metadata": {},
     "output_type": "execute_result"
    }
   ],
   "source": [
    "final_routes_split"
   ],
   "metadata": {
    "collapsed": false,
    "pycharm": {
     "name": "#%%\n"
    }
   }
  },
  {
   "cell_type": "code",
   "execution_count": 33,
   "outputs": [
    {
     "name": "stdout",
     "output_type": "stream",
     "text": [
      "13823 2188 1656\n",
      "{'acc': 0.7143510054844607, 'precision': 0.7061769616026711, 'recall': 0.7560321715817694, 'f1': 0.7302546396201985, 'roc_auc': 0.713376235463476, 'average_precision': 0.6586639826058708, 'quadratic_loss': 1.125556317746882, 'brier_score': 0.19601517330062207, 'true_positive': 846, 'false_positive': 352, 'true_negative': 717, 'false_negative': 273}\n",
      "{'acc': 0.7125603864734299, 'precision': 0.7002212389380531, 'recall': 0.7553699284009546, 'f1': 0.7267508610792193, 'roc_auc': 0.7120370424400861, 'average_precision': 0.6527183376528659, 'quadratic_loss': 1.2010726563682181, 'brier_score': 0.19659934001855467, 'true_positive': 633, 'false_positive': 271, 'true_negative': 547, 'false_negative': 205}\n"
     ]
    },
    {
     "data": {
      "text/plain": "       day_1.0  day_2.0  day_3.0  day_4.0  day_5.0  day_6.0  day_7.0  \\\n7            1        0        0        0        0        0        0   \n26           0        1        0        0        0        0        0   \n27           0        1        0        0        0        0        0   \n38           0        0        0        1        0        0        0   \n55           0        0        0        0        1        0        0   \n...        ...      ...      ...      ...      ...      ...      ...   \n17623        1        0        0        0        0        0        0   \n17633        0        1        0        0        0        0        0   \n17648        0        0        0        0        1        0        0   \n17657        0        0        0        0        0        1        0   \n17666        0        0        0        0        0        0        1   \n\n       driver_1  driver_2  driver_3  ...  driver_307  driver_308  driver_309  \\\n7             1         0         0  ...           0           0           0   \n26            1         0         0  ...           0           0           0   \n27            1         0         0  ...           0           0           0   \n38            1         0         0  ...           0           0           0   \n55            1         0         0  ...           0           0           0   \n...         ...       ...       ...  ...         ...         ...         ...   \n17623         0         0         0  ...           0           0           0   \n17633         0         0         0  ...           0           0           0   \n17648         0         0         0  ...           0           0           0   \n17657         0         0         0  ...           0           0           0   \n17666         0         0         0  ...           0           0           0   \n\n       driver_310  driver_311  driver_312  driver_313  driver_314  label  \\\n7               0           0           0           0           0    1.0   \n26              0           0           0           0           0    1.0   \n27              0           0           0           0           0    0.0   \n38              0           0           0           0           0    1.0   \n55              0           0           0           0           0    1.0   \n...           ...         ...         ...         ...         ...    ...   \n17623           0           0           0           0           1    1.0   \n17633           0           0           0           0           1    1.0   \n17648           0           0           0           0           1    1.0   \n17657           0           0           0           0           1    1.0   \n17666           0           0           0           0           1    1.0   \n\n                                                  routes  \n7                    [1, 10, 11, 9, 3, 4, 5, 6, 6, 7, 8]  \n26                      [1, 17, 5, 6, 6, 10, 8, 7, 3, 4]  \n27                         [1, 17, 10, 6, 6, 5, 4, 7, 8]  \n38               [1, 13, 10, 17, 9, 3, 4, 5, 6, 6, 7, 8]  \n55                [1, 1, 17, 10, 5, 4, 3, 9, 6, 6, 7, 8]  \n...                                                  ...  \n17623  [8656, 9169, 9170, 9177, 9171, 9221, 9175, 917...  \n17633  [8656, 9179, 9171, 9174, 9175, 9221, 9177, 916...  \n17648  [8656, 9179, 9208, 9180, 9171, 9177, 9169, 917...  \n17657  [8656, 9179, 9180, 9208, 9169, 9177, 9171, 917...  \n17666  [8656, 9179, 9169, 9171, 9171, 9174, 9175, 917...  \n\n[1656 rows x 323 columns]",
      "text/html": "<div>\n<style scoped>\n    .dataframe tbody tr th:only-of-type {\n        vertical-align: middle;\n    }\n\n    .dataframe tbody tr th {\n        vertical-align: top;\n    }\n\n    .dataframe thead th {\n        text-align: right;\n    }\n</style>\n<table border=\"1\" class=\"dataframe\">\n  <thead>\n    <tr style=\"text-align: right;\">\n      <th></th>\n      <th>day_1.0</th>\n      <th>day_2.0</th>\n      <th>day_3.0</th>\n      <th>day_4.0</th>\n      <th>day_5.0</th>\n      <th>day_6.0</th>\n      <th>day_7.0</th>\n      <th>driver_1</th>\n      <th>driver_2</th>\n      <th>driver_3</th>\n      <th>...</th>\n      <th>driver_307</th>\n      <th>driver_308</th>\n      <th>driver_309</th>\n      <th>driver_310</th>\n      <th>driver_311</th>\n      <th>driver_312</th>\n      <th>driver_313</th>\n      <th>driver_314</th>\n      <th>label</th>\n      <th>routes</th>\n    </tr>\n  </thead>\n  <tbody>\n    <tr>\n      <th>7</th>\n      <td>1</td>\n      <td>0</td>\n      <td>0</td>\n      <td>0</td>\n      <td>0</td>\n      <td>0</td>\n      <td>0</td>\n      <td>1</td>\n      <td>0</td>\n      <td>0</td>\n      <td>...</td>\n      <td>0</td>\n      <td>0</td>\n      <td>0</td>\n      <td>0</td>\n      <td>0</td>\n      <td>0</td>\n      <td>0</td>\n      <td>0</td>\n      <td>1.0</td>\n      <td>[1, 10, 11, 9, 3, 4, 5, 6, 6, 7, 8]</td>\n    </tr>\n    <tr>\n      <th>26</th>\n      <td>0</td>\n      <td>1</td>\n      <td>0</td>\n      <td>0</td>\n      <td>0</td>\n      <td>0</td>\n      <td>0</td>\n      <td>1</td>\n      <td>0</td>\n      <td>0</td>\n      <td>...</td>\n      <td>0</td>\n      <td>0</td>\n      <td>0</td>\n      <td>0</td>\n      <td>0</td>\n      <td>0</td>\n      <td>0</td>\n      <td>0</td>\n      <td>1.0</td>\n      <td>[1, 17, 5, 6, 6, 10, 8, 7, 3, 4]</td>\n    </tr>\n    <tr>\n      <th>27</th>\n      <td>0</td>\n      <td>1</td>\n      <td>0</td>\n      <td>0</td>\n      <td>0</td>\n      <td>0</td>\n      <td>0</td>\n      <td>1</td>\n      <td>0</td>\n      <td>0</td>\n      <td>...</td>\n      <td>0</td>\n      <td>0</td>\n      <td>0</td>\n      <td>0</td>\n      <td>0</td>\n      <td>0</td>\n      <td>0</td>\n      <td>0</td>\n      <td>0.0</td>\n      <td>[1, 17, 10, 6, 6, 5, 4, 7, 8]</td>\n    </tr>\n    <tr>\n      <th>38</th>\n      <td>0</td>\n      <td>0</td>\n      <td>0</td>\n      <td>1</td>\n      <td>0</td>\n      <td>0</td>\n      <td>0</td>\n      <td>1</td>\n      <td>0</td>\n      <td>0</td>\n      <td>...</td>\n      <td>0</td>\n      <td>0</td>\n      <td>0</td>\n      <td>0</td>\n      <td>0</td>\n      <td>0</td>\n      <td>0</td>\n      <td>0</td>\n      <td>1.0</td>\n      <td>[1, 13, 10, 17, 9, 3, 4, 5, 6, 6, 7, 8]</td>\n    </tr>\n    <tr>\n      <th>55</th>\n      <td>0</td>\n      <td>0</td>\n      <td>0</td>\n      <td>0</td>\n      <td>1</td>\n      <td>0</td>\n      <td>0</td>\n      <td>1</td>\n      <td>0</td>\n      <td>0</td>\n      <td>...</td>\n      <td>0</td>\n      <td>0</td>\n      <td>0</td>\n      <td>0</td>\n      <td>0</td>\n      <td>0</td>\n      <td>0</td>\n      <td>0</td>\n      <td>1.0</td>\n      <td>[1, 1, 17, 10, 5, 4, 3, 9, 6, 6, 7, 8]</td>\n    </tr>\n    <tr>\n      <th>...</th>\n      <td>...</td>\n      <td>...</td>\n      <td>...</td>\n      <td>...</td>\n      <td>...</td>\n      <td>...</td>\n      <td>...</td>\n      <td>...</td>\n      <td>...</td>\n      <td>...</td>\n      <td>...</td>\n      <td>...</td>\n      <td>...</td>\n      <td>...</td>\n      <td>...</td>\n      <td>...</td>\n      <td>...</td>\n      <td>...</td>\n      <td>...</td>\n      <td>...</td>\n      <td>...</td>\n    </tr>\n    <tr>\n      <th>17623</th>\n      <td>1</td>\n      <td>0</td>\n      <td>0</td>\n      <td>0</td>\n      <td>0</td>\n      <td>0</td>\n      <td>0</td>\n      <td>0</td>\n      <td>0</td>\n      <td>0</td>\n      <td>...</td>\n      <td>0</td>\n      <td>0</td>\n      <td>0</td>\n      <td>0</td>\n      <td>0</td>\n      <td>0</td>\n      <td>0</td>\n      <td>1</td>\n      <td>1.0</td>\n      <td>[8656, 9169, 9170, 9177, 9171, 9221, 9175, 917...</td>\n    </tr>\n    <tr>\n      <th>17633</th>\n      <td>0</td>\n      <td>1</td>\n      <td>0</td>\n      <td>0</td>\n      <td>0</td>\n      <td>0</td>\n      <td>0</td>\n      <td>0</td>\n      <td>0</td>\n      <td>0</td>\n      <td>...</td>\n      <td>0</td>\n      <td>0</td>\n      <td>0</td>\n      <td>0</td>\n      <td>0</td>\n      <td>0</td>\n      <td>0</td>\n      <td>1</td>\n      <td>1.0</td>\n      <td>[8656, 9179, 9171, 9174, 9175, 9221, 9177, 916...</td>\n    </tr>\n    <tr>\n      <th>17648</th>\n      <td>0</td>\n      <td>0</td>\n      <td>0</td>\n      <td>0</td>\n      <td>1</td>\n      <td>0</td>\n      <td>0</td>\n      <td>0</td>\n      <td>0</td>\n      <td>0</td>\n      <td>...</td>\n      <td>0</td>\n      <td>0</td>\n      <td>0</td>\n      <td>0</td>\n      <td>0</td>\n      <td>0</td>\n      <td>0</td>\n      <td>1</td>\n      <td>1.0</td>\n      <td>[8656, 9179, 9208, 9180, 9171, 9177, 9169, 917...</td>\n    </tr>\n    <tr>\n      <th>17657</th>\n      <td>0</td>\n      <td>0</td>\n      <td>0</td>\n      <td>0</td>\n      <td>0</td>\n      <td>1</td>\n      <td>0</td>\n      <td>0</td>\n      <td>0</td>\n      <td>0</td>\n      <td>...</td>\n      <td>0</td>\n      <td>0</td>\n      <td>0</td>\n      <td>0</td>\n      <td>0</td>\n      <td>0</td>\n      <td>0</td>\n      <td>1</td>\n      <td>1.0</td>\n      <td>[8656, 9179, 9180, 9208, 9169, 9177, 9171, 917...</td>\n    </tr>\n    <tr>\n      <th>17666</th>\n      <td>0</td>\n      <td>0</td>\n      <td>0</td>\n      <td>0</td>\n      <td>0</td>\n      <td>0</td>\n      <td>1</td>\n      <td>0</td>\n      <td>0</td>\n      <td>0</td>\n      <td>...</td>\n      <td>0</td>\n      <td>0</td>\n      <td>0</td>\n      <td>0</td>\n      <td>0</td>\n      <td>0</td>\n      <td>0</td>\n      <td>1</td>\n      <td>1.0</td>\n      <td>[8656, 9179, 9169, 9171, 9171, 9174, 9175, 917...</td>\n    </tr>\n  </tbody>\n</table>\n<p>1656 rows × 323 columns</p>\n</div>"
     },
     "execution_count": 33,
     "metadata": {},
     "output_type": "execute_result"
    }
   ],
   "source": [
    "from sklearn.ensemble import RandomForestRegressor\n",
    "import numpy as np\n",
    "import pandas as pd\n",
    "import matplotlib.pyplot as plt\n",
    "from sklearn.metrics import confusion_matrix\n",
    "\n",
    "# Assuming final_routes dataframe is available and sorted by date\n",
    "# If not, make sure to sort it by date first\n",
    "\n",
    "# Prepare the data\n",
    "rf_df = final_routes_split[['driver_id_sorted', 'day_of_week_encoded', 'label', 'split', 'routes']]\n",
    "o_day_of = pd.get_dummies(rf_df['day_of_week_encoded'], prefix='day')\n",
    "o_driver = pd.get_dummies(rf_df['driver_id_sorted'], prefix='driver')\n",
    "rf_df = pd.concat([o_day_of, o_driver, rf_df['split'], rf_df['label'], rf_df['routes']], axis=1)\n",
    "\n",
    "\n",
    "for col in rf_df.columns:\n",
    "    if col != 'split' and col != 'label' and col != 'routes':\n",
    "        rf_df[col] = rf_df[col].astype(int)\n",
    "\n",
    "train_df = rf_df[rf_df['split'] == 'train'].drop('split', axis=1)\n",
    "val_df = rf_df[rf_df['split'] == 'val'].drop('split', axis=1)\n",
    "test_df = rf_df[rf_df['split'] == 'test'].drop('split', axis=1)\n",
    "\n",
    "# Create X_train and y_train\n",
    "X_train = train_df.drop('label', axis=1)\n",
    "y_train = train_df['label']\n",
    "\n",
    "# Create X_val and y_val (optional, but often useful)\n",
    "X_val = val_df.drop('label', axis=1)\n",
    "y_val = val_df['label']\n",
    "\n",
    "# Create X_test and y_test (optional, but often useful)\n",
    "X_test = test_df.drop('label', axis=1)\n",
    "y_test = test_df['label']\n",
    "\n",
    "print(len(train_df), len(val_df), len(test_df))\n",
    "#\n",
    "#\n",
    "# Train the model\n",
    "model = RandomForestRegressor(random_state=42)\n",
    "X_trainwr = X_train.drop('routes', axis=1)\n",
    "model.fit(X_trainwr, y_train)\n",
    "\n",
    "# Function to calculate metrics\n",
    "def calculate_metrics(y_true, y_pred, y_pred_proba):\n",
    "    acc = accuracy_score(y_true, y_pred)\n",
    "    precision = precision_score(y_true, y_pred)\n",
    "    recall = recall_score(y_true, y_pred)\n",
    "    f1 = f1_score(y_true, y_pred)\n",
    "    roc_auc = roc_auc_score(y_true, y_pred)\n",
    "    average_precision = average_precision_score(y_true, y_pred)\n",
    "    quadratic_loss = log_loss(y_true, y_pred_proba)\n",
    "    brier_score = brier_score_loss(y_true, y_pred_proba)\n",
    "    tn, fp, fn, tp = confusion_matrix(y_true, y_pred).ravel()\n",
    "\n",
    "    metrics = {\n",
    "        \"acc\": acc,\n",
    "        \"precision\": precision,\n",
    "        \"recall\": recall,\n",
    "        \"f1\": f1,\n",
    "        \"roc_auc\": roc_auc,\n",
    "        \"average_precision\": average_precision,\n",
    "        \"quadratic_loss\": quadratic_loss,\n",
    "        \"brier_score\": brier_score,\n",
    "        \"true_positive\": tp,\n",
    "        \"false_positive\": fp,\n",
    "        \"true_negative\": tn,\n",
    "        \"false_negative\": fn\n",
    "    }\n",
    "    return metrics\n",
    "\n",
    "# Evaluate on validation set\n",
    "y_val_pred_proba = model.predict(X_val.drop('routes', axis=1))\n",
    "y_val_pred = (y_val_pred_proba > 0.5).astype(int)\n",
    "val_metrics = calculate_metrics(y_val, y_val_pred, y_val_pred_proba)\n",
    "\n",
    "y_test_pred_proba = model.predict(X_test.drop('routes', axis=1))\n",
    "y_test_pred = (y_test_pred_proba > 0.5).astype(int)\n",
    "test_metrics = calculate_metrics(y_test, y_test_pred, y_test_pred_proba)\n",
    "\n",
    "print(val_metrics)\n",
    "print(test_metrics)\n",
    "\n",
    "test_df_group_RF = categorize_predictions(test_df, y_test, y_test_pred, y_test_pred_proba)\n",
    "test_df_group_RF\n",
    "test_df"
   ],
   "metadata": {
    "collapsed": false,
    "pycharm": {
     "name": "#%%\n"
    }
   }
  },
  {
   "cell_type": "code",
   "execution_count": 34,
   "outputs": [
    {
     "data": {
      "text/plain": "26                        [1, 17, 5, 6, 6, 10, 8, 7, 3, 4]\n38                 [1, 13, 10, 17, 9, 3, 4, 5, 6, 6, 7, 8]\n55                  [1, 1, 17, 10, 5, 4, 3, 9, 6, 6, 7, 8]\n56               [1, 6, 9, 3, 4, 17, 10, 5, 5, 7, 8, 1, 6]\n74                        [1, 17, 10, 6, 6, 5, 9, 3, 7, 8]\n                               ...                        \n17623    [8656, 9169, 9170, 9177, 9171, 9221, 9175, 917...\n17633    [8656, 9179, 9171, 9174, 9175, 9221, 9177, 916...\n17648    [8656, 9179, 9208, 9180, 9171, 9177, 9169, 917...\n17657    [8656, 9179, 9180, 9208, 9169, 9177, 9171, 917...\n17666    [8656, 9179, 9169, 9171, 9171, 9174, 9175, 917...\nName: routes, Length: 633, dtype: object"
     },
     "execution_count": 34,
     "metadata": {},
     "output_type": "execute_result"
    }
   ],
   "source": [
    "test_df_group_RF[test_df_group_RF['prediction_category'] == 'True Positive']['routes']"
   ],
   "metadata": {
    "collapsed": false,
    "pycharm": {
     "name": "#%%\n"
    }
   }
  },
  {
   "cell_type": "code",
   "execution_count": 35,
   "outputs": [
    {
     "name": "stdout",
     "output_type": "stream",
     "text": [
      "Routes unique to HA model: 0\n",
      "Sample of HA-only routes: []\n",
      "\n",
      "Routes unique to RF model: 19\n",
      "Sample of RF-only routes: [[1, 1, 224, 1522, 66, 66, 34, 6420, 65, 222], [1, 5162, 1054, 259, 1055, 1], [1272, 1652, 1653, 1654, 1879, 1685, 1686, 1878, 1849, 2111, 1264, 7513], [1, 1026, 1026, 1514, 1515, 294, 1002, 680, 680, 1043, 339, 275], [1, 722, 731, 752, 733, 760, 736, 727, 735, 728, 739, 364]]\n"
     ]
    }
   ],
   "source": [
    "ha_tp_routes = test_df_group_HA[test_df_group_HA['prediction_category'] == 'False Positive']['routes'].tolist()\n",
    "rf_tp_routes = test_df_group_RF[test_df_group_RF['prediction_category'] == 'False Positive']['routes'].tolist()\n",
    "\n",
    "# Convert lists to sets of tuples for comparison\n",
    "ha_tp_routes_set = set(tuple(route) for route in ha_tp_routes)\n",
    "rf_tp_routes_set = set(tuple(route) for route in rf_tp_routes)\n",
    "\n",
    "# Find non-overlapping routes\n",
    "ha_only_routes = ha_tp_routes_set - rf_tp_routes_set\n",
    "rf_only_routes = rf_tp_routes_set - ha_tp_routes_set\n",
    "\n",
    "# Convert back to lists for display\n",
    "ha_only_routes = [list(route) for route in ha_only_routes]\n",
    "rf_only_routes = [list(route) for route in rf_only_routes]\n",
    "\n",
    "print(\"Routes unique to HA model:\", len(ha_only_routes))\n",
    "print(\"Sample of HA-only routes:\", ha_only_routes[:5])\n",
    "\n",
    "print(\"\\nRoutes unique to RF model:\", len(rf_only_routes))\n",
    "print(\"Sample of RF-only routes:\", rf_only_routes[:5])"
   ],
   "metadata": {
    "collapsed": false,
    "pycharm": {
     "name": "#%%\n"
    }
   }
  },
  {
   "cell_type": "code",
   "execution_count": 36,
   "outputs": [
    {
     "name": "stdout",
     "output_type": "stream",
     "text": [
      "Epoch [10/100], Train Loss: 0.6935, Val Loss: 0.6904\n",
      "Epoch [20/100], Train Loss: 0.6823, Val Loss: 0.6831\n",
      "Epoch [30/100], Train Loss: 0.6679, Val Loss: 0.6734\n",
      "Epoch [40/100], Train Loss: 0.6496, Val Loss: 0.6609\n",
      "Epoch [50/100], Train Loss: 0.6279, Val Loss: 0.6454\n",
      "Epoch [60/100], Train Loss: 0.6041, Val Loss: 0.6274\n",
      "Epoch [70/100], Train Loss: 0.5801, Val Loss: 0.6091\n",
      "Epoch [80/100], Train Loss: 0.5582, Val Loss: 0.5935\n",
      "Epoch [90/100], Train Loss: 0.5400, Val Loss: 0.5817\n",
      "Epoch [100/100], Train Loss: 0.5258, Val Loss: 0.5736\n",
      "{'acc': 0.7083333333333334, 'precision': 0.6839378238341969, 'recall': 0.7875894988066826, 'f1': 0.7321131447587355, 'roc_auc': 0.7073644315549306, 'average_precision': 0.6461501705938223, 'quadratic_loss': 0.5722858352739434, 'brier_score': 0.19321791756549994, 'true_positive': 660, 'false_positive': 305, 'true_negative': 513, 'false_negative': 178}\n"
     ]
    },
    {
     "data": {
      "text/plain": "       day_1.0  day_2.0  day_3.0  day_4.0  day_5.0  day_6.0  day_7.0  \\\n7            1        0        0        0        0        0        0   \n26           0        1        0        0        0        0        0   \n27           0        1        0        0        0        0        0   \n38           0        0        0        1        0        0        0   \n55           0        0        0        0        1        0        0   \n...        ...      ...      ...      ...      ...      ...      ...   \n17623        1        0        0        0        0        0        0   \n17633        0        1        0        0        0        0        0   \n17648        0        0        0        0        1        0        0   \n17657        0        0        0        0        0        1        0   \n17666        0        0        0        0        0        0        1   \n\n       driver_1  driver_2  driver_3  ...  driver_308  driver_309  driver_310  \\\n7             1         0         0  ...           0           0           0   \n26            1         0         0  ...           0           0           0   \n27            1         0         0  ...           0           0           0   \n38            1         0         0  ...           0           0           0   \n55            1         0         0  ...           0           0           0   \n...         ...       ...       ...  ...         ...         ...         ...   \n17623         0         0         0  ...           0           0           0   \n17633         0         0         0  ...           0           0           0   \n17648         0         0         0  ...           0           0           0   \n17657         0         0         0  ...           0           0           0   \n17666         0         0         0  ...           0           0           0   \n\n       driver_311  driver_312  driver_313  driver_314  \\\n7               0           0           0           0   \n26              0           0           0           0   \n27              0           0           0           0   \n38              0           0           0           0   \n55              0           0           0           0   \n...           ...         ...         ...         ...   \n17623           0           0           0           1   \n17633           0           0           0           1   \n17648           0           0           0           1   \n17657           0           0           0           1   \n17666           0           0           0           1   \n\n                                                  routes  prediction_category  \\\n7                    [1, 10, 11, 9, 3, 4, 5, 6, 6, 7, 8]        True Positive   \n26                      [1, 17, 5, 6, 6, 10, 8, 7, 3, 4]        True Positive   \n27                         [1, 17, 10, 6, 6, 5, 4, 7, 8]       False Positive   \n38               [1, 13, 10, 17, 9, 3, 4, 5, 6, 6, 7, 8]        True Positive   \n55                [1, 1, 17, 10, 5, 4, 3, 9, 6, 6, 7, 8]        True Positive   \n...                                                  ...                  ...   \n17623  [8656, 9169, 9170, 9177, 9171, 9221, 9175, 917...        True Positive   \n17633  [8656, 9179, 9171, 9174, 9175, 9221, 9177, 916...        True Positive   \n17648  [8656, 9179, 9208, 9180, 9171, 9177, 9169, 917...        True Positive   \n17657  [8656, 9179, 9180, 9208, 9169, 9177, 9171, 917...        True Positive   \n17666  [8656, 9179, 9169, 9171, 9171, 9174, 9175, 917...        True Positive   \n\n       predictive_probability  \n7                    0.726546  \n26                   0.706859  \n27                   0.706859  \n38                   0.805362  \n55                   0.711726  \n...                       ...  \n17623                0.796079  \n17633                0.781804  \n17648                0.785387  \n17657                0.789889  \n17666                0.795056  \n\n[1656 rows x 324 columns]",
      "text/html": "<div>\n<style scoped>\n    .dataframe tbody tr th:only-of-type {\n        vertical-align: middle;\n    }\n\n    .dataframe tbody tr th {\n        vertical-align: top;\n    }\n\n    .dataframe thead th {\n        text-align: right;\n    }\n</style>\n<table border=\"1\" class=\"dataframe\">\n  <thead>\n    <tr style=\"text-align: right;\">\n      <th></th>\n      <th>day_1.0</th>\n      <th>day_2.0</th>\n      <th>day_3.0</th>\n      <th>day_4.0</th>\n      <th>day_5.0</th>\n      <th>day_6.0</th>\n      <th>day_7.0</th>\n      <th>driver_1</th>\n      <th>driver_2</th>\n      <th>driver_3</th>\n      <th>...</th>\n      <th>driver_308</th>\n      <th>driver_309</th>\n      <th>driver_310</th>\n      <th>driver_311</th>\n      <th>driver_312</th>\n      <th>driver_313</th>\n      <th>driver_314</th>\n      <th>routes</th>\n      <th>prediction_category</th>\n      <th>predictive_probability</th>\n    </tr>\n  </thead>\n  <tbody>\n    <tr>\n      <th>7</th>\n      <td>1</td>\n      <td>0</td>\n      <td>0</td>\n      <td>0</td>\n      <td>0</td>\n      <td>0</td>\n      <td>0</td>\n      <td>1</td>\n      <td>0</td>\n      <td>0</td>\n      <td>...</td>\n      <td>0</td>\n      <td>0</td>\n      <td>0</td>\n      <td>0</td>\n      <td>0</td>\n      <td>0</td>\n      <td>0</td>\n      <td>[1, 10, 11, 9, 3, 4, 5, 6, 6, 7, 8]</td>\n      <td>True Positive</td>\n      <td>0.726546</td>\n    </tr>\n    <tr>\n      <th>26</th>\n      <td>0</td>\n      <td>1</td>\n      <td>0</td>\n      <td>0</td>\n      <td>0</td>\n      <td>0</td>\n      <td>0</td>\n      <td>1</td>\n      <td>0</td>\n      <td>0</td>\n      <td>...</td>\n      <td>0</td>\n      <td>0</td>\n      <td>0</td>\n      <td>0</td>\n      <td>0</td>\n      <td>0</td>\n      <td>0</td>\n      <td>[1, 17, 5, 6, 6, 10, 8, 7, 3, 4]</td>\n      <td>True Positive</td>\n      <td>0.706859</td>\n    </tr>\n    <tr>\n      <th>27</th>\n      <td>0</td>\n      <td>1</td>\n      <td>0</td>\n      <td>0</td>\n      <td>0</td>\n      <td>0</td>\n      <td>0</td>\n      <td>1</td>\n      <td>0</td>\n      <td>0</td>\n      <td>...</td>\n      <td>0</td>\n      <td>0</td>\n      <td>0</td>\n      <td>0</td>\n      <td>0</td>\n      <td>0</td>\n      <td>0</td>\n      <td>[1, 17, 10, 6, 6, 5, 4, 7, 8]</td>\n      <td>False Positive</td>\n      <td>0.706859</td>\n    </tr>\n    <tr>\n      <th>38</th>\n      <td>0</td>\n      <td>0</td>\n      <td>0</td>\n      <td>1</td>\n      <td>0</td>\n      <td>0</td>\n      <td>0</td>\n      <td>1</td>\n      <td>0</td>\n      <td>0</td>\n      <td>...</td>\n      <td>0</td>\n      <td>0</td>\n      <td>0</td>\n      <td>0</td>\n      <td>0</td>\n      <td>0</td>\n      <td>0</td>\n      <td>[1, 13, 10, 17, 9, 3, 4, 5, 6, 6, 7, 8]</td>\n      <td>True Positive</td>\n      <td>0.805362</td>\n    </tr>\n    <tr>\n      <th>55</th>\n      <td>0</td>\n      <td>0</td>\n      <td>0</td>\n      <td>0</td>\n      <td>1</td>\n      <td>0</td>\n      <td>0</td>\n      <td>1</td>\n      <td>0</td>\n      <td>0</td>\n      <td>...</td>\n      <td>0</td>\n      <td>0</td>\n      <td>0</td>\n      <td>0</td>\n      <td>0</td>\n      <td>0</td>\n      <td>0</td>\n      <td>[1, 1, 17, 10, 5, 4, 3, 9, 6, 6, 7, 8]</td>\n      <td>True Positive</td>\n      <td>0.711726</td>\n    </tr>\n    <tr>\n      <th>...</th>\n      <td>...</td>\n      <td>...</td>\n      <td>...</td>\n      <td>...</td>\n      <td>...</td>\n      <td>...</td>\n      <td>...</td>\n      <td>...</td>\n      <td>...</td>\n      <td>...</td>\n      <td>...</td>\n      <td>...</td>\n      <td>...</td>\n      <td>...</td>\n      <td>...</td>\n      <td>...</td>\n      <td>...</td>\n      <td>...</td>\n      <td>...</td>\n      <td>...</td>\n      <td>...</td>\n    </tr>\n    <tr>\n      <th>17623</th>\n      <td>1</td>\n      <td>0</td>\n      <td>0</td>\n      <td>0</td>\n      <td>0</td>\n      <td>0</td>\n      <td>0</td>\n      <td>0</td>\n      <td>0</td>\n      <td>0</td>\n      <td>...</td>\n      <td>0</td>\n      <td>0</td>\n      <td>0</td>\n      <td>0</td>\n      <td>0</td>\n      <td>0</td>\n      <td>1</td>\n      <td>[8656, 9169, 9170, 9177, 9171, 9221, 9175, 917...</td>\n      <td>True Positive</td>\n      <td>0.796079</td>\n    </tr>\n    <tr>\n      <th>17633</th>\n      <td>0</td>\n      <td>1</td>\n      <td>0</td>\n      <td>0</td>\n      <td>0</td>\n      <td>0</td>\n      <td>0</td>\n      <td>0</td>\n      <td>0</td>\n      <td>0</td>\n      <td>...</td>\n      <td>0</td>\n      <td>0</td>\n      <td>0</td>\n      <td>0</td>\n      <td>0</td>\n      <td>0</td>\n      <td>1</td>\n      <td>[8656, 9179, 9171, 9174, 9175, 9221, 9177, 916...</td>\n      <td>True Positive</td>\n      <td>0.781804</td>\n    </tr>\n    <tr>\n      <th>17648</th>\n      <td>0</td>\n      <td>0</td>\n      <td>0</td>\n      <td>0</td>\n      <td>1</td>\n      <td>0</td>\n      <td>0</td>\n      <td>0</td>\n      <td>0</td>\n      <td>0</td>\n      <td>...</td>\n      <td>0</td>\n      <td>0</td>\n      <td>0</td>\n      <td>0</td>\n      <td>0</td>\n      <td>0</td>\n      <td>1</td>\n      <td>[8656, 9179, 9208, 9180, 9171, 9177, 9169, 917...</td>\n      <td>True Positive</td>\n      <td>0.785387</td>\n    </tr>\n    <tr>\n      <th>17657</th>\n      <td>0</td>\n      <td>0</td>\n      <td>0</td>\n      <td>0</td>\n      <td>0</td>\n      <td>1</td>\n      <td>0</td>\n      <td>0</td>\n      <td>0</td>\n      <td>0</td>\n      <td>...</td>\n      <td>0</td>\n      <td>0</td>\n      <td>0</td>\n      <td>0</td>\n      <td>0</td>\n      <td>0</td>\n      <td>1</td>\n      <td>[8656, 9179, 9180, 9208, 9169, 9177, 9171, 917...</td>\n      <td>True Positive</td>\n      <td>0.789889</td>\n    </tr>\n    <tr>\n      <th>17666</th>\n      <td>0</td>\n      <td>0</td>\n      <td>0</td>\n      <td>0</td>\n      <td>0</td>\n      <td>0</td>\n      <td>1</td>\n      <td>0</td>\n      <td>0</td>\n      <td>0</td>\n      <td>...</td>\n      <td>0</td>\n      <td>0</td>\n      <td>0</td>\n      <td>0</td>\n      <td>0</td>\n      <td>0</td>\n      <td>1</td>\n      <td>[8656, 9179, 9169, 9171, 9171, 9174, 9175, 917...</td>\n      <td>True Positive</td>\n      <td>0.795056</td>\n    </tr>\n  </tbody>\n</table>\n<p>1656 rows × 324 columns</p>\n</div>"
     },
     "execution_count": 36,
     "metadata": {},
     "output_type": "execute_result"
    }
   ],
   "source": [
    "import torch\n",
    "import torch.nn as nn\n",
    "import random\n",
    "import torch.optim as optim\n",
    "from sklearn.model_selection import KFold\n",
    "from sklearn.metrics import mean_squared_error, mean_absolute_error, r2_score\n",
    "import numpy as np\n",
    "import pandas as pd\n",
    "\n",
    "# Assuming final_routes dataframe and relevant imports are available\n",
    "def set_seed(seed):\n",
    "    np.random.seed(seed)\n",
    "    random.seed(seed)\n",
    "    torch.manual_seed(seed)\n",
    "    torch.cuda.manual_seed(seed)\n",
    "    torch.backends.cudnn.deterministic = True\n",
    "    torch.backends.cudnn.benchmark = False\n",
    "\n",
    "\n",
    "set_seed(42)\n",
    "torch.use_deterministic_algorithms(True)\n",
    "\n",
    "class SimpleNN(nn.Module):\n",
    "    def __init__(self, input_size):\n",
    "        super(SimpleNN, self).__init__()\n",
    "        self.layer1 = nn.Linear(input_size, 64)\n",
    "        self.layer2 = nn.Linear(64, 1)\n",
    "        self.sigmoid = nn.Sigmoid()\n",
    "        self.relu = nn.ReLU()\n",
    "\n",
    "    def forward(self, x):\n",
    "        x = self.relu(self.layer1(x))\n",
    "        x = self.layer2(x)\n",
    "        x = self.sigmoid(x)\n",
    "        return x\n",
    "\n",
    "# Convert data to PyTorch tensors\n",
    "X_train_tensor = torch.tensor(X_train.drop('routes', axis=1).values, dtype=torch.float32)\n",
    "y_train_tensor = torch.tensor(y_train.values, dtype=torch.float32).view(-1, 1)\n",
    "X_val_tensor = torch.tensor(X_val.drop('routes', axis=1).values, dtype=torch.float32)\n",
    "y_val_tensor = torch.tensor(y_val.values, dtype=torch.float32).view(-1, 1)\n",
    "X_test_tensor = torch.tensor(X_test.drop('routes', axis=1).values, dtype=torch.float32)\n",
    "y_test_tensor = torch.tensor(y_test.values, dtype=torch.float32).view(-1, 1)\n",
    "\n",
    "# Training settings\n",
    "num_epochs = 100\n",
    "learning_rate = 0.001\n",
    "\n",
    "model = SimpleNN(X_train.shape[1]-1)\n",
    "criterion = nn.BCELoss()\n",
    "optimizer = optim.Adam(model.parameters(), lr=learning_rate)\n",
    "\n",
    "# Training and validation loop\n",
    "best_val_loss = float('inf')\n",
    "best_model = None\n",
    "\n",
    "for epoch in range(num_epochs):\n",
    "    model.train()\n",
    "    optimizer.zero_grad()\n",
    "    outputs = model(X_train_tensor)\n",
    "    loss = criterion(outputs, y_train_tensor)\n",
    "    loss.backward()\n",
    "    optimizer.step()\n",
    "\n",
    "    # Validation\n",
    "    model.eval()\n",
    "    with torch.no_grad():\n",
    "        val_outputs = model(X_val_tensor)\n",
    "        val_loss = criterion(val_outputs, y_val_tensor)\n",
    "\n",
    "    if val_loss < best_val_loss:\n",
    "        best_val_loss = val_loss\n",
    "        best_model = model.state_dict()\n",
    "\n",
    "    if (epoch + 1) % 10 == 0:\n",
    "        print(f'Epoch [{epoch+1}/{num_epochs}], Train Loss: {loss.item():.4f}, Val Loss: {val_loss.item():.4f}')\n",
    "\n",
    "# Load the best model\n",
    "model.load_state_dict(best_model)\n",
    "\n",
    "# Evaluation on test set\n",
    "model.eval()\n",
    "with torch.no_grad():\n",
    "    y_pred = model(X_test_tensor)\n",
    "    y_true = y_test_tensor\n",
    "\n",
    "y_pred = y_pred.numpy()\n",
    "y_true = y_true.numpy()\n",
    "\n",
    "y_test_pred = (y_pred > 0.5).astype(int)\n",
    "test_metrics = calculate_metrics(y_test, y_test_pred, y_pred)\n",
    "\n",
    "print(test_metrics)\n",
    "\n",
    "y_pred = y_pred.flatten()\n",
    "y_test_pred = y_test_pred.flatten()\n",
    "\n",
    "test_df_group_NN = categorize_predictions(X_test, y_test, y_test_pred, y_pred)\n",
    "test_df_group_NN"
   ],
   "metadata": {
    "collapsed": false,
    "pycharm": {
     "name": "#%%\n"
    }
   }
  },
  {
   "cell_type": "code",
   "execution_count": 37,
   "outputs": [
    {
     "name": "stdout",
     "output_type": "stream",
     "text": [
      "Routes unique to HA model: 29\n",
      "Sample of HA-only routes: [[1272, 1752, 1864, 1786, 1788, 1564, 1851, 1570], [1162, 4385, 5696, 5696, 4360, 1162, 1162], [1, 1, 7431, 5001, 7201, 1144, 1144, 7202, 7437, 1148], [1272, 1573, 1573, 1574, 1272, 1633, 1813, 1777], [2116, 2141, 2174, 2164, 2781, 2148, 2498, 2271, 2413, 2274, 2410, 2252]]\n",
      "\n",
      "Routes unique to RF model: 81\n",
      "Sample of RF-only routes: [[1162, 5715, 7072, 7072, 4511, 5716, 5794, 5702, 7099, 7105], [1162, 3700, 3701, 6963, 3621, 3622, 3624, 3627, 3629, 3630], [1, 1386, 1399, 1400, 1401, 1382, 1380, 1381, 1407, 1388, 1405, 1389], [1, 991, 990, 741, 694, 1027, 1043, 311, 4993, 1050, 1050, 5160, 674, 6473, 281, 1005, 1], [1272, 1633, 1809, 1833]]\n"
     ]
    }
   ],
   "source": [
    "ha_tp_routes = test_df_group_HA[test_df_group_HA['prediction_category'] == 'False Positive']['routes'].tolist()\n",
    "nn_tp_routes = test_df_group_NN[test_df_group_NN['prediction_category'] == 'False Positive']['routes'].tolist()\n",
    "\n",
    "# Convert lists to sets of tuples for comparison\n",
    "ha_tp_routes_set = set(tuple(route) for route in ha_tp_routes)\n",
    "nn_tp_routes_set = set(tuple(route) for route in nn_tp_routes)\n",
    "\n",
    "# Find non-overlapping routes\n",
    "ha_only_routes = ha_tp_routes_set - nn_tp_routes_set\n",
    "nn_only_routes = nn_tp_routes_set - ha_tp_routes_set\n",
    "\n",
    "# Convert back to lists for display\n",
    "ha_only_routes = [list(route) for route in ha_only_routes]\n",
    "nn_only_routes = [list(route) for route in nn_only_routes]\n",
    "\n",
    "print(\"Routes unique to HA model:\", len(ha_only_routes))\n",
    "print(\"Sample of HA-only routes:\", ha_only_routes[:5])\n",
    "\n",
    "print(\"\\nRoutes unique to RF model:\", len(nn_only_routes))\n",
    "print(\"Sample of RF-only routes:\", nn_only_routes[:5])"
   ],
   "metadata": {
    "collapsed": false,
    "pycharm": {
     "name": "#%%\n"
    }
   }
  },
  {
   "cell_type": "code",
   "execution_count": 38,
   "outputs": [
    {
     "name": "stdout",
     "output_type": "stream",
     "text": [
      "1656 965\n",
      "1656 838\n"
     ]
    }
   ],
   "source": [
    "# unique_days = final_routes['day_of_week'].unique()\n",
    "# day_of_week_encoded = pd.get_dummies(final_routes['day_of_week'], prefix='day_of_week')\n",
    "# final_routes = pd.concat([final_routes, day_of_week_encoded], axis=1)\n",
    "# final_routes\n",
    "print(len(y_pred), len(y_pred[y_pred>0.5]))\n",
    "print(len(y_test), len(y_test[y_test>0.5]))"
   ],
   "metadata": {
    "collapsed": false,
    "pycharm": {
     "name": "#%%\n"
    }
   }
  },
  {
   "cell_type": "markdown",
   "source": [
    "# Model"
   ],
   "metadata": {
    "collapsed": false,
    "pycharm": {
     "name": "#%% md\n"
    }
   }
  },
  {
   "cell_type": "code",
   "execution_count": 39,
   "outputs": [
    {
     "data": {
      "text/plain": "                                                  routes  \\\n0                            [1, 2, 3, 4, 5, 6, 6, 7, 8]   \n1                         [1, 6, 6, 1, 2, 3, 4, 5, 7, 8]   \n2                            [1, 2, 3, 4, 5, 6, 6, 7, 8]   \n3                               [1, 2, 9, 4, 5, 6, 7, 8]   \n4                     [1, 1, 2, 9, 3, 4, 5, 6, 7, 10, 8]   \n...                                                  ...   \n17662  [8656, 9169, 9170, 9180, 9177, 9171, 9174, 917...   \n17663  [8656, 9169, 9170, 9183, 9180, 9171, 9174, 917...   \n17664  [8656, 9179, 9171, 9174, 9175, 9169, 9181, 918...   \n17665  [8656, 9179, 9180, 9170, 9171, 9175, 9172, 917...   \n17666  [8656, 9179, 9169, 9171, 9171, 9174, 9175, 917...   \n\n                                           actual_routes  driver_id  \\\n0                          [1, 2, 3, 156, 4, 5, 5, 6, 7]     1255.0   \n1                       [1, 5, 5, 1, 2, 3, 156, 4, 6, 7]     1255.0   \n2                          [1, 2, 3, 156, 4, 5, 5, 6, 7]     1255.0   \n3                            [1, 2, 14, 156, 4, 5, 6, 7]     1255.0   \n4                [1, 1, 2, 14, 3, 156, 4, 5, 6, 3769, 7]     1255.0   \n...                                                  ...        ...   \n17662  [4315, 9711, 9715, 9717, 9738, 9712, 9714, 971...     1555.0   \n17663  [4315, 9711, 9715, 9710, 9717, 9712, 9714, 971...     1555.0   \n17664  [4315, 8575, 9712, 9714, 9713, 9711, 9739, 971...     1555.0   \n17665  [4315, 8575, 9717, 9715, 9712, 9713, 9977, 699...     1555.0   \n17666  [4315, 8575, 9711, 9712, 9712, 9714, 9713, 584...     1555.0   \n\n                                          distance_route  \\\n0      [14.640018023192697, 1.5229312527257717, 0.185...   \n1      [16.153537949626582, 0.0, 16.153537949626582, ...   \n2      [14.640018023192697, 1.5229312527257717, 0.185...   \n3      [14.640018023192697, 1.400306417188586, 0.4137...   \n4      [0.0, 14.640018023192697, 1.400306417188586, 0...   \n...                                                  ...   \n17662  [10.550783573784587, 0.025338060555759063, 0.1...   \n17663  [10.550783573784587, 0.025338060555759063, 0.2...   \n17664  [10.35361799875347, 0.40596031876087574, 0.082...   \n17665  [10.35361799875347, 0.03919354991180035, 0.190...   \n17666  [10.35361799875347, 0.21530908942333182, 0.190...   \n\n                                   distance_actual_route  \\\n0      [14.640018023192697, 1.7084597707961175, 0.185...   \n1      [16.274521631876873, 0.18579849611701657, 0.70...   \n2      [14.640018023192697, 1.7084597707961175, 0.185...   \n3      [14.640018023192697, 1.400306417188586, 0.4137...   \n4      [0.0, 14.640018023192697, 1.400306417188586, 0...   \n...                                                  ...   \n17662  [10.649090169527625, 0.036295189300920946, 0.0...   \n17663  [10.546100389513956, 0.2605297061859036, 0.209...   \n17664  [10.72146514256661, 0.09549283569487783, 0.403...   \n17665  [10.343876004844796, 0.19032608932355963, 0.66...   \n17666  [10.550783573784587, 0.24659091695350344, 0.10...   \n\n       last_two_weeks_count  \\\n0                       5.0   \n1                       4.0   \n2                       6.0   \n3                      11.0   \n4                      11.0   \n...                     ...   \n17662                   9.0   \n17663                  11.0   \n17664                  11.0   \n17665                   8.0   \n17666                   3.0   \n\n                                             current_lat  \\\n0      [55.64641920439919, 55.6669147, 55.6757322, 55...   \n1      [55.64641920439919, 55.6657227, 55.6657227, 55...   \n2      [55.64641920439919, 55.6669147, 55.6757322, 55...   \n3      [55.64641920439919, 55.6669147, 55.671473, 55....   \n4      [55.64641920439919, 55.64641920439919, 55.6669...   \n...                                                  ...   \n17662  [56.0667627, 56.159131, 56.15884339999999, 56....   \n17663  [56.0667627, 56.159131, 56.15884339999999, 56....   \n17664  [56.0667627, 56.158392, 56.1596286, 56.1587772...   \n17665  [56.0667627, 56.158392, 56.1578712, 56.1588433...   \n17666  [56.0667627, 56.158392, 56.159131, 56.1596286,...   \n\n                                             current_lng day_of_week  \\\n0      [12.15372974969827, 12.5262801, 12.5619711, 12...      Friday   \n1      [12.15372974969827, 12.5653169, 12.5653169, 12...      Friday   \n2      [12.15372974969827, 12.5262801, 12.5619711, 12...      Friday   \n3      [12.15372974969827, 12.5262801, 12.561174, 12....      Friday   \n4      [12.15372974969827, 12.15372974969827, 12.5262...      Friday   \n...                                                  ...         ...   \n17662  [9.986944, 10.204122, 10.2037157, 10.1991044, ...   Wednesday   \n17663  [9.986944, 10.204122, 10.2037157, 10.1976219, ...   Wednesday   \n17664  [9.986944, 10.198705, 10.2089833, 10.2104772, ...   Wednesday   \n17665  [9.986944, 10.198705, 10.1991044, 10.2037157, ...   Wednesday   \n17666  [9.986944, 10.198705, 10.204122, 10.2089833, 1...   Wednesday   \n\n            date  ...                                 experience_feature  \\\n0     2024-01-18  ...                        [5, 5, 5, 5, 5, 5, 5, 5, 5]   \n1     2024-01-25  ...                     [4, 4, 4, 4, 4, 4, 4, 4, 4, 4]   \n2     2024-02-08  ...                        [6, 6, 6, 6, 6, 6, 6, 6, 6]   \n3     2024-02-22  ...                   [11, 11, 11, 11, 11, 11, 11, 11]   \n4     2024-02-29  ...       [11, 11, 11, 11, 11, 11, 11, 11, 11, 11, 11]   \n...          ...  ...                                                ...   \n17662 2024-05-21  ...  [9, 9, 9, 9, 9, 9, 9, 9, 9, 9, 9, 9, 9, 9, 9, ...   \n17663 2024-06-04  ...  [11, 11, 11, 11, 11, 11, 11, 11, 11, 11, 11, 1...   \n17664 2024-06-18  ...  [11, 11, 11, 11, 11, 11, 11, 11, 11, 11, 11, 1...   \n17665 2024-06-25  ...   [8, 8, 8, 8, 8, 8, 8, 8, 8, 8, 8, 8, 8, 8, 8, 8]   \n17666 2024-07-02  ...  [3, 3, 3, 3, 3, 3, 3, 3, 3, 3, 3, 3, 3, 3, 3, ...   \n\n                                             len_feature  \\\n0                            [9, 9, 9, 9, 9, 9, 9, 9, 9]   \n1               [10, 10, 10, 10, 10, 10, 10, 10, 10, 10]   \n2                            [9, 9, 9, 9, 9, 9, 9, 9, 9]   \n3                               [8, 8, 8, 8, 8, 8, 8, 8]   \n4           [11, 11, 11, 11, 11, 11, 11, 11, 11, 11, 11]   \n...                                                  ...   \n17662  [20, 20, 20, 20, 20, 20, 20, 20, 20, 20, 20, 2...   \n17663  [21, 21, 21, 21, 21, 21, 21, 21, 21, 21, 21, 2...   \n17664  [22, 22, 22, 22, 22, 22, 22, 22, 22, 22, 22, 2...   \n17665  [16, 16, 16, 16, 16, 16, 16, 16, 16, 16, 16, 1...   \n17666  [25, 25, 25, 25, 25, 25, 25, 25, 25, 25, 25, 2...   \n\n                                       driver_id_feature  \\\n0                            [1, 1, 1, 1, 1, 1, 1, 1, 1]   \n1                         [1, 1, 1, 1, 1, 1, 1, 1, 1, 1]   \n2                            [1, 1, 1, 1, 1, 1, 1, 1, 1]   \n3                               [1, 1, 1, 1, 1, 1, 1, 1]   \n4                      [1, 1, 1, 1, 1, 1, 1, 1, 1, 1, 1]   \n...                                                  ...   \n17662  [387, 387, 387, 387, 387, 387, 387, 387, 387, ...   \n17663  [387, 387, 387, 387, 387, 387, 387, 387, 387, ...   \n17664  [387, 387, 387, 387, 387, 387, 387, 387, 387, ...   \n17665  [387, 387, 387, 387, 387, 387, 387, 387, 387, ...   \n17666  [387, 387, 387, 387, 387, 387, 387, 387, 387, ...   \n\n                                    country_flag_feature  \\\n0                            [1, 1, 1, 1, 1, 1, 1, 1, 1]   \n1                         [1, 1, 1, 1, 1, 1, 1, 1, 1, 1]   \n2                            [1, 1, 1, 1, 1, 1, 1, 1, 1]   \n3                               [1, 1, 1, 1, 1, 1, 1, 1]   \n4                      [1, 1, 1, 1, 1, 1, 1, 1, 1, 1, 1]   \n...                                                  ...   \n17662  [1, 1, 1, 1, 1, 1, 1, 1, 1, 1, 1, 1, 1, 1, 1, ...   \n17663  [1, 1, 1, 1, 1, 1, 1, 1, 1, 1, 1, 1, 1, 1, 1, ...   \n17664  [1, 1, 1, 1, 1, 1, 1, 1, 1, 1, 1, 1, 1, 1, 1, ...   \n17665   [1, 1, 1, 1, 1, 1, 1, 1, 1, 1, 1, 1, 1, 1, 1, 1]   \n17666  [1, 1, 1, 1, 1, 1, 1, 1, 1, 1, 1, 1, 1, 1, 1, ...   \n\n                                     day_of_week_feature  \\\n0      [[0, 0, 0, 0, 0, 0, 0], [0, 0, 0, 0, 0, 0, 0],...   \n1      [[0, 0, 0, 0, 0, 0, 0], [0, 0, 0, 0, 0, 0, 0],...   \n2      [[0, 0, 0, 0, 0, 0, 0], [0, 0, 0, 0, 0, 0, 0],...   \n3      [[0, 0, 0, 0, 0, 0, 0], [0, 0, 0, 0, 0, 0, 0],...   \n4      [[0, 0, 0, 0, 0, 0, 0], [0, 0, 0, 0, 0, 0, 0],...   \n...                                                  ...   \n17662  [[0, 0, 0, 0, 0, 0, 0], [0, 0, 0, 0, 0, 0, 0],...   \n17663  [[0, 0, 0, 0, 0, 0, 0], [0, 0, 0, 0, 0, 0, 0],...   \n17664  [[0, 0, 0, 0, 0, 0, 0], [0, 0, 0, 0, 0, 0, 0],...   \n17665  [[0, 0, 0, 0, 0, 0, 0], [0, 0, 0, 0, 0, 0, 0],...   \n17666  [[0, 0, 0, 0, 0, 0, 0], [0, 0, 0, 0, 0, 0, 0],...   \n\n       day_of_week_encoded_ext  score_cumulative_avg  score_cumulative_driver  \\\n0        [1, 0, 0, 0, 0, 0, 0]              0.000000                 0.250000   \n1        [1, 0, 0, 0, 0, 0, 0]              0.500000                 0.285714   \n2        [1, 0, 0, 0, 0, 0, 0]              0.333333                 0.200000   \n3        [1, 0, 0, 0, 0, 0, 0]              0.250000                 0.200000   \n4        [1, 0, 0, 0, 0, 0, 0]              0.200000                 0.250000   \n...                        ...                   ...                      ...   \n17662    [0, 0, 0, 0, 0, 0, 1]              1.000000                 1.000000   \n17663    [0, 0, 0, 0, 0, 0, 1]              1.000000                 1.000000   \n17664    [0, 0, 0, 0, 0, 0, 1]              1.000000                 1.000000   \n17665    [0, 0, 0, 0, 0, 0, 1]              1.000000                 1.000000   \n17666    [0, 0, 0, 0, 0, 0, 1]              1.000000                 1.000000   \n\n      score_avg_total  split  \n0            0.607038  train  \n1            0.591422  train  \n2            0.564024  train  \n3            0.559459  train  \n4            0.554858  train  \n...               ...    ...  \n17662        0.542148  train  \n17663        0.542478  train  \n17664        0.539395  train  \n17665        0.540239    val  \n17666        0.538637   test  \n\n[17667 rows x 28 columns]",
      "text/html": "<div>\n<style scoped>\n    .dataframe tbody tr th:only-of-type {\n        vertical-align: middle;\n    }\n\n    .dataframe tbody tr th {\n        vertical-align: top;\n    }\n\n    .dataframe thead th {\n        text-align: right;\n    }\n</style>\n<table border=\"1\" class=\"dataframe\">\n  <thead>\n    <tr style=\"text-align: right;\">\n      <th></th>\n      <th>routes</th>\n      <th>actual_routes</th>\n      <th>driver_id</th>\n      <th>distance_route</th>\n      <th>distance_actual_route</th>\n      <th>last_two_weeks_count</th>\n      <th>current_lat</th>\n      <th>current_lng</th>\n      <th>day_of_week</th>\n      <th>date</th>\n      <th>...</th>\n      <th>experience_feature</th>\n      <th>len_feature</th>\n      <th>driver_id_feature</th>\n      <th>country_flag_feature</th>\n      <th>day_of_week_feature</th>\n      <th>day_of_week_encoded_ext</th>\n      <th>score_cumulative_avg</th>\n      <th>score_cumulative_driver</th>\n      <th>score_avg_total</th>\n      <th>split</th>\n    </tr>\n  </thead>\n  <tbody>\n    <tr>\n      <th>0</th>\n      <td>[1, 2, 3, 4, 5, 6, 6, 7, 8]</td>\n      <td>[1, 2, 3, 156, 4, 5, 5, 6, 7]</td>\n      <td>1255.0</td>\n      <td>[14.640018023192697, 1.5229312527257717, 0.185...</td>\n      <td>[14.640018023192697, 1.7084597707961175, 0.185...</td>\n      <td>5.0</td>\n      <td>[55.64641920439919, 55.6669147, 55.6757322, 55...</td>\n      <td>[12.15372974969827, 12.5262801, 12.5619711, 12...</td>\n      <td>Friday</td>\n      <td>2024-01-18</td>\n      <td>...</td>\n      <td>[5, 5, 5, 5, 5, 5, 5, 5, 5]</td>\n      <td>[9, 9, 9, 9, 9, 9, 9, 9, 9]</td>\n      <td>[1, 1, 1, 1, 1, 1, 1, 1, 1]</td>\n      <td>[1, 1, 1, 1, 1, 1, 1, 1, 1]</td>\n      <td>[[0, 0, 0, 0, 0, 0, 0], [0, 0, 0, 0, 0, 0, 0],...</td>\n      <td>[1, 0, 0, 0, 0, 0, 0]</td>\n      <td>0.000000</td>\n      <td>0.250000</td>\n      <td>0.607038</td>\n      <td>train</td>\n    </tr>\n    <tr>\n      <th>1</th>\n      <td>[1, 6, 6, 1, 2, 3, 4, 5, 7, 8]</td>\n      <td>[1, 5, 5, 1, 2, 3, 156, 4, 6, 7]</td>\n      <td>1255.0</td>\n      <td>[16.153537949626582, 0.0, 16.153537949626582, ...</td>\n      <td>[16.274521631876873, 0.18579849611701657, 0.70...</td>\n      <td>4.0</td>\n      <td>[55.64641920439919, 55.6657227, 55.6657227, 55...</td>\n      <td>[12.15372974969827, 12.5653169, 12.5653169, 12...</td>\n      <td>Friday</td>\n      <td>2024-01-25</td>\n      <td>...</td>\n      <td>[4, 4, 4, 4, 4, 4, 4, 4, 4, 4]</td>\n      <td>[10, 10, 10, 10, 10, 10, 10, 10, 10, 10]</td>\n      <td>[1, 1, 1, 1, 1, 1, 1, 1, 1, 1]</td>\n      <td>[1, 1, 1, 1, 1, 1, 1, 1, 1, 1]</td>\n      <td>[[0, 0, 0, 0, 0, 0, 0], [0, 0, 0, 0, 0, 0, 0],...</td>\n      <td>[1, 0, 0, 0, 0, 0, 0]</td>\n      <td>0.500000</td>\n      <td>0.285714</td>\n      <td>0.591422</td>\n      <td>train</td>\n    </tr>\n    <tr>\n      <th>2</th>\n      <td>[1, 2, 3, 4, 5, 6, 6, 7, 8]</td>\n      <td>[1, 2, 3, 156, 4, 5, 5, 6, 7]</td>\n      <td>1255.0</td>\n      <td>[14.640018023192697, 1.5229312527257717, 0.185...</td>\n      <td>[14.640018023192697, 1.7084597707961175, 0.185...</td>\n      <td>6.0</td>\n      <td>[55.64641920439919, 55.6669147, 55.6757322, 55...</td>\n      <td>[12.15372974969827, 12.5262801, 12.5619711, 12...</td>\n      <td>Friday</td>\n      <td>2024-02-08</td>\n      <td>...</td>\n      <td>[6, 6, 6, 6, 6, 6, 6, 6, 6]</td>\n      <td>[9, 9, 9, 9, 9, 9, 9, 9, 9]</td>\n      <td>[1, 1, 1, 1, 1, 1, 1, 1, 1]</td>\n      <td>[1, 1, 1, 1, 1, 1, 1, 1, 1]</td>\n      <td>[[0, 0, 0, 0, 0, 0, 0], [0, 0, 0, 0, 0, 0, 0],...</td>\n      <td>[1, 0, 0, 0, 0, 0, 0]</td>\n      <td>0.333333</td>\n      <td>0.200000</td>\n      <td>0.564024</td>\n      <td>train</td>\n    </tr>\n    <tr>\n      <th>3</th>\n      <td>[1, 2, 9, 4, 5, 6, 7, 8]</td>\n      <td>[1, 2, 14, 156, 4, 5, 6, 7]</td>\n      <td>1255.0</td>\n      <td>[14.640018023192697, 1.400306417188586, 0.4137...</td>\n      <td>[14.640018023192697, 1.400306417188586, 0.4137...</td>\n      <td>11.0</td>\n      <td>[55.64641920439919, 55.6669147, 55.671473, 55....</td>\n      <td>[12.15372974969827, 12.5262801, 12.561174, 12....</td>\n      <td>Friday</td>\n      <td>2024-02-22</td>\n      <td>...</td>\n      <td>[11, 11, 11, 11, 11, 11, 11, 11]</td>\n      <td>[8, 8, 8, 8, 8, 8, 8, 8]</td>\n      <td>[1, 1, 1, 1, 1, 1, 1, 1]</td>\n      <td>[1, 1, 1, 1, 1, 1, 1, 1]</td>\n      <td>[[0, 0, 0, 0, 0, 0, 0], [0, 0, 0, 0, 0, 0, 0],...</td>\n      <td>[1, 0, 0, 0, 0, 0, 0]</td>\n      <td>0.250000</td>\n      <td>0.200000</td>\n      <td>0.559459</td>\n      <td>train</td>\n    </tr>\n    <tr>\n      <th>4</th>\n      <td>[1, 1, 2, 9, 3, 4, 5, 6, 7, 10, 8]</td>\n      <td>[1, 1, 2, 14, 3, 156, 4, 5, 6, 3769, 7]</td>\n      <td>1255.0</td>\n      <td>[0.0, 14.640018023192697, 1.400306417188586, 0...</td>\n      <td>[0.0, 14.640018023192697, 1.400306417188586, 0...</td>\n      <td>11.0</td>\n      <td>[55.64641920439919, 55.64641920439919, 55.6669...</td>\n      <td>[12.15372974969827, 12.15372974969827, 12.5262...</td>\n      <td>Friday</td>\n      <td>2024-02-29</td>\n      <td>...</td>\n      <td>[11, 11, 11, 11, 11, 11, 11, 11, 11, 11, 11]</td>\n      <td>[11, 11, 11, 11, 11, 11, 11, 11, 11, 11, 11]</td>\n      <td>[1, 1, 1, 1, 1, 1, 1, 1, 1, 1, 1]</td>\n      <td>[1, 1, 1, 1, 1, 1, 1, 1, 1, 1, 1]</td>\n      <td>[[0, 0, 0, 0, 0, 0, 0], [0, 0, 0, 0, 0, 0, 0],...</td>\n      <td>[1, 0, 0, 0, 0, 0, 0]</td>\n      <td>0.200000</td>\n      <td>0.250000</td>\n      <td>0.554858</td>\n      <td>train</td>\n    </tr>\n    <tr>\n      <th>...</th>\n      <td>...</td>\n      <td>...</td>\n      <td>...</td>\n      <td>...</td>\n      <td>...</td>\n      <td>...</td>\n      <td>...</td>\n      <td>...</td>\n      <td>...</td>\n      <td>...</td>\n      <td>...</td>\n      <td>...</td>\n      <td>...</td>\n      <td>...</td>\n      <td>...</td>\n      <td>...</td>\n      <td>...</td>\n      <td>...</td>\n      <td>...</td>\n      <td>...</td>\n      <td>...</td>\n    </tr>\n    <tr>\n      <th>17662</th>\n      <td>[8656, 9169, 9170, 9180, 9177, 9171, 9174, 917...</td>\n      <td>[4315, 9711, 9715, 9717, 9738, 9712, 9714, 971...</td>\n      <td>1555.0</td>\n      <td>[10.550783573784587, 0.025338060555759063, 0.1...</td>\n      <td>[10.649090169527625, 0.036295189300920946, 0.0...</td>\n      <td>9.0</td>\n      <td>[56.0667627, 56.159131, 56.15884339999999, 56....</td>\n      <td>[9.986944, 10.204122, 10.2037157, 10.1991044, ...</td>\n      <td>Wednesday</td>\n      <td>2024-05-21</td>\n      <td>...</td>\n      <td>[9, 9, 9, 9, 9, 9, 9, 9, 9, 9, 9, 9, 9, 9, 9, ...</td>\n      <td>[20, 20, 20, 20, 20, 20, 20, 20, 20, 20, 20, 2...</td>\n      <td>[387, 387, 387, 387, 387, 387, 387, 387, 387, ...</td>\n      <td>[1, 1, 1, 1, 1, 1, 1, 1, 1, 1, 1, 1, 1, 1, 1, ...</td>\n      <td>[[0, 0, 0, 0, 0, 0, 0], [0, 0, 0, 0, 0, 0, 0],...</td>\n      <td>[0, 0, 0, 0, 0, 0, 1]</td>\n      <td>1.000000</td>\n      <td>1.000000</td>\n      <td>0.542148</td>\n      <td>train</td>\n    </tr>\n    <tr>\n      <th>17663</th>\n      <td>[8656, 9169, 9170, 9183, 9180, 9171, 9174, 917...</td>\n      <td>[4315, 9711, 9715, 9710, 9717, 9712, 9714, 971...</td>\n      <td>1555.0</td>\n      <td>[10.550783573784587, 0.025338060555759063, 0.2...</td>\n      <td>[10.546100389513956, 0.2605297061859036, 0.209...</td>\n      <td>11.0</td>\n      <td>[56.0667627, 56.159131, 56.15884339999999, 56....</td>\n      <td>[9.986944, 10.204122, 10.2037157, 10.1976219, ...</td>\n      <td>Wednesday</td>\n      <td>2024-06-04</td>\n      <td>...</td>\n      <td>[11, 11, 11, 11, 11, 11, 11, 11, 11, 11, 11, 1...</td>\n      <td>[21, 21, 21, 21, 21, 21, 21, 21, 21, 21, 21, 2...</td>\n      <td>[387, 387, 387, 387, 387, 387, 387, 387, 387, ...</td>\n      <td>[1, 1, 1, 1, 1, 1, 1, 1, 1, 1, 1, 1, 1, 1, 1, ...</td>\n      <td>[[0, 0, 0, 0, 0, 0, 0], [0, 0, 0, 0, 0, 0, 0],...</td>\n      <td>[0, 0, 0, 0, 0, 0, 1]</td>\n      <td>1.000000</td>\n      <td>1.000000</td>\n      <td>0.542478</td>\n      <td>train</td>\n    </tr>\n    <tr>\n      <th>17664</th>\n      <td>[8656, 9179, 9171, 9174, 9175, 9169, 9181, 918...</td>\n      <td>[4315, 8575, 9712, 9714, 9713, 9711, 9739, 971...</td>\n      <td>1555.0</td>\n      <td>[10.35361799875347, 0.40596031876087574, 0.082...</td>\n      <td>[10.72146514256661, 0.09549283569487783, 0.403...</td>\n      <td>11.0</td>\n      <td>[56.0667627, 56.158392, 56.1596286, 56.1587772...</td>\n      <td>[9.986944, 10.198705, 10.2089833, 10.2104772, ...</td>\n      <td>Wednesday</td>\n      <td>2024-06-18</td>\n      <td>...</td>\n      <td>[11, 11, 11, 11, 11, 11, 11, 11, 11, 11, 11, 1...</td>\n      <td>[22, 22, 22, 22, 22, 22, 22, 22, 22, 22, 22, 2...</td>\n      <td>[387, 387, 387, 387, 387, 387, 387, 387, 387, ...</td>\n      <td>[1, 1, 1, 1, 1, 1, 1, 1, 1, 1, 1, 1, 1, 1, 1, ...</td>\n      <td>[[0, 0, 0, 0, 0, 0, 0], [0, 0, 0, 0, 0, 0, 0],...</td>\n      <td>[0, 0, 0, 0, 0, 0, 1]</td>\n      <td>1.000000</td>\n      <td>1.000000</td>\n      <td>0.539395</td>\n      <td>train</td>\n    </tr>\n    <tr>\n      <th>17665</th>\n      <td>[8656, 9179, 9180, 9170, 9171, 9175, 9172, 917...</td>\n      <td>[4315, 8575, 9717, 9715, 9712, 9713, 9977, 699...</td>\n      <td>1555.0</td>\n      <td>[10.35361799875347, 0.03919354991180035, 0.190...</td>\n      <td>[10.343876004844796, 0.19032608932355963, 0.66...</td>\n      <td>8.0</td>\n      <td>[56.0667627, 56.158392, 56.1578712, 56.1588433...</td>\n      <td>[9.986944, 10.198705, 10.1991044, 10.2037157, ...</td>\n      <td>Wednesday</td>\n      <td>2024-06-25</td>\n      <td>...</td>\n      <td>[8, 8, 8, 8, 8, 8, 8, 8, 8, 8, 8, 8, 8, 8, 8, 8]</td>\n      <td>[16, 16, 16, 16, 16, 16, 16, 16, 16, 16, 16, 1...</td>\n      <td>[387, 387, 387, 387, 387, 387, 387, 387, 387, ...</td>\n      <td>[1, 1, 1, 1, 1, 1, 1, 1, 1, 1, 1, 1, 1, 1, 1, 1]</td>\n      <td>[[0, 0, 0, 0, 0, 0, 0], [0, 0, 0, 0, 0, 0, 0],...</td>\n      <td>[0, 0, 0, 0, 0, 0, 1]</td>\n      <td>1.000000</td>\n      <td>1.000000</td>\n      <td>0.540239</td>\n      <td>val</td>\n    </tr>\n    <tr>\n      <th>17666</th>\n      <td>[8656, 9179, 9169, 9171, 9171, 9174, 9175, 917...</td>\n      <td>[4315, 8575, 9711, 9712, 9712, 9714, 9713, 584...</td>\n      <td>1555.0</td>\n      <td>[10.35361799875347, 0.21530908942333182, 0.190...</td>\n      <td>[10.550783573784587, 0.24659091695350344, 0.10...</td>\n      <td>3.0</td>\n      <td>[56.0667627, 56.158392, 56.159131, 56.1596286,...</td>\n      <td>[9.986944, 10.198705, 10.204122, 10.2089833, 1...</td>\n      <td>Wednesday</td>\n      <td>2024-07-02</td>\n      <td>...</td>\n      <td>[3, 3, 3, 3, 3, 3, 3, 3, 3, 3, 3, 3, 3, 3, 3, ...</td>\n      <td>[25, 25, 25, 25, 25, 25, 25, 25, 25, 25, 25, 2...</td>\n      <td>[387, 387, 387, 387, 387, 387, 387, 387, 387, ...</td>\n      <td>[1, 1, 1, 1, 1, 1, 1, 1, 1, 1, 1, 1, 1, 1, 1, ...</td>\n      <td>[[0, 0, 0, 0, 0, 0, 0], [0, 0, 0, 0, 0, 0, 0],...</td>\n      <td>[0, 0, 0, 0, 0, 0, 1]</td>\n      <td>1.000000</td>\n      <td>1.000000</td>\n      <td>0.538637</td>\n      <td>test</td>\n    </tr>\n  </tbody>\n</table>\n<p>17667 rows × 28 columns</p>\n</div>"
     },
     "execution_count": 39,
     "metadata": {},
     "output_type": "execute_result"
    }
   ],
   "source": [
    "def padding_(routes, route_len):\n",
    "    features = np.zeros((len(routes), route_len),dtype=np.float16)\n",
    "    for ii, route in enumerate(routes):\n",
    "        if len(route) != 0:\n",
    "            features[ii, -len(route):] = np.array(route)[:route_len]\n",
    "    return features\n",
    "\n",
    "X = final_routes_split.drop(columns = ['driver_id', 'len', 'driver_id_sorted','day_of_week_encoded'])\n",
    "max_route_length = max(len(item) for item in final_routes_split['routes'])\n",
    "y = np.array(final_routes_split['label'])\n",
    "# X = np.concatenate([padding_(X['routes'], max_route_length),padding_(X['distance_route'], max_route_length), X.to_numpy()[:,2:]], axis=1)\n",
    "# X = np.concatenate([padding_(X['routes'], max_route_length),padding_(X['distance_route'], max_route_length), padding_(X['experience_feature'], max_route_length), padding_(X['len_feature'], max_route_length), padding_(X['driver_id_feature'], max_route_length)], axis=1)\n",
    "# X = X.astype(np.float16)\n",
    "# X = X.astype(int) #for boolean values, to converst from string to int\n",
    "# final_routes\n",
    "final_routes_split"
   ],
   "metadata": {
    "collapsed": false,
    "pycharm": {
     "name": "#%%\n"
    }
   }
  },
  {
   "cell_type": "markdown",
   "source": [
    "# Driver id and location id counting and overwritten with transformed dataset"
   ],
   "metadata": {
    "collapsed": false,
    "pycharm": {
     "name": "#%% md\n"
    }
   }
  },
  {
   "cell_type": "code",
   "execution_count": 40,
   "outputs": [
    {
     "name": "stdout",
     "output_type": "stream",
     "text": [
      "Total number of drivers 314\n",
      "10546\n"
     ]
    },
    {
     "data": {
      "text/plain": "                                                  routes  \\\n0                            [1, 2, 3, 4, 5, 6, 6, 7, 8]   \n1                         [1, 6, 6, 1, 2, 3, 4, 5, 7, 8]   \n2                            [1, 2, 3, 4, 5, 6, 6, 7, 8]   \n3                               [1, 2, 9, 4, 5, 6, 7, 8]   \n4                     [1, 1, 2, 9, 3, 4, 5, 6, 7, 10, 8]   \n...                                                  ...   \n17662  [8656, 9169, 9170, 9180, 9177, 9171, 9174, 917...   \n17663  [8656, 9169, 9170, 9183, 9180, 9171, 9174, 917...   \n17664  [8656, 9179, 9171, 9174, 9175, 9169, 9181, 918...   \n17665  [8656, 9179, 9180, 9170, 9171, 9175, 9172, 917...   \n17666  [8656, 9179, 9169, 9171, 9171, 9174, 9175, 917...   \n\n                                           actual_routes  driver_id  \\\n0                          [1, 2, 3, 156, 4, 5, 5, 6, 7]     1255.0   \n1                       [1, 5, 5, 1, 2, 3, 156, 4, 6, 7]     1255.0   \n2                          [1, 2, 3, 156, 4, 5, 5, 6, 7]     1255.0   \n3                            [1, 2, 14, 156, 4, 5, 6, 7]     1255.0   \n4                [1, 1, 2, 14, 3, 156, 4, 5, 6, 3769, 7]     1255.0   \n...                                                  ...        ...   \n17662  [4315, 9711, 9715, 9717, 9738, 9712, 9714, 971...     1555.0   \n17663  [4315, 9711, 9715, 9710, 9717, 9712, 9714, 971...     1555.0   \n17664  [4315, 8575, 9712, 9714, 9713, 9711, 9739, 971...     1555.0   \n17665  [4315, 8575, 9717, 9715, 9712, 9713, 9977, 699...     1555.0   \n17666  [4315, 8575, 9711, 9712, 9712, 9714, 9713, 584...     1555.0   \n\n                                          distance_route  \\\n0      [14.640018023192697, 1.5229312527257717, 0.185...   \n1      [16.153537949626582, 0.0, 16.153537949626582, ...   \n2      [14.640018023192697, 1.5229312527257717, 0.185...   \n3      [14.640018023192697, 1.400306417188586, 0.4137...   \n4      [0.0, 14.640018023192697, 1.400306417188586, 0...   \n...                                                  ...   \n17662  [10.550783573784587, 0.025338060555759063, 0.1...   \n17663  [10.550783573784587, 0.025338060555759063, 0.2...   \n17664  [10.35361799875347, 0.40596031876087574, 0.082...   \n17665  [10.35361799875347, 0.03919354991180035, 0.190...   \n17666  [10.35361799875347, 0.21530908942333182, 0.190...   \n\n                                   distance_actual_route  \\\n0      [14.640018023192697, 1.7084597707961175, 0.185...   \n1      [16.274521631876873, 0.18579849611701657, 0.70...   \n2      [14.640018023192697, 1.7084597707961175, 0.185...   \n3      [14.640018023192697, 1.400306417188586, 0.4137...   \n4      [0.0, 14.640018023192697, 1.400306417188586, 0...   \n...                                                  ...   \n17662  [10.649090169527625, 0.036295189300920946, 0.0...   \n17663  [10.546100389513956, 0.2605297061859036, 0.209...   \n17664  [10.72146514256661, 0.09549283569487783, 0.403...   \n17665  [10.343876004844796, 0.19032608932355963, 0.66...   \n17666  [10.550783573784587, 0.24659091695350344, 0.10...   \n\n       last_two_weeks_count  \\\n0                       5.0   \n1                       4.0   \n2                       6.0   \n3                      11.0   \n4                      11.0   \n...                     ...   \n17662                   9.0   \n17663                  11.0   \n17664                  11.0   \n17665                   8.0   \n17666                   3.0   \n\n                                             current_lat  \\\n0      [55.64641920439919, 55.6669147, 55.6757322, 55...   \n1      [55.64641920439919, 55.6657227, 55.6657227, 55...   \n2      [55.64641920439919, 55.6669147, 55.6757322, 55...   \n3      [55.64641920439919, 55.6669147, 55.671473, 55....   \n4      [55.64641920439919, 55.64641920439919, 55.6669...   \n...                                                  ...   \n17662  [56.0667627, 56.159131, 56.15884339999999, 56....   \n17663  [56.0667627, 56.159131, 56.15884339999999, 56....   \n17664  [56.0667627, 56.158392, 56.1596286, 56.1587772...   \n17665  [56.0667627, 56.158392, 56.1578712, 56.1588433...   \n17666  [56.0667627, 56.158392, 56.159131, 56.1596286,...   \n\n                                             current_lng day_of_week  \\\n0      [12.15372974969827, 12.5262801, 12.5619711, 12...      Friday   \n1      [12.15372974969827, 12.5653169, 12.5653169, 12...      Friday   \n2      [12.15372974969827, 12.5262801, 12.5619711, 12...      Friday   \n3      [12.15372974969827, 12.5262801, 12.561174, 12....      Friday   \n4      [12.15372974969827, 12.15372974969827, 12.5262...      Friday   \n...                                                  ...         ...   \n17662  [9.986944, 10.204122, 10.2037157, 10.1991044, ...   Wednesday   \n17663  [9.986944, 10.204122, 10.2037157, 10.1976219, ...   Wednesday   \n17664  [9.986944, 10.198705, 10.2089833, 10.2104772, ...   Wednesday   \n17665  [9.986944, 10.198705, 10.1991044, 10.2037157, ...   Wednesday   \n17666  [9.986944, 10.198705, 10.204122, 10.2089833, 1...   Wednesday   \n\n            date  ...                                 experience_feature  \\\n0     2024-01-18  ...                        [5, 5, 5, 5, 5, 5, 5, 5, 5]   \n1     2024-01-25  ...                     [4, 4, 4, 4, 4, 4, 4, 4, 4, 4]   \n2     2024-02-08  ...                        [6, 6, 6, 6, 6, 6, 6, 6, 6]   \n3     2024-02-22  ...                   [11, 11, 11, 11, 11, 11, 11, 11]   \n4     2024-02-29  ...       [11, 11, 11, 11, 11, 11, 11, 11, 11, 11, 11]   \n...          ...  ...                                                ...   \n17662 2024-05-21  ...  [9, 9, 9, 9, 9, 9, 9, 9, 9, 9, 9, 9, 9, 9, 9, ...   \n17663 2024-06-04  ...  [11, 11, 11, 11, 11, 11, 11, 11, 11, 11, 11, 1...   \n17664 2024-06-18  ...  [11, 11, 11, 11, 11, 11, 11, 11, 11, 11, 11, 1...   \n17665 2024-06-25  ...   [8, 8, 8, 8, 8, 8, 8, 8, 8, 8, 8, 8, 8, 8, 8, 8]   \n17666 2024-07-02  ...  [3, 3, 3, 3, 3, 3, 3, 3, 3, 3, 3, 3, 3, 3, 3, ...   \n\n                                             len_feature  \\\n0                            [9, 9, 9, 9, 9, 9, 9, 9, 9]   \n1               [10, 10, 10, 10, 10, 10, 10, 10, 10, 10]   \n2                            [9, 9, 9, 9, 9, 9, 9, 9, 9]   \n3                               [8, 8, 8, 8, 8, 8, 8, 8]   \n4           [11, 11, 11, 11, 11, 11, 11, 11, 11, 11, 11]   \n...                                                  ...   \n17662  [20, 20, 20, 20, 20, 20, 20, 20, 20, 20, 20, 2...   \n17663  [21, 21, 21, 21, 21, 21, 21, 21, 21, 21, 21, 2...   \n17664  [22, 22, 22, 22, 22, 22, 22, 22, 22, 22, 22, 2...   \n17665  [16, 16, 16, 16, 16, 16, 16, 16, 16, 16, 16, 1...   \n17666  [25, 25, 25, 25, 25, 25, 25, 25, 25, 25, 25, 2...   \n\n                                       driver_id_feature  \\\n0                            [1, 1, 1, 1, 1, 1, 1, 1, 1]   \n1                         [1, 1, 1, 1, 1, 1, 1, 1, 1, 1]   \n2                            [1, 1, 1, 1, 1, 1, 1, 1, 1]   \n3                               [1, 1, 1, 1, 1, 1, 1, 1]   \n4                      [1, 1, 1, 1, 1, 1, 1, 1, 1, 1, 1]   \n...                                                  ...   \n17662  [387, 387, 387, 387, 387, 387, 387, 387, 387, ...   \n17663  [387, 387, 387, 387, 387, 387, 387, 387, 387, ...   \n17664  [387, 387, 387, 387, 387, 387, 387, 387, 387, ...   \n17665  [387, 387, 387, 387, 387, 387, 387, 387, 387, ...   \n17666  [387, 387, 387, 387, 387, 387, 387, 387, 387, ...   \n\n                                    country_flag_feature  \\\n0                            [1, 1, 1, 1, 1, 1, 1, 1, 1]   \n1                         [1, 1, 1, 1, 1, 1, 1, 1, 1, 1]   \n2                            [1, 1, 1, 1, 1, 1, 1, 1, 1]   \n3                               [1, 1, 1, 1, 1, 1, 1, 1]   \n4                      [1, 1, 1, 1, 1, 1, 1, 1, 1, 1, 1]   \n...                                                  ...   \n17662  [1, 1, 1, 1, 1, 1, 1, 1, 1, 1, 1, 1, 1, 1, 1, ...   \n17663  [1, 1, 1, 1, 1, 1, 1, 1, 1, 1, 1, 1, 1, 1, 1, ...   \n17664  [1, 1, 1, 1, 1, 1, 1, 1, 1, 1, 1, 1, 1, 1, 1, ...   \n17665   [1, 1, 1, 1, 1, 1, 1, 1, 1, 1, 1, 1, 1, 1, 1, 1]   \n17666  [1, 1, 1, 1, 1, 1, 1, 1, 1, 1, 1, 1, 1, 1, 1, ...   \n\n                                     day_of_week_feature  \\\n0      [[0, 0, 0, 0, 0, 0, 0], [0, 0, 0, 0, 0, 0, 0],...   \n1      [[0, 0, 0, 0, 0, 0, 0], [0, 0, 0, 0, 0, 0, 0],...   \n2      [[0, 0, 0, 0, 0, 0, 0], [0, 0, 0, 0, 0, 0, 0],...   \n3      [[0, 0, 0, 0, 0, 0, 0], [0, 0, 0, 0, 0, 0, 0],...   \n4      [[0, 0, 0, 0, 0, 0, 0], [0, 0, 0, 0, 0, 0, 0],...   \n...                                                  ...   \n17662  [[0, 0, 0, 0, 0, 0, 0], [0, 0, 0, 0, 0, 0, 0],...   \n17663  [[0, 0, 0, 0, 0, 0, 0], [0, 0, 0, 0, 0, 0, 0],...   \n17664  [[0, 0, 0, 0, 0, 0, 0], [0, 0, 0, 0, 0, 0, 0],...   \n17665  [[0, 0, 0, 0, 0, 0, 0], [0, 0, 0, 0, 0, 0, 0],...   \n17666  [[0, 0, 0, 0, 0, 0, 0], [0, 0, 0, 0, 0, 0, 0],...   \n\n       day_of_week_encoded_ext  score_cumulative_avg  score_cumulative_driver  \\\n0        [1, 0, 0, 0, 0, 0, 0]              0.000000                 0.250000   \n1        [1, 0, 0, 0, 0, 0, 0]              0.500000                 0.285714   \n2        [1, 0, 0, 0, 0, 0, 0]              0.333333                 0.200000   \n3        [1, 0, 0, 0, 0, 0, 0]              0.250000                 0.200000   \n4        [1, 0, 0, 0, 0, 0, 0]              0.200000                 0.250000   \n...                        ...                   ...                      ...   \n17662    [0, 0, 0, 0, 0, 0, 1]              1.000000                 1.000000   \n17663    [0, 0, 0, 0, 0, 0, 1]              1.000000                 1.000000   \n17664    [0, 0, 0, 0, 0, 0, 1]              1.000000                 1.000000   \n17665    [0, 0, 0, 0, 0, 0, 1]              1.000000                 1.000000   \n17666    [0, 0, 0, 0, 0, 0, 1]              1.000000                 1.000000   \n\n      score_avg_total  split  \n0            0.607038  train  \n1            0.591422  train  \n2            0.564024  train  \n3            0.559459  train  \n4            0.554858  train  \n...               ...    ...  \n17662        0.542148  train  \n17663        0.542478  train  \n17664        0.539395  train  \n17665        0.540239    val  \n17666        0.538637   test  \n\n[17667 rows x 28 columns]",
      "text/html": "<div>\n<style scoped>\n    .dataframe tbody tr th:only-of-type {\n        vertical-align: middle;\n    }\n\n    .dataframe tbody tr th {\n        vertical-align: top;\n    }\n\n    .dataframe thead th {\n        text-align: right;\n    }\n</style>\n<table border=\"1\" class=\"dataframe\">\n  <thead>\n    <tr style=\"text-align: right;\">\n      <th></th>\n      <th>routes</th>\n      <th>actual_routes</th>\n      <th>driver_id</th>\n      <th>distance_route</th>\n      <th>distance_actual_route</th>\n      <th>last_two_weeks_count</th>\n      <th>current_lat</th>\n      <th>current_lng</th>\n      <th>day_of_week</th>\n      <th>date</th>\n      <th>...</th>\n      <th>experience_feature</th>\n      <th>len_feature</th>\n      <th>driver_id_feature</th>\n      <th>country_flag_feature</th>\n      <th>day_of_week_feature</th>\n      <th>day_of_week_encoded_ext</th>\n      <th>score_cumulative_avg</th>\n      <th>score_cumulative_driver</th>\n      <th>score_avg_total</th>\n      <th>split</th>\n    </tr>\n  </thead>\n  <tbody>\n    <tr>\n      <th>0</th>\n      <td>[1, 2, 3, 4, 5, 6, 6, 7, 8]</td>\n      <td>[1, 2, 3, 156, 4, 5, 5, 6, 7]</td>\n      <td>1255.0</td>\n      <td>[14.640018023192697, 1.5229312527257717, 0.185...</td>\n      <td>[14.640018023192697, 1.7084597707961175, 0.185...</td>\n      <td>5.0</td>\n      <td>[55.64641920439919, 55.6669147, 55.6757322, 55...</td>\n      <td>[12.15372974969827, 12.5262801, 12.5619711, 12...</td>\n      <td>Friday</td>\n      <td>2024-01-18</td>\n      <td>...</td>\n      <td>[5, 5, 5, 5, 5, 5, 5, 5, 5]</td>\n      <td>[9, 9, 9, 9, 9, 9, 9, 9, 9]</td>\n      <td>[1, 1, 1, 1, 1, 1, 1, 1, 1]</td>\n      <td>[1, 1, 1, 1, 1, 1, 1, 1, 1]</td>\n      <td>[[0, 0, 0, 0, 0, 0, 0], [0, 0, 0, 0, 0, 0, 0],...</td>\n      <td>[1, 0, 0, 0, 0, 0, 0]</td>\n      <td>0.000000</td>\n      <td>0.250000</td>\n      <td>0.607038</td>\n      <td>train</td>\n    </tr>\n    <tr>\n      <th>1</th>\n      <td>[1, 6, 6, 1, 2, 3, 4, 5, 7, 8]</td>\n      <td>[1, 5, 5, 1, 2, 3, 156, 4, 6, 7]</td>\n      <td>1255.0</td>\n      <td>[16.153537949626582, 0.0, 16.153537949626582, ...</td>\n      <td>[16.274521631876873, 0.18579849611701657, 0.70...</td>\n      <td>4.0</td>\n      <td>[55.64641920439919, 55.6657227, 55.6657227, 55...</td>\n      <td>[12.15372974969827, 12.5653169, 12.5653169, 12...</td>\n      <td>Friday</td>\n      <td>2024-01-25</td>\n      <td>...</td>\n      <td>[4, 4, 4, 4, 4, 4, 4, 4, 4, 4]</td>\n      <td>[10, 10, 10, 10, 10, 10, 10, 10, 10, 10]</td>\n      <td>[1, 1, 1, 1, 1, 1, 1, 1, 1, 1]</td>\n      <td>[1, 1, 1, 1, 1, 1, 1, 1, 1, 1]</td>\n      <td>[[0, 0, 0, 0, 0, 0, 0], [0, 0, 0, 0, 0, 0, 0],...</td>\n      <td>[1, 0, 0, 0, 0, 0, 0]</td>\n      <td>0.500000</td>\n      <td>0.285714</td>\n      <td>0.591422</td>\n      <td>train</td>\n    </tr>\n    <tr>\n      <th>2</th>\n      <td>[1, 2, 3, 4, 5, 6, 6, 7, 8]</td>\n      <td>[1, 2, 3, 156, 4, 5, 5, 6, 7]</td>\n      <td>1255.0</td>\n      <td>[14.640018023192697, 1.5229312527257717, 0.185...</td>\n      <td>[14.640018023192697, 1.7084597707961175, 0.185...</td>\n      <td>6.0</td>\n      <td>[55.64641920439919, 55.6669147, 55.6757322, 55...</td>\n      <td>[12.15372974969827, 12.5262801, 12.5619711, 12...</td>\n      <td>Friday</td>\n      <td>2024-02-08</td>\n      <td>...</td>\n      <td>[6, 6, 6, 6, 6, 6, 6, 6, 6]</td>\n      <td>[9, 9, 9, 9, 9, 9, 9, 9, 9]</td>\n      <td>[1, 1, 1, 1, 1, 1, 1, 1, 1]</td>\n      <td>[1, 1, 1, 1, 1, 1, 1, 1, 1]</td>\n      <td>[[0, 0, 0, 0, 0, 0, 0], [0, 0, 0, 0, 0, 0, 0],...</td>\n      <td>[1, 0, 0, 0, 0, 0, 0]</td>\n      <td>0.333333</td>\n      <td>0.200000</td>\n      <td>0.564024</td>\n      <td>train</td>\n    </tr>\n    <tr>\n      <th>3</th>\n      <td>[1, 2, 9, 4, 5, 6, 7, 8]</td>\n      <td>[1, 2, 14, 156, 4, 5, 6, 7]</td>\n      <td>1255.0</td>\n      <td>[14.640018023192697, 1.400306417188586, 0.4137...</td>\n      <td>[14.640018023192697, 1.400306417188586, 0.4137...</td>\n      <td>11.0</td>\n      <td>[55.64641920439919, 55.6669147, 55.671473, 55....</td>\n      <td>[12.15372974969827, 12.5262801, 12.561174, 12....</td>\n      <td>Friday</td>\n      <td>2024-02-22</td>\n      <td>...</td>\n      <td>[11, 11, 11, 11, 11, 11, 11, 11]</td>\n      <td>[8, 8, 8, 8, 8, 8, 8, 8]</td>\n      <td>[1, 1, 1, 1, 1, 1, 1, 1]</td>\n      <td>[1, 1, 1, 1, 1, 1, 1, 1]</td>\n      <td>[[0, 0, 0, 0, 0, 0, 0], [0, 0, 0, 0, 0, 0, 0],...</td>\n      <td>[1, 0, 0, 0, 0, 0, 0]</td>\n      <td>0.250000</td>\n      <td>0.200000</td>\n      <td>0.559459</td>\n      <td>train</td>\n    </tr>\n    <tr>\n      <th>4</th>\n      <td>[1, 1, 2, 9, 3, 4, 5, 6, 7, 10, 8]</td>\n      <td>[1, 1, 2, 14, 3, 156, 4, 5, 6, 3769, 7]</td>\n      <td>1255.0</td>\n      <td>[0.0, 14.640018023192697, 1.400306417188586, 0...</td>\n      <td>[0.0, 14.640018023192697, 1.400306417188586, 0...</td>\n      <td>11.0</td>\n      <td>[55.64641920439919, 55.64641920439919, 55.6669...</td>\n      <td>[12.15372974969827, 12.15372974969827, 12.5262...</td>\n      <td>Friday</td>\n      <td>2024-02-29</td>\n      <td>...</td>\n      <td>[11, 11, 11, 11, 11, 11, 11, 11, 11, 11, 11]</td>\n      <td>[11, 11, 11, 11, 11, 11, 11, 11, 11, 11, 11]</td>\n      <td>[1, 1, 1, 1, 1, 1, 1, 1, 1, 1, 1]</td>\n      <td>[1, 1, 1, 1, 1, 1, 1, 1, 1, 1, 1]</td>\n      <td>[[0, 0, 0, 0, 0, 0, 0], [0, 0, 0, 0, 0, 0, 0],...</td>\n      <td>[1, 0, 0, 0, 0, 0, 0]</td>\n      <td>0.200000</td>\n      <td>0.250000</td>\n      <td>0.554858</td>\n      <td>train</td>\n    </tr>\n    <tr>\n      <th>...</th>\n      <td>...</td>\n      <td>...</td>\n      <td>...</td>\n      <td>...</td>\n      <td>...</td>\n      <td>...</td>\n      <td>...</td>\n      <td>...</td>\n      <td>...</td>\n      <td>...</td>\n      <td>...</td>\n      <td>...</td>\n      <td>...</td>\n      <td>...</td>\n      <td>...</td>\n      <td>...</td>\n      <td>...</td>\n      <td>...</td>\n      <td>...</td>\n      <td>...</td>\n      <td>...</td>\n    </tr>\n    <tr>\n      <th>17662</th>\n      <td>[8656, 9169, 9170, 9180, 9177, 9171, 9174, 917...</td>\n      <td>[4315, 9711, 9715, 9717, 9738, 9712, 9714, 971...</td>\n      <td>1555.0</td>\n      <td>[10.550783573784587, 0.025338060555759063, 0.1...</td>\n      <td>[10.649090169527625, 0.036295189300920946, 0.0...</td>\n      <td>9.0</td>\n      <td>[56.0667627, 56.159131, 56.15884339999999, 56....</td>\n      <td>[9.986944, 10.204122, 10.2037157, 10.1991044, ...</td>\n      <td>Wednesday</td>\n      <td>2024-05-21</td>\n      <td>...</td>\n      <td>[9, 9, 9, 9, 9, 9, 9, 9, 9, 9, 9, 9, 9, 9, 9, ...</td>\n      <td>[20, 20, 20, 20, 20, 20, 20, 20, 20, 20, 20, 2...</td>\n      <td>[387, 387, 387, 387, 387, 387, 387, 387, 387, ...</td>\n      <td>[1, 1, 1, 1, 1, 1, 1, 1, 1, 1, 1, 1, 1, 1, 1, ...</td>\n      <td>[[0, 0, 0, 0, 0, 0, 0], [0, 0, 0, 0, 0, 0, 0],...</td>\n      <td>[0, 0, 0, 0, 0, 0, 1]</td>\n      <td>1.000000</td>\n      <td>1.000000</td>\n      <td>0.542148</td>\n      <td>train</td>\n    </tr>\n    <tr>\n      <th>17663</th>\n      <td>[8656, 9169, 9170, 9183, 9180, 9171, 9174, 917...</td>\n      <td>[4315, 9711, 9715, 9710, 9717, 9712, 9714, 971...</td>\n      <td>1555.0</td>\n      <td>[10.550783573784587, 0.025338060555759063, 0.2...</td>\n      <td>[10.546100389513956, 0.2605297061859036, 0.209...</td>\n      <td>11.0</td>\n      <td>[56.0667627, 56.159131, 56.15884339999999, 56....</td>\n      <td>[9.986944, 10.204122, 10.2037157, 10.1976219, ...</td>\n      <td>Wednesday</td>\n      <td>2024-06-04</td>\n      <td>...</td>\n      <td>[11, 11, 11, 11, 11, 11, 11, 11, 11, 11, 11, 1...</td>\n      <td>[21, 21, 21, 21, 21, 21, 21, 21, 21, 21, 21, 2...</td>\n      <td>[387, 387, 387, 387, 387, 387, 387, 387, 387, ...</td>\n      <td>[1, 1, 1, 1, 1, 1, 1, 1, 1, 1, 1, 1, 1, 1, 1, ...</td>\n      <td>[[0, 0, 0, 0, 0, 0, 0], [0, 0, 0, 0, 0, 0, 0],...</td>\n      <td>[0, 0, 0, 0, 0, 0, 1]</td>\n      <td>1.000000</td>\n      <td>1.000000</td>\n      <td>0.542478</td>\n      <td>train</td>\n    </tr>\n    <tr>\n      <th>17664</th>\n      <td>[8656, 9179, 9171, 9174, 9175, 9169, 9181, 918...</td>\n      <td>[4315, 8575, 9712, 9714, 9713, 9711, 9739, 971...</td>\n      <td>1555.0</td>\n      <td>[10.35361799875347, 0.40596031876087574, 0.082...</td>\n      <td>[10.72146514256661, 0.09549283569487783, 0.403...</td>\n      <td>11.0</td>\n      <td>[56.0667627, 56.158392, 56.1596286, 56.1587772...</td>\n      <td>[9.986944, 10.198705, 10.2089833, 10.2104772, ...</td>\n      <td>Wednesday</td>\n      <td>2024-06-18</td>\n      <td>...</td>\n      <td>[11, 11, 11, 11, 11, 11, 11, 11, 11, 11, 11, 1...</td>\n      <td>[22, 22, 22, 22, 22, 22, 22, 22, 22, 22, 22, 2...</td>\n      <td>[387, 387, 387, 387, 387, 387, 387, 387, 387, ...</td>\n      <td>[1, 1, 1, 1, 1, 1, 1, 1, 1, 1, 1, 1, 1, 1, 1, ...</td>\n      <td>[[0, 0, 0, 0, 0, 0, 0], [0, 0, 0, 0, 0, 0, 0],...</td>\n      <td>[0, 0, 0, 0, 0, 0, 1]</td>\n      <td>1.000000</td>\n      <td>1.000000</td>\n      <td>0.539395</td>\n      <td>train</td>\n    </tr>\n    <tr>\n      <th>17665</th>\n      <td>[8656, 9179, 9180, 9170, 9171, 9175, 9172, 917...</td>\n      <td>[4315, 8575, 9717, 9715, 9712, 9713, 9977, 699...</td>\n      <td>1555.0</td>\n      <td>[10.35361799875347, 0.03919354991180035, 0.190...</td>\n      <td>[10.343876004844796, 0.19032608932355963, 0.66...</td>\n      <td>8.0</td>\n      <td>[56.0667627, 56.158392, 56.1578712, 56.1588433...</td>\n      <td>[9.986944, 10.198705, 10.1991044, 10.2037157, ...</td>\n      <td>Wednesday</td>\n      <td>2024-06-25</td>\n      <td>...</td>\n      <td>[8, 8, 8, 8, 8, 8, 8, 8, 8, 8, 8, 8, 8, 8, 8, 8]</td>\n      <td>[16, 16, 16, 16, 16, 16, 16, 16, 16, 16, 16, 1...</td>\n      <td>[387, 387, 387, 387, 387, 387, 387, 387, 387, ...</td>\n      <td>[1, 1, 1, 1, 1, 1, 1, 1, 1, 1, 1, 1, 1, 1, 1, 1]</td>\n      <td>[[0, 0, 0, 0, 0, 0, 0], [0, 0, 0, 0, 0, 0, 0],...</td>\n      <td>[0, 0, 0, 0, 0, 0, 1]</td>\n      <td>1.000000</td>\n      <td>1.000000</td>\n      <td>0.540239</td>\n      <td>val</td>\n    </tr>\n    <tr>\n      <th>17666</th>\n      <td>[8656, 9179, 9169, 9171, 9171, 9174, 9175, 917...</td>\n      <td>[4315, 8575, 9711, 9712, 9712, 9714, 9713, 584...</td>\n      <td>1555.0</td>\n      <td>[10.35361799875347, 0.21530908942333182, 0.190...</td>\n      <td>[10.550783573784587, 0.24659091695350344, 0.10...</td>\n      <td>3.0</td>\n      <td>[56.0667627, 56.158392, 56.159131, 56.1596286,...</td>\n      <td>[9.986944, 10.198705, 10.204122, 10.2089833, 1...</td>\n      <td>Wednesday</td>\n      <td>2024-07-02</td>\n      <td>...</td>\n      <td>[3, 3, 3, 3, 3, 3, 3, 3, 3, 3, 3, 3, 3, 3, 3, ...</td>\n      <td>[25, 25, 25, 25, 25, 25, 25, 25, 25, 25, 25, 2...</td>\n      <td>[387, 387, 387, 387, 387, 387, 387, 387, 387, ...</td>\n      <td>[1, 1, 1, 1, 1, 1, 1, 1, 1, 1, 1, 1, 1, 1, 1, ...</td>\n      <td>[[0, 0, 0, 0, 0, 0, 0], [0, 0, 0, 0, 0, 0, 0],...</td>\n      <td>[0, 0, 0, 0, 0, 0, 1]</td>\n      <td>1.000000</td>\n      <td>1.000000</td>\n      <td>0.538637</td>\n      <td>test</td>\n    </tr>\n  </tbody>\n</table>\n<p>17667 rows × 28 columns</p>\n</div>"
     },
     "execution_count": 40,
     "metadata": {},
     "output_type": "execute_result"
    }
   ],
   "source": [
    "drivers_dic = {}\n",
    "k = 1\n",
    "for driver in final_routes_split['driver_id_sorted']:\n",
    "    if driver not in drivers_dic:\n",
    "        drivers_dic[driver] = k\n",
    "        k += 1\n",
    "print('Total number of drivers', len(drivers_dic))\n",
    "total_drivers = len(drivers_dic)\n",
    "encoding_drivers = []\n",
    "for driver in final_routes_split['driver_id_sorted']:\n",
    "    encoding_drivers.append(drivers_dic[driver])\n",
    "#\n",
    "final_routes_split['driver_id_sorted'] = encoding_drivers\n",
    "\n",
    "locations_dic = {}\n",
    "location_count = {}\n",
    "k = 1\n",
    "for row in final_routes_split['routes']:\n",
    "   for location in row:\n",
    "       if location not in locations_dic:\n",
    "           locations_dic[location] = k\n",
    "           k += 1\n",
    "k = 1\n",
    "print(len(locations_dic))\n",
    "\n",
    "for row in final_routes_split['routes']:\n",
    "   for location in row:\n",
    "       if location not in location_count:\n",
    "            location_count[location] = 1\n",
    "       else:\n",
    "            location_count[location] += 1\n",
    "encoding_routes = []\n",
    "for row in final_routes_split['routes']:\n",
    "    encoding_route = []\n",
    "    for location in row:\n",
    "        encoding_route.append(locations_dic[location])\n",
    "    encoding_routes.append(encoding_route)\n",
    "final_routes_split['routes'] = encoding_routes\n",
    "\n",
    "final_routes_split"
   ],
   "metadata": {
    "collapsed": false,
    "pycharm": {
     "name": "#%%\n"
    }
   }
  },
  {
   "cell_type": "markdown",
   "source": [
    "## List of features\n",
    "\n",
    "routes\n",
    "\n",
    "\n",
    "\n",
    "experience_feature\n",
    "len_feature\n",
    "driver_id_feature\n",
    "\n",
    "Total: 175\n"
   ],
   "metadata": {
    "collapsed": false,
    "pycharm": {
     "name": "#%% md\n"
    }
   }
  },
  {
   "cell_type": "code",
   "execution_count": 41,
   "outputs": [],
   "source": [
    "from torch.utils.data import Dataset, DataLoader\n",
    "import torch\n",
    "import random\n",
    "import os\n",
    "import torch.nn as nn\n",
    "\n",
    "seed_value = 42\n",
    "device = \"cpu\"\n",
    "\n",
    "\n",
    "g = torch.Generator()\n",
    "\n",
    "torch.backends.cudnn.deterministic = True\n",
    "torch.backends.cudnn.benchmark = False\n",
    "\n",
    "# Additional steps if using DataLoaders (to ensure reproducibility in data loading)\n",
    "torch.use_deterministic_algorithms(True)\n",
    "\n",
    "def reset_random():\n",
    "    g.manual_seed(seed_value)\n",
    "    torch.manual_seed(seed_value)\n",
    "\n",
    "def seed_worker(worker_id):\n",
    "    worker_seed = torch.initial_seed() % 2**32\n",
    "    np.random.seed(worker_seed)\n",
    "    random.seed(worker_seed)\n",
    "\n",
    "def set_seed(seed):\n",
    "    random.seed(seed)\n",
    "    np.random.seed(seed)\n",
    "    torch.manual_seed(seed)\n",
    "    torch.cuda.manual_seed(seed)\n",
    "    torch.cuda.manual_seed_all(seed)\n",
    "    torch.backends.cudnn.deterministic = True\n",
    "    torch.backends.cudnn.benchmark = False\n",
    "    os.environ['PYTHONHASHSEED'] = str(seed)\n",
    "    os.environ['CUBLAS_WORKSPACE_CONFIG'] = ':4096:8'\n",
    "    torch.use_deterministic_algorithms(True)\n",
    "\n",
    "set_seed(42)"
   ],
   "metadata": {
    "collapsed": false,
    "pycharm": {
     "name": "#%%\n"
    }
   }
  },
  {
   "cell_type": "code",
   "execution_count": 42,
   "outputs": [],
   "source": [
    "class PredictionRNN_bidirectional(nn.Module):\n",
    "    def __init__(self,no_layers,vocab_size, vocab_size_driv, vocab_size_len,hidden_dim,embedding_dim,embedding_dim_driv, output_dim,additional_feature_count,drop_prob=0.5):\n",
    "        super(PredictionRNN,self).__init__()\n",
    "\n",
    "        self.output_dim = output_dim\n",
    "        self.hidden_dim = hidden_dim\n",
    "\n",
    "        self.no_layers = no_layers\n",
    "        self.vocab_size = vocab_size\n",
    "        self.vocab_size_driv = vocab_size_driv\n",
    "        self.vocab_size_len = vocab_size_len\n",
    "\n",
    "        # embedding and LSTM layers\n",
    "        self.embedding = nn.Embedding(vocab_size, embedding_dim)\n",
    "        self.embedding_driv = nn.Embedding(vocab_size_driv, embedding_dim_driv)\n",
    "        #lstm\n",
    "        self.lstm = nn.LSTM(input_size=embedding_dim,hidden_size=self.hidden_dim,\n",
    "                           num_layers=no_layers, batch_first=True)\n",
    "        # self.lstm = nn.LSTM(input_size=embedding_dim,hidden_size=self.hidden_dim,\n",
    "        #                    num_layers=no_layers, batch_first=True)\n",
    "        # embedding_dim_driv+2\n",
    "        # self.lstm = nn.LSTM(input_size=embedding_dim,hidden_size=self.hidden_dim,\n",
    "        #                    num_layers=no_layers, batch_first=True)\n",
    "\n",
    "\n",
    "        # dropout layer\n",
    "        self.lstm = nn.LSTM(input_size=embedding_dim,hidden_size=self.hidden_dim,\n",
    "                           num_layers=no_layers, batch_first=True)\n",
    "\n",
    "        self.dropout = nn.Dropout(drop_prob)\n",
    "        self.lstm = nn.LSTM(input_size=embedding_dim,\n",
    "                            hidden_size=self.hidden_dim,\n",
    "                            num_layers=self.no_layers,\n",
    "                            batch_first=True,\n",
    "                            bidirectional=True)\n",
    "\n",
    "        # The output of the BiLSTM will have twice the hidden size due to bidirectionality\n",
    "        self.lstm_output_size = self.hidden_dim * 2\n",
    "\n",
    "\n",
    "        # dropout layer\n",
    "        # self.fc = nn.Linear(self.hidden_dim, output_dim)\n",
    "        # self.fc_static_1 = nn.Linear(embedding_dim_driv+embedding_dim_len+9, 16)\n",
    "        self.fc_static_1 = nn.Linear(embedding_dim_driv+9, 128)\n",
    "        # self.fc_static_2 = nn.Linear(128, 128)\n",
    "        # # self.fc = nn.Linear(36, output_dim)\n",
    "        # # self.fc = nn.Linear(1316, output_dim)\n",
    "        self.fc = nn.Linear(128+self.lstm_output_size,128)\n",
    "        # # self.fc = nn.Linear(128,128)\n",
    "        self.layer2 = nn.Linear(128, 64)\n",
    "        self.layer3 = nn.Linear(64, 1)\n",
    "        self.relu = nn.ReLU()\n",
    "        self.sig = nn.Sigmoid()\n",
    "\n",
    "    def forward(self,x, is_training=True):\n",
    "        batch_size = len(x['routes'])\n",
    "        route_ids = x['routes'].int()\n",
    "\n",
    "        embeds = self.embedding(route_ids)  # shape: B x S x Feature   since batch = True\n",
    "\n",
    "        # get driver ids example\n",
    "        driver_ids = x['driver_id_sorted'].int()\n",
    "        experience = x['last_two_weeks_count'].int()\n",
    "        len_feature = x['len'].int()\n",
    "        # distance = x['distance_route'].int()\n",
    "        day_of_week_feature = x['day_of_week_encoded_ext'].int()\n",
    "        country_flag = x['country_flag'].int()\n",
    "        location_is_depot = x['location_is_depot'].int()\n",
    "        location_type_id = x['location_type_id'].int()\n",
    "\n",
    "        embedding_driv = self.embedding_driv(driver_ids)\n",
    "        # ,distance.view(batch_size, max_route_length, 1)\n",
    "        # experience.view(batch_size, max_route_length, 1)\n",
    "\n",
    "        # all_embeds = torch.concatenate((embeds, distance.view(batch_size, max_route_length, 1), location_is_depot.view(batch_size, max_route_length, 1), location_type_id.view(batch_size, max_route_length, 1)), dim=2)\n",
    "        all_embeds = embeds\n",
    "\n",
    "        # all_static = torch.concatenate((embedding_driv, embedding_len, day_of_week_feature, country_flag.view(batch_size, 1),experience.view(batch_size, 1)), dim=1)\n",
    "        all_static = torch.concatenate((embedding_driv, country_flag.view(batch_size, 1),len_feature.view(batch_size, 1), day_of_week_feature), dim=1)\n",
    "        # all_static = torch.concatenate((embedding_driv, day_of_week_feature), dim=1)\n",
    "\n",
    "        lstm_out, _ = self.lstm(all_embeds)\n",
    "        # lstm_out = lstm_out.contiguous().view(batch_size, self.lstm_output_size, self.hidden_dim)\n",
    "        out = self.dropout(lstm_out)\n",
    "\n",
    "        out_static = self.relu(self.fc_static_1(all_static))\n",
    "        # out_static = self.dropout(self.fc_static_2(out_static))\n",
    "        # out_static = out_static.unsqueeze(1)\n",
    "        static_expanded = out_static.unsqueeze(1).expand(-1, lstm_out.size(1), -1)\n",
    "\n",
    "        combined = self.fc(torch.cat((out, static_expanded), dim=2))\n",
    "        # out = self.fc(torch.concatenate((out, out_static), dim=1))\n",
    "        # out_static = out_static.squeeze(1).unsqueeze(1).repeat(1, 36, 1)  # New shape: [2048, 36, 64]\n",
    "        # out = self.fc(torch.cat((out, out_static), dim=2))\n",
    "        x = self.relu(combined)\n",
    "        x = self.relu(self.layer2(x))\n",
    "        # out = self.dropout(x)\n",
    "        out = self.layer3(x)\n",
    "        # print(out.shape)\n",
    "        # sigmoid function\n",
    "        sig_out = self.sig(out)\n",
    "\n",
    "        # reshape to be batch_size first\n",
    "        sig_out = sig_out.view(batch_size, -1)\n",
    "        sig_out = sig_out[:, -1] # get last batch of labels\n",
    "        # print(sig_out.shape)\n",
    "        return sig_out"
   ],
   "metadata": {
    "collapsed": false,
    "pycharm": {
     "name": "#%%\n"
    }
   }
  },
  {
   "cell_type": "code",
   "execution_count": 63,
   "outputs": [],
   "source": [
    "class PredictionRNN(nn.Module):\n",
    "    def __init__(self,no_layers,vocab_size, vocab_size_driv, vocab_size_len,hidden_dim,embedding_dim,embedding_dim_driv, output_dim,additional_feature_count,drop_prob=0.5):\n",
    "        super(PredictionRNN,self).__init__()\n",
    "\n",
    "        self.output_dim = output_dim\n",
    "        self.hidden_dim = hidden_dim\n",
    "\n",
    "        self.no_layers = no_layers\n",
    "        self.vocab_size = vocab_size\n",
    "        self.vocab_size_driv = vocab_size_driv\n",
    "        self.vocab_size_len = vocab_size_len\n",
    "\n",
    "        # embedding and LSTM layers\n",
    "        self.embedding = nn.Embedding(vocab_size, embedding_dim)\n",
    "        self.embedding_driv = nn.Embedding(vocab_size_driv, embedding_dim_driv)\n",
    "        #lstm\n",
    "        self.lstm = nn.LSTM(input_size=embedding_dim,hidden_size=self.hidden_dim,\n",
    "                           num_layers=no_layers, batch_first=True)\n",
    "        self.dropout = nn.Dropout(drop_prob)\n",
    "        # self.fc = nn.Linear(self.hidden_dim, output_dim)\n",
    "        # self.fc_static_1 = nn.Linear(embedding_dim_driv+embedding_dim_len+9, 16)\n",
    "        self.fc_static_1 = nn.Linear(embedding_dim_driv+9, 128)\n",
    "        # self.fc_static_2 = nn.Linear(128, 128)\n",
    "        # # self.fc = nn.Linear(36, output_dim)\n",
    "        # # self.fc = nn.Linear(1316, output_dim)\n",
    "        self.fc = nn.Linear(64,32) #128\n",
    "        # # self.fc = nn.Linear(128,128)\n",
    "        # self.layer2 = nn.Linear(128, 64)\n",
    "        self.layer3 = nn.Linear(32, 1)\n",
    "        self.relu = nn.ReLU()\n",
    "        self.sig = nn.Sigmoid()\n",
    "\n",
    "    def forward(self,x, is_training=True):\n",
    "        batch_size = len(x['routes'])\n",
    "        route_ids = x['routes'].int()\n",
    "\n",
    "        embeds = self.embedding(route_ids)  # shape: B x S x Feature   since batch = True\n",
    "\n",
    "        # get driver ids example\n",
    "        driver_ids = x['driver_id_sorted'].int()\n",
    "        experience = x['last_two_weeks_count'].int()\n",
    "        len_feature = x['len'].int()\n",
    "        # distance = x['distance_route'].int()\n",
    "        day_of_week_feature = x['day_of_week_encoded_ext'].int()\n",
    "        country_flag = x['country_flag'].int()\n",
    "        location_is_depot = x['location_is_depot'].int()\n",
    "        location_type_id = x['location_type_id'].int()\n",
    "\n",
    "        embedding_driv = self.embedding_driv(driver_ids)\n",
    "        # ,distance.view(batch_size, max_route_length, 1)\n",
    "        # experience.view(batch_size, max_route_length, 1)\n",
    "\n",
    "        # all_embeds = torch.concatenate((embeds, distance.view(batch_size, max_route_length, 1), location_is_depot.view(batch_size, max_route_length, 1), location_type_id.view(batch_size, max_route_length, 1)), dim=2)\n",
    "        all_embeds = embeds\n",
    "\n",
    "        # all_static = torch.concatenate((embedding_driv, embedding_len, day_of_week_feature, country_flag.view(batch_size, 1),experience.view(batch_size, 1)), dim=1)\n",
    "        # country_flag.view(batch_size, 1),len_feature.view(batch_size, 1)\n",
    "        # len_feature.view(batch_size, 1)\n",
    "        all_static = torch.concatenate((embedding_driv, day_of_week_feature, country_flag.view(batch_size, 1), len_feature.view(batch_size, 1)), dim=1)\n",
    "        # all_static = torch.concatenate((embedding_driv, day_of_week_feature), dim=1)\n",
    "\n",
    "        lstm_out, _ = self.lstm(all_embeds)\n",
    "        lstm_out = lstm_out.contiguous().view(batch_size, max_route_length, self.hidden_dim)\n",
    "        out = self.dropout(lstm_out)\n",
    "\n",
    "        out_static = self.relu(self.fc_static_1(all_static))\n",
    "        # out_static = self.dropout(self.fc_static_2(out_static))\n",
    "        # out_static = out_static.unsqueeze(1)\n",
    "        # print(out.shape, out_static.shape)\n",
    "        # out = self.fc(torch.concatenate((out, out_static), dim=1))\n",
    "        out = self.fc(out)\n",
    "        # out_static = out_static.squeeze(1).unsqueeze(1).repeat(1, 36, 1)  # New shape: [2048, 36, 64]\n",
    "        # out = self.fc(torch.cat((out, out_static), dim=2))\n",
    "        # x = self.relu(out_static)\n",
    "        # x = self.relu(self.layer2(out))\n",
    "        out = self.layer3(out)\n",
    "        # print(out.shape)\n",
    "        # sigmoid function\n",
    "        sig_out = self.sig(out)\n",
    "\n",
    "        # reshape to be batch_size first\n",
    "        sig_out = sig_out.view(batch_size, -1)\n",
    "        sig_out = sig_out[:, -1] # get last batch of labels\n",
    "        # print(sig_out.shape)\n",
    "        return sig_out"
   ],
   "metadata": {
    "collapsed": false,
    "pycharm": {
     "name": "#%%\n"
    }
   }
  },
  {
   "cell_type": "code",
   "execution_count": 64,
   "outputs": [],
   "source": [
    "class PredictionAllFeaturesCNN(nn.Module):\n",
    "    def __init__(self, no_layers, vocab_size, vocab_size_driv, embedding_dim, embedding_dim_driv, output_dim, drop_prob=0.5):\n",
    "        super(PredictionAllFeaturesCNN, self).__init__()\n",
    "\n",
    "        self.no_layers = no_layers\n",
    "        self.output_dim = output_dim\n",
    "        self.vocab_size = vocab_size\n",
    "        self.vocab_size_driv = vocab_size_driv\n",
    "\n",
    "        # Embedding layers\n",
    "        self.embedding = nn.Embedding(vocab_size, embedding_dim)\n",
    "        self.embedding_driv = nn.Embedding(vocab_size_driv, embedding_dim_driv)\n",
    "\n",
    "        # CNN layers\n",
    "        self.conv1 = nn.Conv1d(in_channels=embedding_dim, out_channels=64, kernel_size=3, padding=1)\n",
    "        self.pool = nn.MaxPool1d(kernel_size=2, stride=2)\n",
    "\n",
    "\n",
    "        # self.lstm = nn.LSTM(input_size=embedding_dim,hidden_size=self.hidden_dim,\n",
    "        #                    num_layers=no_layers, batch_first=True)\n",
    "        # self.lstm = nn.LSTM(input_size=embedding_dim,hidden_size=self.hidden_dim,\n",
    "        #                    num_layers=no_layers, batch_first=True)\n",
    "        # embedding_dim_driv+2\n",
    "        # self.lstm = nn.LSTM(input_size=embedding_dim,hidden_size=self.hidden_dim,\n",
    "        #                    num_layers=no_layers, batch_first=True)\n",
    "\n",
    "\n",
    "        # dropout layer\n",
    "        # self.lstm = nn.LSTM(input_size=embedding_dim,hidden_size=self.hidden_dim,\n",
    "        #                    num_layers=no_layers, batch_first=True)\n",
    "\n",
    "        self.dropout = nn.Dropout(drop_prob)\n",
    "        # self.fc = nn.Linear(self.hidden_dim, output_dim)\n",
    "        # self.fc_static_1 = nn.Linear(embedding_dim_driv+embedding_dim_len+9, 16)\n",
    "        self.fc_static_1 = nn.Linear(embedding_dim_driv+9, 128)\n",
    "        # self.fc_static_2 = nn.Linear(128, 128)\n",
    "        # # self.fc = nn.Linear(36, output_dim)\n",
    "        # # self.fc = nn.Linear(1316, output_dim)\n",
    "        self.fc = nn.Linear(128+64,64)\n",
    "        # # self.fc = nn.Linear(128,128)\n",
    "        self.layer2 = nn.Linear(128, 64)\n",
    "        self.layer3 = nn.Linear(64, 1)\n",
    "        self.relu = nn.ReLU()\n",
    "        self.sig = nn.Sigmoid()\n",
    "\n",
    "    def forward(self, x, is_training=True):\n",
    "        batch_size = len(x['routes'])\n",
    "        route_ids = x['routes'].int()\n",
    "\n",
    "        embeds = self.embedding(route_ids)  # shape: B x S x Feature   since batch = True\n",
    "\n",
    "        # get driver ids example\n",
    "        driver_ids = x['driver_id_sorted'].int()\n",
    "        experience = x['last_two_weeks_count'].int()\n",
    "        len_feature = x['len'].int()\n",
    "        # distance = x['distance_route'].int()\n",
    "        day_of_week_feature = x['day_of_week_encoded_ext'].int()\n",
    "        country_flag = x['country_flag'].int()\n",
    "        location_is_depot = x['location_is_depot'].int()\n",
    "        location_type_id = x['location_type_id'].int()\n",
    "\n",
    "        embedding_driv = self.embedding_driv(driver_ids)\n",
    "        # ,distance.view(batch_size, max_route_length, 1)\n",
    "        # experience.view(batch_size, max_route_length, 1)\n",
    "\n",
    "        # all_embeds = torch.concatenate((embeds, distance.view(batch_size, max_route_length, 1), location_is_depot.view(batch_size, max_route_length, 1), location_type_id.view(batch_size, max_route_length, 1)), dim=2)\n",
    "        all_embeds = embeds\n",
    "\n",
    "        # all_static = torch.concatenate((embedding_driv, embedding_len, day_of_week_feature, country_flag.view(batch_size, 1),experience.view(batch_size, 1)), dim=1)\n",
    "        all_static = torch.concatenate((embedding_driv, country_flag.view(batch_size, 1),len_feature.view(batch_size, 1), day_of_week_feature), dim=1)\n",
    "        # all_static = torch.concatenate((embedding_driv, day_of_week_feature), dim=1)\n",
    "\n",
    "\n",
    "        cnn_input = embeds.permute(0, 2, 1)  # Reshape for CNN: B x Feature x S\n",
    "        cnn_out = self.conv1(cnn_input)\n",
    "        cnn_out = self.relu(cnn_out)\n",
    "        cnn_out = self.pool(cnn_out)\n",
    "        # cnn_out = cnn_out.permute(0, 2, 1)\n",
    "        cnn_out = torch.mean(cnn_out, dim=2)\n",
    "        cnn_out = self.dropout(cnn_out)\n",
    "\n",
    "        # lstm_out, _ = self.lstm(cnn_out)\n",
    "        # # lstm_out = lstm_out.contiguous().view(batch_size, max_route_length, self.hidden_dim)\n",
    "        # lstm_out = lstm_out.contiguous().view(batch_size, -1, self.hidden_dim)\n",
    "        # out = self.dropout(lstm_out)\n",
    "\n",
    "        out_static = self.relu(self.fc_static_1(all_static))\n",
    "        # out_static = self.dropout(self.fc_static_2(out_static))\n",
    "        # out_static = out_static.unsqueeze(1)\n",
    "\n",
    "        combined = self.fc(torch.cat((cnn_out, out_static), dim=1))\n",
    "        # out = self.fc(torch.concatenate((out, out_static), dim=1))\n",
    "        # out_static = out_static.squeeze(1).unsqueeze(1).repeat(1, 36, 1)  # New shape: [2048, 36, 64]\n",
    "        # out = self.fc(torch.cat((out, out_static), dim=2))\n",
    "        x = self.relu(combined)\n",
    "        # x = self.relu(self.layer2(out))\n",
    "        # out = self.dropout(x)\n",
    "        out = self.layer3(x)\n",
    "        # print(out.shape)\n",
    "        # sigmoid function\n",
    "        sig_out = self.sig(out)\n",
    "\n",
    "        # reshape to be batch_size first\n",
    "        sig_out = sig_out.view(batch_size, -1)\n",
    "        sig_out = sig_out[:, -1] # get last batch of labels\n",
    "        # print(sig_out.shape)\n",
    "        return sig_out"
   ],
   "metadata": {
    "collapsed": false,
    "pycharm": {
     "name": "#%%\n"
    }
   }
  },
  {
   "cell_type": "code",
   "execution_count": 65,
   "outputs": [],
   "source": [
    "class PredictionAllFeaturesGRU(nn.Module):\n",
    "    def __init__(self, no_layers, vocab_size, vocab_size_driv, embedding_dim, embedding_dim_driv, hidden_dim, output_dim, drop_prob=0.5):\n",
    "        super().__init__()\n",
    "\n",
    "        self.no_layers = no_layers\n",
    "        self.hidden_dim = hidden_dim\n",
    "        self.output_dim = output_dim\n",
    "        self.vocab_size = vocab_size\n",
    "        self.vocab_size_driv = vocab_size_driv\n",
    "\n",
    "        # Embedding layers\n",
    "        self.embedding = nn.Embedding(vocab_size, embedding_dim)\n",
    "        self.embedding_driv = nn.Embedding(vocab_size_driv, embedding_dim_driv)\n",
    "\n",
    "        # GRU layer for route features\n",
    "        self.gru = nn.GRU(input_size=embedding_dim,\n",
    "                          hidden_size=hidden_dim,\n",
    "                          num_layers=no_layers,\n",
    "                          batch_first=True,\n",
    "                          dropout=drop_prob if no_layers > 1 else 0)\n",
    "\n",
    "        self.dropout = nn.Dropout(drop_prob)\n",
    "        self.fc_static_1 = nn.Linear(embedding_dim_driv+8, 128)\n",
    "        self.fc = nn.Linear(128+hidden_dim, 128)\n",
    "        self.layer2 = nn.Linear(128, 64)\n",
    "        self.layer3 = nn.Linear(128, 1)\n",
    "        self.relu = nn.ReLU()\n",
    "        self.sig = nn.Sigmoid()\n",
    "\n",
    "    def forward(self, x):\n",
    "        batch_size = len(x['routes'])\n",
    "        route_ids = x['routes'].int()\n",
    "\n",
    "        embeds = self.embedding(route_ids)  # shape: B x S x Feature\n",
    "\n",
    "        # Static features\n",
    "        driver_ids = x['driver_id_sorted'].int()\n",
    "        experience = x['last_two_weeks_count'].int()\n",
    "        len_feature = x['len'].int()\n",
    "        day_of_week_feature = x['day_of_week_encoded_ext'].int()\n",
    "        country_flag = x['country_flag'].int()\n",
    "        location_is_depot = x['location_is_depot'].int()\n",
    "        location_type_id = x['location_type_id'].int()\n",
    "\n",
    "        embedding_driv = self.embedding_driv(driver_ids)\n",
    "\n",
    "        all_static = torch.cat((embedding_driv, country_flag.view(batch_size, 1),\n",
    "                                len_feature.view(batch_size, 1), day_of_week_feature), dim=1)\n",
    "\n",
    "        # Process route features with GRU\n",
    "        gru_out, _ = self.gru(embeds)\n",
    "        gru_out = gru_out[:, -1, :]  # Take the last output of the sequence\n",
    "        gru_out = self.dropout(gru_out)\n",
    "\n",
    "        out_static = self.relu(self.fc_static_1(all_static))\n",
    "\n",
    "        combined = self.fc(torch.cat((gru_out, out_static), dim=1))\n",
    "        x = self.relu(combined)\n",
    "        out = self.layer3(x)\n",
    "\n",
    "        sig_out = self.sig(out)\n",
    "        sig_out = sig_out.view(batch_size, -1)\n",
    "        sig_out = sig_out[:, -1]  # get last batch of labels\n",
    "\n",
    "        return sig_out"
   ],
   "metadata": {
    "collapsed": false,
    "pycharm": {
     "name": "#%%\n"
    }
   }
  },
  {
   "cell_type": "code",
   "execution_count": 66,
   "outputs": [],
   "source": [
    "import math\n",
    "\n",
    "\n",
    "class RunningNorm:\n",
    "    def __init__(self, dim=0):\n",
    "        self.dim = dim\n",
    "        self.n = 0\n",
    "        self.mean = 0\n",
    "        self.var = 0\n",
    "\n",
    "    def update(self, x):\n",
    "        self.n += 1\n",
    "        if self.n == 1:\n",
    "            self.mean = x\n",
    "            self.var = torch.zeros_like(x)\n",
    "        else:\n",
    "            new_mean = self.mean + (x - self.mean) / self.n\n",
    "            self.var = (self.var * (self.n - 1) + (x - self.mean) * (x - new_mean)) / self.n\n",
    "            self.mean = new_mean\n",
    "\n",
    "    def normalize(self, x):\n",
    "        if self.n == 0:\n",
    "            return x\n",
    "        return (x - self.mean) / (torch.sqrt(self.var) + 1e-8)\n",
    "\n",
    "class PositionalEncoding(nn.Module):\n",
    "    def __init__(self, d_model, max_len=35):\n",
    "        super(PositionalEncoding, self).__init__()\n",
    "        pe = torch.zeros(max_len, d_model)\n",
    "        position = torch.arange(0, max_len, dtype=torch.float).unsqueeze(1)\n",
    "        div_term = torch.exp(torch.arange(0, d_model, 2).float() * (-math.log(10000.0) / d_model))\n",
    "        pe[:, 0::2] = torch.sin(position * div_term)\n",
    "        pe[:, 1::2] = torch.cos(position * div_term)\n",
    "        pe = pe.unsqueeze(0)\n",
    "        self.register_buffer('pe', pe)\n",
    "\n",
    "    def forward(self, x):\n",
    "        # x.shape should be (batch_size, sequence_length, d_model)\n",
    "        sequence_length = x.size(1)\n",
    "        x = x + self.pe[:, :sequence_length, :]\n",
    "        return x\n",
    "\n",
    "class SinusoidalPosEmb(nn.Module):\n",
    "    def __init__(self, dim):\n",
    "        super().__init__()\n",
    "        self.dim = dim\n",
    "\n",
    "    def forward(self, x):\n",
    "        device = x.device\n",
    "        half_dim = self.dim // 2\n",
    "        emb = math.log(10000) / (half_dim - 1)\n",
    "        emb = torch.exp(torch.arange(half_dim, device=device) * -emb)\n",
    "        emb = x[:, None] * emb[None, :]\n",
    "        emb = torch.cat((emb.sin(), emb.cos()), dim=-1)\n",
    "        return emb\n",
    "\n",
    "\n",
    "# \"Encoder-Only\" Style Transformer\n",
    "class NanoTransformer(nn.Module):\n",
    "    \"\"\"\n",
    "    This class implements a simplified Transformer model for sequence classification.\n",
    "    It uses an embedding layer for tokens, sinusoidal positional embeddings,\n",
    "    a single Transformer block, and a final linear layer for prediction.\n",
    "\n",
    "    Args:\n",
    "      num_emb: The number of unique tokens in the vocabulary.\n",
    "      output_size: The size of the output layer (number of classes).\n",
    "      hidden_size: The dimension of the hidden layer in the Transformer block (default: 128).\n",
    "      num_heads: The number of heads in the multi-head attention layer (default: 4).\n",
    "    \"\"\"\n",
    "    def __init__(self, embedding_dim, vocab_size, embedding_dim_driv, vocab_size_driv, hidden_size=64, num_heads=4):\n",
    "        super(NanoTransformer, self).__init__()\n",
    "\n",
    "        # Create an embedding for each token\n",
    "        self.embedding = nn.Embedding(vocab_size, embedding_dim)\n",
    "        self.embedding_driv = nn.Embedding(vocab_size_driv, embedding_dim_driv)\n",
    "        self.embedding.weight.data = 0.001 * self.embedding.weight.data\n",
    "\n",
    "        self.hidden_size = hidden_size\n",
    "        self.embedding_dim_driv = embedding_dim_driv\n",
    "        self.vocab_size_driv = vocab_size_driv\n",
    "\n",
    "        self.pos_emb = SinusoidalPosEmb(hidden_size)\n",
    "\n",
    "        self.multihead_attn1 = nn.MultiheadAttention(hidden_size, num_heads=num_heads, batch_first=True)\n",
    "        self.layer_norm = nn.LayerNorm(hidden_size)\n",
    "        self.fc_static_1 = nn.Linear(embedding_dim_driv+9, 128)\n",
    "        self.layer3 = nn.Linear(128, 1)\n",
    "        self.fc = nn.Linear(hidden_size+128, 64)\n",
    "        self.layer3 = nn.Linear(64, 1)\n",
    "        self.relu = nn.ReLU()\n",
    "        self.sig = nn.Sigmoid()\n",
    "\n",
    "\n",
    "\n",
    "    def forward(self, x, is_training=True):\n",
    "        bs = len(x['routes'])\n",
    "        l = len(x['routes'][0])\n",
    "        route_ids = x['routes'].int()\n",
    "        input_embs = self.embedding(route_ids)  # shape: B x S x Feature   since batch = True\n",
    "\n",
    "        driver_ids = x['driver_id_sorted'].int()\n",
    "        experience = x['last_two_weeks_count'].float()\n",
    "        len_feature = x['len'].float()\n",
    "        day_of_week_feature = x['day_of_week_encoded_ext'].int()\n",
    "        country_flag = x['country_flag'].int()\n",
    "        location_is_depot = x['location_is_depot'].int()\n",
    "        location_type_id = x['location_type_id'].int()\n",
    "\n",
    "        embedding_driv = self.embedding_driv(driver_ids)\n",
    "\n",
    "        all_static = torch.cat((embedding_driv, country_flag.view(bs, 1),\n",
    "                                len_feature.view(bs, 1), day_of_week_feature), dim=1)\n",
    "\n",
    "\n",
    "        seq_indx = torch.arange(l)\n",
    "        pos_emb = self.pos_emb(seq_indx).reshape(1, l, -1).expand(bs, l, -1)\n",
    "        embs = input_embs + pos_emb\n",
    "        output1, attn_map1 = self.multihead_attn1(embs, embs, embs)\n",
    "        output = self.layer_norm(embs + output1)\n",
    "\n",
    "        out_static = self.relu(self.fc_static_1(all_static))\n",
    "        out_static = out_static.unsqueeze(1).expand(-1, l, -1)\n",
    "\n",
    "        out = self.fc(torch.cat((output, out_static), dim=2))\n",
    "        out = self.layer3(out)\n",
    "        sig_out = self.sig(out).squeeze(-1)\n",
    "        final_out = torch.mean(sig_out, dim=1)\n",
    "        # seq_indx = torch.arange(l)\n",
    "        # pos_emb = self.pos_emb(seq_indx).reshape(1, l, -1).expand(bs, l, -1)\n",
    "        # embs = input_embs + pos_emb\n",
    "        # output, attn_map = self.multihead_attn(embs, embs, embs)\n",
    "        #\n",
    "        # out_static = self.bn1(self.relu(self.fc_static_1(all_static)))\n",
    "        #\n",
    "        # out_static = out_static.squeeze(1).unsqueeze(1).repeat(1, 36, 1)  # New shape: [2048, 36, 64]\n",
    "        # out = self.fc(torch.cat((output, out_static), dim=2))\n",
    "\n",
    "        # print(out.shape)\n",
    "        # out = self.layer3(out)\n",
    "        # sig_out = self.sig(out)\n",
    "        # print(sig_out.shape)\n",
    "        # sig_out = sig_out.view(bs, -1)\n",
    "        # print(sig_out.shape)\n",
    "        # sig_out = sig_out[:, -1] # get last batch of labels\n",
    "        # print(sig_out.shape)\n",
    "        # raise 'ere'\n",
    "        return final_out"
   ],
   "metadata": {
    "collapsed": false,
    "pycharm": {
     "name": "#%%\n"
    }
   }
  },
  {
   "cell_type": "code",
   "execution_count": 80,
   "outputs": [],
   "source": [
    "def get_model():\n",
    "    no_layers = 2\n",
    "    vocab_size = 10547 #extra 1 for padding\n",
    "    vocab_size_driv = 317\n",
    "    vocab_size_len = 37 #extra 1 for padding\n",
    "    embedding_dim = 128 #was 64\n",
    "    embedding_dim_driv = 32 #was 64\n",
    "    # embedding_dim_len = 2 #was 64\n",
    "    output_dim = 1\n",
    "    hidden_dim = 64 #was 64\n",
    "\n",
    "    # model = PredictionAllFeaturesCNN(no_layers, vocab_size, vocab_size_driv, embedding_dim, embedding_dim_driv, output_dim, drop_prob=0.5)\n",
    "    model = PredictionRNN(no_layers,vocab_size, vocab_size_driv, vocab_size_len, hidden_dim,embedding_dim, embedding_dim_driv, output_dim,len(drivers_dic),drop_prob=0.5)\n",
    "    # model = NanoTransformer(embedding_dim, vocab_size, embedding_dim_driv, vocab_size_driv)\n",
    "    model.train()\n",
    "    print(model)\n",
    "    return model"
   ],
   "metadata": {
    "collapsed": false,
    "pycharm": {
     "name": "#%%\n"
    }
   }
  },
  {
   "cell_type": "code",
   "execution_count": 81,
   "outputs": [],
   "source": [
    "# function to predict accuracy\n",
    "# def acc(pred,label):\n",
    "#     pred = torch.round(pred.squeeze())\n",
    "#     return torch.sum(pred == label.squeeze()).item()\n",
    "\n",
    "def rmse(pred, label):\n",
    "    return torch.sqrt(torch.mean((pred.squeeze() - label.squeeze())**2))\n",
    "\n",
    "# def get_precision(pred, label):\n",
    "#     pred = torch.round(pred.squeeze())\n",
    "#     true_positive = torch.sum((pred == 1) & (label.squeeze() == 1)).item()\n",
    "#     false_positive = torch.sum((pred == 1) & (label.squeeze() == 0)).item()\n",
    "#\n",
    "#     if true_positive + false_positive == 0:\n",
    "#         return 0.0, true_positive, false_positive  # Handle the case where there are no predicted positives\n",
    "#\n",
    "#     precision_value = true_positive / (true_positive + false_positive)\n",
    "#     return precision_value, true_positive, false_positive"
   ],
   "metadata": {
    "collapsed": false,
    "pycharm": {
     "name": "#%%\n"
    }
   }
  },
  {
   "cell_type": "code",
   "execution_count": 82,
   "outputs": [],
   "source": [
    "RUN_NAME = 'first_run_5'\n",
    "def train_model(data, model, epochs = 20):\n",
    "    train_loader, valid_loader = data\n",
    "    lr=0.001\n",
    "\n",
    "    criterion = nn.MSELoss()\n",
    "\n",
    "    optimizer = torch.optim.Adam(model.parameters(), lr=lr)\n",
    "\n",
    "    clip = 5\n",
    "    valid_loss_min = np.Inf\n",
    "    # train for some number of epochs\n",
    "    epoch_tr_loss,epoch_vl_loss = [],[]\n",
    "    epoch_tr_acc,epoch_vl_acc = [],[]\n",
    "    epoch_tr_precision,epoch_vl_precision = [],[]\n",
    "    # wandb.init(project='Route_classification', name=f'{run_name}')\n",
    "\n",
    "    for epoch in range(epochs):\n",
    "        train_losses = []\n",
    "        train_rmse = 0.0\n",
    "        model.train()\n",
    "        for inputs, labels in train_loader:\n",
    "            # print(labels)\n",
    "\n",
    "            model.zero_grad()\n",
    "            # print(inputs.shape, h[0].shape, h[1].shape)\n",
    "            output = model(inputs)\n",
    "\n",
    "            # calculate the loss and perform backprop\n",
    "            # print(output, labels)\n",
    "            # print(output.shape, labels.shape)\n",
    "            loss = criterion(output.view(-1), labels.float())\n",
    "            loss.backward()\n",
    "            train_losses.append(loss.item())\n",
    "            #`clip_grad_norm` helps prevent the exploding gradient problem in RNNs / LSTMs.\n",
    "            nn.utils.clip_grad_norm_(model.parameters(), clip)\n",
    "            optimizer.step()\n",
    "        val_losses = []\n",
    "        model.eval()\n",
    "        with torch.no_grad():  # Disable gradient computation for validation\n",
    "            for inputs, labels in valid_loader:\n",
    "                output = model(inputs, is_training=False)  # Set is_training to False for validation\n",
    "                val_loss = criterion(output.view(-1), labels.float())\n",
    "                val_losses.append(val_loss.item())\n",
    "\n",
    "        epoch_train_loss = np.mean(train_losses)\n",
    "        epoch_val_loss = np.mean(val_losses)\n",
    "\n",
    "        epoch_tr_loss.append(epoch_train_loss)\n",
    "        epoch_vl_loss.append(epoch_val_loss)\n",
    "        print(f'Epoch {epoch+1}')\n",
    "        print(f'train_loss : {epoch_train_loss} val_loss : {epoch_val_loss}')\n",
    "\n",
    "        if epoch_val_loss <= valid_loss_min:\n",
    "            torch.save(model.state_dict(), f'{RUN_NAME}.pt')\n",
    "            print('Validation loss decreased ({:.6f} --> {:.6f}).  Saving model ...'.format(valid_loss_min,epoch_val_loss))\n",
    "            valid_loss_min = epoch_val_loss\n",
    "        print(25*'==')"
   ],
   "metadata": {
    "collapsed": false,
    "pycharm": {
     "name": "#%%\n"
    }
   }
  },
  {
   "cell_type": "code",
   "execution_count": 83,
   "outputs": [],
   "source": [
    "from sklearn.metrics import (\n",
    "    accuracy_score, precision_score, recall_score, f1_score,\n",
    "    roc_auc_score, average_precision_score, log_loss, brier_score_loss, confusion_matrix\n",
    ")\n",
    "import matplotlib.pyplot as plt\n",
    "\n",
    "def get_stats(model, data):\n",
    "    model.eval()\n",
    "    y_pred = []\n",
    "    y = []\n",
    "    all_routes = []\n",
    "    with torch.no_grad():  # Disable gradient computation\n",
    "        for inputs, labels in data:\n",
    "            y.extend(labels)\n",
    "            results = model(inputs, is_training=False).detach()  # Set is_training to False\n",
    "            y_pred.extend(results)\n",
    "            all_routes.extend(inputs['routes'].cpu().numpy())\n",
    "\n",
    "    y_true = np.array(y)\n",
    "    y_pred_proba = np.array(y_pred)\n",
    "    y_pred = (y_pred_proba > 0.5).astype(np.float32)\n",
    "\n",
    "    acc = accuracy_score(y_true, y_pred)\n",
    "    precision = precision_score(y_true, y_pred)\n",
    "    recall = recall_score(y_true, y_pred)\n",
    "    f1 = f1_score(y_true, y_pred)\n",
    "    roc_auc = roc_auc_score(y_true, y_pred)\n",
    "    average_precision = average_precision_score(y_true, y_pred)\n",
    "    quadratic_loss = log_loss(y_true, y_pred_proba)\n",
    "    brier_score = brier_score_loss(y_true, y_pred_proba)\n",
    "    tn, fp, fn, tp = confusion_matrix(y_true, y_pred).ravel()\n",
    "\n",
    "    return {\n",
    "        \"acc\": acc,\n",
    "        \"precision\": precision,\n",
    "        \"recall\": recall,\n",
    "        \"f1\": f1,\n",
    "        \"roc_auc\": roc_auc,\n",
    "        \"average_precision\": average_precision,\n",
    "        \"quadratic_loss\": quadratic_loss,\n",
    "        \"brier_score\": brier_score,\n",
    "        \"true_positive\": tp,\n",
    "        \"false_positive\": fp,\n",
    "        \"true_negative\": tn,\n",
    "        \"false_negative\": fn\n",
    "    }\n"
   ],
   "metadata": {
    "collapsed": false,
    "pycharm": {
     "name": "#%%\n"
    }
   }
  },
  {
   "cell_type": "code",
   "execution_count": 84,
   "outputs": [],
   "source": [
    "def get_stats(model, data):\n",
    "    model.eval()\n",
    "    y_pred = []\n",
    "    y = []\n",
    "    all_inputs = []\n",
    "    with torch.no_grad():\n",
    "        for inputs, labels in data:\n",
    "            y.extend(labels.cpu().numpy())\n",
    "            results = model(inputs, is_training=False).detach()\n",
    "            y_pred.extend(results.cpu().numpy())\n",
    "            all_inputs.append({k: v.cpu().numpy() for k, v in inputs.items()})\n",
    "\n",
    "    y_true = np.array(y)\n",
    "    y_pred_proba = np.array(y_pred)\n",
    "    y_pred_binary = (y_pred_proba > 0.5).astype(np.float32)\n",
    "\n",
    "    # Calculate metrics\n",
    "    acc = accuracy_score(y_true, y_pred_binary)\n",
    "    precision = precision_score(y_true, y_pred_binary)\n",
    "    recall = recall_score(y_true, y_pred_binary)\n",
    "    f1 = f1_score(y_true, y_pred_binary)\n",
    "    roc_auc = roc_auc_score(y_true, y_pred_proba)\n",
    "    average_precision = average_precision_score(y_true, y_pred_proba)\n",
    "    quadratic_loss = log_loss(y_true, y_pred_proba)\n",
    "    brier_score = brier_score_loss(y_true, y_pred_proba)\n",
    "    tn, fp, fn, tp = confusion_matrix(y_true, y_pred_binary).ravel()\n",
    "\n",
    "    # Combine all inputs into a single dictionary\n",
    "    combined_inputs = {k: np.concatenate([d[k] for d in all_inputs]) for k in all_inputs[0].keys()}\n",
    "\n",
    "    return {\n",
    "        \"metrics\": {\n",
    "            \"acc\": acc,\n",
    "            \"precision\": precision,\n",
    "            \"recall\": recall,\n",
    "            \"f1\": f1,\n",
    "            \"roc_auc\": roc_auc,\n",
    "            \"average_precision\": average_precision,\n",
    "            \"quadratic_loss\": quadratic_loss,\n",
    "            \"brier_score\": brier_score,\n",
    "            \"true_positive\": tp,\n",
    "            \"false_positive\": fp,\n",
    "            \"true_negative\": tn,\n",
    "            \"false_negative\": fn\n",
    "        },\n",
    "        \"predictions\": {\n",
    "            \"y_true\": y_true,\n",
    "            \"y_pred_proba\": y_pred_proba,\n",
    "            \"y_pred_binary\": y_pred_binary,\n",
    "            \"inputs\": combined_inputs\n",
    "        }\n",
    "    }\n",
    "\n",
    "def categorize_predictions(df, stats):\n",
    "    y_true = stats['predictions']['y_true']\n",
    "    y_pred_binary = stats['predictions']['y_pred_binary']\n",
    "    y_pred_proba = stats['predictions']['y_pred_proba']\n",
    "\n",
    "    df = df.copy()\n",
    "    df['prediction_category'] = 'Unknown'\n",
    "    df.loc[(y_true == 1) & (y_pred_binary == 1), 'prediction_category'] = 'True Positive'\n",
    "    df.loc[(y_true == 0) & (y_pred_binary == 1), 'prediction_category'] = 'False Positive'\n",
    "    df.loc[(y_true == 1) & (y_pred_binary == 0), 'prediction_category'] = 'False Negative'\n",
    "    df.loc[(y_true == 0) & (y_pred_binary == 0), 'prediction_category'] = 'True Negative'\n",
    "    df['predictive_probability'] = y_pred_proba\n",
    "\n",
    "    # Add other features from the inputs if needed\n",
    "    for feature, values in stats['predictions']['inputs'].items():\n",
    "        if feature not in df.columns:\n",
    "            df[feature] = values\n",
    "\n",
    "    return df"
   ],
   "metadata": {
    "collapsed": false,
    "pycharm": {
     "name": "#%%\n"
    }
   }
  },
  {
   "cell_type": "code",
   "execution_count": 86,
   "outputs": [
    {
     "name": "stdout",
     "output_type": "stream",
     "text": [
      "len(train_df) = 13823, len(val_df) = 2188, len(test_df) = 1656\n",
      "PredictionRNN(\n",
      "  (embedding): Embedding(10547, 128)\n",
      "  (embedding_driv): Embedding(317, 32)\n",
      "  (lstm): LSTM(128, 64, num_layers=2, batch_first=True)\n",
      "  (dropout): Dropout(p=0.5, inplace=False)\n",
      "  (fc_static_1): Linear(in_features=41, out_features=128, bias=True)\n",
      "  (fc): Linear(in_features=64, out_features=32, bias=True)\n",
      "  (layer3): Linear(in_features=32, out_features=1, bias=True)\n",
      "  (relu): ReLU()\n",
      "  (sig): Sigmoid()\n",
      ")\n",
      "Epoch 1\n",
      "train_loss : 0.25870091787406374 val_loss : 0.2588515728712082\n",
      "Validation loss decreased (inf --> 0.258852).  Saving model ...\n",
      "==================================================\n",
      "Epoch 2\n",
      "train_loss : 0.25046323026929584 val_loss : 0.24678972363471985\n",
      "Validation loss decreased (0.258852 --> 0.246790).  Saving model ...\n",
      "==================================================\n",
      "Epoch 3\n",
      "train_loss : 0.23781342378684453 val_loss : 0.22301308065652847\n",
      "Validation loss decreased (0.246790 --> 0.223013).  Saving model ...\n",
      "==================================================\n",
      "Epoch 4\n",
      "train_loss : 0.21506014040538243 val_loss : 0.1890869364142418\n",
      "Validation loss decreased (0.223013 --> 0.189087).  Saving model ...\n",
      "==================================================\n",
      "Epoch 5\n",
      "train_loss : 0.1993850405727114 val_loss : 0.17696638405323029\n",
      "Validation loss decreased (0.189087 --> 0.176966).  Saving model ...\n",
      "==================================================\n",
      "Epoch 6\n",
      "train_loss : 0.19468982730593 val_loss : 0.16837530210614204\n",
      "Validation loss decreased (0.176966 --> 0.168375).  Saving model ...\n",
      "==================================================\n",
      "Epoch 7\n",
      "train_loss : 0.18528507224151067 val_loss : 0.16310562565922737\n",
      "Validation loss decreased (0.168375 --> 0.163106).  Saving model ...\n",
      "==================================================\n",
      "Epoch 8\n",
      "train_loss : 0.1777751467057637 val_loss : 0.15920904278755188\n",
      "Validation loss decreased (0.163106 --> 0.159209).  Saving model ...\n",
      "==================================================\n",
      "Epoch 9\n",
      "train_loss : 0.17138920511518205 val_loss : 0.15542308241128922\n",
      "Validation loss decreased (0.159209 --> 0.155423).  Saving model ...\n",
      "==================================================\n",
      "Epoch 10\n",
      "train_loss : 0.1650435413633074 val_loss : 0.154672272503376\n",
      "Validation loss decreased (0.155423 --> 0.154672).  Saving model ...\n",
      "==================================================\n",
      "Epoch 11\n",
      "train_loss : 0.15963278710842133 val_loss : 0.1544497311115265\n",
      "Validation loss decreased (0.154672 --> 0.154450).  Saving model ...\n",
      "==================================================\n",
      "Epoch 12\n",
      "train_loss : 0.15499518598828996 val_loss : 0.15517009049654007\n",
      "==================================================\n",
      "Epoch 13\n",
      "train_loss : 0.1500495012317385 val_loss : 0.1556004248559475\n",
      "==================================================\n",
      "Epoch 14\n",
      "train_loss : 0.1452155719910349 val_loss : 0.15598339587450027\n",
      "==================================================\n",
      "Epoch 15\n",
      "train_loss : 0.14105187888656343 val_loss : 0.15883732959628105\n",
      "==================================================\n",
      "Epoch 16\n",
      "train_loss : 0.13645105063915253 val_loss : 0.16318939626216888\n",
      "==================================================\n",
      "Epoch 17\n",
      "train_loss : 0.1314742203269686 val_loss : 0.16418001055717468\n",
      "==================================================\n",
      "Epoch 18\n",
      "train_loss : 0.1261566121663366 val_loss : 0.16294864565134048\n",
      "==================================================\n",
      "Epoch 19\n",
      "train_loss : 0.1213853731751442 val_loss : 0.1596672721207142\n",
      "==================================================\n",
      "Epoch 20\n",
      "train_loss : 0.12215971840279442 val_loss : 0.16064263507723808\n",
      "==================================================\n",
      "Epoch 21\n",
      "train_loss : 0.12661626083510263 val_loss : 0.17929018288850784\n",
      "==================================================\n",
      "Epoch 22\n",
      "train_loss : 0.12471982198102134 val_loss : 0.1563693918287754\n",
      "==================================================\n",
      "Epoch 23\n",
      "train_loss : 0.11546480762107032 val_loss : 0.16526073217391968\n",
      "==================================================\n",
      "Epoch 24\n",
      "train_loss : 0.10499753057956696 val_loss : 0.16732091456651688\n",
      "==================================================\n",
      "Epoch 25\n",
      "train_loss : 0.10047709835427147 val_loss : 0.17578931152820587\n",
      "==================================================\n",
      "Epoch 26\n",
      "train_loss : 0.09566265451056617 val_loss : 0.17277167737483978\n",
      "==================================================\n",
      "Epoch 27\n",
      "train_loss : 0.09365406206675939 val_loss : 0.1821439191699028\n",
      "==================================================\n",
      "Epoch 28\n",
      "train_loss : 0.09061708939926964 val_loss : 0.18396461755037308\n",
      "==================================================\n",
      "Epoch 29\n",
      "train_loss : 0.08888464314596993 val_loss : 0.1751573383808136\n",
      "==================================================\n",
      "Epoch 30\n",
      "train_loss : 0.09239009342023305 val_loss : 0.18565447628498077\n",
      "==================================================\n",
      "Epoch 31\n",
      "train_loss : 0.08504309505224228 val_loss : 0.17308467626571655\n",
      "==================================================\n",
      "Epoch 32\n",
      "train_loss : 0.07953399100473948 val_loss : 0.1813272312283516\n",
      "==================================================\n",
      "Epoch 33\n",
      "train_loss : 0.07181391013520104 val_loss : 0.19368190318346024\n",
      "==================================================\n",
      "Epoch 34\n",
      "train_loss : 0.06990359351038933 val_loss : 0.18286658823490143\n",
      "==================================================\n",
      "Epoch 35\n",
      "train_loss : 0.0709063144666808 val_loss : 0.18006223440170288\n",
      "==================================================\n",
      "Epoch 36\n",
      "train_loss : 0.06562355852552823 val_loss : 0.19537672400474548\n",
      "==================================================\n",
      "Epoch 37\n",
      "train_loss : 0.06490692336644445 val_loss : 0.18473436683416367\n",
      "==================================================\n",
      "Epoch 38\n",
      "train_loss : 0.06308167214904513 val_loss : 0.19420213252305984\n",
      "==================================================\n",
      "Epoch 39\n",
      "train_loss : 0.059220075607299805 val_loss : 0.1864256039261818\n",
      "==================================================\n",
      "Epoch 40\n",
      "train_loss : 0.056707599865538735 val_loss : 0.18864666670560837\n",
      "==================================================\n",
      "PredictionRNN(\n",
      "  (embedding): Embedding(10547, 128)\n",
      "  (embedding_driv): Embedding(317, 32)\n",
      "  (lstm): LSTM(128, 64, num_layers=2, batch_first=True)\n",
      "  (dropout): Dropout(p=0.5, inplace=False)\n",
      "  (fc_static_1): Linear(in_features=41, out_features=128, bias=True)\n",
      "  (fc): Linear(in_features=64, out_features=32, bias=True)\n",
      "  (layer3): Linear(in_features=32, out_features=1, bias=True)\n",
      "  (relu): ReLU()\n",
      "  (sig): Sigmoid()\n",
      ")\n",
      "Metrics: {'acc': 0.711352657004831, 'precision': 0.711764705882353, 'recall': 0.7219570405727923, 'f1': 0.716824644549763, 'roc_auc': 0.7857630520916608, 'average_precision': 0.7993854683174876, 'quadratic_loss': 0.5660244625240187, 'brier_score': 0.1912145405549271, 'true_positive': 605, 'false_positive': 245, 'true_negative': 573, 'false_negative': 233}\n"
     ]
    }
   ],
   "source": [
    "from sklearn.model_selection import KFold, cross_val_score\n",
    "set_seed(42)\n",
    "\n",
    "FEATURE_COLUMNS = ['routes', 'driver_id_feature', 'driver_id_sorted','last_two_weeks_count', 'len', 'day_of_week_feature', 'day_of_week_encoded_ext', 'country_flag', 'location_is_depot', 'location_type_id']\n",
    "\n",
    "\n",
    "class DataFrameDataset(Dataset):\n",
    "    def __init__(self, df):\n",
    "        self.df = df\n",
    "\n",
    "    def __len__(self):\n",
    "        return len(self.df)\n",
    "\n",
    "    def __getitem__(self, idx):\n",
    "        item = {}\n",
    "        for col in FEATURE_COLUMNS:\n",
    "            feature = self.df[col].iloc[idx]\n",
    "            if isinstance(feature, list):\n",
    "                feature = padding_([feature], max_route_length)[0]\n",
    "            item[col] = feature\n",
    "        item['label'] = self.df['label'].iloc[idx]\n",
    "        return item, item['label']\n",
    "\n",
    "def get_data_loaders(train_df, val_df, test_df):\n",
    "    # create Tensor datasets\n",
    "    train_data = DataFrameDataset(train_df)\n",
    "    val_data = DataFrameDataset(val_df)\n",
    "    test_data = DataFrameDataset(test_df)\n",
    "\n",
    "    # dataloaders\n",
    "    batch_size = 2048\n",
    "\n",
    "    # make sure to SHUFFLE your data\n",
    "    train_loader = DataLoader(train_data, shuffle=False, batch_size=batch_size, num_workers=0, generator=g, worker_init_fn=seed_worker)\n",
    "    val_loader = DataLoader(val_data, shuffle=False, batch_size=batch_size, num_workers=0, generator=g, worker_init_fn=seed_worker)\n",
    "    test_loader = DataLoader(test_data, shuffle=False, batch_size=batch_size,num_workers=0, generator=g, worker_init_fn=seed_worker)\n",
    "    return train_loader, val_loader, test_loader\n",
    "\n",
    "train_df = final_routes_split[final_routes_split['split'] == 'train'].drop('split', axis=1)\n",
    "val_df = final_routes_split[final_routes_split['split'] == 'val'].drop('split', axis=1)\n",
    "test_df = final_routes_split[final_routes_split['split'] == 'test'].drop('split', axis=1)\n",
    "\n",
    "print(f'len(train_df) = {len(train_df)}, len(val_df) = {len(val_df)}, len(test_df) = {len(test_df)}')\n",
    "\n",
    "train_loader, val_loader, test_loader = get_data_loaders(train_df, val_df, test_df)\n",
    "model = get_model()\n",
    "model.train()\n",
    "\n",
    "# Train the model\n",
    "train_model((train_loader, val_loader), model, epochs=40)\n",
    "\n",
    "# Load the best model\n",
    "model = get_model()\n",
    "model.load_state_dict(torch.load(f'{RUN_NAME}.pt'))\n",
    "\n",
    "# Evaluate on test set\n",
    "model.eval()\n",
    "test_stats = get_stats(model, test_loader)\n",
    "\n",
    "print(\"Metrics:\", test_stats['metrics'])\n",
    "\n",
    "categorized_df = categorize_predictions(test_df, test_stats)"
   ],
   "metadata": {
    "collapsed": false,
    "pycharm": {
     "name": "#%%\n"
    }
   }
  },
  {
   "cell_type": "code",
   "execution_count": null,
   "outputs": [],
   "source": [
    "ha_tp_routes = test_df_group_HA[test_df_group_HA['prediction_category'] == 'False Positive']['routes'].tolist()\n",
    "lstm_tp_routes = categorized_df[categorized_df['prediction_category'] == 'False Positive']['routes'].tolist()\n",
    "\n",
    "print(len(categorized_df[categorized_df['prediction_category'] == 'False Negative']['routes']), len(categorized_df[categorized_df['prediction_category'] == 'False Negative']['routes']))\n",
    "# Convert lists to sets of tuples for comparison\n",
    "ha_tp_routes_set = set(tuple(route) for route in ha_tp_routes)\n",
    "lstm_tp_routes_set = set(tuple(route) for route in lstm_tp_routes)\n",
    "common_routes = ha_tp_routes_set.intersection(lstm_tp_routes_set)\n",
    "\n",
    "# Find non-overlapping routes\n",
    "ha_only_routes = ha_tp_routes_set - lstm_tp_routes_set\n",
    "lstm_only_routes = lstm_tp_routes_set - ha_tp_routes_set\n",
    "\n",
    "# Convert back to lists for display\n",
    "common_routes = [list(route) for route in common_routes]\n",
    "ha_only_routes = [list(route) for route in ha_only_routes]\n",
    "lstm_only_routes = [list(route) for route in lstm_only_routes]\n",
    "\n",
    "print(\"Routes unique to HA model:\", len(ha_only_routes), len(common_routes))\n",
    "print(\"Sample of HA-only routes:\", ha_only_routes[:5])\n",
    "\n",
    "print(\"\\nRoutes unique to LSTM model:\", len(lstm_only_routes))\n",
    "print(\"Sample of LSTM-only routes:\", lstm_only_routes[:5])\n",
    "print(len(common_routes))"
   ],
   "metadata": {
    "collapsed": false,
    "pycharm": {
     "name": "#%%\n"
    }
   }
  },
  {
   "cell_type": "markdown",
   "source": [
    "CNN:\n",
    "1632: 793 label0,\n",
    "TP: 54 561 benchmark\n",
    "    75 561 model\n",
    "FP: 88 153 benchmark\n",
    "    49 153 model\n",
    "TN: 49 494 benchmark\n",
    "    86 494 model\n",
    "FN: 73 141 benchmark\n",
    "    53 141 model\n",
    "\n",
    "0.15\n",
    "TP 80 556\n",
    "   60 556\n",
    "FP: 112 149\n",
    "    36 149\n",
    "TN: 36 491\n",
    "    110 491\n",
    "FN: 60 156 benchmark\n",
    "    79 156 benchmark\n",
    "\n",
    "0.3\n",
    "TP: 45 567 benchmark\n",
    "    64 567 model\n",
    "FP: 82 167 benchmark\n",
    "    56 167 model\n",
    "TN: 55 505 benchmark\n",
    "    81 505 model\n",
    "FN: 64 155 benchmark\n",
    "    44 155 model\n",
    "\n",
    "\n",
    "\n",
    "\n",
    "a = 561+494, b = 54+49, c = 75+86, d = 153+141\n",
    "\n",
    "# print(categorized_df['routes'])"
   ],
   "metadata": {
    "collapsed": false,
    "pycharm": {
     "name": "#%% md\n"
    }
   }
  },
  {
   "cell_type": "code",
   "execution_count": null,
   "outputs": [],
   "source": [
    "# Example of calculating the mcnemar test\n",
    "from mlxtend.evaluate import mcnemar\n",
    "# define contingency table\n",
    "table = np.array([[1055, 103],\n",
    "\t\t [161, 294]])\n",
    "# calculate mcnemar test\n",
    "result = mcnemar(table)\n",
    "print(result)\n",
    "# summarize the finding\n",
    "# print('statistic=%.3f, p-value=%.10f' % (result.statistic, result.pvalue))\n",
    "# interpret the p-value"
   ],
   "metadata": {
    "collapsed": false,
    "pycharm": {
     "name": "#%%\n"
    }
   }
  },
  {
   "cell_type": "code",
   "execution_count": null,
   "outputs": [],
   "source": [
    "!pip install mlxtend"
   ],
   "metadata": {
    "collapsed": false,
    "pycharm": {
     "name": "#%%\n"
    }
   }
  },
  {
   "cell_type": "code",
   "execution_count": null,
   "outputs": [],
   "source": [
    "print(categorized_df['routes'])"
   ],
   "metadata": {
    "collapsed": false,
    "pycharm": {
     "name": "#%%\n"
    }
   }
  },
  {
   "cell_type": "code",
   "execution_count": null,
   "outputs": [],
   "source": [
    "len(test_df[test_df['label']==1])"
   ],
   "metadata": {
    "collapsed": false,
    "pycharm": {
     "name": "#%%\n"
    }
   }
  },
  {
   "cell_type": "code",
   "execution_count": null,
   "outputs": [],
   "source": [
    "def get_mean_stat(stats, stat_name):\n",
    "    # Calculate mean for regression stats\n",
    "    arr = np.array([item[stat_name] for item in stats])\n",
    "    return arr.mean()\n",
    "print('mse:', get_mean_stat(stats, 'mse'))\n",
    "print('rmse:', get_mean_stat(stats, 'rmse'))\n",
    "print('mae:', get_mean_stat(stats, 'mae'))\n",
    "print('r2:', get_mean_stat(stats, 'r2'))\n",
    "\n",
    "# If you want to visualize the distribution of predictions vs actual values\n",
    "plt.figure(figsize=(10, 6))\n",
    "for stat in stats:\n",
    "    plt.scatter(stat['y'], stat['y_pred'], alpha=0.5)\n",
    "plt.plot([0, 1], [0, 1], 'r--')\n",
    "plt.xlabel('True Values')\n",
    "plt.ylabel('Predicted Values')\n",
    "plt.title('Predicted vs True Values')\n",
    "plt.show()\n",
    "\n",
    "# If you want to visualize the residuals\n",
    "plt.figure(figsize=(10, 6))\n",
    "for stat in stats:\n",
    "    residuals = np.array(stat['y_pred']) - np.array(stat['y'])\n",
    "    plt.scatter(stat['y'], residuals, alpha=0.5)\n",
    "plt.axhline(y=0, color='r', linestyle='--')\n",
    "plt.xlabel('True Values')\n",
    "plt.ylabel('Residuals')\n",
    "plt.title('Residual Plot')\n",
    "plt.show()"
   ],
   "metadata": {
    "collapsed": false,
    "pycharm": {
     "name": "#%%\n"
    }
   }
  },
  {
   "cell_type": "code",
   "execution_count": null,
   "outputs": [],
   "source": [
    "# from sklearn.model_selection import train_test_split\n",
    "#\n",
    "# reset_random()\n",
    "# X_train, X_val, y_train, y_val = train_test_split(X, y, stratify=y, random_state=seed_value)\n",
    "# train_loader, valid_loader = get_data_loaders(X_train, y_train, X_val, y_val)\n",
    "#\n",
    "# model = get_model()\n",
    "# # summary(model, input_size=(1,9))\n",
    "# model.train()\n",
    "#\n",
    "# train_model((train_loader, valid_loader), model, epochs=50)\n",
    "#\n",
    "# get_stats(model, valid_loader)"
   ],
   "metadata": {
    "collapsed": false,
    "pycharm": {
     "name": "#%%\n"
    }
   }
  },
  {
   "cell_type": "code",
   "execution_count": null,
   "outputs": [],
   "source": [
    "get_stats(model, valid_loader)\n",
    "# def get_mean_stat(stats, stat_name) -> float:\n",
    "#     return np.array([item[stat_name] for item in stats]).mean()\n",
    "#\n",
    "# print('acc:', get_mean_stat(stats, 'acc'))\n",
    "# print('precision:', get_mean_stat(stats, 'precision'))\n",
    "# print('recall:', get_mean_stat(stats, 'recall'))\n",
    "# print('f1:', get_mean_stat(stats, 'f1'))\n",
    "# print('roc_auc:', get_mean_stat(stats, 'roc_auc'))\n",
    "# print('average_precision:', get_mean_stat(stats, 'average_precision'))"
   ],
   "metadata": {
    "collapsed": false,
    "pycharm": {
     "name": "#%%\n"
    }
   }
  },
  {
   "cell_type": "code",
   "execution_count": null,
   "outputs": [],
   "source": [],
   "metadata": {
    "collapsed": false,
    "pycharm": {
     "name": "#%%\n"
    }
   }
  },
  {
   "cell_type": "code",
   "execution_count": null,
   "outputs": [],
   "source": [
    "print(stats)"
   ],
   "metadata": {
    "collapsed": false,
    "pycharm": {
     "name": "#%%\n"
    }
   }
  },
  {
   "cell_type": "code",
   "execution_count": null,
   "outputs": [],
   "source": [
    "print(model.fc.weight)"
   ],
   "metadata": {
    "collapsed": false,
    "pycharm": {
     "name": "#%%\n"
    }
   }
  },
  {
   "cell_type": "code",
   "execution_count": null,
   "outputs": [],
   "source": [
    "test_df[test_df['label'] == 0]"
   ],
   "metadata": {
    "collapsed": false,
    "pycharm": {
     "name": "#%%\n"
    }
   }
  },
  {
   "cell_type": "code",
   "execution_count": null,
   "outputs": [],
   "source": [],
   "metadata": {
    "collapsed": false,
    "pycharm": {
     "name": "#%%\n"
    }
   }
  }
 ],
 "metadata": {
  "kernelspec": {
   "display_name": "Python 3",
   "language": "python",
   "name": "python3"
  },
  "language_info": {
   "codemirror_mode": {
    "name": "ipython",
    "version": 2
   },
   "file_extension": ".py",
   "mimetype": "text/x-python",
   "name": "python",
   "nbconvert_exporter": "python",
   "pygments_lexer": "ipython2",
   "version": "2.7.6"
  }
 },
 "nbformat": 4,
 "nbformat_minor": 0
}