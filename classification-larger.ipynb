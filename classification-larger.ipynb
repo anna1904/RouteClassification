{
 "cells": [
  {
   "cell_type": "markdown",
   "source": [
    "# Generate routes"
   ],
   "metadata": {
    "collapsed": false,
    "pycharm": {
     "name": "#%% md\n"
    }
   }
  },
  {
   "cell_type": "code",
   "execution_count": 1,
   "outputs": [],
   "source": [
    "import pandas as pd\n",
    "import numpy as np\n",
    "from datetime import datetime\n",
    "import pandas as pd\n",
    "import matplotlib.pyplot as plt\n",
    "from datetime import datetime, timedelta\n",
    "from sklearn.cluster import KMeans"
   ],
   "metadata": {
    "collapsed": false,
    "pycharm": {
     "name": "#%%\n"
    }
   }
  },
  {
   "cell_type": "code",
   "execution_count": 2,
   "outputs": [
    {
     "name": "stdout",
     "output_type": "stream",
     "text": [
      "stop_completed_at         0\n",
      "stop_arrived_at           0\n",
      "stop_latest               0\n",
      "stop_earliest             0\n",
      "stop_dispatched_at        0\n",
      "location_id               0\n",
      "location_type_id          0\n",
      "driver_workday_id         0\n",
      "address_id                0\n",
      "location_is_depot         0\n",
      "driver_id                 0\n",
      "current_lat               0\n",
      "current_lng               0\n",
      "prev_planned_lat      27440\n",
      "prev_planned_lng      27440\n",
      "prev_actual_lat       27440\n",
      "prev_actual_lng       27440\n",
      "dtype: int64\n",
      "number of groups 11589\n"
     ]
    },
    {
     "data": {
      "text/plain": "       driver_workday_id                                          driver_id  \\\n0                 297900  [1255, 1255, 1255, 1255, 1255, 1255, 1255, 125...   \n1                 297906         [1195, 1195, 1195, 1195, 1195, 1195, 1195]   \n2                 297908  [1176, 1176, 1176, 1176, 1176, 1176, 1176, 117...   \n3                 297911  [1197, 1197, 1197, 1197, 1197, 1197, 1197, 119...   \n4                 297919  [1218, 1218, 1218, 1218, 1218, 1218, 1218, 121...   \n...                  ...                                                ...   \n27441             442393                [877, 877, 877, 877, 877, 877, 877]   \n27442             443087  [1562, 1562, 1562, 1562, 1562, 1562, 1562, 156...   \n27443             443092                           [1417, 1417, 1417, 1417]   \n27444             443098                                         [874, 874]   \n27445             443107  [723, 723, 723, 723, 723, 723, 723, 723, 723, ...   \n\n                                        location_type_id  \\\n0                         [1, 2, 2, 2, 2, 2, 2, 2, 2, 2]   \n1                                  [1, 2, 2, 2, 2, 2, 2]   \n2      [1, 2, 2, 2, 2, 2, 2, 2, 2, 2, 2, 2, 2, 2, 2, ...   \n3                         [1, 2, 2, 2, 2, 2, 2, 2, 2, 2]   \n4                      [1, 2, 2, 2, 2, 2, 2, 2, 2, 2, 2]   \n...                                                  ...   \n27441                              [1, 2, 2, 2, 2, 2, 2]   \n27442  [1, 2, 2, 2, 2, 1, 2, 2, 1, 2, 2, 1, 2, 2, 2, ...   \n27443                                       [1, 2, 1, 2]   \n27444                                             [1, 2]   \n27445               [1, 2, 2, 2, 2, 2, 2, 2, 2, 2, 1, 2]   \n\n                                  planned_route_location  \\\n0      [122267, 118973, 118854, 118820, 118623, 11909...   \n1      [122267, 120295, 120297, 118930, 120298, 13328...   \n2      [122267, 120515, 119217, 119215, 119170, 13445...   \n3      [122267, 145327, 133259, 133259, 133259, 13325...   \n4      [122267, 119426, 118790, 119069, 118805, 11885...   \n...                                                  ...   \n27441  [23977, 58941, 38726, 176478, 153920, 186237, ...   \n27442  [163647, 173249, 179617, 180628, 160877, 16186...   \n27443                      [46452, 46955, 46452, 154273]   \n27444                                    [23977, 135840]   \n27445  [46452, 45160, 156665, 44587, 45161, 44634, 50...   \n\n                                      stop_dispatched_at  \\\n0      [2024-01-01 19:41:35.136881+00, 2024-01-01 19:...   \n1      [2024-01-01 19:42:05.147145+00, 2024-01-01 19:...   \n2      [2024-01-01 21:25:47.230131+00, 2024-01-01 21:...   \n3      [2024-01-01 19:42:59.704147+00, 2024-01-01 19:...   \n4      [2024-01-01 19:46:51.16173+00, 2024-01-01 19:4...   \n...                                                  ...   \n27441  [2024-08-06 19:39:12.755331+00, 2024-08-06 19:...   \n27442  [2024-08-07 01:23:02.437621+00, 2024-08-07 01:...   \n27443  [2024-08-07 05:59:26.311221+00, 2024-08-07 05:...   \n27444  [2024-08-07 05:42:45.306612+00, 2024-08-07 05:...   \n27445  [2024-08-07 08:27:45.361844+00, 2024-08-07 08:...   \n\n                                         stop_arrived_at  \\\n0      [2024-01-01 22:14:16.454324+00, 2024-01-01 23:...   \n1      [2024-01-01 20:50:17.003744+00, 2024-01-02 02:...   \n2      [2024-01-01 23:06:27.627368+00, 2024-01-02 01:...   \n3      [2024-01-02 00:09:15.241119+00, 2024-01-02 04:...   \n4      [2024-01-01 23:05:52.039818+00, 2024-01-02 01:...   \n...                                                  ...   \n27441  [2024-08-07 13:31:50.711864+00, 2024-08-07 13:...   \n27442  [2024-08-07 01:24:05.33254+00, 2024-08-07 03:3...   \n27443  [2024-08-07 06:38:14.810272+00, 2024-08-07 07:...   \n27444  [2024-08-07 13:31:52.652071+00, 2024-08-07 13:...   \n27445  [2024-08-07 09:00:31.581115+00, 2024-08-07 10:...   \n\n                                           stop_earliest  \\\n0      [2024-01-01 19:00:00+00, 2024-01-01 23:00:00+0...   \n1      [2024-01-01 19:00:00+00, 2024-01-01 21:00:00+0...   \n2      [2024-01-01 19:00:00+00, 2024-01-01 21:00:00+0...   \n3      [2024-01-02 00:00:00+00, 2024-01-02 04:30:00+0...   \n4      [2024-01-01 19:00:00+00, 2024-01-01 21:00:00+0...   \n...                                                  ...   \n27441  [2024-08-07 01:00:00+00, 2024-08-07 05:00:00+0...   \n27442  [2024-08-07 00:00:00+00, 2024-08-07 02:00:00+0...   \n27443  [2024-08-07 02:00:00+00, 2024-08-07 05:00:00+0...   \n27444   [2024-08-07 01:00:00+00, 2024-08-07 05:00:00+00]   \n27445  [2024-08-07 02:00:00+00, 2024-08-07 06:00:00+0...   \n\n                                             stop_latest  \\\n0      [2024-01-02 01:00:00+00, 2024-01-02 03:00:00+0...   \n1      [2024-01-02 01:00:00+00, 2024-01-02 04:00:00+0...   \n2      [2024-01-02 01:00:00+00, 2024-01-02 04:00:00+0...   \n3      [2024-01-02 22:00:00+00, 2024-01-02 08:00:00+0...   \n4      [2024-01-02 01:00:00+00, 2024-01-02 04:00:00+0...   \n...                                                  ...   \n27441  [2024-08-07 14:00:00+00, 2024-08-07 11:00:00+0...   \n27442  [2024-08-07 16:00:00+00, 2024-08-07 04:00:00+0...   \n27443  [2024-08-07 20:00:00+00, 2024-08-07 07:00:00+0...   \n27444   [2024-08-07 14:00:00+00, 2024-08-07 11:00:00+00]   \n27445  [2024-08-07 20:00:00+00, 2024-08-07 10:00:00+0...   \n\n                                             current_lat  \\\n0      [55.6465393, 55.6669147, 55.676665, 55.6757322...   \n1      [55.6465393, 55.662018, 55.662429, 55.6727433,...   \n2      [55.6465393, 55.619592, 55.636304, 55.631888, ...   \n3      [55.6465393, 54.65117396302384, 54.666191, 54....   \n4      [55.6465393, 55.62296, 55.562168, 55.6381577, ...   \n...                                                  ...   \n27441  [60.007627, 59.923836, 59.93422, 59.811373, 59...   \n27442  [56.0667627, 56.13472729999999, 56.1352239, 56...   \n27443  [59.805664, 59.795058, 59.805664, 59.948098894...   \n27444                             [60.007627, 59.905421]   \n27445  [59.805664, 59.420838, 59.415188, 59.414098, 5...   \n\n                                             current_lng  \\\n0      [12.1522978, 12.5262801, 12.566428, 12.5619711...   \n1      [12.1522978, 12.360745, 12.363469, 12.3935111,...   \n2      [12.1522978, 12.028735, 12.044857, 12.055067, ...   \n3      [12.1522978, 11.375901220879824, 11.333044, 11...   \n4      [12.1522978, 12.615835, 12.576841, 12.6515491,...   \n...                                                  ...   \n27441  [11.047135, 10.814451, 10.800594, 10.80755, 10...   \n27442  [9.986944, 8.9884048, 8.9838423, 8.9810943, 8....   \n27443  [10.290383, 10.279009, 10.290383, 10.771520299...   \n27444                             [11.047135, 10.618603]   \n27445  [10.290383, 10.488199, 10.496616, 10.487423, 1...   \n\n                                       stop_completed_at  \\\n0      [2024-01-01 22:14:54.872731+00, 2024-01-01 23:...   \n1      [2024-01-01 20:50:29.721122+00, 2024-01-02 02:...   \n2      [2024-01-01 23:06:36.064172+00, 2024-01-02 01:...   \n3      [2024-01-02 00:09:21.131516+00, 2024-01-02 04:...   \n4      [2024-01-01 23:05:58.283704+00, 2024-01-02 01:...   \n...                                                  ...   \n27441  [2024-08-07 13:31:50.711869+00, 2024-08-07 13:...   \n27442  [2024-08-07 01:24:05.33256+00, 2024-08-07 03:3...   \n27443  [2024-08-07 07:10:49.406797+00, 2024-08-07 07:...   \n27444  [2024-08-07 13:31:52.652071+00, 2024-08-07 13:...   \n27445  [2024-08-07 09:00:39.885506+00, 2024-08-07 10:...   \n\n                                   planned_route_cluster  \\\n0      [3165, 1419, 3238, 3429, 720, 1360, 4511, 3703...   \n1              [3165, 122, 3540, 1413, 3487, 2070, 1287]   \n2      [3165, 1073, 1995, 3776, 1059, 1266, 1938, 193...   \n3      [3165, 442, 137, 137, 137, 137, 137, 137, 1809...   \n4      [3165, 3301, 537, 1830, 4879, 3305, 3305, 1642...   \n...                                                  ...   \n27441             [30, 3949, 4848, 4971, 2429, 45, 2313]   \n27442  [39, 1071, 3823, 4365, 4365, 39, 3823, 3823, 4...   \n27443                               [33, 2032, 33, 2852]   \n27444                                         [30, 3836]   \n27445  [33, 3225, 4361, 4473, 1308, 2346, 37, 3408, 4...   \n\n                                     planned_route_craft  \\\n0      [1169, 1405, 1577, 1560, 1479, 1391, 1434, 141...   \n1             [1169, 1352, 1356, 1508, 1350, 1312, 1401]   \n2      [1169, 960, 1049, 1026, 982, 916, 1284, 1281, ...   \n3               [1169, 7, 23, 23, 23, 23, 23, 23, 12, 4]   \n4      [1169, 965, 818, 1070, 1658, 1168, 1166, 888, ...   \n...                                                  ...   \n27441        [10076, 8785, 9172, 7204, 6955, 5902, 7045]   \n27442  [3162, 3403, 3408, 3440, 3437, 3162, 3408, 338...   \n27443                           [7166, 7127, 7166, 9527]   \n27444                                      [10076, 7846]   \n27445  [7166, 5428, 5394, 5385, 5347, 4633, 4350, 431...   \n\n                                             day_of_week  \\\n0      [Monday, Monday, Monday, Monday, Monday, Monda...   \n1      [Monday, Monday, Monday, Monday, Monday, Monda...   \n2      [Monday, Monday, Monday, Monday, Monday, Monda...   \n3      [Monday, Monday, Monday, Monday, Monday, Monda...   \n4      [Monday, Monday, Monday, Monday, Monday, Monda...   \n...                                                  ...   \n27441  [Tuesday, Tuesday, Tuesday, Tuesday, Tuesday, ...   \n27442  [Wednesday, Wednesday, Wednesday, Wednesday, W...   \n27443       [Wednesday, Wednesday, Wednesday, Wednesday]   \n27444                             [Wednesday, Wednesday]   \n27445  [Wednesday, Wednesday, Wednesday, Wednesday, W...   \n\n                                       location_is_depot  \\\n0      [True, False, False, False, False, False, Fals...   \n1       [True, False, False, False, False, False, False]   \n2      [True, False, False, False, False, False, Fals...   \n3      [True, False, False, False, False, False, Fals...   \n4      [True, False, False, False, False, False, Fals...   \n...                                                  ...   \n27441   [True, False, False, False, False, False, False]   \n27442  [True, True, False, False, False, False, False...   \n27443                         [True, False, True, False]   \n27444                                      [True, False]   \n27445  [True, False, False, False, False, False, Fals...   \n\n                                                    date  \n0      [2024-01-01, 2024-01-01, 2024-01-01, 2024-01-0...  \n1      [2024-01-01, 2024-01-01, 2024-01-01, 2024-01-0...  \n2      [2024-01-01, 2024-01-01, 2024-01-01, 2024-01-0...  \n3      [2024-01-01, 2024-01-01, 2024-01-01, 2024-01-0...  \n4      [2024-01-01, 2024-01-01, 2024-01-01, 2024-01-0...  \n...                                                  ...  \n27441  [2024-08-06, 2024-08-06, 2024-08-06, 2024-08-0...  \n27442  [2024-08-07, 2024-08-07, 2024-08-07, 2024-08-0...  \n27443   [2024-08-07, 2024-08-07, 2024-08-07, 2024-08-07]  \n27444                           [2024-08-07, 2024-08-07]  \n27445  [2024-08-07, 2024-08-07, 2024-08-07, 2024-08-0...  \n\n[27446 rows x 16 columns]",
      "text/html": "<div>\n<style scoped>\n    .dataframe tbody tr th:only-of-type {\n        vertical-align: middle;\n    }\n\n    .dataframe tbody tr th {\n        vertical-align: top;\n    }\n\n    .dataframe thead th {\n        text-align: right;\n    }\n</style>\n<table border=\"1\" class=\"dataframe\">\n  <thead>\n    <tr style=\"text-align: right;\">\n      <th></th>\n      <th>driver_workday_id</th>\n      <th>driver_id</th>\n      <th>location_type_id</th>\n      <th>planned_route_location</th>\n      <th>stop_dispatched_at</th>\n      <th>stop_arrived_at</th>\n      <th>stop_earliest</th>\n      <th>stop_latest</th>\n      <th>current_lat</th>\n      <th>current_lng</th>\n      <th>stop_completed_at</th>\n      <th>planned_route_cluster</th>\n      <th>planned_route_craft</th>\n      <th>day_of_week</th>\n      <th>location_is_depot</th>\n      <th>date</th>\n    </tr>\n  </thead>\n  <tbody>\n    <tr>\n      <th>0</th>\n      <td>297900</td>\n      <td>[1255, 1255, 1255, 1255, 1255, 1255, 1255, 125...</td>\n      <td>[1, 2, 2, 2, 2, 2, 2, 2, 2, 2]</td>\n      <td>[122267, 118973, 118854, 118820, 118623, 11909...</td>\n      <td>[2024-01-01 19:41:35.136881+00, 2024-01-01 19:...</td>\n      <td>[2024-01-01 22:14:16.454324+00, 2024-01-01 23:...</td>\n      <td>[2024-01-01 19:00:00+00, 2024-01-01 23:00:00+0...</td>\n      <td>[2024-01-02 01:00:00+00, 2024-01-02 03:00:00+0...</td>\n      <td>[55.6465393, 55.6669147, 55.676665, 55.6757322...</td>\n      <td>[12.1522978, 12.5262801, 12.566428, 12.5619711...</td>\n      <td>[2024-01-01 22:14:54.872731+00, 2024-01-01 23:...</td>\n      <td>[3165, 1419, 3238, 3429, 720, 1360, 4511, 3703...</td>\n      <td>[1169, 1405, 1577, 1560, 1479, 1391, 1434, 141...</td>\n      <td>[Monday, Monday, Monday, Monday, Monday, Monda...</td>\n      <td>[True, False, False, False, False, False, Fals...</td>\n      <td>[2024-01-01, 2024-01-01, 2024-01-01, 2024-01-0...</td>\n    </tr>\n    <tr>\n      <th>1</th>\n      <td>297906</td>\n      <td>[1195, 1195, 1195, 1195, 1195, 1195, 1195]</td>\n      <td>[1, 2, 2, 2, 2, 2, 2]</td>\n      <td>[122267, 120295, 120297, 118930, 120298, 13328...</td>\n      <td>[2024-01-01 19:42:05.147145+00, 2024-01-01 19:...</td>\n      <td>[2024-01-01 20:50:17.003744+00, 2024-01-02 02:...</td>\n      <td>[2024-01-01 19:00:00+00, 2024-01-01 21:00:00+0...</td>\n      <td>[2024-01-02 01:00:00+00, 2024-01-02 04:00:00+0...</td>\n      <td>[55.6465393, 55.662018, 55.662429, 55.6727433,...</td>\n      <td>[12.1522978, 12.360745, 12.363469, 12.3935111,...</td>\n      <td>[2024-01-01 20:50:29.721122+00, 2024-01-02 02:...</td>\n      <td>[3165, 122, 3540, 1413, 3487, 2070, 1287]</td>\n      <td>[1169, 1352, 1356, 1508, 1350, 1312, 1401]</td>\n      <td>[Monday, Monday, Monday, Monday, Monday, Monda...</td>\n      <td>[True, False, False, False, False, False, False]</td>\n      <td>[2024-01-01, 2024-01-01, 2024-01-01, 2024-01-0...</td>\n    </tr>\n    <tr>\n      <th>2</th>\n      <td>297908</td>\n      <td>[1176, 1176, 1176, 1176, 1176, 1176, 1176, 117...</td>\n      <td>[1, 2, 2, 2, 2, 2, 2, 2, 2, 2, 2, 2, 2, 2, 2, ...</td>\n      <td>[122267, 120515, 119217, 119215, 119170, 13445...</td>\n      <td>[2024-01-01 21:25:47.230131+00, 2024-01-01 21:...</td>\n      <td>[2024-01-01 23:06:27.627368+00, 2024-01-02 01:...</td>\n      <td>[2024-01-01 19:00:00+00, 2024-01-01 21:00:00+0...</td>\n      <td>[2024-01-02 01:00:00+00, 2024-01-02 04:00:00+0...</td>\n      <td>[55.6465393, 55.619592, 55.636304, 55.631888, ...</td>\n      <td>[12.1522978, 12.028735, 12.044857, 12.055067, ...</td>\n      <td>[2024-01-01 23:06:36.064172+00, 2024-01-02 01:...</td>\n      <td>[3165, 1073, 1995, 3776, 1059, 1266, 1938, 193...</td>\n      <td>[1169, 960, 1049, 1026, 982, 916, 1284, 1281, ...</td>\n      <td>[Monday, Monday, Monday, Monday, Monday, Monda...</td>\n      <td>[True, False, False, False, False, False, Fals...</td>\n      <td>[2024-01-01, 2024-01-01, 2024-01-01, 2024-01-0...</td>\n    </tr>\n    <tr>\n      <th>3</th>\n      <td>297911</td>\n      <td>[1197, 1197, 1197, 1197, 1197, 1197, 1197, 119...</td>\n      <td>[1, 2, 2, 2, 2, 2, 2, 2, 2, 2]</td>\n      <td>[122267, 145327, 133259, 133259, 133259, 13325...</td>\n      <td>[2024-01-01 19:42:59.704147+00, 2024-01-01 19:...</td>\n      <td>[2024-01-02 00:09:15.241119+00, 2024-01-02 04:...</td>\n      <td>[2024-01-02 00:00:00+00, 2024-01-02 04:30:00+0...</td>\n      <td>[2024-01-02 22:00:00+00, 2024-01-02 08:00:00+0...</td>\n      <td>[55.6465393, 54.65117396302384, 54.666191, 54....</td>\n      <td>[12.1522978, 11.375901220879824, 11.333044, 11...</td>\n      <td>[2024-01-02 00:09:21.131516+00, 2024-01-02 04:...</td>\n      <td>[3165, 442, 137, 137, 137, 137, 137, 137, 1809...</td>\n      <td>[1169, 7, 23, 23, 23, 23, 23, 23, 12, 4]</td>\n      <td>[Monday, Monday, Monday, Monday, Monday, Monda...</td>\n      <td>[True, False, False, False, False, False, Fals...</td>\n      <td>[2024-01-01, 2024-01-01, 2024-01-01, 2024-01-0...</td>\n    </tr>\n    <tr>\n      <th>4</th>\n      <td>297919</td>\n      <td>[1218, 1218, 1218, 1218, 1218, 1218, 1218, 121...</td>\n      <td>[1, 2, 2, 2, 2, 2, 2, 2, 2, 2, 2]</td>\n      <td>[122267, 119426, 118790, 119069, 118805, 11885...</td>\n      <td>[2024-01-01 19:46:51.16173+00, 2024-01-01 19:4...</td>\n      <td>[2024-01-01 23:05:52.039818+00, 2024-01-02 01:...</td>\n      <td>[2024-01-01 19:00:00+00, 2024-01-01 21:00:00+0...</td>\n      <td>[2024-01-02 01:00:00+00, 2024-01-02 04:00:00+0...</td>\n      <td>[55.6465393, 55.62296, 55.562168, 55.6381577, ...</td>\n      <td>[12.1522978, 12.615835, 12.576841, 12.6515491,...</td>\n      <td>[2024-01-01 23:05:58.283704+00, 2024-01-02 01:...</td>\n      <td>[3165, 3301, 537, 1830, 4879, 3305, 3305, 1642...</td>\n      <td>[1169, 965, 818, 1070, 1658, 1168, 1166, 888, ...</td>\n      <td>[Monday, Monday, Monday, Monday, Monday, Monda...</td>\n      <td>[True, False, False, False, False, False, Fals...</td>\n      <td>[2024-01-01, 2024-01-01, 2024-01-01, 2024-01-0...</td>\n    </tr>\n    <tr>\n      <th>...</th>\n      <td>...</td>\n      <td>...</td>\n      <td>...</td>\n      <td>...</td>\n      <td>...</td>\n      <td>...</td>\n      <td>...</td>\n      <td>...</td>\n      <td>...</td>\n      <td>...</td>\n      <td>...</td>\n      <td>...</td>\n      <td>...</td>\n      <td>...</td>\n      <td>...</td>\n      <td>...</td>\n    </tr>\n    <tr>\n      <th>27441</th>\n      <td>442393</td>\n      <td>[877, 877, 877, 877, 877, 877, 877]</td>\n      <td>[1, 2, 2, 2, 2, 2, 2]</td>\n      <td>[23977, 58941, 38726, 176478, 153920, 186237, ...</td>\n      <td>[2024-08-06 19:39:12.755331+00, 2024-08-06 19:...</td>\n      <td>[2024-08-07 13:31:50.711864+00, 2024-08-07 13:...</td>\n      <td>[2024-08-07 01:00:00+00, 2024-08-07 05:00:00+0...</td>\n      <td>[2024-08-07 14:00:00+00, 2024-08-07 11:00:00+0...</td>\n      <td>[60.007627, 59.923836, 59.93422, 59.811373, 59...</td>\n      <td>[11.047135, 10.814451, 10.800594, 10.80755, 10...</td>\n      <td>[2024-08-07 13:31:50.711869+00, 2024-08-07 13:...</td>\n      <td>[30, 3949, 4848, 4971, 2429, 45, 2313]</td>\n      <td>[10076, 8785, 9172, 7204, 6955, 5902, 7045]</td>\n      <td>[Tuesday, Tuesday, Tuesday, Tuesday, Tuesday, ...</td>\n      <td>[True, False, False, False, False, False, False]</td>\n      <td>[2024-08-06, 2024-08-06, 2024-08-06, 2024-08-0...</td>\n    </tr>\n    <tr>\n      <th>27442</th>\n      <td>443087</td>\n      <td>[1562, 1562, 1562, 1562, 1562, 1562, 1562, 156...</td>\n      <td>[1, 2, 2, 2, 2, 1, 2, 2, 1, 2, 2, 1, 2, 2, 2, ...</td>\n      <td>[163647, 173249, 179617, 180628, 160877, 16186...</td>\n      <td>[2024-08-07 01:23:02.437621+00, 2024-08-07 01:...</td>\n      <td>[2024-08-07 01:24:05.33254+00, 2024-08-07 03:3...</td>\n      <td>[2024-08-07 00:00:00+00, 2024-08-07 02:00:00+0...</td>\n      <td>[2024-08-07 16:00:00+00, 2024-08-07 04:00:00+0...</td>\n      <td>[56.0667627, 56.13472729999999, 56.1352239, 56...</td>\n      <td>[9.986944, 8.9884048, 8.9838423, 8.9810943, 8....</td>\n      <td>[2024-08-07 01:24:05.33256+00, 2024-08-07 03:3...</td>\n      <td>[39, 1071, 3823, 4365, 4365, 39, 3823, 3823, 4...</td>\n      <td>[3162, 3403, 3408, 3440, 3437, 3162, 3408, 338...</td>\n      <td>[Wednesday, Wednesday, Wednesday, Wednesday, W...</td>\n      <td>[True, True, False, False, False, False, False...</td>\n      <td>[2024-08-07, 2024-08-07, 2024-08-07, 2024-08-0...</td>\n    </tr>\n    <tr>\n      <th>27443</th>\n      <td>443092</td>\n      <td>[1417, 1417, 1417, 1417]</td>\n      <td>[1, 2, 1, 2]</td>\n      <td>[46452, 46955, 46452, 154273]</td>\n      <td>[2024-08-07 05:59:26.311221+00, 2024-08-07 05:...</td>\n      <td>[2024-08-07 06:38:14.810272+00, 2024-08-07 07:...</td>\n      <td>[2024-08-07 02:00:00+00, 2024-08-07 05:00:00+0...</td>\n      <td>[2024-08-07 20:00:00+00, 2024-08-07 07:00:00+0...</td>\n      <td>[59.805664, 59.795058, 59.805664, 59.948098894...</td>\n      <td>[10.290383, 10.279009, 10.290383, 10.771520299...</td>\n      <td>[2024-08-07 07:10:49.406797+00, 2024-08-07 07:...</td>\n      <td>[33, 2032, 33, 2852]</td>\n      <td>[7166, 7127, 7166, 9527]</td>\n      <td>[Wednesday, Wednesday, Wednesday, Wednesday]</td>\n      <td>[True, False, True, False]</td>\n      <td>[2024-08-07, 2024-08-07, 2024-08-07, 2024-08-07]</td>\n    </tr>\n    <tr>\n      <th>27444</th>\n      <td>443098</td>\n      <td>[874, 874]</td>\n      <td>[1, 2]</td>\n      <td>[23977, 135840]</td>\n      <td>[2024-08-07 05:42:45.306612+00, 2024-08-07 05:...</td>\n      <td>[2024-08-07 13:31:52.652071+00, 2024-08-07 13:...</td>\n      <td>[2024-08-07 01:00:00+00, 2024-08-07 05:00:00+00]</td>\n      <td>[2024-08-07 14:00:00+00, 2024-08-07 11:00:00+00]</td>\n      <td>[60.007627, 59.905421]</td>\n      <td>[11.047135, 10.618603]</td>\n      <td>[2024-08-07 13:31:52.652071+00, 2024-08-07 13:...</td>\n      <td>[30, 3836]</td>\n      <td>[10076, 7846]</td>\n      <td>[Wednesday, Wednesday]</td>\n      <td>[True, False]</td>\n      <td>[2024-08-07, 2024-08-07]</td>\n    </tr>\n    <tr>\n      <th>27445</th>\n      <td>443107</td>\n      <td>[723, 723, 723, 723, 723, 723, 723, 723, 723, ...</td>\n      <td>[1, 2, 2, 2, 2, 2, 2, 2, 2, 2, 1, 2]</td>\n      <td>[46452, 45160, 156665, 44587, 45161, 44634, 50...</td>\n      <td>[2024-08-07 08:27:45.361844+00, 2024-08-07 08:...</td>\n      <td>[2024-08-07 09:00:31.581115+00, 2024-08-07 10:...</td>\n      <td>[2024-08-07 02:00:00+00, 2024-08-07 06:00:00+0...</td>\n      <td>[2024-08-07 20:00:00+00, 2024-08-07 10:00:00+0...</td>\n      <td>[59.805664, 59.420838, 59.415188, 59.414098, 5...</td>\n      <td>[10.290383, 10.488199, 10.496616, 10.487423, 1...</td>\n      <td>[2024-08-07 09:00:39.885506+00, 2024-08-07 10:...</td>\n      <td>[33, 3225, 4361, 4473, 1308, 2346, 37, 3408, 4...</td>\n      <td>[7166, 5428, 5394, 5385, 5347, 4633, 4350, 431...</td>\n      <td>[Wednesday, Wednesday, Wednesday, Wednesday, W...</td>\n      <td>[True, False, False, False, False, False, Fals...</td>\n      <td>[2024-08-07, 2024-08-07, 2024-08-07, 2024-08-0...</td>\n    </tr>\n  </tbody>\n</table>\n<p>27446 rows × 16 columns</p>\n</div>"
     },
     "execution_count": 2,
     "metadata": {},
     "output_type": "execute_result"
    }
   ],
   "source": [
    "data_stops = pd.read_csv('data/uni_molde_v3.csv', sep=';')\n",
    "\n",
    "data_stops\n",
    "data_stops.loc[data_stops['stop_completed_at'].isna(), 'stop_completed_at'] = \"-1\"\n",
    "data_stops.loc[data_stops['stop_arrived_at'].isna(), 'stop_arrived_at'] = \"-1\"\n",
    "\n",
    "print(data_stops.isnull().sum())\n",
    "\n",
    "\n",
    "sorted_data_stops = data_stops.sort_values(by='stop_dispatched_at', ascending=True)\n",
    "sorted_data_stops = sorted_data_stops.reset_index(drop=True)\n",
    "sorted_data_stops['day_of_week'] = pd.to_datetime(sorted_data_stops['stop_dispatched_at']).dt.day_name()\n",
    "sorted_data_stops['date'] = pd.to_datetime(sorted_data_stops['stop_dispatched_at']).dt.date\n",
    "\n",
    "#clustering\n",
    "locations_df = sorted_data_stops[['current_lat', 'current_lng']]\n",
    "kmeans = KMeans(n_clusters=5000, random_state=42)\n",
    "kmeans.fit(locations_df)\n",
    "sorted_data_stops['cluster'] = kmeans.labels_ + 1\n",
    "\n",
    "sorted_data_stops['location_id_craft'] = sorted_data_stops.groupby(['current_lat', 'current_lng']).ngroup()+1\n",
    "with open('output.txt', 'w') as f:\n",
    "    print(sorted_data_stops.to_string(), file=f)\n",
    "print('number of groups', sorted_data_stops['location_id_craft'].nunique())\n",
    "\n",
    "# data_stops_day= sorted_data_stops[sorted_data_stops['day_of_week'] == \"Wednesday\"]\n",
    "grouped_df = sorted_data_stops.groupby('driver_workday_id')[['driver_id', 'location_type_id', 'address_id', 'stop_dispatched_at', 'stop_arrived_at', 'stop_earliest', 'stop_latest', 'current_lat', 'current_lng', 'stop_completed_at', 'cluster', 'location_id_craft','day_of_week', 'date', 'location_is_depot']].apply(lambda x: pd.Series({\n",
    "    'driver_id': x['driver_id'].tolist(),\n",
    "    'location_type_id': x['location_type_id'].tolist(),\n",
    "    'planned_route_location': x['address_id'].tolist(),\n",
    "    'stop_dispatched_at': x['stop_dispatched_at'].tolist(),\n",
    "    'stop_arrived_at': x['stop_arrived_at'].tolist(),\n",
    "    'stop_earliest': x['stop_earliest'].tolist(),\n",
    "    'stop_latest': x['stop_latest'].tolist(),\n",
    "    'current_lat': x['current_lat'].tolist(),\n",
    "    'current_lng': x['current_lng'].tolist(),\n",
    "    'stop_completed_at': x['stop_completed_at'].tolist(),\n",
    "    'planned_route_cluster': x['cluster'].tolist(),\n",
    "    'planned_route_craft': x['location_id_craft'].tolist(),\n",
    "    'day_of_week': x['day_of_week'].tolist(),\n",
    "    'location_is_depot': x['location_is_depot'].tolist(),\n",
    "    'date': x['date'].tolist()\n",
    "})).reset_index()\n",
    "grouped_df\n",
    "# grouped_df"
   ],
   "metadata": {
    "collapsed": false,
    "pycharm": {
     "name": "#%%\n"
    }
   }
  },
  {
   "cell_type": "code",
   "execution_count": 3,
   "outputs": [
    {
     "data": {
      "text/plain": "               stop_completed_at                stop_arrived_at  \\\n0  2024-01-02 11:10:52.185782+00  2024-01-02 11:10:51.209288+00   \n1  2024-01-02 11:10:52.185783+00  2024-01-02 11:10:51.209289+00   \n2  2024-01-02 11:10:52.178147+00   2024-01-02 11:10:51.03874+00   \n3  2024-01-02 11:10:52.178148+00  2024-01-02 11:10:51.038741+00   \n4  2024-01-02 08:39:35.128145+00  2024-01-02 07:45:25.310456+00   \n\n              stop_latest           stop_earliest  \\\n0  2024-01-02 22:59:00+00  2024-01-02 05:00:00+00   \n1  2024-01-02 22:59:00+00  2024-01-02 05:00:00+00   \n2  2024-01-02 21:00:00+00  2024-01-02 05:00:00+00   \n3  2024-01-02 21:00:00+00  2024-01-02 05:00:00+00   \n4  2024-01-02 21:00:00+00  2024-01-02 05:00:00+00   \n\n              stop_dispatched_at  location_id  location_type_id  \\\n0  2023-12-20 09:20:12.139397+00       104448                 1   \n1  2023-12-20 09:20:12.144071+00        86931                 2   \n2  2023-12-20 09:21:01.657773+00        86931                 1   \n3  2023-12-20 09:21:01.661233+00       148025                 2   \n4  2023-12-20 09:22:29.569837+00        86931                 1   \n\n   driver_workday_id  address_id  location_is_depot  ...  current_lat  \\\n0             299448       80079              False  ...    56.455617   \n1             299448       81843              False  ...    59.473000   \n2             299447       81843              False  ...    59.473000   \n3             299447      134404              False  ...    58.783764   \n4             299444       81843              False  ...    59.473000   \n\n   current_lng  prev_planned_lat  prev_planned_lng  prev_actual_lat  \\\n0    10.051820               NaN               NaN              NaN   \n1    10.318318         56.455617         10.051820        56.455617   \n2    10.318318               NaN               NaN              NaN   \n3     5.734901         59.473000         10.318318        59.473000   \n4    10.318318               NaN               NaN              NaN   \n\n   prev_actual_lng  day_of_week        date cluster  location_id_craft  \n0              NaN    Wednesday  2023-12-20    1499               4134  \n1        10.051820    Wednesday  2023-12-20     684               5561  \n2              NaN    Wednesday  2023-12-20     684               5561  \n3        10.318318    Wednesday  2023-12-20      55               4265  \n4              NaN    Wednesday  2023-12-20     684               5561  \n\n[5 rows x 21 columns]",
      "text/html": "<div>\n<style scoped>\n    .dataframe tbody tr th:only-of-type {\n        vertical-align: middle;\n    }\n\n    .dataframe tbody tr th {\n        vertical-align: top;\n    }\n\n    .dataframe thead th {\n        text-align: right;\n    }\n</style>\n<table border=\"1\" class=\"dataframe\">\n  <thead>\n    <tr style=\"text-align: right;\">\n      <th></th>\n      <th>stop_completed_at</th>\n      <th>stop_arrived_at</th>\n      <th>stop_latest</th>\n      <th>stop_earliest</th>\n      <th>stop_dispatched_at</th>\n      <th>location_id</th>\n      <th>location_type_id</th>\n      <th>driver_workday_id</th>\n      <th>address_id</th>\n      <th>location_is_depot</th>\n      <th>...</th>\n      <th>current_lat</th>\n      <th>current_lng</th>\n      <th>prev_planned_lat</th>\n      <th>prev_planned_lng</th>\n      <th>prev_actual_lat</th>\n      <th>prev_actual_lng</th>\n      <th>day_of_week</th>\n      <th>date</th>\n      <th>cluster</th>\n      <th>location_id_craft</th>\n    </tr>\n  </thead>\n  <tbody>\n    <tr>\n      <th>0</th>\n      <td>2024-01-02 11:10:52.185782+00</td>\n      <td>2024-01-02 11:10:51.209288+00</td>\n      <td>2024-01-02 22:59:00+00</td>\n      <td>2024-01-02 05:00:00+00</td>\n      <td>2023-12-20 09:20:12.139397+00</td>\n      <td>104448</td>\n      <td>1</td>\n      <td>299448</td>\n      <td>80079</td>\n      <td>False</td>\n      <td>...</td>\n      <td>56.455617</td>\n      <td>10.051820</td>\n      <td>NaN</td>\n      <td>NaN</td>\n      <td>NaN</td>\n      <td>NaN</td>\n      <td>Wednesday</td>\n      <td>2023-12-20</td>\n      <td>1499</td>\n      <td>4134</td>\n    </tr>\n    <tr>\n      <th>1</th>\n      <td>2024-01-02 11:10:52.185783+00</td>\n      <td>2024-01-02 11:10:51.209289+00</td>\n      <td>2024-01-02 22:59:00+00</td>\n      <td>2024-01-02 05:00:00+00</td>\n      <td>2023-12-20 09:20:12.144071+00</td>\n      <td>86931</td>\n      <td>2</td>\n      <td>299448</td>\n      <td>81843</td>\n      <td>False</td>\n      <td>...</td>\n      <td>59.473000</td>\n      <td>10.318318</td>\n      <td>56.455617</td>\n      <td>10.051820</td>\n      <td>56.455617</td>\n      <td>10.051820</td>\n      <td>Wednesday</td>\n      <td>2023-12-20</td>\n      <td>684</td>\n      <td>5561</td>\n    </tr>\n    <tr>\n      <th>2</th>\n      <td>2024-01-02 11:10:52.178147+00</td>\n      <td>2024-01-02 11:10:51.03874+00</td>\n      <td>2024-01-02 21:00:00+00</td>\n      <td>2024-01-02 05:00:00+00</td>\n      <td>2023-12-20 09:21:01.657773+00</td>\n      <td>86931</td>\n      <td>1</td>\n      <td>299447</td>\n      <td>81843</td>\n      <td>False</td>\n      <td>...</td>\n      <td>59.473000</td>\n      <td>10.318318</td>\n      <td>NaN</td>\n      <td>NaN</td>\n      <td>NaN</td>\n      <td>NaN</td>\n      <td>Wednesday</td>\n      <td>2023-12-20</td>\n      <td>684</td>\n      <td>5561</td>\n    </tr>\n    <tr>\n      <th>3</th>\n      <td>2024-01-02 11:10:52.178148+00</td>\n      <td>2024-01-02 11:10:51.038741+00</td>\n      <td>2024-01-02 21:00:00+00</td>\n      <td>2024-01-02 05:00:00+00</td>\n      <td>2023-12-20 09:21:01.661233+00</td>\n      <td>148025</td>\n      <td>2</td>\n      <td>299447</td>\n      <td>134404</td>\n      <td>False</td>\n      <td>...</td>\n      <td>58.783764</td>\n      <td>5.734901</td>\n      <td>59.473000</td>\n      <td>10.318318</td>\n      <td>59.473000</td>\n      <td>10.318318</td>\n      <td>Wednesday</td>\n      <td>2023-12-20</td>\n      <td>55</td>\n      <td>4265</td>\n    </tr>\n    <tr>\n      <th>4</th>\n      <td>2024-01-02 08:39:35.128145+00</td>\n      <td>2024-01-02 07:45:25.310456+00</td>\n      <td>2024-01-02 21:00:00+00</td>\n      <td>2024-01-02 05:00:00+00</td>\n      <td>2023-12-20 09:22:29.569837+00</td>\n      <td>86931</td>\n      <td>1</td>\n      <td>299444</td>\n      <td>81843</td>\n      <td>False</td>\n      <td>...</td>\n      <td>59.473000</td>\n      <td>10.318318</td>\n      <td>NaN</td>\n      <td>NaN</td>\n      <td>NaN</td>\n      <td>NaN</td>\n      <td>Wednesday</td>\n      <td>2023-12-20</td>\n      <td>684</td>\n      <td>5561</td>\n    </tr>\n  </tbody>\n</table>\n<p>5 rows × 21 columns</p>\n</div>"
     },
     "execution_count": 3,
     "metadata": {},
     "output_type": "execute_result"
    }
   ],
   "source": [
    "sorted_data_stops.head()"
   ],
   "metadata": {
    "collapsed": false,
    "pycharm": {
     "name": "#%%\n"
    }
   }
  },
  {
   "cell_type": "code",
   "execution_count": 4,
   "outputs": [],
   "source": [
    "from geopy.distance import geodesic\n",
    "import pandas as pd\n",
    "\n",
    "# Function to calculate distance between two coordinates\n",
    "def calculate_distance(row):\n",
    "    distances = []\n",
    "    for i in range(len(row['planned_route_craft'])-1):\n",
    "        coords_1 = (sorted_data_stops.loc[sorted_data_stops['location_id_craft'] == row['planned_route_craft'][i], ['current_lat']].values[0][0],\n",
    "                     sorted_data_stops.loc[sorted_data_stops['location_id_craft'] == row['planned_route_craft'][i], ['current_lng']].values[0][0])\n",
    "        coords_2 = (sorted_data_stops.loc[sorted_data_stops['location_id_craft'] == row['planned_route_craft'][i+1], ['current_lat']].values[0][0],\n",
    "                     sorted_data_stops.loc[sorted_data_stops['location_id_craft'] == row['planned_route_craft'][i+1], ['current_lng']].values[0][0])\n",
    "        distances.append(geodesic(coords_1, coords_2).miles)\n",
    "    return distances\n",
    "\n",
    "def calculate_distance_actual(row):\n",
    "    distances = []\n",
    "    for i in range(len(row['actual_route_location'])-1):\n",
    "        coords_1 = (sorted_data_stops.loc[sorted_data_stops['location_id_craft'] == row['actual_route_location'][i], ['current_lat']].values[0][0],\n",
    "                     sorted_data_stops.loc[sorted_data_stops['location_id_craft'] == row['actual_route_location'][i], ['current_lng']].values[0][0])\n",
    "        coords_2 = (sorted_data_stops.loc[sorted_data_stops['location_id_craft'] == row['actual_route_location'][i+1], ['current_lat']].values[0][0],\n",
    "                     sorted_data_stops.loc[sorted_data_stops['location_id_craft'] == row['actual_route_location'][i+1], ['current_lng']].values[0][0])\n",
    "        distances.append(geodesic(coords_1, coords_2).miles)\n",
    "    return distances\n",
    "\n",
    "# Create a new column 'distance_route' in 'final_routes'\n",
    "grouped_df['distance_route'] = grouped_df.apply(calculate_distance, axis=1)\n",
    "# total_sum_distance = grouped_df['distance_route'].sum()\n",
    "# grouped_df['total_distance'] = total_sum_distance"
   ],
   "metadata": {
    "collapsed": false,
    "pycharm": {
     "name": "#%%\n"
    }
   }
  },
  {
   "cell_type": "code",
   "execution_count": 5,
   "outputs": [
    {
     "data": {
      "text/plain": "       driver_workday_id                                          driver_id  \\\n0                 297900  [1255, 1255, 1255, 1255, 1255, 1255, 1255, 125...   \n1                 297906         [1195, 1195, 1195, 1195, 1195, 1195, 1195]   \n2                 297908  [1176, 1176, 1176, 1176, 1176, 1176, 1176, 117...   \n3                 297911  [1197, 1197, 1197, 1197, 1197, 1197, 1197, 119...   \n4                 297919  [1218, 1218, 1218, 1218, 1218, 1218, 1218, 121...   \n...                  ...                                                ...   \n27441             442393                [877, 877, 877, 877, 877, 877, 877]   \n27442             443087  [1562, 1562, 1562, 1562, 1562, 1562, 1562, 156...   \n27443             443092                           [1417, 1417, 1417, 1417]   \n27444             443098                                         [874, 874]   \n27445             443107  [723, 723, 723, 723, 723, 723, 723, 723, 723, ...   \n\n                                        location_type_id  \\\n0                         [1, 2, 2, 2, 2, 2, 2, 2, 2, 2]   \n1                                  [1, 2, 2, 2, 2, 2, 2]   \n2      [1, 2, 2, 2, 2, 2, 2, 2, 2, 2, 2, 2, 2, 2, 2, ...   \n3                         [1, 2, 2, 2, 2, 2, 2, 2, 2, 2]   \n4                      [1, 2, 2, 2, 2, 2, 2, 2, 2, 2, 2]   \n...                                                  ...   \n27441                              [1, 2, 2, 2, 2, 2, 2]   \n27442  [1, 2, 2, 2, 2, 1, 2, 2, 1, 2, 2, 1, 2, 2, 2, ...   \n27443                                       [1, 2, 1, 2]   \n27444                                             [1, 2]   \n27445               [1, 2, 2, 2, 2, 2, 2, 2, 2, 2, 1, 2]   \n\n                                  planned_route_location  \\\n0      [122267, 118973, 118854, 118820, 118623, 11909...   \n1      [122267, 120295, 120297, 118930, 120298, 13328...   \n2      [122267, 120515, 119217, 119215, 119170, 13445...   \n3      [122267, 145327, 133259, 133259, 133259, 13325...   \n4      [122267, 119426, 118790, 119069, 118805, 11885...   \n...                                                  ...   \n27441  [23977, 58941, 38726, 176478, 153920, 186237, ...   \n27442  [163647, 173249, 179617, 180628, 160877, 16186...   \n27443                      [46452, 46955, 46452, 154273]   \n27444                                    [23977, 135840]   \n27445  [46452, 45160, 156665, 44587, 45161, 44634, 50...   \n\n                                      stop_dispatched_at  \\\n0      [2024-01-01 19:41:35.136881+00, 2024-01-01 19:...   \n1      [2024-01-01 19:42:05.147145+00, 2024-01-01 19:...   \n2      [2024-01-01 21:25:47.230131+00, 2024-01-01 21:...   \n3      [2024-01-01 19:42:59.704147+00, 2024-01-01 19:...   \n4      [2024-01-01 19:46:51.16173+00, 2024-01-01 19:4...   \n...                                                  ...   \n27441  [2024-08-06 19:39:12.755331+00, 2024-08-06 19:...   \n27442  [2024-08-07 01:23:02.437621+00, 2024-08-07 01:...   \n27443  [2024-08-07 05:59:26.311221+00, 2024-08-07 05:...   \n27444  [2024-08-07 05:42:45.306612+00, 2024-08-07 05:...   \n27445  [2024-08-07 08:27:45.361844+00, 2024-08-07 08:...   \n\n                                         stop_arrived_at  \\\n0      [2024-01-01 22:14:16.454324+00, 2024-01-01 23:...   \n1      [2024-01-01 20:50:17.003744+00, 2024-01-02 02:...   \n2      [2024-01-01 23:06:27.627368+00, 2024-01-02 01:...   \n3      [2024-01-02 00:09:15.241119+00, 2024-01-02 04:...   \n4      [2024-01-01 23:05:52.039818+00, 2024-01-02 01:...   \n...                                                  ...   \n27441  [2024-08-07 13:31:50.711864+00, 2024-08-07 13:...   \n27442  [2024-08-07 01:24:05.33254+00, 2024-08-07 03:3...   \n27443  [2024-08-07 06:38:14.810272+00, 2024-08-07 07:...   \n27444  [2024-08-07 13:31:52.652071+00, 2024-08-07 13:...   \n27445  [2024-08-07 09:00:31.581115+00, 2024-08-07 10:...   \n\n                                           stop_earliest  \\\n0      [2024-01-01 19:00:00+00, 2024-01-01 23:00:00+0...   \n1      [2024-01-01 19:00:00+00, 2024-01-01 21:00:00+0...   \n2      [2024-01-01 19:00:00+00, 2024-01-01 21:00:00+0...   \n3      [2024-01-02 00:00:00+00, 2024-01-02 04:30:00+0...   \n4      [2024-01-01 19:00:00+00, 2024-01-01 21:00:00+0...   \n...                                                  ...   \n27441  [2024-08-07 01:00:00+00, 2024-08-07 05:00:00+0...   \n27442  [2024-08-07 00:00:00+00, 2024-08-07 02:00:00+0...   \n27443  [2024-08-07 02:00:00+00, 2024-08-07 05:00:00+0...   \n27444   [2024-08-07 01:00:00+00, 2024-08-07 05:00:00+00]   \n27445  [2024-08-07 02:00:00+00, 2024-08-07 06:00:00+0...   \n\n                                             stop_latest  \\\n0      [2024-01-02 01:00:00+00, 2024-01-02 03:00:00+0...   \n1      [2024-01-02 01:00:00+00, 2024-01-02 04:00:00+0...   \n2      [2024-01-02 01:00:00+00, 2024-01-02 04:00:00+0...   \n3      [2024-01-02 22:00:00+00, 2024-01-02 08:00:00+0...   \n4      [2024-01-02 01:00:00+00, 2024-01-02 04:00:00+0...   \n...                                                  ...   \n27441  [2024-08-07 14:00:00+00, 2024-08-07 11:00:00+0...   \n27442  [2024-08-07 16:00:00+00, 2024-08-07 04:00:00+0...   \n27443  [2024-08-07 20:00:00+00, 2024-08-07 07:00:00+0...   \n27444   [2024-08-07 14:00:00+00, 2024-08-07 11:00:00+00]   \n27445  [2024-08-07 20:00:00+00, 2024-08-07 10:00:00+0...   \n\n                                             current_lat  \\\n0      [55.6465393, 55.6669147, 55.676665, 55.6757322...   \n1      [55.6465393, 55.662018, 55.662429, 55.6727433,...   \n2      [55.6465393, 55.619592, 55.636304, 55.631888, ...   \n3      [55.6465393, 54.65117396302384, 54.666191, 54....   \n4      [55.6465393, 55.62296, 55.562168, 55.6381577, ...   \n...                                                  ...   \n27441  [60.007627, 59.923836, 59.93422, 59.811373, 59...   \n27442  [56.0667627, 56.13472729999999, 56.1352239, 56...   \n27443  [59.805664, 59.795058, 59.805664, 59.948098894...   \n27444                             [60.007627, 59.905421]   \n27445  [59.805664, 59.420838, 59.415188, 59.414098, 5...   \n\n                                             current_lng  \\\n0      [12.1522978, 12.5262801, 12.566428, 12.5619711...   \n1      [12.1522978, 12.360745, 12.363469, 12.3935111,...   \n2      [12.1522978, 12.028735, 12.044857, 12.055067, ...   \n3      [12.1522978, 11.375901220879824, 11.333044, 11...   \n4      [12.1522978, 12.615835, 12.576841, 12.6515491,...   \n...                                                  ...   \n27441  [11.047135, 10.814451, 10.800594, 10.80755, 10...   \n27442  [9.986944, 8.9884048, 8.9838423, 8.9810943, 8....   \n27443  [10.290383, 10.279009, 10.290383, 10.771520299...   \n27444                             [11.047135, 10.618603]   \n27445  [10.290383, 10.488199, 10.496616, 10.487423, 1...   \n\n                                       stop_completed_at  \\\n0      [2024-01-01 22:14:54.872731+00, 2024-01-01 23:...   \n1      [2024-01-01 20:50:29.721122+00, 2024-01-02 02:...   \n2      [2024-01-01 23:06:36.064172+00, 2024-01-02 01:...   \n3      [2024-01-02 00:09:21.131516+00, 2024-01-02 04:...   \n4      [2024-01-01 23:05:58.283704+00, 2024-01-02 01:...   \n...                                                  ...   \n27441  [2024-08-07 13:31:50.711869+00, 2024-08-07 13:...   \n27442  [2024-08-07 01:24:05.33256+00, 2024-08-07 03:3...   \n27443  [2024-08-07 07:10:49.406797+00, 2024-08-07 07:...   \n27444  [2024-08-07 13:31:52.652071+00, 2024-08-07 13:...   \n27445  [2024-08-07 09:00:39.885506+00, 2024-08-07 10:...   \n\n                                   planned_route_cluster  \\\n0      [3165, 1419, 3238, 3429, 720, 1360, 4511, 3703...   \n1              [3165, 122, 3540, 1413, 3487, 2070, 1287]   \n2      [3165, 1073, 1995, 3776, 1059, 1266, 1938, 193...   \n3      [3165, 442, 137, 137, 137, 137, 137, 137, 1809...   \n4      [3165, 3301, 537, 1830, 4879, 3305, 3305, 1642...   \n...                                                  ...   \n27441             [30, 3949, 4848, 4971, 2429, 45, 2313]   \n27442  [39, 1071, 3823, 4365, 4365, 39, 3823, 3823, 4...   \n27443                               [33, 2032, 33, 2852]   \n27444                                         [30, 3836]   \n27445  [33, 3225, 4361, 4473, 1308, 2346, 37, 3408, 4...   \n\n                                     planned_route_craft  \\\n0      [1169, 1405, 1577, 1560, 1479, 1391, 1434, 141...   \n1             [1169, 1352, 1356, 1508, 1350, 1312, 1401]   \n2      [1169, 960, 1049, 1026, 982, 916, 1284, 1281, ...   \n3               [1169, 7, 23, 23, 23, 23, 23, 23, 12, 4]   \n4      [1169, 965, 818, 1070, 1658, 1168, 1166, 888, ...   \n...                                                  ...   \n27441        [10076, 8785, 9172, 7204, 6955, 5902, 7045]   \n27442  [3162, 3403, 3408, 3440, 3437, 3162, 3408, 338...   \n27443                           [7166, 7127, 7166, 9527]   \n27444                                      [10076, 7846]   \n27445  [7166, 5428, 5394, 5385, 5347, 4633, 4350, 431...   \n\n                                             day_of_week  \\\n0      [Monday, Monday, Monday, Monday, Monday, Monda...   \n1      [Monday, Monday, Monday, Monday, Monday, Monda...   \n2      [Monday, Monday, Monday, Monday, Monday, Monda...   \n3      [Monday, Monday, Monday, Monday, Monday, Monda...   \n4      [Monday, Monday, Monday, Monday, Monday, Monda...   \n...                                                  ...   \n27441  [Tuesday, Tuesday, Tuesday, Tuesday, Tuesday, ...   \n27442  [Wednesday, Wednesday, Wednesday, Wednesday, W...   \n27443       [Wednesday, Wednesday, Wednesday, Wednesday]   \n27444                             [Wednesday, Wednesday]   \n27445  [Wednesday, Wednesday, Wednesday, Wednesday, W...   \n\n                                       location_is_depot  \\\n0      [True, False, False, False, False, False, Fals...   \n1       [True, False, False, False, False, False, False]   \n2      [True, False, False, False, False, False, Fals...   \n3      [True, False, False, False, False, False, Fals...   \n4      [True, False, False, False, False, False, Fals...   \n...                                                  ...   \n27441   [True, False, False, False, False, False, False]   \n27442  [True, True, False, False, False, False, False...   \n27443                         [True, False, True, False]   \n27444                                      [True, False]   \n27445  [True, False, False, False, False, False, Fals...   \n\n                                                    date  \\\n0      [2024-01-01, 2024-01-01, 2024-01-01, 2024-01-0...   \n1      [2024-01-01, 2024-01-01, 2024-01-01, 2024-01-0...   \n2      [2024-01-01, 2024-01-01, 2024-01-01, 2024-01-0...   \n3      [2024-01-01, 2024-01-01, 2024-01-01, 2024-01-0...   \n4      [2024-01-01, 2024-01-01, 2024-01-01, 2024-01-0...   \n...                                                  ...   \n27441  [2024-08-06, 2024-08-06, 2024-08-06, 2024-08-0...   \n27442  [2024-08-07, 2024-08-07, 2024-08-07, 2024-08-0...   \n27443   [2024-08-07, 2024-08-07, 2024-08-07, 2024-08-07]   \n27444                           [2024-08-07, 2024-08-07]   \n27445  [2024-08-07, 2024-08-07, 2024-08-07, 2024-08-0...   \n\n                                          distance_route  \\\n0      [14.694940475474436, 1.7084597707961175, 0.185...   \n1      [8.223311758249285, 0.11025550750368773, 1.374...   \n2      [5.182600931419761, 1.3171408361998556, 0.5029...   \n3      [75.41095073521456, 2.0081266994719744, 0.0, 0...   \n4      [18.213184104634966, 4.474441733294021, 6.0165...   \n...                                                  ...   \n27441  [9.94338251969985, 0.8652097234693148, 8.50777...   \n27442  [38.89658559157216, 0.17958419709224266, 0.158...   \n27443  [0.8345487564187866, 0.8345487564187866, 19.43...   \n27444                               [16.474513151113996]   \n27445  [27.52809355932868, 0.4910623122012766, 0.3330...   \n\n       total_distance_planned  \n0                   19.039848  \n1                   12.124804  \n2                   56.772919  \n3                   79.685240  \n4                   54.345069  \n...                       ...  \n27441               46.524795  \n27442              208.812499  \n27443               21.100814  \n27444               16.474513  \n27445              118.311923  \n\n[27446 rows x 18 columns]",
      "text/html": "<div>\n<style scoped>\n    .dataframe tbody tr th:only-of-type {\n        vertical-align: middle;\n    }\n\n    .dataframe tbody tr th {\n        vertical-align: top;\n    }\n\n    .dataframe thead th {\n        text-align: right;\n    }\n</style>\n<table border=\"1\" class=\"dataframe\">\n  <thead>\n    <tr style=\"text-align: right;\">\n      <th></th>\n      <th>driver_workday_id</th>\n      <th>driver_id</th>\n      <th>location_type_id</th>\n      <th>planned_route_location</th>\n      <th>stop_dispatched_at</th>\n      <th>stop_arrived_at</th>\n      <th>stop_earliest</th>\n      <th>stop_latest</th>\n      <th>current_lat</th>\n      <th>current_lng</th>\n      <th>stop_completed_at</th>\n      <th>planned_route_cluster</th>\n      <th>planned_route_craft</th>\n      <th>day_of_week</th>\n      <th>location_is_depot</th>\n      <th>date</th>\n      <th>distance_route</th>\n      <th>total_distance_planned</th>\n    </tr>\n  </thead>\n  <tbody>\n    <tr>\n      <th>0</th>\n      <td>297900</td>\n      <td>[1255, 1255, 1255, 1255, 1255, 1255, 1255, 125...</td>\n      <td>[1, 2, 2, 2, 2, 2, 2, 2, 2, 2]</td>\n      <td>[122267, 118973, 118854, 118820, 118623, 11909...</td>\n      <td>[2024-01-01 19:41:35.136881+00, 2024-01-01 19:...</td>\n      <td>[2024-01-01 22:14:16.454324+00, 2024-01-01 23:...</td>\n      <td>[2024-01-01 19:00:00+00, 2024-01-01 23:00:00+0...</td>\n      <td>[2024-01-02 01:00:00+00, 2024-01-02 03:00:00+0...</td>\n      <td>[55.6465393, 55.6669147, 55.676665, 55.6757322...</td>\n      <td>[12.1522978, 12.5262801, 12.566428, 12.5619711...</td>\n      <td>[2024-01-01 22:14:54.872731+00, 2024-01-01 23:...</td>\n      <td>[3165, 1419, 3238, 3429, 720, 1360, 4511, 3703...</td>\n      <td>[1169, 1405, 1577, 1560, 1479, 1391, 1434, 141...</td>\n      <td>[Monday, Monday, Monday, Monday, Monday, Monda...</td>\n      <td>[True, False, False, False, False, False, Fals...</td>\n      <td>[2024-01-01, 2024-01-01, 2024-01-01, 2024-01-0...</td>\n      <td>[14.694940475474436, 1.7084597707961175, 0.185...</td>\n      <td>19.039848</td>\n    </tr>\n    <tr>\n      <th>1</th>\n      <td>297906</td>\n      <td>[1195, 1195, 1195, 1195, 1195, 1195, 1195]</td>\n      <td>[1, 2, 2, 2, 2, 2, 2]</td>\n      <td>[122267, 120295, 120297, 118930, 120298, 13328...</td>\n      <td>[2024-01-01 19:42:05.147145+00, 2024-01-01 19:...</td>\n      <td>[2024-01-01 20:50:17.003744+00, 2024-01-02 02:...</td>\n      <td>[2024-01-01 19:00:00+00, 2024-01-01 21:00:00+0...</td>\n      <td>[2024-01-02 01:00:00+00, 2024-01-02 04:00:00+0...</td>\n      <td>[55.6465393, 55.662018, 55.662429, 55.6727433,...</td>\n      <td>[12.1522978, 12.360745, 12.363469, 12.3935111,...</td>\n      <td>[2024-01-01 20:50:29.721122+00, 2024-01-02 02:...</td>\n      <td>[3165, 122, 3540, 1413, 3487, 2070, 1287]</td>\n      <td>[1169, 1352, 1356, 1508, 1350, 1312, 1401]</td>\n      <td>[Monday, Monday, Monday, Monday, Monday, Monda...</td>\n      <td>[True, False, False, False, False, False, False]</td>\n      <td>[2024-01-01, 2024-01-01, 2024-01-01, 2024-01-0...</td>\n      <td>[8.223311758249285, 0.11025550750368773, 1.374...</td>\n      <td>12.124804</td>\n    </tr>\n    <tr>\n      <th>2</th>\n      <td>297908</td>\n      <td>[1176, 1176, 1176, 1176, 1176, 1176, 1176, 117...</td>\n      <td>[1, 2, 2, 2, 2, 2, 2, 2, 2, 2, 2, 2, 2, 2, 2, ...</td>\n      <td>[122267, 120515, 119217, 119215, 119170, 13445...</td>\n      <td>[2024-01-01 21:25:47.230131+00, 2024-01-01 21:...</td>\n      <td>[2024-01-01 23:06:27.627368+00, 2024-01-02 01:...</td>\n      <td>[2024-01-01 19:00:00+00, 2024-01-01 21:00:00+0...</td>\n      <td>[2024-01-02 01:00:00+00, 2024-01-02 04:00:00+0...</td>\n      <td>[55.6465393, 55.619592, 55.636304, 55.631888, ...</td>\n      <td>[12.1522978, 12.028735, 12.044857, 12.055067, ...</td>\n      <td>[2024-01-01 23:06:36.064172+00, 2024-01-02 01:...</td>\n      <td>[3165, 1073, 1995, 3776, 1059, 1266, 1938, 193...</td>\n      <td>[1169, 960, 1049, 1026, 982, 916, 1284, 1281, ...</td>\n      <td>[Monday, Monday, Monday, Monday, Monday, Monda...</td>\n      <td>[True, False, False, False, False, False, Fals...</td>\n      <td>[2024-01-01, 2024-01-01, 2024-01-01, 2024-01-0...</td>\n      <td>[5.182600931419761, 1.3171408361998556, 0.5029...</td>\n      <td>56.772919</td>\n    </tr>\n    <tr>\n      <th>3</th>\n      <td>297911</td>\n      <td>[1197, 1197, 1197, 1197, 1197, 1197, 1197, 119...</td>\n      <td>[1, 2, 2, 2, 2, 2, 2, 2, 2, 2]</td>\n      <td>[122267, 145327, 133259, 133259, 133259, 13325...</td>\n      <td>[2024-01-01 19:42:59.704147+00, 2024-01-01 19:...</td>\n      <td>[2024-01-02 00:09:15.241119+00, 2024-01-02 04:...</td>\n      <td>[2024-01-02 00:00:00+00, 2024-01-02 04:30:00+0...</td>\n      <td>[2024-01-02 22:00:00+00, 2024-01-02 08:00:00+0...</td>\n      <td>[55.6465393, 54.65117396302384, 54.666191, 54....</td>\n      <td>[12.1522978, 11.375901220879824, 11.333044, 11...</td>\n      <td>[2024-01-02 00:09:21.131516+00, 2024-01-02 04:...</td>\n      <td>[3165, 442, 137, 137, 137, 137, 137, 137, 1809...</td>\n      <td>[1169, 7, 23, 23, 23, 23, 23, 23, 12, 4]</td>\n      <td>[Monday, Monday, Monday, Monday, Monday, Monda...</td>\n      <td>[True, False, False, False, False, False, Fals...</td>\n      <td>[2024-01-01, 2024-01-01, 2024-01-01, 2024-01-0...</td>\n      <td>[75.41095073521456, 2.0081266994719744, 0.0, 0...</td>\n      <td>79.685240</td>\n    </tr>\n    <tr>\n      <th>4</th>\n      <td>297919</td>\n      <td>[1218, 1218, 1218, 1218, 1218, 1218, 1218, 121...</td>\n      <td>[1, 2, 2, 2, 2, 2, 2, 2, 2, 2, 2]</td>\n      <td>[122267, 119426, 118790, 119069, 118805, 11885...</td>\n      <td>[2024-01-01 19:46:51.16173+00, 2024-01-01 19:4...</td>\n      <td>[2024-01-01 23:05:52.039818+00, 2024-01-02 01:...</td>\n      <td>[2024-01-01 19:00:00+00, 2024-01-01 21:00:00+0...</td>\n      <td>[2024-01-02 01:00:00+00, 2024-01-02 04:00:00+0...</td>\n      <td>[55.6465393, 55.62296, 55.562168, 55.6381577, ...</td>\n      <td>[12.1522978, 12.615835, 12.576841, 12.6515491,...</td>\n      <td>[2024-01-01 23:05:58.283704+00, 2024-01-02 01:...</td>\n      <td>[3165, 3301, 537, 1830, 4879, 3305, 3305, 1642...</td>\n      <td>[1169, 965, 818, 1070, 1658, 1168, 1166, 888, ...</td>\n      <td>[Monday, Monday, Monday, Monday, Monday, Monda...</td>\n      <td>[True, False, False, False, False, False, Fals...</td>\n      <td>[2024-01-01, 2024-01-01, 2024-01-01, 2024-01-0...</td>\n      <td>[18.213184104634966, 4.474441733294021, 6.0165...</td>\n      <td>54.345069</td>\n    </tr>\n    <tr>\n      <th>...</th>\n      <td>...</td>\n      <td>...</td>\n      <td>...</td>\n      <td>...</td>\n      <td>...</td>\n      <td>...</td>\n      <td>...</td>\n      <td>...</td>\n      <td>...</td>\n      <td>...</td>\n      <td>...</td>\n      <td>...</td>\n      <td>...</td>\n      <td>...</td>\n      <td>...</td>\n      <td>...</td>\n      <td>...</td>\n      <td>...</td>\n    </tr>\n    <tr>\n      <th>27441</th>\n      <td>442393</td>\n      <td>[877, 877, 877, 877, 877, 877, 877]</td>\n      <td>[1, 2, 2, 2, 2, 2, 2]</td>\n      <td>[23977, 58941, 38726, 176478, 153920, 186237, ...</td>\n      <td>[2024-08-06 19:39:12.755331+00, 2024-08-06 19:...</td>\n      <td>[2024-08-07 13:31:50.711864+00, 2024-08-07 13:...</td>\n      <td>[2024-08-07 01:00:00+00, 2024-08-07 05:00:00+0...</td>\n      <td>[2024-08-07 14:00:00+00, 2024-08-07 11:00:00+0...</td>\n      <td>[60.007627, 59.923836, 59.93422, 59.811373, 59...</td>\n      <td>[11.047135, 10.814451, 10.800594, 10.80755, 10...</td>\n      <td>[2024-08-07 13:31:50.711869+00, 2024-08-07 13:...</td>\n      <td>[30, 3949, 4848, 4971, 2429, 45, 2313]</td>\n      <td>[10076, 8785, 9172, 7204, 6955, 5902, 7045]</td>\n      <td>[Tuesday, Tuesday, Tuesday, Tuesday, Tuesday, ...</td>\n      <td>[True, False, False, False, False, False, False]</td>\n      <td>[2024-08-06, 2024-08-06, 2024-08-06, 2024-08-0...</td>\n      <td>[9.94338251969985, 0.8652097234693148, 8.50777...</td>\n      <td>46.524795</td>\n    </tr>\n    <tr>\n      <th>27442</th>\n      <td>443087</td>\n      <td>[1562, 1562, 1562, 1562, 1562, 1562, 1562, 156...</td>\n      <td>[1, 2, 2, 2, 2, 1, 2, 2, 1, 2, 2, 1, 2, 2, 2, ...</td>\n      <td>[163647, 173249, 179617, 180628, 160877, 16186...</td>\n      <td>[2024-08-07 01:23:02.437621+00, 2024-08-07 01:...</td>\n      <td>[2024-08-07 01:24:05.33254+00, 2024-08-07 03:3...</td>\n      <td>[2024-08-07 00:00:00+00, 2024-08-07 02:00:00+0...</td>\n      <td>[2024-08-07 16:00:00+00, 2024-08-07 04:00:00+0...</td>\n      <td>[56.0667627, 56.13472729999999, 56.1352239, 56...</td>\n      <td>[9.986944, 8.9884048, 8.9838423, 8.9810943, 8....</td>\n      <td>[2024-08-07 01:24:05.33256+00, 2024-08-07 03:3...</td>\n      <td>[39, 1071, 3823, 4365, 4365, 39, 3823, 3823, 4...</td>\n      <td>[3162, 3403, 3408, 3440, 3437, 3162, 3408, 338...</td>\n      <td>[Wednesday, Wednesday, Wednesday, Wednesday, W...</td>\n      <td>[True, True, False, False, False, False, False...</td>\n      <td>[2024-08-07, 2024-08-07, 2024-08-07, 2024-08-0...</td>\n      <td>[38.89658559157216, 0.17958419709224266, 0.158...</td>\n      <td>208.812499</td>\n    </tr>\n    <tr>\n      <th>27443</th>\n      <td>443092</td>\n      <td>[1417, 1417, 1417, 1417]</td>\n      <td>[1, 2, 1, 2]</td>\n      <td>[46452, 46955, 46452, 154273]</td>\n      <td>[2024-08-07 05:59:26.311221+00, 2024-08-07 05:...</td>\n      <td>[2024-08-07 06:38:14.810272+00, 2024-08-07 07:...</td>\n      <td>[2024-08-07 02:00:00+00, 2024-08-07 05:00:00+0...</td>\n      <td>[2024-08-07 20:00:00+00, 2024-08-07 07:00:00+0...</td>\n      <td>[59.805664, 59.795058, 59.805664, 59.948098894...</td>\n      <td>[10.290383, 10.279009, 10.290383, 10.771520299...</td>\n      <td>[2024-08-07 07:10:49.406797+00, 2024-08-07 07:...</td>\n      <td>[33, 2032, 33, 2852]</td>\n      <td>[7166, 7127, 7166, 9527]</td>\n      <td>[Wednesday, Wednesday, Wednesday, Wednesday]</td>\n      <td>[True, False, True, False]</td>\n      <td>[2024-08-07, 2024-08-07, 2024-08-07, 2024-08-07]</td>\n      <td>[0.8345487564187866, 0.8345487564187866, 19.43...</td>\n      <td>21.100814</td>\n    </tr>\n    <tr>\n      <th>27444</th>\n      <td>443098</td>\n      <td>[874, 874]</td>\n      <td>[1, 2]</td>\n      <td>[23977, 135840]</td>\n      <td>[2024-08-07 05:42:45.306612+00, 2024-08-07 05:...</td>\n      <td>[2024-08-07 13:31:52.652071+00, 2024-08-07 13:...</td>\n      <td>[2024-08-07 01:00:00+00, 2024-08-07 05:00:00+00]</td>\n      <td>[2024-08-07 14:00:00+00, 2024-08-07 11:00:00+00]</td>\n      <td>[60.007627, 59.905421]</td>\n      <td>[11.047135, 10.618603]</td>\n      <td>[2024-08-07 13:31:52.652071+00, 2024-08-07 13:...</td>\n      <td>[30, 3836]</td>\n      <td>[10076, 7846]</td>\n      <td>[Wednesday, Wednesday]</td>\n      <td>[True, False]</td>\n      <td>[2024-08-07, 2024-08-07]</td>\n      <td>[16.474513151113996]</td>\n      <td>16.474513</td>\n    </tr>\n    <tr>\n      <th>27445</th>\n      <td>443107</td>\n      <td>[723, 723, 723, 723, 723, 723, 723, 723, 723, ...</td>\n      <td>[1, 2, 2, 2, 2, 2, 2, 2, 2, 2, 1, 2]</td>\n      <td>[46452, 45160, 156665, 44587, 45161, 44634, 50...</td>\n      <td>[2024-08-07 08:27:45.361844+00, 2024-08-07 08:...</td>\n      <td>[2024-08-07 09:00:31.581115+00, 2024-08-07 10:...</td>\n      <td>[2024-08-07 02:00:00+00, 2024-08-07 06:00:00+0...</td>\n      <td>[2024-08-07 20:00:00+00, 2024-08-07 10:00:00+0...</td>\n      <td>[59.805664, 59.420838, 59.415188, 59.414098, 5...</td>\n      <td>[10.290383, 10.488199, 10.496616, 10.487423, 1...</td>\n      <td>[2024-08-07 09:00:39.885506+00, 2024-08-07 10:...</td>\n      <td>[33, 3225, 4361, 4473, 1308, 2346, 37, 3408, 4...</td>\n      <td>[7166, 5428, 5394, 5385, 5347, 4633, 4350, 431...</td>\n      <td>[Wednesday, Wednesday, Wednesday, Wednesday, W...</td>\n      <td>[True, False, False, False, False, False, Fals...</td>\n      <td>[2024-08-07, 2024-08-07, 2024-08-07, 2024-08-0...</td>\n      <td>[27.52809355932868, 0.4910623122012766, 0.3330...</td>\n      <td>118.311923</td>\n    </tr>\n  </tbody>\n</table>\n<p>27446 rows × 18 columns</p>\n</div>"
     },
     "execution_count": 5,
     "metadata": {},
     "output_type": "execute_result"
    }
   ],
   "source": [
    "grouped_df['total_distance_planned'] = grouped_df['distance_route'].apply(sum)\n",
    "grouped_df\n"
   ],
   "metadata": {
    "collapsed": false,
    "pycharm": {
     "name": "#%%\n"
    }
   }
  },
  {
   "cell_type": "code",
   "execution_count": 6,
   "outputs": [
    {
     "data": {
      "text/plain": "20692"
     },
     "execution_count": 6,
     "metadata": {},
     "output_type": "execute_result"
    }
   ],
   "source": [
    "grouped_df['total_distance_planned'] = grouped_df['distance_route'].apply(sum)\n",
    "routes = grouped_df[grouped_df.apply(lambda row: max(row['stop_dispatched_at']) < min(row['stop_completed_at']), axis=1)]\n",
    "routes = routes.reset_index(drop=True)\n",
    "len(routes)"
   ],
   "metadata": {
    "collapsed": false,
    "pycharm": {
     "name": "#%%\n"
    }
   }
  },
  {
   "cell_type": "code",
   "execution_count": 7,
   "outputs": [
    {
     "name": "stdout",
     "output_type": "stream",
     "text": [
      "The number of routes where one value is NA(arrived time) 23\n",
      "[1187, 1464, 1688, 1746, 2113, 3424, 3880, 4471, 4974, 5098, 5172, 5182, 5540, 5787, 6476, 7626, 10793, 11161, 11621, 13845, 17739, 19786, 20033]\n",
      "20669\n"
     ]
    }
   ],
   "source": [
    "index_routes_with_na = []\n",
    "for i in range(len(routes)):\n",
    "    row = routes.iloc[i]\n",
    "    if \"-1\" in row['stop_arrived_at']:\n",
    "        index_routes_with_na.append(i)\n",
    "print(\"The number of routes where one value is NA(arrived time)\", len(index_routes_with_na))\n",
    "print(index_routes_with_na)\n",
    "routes = routes.drop(index_routes_with_na)\n",
    "routes.reset_index(drop=True)\n",
    "#\n",
    "print(len(routes))"
   ],
   "metadata": {
    "collapsed": false,
    "pycharm": {
     "name": "#%%\n"
    }
   }
  },
  {
   "cell_type": "code",
   "execution_count": 8,
   "outputs": [],
   "source": [
    "#check if it is the same driver in the route\n",
    "def get_mode(x):\n",
    "    return pd.Series(x).mode().iloc[0] if not pd.Series(x).mode().empty else np.nan\n",
    "\n",
    "for i in routes['driver_id']:\n",
    "    if not all(x == i[0] for x in i):\n",
    "            print('Not the same driver in the route')\n",
    "routes['driver_id'] = routes['driver_id'].apply(lambda x : x[0])\n",
    "\n",
    "routes['day_of_week'] = routes['day_of_week'].apply(get_mode)\n",
    "routes['date'] = routes['date'].apply(get_mode)\n",
    "\n",
    "routes['date'] = pd.to_datetime(routes['date'])\n",
    "routes['last_two_weeks_count'] = routes.apply(lambda row:\n",
    "                                      routes[(routes['driver_id'] == row['driver_id']) &\n",
    "                                         (row['date'] - routes['date']).dt.days.between(-14, 0)].shape[0],\n",
    "                                      axis=1)\n",
    "routes = routes[(routes['date'] < '2023-12-21') | (routes['date'] > '2024-01-14')]\n",
    "routes['location_type_id'] = routes['location_type_id'].apply(lambda x: [0 if i == 1 else 1 for i in x])\n",
    "routes['location_is_depot'] = routes['location_is_depot'].apply(lambda x: [int(value) for value in x])\n",
    "\n",
    "routes = routes[routes['planned_route_craft'].apply(lambda x: len(x) > 2)]\n",
    "routes = routes.reset_index(drop=True)"
   ],
   "metadata": {
    "collapsed": false,
    "pycharm": {
     "name": "#%%\n"
    }
   }
  },
  {
   "cell_type": "code",
   "execution_count": 9,
   "outputs": [
    {
     "data": {
      "text/plain": "       driver_workday_id  driver_id  \\\n0                 305735       1255   \n1                 305741       1195   \n2                 305742       1186   \n3                 305754       1218   \n4                 305758       1192   \n...                  ...        ...   \n18557             442390        276   \n18558             442391        968   \n18559             442393        877   \n18560             443092       1417   \n18561             443107        723   \n\n                                    location_type_id  \\\n0                           [0, 1, 1, 1, 1, 1, 1, 1]   \n1                           [0, 1, 1, 1, 1, 1, 1, 1]   \n2                              [0, 1, 1, 1, 1, 1, 1]   \n3                     [0, 1, 1, 1, 1, 1, 1, 1, 1, 1]   \n4                        [0, 1, 1, 1, 1, 1, 1, 1, 1]   \n...                                              ...   \n18557  [0, 1, 1, 1, 1, 1, 1, 1, 1, 1, 1, 1, 1, 1, 1]   \n18558        [0, 1, 1, 1, 1, 1, 1, 0, 1, 1, 1, 1, 1]   \n18559                          [0, 1, 1, 1, 1, 1, 1]   \n18560                                   [0, 1, 0, 1]   \n18561           [0, 1, 1, 1, 1, 1, 1, 1, 1, 1, 0, 1]   \n\n                                  planned_route_location  \\\n0      [153184, 118973, 118820, 119089, 118814, 11909...   \n1      [153184, 120295, 133280, 120297, 118930, 11893...   \n2      [153184, 118945, 119107, 119964, 126319, 12031...   \n3      [153184, 118858, 119855, 118805, 119069, 11879...   \n4      [153184, 118509, 144815, 119179, 118785, 11928...   \n...                                                  ...   \n18557  [23977, 46865, 149896, 24638, 42874, 136813, 3...   \n18558  [46452, 44276, 46120, 46866, 44979, 44976, 468...   \n18559  [23977, 58941, 38726, 176478, 153920, 186237, ...   \n18560                      [46452, 46955, 46452, 154273]   \n18561  [46452, 45160, 156665, 44587, 45161, 44634, 50...   \n\n                                      stop_dispatched_at  \\\n0      [2024-01-15 20:13:10.25734+00, 2024-01-15 20:1...   \n1      [2024-01-15 20:14:10.430711+00, 2024-01-15 20:...   \n2      [2024-01-15 20:15:12.147596+00, 2024-01-15 20:...   \n3      [2024-01-15 20:17:12.871538+00, 2024-01-15 20:...   \n4      [2024-01-15 20:17:36.851051+00, 2024-01-15 20:...   \n...                                                  ...   \n18557  [2024-08-06 19:39:14.014177+00, 2024-08-06 19:...   \n18558  [2024-08-06 19:08:15.862161+00, 2024-08-06 19:...   \n18559  [2024-08-06 19:39:12.755331+00, 2024-08-06 19:...   \n18560  [2024-08-07 05:59:26.311221+00, 2024-08-07 05:...   \n18561  [2024-08-07 08:27:45.361844+00, 2024-08-07 08:...   \n\n                                         stop_arrived_at  \\\n0      [2024-01-15 22:11:49.528537+00, 2024-01-15 23:...   \n1      [2024-01-15 22:58:58.038139+00, 2024-01-15 23:...   \n2      [2024-01-15 22:32:42.615543+00, 2024-01-15 23:...   \n3      [2024-01-15 22:37:07.860851+00, 2024-01-16 00:...   \n4      [2024-01-15 23:06:33.822316+00, 2024-01-16 01:...   \n...                                                  ...   \n18557  [2024-08-07 13:31:52.955936+00, 2024-08-07 13:...   \n18558  [2024-08-07 03:50:55.931321+00, 2024-08-07 05:...   \n18559  [2024-08-07 13:31:50.711864+00, 2024-08-07 13:...   \n18560  [2024-08-07 06:38:14.810272+00, 2024-08-07 07:...   \n18561  [2024-08-07 09:00:31.581115+00, 2024-08-07 10:...   \n\n                                           stop_earliest  \\\n0      [2024-01-15 19:00:00+00, 2024-01-15 23:00:00+0...   \n1      [2024-01-15 19:00:00+00, 2024-01-15 21:00:00+0...   \n2      [2024-01-15 19:00:00+00, 2024-01-15 21:00:00+0...   \n3      [2024-01-15 19:00:00+00, 2024-01-15 21:00:00+0...   \n4      [2024-01-15 19:00:00+00, 2024-01-15 21:00:00+0...   \n...                                                  ...   \n18557  [2024-08-07 01:00:00+00, 2024-08-07 05:00:00+0...   \n18558  [2024-08-07 02:00:00+00, 2024-08-07 05:00:00+0...   \n18559  [2024-08-07 01:00:00+00, 2024-08-07 05:00:00+0...   \n18560  [2024-08-07 02:00:00+00, 2024-08-07 05:00:00+0...   \n18561  [2024-08-07 02:00:00+00, 2024-08-07 06:00:00+0...   \n\n                                             stop_latest  \\\n0      [2024-01-16 01:00:00+00, 2024-01-16 03:00:00+0...   \n1      [2024-01-16 01:00:00+00, 2024-01-16 04:00:00+0...   \n2      [2024-01-16 01:00:00+00, 2024-01-16 04:00:00+0...   \n3      [2024-01-16 01:00:00+00, 2024-01-16 04:00:00+0...   \n4      [2024-01-16 01:00:00+00, 2024-01-16 04:00:00+0...   \n...                                                  ...   \n18557  [2024-08-07 14:00:00+00, 2024-08-07 11:00:00+0...   \n18558  [2024-08-07 20:00:00+00, 2024-08-07 07:00:00+0...   \n18559  [2024-08-07 14:00:00+00, 2024-08-07 11:00:00+0...   \n18560  [2024-08-07 20:00:00+00, 2024-08-07 07:00:00+0...   \n18561  [2024-08-07 20:00:00+00, 2024-08-07 10:00:00+0...   \n\n                                             current_lat  \\\n0      [55.64641920439919, 55.6669147, 55.6757322, 55...   \n1      [55.64641920439919, 55.662018, 55.658103, 55.6...   \n2      [55.64641920439919, 55.7498333, 55.80148, 55.7...   \n3      [55.64641920439919, 55.646535, 55.672309, 55.6...   \n4      [55.64641920439919, 55.640375, 55.639120600000...   \n...                                                  ...   \n18557  [60.007627, 60.01175632293701, 59.950832, 59.9...   \n18558  [59.805664, 59.749221, 59.747942, 59.737167777...   \n18559  [60.007627, 59.923836, 59.93422, 59.811373, 59...   \n18560  [59.805664, 59.795058, 59.805664, 59.948098894...   \n18561  [59.805664, 59.420838, 59.415188, 59.414098, 5...   \n\n                                             current_lng  \\\n0      [12.15372974969827, 12.5262801, 12.5619711, 12...   \n1      [12.15372974969827, 12.360745, 12.368506, 12.3...   \n2      [12.15372974969827, 12.5870785, 12.525814, 12....   \n3      [12.15372974969827, 12.539958, 12.588959, 12.6...   \n4      [12.15372974969827, 12.091312, 12.0627714, 12....   \n...                                                  ...   \n18557  [11.047135, 11.052440556594831, 10.856852, 10....   \n18558  [10.290383, 10.26819, 10.291249, 10.3725904226...   \n18559  [11.047135, 10.814451, 10.800594, 10.80755, 10...   \n18560  [10.290383, 10.279009, 10.290383, 10.771520299...   \n18561  [10.290383, 10.488199, 10.496616, 10.487423, 1...   \n\n                                       stop_completed_at  \\\n0      [2024-01-15 22:14:55.135437+00, 2024-01-15 23:...   \n1      [2024-01-15 22:59:10.867219+00, 2024-01-15 23:...   \n2      [2024-01-15 22:32:54.670991+00, 2024-01-15 23:...   \n3      [2024-01-15 22:37:19.03627+00, 2024-01-16 00:2...   \n4      [2024-01-15 23:06:46.892607+00, 2024-01-16 01:...   \n...                                                  ...   \n18557  [2024-08-07 13:31:52.955952+00, 2024-08-07 13:...   \n18558  [2024-08-07 04:49:12.961702+00, 2024-08-07 05:...   \n18559  [2024-08-07 13:31:50.711869+00, 2024-08-07 13:...   \n18560  [2024-08-07 07:10:49.406797+00, 2024-08-07 07:...   \n18561  [2024-08-07 09:00:39.885506+00, 2024-08-07 10:...   \n\n                                   planned_route_cluster  \\\n0         [147, 1419, 3429, 3703, 1360, 1360, 4511, 335]   \n1         [147, 122, 2070, 3540, 1413, 1413, 3663, 1287]   \n2               [147, 2596, 521, 4623, 3326, 3115, 1050]   \n3      [147, 3305, 3715, 4879, 1830, 537, 3301, 2199,...   \n4      [147, 4979, 3980, 3679, 2681, 2319, 708, 1644,...   \n...                                                  ...   \n18557  [30, 4754, 846, 4226, 3915, 3949, 1293, 4349, ...   \n18558  [33, 2460, 1978, 1234, 2493, 931, 2241, 148, 1...   \n18559             [30, 3949, 4848, 4971, 2429, 45, 2313]   \n18560                               [33, 2032, 33, 2852]   \n18561  [33, 3225, 4361, 4473, 1308, 2346, 37, 3408, 4...   \n\n                                     planned_route_craft day_of_week  \\\n0       [1167, 1405, 1560, 1413, 1391, 1391, 1434, 1269]      Monday   \n1       [1167, 1352, 1312, 1356, 1508, 1508, 1621, 1401]      Monday   \n2             [1167, 2231, 2406, 2349, 2298, 2588, 2493]      Monday   \n3      [1167, 1168, 1495, 1658, 1070, 818, 965, 936, ...      Monday   \n4      [1167, 1101, 1079, 1282, 1123, 1098, 834, 1262...      Monday   \n...                                                  ...         ...   \n18557  [10076, 10099, 9596, 9507, 9158, 8853, 9640, 8...     Tuesday   \n18558  [7166, 6718, 6699, 6495, 6560, 6558, 6756, 653...     Tuesday   \n18559        [10076, 8785, 9172, 7204, 6955, 5902, 7045]     Tuesday   \n18560                           [7166, 7127, 7166, 9527]   Wednesday   \n18561  [7166, 5428, 5394, 5385, 5347, 4633, 4350, 431...   Wednesday   \n\n                                   location_is_depot       date  \\\n0                           [1, 0, 0, 0, 0, 0, 0, 0] 2024-01-15   \n1                           [1, 0, 0, 0, 0, 0, 0, 0] 2024-01-15   \n2                              [1, 0, 0, 0, 0, 0, 0] 2024-01-15   \n3                     [1, 0, 0, 0, 0, 0, 0, 0, 0, 0] 2024-01-15   \n4                        [1, 0, 0, 0, 0, 0, 0, 0, 0] 2024-01-15   \n...                                              ...        ...   \n18557  [1, 0, 0, 0, 0, 0, 0, 0, 0, 0, 0, 0, 0, 0, 0] 2024-08-06   \n18558        [1, 0, 0, 0, 0, 0, 0, 0, 0, 0, 0, 0, 0] 2024-08-06   \n18559                          [1, 0, 0, 0, 0, 0, 0] 2024-08-06   \n18560                                   [1, 0, 1, 0] 2024-08-07   \n18561           [1, 0, 0, 0, 0, 0, 0, 0, 0, 0, 0, 0] 2024-08-07   \n\n                                          distance_route  \\\n0      [14.640018023192697, 1.5229312527257717, 0.606...   \n1      [8.16888775040224, 0.4067943329231743, 0.35828...   \n2      [18.380690356980487, 4.298068156860068, 1.5617...   \n3      [15.110089331615377, 2.617611669361755, 0.8878...   \n4      [2.4776512575967895, 1.1201296974431052, 1.598...   \n...                                                  ...   \n18557  [0.3399120416382811, 7.9893719361707864, 1.229...   \n18558  [3.9833740421767767, 0.8104231018807364, 2.938...   \n18559  [9.94338251969985, 0.8652097234693148, 8.50777...   \n18560  [0.8345487564187866, 0.8345487564187866, 19.43...   \n18561  [27.52809355932868, 0.4910623122012766, 0.3330...   \n\n       total_distance_planned  last_two_weeks_count  \n0                   18.615111                     8  \n1                   12.682013                    11  \n2                   34.403233                     9  \n3                   53.800967                    11  \n4                   18.376147                    11  \n...                       ...                   ...  \n18557               78.874740                     1  \n18558               33.936285                     2  \n18559               46.524795                     1  \n18560               21.100814                     1  \n18561              118.311923                     1  \n\n[18562 rows x 19 columns]",
      "text/html": "<div>\n<style scoped>\n    .dataframe tbody tr th:only-of-type {\n        vertical-align: middle;\n    }\n\n    .dataframe tbody tr th {\n        vertical-align: top;\n    }\n\n    .dataframe thead th {\n        text-align: right;\n    }\n</style>\n<table border=\"1\" class=\"dataframe\">\n  <thead>\n    <tr style=\"text-align: right;\">\n      <th></th>\n      <th>driver_workday_id</th>\n      <th>driver_id</th>\n      <th>location_type_id</th>\n      <th>planned_route_location</th>\n      <th>stop_dispatched_at</th>\n      <th>stop_arrived_at</th>\n      <th>stop_earliest</th>\n      <th>stop_latest</th>\n      <th>current_lat</th>\n      <th>current_lng</th>\n      <th>stop_completed_at</th>\n      <th>planned_route_cluster</th>\n      <th>planned_route_craft</th>\n      <th>day_of_week</th>\n      <th>location_is_depot</th>\n      <th>date</th>\n      <th>distance_route</th>\n      <th>total_distance_planned</th>\n      <th>last_two_weeks_count</th>\n    </tr>\n  </thead>\n  <tbody>\n    <tr>\n      <th>0</th>\n      <td>305735</td>\n      <td>1255</td>\n      <td>[0, 1, 1, 1, 1, 1, 1, 1]</td>\n      <td>[153184, 118973, 118820, 119089, 118814, 11909...</td>\n      <td>[2024-01-15 20:13:10.25734+00, 2024-01-15 20:1...</td>\n      <td>[2024-01-15 22:11:49.528537+00, 2024-01-15 23:...</td>\n      <td>[2024-01-15 19:00:00+00, 2024-01-15 23:00:00+0...</td>\n      <td>[2024-01-16 01:00:00+00, 2024-01-16 03:00:00+0...</td>\n      <td>[55.64641920439919, 55.6669147, 55.6757322, 55...</td>\n      <td>[12.15372974969827, 12.5262801, 12.5619711, 12...</td>\n      <td>[2024-01-15 22:14:55.135437+00, 2024-01-15 23:...</td>\n      <td>[147, 1419, 3429, 3703, 1360, 1360, 4511, 335]</td>\n      <td>[1167, 1405, 1560, 1413, 1391, 1391, 1434, 1269]</td>\n      <td>Monday</td>\n      <td>[1, 0, 0, 0, 0, 0, 0, 0]</td>\n      <td>2024-01-15</td>\n      <td>[14.640018023192697, 1.5229312527257717, 0.606...</td>\n      <td>18.615111</td>\n      <td>8</td>\n    </tr>\n    <tr>\n      <th>1</th>\n      <td>305741</td>\n      <td>1195</td>\n      <td>[0, 1, 1, 1, 1, 1, 1, 1]</td>\n      <td>[153184, 120295, 133280, 120297, 118930, 11893...</td>\n      <td>[2024-01-15 20:14:10.430711+00, 2024-01-15 20:...</td>\n      <td>[2024-01-15 22:58:58.038139+00, 2024-01-15 23:...</td>\n      <td>[2024-01-15 19:00:00+00, 2024-01-15 21:00:00+0...</td>\n      <td>[2024-01-16 01:00:00+00, 2024-01-16 04:00:00+0...</td>\n      <td>[55.64641920439919, 55.662018, 55.658103, 55.6...</td>\n      <td>[12.15372974969827, 12.360745, 12.368506, 12.3...</td>\n      <td>[2024-01-15 22:59:10.867219+00, 2024-01-15 23:...</td>\n      <td>[147, 122, 2070, 3540, 1413, 1413, 3663, 1287]</td>\n      <td>[1167, 1352, 1312, 1356, 1508, 1508, 1621, 1401]</td>\n      <td>Monday</td>\n      <td>[1, 0, 0, 0, 0, 0, 0, 0]</td>\n      <td>2024-01-15</td>\n      <td>[8.16888775040224, 0.4067943329231743, 0.35828...</td>\n      <td>12.682013</td>\n      <td>11</td>\n    </tr>\n    <tr>\n      <th>2</th>\n      <td>305742</td>\n      <td>1186</td>\n      <td>[0, 1, 1, 1, 1, 1, 1]</td>\n      <td>[153184, 118945, 119107, 119964, 126319, 12031...</td>\n      <td>[2024-01-15 20:15:12.147596+00, 2024-01-15 20:...</td>\n      <td>[2024-01-15 22:32:42.615543+00, 2024-01-15 23:...</td>\n      <td>[2024-01-15 19:00:00+00, 2024-01-15 21:00:00+0...</td>\n      <td>[2024-01-16 01:00:00+00, 2024-01-16 04:00:00+0...</td>\n      <td>[55.64641920439919, 55.7498333, 55.80148, 55.7...</td>\n      <td>[12.15372974969827, 12.5870785, 12.525814, 12....</td>\n      <td>[2024-01-15 22:32:54.670991+00, 2024-01-15 23:...</td>\n      <td>[147, 2596, 521, 4623, 3326, 3115, 1050]</td>\n      <td>[1167, 2231, 2406, 2349, 2298, 2588, 2493]</td>\n      <td>Monday</td>\n      <td>[1, 0, 0, 0, 0, 0, 0]</td>\n      <td>2024-01-15</td>\n      <td>[18.380690356980487, 4.298068156860068, 1.5617...</td>\n      <td>34.403233</td>\n      <td>9</td>\n    </tr>\n    <tr>\n      <th>3</th>\n      <td>305754</td>\n      <td>1218</td>\n      <td>[0, 1, 1, 1, 1, 1, 1, 1, 1, 1]</td>\n      <td>[153184, 118858, 119855, 118805, 119069, 11879...</td>\n      <td>[2024-01-15 20:17:12.871538+00, 2024-01-15 20:...</td>\n      <td>[2024-01-15 22:37:07.860851+00, 2024-01-16 00:...</td>\n      <td>[2024-01-15 19:00:00+00, 2024-01-15 21:00:00+0...</td>\n      <td>[2024-01-16 01:00:00+00, 2024-01-16 04:00:00+0...</td>\n      <td>[55.64641920439919, 55.646535, 55.672309, 55.6...</td>\n      <td>[12.15372974969827, 12.539958, 12.588959, 12.6...</td>\n      <td>[2024-01-15 22:37:19.03627+00, 2024-01-16 00:2...</td>\n      <td>[147, 3305, 3715, 4879, 1830, 537, 3301, 2199,...</td>\n      <td>[1167, 1168, 1495, 1658, 1070, 818, 965, 936, ...</td>\n      <td>Monday</td>\n      <td>[1, 0, 0, 0, 0, 0, 0, 0, 0, 0]</td>\n      <td>2024-01-15</td>\n      <td>[15.110089331615377, 2.617611669361755, 0.8878...</td>\n      <td>53.800967</td>\n      <td>11</td>\n    </tr>\n    <tr>\n      <th>4</th>\n      <td>305758</td>\n      <td>1192</td>\n      <td>[0, 1, 1, 1, 1, 1, 1, 1, 1]</td>\n      <td>[153184, 118509, 144815, 119179, 118785, 11928...</td>\n      <td>[2024-01-15 20:17:36.851051+00, 2024-01-15 20:...</td>\n      <td>[2024-01-15 23:06:33.822316+00, 2024-01-16 01:...</td>\n      <td>[2024-01-15 19:00:00+00, 2024-01-15 21:00:00+0...</td>\n      <td>[2024-01-16 01:00:00+00, 2024-01-16 04:00:00+0...</td>\n      <td>[55.64641920439919, 55.640375, 55.639120600000...</td>\n      <td>[12.15372974969827, 12.091312, 12.0627714, 12....</td>\n      <td>[2024-01-15 23:06:46.892607+00, 2024-01-16 01:...</td>\n      <td>[147, 4979, 3980, 3679, 2681, 2319, 708, 1644,...</td>\n      <td>[1167, 1101, 1079, 1282, 1123, 1098, 834, 1262...</td>\n      <td>Monday</td>\n      <td>[1, 0, 0, 0, 0, 0, 0, 0, 0]</td>\n      <td>2024-01-15</td>\n      <td>[2.4776512575967895, 1.1201296974431052, 1.598...</td>\n      <td>18.376147</td>\n      <td>11</td>\n    </tr>\n    <tr>\n      <th>...</th>\n      <td>...</td>\n      <td>...</td>\n      <td>...</td>\n      <td>...</td>\n      <td>...</td>\n      <td>...</td>\n      <td>...</td>\n      <td>...</td>\n      <td>...</td>\n      <td>...</td>\n      <td>...</td>\n      <td>...</td>\n      <td>...</td>\n      <td>...</td>\n      <td>...</td>\n      <td>...</td>\n      <td>...</td>\n      <td>...</td>\n      <td>...</td>\n    </tr>\n    <tr>\n      <th>18557</th>\n      <td>442390</td>\n      <td>276</td>\n      <td>[0, 1, 1, 1, 1, 1, 1, 1, 1, 1, 1, 1, 1, 1, 1]</td>\n      <td>[23977, 46865, 149896, 24638, 42874, 136813, 3...</td>\n      <td>[2024-08-06 19:39:14.014177+00, 2024-08-06 19:...</td>\n      <td>[2024-08-07 13:31:52.955936+00, 2024-08-07 13:...</td>\n      <td>[2024-08-07 01:00:00+00, 2024-08-07 05:00:00+0...</td>\n      <td>[2024-08-07 14:00:00+00, 2024-08-07 11:00:00+0...</td>\n      <td>[60.007627, 60.01175632293701, 59.950832, 59.9...</td>\n      <td>[11.047135, 11.052440556594831, 10.856852, 10....</td>\n      <td>[2024-08-07 13:31:52.955952+00, 2024-08-07 13:...</td>\n      <td>[30, 4754, 846, 4226, 3915, 3949, 1293, 4349, ...</td>\n      <td>[10076, 10099, 9596, 9507, 9158, 8853, 9640, 8...</td>\n      <td>Tuesday</td>\n      <td>[1, 0, 0, 0, 0, 0, 0, 0, 0, 0, 0, 0, 0, 0, 0]</td>\n      <td>2024-08-06</td>\n      <td>[0.3399120416382811, 7.9893719361707864, 1.229...</td>\n      <td>78.874740</td>\n      <td>1</td>\n    </tr>\n    <tr>\n      <th>18558</th>\n      <td>442391</td>\n      <td>968</td>\n      <td>[0, 1, 1, 1, 1, 1, 1, 0, 1, 1, 1, 1, 1]</td>\n      <td>[46452, 44276, 46120, 46866, 44979, 44976, 468...</td>\n      <td>[2024-08-06 19:08:15.862161+00, 2024-08-06 19:...</td>\n      <td>[2024-08-07 03:50:55.931321+00, 2024-08-07 05:...</td>\n      <td>[2024-08-07 02:00:00+00, 2024-08-07 05:00:00+0...</td>\n      <td>[2024-08-07 20:00:00+00, 2024-08-07 07:00:00+0...</td>\n      <td>[59.805664, 59.749221, 59.747942, 59.737167777...</td>\n      <td>[10.290383, 10.26819, 10.291249, 10.3725904226...</td>\n      <td>[2024-08-07 04:49:12.961702+00, 2024-08-07 05:...</td>\n      <td>[33, 2460, 1978, 1234, 2493, 931, 2241, 148, 1...</td>\n      <td>[7166, 6718, 6699, 6495, 6560, 6558, 6756, 653...</td>\n      <td>Tuesday</td>\n      <td>[1, 0, 0, 0, 0, 0, 0, 0, 0, 0, 0, 0, 0]</td>\n      <td>2024-08-06</td>\n      <td>[3.9833740421767767, 0.8104231018807364, 2.938...</td>\n      <td>33.936285</td>\n      <td>2</td>\n    </tr>\n    <tr>\n      <th>18559</th>\n      <td>442393</td>\n      <td>877</td>\n      <td>[0, 1, 1, 1, 1, 1, 1]</td>\n      <td>[23977, 58941, 38726, 176478, 153920, 186237, ...</td>\n      <td>[2024-08-06 19:39:12.755331+00, 2024-08-06 19:...</td>\n      <td>[2024-08-07 13:31:50.711864+00, 2024-08-07 13:...</td>\n      <td>[2024-08-07 01:00:00+00, 2024-08-07 05:00:00+0...</td>\n      <td>[2024-08-07 14:00:00+00, 2024-08-07 11:00:00+0...</td>\n      <td>[60.007627, 59.923836, 59.93422, 59.811373, 59...</td>\n      <td>[11.047135, 10.814451, 10.800594, 10.80755, 10...</td>\n      <td>[2024-08-07 13:31:50.711869+00, 2024-08-07 13:...</td>\n      <td>[30, 3949, 4848, 4971, 2429, 45, 2313]</td>\n      <td>[10076, 8785, 9172, 7204, 6955, 5902, 7045]</td>\n      <td>Tuesday</td>\n      <td>[1, 0, 0, 0, 0, 0, 0]</td>\n      <td>2024-08-06</td>\n      <td>[9.94338251969985, 0.8652097234693148, 8.50777...</td>\n      <td>46.524795</td>\n      <td>1</td>\n    </tr>\n    <tr>\n      <th>18560</th>\n      <td>443092</td>\n      <td>1417</td>\n      <td>[0, 1, 0, 1]</td>\n      <td>[46452, 46955, 46452, 154273]</td>\n      <td>[2024-08-07 05:59:26.311221+00, 2024-08-07 05:...</td>\n      <td>[2024-08-07 06:38:14.810272+00, 2024-08-07 07:...</td>\n      <td>[2024-08-07 02:00:00+00, 2024-08-07 05:00:00+0...</td>\n      <td>[2024-08-07 20:00:00+00, 2024-08-07 07:00:00+0...</td>\n      <td>[59.805664, 59.795058, 59.805664, 59.948098894...</td>\n      <td>[10.290383, 10.279009, 10.290383, 10.771520299...</td>\n      <td>[2024-08-07 07:10:49.406797+00, 2024-08-07 07:...</td>\n      <td>[33, 2032, 33, 2852]</td>\n      <td>[7166, 7127, 7166, 9527]</td>\n      <td>Wednesday</td>\n      <td>[1, 0, 1, 0]</td>\n      <td>2024-08-07</td>\n      <td>[0.8345487564187866, 0.8345487564187866, 19.43...</td>\n      <td>21.100814</td>\n      <td>1</td>\n    </tr>\n    <tr>\n      <th>18561</th>\n      <td>443107</td>\n      <td>723</td>\n      <td>[0, 1, 1, 1, 1, 1, 1, 1, 1, 1, 0, 1]</td>\n      <td>[46452, 45160, 156665, 44587, 45161, 44634, 50...</td>\n      <td>[2024-08-07 08:27:45.361844+00, 2024-08-07 08:...</td>\n      <td>[2024-08-07 09:00:31.581115+00, 2024-08-07 10:...</td>\n      <td>[2024-08-07 02:00:00+00, 2024-08-07 06:00:00+0...</td>\n      <td>[2024-08-07 20:00:00+00, 2024-08-07 10:00:00+0...</td>\n      <td>[59.805664, 59.420838, 59.415188, 59.414098, 5...</td>\n      <td>[10.290383, 10.488199, 10.496616, 10.487423, 1...</td>\n      <td>[2024-08-07 09:00:39.885506+00, 2024-08-07 10:...</td>\n      <td>[33, 3225, 4361, 4473, 1308, 2346, 37, 3408, 4...</td>\n      <td>[7166, 5428, 5394, 5385, 5347, 4633, 4350, 431...</td>\n      <td>Wednesday</td>\n      <td>[1, 0, 0, 0, 0, 0, 0, 0, 0, 0, 0, 0]</td>\n      <td>2024-08-07</td>\n      <td>[27.52809355932868, 0.4910623122012766, 0.3330...</td>\n      <td>118.311923</td>\n      <td>1</td>\n    </tr>\n  </tbody>\n</table>\n<p>18562 rows × 19 columns</p>\n</div>"
     },
     "execution_count": 9,
     "metadata": {},
     "output_type": "execute_result"
    }
   ],
   "source": [
    "routes"
   ],
   "metadata": {
    "collapsed": false,
    "pycharm": {
     "name": "#%%\n"
    }
   }
  },
  {
   "cell_type": "code",
   "execution_count": 10,
   "outputs": [
    {
     "data": {
      "text/plain": "18562"
     },
     "execution_count": 10,
     "metadata": {},
     "output_type": "execute_result"
    }
   ],
   "source": [
    "def create_actual_route(df, column):\n",
    "    res_col = []\n",
    "    for i in range(len(df)):\n",
    "        row = df.iloc[i]\n",
    "        sorted_dates = sorted(row['stop_arrived_at'])\n",
    "        mapping = {}\n",
    "        for i, date in enumerate(sorted_dates):\n",
    "            mapping[date] = row[column][i]\n",
    "        res_val = [mapping[row['stop_arrived_at'][i]] for i in range(len(row['stop_arrived_at']))]\n",
    "        res_col.append(res_val)\n",
    "    return res_col\n",
    "\n",
    "def create_actual_route_type(df, column):\n",
    "    res_col = []\n",
    "    for i in range(len(df)):\n",
    "        row = df.iloc[i]\n",
    "        sorted_dates = sorted(row['stop_arrived_at'])\n",
    "        mapping = {}\n",
    "        for i, date in enumerate(sorted_dates):\n",
    "            mapping[date] = row['location_type_id'][i]\n",
    "        res_val = [mapping[row['stop_arrived_at'][i]] for i in range(len(row['stop_arrived_at']))]\n",
    "        res_col.append(res_val)\n",
    "    return res_col\n",
    "\n",
    "routes['actual_route_location'] = create_actual_route(routes, 'planned_route_craft')\n",
    "routes['actual_route_type'] = create_actual_route_type(routes, 'planned_route_craft')\n",
    "routes['distance_actual_route'] = routes.apply(calculate_distance_actual, axis=1)\n",
    "routes['total_distance_actual'] = routes['distance_actual_route'].apply(sum)\n",
    "routes['difference_distance'] = (routes['total_distance_actual'] - routes['total_distance_planned'])/routes['total_distance_planned']\n",
    "\n",
    "#remove all the routes with length <= 2\n",
    "routes = routes[routes['planned_route_craft'].apply(lambda x: len(x) > 2)]\n",
    "routes = routes.reset_index(drop=True)\n",
    "\n",
    "len(routes)"
   ],
   "metadata": {
    "collapsed": false,
    "pycharm": {
     "name": "#%%\n"
    }
   }
  },
  {
   "cell_type": "code",
   "execution_count": 75,
   "outputs": [
    {
     "data": {
      "text/plain": "       driver_workday_id  driver_id  \\\n7                 305777       1184   \n11                305822       1222   \n13                306381       1190   \n22                306394       1193   \n24                306396       1208   \n...                  ...        ...   \n18551             442354        290   \n18553             442382       1658   \n18554             442383       1243   \n18555             442386       1520   \n18560             443092       1417   \n\n                                        location_type_id  \\\n7       [0, 1, 0, 1, 1, 1, 1, 1, 1, 1, 1, 1, 1, 1, 1, 1]   \n11               [0, 0, 1, 1, 1, 1, 1, 1, 1, 1, 1, 1, 1]   \n13                                       [0, 1, 1, 0, 1]   \n22            [0, 1, 1, 1, 0, 1, 0, 1, 1, 1, 1, 0, 1, 1]   \n24     [0, 1, 1, 1, 1, 1, 1, 1, 1, 1, 1, 1, 1, 1, 1, ...   \n...                                                  ...   \n18551                           [0, 1, 1, 1, 0, 1, 1, 1]   \n18553         [0, 1, 1, 1, 0, 1, 1, 1, 1, 1, 1, 1, 1, 1]   \n18554  [0, 1, 1, 1, 1, 1, 1, 1, 0, 0, 1, 1, 1, 1, 1, ...   \n18555  [0, 1, 1, 1, 1, 1, 0, 1, 1, 1, 1, 1, 1, 1, 1, ...   \n18560                                       [0, 1, 0, 1]   \n\n                                  planned_route_location  \\\n7      [153184, 149629, 153184, 133530, 126197, 12617...   \n11     [153184, 153184, 126299, 133416, 133416, 12722...   \n13              [153184, 118473, 118476, 144329, 153184]   \n22     [153184, 119965, 118462, 118782, 153184, 12626...   \n24     [153184, 118551, 120151, 118602, 118569, 11904...   \n...                                                  ...   \n18551  [24927, 24953, 158094, 25021, 24927, 25032, 25...   \n18553  [153184, 119516, 118968, 163781, 163781, 12056...   \n18554  [153184, 126201, 133371, 159132, 126218, 13362...   \n18555  [163647, 160704, 162824, 161803, 163817, 16203...   \n18560                      [46452, 46955, 46452, 154273]   \n\n                                      stop_dispatched_at  \\\n7      [2024-01-15 01:00:55.998747+00, 2024-01-15 01:...   \n11     [2024-01-15 20:18:10.752813+00, 2024-01-15 20:...   \n13     [2024-01-23 10:42:01.731+00, 2024-01-23 10:42:...   \n22     [2024-01-15 23:57:51.582139+00, 2024-01-15 23:...   \n24     [2024-01-15 23:32:24.727186+00, 2024-01-15 23:...   \n...                                                  ...   \n18551  [2024-08-06 07:50:29.678714+00, 2024-08-06 07:...   \n18553  [2024-08-06 23:09:43.069421+00, 2024-08-07 00:...   \n18554  [2024-08-06 23:09:47.587529+00, 2024-08-06 23:...   \n18555  [2024-08-06 23:09:03.798004+00, 2024-08-06 23:...   \n18560  [2024-08-07 05:59:26.311221+00, 2024-08-07 05:...   \n\n                                         stop_arrived_at  \\\n7      [2024-01-15 02:30:31.162054+00, 2024-01-15 03:...   \n11     [2024-01-15 22:32:59.762652+00, 2024-01-15 22:...   \n13     [2024-01-23 10:49:20.166468+00, 2024-01-23 10:...   \n22     [2024-01-16 02:56:53.195248+00, 2024-01-16 04:...   \n24     [2024-01-16 03:16:27.520502+00, 2024-01-16 03:...   \n...                                                  ...   \n18551  [2024-08-07 05:34:13.327006+00, 2024-08-07 06:...   \n18553  [2024-08-07 02:40:13.728229+00, 2024-08-07 04:...   \n18554  [2024-08-06 23:28:28.870578+00, 2024-08-07 02:...   \n18555  [2024-08-07 01:55:50.864283+00, 2024-08-07 02:...   \n18560  [2024-08-07 06:38:14.810272+00, 2024-08-07 07:...   \n\n                                           stop_earliest  \\\n7      [2024-01-15 00:00:00+00, 2024-01-15 02:00:00+0...   \n11     [2024-01-15 19:00:00+00, 2024-01-15 19:00:00+0...   \n13     [2024-01-16 00:00:00+00, 2024-01-16 05:00:00+0...   \n22     [2024-01-16 00:00:00+00, 2024-01-16 04:00:00+0...   \n24     [2024-01-16 00:00:00+00, 2024-01-16 04:00:00+0...   \n...                                                  ...   \n18551  [2024-08-07 01:00:00+00, 2024-08-07 06:15:00+0...   \n18553  [2024-08-06 23:00:00+00, 2024-08-07 04:00:00+0...   \n18554  [2024-08-06 23:00:00+00, 2024-08-07 03:30:00+0...   \n18555  [2024-08-07 00:00:00+00, 2024-08-07 02:00:00+0...   \n18560  [2024-08-07 02:00:00+00, 2024-08-07 05:00:00+0...   \n\n                                             stop_latest  \\\n7      [2024-01-15 05:00:00+00, 2024-01-15 05:00:00+0...   \n11     [2024-01-16 01:00:00+00, 2024-01-16 01:00:00+0...   \n13     [2024-01-16 22:00:00+00, 2024-01-16 11:00:00+0...   \n22     [2024-01-16 22:00:00+00, 2024-01-16 06:00:00+0...   \n24     [2024-01-16 22:00:00+00, 2024-01-16 06:00:00+0...   \n...                                                  ...   \n18551  [2024-08-07 16:00:00+00, 2024-08-07 08:15:00+0...   \n18553  [2024-08-07 14:00:00+00, 2024-08-07 06:00:00+0...   \n18554  [2024-08-07 14:00:00+00, 2024-08-07 10:30:00+0...   \n18555  [2024-08-07 16:00:00+00, 2024-08-07 05:00:00+0...   \n18560  [2024-08-07 20:00:00+00, 2024-08-07 07:00:00+0...   \n\n                                             current_lat  \\\n7      [55.64641920439919, 55.32612200000001, 55.6464...   \n11     [55.64641920439919, 55.64641920439919, 55.7084...   \n13     [55.64641920439919, 55.6487125, 55.6163424, 55...   \n22     [55.64641920439919, 55.680064, 55.67597, 55.67...   \n24     [55.64641920439919, 55.659909, 55.667373, 55.6...   \n...                                                  ...   \n18551  [59.98883, 59.874914, 59.905434, 59.910636, 59...   \n18553  [55.64641920439919, 54.83743, 54.915425, 54.84...   \n18554  [55.64641920439919, 54.6603213, 54.696715, 54....   \n18555  [56.0667627, 56.1004096, 56.117045, 56.117045,...   \n18560  [59.805664, 59.795058, 59.805664, 59.948098894...   \n\n                                             current_lng  ...  \\\n7      [12.15372974969827, 11.9560479, 12.15372974969...  ...   \n11     [12.15372974969827, 12.15372974969827, 12.5917...  ...   \n13     [12.15372974969827, 12.1307559, 12.3275461, 12...  ...   \n22     [12.15372974969827, 12.591503, 12.559307, 12.5...  ...   \n24     [12.15372974969827, 12.299289, 12.438708, 12.3...  ...   \n...                                                  ...  ...   \n18551  [10.947692, 10.810462, 10.759455, 10.725937, 1...  ...   \n18553  [12.15372974969827, 11.4762, 11.35596, 11.2352...  ...   \n18554  [12.15372974969827, 11.734435, 11.629326, 11.5...  ...   \n18555  [9.986944, 10.0686046, 10.1408688, 10.1408688,...  ...   \n18560  [10.290383, 10.279009, 10.290383, 10.771520299...  ...   \n\n                                       location_is_depot       date  \\\n7       [1, 0, 1, 0, 0, 0, 0, 0, 0, 0, 0, 0, 0, 0, 0, 0] 2024-01-15   \n11               [1, 1, 0, 0, 0, 0, 0, 0, 0, 0, 0, 0, 0] 2024-01-15   \n13                                       [1, 0, 0, 0, 1] 2024-01-23   \n22            [1, 0, 0, 0, 1, 0, 1, 0, 0, 0, 0, 1, 0, 0] 2024-01-16   \n24     [1, 0, 0, 0, 0, 0, 0, 0, 0, 0, 0, 0, 0, 0, 0, ... 2024-01-15   \n...                                                  ...        ...   \n18551                           [1, 0, 0, 0, 1, 0, 0, 0] 2024-08-06   \n18553         [1, 0, 0, 0, 0, 0, 0, 0, 0, 0, 0, 0, 0, 1] 2024-08-07   \n18554  [1, 0, 0, 0, 0, 0, 0, 0, 1, 0, 0, 0, 0, 0, 0, ... 2024-08-06   \n18555  [1, 0, 0, 0, 0, 0, 0, 0, 0, 0, 0, 0, 0, 0, 0, ... 2024-08-06   \n18560                                       [1, 0, 1, 0] 2024-08-07   \n\n                                          distance_route  \\\n7      [23.479040480510506, 23.479040480510506, 26.97...   \n11     [0.0, 17.651257584931095, 0.03683756053674672,...   \n13     [0.9126584187089052, 8.020566881548852, 6.6327...   \n22     [17.276820918445008, 1.2900415739220052, 0.483...   \n24     [5.769605055461457, 5.476392511513473, 2.60293...   \n...                                                  ...   \n18551  [9.21541441664626, 2.7590721190989402, 1.21975...   \n18553  [62.039023321205484, 7.218548536369637, 6.6372...   \n18554  [70.20592169704341, 4.9077121660827006, 1.2509...   \n18555  [3.9241224150190654, 3.0215328879604293, 0.0, ...   \n18560  [0.8345487564187866, 0.8345487564187866, 19.43...   \n\n      total_distance_planned last_two_weeks_count  \\\n7                 127.199148                    8   \n11                 26.829030                    8   \n13                 26.530705                    2   \n22                 61.625722                    2   \n24                 48.018068                    8   \n...                      ...                  ...   \n18551              38.699582                    1   \n18553             162.241502                    1   \n18554             327.660185                    2   \n18555              36.488131                    1   \n18560              21.100814                    1   \n\n                                   actual_route_location  \\\n7      [1167, 1167, 574, 523, 473, 462, 444, 400, 190...   \n11     [1167, 1167, 2158, 2094, 2152, 2093, 2084, 191...   \n13                         [1167, 1194, 947, 1797, 1167]   \n22     [1167, 1646, 1614, 1562, 1167, 1254, 1167, 228...   \n24     [1167, 1329, 1472, 1424, 1441, 1732, 1411, 152...   \n...                                                  ...   \n18551  [10001, 7554, 7847, 8053, 10001, 9389, 9909, 9...   \n18553  [1167, 166, 188, 170, 170, 171, 168, 157, 151,...   \n18554  [1167, 35, 38, 41, 91, 102, 90, 1167, 15, 90, ...   \n18555  [3162, 3295, 3243, 3295, 3240, 3327, 3258, 324...   \n18560                           [7166, 7166, 7127, 9527]   \n\n                                       actual_route_type  \\\n7       [0, 0, 1, 1, 1, 1, 1, 1, 1, 1, 1, 1, 1, 1, 1, 1]   \n11               [0, 0, 1, 1, 1, 1, 1, 1, 1, 1, 1, 1, 1]   \n13                                       [0, 1, 1, 0, 1]   \n22            [0, 1, 1, 1, 0, 1, 0, 1, 1, 1, 1, 1, 1, 0]   \n24     [0, 1, 1, 1, 1, 1, 1, 1, 1, 1, 1, 1, 1, 1, 1, ...   \n...                                                  ...   \n18551                           [0, 1, 1, 1, 0, 1, 1, 1]   \n18553         [0, 1, 1, 1, 0, 1, 1, 1, 1, 1, 1, 1, 1, 1]   \n18554  [0, 1, 1, 1, 1, 1, 1, 0, 1, 0, 1, 1, 1, 1, 1, ...   \n18555  [0, 1, 1, 1, 1, 1, 1, 1, 0, 1, 0, 1, 1, 1, 1, ...   \n18560                                       [0, 0, 1, 1]   \n\n                                   distance_actual_route  \\\n7      [0.0, 23.479040480510506, 8.146314511821483, 3...   \n11     [0.0, 16.677855131466725, 2.9752260306572684, ...   \n13     [0.9126584187089052, 8.020566881548852, 6.6327...   \n22     [17.276820918445008, 0.8083934229986713, 0.483...   \n24     [5.769605055461457, 5.629943594530911, 0.99099...   \n...                                                  ...   \n18551  [9.21541441664626, 2.7590721190989402, 1.21975...   \n18553  [62.039023321205484, 7.218548536369637, 6.6372...   \n18554  [68.89851202059795, 1.2509793817380201, 4.9521...   \n18555  [6.8952530096090685, 2.827734737537246, 2.8277...   \n18560      [0.0, 0.8345487564187866, 20.152305668374094]   \n\n       total_distance_actual difference_distance  \n7                  81.294249           -0.360890  \n11                 37.502720            0.397841  \n13                 26.530705            0.000000  \n22                 82.965007            0.346272  \n24                 64.314244            0.339376  \n...                      ...                 ...  \n18551              38.699582            0.000000  \n18553             162.241502            0.000000  \n18554             337.868313            0.031155  \n18555              55.133060            0.510986  \n18560              20.986854           -0.005401  \n\n[6322 rows x 24 columns]",
      "text/html": "<div>\n<style scoped>\n    .dataframe tbody tr th:only-of-type {\n        vertical-align: middle;\n    }\n\n    .dataframe tbody tr th {\n        vertical-align: top;\n    }\n\n    .dataframe thead th {\n        text-align: right;\n    }\n</style>\n<table border=\"1\" class=\"dataframe\">\n  <thead>\n    <tr style=\"text-align: right;\">\n      <th></th>\n      <th>driver_workday_id</th>\n      <th>driver_id</th>\n      <th>location_type_id</th>\n      <th>planned_route_location</th>\n      <th>stop_dispatched_at</th>\n      <th>stop_arrived_at</th>\n      <th>stop_earliest</th>\n      <th>stop_latest</th>\n      <th>current_lat</th>\n      <th>current_lng</th>\n      <th>...</th>\n      <th>location_is_depot</th>\n      <th>date</th>\n      <th>distance_route</th>\n      <th>total_distance_planned</th>\n      <th>last_two_weeks_count</th>\n      <th>actual_route_location</th>\n      <th>actual_route_type</th>\n      <th>distance_actual_route</th>\n      <th>total_distance_actual</th>\n      <th>difference_distance</th>\n    </tr>\n  </thead>\n  <tbody>\n    <tr>\n      <th>7</th>\n      <td>305777</td>\n      <td>1184</td>\n      <td>[0, 1, 0, 1, 1, 1, 1, 1, 1, 1, 1, 1, 1, 1, 1, 1]</td>\n      <td>[153184, 149629, 153184, 133530, 126197, 12617...</td>\n      <td>[2024-01-15 01:00:55.998747+00, 2024-01-15 01:...</td>\n      <td>[2024-01-15 02:30:31.162054+00, 2024-01-15 03:...</td>\n      <td>[2024-01-15 00:00:00+00, 2024-01-15 02:00:00+0...</td>\n      <td>[2024-01-15 05:00:00+00, 2024-01-15 05:00:00+0...</td>\n      <td>[55.64641920439919, 55.32612200000001, 55.6464...</td>\n      <td>[12.15372974969827, 11.9560479, 12.15372974969...</td>\n      <td>...</td>\n      <td>[1, 0, 1, 0, 0, 0, 0, 0, 0, 0, 0, 0, 0, 0, 0, 0]</td>\n      <td>2024-01-15</td>\n      <td>[23.479040480510506, 23.479040480510506, 26.97...</td>\n      <td>127.199148</td>\n      <td>8</td>\n      <td>[1167, 1167, 574, 523, 473, 462, 444, 400, 190...</td>\n      <td>[0, 0, 1, 1, 1, 1, 1, 1, 1, 1, 1, 1, 1, 1, 1, 1]</td>\n      <td>[0.0, 23.479040480510506, 8.146314511821483, 3...</td>\n      <td>81.294249</td>\n      <td>-0.360890</td>\n    </tr>\n    <tr>\n      <th>11</th>\n      <td>305822</td>\n      <td>1222</td>\n      <td>[0, 0, 1, 1, 1, 1, 1, 1, 1, 1, 1, 1, 1]</td>\n      <td>[153184, 153184, 126299, 133416, 133416, 12722...</td>\n      <td>[2024-01-15 20:18:10.752813+00, 2024-01-15 20:...</td>\n      <td>[2024-01-15 22:32:59.762652+00, 2024-01-15 22:...</td>\n      <td>[2024-01-15 19:00:00+00, 2024-01-15 19:00:00+0...</td>\n      <td>[2024-01-16 01:00:00+00, 2024-01-16 01:00:00+0...</td>\n      <td>[55.64641920439919, 55.64641920439919, 55.7084...</td>\n      <td>[12.15372974969827, 12.15372974969827, 12.5917...</td>\n      <td>...</td>\n      <td>[1, 1, 0, 0, 0, 0, 0, 0, 0, 0, 0, 0, 0]</td>\n      <td>2024-01-15</td>\n      <td>[0.0, 17.651257584931095, 0.03683756053674672,...</td>\n      <td>26.829030</td>\n      <td>8</td>\n      <td>[1167, 1167, 2158, 2094, 2152, 2093, 2084, 191...</td>\n      <td>[0, 0, 1, 1, 1, 1, 1, 1, 1, 1, 1, 1, 1]</td>\n      <td>[0.0, 16.677855131466725, 2.9752260306572684, ...</td>\n      <td>37.502720</td>\n      <td>0.397841</td>\n    </tr>\n    <tr>\n      <th>13</th>\n      <td>306381</td>\n      <td>1190</td>\n      <td>[0, 1, 1, 0, 1]</td>\n      <td>[153184, 118473, 118476, 144329, 153184]</td>\n      <td>[2024-01-23 10:42:01.731+00, 2024-01-23 10:42:...</td>\n      <td>[2024-01-23 10:49:20.166468+00, 2024-01-23 10:...</td>\n      <td>[2024-01-16 00:00:00+00, 2024-01-16 05:00:00+0...</td>\n      <td>[2024-01-16 22:00:00+00, 2024-01-16 11:00:00+0...</td>\n      <td>[55.64641920439919, 55.6487125, 55.6163424, 55...</td>\n      <td>[12.15372974969827, 12.1307559, 12.3275461, 12...</td>\n      <td>...</td>\n      <td>[1, 0, 0, 0, 1]</td>\n      <td>2024-01-23</td>\n      <td>[0.9126584187089052, 8.020566881548852, 6.6327...</td>\n      <td>26.530705</td>\n      <td>2</td>\n      <td>[1167, 1194, 947, 1797, 1167]</td>\n      <td>[0, 1, 1, 0, 1]</td>\n      <td>[0.9126584187089052, 8.020566881548852, 6.6327...</td>\n      <td>26.530705</td>\n      <td>0.000000</td>\n    </tr>\n    <tr>\n      <th>22</th>\n      <td>306394</td>\n      <td>1193</td>\n      <td>[0, 1, 1, 1, 0, 1, 0, 1, 1, 1, 1, 0, 1, 1]</td>\n      <td>[153184, 119965, 118462, 118782, 153184, 12626...</td>\n      <td>[2024-01-15 23:57:51.582139+00, 2024-01-15 23:...</td>\n      <td>[2024-01-16 02:56:53.195248+00, 2024-01-16 04:...</td>\n      <td>[2024-01-16 00:00:00+00, 2024-01-16 04:00:00+0...</td>\n      <td>[2024-01-16 22:00:00+00, 2024-01-16 06:00:00+0...</td>\n      <td>[55.64641920439919, 55.680064, 55.67597, 55.67...</td>\n      <td>[12.15372974969827, 12.591503, 12.559307, 12.5...</td>\n      <td>...</td>\n      <td>[1, 0, 0, 0, 1, 0, 1, 0, 0, 0, 0, 1, 0, 0]</td>\n      <td>2024-01-16</td>\n      <td>[17.276820918445008, 1.2900415739220052, 0.483...</td>\n      <td>61.625722</td>\n      <td>2</td>\n      <td>[1167, 1646, 1614, 1562, 1167, 1254, 1167, 228...</td>\n      <td>[0, 1, 1, 1, 0, 1, 0, 1, 1, 1, 1, 1, 1, 0]</td>\n      <td>[17.276820918445008, 0.8083934229986713, 0.483...</td>\n      <td>82.965007</td>\n      <td>0.346272</td>\n    </tr>\n    <tr>\n      <th>24</th>\n      <td>306396</td>\n      <td>1208</td>\n      <td>[0, 1, 1, 1, 1, 1, 1, 1, 1, 1, 1, 1, 1, 1, 1, ...</td>\n      <td>[153184, 118551, 120151, 118602, 118569, 11904...</td>\n      <td>[2024-01-15 23:32:24.727186+00, 2024-01-15 23:...</td>\n      <td>[2024-01-16 03:16:27.520502+00, 2024-01-16 03:...</td>\n      <td>[2024-01-16 00:00:00+00, 2024-01-16 04:00:00+0...</td>\n      <td>[2024-01-16 22:00:00+00, 2024-01-16 06:00:00+0...</td>\n      <td>[55.64641920439919, 55.659909, 55.667373, 55.6...</td>\n      <td>[12.15372974969827, 12.299289, 12.438708, 12.3...</td>\n      <td>...</td>\n      <td>[1, 0, 0, 0, 0, 0, 0, 0, 0, 0, 0, 0, 0, 0, 0, ...</td>\n      <td>2024-01-15</td>\n      <td>[5.769605055461457, 5.476392511513473, 2.60293...</td>\n      <td>48.018068</td>\n      <td>8</td>\n      <td>[1167, 1329, 1472, 1424, 1441, 1732, 1411, 152...</td>\n      <td>[0, 1, 1, 1, 1, 1, 1, 1, 1, 1, 1, 1, 1, 1, 1, ...</td>\n      <td>[5.769605055461457, 5.629943594530911, 0.99099...</td>\n      <td>64.314244</td>\n      <td>0.339376</td>\n    </tr>\n    <tr>\n      <th>...</th>\n      <td>...</td>\n      <td>...</td>\n      <td>...</td>\n      <td>...</td>\n      <td>...</td>\n      <td>...</td>\n      <td>...</td>\n      <td>...</td>\n      <td>...</td>\n      <td>...</td>\n      <td>...</td>\n      <td>...</td>\n      <td>...</td>\n      <td>...</td>\n      <td>...</td>\n      <td>...</td>\n      <td>...</td>\n      <td>...</td>\n      <td>...</td>\n      <td>...</td>\n      <td>...</td>\n    </tr>\n    <tr>\n      <th>18551</th>\n      <td>442354</td>\n      <td>290</td>\n      <td>[0, 1, 1, 1, 0, 1, 1, 1]</td>\n      <td>[24927, 24953, 158094, 25021, 24927, 25032, 25...</td>\n      <td>[2024-08-06 07:50:29.678714+00, 2024-08-06 07:...</td>\n      <td>[2024-08-07 05:34:13.327006+00, 2024-08-07 06:...</td>\n      <td>[2024-08-07 01:00:00+00, 2024-08-07 06:15:00+0...</td>\n      <td>[2024-08-07 16:00:00+00, 2024-08-07 08:15:00+0...</td>\n      <td>[59.98883, 59.874914, 59.905434, 59.910636, 59...</td>\n      <td>[10.947692, 10.810462, 10.759455, 10.725937, 1...</td>\n      <td>...</td>\n      <td>[1, 0, 0, 0, 1, 0, 0, 0]</td>\n      <td>2024-08-06</td>\n      <td>[9.21541441664626, 2.7590721190989402, 1.21975...</td>\n      <td>38.699582</td>\n      <td>1</td>\n      <td>[10001, 7554, 7847, 8053, 10001, 9389, 9909, 9...</td>\n      <td>[0, 1, 1, 1, 0, 1, 1, 1]</td>\n      <td>[9.21541441664626, 2.7590721190989402, 1.21975...</td>\n      <td>38.699582</td>\n      <td>0.000000</td>\n    </tr>\n    <tr>\n      <th>18553</th>\n      <td>442382</td>\n      <td>1658</td>\n      <td>[0, 1, 1, 1, 0, 1, 1, 1, 1, 1, 1, 1, 1, 1]</td>\n      <td>[153184, 119516, 118968, 163781, 163781, 12056...</td>\n      <td>[2024-08-06 23:09:43.069421+00, 2024-08-07 00:...</td>\n      <td>[2024-08-07 02:40:13.728229+00, 2024-08-07 04:...</td>\n      <td>[2024-08-06 23:00:00+00, 2024-08-07 04:00:00+0...</td>\n      <td>[2024-08-07 14:00:00+00, 2024-08-07 06:00:00+0...</td>\n      <td>[55.64641920439919, 54.83743, 54.915425, 54.84...</td>\n      <td>[12.15372974969827, 11.4762, 11.35596, 11.2352...</td>\n      <td>...</td>\n      <td>[1, 0, 0, 0, 0, 0, 0, 0, 0, 0, 0, 0, 0, 1]</td>\n      <td>2024-08-07</td>\n      <td>[62.039023321205484, 7.218548536369637, 6.6372...</td>\n      <td>162.241502</td>\n      <td>1</td>\n      <td>[1167, 166, 188, 170, 170, 171, 168, 157, 151,...</td>\n      <td>[0, 1, 1, 1, 0, 1, 1, 1, 1, 1, 1, 1, 1, 1]</td>\n      <td>[62.039023321205484, 7.218548536369637, 6.6372...</td>\n      <td>162.241502</td>\n      <td>0.000000</td>\n    </tr>\n    <tr>\n      <th>18554</th>\n      <td>442383</td>\n      <td>1243</td>\n      <td>[0, 1, 1, 1, 1, 1, 1, 1, 0, 0, 1, 1, 1, 1, 1, ...</td>\n      <td>[153184, 126201, 133371, 159132, 126218, 13362...</td>\n      <td>[2024-08-06 23:09:47.587529+00, 2024-08-06 23:...</td>\n      <td>[2024-08-06 23:28:28.870578+00, 2024-08-07 02:...</td>\n      <td>[2024-08-06 23:00:00+00, 2024-08-07 03:30:00+0...</td>\n      <td>[2024-08-07 14:00:00+00, 2024-08-07 10:30:00+0...</td>\n      <td>[55.64641920439919, 54.6603213, 54.696715, 54....</td>\n      <td>[12.15372974969827, 11.734435, 11.629326, 11.5...</td>\n      <td>...</td>\n      <td>[1, 0, 0, 0, 0, 0, 0, 0, 1, 0, 0, 0, 0, 0, 0, ...</td>\n      <td>2024-08-06</td>\n      <td>[70.20592169704341, 4.9077121660827006, 1.2509...</td>\n      <td>327.660185</td>\n      <td>2</td>\n      <td>[1167, 35, 38, 41, 91, 102, 90, 1167, 15, 90, ...</td>\n      <td>[0, 1, 1, 1, 1, 1, 1, 0, 1, 0, 1, 1, 1, 1, 1, ...</td>\n      <td>[68.89851202059795, 1.2509793817380201, 4.9521...</td>\n      <td>337.868313</td>\n      <td>0.031155</td>\n    </tr>\n    <tr>\n      <th>18555</th>\n      <td>442386</td>\n      <td>1520</td>\n      <td>[0, 1, 1, 1, 1, 1, 0, 1, 1, 1, 1, 1, 1, 1, 1, ...</td>\n      <td>[163647, 160704, 162824, 161803, 163817, 16203...</td>\n      <td>[2024-08-06 23:09:03.798004+00, 2024-08-06 23:...</td>\n      <td>[2024-08-07 01:55:50.864283+00, 2024-08-07 02:...</td>\n      <td>[2024-08-07 00:00:00+00, 2024-08-07 02:00:00+0...</td>\n      <td>[2024-08-07 16:00:00+00, 2024-08-07 05:00:00+0...</td>\n      <td>[56.0667627, 56.1004096, 56.117045, 56.117045,...</td>\n      <td>[9.986944, 10.0686046, 10.1408688, 10.1408688,...</td>\n      <td>...</td>\n      <td>[1, 0, 0, 0, 0, 0, 0, 0, 0, 0, 0, 0, 0, 0, 0, ...</td>\n      <td>2024-08-06</td>\n      <td>[3.9241224150190654, 3.0215328879604293, 0.0, ...</td>\n      <td>36.488131</td>\n      <td>1</td>\n      <td>[3162, 3295, 3243, 3295, 3240, 3327, 3258, 324...</td>\n      <td>[0, 1, 1, 1, 1, 1, 1, 1, 0, 1, 0, 1, 1, 1, 1, ...</td>\n      <td>[6.8952530096090685, 2.827734737537246, 2.8277...</td>\n      <td>55.133060</td>\n      <td>0.510986</td>\n    </tr>\n    <tr>\n      <th>18560</th>\n      <td>443092</td>\n      <td>1417</td>\n      <td>[0, 1, 0, 1]</td>\n      <td>[46452, 46955, 46452, 154273]</td>\n      <td>[2024-08-07 05:59:26.311221+00, 2024-08-07 05:...</td>\n      <td>[2024-08-07 06:38:14.810272+00, 2024-08-07 07:...</td>\n      <td>[2024-08-07 02:00:00+00, 2024-08-07 05:00:00+0...</td>\n      <td>[2024-08-07 20:00:00+00, 2024-08-07 07:00:00+0...</td>\n      <td>[59.805664, 59.795058, 59.805664, 59.948098894...</td>\n      <td>[10.290383, 10.279009, 10.290383, 10.771520299...</td>\n      <td>...</td>\n      <td>[1, 0, 1, 0]</td>\n      <td>2024-08-07</td>\n      <td>[0.8345487564187866, 0.8345487564187866, 19.43...</td>\n      <td>21.100814</td>\n      <td>1</td>\n      <td>[7166, 7166, 7127, 9527]</td>\n      <td>[0, 0, 1, 1]</td>\n      <td>[0.0, 0.8345487564187866, 20.152305668374094]</td>\n      <td>20.986854</td>\n      <td>-0.005401</td>\n    </tr>\n  </tbody>\n</table>\n<p>6322 rows × 24 columns</p>\n</div>"
     },
     "execution_count": 75,
     "metadata": {},
     "output_type": "execute_result"
    }
   ],
   "source": [
    "routes = routes.reset_index(drop=True)\n",
    "more_than_one_1 = routes[routes['location_is_depot'].apply(lambda x: x.count(True) > 1)]\n",
    "len(more_than_one_1), len(routes)\n",
    "\n",
    "# more_than_one_1_2 = more_than_one_1[more_than_one_1['location_type_id'].apply(lambda x: x[0] != 1)]\n",
    "#\n",
    "# more_than_one_1_2\n",
    "more_than_one_1"
   ],
   "metadata": {
    "collapsed": false,
    "pycharm": {
     "name": "#%%\n"
    }
   }
  },
  {
   "cell_type": "code",
   "execution_count": 648,
   "outputs": [],
   "source": [
    "planned_routes = routes[['planned_route_craft', 'actual_route_location', 'driver_id', 'day_of_week', 'last_two_weeks_count', 'location_type_id', 'stop_arrived_at', 'stop_earliest', 'stop_latest', 'current_lat', 'current_lng', 'difference_distance', 'distance_route', 'location_is_depot', 'location_type_id', 'date']]\n",
    "actual_routes = routes['actual_route_location']"
   ],
   "metadata": {
    "collapsed": false,
    "pycharm": {
     "name": "#%%\n"
    }
   }
  },
  {
   "cell_type": "code",
   "execution_count": 649,
   "outputs": [
    {
     "data": {
      "text/plain": "                                     planned_route_craft  \\\n0       [1167, 1405, 1560, 1413, 1391, 1391, 1434, 1269]   \n1       [1167, 1352, 1312, 1356, 1508, 1508, 1621, 1401]   \n2             [1167, 2231, 2406, 2349, 2298, 2588, 2493]   \n3      [1167, 1168, 1495, 1658, 1070, 818, 965, 936, ...   \n4      [1167, 1101, 1079, 1282, 1123, 1098, 834, 1262...   \n...                                                  ...   \n18557  [10076, 10099, 9596, 9507, 9158, 8853, 9640, 8...   \n18558  [7166, 6718, 6699, 6495, 6560, 6558, 6756, 653...   \n18559        [10076, 8785, 9172, 7204, 6955, 5902, 7045]   \n18560                           [7166, 7127, 7166, 9527]   \n18561  [7166, 5428, 5394, 5385, 5347, 4633, 4350, 431...   \n\n                                   actual_route_location  driver_id  \\\n0       [1167, 1405, 1560, 1413, 1391, 1391, 1434, 1269]       1255   \n1       [1167, 1312, 1356, 1352, 1508, 1508, 1621, 1401]       1195   \n2             [1167, 2231, 2349, 2406, 2298, 2493, 2588]       1186   \n3      [1167, 1070, 936, 822, 963, 965, 818, 1658, 14...       1218   \n4      [1167, 1098, 1315, 1282, 1262, 834, 1123, 1079...       1192   \n...                                                  ...        ...   \n18557  [10076, 10099, 9596, 9507, 9158, 8853, 9640, 8...        276   \n18558  [7166, 6718, 6699, 6495, 6560, 6558, 6756, 653...        968   \n18559        [10076, 8785, 9172, 7204, 6955, 5902, 7045]        877   \n18560                           [7166, 7166, 7127, 9527]       1417   \n18561  [7166, 5428, 5394, 5385, 5347, 4633, 4350, 431...        723   \n\n      day_of_week  last_two_weeks_count  \\\n0          Monday                     8   \n1          Monday                    11   \n2          Monday                     9   \n3          Monday                    11   \n4          Monday                    11   \n...           ...                   ...   \n18557     Tuesday                     1   \n18558     Tuesday                     2   \n18559     Tuesday                     1   \n18560   Wednesday                     1   \n18561   Wednesday                     1   \n\n                                    location_type_id  \\\n0                           [0, 1, 1, 1, 1, 1, 1, 1]   \n1                           [0, 1, 1, 1, 1, 1, 1, 1]   \n2                              [0, 1, 1, 1, 1, 1, 1]   \n3                     [0, 1, 1, 1, 1, 1, 1, 1, 1, 1]   \n4                        [0, 1, 1, 1, 1, 1, 1, 1, 1]   \n...                                              ...   \n18557  [0, 1, 1, 1, 1, 1, 1, 1, 1, 1, 1, 1, 1, 1, 1]   \n18558        [0, 1, 1, 1, 1, 1, 1, 0, 1, 1, 1, 1, 1]   \n18559                          [0, 1, 1, 1, 1, 1, 1]   \n18560                                   [0, 1, 0, 1]   \n18561           [0, 1, 1, 1, 1, 1, 1, 1, 1, 1, 0, 1]   \n\n                                         stop_arrived_at  \\\n0      [2024-01-15 22:11:49.528537+00, 2024-01-15 23:...   \n1      [2024-01-15 22:58:58.038139+00, 2024-01-15 23:...   \n2      [2024-01-15 22:32:42.615543+00, 2024-01-15 23:...   \n3      [2024-01-15 22:37:07.860851+00, 2024-01-16 00:...   \n4      [2024-01-15 23:06:33.822316+00, 2024-01-16 01:...   \n...                                                  ...   \n18557  [2024-08-07 13:31:52.955936+00, 2024-08-07 13:...   \n18558  [2024-08-07 03:50:55.931321+00, 2024-08-07 05:...   \n18559  [2024-08-07 13:31:50.711864+00, 2024-08-07 13:...   \n18560  [2024-08-07 06:38:14.810272+00, 2024-08-07 07:...   \n18561  [2024-08-07 09:00:31.581115+00, 2024-08-07 10:...   \n\n                                           stop_earliest  \\\n0      [2024-01-15 19:00:00+00, 2024-01-15 23:00:00+0...   \n1      [2024-01-15 19:00:00+00, 2024-01-15 21:00:00+0...   \n2      [2024-01-15 19:00:00+00, 2024-01-15 21:00:00+0...   \n3      [2024-01-15 19:00:00+00, 2024-01-15 21:00:00+0...   \n4      [2024-01-15 19:00:00+00, 2024-01-15 21:00:00+0...   \n...                                                  ...   \n18557  [2024-08-07 01:00:00+00, 2024-08-07 05:00:00+0...   \n18558  [2024-08-07 02:00:00+00, 2024-08-07 05:00:00+0...   \n18559  [2024-08-07 01:00:00+00, 2024-08-07 05:00:00+0...   \n18560  [2024-08-07 02:00:00+00, 2024-08-07 05:00:00+0...   \n18561  [2024-08-07 02:00:00+00, 2024-08-07 06:00:00+0...   \n\n                                             stop_latest  \\\n0      [2024-01-16 01:00:00+00, 2024-01-16 03:00:00+0...   \n1      [2024-01-16 01:00:00+00, 2024-01-16 04:00:00+0...   \n2      [2024-01-16 01:00:00+00, 2024-01-16 04:00:00+0...   \n3      [2024-01-16 01:00:00+00, 2024-01-16 04:00:00+0...   \n4      [2024-01-16 01:00:00+00, 2024-01-16 04:00:00+0...   \n...                                                  ...   \n18557  [2024-08-07 14:00:00+00, 2024-08-07 11:00:00+0...   \n18558  [2024-08-07 20:00:00+00, 2024-08-07 07:00:00+0...   \n18559  [2024-08-07 14:00:00+00, 2024-08-07 11:00:00+0...   \n18560  [2024-08-07 20:00:00+00, 2024-08-07 07:00:00+0...   \n18561  [2024-08-07 20:00:00+00, 2024-08-07 10:00:00+0...   \n\n                                             current_lat  \\\n0      [55.64641920439919, 55.6669147, 55.6757322, 55...   \n1      [55.64641920439919, 55.662018, 55.658103, 55.6...   \n2      [55.64641920439919, 55.7498333, 55.80148, 55.7...   \n3      [55.64641920439919, 55.646535, 55.672309, 55.6...   \n4      [55.64641920439919, 55.640375, 55.639120600000...   \n...                                                  ...   \n18557  [60.007627, 60.01175632293701, 59.950832, 59.9...   \n18558  [59.805664, 59.749221, 59.747942, 59.737167777...   \n18559  [60.007627, 59.923836, 59.93422, 59.811373, 59...   \n18560  [59.805664, 59.795058, 59.805664, 59.948098894...   \n18561  [59.805664, 59.420838, 59.415188, 59.414098, 5...   \n\n                                             current_lng  difference_distance  \\\n0      [12.15372974969827, 12.5262801, 12.5619711, 12...             0.000000   \n1      [12.15372974969827, 12.360745, 12.368506, 12.3...             0.006369   \n2      [12.15372974969827, 12.5870785, 12.525814, 12....            -0.027603   \n3      [12.15372974969827, 12.539958, 12.588959, 12.6...             0.435438   \n4      [12.15372974969827, 12.091312, 12.0627714, 12....             0.162129   \n...                                                  ...                  ...   \n18557  [11.047135, 11.052440556594831, 10.856852, 10....             0.000000   \n18558  [10.290383, 10.26819, 10.291249, 10.3725904226...            -0.039707   \n18559  [11.047135, 10.814451, 10.800594, 10.80755, 10...             0.000000   \n18560  [10.290383, 10.279009, 10.290383, 10.771520299...            -0.005401   \n18561  [10.290383, 10.488199, 10.496616, 10.487423, 1...             0.000000   \n\n                                          distance_route  \\\n0      [14.640018023192697, 1.5229312527257717, 0.606...   \n1      [8.16888775040224, 0.4067943329231743, 0.35828...   \n2      [18.380690356980487, 4.298068156860068, 1.5617...   \n3      [15.110089331615377, 2.617611669361755, 0.8878...   \n4      [2.4776512575967895, 1.1201296974431052, 1.598...   \n...                                                  ...   \n18557  [0.3399120416382811, 7.9893719361707864, 1.229...   \n18558  [3.9833740421767767, 0.8104231018807364, 2.938...   \n18559  [9.94338251969985, 0.8652097234693148, 8.50777...   \n18560  [0.8345487564187866, 0.8345487564187866, 19.43...   \n18561  [27.52809355932868, 0.4910623122012766, 0.3330...   \n\n                                   location_is_depot  \\\n0                           [1, 0, 0, 0, 0, 0, 0, 0]   \n1                           [1, 0, 0, 0, 0, 0, 0, 0]   \n2                              [1, 0, 0, 0, 0, 0, 0]   \n3                     [1, 0, 0, 0, 0, 0, 0, 0, 0, 0]   \n4                        [1, 0, 0, 0, 0, 0, 0, 0, 0]   \n...                                              ...   \n18557  [1, 0, 0, 0, 0, 0, 0, 0, 0, 0, 0, 0, 0, 0, 0]   \n18558        [1, 0, 0, 0, 0, 0, 0, 0, 0, 0, 0, 0, 0]   \n18559                          [1, 0, 0, 0, 0, 0, 0]   \n18560                                   [1, 0, 1, 0]   \n18561           [1, 0, 0, 0, 0, 0, 0, 0, 0, 0, 0, 0]   \n\n                                    location_type_id       date  \n0                           [0, 1, 1, 1, 1, 1, 1, 1] 2024-01-15  \n1                           [0, 1, 1, 1, 1, 1, 1, 1] 2024-01-15  \n2                              [0, 1, 1, 1, 1, 1, 1] 2024-01-15  \n3                     [0, 1, 1, 1, 1, 1, 1, 1, 1, 1] 2024-01-15  \n4                        [0, 1, 1, 1, 1, 1, 1, 1, 1] 2024-01-15  \n...                                              ...        ...  \n18557  [0, 1, 1, 1, 1, 1, 1, 1, 1, 1, 1, 1, 1, 1, 1] 2024-08-06  \n18558        [0, 1, 1, 1, 1, 1, 1, 0, 1, 1, 1, 1, 1] 2024-08-06  \n18559                          [0, 1, 1, 1, 1, 1, 1] 2024-08-06  \n18560                                   [0, 1, 0, 1] 2024-08-07  \n18561           [0, 1, 1, 1, 1, 1, 1, 1, 1, 1, 0, 1] 2024-08-07  \n\n[18562 rows x 16 columns]",
      "text/html": "<div>\n<style scoped>\n    .dataframe tbody tr th:only-of-type {\n        vertical-align: middle;\n    }\n\n    .dataframe tbody tr th {\n        vertical-align: top;\n    }\n\n    .dataframe thead th {\n        text-align: right;\n    }\n</style>\n<table border=\"1\" class=\"dataframe\">\n  <thead>\n    <tr style=\"text-align: right;\">\n      <th></th>\n      <th>planned_route_craft</th>\n      <th>actual_route_location</th>\n      <th>driver_id</th>\n      <th>day_of_week</th>\n      <th>last_two_weeks_count</th>\n      <th>location_type_id</th>\n      <th>stop_arrived_at</th>\n      <th>stop_earliest</th>\n      <th>stop_latest</th>\n      <th>current_lat</th>\n      <th>current_lng</th>\n      <th>difference_distance</th>\n      <th>distance_route</th>\n      <th>location_is_depot</th>\n      <th>location_type_id</th>\n      <th>date</th>\n    </tr>\n  </thead>\n  <tbody>\n    <tr>\n      <th>0</th>\n      <td>[1167, 1405, 1560, 1413, 1391, 1391, 1434, 1269]</td>\n      <td>[1167, 1405, 1560, 1413, 1391, 1391, 1434, 1269]</td>\n      <td>1255</td>\n      <td>Monday</td>\n      <td>8</td>\n      <td>[0, 1, 1, 1, 1, 1, 1, 1]</td>\n      <td>[2024-01-15 22:11:49.528537+00, 2024-01-15 23:...</td>\n      <td>[2024-01-15 19:00:00+00, 2024-01-15 23:00:00+0...</td>\n      <td>[2024-01-16 01:00:00+00, 2024-01-16 03:00:00+0...</td>\n      <td>[55.64641920439919, 55.6669147, 55.6757322, 55...</td>\n      <td>[12.15372974969827, 12.5262801, 12.5619711, 12...</td>\n      <td>0.000000</td>\n      <td>[14.640018023192697, 1.5229312527257717, 0.606...</td>\n      <td>[1, 0, 0, 0, 0, 0, 0, 0]</td>\n      <td>[0, 1, 1, 1, 1, 1, 1, 1]</td>\n      <td>2024-01-15</td>\n    </tr>\n    <tr>\n      <th>1</th>\n      <td>[1167, 1352, 1312, 1356, 1508, 1508, 1621, 1401]</td>\n      <td>[1167, 1312, 1356, 1352, 1508, 1508, 1621, 1401]</td>\n      <td>1195</td>\n      <td>Monday</td>\n      <td>11</td>\n      <td>[0, 1, 1, 1, 1, 1, 1, 1]</td>\n      <td>[2024-01-15 22:58:58.038139+00, 2024-01-15 23:...</td>\n      <td>[2024-01-15 19:00:00+00, 2024-01-15 21:00:00+0...</td>\n      <td>[2024-01-16 01:00:00+00, 2024-01-16 04:00:00+0...</td>\n      <td>[55.64641920439919, 55.662018, 55.658103, 55.6...</td>\n      <td>[12.15372974969827, 12.360745, 12.368506, 12.3...</td>\n      <td>0.006369</td>\n      <td>[8.16888775040224, 0.4067943329231743, 0.35828...</td>\n      <td>[1, 0, 0, 0, 0, 0, 0, 0]</td>\n      <td>[0, 1, 1, 1, 1, 1, 1, 1]</td>\n      <td>2024-01-15</td>\n    </tr>\n    <tr>\n      <th>2</th>\n      <td>[1167, 2231, 2406, 2349, 2298, 2588, 2493]</td>\n      <td>[1167, 2231, 2349, 2406, 2298, 2493, 2588]</td>\n      <td>1186</td>\n      <td>Monday</td>\n      <td>9</td>\n      <td>[0, 1, 1, 1, 1, 1, 1]</td>\n      <td>[2024-01-15 22:32:42.615543+00, 2024-01-15 23:...</td>\n      <td>[2024-01-15 19:00:00+00, 2024-01-15 21:00:00+0...</td>\n      <td>[2024-01-16 01:00:00+00, 2024-01-16 04:00:00+0...</td>\n      <td>[55.64641920439919, 55.7498333, 55.80148, 55.7...</td>\n      <td>[12.15372974969827, 12.5870785, 12.525814, 12....</td>\n      <td>-0.027603</td>\n      <td>[18.380690356980487, 4.298068156860068, 1.5617...</td>\n      <td>[1, 0, 0, 0, 0, 0, 0]</td>\n      <td>[0, 1, 1, 1, 1, 1, 1]</td>\n      <td>2024-01-15</td>\n    </tr>\n    <tr>\n      <th>3</th>\n      <td>[1167, 1168, 1495, 1658, 1070, 818, 965, 936, ...</td>\n      <td>[1167, 1070, 936, 822, 963, 965, 818, 1658, 14...</td>\n      <td>1218</td>\n      <td>Monday</td>\n      <td>11</td>\n      <td>[0, 1, 1, 1, 1, 1, 1, 1, 1, 1]</td>\n      <td>[2024-01-15 22:37:07.860851+00, 2024-01-16 00:...</td>\n      <td>[2024-01-15 19:00:00+00, 2024-01-15 21:00:00+0...</td>\n      <td>[2024-01-16 01:00:00+00, 2024-01-16 04:00:00+0...</td>\n      <td>[55.64641920439919, 55.646535, 55.672309, 55.6...</td>\n      <td>[12.15372974969827, 12.539958, 12.588959, 12.6...</td>\n      <td>0.435438</td>\n      <td>[15.110089331615377, 2.617611669361755, 0.8878...</td>\n      <td>[1, 0, 0, 0, 0, 0, 0, 0, 0, 0]</td>\n      <td>[0, 1, 1, 1, 1, 1, 1, 1, 1, 1]</td>\n      <td>2024-01-15</td>\n    </tr>\n    <tr>\n      <th>4</th>\n      <td>[1167, 1101, 1079, 1282, 1123, 1098, 834, 1262...</td>\n      <td>[1167, 1098, 1315, 1282, 1262, 834, 1123, 1079...</td>\n      <td>1192</td>\n      <td>Monday</td>\n      <td>11</td>\n      <td>[0, 1, 1, 1, 1, 1, 1, 1, 1]</td>\n      <td>[2024-01-15 23:06:33.822316+00, 2024-01-16 01:...</td>\n      <td>[2024-01-15 19:00:00+00, 2024-01-15 21:00:00+0...</td>\n      <td>[2024-01-16 01:00:00+00, 2024-01-16 04:00:00+0...</td>\n      <td>[55.64641920439919, 55.640375, 55.639120600000...</td>\n      <td>[12.15372974969827, 12.091312, 12.0627714, 12....</td>\n      <td>0.162129</td>\n      <td>[2.4776512575967895, 1.1201296974431052, 1.598...</td>\n      <td>[1, 0, 0, 0, 0, 0, 0, 0, 0]</td>\n      <td>[0, 1, 1, 1, 1, 1, 1, 1, 1]</td>\n      <td>2024-01-15</td>\n    </tr>\n    <tr>\n      <th>...</th>\n      <td>...</td>\n      <td>...</td>\n      <td>...</td>\n      <td>...</td>\n      <td>...</td>\n      <td>...</td>\n      <td>...</td>\n      <td>...</td>\n      <td>...</td>\n      <td>...</td>\n      <td>...</td>\n      <td>...</td>\n      <td>...</td>\n      <td>...</td>\n      <td>...</td>\n      <td>...</td>\n    </tr>\n    <tr>\n      <th>18557</th>\n      <td>[10076, 10099, 9596, 9507, 9158, 8853, 9640, 8...</td>\n      <td>[10076, 10099, 9596, 9507, 9158, 8853, 9640, 8...</td>\n      <td>276</td>\n      <td>Tuesday</td>\n      <td>1</td>\n      <td>[0, 1, 1, 1, 1, 1, 1, 1, 1, 1, 1, 1, 1, 1, 1]</td>\n      <td>[2024-08-07 13:31:52.955936+00, 2024-08-07 13:...</td>\n      <td>[2024-08-07 01:00:00+00, 2024-08-07 05:00:00+0...</td>\n      <td>[2024-08-07 14:00:00+00, 2024-08-07 11:00:00+0...</td>\n      <td>[60.007627, 60.01175632293701, 59.950832, 59.9...</td>\n      <td>[11.047135, 11.052440556594831, 10.856852, 10....</td>\n      <td>0.000000</td>\n      <td>[0.3399120416382811, 7.9893719361707864, 1.229...</td>\n      <td>[1, 0, 0, 0, 0, 0, 0, 0, 0, 0, 0, 0, 0, 0, 0]</td>\n      <td>[0, 1, 1, 1, 1, 1, 1, 1, 1, 1, 1, 1, 1, 1, 1]</td>\n      <td>2024-08-06</td>\n    </tr>\n    <tr>\n      <th>18558</th>\n      <td>[7166, 6718, 6699, 6495, 6560, 6558, 6756, 653...</td>\n      <td>[7166, 6718, 6699, 6495, 6560, 6558, 6756, 653...</td>\n      <td>968</td>\n      <td>Tuesday</td>\n      <td>2</td>\n      <td>[0, 1, 1, 1, 1, 1, 1, 0, 1, 1, 1, 1, 1]</td>\n      <td>[2024-08-07 03:50:55.931321+00, 2024-08-07 05:...</td>\n      <td>[2024-08-07 02:00:00+00, 2024-08-07 05:00:00+0...</td>\n      <td>[2024-08-07 20:00:00+00, 2024-08-07 07:00:00+0...</td>\n      <td>[59.805664, 59.749221, 59.747942, 59.737167777...</td>\n      <td>[10.290383, 10.26819, 10.291249, 10.3725904226...</td>\n      <td>-0.039707</td>\n      <td>[3.9833740421767767, 0.8104231018807364, 2.938...</td>\n      <td>[1, 0, 0, 0, 0, 0, 0, 0, 0, 0, 0, 0, 0]</td>\n      <td>[0, 1, 1, 1, 1, 1, 1, 0, 1, 1, 1, 1, 1]</td>\n      <td>2024-08-06</td>\n    </tr>\n    <tr>\n      <th>18559</th>\n      <td>[10076, 8785, 9172, 7204, 6955, 5902, 7045]</td>\n      <td>[10076, 8785, 9172, 7204, 6955, 5902, 7045]</td>\n      <td>877</td>\n      <td>Tuesday</td>\n      <td>1</td>\n      <td>[0, 1, 1, 1, 1, 1, 1]</td>\n      <td>[2024-08-07 13:31:50.711864+00, 2024-08-07 13:...</td>\n      <td>[2024-08-07 01:00:00+00, 2024-08-07 05:00:00+0...</td>\n      <td>[2024-08-07 14:00:00+00, 2024-08-07 11:00:00+0...</td>\n      <td>[60.007627, 59.923836, 59.93422, 59.811373, 59...</td>\n      <td>[11.047135, 10.814451, 10.800594, 10.80755, 10...</td>\n      <td>0.000000</td>\n      <td>[9.94338251969985, 0.8652097234693148, 8.50777...</td>\n      <td>[1, 0, 0, 0, 0, 0, 0]</td>\n      <td>[0, 1, 1, 1, 1, 1, 1]</td>\n      <td>2024-08-06</td>\n    </tr>\n    <tr>\n      <th>18560</th>\n      <td>[7166, 7127, 7166, 9527]</td>\n      <td>[7166, 7166, 7127, 9527]</td>\n      <td>1417</td>\n      <td>Wednesday</td>\n      <td>1</td>\n      <td>[0, 1, 0, 1]</td>\n      <td>[2024-08-07 06:38:14.810272+00, 2024-08-07 07:...</td>\n      <td>[2024-08-07 02:00:00+00, 2024-08-07 05:00:00+0...</td>\n      <td>[2024-08-07 20:00:00+00, 2024-08-07 07:00:00+0...</td>\n      <td>[59.805664, 59.795058, 59.805664, 59.948098894...</td>\n      <td>[10.290383, 10.279009, 10.290383, 10.771520299...</td>\n      <td>-0.005401</td>\n      <td>[0.8345487564187866, 0.8345487564187866, 19.43...</td>\n      <td>[1, 0, 1, 0]</td>\n      <td>[0, 1, 0, 1]</td>\n      <td>2024-08-07</td>\n    </tr>\n    <tr>\n      <th>18561</th>\n      <td>[7166, 5428, 5394, 5385, 5347, 4633, 4350, 431...</td>\n      <td>[7166, 5428, 5394, 5385, 5347, 4633, 4350, 431...</td>\n      <td>723</td>\n      <td>Wednesday</td>\n      <td>1</td>\n      <td>[0, 1, 1, 1, 1, 1, 1, 1, 1, 1, 0, 1]</td>\n      <td>[2024-08-07 09:00:31.581115+00, 2024-08-07 10:...</td>\n      <td>[2024-08-07 02:00:00+00, 2024-08-07 06:00:00+0...</td>\n      <td>[2024-08-07 20:00:00+00, 2024-08-07 10:00:00+0...</td>\n      <td>[59.805664, 59.420838, 59.415188, 59.414098, 5...</td>\n      <td>[10.290383, 10.488199, 10.496616, 10.487423, 1...</td>\n      <td>0.000000</td>\n      <td>[27.52809355932868, 0.4910623122012766, 0.3330...</td>\n      <td>[1, 0, 0, 0, 0, 0, 0, 0, 0, 0, 0, 0]</td>\n      <td>[0, 1, 1, 1, 1, 1, 1, 1, 1, 1, 0, 1]</td>\n      <td>2024-08-07</td>\n    </tr>\n  </tbody>\n</table>\n<p>18562 rows × 16 columns</p>\n</div>"
     },
     "execution_count": 649,
     "metadata": {},
     "output_type": "execute_result"
    }
   ],
   "source": [
    "planned_routes"
   ],
   "metadata": {
    "collapsed": false,
    "pycharm": {
     "name": "#%%\n"
    }
   }
  },
  {
   "cell_type": "code",
   "execution_count": 650,
   "outputs": [
    {
     "data": {
      "text/plain": "(18562, 18562)"
     },
     "execution_count": 650,
     "metadata": {},
     "output_type": "execute_result"
    }
   ],
   "source": [
    "planned_routes_list = planned_routes['planned_route_craft'].tolist()\n",
    "actual_routes_list = actual_routes.tolist()\n",
    "\n",
    "# filtered_rows = []\n",
    "#\n",
    "# for row in actual_routes_list:\n",
    "#     if row not in planned_routes_list:\n",
    "#         filtered_rows.append(row)\n",
    "\n",
    "#duplicated removed\n",
    "# planned_routes_list = [array for i, array in enumerate(planned_routes_list) if array not in planned_routes_list[:i]]\n",
    "# actual_routes_list = [array for i, array in enumerate(filtered_rows) if array not in filtered_rows[:i]]\n",
    "len(planned_routes_list),len(actual_routes_list)"
   ],
   "metadata": {
    "collapsed": false,
    "pycharm": {
     "name": "#%%\n"
    }
   }
  },
  {
   "cell_type": "markdown",
   "source": [
    "# Edit distance"
   ],
   "metadata": {
    "collapsed": false,
    "pycharm": {
     "name": "#%% md\n"
    }
   }
  },
  {
   "cell_type": "code",
   "execution_count": 651,
   "outputs": [
    {
     "name": "stdout",
     "output_type": "stream",
     "text": [
      "3\n"
     ]
    }
   ],
   "source": [
    "# Edit Distance\n",
    "\n",
    "def minDistance(word1, word2) -> int:\n",
    "    m = len(word1)\n",
    "    n = len(word2)\n",
    "    # dp[i][j] := min # Of operations to convert word1[0..i) to word2[0..j)\n",
    "    dp = [[0] * (n + 1) for _ in range(m + 1)]\n",
    "\n",
    "    for i in range(1, m + 1):\n",
    "      dp[i][0] = i\n",
    "\n",
    "    for j in range(1, n + 1):\n",
    "      dp[0][j] = j\n",
    "\n",
    "    for i in range(1, m + 1):\n",
    "      for j in range(1, n + 1):\n",
    "        if word1[i - 1] == word2[j - 1]:\n",
    "          dp[i][j] = dp[i - 1][j - 1]\n",
    "        else:\n",
    "          dp[i][j] = min(dp[i - 1][j - 1], dp[i - 1][j], dp[i][j - 1]) + 1\n",
    "\n",
    "    return dp[m][n]\n",
    "\n",
    "print(minDistance([878, 1526, 1613, 1706, 1857, 1777], [878, 1526, 1706, 1613, 1777, 1857]))"
   ],
   "metadata": {
    "collapsed": false,
    "pycharm": {
     "name": "#%%\n"
    }
   }
  },
  {
   "cell_type": "markdown",
   "source": [
    "\n",
    "# Route quality score"
   ],
   "metadata": {
    "collapsed": false,
    "pycharm": {
     "name": "#%% md\n"
    }
   }
  },
  {
   "cell_type": "code",
   "execution_count": 652,
   "outputs": [],
   "source": [
    "def calculate_route_quality_score(planned_ranks, actual_ranks):\n",
    "    # Calculate sum of absolute differences in ranks\n",
    "    sum_of_differences = sum(abs(actual_ranks.index(x) - planned_ranks.index(x)) for x in planned_ranks)\n",
    "\n",
    "    # Calculate max possible difference\n",
    "    max_possible_difference = sum([abs(2 * i - (len(planned_ranks) + 1)) for i in range(1, len(planned_ranks) + 1)])\n",
    "\n",
    "    # Calculate route quality score\n",
    "    route_quality_score = 1 - (sum_of_differences / max_possible_difference)\n",
    "\n",
    "    return route_quality_score"
   ],
   "metadata": {
    "collapsed": false,
    "pycharm": {
     "name": "#%%\n"
    }
   }
  },
  {
   "cell_type": "markdown",
   "source": [
    "For each driver-day, we consider only the planned route. For each planned route we calculate how much it deviates from the actual route (e.g., use some form of edit distance - see https://link.springer.com/article/10.1007/s10732-006-9001-3?), which is then normalized (divide by max edit distance, or number of visits or something?) to the interval [0, 1]. Then, a planned route is good if this distance (between planned and actual) is less than a certain threshold and otherwise it is bad. This becomes the label (bad/good)"
   ],
   "metadata": {
    "collapsed": false,
    "pycharm": {
     "name": "#%% md\n"
    }
   }
  },
  {
   "cell_type": "code",
   "execution_count": 653,
   "outputs": [
    {
     "name": "stdout",
     "output_type": "stream",
     "text": [
      "8612 9950\n"
     ]
    },
    {
     "data": {
      "text/plain": "                                    planned_route_craft  \\\n0      [1167, 1405, 1560, 1413, 1391, 1391, 1434, 1269]   \n1      [1167, 1352, 1312, 1356, 1508, 1508, 1621, 1401]   \n2     [1167, 1405, 1479, 1560, 1413, 1391, 1391, 143...   \n3                         [1167, 1194, 947, 1797, 1167]   \n4     [1167, 696, 662, 615, 614, 628, 628, 634, 633,...   \n...                                                 ...   \n8607  [10076, 7957, 10076, 9131, 6485, 6362, 6086, 5...   \n8608  [10076, 10099, 9596, 9507, 9158, 8853, 9640, 8...   \n8609  [7166, 6718, 6699, 6495, 6560, 6558, 6756, 653...   \n8610        [10076, 8785, 9172, 7204, 6955, 5902, 7045]   \n8611  [7166, 5428, 5394, 5385, 5347, 4633, 4350, 431...   \n\n                                  actual_route_location  driver_id  \\\n0      [1167, 1405, 1560, 1413, 1391, 1391, 1434, 1269]       1255   \n1      [1167, 1312, 1356, 1352, 1508, 1508, 1621, 1401]       1195   \n2     [1167, 1405, 1479, 1560, 1413, 1391, 1391, 143...       1255   \n3                         [1167, 1194, 947, 1797, 1167]       1190   \n4     [1167, 696, 662, 615, 614, 628, 628, 634, 633,...       1178   \n...                                                 ...        ...   \n8607  [10076, 7957, 10076, 9131, 6485, 6362, 6086, 5...        274   \n8608  [10076, 10099, 9596, 9507, 9158, 8853, 9640, 8...        276   \n8609  [7166, 6718, 6699, 6495, 6560, 6558, 6756, 653...        968   \n8610        [10076, 8785, 9172, 7204, 6955, 5902, 7045]        877   \n8611  [7166, 5428, 5394, 5385, 5347, 4633, 4350, 431...        723   \n\n     day_of_week  last_two_weeks_count  \\\n0         Monday                     8   \n1         Monday                    11   \n2        Tuesday                     7   \n3        Tuesday                     2   \n4        Tuesday                     8   \n...          ...                   ...   \n8607   Wednesday                     1   \n8608     Tuesday                     1   \n8609     Tuesday                     2   \n8610     Tuesday                     1   \n8611   Wednesday                     1   \n\n                                       location_type_id  \\\n0                              [0, 1, 1, 1, 1, 1, 1, 1]   \n1                              [0, 1, 1, 1, 1, 1, 1, 1]   \n2                           [0, 1, 1, 1, 1, 1, 1, 1, 1]   \n3                                       [0, 1, 1, 0, 1]   \n4     [0, 1, 1, 1, 1, 1, 1, 1, 1, 1, 1, 1, 1, 1, 1, ...   \n...                                                 ...   \n8607                        [0, 1, 0, 1, 1, 1, 1, 1, 1]   \n8608      [0, 1, 1, 1, 1, 1, 1, 1, 1, 1, 1, 1, 1, 1, 1]   \n8609            [0, 1, 1, 1, 1, 1, 1, 0, 1, 1, 1, 1, 1]   \n8610                              [0, 1, 1, 1, 1, 1, 1]   \n8611               [0, 1, 1, 1, 1, 1, 1, 1, 1, 1, 0, 1]   \n\n                                        stop_arrived_at  \\\n0     [2024-01-15 22:11:49.528537+00, 2024-01-15 23:...   \n1     [2024-01-15 22:58:58.038139+00, 2024-01-15 23:...   \n2     [2024-01-16 22:24:33.871644+00, 2024-01-16 23:...   \n3     [2024-01-23 10:49:20.166468+00, 2024-01-23 10:...   \n4     [2024-01-23 10:49:20.775856+00, 2024-01-23 10:...   \n...                                                 ...   \n8607  [2024-08-07 15:24:29.958093+00, 2024-08-07 15:...   \n8608  [2024-08-07 13:31:52.955936+00, 2024-08-07 13:...   \n8609  [2024-08-07 03:50:55.931321+00, 2024-08-07 05:...   \n8610  [2024-08-07 13:31:50.711864+00, 2024-08-07 13:...   \n8611  [2024-08-07 09:00:31.581115+00, 2024-08-07 10:...   \n\n                                          stop_earliest  \\\n0     [2024-01-15 19:00:00+00, 2024-01-15 23:00:00+0...   \n1     [2024-01-15 19:00:00+00, 2024-01-15 21:00:00+0...   \n2     [2024-01-16 19:00:00+00, 2024-01-16 23:00:00+0...   \n3     [2024-01-16 00:00:00+00, 2024-01-16 05:00:00+0...   \n4     [2024-01-16 00:00:00+00, 2024-01-15 23:00:00+0...   \n...                                                 ...   \n8607  [2024-08-07 01:00:00+00, 2024-08-07 05:00:00+0...   \n8608  [2024-08-07 01:00:00+00, 2024-08-07 05:00:00+0...   \n8609  [2024-08-07 02:00:00+00, 2024-08-07 05:00:00+0...   \n8610  [2024-08-07 01:00:00+00, 2024-08-07 05:00:00+0...   \n8611  [2024-08-07 02:00:00+00, 2024-08-07 06:00:00+0...   \n\n                                            stop_latest  \\\n0     [2024-01-16 01:00:00+00, 2024-01-16 03:00:00+0...   \n1     [2024-01-16 01:00:00+00, 2024-01-16 04:00:00+0...   \n2     [2024-01-17 01:00:00+00, 2024-01-17 03:00:00+0...   \n3     [2024-01-16 22:00:00+00, 2024-01-16 11:00:00+0...   \n4     [2024-01-16 22:00:00+00, 2024-01-16 07:30:00+0...   \n...                                                 ...   \n8607  [2024-08-07 14:00:00+00, 2024-08-07 11:00:00+0...   \n8608  [2024-08-07 14:00:00+00, 2024-08-07 11:00:00+0...   \n8609  [2024-08-07 20:00:00+00, 2024-08-07 07:00:00+0...   \n8610  [2024-08-07 14:00:00+00, 2024-08-07 11:00:00+0...   \n8611  [2024-08-07 20:00:00+00, 2024-08-07 10:00:00+0...   \n\n                                            current_lat  \\\n0     [55.64641920439919, 55.6669147, 55.6757322, 55...   \n1     [55.64641920439919, 55.662018, 55.658103, 55.6...   \n2     [55.64641920439919, 55.6669147, 55.671473, 55....   \n3     [55.64641920439919, 55.6487125, 55.6163424, 55...   \n4     [55.64641920439919, 55.4520374, 55.4421082, 55...   \n...                                                 ...   \n8607  [60.007627, 59.908689, 60.007627, 59.932623, 5...   \n8608  [60.007627, 60.01175632293701, 59.950832, 59.9...   \n8609  [59.805664, 59.749221, 59.747942, 59.737167777...   \n8610  [60.007627, 59.923836, 59.93422, 59.811373, 59...   \n8611  [59.805664, 59.420838, 59.415188, 59.414098, 5...   \n\n                                            current_lng  difference_distance  \\\n0     [12.15372974969827, 12.5262801, 12.5619711, 12...             0.000000   \n1     [12.15372974969827, 12.360745, 12.368506, 12.3...             0.006369   \n2     [12.15372974969827, 12.5262801, 12.561174, 12....             0.000000   \n3     [12.15372974969827, 12.1307559, 12.3275461, 12...             0.000000   \n4     [12.15372974969827, 12.1856949, 12.1677321, 12...             0.000000   \n...                                                 ...                  ...   \n8607  [11.047135, 10.816701, 11.047135, 10.829719, 1...             0.000000   \n8608  [11.047135, 11.052440556594831, 10.856852, 10....             0.000000   \n8609  [10.290383, 10.26819, 10.291249, 10.3725904226...            -0.039707   \n8610  [11.047135, 10.814451, 10.800594, 10.80755, 10...             0.000000   \n8611  [10.290383, 10.488199, 10.496616, 10.487423, 1...             0.000000   \n\n                                         distance_route  \\\n0     [14.640018023192697, 1.5229312527257717, 0.606...   \n1     [8.16888775040224, 0.4067943329231743, 0.35828...   \n2     [14.640018023192697, 1.400306417188586, 0.2962...   \n3     [0.9126584187089052, 8.020566881548852, 6.6327...   \n4     [13.505545464972036, 0.9852343060237925, 2.970...   \n...                                                 ...   \n8607  [10.531350401060454, 10.531350401060454, 9.159...   \n8608  [0.3399120416382811, 7.9893719361707864, 1.229...   \n8609  [3.9833740421767767, 0.8104231018807364, 2.938...   \n8610  [9.94338251969985, 0.8652097234693148, 8.50777...   \n8611  [27.52809355932868, 0.4910623122012766, 0.3330...   \n\n                                      location_is_depot       date  \n0                              [1, 0, 0, 0, 0, 0, 0, 0] 2024-01-15  \n1                              [1, 0, 0, 0, 0, 0, 0, 0] 2024-01-15  \n2                           [1, 0, 0, 0, 0, 0, 0, 0, 0] 2024-01-16  \n3                                       [1, 0, 0, 0, 1] 2024-01-23  \n4     [1, 0, 0, 0, 0, 0, 0, 0, 0, 0, 0, 0, 0, 0, 0, ... 2024-01-23  \n...                                                 ...        ...  \n8607                        [1, 0, 0, 0, 0, 0, 0, 0, 0] 2024-08-07  \n8608      [1, 0, 0, 0, 0, 0, 0, 0, 0, 0, 0, 0, 0, 0, 0] 2024-08-06  \n8609            [1, 0, 0, 0, 0, 0, 0, 0, 0, 0, 0, 0, 0] 2024-08-06  \n8610                              [1, 0, 0, 0, 0, 0, 0] 2024-08-06  \n8611               [1, 0, 0, 0, 0, 0, 0, 0, 0, 0, 0, 0] 2024-08-07  \n\n[8612 rows x 15 columns]",
      "text/html": "<div>\n<style scoped>\n    .dataframe tbody tr th:only-of-type {\n        vertical-align: middle;\n    }\n\n    .dataframe tbody tr th {\n        vertical-align: top;\n    }\n\n    .dataframe thead th {\n        text-align: right;\n    }\n</style>\n<table border=\"1\" class=\"dataframe\">\n  <thead>\n    <tr style=\"text-align: right;\">\n      <th></th>\n      <th>planned_route_craft</th>\n      <th>actual_route_location</th>\n      <th>driver_id</th>\n      <th>day_of_week</th>\n      <th>last_two_weeks_count</th>\n      <th>location_type_id</th>\n      <th>stop_arrived_at</th>\n      <th>stop_earliest</th>\n      <th>stop_latest</th>\n      <th>current_lat</th>\n      <th>current_lng</th>\n      <th>difference_distance</th>\n      <th>distance_route</th>\n      <th>location_is_depot</th>\n      <th>date</th>\n    </tr>\n  </thead>\n  <tbody>\n    <tr>\n      <th>0</th>\n      <td>[1167, 1405, 1560, 1413, 1391, 1391, 1434, 1269]</td>\n      <td>[1167, 1405, 1560, 1413, 1391, 1391, 1434, 1269]</td>\n      <td>1255</td>\n      <td>Monday</td>\n      <td>8</td>\n      <td>[0, 1, 1, 1, 1, 1, 1, 1]</td>\n      <td>[2024-01-15 22:11:49.528537+00, 2024-01-15 23:...</td>\n      <td>[2024-01-15 19:00:00+00, 2024-01-15 23:00:00+0...</td>\n      <td>[2024-01-16 01:00:00+00, 2024-01-16 03:00:00+0...</td>\n      <td>[55.64641920439919, 55.6669147, 55.6757322, 55...</td>\n      <td>[12.15372974969827, 12.5262801, 12.5619711, 12...</td>\n      <td>0.000000</td>\n      <td>[14.640018023192697, 1.5229312527257717, 0.606...</td>\n      <td>[1, 0, 0, 0, 0, 0, 0, 0]</td>\n      <td>2024-01-15</td>\n    </tr>\n    <tr>\n      <th>1</th>\n      <td>[1167, 1352, 1312, 1356, 1508, 1508, 1621, 1401]</td>\n      <td>[1167, 1312, 1356, 1352, 1508, 1508, 1621, 1401]</td>\n      <td>1195</td>\n      <td>Monday</td>\n      <td>11</td>\n      <td>[0, 1, 1, 1, 1, 1, 1, 1]</td>\n      <td>[2024-01-15 22:58:58.038139+00, 2024-01-15 23:...</td>\n      <td>[2024-01-15 19:00:00+00, 2024-01-15 21:00:00+0...</td>\n      <td>[2024-01-16 01:00:00+00, 2024-01-16 04:00:00+0...</td>\n      <td>[55.64641920439919, 55.662018, 55.658103, 55.6...</td>\n      <td>[12.15372974969827, 12.360745, 12.368506, 12.3...</td>\n      <td>0.006369</td>\n      <td>[8.16888775040224, 0.4067943329231743, 0.35828...</td>\n      <td>[1, 0, 0, 0, 0, 0, 0, 0]</td>\n      <td>2024-01-15</td>\n    </tr>\n    <tr>\n      <th>2</th>\n      <td>[1167, 1405, 1479, 1560, 1413, 1391, 1391, 143...</td>\n      <td>[1167, 1405, 1479, 1560, 1413, 1391, 1391, 143...</td>\n      <td>1255</td>\n      <td>Tuesday</td>\n      <td>7</td>\n      <td>[0, 1, 1, 1, 1, 1, 1, 1, 1]</td>\n      <td>[2024-01-16 22:24:33.871644+00, 2024-01-16 23:...</td>\n      <td>[2024-01-16 19:00:00+00, 2024-01-16 23:00:00+0...</td>\n      <td>[2024-01-17 01:00:00+00, 2024-01-17 03:00:00+0...</td>\n      <td>[55.64641920439919, 55.6669147, 55.671473, 55....</td>\n      <td>[12.15372974969827, 12.5262801, 12.561174, 12....</td>\n      <td>0.000000</td>\n      <td>[14.640018023192697, 1.400306417188586, 0.2962...</td>\n      <td>[1, 0, 0, 0, 0, 0, 0, 0, 0]</td>\n      <td>2024-01-16</td>\n    </tr>\n    <tr>\n      <th>3</th>\n      <td>[1167, 1194, 947, 1797, 1167]</td>\n      <td>[1167, 1194, 947, 1797, 1167]</td>\n      <td>1190</td>\n      <td>Tuesday</td>\n      <td>2</td>\n      <td>[0, 1, 1, 0, 1]</td>\n      <td>[2024-01-23 10:49:20.166468+00, 2024-01-23 10:...</td>\n      <td>[2024-01-16 00:00:00+00, 2024-01-16 05:00:00+0...</td>\n      <td>[2024-01-16 22:00:00+00, 2024-01-16 11:00:00+0...</td>\n      <td>[55.64641920439919, 55.6487125, 55.6163424, 55...</td>\n      <td>[12.15372974969827, 12.1307559, 12.3275461, 12...</td>\n      <td>0.000000</td>\n      <td>[0.9126584187089052, 8.020566881548852, 6.6327...</td>\n      <td>[1, 0, 0, 0, 1]</td>\n      <td>2024-01-23</td>\n    </tr>\n    <tr>\n      <th>4</th>\n      <td>[1167, 696, 662, 615, 614, 628, 628, 634, 633,...</td>\n      <td>[1167, 696, 662, 615, 614, 628, 628, 634, 633,...</td>\n      <td>1178</td>\n      <td>Tuesday</td>\n      <td>8</td>\n      <td>[0, 1, 1, 1, 1, 1, 1, 1, 1, 1, 1, 1, 1, 1, 1, ...</td>\n      <td>[2024-01-23 10:49:20.775856+00, 2024-01-23 10:...</td>\n      <td>[2024-01-16 00:00:00+00, 2024-01-15 23:00:00+0...</td>\n      <td>[2024-01-16 22:00:00+00, 2024-01-16 07:30:00+0...</td>\n      <td>[55.64641920439919, 55.4520374, 55.4421082, 55...</td>\n      <td>[12.15372974969827, 12.1856949, 12.1677321, 12...</td>\n      <td>0.000000</td>\n      <td>[13.505545464972036, 0.9852343060237925, 2.970...</td>\n      <td>[1, 0, 0, 0, 0, 0, 0, 0, 0, 0, 0, 0, 0, 0, 0, ...</td>\n      <td>2024-01-23</td>\n    </tr>\n    <tr>\n      <th>...</th>\n      <td>...</td>\n      <td>...</td>\n      <td>...</td>\n      <td>...</td>\n      <td>...</td>\n      <td>...</td>\n      <td>...</td>\n      <td>...</td>\n      <td>...</td>\n      <td>...</td>\n      <td>...</td>\n      <td>...</td>\n      <td>...</td>\n      <td>...</td>\n      <td>...</td>\n    </tr>\n    <tr>\n      <th>8607</th>\n      <td>[10076, 7957, 10076, 9131, 6485, 6362, 6086, 5...</td>\n      <td>[10076, 7957, 10076, 9131, 6485, 6362, 6086, 5...</td>\n      <td>274</td>\n      <td>Wednesday</td>\n      <td>1</td>\n      <td>[0, 1, 0, 1, 1, 1, 1, 1, 1]</td>\n      <td>[2024-08-07 15:24:29.958093+00, 2024-08-07 15:...</td>\n      <td>[2024-08-07 01:00:00+00, 2024-08-07 05:00:00+0...</td>\n      <td>[2024-08-07 14:00:00+00, 2024-08-07 11:00:00+0...</td>\n      <td>[60.007627, 59.908689, 60.007627, 59.932623, 5...</td>\n      <td>[11.047135, 10.816701, 11.047135, 10.829719, 1...</td>\n      <td>0.000000</td>\n      <td>[10.531350401060454, 10.531350401060454, 9.159...</td>\n      <td>[1, 0, 0, 0, 0, 0, 0, 0, 0]</td>\n      <td>2024-08-07</td>\n    </tr>\n    <tr>\n      <th>8608</th>\n      <td>[10076, 10099, 9596, 9507, 9158, 8853, 9640, 8...</td>\n      <td>[10076, 10099, 9596, 9507, 9158, 8853, 9640, 8...</td>\n      <td>276</td>\n      <td>Tuesday</td>\n      <td>1</td>\n      <td>[0, 1, 1, 1, 1, 1, 1, 1, 1, 1, 1, 1, 1, 1, 1]</td>\n      <td>[2024-08-07 13:31:52.955936+00, 2024-08-07 13:...</td>\n      <td>[2024-08-07 01:00:00+00, 2024-08-07 05:00:00+0...</td>\n      <td>[2024-08-07 14:00:00+00, 2024-08-07 11:00:00+0...</td>\n      <td>[60.007627, 60.01175632293701, 59.950832, 59.9...</td>\n      <td>[11.047135, 11.052440556594831, 10.856852, 10....</td>\n      <td>0.000000</td>\n      <td>[0.3399120416382811, 7.9893719361707864, 1.229...</td>\n      <td>[1, 0, 0, 0, 0, 0, 0, 0, 0, 0, 0, 0, 0, 0, 0]</td>\n      <td>2024-08-06</td>\n    </tr>\n    <tr>\n      <th>8609</th>\n      <td>[7166, 6718, 6699, 6495, 6560, 6558, 6756, 653...</td>\n      <td>[7166, 6718, 6699, 6495, 6560, 6558, 6756, 653...</td>\n      <td>968</td>\n      <td>Tuesday</td>\n      <td>2</td>\n      <td>[0, 1, 1, 1, 1, 1, 1, 0, 1, 1, 1, 1, 1]</td>\n      <td>[2024-08-07 03:50:55.931321+00, 2024-08-07 05:...</td>\n      <td>[2024-08-07 02:00:00+00, 2024-08-07 05:00:00+0...</td>\n      <td>[2024-08-07 20:00:00+00, 2024-08-07 07:00:00+0...</td>\n      <td>[59.805664, 59.749221, 59.747942, 59.737167777...</td>\n      <td>[10.290383, 10.26819, 10.291249, 10.3725904226...</td>\n      <td>-0.039707</td>\n      <td>[3.9833740421767767, 0.8104231018807364, 2.938...</td>\n      <td>[1, 0, 0, 0, 0, 0, 0, 0, 0, 0, 0, 0, 0]</td>\n      <td>2024-08-06</td>\n    </tr>\n    <tr>\n      <th>8610</th>\n      <td>[10076, 8785, 9172, 7204, 6955, 5902, 7045]</td>\n      <td>[10076, 8785, 9172, 7204, 6955, 5902, 7045]</td>\n      <td>877</td>\n      <td>Tuesday</td>\n      <td>1</td>\n      <td>[0, 1, 1, 1, 1, 1, 1]</td>\n      <td>[2024-08-07 13:31:50.711864+00, 2024-08-07 13:...</td>\n      <td>[2024-08-07 01:00:00+00, 2024-08-07 05:00:00+0...</td>\n      <td>[2024-08-07 14:00:00+00, 2024-08-07 11:00:00+0...</td>\n      <td>[60.007627, 59.923836, 59.93422, 59.811373, 59...</td>\n      <td>[11.047135, 10.814451, 10.800594, 10.80755, 10...</td>\n      <td>0.000000</td>\n      <td>[9.94338251969985, 0.8652097234693148, 8.50777...</td>\n      <td>[1, 0, 0, 0, 0, 0, 0]</td>\n      <td>2024-08-06</td>\n    </tr>\n    <tr>\n      <th>8611</th>\n      <td>[7166, 5428, 5394, 5385, 5347, 4633, 4350, 431...</td>\n      <td>[7166, 5428, 5394, 5385, 5347, 4633, 4350, 431...</td>\n      <td>723</td>\n      <td>Wednesday</td>\n      <td>1</td>\n      <td>[0, 1, 1, 1, 1, 1, 1, 1, 1, 1, 0, 1]</td>\n      <td>[2024-08-07 09:00:31.581115+00, 2024-08-07 10:...</td>\n      <td>[2024-08-07 02:00:00+00, 2024-08-07 06:00:00+0...</td>\n      <td>[2024-08-07 20:00:00+00, 2024-08-07 10:00:00+0...</td>\n      <td>[59.805664, 59.420838, 59.415188, 59.414098, 5...</td>\n      <td>[10.290383, 10.488199, 10.496616, 10.487423, 1...</td>\n      <td>0.000000</td>\n      <td>[27.52809355932868, 0.4910623122012766, 0.3330...</td>\n      <td>[1, 0, 0, 0, 0, 0, 0, 0, 0, 0, 0, 0]</td>\n      <td>2024-08-07</td>\n    </tr>\n  </tbody>\n</table>\n<p>8612 rows × 15 columns</p>\n</div>"
     },
     "execution_count": 653,
     "metadata": {},
     "output_type": "execute_result"
    }
   ],
   "source": [
    "import statistics\n",
    "completed_routes_df = pd.DataFrame(columns=['planned_route_craft', 'actual_route_location', 'driver_id', 'day_of_week', 'distance_route', 'last_two_weeks_count', 'stop_arrived_at', 'stop_earliest', 'stop_latest', 'current_lat', 'current_lng', 'location_type_id', 'location_is_depot', 'date'])\n",
    "uncompleted_routes_df = pd.DataFrame(columns=['planned_route_craft', 'actual_route_location', 'driver_id', 'day_of_week', 'distance_route', 'last_two_weeks_count', 'stop_arrived_at', 'stop_earliest', 'stop_latest', 'current_lat', 'current_lng', 'location_type_id', 'location_is_depot', 'date'])\n",
    "#11700795\n",
    "scores = []\n",
    "edit_distances = []\n",
    "completed_routes_list = []\n",
    "uncompleted_routes_list = []\n",
    "for i in range(len(planned_routes_list)):\n",
    "    editDistance = minDistance(planned_routes_list[i], actual_routes_list[i]) / len(planned_routes_list[i])\n",
    "    score = calculate_route_quality_score(planned_routes_list[i], actual_routes_list[i])\n",
    "    scores.append(score)\n",
    "    edit_distances.append(editDistance)\n",
    "\n",
    "    # if editDistance > 0.05 and score < 0.95 and planned_routes['difference_distance'].iloc[i] > 0.01:\n",
    "    if editDistance <= 0.3 and score >= 0.7 and planned_routes['difference_distance'].iloc[i] <= 0.3:\n",
    "    # if editDistance <= 0 and score >= 1 and planned_routes['difference_distance'].iloc[i] <= 0:\n",
    "        completed_routes_list.append(planned_routes.iloc[i].to_dict())\n",
    "    else:\n",
    "        uncompleted_routes_list.append(planned_routes.iloc[i].to_dict())\n",
    "\n",
    "# Convert the lists to DataFrames\n",
    "completed_routes_df = pd.DataFrame(completed_routes_list)\n",
    "uncompleted_routes_df = pd.DataFrame(uncompleted_routes_list)\n",
    "\n",
    "print(len(completed_routes_df), len(uncompleted_routes_df))\n",
    "completed_routes_df"
   ],
   "metadata": {
    "collapsed": false,
    "pycharm": {
     "name": "#%%\n"
    }
   }
  },
  {
   "cell_type": "code",
   "execution_count": 654,
   "outputs": [
    {
     "name": "stdout",
     "output_type": "stream",
     "text": [
      "Total number of drivers 379\n"
     ]
    },
    {
     "data": {
      "text/plain": "                                    planned_route_craft  \\\n0      [1167, 1405, 1560, 1413, 1391, 1391, 1434, 1269]   \n1      [1167, 1352, 1312, 1356, 1508, 1508, 1621, 1401]   \n2     [1167, 1405, 1479, 1560, 1413, 1391, 1391, 143...   \n3                         [1167, 1194, 947, 1797, 1167]   \n4     [1167, 696, 662, 615, 614, 628, 628, 634, 633,...   \n...                                                 ...   \n8607  [10076, 7957, 10076, 9131, 6485, 6362, 6086, 5...   \n8608  [10076, 10099, 9596, 9507, 9158, 8853, 9640, 8...   \n8609  [7166, 6718, 6699, 6495, 6560, 6558, 6756, 653...   \n8610        [10076, 8785, 9172, 7204, 6955, 5902, 7045]   \n8611  [7166, 5428, 5394, 5385, 5347, 4633, 4350, 431...   \n\n                                  actual_route_location  driver_id  \\\n0      [1167, 1405, 1560, 1413, 1391, 1391, 1434, 1269]       1255   \n1      [1167, 1312, 1356, 1352, 1508, 1508, 1621, 1401]       1195   \n2     [1167, 1405, 1479, 1560, 1413, 1391, 1391, 143...       1255   \n3                         [1167, 1194, 947, 1797, 1167]       1190   \n4     [1167, 696, 662, 615, 614, 628, 628, 634, 633,...       1178   \n...                                                 ...        ...   \n8607  [10076, 7957, 10076, 9131, 6485, 6362, 6086, 5...        274   \n8608  [10076, 10099, 9596, 9507, 9158, 8853, 9640, 8...        276   \n8609  [7166, 6718, 6699, 6495, 6560, 6558, 6756, 653...        968   \n8610        [10076, 8785, 9172, 7204, 6955, 5902, 7045]        877   \n8611  [7166, 5428, 5394, 5385, 5347, 4633, 4350, 431...        723   \n\n     day_of_week  last_two_weeks_count  \\\n0         Monday                     8   \n1         Monday                    11   \n2        Tuesday                     7   \n3        Tuesday                     2   \n4        Tuesday                     8   \n...          ...                   ...   \n8607   Wednesday                     1   \n8608     Tuesday                     1   \n8609     Tuesday                     2   \n8610     Tuesday                     1   \n8611   Wednesday                     1   \n\n                                       location_type_id  \\\n0                              [0, 1, 1, 1, 1, 1, 1, 1]   \n1                              [0, 1, 1, 1, 1, 1, 1, 1]   \n2                           [0, 1, 1, 1, 1, 1, 1, 1, 1]   \n3                                       [0, 1, 1, 0, 1]   \n4     [0, 1, 1, 1, 1, 1, 1, 1, 1, 1, 1, 1, 1, 1, 1, ...   \n...                                                 ...   \n8607                        [0, 1, 0, 1, 1, 1, 1, 1, 1]   \n8608      [0, 1, 1, 1, 1, 1, 1, 1, 1, 1, 1, 1, 1, 1, 1]   \n8609            [0, 1, 1, 1, 1, 1, 1, 0, 1, 1, 1, 1, 1]   \n8610                              [0, 1, 1, 1, 1, 1, 1]   \n8611               [0, 1, 1, 1, 1, 1, 1, 1, 1, 1, 0, 1]   \n\n                                        stop_arrived_at  \\\n0     [2024-01-15 22:11:49.528537+00, 2024-01-15 23:...   \n1     [2024-01-15 22:58:58.038139+00, 2024-01-15 23:...   \n2     [2024-01-16 22:24:33.871644+00, 2024-01-16 23:...   \n3     [2024-01-23 10:49:20.166468+00, 2024-01-23 10:...   \n4     [2024-01-23 10:49:20.775856+00, 2024-01-23 10:...   \n...                                                 ...   \n8607  [2024-08-07 15:24:29.958093+00, 2024-08-07 15:...   \n8608  [2024-08-07 13:31:52.955936+00, 2024-08-07 13:...   \n8609  [2024-08-07 03:50:55.931321+00, 2024-08-07 05:...   \n8610  [2024-08-07 13:31:50.711864+00, 2024-08-07 13:...   \n8611  [2024-08-07 09:00:31.581115+00, 2024-08-07 10:...   \n\n                                          stop_earliest  \\\n0     [2024-01-15 19:00:00+00, 2024-01-15 23:00:00+0...   \n1     [2024-01-15 19:00:00+00, 2024-01-15 21:00:00+0...   \n2     [2024-01-16 19:00:00+00, 2024-01-16 23:00:00+0...   \n3     [2024-01-16 00:00:00+00, 2024-01-16 05:00:00+0...   \n4     [2024-01-16 00:00:00+00, 2024-01-15 23:00:00+0...   \n...                                                 ...   \n8607  [2024-08-07 01:00:00+00, 2024-08-07 05:00:00+0...   \n8608  [2024-08-07 01:00:00+00, 2024-08-07 05:00:00+0...   \n8609  [2024-08-07 02:00:00+00, 2024-08-07 05:00:00+0...   \n8610  [2024-08-07 01:00:00+00, 2024-08-07 05:00:00+0...   \n8611  [2024-08-07 02:00:00+00, 2024-08-07 06:00:00+0...   \n\n                                            stop_latest  \\\n0     [2024-01-16 01:00:00+00, 2024-01-16 03:00:00+0...   \n1     [2024-01-16 01:00:00+00, 2024-01-16 04:00:00+0...   \n2     [2024-01-17 01:00:00+00, 2024-01-17 03:00:00+0...   \n3     [2024-01-16 22:00:00+00, 2024-01-16 11:00:00+0...   \n4     [2024-01-16 22:00:00+00, 2024-01-16 07:30:00+0...   \n...                                                 ...   \n8607  [2024-08-07 14:00:00+00, 2024-08-07 11:00:00+0...   \n8608  [2024-08-07 14:00:00+00, 2024-08-07 11:00:00+0...   \n8609  [2024-08-07 20:00:00+00, 2024-08-07 07:00:00+0...   \n8610  [2024-08-07 14:00:00+00, 2024-08-07 11:00:00+0...   \n8611  [2024-08-07 20:00:00+00, 2024-08-07 10:00:00+0...   \n\n                                            current_lat  \\\n0     [55.64641920439919, 55.6669147, 55.6757322, 55...   \n1     [55.64641920439919, 55.662018, 55.658103, 55.6...   \n2     [55.64641920439919, 55.6669147, 55.671473, 55....   \n3     [55.64641920439919, 55.6487125, 55.6163424, 55...   \n4     [55.64641920439919, 55.4520374, 55.4421082, 55...   \n...                                                 ...   \n8607  [60.007627, 59.908689, 60.007627, 59.932623, 5...   \n8608  [60.007627, 60.01175632293701, 59.950832, 59.9...   \n8609  [59.805664, 59.749221, 59.747942, 59.737167777...   \n8610  [60.007627, 59.923836, 59.93422, 59.811373, 59...   \n8611  [59.805664, 59.420838, 59.415188, 59.414098, 5...   \n\n                                            current_lng  difference_distance  \\\n0     [12.15372974969827, 12.5262801, 12.5619711, 12...             0.000000   \n1     [12.15372974969827, 12.360745, 12.368506, 12.3...             0.006369   \n2     [12.15372974969827, 12.5262801, 12.561174, 12....             0.000000   \n3     [12.15372974969827, 12.1307559, 12.3275461, 12...             0.000000   \n4     [12.15372974969827, 12.1856949, 12.1677321, 12...             0.000000   \n...                                                 ...                  ...   \n8607  [11.047135, 10.816701, 11.047135, 10.829719, 1...             0.000000   \n8608  [11.047135, 11.052440556594831, 10.856852, 10....             0.000000   \n8609  [10.290383, 10.26819, 10.291249, 10.3725904226...            -0.039707   \n8610  [11.047135, 10.814451, 10.800594, 10.80755, 10...             0.000000   \n8611  [10.290383, 10.488199, 10.496616, 10.487423, 1...             0.000000   \n\n                                         distance_route  \\\n0     [14.640018023192697, 1.5229312527257717, 0.606...   \n1     [8.16888775040224, 0.4067943329231743, 0.35828...   \n2     [14.640018023192697, 1.400306417188586, 0.2962...   \n3     [0.9126584187089052, 8.020566881548852, 6.6327...   \n4     [13.505545464972036, 0.9852343060237925, 2.970...   \n...                                                 ...   \n8607  [10.531350401060454, 10.531350401060454, 9.159...   \n8608  [0.3399120416382811, 7.9893719361707864, 1.229...   \n8609  [3.9833740421767767, 0.8104231018807364, 2.938...   \n8610  [9.94338251969985, 0.8652097234693148, 8.50777...   \n8611  [27.52809355932868, 0.4910623122012766, 0.3330...   \n\n                                      location_is_depot       date  \\\n0                              [1, 0, 0, 0, 0, 0, 0, 0] 2024-01-15   \n1                              [1, 0, 0, 0, 0, 0, 0, 0] 2024-01-15   \n2                           [1, 0, 0, 0, 0, 0, 0, 0, 0] 2024-01-16   \n3                                       [1, 0, 0, 0, 1] 2024-01-23   \n4     [1, 0, 0, 0, 0, 0, 0, 0, 0, 0, 0, 0, 0, 0, 0, ... 2024-01-23   \n...                                                 ...        ...   \n8607                        [1, 0, 0, 0, 0, 0, 0, 0, 0] 2024-08-07   \n8608      [1, 0, 0, 0, 0, 0, 0, 0, 0, 0, 0, 0, 0, 0, 0] 2024-08-06   \n8609            [1, 0, 0, 0, 0, 0, 0, 0, 0, 0, 0, 0, 0] 2024-08-06   \n8610                              [1, 0, 0, 0, 0, 0, 0] 2024-08-06   \n8611               [1, 0, 0, 0, 0, 0, 0, 0, 0, 0, 0, 0] 2024-08-07   \n\n      driver_id_sorted  \n0                    1  \n1                    2  \n2                    1  \n3                    3  \n4                    4  \n...                ...  \n8607               157  \n8608               194  \n8609               305  \n8610               137  \n8611               113  \n\n[8612 rows x 16 columns]",
      "text/html": "<div>\n<style scoped>\n    .dataframe tbody tr th:only-of-type {\n        vertical-align: middle;\n    }\n\n    .dataframe tbody tr th {\n        vertical-align: top;\n    }\n\n    .dataframe thead th {\n        text-align: right;\n    }\n</style>\n<table border=\"1\" class=\"dataframe\">\n  <thead>\n    <tr style=\"text-align: right;\">\n      <th></th>\n      <th>planned_route_craft</th>\n      <th>actual_route_location</th>\n      <th>driver_id</th>\n      <th>day_of_week</th>\n      <th>last_two_weeks_count</th>\n      <th>location_type_id</th>\n      <th>stop_arrived_at</th>\n      <th>stop_earliest</th>\n      <th>stop_latest</th>\n      <th>current_lat</th>\n      <th>current_lng</th>\n      <th>difference_distance</th>\n      <th>distance_route</th>\n      <th>location_is_depot</th>\n      <th>date</th>\n      <th>driver_id_sorted</th>\n    </tr>\n  </thead>\n  <tbody>\n    <tr>\n      <th>0</th>\n      <td>[1167, 1405, 1560, 1413, 1391, 1391, 1434, 1269]</td>\n      <td>[1167, 1405, 1560, 1413, 1391, 1391, 1434, 1269]</td>\n      <td>1255</td>\n      <td>Monday</td>\n      <td>8</td>\n      <td>[0, 1, 1, 1, 1, 1, 1, 1]</td>\n      <td>[2024-01-15 22:11:49.528537+00, 2024-01-15 23:...</td>\n      <td>[2024-01-15 19:00:00+00, 2024-01-15 23:00:00+0...</td>\n      <td>[2024-01-16 01:00:00+00, 2024-01-16 03:00:00+0...</td>\n      <td>[55.64641920439919, 55.6669147, 55.6757322, 55...</td>\n      <td>[12.15372974969827, 12.5262801, 12.5619711, 12...</td>\n      <td>0.000000</td>\n      <td>[14.640018023192697, 1.5229312527257717, 0.606...</td>\n      <td>[1, 0, 0, 0, 0, 0, 0, 0]</td>\n      <td>2024-01-15</td>\n      <td>1</td>\n    </tr>\n    <tr>\n      <th>1</th>\n      <td>[1167, 1352, 1312, 1356, 1508, 1508, 1621, 1401]</td>\n      <td>[1167, 1312, 1356, 1352, 1508, 1508, 1621, 1401]</td>\n      <td>1195</td>\n      <td>Monday</td>\n      <td>11</td>\n      <td>[0, 1, 1, 1, 1, 1, 1, 1]</td>\n      <td>[2024-01-15 22:58:58.038139+00, 2024-01-15 23:...</td>\n      <td>[2024-01-15 19:00:00+00, 2024-01-15 21:00:00+0...</td>\n      <td>[2024-01-16 01:00:00+00, 2024-01-16 04:00:00+0...</td>\n      <td>[55.64641920439919, 55.662018, 55.658103, 55.6...</td>\n      <td>[12.15372974969827, 12.360745, 12.368506, 12.3...</td>\n      <td>0.006369</td>\n      <td>[8.16888775040224, 0.4067943329231743, 0.35828...</td>\n      <td>[1, 0, 0, 0, 0, 0, 0, 0]</td>\n      <td>2024-01-15</td>\n      <td>2</td>\n    </tr>\n    <tr>\n      <th>2</th>\n      <td>[1167, 1405, 1479, 1560, 1413, 1391, 1391, 143...</td>\n      <td>[1167, 1405, 1479, 1560, 1413, 1391, 1391, 143...</td>\n      <td>1255</td>\n      <td>Tuesday</td>\n      <td>7</td>\n      <td>[0, 1, 1, 1, 1, 1, 1, 1, 1]</td>\n      <td>[2024-01-16 22:24:33.871644+00, 2024-01-16 23:...</td>\n      <td>[2024-01-16 19:00:00+00, 2024-01-16 23:00:00+0...</td>\n      <td>[2024-01-17 01:00:00+00, 2024-01-17 03:00:00+0...</td>\n      <td>[55.64641920439919, 55.6669147, 55.671473, 55....</td>\n      <td>[12.15372974969827, 12.5262801, 12.561174, 12....</td>\n      <td>0.000000</td>\n      <td>[14.640018023192697, 1.400306417188586, 0.2962...</td>\n      <td>[1, 0, 0, 0, 0, 0, 0, 0, 0]</td>\n      <td>2024-01-16</td>\n      <td>1</td>\n    </tr>\n    <tr>\n      <th>3</th>\n      <td>[1167, 1194, 947, 1797, 1167]</td>\n      <td>[1167, 1194, 947, 1797, 1167]</td>\n      <td>1190</td>\n      <td>Tuesday</td>\n      <td>2</td>\n      <td>[0, 1, 1, 0, 1]</td>\n      <td>[2024-01-23 10:49:20.166468+00, 2024-01-23 10:...</td>\n      <td>[2024-01-16 00:00:00+00, 2024-01-16 05:00:00+0...</td>\n      <td>[2024-01-16 22:00:00+00, 2024-01-16 11:00:00+0...</td>\n      <td>[55.64641920439919, 55.6487125, 55.6163424, 55...</td>\n      <td>[12.15372974969827, 12.1307559, 12.3275461, 12...</td>\n      <td>0.000000</td>\n      <td>[0.9126584187089052, 8.020566881548852, 6.6327...</td>\n      <td>[1, 0, 0, 0, 1]</td>\n      <td>2024-01-23</td>\n      <td>3</td>\n    </tr>\n    <tr>\n      <th>4</th>\n      <td>[1167, 696, 662, 615, 614, 628, 628, 634, 633,...</td>\n      <td>[1167, 696, 662, 615, 614, 628, 628, 634, 633,...</td>\n      <td>1178</td>\n      <td>Tuesday</td>\n      <td>8</td>\n      <td>[0, 1, 1, 1, 1, 1, 1, 1, 1, 1, 1, 1, 1, 1, 1, ...</td>\n      <td>[2024-01-23 10:49:20.775856+00, 2024-01-23 10:...</td>\n      <td>[2024-01-16 00:00:00+00, 2024-01-15 23:00:00+0...</td>\n      <td>[2024-01-16 22:00:00+00, 2024-01-16 07:30:00+0...</td>\n      <td>[55.64641920439919, 55.4520374, 55.4421082, 55...</td>\n      <td>[12.15372974969827, 12.1856949, 12.1677321, 12...</td>\n      <td>0.000000</td>\n      <td>[13.505545464972036, 0.9852343060237925, 2.970...</td>\n      <td>[1, 0, 0, 0, 0, 0, 0, 0, 0, 0, 0, 0, 0, 0, 0, ...</td>\n      <td>2024-01-23</td>\n      <td>4</td>\n    </tr>\n    <tr>\n      <th>...</th>\n      <td>...</td>\n      <td>...</td>\n      <td>...</td>\n      <td>...</td>\n      <td>...</td>\n      <td>...</td>\n      <td>...</td>\n      <td>...</td>\n      <td>...</td>\n      <td>...</td>\n      <td>...</td>\n      <td>...</td>\n      <td>...</td>\n      <td>...</td>\n      <td>...</td>\n      <td>...</td>\n    </tr>\n    <tr>\n      <th>8607</th>\n      <td>[10076, 7957, 10076, 9131, 6485, 6362, 6086, 5...</td>\n      <td>[10076, 7957, 10076, 9131, 6485, 6362, 6086, 5...</td>\n      <td>274</td>\n      <td>Wednesday</td>\n      <td>1</td>\n      <td>[0, 1, 0, 1, 1, 1, 1, 1, 1]</td>\n      <td>[2024-08-07 15:24:29.958093+00, 2024-08-07 15:...</td>\n      <td>[2024-08-07 01:00:00+00, 2024-08-07 05:00:00+0...</td>\n      <td>[2024-08-07 14:00:00+00, 2024-08-07 11:00:00+0...</td>\n      <td>[60.007627, 59.908689, 60.007627, 59.932623, 5...</td>\n      <td>[11.047135, 10.816701, 11.047135, 10.829719, 1...</td>\n      <td>0.000000</td>\n      <td>[10.531350401060454, 10.531350401060454, 9.159...</td>\n      <td>[1, 0, 0, 0, 0, 0, 0, 0, 0]</td>\n      <td>2024-08-07</td>\n      <td>157</td>\n    </tr>\n    <tr>\n      <th>8608</th>\n      <td>[10076, 10099, 9596, 9507, 9158, 8853, 9640, 8...</td>\n      <td>[10076, 10099, 9596, 9507, 9158, 8853, 9640, 8...</td>\n      <td>276</td>\n      <td>Tuesday</td>\n      <td>1</td>\n      <td>[0, 1, 1, 1, 1, 1, 1, 1, 1, 1, 1, 1, 1, 1, 1]</td>\n      <td>[2024-08-07 13:31:52.955936+00, 2024-08-07 13:...</td>\n      <td>[2024-08-07 01:00:00+00, 2024-08-07 05:00:00+0...</td>\n      <td>[2024-08-07 14:00:00+00, 2024-08-07 11:00:00+0...</td>\n      <td>[60.007627, 60.01175632293701, 59.950832, 59.9...</td>\n      <td>[11.047135, 11.052440556594831, 10.856852, 10....</td>\n      <td>0.000000</td>\n      <td>[0.3399120416382811, 7.9893719361707864, 1.229...</td>\n      <td>[1, 0, 0, 0, 0, 0, 0, 0, 0, 0, 0, 0, 0, 0, 0]</td>\n      <td>2024-08-06</td>\n      <td>194</td>\n    </tr>\n    <tr>\n      <th>8609</th>\n      <td>[7166, 6718, 6699, 6495, 6560, 6558, 6756, 653...</td>\n      <td>[7166, 6718, 6699, 6495, 6560, 6558, 6756, 653...</td>\n      <td>968</td>\n      <td>Tuesday</td>\n      <td>2</td>\n      <td>[0, 1, 1, 1, 1, 1, 1, 0, 1, 1, 1, 1, 1]</td>\n      <td>[2024-08-07 03:50:55.931321+00, 2024-08-07 05:...</td>\n      <td>[2024-08-07 02:00:00+00, 2024-08-07 05:00:00+0...</td>\n      <td>[2024-08-07 20:00:00+00, 2024-08-07 07:00:00+0...</td>\n      <td>[59.805664, 59.749221, 59.747942, 59.737167777...</td>\n      <td>[10.290383, 10.26819, 10.291249, 10.3725904226...</td>\n      <td>-0.039707</td>\n      <td>[3.9833740421767767, 0.8104231018807364, 2.938...</td>\n      <td>[1, 0, 0, 0, 0, 0, 0, 0, 0, 0, 0, 0, 0]</td>\n      <td>2024-08-06</td>\n      <td>305</td>\n    </tr>\n    <tr>\n      <th>8610</th>\n      <td>[10076, 8785, 9172, 7204, 6955, 5902, 7045]</td>\n      <td>[10076, 8785, 9172, 7204, 6955, 5902, 7045]</td>\n      <td>877</td>\n      <td>Tuesday</td>\n      <td>1</td>\n      <td>[0, 1, 1, 1, 1, 1, 1]</td>\n      <td>[2024-08-07 13:31:50.711864+00, 2024-08-07 13:...</td>\n      <td>[2024-08-07 01:00:00+00, 2024-08-07 05:00:00+0...</td>\n      <td>[2024-08-07 14:00:00+00, 2024-08-07 11:00:00+0...</td>\n      <td>[60.007627, 59.923836, 59.93422, 59.811373, 59...</td>\n      <td>[11.047135, 10.814451, 10.800594, 10.80755, 10...</td>\n      <td>0.000000</td>\n      <td>[9.94338251969985, 0.8652097234693148, 8.50777...</td>\n      <td>[1, 0, 0, 0, 0, 0, 0]</td>\n      <td>2024-08-06</td>\n      <td>137</td>\n    </tr>\n    <tr>\n      <th>8611</th>\n      <td>[7166, 5428, 5394, 5385, 5347, 4633, 4350, 431...</td>\n      <td>[7166, 5428, 5394, 5385, 5347, 4633, 4350, 431...</td>\n      <td>723</td>\n      <td>Wednesday</td>\n      <td>1</td>\n      <td>[0, 1, 1, 1, 1, 1, 1, 1, 1, 1, 0, 1]</td>\n      <td>[2024-08-07 09:00:31.581115+00, 2024-08-07 10:...</td>\n      <td>[2024-08-07 02:00:00+00, 2024-08-07 06:00:00+0...</td>\n      <td>[2024-08-07 20:00:00+00, 2024-08-07 10:00:00+0...</td>\n      <td>[59.805664, 59.420838, 59.415188, 59.414098, 5...</td>\n      <td>[10.290383, 10.488199, 10.496616, 10.487423, 1...</td>\n      <td>0.000000</td>\n      <td>[27.52809355932868, 0.4910623122012766, 0.3330...</td>\n      <td>[1, 0, 0, 0, 0, 0, 0, 0, 0, 0, 0, 0]</td>\n      <td>2024-08-07</td>\n      <td>113</td>\n    </tr>\n  </tbody>\n</table>\n<p>8612 rows × 16 columns</p>\n</div>"
     },
     "execution_count": 654,
     "metadata": {},
     "output_type": "execute_result"
    }
   ],
   "source": [
    "drivers_dic = {}\n",
    "k = 1\n",
    "for driver in completed_routes_df['driver_id']:\n",
    "    if driver not in drivers_dic:\n",
    "        drivers_dic[driver] = k\n",
    "        k += 1\n",
    "print('Total number of drivers', len(drivers_dic))\n",
    "total_drivers = len(drivers_dic)\n",
    "encoding_drivers = []\n",
    "for driver in completed_routes_df['driver_id']:\n",
    "    encoding_drivers.append(drivers_dic[driver])\n",
    "#\n",
    "completed_routes_df['driver_id_sorted'] = encoding_drivers\n",
    "# final_routes = pd.concat([final_routes, pd.get_dummies(final_routes['driver_id_sorted'], prefix='encoding_drivers')], axis=1)\n",
    "completed_routes_df"
   ],
   "metadata": {
    "collapsed": false,
    "pycharm": {
     "name": "#%%\n"
    }
   }
  },
  {
   "cell_type": "code",
   "execution_count": 655,
   "outputs": [
    {
     "name": "stdout",
     "output_type": "stream",
     "text": [
      "Number of rows on Sunday: 620\n"
     ]
    }
   ],
   "source": [
    "sunday_count = completed_routes_df[completed_routes_df[\"day_of_week\"] == \"Sunday\"].shape[0]\n",
    "print(f\"Number of rows on Sunday: {sunday_count}\")"
   ],
   "metadata": {
    "collapsed": false,
    "pycharm": {
     "name": "#%%\n"
    }
   }
  },
  {
   "cell_type": "code",
   "execution_count": 656,
   "outputs": [],
   "source": [
    "\n",
    "# completed_routes_list_unique = [array for i, array in enumerate(completed_routes_list) if array not in completed_routes_list[:i]]\n",
    "# uncompleted_routes_list_unique = [array for i, array in enumerate(uncompleted_routes_list) if array not in uncompleted_routes_list[:i]]\n",
    "# len(completed_routes_list_unique), len (uncompleted_routes_list_unique)\n",
    "# len(completed_routes_df), len(uncompleted_routes_df)"
   ],
   "metadata": {
    "collapsed": false,
    "pycharm": {
     "name": "#%%\n"
    }
   }
  },
  {
   "cell_type": "code",
   "execution_count": 732,
   "outputs": [
    {
     "data": {
      "text/plain": "                                                  routes  \\\n0       [1167, 1405, 1560, 1413, 1391, 1391, 1434, 1269]   \n1       [1167, 1352, 1312, 1356, 1508, 1508, 1621, 1401]   \n2      [1167, 1405, 1479, 1560, 1413, 1391, 1391, 143...   \n3                          [1167, 1194, 947, 1797, 1167]   \n4      [1167, 696, 662, 615, 614, 628, 628, 634, 633,...   \n...                                                  ...   \n18557  [3162, 3243, 3295, 3295, 3280, 3249, 3281, 329...   \n18558         [1167, 1174, 1167, 2231, 1970, 1949, 1954]   \n18559         [11372, 11173, 11150, 11158, 11157, 11154]   \n18560  [3162, 3240, 3295, 3295, 3243, 3280, 3327, 332...   \n18561                           [7166, 7127, 7166, 9527]   \n\n                                           actual_routes  driver_id  \\\n0       [1167, 1405, 1560, 1413, 1391, 1391, 1434, 1269]       1255   \n1       [1167, 1312, 1356, 1352, 1508, 1508, 1621, 1401]       1195   \n2      [1167, 1405, 1479, 1560, 1413, 1391, 1391, 143...       1255   \n3                          [1167, 1194, 947, 1797, 1167]       1190   \n4      [1167, 696, 662, 615, 614, 628, 628, 634, 633,...       1178   \n...                                                  ...        ...   \n18557  [3162, 3243, 3295, 3295, 3281, 3296, 3273, 327...       1520   \n18558         [1167, 1954, 1174, 1167, 1949, 2231, 1970]       1624   \n18559         [11372, 11173, 11154, 11158, 11150, 11157]        441   \n18560  [3162, 3295, 3243, 3295, 3240, 3327, 3258, 324...       1520   \n18561                           [7166, 7166, 7127, 9527]       1417   \n\n                                          distance_route  \\\n0      [14.640018023192697, 1.5229312527257717, 0.606...   \n1      [8.16888775040224, 0.4067943329231743, 0.35828...   \n2      [14.640018023192697, 1.400306417188586, 0.2962...   \n3      [0.9126584187089052, 8.020566881548852, 6.6327...   \n4      [13.505545464972036, 0.9852343060237925, 2.970...   \n...                                                  ...   \n18557  [4.097697796278882, 2.827734737537246, 0.0, 0....   \n18558  [10.302891542998038, 10.302891542998038, 18.38...   \n18559  [26.980923351959824, 38.97044955780091, 1.9401...   \n18560  [3.9241224150190654, 3.0215328879604293, 0.0, ...   \n18561  [0.8345487564187866, 0.8345487564187866, 19.43...   \n\n       last_two_weeks_count  \\\n0                         8   \n1                        11   \n2                         7   \n3                         2   \n4                         8   \n...                     ...   \n18557                     2   \n18558                     1   \n18559                     2   \n18560                     1   \n18561                     1   \n\n                                             current_lat  \\\n0      [55.64641920439919, 55.6669147, 55.6757322, 55...   \n1      [55.64641920439919, 55.662018, 55.658103, 55.6...   \n2      [55.64641920439919, 55.6669147, 55.671473, 55....   \n3      [55.64641920439919, 55.6487125, 55.6163424, 55...   \n4      [55.64641920439919, 55.4520374, 55.4421082, 55...   \n...                                                  ...   \n18557  [56.0667627, 56.1005391, 56.117045, 56.117045,...   \n18558  [55.64641920439919, 55.64716869999999, 55.6464...   \n18559  [63.43263220000001, 63.044793, 62.569893, 62.5...   \n18560  [56.0667627, 56.1004096, 56.117045, 56.117045,...   \n18561  [59.805664, 59.795058, 59.805664, 59.948098894...   \n\n                                             current_lng day_of_week  \\\n0      [12.15372974969827, 12.5262801, 12.5619711, 12...      Monday   \n1      [12.15372974969827, 12.360745, 12.368506, 12.3...      Monday   \n2      [12.15372974969827, 12.5262801, 12.561174, 12....     Tuesday   \n3      [12.15372974969827, 12.1307559, 12.3275461, 12...     Tuesday   \n4      [12.15372974969827, 12.1856949, 12.1677321, 12...     Tuesday   \n...                                                  ...         ...   \n18557  [9.986944, 10.0739552, 10.1408688, 10.1408688,...      Monday   \n18558  [12.15372974969827, 12.4170801, 12.15372974969...      Monday   \n18559  [10.3643774, 10.283446, 9.623898, 9.659513, 9....     Tuesday   \n18560  [9.986944, 10.0686046, 10.1408688, 10.1408688,...     Tuesday   \n18561  [10.290383, 10.279009, 10.290383, 10.771520299...   Wednesday   \n\n            date                                  location_is_depot  \\\n0     2024-01-15                           [1, 0, 0, 0, 0, 0, 0, 0]   \n1     2024-01-15                           [1, 0, 0, 0, 0, 0, 0, 0]   \n2     2024-01-16                        [1, 0, 0, 0, 0, 0, 0, 0, 0]   \n3     2024-01-23                                    [1, 0, 0, 0, 1]   \n4     2024-01-23  [1, 0, 0, 0, 0, 0, 0, 0, 0, 0, 0, 0, 0, 0, 0, ...   \n...          ...                                                ...   \n18557 2024-08-05  [1, 0, 0, 0, 0, 0, 0, 0, 0, 0, 0, 0, 0, 0, 0, ...   \n18558 2024-08-05                              [1, 0, 1, 0, 0, 0, 0]   \n18559 2024-08-06                                 [1, 0, 0, 0, 0, 0]   \n18560 2024-08-06  [1, 0, 0, 0, 0, 0, 0, 0, 0, 0, 0, 0, 0, 0, 0, ...   \n18561 2024-08-07                                       [1, 0, 1, 0]   \n\n                                        location_type_id  label  len  \n0                               [0, 1, 1, 1, 1, 1, 1, 1]      0    8  \n1                               [0, 1, 1, 1, 1, 1, 1, 1]      0    8  \n2                            [0, 1, 1, 1, 1, 1, 1, 1, 1]      0    9  \n3                                        [0, 1, 1, 0, 1]      0    5  \n4      [0, 1, 1, 1, 1, 1, 1, 1, 1, 1, 1, 1, 1, 1, 1, ...      0   23  \n...                                                  ...    ...  ...  \n18557  [0, 1, 1, 1, 1, 1, 1, 1, 1, 1, 1, 1, 1, 1, 1, ...      1   20  \n18558                              [0, 1, 0, 1, 1, 1, 1]      1    7  \n18559                                 [0, 1, 1, 1, 1, 1]      1    6  \n18560  [0, 1, 1, 1, 1, 1, 0, 1, 1, 1, 1, 1, 1, 1, 1, ...      1   24  \n18561                                       [0, 1, 0, 1]      1    4  \n\n[18562 rows x 13 columns]",
      "text/html": "<div>\n<style scoped>\n    .dataframe tbody tr th:only-of-type {\n        vertical-align: middle;\n    }\n\n    .dataframe tbody tr th {\n        vertical-align: top;\n    }\n\n    .dataframe thead th {\n        text-align: right;\n    }\n</style>\n<table border=\"1\" class=\"dataframe\">\n  <thead>\n    <tr style=\"text-align: right;\">\n      <th></th>\n      <th>routes</th>\n      <th>actual_routes</th>\n      <th>driver_id</th>\n      <th>distance_route</th>\n      <th>last_two_weeks_count</th>\n      <th>current_lat</th>\n      <th>current_lng</th>\n      <th>day_of_week</th>\n      <th>date</th>\n      <th>location_is_depot</th>\n      <th>location_type_id</th>\n      <th>label</th>\n      <th>len</th>\n    </tr>\n  </thead>\n  <tbody>\n    <tr>\n      <th>0</th>\n      <td>[1167, 1405, 1560, 1413, 1391, 1391, 1434, 1269]</td>\n      <td>[1167, 1405, 1560, 1413, 1391, 1391, 1434, 1269]</td>\n      <td>1255</td>\n      <td>[14.640018023192697, 1.5229312527257717, 0.606...</td>\n      <td>8</td>\n      <td>[55.64641920439919, 55.6669147, 55.6757322, 55...</td>\n      <td>[12.15372974969827, 12.5262801, 12.5619711, 12...</td>\n      <td>Monday</td>\n      <td>2024-01-15</td>\n      <td>[1, 0, 0, 0, 0, 0, 0, 0]</td>\n      <td>[0, 1, 1, 1, 1, 1, 1, 1]</td>\n      <td>0</td>\n      <td>8</td>\n    </tr>\n    <tr>\n      <th>1</th>\n      <td>[1167, 1352, 1312, 1356, 1508, 1508, 1621, 1401]</td>\n      <td>[1167, 1312, 1356, 1352, 1508, 1508, 1621, 1401]</td>\n      <td>1195</td>\n      <td>[8.16888775040224, 0.4067943329231743, 0.35828...</td>\n      <td>11</td>\n      <td>[55.64641920439919, 55.662018, 55.658103, 55.6...</td>\n      <td>[12.15372974969827, 12.360745, 12.368506, 12.3...</td>\n      <td>Monday</td>\n      <td>2024-01-15</td>\n      <td>[1, 0, 0, 0, 0, 0, 0, 0]</td>\n      <td>[0, 1, 1, 1, 1, 1, 1, 1]</td>\n      <td>0</td>\n      <td>8</td>\n    </tr>\n    <tr>\n      <th>2</th>\n      <td>[1167, 1405, 1479, 1560, 1413, 1391, 1391, 143...</td>\n      <td>[1167, 1405, 1479, 1560, 1413, 1391, 1391, 143...</td>\n      <td>1255</td>\n      <td>[14.640018023192697, 1.400306417188586, 0.2962...</td>\n      <td>7</td>\n      <td>[55.64641920439919, 55.6669147, 55.671473, 55....</td>\n      <td>[12.15372974969827, 12.5262801, 12.561174, 12....</td>\n      <td>Tuesday</td>\n      <td>2024-01-16</td>\n      <td>[1, 0, 0, 0, 0, 0, 0, 0, 0]</td>\n      <td>[0, 1, 1, 1, 1, 1, 1, 1, 1]</td>\n      <td>0</td>\n      <td>9</td>\n    </tr>\n    <tr>\n      <th>3</th>\n      <td>[1167, 1194, 947, 1797, 1167]</td>\n      <td>[1167, 1194, 947, 1797, 1167]</td>\n      <td>1190</td>\n      <td>[0.9126584187089052, 8.020566881548852, 6.6327...</td>\n      <td>2</td>\n      <td>[55.64641920439919, 55.6487125, 55.6163424, 55...</td>\n      <td>[12.15372974969827, 12.1307559, 12.3275461, 12...</td>\n      <td>Tuesday</td>\n      <td>2024-01-23</td>\n      <td>[1, 0, 0, 0, 1]</td>\n      <td>[0, 1, 1, 0, 1]</td>\n      <td>0</td>\n      <td>5</td>\n    </tr>\n    <tr>\n      <th>4</th>\n      <td>[1167, 696, 662, 615, 614, 628, 628, 634, 633,...</td>\n      <td>[1167, 696, 662, 615, 614, 628, 628, 634, 633,...</td>\n      <td>1178</td>\n      <td>[13.505545464972036, 0.9852343060237925, 2.970...</td>\n      <td>8</td>\n      <td>[55.64641920439919, 55.4520374, 55.4421082, 55...</td>\n      <td>[12.15372974969827, 12.1856949, 12.1677321, 12...</td>\n      <td>Tuesday</td>\n      <td>2024-01-23</td>\n      <td>[1, 0, 0, 0, 0, 0, 0, 0, 0, 0, 0, 0, 0, 0, 0, ...</td>\n      <td>[0, 1, 1, 1, 1, 1, 1, 1, 1, 1, 1, 1, 1, 1, 1, ...</td>\n      <td>0</td>\n      <td>23</td>\n    </tr>\n    <tr>\n      <th>...</th>\n      <td>...</td>\n      <td>...</td>\n      <td>...</td>\n      <td>...</td>\n      <td>...</td>\n      <td>...</td>\n      <td>...</td>\n      <td>...</td>\n      <td>...</td>\n      <td>...</td>\n      <td>...</td>\n      <td>...</td>\n      <td>...</td>\n    </tr>\n    <tr>\n      <th>18557</th>\n      <td>[3162, 3243, 3295, 3295, 3280, 3249, 3281, 329...</td>\n      <td>[3162, 3243, 3295, 3295, 3281, 3296, 3273, 327...</td>\n      <td>1520</td>\n      <td>[4.097697796278882, 2.827734737537246, 0.0, 0....</td>\n      <td>2</td>\n      <td>[56.0667627, 56.1005391, 56.117045, 56.117045,...</td>\n      <td>[9.986944, 10.0739552, 10.1408688, 10.1408688,...</td>\n      <td>Monday</td>\n      <td>2024-08-05</td>\n      <td>[1, 0, 0, 0, 0, 0, 0, 0, 0, 0, 0, 0, 0, 0, 0, ...</td>\n      <td>[0, 1, 1, 1, 1, 1, 1, 1, 1, 1, 1, 1, 1, 1, 1, ...</td>\n      <td>1</td>\n      <td>20</td>\n    </tr>\n    <tr>\n      <th>18558</th>\n      <td>[1167, 1174, 1167, 2231, 1970, 1949, 1954]</td>\n      <td>[1167, 1954, 1174, 1167, 1949, 2231, 1970]</td>\n      <td>1624</td>\n      <td>[10.302891542998038, 10.302891542998038, 18.38...</td>\n      <td>1</td>\n      <td>[55.64641920439919, 55.64716869999999, 55.6464...</td>\n      <td>[12.15372974969827, 12.4170801, 12.15372974969...</td>\n      <td>Monday</td>\n      <td>2024-08-05</td>\n      <td>[1, 0, 1, 0, 0, 0, 0]</td>\n      <td>[0, 1, 0, 1, 1, 1, 1]</td>\n      <td>1</td>\n      <td>7</td>\n    </tr>\n    <tr>\n      <th>18559</th>\n      <td>[11372, 11173, 11150, 11158, 11157, 11154]</td>\n      <td>[11372, 11173, 11154, 11158, 11150, 11157]</td>\n      <td>441</td>\n      <td>[26.980923351959824, 38.97044955780091, 1.9401...</td>\n      <td>2</td>\n      <td>[63.43263220000001, 63.044793, 62.569893, 62.5...</td>\n      <td>[10.3643774, 10.283446, 9.623898, 9.659513, 9....</td>\n      <td>Tuesday</td>\n      <td>2024-08-06</td>\n      <td>[1, 0, 0, 0, 0, 0]</td>\n      <td>[0, 1, 1, 1, 1, 1]</td>\n      <td>1</td>\n      <td>6</td>\n    </tr>\n    <tr>\n      <th>18560</th>\n      <td>[3162, 3240, 3295, 3295, 3243, 3280, 3327, 332...</td>\n      <td>[3162, 3295, 3243, 3295, 3240, 3327, 3258, 324...</td>\n      <td>1520</td>\n      <td>[3.9241224150190654, 3.0215328879604293, 0.0, ...</td>\n      <td>1</td>\n      <td>[56.0667627, 56.1004096, 56.117045, 56.117045,...</td>\n      <td>[9.986944, 10.0686046, 10.1408688, 10.1408688,...</td>\n      <td>Tuesday</td>\n      <td>2024-08-06</td>\n      <td>[1, 0, 0, 0, 0, 0, 0, 0, 0, 0, 0, 0, 0, 0, 0, ...</td>\n      <td>[0, 1, 1, 1, 1, 1, 0, 1, 1, 1, 1, 1, 1, 1, 1, ...</td>\n      <td>1</td>\n      <td>24</td>\n    </tr>\n    <tr>\n      <th>18561</th>\n      <td>[7166, 7127, 7166, 9527]</td>\n      <td>[7166, 7166, 7127, 9527]</td>\n      <td>1417</td>\n      <td>[0.8345487564187866, 0.8345487564187866, 19.43...</td>\n      <td>1</td>\n      <td>[59.805664, 59.795058, 59.805664, 59.948098894...</td>\n      <td>[10.290383, 10.279009, 10.290383, 10.771520299...</td>\n      <td>Wednesday</td>\n      <td>2024-08-07</td>\n      <td>[1, 0, 1, 0]</td>\n      <td>[0, 1, 0, 1]</td>\n      <td>1</td>\n      <td>4</td>\n    </tr>\n  </tbody>\n</table>\n<p>18562 rows × 13 columns</p>\n</div>"
     },
     "execution_count": 732,
     "metadata": {},
     "output_type": "execute_result"
    }
   ],
   "source": [
    "final_routes = pd.DataFrame({\n",
    "    'routes': completed_routes_df['planned_route_craft'].tolist() + uncompleted_routes_df['planned_route_craft'].tolist(),\n",
    "    'actual_routes': completed_routes_df['actual_route_location'].tolist() + uncompleted_routes_df['actual_route_location'].tolist(),\n",
    "    'driver_id': completed_routes_df['driver_id'].tolist() +  uncompleted_routes_df['driver_id'].tolist(),\n",
    "    'distance_route': completed_routes_df['distance_route'].tolist() + uncompleted_routes_df['distance_route'].tolist(),\n",
    "    'last_two_weeks_count': completed_routes_df['last_two_weeks_count'].tolist() + uncompleted_routes_df['last_two_weeks_count'].tolist(),\n",
    "    'current_lat': completed_routes_df['current_lat'].tolist() + uncompleted_routes_df['current_lat'].tolist(),\n",
    "    'current_lng': completed_routes_df['current_lng'].tolist() + uncompleted_routes_df['current_lng'].tolist(),\n",
    "    'day_of_week': completed_routes_df['day_of_week'].tolist() + uncompleted_routes_df['day_of_week'].tolist(),\n",
    "    'date': completed_routes_df['date'].tolist() + uncompleted_routes_df['date'].tolist(),\n",
    "    'location_is_depot': completed_routes_df['location_is_depot'].tolist() + uncompleted_routes_df['location_is_depot'].tolist(),\n",
    "    'location_type_id': completed_routes_df['location_type_id'].tolist() + uncompleted_routes_df['location_type_id'].tolist(),\n",
    "    'label': [0] * len(completed_routes_df)  + [1] * len(uncompleted_routes_df)\n",
    "})\n",
    "final_routes['len'] = final_routes['routes'].apply(lambda x: len(x))\n",
    "final_routes\n",
    "\n",
    "# [0] * len(artificial_planned_routes)\n",
    "# artificial_planned_routes['distance_route'].tolist()\n",
    "# artificial_planned_routes['driver_id'].tolist()\n",
    "# artificial_planned_routes['common_subsequence'].tolist()"
   ],
   "metadata": {
    "collapsed": false,
    "pycharm": {
     "name": "#%%\n"
    }
   }
  },
  {
   "cell_type": "code",
   "execution_count": 733,
   "outputs": [
    {
     "data": {
      "text/plain": "36"
     },
     "execution_count": 733,
     "metadata": {},
     "output_type": "execute_result"
    }
   ],
   "source": [
    "def determine_country(lat, lng):\n",
    "    if 57.5 <= lat <= 71.2 and 4.0 <= lng <= 31.0:\n",
    "        return 0  # Norway\n",
    "    elif 54.5 <= lat <= 57.8 and 8.0 <= lng <= 15.0:\n",
    "        return 1  # Denmark\n",
    "    else:\n",
    "        return 1\n",
    "final_routes['country_flag'] = final_routes.apply(lambda row: determine_country(row['current_lat'][0], row['current_lng'][0]), axis=1)\n",
    "\n",
    "max([len(i) for i in final_routes['routes']])"
   ],
   "metadata": {
    "collapsed": false,
    "pycharm": {
     "name": "#%%\n"
    }
   }
  },
  {
   "cell_type": "code",
   "execution_count": 734,
   "outputs": [
    {
     "name": "stdout",
     "output_type": "stream",
     "text": [
      "10704\n"
     ]
    }
   ],
   "source": [
    "#create dictionary and encode to smaller unique numbers\n",
    "locations_dic = {}\n",
    "location_count = {}\n",
    "k = 1\n",
    "for row in final_routes['routes']:\n",
    "   for location in row:\n",
    "       if location not in locations_dic:\n",
    "           locations_dic[location] = k\n",
    "           k += 1\n",
    "k = 1\n",
    "print(len(locations_dic))\n",
    "\n",
    "for row in final_routes['routes']:\n",
    "   for location in row:\n",
    "       if location not in location_count:\n",
    "            location_count[location] = 1\n",
    "       else:\n",
    "            location_count[location] += 1\n"
   ],
   "metadata": {
    "collapsed": false,
    "pycharm": {
     "name": "#%%\n"
    }
   }
  },
  {
   "cell_type": "code",
   "execution_count": 735,
   "outputs": [
    {
     "name": "stdout",
     "output_type": "stream",
     "text": [
      "Total number of drivers 395\n",
      "correlation 0.3069126041002025\n",
      "correlation 36\n"
     ]
    }
   ],
   "source": [
    "drivers_dic = {}\n",
    "k = 1\n",
    "for driver in final_routes['driver_id']:\n",
    "    if driver not in drivers_dic:\n",
    "        drivers_dic[driver] = k\n",
    "        k += 1\n",
    "print('Total number of drivers', len(drivers_dic))\n",
    "total_drivers = len(drivers_dic)\n",
    "encoding_drivers = []\n",
    "for driver in final_routes['driver_id']:\n",
    "    encoding_drivers.append(drivers_dic[driver])\n",
    "#\n",
    "final_routes['driver_id_sorted'] = encoding_drivers\n",
    "final_routes['day_of_week_encoded'] = pd.Categorical(final_routes['day_of_week']).codes+1\n",
    "\n",
    "def encode_day_of_week(row):\n",
    "    a = np.zeros((36, 7), dtype=int)\n",
    "    route_len = row['len']\n",
    "    day_encoded = row['day_of_week_encoded']\n",
    "    for i in range(36 - route_len, len(a)):\n",
    "        a[i][day_encoded-1] = 1\n",
    "    return a\n",
    "\n",
    "def encode_day_of_week_simple(row):\n",
    "    a = np.zeros(7, dtype=int)\n",
    "    day_encoded = row['day_of_week_encoded']\n",
    "    a[day_encoded - 1] = 1\n",
    "    return a\n",
    "\n",
    "final_routes['experience_feature'] = final_routes.apply(lambda x: x['len'] * [x['last_two_weeks_count']], axis = 1)\n",
    "final_routes['len_feature'] = final_routes.apply(lambda x: x['len'] * [x['len']], axis = 1)\n",
    "final_routes['driver_id_feature'] = final_routes.apply(lambda x: x['len'] * [x['driver_id_sorted']], axis = 1)\n",
    "final_routes['country_flag_feature'] = final_routes.apply(lambda x: x['len'] * [x['country_flag']], axis = 1)\n",
    "final_routes['day_of_week_feature'] = final_routes.apply(encode_day_of_week, axis = 1)\n",
    "final_routes['day_of_week_encoded_ext'] = final_routes.apply(encode_day_of_week_simple, axis = 1)\n",
    "\n",
    "encoding_routes = []\n",
    "for row in final_routes['routes']:\n",
    "    encoding_route = []\n",
    "    for location in row:\n",
    "        encoding_route.append(locations_dic[location])\n",
    "    encoding_routes.append(encoding_route)\n",
    "final_routes['routes'] = encoding_routes\n",
    "\n",
    "print('correlation', final_routes['len'].corr(final_routes['label']))\n",
    "print('correlation', max(final_routes['len']))\n",
    "# final_routes = pd.concat([final_routes, pd.get_dummies(final_routes['driver_id_sorted'], prefix='encoding_drivers')], axis=1)"
   ],
   "metadata": {
    "collapsed": false,
    "pycharm": {
     "name": "#%%\n"
    }
   }
  },
  {
   "cell_type": "code",
   "execution_count": 736,
   "outputs": [
    {
     "data": {
      "text/plain": "                                                  routes  \\\n0                               [1, 2, 3, 4, 5, 5, 6, 7]   \n8850   [287, 5901, 2070, 8721, 1829, 3148, 5903, 7282...   \n8849   [287, 1509, 8223, 1510, 4842, 1511, 1512, 1513...   \n8848   [287, 9286, 1556, 1558, 1559, 1560, 1562, 1821...   \n8847     [9285, 3600, 3599, 3598, 3601, 5623, 5618, 287]   \n...                                                  ...   \n18323      [1, 1577, 2442, 7502, 1575, 9274, 1579, 1580]   \n18322  [1, 2764, 2763, 2762, 2759, 2758, 2756, 2754, ...   \n18321  [1, 305, 304, 6433, 6434, 6430, 6431, 6432, 64...   \n8397   [1, 6852, 3912, 3908, 3907, 3915, 3916, 6226, ...   \n18472   [1, 10694, 51, 1393, 55, 56, 1390, 2443, 53, 54]   \n\n                                           actual_routes  driver_id  \\\n0       [1167, 1405, 1560, 1413, 1391, 1391, 1434, 1269]       1255   \n8850   [7166, 7975, 8132, 7931, 9027, 8114, 7899, 794...        678   \n8849   [7166, 7275, 7290, 7306, 7314, 7268, 7310, 727...       1130   \n8848   [7166, 10402, 10527, 10653, 10657, 10656, 1066...       1432   \n8847    [4737, 4401, 4930, 4402, 4406, 4399, 5551, 7166]        673   \n...                                                  ...        ...   \n18323     [1167, 2179, 1779, 1339, 916, 960, 1044, 1254]       1176   \n18322  [1167, 2369, 2407, 2378, 2380, 2361, 2318, 232...       1693   \n18321  [1167, 2206, 2208, 2190, 2188, 1921, 1252, 118...       1221   \n8397   [1167, 1261, 1148, 991, 989, 914, 941, 1701, 1...       1443   \n18472  [1167, 191, 192, 189, 214, 215, 220, 219, 212,...       1184   \n\n                                          distance_route  \\\n0      [14.640018023192697, 1.5229312527257717, 0.606...   \n8850   [16.8813099734871, 1.4193822774993288, 1.69446...   \n8849   [4.2526479533841615, 0.3190360542384608, 0.064...   \n8848   [39.008249614578496, 4.991041549057401, 6.0046...   \n8847   [14.169024669714064, 0.024512138008107462, 0.1...   \n...                                                  ...   \n18323  [5.231982911743476, 2.1256537282910335, 1.8414...   \n18322  [8.129492283135372, 1.6548073593661337, 0.1871...   \n18321  [11.167364545905412, 1.6090111605624327, 2.966...   \n8397   [8.593375524055487, 0.5755007431477985, 1.2338...   \n18472  [50.31198761409171, 0.07481280750535345, 4.285...   \n\n       last_two_weeks_count  \\\n0                         8   \n8850                      8   \n8849                      7   \n8848                      8   \n8847                      6   \n...                     ...   \n18323                     1   \n18322                     1   \n18321                     1   \n8397                      1   \n18472                     1   \n\n                                             current_lat  \\\n0      [55.64641920439919, 55.6669147, 55.6757322, 55...   \n8850   [59.805664, 59.911859, 59.92994419999999, 59.9...   \n8849   [59.805664, 59.8251957, 59.829521, 59.82859229...   \n8848   [59.805664, 60.154124, 60.2087853, 60.282454, ...   \n8847   [59.24568790000001, 59.060951, 59.0612619, 59....   \n...                                                  ...   \n18323  [55.64641920439919, 55.619592, 55.609156, 55.6...   \n18322  [55.64641920439919, 55.7545069, 55.7662324, 55...   \n18321  [55.64641920439919, 55.7392193, 55.7215745, 55...   \n8397   [55.64641920439919, 55.652685, 55.644387, 55.6...   \n18472  [55.64641920439919, 54.9216487, 54.92115310000...   \n\n                                             current_lng day_of_week  \\\n0      [12.15372974969827, 12.5262801, 12.5619711, 12...      Monday   \n8850   [10.290383, 10.7268119, 10.7460521, 10.7219407...      Monday   \n8849   [10.290383, 10.4060268, 10.402867, 10.4028435,...      Monday   \n8848   [10.290383, 11.173989, 11.0796147, 11.171705, ...      Monday   \n8847   [10.2530581, 10.081411, 10.0810818, 10.0835448...      Monday   \n...                                                  ...         ...   \n18323  [12.15372974969827, 12.028735, 12.079797, 12.0...   Wednesday   \n18322  [12.15372974969827, 12.2353714, 12.1983964, 12...   Wednesday   \n18321  [12.15372974969827, 12.3875685, 12.3607169, 12...   Wednesday   \n8397   [12.15372974969827, 12.373122, 12.374162, 12.3...   Wednesday   \n18472  [12.15372974969827, 12.0475591, 12.0492281, 12...    Thursday   \n\n            date                                  location_is_depot  ... len  \\\n0     2024-01-15                           [1, 0, 0, 0, 0, 0, 0, 0]  ...   8   \n8850  2024-01-15   [1, 0, 0, 0, 0, 0, 0, 0, 0, 0, 0, 0, 0, 0, 0, 0]  ...  16   \n8849  2024-01-15  [1, 0, 0, 0, 0, 0, 0, 0, 0, 0, 0, 0, 0, 0, 0, ...  ...  25   \n8848  2024-01-15         [1, 0, 0, 0, 0, 0, 0, 0, 0, 0, 0, 0, 0, 0]  ...  14   \n8847  2024-01-15                           [0, 0, 0, 0, 0, 0, 0, 1]  ...   8   \n...          ...                                                ...  ...  ..   \n18323 2024-08-07                           [1, 0, 0, 0, 0, 0, 0, 0]  ...   8   \n18322 2024-08-07                  [1, 0, 0, 0, 0, 0, 0, 0, 0, 0, 0]  ...  11   \n18321 2024-08-07   [1, 0, 0, 0, 0, 0, 0, 0, 0, 0, 0, 0, 0, 0, 0, 0]  ...  16   \n8397  2024-08-07                     [1, 0, 0, 0, 0, 0, 0, 0, 0, 0]  ...  10   \n18472 2024-08-08                     [1, 0, 0, 0, 0, 0, 0, 0, 0, 0]  ...  10   \n\n       country_flag  driver_id_sorted  day_of_week_encoded  \\\n0                 1                 1                    2   \n8850              0               282                    2   \n8849              0                75                    2   \n8848              0                23                    2   \n8847              0               106                    2   \n...             ...               ...                  ...   \n18323             1               119                    7   \n18322             1               367                    7   \n18321             1                24                    7   \n8397              1               214                    7   \n18472             1                 7                    5   \n\n                                      experience_feature  \\\n0                               [8, 8, 8, 8, 8, 8, 8, 8]   \n8850    [8, 8, 8, 8, 8, 8, 8, 8, 8, 8, 8, 8, 8, 8, 8, 8]   \n8849   [7, 7, 7, 7, 7, 7, 7, 7, 7, 7, 7, 7, 7, 7, 7, ...   \n8848          [8, 8, 8, 8, 8, 8, 8, 8, 8, 8, 8, 8, 8, 8]   \n8847                            [6, 6, 6, 6, 6, 6, 6, 6]   \n...                                                  ...   \n18323                           [1, 1, 1, 1, 1, 1, 1, 1]   \n18322                  [1, 1, 1, 1, 1, 1, 1, 1, 1, 1, 1]   \n18321   [1, 1, 1, 1, 1, 1, 1, 1, 1, 1, 1, 1, 1, 1, 1, 1]   \n8397                      [1, 1, 1, 1, 1, 1, 1, 1, 1, 1]   \n18472                     [1, 1, 1, 1, 1, 1, 1, 1, 1, 1]   \n\n                                             len_feature  \\\n0                               [8, 8, 8, 8, 8, 8, 8, 8]   \n8850   [16, 16, 16, 16, 16, 16, 16, 16, 16, 16, 16, 1...   \n8849   [25, 25, 25, 25, 25, 25, 25, 25, 25, 25, 25, 2...   \n8848   [14, 14, 14, 14, 14, 14, 14, 14, 14, 14, 14, 1...   \n8847                            [8, 8, 8, 8, 8, 8, 8, 8]   \n...                                                  ...   \n18323                           [8, 8, 8, 8, 8, 8, 8, 8]   \n18322       [11, 11, 11, 11, 11, 11, 11, 11, 11, 11, 11]   \n18321  [16, 16, 16, 16, 16, 16, 16, 16, 16, 16, 16, 1...   \n8397            [10, 10, 10, 10, 10, 10, 10, 10, 10, 10]   \n18472           [10, 10, 10, 10, 10, 10, 10, 10, 10, 10]   \n\n                                       driver_id_feature  \\\n0                               [1, 1, 1, 1, 1, 1, 1, 1]   \n8850   [282, 282, 282, 282, 282, 282, 282, 282, 282, ...   \n8849   [75, 75, 75, 75, 75, 75, 75, 75, 75, 75, 75, 7...   \n8848   [23, 23, 23, 23, 23, 23, 23, 23, 23, 23, 23, 2...   \n8847            [106, 106, 106, 106, 106, 106, 106, 106]   \n...                                                  ...   \n18323           [119, 119, 119, 119, 119, 119, 119, 119]   \n18322  [367, 367, 367, 367, 367, 367, 367, 367, 367, ...   \n18321  [24, 24, 24, 24, 24, 24, 24, 24, 24, 24, 24, 2...   \n8397   [214, 214, 214, 214, 214, 214, 214, 214, 214, ...   \n18472                     [7, 7, 7, 7, 7, 7, 7, 7, 7, 7]   \n\n                                    country_flag_feature  \\\n0                               [1, 1, 1, 1, 1, 1, 1, 1]   \n8850    [0, 0, 0, 0, 0, 0, 0, 0, 0, 0, 0, 0, 0, 0, 0, 0]   \n8849   [0, 0, 0, 0, 0, 0, 0, 0, 0, 0, 0, 0, 0, 0, 0, ...   \n8848          [0, 0, 0, 0, 0, 0, 0, 0, 0, 0, 0, 0, 0, 0]   \n8847                            [0, 0, 0, 0, 0, 0, 0, 0]   \n...                                                  ...   \n18323                           [1, 1, 1, 1, 1, 1, 1, 1]   \n18322                  [1, 1, 1, 1, 1, 1, 1, 1, 1, 1, 1]   \n18321   [1, 1, 1, 1, 1, 1, 1, 1, 1, 1, 1, 1, 1, 1, 1, 1]   \n8397                      [1, 1, 1, 1, 1, 1, 1, 1, 1, 1]   \n18472                     [1, 1, 1, 1, 1, 1, 1, 1, 1, 1]   \n\n                                     day_of_week_feature  \\\n0      [[0, 0, 0, 0, 0, 0, 0], [0, 0, 0, 0, 0, 0, 0],...   \n8850   [[0, 0, 0, 0, 0, 0, 0], [0, 0, 0, 0, 0, 0, 0],...   \n8849   [[0, 0, 0, 0, 0, 0, 0], [0, 0, 0, 0, 0, 0, 0],...   \n8848   [[0, 0, 0, 0, 0, 0, 0], [0, 0, 0, 0, 0, 0, 0],...   \n8847   [[0, 0, 0, 0, 0, 0, 0], [0, 0, 0, 0, 0, 0, 0],...   \n...                                                  ...   \n18323  [[0, 0, 0, 0, 0, 0, 0], [0, 0, 0, 0, 0, 0, 0],...   \n18322  [[0, 0, 0, 0, 0, 0, 0], [0, 0, 0, 0, 0, 0, 0],...   \n18321  [[0, 0, 0, 0, 0, 0, 0], [0, 0, 0, 0, 0, 0, 0],...   \n8397   [[0, 0, 0, 0, 0, 0, 0], [0, 0, 0, 0, 0, 0, 0],...   \n18472  [[0, 0, 0, 0, 0, 0, 0], [0, 0, 0, 0, 0, 0, 0],...   \n\n      day_of_week_encoded_ext  \n0       [0, 1, 0, 0, 0, 0, 0]  \n8850    [0, 1, 0, 0, 0, 0, 0]  \n8849    [0, 1, 0, 0, 0, 0, 0]  \n8848    [0, 1, 0, 0, 0, 0, 0]  \n8847    [0, 1, 0, 0, 0, 0, 0]  \n...                       ...  \n18323   [0, 0, 0, 0, 0, 0, 1]  \n18322   [0, 0, 0, 0, 0, 0, 1]  \n18321   [0, 0, 0, 0, 0, 0, 1]  \n8397    [0, 0, 0, 0, 0, 0, 1]  \n18472   [0, 0, 0, 0, 1, 0, 0]  \n\n[18562 rows x 22 columns]",
      "text/html": "<div>\n<style scoped>\n    .dataframe tbody tr th:only-of-type {\n        vertical-align: middle;\n    }\n\n    .dataframe tbody tr th {\n        vertical-align: top;\n    }\n\n    .dataframe thead th {\n        text-align: right;\n    }\n</style>\n<table border=\"1\" class=\"dataframe\">\n  <thead>\n    <tr style=\"text-align: right;\">\n      <th></th>\n      <th>routes</th>\n      <th>actual_routes</th>\n      <th>driver_id</th>\n      <th>distance_route</th>\n      <th>last_two_weeks_count</th>\n      <th>current_lat</th>\n      <th>current_lng</th>\n      <th>day_of_week</th>\n      <th>date</th>\n      <th>location_is_depot</th>\n      <th>...</th>\n      <th>len</th>\n      <th>country_flag</th>\n      <th>driver_id_sorted</th>\n      <th>day_of_week_encoded</th>\n      <th>experience_feature</th>\n      <th>len_feature</th>\n      <th>driver_id_feature</th>\n      <th>country_flag_feature</th>\n      <th>day_of_week_feature</th>\n      <th>day_of_week_encoded_ext</th>\n    </tr>\n  </thead>\n  <tbody>\n    <tr>\n      <th>0</th>\n      <td>[1, 2, 3, 4, 5, 5, 6, 7]</td>\n      <td>[1167, 1405, 1560, 1413, 1391, 1391, 1434, 1269]</td>\n      <td>1255</td>\n      <td>[14.640018023192697, 1.5229312527257717, 0.606...</td>\n      <td>8</td>\n      <td>[55.64641920439919, 55.6669147, 55.6757322, 55...</td>\n      <td>[12.15372974969827, 12.5262801, 12.5619711, 12...</td>\n      <td>Monday</td>\n      <td>2024-01-15</td>\n      <td>[1, 0, 0, 0, 0, 0, 0, 0]</td>\n      <td>...</td>\n      <td>8</td>\n      <td>1</td>\n      <td>1</td>\n      <td>2</td>\n      <td>[8, 8, 8, 8, 8, 8, 8, 8]</td>\n      <td>[8, 8, 8, 8, 8, 8, 8, 8]</td>\n      <td>[1, 1, 1, 1, 1, 1, 1, 1]</td>\n      <td>[1, 1, 1, 1, 1, 1, 1, 1]</td>\n      <td>[[0, 0, 0, 0, 0, 0, 0], [0, 0, 0, 0, 0, 0, 0],...</td>\n      <td>[0, 1, 0, 0, 0, 0, 0]</td>\n    </tr>\n    <tr>\n      <th>8850</th>\n      <td>[287, 5901, 2070, 8721, 1829, 3148, 5903, 7282...</td>\n      <td>[7166, 7975, 8132, 7931, 9027, 8114, 7899, 794...</td>\n      <td>678</td>\n      <td>[16.8813099734871, 1.4193822774993288, 1.69446...</td>\n      <td>8</td>\n      <td>[59.805664, 59.911859, 59.92994419999999, 59.9...</td>\n      <td>[10.290383, 10.7268119, 10.7460521, 10.7219407...</td>\n      <td>Monday</td>\n      <td>2024-01-15</td>\n      <td>[1, 0, 0, 0, 0, 0, 0, 0, 0, 0, 0, 0, 0, 0, 0, 0]</td>\n      <td>...</td>\n      <td>16</td>\n      <td>0</td>\n      <td>282</td>\n      <td>2</td>\n      <td>[8, 8, 8, 8, 8, 8, 8, 8, 8, 8, 8, 8, 8, 8, 8, 8]</td>\n      <td>[16, 16, 16, 16, 16, 16, 16, 16, 16, 16, 16, 1...</td>\n      <td>[282, 282, 282, 282, 282, 282, 282, 282, 282, ...</td>\n      <td>[0, 0, 0, 0, 0, 0, 0, 0, 0, 0, 0, 0, 0, 0, 0, 0]</td>\n      <td>[[0, 0, 0, 0, 0, 0, 0], [0, 0, 0, 0, 0, 0, 0],...</td>\n      <td>[0, 1, 0, 0, 0, 0, 0]</td>\n    </tr>\n    <tr>\n      <th>8849</th>\n      <td>[287, 1509, 8223, 1510, 4842, 1511, 1512, 1513...</td>\n      <td>[7166, 7275, 7290, 7306, 7314, 7268, 7310, 727...</td>\n      <td>1130</td>\n      <td>[4.2526479533841615, 0.3190360542384608, 0.064...</td>\n      <td>7</td>\n      <td>[59.805664, 59.8251957, 59.829521, 59.82859229...</td>\n      <td>[10.290383, 10.4060268, 10.402867, 10.4028435,...</td>\n      <td>Monday</td>\n      <td>2024-01-15</td>\n      <td>[1, 0, 0, 0, 0, 0, 0, 0, 0, 0, 0, 0, 0, 0, 0, ...</td>\n      <td>...</td>\n      <td>25</td>\n      <td>0</td>\n      <td>75</td>\n      <td>2</td>\n      <td>[7, 7, 7, 7, 7, 7, 7, 7, 7, 7, 7, 7, 7, 7, 7, ...</td>\n      <td>[25, 25, 25, 25, 25, 25, 25, 25, 25, 25, 25, 2...</td>\n      <td>[75, 75, 75, 75, 75, 75, 75, 75, 75, 75, 75, 7...</td>\n      <td>[0, 0, 0, 0, 0, 0, 0, 0, 0, 0, 0, 0, 0, 0, 0, ...</td>\n      <td>[[0, 0, 0, 0, 0, 0, 0], [0, 0, 0, 0, 0, 0, 0],...</td>\n      <td>[0, 1, 0, 0, 0, 0, 0]</td>\n    </tr>\n    <tr>\n      <th>8848</th>\n      <td>[287, 9286, 1556, 1558, 1559, 1560, 1562, 1821...</td>\n      <td>[7166, 10402, 10527, 10653, 10657, 10656, 1066...</td>\n      <td>1432</td>\n      <td>[39.008249614578496, 4.991041549057401, 6.0046...</td>\n      <td>8</td>\n      <td>[59.805664, 60.154124, 60.2087853, 60.282454, ...</td>\n      <td>[10.290383, 11.173989, 11.0796147, 11.171705, ...</td>\n      <td>Monday</td>\n      <td>2024-01-15</td>\n      <td>[1, 0, 0, 0, 0, 0, 0, 0, 0, 0, 0, 0, 0, 0]</td>\n      <td>...</td>\n      <td>14</td>\n      <td>0</td>\n      <td>23</td>\n      <td>2</td>\n      <td>[8, 8, 8, 8, 8, 8, 8, 8, 8, 8, 8, 8, 8, 8]</td>\n      <td>[14, 14, 14, 14, 14, 14, 14, 14, 14, 14, 14, 1...</td>\n      <td>[23, 23, 23, 23, 23, 23, 23, 23, 23, 23, 23, 2...</td>\n      <td>[0, 0, 0, 0, 0, 0, 0, 0, 0, 0, 0, 0, 0, 0]</td>\n      <td>[[0, 0, 0, 0, 0, 0, 0], [0, 0, 0, 0, 0, 0, 0],...</td>\n      <td>[0, 1, 0, 0, 0, 0, 0]</td>\n    </tr>\n    <tr>\n      <th>8847</th>\n      <td>[9285, 3600, 3599, 3598, 3601, 5623, 5618, 287]</td>\n      <td>[4737, 4401, 4930, 4402, 4406, 4399, 5551, 7166]</td>\n      <td>673</td>\n      <td>[14.169024669714064, 0.024512138008107462, 0.1...</td>\n      <td>6</td>\n      <td>[59.24568790000001, 59.060951, 59.0612619, 59....</td>\n      <td>[10.2530581, 10.081411, 10.0810818, 10.0835448...</td>\n      <td>Monday</td>\n      <td>2024-01-15</td>\n      <td>[0, 0, 0, 0, 0, 0, 0, 1]</td>\n      <td>...</td>\n      <td>8</td>\n      <td>0</td>\n      <td>106</td>\n      <td>2</td>\n      <td>[6, 6, 6, 6, 6, 6, 6, 6]</td>\n      <td>[8, 8, 8, 8, 8, 8, 8, 8]</td>\n      <td>[106, 106, 106, 106, 106, 106, 106, 106]</td>\n      <td>[0, 0, 0, 0, 0, 0, 0, 0]</td>\n      <td>[[0, 0, 0, 0, 0, 0, 0], [0, 0, 0, 0, 0, 0, 0],...</td>\n      <td>[0, 1, 0, 0, 0, 0, 0]</td>\n    </tr>\n    <tr>\n      <th>...</th>\n      <td>...</td>\n      <td>...</td>\n      <td>...</td>\n      <td>...</td>\n      <td>...</td>\n      <td>...</td>\n      <td>...</td>\n      <td>...</td>\n      <td>...</td>\n      <td>...</td>\n      <td>...</td>\n      <td>...</td>\n      <td>...</td>\n      <td>...</td>\n      <td>...</td>\n      <td>...</td>\n      <td>...</td>\n      <td>...</td>\n      <td>...</td>\n      <td>...</td>\n      <td>...</td>\n    </tr>\n    <tr>\n      <th>18323</th>\n      <td>[1, 1577, 2442, 7502, 1575, 9274, 1579, 1580]</td>\n      <td>[1167, 2179, 1779, 1339, 916, 960, 1044, 1254]</td>\n      <td>1176</td>\n      <td>[5.231982911743476, 2.1256537282910335, 1.8414...</td>\n      <td>1</td>\n      <td>[55.64641920439919, 55.619592, 55.609156, 55.6...</td>\n      <td>[12.15372974969827, 12.028735, 12.079797, 12.0...</td>\n      <td>Wednesday</td>\n      <td>2024-08-07</td>\n      <td>[1, 0, 0, 0, 0, 0, 0, 0]</td>\n      <td>...</td>\n      <td>8</td>\n      <td>1</td>\n      <td>119</td>\n      <td>7</td>\n      <td>[1, 1, 1, 1, 1, 1, 1, 1]</td>\n      <td>[8, 8, 8, 8, 8, 8, 8, 8]</td>\n      <td>[119, 119, 119, 119, 119, 119, 119, 119]</td>\n      <td>[1, 1, 1, 1, 1, 1, 1, 1]</td>\n      <td>[[0, 0, 0, 0, 0, 0, 0], [0, 0, 0, 0, 0, 0, 0],...</td>\n      <td>[0, 0, 0, 0, 0, 0, 1]</td>\n    </tr>\n    <tr>\n      <th>18322</th>\n      <td>[1, 2764, 2763, 2762, 2759, 2758, 2756, 2754, ...</td>\n      <td>[1167, 2369, 2407, 2378, 2380, 2361, 2318, 232...</td>\n      <td>1693</td>\n      <td>[8.129492283135372, 1.6548073593661337, 0.1871...</td>\n      <td>1</td>\n      <td>[55.64641920439919, 55.7545069, 55.7662324, 55...</td>\n      <td>[12.15372974969827, 12.2353714, 12.1983964, 12...</td>\n      <td>Wednesday</td>\n      <td>2024-08-07</td>\n      <td>[1, 0, 0, 0, 0, 0, 0, 0, 0, 0, 0]</td>\n      <td>...</td>\n      <td>11</td>\n      <td>1</td>\n      <td>367</td>\n      <td>7</td>\n      <td>[1, 1, 1, 1, 1, 1, 1, 1, 1, 1, 1]</td>\n      <td>[11, 11, 11, 11, 11, 11, 11, 11, 11, 11, 11]</td>\n      <td>[367, 367, 367, 367, 367, 367, 367, 367, 367, ...</td>\n      <td>[1, 1, 1, 1, 1, 1, 1, 1, 1, 1, 1]</td>\n      <td>[[0, 0, 0, 0, 0, 0, 0], [0, 0, 0, 0, 0, 0, 0],...</td>\n      <td>[0, 0, 0, 0, 0, 0, 1]</td>\n    </tr>\n    <tr>\n      <th>18321</th>\n      <td>[1, 305, 304, 6433, 6434, 6430, 6431, 6432, 64...</td>\n      <td>[1167, 2206, 2208, 2190, 2188, 1921, 1252, 118...</td>\n      <td>1221</td>\n      <td>[11.167364545905412, 1.6090111605624327, 2.966...</td>\n      <td>1</td>\n      <td>[55.64641920439919, 55.7392193, 55.7215745, 55...</td>\n      <td>[12.15372974969827, 12.3875685, 12.3607169, 12...</td>\n      <td>Wednesday</td>\n      <td>2024-08-07</td>\n      <td>[1, 0, 0, 0, 0, 0, 0, 0, 0, 0, 0, 0, 0, 0, 0, 0]</td>\n      <td>...</td>\n      <td>16</td>\n      <td>1</td>\n      <td>24</td>\n      <td>7</td>\n      <td>[1, 1, 1, 1, 1, 1, 1, 1, 1, 1, 1, 1, 1, 1, 1, 1]</td>\n      <td>[16, 16, 16, 16, 16, 16, 16, 16, 16, 16, 16, 1...</td>\n      <td>[24, 24, 24, 24, 24, 24, 24, 24, 24, 24, 24, 2...</td>\n      <td>[1, 1, 1, 1, 1, 1, 1, 1, 1, 1, 1, 1, 1, 1, 1, 1]</td>\n      <td>[[0, 0, 0, 0, 0, 0, 0], [0, 0, 0, 0, 0, 0, 0],...</td>\n      <td>[0, 0, 0, 0, 0, 0, 1]</td>\n    </tr>\n    <tr>\n      <th>8397</th>\n      <td>[1, 6852, 3912, 3908, 3907, 3915, 3916, 6226, ...</td>\n      <td>[1167, 1261, 1148, 991, 989, 914, 941, 1701, 1...</td>\n      <td>1443</td>\n      <td>[8.593375524055487, 0.5755007431477985, 1.2338...</td>\n      <td>1</td>\n      <td>[55.64641920439919, 55.652685, 55.644387, 55.6...</td>\n      <td>[12.15372974969827, 12.373122, 12.374162, 12.3...</td>\n      <td>Wednesday</td>\n      <td>2024-08-07</td>\n      <td>[1, 0, 0, 0, 0, 0, 0, 0, 0, 0]</td>\n      <td>...</td>\n      <td>10</td>\n      <td>1</td>\n      <td>214</td>\n      <td>7</td>\n      <td>[1, 1, 1, 1, 1, 1, 1, 1, 1, 1]</td>\n      <td>[10, 10, 10, 10, 10, 10, 10, 10, 10, 10]</td>\n      <td>[214, 214, 214, 214, 214, 214, 214, 214, 214, ...</td>\n      <td>[1, 1, 1, 1, 1, 1, 1, 1, 1, 1]</td>\n      <td>[[0, 0, 0, 0, 0, 0, 0], [0, 0, 0, 0, 0, 0, 0],...</td>\n      <td>[0, 0, 0, 0, 0, 0, 1]</td>\n    </tr>\n    <tr>\n      <th>18472</th>\n      <td>[1, 10694, 51, 1393, 55, 56, 1390, 2443, 53, 54]</td>\n      <td>[1167, 191, 192, 189, 214, 215, 220, 219, 212,...</td>\n      <td>1184</td>\n      <td>[50.31198761409171, 0.07481280750535345, 4.285...</td>\n      <td>1</td>\n      <td>[55.64641920439919, 54.9216487, 54.92115310000...</td>\n      <td>[12.15372974969827, 12.0475591, 12.0492281, 12...</td>\n      <td>Thursday</td>\n      <td>2024-08-08</td>\n      <td>[1, 0, 0, 0, 0, 0, 0, 0, 0, 0]</td>\n      <td>...</td>\n      <td>10</td>\n      <td>1</td>\n      <td>7</td>\n      <td>5</td>\n      <td>[1, 1, 1, 1, 1, 1, 1, 1, 1, 1]</td>\n      <td>[10, 10, 10, 10, 10, 10, 10, 10, 10, 10]</td>\n      <td>[7, 7, 7, 7, 7, 7, 7, 7, 7, 7]</td>\n      <td>[1, 1, 1, 1, 1, 1, 1, 1, 1, 1]</td>\n      <td>[[0, 0, 0, 0, 0, 0, 0], [0, 0, 0, 0, 0, 0, 0],...</td>\n      <td>[0, 0, 0, 0, 1, 0, 0]</td>\n    </tr>\n  </tbody>\n</table>\n<p>18562 rows × 22 columns</p>\n</div>"
     },
     "execution_count": 736,
     "metadata": {},
     "output_type": "execute_result"
    }
   ],
   "source": [
    "final_routes = final_routes.sort_values(by='date', ascending=True)\n",
    "final_routes"
   ],
   "metadata": {
    "collapsed": false,
    "pycharm": {
     "name": "#%%\n"
    }
   }
  },
  {
   "cell_type": "code",
   "execution_count": 737,
   "outputs": [
    {
     "data": {
      "text/plain": "                                                  routes  \\\n0                               [1, 2, 3, 4, 5, 5, 6, 7]   \n1      [287, 5901, 2070, 8721, 1829, 3148, 5903, 7282...   \n2      [287, 1509, 8223, 1510, 4842, 1511, 1512, 1513...   \n3      [287, 9286, 1556, 1558, 1559, 1560, 1562, 1821...   \n4        [9285, 3600, 3599, 3598, 3601, 5623, 5618, 287]   \n...                                                  ...   \n18557      [1, 1577, 2442, 7502, 1575, 9274, 1579, 1580]   \n18558  [1, 2764, 2763, 2762, 2759, 2758, 2756, 2754, ...   \n18559  [1, 305, 304, 6433, 6434, 6430, 6431, 6432, 64...   \n18560  [1, 6852, 3912, 3908, 3907, 3915, 3916, 6226, ...   \n18561   [1, 10694, 51, 1393, 55, 56, 1390, 2443, 53, 54]   \n\n                                           actual_routes  driver_id  \\\n0       [1167, 1405, 1560, 1413, 1391, 1391, 1434, 1269]       1255   \n1      [7166, 7975, 8132, 7931, 9027, 8114, 7899, 794...        678   \n2      [7166, 7275, 7290, 7306, 7314, 7268, 7310, 727...       1130   \n3      [7166, 10402, 10527, 10653, 10657, 10656, 1066...       1432   \n4       [4737, 4401, 4930, 4402, 4406, 4399, 5551, 7166]        673   \n...                                                  ...        ...   \n18557     [1167, 2179, 1779, 1339, 916, 960, 1044, 1254]       1176   \n18558  [1167, 2369, 2407, 2378, 2380, 2361, 2318, 232...       1693   \n18559  [1167, 2206, 2208, 2190, 2188, 1921, 1252, 118...       1221   \n18560  [1167, 1261, 1148, 991, 989, 914, 941, 1701, 1...       1443   \n18561  [1167, 191, 192, 189, 214, 215, 220, 219, 212,...       1184   \n\n                                          distance_route  \\\n0      [14.640018023192697, 1.5229312527257717, 0.606...   \n1      [16.8813099734871, 1.4193822774993288, 1.69446...   \n2      [4.2526479533841615, 0.3190360542384608, 0.064...   \n3      [39.008249614578496, 4.991041549057401, 6.0046...   \n4      [14.169024669714064, 0.024512138008107462, 0.1...   \n...                                                  ...   \n18557  [5.231982911743476, 2.1256537282910335, 1.8414...   \n18558  [8.129492283135372, 1.6548073593661337, 0.1871...   \n18559  [11.167364545905412, 1.6090111605624327, 2.966...   \n18560  [8.593375524055487, 0.5755007431477985, 1.2338...   \n18561  [50.31198761409171, 0.07481280750535345, 4.285...   \n\n       last_two_weeks_count  \\\n0                         8   \n1                         8   \n2                         7   \n3                         8   \n4                         6   \n...                     ...   \n18557                     1   \n18558                     1   \n18559                     1   \n18560                     1   \n18561                     1   \n\n                                             current_lat  \\\n0      [55.64641920439919, 55.6669147, 55.6757322, 55...   \n1      [59.805664, 59.911859, 59.92994419999999, 59.9...   \n2      [59.805664, 59.8251957, 59.829521, 59.82859229...   \n3      [59.805664, 60.154124, 60.2087853, 60.282454, ...   \n4      [59.24568790000001, 59.060951, 59.0612619, 59....   \n...                                                  ...   \n18557  [55.64641920439919, 55.619592, 55.609156, 55.6...   \n18558  [55.64641920439919, 55.7545069, 55.7662324, 55...   \n18559  [55.64641920439919, 55.7392193, 55.7215745, 55...   \n18560  [55.64641920439919, 55.652685, 55.644387, 55.6...   \n18561  [55.64641920439919, 54.9216487, 54.92115310000...   \n\n                                             current_lng day_of_week  \\\n0      [12.15372974969827, 12.5262801, 12.5619711, 12...      Monday   \n1      [10.290383, 10.7268119, 10.7460521, 10.7219407...      Monday   \n2      [10.290383, 10.4060268, 10.402867, 10.4028435,...      Monday   \n3      [10.290383, 11.173989, 11.0796147, 11.171705, ...      Monday   \n4      [10.2530581, 10.081411, 10.0810818, 10.0835448...      Monday   \n...                                                  ...         ...   \n18557  [12.15372974969827, 12.028735, 12.079797, 12.0...   Wednesday   \n18558  [12.15372974969827, 12.2353714, 12.1983964, 12...   Wednesday   \n18559  [12.15372974969827, 12.3875685, 12.3607169, 12...   Wednesday   \n18560  [12.15372974969827, 12.373122, 12.374162, 12.3...   Wednesday   \n18561  [12.15372974969827, 12.0475591, 12.0492281, 12...    Thursday   \n\n            date                                  location_is_depot  ...  \\\n0     2024-01-15                           [1, 0, 0, 0, 0, 0, 0, 0]  ...   \n1     2024-01-15   [1, 0, 0, 0, 0, 0, 0, 0, 0, 0, 0, 0, 0, 0, 0, 0]  ...   \n2     2024-01-15  [1, 0, 0, 0, 0, 0, 0, 0, 0, 0, 0, 0, 0, 0, 0, ...  ...   \n3     2024-01-15         [1, 0, 0, 0, 0, 0, 0, 0, 0, 0, 0, 0, 0, 0]  ...   \n4     2024-01-15                           [0, 0, 0, 0, 0, 0, 0, 1]  ...   \n...          ...                                                ...  ...   \n18557 2024-08-07                           [1, 0, 0, 0, 0, 0, 0, 0]  ...   \n18558 2024-08-07                  [1, 0, 0, 0, 0, 0, 0, 0, 0, 0, 0]  ...   \n18559 2024-08-07   [1, 0, 0, 0, 0, 0, 0, 0, 0, 0, 0, 0, 0, 0, 0, 0]  ...   \n18560 2024-08-07                     [1, 0, 0, 0, 0, 0, 0, 0, 0, 0]  ...   \n18561 2024-08-08                     [1, 0, 0, 0, 0, 0, 0, 0, 0, 0]  ...   \n\n      driver_id_sorted  day_of_week_encoded  \\\n0                    1                    2   \n1                  282                    2   \n2                   75                    2   \n3                   23                    2   \n4                  106                    2   \n...                ...                  ...   \n18557              119                    7   \n18558              367                    7   \n18559               24                    7   \n18560              214                    7   \n18561                7                    5   \n\n                                      experience_feature  \\\n0                               [8, 8, 8, 8, 8, 8, 8, 8]   \n1       [8, 8, 8, 8, 8, 8, 8, 8, 8, 8, 8, 8, 8, 8, 8, 8]   \n2      [7, 7, 7, 7, 7, 7, 7, 7, 7, 7, 7, 7, 7, 7, 7, ...   \n3             [8, 8, 8, 8, 8, 8, 8, 8, 8, 8, 8, 8, 8, 8]   \n4                               [6, 6, 6, 6, 6, 6, 6, 6]   \n...                                                  ...   \n18557                           [1, 1, 1, 1, 1, 1, 1, 1]   \n18558                  [1, 1, 1, 1, 1, 1, 1, 1, 1, 1, 1]   \n18559   [1, 1, 1, 1, 1, 1, 1, 1, 1, 1, 1, 1, 1, 1, 1, 1]   \n18560                     [1, 1, 1, 1, 1, 1, 1, 1, 1, 1]   \n18561                     [1, 1, 1, 1, 1, 1, 1, 1, 1, 1]   \n\n                                             len_feature  \\\n0                               [8, 8, 8, 8, 8, 8, 8, 8]   \n1      [16, 16, 16, 16, 16, 16, 16, 16, 16, 16, 16, 1...   \n2      [25, 25, 25, 25, 25, 25, 25, 25, 25, 25, 25, 2...   \n3      [14, 14, 14, 14, 14, 14, 14, 14, 14, 14, 14, 1...   \n4                               [8, 8, 8, 8, 8, 8, 8, 8]   \n...                                                  ...   \n18557                           [8, 8, 8, 8, 8, 8, 8, 8]   \n18558       [11, 11, 11, 11, 11, 11, 11, 11, 11, 11, 11]   \n18559  [16, 16, 16, 16, 16, 16, 16, 16, 16, 16, 16, 1...   \n18560           [10, 10, 10, 10, 10, 10, 10, 10, 10, 10]   \n18561           [10, 10, 10, 10, 10, 10, 10, 10, 10, 10]   \n\n                                       driver_id_feature  \\\n0                               [1, 1, 1, 1, 1, 1, 1, 1]   \n1      [282, 282, 282, 282, 282, 282, 282, 282, 282, ...   \n2      [75, 75, 75, 75, 75, 75, 75, 75, 75, 75, 75, 7...   \n3      [23, 23, 23, 23, 23, 23, 23, 23, 23, 23, 23, 2...   \n4               [106, 106, 106, 106, 106, 106, 106, 106]   \n...                                                  ...   \n18557           [119, 119, 119, 119, 119, 119, 119, 119]   \n18558  [367, 367, 367, 367, 367, 367, 367, 367, 367, ...   \n18559  [24, 24, 24, 24, 24, 24, 24, 24, 24, 24, 24, 2...   \n18560  [214, 214, 214, 214, 214, 214, 214, 214, 214, ...   \n18561                     [7, 7, 7, 7, 7, 7, 7, 7, 7, 7]   \n\n                                    country_flag_feature  \\\n0                               [1, 1, 1, 1, 1, 1, 1, 1]   \n1       [0, 0, 0, 0, 0, 0, 0, 0, 0, 0, 0, 0, 0, 0, 0, 0]   \n2      [0, 0, 0, 0, 0, 0, 0, 0, 0, 0, 0, 0, 0, 0, 0, ...   \n3             [0, 0, 0, 0, 0, 0, 0, 0, 0, 0, 0, 0, 0, 0]   \n4                               [0, 0, 0, 0, 0, 0, 0, 0]   \n...                                                  ...   \n18557                           [1, 1, 1, 1, 1, 1, 1, 1]   \n18558                  [1, 1, 1, 1, 1, 1, 1, 1, 1, 1, 1]   \n18559   [1, 1, 1, 1, 1, 1, 1, 1, 1, 1, 1, 1, 1, 1, 1, 1]   \n18560                     [1, 1, 1, 1, 1, 1, 1, 1, 1, 1]   \n18561                     [1, 1, 1, 1, 1, 1, 1, 1, 1, 1]   \n\n                                     day_of_week_feature  \\\n0      [[0, 0, 0, 0, 0, 0, 0], [0, 0, 0, 0, 0, 0, 0],...   \n1      [[0, 0, 0, 0, 0, 0, 0], [0, 0, 0, 0, 0, 0, 0],...   \n2      [[0, 0, 0, 0, 0, 0, 0], [0, 0, 0, 0, 0, 0, 0],...   \n3      [[0, 0, 0, 0, 0, 0, 0], [0, 0, 0, 0, 0, 0, 0],...   \n4      [[0, 0, 0, 0, 0, 0, 0], [0, 0, 0, 0, 0, 0, 0],...   \n...                                                  ...   \n18557  [[0, 0, 0, 0, 0, 0, 0], [0, 0, 0, 0, 0, 0, 0],...   \n18558  [[0, 0, 0, 0, 0, 0, 0], [0, 0, 0, 0, 0, 0, 0],...   \n18559  [[0, 0, 0, 0, 0, 0, 0], [0, 0, 0, 0, 0, 0, 0],...   \n18560  [[0, 0, 0, 0, 0, 0, 0], [0, 0, 0, 0, 0, 0, 0],...   \n18561  [[0, 0, 0, 0, 0, 0, 0], [0, 0, 0, 0, 0, 0, 0],...   \n\n      day_of_week_encoded_ext score_cumulative_avg score_cumulative_driver  \n0       [0, 1, 0, 0, 0, 0, 0]             0.000000                0.000000  \n1       [0, 1, 0, 0, 0, 0, 0]             1.000000                1.000000  \n2       [0, 1, 0, 0, 0, 0, 0]             1.000000                1.000000  \n3       [0, 1, 0, 0, 0, 0, 0]             1.000000                1.000000  \n4       [0, 1, 0, 0, 0, 0, 0]             1.000000                1.000000  \n...                       ...                  ...                     ...  \n18557   [0, 0, 0, 0, 0, 0, 1]             0.695652                0.880000  \n18558   [0, 0, 0, 0, 0, 0, 1]             1.000000                0.833333  \n18559   [0, 0, 0, 0, 0, 0, 1]             0.920000                0.923077  \n18560   [0, 0, 0, 0, 0, 0, 1]             0.687500                0.725490  \n18561   [0, 0, 0, 0, 1, 0, 0]             1.000000                0.741935  \n\n[18562 rows x 24 columns]",
      "text/html": "<div>\n<style scoped>\n    .dataframe tbody tr th:only-of-type {\n        vertical-align: middle;\n    }\n\n    .dataframe tbody tr th {\n        vertical-align: top;\n    }\n\n    .dataframe thead th {\n        text-align: right;\n    }\n</style>\n<table border=\"1\" class=\"dataframe\">\n  <thead>\n    <tr style=\"text-align: right;\">\n      <th></th>\n      <th>routes</th>\n      <th>actual_routes</th>\n      <th>driver_id</th>\n      <th>distance_route</th>\n      <th>last_two_weeks_count</th>\n      <th>current_lat</th>\n      <th>current_lng</th>\n      <th>day_of_week</th>\n      <th>date</th>\n      <th>location_is_depot</th>\n      <th>...</th>\n      <th>driver_id_sorted</th>\n      <th>day_of_week_encoded</th>\n      <th>experience_feature</th>\n      <th>len_feature</th>\n      <th>driver_id_feature</th>\n      <th>country_flag_feature</th>\n      <th>day_of_week_feature</th>\n      <th>day_of_week_encoded_ext</th>\n      <th>score_cumulative_avg</th>\n      <th>score_cumulative_driver</th>\n    </tr>\n  </thead>\n  <tbody>\n    <tr>\n      <th>0</th>\n      <td>[1, 2, 3, 4, 5, 5, 6, 7]</td>\n      <td>[1167, 1405, 1560, 1413, 1391, 1391, 1434, 1269]</td>\n      <td>1255</td>\n      <td>[14.640018023192697, 1.5229312527257717, 0.606...</td>\n      <td>8</td>\n      <td>[55.64641920439919, 55.6669147, 55.6757322, 55...</td>\n      <td>[12.15372974969827, 12.5262801, 12.5619711, 12...</td>\n      <td>Monday</td>\n      <td>2024-01-15</td>\n      <td>[1, 0, 0, 0, 0, 0, 0, 0]</td>\n      <td>...</td>\n      <td>1</td>\n      <td>2</td>\n      <td>[8, 8, 8, 8, 8, 8, 8, 8]</td>\n      <td>[8, 8, 8, 8, 8, 8, 8, 8]</td>\n      <td>[1, 1, 1, 1, 1, 1, 1, 1]</td>\n      <td>[1, 1, 1, 1, 1, 1, 1, 1]</td>\n      <td>[[0, 0, 0, 0, 0, 0, 0], [0, 0, 0, 0, 0, 0, 0],...</td>\n      <td>[0, 1, 0, 0, 0, 0, 0]</td>\n      <td>0.000000</td>\n      <td>0.000000</td>\n    </tr>\n    <tr>\n      <th>1</th>\n      <td>[287, 5901, 2070, 8721, 1829, 3148, 5903, 7282...</td>\n      <td>[7166, 7975, 8132, 7931, 9027, 8114, 7899, 794...</td>\n      <td>678</td>\n      <td>[16.8813099734871, 1.4193822774993288, 1.69446...</td>\n      <td>8</td>\n      <td>[59.805664, 59.911859, 59.92994419999999, 59.9...</td>\n      <td>[10.290383, 10.7268119, 10.7460521, 10.7219407...</td>\n      <td>Monday</td>\n      <td>2024-01-15</td>\n      <td>[1, 0, 0, 0, 0, 0, 0, 0, 0, 0, 0, 0, 0, 0, 0, 0]</td>\n      <td>...</td>\n      <td>282</td>\n      <td>2</td>\n      <td>[8, 8, 8, 8, 8, 8, 8, 8, 8, 8, 8, 8, 8, 8, 8, 8]</td>\n      <td>[16, 16, 16, 16, 16, 16, 16, 16, 16, 16, 16, 1...</td>\n      <td>[282, 282, 282, 282, 282, 282, 282, 282, 282, ...</td>\n      <td>[0, 0, 0, 0, 0, 0, 0, 0, 0, 0, 0, 0, 0, 0, 0, 0]</td>\n      <td>[[0, 0, 0, 0, 0, 0, 0], [0, 0, 0, 0, 0, 0, 0],...</td>\n      <td>[0, 1, 0, 0, 0, 0, 0]</td>\n      <td>1.000000</td>\n      <td>1.000000</td>\n    </tr>\n    <tr>\n      <th>2</th>\n      <td>[287, 1509, 8223, 1510, 4842, 1511, 1512, 1513...</td>\n      <td>[7166, 7275, 7290, 7306, 7314, 7268, 7310, 727...</td>\n      <td>1130</td>\n      <td>[4.2526479533841615, 0.3190360542384608, 0.064...</td>\n      <td>7</td>\n      <td>[59.805664, 59.8251957, 59.829521, 59.82859229...</td>\n      <td>[10.290383, 10.4060268, 10.402867, 10.4028435,...</td>\n      <td>Monday</td>\n      <td>2024-01-15</td>\n      <td>[1, 0, 0, 0, 0, 0, 0, 0, 0, 0, 0, 0, 0, 0, 0, ...</td>\n      <td>...</td>\n      <td>75</td>\n      <td>2</td>\n      <td>[7, 7, 7, 7, 7, 7, 7, 7, 7, 7, 7, 7, 7, 7, 7, ...</td>\n      <td>[25, 25, 25, 25, 25, 25, 25, 25, 25, 25, 25, 2...</td>\n      <td>[75, 75, 75, 75, 75, 75, 75, 75, 75, 75, 75, 7...</td>\n      <td>[0, 0, 0, 0, 0, 0, 0, 0, 0, 0, 0, 0, 0, 0, 0, ...</td>\n      <td>[[0, 0, 0, 0, 0, 0, 0], [0, 0, 0, 0, 0, 0, 0],...</td>\n      <td>[0, 1, 0, 0, 0, 0, 0]</td>\n      <td>1.000000</td>\n      <td>1.000000</td>\n    </tr>\n    <tr>\n      <th>3</th>\n      <td>[287, 9286, 1556, 1558, 1559, 1560, 1562, 1821...</td>\n      <td>[7166, 10402, 10527, 10653, 10657, 10656, 1066...</td>\n      <td>1432</td>\n      <td>[39.008249614578496, 4.991041549057401, 6.0046...</td>\n      <td>8</td>\n      <td>[59.805664, 60.154124, 60.2087853, 60.282454, ...</td>\n      <td>[10.290383, 11.173989, 11.0796147, 11.171705, ...</td>\n      <td>Monday</td>\n      <td>2024-01-15</td>\n      <td>[1, 0, 0, 0, 0, 0, 0, 0, 0, 0, 0, 0, 0, 0]</td>\n      <td>...</td>\n      <td>23</td>\n      <td>2</td>\n      <td>[8, 8, 8, 8, 8, 8, 8, 8, 8, 8, 8, 8, 8, 8]</td>\n      <td>[14, 14, 14, 14, 14, 14, 14, 14, 14, 14, 14, 1...</td>\n      <td>[23, 23, 23, 23, 23, 23, 23, 23, 23, 23, 23, 2...</td>\n      <td>[0, 0, 0, 0, 0, 0, 0, 0, 0, 0, 0, 0, 0, 0]</td>\n      <td>[[0, 0, 0, 0, 0, 0, 0], [0, 0, 0, 0, 0, 0, 0],...</td>\n      <td>[0, 1, 0, 0, 0, 0, 0]</td>\n      <td>1.000000</td>\n      <td>1.000000</td>\n    </tr>\n    <tr>\n      <th>4</th>\n      <td>[9285, 3600, 3599, 3598, 3601, 5623, 5618, 287]</td>\n      <td>[4737, 4401, 4930, 4402, 4406, 4399, 5551, 7166]</td>\n      <td>673</td>\n      <td>[14.169024669714064, 0.024512138008107462, 0.1...</td>\n      <td>6</td>\n      <td>[59.24568790000001, 59.060951, 59.0612619, 59....</td>\n      <td>[10.2530581, 10.081411, 10.0810818, 10.0835448...</td>\n      <td>Monday</td>\n      <td>2024-01-15</td>\n      <td>[0, 0, 0, 0, 0, 0, 0, 1]</td>\n      <td>...</td>\n      <td>106</td>\n      <td>2</td>\n      <td>[6, 6, 6, 6, 6, 6, 6, 6]</td>\n      <td>[8, 8, 8, 8, 8, 8, 8, 8]</td>\n      <td>[106, 106, 106, 106, 106, 106, 106, 106]</td>\n      <td>[0, 0, 0, 0, 0, 0, 0, 0]</td>\n      <td>[[0, 0, 0, 0, 0, 0, 0], [0, 0, 0, 0, 0, 0, 0],...</td>\n      <td>[0, 1, 0, 0, 0, 0, 0]</td>\n      <td>1.000000</td>\n      <td>1.000000</td>\n    </tr>\n    <tr>\n      <th>...</th>\n      <td>...</td>\n      <td>...</td>\n      <td>...</td>\n      <td>...</td>\n      <td>...</td>\n      <td>...</td>\n      <td>...</td>\n      <td>...</td>\n      <td>...</td>\n      <td>...</td>\n      <td>...</td>\n      <td>...</td>\n      <td>...</td>\n      <td>...</td>\n      <td>...</td>\n      <td>...</td>\n      <td>...</td>\n      <td>...</td>\n      <td>...</td>\n      <td>...</td>\n      <td>...</td>\n    </tr>\n    <tr>\n      <th>18557</th>\n      <td>[1, 1577, 2442, 7502, 1575, 9274, 1579, 1580]</td>\n      <td>[1167, 2179, 1779, 1339, 916, 960, 1044, 1254]</td>\n      <td>1176</td>\n      <td>[5.231982911743476, 2.1256537282910335, 1.8414...</td>\n      <td>1</td>\n      <td>[55.64641920439919, 55.619592, 55.609156, 55.6...</td>\n      <td>[12.15372974969827, 12.028735, 12.079797, 12.0...</td>\n      <td>Wednesday</td>\n      <td>2024-08-07</td>\n      <td>[1, 0, 0, 0, 0, 0, 0, 0]</td>\n      <td>...</td>\n      <td>119</td>\n      <td>7</td>\n      <td>[1, 1, 1, 1, 1, 1, 1, 1]</td>\n      <td>[8, 8, 8, 8, 8, 8, 8, 8]</td>\n      <td>[119, 119, 119, 119, 119, 119, 119, 119]</td>\n      <td>[1, 1, 1, 1, 1, 1, 1, 1]</td>\n      <td>[[0, 0, 0, 0, 0, 0, 0], [0, 0, 0, 0, 0, 0, 0],...</td>\n      <td>[0, 0, 0, 0, 0, 0, 1]</td>\n      <td>0.695652</td>\n      <td>0.880000</td>\n    </tr>\n    <tr>\n      <th>18558</th>\n      <td>[1, 2764, 2763, 2762, 2759, 2758, 2756, 2754, ...</td>\n      <td>[1167, 2369, 2407, 2378, 2380, 2361, 2318, 232...</td>\n      <td>1693</td>\n      <td>[8.129492283135372, 1.6548073593661337, 0.1871...</td>\n      <td>1</td>\n      <td>[55.64641920439919, 55.7545069, 55.7662324, 55...</td>\n      <td>[12.15372974969827, 12.2353714, 12.1983964, 12...</td>\n      <td>Wednesday</td>\n      <td>2024-08-07</td>\n      <td>[1, 0, 0, 0, 0, 0, 0, 0, 0, 0, 0]</td>\n      <td>...</td>\n      <td>367</td>\n      <td>7</td>\n      <td>[1, 1, 1, 1, 1, 1, 1, 1, 1, 1, 1]</td>\n      <td>[11, 11, 11, 11, 11, 11, 11, 11, 11, 11, 11]</td>\n      <td>[367, 367, 367, 367, 367, 367, 367, 367, 367, ...</td>\n      <td>[1, 1, 1, 1, 1, 1, 1, 1, 1, 1, 1]</td>\n      <td>[[0, 0, 0, 0, 0, 0, 0], [0, 0, 0, 0, 0, 0, 0],...</td>\n      <td>[0, 0, 0, 0, 0, 0, 1]</td>\n      <td>1.000000</td>\n      <td>0.833333</td>\n    </tr>\n    <tr>\n      <th>18559</th>\n      <td>[1, 305, 304, 6433, 6434, 6430, 6431, 6432, 64...</td>\n      <td>[1167, 2206, 2208, 2190, 2188, 1921, 1252, 118...</td>\n      <td>1221</td>\n      <td>[11.167364545905412, 1.6090111605624327, 2.966...</td>\n      <td>1</td>\n      <td>[55.64641920439919, 55.7392193, 55.7215745, 55...</td>\n      <td>[12.15372974969827, 12.3875685, 12.3607169, 12...</td>\n      <td>Wednesday</td>\n      <td>2024-08-07</td>\n      <td>[1, 0, 0, 0, 0, 0, 0, 0, 0, 0, 0, 0, 0, 0, 0, 0]</td>\n      <td>...</td>\n      <td>24</td>\n      <td>7</td>\n      <td>[1, 1, 1, 1, 1, 1, 1, 1, 1, 1, 1, 1, 1, 1, 1, 1]</td>\n      <td>[16, 16, 16, 16, 16, 16, 16, 16, 16, 16, 16, 1...</td>\n      <td>[24, 24, 24, 24, 24, 24, 24, 24, 24, 24, 24, 2...</td>\n      <td>[1, 1, 1, 1, 1, 1, 1, 1, 1, 1, 1, 1, 1, 1, 1, 1]</td>\n      <td>[[0, 0, 0, 0, 0, 0, 0], [0, 0, 0, 0, 0, 0, 0],...</td>\n      <td>[0, 0, 0, 0, 0, 0, 1]</td>\n      <td>0.920000</td>\n      <td>0.923077</td>\n    </tr>\n    <tr>\n      <th>18560</th>\n      <td>[1, 6852, 3912, 3908, 3907, 3915, 3916, 6226, ...</td>\n      <td>[1167, 1261, 1148, 991, 989, 914, 941, 1701, 1...</td>\n      <td>1443</td>\n      <td>[8.593375524055487, 0.5755007431477985, 1.2338...</td>\n      <td>1</td>\n      <td>[55.64641920439919, 55.652685, 55.644387, 55.6...</td>\n      <td>[12.15372974969827, 12.373122, 12.374162, 12.3...</td>\n      <td>Wednesday</td>\n      <td>2024-08-07</td>\n      <td>[1, 0, 0, 0, 0, 0, 0, 0, 0, 0]</td>\n      <td>...</td>\n      <td>214</td>\n      <td>7</td>\n      <td>[1, 1, 1, 1, 1, 1, 1, 1, 1, 1]</td>\n      <td>[10, 10, 10, 10, 10, 10, 10, 10, 10, 10]</td>\n      <td>[214, 214, 214, 214, 214, 214, 214, 214, 214, ...</td>\n      <td>[1, 1, 1, 1, 1, 1, 1, 1, 1, 1]</td>\n      <td>[[0, 0, 0, 0, 0, 0, 0], [0, 0, 0, 0, 0, 0, 0],...</td>\n      <td>[0, 0, 0, 0, 0, 0, 1]</td>\n      <td>0.687500</td>\n      <td>0.725490</td>\n    </tr>\n    <tr>\n      <th>18561</th>\n      <td>[1, 10694, 51, 1393, 55, 56, 1390, 2443, 53, 54]</td>\n      <td>[1167, 191, 192, 189, 214, 215, 220, 219, 212,...</td>\n      <td>1184</td>\n      <td>[50.31198761409171, 0.07481280750535345, 4.285...</td>\n      <td>1</td>\n      <td>[55.64641920439919, 54.9216487, 54.92115310000...</td>\n      <td>[12.15372974969827, 12.0475591, 12.0492281, 12...</td>\n      <td>Thursday</td>\n      <td>2024-08-08</td>\n      <td>[1, 0, 0, 0, 0, 0, 0, 0, 0, 0]</td>\n      <td>...</td>\n      <td>7</td>\n      <td>5</td>\n      <td>[1, 1, 1, 1, 1, 1, 1, 1, 1, 1]</td>\n      <td>[10, 10, 10, 10, 10, 10, 10, 10, 10, 10]</td>\n      <td>[7, 7, 7, 7, 7, 7, 7, 7, 7, 7]</td>\n      <td>[1, 1, 1, 1, 1, 1, 1, 1, 1, 1]</td>\n      <td>[[0, 0, 0, 0, 0, 0, 0], [0, 0, 0, 0, 0, 0, 0],...</td>\n      <td>[0, 0, 0, 0, 1, 0, 0]</td>\n      <td>1.000000</td>\n      <td>0.741935</td>\n    </tr>\n  </tbody>\n</table>\n<p>18562 rows × 24 columns</p>\n</div>"
     },
     "execution_count": 737,
     "metadata": {},
     "output_type": "execute_result"
    }
   ],
   "source": [
    "np.random.seed(42)\n",
    "final_routes['date'] = pd.to_datetime(final_routes['date'])\n",
    "final_routes['tie_breaker'] = range(len(final_routes))\n",
    "final_routes = final_routes.sort_values(by=['date', 'tie_breaker'], ascending=[True, True])\n",
    "final_routes = final_routes.reset_index(drop=True)\n",
    "final_routes = final_routes.drop('tie_breaker', axis=1)\n",
    "\n",
    "final_routes['score_cumulative_avg'] = final_routes.groupby(['driver_id_sorted', 'day_of_week'])['label'].transform(\n",
    "        lambda x: x.expanding().mean()\n",
    "    )\n",
    "final_routes['score_cumulative_driver'] = final_routes.groupby(['driver_id_sorted'])['label'].transform(\n",
    "        lambda x: x.expanding().mean()\n",
    "    )\n",
    "\n",
    "final_routes"
   ],
   "metadata": {
    "collapsed": false,
    "pycharm": {
     "name": "#%%\n"
    }
   }
  },
  {
   "cell_type": "markdown",
   "source": [
    "# Average benchmark here"
   ],
   "metadata": {
    "collapsed": false,
    "pycharm": {
     "name": "#%% md\n"
    }
   }
  },
  {
   "cell_type": "code",
   "execution_count": 738,
   "outputs": [],
   "source": [
    "# result = final_routes.groupby('driver_id_sorted')[['driver_id_sorted', 'score']].apply(\n",
    "#     lambda x: pd.Series({'count': len(x), 'score': x['score'].tolist()})\n",
    "# ).reset_index()\n",
    "#\n",
    "# sorted_result = result.sort_values(by='count', ascending=False).reset_index(drop=True)\n"
   ],
   "metadata": {
    "collapsed": false,
    "pycharm": {
     "name": "#%%\n"
    }
   }
  },
  {
   "cell_type": "code",
   "execution_count": 739,
   "outputs": [],
   "source": [
    "import pandas as pd\n",
    "from sklearn.metrics import (\n",
    "    accuracy_score, precision_score, recall_score, f1_score,\n",
    "    roc_auc_score, average_precision_score, log_loss, brier_score_loss\n",
    ")\n",
    "import matplotlib.pyplot as plt\n",
    "\n",
    "def get_predictions(df, scores_dict):\n",
    "    def predict(row):\n",
    "        # Try to get the score from the main dictionary\n",
    "        label = scores_dict.get((row['driver_id_sorted'], row['day_of_week']))\n",
    "\n",
    "        # If not found, fall back to the driver-only dictionary\n",
    "        if label is None:\n",
    "            print('1')\n",
    "            return 0.5\n",
    "        else:\n",
    "            return label\n",
    "\n",
    "    return df.apply(predict, axis=1)\n",
    "\n",
    "\n",
    "# Function to calculate metrics\n",
    "def calculate_metrics(y_true, y_pred, y_pred_proba):\n",
    "    acc = accuracy_score(y_true, y_pred)\n",
    "    precision = precision_score(y_true, y_pred)\n",
    "    recall = recall_score(y_true, y_pred)\n",
    "    f1 = f1_score(y_true, y_pred)\n",
    "    roc_auc = roc_auc_score(y_true, y_pred)\n",
    "    average_precision = average_precision_score(y_true, y_pred)\n",
    "    quadratic_loss = log_loss(y_true, y_pred_proba)\n",
    "    brier_score = brier_score_loss(y_true, y_pred_proba)\n",
    "\n",
    "    metrics = {\n",
    "        \"acc\": acc,\n",
    "        \"precision\": precision,\n",
    "        \"recall\": recall,\n",
    "        \"f1\": f1,\n",
    "        \"roc_auc\": roc_auc,\n",
    "        \"average_precision\": average_precision,\n",
    "        \"quadratic_loss\": quadratic_loss,\n",
    "        \"brier_score\": brier_score,\n",
    "    }\n",
    "    return metrics"
   ],
   "metadata": {
    "collapsed": false,
    "pycharm": {
     "name": "#%%\n"
    }
   }
  },
  {
   "cell_type": "code",
   "execution_count": 740,
   "outputs": [
    {
     "name": "stderr",
     "output_type": "stream",
     "text": [
      "/var/folders/0j/mpbqwzf51p38zw2w423xp1fw0000gn/T/ipykernel_63591/141836622.py:76: DeprecationWarning: DataFrameGroupBy.apply operated on the grouping columns. This behavior is deprecated, and in a future version of pandas the grouping columns will be excluded from the operation. Either pass `include_groups=False` to exclude the groupings or explicitly select the grouping columns after groupby to silence this warning.\n",
      "  final_routes_split = final_routes.groupby(['driver_id_sorted', 'day_of_week']).apply(split_group).reset_index(drop=True)\n"
     ]
    },
    {
     "name": "stdout",
     "output_type": "stream",
     "text": [
      "Total number of drivers 316\n",
      "10538\n",
      "17354\n",
      "lens 13555 2167 1632\n",
      "val_metrics {'acc': 0.7074296262113521, 'precision': 0.6950904392764858, 'recall': 0.7424103035878565, 'f1': 0.7179715302491103, 'roc_auc': 0.7073162629050395, 'average_precision': 0.6452531946764828, 'quadratic_loss': 1.4175690570691852, 'brier_score': 0.19876861652165434, 'true_positive': 807, 'false_positive': 354, 'true_negative': 726, 'false_negative': 280}\n",
      "test_metrics {'acc': 0.7156862745098039, 'precision': 0.7167630057803468, 'recall': 0.7389749702026222, 'f1': 0.7276995305164319, 'roc_auc': 0.7150108142311975, 'average_precision': 0.6638610973094619, 'quadratic_loss': 1.3065382494673174, 'brier_score': 0.19745133921451263, 'true_positive': 620, 'false_positive': 245, 'true_negative': 548, 'false_negative': 219}\n",
      "620 245\n"
     ]
    }
   ],
   "source": [
    "from sklearn.metrics import confusion_matrix\n",
    "def get_predictions(df, scores_dict):\n",
    "    def predict(row):\n",
    "        # Try to get the score from the main dictionary\n",
    "        label = scores_dict.get((row['driver_id_sorted'], row['day_of_week']))\n",
    "\n",
    "        # If not found, fall back to the driver-only dictionary\n",
    "        if label is None:\n",
    "            print('1')\n",
    "            return 0.5\n",
    "        else:\n",
    "            return label\n",
    "\n",
    "    return df.apply(predict, axis=1)\n",
    "def calculate_metrics(y_true, y_pred, y_pred_proba):\n",
    "    acc = accuracy_score(y_true, y_pred)\n",
    "    precision = precision_score(y_true, y_pred)\n",
    "    recall = recall_score(y_true, y_pred)\n",
    "    f1 = f1_score(y_true, y_pred)\n",
    "    roc_auc = roc_auc_score(y_true, y_pred)\n",
    "    average_precision = average_precision_score(y_true, y_pred)\n",
    "    quadratic_loss = log_loss(y_true, y_pred_proba)\n",
    "    brier_score = brier_score_loss(y_true, y_pred_proba)\n",
    "    tn, fp, fn, tp = confusion_matrix(y_true, y_pred).ravel()\n",
    "\n",
    "    metrics = {\n",
    "        \"acc\": acc,\n",
    "        \"precision\": precision,\n",
    "        \"recall\": recall,\n",
    "        \"f1\": f1,\n",
    "        \"roc_auc\": roc_auc,\n",
    "        \"average_precision\": average_precision,\n",
    "        \"quadratic_loss\": quadratic_loss,\n",
    "        \"brier_score\": brier_score,\n",
    "        \"true_positive\": tp,\n",
    "        \"false_positive\": fp,\n",
    "        \"true_negative\": tn,\n",
    "        \"false_negative\": fn\n",
    "    }\n",
    "    return metrics\n",
    "\n",
    "def split_group(group):\n",
    "    n = len(group)\n",
    "    if n < 4:  # Ensure at least 1 sample for train and 1 each for val and test\n",
    "        return pd.DataFrame()\n",
    "\n",
    "    # Calculate sizes for each split\n",
    "    train_size = max(int(n * 0.8), n - 4)  # Ensure at least 2 samples total for val and test\n",
    "    val_test_size = n - train_size\n",
    "\n",
    "    # Always give the extra sample to val when odd\n",
    "    val_size = (val_test_size + 1) // 2  # This will be larger when val_test_size is odd\n",
    "    test_size = val_test_size - val_size\n",
    "\n",
    "    return pd.concat([\n",
    "        group.iloc[:train_size].assign(split='train'),\n",
    "        group.iloc[train_size:train_size+val_size].assign(split='val'),\n",
    "        group.iloc[train_size+val_size:].assign(split='test')\n",
    "    ])\n",
    "\n",
    "def categorize_predictions(df, y_true, y_pred, y_pred_proba):\n",
    "    df = df.copy()\n",
    "    df['prediction_category'] = 'Unknown'\n",
    "    df.loc[(y_true == 1) & (y_pred == 1), 'prediction_category'] = 'True Positive'\n",
    "    df.loc[(y_true == 0) & (y_pred == 1), 'prediction_category'] = 'False Positive'\n",
    "    df.loc[(y_true == 1) & (y_pred == 0), 'prediction_category'] = 'False Negative'\n",
    "    df.loc[(y_true == 0) & (y_pred == 0), 'prediction_category'] = 'True Negative'\n",
    "    df['predictive_probability'] = y_pred_proba\n",
    "    return df\n",
    "\n",
    "def save_categorized_routes(df, filename):\n",
    "    df.to_csv(filename, index=False)\n",
    "    print(f\"Saved categorized routes to {filename}\")\n",
    "\n",
    "\n",
    "final_routes_split = final_routes.groupby(['driver_id_sorted', 'day_of_week']).apply(split_group).reset_index(drop=True)\n",
    "# Separate into train, validation, and test sets\n",
    "\n",
    "drivers_dic = {}\n",
    "k = 1\n",
    "for driver in final_routes_split['driver_id_sorted']:\n",
    "    if driver not in drivers_dic:\n",
    "        drivers_dic[driver] = k\n",
    "        k += 1\n",
    "print('Total number of drivers', len(drivers_dic))\n",
    "total_drivers = len(drivers_dic)\n",
    "encoding_drivers = []\n",
    "for driver in final_routes_split['driver_id_sorted']:\n",
    "    encoding_drivers.append(drivers_dic[driver])\n",
    "#\n",
    "final_routes_split['driver_id_sorted'] = encoding_drivers\n",
    "\n",
    "locations_dic = {}\n",
    "location_count = {}\n",
    "k = 1\n",
    "for row in final_routes_split['routes']:\n",
    "   for location in row:\n",
    "       if location not in locations_dic:\n",
    "           locations_dic[location] = k\n",
    "           k += 1\n",
    "k = 1\n",
    "print(len(locations_dic))\n",
    "\n",
    "for row in final_routes_split['routes']:\n",
    "   for location in row:\n",
    "       if location not in location_count:\n",
    "            location_count[location] = 1\n",
    "       else:\n",
    "            location_count[location] += 1\n",
    "encoding_routes = []\n",
    "for row in final_routes_split['routes']:\n",
    "    encoding_route = []\n",
    "    for location in row:\n",
    "        encoding_route.append(locations_dic[location])\n",
    "    encoding_routes.append(encoding_route)\n",
    "final_routes_split['routes'] = encoding_routes\n",
    "\n",
    "print(len(final_routes_split))\n",
    "train_df = final_routes_split[final_routes_split['split'] == 'train'].drop('split', axis=1)\n",
    "val_df = final_routes_split[final_routes_split['split'] == 'val'].drop('split', axis=1)\n",
    "test_df = final_routes_split[final_routes_split['split'] == 'test'].drop('split', axis=1)\n",
    "\n",
    "print('lens', len(train_df), len(val_df), len(test_df))\n",
    "combined_df = pd.concat([train_df, val_df, test_df], axis=0)\n",
    "combined_df = combined_df.reset_index(drop=True)\n",
    "\n",
    "val_y_true = val_df['label']\n",
    "average_scores_dict = train_df.groupby(['driver_id_sorted', 'day_of_week'])['score_cumulative_avg'].last().to_dict()\n",
    "average_scores_dict_driver = train_df.groupby(['driver_id_sorted'])['score_cumulative_driver'].last().to_dict()\n",
    "val_y_pred_proba = get_predictions(val_df, average_scores_dict)\n",
    "val_y_pred = (val_y_pred_proba.values > 0.5).astype(int)\n",
    "val_metrics = calculate_metrics(val_y_true, val_y_pred, val_y_pred_proba)\n",
    "\n",
    "# # # Calculate metrics for test set\n",
    "test_y_true = test_df['label']\n",
    "test_y_pred_proba = get_predictions(test_df, average_scores_dict)\n",
    "test_y_pred = (test_y_pred_proba.values > 0.5).astype(int)\n",
    "test_metrics = calculate_metrics(test_y_true, test_y_pred, test_y_pred_proba)\n",
    "\n",
    "print('val_metrics', val_metrics)\n",
    "print('test_metrics', test_metrics)\n",
    "\n",
    "test_df_group_HA = categorize_predictions(test_df, test_y_true, test_y_pred, test_y_pred_proba)\n",
    "# save_categorized_routes(test_df_categorized, 'test_routes_categorized_HA.csv')\n",
    "test_df_group_HA[test_df_group_HA['prediction_category'] == 'True Positive']['routes']\n",
    "print(len(test_df_group_HA[test_df_group_HA['prediction_category'] == 'True Positive']['routes']), len(test_df_group_HA[test_df_group_HA['prediction_category'] == 'False Positive']['routes']))"
   ],
   "metadata": {
    "collapsed": false,
    "pycharm": {
     "name": "#%%\n"
    }
   }
  },
  {
   "cell_type": "markdown",
   "source": [
    "# After benchmark, continue model"
   ],
   "metadata": {
    "collapsed": false,
    "pycharm": {
     "name": "#%% md\n"
    }
   }
  },
  {
   "cell_type": "code",
   "execution_count": 741,
   "outputs": [
    {
     "data": {
      "text/plain": "                                                  routes  \\\n0                               [1, 2, 3, 4, 5, 5, 6, 7]   \n1                            [1, 2, 3, 8, 4, 5, 5, 6, 7]   \n2                            [1, 2, 3, 4, 5, 5, 7, 6, 8]   \n3                            [1, 2, 3, 8, 4, 5, 6, 9, 7]   \n4                            [1, 2, 3, 4, 5, 5, 6, 9, 7]   \n...                                                  ...   \n17349  [8649, 9201, 9200, 9205, 9206, 9204, 9211, 920...   \n17350  [8649, 9199, 9202, 9209, 9203, 9210, 9211, 920...   \n17351  [8649, 9199, 9205, 9206, 9202, 9203, 9210, 920...   \n17352  [8649, 9199, 9200, 9201, 9204, 9202, 9203, 921...   \n17353  [8649, 9199, 9201, 9200, 9202, 9204, 9205, 920...   \n\n                                           actual_routes  driver_id  \\\n0       [1167, 1405, 1560, 1413, 1391, 1391, 1434, 1269]     1255.0   \n1      [1167, 1405, 1577, 1560, 1413, 1391, 1391, 143...     1255.0   \n2      [1167, 1405, 1560, 1391, 1391, 1269, 1577, 143...     1255.0   \n3      [1167, 1405, 1168, 1560, 1577, 1413, 1391, 126...     1255.0   \n4      [1167, 1405, 1560, 1413, 1391, 1391, 1434, 126...     1255.0   \n...                                                  ...        ...   \n17349  [3162, 3636, 3660, 3649, 3649, 3661, 3596, 364...     1555.0   \n17350  [3162, 3654, 3656, 3636, 3648, 3661, 3652, 364...     1555.0   \n17351  [3162, 3656, 3641, 3665, 3646, 3658, 3661, 363...     1555.0   \n17352  [3162, 3641, 3663, 3648, 3661, 3646, 3660, 365...     1555.0   \n17353  [3162, 3641, 3663, 3648, 3661, 3661, 3651, 364...     1555.0   \n\n                                          distance_route  \\\n0      [14.640018023192697, 1.5229312527257717, 0.606...   \n1      [14.640018023192697, 1.5229312527257717, 0.185...   \n2      [14.640018023192697, 1.5229312527257717, 0.606...   \n3      [14.640018023192697, 1.5229312527257717, 0.185...   \n4      [14.640018023192697, 1.5229312527257717, 0.606...   \n...                                                  ...   \n17349  [10.326988859283256, 0.016889370846510543, 0.2...   \n17350  [10.35361799875347, 0.40596031876087574, 0.123...   \n17351  [10.35361799875347, 0.21530908942333182, 0.025...   \n17352  [10.35361799875347, 0.03919354991180035, 0.016...   \n17353  [10.35361799875347, 0.04612214849068512, 0.016...   \n\n       last_two_weeks_count  \\\n0                       8.0   \n1                      11.0   \n2                      11.0   \n3                      10.0   \n4                      10.0   \n...                     ...   \n17349                  11.0   \n17350                  12.0   \n17351                  11.0   \n17352                   7.0   \n17353                   2.0   \n\n                                             current_lat  \\\n0      [55.64641920439919, 55.6669147, 55.6757322, 55...   \n1      [55.64641920439919, 55.6669147, 55.6757322, 55...   \n2      [55.64641920439919, 55.6669147, 55.6757322, 55...   \n3      [55.64641920439919, 55.6669147, 55.6757322, 55...   \n4      [55.64641920439919, 55.6669147, 55.6757322, 55...   \n...                                                  ...   \n17349  [56.0667627, 56.1577259, 56.1578712, 56.159131...   \n17350  [56.0667627, 56.158392, 56.1596286, 56.1578408...   \n17351  [56.0667627, 56.158392, 56.159131, 56.15884339...   \n17352  [56.0667627, 56.158392, 56.1578712, 56.1577259...   \n17353  [56.0667627, 56.158392, 56.1577259, 56.1578712...   \n\n                                             current_lng day_of_week  \\\n0      [12.15372974969827, 12.5262801, 12.5619711, 12...      Monday   \n1      [12.15372974969827, 12.5262801, 12.5619711, 12...      Monday   \n2      [12.15372974969827, 12.5262801, 12.5619711, 12...      Monday   \n3      [12.15372974969827, 12.5262801, 12.5619711, 12...      Monday   \n4      [12.15372974969827, 12.5262801, 12.5619711, 12...      Monday   \n...                                                  ...         ...   \n17349  [9.986944, 10.1987529, 10.1991044, 10.204122, ...   Wednesday   \n17350  [9.986944, 10.198705, 10.2089833, 10.2090195, ...   Wednesday   \n17351  [9.986944, 10.198705, 10.204122, 10.2037157, 1...   Wednesday   \n17352  [9.986944, 10.198705, 10.1991044, 10.1987529, ...   Wednesday   \n17353  [9.986944, 10.198705, 10.1987529, 10.1991044, ...   Wednesday   \n\n            date                                  location_is_depot  ...  \\\n0     2024-01-15                           [1, 0, 0, 0, 0, 0, 0, 0]  ...   \n1     2024-02-19                        [1, 0, 0, 0, 0, 0, 0, 0, 0]  ...   \n2     2024-02-26                        [1, 0, 0, 0, 0, 0, 0, 0, 0]  ...   \n3     2024-03-04                        [1, 0, 0, 0, 0, 0, 0, 0, 0]  ...   \n4     2024-03-11                        [1, 0, 0, 0, 0, 0, 0, 0, 0]  ...   \n...          ...                                                ...  ...   \n17349 2024-06-05  [1, 0, 0, 0, 0, 0, 0, 0, 0, 0, 0, 0, 0, 0, 0, ...  ...   \n17350 2024-06-12  [1, 0, 0, 0, 0, 0, 0, 0, 0, 0, 0, 0, 0, 0, 0, ...  ...   \n17351 2024-06-19  [1, 0, 0, 0, 0, 0, 0, 0, 0, 0, 0, 0, 0, 0, 0, ...  ...   \n17352 2024-06-26  [1, 0, 0, 0, 0, 0, 0, 0, 0, 0, 0, 0, 0, 0, 0, ...  ...   \n17353 2024-07-03  [1, 0, 0, 0, 0, 0, 0, 0, 0, 0, 0, 0, 0, 0, 0, ...  ...   \n\n      day_of_week_encoded                                 experience_feature  \\\n0                     2.0                           [8, 8, 8, 8, 8, 8, 8, 8]   \n1                     2.0               [11, 11, 11, 11, 11, 11, 11, 11, 11]   \n2                     2.0               [11, 11, 11, 11, 11, 11, 11, 11, 11]   \n3                     2.0               [10, 10, 10, 10, 10, 10, 10, 10, 10]   \n4                     2.0               [10, 10, 10, 10, 10, 10, 10, 10, 10]   \n...                   ...                                                ...   \n17349                 7.0  [11, 11, 11, 11, 11, 11, 11, 11, 11, 11, 11, 1...   \n17350                 7.0  [12, 12, 12, 12, 12, 12, 12, 12, 12, 12, 12, 1...   \n17351                 7.0  [11, 11, 11, 11, 11, 11, 11, 11, 11, 11, 11, 1...   \n17352                 7.0  [7, 7, 7, 7, 7, 7, 7, 7, 7, 7, 7, 7, 7, 7, 7, ...   \n17353                 7.0  [2, 2, 2, 2, 2, 2, 2, 2, 2, 2, 2, 2, 2, 2, 2, ...   \n\n                                             len_feature  \\\n0                               [8, 8, 8, 8, 8, 8, 8, 8]   \n1                            [9, 9, 9, 9, 9, 9, 9, 9, 9]   \n2                            [9, 9, 9, 9, 9, 9, 9, 9, 9]   \n3                            [9, 9, 9, 9, 9, 9, 9, 9, 9]   \n4                            [9, 9, 9, 9, 9, 9, 9, 9, 9]   \n...                                                  ...   \n17349  [24, 24, 24, 24, 24, 24, 24, 24, 24, 24, 24, 2...   \n17350  [19, 19, 19, 19, 19, 19, 19, 19, 19, 19, 19, 1...   \n17351  [20, 20, 20, 20, 20, 20, 20, 20, 20, 20, 20, 2...   \n17352  [21, 21, 21, 21, 21, 21, 21, 21, 21, 21, 21, 2...   \n17353  [20, 20, 20, 20, 20, 20, 20, 20, 20, 20, 20, 2...   \n\n                                       driver_id_feature  \\\n0                               [1, 1, 1, 1, 1, 1, 1, 1]   \n1                            [1, 1, 1, 1, 1, 1, 1, 1, 1]   \n2                            [1, 1, 1, 1, 1, 1, 1, 1, 1]   \n3                            [1, 1, 1, 1, 1, 1, 1, 1, 1]   \n4                            [1, 1, 1, 1, 1, 1, 1, 1, 1]   \n...                                                  ...   \n17349  [387, 387, 387, 387, 387, 387, 387, 387, 387, ...   \n17350  [387, 387, 387, 387, 387, 387, 387, 387, 387, ...   \n17351  [387, 387, 387, 387, 387, 387, 387, 387, 387, ...   \n17352  [387, 387, 387, 387, 387, 387, 387, 387, 387, ...   \n17353  [387, 387, 387, 387, 387, 387, 387, 387, 387, ...   \n\n                                    country_flag_feature  \\\n0                               [1, 1, 1, 1, 1, 1, 1, 1]   \n1                            [1, 1, 1, 1, 1, 1, 1, 1, 1]   \n2                            [1, 1, 1, 1, 1, 1, 1, 1, 1]   \n3                            [1, 1, 1, 1, 1, 1, 1, 1, 1]   \n4                            [1, 1, 1, 1, 1, 1, 1, 1, 1]   \n...                                                  ...   \n17349  [1, 1, 1, 1, 1, 1, 1, 1, 1, 1, 1, 1, 1, 1, 1, ...   \n17350  [1, 1, 1, 1, 1, 1, 1, 1, 1, 1, 1, 1, 1, 1, 1, ...   \n17351  [1, 1, 1, 1, 1, 1, 1, 1, 1, 1, 1, 1, 1, 1, 1, ...   \n17352  [1, 1, 1, 1, 1, 1, 1, 1, 1, 1, 1, 1, 1, 1, 1, ...   \n17353  [1, 1, 1, 1, 1, 1, 1, 1, 1, 1, 1, 1, 1, 1, 1, ...   \n\n                                     day_of_week_feature  \\\n0      [[0, 0, 0, 0, 0, 0, 0], [0, 0, 0, 0, 0, 0, 0],...   \n1      [[0, 0, 0, 0, 0, 0, 0], [0, 0, 0, 0, 0, 0, 0],...   \n2      [[0, 0, 0, 0, 0, 0, 0], [0, 0, 0, 0, 0, 0, 0],...   \n3      [[0, 0, 0, 0, 0, 0, 0], [0, 0, 0, 0, 0, 0, 0],...   \n4      [[0, 0, 0, 0, 0, 0, 0], [0, 0, 0, 0, 0, 0, 0],...   \n...                                                  ...   \n17349  [[0, 0, 0, 0, 0, 0, 0], [0, 0, 0, 0, 0, 0, 0],...   \n17350  [[0, 0, 0, 0, 0, 0, 0], [0, 0, 0, 0, 0, 0, 0],...   \n17351  [[0, 0, 0, 0, 0, 0, 0], [0, 0, 0, 0, 0, 0, 0],...   \n17352  [[0, 0, 0, 0, 0, 0, 0], [0, 0, 0, 0, 0, 0, 0],...   \n17353  [[0, 0, 0, 0, 0, 0, 0], [0, 0, 0, 0, 0, 0, 0],...   \n\n      day_of_week_encoded_ext score_cumulative_avg score_cumulative_driver  \\\n0       [0, 1, 0, 0, 0, 0, 0]             0.000000                0.000000   \n1       [0, 1, 0, 0, 0, 0, 0]             0.000000                0.166667   \n2       [0, 1, 0, 0, 0, 0, 0]             0.333333                0.235294   \n3       [0, 1, 0, 0, 0, 0, 0]             0.500000                0.318182   \n4       [0, 1, 0, 0, 0, 0, 0]             0.400000                0.370370   \n...                       ...                  ...                     ...   \n17349   [0, 0, 0, 0, 0, 0, 1]             1.000000                1.000000   \n17350   [0, 0, 0, 0, 0, 0, 1]             1.000000                1.000000   \n17351   [0, 0, 0, 0, 0, 0, 1]             1.000000                1.000000   \n17352   [0, 0, 0, 0, 0, 0, 1]             1.000000                1.000000   \n17353   [0, 0, 0, 0, 0, 0, 1]             1.000000                1.000000   \n\n       split  \n0      train  \n1      train  \n2      train  \n3      train  \n4      train  \n...      ...  \n17349  train  \n17350  train  \n17351  train  \n17352    val  \n17353   test  \n\n[17354 rows x 25 columns]",
      "text/html": "<div>\n<style scoped>\n    .dataframe tbody tr th:only-of-type {\n        vertical-align: middle;\n    }\n\n    .dataframe tbody tr th {\n        vertical-align: top;\n    }\n\n    .dataframe thead th {\n        text-align: right;\n    }\n</style>\n<table border=\"1\" class=\"dataframe\">\n  <thead>\n    <tr style=\"text-align: right;\">\n      <th></th>\n      <th>routes</th>\n      <th>actual_routes</th>\n      <th>driver_id</th>\n      <th>distance_route</th>\n      <th>last_two_weeks_count</th>\n      <th>current_lat</th>\n      <th>current_lng</th>\n      <th>day_of_week</th>\n      <th>date</th>\n      <th>location_is_depot</th>\n      <th>...</th>\n      <th>day_of_week_encoded</th>\n      <th>experience_feature</th>\n      <th>len_feature</th>\n      <th>driver_id_feature</th>\n      <th>country_flag_feature</th>\n      <th>day_of_week_feature</th>\n      <th>day_of_week_encoded_ext</th>\n      <th>score_cumulative_avg</th>\n      <th>score_cumulative_driver</th>\n      <th>split</th>\n    </tr>\n  </thead>\n  <tbody>\n    <tr>\n      <th>0</th>\n      <td>[1, 2, 3, 4, 5, 5, 6, 7]</td>\n      <td>[1167, 1405, 1560, 1413, 1391, 1391, 1434, 1269]</td>\n      <td>1255.0</td>\n      <td>[14.640018023192697, 1.5229312527257717, 0.606...</td>\n      <td>8.0</td>\n      <td>[55.64641920439919, 55.6669147, 55.6757322, 55...</td>\n      <td>[12.15372974969827, 12.5262801, 12.5619711, 12...</td>\n      <td>Monday</td>\n      <td>2024-01-15</td>\n      <td>[1, 0, 0, 0, 0, 0, 0, 0]</td>\n      <td>...</td>\n      <td>2.0</td>\n      <td>[8, 8, 8, 8, 8, 8, 8, 8]</td>\n      <td>[8, 8, 8, 8, 8, 8, 8, 8]</td>\n      <td>[1, 1, 1, 1, 1, 1, 1, 1]</td>\n      <td>[1, 1, 1, 1, 1, 1, 1, 1]</td>\n      <td>[[0, 0, 0, 0, 0, 0, 0], [0, 0, 0, 0, 0, 0, 0],...</td>\n      <td>[0, 1, 0, 0, 0, 0, 0]</td>\n      <td>0.000000</td>\n      <td>0.000000</td>\n      <td>train</td>\n    </tr>\n    <tr>\n      <th>1</th>\n      <td>[1, 2, 3, 8, 4, 5, 5, 6, 7]</td>\n      <td>[1167, 1405, 1577, 1560, 1413, 1391, 1391, 143...</td>\n      <td>1255.0</td>\n      <td>[14.640018023192697, 1.5229312527257717, 0.185...</td>\n      <td>11.0</td>\n      <td>[55.64641920439919, 55.6669147, 55.6757322, 55...</td>\n      <td>[12.15372974969827, 12.5262801, 12.5619711, 12...</td>\n      <td>Monday</td>\n      <td>2024-02-19</td>\n      <td>[1, 0, 0, 0, 0, 0, 0, 0, 0]</td>\n      <td>...</td>\n      <td>2.0</td>\n      <td>[11, 11, 11, 11, 11, 11, 11, 11, 11]</td>\n      <td>[9, 9, 9, 9, 9, 9, 9, 9, 9]</td>\n      <td>[1, 1, 1, 1, 1, 1, 1, 1, 1]</td>\n      <td>[1, 1, 1, 1, 1, 1, 1, 1, 1]</td>\n      <td>[[0, 0, 0, 0, 0, 0, 0], [0, 0, 0, 0, 0, 0, 0],...</td>\n      <td>[0, 1, 0, 0, 0, 0, 0]</td>\n      <td>0.000000</td>\n      <td>0.166667</td>\n      <td>train</td>\n    </tr>\n    <tr>\n      <th>2</th>\n      <td>[1, 2, 3, 4, 5, 5, 7, 6, 8]</td>\n      <td>[1167, 1405, 1560, 1391, 1391, 1269, 1577, 143...</td>\n      <td>1255.0</td>\n      <td>[14.640018023192697, 1.5229312527257717, 0.606...</td>\n      <td>11.0</td>\n      <td>[55.64641920439919, 55.6669147, 55.6757322, 55...</td>\n      <td>[12.15372974969827, 12.5262801, 12.5619711, 12...</td>\n      <td>Monday</td>\n      <td>2024-02-26</td>\n      <td>[1, 0, 0, 0, 0, 0, 0, 0, 0]</td>\n      <td>...</td>\n      <td>2.0</td>\n      <td>[11, 11, 11, 11, 11, 11, 11, 11, 11]</td>\n      <td>[9, 9, 9, 9, 9, 9, 9, 9, 9]</td>\n      <td>[1, 1, 1, 1, 1, 1, 1, 1, 1]</td>\n      <td>[1, 1, 1, 1, 1, 1, 1, 1, 1]</td>\n      <td>[[0, 0, 0, 0, 0, 0, 0], [0, 0, 0, 0, 0, 0, 0],...</td>\n      <td>[0, 1, 0, 0, 0, 0, 0]</td>\n      <td>0.333333</td>\n      <td>0.235294</td>\n      <td>train</td>\n    </tr>\n    <tr>\n      <th>3</th>\n      <td>[1, 2, 3, 8, 4, 5, 6, 9, 7]</td>\n      <td>[1167, 1405, 1168, 1560, 1577, 1413, 1391, 126...</td>\n      <td>1255.0</td>\n      <td>[14.640018023192697, 1.5229312527257717, 0.185...</td>\n      <td>10.0</td>\n      <td>[55.64641920439919, 55.6669147, 55.6757322, 55...</td>\n      <td>[12.15372974969827, 12.5262801, 12.5619711, 12...</td>\n      <td>Monday</td>\n      <td>2024-03-04</td>\n      <td>[1, 0, 0, 0, 0, 0, 0, 0, 0]</td>\n      <td>...</td>\n      <td>2.0</td>\n      <td>[10, 10, 10, 10, 10, 10, 10, 10, 10]</td>\n      <td>[9, 9, 9, 9, 9, 9, 9, 9, 9]</td>\n      <td>[1, 1, 1, 1, 1, 1, 1, 1, 1]</td>\n      <td>[1, 1, 1, 1, 1, 1, 1, 1, 1]</td>\n      <td>[[0, 0, 0, 0, 0, 0, 0], [0, 0, 0, 0, 0, 0, 0],...</td>\n      <td>[0, 1, 0, 0, 0, 0, 0]</td>\n      <td>0.500000</td>\n      <td>0.318182</td>\n      <td>train</td>\n    </tr>\n    <tr>\n      <th>4</th>\n      <td>[1, 2, 3, 4, 5, 5, 6, 9, 7]</td>\n      <td>[1167, 1405, 1560, 1413, 1391, 1391, 1434, 126...</td>\n      <td>1255.0</td>\n      <td>[14.640018023192697, 1.5229312527257717, 0.606...</td>\n      <td>10.0</td>\n      <td>[55.64641920439919, 55.6669147, 55.6757322, 55...</td>\n      <td>[12.15372974969827, 12.5262801, 12.5619711, 12...</td>\n      <td>Monday</td>\n      <td>2024-03-11</td>\n      <td>[1, 0, 0, 0, 0, 0, 0, 0, 0]</td>\n      <td>...</td>\n      <td>2.0</td>\n      <td>[10, 10, 10, 10, 10, 10, 10, 10, 10]</td>\n      <td>[9, 9, 9, 9, 9, 9, 9, 9, 9]</td>\n      <td>[1, 1, 1, 1, 1, 1, 1, 1, 1]</td>\n      <td>[1, 1, 1, 1, 1, 1, 1, 1, 1]</td>\n      <td>[[0, 0, 0, 0, 0, 0, 0], [0, 0, 0, 0, 0, 0, 0],...</td>\n      <td>[0, 1, 0, 0, 0, 0, 0]</td>\n      <td>0.400000</td>\n      <td>0.370370</td>\n      <td>train</td>\n    </tr>\n    <tr>\n      <th>...</th>\n      <td>...</td>\n      <td>...</td>\n      <td>...</td>\n      <td>...</td>\n      <td>...</td>\n      <td>...</td>\n      <td>...</td>\n      <td>...</td>\n      <td>...</td>\n      <td>...</td>\n      <td>...</td>\n      <td>...</td>\n      <td>...</td>\n      <td>...</td>\n      <td>...</td>\n      <td>...</td>\n      <td>...</td>\n      <td>...</td>\n      <td>...</td>\n      <td>...</td>\n      <td>...</td>\n    </tr>\n    <tr>\n      <th>17349</th>\n      <td>[8649, 9201, 9200, 9205, 9206, 9204, 9211, 920...</td>\n      <td>[3162, 3636, 3660, 3649, 3649, 3661, 3596, 364...</td>\n      <td>1555.0</td>\n      <td>[10.326988859283256, 0.016889370846510543, 0.2...</td>\n      <td>11.0</td>\n      <td>[56.0667627, 56.1577259, 56.1578712, 56.159131...</td>\n      <td>[9.986944, 10.1987529, 10.1991044, 10.204122, ...</td>\n      <td>Wednesday</td>\n      <td>2024-06-05</td>\n      <td>[1, 0, 0, 0, 0, 0, 0, 0, 0, 0, 0, 0, 0, 0, 0, ...</td>\n      <td>...</td>\n      <td>7.0</td>\n      <td>[11, 11, 11, 11, 11, 11, 11, 11, 11, 11, 11, 1...</td>\n      <td>[24, 24, 24, 24, 24, 24, 24, 24, 24, 24, 24, 2...</td>\n      <td>[387, 387, 387, 387, 387, 387, 387, 387, 387, ...</td>\n      <td>[1, 1, 1, 1, 1, 1, 1, 1, 1, 1, 1, 1, 1, 1, 1, ...</td>\n      <td>[[0, 0, 0, 0, 0, 0, 0], [0, 0, 0, 0, 0, 0, 0],...</td>\n      <td>[0, 0, 0, 0, 0, 0, 1]</td>\n      <td>1.000000</td>\n      <td>1.000000</td>\n      <td>train</td>\n    </tr>\n    <tr>\n      <th>17350</th>\n      <td>[8649, 9199, 9202, 9209, 9203, 9210, 9211, 920...</td>\n      <td>[3162, 3654, 3656, 3636, 3648, 3661, 3652, 364...</td>\n      <td>1555.0</td>\n      <td>[10.35361799875347, 0.40596031876087574, 0.123...</td>\n      <td>12.0</td>\n      <td>[56.0667627, 56.158392, 56.1596286, 56.1578408...</td>\n      <td>[9.986944, 10.198705, 10.2089833, 10.2090195, ...</td>\n      <td>Wednesday</td>\n      <td>2024-06-12</td>\n      <td>[1, 0, 0, 0, 0, 0, 0, 0, 0, 0, 0, 0, 0, 0, 0, ...</td>\n      <td>...</td>\n      <td>7.0</td>\n      <td>[12, 12, 12, 12, 12, 12, 12, 12, 12, 12, 12, 1...</td>\n      <td>[19, 19, 19, 19, 19, 19, 19, 19, 19, 19, 19, 1...</td>\n      <td>[387, 387, 387, 387, 387, 387, 387, 387, 387, ...</td>\n      <td>[1, 1, 1, 1, 1, 1, 1, 1, 1, 1, 1, 1, 1, 1, 1, ...</td>\n      <td>[[0, 0, 0, 0, 0, 0, 0], [0, 0, 0, 0, 0, 0, 0],...</td>\n      <td>[0, 0, 0, 0, 0, 0, 1]</td>\n      <td>1.000000</td>\n      <td>1.000000</td>\n      <td>train</td>\n    </tr>\n    <tr>\n      <th>17351</th>\n      <td>[8649, 9199, 9205, 9206, 9202, 9203, 9210, 920...</td>\n      <td>[3162, 3656, 3641, 3665, 3646, 3658, 3661, 363...</td>\n      <td>1555.0</td>\n      <td>[10.35361799875347, 0.21530908942333182, 0.025...</td>\n      <td>11.0</td>\n      <td>[56.0667627, 56.158392, 56.159131, 56.15884339...</td>\n      <td>[9.986944, 10.198705, 10.204122, 10.2037157, 1...</td>\n      <td>Wednesday</td>\n      <td>2024-06-19</td>\n      <td>[1, 0, 0, 0, 0, 0, 0, 0, 0, 0, 0, 0, 0, 0, 0, ...</td>\n      <td>...</td>\n      <td>7.0</td>\n      <td>[11, 11, 11, 11, 11, 11, 11, 11, 11, 11, 11, 1...</td>\n      <td>[20, 20, 20, 20, 20, 20, 20, 20, 20, 20, 20, 2...</td>\n      <td>[387, 387, 387, 387, 387, 387, 387, 387, 387, ...</td>\n      <td>[1, 1, 1, 1, 1, 1, 1, 1, 1, 1, 1, 1, 1, 1, 1, ...</td>\n      <td>[[0, 0, 0, 0, 0, 0, 0], [0, 0, 0, 0, 0, 0, 0],...</td>\n      <td>[0, 0, 0, 0, 0, 0, 1]</td>\n      <td>1.000000</td>\n      <td>1.000000</td>\n      <td>train</td>\n    </tr>\n    <tr>\n      <th>17352</th>\n      <td>[8649, 9199, 9200, 9201, 9204, 9202, 9203, 921...</td>\n      <td>[3162, 3641, 3663, 3648, 3661, 3646, 3660, 365...</td>\n      <td>1555.0</td>\n      <td>[10.35361799875347, 0.03919354991180035, 0.016...</td>\n      <td>7.0</td>\n      <td>[56.0667627, 56.158392, 56.1578712, 56.1577259...</td>\n      <td>[9.986944, 10.198705, 10.1991044, 10.1987529, ...</td>\n      <td>Wednesday</td>\n      <td>2024-06-26</td>\n      <td>[1, 0, 0, 0, 0, 0, 0, 0, 0, 0, 0, 0, 0, 0, 0, ...</td>\n      <td>...</td>\n      <td>7.0</td>\n      <td>[7, 7, 7, 7, 7, 7, 7, 7, 7, 7, 7, 7, 7, 7, 7, ...</td>\n      <td>[21, 21, 21, 21, 21, 21, 21, 21, 21, 21, 21, 2...</td>\n      <td>[387, 387, 387, 387, 387, 387, 387, 387, 387, ...</td>\n      <td>[1, 1, 1, 1, 1, 1, 1, 1, 1, 1, 1, 1, 1, 1, 1, ...</td>\n      <td>[[0, 0, 0, 0, 0, 0, 0], [0, 0, 0, 0, 0, 0, 0],...</td>\n      <td>[0, 0, 0, 0, 0, 0, 1]</td>\n      <td>1.000000</td>\n      <td>1.000000</td>\n      <td>val</td>\n    </tr>\n    <tr>\n      <th>17353</th>\n      <td>[8649, 9199, 9201, 9200, 9202, 9204, 9205, 920...</td>\n      <td>[3162, 3641, 3663, 3648, 3661, 3661, 3651, 364...</td>\n      <td>1555.0</td>\n      <td>[10.35361799875347, 0.04612214849068512, 0.016...</td>\n      <td>2.0</td>\n      <td>[56.0667627, 56.158392, 56.1577259, 56.1578712...</td>\n      <td>[9.986944, 10.198705, 10.1987529, 10.1991044, ...</td>\n      <td>Wednesday</td>\n      <td>2024-07-03</td>\n      <td>[1, 0, 0, 0, 0, 0, 0, 0, 0, 0, 0, 0, 0, 0, 0, ...</td>\n      <td>...</td>\n      <td>7.0</td>\n      <td>[2, 2, 2, 2, 2, 2, 2, 2, 2, 2, 2, 2, 2, 2, 2, ...</td>\n      <td>[20, 20, 20, 20, 20, 20, 20, 20, 20, 20, 20, 2...</td>\n      <td>[387, 387, 387, 387, 387, 387, 387, 387, 387, ...</td>\n      <td>[1, 1, 1, 1, 1, 1, 1, 1, 1, 1, 1, 1, 1, 1, 1, ...</td>\n      <td>[[0, 0, 0, 0, 0, 0, 0], [0, 0, 0, 0, 0, 0, 0],...</td>\n      <td>[0, 0, 0, 0, 0, 0, 1]</td>\n      <td>1.000000</td>\n      <td>1.000000</td>\n      <td>test</td>\n    </tr>\n  </tbody>\n</table>\n<p>17354 rows × 25 columns</p>\n</div>"
     },
     "execution_count": 741,
     "metadata": {},
     "output_type": "execute_result"
    }
   ],
   "source": [
    "final_routes_split"
   ],
   "metadata": {
    "collapsed": false,
    "pycharm": {
     "name": "#%%\n"
    }
   }
  },
  {
   "cell_type": "code",
   "execution_count": 742,
   "outputs": [
    {
     "name": "stdout",
     "output_type": "stream",
     "text": [
      "13555 2167 1632\n",
      "{'acc': 0.7092754960775265, 'precision': 0.6893123446561723, 'recall': 0.765409383624655, 'f1': 0.7253705318221447, 'roc_auc': 0.7090935807012164, 'average_precision': 0.6452803408167668, 'quadratic_loss': 1.1100373577325557, 'brier_score': 0.1984454495901377, 'true_positive': 832, 'false_positive': 375, 'true_negative': 705, 'false_negative': 255}\n",
      "{'acc': 0.7089460784313726, 'precision': 0.703125, 'recall': 0.7508939213349225, 'f1': 0.7262247838616714, 'roc_auc': 0.7077294322941952, 'average_precision': 0.6560360139288135, 'quadratic_loss': 1.1729640902363527, 'brier_score': 0.19746814128119278, 'true_positive': 630, 'false_positive': 266, 'true_negative': 527, 'false_negative': 209}\n"
     ]
    },
    {
     "data": {
      "text/plain": "       day_1.0  day_2.0  day_3.0  day_4.0  day_5.0  day_6.0  day_7.0  \\\n18           0        1        0        0        0        0        0   \n19           0        1        0        0        0        0        0   \n36           0        0        0        1        0        0        0   \n37           0        0        0        1        0        0        0   \n55           0        0        0        0        1        0        0   \n...        ...      ...      ...      ...      ...      ...      ...   \n17315        0        1        0        0        0        0        0   \n17322        0        0        0        1        0        0        0   \n17333        0        0        0        0        1        0        0   \n17344        0        0        0        0        0        1        0   \n17353        0        0        0        0        0        0        1   \n\n       driver_1  driver_2  driver_3  ...  driver_309  driver_310  driver_311  \\\n18            1         0         0  ...           0           0           0   \n19            1         0         0  ...           0           0           0   \n36            1         0         0  ...           0           0           0   \n37            1         0         0  ...           0           0           0   \n55            1         0         0  ...           0           0           0   \n...         ...       ...       ...  ...         ...         ...         ...   \n17315         0         0         0  ...           0           0           0   \n17322         0         0         0  ...           0           0           0   \n17333         0         0         0  ...           0           0           0   \n17344         0         0         0  ...           0           0           0   \n17353         0         0         0  ...           0           0           0   \n\n       driver_312  driver_313  driver_314  driver_315  driver_316  label  \\\n18              0           0           0           0           0    1.0   \n19              0           0           0           0           0    0.0   \n36              0           0           0           0           0    1.0   \n37              0           0           0           0           0    1.0   \n55              0           0           0           0           0    1.0   \n...           ...         ...         ...         ...         ...    ...   \n17315           0           0           0           0           1    1.0   \n17322           0           0           0           0           1    1.0   \n17333           0           0           0           0           1    1.0   \n17344           0           0           0           0           1    1.0   \n17353           0           0           0           0           1    1.0   \n\n                                                  routes  \n18                       [1, 16, 4, 5, 5, 9, 7, 6, 3, 8]  \n19                          [1, 16, 9, 5, 5, 4, 8, 6, 7]  \n36                      [1, 4, 3, 16, 9, 15, 5, 5, 6, 7]  \n37               [1, 15, 9, 16, 14, 3, 8, 4, 5, 5, 6, 7]  \n55                [1, 1, 16, 9, 4, 8, 3, 14, 5, 5, 6, 7]  \n...                                                  ...  \n17315  [8649, 9199, 9200, 9201, 9205, 9204, 9202, 920...  \n17322  [8649, 9199, 9202, 9203, 9224, 9229, 9204, 920...  \n17333  [8649, 9205, 9206, 9204, 9202, 9229, 9224, 920...  \n17344  [8649, 9199, 9205, 9202, 9202, 9203, 9224, 921...  \n17353  [8649, 9199, 9201, 9200, 9202, 9204, 9205, 920...  \n\n[1632 rows x 325 columns]",
      "text/html": "<div>\n<style scoped>\n    .dataframe tbody tr th:only-of-type {\n        vertical-align: middle;\n    }\n\n    .dataframe tbody tr th {\n        vertical-align: top;\n    }\n\n    .dataframe thead th {\n        text-align: right;\n    }\n</style>\n<table border=\"1\" class=\"dataframe\">\n  <thead>\n    <tr style=\"text-align: right;\">\n      <th></th>\n      <th>day_1.0</th>\n      <th>day_2.0</th>\n      <th>day_3.0</th>\n      <th>day_4.0</th>\n      <th>day_5.0</th>\n      <th>day_6.0</th>\n      <th>day_7.0</th>\n      <th>driver_1</th>\n      <th>driver_2</th>\n      <th>driver_3</th>\n      <th>...</th>\n      <th>driver_309</th>\n      <th>driver_310</th>\n      <th>driver_311</th>\n      <th>driver_312</th>\n      <th>driver_313</th>\n      <th>driver_314</th>\n      <th>driver_315</th>\n      <th>driver_316</th>\n      <th>label</th>\n      <th>routes</th>\n    </tr>\n  </thead>\n  <tbody>\n    <tr>\n      <th>18</th>\n      <td>0</td>\n      <td>1</td>\n      <td>0</td>\n      <td>0</td>\n      <td>0</td>\n      <td>0</td>\n      <td>0</td>\n      <td>1</td>\n      <td>0</td>\n      <td>0</td>\n      <td>...</td>\n      <td>0</td>\n      <td>0</td>\n      <td>0</td>\n      <td>0</td>\n      <td>0</td>\n      <td>0</td>\n      <td>0</td>\n      <td>0</td>\n      <td>1.0</td>\n      <td>[1, 16, 4, 5, 5, 9, 7, 6, 3, 8]</td>\n    </tr>\n    <tr>\n      <th>19</th>\n      <td>0</td>\n      <td>1</td>\n      <td>0</td>\n      <td>0</td>\n      <td>0</td>\n      <td>0</td>\n      <td>0</td>\n      <td>1</td>\n      <td>0</td>\n      <td>0</td>\n      <td>...</td>\n      <td>0</td>\n      <td>0</td>\n      <td>0</td>\n      <td>0</td>\n      <td>0</td>\n      <td>0</td>\n      <td>0</td>\n      <td>0</td>\n      <td>0.0</td>\n      <td>[1, 16, 9, 5, 5, 4, 8, 6, 7]</td>\n    </tr>\n    <tr>\n      <th>36</th>\n      <td>0</td>\n      <td>0</td>\n      <td>0</td>\n      <td>1</td>\n      <td>0</td>\n      <td>0</td>\n      <td>0</td>\n      <td>1</td>\n      <td>0</td>\n      <td>0</td>\n      <td>...</td>\n      <td>0</td>\n      <td>0</td>\n      <td>0</td>\n      <td>0</td>\n      <td>0</td>\n      <td>0</td>\n      <td>0</td>\n      <td>0</td>\n      <td>1.0</td>\n      <td>[1, 4, 3, 16, 9, 15, 5, 5, 6, 7]</td>\n    </tr>\n    <tr>\n      <th>37</th>\n      <td>0</td>\n      <td>0</td>\n      <td>0</td>\n      <td>1</td>\n      <td>0</td>\n      <td>0</td>\n      <td>0</td>\n      <td>1</td>\n      <td>0</td>\n      <td>0</td>\n      <td>...</td>\n      <td>0</td>\n      <td>0</td>\n      <td>0</td>\n      <td>0</td>\n      <td>0</td>\n      <td>0</td>\n      <td>0</td>\n      <td>0</td>\n      <td>1.0</td>\n      <td>[1, 15, 9, 16, 14, 3, 8, 4, 5, 5, 6, 7]</td>\n    </tr>\n    <tr>\n      <th>55</th>\n      <td>0</td>\n      <td>0</td>\n      <td>0</td>\n      <td>0</td>\n      <td>1</td>\n      <td>0</td>\n      <td>0</td>\n      <td>1</td>\n      <td>0</td>\n      <td>0</td>\n      <td>...</td>\n      <td>0</td>\n      <td>0</td>\n      <td>0</td>\n      <td>0</td>\n      <td>0</td>\n      <td>0</td>\n      <td>0</td>\n      <td>0</td>\n      <td>1.0</td>\n      <td>[1, 1, 16, 9, 4, 8, 3, 14, 5, 5, 6, 7]</td>\n    </tr>\n    <tr>\n      <th>...</th>\n      <td>...</td>\n      <td>...</td>\n      <td>...</td>\n      <td>...</td>\n      <td>...</td>\n      <td>...</td>\n      <td>...</td>\n      <td>...</td>\n      <td>...</td>\n      <td>...</td>\n      <td>...</td>\n      <td>...</td>\n      <td>...</td>\n      <td>...</td>\n      <td>...</td>\n      <td>...</td>\n      <td>...</td>\n      <td>...</td>\n      <td>...</td>\n      <td>...</td>\n      <td>...</td>\n    </tr>\n    <tr>\n      <th>17315</th>\n      <td>0</td>\n      <td>1</td>\n      <td>0</td>\n      <td>0</td>\n      <td>0</td>\n      <td>0</td>\n      <td>0</td>\n      <td>0</td>\n      <td>0</td>\n      <td>0</td>\n      <td>...</td>\n      <td>0</td>\n      <td>0</td>\n      <td>0</td>\n      <td>0</td>\n      <td>0</td>\n      <td>0</td>\n      <td>0</td>\n      <td>1</td>\n      <td>1.0</td>\n      <td>[8649, 9199, 9200, 9201, 9205, 9204, 9202, 920...</td>\n    </tr>\n    <tr>\n      <th>17322</th>\n      <td>0</td>\n      <td>0</td>\n      <td>0</td>\n      <td>1</td>\n      <td>0</td>\n      <td>0</td>\n      <td>0</td>\n      <td>0</td>\n      <td>0</td>\n      <td>0</td>\n      <td>...</td>\n      <td>0</td>\n      <td>0</td>\n      <td>0</td>\n      <td>0</td>\n      <td>0</td>\n      <td>0</td>\n      <td>0</td>\n      <td>1</td>\n      <td>1.0</td>\n      <td>[8649, 9199, 9202, 9203, 9224, 9229, 9204, 920...</td>\n    </tr>\n    <tr>\n      <th>17333</th>\n      <td>0</td>\n      <td>0</td>\n      <td>0</td>\n      <td>0</td>\n      <td>1</td>\n      <td>0</td>\n      <td>0</td>\n      <td>0</td>\n      <td>0</td>\n      <td>0</td>\n      <td>...</td>\n      <td>0</td>\n      <td>0</td>\n      <td>0</td>\n      <td>0</td>\n      <td>0</td>\n      <td>0</td>\n      <td>0</td>\n      <td>1</td>\n      <td>1.0</td>\n      <td>[8649, 9205, 9206, 9204, 9202, 9229, 9224, 920...</td>\n    </tr>\n    <tr>\n      <th>17344</th>\n      <td>0</td>\n      <td>0</td>\n      <td>0</td>\n      <td>0</td>\n      <td>0</td>\n      <td>1</td>\n      <td>0</td>\n      <td>0</td>\n      <td>0</td>\n      <td>0</td>\n      <td>...</td>\n      <td>0</td>\n      <td>0</td>\n      <td>0</td>\n      <td>0</td>\n      <td>0</td>\n      <td>0</td>\n      <td>0</td>\n      <td>1</td>\n      <td>1.0</td>\n      <td>[8649, 9199, 9205, 9202, 9202, 9203, 9224, 921...</td>\n    </tr>\n    <tr>\n      <th>17353</th>\n      <td>0</td>\n      <td>0</td>\n      <td>0</td>\n      <td>0</td>\n      <td>0</td>\n      <td>0</td>\n      <td>1</td>\n      <td>0</td>\n      <td>0</td>\n      <td>0</td>\n      <td>...</td>\n      <td>0</td>\n      <td>0</td>\n      <td>0</td>\n      <td>0</td>\n      <td>0</td>\n      <td>0</td>\n      <td>0</td>\n      <td>1</td>\n      <td>1.0</td>\n      <td>[8649, 9199, 9201, 9200, 9202, 9204, 9205, 920...</td>\n    </tr>\n  </tbody>\n</table>\n<p>1632 rows × 325 columns</p>\n</div>"
     },
     "execution_count": 742,
     "metadata": {},
     "output_type": "execute_result"
    }
   ],
   "source": [
    "from sklearn.ensemble import RandomForestRegressor\n",
    "import numpy as np\n",
    "import pandas as pd\n",
    "import matplotlib.pyplot as plt\n",
    "from sklearn.metrics import confusion_matrix\n",
    "\n",
    "# Assuming final_routes dataframe is available and sorted by date\n",
    "# If not, make sure to sort it by date first\n",
    "\n",
    "# Prepare the data\n",
    "rf_df = final_routes_split[['driver_id_sorted', 'day_of_week_encoded', 'label', 'split', 'routes']]\n",
    "o_day_of = pd.get_dummies(rf_df['day_of_week_encoded'], prefix='day')\n",
    "o_driver = pd.get_dummies(rf_df['driver_id_sorted'], prefix='driver')\n",
    "rf_df = pd.concat([o_day_of, o_driver, rf_df['split'], rf_df['label'], rf_df['routes']], axis=1)\n",
    "\n",
    "\n",
    "for col in rf_df.columns:\n",
    "    if col != 'split' and col != 'label' and col != 'routes':\n",
    "        rf_df[col] = rf_df[col].astype(int)\n",
    "\n",
    "train_df = rf_df[rf_df['split'] == 'train'].drop('split', axis=1)\n",
    "val_df = rf_df[rf_df['split'] == 'val'].drop('split', axis=1)\n",
    "test_df = rf_df[rf_df['split'] == 'test'].drop('split', axis=1)\n",
    "\n",
    "# Create X_train and y_train\n",
    "X_train = train_df.drop('label', axis=1)\n",
    "y_train = train_df['label']\n",
    "\n",
    "# Create X_val and y_val (optional, but often useful)\n",
    "X_val = val_df.drop('label', axis=1)\n",
    "y_val = val_df['label']\n",
    "\n",
    "# Create X_test and y_test (optional, but often useful)\n",
    "X_test = test_df.drop('label', axis=1)\n",
    "y_test = test_df['label']\n",
    "\n",
    "print(len(train_df), len(val_df), len(test_df))\n",
    "#\n",
    "#\n",
    "# Train the model\n",
    "model = RandomForestRegressor(random_state=42)\n",
    "X_trainwr = X_train.drop('routes', axis=1)\n",
    "model.fit(X_trainwr, y_train)\n",
    "\n",
    "# Function to calculate metrics\n",
    "def calculate_metrics(y_true, y_pred, y_pred_proba):\n",
    "    acc = accuracy_score(y_true, y_pred)\n",
    "    precision = precision_score(y_true, y_pred)\n",
    "    recall = recall_score(y_true, y_pred)\n",
    "    f1 = f1_score(y_true, y_pred)\n",
    "    roc_auc = roc_auc_score(y_true, y_pred)\n",
    "    average_precision = average_precision_score(y_true, y_pred)\n",
    "    quadratic_loss = log_loss(y_true, y_pred_proba)\n",
    "    brier_score = brier_score_loss(y_true, y_pred_proba)\n",
    "    tn, fp, fn, tp = confusion_matrix(y_true, y_pred).ravel()\n",
    "\n",
    "    metrics = {\n",
    "        \"acc\": acc,\n",
    "        \"precision\": precision,\n",
    "        \"recall\": recall,\n",
    "        \"f1\": f1,\n",
    "        \"roc_auc\": roc_auc,\n",
    "        \"average_precision\": average_precision,\n",
    "        \"quadratic_loss\": quadratic_loss,\n",
    "        \"brier_score\": brier_score,\n",
    "        \"true_positive\": tp,\n",
    "        \"false_positive\": fp,\n",
    "        \"true_negative\": tn,\n",
    "        \"false_negative\": fn\n",
    "    }\n",
    "    return metrics\n",
    "\n",
    "# Evaluate on validation set\n",
    "y_val_pred_proba = model.predict(X_val.drop('routes', axis=1))\n",
    "y_val_pred = (y_val_pred_proba > 0.5).astype(int)\n",
    "val_metrics = calculate_metrics(y_val, y_val_pred, y_val_pred_proba)\n",
    "\n",
    "y_test_pred_proba = model.predict(X_test.drop('routes', axis=1))\n",
    "y_test_pred = (y_test_pred_proba > 0.5).astype(int)\n",
    "test_metrics = calculate_metrics(y_test, y_test_pred, y_test_pred_proba)\n",
    "\n",
    "print(val_metrics)\n",
    "print(test_metrics)\n",
    "\n",
    "test_df_group_RF = categorize_predictions(test_df, y_test, y_test_pred, y_test_pred_proba)\n",
    "test_df_group_RF\n",
    "test_df"
   ],
   "metadata": {
    "collapsed": false,
    "pycharm": {
     "name": "#%%\n"
    }
   }
  },
  {
   "cell_type": "code",
   "execution_count": 743,
   "outputs": [
    {
     "data": {
      "text/plain": "18                         [1, 16, 4, 5, 5, 9, 7, 6, 3, 8]\n36                        [1, 4, 3, 16, 9, 15, 5, 5, 6, 7]\n37                 [1, 15, 9, 16, 14, 3, 8, 4, 5, 5, 6, 7]\n55                  [1, 1, 16, 9, 4, 8, 3, 14, 5, 5, 6, 7]\n56               [1, 5, 14, 3, 8, 16, 9, 4, 4, 6, 7, 1, 5]\n                               ...                        \n17315    [8649, 9199, 9200, 9201, 9205, 9204, 9202, 920...\n17322    [8649, 9199, 9202, 9203, 9224, 9229, 9204, 920...\n17333    [8649, 9205, 9206, 9204, 9202, 9229, 9224, 920...\n17344    [8649, 9199, 9205, 9202, 9202, 9203, 9224, 921...\n17353    [8649, 9199, 9201, 9200, 9202, 9204, 9205, 920...\nName: routes, Length: 630, dtype: object"
     },
     "execution_count": 743,
     "metadata": {},
     "output_type": "execute_result"
    }
   ],
   "source": [
    "test_df_group_RF[test_df_group_RF['prediction_category'] == 'True Positive']['routes']"
   ],
   "metadata": {
    "collapsed": false,
    "pycharm": {
     "name": "#%%\n"
    }
   }
  },
  {
   "cell_type": "code",
   "execution_count": 744,
   "outputs": [
    {
     "name": "stdout",
     "output_type": "stream",
     "text": [
      "Routes unique to HA model: 0\n",
      "Sample of HA-only routes: []\n",
      "\n",
      "Routes unique to RF model: 21\n",
      "Sample of RF-only routes: [[8649, 8814, 8939, 8690, 8978, 8722, 8821, 8821, 9441, 8731, 9443, 8707, 8706, 8677, 8826, 8723, 8729, 8695, 8694, 8649], [4355, 4355, 5688, 4084, 5463, 1149], [1, 820, 7875, 5007, 5008, 8168, 5110, 5110, 7451, 367, 7446, 5013, 7450, 5012, 7425, 5132, 7452, 1], [8649, 9705, 9706, 9646, 9646, 9645, 9635, 9636, 8649, 9196, 9709, 9714, 8772, 8768, 8767, 8770, 9749, 8771, 8771, 9704, 8649], [1348, 2023, 7726, 7543, 5332, 1868, 2051, 1720, 1601, 1993, 1348, 1348, 1735, 1855, 1723, 7548, 8140]]\n"
     ]
    }
   ],
   "source": [
    "ha_tp_routes = test_df_group_HA[test_df_group_HA['prediction_category'] == 'False Positive']['routes'].tolist()\n",
    "rf_tp_routes = test_df_group_RF[test_df_group_RF['prediction_category'] == 'False Positive']['routes'].tolist()\n",
    "\n",
    "# Convert lists to sets of tuples for comparison\n",
    "ha_tp_routes_set = set(tuple(route) for route in ha_tp_routes)\n",
    "rf_tp_routes_set = set(tuple(route) for route in rf_tp_routes)\n",
    "\n",
    "# Find non-overlapping routes\n",
    "ha_only_routes = ha_tp_routes_set - rf_tp_routes_set\n",
    "rf_only_routes = rf_tp_routes_set - ha_tp_routes_set\n",
    "\n",
    "# Convert back to lists for display\n",
    "ha_only_routes = [list(route) for route in ha_only_routes]\n",
    "rf_only_routes = [list(route) for route in rf_only_routes]\n",
    "\n",
    "print(\"Routes unique to HA model:\", len(ha_only_routes))\n",
    "print(\"Sample of HA-only routes:\", ha_only_routes[:5])\n",
    "\n",
    "print(\"\\nRoutes unique to RF model:\", len(rf_only_routes))\n",
    "print(\"Sample of RF-only routes:\", rf_only_routes[:5])"
   ],
   "metadata": {
    "collapsed": false,
    "pycharm": {
     "name": "#%%\n"
    }
   }
  },
  {
   "cell_type": "code",
   "execution_count": 745,
   "outputs": [
    {
     "name": "stdout",
     "output_type": "stream",
     "text": [
      "Epoch [10/100], Train Loss: 0.6824, Val Loss: 0.6868\n",
      "Epoch [20/100], Train Loss: 0.6672, Val Loss: 0.6782\n",
      "Epoch [30/100], Train Loss: 0.6459, Val Loss: 0.6642\n",
      "Epoch [40/100], Train Loss: 0.6179, Val Loss: 0.6430\n",
      "Epoch [50/100], Train Loss: 0.5859, Val Loss: 0.6169\n",
      "Epoch [60/100], Train Loss: 0.5556, Val Loss: 0.5943\n",
      "Epoch [70/100], Train Loss: 0.5317, Val Loss: 0.5794\n",
      "Epoch [80/100], Train Loss: 0.5153, Val Loss: 0.5702\n",
      "Epoch [90/100], Train Loss: 0.5049, Val Loss: 0.5658\n",
      "Epoch [100/100], Train Loss: 0.4982, Val Loss: 0.5633\n",
      "{'acc': 0.7132352941176471, 'precision': 0.6988210075026795, 'recall': 0.7771156138259833, 'f1': 0.7358916478555305, 'roc_auc': 0.7113825231803308, 'average_precision': 0.6576480495332702, 'quadratic_loss': 0.5609726402602851, 'brier_score': 0.1893974962554287, 'true_positive': 652, 'false_positive': 281, 'true_negative': 512, 'false_negative': 187}\n"
     ]
    },
    {
     "data": {
      "text/plain": "       day_1.0  day_2.0  day_3.0  day_4.0  day_5.0  day_6.0  day_7.0  \\\n18           0        1        0        0        0        0        0   \n19           0        1        0        0        0        0        0   \n36           0        0        0        1        0        0        0   \n37           0        0        0        1        0        0        0   \n55           0        0        0        0        1        0        0   \n...        ...      ...      ...      ...      ...      ...      ...   \n17315        0        1        0        0        0        0        0   \n17322        0        0        0        1        0        0        0   \n17333        0        0        0        0        1        0        0   \n17344        0        0        0        0        0        1        0   \n17353        0        0        0        0        0        0        1   \n\n       driver_1  driver_2  driver_3  ...  driver_310  driver_311  driver_312  \\\n18            1         0         0  ...           0           0           0   \n19            1         0         0  ...           0           0           0   \n36            1         0         0  ...           0           0           0   \n37            1         0         0  ...           0           0           0   \n55            1         0         0  ...           0           0           0   \n...         ...       ...       ...  ...         ...         ...         ...   \n17315         0         0         0  ...           0           0           0   \n17322         0         0         0  ...           0           0           0   \n17333         0         0         0  ...           0           0           0   \n17344         0         0         0  ...           0           0           0   \n17353         0         0         0  ...           0           0           0   \n\n       driver_313  driver_314  driver_315  driver_316  \\\n18              0           0           0           0   \n19              0           0           0           0   \n36              0           0           0           0   \n37              0           0           0           0   \n55              0           0           0           0   \n...           ...         ...         ...         ...   \n17315           0           0           0           1   \n17322           0           0           0           1   \n17333           0           0           0           1   \n17344           0           0           0           1   \n17353           0           0           0           1   \n\n                                                  routes  prediction_category  \\\n18                       [1, 16, 4, 5, 5, 9, 7, 6, 3, 8]        True Positive   \n19                          [1, 16, 9, 5, 5, 4, 8, 6, 7]       False Positive   \n36                      [1, 4, 3, 16, 9, 15, 5, 5, 6, 7]        True Positive   \n37               [1, 15, 9, 16, 14, 3, 8, 4, 5, 5, 6, 7]        True Positive   \n55                [1, 1, 16, 9, 4, 8, 3, 14, 5, 5, 6, 7]        True Positive   \n...                                                  ...                  ...   \n17315  [8649, 9199, 9200, 9201, 9205, 9204, 9202, 920...        True Positive   \n17322  [8649, 9199, 9202, 9203, 9224, 9229, 9204, 920...        True Positive   \n17333  [8649, 9205, 9206, 9204, 9202, 9229, 9224, 920...        True Positive   \n17344  [8649, 9199, 9205, 9202, 9202, 9203, 9224, 921...        True Positive   \n17353  [8649, 9199, 9201, 9200, 9202, 9204, 9205, 920...        True Positive   \n\n       predictive_probability  \n18                   0.707561  \n19                   0.707561  \n36                   0.721333  \n37                   0.721333  \n55                   0.702060  \n...                       ...  \n17315                0.896483  \n17322                0.898966  \n17333                0.895934  \n17344                0.900120  \n17353                0.889579  \n\n[1632 rows x 326 columns]",
      "text/html": "<div>\n<style scoped>\n    .dataframe tbody tr th:only-of-type {\n        vertical-align: middle;\n    }\n\n    .dataframe tbody tr th {\n        vertical-align: top;\n    }\n\n    .dataframe thead th {\n        text-align: right;\n    }\n</style>\n<table border=\"1\" class=\"dataframe\">\n  <thead>\n    <tr style=\"text-align: right;\">\n      <th></th>\n      <th>day_1.0</th>\n      <th>day_2.0</th>\n      <th>day_3.0</th>\n      <th>day_4.0</th>\n      <th>day_5.0</th>\n      <th>day_6.0</th>\n      <th>day_7.0</th>\n      <th>driver_1</th>\n      <th>driver_2</th>\n      <th>driver_3</th>\n      <th>...</th>\n      <th>driver_310</th>\n      <th>driver_311</th>\n      <th>driver_312</th>\n      <th>driver_313</th>\n      <th>driver_314</th>\n      <th>driver_315</th>\n      <th>driver_316</th>\n      <th>routes</th>\n      <th>prediction_category</th>\n      <th>predictive_probability</th>\n    </tr>\n  </thead>\n  <tbody>\n    <tr>\n      <th>18</th>\n      <td>0</td>\n      <td>1</td>\n      <td>0</td>\n      <td>0</td>\n      <td>0</td>\n      <td>0</td>\n      <td>0</td>\n      <td>1</td>\n      <td>0</td>\n      <td>0</td>\n      <td>...</td>\n      <td>0</td>\n      <td>0</td>\n      <td>0</td>\n      <td>0</td>\n      <td>0</td>\n      <td>0</td>\n      <td>0</td>\n      <td>[1, 16, 4, 5, 5, 9, 7, 6, 3, 8]</td>\n      <td>True Positive</td>\n      <td>0.707561</td>\n    </tr>\n    <tr>\n      <th>19</th>\n      <td>0</td>\n      <td>1</td>\n      <td>0</td>\n      <td>0</td>\n      <td>0</td>\n      <td>0</td>\n      <td>0</td>\n      <td>1</td>\n      <td>0</td>\n      <td>0</td>\n      <td>...</td>\n      <td>0</td>\n      <td>0</td>\n      <td>0</td>\n      <td>0</td>\n      <td>0</td>\n      <td>0</td>\n      <td>0</td>\n      <td>[1, 16, 9, 5, 5, 4, 8, 6, 7]</td>\n      <td>False Positive</td>\n      <td>0.707561</td>\n    </tr>\n    <tr>\n      <th>36</th>\n      <td>0</td>\n      <td>0</td>\n      <td>0</td>\n      <td>1</td>\n      <td>0</td>\n      <td>0</td>\n      <td>0</td>\n      <td>1</td>\n      <td>0</td>\n      <td>0</td>\n      <td>...</td>\n      <td>0</td>\n      <td>0</td>\n      <td>0</td>\n      <td>0</td>\n      <td>0</td>\n      <td>0</td>\n      <td>0</td>\n      <td>[1, 4, 3, 16, 9, 15, 5, 5, 6, 7]</td>\n      <td>True Positive</td>\n      <td>0.721333</td>\n    </tr>\n    <tr>\n      <th>37</th>\n      <td>0</td>\n      <td>0</td>\n      <td>0</td>\n      <td>1</td>\n      <td>0</td>\n      <td>0</td>\n      <td>0</td>\n      <td>1</td>\n      <td>0</td>\n      <td>0</td>\n      <td>...</td>\n      <td>0</td>\n      <td>0</td>\n      <td>0</td>\n      <td>0</td>\n      <td>0</td>\n      <td>0</td>\n      <td>0</td>\n      <td>[1, 15, 9, 16, 14, 3, 8, 4, 5, 5, 6, 7]</td>\n      <td>True Positive</td>\n      <td>0.721333</td>\n    </tr>\n    <tr>\n      <th>55</th>\n      <td>0</td>\n      <td>0</td>\n      <td>0</td>\n      <td>0</td>\n      <td>1</td>\n      <td>0</td>\n      <td>0</td>\n      <td>1</td>\n      <td>0</td>\n      <td>0</td>\n      <td>...</td>\n      <td>0</td>\n      <td>0</td>\n      <td>0</td>\n      <td>0</td>\n      <td>0</td>\n      <td>0</td>\n      <td>0</td>\n      <td>[1, 1, 16, 9, 4, 8, 3, 14, 5, 5, 6, 7]</td>\n      <td>True Positive</td>\n      <td>0.702060</td>\n    </tr>\n    <tr>\n      <th>...</th>\n      <td>...</td>\n      <td>...</td>\n      <td>...</td>\n      <td>...</td>\n      <td>...</td>\n      <td>...</td>\n      <td>...</td>\n      <td>...</td>\n      <td>...</td>\n      <td>...</td>\n      <td>...</td>\n      <td>...</td>\n      <td>...</td>\n      <td>...</td>\n      <td>...</td>\n      <td>...</td>\n      <td>...</td>\n      <td>...</td>\n      <td>...</td>\n      <td>...</td>\n      <td>...</td>\n    </tr>\n    <tr>\n      <th>17315</th>\n      <td>0</td>\n      <td>1</td>\n      <td>0</td>\n      <td>0</td>\n      <td>0</td>\n      <td>0</td>\n      <td>0</td>\n      <td>0</td>\n      <td>0</td>\n      <td>0</td>\n      <td>...</td>\n      <td>0</td>\n      <td>0</td>\n      <td>0</td>\n      <td>0</td>\n      <td>0</td>\n      <td>0</td>\n      <td>1</td>\n      <td>[8649, 9199, 9200, 9201, 9205, 9204, 9202, 920...</td>\n      <td>True Positive</td>\n      <td>0.896483</td>\n    </tr>\n    <tr>\n      <th>17322</th>\n      <td>0</td>\n      <td>0</td>\n      <td>0</td>\n      <td>1</td>\n      <td>0</td>\n      <td>0</td>\n      <td>0</td>\n      <td>0</td>\n      <td>0</td>\n      <td>0</td>\n      <td>...</td>\n      <td>0</td>\n      <td>0</td>\n      <td>0</td>\n      <td>0</td>\n      <td>0</td>\n      <td>0</td>\n      <td>1</td>\n      <td>[8649, 9199, 9202, 9203, 9224, 9229, 9204, 920...</td>\n      <td>True Positive</td>\n      <td>0.898966</td>\n    </tr>\n    <tr>\n      <th>17333</th>\n      <td>0</td>\n      <td>0</td>\n      <td>0</td>\n      <td>0</td>\n      <td>1</td>\n      <td>0</td>\n      <td>0</td>\n      <td>0</td>\n      <td>0</td>\n      <td>0</td>\n      <td>...</td>\n      <td>0</td>\n      <td>0</td>\n      <td>0</td>\n      <td>0</td>\n      <td>0</td>\n      <td>0</td>\n      <td>1</td>\n      <td>[8649, 9205, 9206, 9204, 9202, 9229, 9224, 920...</td>\n      <td>True Positive</td>\n      <td>0.895934</td>\n    </tr>\n    <tr>\n      <th>17344</th>\n      <td>0</td>\n      <td>0</td>\n      <td>0</td>\n      <td>0</td>\n      <td>0</td>\n      <td>1</td>\n      <td>0</td>\n      <td>0</td>\n      <td>0</td>\n      <td>0</td>\n      <td>...</td>\n      <td>0</td>\n      <td>0</td>\n      <td>0</td>\n      <td>0</td>\n      <td>0</td>\n      <td>0</td>\n      <td>1</td>\n      <td>[8649, 9199, 9205, 9202, 9202, 9203, 9224, 921...</td>\n      <td>True Positive</td>\n      <td>0.900120</td>\n    </tr>\n    <tr>\n      <th>17353</th>\n      <td>0</td>\n      <td>0</td>\n      <td>0</td>\n      <td>0</td>\n      <td>0</td>\n      <td>0</td>\n      <td>1</td>\n      <td>0</td>\n      <td>0</td>\n      <td>0</td>\n      <td>...</td>\n      <td>0</td>\n      <td>0</td>\n      <td>0</td>\n      <td>0</td>\n      <td>0</td>\n      <td>0</td>\n      <td>1</td>\n      <td>[8649, 9199, 9201, 9200, 9202, 9204, 9205, 920...</td>\n      <td>True Positive</td>\n      <td>0.889579</td>\n    </tr>\n  </tbody>\n</table>\n<p>1632 rows × 326 columns</p>\n</div>"
     },
     "execution_count": 745,
     "metadata": {},
     "output_type": "execute_result"
    }
   ],
   "source": [
    "import torch\n",
    "import torch.nn as nn\n",
    "import torch.optim as optim\n",
    "from sklearn.model_selection import KFold\n",
    "from sklearn.metrics import mean_squared_error, mean_absolute_error, r2_score\n",
    "import numpy as np\n",
    "import pandas as pd\n",
    "\n",
    "# Assuming final_routes dataframe and relevant imports are available\n",
    "def set_seed(seed):\n",
    "    np.random.seed(seed)\n",
    "    random.seed(seed)\n",
    "    torch.manual_seed(seed)\n",
    "    torch.cuda.manual_seed(seed)\n",
    "    torch.backends.cudnn.deterministic = True\n",
    "    torch.backends.cudnn.benchmark = False\n",
    "\n",
    "\n",
    "set_seed(42)\n",
    "torch.use_deterministic_algorithms(True)\n",
    "\n",
    "class SimpleNN(nn.Module):\n",
    "    def __init__(self, input_size):\n",
    "        super(SimpleNN, self).__init__()\n",
    "        self.layer1 = nn.Linear(input_size, 128)\n",
    "        self.layer2 = nn.Linear(128, 1)\n",
    "        self.sigmoid = nn.Sigmoid()\n",
    "        self.relu = nn.ReLU()\n",
    "\n",
    "    def forward(self, x):\n",
    "        x = self.relu(self.layer1(x))\n",
    "        x = self.layer2(x)\n",
    "        x = self.sigmoid(x)\n",
    "        return x\n",
    "\n",
    "# Convert data to PyTorch tensors\n",
    "X_train_tensor = torch.tensor(X_train.drop('routes', axis=1).values, dtype=torch.float32)\n",
    "y_train_tensor = torch.tensor(y_train.values, dtype=torch.float32).view(-1, 1)\n",
    "X_val_tensor = torch.tensor(X_val.drop('routes', axis=1).values, dtype=torch.float32)\n",
    "y_val_tensor = torch.tensor(y_val.values, dtype=torch.float32).view(-1, 1)\n",
    "X_test_tensor = torch.tensor(X_test.drop('routes', axis=1).values, dtype=torch.float32)\n",
    "y_test_tensor = torch.tensor(y_test.values, dtype=torch.float32).view(-1, 1)\n",
    "\n",
    "# Training settings\n",
    "num_epochs = 100\n",
    "learning_rate = 0.001\n",
    "\n",
    "model = SimpleNN(X_train.shape[1]-1)\n",
    "criterion = nn.BCELoss()\n",
    "optimizer = optim.Adam(model.parameters(), lr=learning_rate)\n",
    "\n",
    "# Training and validation loop\n",
    "best_val_loss = float('inf')\n",
    "best_model = None\n",
    "\n",
    "for epoch in range(num_epochs):\n",
    "    model.train()\n",
    "    optimizer.zero_grad()\n",
    "    outputs = model(X_train_tensor)\n",
    "    loss = criterion(outputs, y_train_tensor)\n",
    "    loss.backward()\n",
    "    optimizer.step()\n",
    "\n",
    "    # Validation\n",
    "    model.eval()\n",
    "    with torch.no_grad():\n",
    "        val_outputs = model(X_val_tensor)\n",
    "        val_loss = criterion(val_outputs, y_val_tensor)\n",
    "\n",
    "    if val_loss < best_val_loss:\n",
    "        best_val_loss = val_loss\n",
    "        best_model = model.state_dict()\n",
    "\n",
    "    if (epoch + 1) % 10 == 0:\n",
    "        print(f'Epoch [{epoch+1}/{num_epochs}], Train Loss: {loss.item():.4f}, Val Loss: {val_loss.item():.4f}')\n",
    "\n",
    "# Load the best model\n",
    "model.load_state_dict(best_model)\n",
    "\n",
    "# Evaluation on test set\n",
    "model.eval()\n",
    "with torch.no_grad():\n",
    "    y_pred = model(X_test_tensor)\n",
    "    y_true = y_test_tensor\n",
    "\n",
    "y_pred = y_pred.numpy()\n",
    "y_true = y_true.numpy()\n",
    "\n",
    "y_test_pred = (y_pred > 0.5).astype(int)\n",
    "test_metrics = calculate_metrics(y_test, y_test_pred, y_pred)\n",
    "\n",
    "print(test_metrics)\n",
    "\n",
    "y_pred = y_pred.flatten()\n",
    "y_test_pred = y_test_pred.flatten()\n",
    "\n",
    "test_df_group_NN = categorize_predictions(X_test, y_test, y_test_pred, y_pred)\n",
    "test_df_group_NN"
   ],
   "metadata": {
    "collapsed": false,
    "pycharm": {
     "name": "#%%\n"
    }
   }
  },
  {
   "cell_type": "code",
   "execution_count": 746,
   "outputs": [
    {
     "name": "stdout",
     "output_type": "stream",
     "text": [
      "Routes unique to HA model: 35\n",
      "Sample of HA-only routes: [[1149, 3556, 5465, 5382, 4497, 5384, 5384, 5384, 6489, 3927, 3989, 4444, 4417, 5466, 1233, 3952, 3952, 4073, 6490, 6487, 4071, 4081, 4009, 5434], [1149, 1336, 1338, 1338, 1343, 1345, 1346, 1342, 1342, 1337, 1340, 1268, 1149], [1, 713, 725, 270, 728, 734, 733, 750, 751, 752, 644, 645], [1, 1, 1054, 1054, 7804, 7805, 306, 1494, 1493, 286, 286, 274, 984, 1048, 686, 7806, 1], [1348, 1543, 1542, 1348, 1664, 1650, 1651, 1874]]\n",
      "\n",
      "Routes unique to RF model: 71\n",
      "Sample of RF-only routes: [[1, 5090, 5091, 5093, 5088, 5071, 5094, 5097, 5096, 5076, 5098, 5095, 5080, 5081, 5070], [1149, 4438, 7104, 5484, 4078, 4221, 4225, 7105, 7106, 7107, 7111], [1149, 4185, 4202, 4206, 4188, 4203, 4220, 4207], [1, 53, 1006, 55, 8077, 8078, 7509, 6419, 56, 7505, 938, 46, 957, 57, 8080, 38, 40, 40], [8649, 9534, 9578, 9003, 10167, 9094, 9662, 9660, 9580, 10181, 9557, 10165, 10165, 9548, 9593]]\n"
     ]
    }
   ],
   "source": [
    "ha_tp_routes = test_df_group_HA[test_df_group_HA['prediction_category'] == 'False Positive']['routes'].tolist()\n",
    "nn_tp_routes = test_df_group_NN[test_df_group_NN['prediction_category'] == 'False Positive']['routes'].tolist()\n",
    "\n",
    "# Convert lists to sets of tuples for comparison\n",
    "ha_tp_routes_set = set(tuple(route) for route in ha_tp_routes)\n",
    "nn_tp_routes_set = set(tuple(route) for route in nn_tp_routes)\n",
    "\n",
    "# Find non-overlapping routes\n",
    "ha_only_routes = ha_tp_routes_set - nn_tp_routes_set\n",
    "nn_only_routes = nn_tp_routes_set - ha_tp_routes_set\n",
    "\n",
    "# Convert back to lists for display\n",
    "ha_only_routes = [list(route) for route in ha_only_routes]\n",
    "nn_only_routes = [list(route) for route in nn_only_routes]\n",
    "\n",
    "print(\"Routes unique to HA model:\", len(ha_only_routes))\n",
    "print(\"Sample of HA-only routes:\", ha_only_routes[:5])\n",
    "\n",
    "print(\"\\nRoutes unique to RF model:\", len(nn_only_routes))\n",
    "print(\"Sample of RF-only routes:\", nn_only_routes[:5])"
   ],
   "metadata": {
    "collapsed": false,
    "pycharm": {
     "name": "#%%\n"
    }
   }
  },
  {
   "cell_type": "code",
   "execution_count": 747,
   "outputs": [
    {
     "name": "stdout",
     "output_type": "stream",
     "text": [
      "1632 933\n",
      "1632 839\n"
     ]
    }
   ],
   "source": [
    "# unique_days = final_routes['day_of_week'].unique()\n",
    "# day_of_week_encoded = pd.get_dummies(final_routes['day_of_week'], prefix='day_of_week')\n",
    "# final_routes = pd.concat([final_routes, day_of_week_encoded], axis=1)\n",
    "# final_routes\n",
    "print(len(y_pred), len(y_pred[y_pred>0.5]))\n",
    "print(len(y_test), len(y_test[y_test>0.5]))"
   ],
   "metadata": {
    "collapsed": false,
    "pycharm": {
     "name": "#%%\n"
    }
   }
  },
  {
   "cell_type": "markdown",
   "source": [
    "# Model"
   ],
   "metadata": {
    "collapsed": false,
    "pycharm": {
     "name": "#%% md\n"
    }
   }
  },
  {
   "cell_type": "code",
   "execution_count": 748,
   "outputs": [
    {
     "data": {
      "text/plain": "                                                  routes  \\\n0                               [1, 2, 3, 4, 5, 5, 6, 7]   \n1                            [1, 2, 3, 8, 4, 5, 5, 6, 7]   \n2                            [1, 2, 3, 4, 5, 5, 7, 6, 8]   \n3                            [1, 2, 3, 8, 4, 5, 6, 9, 7]   \n4                            [1, 2, 3, 4, 5, 5, 6, 9, 7]   \n...                                                  ...   \n17349  [8649, 9201, 9200, 9205, 9206, 9204, 9211, 920...   \n17350  [8649, 9199, 9202, 9209, 9203, 9210, 9211, 920...   \n17351  [8649, 9199, 9205, 9206, 9202, 9203, 9210, 920...   \n17352  [8649, 9199, 9200, 9201, 9204, 9202, 9203, 921...   \n17353  [8649, 9199, 9201, 9200, 9202, 9204, 9205, 920...   \n\n                                           actual_routes  driver_id  \\\n0       [1167, 1405, 1560, 1413, 1391, 1391, 1434, 1269]     1255.0   \n1      [1167, 1405, 1577, 1560, 1413, 1391, 1391, 143...     1255.0   \n2      [1167, 1405, 1560, 1391, 1391, 1269, 1577, 143...     1255.0   \n3      [1167, 1405, 1168, 1560, 1577, 1413, 1391, 126...     1255.0   \n4      [1167, 1405, 1560, 1413, 1391, 1391, 1434, 126...     1255.0   \n...                                                  ...        ...   \n17349  [3162, 3636, 3660, 3649, 3649, 3661, 3596, 364...     1555.0   \n17350  [3162, 3654, 3656, 3636, 3648, 3661, 3652, 364...     1555.0   \n17351  [3162, 3656, 3641, 3665, 3646, 3658, 3661, 363...     1555.0   \n17352  [3162, 3641, 3663, 3648, 3661, 3646, 3660, 365...     1555.0   \n17353  [3162, 3641, 3663, 3648, 3661, 3661, 3651, 364...     1555.0   \n\n                                          distance_route  \\\n0      [14.640018023192697, 1.5229312527257717, 0.606...   \n1      [14.640018023192697, 1.5229312527257717, 0.185...   \n2      [14.640018023192697, 1.5229312527257717, 0.606...   \n3      [14.640018023192697, 1.5229312527257717, 0.185...   \n4      [14.640018023192697, 1.5229312527257717, 0.606...   \n...                                                  ...   \n17349  [10.326988859283256, 0.016889370846510543, 0.2...   \n17350  [10.35361799875347, 0.40596031876087574, 0.123...   \n17351  [10.35361799875347, 0.21530908942333182, 0.025...   \n17352  [10.35361799875347, 0.03919354991180035, 0.016...   \n17353  [10.35361799875347, 0.04612214849068512, 0.016...   \n\n       last_two_weeks_count  \\\n0                       8.0   \n1                      11.0   \n2                      11.0   \n3                      10.0   \n4                      10.0   \n...                     ...   \n17349                  11.0   \n17350                  12.0   \n17351                  11.0   \n17352                   7.0   \n17353                   2.0   \n\n                                             current_lat  \\\n0      [55.64641920439919, 55.6669147, 55.6757322, 55...   \n1      [55.64641920439919, 55.6669147, 55.6757322, 55...   \n2      [55.64641920439919, 55.6669147, 55.6757322, 55...   \n3      [55.64641920439919, 55.6669147, 55.6757322, 55...   \n4      [55.64641920439919, 55.6669147, 55.6757322, 55...   \n...                                                  ...   \n17349  [56.0667627, 56.1577259, 56.1578712, 56.159131...   \n17350  [56.0667627, 56.158392, 56.1596286, 56.1578408...   \n17351  [56.0667627, 56.158392, 56.159131, 56.15884339...   \n17352  [56.0667627, 56.158392, 56.1578712, 56.1577259...   \n17353  [56.0667627, 56.158392, 56.1577259, 56.1578712...   \n\n                                             current_lng day_of_week  \\\n0      [12.15372974969827, 12.5262801, 12.5619711, 12...      Monday   \n1      [12.15372974969827, 12.5262801, 12.5619711, 12...      Monday   \n2      [12.15372974969827, 12.5262801, 12.5619711, 12...      Monday   \n3      [12.15372974969827, 12.5262801, 12.5619711, 12...      Monday   \n4      [12.15372974969827, 12.5262801, 12.5619711, 12...      Monday   \n...                                                  ...         ...   \n17349  [9.986944, 10.1987529, 10.1991044, 10.204122, ...   Wednesday   \n17350  [9.986944, 10.198705, 10.2089833, 10.2090195, ...   Wednesday   \n17351  [9.986944, 10.198705, 10.204122, 10.2037157, 1...   Wednesday   \n17352  [9.986944, 10.198705, 10.1991044, 10.1987529, ...   Wednesday   \n17353  [9.986944, 10.198705, 10.1987529, 10.1991044, ...   Wednesday   \n\n            date                                  location_is_depot  ...  \\\n0     2024-01-15                           [1, 0, 0, 0, 0, 0, 0, 0]  ...   \n1     2024-02-19                        [1, 0, 0, 0, 0, 0, 0, 0, 0]  ...   \n2     2024-02-26                        [1, 0, 0, 0, 0, 0, 0, 0, 0]  ...   \n3     2024-03-04                        [1, 0, 0, 0, 0, 0, 0, 0, 0]  ...   \n4     2024-03-11                        [1, 0, 0, 0, 0, 0, 0, 0, 0]  ...   \n...          ...                                                ...  ...   \n17349 2024-06-05  [1, 0, 0, 0, 0, 0, 0, 0, 0, 0, 0, 0, 0, 0, 0, ...  ...   \n17350 2024-06-12  [1, 0, 0, 0, 0, 0, 0, 0, 0, 0, 0, 0, 0, 0, 0, ...  ...   \n17351 2024-06-19  [1, 0, 0, 0, 0, 0, 0, 0, 0, 0, 0, 0, 0, 0, 0, ...  ...   \n17352 2024-06-26  [1, 0, 0, 0, 0, 0, 0, 0, 0, 0, 0, 0, 0, 0, 0, ...  ...   \n17353 2024-07-03  [1, 0, 0, 0, 0, 0, 0, 0, 0, 0, 0, 0, 0, 0, 0, ...  ...   \n\n      day_of_week_encoded                                 experience_feature  \\\n0                     2.0                           [8, 8, 8, 8, 8, 8, 8, 8]   \n1                     2.0               [11, 11, 11, 11, 11, 11, 11, 11, 11]   \n2                     2.0               [11, 11, 11, 11, 11, 11, 11, 11, 11]   \n3                     2.0               [10, 10, 10, 10, 10, 10, 10, 10, 10]   \n4                     2.0               [10, 10, 10, 10, 10, 10, 10, 10, 10]   \n...                   ...                                                ...   \n17349                 7.0  [11, 11, 11, 11, 11, 11, 11, 11, 11, 11, 11, 1...   \n17350                 7.0  [12, 12, 12, 12, 12, 12, 12, 12, 12, 12, 12, 1...   \n17351                 7.0  [11, 11, 11, 11, 11, 11, 11, 11, 11, 11, 11, 1...   \n17352                 7.0  [7, 7, 7, 7, 7, 7, 7, 7, 7, 7, 7, 7, 7, 7, 7, ...   \n17353                 7.0  [2, 2, 2, 2, 2, 2, 2, 2, 2, 2, 2, 2, 2, 2, 2, ...   \n\n                                             len_feature  \\\n0                               [8, 8, 8, 8, 8, 8, 8, 8]   \n1                            [9, 9, 9, 9, 9, 9, 9, 9, 9]   \n2                            [9, 9, 9, 9, 9, 9, 9, 9, 9]   \n3                            [9, 9, 9, 9, 9, 9, 9, 9, 9]   \n4                            [9, 9, 9, 9, 9, 9, 9, 9, 9]   \n...                                                  ...   \n17349  [24, 24, 24, 24, 24, 24, 24, 24, 24, 24, 24, 2...   \n17350  [19, 19, 19, 19, 19, 19, 19, 19, 19, 19, 19, 1...   \n17351  [20, 20, 20, 20, 20, 20, 20, 20, 20, 20, 20, 2...   \n17352  [21, 21, 21, 21, 21, 21, 21, 21, 21, 21, 21, 2...   \n17353  [20, 20, 20, 20, 20, 20, 20, 20, 20, 20, 20, 2...   \n\n                                       driver_id_feature  \\\n0                               [1, 1, 1, 1, 1, 1, 1, 1]   \n1                            [1, 1, 1, 1, 1, 1, 1, 1, 1]   \n2                            [1, 1, 1, 1, 1, 1, 1, 1, 1]   \n3                            [1, 1, 1, 1, 1, 1, 1, 1, 1]   \n4                            [1, 1, 1, 1, 1, 1, 1, 1, 1]   \n...                                                  ...   \n17349  [387, 387, 387, 387, 387, 387, 387, 387, 387, ...   \n17350  [387, 387, 387, 387, 387, 387, 387, 387, 387, ...   \n17351  [387, 387, 387, 387, 387, 387, 387, 387, 387, ...   \n17352  [387, 387, 387, 387, 387, 387, 387, 387, 387, ...   \n17353  [387, 387, 387, 387, 387, 387, 387, 387, 387, ...   \n\n                                    country_flag_feature  \\\n0                               [1, 1, 1, 1, 1, 1, 1, 1]   \n1                            [1, 1, 1, 1, 1, 1, 1, 1, 1]   \n2                            [1, 1, 1, 1, 1, 1, 1, 1, 1]   \n3                            [1, 1, 1, 1, 1, 1, 1, 1, 1]   \n4                            [1, 1, 1, 1, 1, 1, 1, 1, 1]   \n...                                                  ...   \n17349  [1, 1, 1, 1, 1, 1, 1, 1, 1, 1, 1, 1, 1, 1, 1, ...   \n17350  [1, 1, 1, 1, 1, 1, 1, 1, 1, 1, 1, 1, 1, 1, 1, ...   \n17351  [1, 1, 1, 1, 1, 1, 1, 1, 1, 1, 1, 1, 1, 1, 1, ...   \n17352  [1, 1, 1, 1, 1, 1, 1, 1, 1, 1, 1, 1, 1, 1, 1, ...   \n17353  [1, 1, 1, 1, 1, 1, 1, 1, 1, 1, 1, 1, 1, 1, 1, ...   \n\n                                     day_of_week_feature  \\\n0      [[0, 0, 0, 0, 0, 0, 0], [0, 0, 0, 0, 0, 0, 0],...   \n1      [[0, 0, 0, 0, 0, 0, 0], [0, 0, 0, 0, 0, 0, 0],...   \n2      [[0, 0, 0, 0, 0, 0, 0], [0, 0, 0, 0, 0, 0, 0],...   \n3      [[0, 0, 0, 0, 0, 0, 0], [0, 0, 0, 0, 0, 0, 0],...   \n4      [[0, 0, 0, 0, 0, 0, 0], [0, 0, 0, 0, 0, 0, 0],...   \n...                                                  ...   \n17349  [[0, 0, 0, 0, 0, 0, 0], [0, 0, 0, 0, 0, 0, 0],...   \n17350  [[0, 0, 0, 0, 0, 0, 0], [0, 0, 0, 0, 0, 0, 0],...   \n17351  [[0, 0, 0, 0, 0, 0, 0], [0, 0, 0, 0, 0, 0, 0],...   \n17352  [[0, 0, 0, 0, 0, 0, 0], [0, 0, 0, 0, 0, 0, 0],...   \n17353  [[0, 0, 0, 0, 0, 0, 0], [0, 0, 0, 0, 0, 0, 0],...   \n\n      day_of_week_encoded_ext score_cumulative_avg score_cumulative_driver  \\\n0       [0, 1, 0, 0, 0, 0, 0]             0.000000                0.000000   \n1       [0, 1, 0, 0, 0, 0, 0]             0.000000                0.166667   \n2       [0, 1, 0, 0, 0, 0, 0]             0.333333                0.235294   \n3       [0, 1, 0, 0, 0, 0, 0]             0.500000                0.318182   \n4       [0, 1, 0, 0, 0, 0, 0]             0.400000                0.370370   \n...                       ...                  ...                     ...   \n17349   [0, 0, 0, 0, 0, 0, 1]             1.000000                1.000000   \n17350   [0, 0, 0, 0, 0, 0, 1]             1.000000                1.000000   \n17351   [0, 0, 0, 0, 0, 0, 1]             1.000000                1.000000   \n17352   [0, 0, 0, 0, 0, 0, 1]             1.000000                1.000000   \n17353   [0, 0, 0, 0, 0, 0, 1]             1.000000                1.000000   \n\n       split  \n0      train  \n1      train  \n2      train  \n3      train  \n4      train  \n...      ...  \n17349  train  \n17350  train  \n17351  train  \n17352    val  \n17353   test  \n\n[17354 rows x 25 columns]",
      "text/html": "<div>\n<style scoped>\n    .dataframe tbody tr th:only-of-type {\n        vertical-align: middle;\n    }\n\n    .dataframe tbody tr th {\n        vertical-align: top;\n    }\n\n    .dataframe thead th {\n        text-align: right;\n    }\n</style>\n<table border=\"1\" class=\"dataframe\">\n  <thead>\n    <tr style=\"text-align: right;\">\n      <th></th>\n      <th>routes</th>\n      <th>actual_routes</th>\n      <th>driver_id</th>\n      <th>distance_route</th>\n      <th>last_two_weeks_count</th>\n      <th>current_lat</th>\n      <th>current_lng</th>\n      <th>day_of_week</th>\n      <th>date</th>\n      <th>location_is_depot</th>\n      <th>...</th>\n      <th>day_of_week_encoded</th>\n      <th>experience_feature</th>\n      <th>len_feature</th>\n      <th>driver_id_feature</th>\n      <th>country_flag_feature</th>\n      <th>day_of_week_feature</th>\n      <th>day_of_week_encoded_ext</th>\n      <th>score_cumulative_avg</th>\n      <th>score_cumulative_driver</th>\n      <th>split</th>\n    </tr>\n  </thead>\n  <tbody>\n    <tr>\n      <th>0</th>\n      <td>[1, 2, 3, 4, 5, 5, 6, 7]</td>\n      <td>[1167, 1405, 1560, 1413, 1391, 1391, 1434, 1269]</td>\n      <td>1255.0</td>\n      <td>[14.640018023192697, 1.5229312527257717, 0.606...</td>\n      <td>8.0</td>\n      <td>[55.64641920439919, 55.6669147, 55.6757322, 55...</td>\n      <td>[12.15372974969827, 12.5262801, 12.5619711, 12...</td>\n      <td>Monday</td>\n      <td>2024-01-15</td>\n      <td>[1, 0, 0, 0, 0, 0, 0, 0]</td>\n      <td>...</td>\n      <td>2.0</td>\n      <td>[8, 8, 8, 8, 8, 8, 8, 8]</td>\n      <td>[8, 8, 8, 8, 8, 8, 8, 8]</td>\n      <td>[1, 1, 1, 1, 1, 1, 1, 1]</td>\n      <td>[1, 1, 1, 1, 1, 1, 1, 1]</td>\n      <td>[[0, 0, 0, 0, 0, 0, 0], [0, 0, 0, 0, 0, 0, 0],...</td>\n      <td>[0, 1, 0, 0, 0, 0, 0]</td>\n      <td>0.000000</td>\n      <td>0.000000</td>\n      <td>train</td>\n    </tr>\n    <tr>\n      <th>1</th>\n      <td>[1, 2, 3, 8, 4, 5, 5, 6, 7]</td>\n      <td>[1167, 1405, 1577, 1560, 1413, 1391, 1391, 143...</td>\n      <td>1255.0</td>\n      <td>[14.640018023192697, 1.5229312527257717, 0.185...</td>\n      <td>11.0</td>\n      <td>[55.64641920439919, 55.6669147, 55.6757322, 55...</td>\n      <td>[12.15372974969827, 12.5262801, 12.5619711, 12...</td>\n      <td>Monday</td>\n      <td>2024-02-19</td>\n      <td>[1, 0, 0, 0, 0, 0, 0, 0, 0]</td>\n      <td>...</td>\n      <td>2.0</td>\n      <td>[11, 11, 11, 11, 11, 11, 11, 11, 11]</td>\n      <td>[9, 9, 9, 9, 9, 9, 9, 9, 9]</td>\n      <td>[1, 1, 1, 1, 1, 1, 1, 1, 1]</td>\n      <td>[1, 1, 1, 1, 1, 1, 1, 1, 1]</td>\n      <td>[[0, 0, 0, 0, 0, 0, 0], [0, 0, 0, 0, 0, 0, 0],...</td>\n      <td>[0, 1, 0, 0, 0, 0, 0]</td>\n      <td>0.000000</td>\n      <td>0.166667</td>\n      <td>train</td>\n    </tr>\n    <tr>\n      <th>2</th>\n      <td>[1, 2, 3, 4, 5, 5, 7, 6, 8]</td>\n      <td>[1167, 1405, 1560, 1391, 1391, 1269, 1577, 143...</td>\n      <td>1255.0</td>\n      <td>[14.640018023192697, 1.5229312527257717, 0.606...</td>\n      <td>11.0</td>\n      <td>[55.64641920439919, 55.6669147, 55.6757322, 55...</td>\n      <td>[12.15372974969827, 12.5262801, 12.5619711, 12...</td>\n      <td>Monday</td>\n      <td>2024-02-26</td>\n      <td>[1, 0, 0, 0, 0, 0, 0, 0, 0]</td>\n      <td>...</td>\n      <td>2.0</td>\n      <td>[11, 11, 11, 11, 11, 11, 11, 11, 11]</td>\n      <td>[9, 9, 9, 9, 9, 9, 9, 9, 9]</td>\n      <td>[1, 1, 1, 1, 1, 1, 1, 1, 1]</td>\n      <td>[1, 1, 1, 1, 1, 1, 1, 1, 1]</td>\n      <td>[[0, 0, 0, 0, 0, 0, 0], [0, 0, 0, 0, 0, 0, 0],...</td>\n      <td>[0, 1, 0, 0, 0, 0, 0]</td>\n      <td>0.333333</td>\n      <td>0.235294</td>\n      <td>train</td>\n    </tr>\n    <tr>\n      <th>3</th>\n      <td>[1, 2, 3, 8, 4, 5, 6, 9, 7]</td>\n      <td>[1167, 1405, 1168, 1560, 1577, 1413, 1391, 126...</td>\n      <td>1255.0</td>\n      <td>[14.640018023192697, 1.5229312527257717, 0.185...</td>\n      <td>10.0</td>\n      <td>[55.64641920439919, 55.6669147, 55.6757322, 55...</td>\n      <td>[12.15372974969827, 12.5262801, 12.5619711, 12...</td>\n      <td>Monday</td>\n      <td>2024-03-04</td>\n      <td>[1, 0, 0, 0, 0, 0, 0, 0, 0]</td>\n      <td>...</td>\n      <td>2.0</td>\n      <td>[10, 10, 10, 10, 10, 10, 10, 10, 10]</td>\n      <td>[9, 9, 9, 9, 9, 9, 9, 9, 9]</td>\n      <td>[1, 1, 1, 1, 1, 1, 1, 1, 1]</td>\n      <td>[1, 1, 1, 1, 1, 1, 1, 1, 1]</td>\n      <td>[[0, 0, 0, 0, 0, 0, 0], [0, 0, 0, 0, 0, 0, 0],...</td>\n      <td>[0, 1, 0, 0, 0, 0, 0]</td>\n      <td>0.500000</td>\n      <td>0.318182</td>\n      <td>train</td>\n    </tr>\n    <tr>\n      <th>4</th>\n      <td>[1, 2, 3, 4, 5, 5, 6, 9, 7]</td>\n      <td>[1167, 1405, 1560, 1413, 1391, 1391, 1434, 126...</td>\n      <td>1255.0</td>\n      <td>[14.640018023192697, 1.5229312527257717, 0.606...</td>\n      <td>10.0</td>\n      <td>[55.64641920439919, 55.6669147, 55.6757322, 55...</td>\n      <td>[12.15372974969827, 12.5262801, 12.5619711, 12...</td>\n      <td>Monday</td>\n      <td>2024-03-11</td>\n      <td>[1, 0, 0, 0, 0, 0, 0, 0, 0]</td>\n      <td>...</td>\n      <td>2.0</td>\n      <td>[10, 10, 10, 10, 10, 10, 10, 10, 10]</td>\n      <td>[9, 9, 9, 9, 9, 9, 9, 9, 9]</td>\n      <td>[1, 1, 1, 1, 1, 1, 1, 1, 1]</td>\n      <td>[1, 1, 1, 1, 1, 1, 1, 1, 1]</td>\n      <td>[[0, 0, 0, 0, 0, 0, 0], [0, 0, 0, 0, 0, 0, 0],...</td>\n      <td>[0, 1, 0, 0, 0, 0, 0]</td>\n      <td>0.400000</td>\n      <td>0.370370</td>\n      <td>train</td>\n    </tr>\n    <tr>\n      <th>...</th>\n      <td>...</td>\n      <td>...</td>\n      <td>...</td>\n      <td>...</td>\n      <td>...</td>\n      <td>...</td>\n      <td>...</td>\n      <td>...</td>\n      <td>...</td>\n      <td>...</td>\n      <td>...</td>\n      <td>...</td>\n      <td>...</td>\n      <td>...</td>\n      <td>...</td>\n      <td>...</td>\n      <td>...</td>\n      <td>...</td>\n      <td>...</td>\n      <td>...</td>\n      <td>...</td>\n    </tr>\n    <tr>\n      <th>17349</th>\n      <td>[8649, 9201, 9200, 9205, 9206, 9204, 9211, 920...</td>\n      <td>[3162, 3636, 3660, 3649, 3649, 3661, 3596, 364...</td>\n      <td>1555.0</td>\n      <td>[10.326988859283256, 0.016889370846510543, 0.2...</td>\n      <td>11.0</td>\n      <td>[56.0667627, 56.1577259, 56.1578712, 56.159131...</td>\n      <td>[9.986944, 10.1987529, 10.1991044, 10.204122, ...</td>\n      <td>Wednesday</td>\n      <td>2024-06-05</td>\n      <td>[1, 0, 0, 0, 0, 0, 0, 0, 0, 0, 0, 0, 0, 0, 0, ...</td>\n      <td>...</td>\n      <td>7.0</td>\n      <td>[11, 11, 11, 11, 11, 11, 11, 11, 11, 11, 11, 1...</td>\n      <td>[24, 24, 24, 24, 24, 24, 24, 24, 24, 24, 24, 2...</td>\n      <td>[387, 387, 387, 387, 387, 387, 387, 387, 387, ...</td>\n      <td>[1, 1, 1, 1, 1, 1, 1, 1, 1, 1, 1, 1, 1, 1, 1, ...</td>\n      <td>[[0, 0, 0, 0, 0, 0, 0], [0, 0, 0, 0, 0, 0, 0],...</td>\n      <td>[0, 0, 0, 0, 0, 0, 1]</td>\n      <td>1.000000</td>\n      <td>1.000000</td>\n      <td>train</td>\n    </tr>\n    <tr>\n      <th>17350</th>\n      <td>[8649, 9199, 9202, 9209, 9203, 9210, 9211, 920...</td>\n      <td>[3162, 3654, 3656, 3636, 3648, 3661, 3652, 364...</td>\n      <td>1555.0</td>\n      <td>[10.35361799875347, 0.40596031876087574, 0.123...</td>\n      <td>12.0</td>\n      <td>[56.0667627, 56.158392, 56.1596286, 56.1578408...</td>\n      <td>[9.986944, 10.198705, 10.2089833, 10.2090195, ...</td>\n      <td>Wednesday</td>\n      <td>2024-06-12</td>\n      <td>[1, 0, 0, 0, 0, 0, 0, 0, 0, 0, 0, 0, 0, 0, 0, ...</td>\n      <td>...</td>\n      <td>7.0</td>\n      <td>[12, 12, 12, 12, 12, 12, 12, 12, 12, 12, 12, 1...</td>\n      <td>[19, 19, 19, 19, 19, 19, 19, 19, 19, 19, 19, 1...</td>\n      <td>[387, 387, 387, 387, 387, 387, 387, 387, 387, ...</td>\n      <td>[1, 1, 1, 1, 1, 1, 1, 1, 1, 1, 1, 1, 1, 1, 1, ...</td>\n      <td>[[0, 0, 0, 0, 0, 0, 0], [0, 0, 0, 0, 0, 0, 0],...</td>\n      <td>[0, 0, 0, 0, 0, 0, 1]</td>\n      <td>1.000000</td>\n      <td>1.000000</td>\n      <td>train</td>\n    </tr>\n    <tr>\n      <th>17351</th>\n      <td>[8649, 9199, 9205, 9206, 9202, 9203, 9210, 920...</td>\n      <td>[3162, 3656, 3641, 3665, 3646, 3658, 3661, 363...</td>\n      <td>1555.0</td>\n      <td>[10.35361799875347, 0.21530908942333182, 0.025...</td>\n      <td>11.0</td>\n      <td>[56.0667627, 56.158392, 56.159131, 56.15884339...</td>\n      <td>[9.986944, 10.198705, 10.204122, 10.2037157, 1...</td>\n      <td>Wednesday</td>\n      <td>2024-06-19</td>\n      <td>[1, 0, 0, 0, 0, 0, 0, 0, 0, 0, 0, 0, 0, 0, 0, ...</td>\n      <td>...</td>\n      <td>7.0</td>\n      <td>[11, 11, 11, 11, 11, 11, 11, 11, 11, 11, 11, 1...</td>\n      <td>[20, 20, 20, 20, 20, 20, 20, 20, 20, 20, 20, 2...</td>\n      <td>[387, 387, 387, 387, 387, 387, 387, 387, 387, ...</td>\n      <td>[1, 1, 1, 1, 1, 1, 1, 1, 1, 1, 1, 1, 1, 1, 1, ...</td>\n      <td>[[0, 0, 0, 0, 0, 0, 0], [0, 0, 0, 0, 0, 0, 0],...</td>\n      <td>[0, 0, 0, 0, 0, 0, 1]</td>\n      <td>1.000000</td>\n      <td>1.000000</td>\n      <td>train</td>\n    </tr>\n    <tr>\n      <th>17352</th>\n      <td>[8649, 9199, 9200, 9201, 9204, 9202, 9203, 921...</td>\n      <td>[3162, 3641, 3663, 3648, 3661, 3646, 3660, 365...</td>\n      <td>1555.0</td>\n      <td>[10.35361799875347, 0.03919354991180035, 0.016...</td>\n      <td>7.0</td>\n      <td>[56.0667627, 56.158392, 56.1578712, 56.1577259...</td>\n      <td>[9.986944, 10.198705, 10.1991044, 10.1987529, ...</td>\n      <td>Wednesday</td>\n      <td>2024-06-26</td>\n      <td>[1, 0, 0, 0, 0, 0, 0, 0, 0, 0, 0, 0, 0, 0, 0, ...</td>\n      <td>...</td>\n      <td>7.0</td>\n      <td>[7, 7, 7, 7, 7, 7, 7, 7, 7, 7, 7, 7, 7, 7, 7, ...</td>\n      <td>[21, 21, 21, 21, 21, 21, 21, 21, 21, 21, 21, 2...</td>\n      <td>[387, 387, 387, 387, 387, 387, 387, 387, 387, ...</td>\n      <td>[1, 1, 1, 1, 1, 1, 1, 1, 1, 1, 1, 1, 1, 1, 1, ...</td>\n      <td>[[0, 0, 0, 0, 0, 0, 0], [0, 0, 0, 0, 0, 0, 0],...</td>\n      <td>[0, 0, 0, 0, 0, 0, 1]</td>\n      <td>1.000000</td>\n      <td>1.000000</td>\n      <td>val</td>\n    </tr>\n    <tr>\n      <th>17353</th>\n      <td>[8649, 9199, 9201, 9200, 9202, 9204, 9205, 920...</td>\n      <td>[3162, 3641, 3663, 3648, 3661, 3661, 3651, 364...</td>\n      <td>1555.0</td>\n      <td>[10.35361799875347, 0.04612214849068512, 0.016...</td>\n      <td>2.0</td>\n      <td>[56.0667627, 56.158392, 56.1577259, 56.1578712...</td>\n      <td>[9.986944, 10.198705, 10.1987529, 10.1991044, ...</td>\n      <td>Wednesday</td>\n      <td>2024-07-03</td>\n      <td>[1, 0, 0, 0, 0, 0, 0, 0, 0, 0, 0, 0, 0, 0, 0, ...</td>\n      <td>...</td>\n      <td>7.0</td>\n      <td>[2, 2, 2, 2, 2, 2, 2, 2, 2, 2, 2, 2, 2, 2, 2, ...</td>\n      <td>[20, 20, 20, 20, 20, 20, 20, 20, 20, 20, 20, 2...</td>\n      <td>[387, 387, 387, 387, 387, 387, 387, 387, 387, ...</td>\n      <td>[1, 1, 1, 1, 1, 1, 1, 1, 1, 1, 1, 1, 1, 1, 1, ...</td>\n      <td>[[0, 0, 0, 0, 0, 0, 0], [0, 0, 0, 0, 0, 0, 0],...</td>\n      <td>[0, 0, 0, 0, 0, 0, 1]</td>\n      <td>1.000000</td>\n      <td>1.000000</td>\n      <td>test</td>\n    </tr>\n  </tbody>\n</table>\n<p>17354 rows × 25 columns</p>\n</div>"
     },
     "execution_count": 748,
     "metadata": {},
     "output_type": "execute_result"
    }
   ],
   "source": [
    "def padding_(routes, route_len):\n",
    "    features = np.zeros((len(routes), route_len),dtype=np.float16)\n",
    "    for ii, route in enumerate(routes):\n",
    "        if len(route) != 0:\n",
    "            features[ii, -len(route):] = np.array(route)[:route_len]\n",
    "    return features\n",
    "\n",
    "X = final_routes_split.drop(columns = ['driver_id', 'len', 'driver_id_sorted','day_of_week_encoded'])\n",
    "max_route_length = max(len(item) for item in final_routes_split['routes'])\n",
    "y = np.array(final_routes_split['label'])\n",
    "# X = np.concatenate([padding_(X['routes'], max_route_length),padding_(X['distance_route'], max_route_length), X.to_numpy()[:,2:]], axis=1)\n",
    "# X = np.concatenate([padding_(X['routes'], max_route_length),padding_(X['distance_route'], max_route_length), padding_(X['experience_feature'], max_route_length), padding_(X['len_feature'], max_route_length), padding_(X['driver_id_feature'], max_route_length)], axis=1)\n",
    "# X = X.astype(np.float16)\n",
    "# X = X.astype(int) #for boolean values, to converst from string to int\n",
    "# final_routes\n",
    "final_routes_split"
   ],
   "metadata": {
    "collapsed": false,
    "pycharm": {
     "name": "#%%\n"
    }
   }
  },
  {
   "cell_type": "markdown",
   "source": [
    "# Driver id and location id counting and overwritten with transformed dataset"
   ],
   "metadata": {
    "collapsed": false,
    "pycharm": {
     "name": "#%% md\n"
    }
   }
  },
  {
   "cell_type": "code",
   "execution_count": 749,
   "outputs": [
    {
     "name": "stdout",
     "output_type": "stream",
     "text": [
      "Total number of drivers 316\n",
      "10538\n"
     ]
    },
    {
     "data": {
      "text/plain": "                                                  routes  \\\n0                               [1, 2, 3, 4, 5, 5, 6, 7]   \n1                            [1, 2, 3, 8, 4, 5, 5, 6, 7]   \n2                            [1, 2, 3, 4, 5, 5, 7, 6, 8]   \n3                            [1, 2, 3, 8, 4, 5, 6, 9, 7]   \n4                            [1, 2, 3, 4, 5, 5, 6, 9, 7]   \n...                                                  ...   \n17349  [8649, 9201, 9200, 9205, 9206, 9204, 9211, 920...   \n17350  [8649, 9199, 9202, 9209, 9203, 9210, 9211, 920...   \n17351  [8649, 9199, 9205, 9206, 9202, 9203, 9210, 920...   \n17352  [8649, 9199, 9200, 9201, 9204, 9202, 9203, 921...   \n17353  [8649, 9199, 9201, 9200, 9202, 9204, 9205, 920...   \n\n                                           actual_routes  driver_id  \\\n0       [1167, 1405, 1560, 1413, 1391, 1391, 1434, 1269]     1255.0   \n1      [1167, 1405, 1577, 1560, 1413, 1391, 1391, 143...     1255.0   \n2      [1167, 1405, 1560, 1391, 1391, 1269, 1577, 143...     1255.0   \n3      [1167, 1405, 1168, 1560, 1577, 1413, 1391, 126...     1255.0   \n4      [1167, 1405, 1560, 1413, 1391, 1391, 1434, 126...     1255.0   \n...                                                  ...        ...   \n17349  [3162, 3636, 3660, 3649, 3649, 3661, 3596, 364...     1555.0   \n17350  [3162, 3654, 3656, 3636, 3648, 3661, 3652, 364...     1555.0   \n17351  [3162, 3656, 3641, 3665, 3646, 3658, 3661, 363...     1555.0   \n17352  [3162, 3641, 3663, 3648, 3661, 3646, 3660, 365...     1555.0   \n17353  [3162, 3641, 3663, 3648, 3661, 3661, 3651, 364...     1555.0   \n\n                                          distance_route  \\\n0      [14.640018023192697, 1.5229312527257717, 0.606...   \n1      [14.640018023192697, 1.5229312527257717, 0.185...   \n2      [14.640018023192697, 1.5229312527257717, 0.606...   \n3      [14.640018023192697, 1.5229312527257717, 0.185...   \n4      [14.640018023192697, 1.5229312527257717, 0.606...   \n...                                                  ...   \n17349  [10.326988859283256, 0.016889370846510543, 0.2...   \n17350  [10.35361799875347, 0.40596031876087574, 0.123...   \n17351  [10.35361799875347, 0.21530908942333182, 0.025...   \n17352  [10.35361799875347, 0.03919354991180035, 0.016...   \n17353  [10.35361799875347, 0.04612214849068512, 0.016...   \n\n       last_two_weeks_count  \\\n0                       8.0   \n1                      11.0   \n2                      11.0   \n3                      10.0   \n4                      10.0   \n...                     ...   \n17349                  11.0   \n17350                  12.0   \n17351                  11.0   \n17352                   7.0   \n17353                   2.0   \n\n                                             current_lat  \\\n0      [55.64641920439919, 55.6669147, 55.6757322, 55...   \n1      [55.64641920439919, 55.6669147, 55.6757322, 55...   \n2      [55.64641920439919, 55.6669147, 55.6757322, 55...   \n3      [55.64641920439919, 55.6669147, 55.6757322, 55...   \n4      [55.64641920439919, 55.6669147, 55.6757322, 55...   \n...                                                  ...   \n17349  [56.0667627, 56.1577259, 56.1578712, 56.159131...   \n17350  [56.0667627, 56.158392, 56.1596286, 56.1578408...   \n17351  [56.0667627, 56.158392, 56.159131, 56.15884339...   \n17352  [56.0667627, 56.158392, 56.1578712, 56.1577259...   \n17353  [56.0667627, 56.158392, 56.1577259, 56.1578712...   \n\n                                             current_lng day_of_week  \\\n0      [12.15372974969827, 12.5262801, 12.5619711, 12...      Monday   \n1      [12.15372974969827, 12.5262801, 12.5619711, 12...      Monday   \n2      [12.15372974969827, 12.5262801, 12.5619711, 12...      Monday   \n3      [12.15372974969827, 12.5262801, 12.5619711, 12...      Monday   \n4      [12.15372974969827, 12.5262801, 12.5619711, 12...      Monday   \n...                                                  ...         ...   \n17349  [9.986944, 10.1987529, 10.1991044, 10.204122, ...   Wednesday   \n17350  [9.986944, 10.198705, 10.2089833, 10.2090195, ...   Wednesday   \n17351  [9.986944, 10.198705, 10.204122, 10.2037157, 1...   Wednesday   \n17352  [9.986944, 10.198705, 10.1991044, 10.1987529, ...   Wednesday   \n17353  [9.986944, 10.198705, 10.1987529, 10.1991044, ...   Wednesday   \n\n            date                                  location_is_depot  ...  \\\n0     2024-01-15                           [1, 0, 0, 0, 0, 0, 0, 0]  ...   \n1     2024-02-19                        [1, 0, 0, 0, 0, 0, 0, 0, 0]  ...   \n2     2024-02-26                        [1, 0, 0, 0, 0, 0, 0, 0, 0]  ...   \n3     2024-03-04                        [1, 0, 0, 0, 0, 0, 0, 0, 0]  ...   \n4     2024-03-11                        [1, 0, 0, 0, 0, 0, 0, 0, 0]  ...   \n...          ...                                                ...  ...   \n17349 2024-06-05  [1, 0, 0, 0, 0, 0, 0, 0, 0, 0, 0, 0, 0, 0, 0, ...  ...   \n17350 2024-06-12  [1, 0, 0, 0, 0, 0, 0, 0, 0, 0, 0, 0, 0, 0, 0, ...  ...   \n17351 2024-06-19  [1, 0, 0, 0, 0, 0, 0, 0, 0, 0, 0, 0, 0, 0, 0, ...  ...   \n17352 2024-06-26  [1, 0, 0, 0, 0, 0, 0, 0, 0, 0, 0, 0, 0, 0, 0, ...  ...   \n17353 2024-07-03  [1, 0, 0, 0, 0, 0, 0, 0, 0, 0, 0, 0, 0, 0, 0, ...  ...   \n\n      day_of_week_encoded                                 experience_feature  \\\n0                     2.0                           [8, 8, 8, 8, 8, 8, 8, 8]   \n1                     2.0               [11, 11, 11, 11, 11, 11, 11, 11, 11]   \n2                     2.0               [11, 11, 11, 11, 11, 11, 11, 11, 11]   \n3                     2.0               [10, 10, 10, 10, 10, 10, 10, 10, 10]   \n4                     2.0               [10, 10, 10, 10, 10, 10, 10, 10, 10]   \n...                   ...                                                ...   \n17349                 7.0  [11, 11, 11, 11, 11, 11, 11, 11, 11, 11, 11, 1...   \n17350                 7.0  [12, 12, 12, 12, 12, 12, 12, 12, 12, 12, 12, 1...   \n17351                 7.0  [11, 11, 11, 11, 11, 11, 11, 11, 11, 11, 11, 1...   \n17352                 7.0  [7, 7, 7, 7, 7, 7, 7, 7, 7, 7, 7, 7, 7, 7, 7, ...   \n17353                 7.0  [2, 2, 2, 2, 2, 2, 2, 2, 2, 2, 2, 2, 2, 2, 2, ...   \n\n                                             len_feature  \\\n0                               [8, 8, 8, 8, 8, 8, 8, 8]   \n1                            [9, 9, 9, 9, 9, 9, 9, 9, 9]   \n2                            [9, 9, 9, 9, 9, 9, 9, 9, 9]   \n3                            [9, 9, 9, 9, 9, 9, 9, 9, 9]   \n4                            [9, 9, 9, 9, 9, 9, 9, 9, 9]   \n...                                                  ...   \n17349  [24, 24, 24, 24, 24, 24, 24, 24, 24, 24, 24, 2...   \n17350  [19, 19, 19, 19, 19, 19, 19, 19, 19, 19, 19, 1...   \n17351  [20, 20, 20, 20, 20, 20, 20, 20, 20, 20, 20, 2...   \n17352  [21, 21, 21, 21, 21, 21, 21, 21, 21, 21, 21, 2...   \n17353  [20, 20, 20, 20, 20, 20, 20, 20, 20, 20, 20, 2...   \n\n                                       driver_id_feature  \\\n0                               [1, 1, 1, 1, 1, 1, 1, 1]   \n1                            [1, 1, 1, 1, 1, 1, 1, 1, 1]   \n2                            [1, 1, 1, 1, 1, 1, 1, 1, 1]   \n3                            [1, 1, 1, 1, 1, 1, 1, 1, 1]   \n4                            [1, 1, 1, 1, 1, 1, 1, 1, 1]   \n...                                                  ...   \n17349  [387, 387, 387, 387, 387, 387, 387, 387, 387, ...   \n17350  [387, 387, 387, 387, 387, 387, 387, 387, 387, ...   \n17351  [387, 387, 387, 387, 387, 387, 387, 387, 387, ...   \n17352  [387, 387, 387, 387, 387, 387, 387, 387, 387, ...   \n17353  [387, 387, 387, 387, 387, 387, 387, 387, 387, ...   \n\n                                    country_flag_feature  \\\n0                               [1, 1, 1, 1, 1, 1, 1, 1]   \n1                            [1, 1, 1, 1, 1, 1, 1, 1, 1]   \n2                            [1, 1, 1, 1, 1, 1, 1, 1, 1]   \n3                            [1, 1, 1, 1, 1, 1, 1, 1, 1]   \n4                            [1, 1, 1, 1, 1, 1, 1, 1, 1]   \n...                                                  ...   \n17349  [1, 1, 1, 1, 1, 1, 1, 1, 1, 1, 1, 1, 1, 1, 1, ...   \n17350  [1, 1, 1, 1, 1, 1, 1, 1, 1, 1, 1, 1, 1, 1, 1, ...   \n17351  [1, 1, 1, 1, 1, 1, 1, 1, 1, 1, 1, 1, 1, 1, 1, ...   \n17352  [1, 1, 1, 1, 1, 1, 1, 1, 1, 1, 1, 1, 1, 1, 1, ...   \n17353  [1, 1, 1, 1, 1, 1, 1, 1, 1, 1, 1, 1, 1, 1, 1, ...   \n\n                                     day_of_week_feature  \\\n0      [[0, 0, 0, 0, 0, 0, 0], [0, 0, 0, 0, 0, 0, 0],...   \n1      [[0, 0, 0, 0, 0, 0, 0], [0, 0, 0, 0, 0, 0, 0],...   \n2      [[0, 0, 0, 0, 0, 0, 0], [0, 0, 0, 0, 0, 0, 0],...   \n3      [[0, 0, 0, 0, 0, 0, 0], [0, 0, 0, 0, 0, 0, 0],...   \n4      [[0, 0, 0, 0, 0, 0, 0], [0, 0, 0, 0, 0, 0, 0],...   \n...                                                  ...   \n17349  [[0, 0, 0, 0, 0, 0, 0], [0, 0, 0, 0, 0, 0, 0],...   \n17350  [[0, 0, 0, 0, 0, 0, 0], [0, 0, 0, 0, 0, 0, 0],...   \n17351  [[0, 0, 0, 0, 0, 0, 0], [0, 0, 0, 0, 0, 0, 0],...   \n17352  [[0, 0, 0, 0, 0, 0, 0], [0, 0, 0, 0, 0, 0, 0],...   \n17353  [[0, 0, 0, 0, 0, 0, 0], [0, 0, 0, 0, 0, 0, 0],...   \n\n      day_of_week_encoded_ext score_cumulative_avg score_cumulative_driver  \\\n0       [0, 1, 0, 0, 0, 0, 0]             0.000000                0.000000   \n1       [0, 1, 0, 0, 0, 0, 0]             0.000000                0.166667   \n2       [0, 1, 0, 0, 0, 0, 0]             0.333333                0.235294   \n3       [0, 1, 0, 0, 0, 0, 0]             0.500000                0.318182   \n4       [0, 1, 0, 0, 0, 0, 0]             0.400000                0.370370   \n...                       ...                  ...                     ...   \n17349   [0, 0, 0, 0, 0, 0, 1]             1.000000                1.000000   \n17350   [0, 0, 0, 0, 0, 0, 1]             1.000000                1.000000   \n17351   [0, 0, 0, 0, 0, 0, 1]             1.000000                1.000000   \n17352   [0, 0, 0, 0, 0, 0, 1]             1.000000                1.000000   \n17353   [0, 0, 0, 0, 0, 0, 1]             1.000000                1.000000   \n\n       split  \n0      train  \n1      train  \n2      train  \n3      train  \n4      train  \n...      ...  \n17349  train  \n17350  train  \n17351  train  \n17352    val  \n17353   test  \n\n[17354 rows x 25 columns]",
      "text/html": "<div>\n<style scoped>\n    .dataframe tbody tr th:only-of-type {\n        vertical-align: middle;\n    }\n\n    .dataframe tbody tr th {\n        vertical-align: top;\n    }\n\n    .dataframe thead th {\n        text-align: right;\n    }\n</style>\n<table border=\"1\" class=\"dataframe\">\n  <thead>\n    <tr style=\"text-align: right;\">\n      <th></th>\n      <th>routes</th>\n      <th>actual_routes</th>\n      <th>driver_id</th>\n      <th>distance_route</th>\n      <th>last_two_weeks_count</th>\n      <th>current_lat</th>\n      <th>current_lng</th>\n      <th>day_of_week</th>\n      <th>date</th>\n      <th>location_is_depot</th>\n      <th>...</th>\n      <th>day_of_week_encoded</th>\n      <th>experience_feature</th>\n      <th>len_feature</th>\n      <th>driver_id_feature</th>\n      <th>country_flag_feature</th>\n      <th>day_of_week_feature</th>\n      <th>day_of_week_encoded_ext</th>\n      <th>score_cumulative_avg</th>\n      <th>score_cumulative_driver</th>\n      <th>split</th>\n    </tr>\n  </thead>\n  <tbody>\n    <tr>\n      <th>0</th>\n      <td>[1, 2, 3, 4, 5, 5, 6, 7]</td>\n      <td>[1167, 1405, 1560, 1413, 1391, 1391, 1434, 1269]</td>\n      <td>1255.0</td>\n      <td>[14.640018023192697, 1.5229312527257717, 0.606...</td>\n      <td>8.0</td>\n      <td>[55.64641920439919, 55.6669147, 55.6757322, 55...</td>\n      <td>[12.15372974969827, 12.5262801, 12.5619711, 12...</td>\n      <td>Monday</td>\n      <td>2024-01-15</td>\n      <td>[1, 0, 0, 0, 0, 0, 0, 0]</td>\n      <td>...</td>\n      <td>2.0</td>\n      <td>[8, 8, 8, 8, 8, 8, 8, 8]</td>\n      <td>[8, 8, 8, 8, 8, 8, 8, 8]</td>\n      <td>[1, 1, 1, 1, 1, 1, 1, 1]</td>\n      <td>[1, 1, 1, 1, 1, 1, 1, 1]</td>\n      <td>[[0, 0, 0, 0, 0, 0, 0], [0, 0, 0, 0, 0, 0, 0],...</td>\n      <td>[0, 1, 0, 0, 0, 0, 0]</td>\n      <td>0.000000</td>\n      <td>0.000000</td>\n      <td>train</td>\n    </tr>\n    <tr>\n      <th>1</th>\n      <td>[1, 2, 3, 8, 4, 5, 5, 6, 7]</td>\n      <td>[1167, 1405, 1577, 1560, 1413, 1391, 1391, 143...</td>\n      <td>1255.0</td>\n      <td>[14.640018023192697, 1.5229312527257717, 0.185...</td>\n      <td>11.0</td>\n      <td>[55.64641920439919, 55.6669147, 55.6757322, 55...</td>\n      <td>[12.15372974969827, 12.5262801, 12.5619711, 12...</td>\n      <td>Monday</td>\n      <td>2024-02-19</td>\n      <td>[1, 0, 0, 0, 0, 0, 0, 0, 0]</td>\n      <td>...</td>\n      <td>2.0</td>\n      <td>[11, 11, 11, 11, 11, 11, 11, 11, 11]</td>\n      <td>[9, 9, 9, 9, 9, 9, 9, 9, 9]</td>\n      <td>[1, 1, 1, 1, 1, 1, 1, 1, 1]</td>\n      <td>[1, 1, 1, 1, 1, 1, 1, 1, 1]</td>\n      <td>[[0, 0, 0, 0, 0, 0, 0], [0, 0, 0, 0, 0, 0, 0],...</td>\n      <td>[0, 1, 0, 0, 0, 0, 0]</td>\n      <td>0.000000</td>\n      <td>0.166667</td>\n      <td>train</td>\n    </tr>\n    <tr>\n      <th>2</th>\n      <td>[1, 2, 3, 4, 5, 5, 7, 6, 8]</td>\n      <td>[1167, 1405, 1560, 1391, 1391, 1269, 1577, 143...</td>\n      <td>1255.0</td>\n      <td>[14.640018023192697, 1.5229312527257717, 0.606...</td>\n      <td>11.0</td>\n      <td>[55.64641920439919, 55.6669147, 55.6757322, 55...</td>\n      <td>[12.15372974969827, 12.5262801, 12.5619711, 12...</td>\n      <td>Monday</td>\n      <td>2024-02-26</td>\n      <td>[1, 0, 0, 0, 0, 0, 0, 0, 0]</td>\n      <td>...</td>\n      <td>2.0</td>\n      <td>[11, 11, 11, 11, 11, 11, 11, 11, 11]</td>\n      <td>[9, 9, 9, 9, 9, 9, 9, 9, 9]</td>\n      <td>[1, 1, 1, 1, 1, 1, 1, 1, 1]</td>\n      <td>[1, 1, 1, 1, 1, 1, 1, 1, 1]</td>\n      <td>[[0, 0, 0, 0, 0, 0, 0], [0, 0, 0, 0, 0, 0, 0],...</td>\n      <td>[0, 1, 0, 0, 0, 0, 0]</td>\n      <td>0.333333</td>\n      <td>0.235294</td>\n      <td>train</td>\n    </tr>\n    <tr>\n      <th>3</th>\n      <td>[1, 2, 3, 8, 4, 5, 6, 9, 7]</td>\n      <td>[1167, 1405, 1168, 1560, 1577, 1413, 1391, 126...</td>\n      <td>1255.0</td>\n      <td>[14.640018023192697, 1.5229312527257717, 0.185...</td>\n      <td>10.0</td>\n      <td>[55.64641920439919, 55.6669147, 55.6757322, 55...</td>\n      <td>[12.15372974969827, 12.5262801, 12.5619711, 12...</td>\n      <td>Monday</td>\n      <td>2024-03-04</td>\n      <td>[1, 0, 0, 0, 0, 0, 0, 0, 0]</td>\n      <td>...</td>\n      <td>2.0</td>\n      <td>[10, 10, 10, 10, 10, 10, 10, 10, 10]</td>\n      <td>[9, 9, 9, 9, 9, 9, 9, 9, 9]</td>\n      <td>[1, 1, 1, 1, 1, 1, 1, 1, 1]</td>\n      <td>[1, 1, 1, 1, 1, 1, 1, 1, 1]</td>\n      <td>[[0, 0, 0, 0, 0, 0, 0], [0, 0, 0, 0, 0, 0, 0],...</td>\n      <td>[0, 1, 0, 0, 0, 0, 0]</td>\n      <td>0.500000</td>\n      <td>0.318182</td>\n      <td>train</td>\n    </tr>\n    <tr>\n      <th>4</th>\n      <td>[1, 2, 3, 4, 5, 5, 6, 9, 7]</td>\n      <td>[1167, 1405, 1560, 1413, 1391, 1391, 1434, 126...</td>\n      <td>1255.0</td>\n      <td>[14.640018023192697, 1.5229312527257717, 0.606...</td>\n      <td>10.0</td>\n      <td>[55.64641920439919, 55.6669147, 55.6757322, 55...</td>\n      <td>[12.15372974969827, 12.5262801, 12.5619711, 12...</td>\n      <td>Monday</td>\n      <td>2024-03-11</td>\n      <td>[1, 0, 0, 0, 0, 0, 0, 0, 0]</td>\n      <td>...</td>\n      <td>2.0</td>\n      <td>[10, 10, 10, 10, 10, 10, 10, 10, 10]</td>\n      <td>[9, 9, 9, 9, 9, 9, 9, 9, 9]</td>\n      <td>[1, 1, 1, 1, 1, 1, 1, 1, 1]</td>\n      <td>[1, 1, 1, 1, 1, 1, 1, 1, 1]</td>\n      <td>[[0, 0, 0, 0, 0, 0, 0], [0, 0, 0, 0, 0, 0, 0],...</td>\n      <td>[0, 1, 0, 0, 0, 0, 0]</td>\n      <td>0.400000</td>\n      <td>0.370370</td>\n      <td>train</td>\n    </tr>\n    <tr>\n      <th>...</th>\n      <td>...</td>\n      <td>...</td>\n      <td>...</td>\n      <td>...</td>\n      <td>...</td>\n      <td>...</td>\n      <td>...</td>\n      <td>...</td>\n      <td>...</td>\n      <td>...</td>\n      <td>...</td>\n      <td>...</td>\n      <td>...</td>\n      <td>...</td>\n      <td>...</td>\n      <td>...</td>\n      <td>...</td>\n      <td>...</td>\n      <td>...</td>\n      <td>...</td>\n      <td>...</td>\n    </tr>\n    <tr>\n      <th>17349</th>\n      <td>[8649, 9201, 9200, 9205, 9206, 9204, 9211, 920...</td>\n      <td>[3162, 3636, 3660, 3649, 3649, 3661, 3596, 364...</td>\n      <td>1555.0</td>\n      <td>[10.326988859283256, 0.016889370846510543, 0.2...</td>\n      <td>11.0</td>\n      <td>[56.0667627, 56.1577259, 56.1578712, 56.159131...</td>\n      <td>[9.986944, 10.1987529, 10.1991044, 10.204122, ...</td>\n      <td>Wednesday</td>\n      <td>2024-06-05</td>\n      <td>[1, 0, 0, 0, 0, 0, 0, 0, 0, 0, 0, 0, 0, 0, 0, ...</td>\n      <td>...</td>\n      <td>7.0</td>\n      <td>[11, 11, 11, 11, 11, 11, 11, 11, 11, 11, 11, 1...</td>\n      <td>[24, 24, 24, 24, 24, 24, 24, 24, 24, 24, 24, 2...</td>\n      <td>[387, 387, 387, 387, 387, 387, 387, 387, 387, ...</td>\n      <td>[1, 1, 1, 1, 1, 1, 1, 1, 1, 1, 1, 1, 1, 1, 1, ...</td>\n      <td>[[0, 0, 0, 0, 0, 0, 0], [0, 0, 0, 0, 0, 0, 0],...</td>\n      <td>[0, 0, 0, 0, 0, 0, 1]</td>\n      <td>1.000000</td>\n      <td>1.000000</td>\n      <td>train</td>\n    </tr>\n    <tr>\n      <th>17350</th>\n      <td>[8649, 9199, 9202, 9209, 9203, 9210, 9211, 920...</td>\n      <td>[3162, 3654, 3656, 3636, 3648, 3661, 3652, 364...</td>\n      <td>1555.0</td>\n      <td>[10.35361799875347, 0.40596031876087574, 0.123...</td>\n      <td>12.0</td>\n      <td>[56.0667627, 56.158392, 56.1596286, 56.1578408...</td>\n      <td>[9.986944, 10.198705, 10.2089833, 10.2090195, ...</td>\n      <td>Wednesday</td>\n      <td>2024-06-12</td>\n      <td>[1, 0, 0, 0, 0, 0, 0, 0, 0, 0, 0, 0, 0, 0, 0, ...</td>\n      <td>...</td>\n      <td>7.0</td>\n      <td>[12, 12, 12, 12, 12, 12, 12, 12, 12, 12, 12, 1...</td>\n      <td>[19, 19, 19, 19, 19, 19, 19, 19, 19, 19, 19, 1...</td>\n      <td>[387, 387, 387, 387, 387, 387, 387, 387, 387, ...</td>\n      <td>[1, 1, 1, 1, 1, 1, 1, 1, 1, 1, 1, 1, 1, 1, 1, ...</td>\n      <td>[[0, 0, 0, 0, 0, 0, 0], [0, 0, 0, 0, 0, 0, 0],...</td>\n      <td>[0, 0, 0, 0, 0, 0, 1]</td>\n      <td>1.000000</td>\n      <td>1.000000</td>\n      <td>train</td>\n    </tr>\n    <tr>\n      <th>17351</th>\n      <td>[8649, 9199, 9205, 9206, 9202, 9203, 9210, 920...</td>\n      <td>[3162, 3656, 3641, 3665, 3646, 3658, 3661, 363...</td>\n      <td>1555.0</td>\n      <td>[10.35361799875347, 0.21530908942333182, 0.025...</td>\n      <td>11.0</td>\n      <td>[56.0667627, 56.158392, 56.159131, 56.15884339...</td>\n      <td>[9.986944, 10.198705, 10.204122, 10.2037157, 1...</td>\n      <td>Wednesday</td>\n      <td>2024-06-19</td>\n      <td>[1, 0, 0, 0, 0, 0, 0, 0, 0, 0, 0, 0, 0, 0, 0, ...</td>\n      <td>...</td>\n      <td>7.0</td>\n      <td>[11, 11, 11, 11, 11, 11, 11, 11, 11, 11, 11, 1...</td>\n      <td>[20, 20, 20, 20, 20, 20, 20, 20, 20, 20, 20, 2...</td>\n      <td>[387, 387, 387, 387, 387, 387, 387, 387, 387, ...</td>\n      <td>[1, 1, 1, 1, 1, 1, 1, 1, 1, 1, 1, 1, 1, 1, 1, ...</td>\n      <td>[[0, 0, 0, 0, 0, 0, 0], [0, 0, 0, 0, 0, 0, 0],...</td>\n      <td>[0, 0, 0, 0, 0, 0, 1]</td>\n      <td>1.000000</td>\n      <td>1.000000</td>\n      <td>train</td>\n    </tr>\n    <tr>\n      <th>17352</th>\n      <td>[8649, 9199, 9200, 9201, 9204, 9202, 9203, 921...</td>\n      <td>[3162, 3641, 3663, 3648, 3661, 3646, 3660, 365...</td>\n      <td>1555.0</td>\n      <td>[10.35361799875347, 0.03919354991180035, 0.016...</td>\n      <td>7.0</td>\n      <td>[56.0667627, 56.158392, 56.1578712, 56.1577259...</td>\n      <td>[9.986944, 10.198705, 10.1991044, 10.1987529, ...</td>\n      <td>Wednesday</td>\n      <td>2024-06-26</td>\n      <td>[1, 0, 0, 0, 0, 0, 0, 0, 0, 0, 0, 0, 0, 0, 0, ...</td>\n      <td>...</td>\n      <td>7.0</td>\n      <td>[7, 7, 7, 7, 7, 7, 7, 7, 7, 7, 7, 7, 7, 7, 7, ...</td>\n      <td>[21, 21, 21, 21, 21, 21, 21, 21, 21, 21, 21, 2...</td>\n      <td>[387, 387, 387, 387, 387, 387, 387, 387, 387, ...</td>\n      <td>[1, 1, 1, 1, 1, 1, 1, 1, 1, 1, 1, 1, 1, 1, 1, ...</td>\n      <td>[[0, 0, 0, 0, 0, 0, 0], [0, 0, 0, 0, 0, 0, 0],...</td>\n      <td>[0, 0, 0, 0, 0, 0, 1]</td>\n      <td>1.000000</td>\n      <td>1.000000</td>\n      <td>val</td>\n    </tr>\n    <tr>\n      <th>17353</th>\n      <td>[8649, 9199, 9201, 9200, 9202, 9204, 9205, 920...</td>\n      <td>[3162, 3641, 3663, 3648, 3661, 3661, 3651, 364...</td>\n      <td>1555.0</td>\n      <td>[10.35361799875347, 0.04612214849068512, 0.016...</td>\n      <td>2.0</td>\n      <td>[56.0667627, 56.158392, 56.1577259, 56.1578712...</td>\n      <td>[9.986944, 10.198705, 10.1987529, 10.1991044, ...</td>\n      <td>Wednesday</td>\n      <td>2024-07-03</td>\n      <td>[1, 0, 0, 0, 0, 0, 0, 0, 0, 0, 0, 0, 0, 0, 0, ...</td>\n      <td>...</td>\n      <td>7.0</td>\n      <td>[2, 2, 2, 2, 2, 2, 2, 2, 2, 2, 2, 2, 2, 2, 2, ...</td>\n      <td>[20, 20, 20, 20, 20, 20, 20, 20, 20, 20, 20, 2...</td>\n      <td>[387, 387, 387, 387, 387, 387, 387, 387, 387, ...</td>\n      <td>[1, 1, 1, 1, 1, 1, 1, 1, 1, 1, 1, 1, 1, 1, 1, ...</td>\n      <td>[[0, 0, 0, 0, 0, 0, 0], [0, 0, 0, 0, 0, 0, 0],...</td>\n      <td>[0, 0, 0, 0, 0, 0, 1]</td>\n      <td>1.000000</td>\n      <td>1.000000</td>\n      <td>test</td>\n    </tr>\n  </tbody>\n</table>\n<p>17354 rows × 25 columns</p>\n</div>"
     },
     "execution_count": 749,
     "metadata": {},
     "output_type": "execute_result"
    }
   ],
   "source": [
    "drivers_dic = {}\n",
    "k = 1\n",
    "for driver in final_routes_split['driver_id_sorted']:\n",
    "    if driver not in drivers_dic:\n",
    "        drivers_dic[driver] = k\n",
    "        k += 1\n",
    "print('Total number of drivers', len(drivers_dic))\n",
    "total_drivers = len(drivers_dic)\n",
    "encoding_drivers = []\n",
    "for driver in final_routes_split['driver_id_sorted']:\n",
    "    encoding_drivers.append(drivers_dic[driver])\n",
    "#\n",
    "final_routes_split['driver_id_sorted'] = encoding_drivers\n",
    "\n",
    "locations_dic = {}\n",
    "location_count = {}\n",
    "k = 1\n",
    "for row in final_routes_split['routes']:\n",
    "   for location in row:\n",
    "       if location not in locations_dic:\n",
    "           locations_dic[location] = k\n",
    "           k += 1\n",
    "k = 1\n",
    "print(len(locations_dic))\n",
    "\n",
    "for row in final_routes_split['routes']:\n",
    "   for location in row:\n",
    "       if location not in location_count:\n",
    "            location_count[location] = 1\n",
    "       else:\n",
    "            location_count[location] += 1\n",
    "encoding_routes = []\n",
    "for row in final_routes_split['routes']:\n",
    "    encoding_route = []\n",
    "    for location in row:\n",
    "        encoding_route.append(locations_dic[location])\n",
    "    encoding_routes.append(encoding_route)\n",
    "final_routes_split['routes'] = encoding_routes\n",
    "\n",
    "final_routes_split"
   ],
   "metadata": {
    "collapsed": false,
    "pycharm": {
     "name": "#%%\n"
    }
   }
  },
  {
   "cell_type": "markdown",
   "source": [
    "## List of features\n",
    "\n",
    "routes\n",
    "\n",
    "\n",
    "\n",
    "experience_feature\n",
    "len_feature\n",
    "driver_id_feature\n",
    "\n",
    "Total: 175\n"
   ],
   "metadata": {
    "collapsed": false,
    "pycharm": {
     "name": "#%% md\n"
    }
   }
  },
  {
   "cell_type": "code",
   "execution_count": 750,
   "outputs": [],
   "source": [
    "from torch.utils.data import Dataset, DataLoader\n",
    "import torch\n",
    "import random\n",
    "import os\n",
    "import torch.nn as nn\n",
    "\n",
    "seed_value = 42\n",
    "device = \"cpu\"\n",
    "\n",
    "\n",
    "g = torch.Generator()\n",
    "\n",
    "torch.backends.cudnn.deterministic = True\n",
    "torch.backends.cudnn.benchmark = False\n",
    "\n",
    "# Additional steps if using DataLoaders (to ensure reproducibility in data loading)\n",
    "torch.use_deterministic_algorithms(True)\n",
    "\n",
    "def reset_random():\n",
    "    g.manual_seed(seed_value)\n",
    "    torch.manual_seed(seed_value)\n",
    "\n",
    "def seed_worker(worker_id):\n",
    "    worker_seed = torch.initial_seed() % 2**32\n",
    "    np.random.seed(worker_seed)\n",
    "    random.seed(worker_seed)\n",
    "\n",
    "def set_seed(seed):\n",
    "    random.seed(seed)\n",
    "    np.random.seed(seed)\n",
    "    torch.manual_seed(seed)\n",
    "    torch.cuda.manual_seed(seed)\n",
    "    torch.cuda.manual_seed_all(seed)\n",
    "    torch.backends.cudnn.deterministic = True\n",
    "    torch.backends.cudnn.benchmark = False\n",
    "    os.environ['PYTHONHASHSEED'] = str(seed)\n",
    "    os.environ['CUBLAS_WORKSPACE_CONFIG'] = ':4096:8'\n",
    "    torch.use_deterministic_algorithms(True)\n",
    "\n",
    "set_seed(42)"
   ],
   "metadata": {
    "collapsed": false,
    "pycharm": {
     "name": "#%%\n"
    }
   }
  },
  {
   "cell_type": "code",
   "execution_count": 777,
   "outputs": [],
   "source": [
    "class PredictionRNN_bidirectional(nn.Module):\n",
    "    def __init__(self,no_layers,vocab_size, vocab_size_driv, vocab_size_len,hidden_dim,embedding_dim,embedding_dim_driv, output_dim,additional_feature_count,drop_prob=0.5):\n",
    "        super(PredictionRNN,self).__init__()\n",
    "\n",
    "        self.output_dim = output_dim\n",
    "        self.hidden_dim = hidden_dim\n",
    "\n",
    "        self.no_layers = no_layers\n",
    "        self.vocab_size = vocab_size\n",
    "        self.vocab_size_driv = vocab_size_driv\n",
    "        self.vocab_size_len = vocab_size_len\n",
    "\n",
    "        # embedding and LSTM layers\n",
    "        self.embedding = nn.Embedding(vocab_size, embedding_dim)\n",
    "        self.embedding_driv = nn.Embedding(vocab_size_driv, embedding_dim_driv)\n",
    "        #lstm\n",
    "        self.lstm = nn.LSTM(input_size=embedding_dim,hidden_size=self.hidden_dim,\n",
    "                           num_layers=no_layers, batch_first=True)\n",
    "        # self.lstm = nn.LSTM(input_size=embedding_dim,hidden_size=self.hidden_dim,\n",
    "        #                    num_layers=no_layers, batch_first=True)\n",
    "        # embedding_dim_driv+2\n",
    "        # self.lstm = nn.LSTM(input_size=embedding_dim,hidden_size=self.hidden_dim,\n",
    "        #                    num_layers=no_layers, batch_first=True)\n",
    "\n",
    "\n",
    "        # dropout layer\n",
    "        self.lstm = nn.LSTM(input_size=embedding_dim,hidden_size=self.hidden_dim,\n",
    "                           num_layers=no_layers, batch_first=True)\n",
    "\n",
    "        self.dropout = nn.Dropout(drop_prob)\n",
    "        self.lstm = nn.LSTM(input_size=embedding_dim,\n",
    "                            hidden_size=self.hidden_dim,\n",
    "                            num_layers=self.no_layers,\n",
    "                            batch_first=True,\n",
    "                            bidirectional=True)\n",
    "\n",
    "        # The output of the BiLSTM will have twice the hidden size due to bidirectionality\n",
    "        self.lstm_output_size = self.hidden_dim * 2\n",
    "\n",
    "\n",
    "        # dropout layer\n",
    "        # self.fc = nn.Linear(self.hidden_dim, output_dim)\n",
    "        # self.fc_static_1 = nn.Linear(embedding_dim_driv+embedding_dim_len+9, 16)\n",
    "        self.fc_static_1 = nn.Linear(embedding_dim_driv+9, 128)\n",
    "        # self.fc_static_2 = nn.Linear(128, 128)\n",
    "        # # self.fc = nn.Linear(36, output_dim)\n",
    "        # # self.fc = nn.Linear(1316, output_dim)\n",
    "        self.fc = nn.Linear(128+self.lstm_output_size,128)\n",
    "        # # self.fc = nn.Linear(128,128)\n",
    "        self.layer2 = nn.Linear(128, 64)\n",
    "        self.layer3 = nn.Linear(64, 1)\n",
    "        self.relu = nn.ReLU()\n",
    "        self.sig = nn.Sigmoid()\n",
    "\n",
    "    def forward(self,x, is_training=True):\n",
    "        batch_size = len(x['routes'])\n",
    "        route_ids = x['routes'].int()\n",
    "\n",
    "        embeds = self.embedding(route_ids)  # shape: B x S x Feature   since batch = True\n",
    "\n",
    "        # get driver ids example\n",
    "        driver_ids = x['driver_id_sorted'].int()\n",
    "        experience = x['last_two_weeks_count'].int()\n",
    "        len_feature = x['len'].int()\n",
    "        # distance = x['distance_route'].int()\n",
    "        day_of_week_feature = x['day_of_week_encoded_ext'].int()\n",
    "        country_flag = x['country_flag'].int()\n",
    "        location_is_depot = x['location_is_depot'].int()\n",
    "        location_type_id = x['location_type_id'].int()\n",
    "\n",
    "        embedding_driv = self.embedding_driv(driver_ids)\n",
    "        # ,distance.view(batch_size, max_route_length, 1)\n",
    "        # experience.view(batch_size, max_route_length, 1)\n",
    "\n",
    "        # all_embeds = torch.concatenate((embeds, distance.view(batch_size, max_route_length, 1), location_is_depot.view(batch_size, max_route_length, 1), location_type_id.view(batch_size, max_route_length, 1)), dim=2)\n",
    "        all_embeds = embeds\n",
    "\n",
    "        # all_static = torch.concatenate((embedding_driv, embedding_len, day_of_week_feature, country_flag.view(batch_size, 1),experience.view(batch_size, 1)), dim=1)\n",
    "        all_static = torch.concatenate((embedding_driv, country_flag.view(batch_size, 1),len_feature.view(batch_size, 1), day_of_week_feature), dim=1)\n",
    "        # all_static = torch.concatenate((embedding_driv, day_of_week_feature), dim=1)\n",
    "\n",
    "        lstm_out, _ = self.lstm(all_embeds)\n",
    "        # lstm_out = lstm_out.contiguous().view(batch_size, self.lstm_output_size, self.hidden_dim)\n",
    "        out = self.dropout(lstm_out)\n",
    "\n",
    "        out_static = self.relu(self.fc_static_1(all_static))\n",
    "        # out_static = self.dropout(self.fc_static_2(out_static))\n",
    "        # out_static = out_static.unsqueeze(1)\n",
    "        static_expanded = out_static.unsqueeze(1).expand(-1, lstm_out.size(1), -1)\n",
    "\n",
    "        combined = self.fc(torch.cat((out, static_expanded), dim=2))\n",
    "        # out = self.fc(torch.concatenate((out, out_static), dim=1))\n",
    "        # out_static = out_static.squeeze(1).unsqueeze(1).repeat(1, 36, 1)  # New shape: [2048, 36, 64]\n",
    "        # out = self.fc(torch.cat((out, out_static), dim=2))\n",
    "        x = self.relu(combined)\n",
    "        x = self.relu(self.layer2(x))\n",
    "        # out = self.dropout(x)\n",
    "        out = self.layer3(x)\n",
    "        # print(out.shape)\n",
    "        # sigmoid function\n",
    "        sig_out = self.sig(out)\n",
    "\n",
    "        # reshape to be batch_size first\n",
    "        sig_out = sig_out.view(batch_size, -1)\n",
    "        sig_out = sig_out[:, -1] # get last batch of labels\n",
    "        # print(sig_out.shape)\n",
    "        return sig_out"
   ],
   "metadata": {
    "collapsed": false,
    "pycharm": {
     "name": "#%%\n"
    }
   }
  },
  {
   "cell_type": "code",
   "execution_count": 818,
   "outputs": [],
   "source": [
    "class PredictionRNN(nn.Module):\n",
    "    def __init__(self,no_layers,vocab_size, vocab_size_driv, vocab_size_len,hidden_dim,embedding_dim,embedding_dim_driv, output_dim,additional_feature_count,drop_prob=0.5):\n",
    "        super(PredictionRNN,self).__init__()\n",
    "\n",
    "        self.output_dim = output_dim\n",
    "        self.hidden_dim = hidden_dim\n",
    "\n",
    "        self.no_layers = no_layers\n",
    "        self.vocab_size = vocab_size\n",
    "        self.vocab_size_driv = vocab_size_driv\n",
    "        self.vocab_size_len = vocab_size_len\n",
    "\n",
    "        # embedding and LSTM layers\n",
    "        self.embedding = nn.Embedding(vocab_size, embedding_dim)\n",
    "        self.embedding_driv = nn.Embedding(vocab_size_driv, embedding_dim_driv)\n",
    "        #lstm\n",
    "        self.lstm = nn.LSTM(input_size=embedding_dim,hidden_size=self.hidden_dim,\n",
    "                           num_layers=no_layers, batch_first=True)\n",
    "        self.dropout = nn.Dropout(drop_prob)\n",
    "        # self.fc = nn.Linear(self.hidden_dim, output_dim)\n",
    "        # self.fc_static_1 = nn.Linear(embedding_dim_driv+embedding_dim_len+9, 16)\n",
    "        self.fc_static_1 = nn.Linear(embedding_dim_driv+9, 128)\n",
    "        # self.fc_static_2 = nn.Linear(128, 128)\n",
    "        # # self.fc = nn.Linear(36, output_dim)\n",
    "        # # self.fc = nn.Linear(1316, output_dim)\n",
    "        self.fc = nn.Linear(64,64)\n",
    "        # # self.fc = nn.Linear(128,128)\n",
    "        self.layer2 = nn.Linear(128, 64)\n",
    "        self.layer3 = nn.Linear(64, 1)\n",
    "        self.relu = nn.ReLU()\n",
    "        self.sig = nn.Sigmoid()\n",
    "\n",
    "    def forward(self,x, is_training=True):\n",
    "        batch_size = len(x['routes'])\n",
    "        route_ids = x['routes'].int()\n",
    "\n",
    "        embeds = self.embedding(route_ids)  # shape: B x S x Feature   since batch = True\n",
    "\n",
    "        # get driver ids example\n",
    "        driver_ids = x['driver_id_sorted'].int()\n",
    "        experience = x['last_two_weeks_count'].int()\n",
    "        len_feature = x['len'].int()\n",
    "        # distance = x['distance_route'].int()\n",
    "        day_of_week_feature = x['day_of_week_encoded_ext'].int()\n",
    "        country_flag = x['country_flag'].int()\n",
    "        location_is_depot = x['location_is_depot'].int()\n",
    "        location_type_id = x['location_type_id'].int()\n",
    "\n",
    "        embedding_driv = self.embedding_driv(driver_ids)\n",
    "        # ,distance.view(batch_size, max_route_length, 1)\n",
    "        # experience.view(batch_size, max_route_length, 1)\n",
    "\n",
    "        # all_embeds = torch.concatenate((embeds, distance.view(batch_size, max_route_length, 1), location_is_depot.view(batch_size, max_route_length, 1), location_type_id.view(batch_size, max_route_length, 1)), dim=2)\n",
    "        all_embeds = embeds\n",
    "\n",
    "        # all_static = torch.concatenate((embedding_driv, embedding_len, day_of_week_feature, country_flag.view(batch_size, 1),experience.view(batch_size, 1)), dim=1)\n",
    "        # country_flag.view(batch_size, 1),len_feature.view(batch_size, 1)\n",
    "        all_static = torch.concatenate((embedding_driv, day_of_week_feature, country_flag.view(batch_size, 1), len_feature.view(batch_size, 1)), dim=1)\n",
    "        # all_static = torch.concatenate((embedding_driv, day_of_week_feature), dim=1)\n",
    "\n",
    "        lstm_out, _ = self.lstm(all_embeds)\n",
    "        lstm_out = lstm_out.contiguous().view(batch_size, max_route_length, self.hidden_dim)\n",
    "        out = self.dropout(lstm_out)\n",
    "\n",
    "        out_static = self.relu(self.fc_static_1(all_static))\n",
    "        # out_static = self.dropout(self.fc_static_2(out_static))\n",
    "        # out_static = out_static.unsqueeze(1)\n",
    "        # print(out.shape, out_static.shape)\n",
    "        # out = self.fc(torch.concatenate((out, out_static), dim=1))\n",
    "        out = self.fc(out)\n",
    "        # out_static = out_static.squeeze(1).unsqueeze(1).repeat(1, 36, 1)  # New shape: [2048, 36, 64]\n",
    "        # out = self.fc(torch.cat((out, out_static), dim=2))\n",
    "        # x = self.relu(out_static)\n",
    "        # x = self.relu(self.layer2(x))\n",
    "        out = self.layer3(out)\n",
    "        # print(out.shape)\n",
    "        # sigmoid function\n",
    "        sig_out = self.sig(out)\n",
    "\n",
    "        # reshape to be batch_size first\n",
    "        sig_out = sig_out.view(batch_size, -1)\n",
    "        sig_out = sig_out[:, -1] # get last batch of labels\n",
    "        # print(sig_out.shape)\n",
    "        return sig_out"
   ],
   "metadata": {
    "collapsed": false,
    "pycharm": {
     "name": "#%%\n"
    }
   }
  },
  {
   "cell_type": "code",
   "execution_count": 883,
   "outputs": [],
   "source": [
    "class PredictionAllFeaturesCNN(nn.Module):\n",
    "    def __init__(self, no_layers, vocab_size, vocab_size_driv, embedding_dim, embedding_dim_driv, output_dim, drop_prob=0.5):\n",
    "        super(PredictionAllFeaturesCNN, self).__init__()\n",
    "\n",
    "        self.no_layers = no_layers\n",
    "        self.output_dim = output_dim\n",
    "        self.vocab_size = vocab_size\n",
    "        self.vocab_size_driv = vocab_size_driv\n",
    "\n",
    "        # Embedding layers\n",
    "        self.embedding = nn.Embedding(vocab_size, embedding_dim)\n",
    "        self.embedding_driv = nn.Embedding(vocab_size_driv, embedding_dim_driv)\n",
    "\n",
    "        # CNN layers\n",
    "        self.conv1 = nn.Conv1d(in_channels=embedding_dim, out_channels=64, kernel_size=3, padding=1)\n",
    "        self.pool = nn.MaxPool1d(kernel_size=2, stride=2)\n",
    "\n",
    "\n",
    "        # self.lstm = nn.LSTM(input_size=embedding_dim,hidden_size=self.hidden_dim,\n",
    "        #                    num_layers=no_layers, batch_first=True)\n",
    "        # self.lstm = nn.LSTM(input_size=embedding_dim,hidden_size=self.hidden_dim,\n",
    "        #                    num_layers=no_layers, batch_first=True)\n",
    "        # embedding_dim_driv+2\n",
    "        # self.lstm = nn.LSTM(input_size=embedding_dim,hidden_size=self.hidden_dim,\n",
    "        #                    num_layers=no_layers, batch_first=True)\n",
    "\n",
    "\n",
    "        # dropout layer\n",
    "        # self.lstm = nn.LSTM(input_size=embedding_dim,hidden_size=self.hidden_dim,\n",
    "        #                    num_layers=no_layers, batch_first=True)\n",
    "\n",
    "        self.dropout = nn.Dropout(drop_prob)\n",
    "        # self.fc = nn.Linear(self.hidden_dim, output_dim)\n",
    "        # self.fc_static_1 = nn.Linear(embedding_dim_driv+embedding_dim_len+9, 16)\n",
    "        self.fc_static_1 = nn.Linear(embedding_dim_driv+9, 128)\n",
    "        # self.fc_static_2 = nn.Linear(128, 128)\n",
    "        # # self.fc = nn.Linear(36, output_dim)\n",
    "        # # self.fc = nn.Linear(1316, output_dim)\n",
    "        self.fc = nn.Linear(128+64,64)\n",
    "        # # self.fc = nn.Linear(128,128)\n",
    "        self.layer2 = nn.Linear(128, 64)\n",
    "        self.layer3 = nn.Linear(64, 1)\n",
    "        self.relu = nn.ReLU()\n",
    "        self.sig = nn.Sigmoid()\n",
    "\n",
    "    def forward(self, x, is_training=True):\n",
    "        batch_size = len(x['routes'])\n",
    "        route_ids = x['routes'].int()\n",
    "\n",
    "        embeds = self.embedding(route_ids)  # shape: B x S x Feature   since batch = True\n",
    "\n",
    "        # get driver ids example\n",
    "        driver_ids = x['driver_id_sorted'].int()\n",
    "        experience = x['last_two_weeks_count'].int()\n",
    "        len_feature = x['len'].int()\n",
    "        # distance = x['distance_route'].int()\n",
    "        day_of_week_feature = x['day_of_week_encoded_ext'].int()\n",
    "        country_flag = x['country_flag'].int()\n",
    "        location_is_depot = x['location_is_depot'].int()\n",
    "        location_type_id = x['location_type_id'].int()\n",
    "\n",
    "        embedding_driv = self.embedding_driv(driver_ids)\n",
    "        # ,distance.view(batch_size, max_route_length, 1)\n",
    "        # experience.view(batch_size, max_route_length, 1)\n",
    "\n",
    "        # all_embeds = torch.concatenate((embeds, distance.view(batch_size, max_route_length, 1), location_is_depot.view(batch_size, max_route_length, 1), location_type_id.view(batch_size, max_route_length, 1)), dim=2)\n",
    "        all_embeds = embeds\n",
    "\n",
    "        # all_static = torch.concatenate((embedding_driv, embedding_len, day_of_week_feature, country_flag.view(batch_size, 1),experience.view(batch_size, 1)), dim=1)\n",
    "        all_static = torch.concatenate((embedding_driv, country_flag.view(batch_size, 1),len_feature.view(batch_size, 1), day_of_week_feature), dim=1)\n",
    "        # all_static = torch.concatenate((embedding_driv, day_of_week_feature), dim=1)\n",
    "\n",
    "\n",
    "        cnn_input = embeds.permute(0, 2, 1)  # Reshape for CNN: B x Feature x S\n",
    "        cnn_out = self.conv1(cnn_input)\n",
    "        cnn_out = self.relu(cnn_out)\n",
    "        cnn_out = self.pool(cnn_out)\n",
    "        # cnn_out = cnn_out.permute(0, 2, 1)\n",
    "        cnn_out = torch.mean(cnn_out, dim=2)\n",
    "        cnn_out = self.dropout(cnn_out)\n",
    "\n",
    "        # lstm_out, _ = self.lstm(cnn_out)\n",
    "        # # lstm_out = lstm_out.contiguous().view(batch_size, max_route_length, self.hidden_dim)\n",
    "        # lstm_out = lstm_out.contiguous().view(batch_size, -1, self.hidden_dim)\n",
    "        # out = self.dropout(lstm_out)\n",
    "\n",
    "        out_static = self.relu(self.fc_static_1(all_static))\n",
    "        # out_static = self.dropout(self.fc_static_2(out_static))\n",
    "        # out_static = out_static.unsqueeze(1)\n",
    "\n",
    "        combined = self.fc(torch.cat((cnn_out, out_static), dim=1))\n",
    "        # out = self.fc(torch.concatenate((out, out_static), dim=1))\n",
    "        # out_static = out_static.squeeze(1).unsqueeze(1).repeat(1, 36, 1)  # New shape: [2048, 36, 64]\n",
    "        # out = self.fc(torch.cat((out, out_static), dim=2))\n",
    "        x = self.relu(combined)\n",
    "        # x = self.relu(self.layer2(out))\n",
    "        # out = self.dropout(x)\n",
    "        out = self.layer3(x)\n",
    "        # print(out.shape)\n",
    "        # sigmoid function\n",
    "        sig_out = self.sig(out)\n",
    "\n",
    "        # reshape to be batch_size first\n",
    "        sig_out = sig_out.view(batch_size, -1)\n",
    "        sig_out = sig_out[:, -1] # get last batch of labels\n",
    "        # print(sig_out.shape)\n",
    "        return sig_out"
   ],
   "metadata": {
    "collapsed": false,
    "pycharm": {
     "name": "#%%\n"
    }
   }
  },
  {
   "cell_type": "code",
   "execution_count": 884,
   "outputs": [],
   "source": [
    "class PredictionAllFeaturesGRU(nn.Module):\n",
    "    def __init__(self, no_layers, vocab_size, vocab_size_driv, embedding_dim, embedding_dim_driv, hidden_dim, output_dim, drop_prob=0.5):\n",
    "        super().__init__()\n",
    "\n",
    "        self.no_layers = no_layers\n",
    "        self.hidden_dim = hidden_dim\n",
    "        self.output_dim = output_dim\n",
    "        self.vocab_size = vocab_size\n",
    "        self.vocab_size_driv = vocab_size_driv\n",
    "\n",
    "        # Embedding layers\n",
    "        self.embedding = nn.Embedding(vocab_size, embedding_dim)\n",
    "        self.embedding_driv = nn.Embedding(vocab_size_driv, embedding_dim_driv)\n",
    "\n",
    "        # GRU layer for route features\n",
    "        self.gru = nn.GRU(input_size=embedding_dim,\n",
    "                          hidden_size=hidden_dim,\n",
    "                          num_layers=no_layers,\n",
    "                          batch_first=True,\n",
    "                          dropout=drop_prob if no_layers > 1 else 0)\n",
    "\n",
    "        self.dropout = nn.Dropout(drop_prob)\n",
    "        self.fc_static_1 = nn.Linear(embedding_dim_driv+9, 128)\n",
    "        self.fc = nn.Linear(128+hidden_dim, 128)\n",
    "        self.layer2 = nn.Linear(128, 64)\n",
    "        self.layer3 = nn.Linear(128, 1)\n",
    "        self.relu = nn.ReLU()\n",
    "        self.sig = nn.Sigmoid()\n",
    "\n",
    "    def forward(self, x):\n",
    "        batch_size = len(x['routes'])\n",
    "        route_ids = x['routes'].int()\n",
    "\n",
    "        embeds = self.embedding(route_ids)  # shape: B x S x Feature\n",
    "\n",
    "        # Static features\n",
    "        driver_ids = x['driver_id_sorted'].int()\n",
    "        experience = x['last_two_weeks_count'].int()\n",
    "        len_feature = x['len'].int()\n",
    "        day_of_week_feature = x['day_of_week_encoded_ext'].int()\n",
    "        country_flag = x['country_flag'].int()\n",
    "        location_is_depot = x['location_is_depot'].int()\n",
    "        location_type_id = x['location_type_id'].int()\n",
    "\n",
    "        embedding_driv = self.embedding_driv(driver_ids)\n",
    "\n",
    "        all_static = torch.cat((embedding_driv, country_flag.view(batch_size, 1),\n",
    "                                len_feature.view(batch_size, 1), day_of_week_feature), dim=1)\n",
    "\n",
    "        # Process route features with GRU\n",
    "        gru_out, _ = self.gru(embeds)\n",
    "        gru_out = gru_out[:, -1, :]  # Take the last output of the sequence\n",
    "        gru_out = self.dropout(gru_out)\n",
    "\n",
    "        out_static = self.relu(self.fc_static_1(all_static))\n",
    "\n",
    "        combined = self.fc(torch.cat((gru_out, out_static), dim=1))\n",
    "        x = self.relu(combined)\n",
    "        out = self.layer3(x)\n",
    "\n",
    "        sig_out = self.sig(out)\n",
    "        sig_out = sig_out.view(batch_size, -1)\n",
    "        sig_out = sig_out[:, -1]  # get last batch of labels\n",
    "\n",
    "        return sig_out"
   ],
   "metadata": {
    "collapsed": false,
    "pycharm": {
     "name": "#%%\n"
    }
   }
  },
  {
   "cell_type": "code",
   "execution_count": 885,
   "outputs": [],
   "source": [
    "import math\n",
    "\n",
    "\n",
    "class RunningNorm:\n",
    "    def __init__(self, dim=0):\n",
    "        self.dim = dim\n",
    "        self.n = 0\n",
    "        self.mean = 0\n",
    "        self.var = 0\n",
    "\n",
    "    def update(self, x):\n",
    "        self.n += 1\n",
    "        if self.n == 1:\n",
    "            self.mean = x\n",
    "            self.var = torch.zeros_like(x)\n",
    "        else:\n",
    "            new_mean = self.mean + (x - self.mean) / self.n\n",
    "            self.var = (self.var * (self.n - 1) + (x - self.mean) * (x - new_mean)) / self.n\n",
    "            self.mean = new_mean\n",
    "\n",
    "    def normalize(self, x):\n",
    "        if self.n == 0:\n",
    "            return x\n",
    "        return (x - self.mean) / (torch.sqrt(self.var) + 1e-8)\n",
    "\n",
    "class PositionalEncoding(nn.Module):\n",
    "    def __init__(self, d_model, max_len=35):\n",
    "        super(PositionalEncoding, self).__init__()\n",
    "        pe = torch.zeros(max_len, d_model)\n",
    "        position = torch.arange(0, max_len, dtype=torch.float).unsqueeze(1)\n",
    "        div_term = torch.exp(torch.arange(0, d_model, 2).float() * (-math.log(10000.0) / d_model))\n",
    "        pe[:, 0::2] = torch.sin(position * div_term)\n",
    "        pe[:, 1::2] = torch.cos(position * div_term)\n",
    "        pe = pe.unsqueeze(0)\n",
    "        self.register_buffer('pe', pe)\n",
    "\n",
    "    def forward(self, x):\n",
    "        # x.shape should be (batch_size, sequence_length, d_model)\n",
    "        sequence_length = x.size(1)\n",
    "        x = x + self.pe[:, :sequence_length, :]\n",
    "        return x\n",
    "\n",
    "class SinusoidalPosEmb(nn.Module):\n",
    "    def __init__(self, dim):\n",
    "        super().__init__()\n",
    "        self.dim = dim\n",
    "\n",
    "    def forward(self, x):\n",
    "        device = x.device\n",
    "        half_dim = self.dim // 2\n",
    "        emb = math.log(10000) / (half_dim - 1)\n",
    "        emb = torch.exp(torch.arange(half_dim, device=device) * -emb)\n",
    "        emb = x[:, None] * emb[None, :]\n",
    "        emb = torch.cat((emb.sin(), emb.cos()), dim=-1)\n",
    "        return emb\n",
    "\n",
    "\n",
    "# \"Encoder-Only\" Style Transformer\n",
    "class NanoTransformer(nn.Module):\n",
    "    \"\"\"\n",
    "    This class implements a simplified Transformer model for sequence classification.\n",
    "    It uses an embedding layer for tokens, sinusoidal positional embeddings,\n",
    "    a single Transformer block, and a final linear layer for prediction.\n",
    "\n",
    "    Args:\n",
    "      num_emb: The number of unique tokens in the vocabulary.\n",
    "      output_size: The size of the output layer (number of classes).\n",
    "      hidden_size: The dimension of the hidden layer in the Transformer block (default: 128).\n",
    "      num_heads: The number of heads in the multi-head attention layer (default: 4).\n",
    "    \"\"\"\n",
    "    def __init__(self, embedding_dim, vocab_size, embedding_dim_driv, vocab_size_driv, hidden_size=64, num_heads=4):\n",
    "        super(NanoTransformer, self).__init__()\n",
    "\n",
    "        # Create an embedding for each token\n",
    "        self.embedding = nn.Embedding(vocab_size, embedding_dim)\n",
    "        self.embedding_driv = nn.Embedding(vocab_size_driv, embedding_dim_driv)\n",
    "        self.embedding.weight.data = 0.001 * self.embedding.weight.data\n",
    "\n",
    "        self.hidden_size = hidden_size\n",
    "        self.embedding_dim_driv = embedding_dim_driv\n",
    "        self.vocab_size_driv = vocab_size_driv\n",
    "\n",
    "        self.pos_emb = SinusoidalPosEmb(hidden_size)\n",
    "\n",
    "        self.multihead_attn1 = nn.MultiheadAttention(hidden_size, num_heads=num_heads, batch_first=True)\n",
    "        self.layer_norm = nn.LayerNorm(hidden_size)\n",
    "        self.fc_static_1 = nn.Linear(embedding_dim_driv+9, 128)\n",
    "        self.layer3 = nn.Linear(128, 1)\n",
    "        self.fc = nn.Linear(hidden_size+128, 64)\n",
    "        self.layer3 = nn.Linear(64, 1)\n",
    "        self.relu = nn.ReLU()\n",
    "        self.sig = nn.Sigmoid()\n",
    "\n",
    "\n",
    "\n",
    "    def forward(self, x, is_training=True):\n",
    "        bs = len(x['routes'])\n",
    "        l = len(x['routes'][0])\n",
    "        route_ids = x['routes'].int()\n",
    "        input_embs = self.embedding(route_ids)  # shape: B x S x Feature   since batch = True\n",
    "\n",
    "        driver_ids = x['driver_id_sorted'].int()\n",
    "        experience = x['last_two_weeks_count'].float()\n",
    "        len_feature = x['len'].float()\n",
    "        day_of_week_feature = x['day_of_week_encoded_ext'].int()\n",
    "        country_flag = x['country_flag'].int()\n",
    "        location_is_depot = x['location_is_depot'].int()\n",
    "        location_type_id = x['location_type_id'].int()\n",
    "\n",
    "        embedding_driv = self.embedding_driv(driver_ids)\n",
    "\n",
    "        all_static = torch.cat((embedding_driv, country_flag.view(bs, 1),\n",
    "                                len_feature.view(bs, 1), day_of_week_feature), dim=1)\n",
    "\n",
    "\n",
    "        seq_indx = torch.arange(l)\n",
    "        pos_emb = self.pos_emb(seq_indx).reshape(1, l, -1).expand(bs, l, -1)\n",
    "        embs = input_embs + pos_emb\n",
    "        output1, attn_map1 = self.multihead_attn1(embs, embs, embs)\n",
    "        output = self.layer_norm(embs + output1)\n",
    "\n",
    "        out_static = self.relu(self.fc_static_1(all_static))\n",
    "        out_static = out_static.unsqueeze(1).expand(-1, l, -1)\n",
    "\n",
    "        out = self.fc(torch.cat((output, out_static), dim=2))\n",
    "        out = self.layer3(out)\n",
    "        sig_out = self.sig(out).squeeze(-1)\n",
    "        final_out = torch.mean(sig_out, dim=1)\n",
    "        # seq_indx = torch.arange(l)\n",
    "        # pos_emb = self.pos_emb(seq_indx).reshape(1, l, -1).expand(bs, l, -1)\n",
    "        # embs = input_embs + pos_emb\n",
    "        # output, attn_map = self.multihead_attn(embs, embs, embs)\n",
    "        #\n",
    "        # out_static = self.bn1(self.relu(self.fc_static_1(all_static)))\n",
    "        #\n",
    "        # out_static = out_static.squeeze(1).unsqueeze(1).repeat(1, 36, 1)  # New shape: [2048, 36, 64]\n",
    "        # out = self.fc(torch.cat((output, out_static), dim=2))\n",
    "\n",
    "        # print(out.shape)\n",
    "        # out = self.layer3(out)\n",
    "        # sig_out = self.sig(out)\n",
    "        # print(sig_out.shape)\n",
    "        # sig_out = sig_out.view(bs, -1)\n",
    "        # print(sig_out.shape)\n",
    "        # sig_out = sig_out[:, -1] # get last batch of labels\n",
    "        # print(sig_out.shape)\n",
    "        # raise 'ere'\n",
    "        return final_out"
   ],
   "metadata": {
    "collapsed": false,
    "pycharm": {
     "name": "#%%\n"
    }
   }
  },
  {
   "cell_type": "code",
   "execution_count": 886,
   "outputs": [],
   "source": [
    "def get_model():\n",
    "    no_layers = 2\n",
    "    vocab_size = 10539 #extra 1 for padding\n",
    "    vocab_size_driv = 317\n",
    "    vocab_size_len = 37 #extra 1 for padding\n",
    "    embedding_dim = 64 #was 64\n",
    "    embedding_dim_driv = 32 #was 64\n",
    "    # embedding_dim_len = 2 #was 64\n",
    "    output_dim = 1\n",
    "    hidden_dim = 64 #was 64\n",
    "\n",
    "    model = PredictionAllFeaturesCNN(no_layers, vocab_size, vocab_size_driv, embedding_dim, embedding_dim_driv, output_dim, drop_prob=0.5)\n",
    "    # model = PredictionRNN(no_layers,vocab_size, vocab_size_driv, vocab_size_len, hidden_dim,embedding_dim, embedding_dim_driv, output_dim,len(drivers_dic),drop_prob=0.5)\n",
    "    # model = NanoTransformer(embedding_dim, vocab_size, embedding_dim_driv, vocab_size_driv)\n",
    "    model.train()\n",
    "    print(model)\n",
    "    return model"
   ],
   "metadata": {
    "collapsed": false,
    "pycharm": {
     "name": "#%%\n"
    }
   }
  },
  {
   "cell_type": "code",
   "execution_count": 887,
   "outputs": [],
   "source": [
    "# function to predict accuracy\n",
    "# def acc(pred,label):\n",
    "#     pred = torch.round(pred.squeeze())\n",
    "#     return torch.sum(pred == label.squeeze()).item()\n",
    "\n",
    "def rmse(pred, label):\n",
    "    return torch.sqrt(torch.mean((pred.squeeze() - label.squeeze())**2))\n",
    "\n",
    "# def get_precision(pred, label):\n",
    "#     pred = torch.round(pred.squeeze())\n",
    "#     true_positive = torch.sum((pred == 1) & (label.squeeze() == 1)).item()\n",
    "#     false_positive = torch.sum((pred == 1) & (label.squeeze() == 0)).item()\n",
    "#\n",
    "#     if true_positive + false_positive == 0:\n",
    "#         return 0.0, true_positive, false_positive  # Handle the case where there are no predicted positives\n",
    "#\n",
    "#     precision_value = true_positive / (true_positive + false_positive)\n",
    "#     return precision_value, true_positive, false_positive"
   ],
   "metadata": {
    "collapsed": false,
    "pycharm": {
     "name": "#%%\n"
    }
   }
  },
  {
   "cell_type": "code",
   "execution_count": 888,
   "outputs": [],
   "source": [
    "RUN_NAME = 'first_run_5'\n",
    "def train_model(data, model, epochs = 20):\n",
    "    train_loader, valid_loader = data\n",
    "    lr=0.001\n",
    "\n",
    "    criterion = nn.MSELoss()\n",
    "\n",
    "    optimizer = torch.optim.Adam(model.parameters(), lr=lr)\n",
    "\n",
    "    clip = 5\n",
    "    valid_loss_min = np.Inf\n",
    "    # train for some number of epochs\n",
    "    epoch_tr_loss,epoch_vl_loss = [],[]\n",
    "    epoch_tr_acc,epoch_vl_acc = [],[]\n",
    "    epoch_tr_precision,epoch_vl_precision = [],[]\n",
    "    # wandb.init(project='Route_classification', name=f'{run_name}')\n",
    "\n",
    "    for epoch in range(epochs):\n",
    "        train_losses = []\n",
    "        train_rmse = 0.0\n",
    "        model.train()\n",
    "        for inputs, labels in train_loader:\n",
    "            # print(labels)\n",
    "\n",
    "            model.zero_grad()\n",
    "            # print(inputs.shape, h[0].shape, h[1].shape)\n",
    "            output = model(inputs)\n",
    "\n",
    "            # calculate the loss and perform backprop\n",
    "            # print(output, labels)\n",
    "            # print(output.shape, labels.shape)\n",
    "            loss = criterion(output.view(-1), labels.float())\n",
    "            loss.backward()\n",
    "            train_losses.append(loss.item())\n",
    "            #`clip_grad_norm` helps prevent the exploding gradient problem in RNNs / LSTMs.\n",
    "            nn.utils.clip_grad_norm_(model.parameters(), clip)\n",
    "            optimizer.step()\n",
    "        val_losses = []\n",
    "        model.eval()\n",
    "        with torch.no_grad():  # Disable gradient computation for validation\n",
    "            for inputs, labels in valid_loader:\n",
    "                output = model(inputs, is_training=False)  # Set is_training to False for validation\n",
    "                val_loss = criterion(output.view(-1), labels.float())\n",
    "                val_losses.append(val_loss.item())\n",
    "\n",
    "        epoch_train_loss = np.mean(train_losses)\n",
    "        epoch_val_loss = np.mean(val_losses)\n",
    "\n",
    "        epoch_tr_loss.append(epoch_train_loss)\n",
    "        epoch_vl_loss.append(epoch_val_loss)\n",
    "        print(f'Epoch {epoch+1}')\n",
    "        print(f'train_loss : {epoch_train_loss} val_loss : {epoch_val_loss}')\n",
    "\n",
    "        if epoch_val_loss <= valid_loss_min:\n",
    "            torch.save(model.state_dict(), f'{RUN_NAME}.pt')\n",
    "            print('Validation loss decreased ({:.6f} --> {:.6f}).  Saving model ...'.format(valid_loss_min,epoch_val_loss))\n",
    "            valid_loss_min = epoch_val_loss\n",
    "        print(25*'==')"
   ],
   "metadata": {
    "collapsed": false,
    "pycharm": {
     "name": "#%%\n"
    }
   }
  },
  {
   "cell_type": "code",
   "execution_count": 889,
   "outputs": [],
   "source": [
    "from sklearn.metrics import (\n",
    "    accuracy_score, precision_score, recall_score, f1_score,\n",
    "    roc_auc_score, average_precision_score, log_loss, brier_score_loss, confusion_matrix\n",
    ")\n",
    "import matplotlib.pyplot as plt\n",
    "\n",
    "def get_stats(model, data):\n",
    "    model.eval()\n",
    "    y_pred = []\n",
    "    y = []\n",
    "    all_routes = []\n",
    "    with torch.no_grad():  # Disable gradient computation\n",
    "        for inputs, labels in data:\n",
    "            y.extend(labels)\n",
    "            results = model(inputs, is_training=False).detach()  # Set is_training to False\n",
    "            y_pred.extend(results)\n",
    "            all_routes.extend(inputs['routes'].cpu().numpy())\n",
    "\n",
    "    y_true = np.array(y)\n",
    "    y_pred_proba = np.array(y_pred)\n",
    "    y_pred = (y_pred_proba > 0.5).astype(np.float32)\n",
    "\n",
    "    acc = accuracy_score(y_true, y_pred)\n",
    "    precision = precision_score(y_true, y_pred)\n",
    "    recall = recall_score(y_true, y_pred)\n",
    "    f1 = f1_score(y_true, y_pred)\n",
    "    roc_auc = roc_auc_score(y_true, y_pred)\n",
    "    average_precision = average_precision_score(y_true, y_pred)\n",
    "    quadratic_loss = log_loss(y_true, y_pred_proba)\n",
    "    brier_score = brier_score_loss(y_true, y_pred_proba)\n",
    "    tn, fp, fn, tp = confusion_matrix(y_true, y_pred).ravel()\n",
    "\n",
    "    return {\n",
    "        \"acc\": acc,\n",
    "        \"precision\": precision,\n",
    "        \"recall\": recall,\n",
    "        \"f1\": f1,\n",
    "        \"roc_auc\": roc_auc,\n",
    "        \"average_precision\": average_precision,\n",
    "        \"quadratic_loss\": quadratic_loss,\n",
    "        \"brier_score\": brier_score,\n",
    "        \"true_positive\": tp,\n",
    "        \"false_positive\": fp,\n",
    "        \"true_negative\": tn,\n",
    "        \"false_negative\": fn\n",
    "    }\n"
   ],
   "metadata": {
    "collapsed": false,
    "pycharm": {
     "name": "#%%\n"
    }
   }
  },
  {
   "cell_type": "code",
   "execution_count": 890,
   "outputs": [],
   "source": [
    "def get_stats(model, data):\n",
    "    model.eval()\n",
    "    y_pred = []\n",
    "    y = []\n",
    "    all_inputs = []\n",
    "    with torch.no_grad():\n",
    "        for inputs, labels in data:\n",
    "            y.extend(labels.cpu().numpy())\n",
    "            results = model(inputs, is_training=False).detach()\n",
    "            y_pred.extend(results.cpu().numpy())\n",
    "            all_inputs.append({k: v.cpu().numpy() for k, v in inputs.items()})\n",
    "\n",
    "    y_true = np.array(y)\n",
    "    y_pred_proba = np.array(y_pred)\n",
    "    y_pred_binary = (y_pred_proba > 0.5).astype(np.float32)\n",
    "\n",
    "    # Calculate metrics\n",
    "    acc = accuracy_score(y_true, y_pred_binary)\n",
    "    precision = precision_score(y_true, y_pred_binary)\n",
    "    recall = recall_score(y_true, y_pred_binary)\n",
    "    f1 = f1_score(y_true, y_pred_binary)\n",
    "    roc_auc = roc_auc_score(y_true, y_pred_proba)\n",
    "    average_precision = average_precision_score(y_true, y_pred_proba)\n",
    "    quadratic_loss = log_loss(y_true, y_pred_proba)\n",
    "    brier_score = brier_score_loss(y_true, y_pred_proba)\n",
    "    tn, fp, fn, tp = confusion_matrix(y_true, y_pred_binary).ravel()\n",
    "\n",
    "    # Combine all inputs into a single dictionary\n",
    "    combined_inputs = {k: np.concatenate([d[k] for d in all_inputs]) for k in all_inputs[0].keys()}\n",
    "\n",
    "    return {\n",
    "        \"metrics\": {\n",
    "            \"acc\": acc,\n",
    "            \"precision\": precision,\n",
    "            \"recall\": recall,\n",
    "            \"f1\": f1,\n",
    "            \"roc_auc\": roc_auc,\n",
    "            \"average_precision\": average_precision,\n",
    "            \"quadratic_loss\": quadratic_loss,\n",
    "            \"brier_score\": brier_score,\n",
    "            \"true_positive\": tp,\n",
    "            \"false_positive\": fp,\n",
    "            \"true_negative\": tn,\n",
    "            \"false_negative\": fn\n",
    "        },\n",
    "        \"predictions\": {\n",
    "            \"y_true\": y_true,\n",
    "            \"y_pred_proba\": y_pred_proba,\n",
    "            \"y_pred_binary\": y_pred_binary,\n",
    "            \"inputs\": combined_inputs\n",
    "        }\n",
    "    }\n",
    "\n",
    "def categorize_predictions(df, stats):\n",
    "    y_true = stats['predictions']['y_true']\n",
    "    y_pred_binary = stats['predictions']['y_pred_binary']\n",
    "    y_pred_proba = stats['predictions']['y_pred_proba']\n",
    "\n",
    "    df = df.copy()\n",
    "    df['prediction_category'] = 'Unknown'\n",
    "    df.loc[(y_true == 1) & (y_pred_binary == 1), 'prediction_category'] = 'True Positive'\n",
    "    df.loc[(y_true == 0) & (y_pred_binary == 1), 'prediction_category'] = 'False Positive'\n",
    "    df.loc[(y_true == 1) & (y_pred_binary == 0), 'prediction_category'] = 'False Negative'\n",
    "    df.loc[(y_true == 0) & (y_pred_binary == 0), 'prediction_category'] = 'True Negative'\n",
    "    df['predictive_probability'] = y_pred_proba\n",
    "\n",
    "    # Add other features from the inputs if needed\n",
    "    for feature, values in stats['predictions']['inputs'].items():\n",
    "        if feature not in df.columns:\n",
    "            df[feature] = values\n",
    "\n",
    "    return df"
   ],
   "metadata": {
    "collapsed": false,
    "pycharm": {
     "name": "#%%\n"
    }
   }
  },
  {
   "cell_type": "code",
   "execution_count": 891,
   "outputs": [
    {
     "name": "stdout",
     "output_type": "stream",
     "text": [
      "len(train_df) = 13555, len(val_df) = 2167, len(test_df) = 1632\n",
      "PredictionAllFeaturesCNN(\n",
      "  (embedding): Embedding(10539, 64)\n",
      "  (embedding_driv): Embedding(317, 32)\n",
      "  (conv1): Conv1d(64, 64, kernel_size=(3,), stride=(1,), padding=(1,))\n",
      "  (pool): MaxPool1d(kernel_size=2, stride=2, padding=0, dilation=1, ceil_mode=False)\n",
      "  (dropout): Dropout(p=0.5, inplace=False)\n",
      "  (fc_static_1): Linear(in_features=41, out_features=128, bias=True)\n",
      "  (fc): Linear(in_features=192, out_features=64, bias=True)\n",
      "  (layer2): Linear(in_features=128, out_features=64, bias=True)\n",
      "  (layer3): Linear(in_features=64, out_features=1, bias=True)\n",
      "  (relu): ReLU()\n",
      "  (sig): Sigmoid()\n",
      ")\n",
      "Epoch 1\n",
      "train_loss : 0.25004895882947104 val_loss : 0.22755687683820724\n",
      "Validation loss decreased (inf --> 0.227557).  Saving model ...\n",
      "==================================================\n",
      "Epoch 2\n",
      "train_loss : 0.22663580519812448 val_loss : 0.21793962270021439\n",
      "Validation loss decreased (0.227557 --> 0.217940).  Saving model ...\n",
      "==================================================\n",
      "Epoch 3\n",
      "train_loss : 0.22976766100951604 val_loss : 0.208077572286129\n",
      "Validation loss decreased (0.217940 --> 0.208078).  Saving model ...\n",
      "==================================================\n",
      "Epoch 4\n",
      "train_loss : 0.22385489727769578 val_loss : 0.200484037399292\n",
      "Validation loss decreased (0.208078 --> 0.200484).  Saving model ...\n",
      "==================================================\n",
      "Epoch 5\n",
      "train_loss : 0.21531532917703902 val_loss : 0.1930362954735756\n",
      "Validation loss decreased (0.200484 --> 0.193036).  Saving model ...\n",
      "==================================================\n",
      "Epoch 6\n",
      "train_loss : 0.21104665526321956 val_loss : 0.1881396621465683\n",
      "Validation loss decreased (0.193036 --> 0.188140).  Saving model ...\n",
      "==================================================\n",
      "Epoch 7\n",
      "train_loss : 0.20857379266193934 val_loss : 0.18321625888347626\n",
      "Validation loss decreased (0.188140 --> 0.183216).  Saving model ...\n",
      "==================================================\n",
      "Epoch 8\n",
      "train_loss : 0.2032038484300886 val_loss : 0.18019219487905502\n",
      "Validation loss decreased (0.183216 --> 0.180192).  Saving model ...\n",
      "==================================================\n",
      "Epoch 9\n",
      "train_loss : 0.1985735914536885 val_loss : 0.17715425789356232\n",
      "Validation loss decreased (0.180192 --> 0.177154).  Saving model ...\n",
      "==================================================\n",
      "Epoch 10\n",
      "train_loss : 0.19406214569296157 val_loss : 0.1735624149441719\n",
      "Validation loss decreased (0.177154 --> 0.173562).  Saving model ...\n",
      "==================================================\n",
      "Epoch 11\n",
      "train_loss : 0.1888606228998729 val_loss : 0.1698131337761879\n",
      "Validation loss decreased (0.173562 --> 0.169813).  Saving model ...\n",
      "==================================================\n",
      "Epoch 12\n",
      "train_loss : 0.18441337134156907 val_loss : 0.16566690802574158\n",
      "Validation loss decreased (0.169813 --> 0.165667).  Saving model ...\n",
      "==================================================\n",
      "Epoch 13\n",
      "train_loss : 0.17964498485837663 val_loss : 0.16183728724718094\n",
      "Validation loss decreased (0.165667 --> 0.161837).  Saving model ...\n",
      "==================================================\n",
      "Epoch 14\n",
      "train_loss : 0.17480025334017618 val_loss : 0.15803977474570274\n",
      "Validation loss decreased (0.161837 --> 0.158040).  Saving model ...\n",
      "==================================================\n",
      "Epoch 15\n",
      "train_loss : 0.17107225635222026 val_loss : 0.15512368455529213\n",
      "Validation loss decreased (0.158040 --> 0.155124).  Saving model ...\n",
      "==================================================\n",
      "Epoch 16\n",
      "train_loss : 0.16762518882751465 val_loss : 0.15243127197027206\n",
      "Validation loss decreased (0.155124 --> 0.152431).  Saving model ...\n",
      "==================================================\n",
      "Epoch 17\n",
      "train_loss : 0.1642102992960385 val_loss : 0.15094827115535736\n",
      "Validation loss decreased (0.152431 --> 0.150948).  Saving model ...\n",
      "==================================================\n",
      "Epoch 18\n",
      "train_loss : 0.16132482992751257 val_loss : 0.14904804155230522\n",
      "Validation loss decreased (0.150948 --> 0.149048).  Saving model ...\n",
      "==================================================\n",
      "Epoch 19\n",
      "train_loss : 0.1586905089872224 val_loss : 0.14816037565469742\n",
      "Validation loss decreased (0.149048 --> 0.148160).  Saving model ...\n",
      "==================================================\n",
      "Epoch 20\n",
      "train_loss : 0.1556145367877824 val_loss : 0.14705371856689453\n",
      "Validation loss decreased (0.148160 --> 0.147054).  Saving model ...\n",
      "==================================================\n",
      "Epoch 21\n",
      "train_loss : 0.15311060952288763 val_loss : 0.14642445370554924\n",
      "Validation loss decreased (0.147054 --> 0.146424).  Saving model ...\n",
      "==================================================\n",
      "Epoch 22\n",
      "train_loss : 0.15116451467786515 val_loss : 0.14578942582011223\n",
      "Validation loss decreased (0.146424 --> 0.145789).  Saving model ...\n",
      "==================================================\n",
      "Epoch 23\n",
      "train_loss : 0.1494676779423441 val_loss : 0.14522414654493332\n",
      "Validation loss decreased (0.145789 --> 0.145224).  Saving model ...\n",
      "==================================================\n",
      "Epoch 24\n",
      "train_loss : 0.14726978646857397 val_loss : 0.14456695690751076\n",
      "Validation loss decreased (0.145224 --> 0.144567).  Saving model ...\n",
      "==================================================\n",
      "Epoch 25\n",
      "train_loss : 0.14518664351531438 val_loss : 0.1441132128238678\n",
      "Validation loss decreased (0.144567 --> 0.144113).  Saving model ...\n",
      "==================================================\n",
      "Epoch 26\n",
      "train_loss : 0.14376556234700338 val_loss : 0.1437203213572502\n",
      "Validation loss decreased (0.144113 --> 0.143720).  Saving model ...\n",
      "==================================================\n",
      "Epoch 27\n",
      "train_loss : 0.14202118452106202 val_loss : 0.14390862360596657\n",
      "==================================================\n",
      "Epoch 28\n",
      "train_loss : 0.14088582460369384 val_loss : 0.14374872669577599\n",
      "==================================================\n",
      "Epoch 29\n",
      "train_loss : 0.1392852429832731 val_loss : 0.1438518539071083\n",
      "==================================================\n",
      "Epoch 30\n",
      "train_loss : 0.13749460237366812 val_loss : 0.14393090456724167\n",
      "==================================================\n",
      "Epoch 31\n",
      "train_loss : 0.13651877641677856 val_loss : 0.14363983646035194\n",
      "Validation loss decreased (0.143720 --> 0.143640).  Saving model ...\n",
      "==================================================\n",
      "Epoch 32\n",
      "train_loss : 0.1347749957016536 val_loss : 0.14337066933512688\n",
      "Validation loss decreased (0.143640 --> 0.143371).  Saving model ...\n",
      "==================================================\n",
      "Epoch 33\n",
      "train_loss : 0.13261111399957112 val_loss : 0.1433252990245819\n",
      "Validation loss decreased (0.143371 --> 0.143325).  Saving model ...\n",
      "==================================================\n",
      "Epoch 34\n",
      "train_loss : 0.13198723644018173 val_loss : 0.1442934051156044\n",
      "==================================================\n",
      "Epoch 35\n",
      "train_loss : 0.1309741171342986 val_loss : 0.14435720816254616\n",
      "==================================================\n",
      "Epoch 36\n",
      "train_loss : 0.1291240475007466 val_loss : 0.14344796165823936\n",
      "==================================================\n",
      "Epoch 37\n",
      "train_loss : 0.12807434903723852 val_loss : 0.14331833645701408\n",
      "Validation loss decreased (0.143325 --> 0.143318).  Saving model ...\n",
      "==================================================\n",
      "Epoch 38\n",
      "train_loss : 0.126729744885649 val_loss : 0.14409291371703148\n",
      "==================================================\n",
      "Epoch 39\n",
      "train_loss : 0.12568135665995733 val_loss : 0.14540541917085648\n",
      "==================================================\n",
      "Epoch 40\n",
      "train_loss : 0.12451055539505822 val_loss : 0.1448339819908142\n",
      "==================================================\n",
      "Epoch 41\n",
      "train_loss : 0.12354259938001633 val_loss : 0.14477330073714256\n",
      "==================================================\n",
      "Epoch 42\n",
      "train_loss : 0.12467736750841141 val_loss : 0.1449744552373886\n",
      "==================================================\n",
      "Epoch 43\n",
      "train_loss : 0.12309893859284264 val_loss : 0.15107692405581474\n",
      "==================================================\n",
      "Epoch 44\n",
      "train_loss : 0.12399834607328687 val_loss : 0.14526354894042015\n",
      "==================================================\n",
      "Epoch 45\n",
      "train_loss : 0.12096271557467324 val_loss : 0.14542392268776894\n",
      "==================================================\n",
      "Epoch 46\n",
      "train_loss : 0.12092718375580651 val_loss : 0.14719537273049355\n",
      "==================================================\n",
      "Epoch 47\n",
      "train_loss : 0.1176816640155656 val_loss : 0.14625291898846626\n",
      "==================================================\n",
      "Epoch 48\n",
      "train_loss : 0.11479903225387846 val_loss : 0.14590343087911606\n",
      "==================================================\n",
      "Epoch 49\n",
      "train_loss : 0.11413805186748505 val_loss : 0.14654948189854622\n",
      "==================================================\n",
      "Epoch 50\n",
      "train_loss : 0.11314101623637336 val_loss : 0.14677410572767258\n",
      "==================================================\n",
      "PredictionAllFeaturesCNN(\n",
      "  (embedding): Embedding(10539, 64)\n",
      "  (embedding_driv): Embedding(317, 32)\n",
      "  (conv1): Conv1d(64, 64, kernel_size=(3,), stride=(1,), padding=(1,))\n",
      "  (pool): MaxPool1d(kernel_size=2, stride=2, padding=0, dilation=1, ceil_mode=False)\n",
      "  (dropout): Dropout(p=0.5, inplace=False)\n",
      "  (fc_static_1): Linear(in_features=41, out_features=128, bias=True)\n",
      "  (fc): Linear(in_features=192, out_features=64, bias=True)\n",
      "  (layer2): Linear(in_features=128, out_features=64, bias=True)\n",
      "  (layer3): Linear(in_features=64, out_features=1, bias=True)\n",
      "  (relu): ReLU()\n",
      "  (sig): Sigmoid()\n",
      ")\n",
      "Metrics: {'acc': 0.7530637254901961, 'precision': 0.7589073634204275, 'recall': 0.7616209773539928, 'f1': 0.760261748958953, 'roc_auc': 0.8281221113828238, 'average_precision': 0.8419993959435262, 'quadratic_loss': 0.5198762691552349, 'brier_score': 0.17075909407508927, 'true_positive': 639, 'false_positive': 203, 'true_negative': 590, 'false_negative': 200}\n"
     ]
    }
   ],
   "source": [
    "from sklearn.model_selection import KFold, cross_val_score\n",
    "set_seed(42)\n",
    "\n",
    "FEATURE_COLUMNS = ['routes', 'driver_id_feature', 'driver_id_sorted','last_two_weeks_count', 'len', 'day_of_week_feature', 'day_of_week_encoded_ext', 'country_flag', 'location_is_depot', 'location_type_id']\n",
    "\n",
    "\n",
    "class DataFrameDataset(Dataset):\n",
    "    def __init__(self, df):\n",
    "        self.df = df\n",
    "\n",
    "    def __len__(self):\n",
    "        return len(self.df)\n",
    "\n",
    "    def __getitem__(self, idx):\n",
    "        item = {}\n",
    "        for col in FEATURE_COLUMNS:\n",
    "            feature = self.df[col].iloc[idx]\n",
    "            if isinstance(feature, list):\n",
    "                feature = padding_([feature], max_route_length)[0]\n",
    "            item[col] = feature\n",
    "        item['label'] = self.df['label'].iloc[idx]\n",
    "        return item, item['label']\n",
    "\n",
    "def get_data_loaders(train_df, val_df, test_df):\n",
    "    # create Tensor datasets\n",
    "    train_data = DataFrameDataset(train_df)\n",
    "    val_data = DataFrameDataset(val_df)\n",
    "    test_data = DataFrameDataset(test_df)\n",
    "\n",
    "    # dataloaders\n",
    "    batch_size = 2048\n",
    "\n",
    "    # make sure to SHUFFLE your data\n",
    "    train_loader = DataLoader(train_data, shuffle=False, batch_size=batch_size, num_workers=0, generator=g, worker_init_fn=seed_worker)\n",
    "    val_loader = DataLoader(val_data, shuffle=False, batch_size=batch_size, num_workers=0, generator=g, worker_init_fn=seed_worker)\n",
    "    test_loader = DataLoader(test_data, shuffle=False, batch_size=batch_size,num_workers=0, generator=g, worker_init_fn=seed_worker)\n",
    "    return train_loader, val_loader, test_loader\n",
    "\n",
    "train_df = final_routes_split[final_routes_split['split'] == 'train'].drop('split', axis=1)\n",
    "val_df = final_routes_split[final_routes_split['split'] == 'val'].drop('split', axis=1)\n",
    "test_df = final_routes_split[final_routes_split['split'] == 'test'].drop('split', axis=1)\n",
    "\n",
    "print(f'len(train_df) = {len(train_df)}, len(val_df) = {len(val_df)}, len(test_df) = {len(test_df)}')\n",
    "\n",
    "train_loader, val_loader, test_loader = get_data_loaders(train_df, val_df, test_df)\n",
    "model = get_model()\n",
    "model.train()\n",
    "\n",
    "# Train the model\n",
    "train_model((train_loader, val_loader), model, epochs=50)\n",
    "\n",
    "# Load the best model\n",
    "model = get_model()\n",
    "model.load_state_dict(torch.load(f'{RUN_NAME}.pt'))\n",
    "\n",
    "# Evaluate on test set\n",
    "model.eval()\n",
    "test_stats = get_stats(model, test_loader)\n",
    "\n",
    "print(\"Metrics:\", test_stats['metrics'])\n",
    "\n",
    "categorized_df = categorize_predictions(test_df, test_stats)"
   ],
   "metadata": {
    "collapsed": false,
    "pycharm": {
     "name": "#%%\n"
    }
   }
  },
  {
   "cell_type": "code",
   "execution_count": 897,
   "outputs": [
    {
     "name": "stdout",
     "output_type": "stream",
     "text": [
      "200 200\n",
      "Routes unique to HA model: 73 141\n",
      "Sample of HA-only routes: [[1, 217, 181, 1, 880, 880, 410, 411, 6728, 161, 189, 183], [8649, 8752, 8845, 8848, 8781, 8850, 8780, 9747, 8779, 9996, 8777, 8778, 9658, 9692, 9694, 9659], [8649, 8845, 8846, 8846, 8848, 8853, 8781, 9747, 8779, 8780, 8777, 8778, 9658, 9446, 9694, 8649], [2108, 2409, 3172, 2420, 2118, 2821, 2268, 2413, 2782, 2782, 2782, 2782, 3173, 2165, 2421, 2108, 2108], [1149, 3668, 3677, 3670, 3670, 3672, 3674, 3674, 4282, 1149]]\n",
      "\n",
      "Routes unique to LSTM model: 53\n",
      "Sample of LSTM-only routes: [[1149, 1586, 4317, 1185, 4093, 1248, 3666, 1664, 4319], [1149, 3720, 3721, 1317, 3716, 5869, 3888, 5870, 5802, 5860, 5813, 3874, 4028, 1348, 5867, 5866, 1645, 4147, 1149], [1149, 5826, 3767, 3589, 3943, 3942, 3623, 3617, 1965, 3597, 1979, 3944, 3771, 3769, 3707, 3707, 1968, 1965], [1149, 4374, 3643, 3787, 1203, 4370], [1, 1, 6739, 6739, 6739, 640, 6741, 700, 641, 698, 1130, 701, 7803, 988, 6739, 1]]\n",
      "141\n"
     ]
    }
   ],
   "source": [
    "ha_tp_routes = test_df_group_HA[test_df_group_HA['prediction_category'] == 'False Negative']['routes'].tolist()\n",
    "lstm_tp_routes = categorized_df[categorized_df['prediction_category'] == 'False Negative']['routes'].tolist()\n",
    "\n",
    "print(len(categorized_df[categorized_df['prediction_category'] == 'False Negative']['routes']), len(categorized_df[categorized_df['prediction_category'] == 'False Negative']['routes']))\n",
    "# Convert lists to sets of tuples for comparison\n",
    "ha_tp_routes_set = set(tuple(route) for route in ha_tp_routes)\n",
    "lstm_tp_routes_set = set(tuple(route) for route in lstm_tp_routes)\n",
    "common_routes = ha_tp_routes_set.intersection(lstm_tp_routes_set)\n",
    "\n",
    "# Find non-overlapping routes\n",
    "ha_only_routes = ha_tp_routes_set - lstm_tp_routes_set\n",
    "lstm_only_routes = lstm_tp_routes_set - ha_tp_routes_set\n",
    "\n",
    "# Convert back to lists for display\n",
    "common_routes = [list(route) for route in common_routes]\n",
    "ha_only_routes = [list(route) for route in ha_only_routes]\n",
    "lstm_only_routes = [list(route) for route in lstm_only_routes]\n",
    "\n",
    "print(\"Routes unique to HA model:\", len(ha_only_routes), len(common_routes))\n",
    "print(\"Sample of HA-only routes:\", ha_only_routes[:5])\n",
    "\n",
    "print(\"\\nRoutes unique to LSTM model:\", len(lstm_only_routes))\n",
    "print(\"Sample of LSTM-only routes:\", lstm_only_routes[:5])\n",
    "print(len(common_routes))"
   ],
   "metadata": {
    "collapsed": false,
    "pycharm": {
     "name": "#%%\n"
    }
   }
  },
  {
   "cell_type": "markdown",
   "source": [
    "CNN:\n",
    "1632: 793 label0,\n",
    "TP: 54 561 benchmark\n",
    "    75 561 model\n",
    "FP: 88 153 benchmark\n",
    "    49 153 model\n",
    "TN: 49 494 benchmark\n",
    "    86 494 model\n",
    "FN: 73 141 benchmark\n",
    "    53 141 model\n",
    "\n",
    "a = 561+494, b = 54+49, c = 75+86, d = 153+141\n",
    "\n",
    "# print(categorized_df['routes'])"
   ],
   "metadata": {
    "collapsed": false,
    "pycharm": {
     "name": "#%% md\n"
    }
   }
  },
  {
   "cell_type": "code",
   "execution_count": 688,
   "outputs": [
    {
     "name": "stdout",
     "output_type": "stream",
     "text": [
      "18                         [1, 16, 4, 5, 5, 9, 7, 6, 3, 8]\n",
      "19                            [1, 16, 9, 5, 5, 4, 8, 6, 7]\n",
      "36                        [1, 4, 3, 16, 9, 15, 5, 5, 6, 7]\n",
      "37                 [1, 15, 9, 16, 14, 3, 8, 4, 5, 5, 6, 7]\n",
      "55                  [1, 1, 16, 9, 4, 8, 3, 14, 5, 5, 6, 7]\n",
      "                               ...                        \n",
      "17315    [8649, 9199, 9200, 9201, 9205, 9204, 9202, 920...\n",
      "17322    [8649, 9199, 9202, 9203, 9224, 9229, 9204, 920...\n",
      "17333    [8649, 9205, 9206, 9204, 9202, 9229, 9224, 920...\n",
      "17344    [8649, 9199, 9205, 9202, 9202, 9203, 9224, 921...\n",
      "17353    [8649, 9199, 9201, 9200, 9202, 9204, 9205, 920...\n",
      "Name: routes, Length: 1632, dtype: object\n"
     ]
    }
   ],
   "source": [
    "print(categorized_df['routes'])"
   ],
   "metadata": {
    "collapsed": false,
    "pycharm": {
     "name": "#%%\n"
    }
   }
  },
  {
   "cell_type": "code",
   "execution_count": 689,
   "outputs": [
    {
     "data": {
      "text/plain": "839"
     },
     "execution_count": 689,
     "metadata": {},
     "output_type": "execute_result"
    }
   ],
   "source": [
    "len(test_df[test_df['label']==1])"
   ],
   "metadata": {
    "collapsed": false,
    "pycharm": {
     "name": "#%%\n"
    }
   }
  },
  {
   "cell_type": "code",
   "execution_count": 104,
   "outputs": [],
   "source": [
    "def get_mean_stat(stats, stat_name):\n",
    "    # Calculate mean for regression stats\n",
    "    arr = np.array([item[stat_name] for item in stats])\n",
    "    return arr.mean()\n",
    "print('mse:', get_mean_stat(stats, 'mse'))\n",
    "print('rmse:', get_mean_stat(stats, 'rmse'))\n",
    "print('mae:', get_mean_stat(stats, 'mae'))\n",
    "print('r2:', get_mean_stat(stats, 'r2'))\n",
    "\n",
    "# If you want to visualize the distribution of predictions vs actual values\n",
    "plt.figure(figsize=(10, 6))\n",
    "for stat in stats:\n",
    "    plt.scatter(stat['y'], stat['y_pred'], alpha=0.5)\n",
    "plt.plot([0, 1], [0, 1], 'r--')\n",
    "plt.xlabel('True Values')\n",
    "plt.ylabel('Predicted Values')\n",
    "plt.title('Predicted vs True Values')\n",
    "plt.show()\n",
    "\n",
    "# If you want to visualize the residuals\n",
    "plt.figure(figsize=(10, 6))\n",
    "for stat in stats:\n",
    "    residuals = np.array(stat['y_pred']) - np.array(stat['y'])\n",
    "    plt.scatter(stat['y'], residuals, alpha=0.5)\n",
    "plt.axhline(y=0, color='r', linestyle='--')\n",
    "plt.xlabel('True Values')\n",
    "plt.ylabel('Residuals')\n",
    "plt.title('Residual Plot')\n",
    "plt.show()"
   ],
   "metadata": {
    "collapsed": false,
    "pycharm": {
     "name": "#%%\n"
    }
   }
  },
  {
   "cell_type": "code",
   "execution_count": null,
   "outputs": [],
   "source": [
    "# from sklearn.model_selection import train_test_split\n",
    "#\n",
    "# reset_random()\n",
    "# X_train, X_val, y_train, y_val = train_test_split(X, y, stratify=y, random_state=seed_value)\n",
    "# train_loader, valid_loader = get_data_loaders(X_train, y_train, X_val, y_val)\n",
    "#\n",
    "# model = get_model()\n",
    "# # summary(model, input_size=(1,9))\n",
    "# model.train()\n",
    "#\n",
    "# train_model((train_loader, valid_loader), model, epochs=50)\n",
    "#\n",
    "# get_stats(model, valid_loader)"
   ],
   "metadata": {
    "collapsed": false,
    "pycharm": {
     "name": "#%%\n"
    }
   }
  },
  {
   "cell_type": "code",
   "execution_count": null,
   "outputs": [],
   "source": [
    "get_stats(model, valid_loader)\n",
    "# def get_mean_stat(stats, stat_name) -> float:\n",
    "#     return np.array([item[stat_name] for item in stats]).mean()\n",
    "#\n",
    "# print('acc:', get_mean_stat(stats, 'acc'))\n",
    "# print('precision:', get_mean_stat(stats, 'precision'))\n",
    "# print('recall:', get_mean_stat(stats, 'recall'))\n",
    "# print('f1:', get_mean_stat(stats, 'f1'))\n",
    "# print('roc_auc:', get_mean_stat(stats, 'roc_auc'))\n",
    "# print('average_precision:', get_mean_stat(stats, 'average_precision'))"
   ],
   "metadata": {
    "collapsed": false,
    "pycharm": {
     "name": "#%%\n"
    }
   }
  },
  {
   "cell_type": "code",
   "execution_count": null,
   "outputs": [],
   "source": [],
   "metadata": {
    "collapsed": false,
    "pycharm": {
     "name": "#%%\n"
    }
   }
  },
  {
   "cell_type": "code",
   "execution_count": null,
   "outputs": [],
   "source": [
    "print(stats)"
   ],
   "metadata": {
    "collapsed": false,
    "pycharm": {
     "name": "#%%\n"
    }
   }
  },
  {
   "cell_type": "code",
   "execution_count": null,
   "outputs": [],
   "source": [
    "print(model.fc.weight)"
   ],
   "metadata": {
    "collapsed": false,
    "pycharm": {
     "name": "#%%\n"
    }
   }
  },
  {
   "cell_type": "code",
   "execution_count": 894,
   "outputs": [
    {
     "data": {
      "text/plain": "                                                  routes  \\\n19                          [1, 16, 9, 5, 5, 4, 8, 6, 7]   \n235                      [1, 24, 30, 21, 29, 29, 19, 28]   \n263    [1, 181, 182, 183, 131, 151, 151, 151, 151, 15...   \n275    [1, 131, 151, 151, 151, 151, 151, 151, 151, 15...   \n320    [1, 1, 164, 165, 158, 131, 177, 190, 144, 138,...   \n...                                                  ...   \n16948  [1149, 3823, 3824, 3824, 3825, 10514, 4375, 38...   \n16954  [1149, 5476, 4646, 4648, 5649, 3680, 4500, 450...   \n17035  [1, 23, 29, 473, 8531, 466, 467, 8530, 761, 51...   \n17051  [1, 981, 678, 4980, 6706, 287, 6718, 6711, 645...   \n17059  [1149, 1194, 1211, 1212, 1220, 1195, 1195, 119...   \n\n                                           actual_routes  driver_id  \\\n19     [1167, 1403, 1577, 1391, 1391, 1413, 1168, 143...     1255.0   \n235     [1167, 1508, 1484, 2156, 1523, 1523, 1312, 1286]     1195.0   \n263    [1167, 707, 705, 706, 772, 748, 748, 748, 748,...     1178.0   \n275    [1167, 772, 748, 748, 748, 748, 748, 748, 748,...     1178.0   \n320    [1167, 1167, 788, 785, 759, 772, 766, 763, 740...     1178.0   \n...                                                  ...        ...   \n16948  [7166, 6641, 6708, 6708, 6865, 6934, 6871, 695...     1673.0   \n16954  [7166, 6699, 6109, 6123, 6440, 6314, 7099, 710...     1673.0   \n17035  [1167, 1401, 1523, 1441, 1424, 1472, 1411, 132...     1675.0   \n17051  [1167, 1345, 1376, 1379, 1400, 1739, 1713, 137...     1675.0   \n17059  [7166, 10527, 10556, 10548, 10625, 10653, 1065...     1682.0   \n\n                                          distance_route  \\\n19     [14.714138147471223, 1.4802408047872266, 1.657...   \n235    [11.331426472496407, 4.298063946976982, 4.6541...   \n263    [13.28531412507298, 0.020209599834179685, 0.04...   \n275    [10.351900437452775, 1.4722705087065742, 0.0, ...   \n320    [0.0, 9.283909868885699, 0.3208039719480431, 1...   \n...                                                  ...   \n16948  [6.483181185941439, 4.022696808086511, 0.0, 1....   \n16954  [3.995978870506425, 13.525911083900596, 0.3136...   \n17035  [7.77819077360068, 1.668257516692874, 0.560712...   \n17051  [16.388764712450484, 0.20146238806021802, 0.15...   \n17059  [39.08048472811725, 2.2715359400556228, 0.2025...   \n\n       last_two_weeks_count  \\\n19                      3.0   \n235                     6.0   \n263                     7.0   \n275                     9.0   \n320                     6.0   \n...                     ...   \n16948                   2.0   \n16954                   4.0   \n17035                   2.0   \n17051                   5.0   \n17059                   2.0   \n\n                                             current_lat  \\\n19     [55.64641920439919, 55.6668713, 55.646535, 55....   \n235    [55.64641920439919, 55.6717132, 55.73380910510...   \n263    [55.64641920439919, 55.455338, 55.455343, 55.4...   \n275    [55.64641920439919, 55.498754, 55.4804203, 55....   \n320    [55.64641920439919, 55.64641920439919, 55.5125...   \n...                                                  ...   \n16948  [59.805664, 59.745116, 59.748792, 59.748792, 5...   \n16954  [59.805664, 59.747942, 59.667607, 59.668946, 5...   \n17035  [55.64641920439919, 55.666398, 55.6736429, 55....   \n17051  [55.64641920439919, 55.66143035347688, 55.6642...   \n17059  [59.805664, 60.2087853, 60.222838, 60.219915, ...   \n\n                                             current_lng day_of_week  \\\n19     [12.15372974969827, 12.5281913, 12.539958, 12....      Monday   \n235    [12.15372974969827, 12.4399891, 12.44350255982...   Wednesday   \n263    [12.15372974969827, 12.187559, 12.187045, 12.1...      Monday   \n275    [12.15372974969827, 12.196471, 12.1774363, 12....      Sunday   \n320    [12.15372974969827, 12.15372974969827, 12.1368...     Tuesday   \n...                                                  ...         ...   \n16948  [10.290383, 10.148693, 10.033782, 10.033782, 1...     Tuesday   \n16954  [10.290383, 10.291249, 10.643752, 10.635196, 1...   Wednesday   \n17035  [12.15372974969827, 12.349433, 12.3901296, 12....      Monday   \n17051  [12.15372974969827, 12.571879821976664, 12.573...   Wednesday   \n17059  [10.290383, 11.0796147, 11.020025, 11.020279, ...      Monday   \n\n            date                                  location_is_depot  ...  \\\n19    2024-08-05                        [1, 0, 0, 0, 0, 0, 0, 0, 0]  ...   \n235   2024-07-31                           [1, 0, 0, 0, 0, 0, 0, 0]  ...   \n263   2024-07-29  [1, 0, 0, 0, 0, 0, 0, 0, 0, 0, 0, 0, 0, 0, 0, ...  ...   \n275   2024-07-21         [1, 0, 0, 0, 0, 0, 0, 0, 0, 0, 0, 0, 0, 0]  ...   \n320   2024-07-30  [1, 1, 0, 0, 0, 0, 0, 0, 0, 0, 0, 0, 0, 0, 0, ...  ...   \n...          ...                                                ...  ...   \n16948 2024-08-06   [1, 0, 0, 0, 0, 0, 0, 0, 0, 0, 0, 0, 0, 0, 0, 0]  ...   \n16954 2024-07-31            [1, 0, 0, 0, 0, 0, 0, 0, 0, 0, 0, 0, 0]  ...   \n17035 2024-08-05  [1, 0, 0, 0, 0, 0, 0, 0, 0, 0, 1, 0, 0, 0, 0, ...  ...   \n17051 2024-07-31            [1, 0, 0, 0, 0, 0, 0, 0, 0, 0, 0, 0, 0]  ...   \n17059 2024-07-29                     [1, 0, 0, 0, 0, 0, 0, 0, 0, 0]  ...   \n\n      driver_id_sorted  day_of_week_encoded  \\\n19                   1                  2.0   \n235                  2                  7.0   \n263                  4                  2.0   \n275                  4                  4.0   \n320                  4                  6.0   \n...                ...                  ...   \n16948              301                  6.0   \n16954              301                  7.0   \n17035              304                  2.0   \n17051              304                  7.0   \n17059              305                  2.0   \n\n                                      experience_feature  \\\n19                           [3, 3, 3, 3, 3, 3, 3, 3, 3]   \n235                             [6, 6, 6, 6, 6, 6, 6, 6]   \n263    [7, 7, 7, 7, 7, 7, 7, 7, 7, 7, 7, 7, 7, 7, 7, ...   \n275           [9, 9, 9, 9, 9, 9, 9, 9, 9, 9, 9, 9, 9, 9]   \n320    [6, 6, 6, 6, 6, 6, 6, 6, 6, 6, 6, 6, 6, 6, 6, ...   \n...                                                  ...   \n16948   [2, 2, 2, 2, 2, 2, 2, 2, 2, 2, 2, 2, 2, 2, 2, 2]   \n16954            [4, 4, 4, 4, 4, 4, 4, 4, 4, 4, 4, 4, 4]   \n17035  [2, 2, 2, 2, 2, 2, 2, 2, 2, 2, 2, 2, 2, 2, 2, ...   \n17051            [5, 5, 5, 5, 5, 5, 5, 5, 5, 5, 5, 5, 5]   \n17059                     [2, 2, 2, 2, 2, 2, 2, 2, 2, 2]   \n\n                                             len_feature  \\\n19                           [9, 9, 9, 9, 9, 9, 9, 9, 9]   \n235                             [8, 8, 8, 8, 8, 8, 8, 8]   \n263    [20, 20, 20, 20, 20, 20, 20, 20, 20, 20, 20, 2...   \n275    [14, 14, 14, 14, 14, 14, 14, 14, 14, 14, 14, 1...   \n320    [19, 19, 19, 19, 19, 19, 19, 19, 19, 19, 19, 1...   \n...                                                  ...   \n16948  [16, 16, 16, 16, 16, 16, 16, 16, 16, 16, 16, 1...   \n16954  [13, 13, 13, 13, 13, 13, 13, 13, 13, 13, 13, 1...   \n17035  [17, 17, 17, 17, 17, 17, 17, 17, 17, 17, 17, 1...   \n17051  [13, 13, 13, 13, 13, 13, 13, 13, 13, 13, 13, 1...   \n17059           [10, 10, 10, 10, 10, 10, 10, 10, 10, 10]   \n\n                                       driver_id_feature  \\\n19                           [1, 1, 1, 1, 1, 1, 1, 1, 1]   \n235                             [2, 2, 2, 2, 2, 2, 2, 2]   \n263    [4, 4, 4, 4, 4, 4, 4, 4, 4, 4, 4, 4, 4, 4, 4, ...   \n275           [4, 4, 4, 4, 4, 4, 4, 4, 4, 4, 4, 4, 4, 4]   \n320    [4, 4, 4, 4, 4, 4, 4, 4, 4, 4, 4, 4, 4, 4, 4, ...   \n...                                                  ...   \n16948  [354, 354, 354, 354, 354, 354, 354, 354, 354, ...   \n16954  [354, 354, 354, 354, 354, 354, 354, 354, 354, ...   \n17035  [361, 361, 361, 361, 361, 361, 361, 361, 361, ...   \n17051  [361, 361, 361, 361, 361, 361, 361, 361, 361, ...   \n17059  [362, 362, 362, 362, 362, 362, 362, 362, 362, ...   \n\n                                    country_flag_feature  \\\n19                           [1, 1, 1, 1, 1, 1, 1, 1, 1]   \n235                             [1, 1, 1, 1, 1, 1, 1, 1]   \n263    [1, 1, 1, 1, 1, 1, 1, 1, 1, 1, 1, 1, 1, 1, 1, ...   \n275           [1, 1, 1, 1, 1, 1, 1, 1, 1, 1, 1, 1, 1, 1]   \n320    [1, 1, 1, 1, 1, 1, 1, 1, 1, 1, 1, 1, 1, 1, 1, ...   \n...                                                  ...   \n16948   [0, 0, 0, 0, 0, 0, 0, 0, 0, 0, 0, 0, 0, 0, 0, 0]   \n16954            [0, 0, 0, 0, 0, 0, 0, 0, 0, 0, 0, 0, 0]   \n17035  [1, 1, 1, 1, 1, 1, 1, 1, 1, 1, 1, 1, 1, 1, 1, ...   \n17051            [1, 1, 1, 1, 1, 1, 1, 1, 1, 1, 1, 1, 1]   \n17059                     [0, 0, 0, 0, 0, 0, 0, 0, 0, 0]   \n\n                                     day_of_week_feature  \\\n19     [[0, 0, 0, 0, 0, 0, 0], [0, 0, 0, 0, 0, 0, 0],...   \n235    [[0, 0, 0, 0, 0, 0, 0], [0, 0, 0, 0, 0, 0, 0],...   \n263    [[0, 0, 0, 0, 0, 0, 0], [0, 0, 0, 0, 0, 0, 0],...   \n275    [[0, 0, 0, 0, 0, 0, 0], [0, 0, 0, 0, 0, 0, 0],...   \n320    [[0, 0, 0, 0, 0, 0, 0], [0, 0, 0, 0, 0, 0, 0],...   \n...                                                  ...   \n16948  [[0, 0, 0, 0, 0, 0, 0], [0, 0, 0, 0, 0, 0, 0],...   \n16954  [[0, 0, 0, 0, 0, 0, 0], [0, 0, 0, 0, 0, 0, 0],...   \n17035  [[0, 0, 0, 0, 0, 0, 0], [0, 0, 0, 0, 0, 0, 0],...   \n17051  [[0, 0, 0, 0, 0, 0, 0], [0, 0, 0, 0, 0, 0, 0],...   \n17059  [[0, 0, 0, 0, 0, 0, 0], [0, 0, 0, 0, 0, 0, 0],...   \n\n      day_of_week_encoded_ext score_cumulative_avg score_cumulative_driver  \n19      [0, 1, 0, 0, 0, 0, 0]             0.800000                0.752688  \n235     [0, 0, 0, 0, 0, 0, 1]             0.958333                0.963504  \n263     [0, 1, 0, 0, 0, 0, 0]             0.437500                0.595506  \n275     [0, 0, 0, 1, 0, 0, 0]             0.454545                0.623529  \n320     [0, 0, 0, 0, 0, 1, 0]             0.640000                0.582418  \n...                       ...                  ...                     ...  \n16948   [0, 0, 0, 0, 0, 1, 0]             0.000000                0.000000  \n16954   [0, 0, 0, 0, 0, 0, 1]             0.000000                0.000000  \n17035   [0, 1, 0, 0, 0, 0, 0]             0.250000                0.419355  \n17051   [0, 0, 0, 0, 0, 0, 1]             0.571429                0.444444  \n17059   [0, 1, 0, 0, 0, 0, 0]             0.125000                0.315789  \n\n[793 rows x 24 columns]",
      "text/html": "<div>\n<style scoped>\n    .dataframe tbody tr th:only-of-type {\n        vertical-align: middle;\n    }\n\n    .dataframe tbody tr th {\n        vertical-align: top;\n    }\n\n    .dataframe thead th {\n        text-align: right;\n    }\n</style>\n<table border=\"1\" class=\"dataframe\">\n  <thead>\n    <tr style=\"text-align: right;\">\n      <th></th>\n      <th>routes</th>\n      <th>actual_routes</th>\n      <th>driver_id</th>\n      <th>distance_route</th>\n      <th>last_two_weeks_count</th>\n      <th>current_lat</th>\n      <th>current_lng</th>\n      <th>day_of_week</th>\n      <th>date</th>\n      <th>location_is_depot</th>\n      <th>...</th>\n      <th>driver_id_sorted</th>\n      <th>day_of_week_encoded</th>\n      <th>experience_feature</th>\n      <th>len_feature</th>\n      <th>driver_id_feature</th>\n      <th>country_flag_feature</th>\n      <th>day_of_week_feature</th>\n      <th>day_of_week_encoded_ext</th>\n      <th>score_cumulative_avg</th>\n      <th>score_cumulative_driver</th>\n    </tr>\n  </thead>\n  <tbody>\n    <tr>\n      <th>19</th>\n      <td>[1, 16, 9, 5, 5, 4, 8, 6, 7]</td>\n      <td>[1167, 1403, 1577, 1391, 1391, 1413, 1168, 143...</td>\n      <td>1255.0</td>\n      <td>[14.714138147471223, 1.4802408047872266, 1.657...</td>\n      <td>3.0</td>\n      <td>[55.64641920439919, 55.6668713, 55.646535, 55....</td>\n      <td>[12.15372974969827, 12.5281913, 12.539958, 12....</td>\n      <td>Monday</td>\n      <td>2024-08-05</td>\n      <td>[1, 0, 0, 0, 0, 0, 0, 0, 0]</td>\n      <td>...</td>\n      <td>1</td>\n      <td>2.0</td>\n      <td>[3, 3, 3, 3, 3, 3, 3, 3, 3]</td>\n      <td>[9, 9, 9, 9, 9, 9, 9, 9, 9]</td>\n      <td>[1, 1, 1, 1, 1, 1, 1, 1, 1]</td>\n      <td>[1, 1, 1, 1, 1, 1, 1, 1, 1]</td>\n      <td>[[0, 0, 0, 0, 0, 0, 0], [0, 0, 0, 0, 0, 0, 0],...</td>\n      <td>[0, 1, 0, 0, 0, 0, 0]</td>\n      <td>0.800000</td>\n      <td>0.752688</td>\n    </tr>\n    <tr>\n      <th>235</th>\n      <td>[1, 24, 30, 21, 29, 29, 19, 28]</td>\n      <td>[1167, 1508, 1484, 2156, 1523, 1523, 1312, 1286]</td>\n      <td>1195.0</td>\n      <td>[11.331426472496407, 4.298063946976982, 4.6541...</td>\n      <td>6.0</td>\n      <td>[55.64641920439919, 55.6717132, 55.73380910510...</td>\n      <td>[12.15372974969827, 12.4399891, 12.44350255982...</td>\n      <td>Wednesday</td>\n      <td>2024-07-31</td>\n      <td>[1, 0, 0, 0, 0, 0, 0, 0]</td>\n      <td>...</td>\n      <td>2</td>\n      <td>7.0</td>\n      <td>[6, 6, 6, 6, 6, 6, 6, 6]</td>\n      <td>[8, 8, 8, 8, 8, 8, 8, 8]</td>\n      <td>[2, 2, 2, 2, 2, 2, 2, 2]</td>\n      <td>[1, 1, 1, 1, 1, 1, 1, 1]</td>\n      <td>[[0, 0, 0, 0, 0, 0, 0], [0, 0, 0, 0, 0, 0, 0],...</td>\n      <td>[0, 0, 0, 0, 0, 0, 1]</td>\n      <td>0.958333</td>\n      <td>0.963504</td>\n    </tr>\n    <tr>\n      <th>263</th>\n      <td>[1, 181, 182, 183, 131, 151, 151, 151, 151, 15...</td>\n      <td>[1167, 707, 705, 706, 772, 748, 748, 748, 748,...</td>\n      <td>1178.0</td>\n      <td>[13.28531412507298, 0.020209599834179685, 0.04...</td>\n      <td>7.0</td>\n      <td>[55.64641920439919, 55.455338, 55.455343, 55.4...</td>\n      <td>[12.15372974969827, 12.187559, 12.187045, 12.1...</td>\n      <td>Monday</td>\n      <td>2024-07-29</td>\n      <td>[1, 0, 0, 0, 0, 0, 0, 0, 0, 0, 0, 0, 0, 0, 0, ...</td>\n      <td>...</td>\n      <td>4</td>\n      <td>2.0</td>\n      <td>[7, 7, 7, 7, 7, 7, 7, 7, 7, 7, 7, 7, 7, 7, 7, ...</td>\n      <td>[20, 20, 20, 20, 20, 20, 20, 20, 20, 20, 20, 2...</td>\n      <td>[4, 4, 4, 4, 4, 4, 4, 4, 4, 4, 4, 4, 4, 4, 4, ...</td>\n      <td>[1, 1, 1, 1, 1, 1, 1, 1, 1, 1, 1, 1, 1, 1, 1, ...</td>\n      <td>[[0, 0, 0, 0, 0, 0, 0], [0, 0, 0, 0, 0, 0, 0],...</td>\n      <td>[0, 1, 0, 0, 0, 0, 0]</td>\n      <td>0.437500</td>\n      <td>0.595506</td>\n    </tr>\n    <tr>\n      <th>275</th>\n      <td>[1, 131, 151, 151, 151, 151, 151, 151, 151, 15...</td>\n      <td>[1167, 772, 748, 748, 748, 748, 748, 748, 748,...</td>\n      <td>1178.0</td>\n      <td>[10.351900437452775, 1.4722705087065742, 0.0, ...</td>\n      <td>9.0</td>\n      <td>[55.64641920439919, 55.498754, 55.4804203, 55....</td>\n      <td>[12.15372974969827, 12.196471, 12.1774363, 12....</td>\n      <td>Sunday</td>\n      <td>2024-07-21</td>\n      <td>[1, 0, 0, 0, 0, 0, 0, 0, 0, 0, 0, 0, 0, 0]</td>\n      <td>...</td>\n      <td>4</td>\n      <td>4.0</td>\n      <td>[9, 9, 9, 9, 9, 9, 9, 9, 9, 9, 9, 9, 9, 9]</td>\n      <td>[14, 14, 14, 14, 14, 14, 14, 14, 14, 14, 14, 1...</td>\n      <td>[4, 4, 4, 4, 4, 4, 4, 4, 4, 4, 4, 4, 4, 4]</td>\n      <td>[1, 1, 1, 1, 1, 1, 1, 1, 1, 1, 1, 1, 1, 1]</td>\n      <td>[[0, 0, 0, 0, 0, 0, 0], [0, 0, 0, 0, 0, 0, 0],...</td>\n      <td>[0, 0, 0, 1, 0, 0, 0]</td>\n      <td>0.454545</td>\n      <td>0.623529</td>\n    </tr>\n    <tr>\n      <th>320</th>\n      <td>[1, 1, 164, 165, 158, 131, 177, 190, 144, 138,...</td>\n      <td>[1167, 1167, 788, 785, 759, 772, 766, 763, 740...</td>\n      <td>1178.0</td>\n      <td>[0.0, 9.283909868885699, 0.3208039719480431, 1...</td>\n      <td>6.0</td>\n      <td>[55.64641920439919, 55.64641920439919, 55.5125...</td>\n      <td>[12.15372974969827, 12.15372974969827, 12.1368...</td>\n      <td>Tuesday</td>\n      <td>2024-07-30</td>\n      <td>[1, 1, 0, 0, 0, 0, 0, 0, 0, 0, 0, 0, 0, 0, 0, ...</td>\n      <td>...</td>\n      <td>4</td>\n      <td>6.0</td>\n      <td>[6, 6, 6, 6, 6, 6, 6, 6, 6, 6, 6, 6, 6, 6, 6, ...</td>\n      <td>[19, 19, 19, 19, 19, 19, 19, 19, 19, 19, 19, 1...</td>\n      <td>[4, 4, 4, 4, 4, 4, 4, 4, 4, 4, 4, 4, 4, 4, 4, ...</td>\n      <td>[1, 1, 1, 1, 1, 1, 1, 1, 1, 1, 1, 1, 1, 1, 1, ...</td>\n      <td>[[0, 0, 0, 0, 0, 0, 0], [0, 0, 0, 0, 0, 0, 0],...</td>\n      <td>[0, 0, 0, 0, 0, 1, 0]</td>\n      <td>0.640000</td>\n      <td>0.582418</td>\n    </tr>\n    <tr>\n      <th>...</th>\n      <td>...</td>\n      <td>...</td>\n      <td>...</td>\n      <td>...</td>\n      <td>...</td>\n      <td>...</td>\n      <td>...</td>\n      <td>...</td>\n      <td>...</td>\n      <td>...</td>\n      <td>...</td>\n      <td>...</td>\n      <td>...</td>\n      <td>...</td>\n      <td>...</td>\n      <td>...</td>\n      <td>...</td>\n      <td>...</td>\n      <td>...</td>\n      <td>...</td>\n      <td>...</td>\n    </tr>\n    <tr>\n      <th>16948</th>\n      <td>[1149, 3823, 3824, 3824, 3825, 10514, 4375, 38...</td>\n      <td>[7166, 6641, 6708, 6708, 6865, 6934, 6871, 695...</td>\n      <td>1673.0</td>\n      <td>[6.483181185941439, 4.022696808086511, 0.0, 1....</td>\n      <td>2.0</td>\n      <td>[59.805664, 59.745116, 59.748792, 59.748792, 5...</td>\n      <td>[10.290383, 10.148693, 10.033782, 10.033782, 1...</td>\n      <td>Tuesday</td>\n      <td>2024-08-06</td>\n      <td>[1, 0, 0, 0, 0, 0, 0, 0, 0, 0, 0, 0, 0, 0, 0, 0]</td>\n      <td>...</td>\n      <td>301</td>\n      <td>6.0</td>\n      <td>[2, 2, 2, 2, 2, 2, 2, 2, 2, 2, 2, 2, 2, 2, 2, 2]</td>\n      <td>[16, 16, 16, 16, 16, 16, 16, 16, 16, 16, 16, 1...</td>\n      <td>[354, 354, 354, 354, 354, 354, 354, 354, 354, ...</td>\n      <td>[0, 0, 0, 0, 0, 0, 0, 0, 0, 0, 0, 0, 0, 0, 0, 0]</td>\n      <td>[[0, 0, 0, 0, 0, 0, 0], [0, 0, 0, 0, 0, 0, 0],...</td>\n      <td>[0, 0, 0, 0, 0, 1, 0]</td>\n      <td>0.000000</td>\n      <td>0.000000</td>\n    </tr>\n    <tr>\n      <th>16954</th>\n      <td>[1149, 5476, 4646, 4648, 5649, 3680, 4500, 450...</td>\n      <td>[7166, 6699, 6109, 6123, 6440, 6314, 7099, 710...</td>\n      <td>1673.0</td>\n      <td>[3.995978870506425, 13.525911083900596, 0.3136...</td>\n      <td>4.0</td>\n      <td>[59.805664, 59.747942, 59.667607, 59.668946, 5...</td>\n      <td>[10.290383, 10.291249, 10.643752, 10.635196, 1...</td>\n      <td>Wednesday</td>\n      <td>2024-07-31</td>\n      <td>[1, 0, 0, 0, 0, 0, 0, 0, 0, 0, 0, 0, 0]</td>\n      <td>...</td>\n      <td>301</td>\n      <td>7.0</td>\n      <td>[4, 4, 4, 4, 4, 4, 4, 4, 4, 4, 4, 4, 4]</td>\n      <td>[13, 13, 13, 13, 13, 13, 13, 13, 13, 13, 13, 1...</td>\n      <td>[354, 354, 354, 354, 354, 354, 354, 354, 354, ...</td>\n      <td>[0, 0, 0, 0, 0, 0, 0, 0, 0, 0, 0, 0, 0]</td>\n      <td>[[0, 0, 0, 0, 0, 0, 0], [0, 0, 0, 0, 0, 0, 0],...</td>\n      <td>[0, 0, 0, 0, 0, 0, 1]</td>\n      <td>0.000000</td>\n      <td>0.000000</td>\n    </tr>\n    <tr>\n      <th>17035</th>\n      <td>[1, 23, 29, 473, 8531, 466, 467, 8530, 761, 51...</td>\n      <td>[1167, 1401, 1523, 1441, 1424, 1472, 1411, 132...</td>\n      <td>1675.0</td>\n      <td>[7.77819077360068, 1.668257516692874, 0.560712...</td>\n      <td>2.0</td>\n      <td>[55.64641920439919, 55.666398, 55.6736429, 55....</td>\n      <td>[12.15372974969827, 12.349433, 12.3901296, 12....</td>\n      <td>Monday</td>\n      <td>2024-08-05</td>\n      <td>[1, 0, 0, 0, 0, 0, 0, 0, 0, 0, 1, 0, 0, 0, 0, ...</td>\n      <td>...</td>\n      <td>304</td>\n      <td>2.0</td>\n      <td>[2, 2, 2, 2, 2, 2, 2, 2, 2, 2, 2, 2, 2, 2, 2, ...</td>\n      <td>[17, 17, 17, 17, 17, 17, 17, 17, 17, 17, 17, 1...</td>\n      <td>[361, 361, 361, 361, 361, 361, 361, 361, 361, ...</td>\n      <td>[1, 1, 1, 1, 1, 1, 1, 1, 1, 1, 1, 1, 1, 1, 1, ...</td>\n      <td>[[0, 0, 0, 0, 0, 0, 0], [0, 0, 0, 0, 0, 0, 0],...</td>\n      <td>[0, 1, 0, 0, 0, 0, 0]</td>\n      <td>0.250000</td>\n      <td>0.419355</td>\n    </tr>\n    <tr>\n      <th>17051</th>\n      <td>[1, 981, 678, 4980, 6706, 287, 6718, 6711, 645...</td>\n      <td>[1167, 1345, 1376, 1379, 1400, 1739, 1713, 137...</td>\n      <td>1675.0</td>\n      <td>[16.388764712450484, 0.20146238806021802, 0.15...</td>\n      <td>5.0</td>\n      <td>[55.64641920439919, 55.66143035347688, 55.6642...</td>\n      <td>[12.15372974969827, 12.571879821976664, 12.573...</td>\n      <td>Wednesday</td>\n      <td>2024-07-31</td>\n      <td>[1, 0, 0, 0, 0, 0, 0, 0, 0, 0, 0, 0, 0]</td>\n      <td>...</td>\n      <td>304</td>\n      <td>7.0</td>\n      <td>[5, 5, 5, 5, 5, 5, 5, 5, 5, 5, 5, 5, 5]</td>\n      <td>[13, 13, 13, 13, 13, 13, 13, 13, 13, 13, 13, 1...</td>\n      <td>[361, 361, 361, 361, 361, 361, 361, 361, 361, ...</td>\n      <td>[1, 1, 1, 1, 1, 1, 1, 1, 1, 1, 1, 1, 1]</td>\n      <td>[[0, 0, 0, 0, 0, 0, 0], [0, 0, 0, 0, 0, 0, 0],...</td>\n      <td>[0, 0, 0, 0, 0, 0, 1]</td>\n      <td>0.571429</td>\n      <td>0.444444</td>\n    </tr>\n    <tr>\n      <th>17059</th>\n      <td>[1149, 1194, 1211, 1212, 1220, 1195, 1195, 119...</td>\n      <td>[7166, 10527, 10556, 10548, 10625, 10653, 1065...</td>\n      <td>1682.0</td>\n      <td>[39.08048472811725, 2.2715359400556228, 0.2025...</td>\n      <td>2.0</td>\n      <td>[59.805664, 60.2087853, 60.222838, 60.219915, ...</td>\n      <td>[10.290383, 11.0796147, 11.020025, 11.020279, ...</td>\n      <td>Monday</td>\n      <td>2024-07-29</td>\n      <td>[1, 0, 0, 0, 0, 0, 0, 0, 0, 0]</td>\n      <td>...</td>\n      <td>305</td>\n      <td>2.0</td>\n      <td>[2, 2, 2, 2, 2, 2, 2, 2, 2, 2]</td>\n      <td>[10, 10, 10, 10, 10, 10, 10, 10, 10, 10]</td>\n      <td>[362, 362, 362, 362, 362, 362, 362, 362, 362, ...</td>\n      <td>[0, 0, 0, 0, 0, 0, 0, 0, 0, 0]</td>\n      <td>[[0, 0, 0, 0, 0, 0, 0], [0, 0, 0, 0, 0, 0, 0],...</td>\n      <td>[0, 1, 0, 0, 0, 0, 0]</td>\n      <td>0.125000</td>\n      <td>0.315789</td>\n    </tr>\n  </tbody>\n</table>\n<p>793 rows × 24 columns</p>\n</div>"
     },
     "execution_count": 894,
     "metadata": {},
     "output_type": "execute_result"
    }
   ],
   "source": [
    "test_df[test_df['label'] == 0]"
   ],
   "metadata": {
    "collapsed": false,
    "pycharm": {
     "name": "#%%\n"
    }
   }
  },
  {
   "cell_type": "code",
   "execution_count": null,
   "outputs": [],
   "source": [],
   "metadata": {
    "collapsed": false,
    "pycharm": {
     "name": "#%%\n"
    }
   }
  }
 ],
 "metadata": {
  "kernelspec": {
   "display_name": "Python 3",
   "language": "python",
   "name": "python3"
  },
  "language_info": {
   "codemirror_mode": {
    "name": "ipython",
    "version": 2
   },
   "file_extension": ".py",
   "mimetype": "text/x-python",
   "name": "python",
   "nbconvert_exporter": "python",
   "pygments_lexer": "ipython2",
   "version": "2.7.6"
  }
 },
 "nbformat": 4,
 "nbformat_minor": 0
}