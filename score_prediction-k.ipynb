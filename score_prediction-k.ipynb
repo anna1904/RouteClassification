{
 "cells": [
  {
   "cell_type": "markdown",
   "source": [
    "# Generate routes"
   ],
   "metadata": {
    "collapsed": false,
    "pycharm": {
     "name": "#%% md\n"
    }
   }
  },
  {
   "cell_type": "code",
   "execution_count": 1,
   "outputs": [],
   "source": [
    "import pandas as pd\n",
    "import numpy as np\n",
    "from datetime import datetime\n",
    "import pandas as pd\n",
    "import matplotlib.pyplot as plt\n",
    "from datetime import datetime, timedelta\n",
    "from sklearn.cluster import KMeans"
   ],
   "metadata": {
    "collapsed": false,
    "pycharm": {
     "name": "#%%\n"
    }
   }
  },
  {
   "cell_type": "code",
   "execution_count": 2,
   "outputs": [
    {
     "name": "stdout",
     "output_type": "stream",
     "text": [
      "stop_completed_at         0\n",
      "stop_arrived_at           0\n",
      "stop_latest               0\n",
      "stop_earliest             0\n",
      "stop_dispatched_at        0\n",
      "location_id               0\n",
      "location_type_id          0\n",
      "driver_workday_id         0\n",
      "address_id                0\n",
      "location_is_depot         0\n",
      "driver_id                 0\n",
      "current_lat               0\n",
      "current_lng               0\n",
      "prev_planned_lat      27440\n",
      "prev_planned_lng      27440\n",
      "prev_actual_lat       27440\n",
      "prev_actual_lng       27440\n",
      "dtype: int64\n",
      "number of groups 11589\n"
     ]
    },
    {
     "data": {
      "text/plain": "       driver_workday_id                                          driver_id  \\\n0                 297900  [1255, 1255, 1255, 1255, 1255, 1255, 1255, 125...   \n1                 297906         [1195, 1195, 1195, 1195, 1195, 1195, 1195]   \n2                 297908  [1176, 1176, 1176, 1176, 1176, 1176, 1176, 117...   \n3                 297911  [1197, 1197, 1197, 1197, 1197, 1197, 1197, 119...   \n4                 297919  [1218, 1218, 1218, 1218, 1218, 1218, 1218, 121...   \n...                  ...                                                ...   \n27441             442393                [877, 877, 877, 877, 877, 877, 877]   \n27442             443087  [1562, 1562, 1562, 1562, 1562, 1562, 1562, 156...   \n27443             443092                           [1417, 1417, 1417, 1417]   \n27444             443098                                         [874, 874]   \n27445             443107  [723, 723, 723, 723, 723, 723, 723, 723, 723, ...   \n\n                                        location_type_id  \\\n0                         [1, 2, 2, 2, 2, 2, 2, 2, 2, 2]   \n1                                  [1, 2, 2, 2, 2, 2, 2]   \n2      [1, 2, 2, 2, 2, 2, 2, 2, 2, 2, 2, 2, 2, 2, 2, ...   \n3                         [1, 2, 2, 2, 2, 2, 2, 2, 2, 2]   \n4                      [1, 2, 2, 2, 2, 2, 2, 2, 2, 2, 2]   \n...                                                  ...   \n27441                              [1, 2, 2, 2, 2, 2, 2]   \n27442  [1, 2, 2, 2, 2, 1, 2, 2, 1, 2, 2, 1, 2, 2, 2, ...   \n27443                                       [1, 2, 1, 2]   \n27444                                             [1, 2]   \n27445               [1, 2, 2, 2, 2, 2, 2, 2, 2, 2, 1, 2]   \n\n                                  planned_route_location  \\\n0      [122267, 118973, 118854, 118820, 118623, 11909...   \n1      [122267, 120295, 120297, 118930, 120298, 13328...   \n2      [122267, 120515, 119217, 119215, 119170, 13445...   \n3      [122267, 145327, 133259, 133259, 133259, 13325...   \n4      [122267, 119426, 118790, 119069, 118805, 11885...   \n...                                                  ...   \n27441  [23977, 58941, 38726, 176478, 153920, 186237, ...   \n27442  [163647, 173249, 179617, 180628, 160877, 16186...   \n27443                      [46452, 46955, 46452, 154273]   \n27444                                    [23977, 135840]   \n27445  [46452, 45160, 156665, 44587, 45161, 44634, 50...   \n\n                                      stop_dispatched_at  \\\n0      [2024-01-01 19:41:35.136881+00, 2024-01-01 19:...   \n1      [2024-01-01 19:42:05.147145+00, 2024-01-01 19:...   \n2      [2024-01-01 21:25:47.230131+00, 2024-01-01 21:...   \n3      [2024-01-01 19:42:59.704147+00, 2024-01-01 19:...   \n4      [2024-01-01 19:46:51.16173+00, 2024-01-01 19:4...   \n...                                                  ...   \n27441  [2024-08-06 19:39:12.755331+00, 2024-08-06 19:...   \n27442  [2024-08-07 01:23:02.437621+00, 2024-08-07 01:...   \n27443  [2024-08-07 05:59:26.311221+00, 2024-08-07 05:...   \n27444  [2024-08-07 05:42:45.306612+00, 2024-08-07 05:...   \n27445  [2024-08-07 08:27:45.361844+00, 2024-08-07 08:...   \n\n                                         stop_arrived_at  \\\n0      [2024-01-01 22:14:16.454324+00, 2024-01-01 23:...   \n1      [2024-01-01 20:50:17.003744+00, 2024-01-02 02:...   \n2      [2024-01-01 23:06:27.627368+00, 2024-01-02 01:...   \n3      [2024-01-02 00:09:15.241119+00, 2024-01-02 04:...   \n4      [2024-01-01 23:05:52.039818+00, 2024-01-02 01:...   \n...                                                  ...   \n27441  [2024-08-07 13:31:50.711864+00, 2024-08-07 13:...   \n27442  [2024-08-07 01:24:05.33254+00, 2024-08-07 03:3...   \n27443  [2024-08-07 06:38:14.810272+00, 2024-08-07 07:...   \n27444  [2024-08-07 13:31:52.652071+00, 2024-08-07 13:...   \n27445  [2024-08-07 09:00:31.581115+00, 2024-08-07 10:...   \n\n                                           stop_earliest  \\\n0      [2024-01-01 19:00:00+00, 2024-01-01 23:00:00+0...   \n1      [2024-01-01 19:00:00+00, 2024-01-01 21:00:00+0...   \n2      [2024-01-01 19:00:00+00, 2024-01-01 21:00:00+0...   \n3      [2024-01-02 00:00:00+00, 2024-01-02 04:30:00+0...   \n4      [2024-01-01 19:00:00+00, 2024-01-01 21:00:00+0...   \n...                                                  ...   \n27441  [2024-08-07 01:00:00+00, 2024-08-07 05:00:00+0...   \n27442  [2024-08-07 00:00:00+00, 2024-08-07 02:00:00+0...   \n27443  [2024-08-07 02:00:00+00, 2024-08-07 05:00:00+0...   \n27444   [2024-08-07 01:00:00+00, 2024-08-07 05:00:00+00]   \n27445  [2024-08-07 02:00:00+00, 2024-08-07 06:00:00+0...   \n\n                                             stop_latest  \\\n0      [2024-01-02 01:00:00+00, 2024-01-02 03:00:00+0...   \n1      [2024-01-02 01:00:00+00, 2024-01-02 04:00:00+0...   \n2      [2024-01-02 01:00:00+00, 2024-01-02 04:00:00+0...   \n3      [2024-01-02 22:00:00+00, 2024-01-02 08:00:00+0...   \n4      [2024-01-02 01:00:00+00, 2024-01-02 04:00:00+0...   \n...                                                  ...   \n27441  [2024-08-07 14:00:00+00, 2024-08-07 11:00:00+0...   \n27442  [2024-08-07 16:00:00+00, 2024-08-07 04:00:00+0...   \n27443  [2024-08-07 20:00:00+00, 2024-08-07 07:00:00+0...   \n27444   [2024-08-07 14:00:00+00, 2024-08-07 11:00:00+00]   \n27445  [2024-08-07 20:00:00+00, 2024-08-07 10:00:00+0...   \n\n                                             current_lat  \\\n0      [55.6465393, 55.6669147, 55.676665, 55.6757322...   \n1      [55.6465393, 55.662018, 55.662429, 55.6727433,...   \n2      [55.6465393, 55.619592, 55.636304, 55.631888, ...   \n3      [55.6465393, 54.65117396302384, 54.666191, 54....   \n4      [55.6465393, 55.62296, 55.562168, 55.6381577, ...   \n...                                                  ...   \n27441  [60.007627, 59.923836, 59.93422, 59.811373, 59...   \n27442  [56.0667627, 56.13472729999999, 56.1352239, 56...   \n27443  [59.805664, 59.795058, 59.805664, 59.948098894...   \n27444                             [60.007627, 59.905421]   \n27445  [59.805664, 59.420838, 59.415188, 59.414098, 5...   \n\n                                             current_lng  \\\n0      [12.1522978, 12.5262801, 12.566428, 12.5619711...   \n1      [12.1522978, 12.360745, 12.363469, 12.3935111,...   \n2      [12.1522978, 12.028735, 12.044857, 12.055067, ...   \n3      [12.1522978, 11.375901220879824, 11.333044, 11...   \n4      [12.1522978, 12.615835, 12.576841, 12.6515491,...   \n...                                                  ...   \n27441  [11.047135, 10.814451, 10.800594, 10.80755, 10...   \n27442  [9.986944, 8.9884048, 8.9838423, 8.9810943, 8....   \n27443  [10.290383, 10.279009, 10.290383, 10.771520299...   \n27444                             [11.047135, 10.618603]   \n27445  [10.290383, 10.488199, 10.496616, 10.487423, 1...   \n\n                                       stop_completed_at  \\\n0      [2024-01-01 22:14:54.872731+00, 2024-01-01 23:...   \n1      [2024-01-01 20:50:29.721122+00, 2024-01-02 02:...   \n2      [2024-01-01 23:06:36.064172+00, 2024-01-02 01:...   \n3      [2024-01-02 00:09:21.131516+00, 2024-01-02 04:...   \n4      [2024-01-01 23:05:58.283704+00, 2024-01-02 01:...   \n...                                                  ...   \n27441  [2024-08-07 13:31:50.711869+00, 2024-08-07 13:...   \n27442  [2024-08-07 01:24:05.33256+00, 2024-08-07 03:3...   \n27443  [2024-08-07 07:10:49.406797+00, 2024-08-07 07:...   \n27444  [2024-08-07 13:31:52.652071+00, 2024-08-07 13:...   \n27445  [2024-08-07 09:00:39.885506+00, 2024-08-07 10:...   \n\n                                   planned_route_cluster  \\\n0      [3165, 1419, 3238, 3429, 720, 1360, 4511, 3703...   \n1              [3165, 122, 3540, 1413, 3487, 2070, 1287]   \n2      [3165, 1073, 1995, 3776, 1059, 1266, 1938, 193...   \n3      [3165, 442, 137, 137, 137, 137, 137, 137, 1809...   \n4      [3165, 3301, 537, 1830, 4879, 3305, 3305, 1642...   \n...                                                  ...   \n27441             [30, 3949, 4848, 4971, 2429, 45, 2313]   \n27442  [39, 1071, 3823, 4365, 4365, 39, 3823, 3823, 4...   \n27443                               [33, 2032, 33, 2852]   \n27444                                         [30, 3836]   \n27445  [33, 3225, 4361, 4473, 1308, 2346, 37, 3408, 4...   \n\n                                     planned_route_craft  \\\n0      [1169, 1405, 1577, 1560, 1479, 1391, 1434, 141...   \n1             [1169, 1352, 1356, 1508, 1350, 1312, 1401]   \n2      [1169, 960, 1049, 1026, 982, 916, 1284, 1281, ...   \n3               [1169, 7, 23, 23, 23, 23, 23, 23, 12, 4]   \n4      [1169, 965, 818, 1070, 1658, 1168, 1166, 888, ...   \n...                                                  ...   \n27441        [10076, 8785, 9172, 7204, 6955, 5902, 7045]   \n27442  [3162, 3403, 3408, 3440, 3437, 3162, 3408, 338...   \n27443                           [7166, 7127, 7166, 9527]   \n27444                                      [10076, 7846]   \n27445  [7166, 5428, 5394, 5385, 5347, 4633, 4350, 431...   \n\n                                             day_of_week  \\\n0      [Monday, Monday, Monday, Monday, Monday, Monda...   \n1      [Monday, Monday, Monday, Monday, Monday, Monda...   \n2      [Monday, Monday, Monday, Monday, Monday, Monda...   \n3      [Monday, Monday, Monday, Monday, Monday, Monda...   \n4      [Monday, Monday, Monday, Monday, Monday, Monda...   \n...                                                  ...   \n27441  [Tuesday, Tuesday, Tuesday, Tuesday, Tuesday, ...   \n27442  [Wednesday, Wednesday, Wednesday, Wednesday, W...   \n27443       [Wednesday, Wednesday, Wednesday, Wednesday]   \n27444                             [Wednesday, Wednesday]   \n27445  [Wednesday, Wednesday, Wednesday, Wednesday, W...   \n\n                                       location_is_depot  \\\n0      [True, False, False, False, False, False, Fals...   \n1       [True, False, False, False, False, False, False]   \n2      [True, False, False, False, False, False, Fals...   \n3      [True, False, False, False, False, False, Fals...   \n4      [True, False, False, False, False, False, Fals...   \n...                                                  ...   \n27441   [True, False, False, False, False, False, False]   \n27442  [True, True, False, False, False, False, False...   \n27443                         [True, False, True, False]   \n27444                                      [True, False]   \n27445  [True, False, False, False, False, False, Fals...   \n\n                                                    date  \n0      [2024-01-01, 2024-01-01, 2024-01-01, 2024-01-0...  \n1      [2024-01-01, 2024-01-01, 2024-01-01, 2024-01-0...  \n2      [2024-01-01, 2024-01-01, 2024-01-01, 2024-01-0...  \n3      [2024-01-01, 2024-01-01, 2024-01-01, 2024-01-0...  \n4      [2024-01-01, 2024-01-01, 2024-01-01, 2024-01-0...  \n...                                                  ...  \n27441  [2024-08-06, 2024-08-06, 2024-08-06, 2024-08-0...  \n27442  [2024-08-07, 2024-08-07, 2024-08-07, 2024-08-0...  \n27443   [2024-08-07, 2024-08-07, 2024-08-07, 2024-08-07]  \n27444                           [2024-08-07, 2024-08-07]  \n27445  [2024-08-07, 2024-08-07, 2024-08-07, 2024-08-0...  \n\n[27446 rows x 16 columns]",
      "text/html": "<div>\n<style scoped>\n    .dataframe tbody tr th:only-of-type {\n        vertical-align: middle;\n    }\n\n    .dataframe tbody tr th {\n        vertical-align: top;\n    }\n\n    .dataframe thead th {\n        text-align: right;\n    }\n</style>\n<table border=\"1\" class=\"dataframe\">\n  <thead>\n    <tr style=\"text-align: right;\">\n      <th></th>\n      <th>driver_workday_id</th>\n      <th>driver_id</th>\n      <th>location_type_id</th>\n      <th>planned_route_location</th>\n      <th>stop_dispatched_at</th>\n      <th>stop_arrived_at</th>\n      <th>stop_earliest</th>\n      <th>stop_latest</th>\n      <th>current_lat</th>\n      <th>current_lng</th>\n      <th>stop_completed_at</th>\n      <th>planned_route_cluster</th>\n      <th>planned_route_craft</th>\n      <th>day_of_week</th>\n      <th>location_is_depot</th>\n      <th>date</th>\n    </tr>\n  </thead>\n  <tbody>\n    <tr>\n      <th>0</th>\n      <td>297900</td>\n      <td>[1255, 1255, 1255, 1255, 1255, 1255, 1255, 125...</td>\n      <td>[1, 2, 2, 2, 2, 2, 2, 2, 2, 2]</td>\n      <td>[122267, 118973, 118854, 118820, 118623, 11909...</td>\n      <td>[2024-01-01 19:41:35.136881+00, 2024-01-01 19:...</td>\n      <td>[2024-01-01 22:14:16.454324+00, 2024-01-01 23:...</td>\n      <td>[2024-01-01 19:00:00+00, 2024-01-01 23:00:00+0...</td>\n      <td>[2024-01-02 01:00:00+00, 2024-01-02 03:00:00+0...</td>\n      <td>[55.6465393, 55.6669147, 55.676665, 55.6757322...</td>\n      <td>[12.1522978, 12.5262801, 12.566428, 12.5619711...</td>\n      <td>[2024-01-01 22:14:54.872731+00, 2024-01-01 23:...</td>\n      <td>[3165, 1419, 3238, 3429, 720, 1360, 4511, 3703...</td>\n      <td>[1169, 1405, 1577, 1560, 1479, 1391, 1434, 141...</td>\n      <td>[Monday, Monday, Monday, Monday, Monday, Monda...</td>\n      <td>[True, False, False, False, False, False, Fals...</td>\n      <td>[2024-01-01, 2024-01-01, 2024-01-01, 2024-01-0...</td>\n    </tr>\n    <tr>\n      <th>1</th>\n      <td>297906</td>\n      <td>[1195, 1195, 1195, 1195, 1195, 1195, 1195]</td>\n      <td>[1, 2, 2, 2, 2, 2, 2]</td>\n      <td>[122267, 120295, 120297, 118930, 120298, 13328...</td>\n      <td>[2024-01-01 19:42:05.147145+00, 2024-01-01 19:...</td>\n      <td>[2024-01-01 20:50:17.003744+00, 2024-01-02 02:...</td>\n      <td>[2024-01-01 19:00:00+00, 2024-01-01 21:00:00+0...</td>\n      <td>[2024-01-02 01:00:00+00, 2024-01-02 04:00:00+0...</td>\n      <td>[55.6465393, 55.662018, 55.662429, 55.6727433,...</td>\n      <td>[12.1522978, 12.360745, 12.363469, 12.3935111,...</td>\n      <td>[2024-01-01 20:50:29.721122+00, 2024-01-02 02:...</td>\n      <td>[3165, 122, 3540, 1413, 3487, 2070, 1287]</td>\n      <td>[1169, 1352, 1356, 1508, 1350, 1312, 1401]</td>\n      <td>[Monday, Monday, Monday, Monday, Monday, Monda...</td>\n      <td>[True, False, False, False, False, False, False]</td>\n      <td>[2024-01-01, 2024-01-01, 2024-01-01, 2024-01-0...</td>\n    </tr>\n    <tr>\n      <th>2</th>\n      <td>297908</td>\n      <td>[1176, 1176, 1176, 1176, 1176, 1176, 1176, 117...</td>\n      <td>[1, 2, 2, 2, 2, 2, 2, 2, 2, 2, 2, 2, 2, 2, 2, ...</td>\n      <td>[122267, 120515, 119217, 119215, 119170, 13445...</td>\n      <td>[2024-01-01 21:25:47.230131+00, 2024-01-01 21:...</td>\n      <td>[2024-01-01 23:06:27.627368+00, 2024-01-02 01:...</td>\n      <td>[2024-01-01 19:00:00+00, 2024-01-01 21:00:00+0...</td>\n      <td>[2024-01-02 01:00:00+00, 2024-01-02 04:00:00+0...</td>\n      <td>[55.6465393, 55.619592, 55.636304, 55.631888, ...</td>\n      <td>[12.1522978, 12.028735, 12.044857, 12.055067, ...</td>\n      <td>[2024-01-01 23:06:36.064172+00, 2024-01-02 01:...</td>\n      <td>[3165, 1073, 1995, 3776, 1059, 1266, 1938, 193...</td>\n      <td>[1169, 960, 1049, 1026, 982, 916, 1284, 1281, ...</td>\n      <td>[Monday, Monday, Monday, Monday, Monday, Monda...</td>\n      <td>[True, False, False, False, False, False, Fals...</td>\n      <td>[2024-01-01, 2024-01-01, 2024-01-01, 2024-01-0...</td>\n    </tr>\n    <tr>\n      <th>3</th>\n      <td>297911</td>\n      <td>[1197, 1197, 1197, 1197, 1197, 1197, 1197, 119...</td>\n      <td>[1, 2, 2, 2, 2, 2, 2, 2, 2, 2]</td>\n      <td>[122267, 145327, 133259, 133259, 133259, 13325...</td>\n      <td>[2024-01-01 19:42:59.704147+00, 2024-01-01 19:...</td>\n      <td>[2024-01-02 00:09:15.241119+00, 2024-01-02 04:...</td>\n      <td>[2024-01-02 00:00:00+00, 2024-01-02 04:30:00+0...</td>\n      <td>[2024-01-02 22:00:00+00, 2024-01-02 08:00:00+0...</td>\n      <td>[55.6465393, 54.65117396302384, 54.666191, 54....</td>\n      <td>[12.1522978, 11.375901220879824, 11.333044, 11...</td>\n      <td>[2024-01-02 00:09:21.131516+00, 2024-01-02 04:...</td>\n      <td>[3165, 442, 137, 137, 137, 137, 137, 137, 1809...</td>\n      <td>[1169, 7, 23, 23, 23, 23, 23, 23, 12, 4]</td>\n      <td>[Monday, Monday, Monday, Monday, Monday, Monda...</td>\n      <td>[True, False, False, False, False, False, Fals...</td>\n      <td>[2024-01-01, 2024-01-01, 2024-01-01, 2024-01-0...</td>\n    </tr>\n    <tr>\n      <th>4</th>\n      <td>297919</td>\n      <td>[1218, 1218, 1218, 1218, 1218, 1218, 1218, 121...</td>\n      <td>[1, 2, 2, 2, 2, 2, 2, 2, 2, 2, 2]</td>\n      <td>[122267, 119426, 118790, 119069, 118805, 11885...</td>\n      <td>[2024-01-01 19:46:51.16173+00, 2024-01-01 19:4...</td>\n      <td>[2024-01-01 23:05:52.039818+00, 2024-01-02 01:...</td>\n      <td>[2024-01-01 19:00:00+00, 2024-01-01 21:00:00+0...</td>\n      <td>[2024-01-02 01:00:00+00, 2024-01-02 04:00:00+0...</td>\n      <td>[55.6465393, 55.62296, 55.562168, 55.6381577, ...</td>\n      <td>[12.1522978, 12.615835, 12.576841, 12.6515491,...</td>\n      <td>[2024-01-01 23:05:58.283704+00, 2024-01-02 01:...</td>\n      <td>[3165, 3301, 537, 1830, 4879, 3305, 3305, 1642...</td>\n      <td>[1169, 965, 818, 1070, 1658, 1168, 1166, 888, ...</td>\n      <td>[Monday, Monday, Monday, Monday, Monday, Monda...</td>\n      <td>[True, False, False, False, False, False, Fals...</td>\n      <td>[2024-01-01, 2024-01-01, 2024-01-01, 2024-01-0...</td>\n    </tr>\n    <tr>\n      <th>...</th>\n      <td>...</td>\n      <td>...</td>\n      <td>...</td>\n      <td>...</td>\n      <td>...</td>\n      <td>...</td>\n      <td>...</td>\n      <td>...</td>\n      <td>...</td>\n      <td>...</td>\n      <td>...</td>\n      <td>...</td>\n      <td>...</td>\n      <td>...</td>\n      <td>...</td>\n      <td>...</td>\n    </tr>\n    <tr>\n      <th>27441</th>\n      <td>442393</td>\n      <td>[877, 877, 877, 877, 877, 877, 877]</td>\n      <td>[1, 2, 2, 2, 2, 2, 2]</td>\n      <td>[23977, 58941, 38726, 176478, 153920, 186237, ...</td>\n      <td>[2024-08-06 19:39:12.755331+00, 2024-08-06 19:...</td>\n      <td>[2024-08-07 13:31:50.711864+00, 2024-08-07 13:...</td>\n      <td>[2024-08-07 01:00:00+00, 2024-08-07 05:00:00+0...</td>\n      <td>[2024-08-07 14:00:00+00, 2024-08-07 11:00:00+0...</td>\n      <td>[60.007627, 59.923836, 59.93422, 59.811373, 59...</td>\n      <td>[11.047135, 10.814451, 10.800594, 10.80755, 10...</td>\n      <td>[2024-08-07 13:31:50.711869+00, 2024-08-07 13:...</td>\n      <td>[30, 3949, 4848, 4971, 2429, 45, 2313]</td>\n      <td>[10076, 8785, 9172, 7204, 6955, 5902, 7045]</td>\n      <td>[Tuesday, Tuesday, Tuesday, Tuesday, Tuesday, ...</td>\n      <td>[True, False, False, False, False, False, False]</td>\n      <td>[2024-08-06, 2024-08-06, 2024-08-06, 2024-08-0...</td>\n    </tr>\n    <tr>\n      <th>27442</th>\n      <td>443087</td>\n      <td>[1562, 1562, 1562, 1562, 1562, 1562, 1562, 156...</td>\n      <td>[1, 2, 2, 2, 2, 1, 2, 2, 1, 2, 2, 1, 2, 2, 2, ...</td>\n      <td>[163647, 173249, 179617, 180628, 160877, 16186...</td>\n      <td>[2024-08-07 01:23:02.437621+00, 2024-08-07 01:...</td>\n      <td>[2024-08-07 01:24:05.33254+00, 2024-08-07 03:3...</td>\n      <td>[2024-08-07 00:00:00+00, 2024-08-07 02:00:00+0...</td>\n      <td>[2024-08-07 16:00:00+00, 2024-08-07 04:00:00+0...</td>\n      <td>[56.0667627, 56.13472729999999, 56.1352239, 56...</td>\n      <td>[9.986944, 8.9884048, 8.9838423, 8.9810943, 8....</td>\n      <td>[2024-08-07 01:24:05.33256+00, 2024-08-07 03:3...</td>\n      <td>[39, 1071, 3823, 4365, 4365, 39, 3823, 3823, 4...</td>\n      <td>[3162, 3403, 3408, 3440, 3437, 3162, 3408, 338...</td>\n      <td>[Wednesday, Wednesday, Wednesday, Wednesday, W...</td>\n      <td>[True, True, False, False, False, False, False...</td>\n      <td>[2024-08-07, 2024-08-07, 2024-08-07, 2024-08-0...</td>\n    </tr>\n    <tr>\n      <th>27443</th>\n      <td>443092</td>\n      <td>[1417, 1417, 1417, 1417]</td>\n      <td>[1, 2, 1, 2]</td>\n      <td>[46452, 46955, 46452, 154273]</td>\n      <td>[2024-08-07 05:59:26.311221+00, 2024-08-07 05:...</td>\n      <td>[2024-08-07 06:38:14.810272+00, 2024-08-07 07:...</td>\n      <td>[2024-08-07 02:00:00+00, 2024-08-07 05:00:00+0...</td>\n      <td>[2024-08-07 20:00:00+00, 2024-08-07 07:00:00+0...</td>\n      <td>[59.805664, 59.795058, 59.805664, 59.948098894...</td>\n      <td>[10.290383, 10.279009, 10.290383, 10.771520299...</td>\n      <td>[2024-08-07 07:10:49.406797+00, 2024-08-07 07:...</td>\n      <td>[33, 2032, 33, 2852]</td>\n      <td>[7166, 7127, 7166, 9527]</td>\n      <td>[Wednesday, Wednesday, Wednesday, Wednesday]</td>\n      <td>[True, False, True, False]</td>\n      <td>[2024-08-07, 2024-08-07, 2024-08-07, 2024-08-07]</td>\n    </tr>\n    <tr>\n      <th>27444</th>\n      <td>443098</td>\n      <td>[874, 874]</td>\n      <td>[1, 2]</td>\n      <td>[23977, 135840]</td>\n      <td>[2024-08-07 05:42:45.306612+00, 2024-08-07 05:...</td>\n      <td>[2024-08-07 13:31:52.652071+00, 2024-08-07 13:...</td>\n      <td>[2024-08-07 01:00:00+00, 2024-08-07 05:00:00+00]</td>\n      <td>[2024-08-07 14:00:00+00, 2024-08-07 11:00:00+00]</td>\n      <td>[60.007627, 59.905421]</td>\n      <td>[11.047135, 10.618603]</td>\n      <td>[2024-08-07 13:31:52.652071+00, 2024-08-07 13:...</td>\n      <td>[30, 3836]</td>\n      <td>[10076, 7846]</td>\n      <td>[Wednesday, Wednesday]</td>\n      <td>[True, False]</td>\n      <td>[2024-08-07, 2024-08-07]</td>\n    </tr>\n    <tr>\n      <th>27445</th>\n      <td>443107</td>\n      <td>[723, 723, 723, 723, 723, 723, 723, 723, 723, ...</td>\n      <td>[1, 2, 2, 2, 2, 2, 2, 2, 2, 2, 1, 2]</td>\n      <td>[46452, 45160, 156665, 44587, 45161, 44634, 50...</td>\n      <td>[2024-08-07 08:27:45.361844+00, 2024-08-07 08:...</td>\n      <td>[2024-08-07 09:00:31.581115+00, 2024-08-07 10:...</td>\n      <td>[2024-08-07 02:00:00+00, 2024-08-07 06:00:00+0...</td>\n      <td>[2024-08-07 20:00:00+00, 2024-08-07 10:00:00+0...</td>\n      <td>[59.805664, 59.420838, 59.415188, 59.414098, 5...</td>\n      <td>[10.290383, 10.488199, 10.496616, 10.487423, 1...</td>\n      <td>[2024-08-07 09:00:39.885506+00, 2024-08-07 10:...</td>\n      <td>[33, 3225, 4361, 4473, 1308, 2346, 37, 3408, 4...</td>\n      <td>[7166, 5428, 5394, 5385, 5347, 4633, 4350, 431...</td>\n      <td>[Wednesday, Wednesday, Wednesday, Wednesday, W...</td>\n      <td>[True, False, False, False, False, False, Fals...</td>\n      <td>[2024-08-07, 2024-08-07, 2024-08-07, 2024-08-0...</td>\n    </tr>\n  </tbody>\n</table>\n<p>27446 rows × 16 columns</p>\n</div>"
     },
     "execution_count": 2,
     "metadata": {},
     "output_type": "execute_result"
    }
   ],
   "source": [
    "data_stops = pd.read_csv('data/uni_molde_v3.csv', sep=';')\n",
    "\n",
    "data_stops\n",
    "data_stops.loc[data_stops['stop_completed_at'].isna(), 'stop_completed_at'] = \"-1\"\n",
    "data_stops.loc[data_stops['stop_arrived_at'].isna(), 'stop_arrived_at'] = \"-1\"\n",
    "\n",
    "print(data_stops.isnull().sum())\n",
    "\n",
    "\n",
    "sorted_data_stops = data_stops.sort_values(by='stop_dispatched_at', ascending=True)\n",
    "sorted_data_stops = sorted_data_stops.reset_index(drop=True)\n",
    "sorted_data_stops['day_of_week'] = pd.to_datetime(sorted_data_stops['stop_dispatched_at']).dt.day_name()\n",
    "sorted_data_stops['date'] = pd.to_datetime(sorted_data_stops['stop_dispatched_at']).dt.date\n",
    "\n",
    "#clustering\n",
    "locations_df = sorted_data_stops[['current_lat', 'current_lng']]\n",
    "kmeans = KMeans(n_clusters=5000, random_state=42)\n",
    "kmeans.fit(locations_df)\n",
    "sorted_data_stops['cluster'] = kmeans.labels_ + 1\n",
    "\n",
    "sorted_data_stops['location_id_craft'] = sorted_data_stops.groupby(['current_lat', 'current_lng']).ngroup()+1\n",
    "with open('output.txt', 'w') as f:\n",
    "    print(sorted_data_stops.to_string(), file=f)\n",
    "print('number of groups', sorted_data_stops['location_id_craft'].nunique())\n",
    "\n",
    "# data_stops_day= sorted_data_stops[sorted_data_stops['day_of_week'] == \"Wednesday\"]\n",
    "grouped_df = sorted_data_stops.groupby('driver_workday_id')[['driver_id', 'location_type_id', 'address_id', 'stop_dispatched_at', 'stop_arrived_at', 'stop_earliest', 'stop_latest', 'current_lat', 'current_lng', 'stop_completed_at', 'cluster', 'location_id_craft','day_of_week', 'date', 'location_is_depot']].apply(lambda x: pd.Series({\n",
    "    'driver_id': x['driver_id'].tolist(),\n",
    "    'location_type_id': x['location_type_id'].tolist(),\n",
    "    'planned_route_location': x['address_id'].tolist(),\n",
    "    'stop_dispatched_at': x['stop_dispatched_at'].tolist(),\n",
    "    'stop_arrived_at': x['stop_arrived_at'].tolist(),\n",
    "    'stop_earliest': x['stop_earliest'].tolist(),\n",
    "    'stop_latest': x['stop_latest'].tolist(),\n",
    "    'current_lat': x['current_lat'].tolist(),\n",
    "    'current_lng': x['current_lng'].tolist(),\n",
    "    'stop_completed_at': x['stop_completed_at'].tolist(),\n",
    "    'planned_route_cluster': x['cluster'].tolist(),\n",
    "    'planned_route_craft': x['location_id_craft'].tolist(),\n",
    "    'day_of_week': x['day_of_week'].tolist(),\n",
    "    'location_is_depot': x['location_is_depot'].tolist(),\n",
    "    'date': x['date'].tolist()\n",
    "})).reset_index()\n",
    "grouped_df"
   ],
   "metadata": {
    "collapsed": false,
    "pycharm": {
     "name": "#%%\n"
    }
   }
  },
  {
   "cell_type": "code",
   "execution_count": 3,
   "outputs": [
    {
     "data": {
      "text/plain": "               stop_completed_at                stop_arrived_at  \\\n0  2024-01-02 11:10:52.185782+00  2024-01-02 11:10:51.209288+00   \n1  2024-01-02 11:10:52.185783+00  2024-01-02 11:10:51.209289+00   \n2  2024-01-02 11:10:52.178147+00   2024-01-02 11:10:51.03874+00   \n3  2024-01-02 11:10:52.178148+00  2024-01-02 11:10:51.038741+00   \n4  2024-01-02 08:39:35.128145+00  2024-01-02 07:45:25.310456+00   \n\n              stop_latest           stop_earliest  \\\n0  2024-01-02 22:59:00+00  2024-01-02 05:00:00+00   \n1  2024-01-02 22:59:00+00  2024-01-02 05:00:00+00   \n2  2024-01-02 21:00:00+00  2024-01-02 05:00:00+00   \n3  2024-01-02 21:00:00+00  2024-01-02 05:00:00+00   \n4  2024-01-02 21:00:00+00  2024-01-02 05:00:00+00   \n\n              stop_dispatched_at  location_id  location_type_id  \\\n0  2023-12-20 09:20:12.139397+00       104448                 1   \n1  2023-12-20 09:20:12.144071+00        86931                 2   \n2  2023-12-20 09:21:01.657773+00        86931                 1   \n3  2023-12-20 09:21:01.661233+00       148025                 2   \n4  2023-12-20 09:22:29.569837+00        86931                 1   \n\n   driver_workday_id  address_id  location_is_depot  ...  current_lat  \\\n0             299448       80079              False  ...    56.455617   \n1             299448       81843              False  ...    59.473000   \n2             299447       81843              False  ...    59.473000   \n3             299447      134404              False  ...    58.783764   \n4             299444       81843              False  ...    59.473000   \n\n   current_lng  prev_planned_lat  prev_planned_lng  prev_actual_lat  \\\n0    10.051820               NaN               NaN              NaN   \n1    10.318318         56.455617         10.051820        56.455617   \n2    10.318318               NaN               NaN              NaN   \n3     5.734901         59.473000         10.318318        59.473000   \n4    10.318318               NaN               NaN              NaN   \n\n   prev_actual_lng  day_of_week        date cluster  location_id_craft  \n0              NaN    Wednesday  2023-12-20    1499               4134  \n1        10.051820    Wednesday  2023-12-20     684               5561  \n2              NaN    Wednesday  2023-12-20     684               5561  \n3        10.318318    Wednesday  2023-12-20      55               4265  \n4              NaN    Wednesday  2023-12-20     684               5561  \n\n[5 rows x 21 columns]",
      "text/html": "<div>\n<style scoped>\n    .dataframe tbody tr th:only-of-type {\n        vertical-align: middle;\n    }\n\n    .dataframe tbody tr th {\n        vertical-align: top;\n    }\n\n    .dataframe thead th {\n        text-align: right;\n    }\n</style>\n<table border=\"1\" class=\"dataframe\">\n  <thead>\n    <tr style=\"text-align: right;\">\n      <th></th>\n      <th>stop_completed_at</th>\n      <th>stop_arrived_at</th>\n      <th>stop_latest</th>\n      <th>stop_earliest</th>\n      <th>stop_dispatched_at</th>\n      <th>location_id</th>\n      <th>location_type_id</th>\n      <th>driver_workday_id</th>\n      <th>address_id</th>\n      <th>location_is_depot</th>\n      <th>...</th>\n      <th>current_lat</th>\n      <th>current_lng</th>\n      <th>prev_planned_lat</th>\n      <th>prev_planned_lng</th>\n      <th>prev_actual_lat</th>\n      <th>prev_actual_lng</th>\n      <th>day_of_week</th>\n      <th>date</th>\n      <th>cluster</th>\n      <th>location_id_craft</th>\n    </tr>\n  </thead>\n  <tbody>\n    <tr>\n      <th>0</th>\n      <td>2024-01-02 11:10:52.185782+00</td>\n      <td>2024-01-02 11:10:51.209288+00</td>\n      <td>2024-01-02 22:59:00+00</td>\n      <td>2024-01-02 05:00:00+00</td>\n      <td>2023-12-20 09:20:12.139397+00</td>\n      <td>104448</td>\n      <td>1</td>\n      <td>299448</td>\n      <td>80079</td>\n      <td>False</td>\n      <td>...</td>\n      <td>56.455617</td>\n      <td>10.051820</td>\n      <td>NaN</td>\n      <td>NaN</td>\n      <td>NaN</td>\n      <td>NaN</td>\n      <td>Wednesday</td>\n      <td>2023-12-20</td>\n      <td>1499</td>\n      <td>4134</td>\n    </tr>\n    <tr>\n      <th>1</th>\n      <td>2024-01-02 11:10:52.185783+00</td>\n      <td>2024-01-02 11:10:51.209289+00</td>\n      <td>2024-01-02 22:59:00+00</td>\n      <td>2024-01-02 05:00:00+00</td>\n      <td>2023-12-20 09:20:12.144071+00</td>\n      <td>86931</td>\n      <td>2</td>\n      <td>299448</td>\n      <td>81843</td>\n      <td>False</td>\n      <td>...</td>\n      <td>59.473000</td>\n      <td>10.318318</td>\n      <td>56.455617</td>\n      <td>10.051820</td>\n      <td>56.455617</td>\n      <td>10.051820</td>\n      <td>Wednesday</td>\n      <td>2023-12-20</td>\n      <td>684</td>\n      <td>5561</td>\n    </tr>\n    <tr>\n      <th>2</th>\n      <td>2024-01-02 11:10:52.178147+00</td>\n      <td>2024-01-02 11:10:51.03874+00</td>\n      <td>2024-01-02 21:00:00+00</td>\n      <td>2024-01-02 05:00:00+00</td>\n      <td>2023-12-20 09:21:01.657773+00</td>\n      <td>86931</td>\n      <td>1</td>\n      <td>299447</td>\n      <td>81843</td>\n      <td>False</td>\n      <td>...</td>\n      <td>59.473000</td>\n      <td>10.318318</td>\n      <td>NaN</td>\n      <td>NaN</td>\n      <td>NaN</td>\n      <td>NaN</td>\n      <td>Wednesday</td>\n      <td>2023-12-20</td>\n      <td>684</td>\n      <td>5561</td>\n    </tr>\n    <tr>\n      <th>3</th>\n      <td>2024-01-02 11:10:52.178148+00</td>\n      <td>2024-01-02 11:10:51.038741+00</td>\n      <td>2024-01-02 21:00:00+00</td>\n      <td>2024-01-02 05:00:00+00</td>\n      <td>2023-12-20 09:21:01.661233+00</td>\n      <td>148025</td>\n      <td>2</td>\n      <td>299447</td>\n      <td>134404</td>\n      <td>False</td>\n      <td>...</td>\n      <td>58.783764</td>\n      <td>5.734901</td>\n      <td>59.473000</td>\n      <td>10.318318</td>\n      <td>59.473000</td>\n      <td>10.318318</td>\n      <td>Wednesday</td>\n      <td>2023-12-20</td>\n      <td>55</td>\n      <td>4265</td>\n    </tr>\n    <tr>\n      <th>4</th>\n      <td>2024-01-02 08:39:35.128145+00</td>\n      <td>2024-01-02 07:45:25.310456+00</td>\n      <td>2024-01-02 21:00:00+00</td>\n      <td>2024-01-02 05:00:00+00</td>\n      <td>2023-12-20 09:22:29.569837+00</td>\n      <td>86931</td>\n      <td>1</td>\n      <td>299444</td>\n      <td>81843</td>\n      <td>False</td>\n      <td>...</td>\n      <td>59.473000</td>\n      <td>10.318318</td>\n      <td>NaN</td>\n      <td>NaN</td>\n      <td>NaN</td>\n      <td>NaN</td>\n      <td>Wednesday</td>\n      <td>2023-12-20</td>\n      <td>684</td>\n      <td>5561</td>\n    </tr>\n  </tbody>\n</table>\n<p>5 rows × 21 columns</p>\n</div>"
     },
     "execution_count": 3,
     "metadata": {},
     "output_type": "execute_result"
    }
   ],
   "source": [
    "sorted_data_stops.head()"
   ],
   "metadata": {
    "collapsed": false,
    "pycharm": {
     "name": "#%%\n"
    }
   }
  },
  {
   "cell_type": "code",
   "execution_count": 4,
   "outputs": [
    {
     "data": {
      "text/plain": "20692"
     },
     "execution_count": 4,
     "metadata": {},
     "output_type": "execute_result"
    }
   ],
   "source": [
    "# Remove routes where dispatching after the route has been started\n",
    "routes = grouped_df[grouped_df.apply(lambda row: max(row['stop_dispatched_at']) < min(row['stop_completed_at']), axis=1)]\n",
    "routes = routes.reset_index(drop=True)\n",
    "len(routes)"
   ],
   "metadata": {
    "collapsed": false,
    "pycharm": {
     "name": "#%%\n"
    }
   }
  },
  {
   "cell_type": "code",
   "execution_count": 5,
   "outputs": [
    {
     "name": "stdout",
     "output_type": "stream",
     "text": [
      "The number of routes where one value is NA(arrived time) 23\n",
      "[1187, 1464, 1688, 1746, 2113, 3424, 3880, 4471, 4974, 5098, 5172, 5182, 5540, 5787, 6476, 7626, 10793, 11161, 11621, 13845, 17739, 19786, 20033]\n",
      "20669\n"
     ]
    }
   ],
   "source": [
    "# Remove routes with NA values (was encoded as -1)\n",
    "index_routes_with_na = []\n",
    "for i in range(len(routes)):\n",
    "    row = routes.iloc[i]\n",
    "    if \"-1\" in row['stop_arrived_at']:\n",
    "        index_routes_with_na.append(i)\n",
    "print(\"The number of routes where one value is NA(arrived time)\", len(index_routes_with_na))\n",
    "print(index_routes_with_na)\n",
    "routes = routes.drop(index_routes_with_na)\n",
    "routes.reset_index(drop=True)\n",
    "#\n",
    "print(len(routes))"
   ],
   "metadata": {
    "collapsed": false,
    "pycharm": {
     "name": "#%%\n"
    }
   }
  },
  {
   "cell_type": "code",
   "execution_count": 6,
   "outputs": [],
   "source": [
    "#check if it is the same driver in the route\n",
    "def get_mode(x):\n",
    "    return pd.Series(x).mode().iloc[0] if not pd.Series(x).mode().empty else np.nan\n",
    "\n",
    "# Test (check that driver_ids are the same in one route)\n",
    "\n",
    "for i in routes['driver_id']:\n",
    "    if not all(x == i[0] for x in i):\n",
    "            print('Not the same driver in the route')\n",
    "routes['driver_id'] = routes['driver_id'].apply(lambda x : x[0])\n",
    "\n",
    "routes['day_of_week'] = routes['day_of_week'].apply(get_mode)\n",
    "routes['date'] = routes['date'].apply(get_mode)\n",
    "\n",
    "routes['date'] = pd.to_datetime(routes['date'])\n",
    "routes['last_two_weeks_count'] = routes.apply(lambda row:\n",
    "                                      routes[(routes['driver_id'] == row['driver_id']) &\n",
    "                                         (row['date'] - routes['date']).dt.days.between(-14, 0)].shape[0],\n",
    "                                      axis=1)\n",
    "routes = routes[(routes['date'] < '2023-12-21') | (routes['date'] > '2024-01-14')]\n",
    "routes['location_type_id'] = routes['location_type_id'].apply(lambda x: [0 if i == 1 else 1 for i in x])\n",
    "routes['location_is_depot'] = routes['location_is_depot'].apply(lambda x: [int(value) for value in x])\n",
    "\n",
    "routes = routes[routes['planned_route_craft'].apply(lambda x: len(x) > 2)]\n",
    "routes = routes.reset_index(drop=True)"
   ],
   "metadata": {
    "collapsed": false,
    "pycharm": {
     "name": "#%%\n"
    }
   }
  },
  {
   "cell_type": "code",
   "execution_count": 7,
   "outputs": [
    {
     "data": {
      "text/plain": "       driver_workday_id  driver_id  \\\n7                 305777       1184   \n11                305822       1222   \n13                306381       1190   \n22                306394       1193   \n24                306396       1208   \n...                  ...        ...   \n18551             442354        290   \n18553             442382       1658   \n18554             442383       1243   \n18555             442386       1520   \n18560             443092       1417   \n\n                                        location_type_id  \\\n7       [0, 1, 0, 1, 1, 1, 1, 1, 1, 1, 1, 1, 1, 1, 1, 1]   \n11               [0, 0, 1, 1, 1, 1, 1, 1, 1, 1, 1, 1, 1]   \n13                                       [0, 1, 1, 0, 1]   \n22            [0, 1, 1, 1, 0, 1, 0, 1, 1, 1, 1, 0, 1, 1]   \n24     [0, 1, 1, 1, 1, 1, 1, 1, 1, 1, 1, 1, 1, 1, 1, ...   \n...                                                  ...   \n18551                           [0, 1, 1, 1, 0, 1, 1, 1]   \n18553         [0, 1, 1, 1, 0, 1, 1, 1, 1, 1, 1, 1, 1, 1]   \n18554  [0, 1, 1, 1, 1, 1, 1, 1, 0, 0, 1, 1, 1, 1, 1, ...   \n18555  [0, 1, 1, 1, 1, 1, 0, 1, 1, 1, 1, 1, 1, 1, 1, ...   \n18560                                       [0, 1, 0, 1]   \n\n                                  planned_route_location  \\\n7      [153184, 149629, 153184, 133530, 126197, 12617...   \n11     [153184, 153184, 126299, 133416, 133416, 12722...   \n13              [153184, 118473, 118476, 144329, 153184]   \n22     [153184, 119965, 118462, 118782, 153184, 12626...   \n24     [153184, 118551, 120151, 118602, 118569, 11904...   \n...                                                  ...   \n18551  [24927, 24953, 158094, 25021, 24927, 25032, 25...   \n18553  [153184, 119516, 118968, 163781, 163781, 12056...   \n18554  [153184, 126201, 133371, 159132, 126218, 13362...   \n18555  [163647, 160704, 162824, 161803, 163817, 16203...   \n18560                      [46452, 46955, 46452, 154273]   \n\n                                      stop_dispatched_at  \\\n7      [2024-01-15 01:00:55.998747+00, 2024-01-15 01:...   \n11     [2024-01-15 20:18:10.752813+00, 2024-01-15 20:...   \n13     [2024-01-23 10:42:01.731+00, 2024-01-23 10:42:...   \n22     [2024-01-15 23:57:51.582139+00, 2024-01-15 23:...   \n24     [2024-01-15 23:32:24.727186+00, 2024-01-15 23:...   \n...                                                  ...   \n18551  [2024-08-06 07:50:29.678714+00, 2024-08-06 07:...   \n18553  [2024-08-06 23:09:43.069421+00, 2024-08-07 00:...   \n18554  [2024-08-06 23:09:47.587529+00, 2024-08-06 23:...   \n18555  [2024-08-06 23:09:03.798004+00, 2024-08-06 23:...   \n18560  [2024-08-07 05:59:26.311221+00, 2024-08-07 05:...   \n\n                                         stop_arrived_at  \\\n7      [2024-01-15 02:30:31.162054+00, 2024-01-15 03:...   \n11     [2024-01-15 22:32:59.762652+00, 2024-01-15 22:...   \n13     [2024-01-23 10:49:20.166468+00, 2024-01-23 10:...   \n22     [2024-01-16 02:56:53.195248+00, 2024-01-16 04:...   \n24     [2024-01-16 03:16:27.520502+00, 2024-01-16 03:...   \n...                                                  ...   \n18551  [2024-08-07 05:34:13.327006+00, 2024-08-07 06:...   \n18553  [2024-08-07 02:40:13.728229+00, 2024-08-07 04:...   \n18554  [2024-08-06 23:28:28.870578+00, 2024-08-07 02:...   \n18555  [2024-08-07 01:55:50.864283+00, 2024-08-07 02:...   \n18560  [2024-08-07 06:38:14.810272+00, 2024-08-07 07:...   \n\n                                           stop_earliest  \\\n7      [2024-01-15 00:00:00+00, 2024-01-15 02:00:00+0...   \n11     [2024-01-15 19:00:00+00, 2024-01-15 19:00:00+0...   \n13     [2024-01-16 00:00:00+00, 2024-01-16 05:00:00+0...   \n22     [2024-01-16 00:00:00+00, 2024-01-16 04:00:00+0...   \n24     [2024-01-16 00:00:00+00, 2024-01-16 04:00:00+0...   \n...                                                  ...   \n18551  [2024-08-07 01:00:00+00, 2024-08-07 06:15:00+0...   \n18553  [2024-08-06 23:00:00+00, 2024-08-07 04:00:00+0...   \n18554  [2024-08-06 23:00:00+00, 2024-08-07 03:30:00+0...   \n18555  [2024-08-07 00:00:00+00, 2024-08-07 02:00:00+0...   \n18560  [2024-08-07 02:00:00+00, 2024-08-07 05:00:00+0...   \n\n                                             stop_latest  \\\n7      [2024-01-15 05:00:00+00, 2024-01-15 05:00:00+0...   \n11     [2024-01-16 01:00:00+00, 2024-01-16 01:00:00+0...   \n13     [2024-01-16 22:00:00+00, 2024-01-16 11:00:00+0...   \n22     [2024-01-16 22:00:00+00, 2024-01-16 06:00:00+0...   \n24     [2024-01-16 22:00:00+00, 2024-01-16 06:00:00+0...   \n...                                                  ...   \n18551  [2024-08-07 16:00:00+00, 2024-08-07 08:15:00+0...   \n18553  [2024-08-07 14:00:00+00, 2024-08-07 06:00:00+0...   \n18554  [2024-08-07 14:00:00+00, 2024-08-07 10:30:00+0...   \n18555  [2024-08-07 16:00:00+00, 2024-08-07 05:00:00+0...   \n18560  [2024-08-07 20:00:00+00, 2024-08-07 07:00:00+0...   \n\n                                             current_lat  \\\n7      [55.64641920439919, 55.32612200000001, 55.6464...   \n11     [55.64641920439919, 55.64641920439919, 55.7084...   \n13     [55.64641920439919, 55.6487125, 55.6163424, 55...   \n22     [55.64641920439919, 55.680064, 55.67597, 55.67...   \n24     [55.64641920439919, 55.659909, 55.667373, 55.6...   \n...                                                  ...   \n18551  [59.98883, 59.874914, 59.905434, 59.910636, 59...   \n18553  [55.64641920439919, 54.83743, 54.915425, 54.84...   \n18554  [55.64641920439919, 54.6603213, 54.696715, 54....   \n18555  [56.0667627, 56.1004096, 56.117045, 56.117045,...   \n18560  [59.805664, 59.795058, 59.805664, 59.948098894...   \n\n                                             current_lng  \\\n7      [12.15372974969827, 11.9560479, 12.15372974969...   \n11     [12.15372974969827, 12.15372974969827, 12.5917...   \n13     [12.15372974969827, 12.1307559, 12.3275461, 12...   \n22     [12.15372974969827, 12.591503, 12.559307, 12.5...   \n24     [12.15372974969827, 12.299289, 12.438708, 12.3...   \n...                                                  ...   \n18551  [10.947692, 10.810462, 10.759455, 10.725937, 1...   \n18553  [12.15372974969827, 11.4762, 11.35596, 11.2352...   \n18554  [12.15372974969827, 11.734435, 11.629326, 11.5...   \n18555  [9.986944, 10.0686046, 10.1408688, 10.1408688,...   \n18560  [10.290383, 10.279009, 10.290383, 10.771520299...   \n\n                                       stop_completed_at  \\\n7      [2024-01-15 02:30:39.234141+00, 2024-01-15 03:...   \n11     [2024-01-15 22:33:08.599355+00, 2024-01-15 22:...   \n13     [2024-01-23 10:49:20.166469+00, 2024-01-23 10:...   \n22     [2024-01-16 09:19:36.924514+00, 2024-01-16 09:...   \n24     [2024-01-16 03:16:44.779308+00, 2024-01-16 03:...   \n...                                                  ...   \n18551  [2024-08-07 06:02:35.310246+00, 2024-08-07 07:...   \n18553  [2024-08-07 02:40:50.261824+00, 2024-08-07 04:...   \n18554  [2024-08-07 01:01:02.779507+00, 2024-08-07 03:...   \n18555  [2024-08-07 01:56:20.459562+00, 2024-08-07 02:...   \n18560  [2024-08-07 07:10:49.406797+00, 2024-08-07 07:...   \n\n                                   planned_route_cluster  \\\n7      [147, 4285, 147, 550, 2257, 323, 1777, 191, 17...   \n11     [147, 147, 2116, 2116, 2116, 2116, 4914, 579, ...   \n13                          [147, 2954, 2738, 4334, 147]   \n22     [147, 4217, 2338, 4309, 147, 1178, 147, 1543, ...   \n24     [147, 2970, 2940, 956, 2051, 375, 1413, 2769, ...   \n...                                                  ...   \n18551      [525, 907, 4579, 4590, 525, 2930, 2266, 3001]   \n18553  [147, 642, 330, 378, 378, 378, 1089, 387, 2402...   \n18554  [147, 2045, 1190, 390, 411, 131, 1947, 4030, 1...   \n18555  [39, 370, 1929, 1929, 2354, 1955, 1997, 1997, ...   \n18560                               [33, 2032, 33, 2852]   \n\n                                     planned_route_craft day_of_week  \\\n7      [1167, 574, 1167, 523, 473, 462, 444, 400, 190...      Monday   \n11     [1167, 1167, 1905, 1914, 1914, 1912, 2084, 215...      Monday   \n13                         [1167, 1194, 947, 1797, 1167]     Tuesday   \n22     [1167, 1646, 1562, 1614, 1167, 1254, 1167, 217...     Tuesday   \n24     [1167, 1329, 1411, 1732, 1424, 1441, 1508, 130...      Monday   \n...                                                  ...         ...   \n18551  [10001, 7554, 7847, 8053, 10001, 9389, 9909, 9...     Tuesday   \n18553  [1167, 166, 188, 170, 170, 171, 168, 157, 151,...   Wednesday   \n18554  [1167, 15, 35, 38, 41, 91, 102, 90, 1167, 90, ...     Tuesday   \n18555  [3162, 3240, 3295, 3295, 3243, 3280, 3327, 332...     Tuesday   \n18560                           [7166, 7127, 7166, 9527]   Wednesday   \n\n                                       location_is_depot       date  \\\n7       [1, 0, 1, 0, 0, 0, 0, 0, 0, 0, 0, 0, 0, 0, 0, 0] 2024-01-15   \n11               [1, 1, 0, 0, 0, 0, 0, 0, 0, 0, 0, 0, 0] 2024-01-15   \n13                                       [1, 0, 0, 0, 1] 2024-01-23   \n22            [1, 0, 0, 0, 1, 0, 1, 0, 0, 0, 0, 1, 0, 0] 2024-01-16   \n24     [1, 0, 0, 0, 0, 0, 0, 0, 0, 0, 0, 0, 0, 0, 0, ... 2024-01-15   \n...                                                  ...        ...   \n18551                           [1, 0, 0, 0, 1, 0, 0, 0] 2024-08-06   \n18553         [1, 0, 0, 0, 0, 0, 0, 0, 0, 0, 0, 0, 0, 1] 2024-08-07   \n18554  [1, 0, 0, 0, 0, 0, 0, 0, 1, 0, 0, 0, 0, 0, 0, ... 2024-08-06   \n18555  [1, 0, 0, 0, 0, 0, 0, 0, 0, 0, 0, 0, 0, 0, 0, ... 2024-08-06   \n18560                                       [1, 0, 1, 0] 2024-08-07   \n\n       last_two_weeks_count  \\\n7                         8   \n11                        8   \n13                        2   \n22                        2   \n24                        8   \n...                     ...   \n18551                     1   \n18553                     1   \n18554                     2   \n18555                     1   \n18560                     1   \n\n                                   actual_route_location  \\\n7      [1167, 1167, 574, 523, 473, 462, 444, 400, 190...   \n11     [1167, 1167, 2158, 2094, 2152, 2093, 2084, 191...   \n13                         [1167, 1194, 947, 1797, 1167]   \n22     [1167, 1646, 1614, 1562, 1167, 1254, 1167, 228...   \n24     [1167, 1329, 1472, 1424, 1441, 1732, 1411, 152...   \n...                                                  ...   \n18551  [10001, 7554, 7847, 8053, 10001, 9389, 9909, 9...   \n18553  [1167, 166, 188, 170, 170, 171, 168, 157, 151,...   \n18554  [1167, 35, 38, 41, 91, 102, 90, 1167, 15, 90, ...   \n18555  [3162, 3295, 3243, 3295, 3240, 3327, 3258, 324...   \n18560                           [7166, 7166, 7127, 9527]   \n\n                                       actual_route_type  \n7       [0, 0, 1, 1, 1, 1, 1, 1, 1, 1, 1, 1, 1, 1, 1, 1]  \n11               [0, 0, 1, 1, 1, 1, 1, 1, 1, 1, 1, 1, 1]  \n13                                       [0, 1, 1, 0, 1]  \n22            [0, 1, 1, 1, 0, 1, 0, 1, 1, 1, 1, 1, 1, 0]  \n24     [0, 1, 1, 1, 1, 1, 1, 1, 1, 1, 1, 1, 1, 1, 1, ...  \n...                                                  ...  \n18551                           [0, 1, 1, 1, 0, 1, 1, 1]  \n18553         [0, 1, 1, 1, 0, 1, 1, 1, 1, 1, 1, 1, 1, 1]  \n18554  [0, 1, 1, 1, 1, 1, 1, 0, 1, 0, 1, 1, 1, 1, 1, ...  \n18555  [0, 1, 1, 1, 1, 1, 1, 1, 0, 1, 0, 1, 1, 1, 1, ...  \n18560                                       [0, 0, 1, 1]  \n\n[6322 rows x 19 columns]",
      "text/html": "<div>\n<style scoped>\n    .dataframe tbody tr th:only-of-type {\n        vertical-align: middle;\n    }\n\n    .dataframe tbody tr th {\n        vertical-align: top;\n    }\n\n    .dataframe thead th {\n        text-align: right;\n    }\n</style>\n<table border=\"1\" class=\"dataframe\">\n  <thead>\n    <tr style=\"text-align: right;\">\n      <th></th>\n      <th>driver_workday_id</th>\n      <th>driver_id</th>\n      <th>location_type_id</th>\n      <th>planned_route_location</th>\n      <th>stop_dispatched_at</th>\n      <th>stop_arrived_at</th>\n      <th>stop_earliest</th>\n      <th>stop_latest</th>\n      <th>current_lat</th>\n      <th>current_lng</th>\n      <th>stop_completed_at</th>\n      <th>planned_route_cluster</th>\n      <th>planned_route_craft</th>\n      <th>day_of_week</th>\n      <th>location_is_depot</th>\n      <th>date</th>\n      <th>last_two_weeks_count</th>\n      <th>actual_route_location</th>\n      <th>actual_route_type</th>\n    </tr>\n  </thead>\n  <tbody>\n    <tr>\n      <th>7</th>\n      <td>305777</td>\n      <td>1184</td>\n      <td>[0, 1, 0, 1, 1, 1, 1, 1, 1, 1, 1, 1, 1, 1, 1, 1]</td>\n      <td>[153184, 149629, 153184, 133530, 126197, 12617...</td>\n      <td>[2024-01-15 01:00:55.998747+00, 2024-01-15 01:...</td>\n      <td>[2024-01-15 02:30:31.162054+00, 2024-01-15 03:...</td>\n      <td>[2024-01-15 00:00:00+00, 2024-01-15 02:00:00+0...</td>\n      <td>[2024-01-15 05:00:00+00, 2024-01-15 05:00:00+0...</td>\n      <td>[55.64641920439919, 55.32612200000001, 55.6464...</td>\n      <td>[12.15372974969827, 11.9560479, 12.15372974969...</td>\n      <td>[2024-01-15 02:30:39.234141+00, 2024-01-15 03:...</td>\n      <td>[147, 4285, 147, 550, 2257, 323, 1777, 191, 17...</td>\n      <td>[1167, 574, 1167, 523, 473, 462, 444, 400, 190...</td>\n      <td>Monday</td>\n      <td>[1, 0, 1, 0, 0, 0, 0, 0, 0, 0, 0, 0, 0, 0, 0, 0]</td>\n      <td>2024-01-15</td>\n      <td>8</td>\n      <td>[1167, 1167, 574, 523, 473, 462, 444, 400, 190...</td>\n      <td>[0, 0, 1, 1, 1, 1, 1, 1, 1, 1, 1, 1, 1, 1, 1, 1]</td>\n    </tr>\n    <tr>\n      <th>11</th>\n      <td>305822</td>\n      <td>1222</td>\n      <td>[0, 0, 1, 1, 1, 1, 1, 1, 1, 1, 1, 1, 1]</td>\n      <td>[153184, 153184, 126299, 133416, 133416, 12722...</td>\n      <td>[2024-01-15 20:18:10.752813+00, 2024-01-15 20:...</td>\n      <td>[2024-01-15 22:32:59.762652+00, 2024-01-15 22:...</td>\n      <td>[2024-01-15 19:00:00+00, 2024-01-15 19:00:00+0...</td>\n      <td>[2024-01-16 01:00:00+00, 2024-01-16 01:00:00+0...</td>\n      <td>[55.64641920439919, 55.64641920439919, 55.7084...</td>\n      <td>[12.15372974969827, 12.15372974969827, 12.5917...</td>\n      <td>[2024-01-15 22:33:08.599355+00, 2024-01-15 22:...</td>\n      <td>[147, 147, 2116, 2116, 2116, 2116, 4914, 579, ...</td>\n      <td>[1167, 1167, 1905, 1914, 1914, 1912, 2084, 215...</td>\n      <td>Monday</td>\n      <td>[1, 1, 0, 0, 0, 0, 0, 0, 0, 0, 0, 0, 0]</td>\n      <td>2024-01-15</td>\n      <td>8</td>\n      <td>[1167, 1167, 2158, 2094, 2152, 2093, 2084, 191...</td>\n      <td>[0, 0, 1, 1, 1, 1, 1, 1, 1, 1, 1, 1, 1]</td>\n    </tr>\n    <tr>\n      <th>13</th>\n      <td>306381</td>\n      <td>1190</td>\n      <td>[0, 1, 1, 0, 1]</td>\n      <td>[153184, 118473, 118476, 144329, 153184]</td>\n      <td>[2024-01-23 10:42:01.731+00, 2024-01-23 10:42:...</td>\n      <td>[2024-01-23 10:49:20.166468+00, 2024-01-23 10:...</td>\n      <td>[2024-01-16 00:00:00+00, 2024-01-16 05:00:00+0...</td>\n      <td>[2024-01-16 22:00:00+00, 2024-01-16 11:00:00+0...</td>\n      <td>[55.64641920439919, 55.6487125, 55.6163424, 55...</td>\n      <td>[12.15372974969827, 12.1307559, 12.3275461, 12...</td>\n      <td>[2024-01-23 10:49:20.166469+00, 2024-01-23 10:...</td>\n      <td>[147, 2954, 2738, 4334, 147]</td>\n      <td>[1167, 1194, 947, 1797, 1167]</td>\n      <td>Tuesday</td>\n      <td>[1, 0, 0, 0, 1]</td>\n      <td>2024-01-23</td>\n      <td>2</td>\n      <td>[1167, 1194, 947, 1797, 1167]</td>\n      <td>[0, 1, 1, 0, 1]</td>\n    </tr>\n    <tr>\n      <th>22</th>\n      <td>306394</td>\n      <td>1193</td>\n      <td>[0, 1, 1, 1, 0, 1, 0, 1, 1, 1, 1, 0, 1, 1]</td>\n      <td>[153184, 119965, 118462, 118782, 153184, 12626...</td>\n      <td>[2024-01-15 23:57:51.582139+00, 2024-01-15 23:...</td>\n      <td>[2024-01-16 02:56:53.195248+00, 2024-01-16 04:...</td>\n      <td>[2024-01-16 00:00:00+00, 2024-01-16 04:00:00+0...</td>\n      <td>[2024-01-16 22:00:00+00, 2024-01-16 06:00:00+0...</td>\n      <td>[55.64641920439919, 55.680064, 55.67597, 55.67...</td>\n      <td>[12.15372974969827, 12.591503, 12.559307, 12.5...</td>\n      <td>[2024-01-16 09:19:36.924514+00, 2024-01-16 09:...</td>\n      <td>[147, 4217, 2338, 4309, 147, 1178, 147, 1543, ...</td>\n      <td>[1167, 1646, 1562, 1614, 1167, 1254, 1167, 217...</td>\n      <td>Tuesday</td>\n      <td>[1, 0, 0, 0, 1, 0, 1, 0, 0, 0, 0, 1, 0, 0]</td>\n      <td>2024-01-16</td>\n      <td>2</td>\n      <td>[1167, 1646, 1614, 1562, 1167, 1254, 1167, 228...</td>\n      <td>[0, 1, 1, 1, 0, 1, 0, 1, 1, 1, 1, 1, 1, 0]</td>\n    </tr>\n    <tr>\n      <th>24</th>\n      <td>306396</td>\n      <td>1208</td>\n      <td>[0, 1, 1, 1, 1, 1, 1, 1, 1, 1, 1, 1, 1, 1, 1, ...</td>\n      <td>[153184, 118551, 120151, 118602, 118569, 11904...</td>\n      <td>[2024-01-15 23:32:24.727186+00, 2024-01-15 23:...</td>\n      <td>[2024-01-16 03:16:27.520502+00, 2024-01-16 03:...</td>\n      <td>[2024-01-16 00:00:00+00, 2024-01-16 04:00:00+0...</td>\n      <td>[2024-01-16 22:00:00+00, 2024-01-16 06:00:00+0...</td>\n      <td>[55.64641920439919, 55.659909, 55.667373, 55.6...</td>\n      <td>[12.15372974969827, 12.299289, 12.438708, 12.3...</td>\n      <td>[2024-01-16 03:16:44.779308+00, 2024-01-16 03:...</td>\n      <td>[147, 2970, 2940, 956, 2051, 375, 1413, 2769, ...</td>\n      <td>[1167, 1329, 1411, 1732, 1424, 1441, 1508, 130...</td>\n      <td>Monday</td>\n      <td>[1, 0, 0, 0, 0, 0, 0, 0, 0, 0, 0, 0, 0, 0, 0, ...</td>\n      <td>2024-01-15</td>\n      <td>8</td>\n      <td>[1167, 1329, 1472, 1424, 1441, 1732, 1411, 152...</td>\n      <td>[0, 1, 1, 1, 1, 1, 1, 1, 1, 1, 1, 1, 1, 1, 1, ...</td>\n    </tr>\n    <tr>\n      <th>...</th>\n      <td>...</td>\n      <td>...</td>\n      <td>...</td>\n      <td>...</td>\n      <td>...</td>\n      <td>...</td>\n      <td>...</td>\n      <td>...</td>\n      <td>...</td>\n      <td>...</td>\n      <td>...</td>\n      <td>...</td>\n      <td>...</td>\n      <td>...</td>\n      <td>...</td>\n      <td>...</td>\n      <td>...</td>\n      <td>...</td>\n      <td>...</td>\n    </tr>\n    <tr>\n      <th>18551</th>\n      <td>442354</td>\n      <td>290</td>\n      <td>[0, 1, 1, 1, 0, 1, 1, 1]</td>\n      <td>[24927, 24953, 158094, 25021, 24927, 25032, 25...</td>\n      <td>[2024-08-06 07:50:29.678714+00, 2024-08-06 07:...</td>\n      <td>[2024-08-07 05:34:13.327006+00, 2024-08-07 06:...</td>\n      <td>[2024-08-07 01:00:00+00, 2024-08-07 06:15:00+0...</td>\n      <td>[2024-08-07 16:00:00+00, 2024-08-07 08:15:00+0...</td>\n      <td>[59.98883, 59.874914, 59.905434, 59.910636, 59...</td>\n      <td>[10.947692, 10.810462, 10.759455, 10.725937, 1...</td>\n      <td>[2024-08-07 06:02:35.310246+00, 2024-08-07 07:...</td>\n      <td>[525, 907, 4579, 4590, 525, 2930, 2266, 3001]</td>\n      <td>[10001, 7554, 7847, 8053, 10001, 9389, 9909, 9...</td>\n      <td>Tuesday</td>\n      <td>[1, 0, 0, 0, 1, 0, 0, 0]</td>\n      <td>2024-08-06</td>\n      <td>1</td>\n      <td>[10001, 7554, 7847, 8053, 10001, 9389, 9909, 9...</td>\n      <td>[0, 1, 1, 1, 0, 1, 1, 1]</td>\n    </tr>\n    <tr>\n      <th>18553</th>\n      <td>442382</td>\n      <td>1658</td>\n      <td>[0, 1, 1, 1, 0, 1, 1, 1, 1, 1, 1, 1, 1, 1]</td>\n      <td>[153184, 119516, 118968, 163781, 163781, 12056...</td>\n      <td>[2024-08-06 23:09:43.069421+00, 2024-08-07 00:...</td>\n      <td>[2024-08-07 02:40:13.728229+00, 2024-08-07 04:...</td>\n      <td>[2024-08-06 23:00:00+00, 2024-08-07 04:00:00+0...</td>\n      <td>[2024-08-07 14:00:00+00, 2024-08-07 06:00:00+0...</td>\n      <td>[55.64641920439919, 54.83743, 54.915425, 54.84...</td>\n      <td>[12.15372974969827, 11.4762, 11.35596, 11.2352...</td>\n      <td>[2024-08-07 02:40:50.261824+00, 2024-08-07 04:...</td>\n      <td>[147, 642, 330, 378, 378, 378, 1089, 387, 2402...</td>\n      <td>[1167, 166, 188, 170, 170, 171, 168, 157, 151,...</td>\n      <td>Wednesday</td>\n      <td>[1, 0, 0, 0, 0, 0, 0, 0, 0, 0, 0, 0, 0, 1]</td>\n      <td>2024-08-07</td>\n      <td>1</td>\n      <td>[1167, 166, 188, 170, 170, 171, 168, 157, 151,...</td>\n      <td>[0, 1, 1, 1, 0, 1, 1, 1, 1, 1, 1, 1, 1, 1]</td>\n    </tr>\n    <tr>\n      <th>18554</th>\n      <td>442383</td>\n      <td>1243</td>\n      <td>[0, 1, 1, 1, 1, 1, 1, 1, 0, 0, 1, 1, 1, 1, 1, ...</td>\n      <td>[153184, 126201, 133371, 159132, 126218, 13362...</td>\n      <td>[2024-08-06 23:09:47.587529+00, 2024-08-06 23:...</td>\n      <td>[2024-08-06 23:28:28.870578+00, 2024-08-07 02:...</td>\n      <td>[2024-08-06 23:00:00+00, 2024-08-07 03:30:00+0...</td>\n      <td>[2024-08-07 14:00:00+00, 2024-08-07 10:30:00+0...</td>\n      <td>[55.64641920439919, 54.6603213, 54.696715, 54....</td>\n      <td>[12.15372974969827, 11.734435, 11.629326, 11.5...</td>\n      <td>[2024-08-07 01:01:02.779507+00, 2024-08-07 03:...</td>\n      <td>[147, 2045, 1190, 390, 411, 131, 1947, 4030, 1...</td>\n      <td>[1167, 15, 35, 38, 41, 91, 102, 90, 1167, 90, ...</td>\n      <td>Tuesday</td>\n      <td>[1, 0, 0, 0, 0, 0, 0, 0, 1, 0, 0, 0, 0, 0, 0, ...</td>\n      <td>2024-08-06</td>\n      <td>2</td>\n      <td>[1167, 35, 38, 41, 91, 102, 90, 1167, 15, 90, ...</td>\n      <td>[0, 1, 1, 1, 1, 1, 1, 0, 1, 0, 1, 1, 1, 1, 1, ...</td>\n    </tr>\n    <tr>\n      <th>18555</th>\n      <td>442386</td>\n      <td>1520</td>\n      <td>[0, 1, 1, 1, 1, 1, 0, 1, 1, 1, 1, 1, 1, 1, 1, ...</td>\n      <td>[163647, 160704, 162824, 161803, 163817, 16203...</td>\n      <td>[2024-08-06 23:09:03.798004+00, 2024-08-06 23:...</td>\n      <td>[2024-08-07 01:55:50.864283+00, 2024-08-07 02:...</td>\n      <td>[2024-08-07 00:00:00+00, 2024-08-07 02:00:00+0...</td>\n      <td>[2024-08-07 16:00:00+00, 2024-08-07 05:00:00+0...</td>\n      <td>[56.0667627, 56.1004096, 56.117045, 56.117045,...</td>\n      <td>[9.986944, 10.0686046, 10.1408688, 10.1408688,...</td>\n      <td>[2024-08-07 01:56:20.459562+00, 2024-08-07 02:...</td>\n      <td>[39, 370, 1929, 1929, 2354, 1955, 1997, 1997, ...</td>\n      <td>[3162, 3240, 3295, 3295, 3243, 3280, 3327, 332...</td>\n      <td>Tuesday</td>\n      <td>[1, 0, 0, 0, 0, 0, 0, 0, 0, 0, 0, 0, 0, 0, 0, ...</td>\n      <td>2024-08-06</td>\n      <td>1</td>\n      <td>[3162, 3295, 3243, 3295, 3240, 3327, 3258, 324...</td>\n      <td>[0, 1, 1, 1, 1, 1, 1, 1, 0, 1, 0, 1, 1, 1, 1, ...</td>\n    </tr>\n    <tr>\n      <th>18560</th>\n      <td>443092</td>\n      <td>1417</td>\n      <td>[0, 1, 0, 1]</td>\n      <td>[46452, 46955, 46452, 154273]</td>\n      <td>[2024-08-07 05:59:26.311221+00, 2024-08-07 05:...</td>\n      <td>[2024-08-07 06:38:14.810272+00, 2024-08-07 07:...</td>\n      <td>[2024-08-07 02:00:00+00, 2024-08-07 05:00:00+0...</td>\n      <td>[2024-08-07 20:00:00+00, 2024-08-07 07:00:00+0...</td>\n      <td>[59.805664, 59.795058, 59.805664, 59.948098894...</td>\n      <td>[10.290383, 10.279009, 10.290383, 10.771520299...</td>\n      <td>[2024-08-07 07:10:49.406797+00, 2024-08-07 07:...</td>\n      <td>[33, 2032, 33, 2852]</td>\n      <td>[7166, 7127, 7166, 9527]</td>\n      <td>Wednesday</td>\n      <td>[1, 0, 1, 0]</td>\n      <td>2024-08-07</td>\n      <td>1</td>\n      <td>[7166, 7166, 7127, 9527]</td>\n      <td>[0, 0, 1, 1]</td>\n    </tr>\n  </tbody>\n</table>\n<p>6322 rows × 19 columns</p>\n</div>"
     },
     "execution_count": 7,
     "metadata": {},
     "output_type": "execute_result"
    }
   ],
   "source": [
    "# Actual route preprocessing\n",
    "\n",
    "def create_actual_route(df, column):\n",
    "    res_col = []\n",
    "    for i in range(len(df)):\n",
    "        row = df.iloc[i]\n",
    "        sorted_dates = sorted(row['stop_arrived_at'])\n",
    "        mapping = {}\n",
    "        for i, date in enumerate(sorted_dates):\n",
    "            mapping[date] = row[column][i]\n",
    "        res_val = [mapping[row['stop_arrived_at'][i]] for i in range(len(row['stop_arrived_at']))]\n",
    "        res_col.append(res_val)\n",
    "    return res_col\n",
    "\n",
    "def create_actual_route_type(df, column):\n",
    "    res_col = []\n",
    "    for i in range(len(df)):\n",
    "        row = df.iloc[i]\n",
    "        sorted_dates = sorted(row['stop_arrived_at'])\n",
    "        mapping = {}\n",
    "        for i, date in enumerate(sorted_dates):\n",
    "            mapping[date] = row['location_type_id'][i]\n",
    "        res_val = [mapping[row['stop_arrived_at'][i]] for i in range(len(row['stop_arrived_at']))]\n",
    "        res_col.append(res_val)\n",
    "    return res_col\n",
    "\n",
    "routes['actual_route_location'] = create_actual_route(routes, 'planned_route_craft')\n",
    "routes['actual_route_type'] = create_actual_route_type(routes, 'planned_route_craft')\n",
    "\n",
    "# Remove all the routes with length <= 2\n",
    "routes = routes[routes['planned_route_craft'].apply(lambda x: len(x) > 2)]\n",
    "routes = routes.reset_index(drop=True)\n",
    "\n",
    "# Remove all the routes with length <= 2\n",
    "routes = routes.reset_index(drop=True)\n",
    "more_than_one_1 = routes[routes['location_is_depot'].apply(lambda x: x.count(True) > 1)]\n",
    "len(more_than_one_1), len(routes)\n",
    "more_than_one_1"
   ],
   "metadata": {
    "collapsed": false,
    "pycharm": {
     "name": "#%%\n"
    }
   }
  },
  {
   "cell_type": "code",
   "execution_count": 8,
   "outputs": [
    {
     "data": {
      "text/plain": "(18562, 18562)"
     },
     "execution_count": 8,
     "metadata": {},
     "output_type": "execute_result"
    }
   ],
   "source": [
    "planned_routes = routes[['planned_route_craft', 'actual_route_location', 'driver_id', 'day_of_week', 'last_two_weeks_count', 'location_type_id', 'stop_arrived_at', 'stop_earliest', 'stop_latest', 'current_lat', 'current_lng', 'location_is_depot', 'date', 'planned_route_cluster']]\n",
    "actual_routes = routes['actual_route_location']\n",
    "planned_routes_list = planned_routes['planned_route_craft'].tolist()\n",
    "actual_routes_list = actual_routes.tolist()\n",
    "len(planned_routes_list),len(actual_routes_list)"
   ],
   "metadata": {
    "collapsed": false,
    "pycharm": {
     "name": "#%%\n"
    }
   }
  },
  {
   "cell_type": "markdown",
   "source": [
    "## Metrics calculation"
   ],
   "metadata": {
    "collapsed": false,
    "pycharm": {
     "name": "#%% md\n"
    }
   }
  },
  {
   "cell_type": "code",
   "execution_count": 9,
   "outputs": [],
   "source": [
    "# score quality\n",
    "def calculate_route_quality_score(planned_ranks, actual_ranks):\n",
    "    # Calculate sum of absolute differences in ranks\n",
    "    sum_of_differences = sum(abs(actual_ranks.index(x) - planned_ranks.index(x)) for x in planned_ranks)\n",
    "\n",
    "    # Calculate max possible difference\n",
    "    max_possible_difference = sum([abs(2 * i - (len(planned_ranks) + 1)) for i in range(1, len(planned_ranks) + 1)])\n",
    "\n",
    "    # Calculate route quality score\n",
    "    route_quality_score = 1 - (sum_of_differences / max_possible_difference)\n",
    "\n",
    "    return route_quality_score"
   ],
   "metadata": {
    "collapsed": false,
    "pycharm": {
     "name": "#%%\n"
    }
   }
  },
  {
   "cell_type": "code",
   "execution_count": 10,
   "outputs": [
    {
     "name": "stderr",
     "output_type": "stream",
     "text": [
      "/var/folders/0j/mpbqwzf51p38zw2w423xp1fw0000gn/T/ipykernel_35946/561703362.py:5: FutureWarning: The behavior of DataFrame concatenation with empty or all-NA entries is deprecated. In a future version, this will no longer exclude empty or all-NA columns when determining the result dtypes. To retain the old behavior, exclude the relevant entries before the concat operation.\n",
      "  completed_routes_df = pd.concat([completed_routes_df, pd.DataFrame([planned_routes.iloc[i]]).assign(score=score).reset_index(drop=True)], ignore_index=True)\n"
     ]
    },
    {
     "name": "stdout",
     "output_type": "stream",
     "text": [
      "18562\n"
     ]
    },
    {
     "data": {
      "text/plain": "                                     planned_route_craft  \\\n0       [1167, 1405, 1560, 1413, 1391, 1391, 1434, 1269]   \n1       [1167, 1352, 1312, 1356, 1508, 1508, 1621, 1401]   \n2             [1167, 2231, 2406, 2349, 2298, 2588, 2493]   \n3      [1167, 1168, 1495, 1658, 1070, 818, 965, 936, ...   \n4      [1167, 1101, 1079, 1282, 1123, 1098, 834, 1262...   \n...                                                  ...   \n18557  [10076, 10099, 9596, 9507, 9158, 8853, 9640, 8...   \n18558  [7166, 6718, 6699, 6495, 6560, 6558, 6756, 653...   \n18559        [10076, 8785, 9172, 7204, 6955, 5902, 7045]   \n18560                           [7166, 7127, 7166, 9527]   \n18561  [7166, 5428, 5394, 5385, 5347, 4633, 4350, 431...   \n\n                                   actual_route_location driver_id  \\\n0       [1167, 1405, 1560, 1413, 1391, 1391, 1434, 1269]      1255   \n1       [1167, 1312, 1356, 1352, 1508, 1508, 1621, 1401]      1195   \n2             [1167, 2231, 2349, 2406, 2298, 2493, 2588]      1186   \n3      [1167, 1070, 936, 822, 963, 965, 818, 1658, 14...      1218   \n4      [1167, 1098, 1315, 1282, 1262, 834, 1123, 1079...      1192   \n...                                                  ...       ...   \n18557  [10076, 10099, 9596, 9507, 9158, 8853, 9640, 8...       276   \n18558  [7166, 6718, 6699, 6495, 6560, 6558, 6756, 653...       968   \n18559        [10076, 8785, 9172, 7204, 6955, 5902, 7045]       877   \n18560                           [7166, 7166, 7127, 9527]      1417   \n18561  [7166, 5428, 5394, 5385, 5347, 4633, 4350, 431...       723   \n\n      day_of_week last_two_weeks_count  \\\n0          Monday                    8   \n1          Monday                   11   \n2          Monday                    9   \n3          Monday                   11   \n4          Monday                   11   \n...           ...                  ...   \n18557     Tuesday                    1   \n18558     Tuesday                    2   \n18559     Tuesday                    1   \n18560   Wednesday                    1   \n18561   Wednesday                    1   \n\n                                    location_type_id  \\\n0                           [0, 1, 1, 1, 1, 1, 1, 1]   \n1                           [0, 1, 1, 1, 1, 1, 1, 1]   \n2                              [0, 1, 1, 1, 1, 1, 1]   \n3                     [0, 1, 1, 1, 1, 1, 1, 1, 1, 1]   \n4                        [0, 1, 1, 1, 1, 1, 1, 1, 1]   \n...                                              ...   \n18557  [0, 1, 1, 1, 1, 1, 1, 1, 1, 1, 1, 1, 1, 1, 1]   \n18558        [0, 1, 1, 1, 1, 1, 1, 0, 1, 1, 1, 1, 1]   \n18559                          [0, 1, 1, 1, 1, 1, 1]   \n18560                                   [0, 1, 0, 1]   \n18561           [0, 1, 1, 1, 1, 1, 1, 1, 1, 1, 0, 1]   \n\n                                         stop_arrived_at  \\\n0      [2024-01-15 22:11:49.528537+00, 2024-01-15 23:...   \n1      [2024-01-15 22:58:58.038139+00, 2024-01-15 23:...   \n2      [2024-01-15 22:32:42.615543+00, 2024-01-15 23:...   \n3      [2024-01-15 22:37:07.860851+00, 2024-01-16 00:...   \n4      [2024-01-15 23:06:33.822316+00, 2024-01-16 01:...   \n...                                                  ...   \n18557  [2024-08-07 13:31:52.955936+00, 2024-08-07 13:...   \n18558  [2024-08-07 03:50:55.931321+00, 2024-08-07 05:...   \n18559  [2024-08-07 13:31:50.711864+00, 2024-08-07 13:...   \n18560  [2024-08-07 06:38:14.810272+00, 2024-08-07 07:...   \n18561  [2024-08-07 09:00:31.581115+00, 2024-08-07 10:...   \n\n                                           stop_earliest  \\\n0      [2024-01-15 19:00:00+00, 2024-01-15 23:00:00+0...   \n1      [2024-01-15 19:00:00+00, 2024-01-15 21:00:00+0...   \n2      [2024-01-15 19:00:00+00, 2024-01-15 21:00:00+0...   \n3      [2024-01-15 19:00:00+00, 2024-01-15 21:00:00+0...   \n4      [2024-01-15 19:00:00+00, 2024-01-15 21:00:00+0...   \n...                                                  ...   \n18557  [2024-08-07 01:00:00+00, 2024-08-07 05:00:00+0...   \n18558  [2024-08-07 02:00:00+00, 2024-08-07 05:00:00+0...   \n18559  [2024-08-07 01:00:00+00, 2024-08-07 05:00:00+0...   \n18560  [2024-08-07 02:00:00+00, 2024-08-07 05:00:00+0...   \n18561  [2024-08-07 02:00:00+00, 2024-08-07 06:00:00+0...   \n\n                                             stop_latest  \\\n0      [2024-01-16 01:00:00+00, 2024-01-16 03:00:00+0...   \n1      [2024-01-16 01:00:00+00, 2024-01-16 04:00:00+0...   \n2      [2024-01-16 01:00:00+00, 2024-01-16 04:00:00+0...   \n3      [2024-01-16 01:00:00+00, 2024-01-16 04:00:00+0...   \n4      [2024-01-16 01:00:00+00, 2024-01-16 04:00:00+0...   \n...                                                  ...   \n18557  [2024-08-07 14:00:00+00, 2024-08-07 11:00:00+0...   \n18558  [2024-08-07 20:00:00+00, 2024-08-07 07:00:00+0...   \n18559  [2024-08-07 14:00:00+00, 2024-08-07 11:00:00+0...   \n18560  [2024-08-07 20:00:00+00, 2024-08-07 07:00:00+0...   \n18561  [2024-08-07 20:00:00+00, 2024-08-07 10:00:00+0...   \n\n                                             current_lat  \\\n0      [55.64641920439919, 55.6669147, 55.6757322, 55...   \n1      [55.64641920439919, 55.662018, 55.658103, 55.6...   \n2      [55.64641920439919, 55.7498333, 55.80148, 55.7...   \n3      [55.64641920439919, 55.646535, 55.672309, 55.6...   \n4      [55.64641920439919, 55.640375, 55.639120600000...   \n...                                                  ...   \n18557  [60.007627, 60.01175632293701, 59.950832, 59.9...   \n18558  [59.805664, 59.749221, 59.747942, 59.737167777...   \n18559  [60.007627, 59.923836, 59.93422, 59.811373, 59...   \n18560  [59.805664, 59.795058, 59.805664, 59.948098894...   \n18561  [59.805664, 59.420838, 59.415188, 59.414098, 5...   \n\n                                             current_lng     score  \\\n0      [12.15372974969827, 12.5262801, 12.5619711, 12...  1.000000   \n1      [12.15372974969827, 12.360745, 12.368506, 12.3...  0.875000   \n2      [12.15372974969827, 12.5870785, 12.525814, 12....  0.833333   \n3      [12.15372974969827, 12.539958, 12.588959, 12.6...  0.240000   \n4      [12.15372974969827, 12.091312, 12.0627714, 12....  0.300000   \n...                                                  ...       ...   \n18557  [11.047135, 11.052440556594831, 10.856852, 10....  1.000000   \n18558  [10.290383, 10.26819, 10.291249, 10.3725904226...  0.976190   \n18559  [11.047135, 10.814451, 10.800594, 10.80755, 10...  1.000000   \n18560  [10.290383, 10.279009, 10.290383, 10.771520299...  0.875000   \n18561  [10.290383, 10.488199, 10.496616, 10.487423, 1...  1.000000   \n\n                                   location_is_depot       date  \\\n0                           [1, 0, 0, 0, 0, 0, 0, 0] 2024-01-15   \n1                           [1, 0, 0, 0, 0, 0, 0, 0] 2024-01-15   \n2                              [1, 0, 0, 0, 0, 0, 0] 2024-01-15   \n3                     [1, 0, 0, 0, 0, 0, 0, 0, 0, 0] 2024-01-15   \n4                        [1, 0, 0, 0, 0, 0, 0, 0, 0] 2024-01-15   \n...                                              ...        ...   \n18557  [1, 0, 0, 0, 0, 0, 0, 0, 0, 0, 0, 0, 0, 0, 0] 2024-08-06   \n18558        [1, 0, 0, 0, 0, 0, 0, 0, 0, 0, 0, 0, 0] 2024-08-06   \n18559                          [1, 0, 0, 0, 0, 0, 0] 2024-08-06   \n18560                                   [1, 0, 1, 0] 2024-08-07   \n18561           [1, 0, 0, 0, 0, 0, 0, 0, 0, 0, 0, 0] 2024-08-07   \n\n                                   planned_route_cluster  \n0         [147, 1419, 3429, 3703, 1360, 1360, 4511, 335]  \n1         [147, 122, 2070, 3540, 1413, 1413, 3663, 1287]  \n2               [147, 2596, 521, 4623, 3326, 3115, 1050]  \n3      [147, 3305, 3715, 4879, 1830, 537, 3301, 2199,...  \n4      [147, 4979, 3980, 3679, 2681, 2319, 708, 1644,...  \n...                                                  ...  \n18557  [30, 4754, 846, 4226, 3915, 3949, 1293, 4349, ...  \n18558  [33, 2460, 1978, 1234, 2493, 931, 2241, 148, 1...  \n18559             [30, 3949, 4848, 4971, 2429, 45, 2313]  \n18560                               [33, 2032, 33, 2852]  \n18561  [33, 3225, 4361, 4473, 1308, 2346, 37, 3408, 4...  \n\n[18562 rows x 15 columns]",
      "text/html": "<div>\n<style scoped>\n    .dataframe tbody tr th:only-of-type {\n        vertical-align: middle;\n    }\n\n    .dataframe tbody tr th {\n        vertical-align: top;\n    }\n\n    .dataframe thead th {\n        text-align: right;\n    }\n</style>\n<table border=\"1\" class=\"dataframe\">\n  <thead>\n    <tr style=\"text-align: right;\">\n      <th></th>\n      <th>planned_route_craft</th>\n      <th>actual_route_location</th>\n      <th>driver_id</th>\n      <th>day_of_week</th>\n      <th>last_two_weeks_count</th>\n      <th>location_type_id</th>\n      <th>stop_arrived_at</th>\n      <th>stop_earliest</th>\n      <th>stop_latest</th>\n      <th>current_lat</th>\n      <th>current_lng</th>\n      <th>score</th>\n      <th>location_is_depot</th>\n      <th>date</th>\n      <th>planned_route_cluster</th>\n    </tr>\n  </thead>\n  <tbody>\n    <tr>\n      <th>0</th>\n      <td>[1167, 1405, 1560, 1413, 1391, 1391, 1434, 1269]</td>\n      <td>[1167, 1405, 1560, 1413, 1391, 1391, 1434, 1269]</td>\n      <td>1255</td>\n      <td>Monday</td>\n      <td>8</td>\n      <td>[0, 1, 1, 1, 1, 1, 1, 1]</td>\n      <td>[2024-01-15 22:11:49.528537+00, 2024-01-15 23:...</td>\n      <td>[2024-01-15 19:00:00+00, 2024-01-15 23:00:00+0...</td>\n      <td>[2024-01-16 01:00:00+00, 2024-01-16 03:00:00+0...</td>\n      <td>[55.64641920439919, 55.6669147, 55.6757322, 55...</td>\n      <td>[12.15372974969827, 12.5262801, 12.5619711, 12...</td>\n      <td>1.000000</td>\n      <td>[1, 0, 0, 0, 0, 0, 0, 0]</td>\n      <td>2024-01-15</td>\n      <td>[147, 1419, 3429, 3703, 1360, 1360, 4511, 335]</td>\n    </tr>\n    <tr>\n      <th>1</th>\n      <td>[1167, 1352, 1312, 1356, 1508, 1508, 1621, 1401]</td>\n      <td>[1167, 1312, 1356, 1352, 1508, 1508, 1621, 1401]</td>\n      <td>1195</td>\n      <td>Monday</td>\n      <td>11</td>\n      <td>[0, 1, 1, 1, 1, 1, 1, 1]</td>\n      <td>[2024-01-15 22:58:58.038139+00, 2024-01-15 23:...</td>\n      <td>[2024-01-15 19:00:00+00, 2024-01-15 21:00:00+0...</td>\n      <td>[2024-01-16 01:00:00+00, 2024-01-16 04:00:00+0...</td>\n      <td>[55.64641920439919, 55.662018, 55.658103, 55.6...</td>\n      <td>[12.15372974969827, 12.360745, 12.368506, 12.3...</td>\n      <td>0.875000</td>\n      <td>[1, 0, 0, 0, 0, 0, 0, 0]</td>\n      <td>2024-01-15</td>\n      <td>[147, 122, 2070, 3540, 1413, 1413, 3663, 1287]</td>\n    </tr>\n    <tr>\n      <th>2</th>\n      <td>[1167, 2231, 2406, 2349, 2298, 2588, 2493]</td>\n      <td>[1167, 2231, 2349, 2406, 2298, 2493, 2588]</td>\n      <td>1186</td>\n      <td>Monday</td>\n      <td>9</td>\n      <td>[0, 1, 1, 1, 1, 1, 1]</td>\n      <td>[2024-01-15 22:32:42.615543+00, 2024-01-15 23:...</td>\n      <td>[2024-01-15 19:00:00+00, 2024-01-15 21:00:00+0...</td>\n      <td>[2024-01-16 01:00:00+00, 2024-01-16 04:00:00+0...</td>\n      <td>[55.64641920439919, 55.7498333, 55.80148, 55.7...</td>\n      <td>[12.15372974969827, 12.5870785, 12.525814, 12....</td>\n      <td>0.833333</td>\n      <td>[1, 0, 0, 0, 0, 0, 0]</td>\n      <td>2024-01-15</td>\n      <td>[147, 2596, 521, 4623, 3326, 3115, 1050]</td>\n    </tr>\n    <tr>\n      <th>3</th>\n      <td>[1167, 1168, 1495, 1658, 1070, 818, 965, 936, ...</td>\n      <td>[1167, 1070, 936, 822, 963, 965, 818, 1658, 14...</td>\n      <td>1218</td>\n      <td>Monday</td>\n      <td>11</td>\n      <td>[0, 1, 1, 1, 1, 1, 1, 1, 1, 1]</td>\n      <td>[2024-01-15 22:37:07.860851+00, 2024-01-16 00:...</td>\n      <td>[2024-01-15 19:00:00+00, 2024-01-15 21:00:00+0...</td>\n      <td>[2024-01-16 01:00:00+00, 2024-01-16 04:00:00+0...</td>\n      <td>[55.64641920439919, 55.646535, 55.672309, 55.6...</td>\n      <td>[12.15372974969827, 12.539958, 12.588959, 12.6...</td>\n      <td>0.240000</td>\n      <td>[1, 0, 0, 0, 0, 0, 0, 0, 0, 0]</td>\n      <td>2024-01-15</td>\n      <td>[147, 3305, 3715, 4879, 1830, 537, 3301, 2199,...</td>\n    </tr>\n    <tr>\n      <th>4</th>\n      <td>[1167, 1101, 1079, 1282, 1123, 1098, 834, 1262...</td>\n      <td>[1167, 1098, 1315, 1282, 1262, 834, 1123, 1079...</td>\n      <td>1192</td>\n      <td>Monday</td>\n      <td>11</td>\n      <td>[0, 1, 1, 1, 1, 1, 1, 1, 1]</td>\n      <td>[2024-01-15 23:06:33.822316+00, 2024-01-16 01:...</td>\n      <td>[2024-01-15 19:00:00+00, 2024-01-15 21:00:00+0...</td>\n      <td>[2024-01-16 01:00:00+00, 2024-01-16 04:00:00+0...</td>\n      <td>[55.64641920439919, 55.640375, 55.639120600000...</td>\n      <td>[12.15372974969827, 12.091312, 12.0627714, 12....</td>\n      <td>0.300000</td>\n      <td>[1, 0, 0, 0, 0, 0, 0, 0, 0]</td>\n      <td>2024-01-15</td>\n      <td>[147, 4979, 3980, 3679, 2681, 2319, 708, 1644,...</td>\n    </tr>\n    <tr>\n      <th>...</th>\n      <td>...</td>\n      <td>...</td>\n      <td>...</td>\n      <td>...</td>\n      <td>...</td>\n      <td>...</td>\n      <td>...</td>\n      <td>...</td>\n      <td>...</td>\n      <td>...</td>\n      <td>...</td>\n      <td>...</td>\n      <td>...</td>\n      <td>...</td>\n      <td>...</td>\n    </tr>\n    <tr>\n      <th>18557</th>\n      <td>[10076, 10099, 9596, 9507, 9158, 8853, 9640, 8...</td>\n      <td>[10076, 10099, 9596, 9507, 9158, 8853, 9640, 8...</td>\n      <td>276</td>\n      <td>Tuesday</td>\n      <td>1</td>\n      <td>[0, 1, 1, 1, 1, 1, 1, 1, 1, 1, 1, 1, 1, 1, 1]</td>\n      <td>[2024-08-07 13:31:52.955936+00, 2024-08-07 13:...</td>\n      <td>[2024-08-07 01:00:00+00, 2024-08-07 05:00:00+0...</td>\n      <td>[2024-08-07 14:00:00+00, 2024-08-07 11:00:00+0...</td>\n      <td>[60.007627, 60.01175632293701, 59.950832, 59.9...</td>\n      <td>[11.047135, 11.052440556594831, 10.856852, 10....</td>\n      <td>1.000000</td>\n      <td>[1, 0, 0, 0, 0, 0, 0, 0, 0, 0, 0, 0, 0, 0, 0]</td>\n      <td>2024-08-06</td>\n      <td>[30, 4754, 846, 4226, 3915, 3949, 1293, 4349, ...</td>\n    </tr>\n    <tr>\n      <th>18558</th>\n      <td>[7166, 6718, 6699, 6495, 6560, 6558, 6756, 653...</td>\n      <td>[7166, 6718, 6699, 6495, 6560, 6558, 6756, 653...</td>\n      <td>968</td>\n      <td>Tuesday</td>\n      <td>2</td>\n      <td>[0, 1, 1, 1, 1, 1, 1, 0, 1, 1, 1, 1, 1]</td>\n      <td>[2024-08-07 03:50:55.931321+00, 2024-08-07 05:...</td>\n      <td>[2024-08-07 02:00:00+00, 2024-08-07 05:00:00+0...</td>\n      <td>[2024-08-07 20:00:00+00, 2024-08-07 07:00:00+0...</td>\n      <td>[59.805664, 59.749221, 59.747942, 59.737167777...</td>\n      <td>[10.290383, 10.26819, 10.291249, 10.3725904226...</td>\n      <td>0.976190</td>\n      <td>[1, 0, 0, 0, 0, 0, 0, 0, 0, 0, 0, 0, 0]</td>\n      <td>2024-08-06</td>\n      <td>[33, 2460, 1978, 1234, 2493, 931, 2241, 148, 1...</td>\n    </tr>\n    <tr>\n      <th>18559</th>\n      <td>[10076, 8785, 9172, 7204, 6955, 5902, 7045]</td>\n      <td>[10076, 8785, 9172, 7204, 6955, 5902, 7045]</td>\n      <td>877</td>\n      <td>Tuesday</td>\n      <td>1</td>\n      <td>[0, 1, 1, 1, 1, 1, 1]</td>\n      <td>[2024-08-07 13:31:50.711864+00, 2024-08-07 13:...</td>\n      <td>[2024-08-07 01:00:00+00, 2024-08-07 05:00:00+0...</td>\n      <td>[2024-08-07 14:00:00+00, 2024-08-07 11:00:00+0...</td>\n      <td>[60.007627, 59.923836, 59.93422, 59.811373, 59...</td>\n      <td>[11.047135, 10.814451, 10.800594, 10.80755, 10...</td>\n      <td>1.000000</td>\n      <td>[1, 0, 0, 0, 0, 0, 0]</td>\n      <td>2024-08-06</td>\n      <td>[30, 3949, 4848, 4971, 2429, 45, 2313]</td>\n    </tr>\n    <tr>\n      <th>18560</th>\n      <td>[7166, 7127, 7166, 9527]</td>\n      <td>[7166, 7166, 7127, 9527]</td>\n      <td>1417</td>\n      <td>Wednesday</td>\n      <td>1</td>\n      <td>[0, 1, 0, 1]</td>\n      <td>[2024-08-07 06:38:14.810272+00, 2024-08-07 07:...</td>\n      <td>[2024-08-07 02:00:00+00, 2024-08-07 05:00:00+0...</td>\n      <td>[2024-08-07 20:00:00+00, 2024-08-07 07:00:00+0...</td>\n      <td>[59.805664, 59.795058, 59.805664, 59.948098894...</td>\n      <td>[10.290383, 10.279009, 10.290383, 10.771520299...</td>\n      <td>0.875000</td>\n      <td>[1, 0, 1, 0]</td>\n      <td>2024-08-07</td>\n      <td>[33, 2032, 33, 2852]</td>\n    </tr>\n    <tr>\n      <th>18561</th>\n      <td>[7166, 5428, 5394, 5385, 5347, 4633, 4350, 431...</td>\n      <td>[7166, 5428, 5394, 5385, 5347, 4633, 4350, 431...</td>\n      <td>723</td>\n      <td>Wednesday</td>\n      <td>1</td>\n      <td>[0, 1, 1, 1, 1, 1, 1, 1, 1, 1, 0, 1]</td>\n      <td>[2024-08-07 09:00:31.581115+00, 2024-08-07 10:...</td>\n      <td>[2024-08-07 02:00:00+00, 2024-08-07 06:00:00+0...</td>\n      <td>[2024-08-07 20:00:00+00, 2024-08-07 10:00:00+0...</td>\n      <td>[59.805664, 59.420838, 59.415188, 59.414098, 5...</td>\n      <td>[10.290383, 10.488199, 10.496616, 10.487423, 1...</td>\n      <td>1.000000</td>\n      <td>[1, 0, 0, 0, 0, 0, 0, 0, 0, 0, 0, 0]</td>\n      <td>2024-08-07</td>\n      <td>[33, 3225, 4361, 4473, 1308, 2346, 37, 3408, 4...</td>\n    </tr>\n  </tbody>\n</table>\n<p>18562 rows × 15 columns</p>\n</div>"
     },
     "execution_count": 10,
     "metadata": {},
     "output_type": "execute_result"
    }
   ],
   "source": [
    "completed_routes_df = pd.DataFrame(columns=['planned_route_craft', 'actual_route_location', 'driver_id', 'day_of_week', 'last_two_weeks_count', 'location_type_id', 'stop_arrived_at', 'stop_earliest', 'stop_latest', 'current_lat', 'current_lng', 'score', 'location_is_depot', 'date', 'planned_route_cluster'])\n",
    "\n",
    "for i in range(len(planned_routes_list)):\n",
    "    score = calculate_route_quality_score(planned_routes_list[i],actual_routes_list[i])\n",
    "    completed_routes_df = pd.concat([completed_routes_df, pd.DataFrame([planned_routes.iloc[i]]).assign(score=score).reset_index(drop=True)], ignore_index=True)\n",
    "\n",
    "print(len(completed_routes_df))\n",
    "completed_routes_df"
   ],
   "metadata": {
    "collapsed": false,
    "pycharm": {
     "name": "#%%\n"
    }
   }
  },
  {
   "cell_type": "code",
   "execution_count": 11,
   "outputs": [
    {
     "data": {
      "text/plain": "                                                  routes  \\\n0       [1167, 1405, 1560, 1413, 1391, 1391, 1434, 1269]   \n1       [1167, 1352, 1312, 1356, 1508, 1508, 1621, 1401]   \n2             [1167, 2231, 2406, 2349, 2298, 2588, 2493]   \n3      [1167, 1168, 1495, 1658, 1070, 818, 965, 936, ...   \n4      [1167, 1101, 1079, 1282, 1123, 1098, 834, 1262...   \n...                                                  ...   \n18557  [10076, 10099, 9596, 9507, 9158, 8853, 9640, 8...   \n18558  [7166, 6718, 6699, 6495, 6560, 6558, 6756, 653...   \n18559        [10076, 8785, 9172, 7204, 6955, 5902, 7045]   \n18560                           [7166, 7127, 7166, 9527]   \n18561  [7166, 5428, 5394, 5385, 5347, 4633, 4350, 431...   \n\n                                           actual_routes  driver_id  \\\n0       [1167, 1405, 1560, 1413, 1391, 1391, 1434, 1269]       1255   \n1       [1167, 1312, 1356, 1352, 1508, 1508, 1621, 1401]       1195   \n2             [1167, 2231, 2349, 2406, 2298, 2493, 2588]       1186   \n3      [1167, 1070, 936, 822, 963, 965, 818, 1658, 14...       1218   \n4      [1167, 1098, 1315, 1282, 1262, 834, 1123, 1079...       1192   \n...                                                  ...        ...   \n18557  [10076, 10099, 9596, 9507, 9158, 8853, 9640, 8...        276   \n18558  [7166, 6718, 6699, 6495, 6560, 6558, 6756, 653...        968   \n18559        [10076, 8785, 9172, 7204, 6955, 5902, 7045]        877   \n18560                           [7166, 7166, 7127, 9527]       1417   \n18561  [7166, 5428, 5394, 5385, 5347, 4633, 4350, 431...        723   \n\n       last_two_weeks_count day_of_week     score  \\\n0                         8      Monday  1.000000   \n1                        11      Monday  0.875000   \n2                         9      Monday  0.833333   \n3                        11      Monday  0.240000   \n4                        11      Monday  0.300000   \n...                     ...         ...       ...   \n18557                     1     Tuesday  1.000000   \n18558                     2     Tuesday  0.976190   \n18559                     1     Tuesday  1.000000   \n18560                     1   Wednesday  0.875000   \n18561                     1   Wednesday  1.000000   \n\n                                   location_is_depot  \\\n0                           [1, 0, 0, 0, 0, 0, 0, 0]   \n1                           [1, 0, 0, 0, 0, 0, 0, 0]   \n2                              [1, 0, 0, 0, 0, 0, 0]   \n3                     [1, 0, 0, 0, 0, 0, 0, 0, 0, 0]   \n4                        [1, 0, 0, 0, 0, 0, 0, 0, 0]   \n...                                              ...   \n18557  [1, 0, 0, 0, 0, 0, 0, 0, 0, 0, 0, 0, 0, 0, 0]   \n18558        [1, 0, 0, 0, 0, 0, 0, 0, 0, 0, 0, 0, 0]   \n18559                          [1, 0, 0, 0, 0, 0, 0]   \n18560                                   [1, 0, 1, 0]   \n18561           [1, 0, 0, 0, 0, 0, 0, 0, 0, 0, 0, 0]   \n\n                                    location_type_id  \\\n0                           [0, 1, 1, 1, 1, 1, 1, 1]   \n1                           [0, 1, 1, 1, 1, 1, 1, 1]   \n2                              [0, 1, 1, 1, 1, 1, 1]   \n3                     [0, 1, 1, 1, 1, 1, 1, 1, 1, 1]   \n4                        [0, 1, 1, 1, 1, 1, 1, 1, 1]   \n...                                              ...   \n18557  [0, 1, 1, 1, 1, 1, 1, 1, 1, 1, 1, 1, 1, 1, 1]   \n18558        [0, 1, 1, 1, 1, 1, 1, 0, 1, 1, 1, 1, 1]   \n18559                          [0, 1, 1, 1, 1, 1, 1]   \n18560                                   [0, 1, 0, 1]   \n18561           [0, 1, 1, 1, 1, 1, 1, 1, 1, 1, 0, 1]   \n\n                                             current_lat  \\\n0      [55.64641920439919, 55.6669147, 55.6757322, 55...   \n1      [55.64641920439919, 55.662018, 55.658103, 55.6...   \n2      [55.64641920439919, 55.7498333, 55.80148, 55.7...   \n3      [55.64641920439919, 55.646535, 55.672309, 55.6...   \n4      [55.64641920439919, 55.640375, 55.639120600000...   \n...                                                  ...   \n18557  [60.007627, 60.01175632293701, 59.950832, 59.9...   \n18558  [59.805664, 59.749221, 59.747942, 59.737167777...   \n18559  [60.007627, 59.923836, 59.93422, 59.811373, 59...   \n18560  [59.805664, 59.795058, 59.805664, 59.948098894...   \n18561  [59.805664, 59.420838, 59.415188, 59.414098, 5...   \n\n                                             current_lng       date  len  \n0      [12.15372974969827, 12.5262801, 12.5619711, 12... 2024-01-15    8  \n1      [12.15372974969827, 12.360745, 12.368506, 12.3... 2024-01-15    8  \n2      [12.15372974969827, 12.5870785, 12.525814, 12.... 2024-01-15    7  \n3      [12.15372974969827, 12.539958, 12.588959, 12.6... 2024-01-15   10  \n4      [12.15372974969827, 12.091312, 12.0627714, 12.... 2024-01-15    9  \n...                                                  ...        ...  ...  \n18557  [11.047135, 11.052440556594831, 10.856852, 10.... 2024-08-06   15  \n18558  [10.290383, 10.26819, 10.291249, 10.3725904226... 2024-08-06   13  \n18559  [11.047135, 10.814451, 10.800594, 10.80755, 10... 2024-08-06    7  \n18560  [10.290383, 10.279009, 10.290383, 10.771520299... 2024-08-07    4  \n18561  [10.290383, 10.488199, 10.496616, 10.487423, 1... 2024-08-07   12  \n\n[18562 rows x 12 columns]",
      "text/html": "<div>\n<style scoped>\n    .dataframe tbody tr th:only-of-type {\n        vertical-align: middle;\n    }\n\n    .dataframe tbody tr th {\n        vertical-align: top;\n    }\n\n    .dataframe thead th {\n        text-align: right;\n    }\n</style>\n<table border=\"1\" class=\"dataframe\">\n  <thead>\n    <tr style=\"text-align: right;\">\n      <th></th>\n      <th>routes</th>\n      <th>actual_routes</th>\n      <th>driver_id</th>\n      <th>last_two_weeks_count</th>\n      <th>day_of_week</th>\n      <th>score</th>\n      <th>location_is_depot</th>\n      <th>location_type_id</th>\n      <th>current_lat</th>\n      <th>current_lng</th>\n      <th>date</th>\n      <th>len</th>\n    </tr>\n  </thead>\n  <tbody>\n    <tr>\n      <th>0</th>\n      <td>[1167, 1405, 1560, 1413, 1391, 1391, 1434, 1269]</td>\n      <td>[1167, 1405, 1560, 1413, 1391, 1391, 1434, 1269]</td>\n      <td>1255</td>\n      <td>8</td>\n      <td>Monday</td>\n      <td>1.000000</td>\n      <td>[1, 0, 0, 0, 0, 0, 0, 0]</td>\n      <td>[0, 1, 1, 1, 1, 1, 1, 1]</td>\n      <td>[55.64641920439919, 55.6669147, 55.6757322, 55...</td>\n      <td>[12.15372974969827, 12.5262801, 12.5619711, 12...</td>\n      <td>2024-01-15</td>\n      <td>8</td>\n    </tr>\n    <tr>\n      <th>1</th>\n      <td>[1167, 1352, 1312, 1356, 1508, 1508, 1621, 1401]</td>\n      <td>[1167, 1312, 1356, 1352, 1508, 1508, 1621, 1401]</td>\n      <td>1195</td>\n      <td>11</td>\n      <td>Monday</td>\n      <td>0.875000</td>\n      <td>[1, 0, 0, 0, 0, 0, 0, 0]</td>\n      <td>[0, 1, 1, 1, 1, 1, 1, 1]</td>\n      <td>[55.64641920439919, 55.662018, 55.658103, 55.6...</td>\n      <td>[12.15372974969827, 12.360745, 12.368506, 12.3...</td>\n      <td>2024-01-15</td>\n      <td>8</td>\n    </tr>\n    <tr>\n      <th>2</th>\n      <td>[1167, 2231, 2406, 2349, 2298, 2588, 2493]</td>\n      <td>[1167, 2231, 2349, 2406, 2298, 2493, 2588]</td>\n      <td>1186</td>\n      <td>9</td>\n      <td>Monday</td>\n      <td>0.833333</td>\n      <td>[1, 0, 0, 0, 0, 0, 0]</td>\n      <td>[0, 1, 1, 1, 1, 1, 1]</td>\n      <td>[55.64641920439919, 55.7498333, 55.80148, 55.7...</td>\n      <td>[12.15372974969827, 12.5870785, 12.525814, 12....</td>\n      <td>2024-01-15</td>\n      <td>7</td>\n    </tr>\n    <tr>\n      <th>3</th>\n      <td>[1167, 1168, 1495, 1658, 1070, 818, 965, 936, ...</td>\n      <td>[1167, 1070, 936, 822, 963, 965, 818, 1658, 14...</td>\n      <td>1218</td>\n      <td>11</td>\n      <td>Monday</td>\n      <td>0.240000</td>\n      <td>[1, 0, 0, 0, 0, 0, 0, 0, 0, 0]</td>\n      <td>[0, 1, 1, 1, 1, 1, 1, 1, 1, 1]</td>\n      <td>[55.64641920439919, 55.646535, 55.672309, 55.6...</td>\n      <td>[12.15372974969827, 12.539958, 12.588959, 12.6...</td>\n      <td>2024-01-15</td>\n      <td>10</td>\n    </tr>\n    <tr>\n      <th>4</th>\n      <td>[1167, 1101, 1079, 1282, 1123, 1098, 834, 1262...</td>\n      <td>[1167, 1098, 1315, 1282, 1262, 834, 1123, 1079...</td>\n      <td>1192</td>\n      <td>11</td>\n      <td>Monday</td>\n      <td>0.300000</td>\n      <td>[1, 0, 0, 0, 0, 0, 0, 0, 0]</td>\n      <td>[0, 1, 1, 1, 1, 1, 1, 1, 1]</td>\n      <td>[55.64641920439919, 55.640375, 55.639120600000...</td>\n      <td>[12.15372974969827, 12.091312, 12.0627714, 12....</td>\n      <td>2024-01-15</td>\n      <td>9</td>\n    </tr>\n    <tr>\n      <th>...</th>\n      <td>...</td>\n      <td>...</td>\n      <td>...</td>\n      <td>...</td>\n      <td>...</td>\n      <td>...</td>\n      <td>...</td>\n      <td>...</td>\n      <td>...</td>\n      <td>...</td>\n      <td>...</td>\n      <td>...</td>\n    </tr>\n    <tr>\n      <th>18557</th>\n      <td>[10076, 10099, 9596, 9507, 9158, 8853, 9640, 8...</td>\n      <td>[10076, 10099, 9596, 9507, 9158, 8853, 9640, 8...</td>\n      <td>276</td>\n      <td>1</td>\n      <td>Tuesday</td>\n      <td>1.000000</td>\n      <td>[1, 0, 0, 0, 0, 0, 0, 0, 0, 0, 0, 0, 0, 0, 0]</td>\n      <td>[0, 1, 1, 1, 1, 1, 1, 1, 1, 1, 1, 1, 1, 1, 1]</td>\n      <td>[60.007627, 60.01175632293701, 59.950832, 59.9...</td>\n      <td>[11.047135, 11.052440556594831, 10.856852, 10....</td>\n      <td>2024-08-06</td>\n      <td>15</td>\n    </tr>\n    <tr>\n      <th>18558</th>\n      <td>[7166, 6718, 6699, 6495, 6560, 6558, 6756, 653...</td>\n      <td>[7166, 6718, 6699, 6495, 6560, 6558, 6756, 653...</td>\n      <td>968</td>\n      <td>2</td>\n      <td>Tuesday</td>\n      <td>0.976190</td>\n      <td>[1, 0, 0, 0, 0, 0, 0, 0, 0, 0, 0, 0, 0]</td>\n      <td>[0, 1, 1, 1, 1, 1, 1, 0, 1, 1, 1, 1, 1]</td>\n      <td>[59.805664, 59.749221, 59.747942, 59.737167777...</td>\n      <td>[10.290383, 10.26819, 10.291249, 10.3725904226...</td>\n      <td>2024-08-06</td>\n      <td>13</td>\n    </tr>\n    <tr>\n      <th>18559</th>\n      <td>[10076, 8785, 9172, 7204, 6955, 5902, 7045]</td>\n      <td>[10076, 8785, 9172, 7204, 6955, 5902, 7045]</td>\n      <td>877</td>\n      <td>1</td>\n      <td>Tuesday</td>\n      <td>1.000000</td>\n      <td>[1, 0, 0, 0, 0, 0, 0]</td>\n      <td>[0, 1, 1, 1, 1, 1, 1]</td>\n      <td>[60.007627, 59.923836, 59.93422, 59.811373, 59...</td>\n      <td>[11.047135, 10.814451, 10.800594, 10.80755, 10...</td>\n      <td>2024-08-06</td>\n      <td>7</td>\n    </tr>\n    <tr>\n      <th>18560</th>\n      <td>[7166, 7127, 7166, 9527]</td>\n      <td>[7166, 7166, 7127, 9527]</td>\n      <td>1417</td>\n      <td>1</td>\n      <td>Wednesday</td>\n      <td>0.875000</td>\n      <td>[1, 0, 1, 0]</td>\n      <td>[0, 1, 0, 1]</td>\n      <td>[59.805664, 59.795058, 59.805664, 59.948098894...</td>\n      <td>[10.290383, 10.279009, 10.290383, 10.771520299...</td>\n      <td>2024-08-07</td>\n      <td>4</td>\n    </tr>\n    <tr>\n      <th>18561</th>\n      <td>[7166, 5428, 5394, 5385, 5347, 4633, 4350, 431...</td>\n      <td>[7166, 5428, 5394, 5385, 5347, 4633, 4350, 431...</td>\n      <td>723</td>\n      <td>1</td>\n      <td>Wednesday</td>\n      <td>1.000000</td>\n      <td>[1, 0, 0, 0, 0, 0, 0, 0, 0, 0, 0, 0]</td>\n      <td>[0, 1, 1, 1, 1, 1, 1, 1, 1, 1, 0, 1]</td>\n      <td>[59.805664, 59.420838, 59.415188, 59.414098, 5...</td>\n      <td>[10.290383, 10.488199, 10.496616, 10.487423, 1...</td>\n      <td>2024-08-07</td>\n      <td>12</td>\n    </tr>\n  </tbody>\n</table>\n<p>18562 rows × 12 columns</p>\n</div>"
     },
     "execution_count": 11,
     "metadata": {},
     "output_type": "execute_result"
    }
   ],
   "source": [
    "final_routes = pd.DataFrame({\n",
    "    'routes': completed_routes_df['planned_route_craft'].tolist(),\n",
    "    'actual_routes': completed_routes_df['actual_route_location'].tolist(),\n",
    "    'driver_id': completed_routes_df['driver_id'].tolist() ,\n",
    "    'last_two_weeks_count': completed_routes_df['last_two_weeks_count'].tolist(),\n",
    "    'day_of_week': completed_routes_df['day_of_week'].tolist(),\n",
    "    'score': completed_routes_df['score'].tolist(),\n",
    "    'location_is_depot': completed_routes_df['location_is_depot'].tolist(),\n",
    "    'location_type_id': completed_routes_df['location_type_id'].tolist(),\n",
    "    'current_lat': completed_routes_df['current_lat'].tolist(),\n",
    "    'current_lng': completed_routes_df['current_lng'].tolist(),\n",
    "    'date': completed_routes_df['date'].tolist(),\n",
    "})\n",
    "final_routes['len'] = final_routes['routes'].apply(lambda x: len(x))\n",
    "final_routes"
   ],
   "metadata": {
    "collapsed": false,
    "pycharm": {
     "name": "#%%\n"
    }
   }
  },
  {
   "cell_type": "code",
   "execution_count": 12,
   "outputs": [],
   "source": [
    "# Set country flag\n",
    "def determine_country(lat, lng):\n",
    "    if 57.5 <= lat <= 71.2 and 4.0 <= lng <= 31.0:\n",
    "        return 0  # Norway\n",
    "    elif 54.5 <= lat <= 57.8 and 8.0 <= lng <= 15.0:\n",
    "        return 1  # Denmark\n",
    "    else:\n",
    "        return 1\n",
    "final_routes['country_flag'] = final_routes.apply(lambda row: determine_country(row['current_lat'][0], row['current_lng'][0]), axis=1)\n",
    "\n",
    "MAX_CUST = max([len(i) for i in final_routes['routes']])"
   ],
   "metadata": {
    "collapsed": false,
    "pycharm": {
     "name": "#%%\n"
    }
   }
  },
  {
   "cell_type": "code",
   "execution_count": 13,
   "outputs": [
    {
     "name": "stdout",
     "output_type": "stream",
     "text": [
      "Total number of drivers 395\n",
      "10704\n"
     ]
    }
   ],
   "source": [
    "# Encode drivers\n",
    "drivers_dic = {}\n",
    "k = 1\n",
    "for driver in final_routes['driver_id']:\n",
    "    if driver not in drivers_dic:\n",
    "        drivers_dic[driver] = k\n",
    "        k += 1\n",
    "print('Total number of drivers', len(drivers_dic))\n",
    "total_drivers = len(drivers_dic)\n",
    "encoding_drivers = []\n",
    "for driver in final_routes['driver_id']:\n",
    "    encoding_drivers.append(drivers_dic[driver])\n",
    "#\n",
    "final_routes['driver_id_sorted'] = encoding_drivers\n",
    "\n",
    "# Encode locations\n",
    "locations_dic = {}\n",
    "location_count = {}\n",
    "k = 1\n",
    "for row in final_routes['routes']:\n",
    "   for location in row:\n",
    "       if location not in locations_dic:\n",
    "           locations_dic[location] = k\n",
    "           k += 1\n",
    "k = 1\n",
    "print(len(locations_dic))\n",
    "\n",
    "for row in final_routes['routes']:\n",
    "   for location in row:\n",
    "       if location not in location_count:\n",
    "            location_count[location] = 1\n",
    "       else:\n",
    "            location_count[location] += 1\n"
   ],
   "metadata": {
    "collapsed": false,
    "pycharm": {
     "name": "#%%\n"
    }
   }
  },
  {
   "cell_type": "code",
   "execution_count": 14,
   "outputs": [
    {
     "name": "stdout",
     "output_type": "stream",
     "text": [
      "correlation between number of customers and score -0.13121186778744828\n"
     ]
    }
   ],
   "source": [
    "# Encode day of week (simple number or one-hot encoding)\n",
    "\n",
    "final_routes['day_of_week_encoded'] = pd.Categorical(final_routes['day_of_week']).codes+1\n",
    "\n",
    "def encode_day_of_week(row):\n",
    "    a = np.zeros((MAX_CUST, 7), dtype=int)\n",
    "    route_len = row['len']\n",
    "    day_encoded = row['day_of_week_encoded']\n",
    "    for i in range(MAX_CUST - route_len, len(a)):\n",
    "        a[i][day_encoded-1] = 1\n",
    "    return a\n",
    "\n",
    "def encode_day_of_week_simple(row):\n",
    "    a = np.zeros(7, dtype=int)\n",
    "    day_encoded = row['day_of_week_encoded']\n",
    "    a[day_encoded - 1] = 1\n",
    "    return a\n",
    "\n",
    "# Preprocessing for model\n",
    "final_routes['experience_feature'] = final_routes.apply(lambda x: x['len'] * [x['last_two_weeks_count']], axis = 1)\n",
    "final_routes['len_feature'] = final_routes.apply(lambda x: x['len'] * [x['len']], axis = 1)\n",
    "final_routes['driver_id_feature'] = final_routes.apply(lambda x: x['len'] * [x['driver_id_sorted']], axis = 1)\n",
    "final_routes['country_flag_feature'] = final_routes.apply(lambda x: x['len'] * [x['country_flag']], axis = 1)\n",
    "final_routes['day_of_week_feature'] = final_routes.apply(encode_day_of_week, axis = 1)\n",
    "final_routes['day_of_week_encoded_ext'] = final_routes.apply(encode_day_of_week_simple, axis = 1)\n",
    "\n",
    "encoding_routes = []\n",
    "for row in final_routes['routes']:\n",
    "    encoding_route = []\n",
    "    for location in row:\n",
    "        encoding_route.append(locations_dic[location])\n",
    "    encoding_routes.append(encoding_route)\n",
    "final_routes['routes'] = encoding_routes\n",
    "\n",
    "print('correlation between number of customers and score', final_routes['len'].corr(final_routes['score']))"
   ],
   "metadata": {
    "collapsed": false,
    "pycharm": {
     "name": "#%%\n"
    }
   }
  },
  {
   "cell_type": "code",
   "execution_count": 15,
   "outputs": [],
   "source": [
    "# Sort by date and have the same sorting result all the time\n",
    "\n",
    "np.random.seed(42)\n",
    "final_routes['date'] = pd.to_datetime(final_routes['date'])\n",
    "final_routes['tie_breaker'] = range(len(final_routes))\n",
    "final_routes = final_routes.sort_values(by=['date', 'tie_breaker'], ascending=[True, True])\n",
    "final_routes = final_routes.reset_index(drop=True)\n",
    "final_routes = final_routes.drop('tie_breaker', axis=1)\n",
    "final_routes['score_cumulative_avg'] = final_routes.groupby(['driver_id_sorted', 'day_of_week'])['score'].transform(\n",
    "        lambda x: x.expanding().mean()\n",
    "    )\n",
    "final_routes['score_cumulative_driver'] = final_routes.groupby(['driver_id_sorted'])['score'].transform(\n",
    "        lambda x: x.expanding().mean()\n",
    "    )"
   ],
   "metadata": {
    "collapsed": false,
    "pycharm": {
     "name": "#%%\n"
    }
   }
  },
  {
   "cell_type": "markdown",
   "source": [
    "# Benchmarks"
   ],
   "metadata": {
    "collapsed": false,
    "pycharm": {
     "name": "#%% md\n"
    }
   }
  },
  {
   "cell_type": "markdown",
   "source": [
    "## HA"
   ],
   "metadata": {
    "collapsed": false,
    "pycharm": {
     "name": "#%% md\n"
    }
   }
  },
  {
   "cell_type": "code",
   "execution_count": 16,
   "outputs": [
    {
     "name": "stderr",
     "output_type": "stream",
     "text": [
      "/var/folders/0j/mpbqwzf51p38zw2w423xp1fw0000gn/T/ipykernel_35946/682610197.py:46: DeprecationWarning: DataFrameGroupBy.apply operated on the grouping columns. This behavior is deprecated, and in a future version of pandas the grouping columns will be excluded from the operation. Either pass `include_groups=False` to exclude the groupings or explicitly select the grouping columns after groupby to silence this warning.\n",
      "  final_routes_split = final_routes.groupby(['driver_id_sorted', 'day_of_week']).apply(split_group).reset_index(drop=True)\n"
     ]
    },
    {
     "name": "stdout",
     "output_type": "stream",
     "text": [
      "Total number of drivers 316\n",
      "Number of drivers  10538\n",
      "17354\n",
      "13555 2167 1632\n",
      "Validation Metrics:\n",
      "MSE: 0.024604169105929698, RMSE: 0.1568571614747943, MAE: 0.11378687399726202, R2: 0.24157457130178417\n",
      "\n",
      "Test Metrics:\n",
      "MSE: 0.024054287578175924, RMSE: 0.15509444728350505, MAE: 0.11518052604534747, R2: 0.26595389284536375\n"
     ]
    },
    {
     "data": {
      "text/plain": "                                                  routes     score  prediction\n18                       [1, 16, 4, 5, 5, 9, 7, 6, 3, 8]  0.620000    0.732590\n19                          [1, 16, 9, 5, 5, 4, 8, 6, 7]  0.800000    0.732590\n36                      [1, 4, 3, 16, 9, 15, 5, 5, 6, 7]  0.700000    0.736369\n37               [1, 15, 9, 16, 14, 3, 8, 4, 5, 5, 6, 7]  0.500000    0.736369\n55                [1, 1, 16, 9, 4, 8, 3, 14, 5, 5, 6, 7]  0.736111    0.866481\n...                                                  ...       ...         ...\n17270  [2152, 6835, 5467, 4920, 5465, 4621, 5794, 579...  1.000000    0.986111\n17278  [1, 23, 29, 836, 835, 841, 842, 833, 839, 846,...  0.972222    0.967387\n17294  [1, 1551, 1552, 1592, 452, 1245, 1591, 1568, 1...  0.976190    0.898846\n17302  [2152, 2200, 2214, 2215, 2223, 2201, 2201, 220...  1.000000    0.961806\n17322  [8736, 10361, 10048, 9965, 9967, 10364, 10374,...  0.726562    0.755179\n\n[1632 rows x 3 columns]",
      "text/html": "<div>\n<style scoped>\n    .dataframe tbody tr th:only-of-type {\n        vertical-align: middle;\n    }\n\n    .dataframe tbody tr th {\n        vertical-align: top;\n    }\n\n    .dataframe thead th {\n        text-align: right;\n    }\n</style>\n<table border=\"1\" class=\"dataframe\">\n  <thead>\n    <tr style=\"text-align: right;\">\n      <th></th>\n      <th>routes</th>\n      <th>score</th>\n      <th>prediction</th>\n    </tr>\n  </thead>\n  <tbody>\n    <tr>\n      <th>18</th>\n      <td>[1, 16, 4, 5, 5, 9, 7, 6, 3, 8]</td>\n      <td>0.620000</td>\n      <td>0.732590</td>\n    </tr>\n    <tr>\n      <th>19</th>\n      <td>[1, 16, 9, 5, 5, 4, 8, 6, 7]</td>\n      <td>0.800000</td>\n      <td>0.732590</td>\n    </tr>\n    <tr>\n      <th>36</th>\n      <td>[1, 4, 3, 16, 9, 15, 5, 5, 6, 7]</td>\n      <td>0.700000</td>\n      <td>0.736369</td>\n    </tr>\n    <tr>\n      <th>37</th>\n      <td>[1, 15, 9, 16, 14, 3, 8, 4, 5, 5, 6, 7]</td>\n      <td>0.500000</td>\n      <td>0.736369</td>\n    </tr>\n    <tr>\n      <th>55</th>\n      <td>[1, 1, 16, 9, 4, 8, 3, 14, 5, 5, 6, 7]</td>\n      <td>0.736111</td>\n      <td>0.866481</td>\n    </tr>\n    <tr>\n      <th>...</th>\n      <td>...</td>\n      <td>...</td>\n      <td>...</td>\n    </tr>\n    <tr>\n      <th>17270</th>\n      <td>[2152, 6835, 5467, 4920, 5465, 4621, 5794, 579...</td>\n      <td>1.000000</td>\n      <td>0.986111</td>\n    </tr>\n    <tr>\n      <th>17278</th>\n      <td>[1, 23, 29, 836, 835, 841, 842, 833, 839, 846,...</td>\n      <td>0.972222</td>\n      <td>0.967387</td>\n    </tr>\n    <tr>\n      <th>17294</th>\n      <td>[1, 1551, 1552, 1592, 452, 1245, 1591, 1568, 1...</td>\n      <td>0.976190</td>\n      <td>0.898846</td>\n    </tr>\n    <tr>\n      <th>17302</th>\n      <td>[2152, 2200, 2214, 2215, 2223, 2201, 2201, 220...</td>\n      <td>1.000000</td>\n      <td>0.961806</td>\n    </tr>\n    <tr>\n      <th>17322</th>\n      <td>[8736, 10361, 10048, 9965, 9967, 10364, 10374,...</td>\n      <td>0.726562</td>\n      <td>0.755179</td>\n    </tr>\n  </tbody>\n</table>\n<p>1632 rows × 3 columns</p>\n</div>"
     },
     "execution_count": 16,
     "metadata": {},
     "output_type": "execute_result"
    }
   ],
   "source": [
    "from sklearn.metrics import mean_squared_error, mean_absolute_error, r2_score\n",
    "import matplotlib.pyplot as plt\n",
    "def get_predictions(df, scores_dict):\n",
    "    def predict(row):\n",
    "        label = scores_dict.get((row['driver_id_sorted'], row['day_of_week']))\n",
    "        if label is None:\n",
    "            return 0.5\n",
    "        else:\n",
    "            return label\n",
    "\n",
    "    return df.apply(predict, axis=1)\n",
    "\n",
    "extra_to_val = True\n",
    "\n",
    "# Split dataset by group based on driverID and feature\n",
    "def split_group(group):\n",
    "    n = len(group)\n",
    "    if n < 4:  # Ensure at least 1 sample for train and 1 each for val and test\n",
    "        return pd.DataFrame()\n",
    "\n",
    "    # Calculate sizes for each split\n",
    "    train_size = max(int(n * 0.8), n - 4)  # Ensure at least 2 samples total for val and test\n",
    "    val_test_size = n - train_size\n",
    "\n",
    "    # Always give the extra sample to val when odd\n",
    "    val_size = (val_test_size + 1) // 2  # This will be larger when val_test_size is odd\n",
    "    test_size = val_test_size - val_size\n",
    "\n",
    "    return pd.concat([\n",
    "        group.iloc[:train_size].assign(split='train'),\n",
    "        group.iloc[train_size:train_size+val_size].assign(split='val'),\n",
    "        group.iloc[train_size+val_size:].assign(split='test')\n",
    "    ])\n",
    "\n",
    "def calculate_metrics(y_true, y_pred):\n",
    "    mse = mean_squared_error(y_true, y_pred)\n",
    "    rmse = np.sqrt(mse)\n",
    "    mae = mean_absolute_error(y_true, y_pred)\n",
    "    r2 = r2_score(y_true, y_pred)\n",
    "    return mse, rmse, mae, r2\n",
    "\n",
    "final_routes_split = final_routes.groupby(['driver_id_sorted', 'day_of_week']).apply(split_group).reset_index(drop=True)\n",
    "\n",
    "# Separate into train, validation, and test sets\n",
    "\n",
    "#First encoding drivers and locations one more time (as we removed some routes here)\n",
    "\n",
    "drivers_dic = {}\n",
    "locations_dic = {}\n",
    "location_count = {}\n",
    "k = 1\n",
    "for driver in final_routes_split['driver_id_sorted']:\n",
    "    if driver not in drivers_dic:\n",
    "        drivers_dic[driver] = k\n",
    "        k += 1\n",
    "print('Total number of drivers', len(drivers_dic))\n",
    "total_drivers = len(drivers_dic)\n",
    "encoding_drivers = []\n",
    "for driver in final_routes_split['driver_id_sorted']:\n",
    "    encoding_drivers.append(drivers_dic[driver])\n",
    "final_routes_split['driver_id_sorted'] = encoding_drivers\n",
    "\n",
    "k = 1\n",
    "for row in final_routes_split['routes']:\n",
    "   for location in row:\n",
    "       if location not in locations_dic:\n",
    "           locations_dic[location] = k\n",
    "           k += 1\n",
    "print('Number of drivers ', len(locations_dic))\n",
    "# Routes\n",
    "encoding_routes = []\n",
    "k = 1\n",
    "for row in final_routes_split['routes']:\n",
    "    encoding_route = []\n",
    "    for location in row:\n",
    "        encoding_route.append(locations_dic[location])\n",
    "    encoding_routes.append(encoding_route)\n",
    "final_routes_split['routes'] = encoding_routes\n",
    "\n",
    "# Separate into train, validation, and test sets\n",
    "print(len(final_routes_split))\n",
    "train_df = final_routes_split[final_routes_split['split'] == 'train'].drop('split', axis=1)\n",
    "val_df = final_routes_split[final_routes_split['split'] == 'val'].drop('split', axis=1)\n",
    "test_df = final_routes_split[final_routes_split['split'] == 'test'].drop('split', axis=1)\n",
    "\n",
    "print(len(train_df), len(val_df), len(test_df))\n",
    "combined_df = pd.concat([train_df, val_df, test_df], axis=0)\n",
    "combined_df = combined_df.reset_index(drop=True)\n",
    "\n",
    "val_y_true = val_df['score']\n",
    "average_scores_dict = train_df.groupby(['driver_id_sorted', 'day_of_week'])['score_cumulative_avg'].last().to_dict()\n",
    "average_scores_dict_driver = train_df.groupby(['driver_id_sorted'])['score_cumulative_driver'].last().to_dict()\n",
    "val_y_pred = get_predictions(val_df, average_scores_dict)\n",
    "val_mse, val_rmse, val_mae, val_r2 = calculate_metrics(val_y_true, val_y_pred)\n",
    "\n",
    "# Calculate metrics for test set\n",
    "test_y_true = test_df['score']\n",
    "test_y_pred = get_predictions(test_df, average_scores_dict)\n",
    "test_mse, test_rmse, test_mae, test_r2 = calculate_metrics(test_y_true, test_y_pred)\n",
    "\n",
    "test_df_group_HA = test_df.copy()\n",
    "test_df_group_HA['prediction'] = test_y_pred\n",
    "# Print results\n",
    "print(\"Validation Metrics:\")\n",
    "print(f\"MSE: {val_mse}, RMSE: {val_rmse}, MAE: {val_mae}, R2: {val_r2}\")\n",
    "print(\"\\nTest Metrics:\")\n",
    "print(f\"MSE: {test_mse}, RMSE: {test_rmse}, MAE: {test_mae}, R2: {test_r2}\")\n",
    "test_df_group_HA[['routes', 'score', 'prediction']]"
   ],
   "metadata": {
    "collapsed": false,
    "pycharm": {
     "name": "#%%\n"
    }
   }
  },
  {
   "cell_type": "markdown",
   "source": [
    "### RF"
   ],
   "metadata": {
    "collapsed": false,
    "pycharm": {
     "name": "#%% md\n"
    }
   }
  },
  {
   "cell_type": "code",
   "execution_count": 17,
   "outputs": [
    {
     "name": "stdout",
     "output_type": "stream",
     "text": [
      "13555 2167 1632\n",
      "Validation Set Metrics:\n",
      "MSE: 0.0246\n",
      "RMSE: 0.1567\n",
      "MAE: 0.1137\n",
      "R2: 0.2428\n",
      "\n",
      "Test Set Metrics:\n",
      "MSE: 0.0240\n",
      "RMSE: 0.1550\n",
      "MAE: 0.1152\n",
      "R2: 0.2664\n"
     ]
    }
   ],
   "source": [
    "from sklearn.ensemble import RandomForestRegressor\n",
    "from sklearn.metrics import mean_squared_error, mean_absolute_error, r2_score\n",
    "import numpy as np\n",
    "import pandas as pd\n",
    "import matplotlib.pyplot as plt\n",
    "\n",
    "# Assuming final_routes dataframe is available and sorted by date\n",
    "# If not, make sure to sort it by date first\n",
    "\n",
    "# Prepare the data\n",
    "rf_df = final_routes_split[['driver_id_sorted', 'day_of_week_encoded', 'score', 'split']]\n",
    "o_day_of = pd.get_dummies(rf_df['day_of_week_encoded'], prefix='day')\n",
    "o_driver = pd.get_dummies(rf_df['driver_id_sorted'], prefix='driver')\n",
    "rf_df = pd.concat([o_day_of, o_driver, rf_df['split'], rf_df['score']], axis=1)\n",
    "\n",
    "\n",
    "for col in rf_df.columns:\n",
    "    if col != 'split' and col != 'score':\n",
    "        rf_df[col] = rf_df[col].astype(int)\n",
    "\n",
    "train_df = rf_df[rf_df['split'] == 'train'].drop('split', axis=1)\n",
    "val_df = rf_df[rf_df['split'] == 'val'].drop('split', axis=1)\n",
    "test_df = rf_df[rf_df['split'] == 'test'].drop('split', axis=1)\n",
    "\n",
    "# Create X_train and y_train\n",
    "X_train = train_df.drop('score', axis=1)\n",
    "y_train = train_df['score']\n",
    "\n",
    "# Create X_val and y_val (optional, but often useful)\n",
    "X_val = val_df.drop('score', axis=1)\n",
    "y_val = val_df['score']\n",
    "\n",
    "# Create X_test and y_test (optional, but often useful)\n",
    "X_test = test_df.drop('score', axis=1)\n",
    "y_test = test_df['score']\n",
    "\n",
    "print(len(train_df), len(val_df), len(test_df))\n",
    "#\n",
    "#\n",
    "# Train the model\n",
    "model = RandomForestRegressor(random_state=42)\n",
    "model.fit(X_train, y_train)\n",
    "\n",
    "# Function to calculate metrics\n",
    "def calculate_metrics(y_true, y_pred):\n",
    "    mse = mean_squared_error(y_true, y_pred)\n",
    "    rmse = np.sqrt(mse)\n",
    "    mae = mean_absolute_error(y_true, y_pred)\n",
    "    r2 = r2_score(y_true, y_pred)\n",
    "    return mse, rmse, mae, r2\n",
    "\n",
    "# Evaluate on validation set\n",
    "y_val_pred = model.predict(X_val)\n",
    "val_mse, val_rmse, val_mae, val_r2 = calculate_metrics(y_val, y_val_pred)\n",
    "\n",
    "# Evaluate on test set\n",
    "y_test_pred = model.predict(X_test)\n",
    "test_mse, test_rmse, test_mae, test_r2 = calculate_metrics(y_test, y_test_pred)\n",
    "\n",
    "# Print metrics\n",
    "print(\"Validation Set Metrics:\")\n",
    "print(f\"MSE: {val_mse:.4f}\")\n",
    "print(f\"RMSE: {val_rmse:.4f}\")\n",
    "print(f\"MAE: {val_mae:.4f}\")\n",
    "print(f\"R2: {val_r2:.4f}\")\n",
    "\n",
    "print(\"\\nTest Set Metrics:\")\n",
    "print(f\"MSE: {test_mse:.4f}\")\n",
    "print(f\"RMSE: {test_rmse:.4f}\")\n",
    "print(f\"MAE: {test_mae:.4f}\")\n",
    "print(f\"R2: {test_r2:.4f}\")\n",
    "\n"
   ],
   "metadata": {
    "collapsed": false,
    "pycharm": {
     "name": "#%%\n"
    }
   }
  },
  {
   "cell_type": "code",
   "execution_count": 18,
   "outputs": [],
   "source": [
    "### NN benchmark"
   ],
   "metadata": {
    "collapsed": false,
    "pycharm": {
     "name": "#%%\n"
    }
   }
  },
  {
   "cell_type": "code",
   "execution_count": 19,
   "outputs": [
    {
     "name": "stdout",
     "output_type": "stream",
     "text": [
      "Epoch [10/100], Train Loss: 0.5552, Val Loss: 0.5615\n",
      "Epoch [20/100], Train Loss: 0.3625, Val Loss: 0.3629\n",
      "Epoch [30/100], Train Loss: 0.1782, Val Loss: 0.1743\n",
      "Epoch [40/100], Train Loss: 0.0562, Val Loss: 0.0532\n",
      "Epoch [50/100], Train Loss: 0.0312, Val Loss: 0.0294\n",
      "Epoch [60/100], Train Loss: 0.0315, Val Loss: 0.0284\n",
      "Epoch [70/100], Train Loss: 0.0238, Val Loss: 0.0238\n",
      "Epoch [80/100], Train Loss: 0.0224, Val Loss: 0.0243\n",
      "Epoch [90/100], Train Loss: 0.0217, Val Loss: 0.0238\n",
      "Epoch [100/100], Train Loss: 0.0212, Val Loss: 0.0232\n",
      "\n",
      "Test Set Metrics:\n",
      "MSE: 0.022494111210107803\n",
      "RMSE: 0.149980366230011\n",
      "MAE: 0.11430604755878448\n",
      "R2: 0.31356459820611315\n"
     ]
    }
   ],
   "source": [
    "import torch\n",
    "import torch.nn as nn\n",
    "import torch.optim as optim\n",
    "from sklearn.model_selection import KFold\n",
    "from sklearn.metrics import mean_squared_error, mean_absolute_error, r2_score\n",
    "import numpy as np\n",
    "import pandas as pd\n",
    "import os\n",
    "import random\n",
    "\n",
    "def set_seed(seed):\n",
    "    random.seed(seed)\n",
    "    np.random.seed(seed)\n",
    "    torch.manual_seed(seed)\n",
    "    torch.cuda.manual_seed(seed)\n",
    "    torch.cuda.manual_seed_all(seed)\n",
    "    torch.backends.cudnn.deterministic = True\n",
    "    torch.backends.cudnn.benchmark = False\n",
    "    os.environ['PYTHONHASHSEED'] = str(seed)\n",
    "    os.environ['CUBLAS_WORKSPACE_CONFIG'] = ':4096:8'\n",
    "    torch.use_deterministic_algorithms(True)\n",
    "\n",
    "set_seed(42)\n",
    "\n",
    "class SimpleNN(nn.Module):\n",
    "    def __init__(self, input_size):\n",
    "        super(SimpleNN, self).__init__()\n",
    "        self.layer1 = nn.Linear(input_size, 128)\n",
    "        self.layer2 = nn.Linear(128, 1)\n",
    "        self.relu = nn.ReLU()\n",
    "\n",
    "    def forward(self, x):\n",
    "        x = self.relu(self.layer1(x))\n",
    "        x = self.layer2(x)\n",
    "        return x\n",
    "\n",
    "# Convert data to PyTorch tensors\n",
    "X_train_tensor = torch.tensor(X_train.values, dtype=torch.float32)\n",
    "y_train_tensor = torch.tensor(y_train.values, dtype=torch.float32).view(-1, 1)\n",
    "X_val_tensor = torch.tensor(X_val.values, dtype=torch.float32)\n",
    "y_val_tensor = torch.tensor(y_val.values, dtype=torch.float32).view(-1, 1)\n",
    "X_test_tensor = torch.tensor(X_test.values, dtype=torch.float32)\n",
    "y_test_tensor = torch.tensor(y_test.values, dtype=torch.float32).view(-1, 1)\n",
    "\n",
    "# Training settings\n",
    "num_epochs = 100\n",
    "learning_rate = 0.001\n",
    "\n",
    "model = SimpleNN(X_train.shape[1])\n",
    "criterion = nn.MSELoss()\n",
    "optimizer = optim.Adam(model.parameters(), lr=learning_rate)\n",
    "\n",
    "# Training and validation loop\n",
    "best_val_loss = float('inf')\n",
    "best_model = None\n",
    "\n",
    "for epoch in range(num_epochs):\n",
    "    model.train()\n",
    "    optimizer.zero_grad()\n",
    "    outputs = model(X_train_tensor)\n",
    "    loss = criterion(outputs, y_train_tensor)\n",
    "    loss.backward()\n",
    "    optimizer.step()\n",
    "\n",
    "    # Validation\n",
    "    model.eval()\n",
    "    with torch.no_grad():\n",
    "        val_outputs = model(X_val_tensor)\n",
    "        val_loss = criterion(val_outputs, y_val_tensor)\n",
    "\n",
    "    if val_loss < best_val_loss:\n",
    "        best_val_loss = val_loss\n",
    "        best_model = model.state_dict()\n",
    "\n",
    "    if (epoch + 1) % 10 == 0:\n",
    "        print(f'Epoch [{epoch+1}/{num_epochs}], Train Loss: {loss.item():.4f}, Val Loss: {val_loss.item():.4f}')\n",
    "\n",
    "# Load the best model\n",
    "model.load_state_dict(best_model)\n",
    "\n",
    "# Evaluation on test set\n",
    "model.eval()\n",
    "with torch.no_grad():\n",
    "    y_pred = model(X_test_tensor)\n",
    "    y_true = y_test_tensor\n",
    "\n",
    "y_pred = y_pred.numpy()\n",
    "y_true = y_true.numpy()\n",
    "\n",
    "mse = mean_squared_error(y_true, y_pred)\n",
    "rmse = np.sqrt(mse)\n",
    "mae = mean_absolute_error(y_true, y_pred)\n",
    "r2 = r2_score(y_true, y_pred)\n",
    "\n",
    "print(\"\\nTest Set Metrics:\")\n",
    "print(f\"MSE: {mse}\")\n",
    "print(f\"RMSE: {rmse}\")\n",
    "print(f\"MAE: {mae}\")\n",
    "print(f\"R2: {r2}\")"
   ],
   "metadata": {
    "collapsed": false,
    "pycharm": {
     "name": "#%%\n"
    }
   }
  },
  {
   "cell_type": "markdown",
   "source": [
    "# Model (preparing data, RMM architecture, training... then more artichectures if needed)"
   ],
   "metadata": {
    "collapsed": false,
    "pycharm": {
     "name": "#%% md\n"
    }
   }
  },
  {
   "cell_type": "code",
   "execution_count": 20,
   "outputs": [
    {
     "data": {
      "text/plain": "                                                  routes  \\\n0                               [1, 2, 3, 4, 5, 5, 6, 7]   \n1                            [1, 2, 3, 8, 4, 5, 5, 6, 7]   \n2                            [1, 2, 3, 4, 5, 5, 7, 6, 8]   \n3                            [1, 2, 3, 8, 4, 5, 6, 9, 7]   \n4                            [1, 2, 3, 4, 5, 5, 6, 9, 7]   \n...                                                  ...   \n17349  [2152, 4637, 4637, 4636, 4638, 4639, 2400, 464...   \n17350  [2351, 2898, 10538, 2548, 8544, 2413, 2181, 29...   \n17351  [2351, 2354, 2395, 2788, 2351, 2527, 2373, 239...   \n17352               [2351, 2478, 2366, 2686, 2673, 2672]   \n17353         [2351, 2374, 2374, 2717, 2369, 2365, 2370]   \n\n                                           actual_routes  driver_id  \\\n0       [1167, 1405, 1560, 1413, 1391, 1391, 1434, 1269]     1255.0   \n1      [1167, 1405, 1577, 1560, 1413, 1391, 1391, 143...     1255.0   \n2      [1167, 1405, 1560, 1391, 1391, 1269, 1577, 143...     1255.0   \n3      [1167, 1405, 1168, 1560, 1577, 1413, 1391, 126...     1255.0   \n4      [1167, 1405, 1560, 1413, 1391, 1391, 1434, 126...     1255.0   \n...                                                  ...        ...   \n17349  [7166, 9311, 9311, 9604, 8209, 8188, 8277, 827...     1683.0   \n17350  [10001, 8408, 7940, 8455, 7992, 8276, 8314, 85...     1132.0   \n17351  [10001, 8499, 8249, 10177, 10001, 9736, 9498, ...     1132.0   \n17352              [10001, 5797, 7464, 5484, 4818, 4324]     1132.0   \n17353        [10001, 9052, 9052, 8341, 9364, 7049, 7716]     1132.0   \n\n       last_two_weeks_count day_of_week     score  \\\n0                       8.0      Monday  1.000000   \n1                      11.0      Monday  0.950000   \n2                      11.0      Monday  0.750000   \n3                      10.0      Monday  0.700000   \n4                      10.0      Monday  0.950000   \n...                     ...         ...       ...   \n17349                   1.0     Tuesday  0.734694   \n17350                  10.0      Friday  1.000000   \n17351                  10.0      Friday  1.000000   \n17352                   7.0      Friday  1.000000   \n17353                   5.0      Friday  1.000000   \n\n                                location_is_depot  \\\n0                        [1, 0, 0, 0, 0, 0, 0, 0]   \n1                     [1, 0, 0, 0, 0, 0, 0, 0, 0]   \n2                     [1, 0, 0, 0, 0, 0, 0, 0, 0]   \n3                     [1, 0, 0, 0, 0, 0, 0, 0, 0]   \n4                     [1, 0, 0, 0, 0, 0, 0, 0, 0]   \n...                                           ...   \n17349  [1, 0, 0, 0, 0, 0, 0, 0, 0, 0, 0, 0, 0, 0]   \n17350              [1, 0, 0, 0, 0, 0, 0, 0, 0, 0]   \n17351                 [1, 0, 0, 0, 1, 0, 0, 0, 0]   \n17352                          [1, 0, 0, 0, 0, 0]   \n17353                       [1, 0, 0, 0, 0, 0, 0]   \n\n                                 location_type_id  \\\n0                        [0, 1, 1, 1, 1, 1, 1, 1]   \n1                     [0, 1, 1, 1, 1, 1, 1, 1, 1]   \n2                     [0, 1, 1, 1, 1, 1, 1, 1, 1]   \n3                     [0, 1, 1, 1, 1, 1, 1, 1, 1]   \n4                     [0, 1, 1, 1, 1, 1, 1, 1, 1]   \n...                                           ...   \n17349  [0, 1, 1, 1, 1, 1, 1, 1, 1, 1, 1, 1, 1, 1]   \n17350              [0, 1, 1, 1, 1, 1, 1, 1, 1, 1]   \n17351                 [0, 1, 1, 1, 0, 1, 1, 1, 1]   \n17352                          [0, 1, 1, 1, 1, 1]   \n17353                       [0, 1, 1, 1, 1, 1, 1]   \n\n                                             current_lat  \\\n0      [55.64641920439919, 55.6669147, 55.6757322, 55...   \n1      [55.64641920439919, 55.6669147, 55.6757322, 55...   \n2      [55.64641920439919, 55.6669147, 55.6757322, 55...   \n3      [55.64641920439919, 55.6669147, 55.6757322, 55...   \n4      [55.64641920439919, 55.6669147, 55.6757322, 55...   \n...                                                  ...   \n17349  [59.805664, 59.93947939999999, 59.939479399999...   \n17350  [59.98883, 59.915849, 59.908422, 59.916528, 59...   \n17351  [59.98883, 59.917405, 59.913836, 60.047412, 59...   \n17352  [59.98883, 59.576297, 59.855923, 59.436834, 59...   \n17353  [59.98883, 59.930729, 59.930729, 59.914992, 59...   \n\n                                             current_lng  ...  \\\n0      [12.15372974969827, 12.5262801, 12.5619711, 12...  ...   \n1      [12.15372974969827, 12.5262801, 12.5619711, 12...  ...   \n2      [12.15372974969827, 12.5262801, 12.5619711, 12...  ...   \n3      [12.15372974969827, 12.5262801, 12.5619711, 12...  ...   \n4      [12.15372974969827, 12.5262801, 12.5619711, 12...  ...   \n...                                                  ...  ...   \n17349  [10.290383, 10.8291978, 10.8291978, 11.0489412...  ...   \n17350  [10.947692, 10.750834, 10.723568, 10.715331, 1...  ...   \n17351  [10.947692, 10.636047, 10.841898, 10.880604, 1...  ...   \n17352  [10.947692, 10.746172, 10.660825, 10.662897, 1...  ...   \n17353  [10.947692, 10.709962, 10.709962, 10.720439, 1...  ...   \n\n      day_of_week_encoded                          experience_feature  \\\n0                     2.0                    [8, 8, 8, 8, 8, 8, 8, 8]   \n1                     2.0        [11, 11, 11, 11, 11, 11, 11, 11, 11]   \n2                     2.0        [11, 11, 11, 11, 11, 11, 11, 11, 11]   \n3                     2.0        [10, 10, 10, 10, 10, 10, 10, 10, 10]   \n4                     2.0        [10, 10, 10, 10, 10, 10, 10, 10, 10]   \n...                   ...                                         ...   \n17349                 6.0  [1, 1, 1, 1, 1, 1, 1, 1, 1, 1, 1, 1, 1, 1]   \n17350                 1.0    [10, 10, 10, 10, 10, 10, 10, 10, 10, 10]   \n17351                 1.0        [10, 10, 10, 10, 10, 10, 10, 10, 10]   \n17352                 1.0                          [7, 7, 7, 7, 7, 7]   \n17353                 1.0                       [5, 5, 5, 5, 5, 5, 5]   \n\n                                             len_feature  \\\n0                               [8, 8, 8, 8, 8, 8, 8, 8]   \n1                            [9, 9, 9, 9, 9, 9, 9, 9, 9]   \n2                            [9, 9, 9, 9, 9, 9, 9, 9, 9]   \n3                            [9, 9, 9, 9, 9, 9, 9, 9, 9]   \n4                            [9, 9, 9, 9, 9, 9, 9, 9, 9]   \n...                                                  ...   \n17349  [14, 14, 14, 14, 14, 14, 14, 14, 14, 14, 14, 1...   \n17350           [10, 10, 10, 10, 10, 10, 10, 10, 10, 10]   \n17351                        [9, 9, 9, 9, 9, 9, 9, 9, 9]   \n17352                                 [6, 6, 6, 6, 6, 6]   \n17353                              [7, 7, 7, 7, 7, 7, 7]   \n\n                                       driver_id_feature  \\\n0                               [1, 1, 1, 1, 1, 1, 1, 1]   \n1                            [1, 1, 1, 1, 1, 1, 1, 1, 1]   \n2                            [1, 1, 1, 1, 1, 1, 1, 1, 1]   \n3                            [1, 1, 1, 1, 1, 1, 1, 1, 1]   \n4                            [1, 1, 1, 1, 1, 1, 1, 1, 1]   \n...                                                  ...   \n17349  [388, 388, 388, 388, 388, 388, 388, 388, 388, ...   \n17350  [391, 391, 391, 391, 391, 391, 391, 391, 391, ...   \n17351      [391, 391, 391, 391, 391, 391, 391, 391, 391]   \n17352                     [391, 391, 391, 391, 391, 391]   \n17353                [391, 391, 391, 391, 391, 391, 391]   \n\n                             country_flag_feature  \\\n0                        [1, 1, 1, 1, 1, 1, 1, 1]   \n1                     [1, 1, 1, 1, 1, 1, 1, 1, 1]   \n2                     [1, 1, 1, 1, 1, 1, 1, 1, 1]   \n3                     [1, 1, 1, 1, 1, 1, 1, 1, 1]   \n4                     [1, 1, 1, 1, 1, 1, 1, 1, 1]   \n...                                           ...   \n17349  [0, 0, 0, 0, 0, 0, 0, 0, 0, 0, 0, 0, 0, 0]   \n17350              [0, 0, 0, 0, 0, 0, 0, 0, 0, 0]   \n17351                 [0, 0, 0, 0, 0, 0, 0, 0, 0]   \n17352                          [0, 0, 0, 0, 0, 0]   \n17353                       [0, 0, 0, 0, 0, 0, 0]   \n\n                                     day_of_week_feature  \\\n0      [[0, 0, 0, 0, 0, 0, 0], [0, 0, 0, 0, 0, 0, 0],...   \n1      [[0, 0, 0, 0, 0, 0, 0], [0, 0, 0, 0, 0, 0, 0],...   \n2      [[0, 0, 0, 0, 0, 0, 0], [0, 0, 0, 0, 0, 0, 0],...   \n3      [[0, 0, 0, 0, 0, 0, 0], [0, 0, 0, 0, 0, 0, 0],...   \n4      [[0, 0, 0, 0, 0, 0, 0], [0, 0, 0, 0, 0, 0, 0],...   \n...                                                  ...   \n17349  [[0, 0, 0, 0, 0, 0, 0], [0, 0, 0, 0, 0, 0, 0],...   \n17350  [[0, 0, 0, 0, 0, 0, 0], [0, 0, 0, 0, 0, 0, 0],...   \n17351  [[0, 0, 0, 0, 0, 0, 0], [0, 0, 0, 0, 0, 0, 0],...   \n17352  [[0, 0, 0, 0, 0, 0, 0], [0, 0, 0, 0, 0, 0, 0],...   \n17353  [[0, 0, 0, 0, 0, 0, 0], [0, 0, 0, 0, 0, 0, 0],...   \n\n      day_of_week_encoded_ext score_cumulative_avg score_cumulative_driver  \\\n0       [0, 1, 0, 0, 0, 0, 0]             1.000000                1.000000   \n1       [0, 1, 0, 0, 0, 0, 0]             0.975000                0.923472   \n2       [0, 1, 0, 0, 0, 0, 0]             0.900000                0.889510   \n3       [0, 1, 0, 0, 0, 0, 0]             0.850000                0.867652   \n4       [0, 1, 0, 0, 0, 0, 0]             0.870000                0.854198   \n...                       ...                  ...                     ...   \n17349   [0, 0, 0, 0, 0, 1, 0]             0.843673                0.896884   \n17350   [1, 0, 0, 0, 0, 0, 0]             1.000000                0.972222   \n17351   [1, 0, 0, 0, 0, 0, 0]             1.000000                0.979167   \n17352   [1, 0, 0, 0, 0, 0, 0]             1.000000                0.974583   \n17353   [1, 0, 0, 0, 0, 0, 0]             1.000000                0.955278   \n\n       split  \n0      train  \n1      train  \n2      train  \n3      train  \n4      train  \n...      ...  \n17349    val  \n17350  train  \n17351  train  \n17352  train  \n17353    val  \n\n[17354 rows x 24 columns]",
      "text/html": "<div>\n<style scoped>\n    .dataframe tbody tr th:only-of-type {\n        vertical-align: middle;\n    }\n\n    .dataframe tbody tr th {\n        vertical-align: top;\n    }\n\n    .dataframe thead th {\n        text-align: right;\n    }\n</style>\n<table border=\"1\" class=\"dataframe\">\n  <thead>\n    <tr style=\"text-align: right;\">\n      <th></th>\n      <th>routes</th>\n      <th>actual_routes</th>\n      <th>driver_id</th>\n      <th>last_two_weeks_count</th>\n      <th>day_of_week</th>\n      <th>score</th>\n      <th>location_is_depot</th>\n      <th>location_type_id</th>\n      <th>current_lat</th>\n      <th>current_lng</th>\n      <th>...</th>\n      <th>day_of_week_encoded</th>\n      <th>experience_feature</th>\n      <th>len_feature</th>\n      <th>driver_id_feature</th>\n      <th>country_flag_feature</th>\n      <th>day_of_week_feature</th>\n      <th>day_of_week_encoded_ext</th>\n      <th>score_cumulative_avg</th>\n      <th>score_cumulative_driver</th>\n      <th>split</th>\n    </tr>\n  </thead>\n  <tbody>\n    <tr>\n      <th>0</th>\n      <td>[1, 2, 3, 4, 5, 5, 6, 7]</td>\n      <td>[1167, 1405, 1560, 1413, 1391, 1391, 1434, 1269]</td>\n      <td>1255.0</td>\n      <td>8.0</td>\n      <td>Monday</td>\n      <td>1.000000</td>\n      <td>[1, 0, 0, 0, 0, 0, 0, 0]</td>\n      <td>[0, 1, 1, 1, 1, 1, 1, 1]</td>\n      <td>[55.64641920439919, 55.6669147, 55.6757322, 55...</td>\n      <td>[12.15372974969827, 12.5262801, 12.5619711, 12...</td>\n      <td>...</td>\n      <td>2.0</td>\n      <td>[8, 8, 8, 8, 8, 8, 8, 8]</td>\n      <td>[8, 8, 8, 8, 8, 8, 8, 8]</td>\n      <td>[1, 1, 1, 1, 1, 1, 1, 1]</td>\n      <td>[1, 1, 1, 1, 1, 1, 1, 1]</td>\n      <td>[[0, 0, 0, 0, 0, 0, 0], [0, 0, 0, 0, 0, 0, 0],...</td>\n      <td>[0, 1, 0, 0, 0, 0, 0]</td>\n      <td>1.000000</td>\n      <td>1.000000</td>\n      <td>train</td>\n    </tr>\n    <tr>\n      <th>1</th>\n      <td>[1, 2, 3, 8, 4, 5, 5, 6, 7]</td>\n      <td>[1167, 1405, 1577, 1560, 1413, 1391, 1391, 143...</td>\n      <td>1255.0</td>\n      <td>11.0</td>\n      <td>Monday</td>\n      <td>0.950000</td>\n      <td>[1, 0, 0, 0, 0, 0, 0, 0, 0]</td>\n      <td>[0, 1, 1, 1, 1, 1, 1, 1, 1]</td>\n      <td>[55.64641920439919, 55.6669147, 55.6757322, 55...</td>\n      <td>[12.15372974969827, 12.5262801, 12.5619711, 12...</td>\n      <td>...</td>\n      <td>2.0</td>\n      <td>[11, 11, 11, 11, 11, 11, 11, 11, 11]</td>\n      <td>[9, 9, 9, 9, 9, 9, 9, 9, 9]</td>\n      <td>[1, 1, 1, 1, 1, 1, 1, 1, 1]</td>\n      <td>[1, 1, 1, 1, 1, 1, 1, 1, 1]</td>\n      <td>[[0, 0, 0, 0, 0, 0, 0], [0, 0, 0, 0, 0, 0, 0],...</td>\n      <td>[0, 1, 0, 0, 0, 0, 0]</td>\n      <td>0.975000</td>\n      <td>0.923472</td>\n      <td>train</td>\n    </tr>\n    <tr>\n      <th>2</th>\n      <td>[1, 2, 3, 4, 5, 5, 7, 6, 8]</td>\n      <td>[1167, 1405, 1560, 1391, 1391, 1269, 1577, 143...</td>\n      <td>1255.0</td>\n      <td>11.0</td>\n      <td>Monday</td>\n      <td>0.750000</td>\n      <td>[1, 0, 0, 0, 0, 0, 0, 0, 0]</td>\n      <td>[0, 1, 1, 1, 1, 1, 1, 1, 1]</td>\n      <td>[55.64641920439919, 55.6669147, 55.6757322, 55...</td>\n      <td>[12.15372974969827, 12.5262801, 12.5619711, 12...</td>\n      <td>...</td>\n      <td>2.0</td>\n      <td>[11, 11, 11, 11, 11, 11, 11, 11, 11]</td>\n      <td>[9, 9, 9, 9, 9, 9, 9, 9, 9]</td>\n      <td>[1, 1, 1, 1, 1, 1, 1, 1, 1]</td>\n      <td>[1, 1, 1, 1, 1, 1, 1, 1, 1]</td>\n      <td>[[0, 0, 0, 0, 0, 0, 0], [0, 0, 0, 0, 0, 0, 0],...</td>\n      <td>[0, 1, 0, 0, 0, 0, 0]</td>\n      <td>0.900000</td>\n      <td>0.889510</td>\n      <td>train</td>\n    </tr>\n    <tr>\n      <th>3</th>\n      <td>[1, 2, 3, 8, 4, 5, 6, 9, 7]</td>\n      <td>[1167, 1405, 1168, 1560, 1577, 1413, 1391, 126...</td>\n      <td>1255.0</td>\n      <td>10.0</td>\n      <td>Monday</td>\n      <td>0.700000</td>\n      <td>[1, 0, 0, 0, 0, 0, 0, 0, 0]</td>\n      <td>[0, 1, 1, 1, 1, 1, 1, 1, 1]</td>\n      <td>[55.64641920439919, 55.6669147, 55.6757322, 55...</td>\n      <td>[12.15372974969827, 12.5262801, 12.5619711, 12...</td>\n      <td>...</td>\n      <td>2.0</td>\n      <td>[10, 10, 10, 10, 10, 10, 10, 10, 10]</td>\n      <td>[9, 9, 9, 9, 9, 9, 9, 9, 9]</td>\n      <td>[1, 1, 1, 1, 1, 1, 1, 1, 1]</td>\n      <td>[1, 1, 1, 1, 1, 1, 1, 1, 1]</td>\n      <td>[[0, 0, 0, 0, 0, 0, 0], [0, 0, 0, 0, 0, 0, 0],...</td>\n      <td>[0, 1, 0, 0, 0, 0, 0]</td>\n      <td>0.850000</td>\n      <td>0.867652</td>\n      <td>train</td>\n    </tr>\n    <tr>\n      <th>4</th>\n      <td>[1, 2, 3, 4, 5, 5, 6, 9, 7]</td>\n      <td>[1167, 1405, 1560, 1413, 1391, 1391, 1434, 126...</td>\n      <td>1255.0</td>\n      <td>10.0</td>\n      <td>Monday</td>\n      <td>0.950000</td>\n      <td>[1, 0, 0, 0, 0, 0, 0, 0, 0]</td>\n      <td>[0, 1, 1, 1, 1, 1, 1, 1, 1]</td>\n      <td>[55.64641920439919, 55.6669147, 55.6757322, 55...</td>\n      <td>[12.15372974969827, 12.5262801, 12.5619711, 12...</td>\n      <td>...</td>\n      <td>2.0</td>\n      <td>[10, 10, 10, 10, 10, 10, 10, 10, 10]</td>\n      <td>[9, 9, 9, 9, 9, 9, 9, 9, 9]</td>\n      <td>[1, 1, 1, 1, 1, 1, 1, 1, 1]</td>\n      <td>[1, 1, 1, 1, 1, 1, 1, 1, 1]</td>\n      <td>[[0, 0, 0, 0, 0, 0, 0], [0, 0, 0, 0, 0, 0, 0],...</td>\n      <td>[0, 1, 0, 0, 0, 0, 0]</td>\n      <td>0.870000</td>\n      <td>0.854198</td>\n      <td>train</td>\n    </tr>\n    <tr>\n      <th>...</th>\n      <td>...</td>\n      <td>...</td>\n      <td>...</td>\n      <td>...</td>\n      <td>...</td>\n      <td>...</td>\n      <td>...</td>\n      <td>...</td>\n      <td>...</td>\n      <td>...</td>\n      <td>...</td>\n      <td>...</td>\n      <td>...</td>\n      <td>...</td>\n      <td>...</td>\n      <td>...</td>\n      <td>...</td>\n      <td>...</td>\n      <td>...</td>\n      <td>...</td>\n      <td>...</td>\n    </tr>\n    <tr>\n      <th>17349</th>\n      <td>[2152, 4637, 4637, 4636, 4638, 4639, 2400, 464...</td>\n      <td>[7166, 9311, 9311, 9604, 8209, 8188, 8277, 827...</td>\n      <td>1683.0</td>\n      <td>1.0</td>\n      <td>Tuesday</td>\n      <td>0.734694</td>\n      <td>[1, 0, 0, 0, 0, 0, 0, 0, 0, 0, 0, 0, 0, 0]</td>\n      <td>[0, 1, 1, 1, 1, 1, 1, 1, 1, 1, 1, 1, 1, 1]</td>\n      <td>[59.805664, 59.93947939999999, 59.939479399999...</td>\n      <td>[10.290383, 10.8291978, 10.8291978, 11.0489412...</td>\n      <td>...</td>\n      <td>6.0</td>\n      <td>[1, 1, 1, 1, 1, 1, 1, 1, 1, 1, 1, 1, 1, 1]</td>\n      <td>[14, 14, 14, 14, 14, 14, 14, 14, 14, 14, 14, 1...</td>\n      <td>[388, 388, 388, 388, 388, 388, 388, 388, 388, ...</td>\n      <td>[0, 0, 0, 0, 0, 0, 0, 0, 0, 0, 0, 0, 0, 0]</td>\n      <td>[[0, 0, 0, 0, 0, 0, 0], [0, 0, 0, 0, 0, 0, 0],...</td>\n      <td>[0, 0, 0, 0, 0, 1, 0]</td>\n      <td>0.843673</td>\n      <td>0.896884</td>\n      <td>val</td>\n    </tr>\n    <tr>\n      <th>17350</th>\n      <td>[2351, 2898, 10538, 2548, 8544, 2413, 2181, 29...</td>\n      <td>[10001, 8408, 7940, 8455, 7992, 8276, 8314, 85...</td>\n      <td>1132.0</td>\n      <td>10.0</td>\n      <td>Friday</td>\n      <td>1.000000</td>\n      <td>[1, 0, 0, 0, 0, 0, 0, 0, 0, 0]</td>\n      <td>[0, 1, 1, 1, 1, 1, 1, 1, 1, 1]</td>\n      <td>[59.98883, 59.915849, 59.908422, 59.916528, 59...</td>\n      <td>[10.947692, 10.750834, 10.723568, 10.715331, 1...</td>\n      <td>...</td>\n      <td>1.0</td>\n      <td>[10, 10, 10, 10, 10, 10, 10, 10, 10, 10]</td>\n      <td>[10, 10, 10, 10, 10, 10, 10, 10, 10, 10]</td>\n      <td>[391, 391, 391, 391, 391, 391, 391, 391, 391, ...</td>\n      <td>[0, 0, 0, 0, 0, 0, 0, 0, 0, 0]</td>\n      <td>[[0, 0, 0, 0, 0, 0, 0], [0, 0, 0, 0, 0, 0, 0],...</td>\n      <td>[1, 0, 0, 0, 0, 0, 0]</td>\n      <td>1.000000</td>\n      <td>0.972222</td>\n      <td>train</td>\n    </tr>\n    <tr>\n      <th>17351</th>\n      <td>[2351, 2354, 2395, 2788, 2351, 2527, 2373, 239...</td>\n      <td>[10001, 8499, 8249, 10177, 10001, 9736, 9498, ...</td>\n      <td>1132.0</td>\n      <td>10.0</td>\n      <td>Friday</td>\n      <td>1.000000</td>\n      <td>[1, 0, 0, 0, 1, 0, 0, 0, 0]</td>\n      <td>[0, 1, 1, 1, 0, 1, 1, 1, 1]</td>\n      <td>[59.98883, 59.917405, 59.913836, 60.047412, 59...</td>\n      <td>[10.947692, 10.636047, 10.841898, 10.880604, 1...</td>\n      <td>...</td>\n      <td>1.0</td>\n      <td>[10, 10, 10, 10, 10, 10, 10, 10, 10]</td>\n      <td>[9, 9, 9, 9, 9, 9, 9, 9, 9]</td>\n      <td>[391, 391, 391, 391, 391, 391, 391, 391, 391]</td>\n      <td>[0, 0, 0, 0, 0, 0, 0, 0, 0]</td>\n      <td>[[0, 0, 0, 0, 0, 0, 0], [0, 0, 0, 0, 0, 0, 0],...</td>\n      <td>[1, 0, 0, 0, 0, 0, 0]</td>\n      <td>1.000000</td>\n      <td>0.979167</td>\n      <td>train</td>\n    </tr>\n    <tr>\n      <th>17352</th>\n      <td>[2351, 2478, 2366, 2686, 2673, 2672]</td>\n      <td>[10001, 5797, 7464, 5484, 4818, 4324]</td>\n      <td>1132.0</td>\n      <td>7.0</td>\n      <td>Friday</td>\n      <td>1.000000</td>\n      <td>[1, 0, 0, 0, 0, 0]</td>\n      <td>[0, 1, 1, 1, 1, 1]</td>\n      <td>[59.98883, 59.576297, 59.855923, 59.436834, 59...</td>\n      <td>[10.947692, 10.746172, 10.660825, 10.662897, 1...</td>\n      <td>...</td>\n      <td>1.0</td>\n      <td>[7, 7, 7, 7, 7, 7]</td>\n      <td>[6, 6, 6, 6, 6, 6]</td>\n      <td>[391, 391, 391, 391, 391, 391]</td>\n      <td>[0, 0, 0, 0, 0, 0]</td>\n      <td>[[0, 0, 0, 0, 0, 0, 0], [0, 0, 0, 0, 0, 0, 0],...</td>\n      <td>[1, 0, 0, 0, 0, 0, 0]</td>\n      <td>1.000000</td>\n      <td>0.974583</td>\n      <td>train</td>\n    </tr>\n    <tr>\n      <th>17353</th>\n      <td>[2351, 2374, 2374, 2717, 2369, 2365, 2370]</td>\n      <td>[10001, 9052, 9052, 8341, 9364, 7049, 7716]</td>\n      <td>1132.0</td>\n      <td>5.0</td>\n      <td>Friday</td>\n      <td>1.000000</td>\n      <td>[1, 0, 0, 0, 0, 0, 0]</td>\n      <td>[0, 1, 1, 1, 1, 1, 1]</td>\n      <td>[59.98883, 59.930729, 59.930729, 59.914992, 59...</td>\n      <td>[10.947692, 10.709962, 10.709962, 10.720439, 1...</td>\n      <td>...</td>\n      <td>1.0</td>\n      <td>[5, 5, 5, 5, 5, 5, 5]</td>\n      <td>[7, 7, 7, 7, 7, 7, 7]</td>\n      <td>[391, 391, 391, 391, 391, 391, 391]</td>\n      <td>[0, 0, 0, 0, 0, 0, 0]</td>\n      <td>[[0, 0, 0, 0, 0, 0, 0], [0, 0, 0, 0, 0, 0, 0],...</td>\n      <td>[1, 0, 0, 0, 0, 0, 0]</td>\n      <td>1.000000</td>\n      <td>0.955278</td>\n      <td>val</td>\n    </tr>\n  </tbody>\n</table>\n<p>17354 rows × 24 columns</p>\n</div>"
     },
     "execution_count": 20,
     "metadata": {},
     "output_type": "execute_result"
    }
   ],
   "source": [
    "def padding_(routes, route_len):\n",
    "    features = np.zeros((len(routes), route_len),dtype=np.float16)\n",
    "    for ii, route in enumerate(routes):\n",
    "        if len(route) != 0:\n",
    "            features[ii, -len(route):] = np.array(route)[:route_len]\n",
    "    return features\n",
    "\n",
    "X = final_routes_split.drop(columns = ['driver_id', 'len', 'driver_id_sorted','day_of_week_encoded'])\n",
    "max_route_length = max(len(item) for item in final_routes_split['routes'])\n",
    "y = np.array(final_routes_split['score'])\n",
    "final_routes_split"
   ],
   "metadata": {
    "collapsed": false,
    "pycharm": {
     "name": "#%%\n"
    }
   }
  },
  {
   "cell_type": "code",
   "execution_count": 21,
   "outputs": [],
   "source": [
    "from torch.utils.data import Dataset, DataLoader\n",
    "import torch\n",
    "import random\n",
    "import torch.nn as nn\n",
    "\n",
    "seed_value = 42\n",
    "device = \"cpu\"\n",
    "g = torch.Generator()\n",
    "\n",
    "torch.backends.cudnn.deterministic = True\n",
    "torch.backends.cudnn.benchmark = False\n",
    "\n",
    "# Additional steps if using DataLoaders (to ensure reproducibility in data loading)\n",
    "torch.use_deterministic_algorithms(True)\n",
    "\n",
    "def reset_random():\n",
    "    g.manual_seed(seed_value)\n",
    "    torch.manual_seed(seed_value)\n",
    "\n",
    "def seed_worker(worker_id):\n",
    "    worker_seed = torch.initial_seed() % 2**32\n",
    "    np.random.seed(worker_seed)\n",
    "    random.seed(worker_seed)\n",
    "\n",
    "def set_seed(seed):\n",
    "    random.seed(seed)\n",
    "    np.random.seed(seed)\n",
    "    torch.manual_seed(seed)\n",
    "    torch.cuda.manual_seed(seed)\n",
    "    torch.cuda.manual_seed_all(seed)\n",
    "    torch.backends.cudnn.deterministic = True\n",
    "    torch.backends.cudnn.benchmark = False\n",
    "    os.environ['PYTHONHASHSEED'] = str(seed)\n",
    "    os.environ['CUBLAS_WORKSPACE_CONFIG'] = ':4096:8'\n",
    "    torch.use_deterministic_algorithms(True)\n",
    "\n",
    "set_seed(42)"
   ],
   "metadata": {
    "collapsed": false,
    "pycharm": {
     "name": "#%%\n"
    }
   }
  },
  {
   "cell_type": "markdown",
   "source": [
    "## RNN"
   ],
   "metadata": {
    "collapsed": false,
    "pycharm": {
     "name": "#%% md\n"
    }
   }
  },
  {
   "cell_type": "code",
   "execution_count": 29,
   "outputs": [],
   "source": [
    "class PredictionRNN(nn.Module):\n",
    "    def __init__(self,no_layers,vocab_size, vocab_size_driv, vocab_size_len,hidden_dim,embedding_dim,embedding_dim_driv, output_dim,additional_feature_count,drop_prob=0.5):\n",
    "        super(PredictionRNN,self).__init__()\n",
    "\n",
    "        self.output_dim = output_dim\n",
    "        self.hidden_dim = hidden_dim\n",
    "\n",
    "        self.no_layers = no_layers\n",
    "        self.vocab_size = vocab_size\n",
    "        self.vocab_size_driv = vocab_size_driv\n",
    "        self.vocab_size_len = vocab_size_len\n",
    "\n",
    "        # embedding and LSTM layers\n",
    "        self.embedding = nn.Embedding(vocab_size, embedding_dim)\n",
    "        self.embedding_driv = nn.Embedding(vocab_size_driv, embedding_dim_driv)\n",
    "\n",
    "        #lstm\n",
    "        self.lstm = nn.LSTM(input_size=embedding_dim,hidden_size=self.hidden_dim,\n",
    "                           num_layers=no_layers, batch_first=True)\n",
    "        self.dropout = nn.Dropout(drop_prob)\n",
    "        self.fc_static_1 = nn.Linear(embedding_dim_driv+9, 128)\n",
    "        self.fc = nn.Linear(64+128,128)\n",
    "        self.layer2 = nn.Linear(128, 64)\n",
    "        self.layer3 = nn.Linear(64, 1)\n",
    "        self.relu = nn.ReLU()\n",
    "        self.sig = nn.Sigmoid()\n",
    "\n",
    "    def forward(self,x):\n",
    "        batch_size = len(x['routes'])\n",
    "        route_ids = x['routes'].int()\n",
    "\n",
    "        embeds = self.embedding(route_ids)  # shape: B x S x Feature   since batch = True\n",
    "\n",
    "        # get driver ids example\n",
    "        driver_ids = x['driver_id_sorted'].int()\n",
    "        experience = x['last_two_weeks_count'].int()\n",
    "        len_feature = x['len'].float()\n",
    "        day_of_week_feature = x['day_of_week_encoded_ext'].float()\n",
    "        country_flag = x['country_flag'].int()\n",
    "\n",
    "        embedding_driv = self.embedding_driv(driver_ids)\n",
    "        all_embeds = embeds\n",
    "        all_static = torch.concatenate((embedding_driv, country_flag.view(batch_size, 1), day_of_week_feature, len_feature.view(batch_size, 1)), dim=1)\n",
    "        lstm_out, _ = self.lstm(all_embeds)\n",
    "        lstm_out = lstm_out.contiguous().view(batch_size, max_route_length, self.hidden_dim)\n",
    "        out = self.dropout(lstm_out)\n",
    "\n",
    "        out_static = self.relu(self.fc_static_1(all_static))\n",
    "        out_static = out_static.squeeze(1).unsqueeze(1).repeat(1, 36, 1)  # New shape: [2048, 36, 64]\n",
    "        out = self.fc(torch.cat((out, out_static), dim=2))\n",
    "        x = self.relu(out)\n",
    "        x = self.relu(self.layer2(x))\n",
    "        x = self.layer3(x)\n",
    "        sig_out = self.sig(x)\n",
    "        sig_out = sig_out.view(batch_size, -1)\n",
    "        sig_out = sig_out[:, -1] # get last batch of labels\n",
    "        return sig_out"
   ],
   "metadata": {
    "collapsed": false,
    "pycharm": {
     "name": "#%%\n"
    }
   }
  },
  {
   "cell_type": "code",
   "execution_count": 50,
   "outputs": [],
   "source": [
    "def get_model():\n",
    "    no_layers = 2\n",
    "    vocab_size = 10539 #extra 1 for padding\n",
    "    vocab_size_driv = 317\n",
    "    vocab_size_len = 37 #extra 1 for padding\n",
    "    embedding_dim = 64 #was 64\n",
    "    embedding_dim_driv = 32 #was 64\n",
    "    # embedding_dim_len = 2 #was 64\n",
    "    output_dim = 1\n",
    "    hidden_dim = 64 #was 64\n",
    "\n",
    "## CHANGE MODEL HERE\n",
    "    model = PredictionRNN(no_layers,vocab_size, vocab_size_driv, vocab_size_len, hidden_dim,embedding_dim, embedding_dim_driv, output_dim,len(drivers_dic),drop_prob=0.5)\n",
    "    # model = PredictionAllFeaturesCNN(no_layers, vocab_size, vocab_size_driv, embedding_dim, embedding_dim_driv, output_dim, drop_prob=0.5)\n",
    "    # model = NanoTransformer(embedding_dim, vocab_size, embedding_dim_driv, vocab_size_driv)\n",
    "    model.train()\n",
    "    print(model)\n",
    "    return model"
   ],
   "metadata": {
    "collapsed": false,
    "pycharm": {
     "name": "#%%\n"
    }
   }
  },
  {
   "cell_type": "code",
   "execution_count": 36,
   "outputs": [],
   "source": [
    "def rmse(pred, label):\n",
    "    return torch.sqrt(torch.mean((pred.squeeze() - label.squeeze())**2))"
   ],
   "metadata": {
    "collapsed": false,
    "pycharm": {
     "name": "#%%\n"
    }
   }
  },
  {
   "cell_type": "code",
   "execution_count": 40,
   "outputs": [],
   "source": [
    "RUN_NAME = 'prediction_model'\n",
    "def train_model(data, model, epochs = 20):\n",
    "    train_loader, valid_loader = data\n",
    "    lr=0.001\n",
    "\n",
    "    criterion = nn.MSELoss()\n",
    "\n",
    "    optimizer = torch.optim.Adam(model.parameters(), lr=lr)\n",
    "\n",
    "    clip = 5\n",
    "    valid_loss_min = np.Inf\n",
    "    # train for some number of epochs\n",
    "    epoch_tr_loss,epoch_vl_loss = [],[]\n",
    "\n",
    "    for epoch in range(epochs):\n",
    "        train_losses = []\n",
    "        train_rmse = 0.0\n",
    "        model.train()\n",
    "        for inputs, labels in train_loader:\n",
    "            model.zero_grad()\n",
    "            output = model(inputs)\n",
    "            loss = criterion(output.view(-1), labels.float())\n",
    "            loss.backward()\n",
    "            train_losses.append(loss.item())\n",
    "            train_rmse += rmse(output,labels)\n",
    "            #`clip_grad_norm` helps prevent the exploding gradient problem in RNNs / LSTMs.\n",
    "            nn.utils.clip_grad_norm_(model.parameters(), clip)\n",
    "            optimizer.step()\n",
    "        val_losses = []\n",
    "        val_rmse = 0.0\n",
    "        model.eval()\n",
    "        for inputs, labels in valid_loader:\n",
    "                # inputs, labels = inputs.to(device), labels.to(device)\n",
    "                output = model(inputs)\n",
    "                val_loss = criterion(output.view(-1), labels.float())\n",
    "                val_losses.append(val_loss.item())\n",
    "                val_rmse += rmse(output,labels)\n",
    "\n",
    "        epoch_train_loss = np.mean(train_losses)\n",
    "        epoch_val_loss = np.mean(val_losses)\n",
    "\n",
    "        epoch_tr_loss.append(epoch_train_loss)\n",
    "        epoch_vl_loss.append(epoch_val_loss)\n",
    "        epoch_train_rmse = train_rmse / len(train_loader)\n",
    "        epoch_val_rmse = val_rmse / len(valid_loader)\n",
    "        print(f'Epoch {epoch+1}')\n",
    "        print(f'train_loss : {epoch_train_loss} val_loss : {epoch_val_loss}')\n",
    "        print(f'train_rmse : {epoch_train_rmse} val_rmse : {epoch_val_rmse}')\n",
    "\n",
    "        if epoch_val_loss <= valid_loss_min:\n",
    "            torch.save(model.state_dict(), f'{RUN_NAME}.pt')\n",
    "            print('Validation loss decreased ({:.6f} --> {:.6f}).  Saving model ...'.format(valid_loss_min,epoch_val_loss))\n",
    "            valid_loss_min = epoch_val_loss\n",
    "        print(25*'==')"
   ],
   "metadata": {
    "collapsed": false,
    "pycharm": {
     "name": "#%%\n"
    }
   }
  },
  {
   "cell_type": "code",
   "execution_count": 41,
   "outputs": [],
   "source": [
    "from sklearn.metrics import mean_squared_error, mean_absolute_error, r2_score\n",
    "import matplotlib.pyplot as plt\n",
    "\n",
    "def get_stats(model, data):\n",
    "    model.eval()\n",
    "    y_pred = []\n",
    "    y = []\n",
    "    for inputs, labels in data:\n",
    "        y.extend(labels)\n",
    "        results = model(inputs).detach()\n",
    "        y_pred.extend(results)\n",
    "\n",
    "    y = np.array(y)\n",
    "    y_pred = np.array(y_pred)\n",
    "\n",
    "    mse = mean_squared_error(y, y_pred)\n",
    "    rmse = np.sqrt(mse)\n",
    "    mae = mean_absolute_error(y, y_pred)\n",
    "    r2 = r2_score(y, y_pred)\n",
    "\n",
    "    return {\n",
    "        \"mse\": mse,\n",
    "        \"rmse\": rmse,\n",
    "        \"mae\": mae,\n",
    "        \"r2\": r2,\n",
    "        \"y\": y,\n",
    "        \"y_pred\":y_pred\n",
    "    }\n"
   ],
   "metadata": {
    "collapsed": false,
    "pycharm": {
     "name": "#%%\n"
    }
   }
  },
  {
   "cell_type": "code",
   "execution_count": 42,
   "outputs": [
    {
     "name": "stdout",
     "output_type": "stream",
     "text": [
      "len(train_df) = 13555, len(val_df) = 2167, len(test_df) = 1632\n",
      "PredictionRNN(\n",
      "  (embedding): Embedding(10539, 64)\n",
      "  (embedding_driv): Embedding(317, 32)\n",
      "  (lstm): LSTM(64, 64, num_layers=2, batch_first=True)\n",
      "  (dropout): Dropout(p=0.5, inplace=False)\n",
      "  (fc_static_1): Linear(in_features=41, out_features=128, bias=True)\n",
      "  (fc): Linear(in_features=192, out_features=128, bias=True)\n",
      "  (layer2): Linear(in_features=128, out_features=64, bias=True)\n",
      "  (layer3): Linear(in_features=64, out_features=1, bias=True)\n",
      "  (relu): ReLU()\n",
      "  (sig): Sigmoid()\n",
      ")\n",
      "Epoch 1\n",
      "train_loss : 0.11094819115740913 val_loss : 0.07618759945034981\n",
      "train_rmse : 0.32996503486446155 val_rmse : 0.2759753431161276\n",
      "Validation loss decreased (inf --> 0.076188).  Saving model ...\n",
      "==================================================\n",
      "Epoch 2\n",
      "train_loss : 0.04618768260947296 val_loss : 0.030525991693139076\n",
      "train_rmse : 0.2117647655602375 val_rmse : 0.17454078465190312\n",
      "Validation loss decreased (0.076188 --> 0.030526).  Saving model ...\n",
      "==================================================\n",
      "Epoch 3\n",
      "train_loss : 0.03832546727997916 val_loss : 0.033714368008077145\n",
      "train_rmse : 0.19229162280102544 val_rmse : 0.18348806875068124\n",
      "==================================================\n",
      "Epoch 4\n",
      "train_loss : 0.03816488039280687 val_loss : 0.02897767163813114\n",
      "train_rmse : 0.19002918030154622 val_rmse : 0.17001684001169742\n",
      "Validation loss decreased (0.030526 --> 0.028978).  Saving model ...\n",
      "==================================================\n",
      "Epoch 5\n",
      "train_loss : 0.0341677867940494 val_loss : 0.029881630092859268\n",
      "train_rmse : 0.18156093298885015 val_rmse : 0.17263371160498292\n",
      "==================================================\n",
      "Epoch 6\n",
      "train_loss : 0.033187786383288245 val_loss : 0.028933015652000904\n",
      "train_rmse : 0.18023455385141077 val_rmse : 0.16987212391070775\n",
      "Validation loss decreased (0.028978 --> 0.028933).  Saving model ...\n",
      "==================================================\n",
      "Epoch 7\n",
      "train_loss : 0.03131662016468389 val_loss : 0.027260967530310154\n",
      "train_rmse : 0.1751385481510017 val_rmse : 0.16488772866963347\n",
      "Validation loss decreased (0.028933 --> 0.027261).  Saving model ...\n",
      "==================================================\n",
      "Epoch 8\n",
      "train_loss : 0.03059848424579416 val_loss : 0.02657369337975979\n",
      "train_rmse : 0.17286294701321792 val_rmse : 0.16279614622265237\n",
      "Validation loss decreased (0.027261 --> 0.026574).  Saving model ...\n",
      "==================================================\n",
      "Epoch 9\n",
      "train_loss : 0.029756825417280197 val_loss : 0.026056098751723766\n",
      "train_rmse : 0.17047224122561697 val_rmse : 0.1612032172463373\n",
      "Validation loss decreased (0.026574 --> 0.026056).  Saving model ...\n",
      "==================================================\n",
      "Epoch 10\n",
      "train_loss : 0.028571183128016337 val_loss : 0.02556687779724598\n",
      "train_rmse : 0.1674370678753662 val_rmse : 0.15968466597704206\n",
      "Validation loss decreased (0.026056 --> 0.025567).  Saving model ...\n",
      "==================================================\n",
      "Epoch 11\n",
      "train_loss : 0.027241888056908335 val_loss : 0.024898067116737366\n",
      "train_rmse : 0.1638007912568322 val_rmse : 0.15757743143199926\n",
      "Validation loss decreased (0.025567 --> 0.024898).  Saving model ...\n",
      "==================================================\n",
      "Epoch 12\n",
      "train_loss : 0.02611073026699679 val_loss : 0.024593070149421692\n",
      "train_rmse : 0.16055053304760744 val_rmse : 0.15664528192822294\n",
      "Validation loss decreased (0.024898 --> 0.024593).  Saving model ...\n",
      "==================================================\n",
      "Epoch 13\n",
      "train_loss : 0.02488598387156214 val_loss : 0.024220586754381657\n",
      "train_rmse : 0.156995912070365 val_rmse : 0.1554899934643535\n",
      "Validation loss decreased (0.024593 --> 0.024221).  Saving model ...\n",
      "==================================================\n",
      "Epoch 14\n",
      "train_loss : 0.02376170749110835 val_loss : 0.02383518870919943\n",
      "train_rmse : 0.1535515006818741 val_rmse : 0.15427809525599107\n",
      "Validation loss decreased (0.024221 --> 0.023835).  Saving model ...\n",
      "==================================================\n",
      "Epoch 15\n",
      "train_loss : 0.022722579538822174 val_loss : 0.02352948859333992\n",
      "train_rmse : 0.1502213175836993 val_rmse : 0.1533090687727562\n",
      "Validation loss decreased (0.023835 --> 0.023529).  Saving model ...\n",
      "==================================================\n",
      "Epoch 16\n",
      "train_loss : 0.02174724904554231 val_loss : 0.023161619901657104\n",
      "train_rmse : 0.14702938856816683 val_rmse : 0.15211060878944296\n",
      "Validation loss decreased (0.023529 --> 0.023162).  Saving model ...\n",
      "==================================================\n",
      "Epoch 17\n",
      "train_loss : 0.020991320056574687 val_loss : 0.02286460157483816\n",
      "train_rmse : 0.14445456759857248 val_rmse : 0.1511304394668182\n",
      "Validation loss decreased (0.023162 --> 0.022865).  Saving model ...\n",
      "==================================================\n",
      "Epoch 18\n",
      "train_loss : 0.020217676780053546 val_loss : 0.022646049037575722\n",
      "train_rmse : 0.1417915492543115 val_rmse : 0.1504019821058779\n",
      "Validation loss decreased (0.022865 --> 0.022646).  Saving model ...\n",
      "==================================================\n",
      "Epoch 19\n",
      "train_loss : 0.019524639738457545 val_loss : 0.022468418814241886\n",
      "train_rmse : 0.13935477597134055 val_rmse : 0.14980839996129175\n",
      "Validation loss decreased (0.022646 --> 0.022468).  Saving model ...\n",
      "==================================================\n",
      "Epoch 20\n",
      "train_loss : 0.018860287565205778 val_loss : 0.022270879708230495\n",
      "train_rmse : 0.13696933486448845 val_rmse : 0.1491512929445815\n",
      "Validation loss decreased (0.022468 --> 0.022271).  Saving model ...\n",
      "==================================================\n",
      "PredictionRNN(\n",
      "  (embedding): Embedding(10539, 64)\n",
      "  (embedding_driv): Embedding(317, 32)\n",
      "  (lstm): LSTM(64, 64, num_layers=2, batch_first=True)\n",
      "  (dropout): Dropout(p=0.5, inplace=False)\n",
      "  (fc_static_1): Linear(in_features=41, out_features=128, bias=True)\n",
      "  (fc): Linear(in_features=192, out_features=128, bias=True)\n",
      "  (layer2): Linear(in_features=128, out_features=64, bias=True)\n",
      "  (layer3): Linear(in_features=64, out_features=1, bias=True)\n",
      "  (relu): ReLU()\n",
      "  (sig): Sigmoid()\n",
      ")\n",
      "\n",
      "Test Set Metrics:\n",
      "MSE: 0.022073619384459068\n",
      "RMSE: 0.1485719333671709\n",
      "MAE: 0.11308354178083273\n",
      "R2: 0.32639641364078176\n"
     ]
    }
   ],
   "source": [
    "from sklearn.preprocessing import StandardScaler\n",
    "set_seed(42)\n",
    "FEATURE_COLUMNS = ['routes', 'driver_id_feature', 'driver_id_sorted','last_two_weeks_count', 'len', 'day_of_week_feature', 'day_of_week_encoded_ext', 'country_flag', 'location_is_depot', 'location_type_id']\n",
    "\n",
    "\n",
    "class DataFrameDataset(Dataset):\n",
    "    def __init__(self, df, len_scaler=None, two_weeks_scaler=None):\n",
    "        self.df = df\n",
    "        self.len_scaler = len_scaler\n",
    "        self.two_weeks_scaler = two_weeks_scaler\n",
    "\n",
    "    def __len__(self):\n",
    "        return len(self.df)\n",
    "\n",
    "    def __getitem__(self, idx):\n",
    "        item = {}\n",
    "        for col in FEATURE_COLUMNS:\n",
    "            feature = self.df[col].iloc[idx]\n",
    "            if isinstance(feature, list):\n",
    "                feature = padding_([feature], max_route_length)[0]\n",
    "            if col == 'len' and self.len_scaler is not None:\n",
    "                feature_df = pd.DataFrame({'len': [feature]})\n",
    "                feature = self.len_scaler.transform(feature_df)[0][0]\n",
    "            elif col == 'last_two_weeks_count' and self.two_weeks_scaler is not None:\n",
    "                feature_df = pd.DataFrame({'last_two_weeks_count': [feature]})\n",
    "                feature = self.two_weeks_scaler.transform(feature_df)[0][0]\n",
    "            item[col] = feature\n",
    "        item['score'] = self.df['score'].iloc[idx]\n",
    "        return item, item['score']\n",
    "\n",
    "def get_data_loaders(train_df, val_df, test_df):\n",
    "\n",
    "    len_scaler = StandardScaler()\n",
    "    two_weeks_scaler = StandardScaler()\n",
    "\n",
    "    len_scaler.fit(train_df[['len']])\n",
    "    two_weeks_scaler.fit(train_df[['last_two_weeks_count']])\n",
    "\n",
    "    for df in [train_df, val_df, test_df]:\n",
    "        df['len'] = len_scaler.transform(df[['len']])\n",
    "        df['last_two_weeks_count'] = two_weeks_scaler.transform(df[['last_two_weeks_count']])\n",
    "\n",
    "    # Create Tensor datasets\n",
    "    train_data = DataFrameDataset(train_df, len_scaler, two_weeks_scaler)\n",
    "    val_data = DataFrameDataset(val_df, len_scaler, two_weeks_scaler)\n",
    "    test_data = DataFrameDataset(test_df, len_scaler, two_weeks_scaler)\n",
    "\n",
    "    # dataloaders\n",
    "    batch_size = 2048\n",
    "\n",
    "    # make sure to SHUFFLE your data\n",
    "    train_loader = DataLoader(train_data, shuffle=False, batch_size=batch_size, generator=g, worker_init_fn=seed_worker)\n",
    "    val_loader = DataLoader(val_data, shuffle=False, batch_size=batch_size, generator=g, worker_init_fn=seed_worker)\n",
    "    test_loader = DataLoader(test_data, shuffle=False, batch_size=batch_size, generator=g, worker_init_fn=seed_worker)\n",
    "    return train_loader, val_loader, test_loader\n",
    "\n",
    "train_df = final_routes_split[final_routes_split['split'] == 'train'].drop('split', axis=1)\n",
    "val_df = final_routes_split[final_routes_split['split'] == 'val'].drop('split', axis=1)\n",
    "test_df = final_routes_split[final_routes_split['split'] == 'test'].drop('split', axis=1)\n",
    "\n",
    "print(f'len(train_df) = {len(train_df)}, len(val_df) = {len(val_df)}, len(test_df) = {len(test_df)}')\n",
    "\n",
    "train_loader, val_loader, test_loader = get_data_loaders(train_df, val_df, test_df)\n",
    "\n",
    "model = get_model()\n",
    "model.train()\n",
    "\n",
    "# Train the model\n",
    "train_model((train_loader, val_loader), model, epochs=20)\n",
    "\n",
    "# Load the best model\n",
    "model = get_model()\n",
    "model.load_state_dict(torch.load(f'{RUN_NAME}.pt'))\n",
    "\n",
    "# Evaluate on test set\n",
    "model.eval()\n",
    "test_stats = get_stats(model, test_loader)\n",
    "\n",
    "print(\"\\nTest Set Metrics:\")\n",
    "print(f\"MSE: {test_stats['mse']}\")\n",
    "print(f\"RMSE: {test_stats['rmse']}\")\n",
    "print(f\"MAE: {test_stats['mae']}\")\n",
    "print(f\"R2: {test_stats['r2']}\")"
   ],
   "metadata": {
    "collapsed": false,
    "pycharm": {
     "name": "#%%\n"
    }
   }
  },
  {
   "cell_type": "markdown",
   "source": [
    "## Inference Example"
   ],
   "metadata": {
    "collapsed": false,
    "pycharm": {
     "name": "#%% md\n"
    }
   }
  },
  {
   "cell_type": "code",
   "execution_count": 49,
   "outputs": [
    {
     "name": "stdout",
     "output_type": "stream",
     "text": [
      "PredictionRNN(\n",
      "  (embedding): Embedding(10539, 64)\n",
      "  (embedding_driv): Embedding(317, 32)\n",
      "  (lstm): LSTM(64, 64, num_layers=2, batch_first=True)\n",
      "  (dropout): Dropout(p=0.5, inplace=False)\n",
      "  (fc_static_1): Linear(in_features=41, out_features=128, bias=True)\n",
      "  (fc): Linear(in_features=192, out_features=128, bias=True)\n",
      "  (layer2): Linear(in_features=128, out_features=64, bias=True)\n",
      "  (layer3): Linear(in_features=64, out_features=1, bias=True)\n",
      "  (relu): ReLU()\n",
      "  (sig): Sigmoid()\n",
      ")\n",
      "Score: 0.9368\n"
     ]
    }
   ],
   "source": [
    "model_path = 'prediction_model.pt'\n",
    "device = torch.device('cuda' if torch.cuda.is_available() else 'cpu')\n",
    "model = get_model()  # Initialize model architecture\n",
    "model.load_state_dict(torch.load(model_path, map_location=device))\n",
    "model.eval()\n",
    "\n",
    "def predict_single_sample(model, input_data, device='cpu'):\n",
    "    \"\"\"\n",
    "    Make prediction for a single sample\n",
    "    \"\"\"\n",
    "    model.eval()  # Set model to evaluation mode\n",
    "\n",
    "    padded_routes = input_data['routes']\n",
    "    if len(padded_routes) < max_route_length:\n",
    "        padded_routes = padded_routes + [0] * (max_route_length - len(padded_routes))\n",
    "    elif len(padded_routes) > max_route_length:\n",
    "        padded_routes = padded_routes[:max_route_length]\n",
    "\n",
    "    # Convert input data to tensors\n",
    "    input_tensors = {\n",
    "        'routes': torch.tensor([padded_routes]).to(device),\n",
    "        'driver_id_sorted': torch.tensor([input_data['driver_id_sorted']]).to(device),\n",
    "        'last_two_weeks_count': torch.tensor([input_data['last_two_weeks_count']]).to(device),\n",
    "        'len': torch.tensor([input_data['len']]).to(device),\n",
    "        'day_of_week_encoded_ext': torch.tensor([input_data['day_of_week_encoded_ext']]).to(device),\n",
    "        'country_flag': torch.tensor([input_data['country_flag']]).to(device),\n",
    "    }\n",
    "\n",
    "    with torch.no_grad():  # No need to track gradients during inference\n",
    "        output = model(input_tensors)\n",
    "        score = output.item()\n",
    "\n",
    "    return {'Score': score}\n",
    "\n",
    "# 2. Prepare sample data\n",
    "route = [1, 2, 3, 4]\n",
    "encoding_route = []\n",
    "for location in route:\n",
    "    encoding_route.append(locations_dic[location])\n",
    "\n",
    "sample_data = {\n",
    "    'routes': encoding_route,  # Your route sequence\n",
    "    'driver_id_sorted': drivers_dic[5],  # Driver ID\n",
    "    'last_two_weeks_count': 10,  # Experience count\n",
    "    'len': 4,  # Length feature\n",
    "    'day_of_week_encoded_ext': [1, 0, 0, 0, 0, 0, 0],  # One-hot encoded day\n",
    "    'country_flag': 1,  # Country flag\n",
    "}\n",
    "\n",
    "# 3. Make prediction\n",
    "result = predict_single_sample(model, sample_data, device)\n",
    "print(f\"Score: {result['Score']:.4f}\")"
   ],
   "metadata": {
    "collapsed": false,
    "pycharm": {
     "name": "#%%\n"
    }
   }
  },
  {
   "cell_type": "markdown",
   "source": [
    "## CNN architecture"
   ],
   "metadata": {
    "collapsed": false,
    "pycharm": {
     "name": "#%% md\n"
    }
   },
   "execution_count": 43
  },
  {
   "cell_type": "code",
   "execution_count": 168,
   "outputs": [],
   "source": [
    "class PredictionAllFeaturesCNN(nn.Module):\n",
    "    def __init__(self, no_layers, vocab_size, vocab_size_driv, embedding_dim, embedding_dim_driv, output_dim, drop_prob=0.5):\n",
    "        super(PredictionAllFeaturesCNN, self).__init__()\n",
    "\n",
    "        self.no_layers = no_layers\n",
    "        self.output_dim = output_dim\n",
    "        self.vocab_size = vocab_size\n",
    "        self.vocab_size_driv = vocab_size_driv\n",
    "\n",
    "        # Embedding layers\n",
    "        self.embedding = nn.Embedding(vocab_size, embedding_dim)\n",
    "        self.embedding_driv = nn.Embedding(vocab_size_driv, embedding_dim_driv)\n",
    "\n",
    "        # CNN layers\n",
    "        self.conv1 = nn.Conv1d(in_channels=embedding_dim, out_channels=64, kernel_size=3, padding=1)\n",
    "        self.pool = nn.MaxPool1d(kernel_size=2, stride=2)\n",
    "\n",
    "        self.dropout = nn.Dropout(drop_prob)\n",
    "        self.fc_static_1 = nn.Linear(embedding_dim_driv+9, 128)\n",
    "        self.fc = nn.Linear(128+64,64)\n",
    "        self.layer2 = nn.Linear(128, 64)\n",
    "        self.layer3 = nn.Linear(64, 1)\n",
    "        self.relu = nn.ReLU()\n",
    "        self.sig = nn.Sigmoid()\n",
    "\n",
    "    def forward(self, x, is_training=True):\n",
    "        batch_size = len(x['routes'])\n",
    "        route_ids = x['routes'].int()\n",
    "\n",
    "        embeds = self.embedding(route_ids)  # shape: B x S x Feature   since batch = True\n",
    "\n",
    "        # get driver ids example\n",
    "        driver_ids = x['driver_id_sorted'].int()\n",
    "        experience = x['last_two_weeks_count'].int()\n",
    "        len_feature = x['len'].int()\n",
    "        day_of_week_feature = x['day_of_week_encoded_ext'].int()\n",
    "        country_flag = x['country_flag'].int()\n",
    "\n",
    "        embedding_driv = self.embedding_driv(driver_ids)\n",
    "        all_static = torch.concatenate((embedding_driv, country_flag.view(batch_size, 1),len_feature.view(batch_size, 1), day_of_week_feature), dim=1)\n",
    "        # all_static = torch.concatenate((embedding_driv, day_of_week_feature), dim=1)\n",
    "\n",
    "\n",
    "        cnn_input = embeds.permute(0, 2, 1)  # Reshape for CNN: B x Feature x S\n",
    "        cnn_out = self.conv1(cnn_input)\n",
    "        cnn_out = self.relu(cnn_out)\n",
    "        cnn_out = self.pool(cnn_out)\n",
    "        cnn_out = torch.mean(cnn_out, dim=2)\n",
    "        cnn_out = self.dropout(cnn_out)\n",
    "\n",
    "        out_static = self.relu(self.fc_static_1(all_static))\n",
    "        combined = self.fc(torch.cat((cnn_out, out_static), dim=1))\n",
    "        x = self.relu(combined)\n",
    "        out = self.layer3(x)\n",
    "        sig_out = self.sig(out)\n",
    "\n",
    "        # reshape to be batch_size first\n",
    "        sig_out = sig_out.view(batch_size, -1)\n",
    "        sig_out = sig_out[:, -1] # get last batch of labels\n",
    "        return sig_out"
   ],
   "metadata": {
    "collapsed": false,
    "pycharm": {
     "name": "#%%\n"
    }
   }
  },
  {
   "cell_type": "markdown",
   "source": [
    "## Attention architecture"
   ],
   "metadata": {
    "collapsed": false,
    "pycharm": {
     "name": "#%% md\n"
    }
   }
  },
  {
   "cell_type": "code",
   "execution_count": 174,
   "outputs": [],
   "source": [
    "import math\n",
    "\n",
    "class RunningNorm:\n",
    "    def __init__(self, dim=0):\n",
    "        self.dim = dim\n",
    "        self.n = 0\n",
    "        self.mean = 0\n",
    "        self.var = 0\n",
    "\n",
    "    def update(self, x):\n",
    "        self.n += 1\n",
    "        if self.n == 1:\n",
    "            self.mean = x\n",
    "            self.var = torch.zeros_like(x)\n",
    "        else:\n",
    "            new_mean = self.mean + (x - self.mean) / self.n\n",
    "            self.var = (self.var * (self.n - 1) + (x - self.mean) * (x - new_mean)) / self.n\n",
    "            self.mean = new_mean\n",
    "\n",
    "    def normalize(self, x):\n",
    "        if self.n == 0:\n",
    "            return x\n",
    "        return (x - self.mean) / (torch.sqrt(self.var) + 1e-8)\n",
    "\n",
    "class PositionalEncoding(nn.Module):\n",
    "    def __init__(self, d_model, max_len=35):\n",
    "        super(PositionalEncoding, self).__init__()\n",
    "        pe = torch.zeros(max_len, d_model)\n",
    "        position = torch.arange(0, max_len, dtype=torch.float).unsqueeze(1)\n",
    "        div_term = torch.exp(torch.arange(0, d_model, 2).float() * (-math.log(10000.0) / d_model))\n",
    "        pe[:, 0::2] = torch.sin(position * div_term)\n",
    "        pe[:, 1::2] = torch.cos(position * div_term)\n",
    "        pe = pe.unsqueeze(0)\n",
    "        self.register_buffer('pe', pe)\n",
    "\n",
    "    def forward(self, x):\n",
    "        # x.shape should be (batch_size, sequence_length, d_model)\n",
    "        sequence_length = x.size(1)\n",
    "        x = x + self.pe[:, :sequence_length, :]\n",
    "        return x\n",
    "\n",
    "class SinusoidalPosEmb(nn.Module):\n",
    "    def __init__(self, dim):\n",
    "        super().__init__()\n",
    "        self.dim = dim\n",
    "\n",
    "    def forward(self, x):\n",
    "        device = x.device\n",
    "        half_dim = self.dim // 2\n",
    "        emb = math.log(10000) / (half_dim - 1)\n",
    "        emb = torch.exp(torch.arange(half_dim, device=device) * -emb)\n",
    "        emb = x[:, None] * emb[None, :]\n",
    "        emb = torch.cat((emb.sin(), emb.cos()), dim=-1)\n",
    "        return emb\n",
    "\n",
    "\n",
    "# \"Encoder-Only\" Style Transformer\n",
    "class NanoTransformer(nn.Module):\n",
    "    \"\"\"\n",
    "    This class implements a simplified Transformer model for sequence classification.\n",
    "    It uses an embedding layer for tokens, sinusoidal positional embeddings,\n",
    "    a single Transformer block, and a final linear layer for prediction.\n",
    "\n",
    "    Args:\n",
    "      num_emb: The number of unique tokens in the vocabulary.\n",
    "      output_size: The size of the output layer (number of classes).\n",
    "      hidden_size: The dimension of the hidden layer in the Transformer block (default: 128).\n",
    "      num_heads: The number of heads in the multi-head attention layer (default: 4).\n",
    "    \"\"\"\n",
    "    def __init__(self, embedding_dim, vocab_size, embedding_dim_driv, vocab_size_driv, hidden_size=64, num_heads=4):\n",
    "        super(NanoTransformer, self).__init__()\n",
    "\n",
    "        # Create an embedding for each token\n",
    "        self.embedding = nn.Embedding(vocab_size, embedding_dim)\n",
    "        self.embedding_driv = nn.Embedding(vocab_size_driv, embedding_dim_driv)\n",
    "        self.embedding.weight.data = 0.001 * self.embedding.weight.data\n",
    "\n",
    "        self.hidden_size = hidden_size\n",
    "        self.embedding_dim_driv = embedding_dim_driv\n",
    "        self.vocab_size_driv = vocab_size_driv\n",
    "\n",
    "        self.pos_emb = SinusoidalPosEmb(hidden_size)\n",
    "\n",
    "        self.multihead_attn1 = nn.MultiheadAttention(hidden_size, num_heads=num_heads, batch_first=True)\n",
    "        self.layer_norm = nn.LayerNorm(hidden_size)\n",
    "        self.fc_static_1 = nn.Linear(embedding_dim_driv+9, 128)\n",
    "        self.layer3 = nn.Linear(128, 1)\n",
    "        self.fc = nn.Linear(hidden_size+128, 64)\n",
    "        self.layer3 = nn.Linear(64, 1)\n",
    "        self.relu = nn.ReLU()\n",
    "        self.sig = nn.Sigmoid()\n",
    "\n",
    "    def forward(self, x, is_training=True):\n",
    "        bs = len(x['routes'])\n",
    "        l = len(x['routes'][0])\n",
    "        route_ids = x['routes'].int()\n",
    "        input_embs = self.embedding(route_ids)  # shape: B x S x Feature   since batch = True\n",
    "\n",
    "        driver_ids = x['driver_id_sorted'].int()\n",
    "        experience = x['last_two_weeks_count'].float()\n",
    "        len_feature = x['len'].float()\n",
    "        day_of_week_feature = x['day_of_week_encoded_ext'].int()\n",
    "        country_flag = x['country_flag'].int()\n",
    "        location_is_depot = x['location_is_depot'].int()\n",
    "        location_type_id = x['location_type_id'].int()\n",
    "\n",
    "        embedding_driv = self.embedding_driv(driver_ids)\n",
    "\n",
    "        all_static = torch.cat((embedding_driv, country_flag.view(bs, 1),\n",
    "                                len_feature.view(bs, 1), day_of_week_feature), dim=1)\n",
    "\n",
    "\n",
    "        seq_indx = torch.arange(l)\n",
    "        pos_emb = self.pos_emb(seq_indx).reshape(1, l, -1).expand(bs, l, -1)\n",
    "        embs = input_embs + pos_emb\n",
    "        output1, attn_map1 = self.multihead_attn1(embs, embs, embs)\n",
    "        output = self.layer_norm(embs + output1)\n",
    "\n",
    "        out_static = self.relu(self.fc_static_1(all_static))\n",
    "        out_static = out_static.unsqueeze(1).expand(-1, l, -1)\n",
    "\n",
    "        out = self.fc(torch.cat((output, out_static), dim=2))\n",
    "        out = self.layer3(out)\n",
    "        sig_out = self.sig(out).squeeze(-1)\n",
    "        final_out = torch.mean(sig_out, dim=1)\n",
    "        return final_out"
   ],
   "metadata": {
    "collapsed": false,
    "pycharm": {
     "name": "#%%\n"
    }
   }
  }
 ],
 "metadata": {
  "kernelspec": {
   "display_name": "Python 3",
   "language": "python",
   "name": "python3"
  },
  "language_info": {
   "codemirror_mode": {
    "name": "ipython",
    "version": 2
   },
   "file_extension": ".py",
   "mimetype": "text/x-python",
   "name": "python",
   "nbconvert_exporter": "python",
   "pygments_lexer": "ipython2",
   "version": "2.7.6"
  }
 },
 "nbformat": 4,
 "nbformat_minor": 0
}