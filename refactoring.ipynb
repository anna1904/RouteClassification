{
 "cells": [
  {
   "cell_type": "markdown",
   "source": [
    "## Clustering graph"
   ],
   "metadata": {
    "collapsed": false,
    "pycharm": {
     "name": "#%% md\n"
    }
   }
  },
  {
   "cell_type": "markdown",
   "source": [],
   "metadata": {
    "collapsed": false,
    "pycharm": {
     "name": "#%% md\n"
    }
   }
  },
  {
   "cell_type": "code",
   "execution_count": 1,
   "outputs": [],
   "source": [
    "# import pandas as pd\n",
    "# from sklearn.cluster import KMeans\n",
    "# import matplotlib.pyplot as plt\n",
    "# sse = []\n",
    "#\n",
    "# for i in range(1, 21):\n",
    "#     # create a KMeans model with the current number of clusters\n",
    "#     kmeans = KMeans(n_clusters=i)\n",
    "#     # fit the model to the locations dataframe\n",
    "#     kmeans.fit(sorted_data_stops[['current_lat', 'current_lng']])\n",
    "#     # append the sum of squared errors to the list\n",
    "#     sse.append(kmeans.inertia_)\n",
    "#\n",
    "# # create a plot with the number of clusters on the x-axis and SSE on the y-axis\n",
    "# plt.plot(range(1, 21), sse)\n",
    "# plt.xlabel('Number of Clusters')\n",
    "# plt.ylabel('Sum of Squared Errors (SSE)')\n",
    "# plt.title('Elbow Plot')\n",
    "# plt.show()"
   ],
   "metadata": {
    "collapsed": false,
    "pycharm": {
     "name": "#%%\n"
    }
   }
  },
  {
   "cell_type": "markdown",
   "source": [
    "# Artificial routes"
   ],
   "metadata": {
    "collapsed": false,
    "pycharm": {
     "name": "#%% md\n"
    }
   }
  },
  {
   "cell_type": "code",
   "execution_count": 2,
   "outputs": [],
   "source": [
    "# routes[['planned_route_craft', 'actual_route_location']]\n",
    "#\n",
    "# import itertools\n",
    "# artificial_completed_routes = pd.DataFrame(columns=['routes'])\n",
    "#\n",
    "# def common_subsequence(planned, actual):\n",
    "#     return [x[0] for x in itertools.takewhile(lambda x: x[0] == x[1], zip(planned, actual))]\n",
    "#\n",
    "# artificial_completed_routes['routes'] = routes.apply(lambda row: common_subsequence(row['planned_route_craft'], row['actual_route_location']), axis=1)\n",
    "#\n",
    "# filtered_results = artificial_completed_routes[artificial_completed_routes['routes'].apply(lambda x: len(x) > 1 and len(x) != len(routes.loc[artificial_completed_routes.index, 'planned_route_craft']))]\n",
    "#\n",
    "# filtered_results['driver_id'] = routes.loc[filtered_results.index, 'driver_id']\n",
    "# filtered_results['last_two_weeks_count'] = routes.loc[filtered_results.index, 'last_two_weeks_count']\n",
    "#\n",
    "# filtered_results['distance_route'] = filtered_results.apply(lambda row: routes.loc[row.name, 'distance_route'][:len(row['routes'])-1], axis=1)\n",
    "#\n",
    "# artificial_planned_routes = pd.DataFrame({'common_subsequence': filtered_results['routes'], 'driver_id': filtered_results['driver_id'], 'distance_route': filtered_results['distance_route'], 'last_two_weeks_count': filtered_results['last_two_weeks_count']})\n",
    "#\n",
    "# artificial_planned_routes"
   ],
   "metadata": {
    "collapsed": false,
    "pycharm": {
     "name": "#%%\n"
    }
   }
  },
  {
   "cell_type": "code",
   "execution_count": 1,
   "outputs": [
    {
     "name": "stdout",
     "output_type": "stream",
     "text": [
      "stop_completed_at        0\n",
      "stop_arrived_at          0\n",
      "stop_latest              0\n",
      "stop_earliest            0\n",
      "stop_dispatched_at       0\n",
      "location_id              0\n",
      "location_type_id         0\n",
      "driver_workday_id        0\n",
      "organization_id          0\n",
      "address_id               0\n",
      "location_is_depot        0\n",
      "driver_id                0\n",
      "contact_id               0\n",
      "current_lat              0\n",
      "current_lng              0\n",
      "prev_planned_lat      7450\n",
      "prev_planned_lng      7450\n",
      "prev_actual_lat       7450\n",
      "prev_actual_lng       7450\n",
      "dtype: int64\n",
      "number of groups 3110\n"
     ]
    }
   ],
   "source": [
    "import pandas as pd\n",
    "import numpy as np\n",
    "from datetime import datetime\n",
    "import pandas as pd\n",
    "import matplotlib.pyplot as plt\n",
    "from datetime import datetime, timedelta\n",
    "from sklearn.cluster import KMeans\n",
    "\n",
    "data_stops = pd.read_csv('uni_molde_v2.csv', sep=',')\n",
    "\n",
    "data_stops\n",
    "data_stops.loc[data_stops['stop_completed_at'].isna(), 'stop_completed_at'] = \"-1\"\n",
    "data_stops.loc[data_stops['stop_arrived_at'].isna(), 'stop_arrived_at'] = \"-1\"\n",
    "\n",
    "print(data_stops.isnull().sum())\n",
    "\n",
    "\n",
    "sorted_data_stops = data_stops.sort_values(by='stop_dispatched_at', ascending=True)\n",
    "sorted_data_stops = sorted_data_stops.reset_index(drop=True)\n",
    "sorted_data_stops['day_of_week'] = pd.to_datetime(sorted_data_stops['stop_dispatched_at']).dt.day_name()\n",
    "sorted_data_stops['date'] = pd.to_datetime(sorted_data_stops['stop_dispatched_at']).dt.date\n",
    "\n",
    "#clustering\n",
    "locations_df = sorted_data_stops[['current_lat', 'current_lng']]\n",
    "kmeans = KMeans(n_clusters=1000, random_state=42)\n",
    "kmeans.fit(locations_df)\n",
    "sorted_data_stops['cluster'] = kmeans.labels_ + 1\n",
    "\n",
    "sorted_data_stops['location_id_craft'] = sorted_data_stops.groupby(['current_lat', 'current_lng']).ngroup()+1\n",
    "with open('output.txt', 'w') as f:\n",
    "    print(sorted_data_stops.to_string(), file=f)\n",
    "print('number of groups', sorted_data_stops['location_id_craft'].nunique())\n",
    "\n",
    "# data_stops_day= sorted_data_stops[sorted_data_stops['day_of_week'] == \"Wednesday\"]\n",
    "grouped_df = sorted_data_stops.groupby('driver_workday_id')[['driver_id', 'location_type_id', 'address_id', 'stop_dispatched_at', 'stop_arrived_at', 'stop_earliest', 'stop_latest', 'current_lat', 'current_lng', 'stop_completed_at', 'cluster', 'location_id_craft','day_of_week', 'date']].apply(lambda x: pd.Series({\n",
    "    'driver_id': x['driver_id'].tolist(),\n",
    "    'location_type_id': x['location_type_id'].tolist(),\n",
    "    'planned_route_location': x['address_id'].tolist(),\n",
    "    'stop_dispatched_at': x['stop_dispatched_at'].tolist(),\n",
    "    'stop_arrived_at': x['stop_arrived_at'].tolist(),\n",
    "    'stop_earliest': x['stop_earliest'].tolist(),\n",
    "    'stop_latest': x['stop_latest'].tolist(),\n",
    "    'current_lat': x['current_lat'].tolist(),\n",
    "    'current_lng': x['current_lng'].tolist(),\n",
    "    'stop_completed_at': x['stop_completed_at'].tolist(),\n",
    "    'planned_route_cluster': x['cluster'].tolist(),\n",
    "    'planned_route_craft': x['location_id_craft'].tolist(),\n",
    "    'day_of_week': x['day_of_week'].tolist(),\n",
    "    'date': x['date'].tolist()\n",
    "})).reset_index()"
   ],
   "metadata": {
    "collapsed": false,
    "pycharm": {
     "name": "#%%\n"
    }
   }
  },
  {
   "cell_type": "code",
   "execution_count": 2,
   "outputs": [
    {
     "name": "stdout",
     "output_type": "stream",
     "text": [
      "[55.647, 55.667, 55.677, 55.676, 55.671, 55.666, 55.669, 55.667, 55.666, 55.654] [12.152, 12.526, 12.566, 12.562, 12.561, 12.565, 12.57, 12.567, 12.565, 12.545]\n"
     ]
    }
   ],
   "source": [
    "import folium\n",
    "import math\n",
    "\n",
    "lat_seq = grouped_df['current_lat'][0]\n",
    "lon_seq = grouped_df['current_lng'][0]\n",
    "\n",
    "print(lat_seq, lon_seq)\n",
    "def build_route(lat_seq, lon_seq):\n",
    "    m = folium.Map(location=[lat_seq[0], lon_seq[0]], zoom_start=13)\n",
    "\n",
    "    # Add a polyline with arrows\n",
    "    for i in range(len(lat_seq)):\n",
    "        lat, lon = lat_seq[i], lon_seq[i]\n",
    "\n",
    "        # Add an index label\n",
    "        folium.Marker([lat, lon], icon=folium.DivIcon(html=f'<div style=\"font-size: 13pt; border: 2px solid white; border-radius: 50%; padding: 2px; background-color: white\">{i+1}</div>')).add_to(m)\n",
    "\n",
    "        if i < len(lat_seq) - 1:\n",
    "            next_lat, next_lon = lat_seq[i + 1], lon_seq[i + 1]\n",
    "            angle = np.rad2deg(np.arctan2(next_lat - lat, next_lon - lon))\n",
    "            arrow_lon = lon + 0.001 * np.cos(np.deg2rad(angle))\n",
    "\n",
    "            # Add a line segment\n",
    "            folium.PolyLine([[lat, lon], [next_lat, next_lon]], color='blue', dash_array='5, 5').add_to(m)\n",
    "\n",
    "            # Add an arrow at the end of the line segment\n",
    "            folium.Marker([next_lat, next_lon], icon=folium.Icon(color='blue', icon='arrow-up', prefix='fa')).add_to(m)\n",
    "\n",
    "    m.save('route_map.html')"
   ],
   "metadata": {
    "collapsed": false,
    "pycharm": {
     "name": "#%%\n"
    }
   }
  },
  {
   "cell_type": "code",
   "execution_count": 3,
   "outputs": [],
   "source": [
    "import folium\n",
    "def build_route(lat_seq, lon_seq, color, earliest, latest, arrived, location_type_id, file_name, marker_bool = False):\n",
    "    m = folium.Map(location=[lat_seq[0], lon_seq[0]], zoom_start=13)\n",
    "    # Add a polyline with arrows\n",
    "    offset = 0\n",
    "    for i in range(len(lat_seq)):\n",
    "        lat, lon = lat_seq[i], lon_seq[i]\n",
    "        earliest_date = earliest[i]\n",
    "        latest_date = latest[i]\n",
    "        arrived_date = arrived[i]\n",
    "        location_type = location_type_id[i]\n",
    "\n",
    "        # Determine the marker color based on the arrived date being within the earliest and latest date range\n",
    "        if marker_bool == False:\n",
    "            marker_color = 'white'\n",
    "        else:\n",
    "            if earliest_date <= arrived_date <= latest_date:\n",
    "                marker_color = 'green'\n",
    "            else:\n",
    "                marker_color = 'red'\n",
    "\n",
    "        # Add an index label\n",
    "        folium.Marker([lat + offset * 0.000001, lon + offset * 0.000001], icon=folium.DivIcon(html=f'<div style=\"font-size: 13pt; border: 1px solid white; border-radius: 50%; width: 1.2em; height: 1.2em; background-color: {marker_color}; border-radius: 50%;text-align: center;text-color: white;\">{i+1}</div>')).add_to(m)\n",
    "\n",
    "        # Add a red square marker for depots\n",
    "        if location_type == 1:\n",
    "            folium.Marker([lat + offset * 0.000001, lon + offset * 0.000001], icon=folium.Icon(color='red', icon='square', prefix='fa')).add_to(m)\n",
    "\n",
    "        if i < len(lat_seq) - 1:\n",
    "            next_lat, next_lon = lat_seq[i + 1], lon_seq[i + 1]\n",
    "            angle = np.rad2deg(np.arctan2(next_lat - lat, next_lon - lon))\n",
    "            arrow_lon = lon + 0.001 * np.cos(np.deg2rad(angle))\n",
    "\n",
    "            # Add a line segment\n",
    "            folium.PolyLine([[lat + offset * 0.000001, lon + offset * 0.000001], [next_lat, next_lon]], color=color, dash_array='5, 5').add_to(m)\n",
    "\n",
    "            # Add an arrow at the end of the line segment\n",
    "            folium.Marker([next_lat, next_lon], icon=folium.Icon(color=color, icon='arrow-up', prefix='fa')).add_to(m)\n",
    "\n",
    "        # Increase the offset for the next node with the same location\n",
    "        offset += 1\n",
    "\n",
    "    m.save(file_name)"
   ],
   "metadata": {
    "collapsed": false,
    "pycharm": {
     "name": "#%%\n"
    }
   }
  },
  {
   "cell_type": "code",
   "execution_count": 4,
   "outputs": [],
   "source": [
    "def draw_planned_route(row_id):\n",
    "    lats = uncompleted_routes_df[\"current_lat\"].iloc[row_id]\n",
    "    lngs = uncompleted_routes_df[\"current_lng\"].iloc[row_id]\n",
    "    earliests = uncompleted_routes_df[\"stop_earliest\"].iloc[row_id]\n",
    "    latests = uncompleted_routes_df[\"stop_latest\"].iloc[row_id]\n",
    "    arriveds = uncompleted_routes_df[\"stop_arrived_at\"].iloc[row_id]\n",
    "    location_types = uncompleted_routes_df[\"location_type_id\"].iloc[row_id]\n",
    "    build_route(lats, lngs, 'blue', earliests, latests, arriveds, location_types, f'planned_route_{row_id}.html')"
   ],
   "metadata": {
    "collapsed": false,
    "pycharm": {
     "name": "#%%\n"
    }
   }
  },
  {
   "cell_type": "code",
   "execution_count": 5,
   "outputs": [
    {
     "ename": "NameError",
     "evalue": "name 'uncompleted_routes_df' is not defined",
     "output_type": "error",
     "traceback": [
      "\u001B[0;31m---------------------------------------------------------------------------\u001B[0m",
      "\u001B[0;31mNameError\u001B[0m                                 Traceback (most recent call last)",
      "Cell \u001B[0;32mIn[5], line 27\u001B[0m\n\u001B[1;32m     24\u001B[0m     build_route(actual_lats, actual_longs, \u001B[38;5;124m'\u001B[39m\u001B[38;5;124mred\u001B[39m\u001B[38;5;124m'\u001B[39m, actual_earliest, actual_latest, actual_arrived, actual_location_type_id, \u001B[38;5;124mf\u001B[39m\u001B[38;5;124m'\u001B[39m\u001B[38;5;124mactual_route_\u001B[39m\u001B[38;5;132;01m{\u001B[39;00mrow_id\u001B[38;5;132;01m}\u001B[39;00m\u001B[38;5;124m.html\u001B[39m\u001B[38;5;124m'\u001B[39m,\u001B[38;5;28;01mTrue\u001B[39;00m)\n\u001B[1;32m     26\u001B[0m \u001B[38;5;28mid\u001B[39m \u001B[38;5;241m=\u001B[39m \u001B[38;5;241m13\u001B[39m\n\u001B[0;32m---> 27\u001B[0m \u001B[43mdraw_planned_route\u001B[49m\u001B[43m(\u001B[49m\u001B[38;5;28;43mid\u001B[39;49m\u001B[43m)\u001B[49m\n\u001B[1;32m     28\u001B[0m draw_actual_route(\u001B[38;5;28mid\u001B[39m)\n",
      "Cell \u001B[0;32mIn[4], line 2\u001B[0m, in \u001B[0;36mdraw_planned_route\u001B[0;34m(row_id)\u001B[0m\n\u001B[1;32m      1\u001B[0m \u001B[38;5;28;01mdef\u001B[39;00m \u001B[38;5;21mdraw_planned_route\u001B[39m(row_id):\n\u001B[0;32m----> 2\u001B[0m     lats \u001B[38;5;241m=\u001B[39m \u001B[43muncompleted_routes_df\u001B[49m[\u001B[38;5;124m\"\u001B[39m\u001B[38;5;124mcurrent_lat\u001B[39m\u001B[38;5;124m\"\u001B[39m]\u001B[38;5;241m.\u001B[39miloc[row_id]\n\u001B[1;32m      3\u001B[0m     lngs \u001B[38;5;241m=\u001B[39m uncompleted_routes_df[\u001B[38;5;124m\"\u001B[39m\u001B[38;5;124mcurrent_lng\u001B[39m\u001B[38;5;124m\"\u001B[39m]\u001B[38;5;241m.\u001B[39miloc[row_id]\n\u001B[1;32m      4\u001B[0m     earliests \u001B[38;5;241m=\u001B[39m uncompleted_routes_df[\u001B[38;5;124m\"\u001B[39m\u001B[38;5;124mstop_earliest\u001B[39m\u001B[38;5;124m\"\u001B[39m]\u001B[38;5;241m.\u001B[39miloc[row_id]\n",
      "\u001B[0;31mNameError\u001B[0m: name 'uncompleted_routes_df' is not defined"
     ]
    }
   ],
   "source": [
    "def draw_actual_route(row_id):\n",
    "    mapping = {}\n",
    "    row = uncompleted_routes_df.iloc[row_id]\n",
    "    planned_route = row['planned_route_craft']\n",
    "    actual_route = row['actual_route_location']\n",
    "    longs = row['current_lng']\n",
    "    lats = row['current_lat']\n",
    "    earliest = row['stop_earliest']\n",
    "    latest = row['stop_latest']\n",
    "    arrived = row['stop_arrived_at']\n",
    "    location_type_id = row['location_type_id']\n",
    "\n",
    "    for i in range(len(planned_route)):\n",
    "        mapping[planned_route[i]] = (longs[i], lats[i], earliest[i], latest[i],arrived[i], location_type_id[i])\n",
    "\n",
    "    actual_longs = [mapping[location][0] for location in actual_route]\n",
    "    actual_lats = [mapping[location][1] for location in actual_route]\n",
    "    actual_earliest = [mapping[location][2] for location in actual_route]\n",
    "    actual_latest = [mapping[location][3] for location in actual_route]\n",
    "    actual_arrived = [mapping[location][4] for location in actual_route]\n",
    "    actual_location_type_id = [mapping[location][5] for location in actual_route]\n",
    "\n",
    "\n",
    "    build_route(actual_lats, actual_longs, 'red', actual_earliest, actual_latest, actual_arrived, actual_location_type_id, f'actual_route_{row_id}.html',True)\n",
    "\n",
    "id = 13\n",
    "draw_planned_route(id)\n",
    "draw_actual_route(id)"
   ],
   "metadata": {
    "collapsed": false,
    "pycharm": {
     "name": "#%%\n"
    }
   }
  },
  {
   "cell_type": "code",
   "execution_count": 7,
   "outputs": [],
   "source": [
    "# import pandas as pd\n",
    "# from sklearn.linear_model import LogisticRegression\n",
    "#\n",
    "# # One-hot encode categorical columns\n",
    "# encoded_routes = pd.get_dummies(final_routes.drop(['routes'], axis=1), drop_first=True)\n",
    "# # Train a Random Forest classifier\n",
    "# model = LogisticRegression()\n",
    "# model.fit(encoded_routes, final_routes['label'])\n",
    "# coefs = model.coef_\n",
    "#\n",
    "# # Calculate odds ratio\n",
    "# odds_ratios = np.exp(coefs)\n",
    "# odds_ratios"
   ],
   "metadata": {
    "collapsed": false,
    "pycharm": {
     "name": "#%%\n"
    }
   }
  },
  {
   "cell_type": "code",
   "execution_count": 6,
   "outputs": [],
   "source": [
    "# import pandas as pd\n",
    "# import numpy as np\n",
    "# from scipy.stats import chi2_contingency\n",
    "#\n",
    "# # Convert categorical column to numerical representation\n",
    "# driver_ids = final_routes['driver_id_sorted'].astype('category')\n",
    "# driver_ids_encoded = driver_ids.cat.codes\n",
    "#\n",
    "# # Calculate contingency table\n",
    "# contingency_table = pd.crosstab(driver_ids_encoded, final_routes['label'])\n",
    "#\n",
    "# # Perform Chi-square test for independence\n",
    "# chi2_stat, p_val, dof, expected = chi2_contingency(contingency_table)\n",
    "#\n",
    "# # Print the correlation matrix\n",
    "# print(\"Correlation Matrix:\")\n",
    "# print(contingency_table)\n",
    "# print(f\"\\nChi-square statistic: {chi2_stat:.4f}\")\n",
    "# print(f\"p-value: {p_val:.4f}\")\n",
    "#\n",
    "# # Interpret the results\n",
    "# if p_val < 0.05:\n",
    "#     print(\"The driver_id and label columns are significantly associated.\")\n",
    "# else:\n",
    "#     print(\"The driver_id and label columns are not significantly associated.\")"
   ],
   "metadata": {
    "collapsed": false,
    "pycharm": {
     "name": "#%%\n"
    }
   }
  },
  {
   "cell_type": "code",
   "execution_count": 8,
   "outputs": [],
   "source": [
    "# get_mean_stat(stats, stat_name):\n",
    "#     if stat_name in [\"fpr\", \"tpr\"]:\n",
    "#         # Calculate mean fpr and tpr\n",
    "#         values = [item[stat_name] for item in stats]\n",
    "#         min_len = min(len(value) for value in values)\n",
    "#         interpolated_values = []\n",
    "#         for value in values:\n",
    "#             interpolated = np.interp(np.linspace(0, 1, min_len), np.linspace(0, 1, len(value)), value)\n",
    "#             interpolated_values.append(interpolated)\n",
    "#         mean_values = np.array(interpolated_values).mean(axis=0)\n",
    "#         return mean_values\n",
    "#     else:\n",
    "#         # Calculate mean for other stats\n",
    "#         arr = np.array([item[stat_name] for item in stats])\n",
    "#         return arr.mean()\n",
    "#\n",
    "# print('acc:', get_mean_stat(stats, 'acc'))\n",
    "# print('precision:', get_mean_stat(stats, 'precision'))\n",
    "# print('recall:', get_mean_stat(stats, 'recall'))\n",
    "# print('f1:', get_mean_stat(stats, 'f1'))\n",
    "# print('roc_auc:', get_mean_stat(stats, 'roc_auc'))\n",
    "# print('average_precision:', get_mean_stat(stats, 'average_precision'))\n",
    "# print('quadratic_loss:', get_mean_stat(stats, 'quadratic_loss'))\n",
    "# print('brier_score:', get_mean_stat(stats, 'brier_score'))\n",
    "# mean_fpr = get_mean_stat(stats, 'fpr')\n",
    "# mean_tpr = get_mean_stat(stats, 'tpr')\n",
    "#\n",
    "# plt.plot(mean_fpr, mean_tpr)\n",
    "# plt.plot([0, 1], [0, 1], 'k--')  # diagonal line\n",
    "# plt.xlabel('False Positive Rate')\n",
    "# plt.ylabel('True Positive Rate')\n",
    "# plt.title('Mean ROC Curve')\n",
    "# plt.show()"
   ],
   "metadata": {
    "collapsed": false,
    "pycharm": {
     "name": "#%%\n"
    }
   }
  },
  {
   "cell_type": "code",
   "execution_count": 9,
   "outputs": [],
   "source": [
    "# Average benchmark\n",
    "\n",
    "# import numpy as np\n",
    "# import pandas as pd\n",
    "# from sklearn.model_selection import train_test_split\n",
    "# from sklearn.metrics import mean_squared_error, mean_absolute_error, r2_score\n",
    "# train_data, test_data = train_test_split(final_routes, test_size=0.1, random_state=42)\n",
    "#\n",
    "#\n",
    "# average_scores = train_data.groupby(['driver_id_sorted', 'day_of_week'])['score'].mean().reset_index()\n",
    "# average_scores_dict = average_scores.set_index(['driver_id_sorted', 'day_of_week'])['score'].to_dict()\n",
    "# train_data['average_score'] = train_data.apply(lambda row: average_scores_dict[(row['driver_id_sorted'], row['day_of_week'])], axis=1)\n",
    "# test_data['average_score'] = test_data.apply(lambda row: average_scores_dict.get((row['driver_id_sorted'], row['day_of_week']), 0.5), axis=1)\n",
    "#\n",
    "# y_pred = test_data['average_score'].values\n",
    "# y_true = test_data['score'].values\n",
    "#\n",
    "# # Calculate metrics\n",
    "# mse = mean_squared_error(y_true, y_pred)\n",
    "# rmse = np.sqrt(mse)\n",
    "# mae = mean_absolute_error(y_true, y_pred)\n",
    "# r2 = r2_score(y_true, y_pred)\n",
    "#\n",
    "# # Print metrics\n",
    "# print('MSE:', mse)\n",
    "# print('RMSE:', rmse)\n",
    "# print('MAE:', mae)\n",
    "# print('R²:', r2)"
   ],
   "metadata": {
    "collapsed": false,
    "pycharm": {
     "name": "#%%\n"
    }
   }
  },
  {
   "cell_type": "code",
   "execution_count": null,
   "outputs": [],
   "source": [
    "# plt.figure(figsize=(10, 6))\n",
    "# plt.scatter(y_true, y_pred, alpha=0.5)\n",
    "# plt.plot([0, 1], [0, 1], 'r--')  # Diagonal line representing perfect predictions\n",
    "# plt.xlabel('True Values')\n",
    "# plt.ylabel('Predicted Values')\n",
    "# plt.title('Predicted vs True Values')\n",
    "# plt.show()"
   ],
   "metadata": {
    "collapsed": false,
    "pycharm": {
     "name": "#%%\n"
    }
   }
  },
  {
   "cell_type": "code",
   "execution_count": 10,
   "outputs": [],
   "source": [
    "# residuals = y_pred - y_true\n",
    "#\n",
    "# plt.figure(figsize=(10, 6))\n",
    "# plt.scatter(y_true, residuals, alpha=0.5)\n",
    "# plt.axhline(y=0, color='r', linestyle='--')  # Line for zero residual\n",
    "# plt.xlabel('True Values')\n",
    "# plt.ylabel('Residuals')\n",
    "# plt.title('Residual Plot')\n",
    "# plt.show()"
   ],
   "metadata": {
    "collapsed": false,
    "pycharm": {
     "name": "#%%\n"
    }
   }
  },
  {
   "cell_type": "code",
   "execution_count": null,
   "outputs": [],
   "source": [],
   "metadata": {
    "collapsed": false,
    "pycharm": {
     "name": "#%%\n"
    }
   }
  }
 ],
 "metadata": {
  "kernelspec": {
   "display_name": "Python 3",
   "language": "python",
   "name": "python3"
  },
  "language_info": {
   "codemirror_mode": {
    "name": "ipython",
    "version": 2
   },
   "file_extension": ".py",
   "mimetype": "text/x-python",
   "name": "python",
   "nbconvert_exporter": "python",
   "pygments_lexer": "ipython2",
   "version": "2.7.6"
  }
 },
 "nbformat": 4,
 "nbformat_minor": 0
}