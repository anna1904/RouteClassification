{
 "cells": [
  {
   "cell_type": "markdown",
   "source": [
    "## Clustering graph"
   ],
   "metadata": {
    "collapsed": false,
    "pycharm": {
     "name": "#%% md\n"
    }
   }
  },
  {
   "cell_type": "markdown",
   "source": [],
   "metadata": {
    "collapsed": false,
    "pycharm": {
     "name": "#%% md\n"
    }
   }
  },
  {
   "cell_type": "code",
   "execution_count": 1,
   "outputs": [],
   "source": [
    "# import pandas as pd\n",
    "# from sklearn.cluster import KMeans\n",
    "# import matplotlib.pyplot as plt\n",
    "# sse = []\n",
    "#\n",
    "# for i in range(1, 21):\n",
    "#     # create a KMeans model with the current number of clusters\n",
    "#     kmeans = KMeans(n_clusters=i)\n",
    "#     # fit the model to the locations dataframe\n",
    "#     kmeans.fit(sorted_data_stops[['current_lat', 'current_lng']])\n",
    "#     # append the sum of squared errors to the list\n",
    "#     sse.append(kmeans.inertia_)\n",
    "#\n",
    "# # create a plot with the number of clusters on the x-axis and SSE on the y-axis\n",
    "# plt.plot(range(1, 21), sse)\n",
    "# plt.xlabel('Number of Clusters')\n",
    "# plt.ylabel('Sum of Squared Errors (SSE)')\n",
    "# plt.title('Elbow Plot')\n",
    "# plt.show()"
   ],
   "metadata": {
    "collapsed": false,
    "pycharm": {
     "name": "#%%\n"
    }
   }
  },
  {
   "cell_type": "markdown",
   "source": [
    "# Artificial routes"
   ],
   "metadata": {
    "collapsed": false,
    "pycharm": {
     "name": "#%% md\n"
    }
   }
  },
  {
   "cell_type": "code",
   "execution_count": 2,
   "outputs": [],
   "source": [
    "# routes[['planned_route_craft', 'actual_route_location']]\n",
    "#\n",
    "# import itertools\n",
    "# artificial_completed_routes = pd.DataFrame(columns=['routes'])\n",
    "#\n",
    "# def common_subsequence(planned, actual):\n",
    "#     return [x[0] for x in itertools.takewhile(lambda x: x[0] == x[1], zip(planned, actual))]\n",
    "#\n",
    "# artificial_completed_routes['routes'] = routes.apply(lambda row: common_subsequence(row['planned_route_craft'], row['actual_route_location']), axis=1)\n",
    "#\n",
    "# filtered_results = artificial_completed_routes[artificial_completed_routes['routes'].apply(lambda x: len(x) > 1 and len(x) != len(routes.loc[artificial_completed_routes.index, 'planned_route_craft']))]\n",
    "#\n",
    "# filtered_results['driver_id'] = routes.loc[filtered_results.index, 'driver_id']\n",
    "# filtered_results['last_two_weeks_count'] = routes.loc[filtered_results.index, 'last_two_weeks_count']\n",
    "#\n",
    "# filtered_results['distance_route'] = filtered_results.apply(lambda row: routes.loc[row.name, 'distance_route'][:len(row['routes'])-1], axis=1)\n",
    "#\n",
    "# artificial_planned_routes = pd.DataFrame({'common_subsequence': filtered_results['routes'], 'driver_id': filtered_results['driver_id'], 'distance_route': filtered_results['distance_route'], 'last_two_weeks_count': filtered_results['last_two_weeks_count']})\n",
    "#\n",
    "# artificial_planned_routes"
   ],
   "metadata": {
    "collapsed": false,
    "pycharm": {
     "name": "#%%\n"
    }
   }
  },
  {
   "cell_type": "code",
   "execution_count": 5,
   "outputs": [
    {
     "name": "stdout",
     "output_type": "stream",
     "text": [
      "stop_completed_at        0\n",
      "stop_arrived_at          0\n",
      "stop_latest              0\n",
      "stop_earliest            0\n",
      "stop_dispatched_at       0\n",
      "location_id              0\n",
      "location_type_id         0\n",
      "driver_workday_id        0\n",
      "organization_id          0\n",
      "address_id               0\n",
      "location_is_depot        0\n",
      "driver_id                0\n",
      "contact_id               0\n",
      "current_lat              0\n",
      "current_lng              0\n",
      "prev_planned_lat      7450\n",
      "prev_planned_lng      7450\n",
      "prev_actual_lat       7450\n",
      "prev_actual_lng       7450\n",
      "dtype: int64\n",
      "number of groups 3110\n"
     ]
    }
   ],
   "source": [
    "import pandas as pd\n",
    "import numpy as np\n",
    "from datetime import datetime\n",
    "import pandas as pd\n",
    "import matplotlib.pyplot as plt\n",
    "from datetime import datetime, timedelta\n",
    "from sklearn.cluster import KMeans\n",
    "\n",
    "data_stops = pd.read_csv('uni_molde_v2.csv', sep=',')\n",
    "\n",
    "data_stops\n",
    "data_stops.loc[data_stops['stop_completed_at'].isna(), 'stop_completed_at'] = \"-1\"\n",
    "data_stops.loc[data_stops['stop_arrived_at'].isna(), 'stop_arrived_at'] = \"-1\"\n",
    "\n",
    "print(data_stops.isnull().sum())\n",
    "\n",
    "\n",
    "sorted_data_stops = data_stops.sort_values(by='stop_dispatched_at', ascending=True)\n",
    "sorted_data_stops = sorted_data_stops.reset_index(drop=True)\n",
    "sorted_data_stops['day_of_week'] = pd.to_datetime(sorted_data_stops['stop_dispatched_at']).dt.day_name()\n",
    "sorted_data_stops['date'] = pd.to_datetime(sorted_data_stops['stop_dispatched_at']).dt.date\n",
    "\n",
    "#clustering\n",
    "locations_df = sorted_data_stops[['current_lat', 'current_lng']]\n",
    "kmeans = KMeans(n_clusters=1000, random_state=42)\n",
    "kmeans.fit(locations_df)\n",
    "sorted_data_stops['cluster'] = kmeans.labels_ + 1\n",
    "\n",
    "sorted_data_stops['location_id_craft'] = sorted_data_stops.groupby(['current_lat', 'current_lng']).ngroup()+1\n",
    "with open('output.txt', 'w') as f:\n",
    "    print(sorted_data_stops.to_string(), file=f)\n",
    "print('number of groups', sorted_data_stops['location_id_craft'].nunique())\n",
    "\n",
    "# data_stops_day= sorted_data_stops[sorted_data_stops['day_of_week'] == \"Wednesday\"]\n",
    "grouped_df = sorted_data_stops.groupby('driver_workday_id')[['driver_id', 'location_type_id', 'address_id', 'stop_dispatched_at', 'stop_arrived_at', 'stop_earliest', 'stop_latest', 'current_lat', 'current_lng', 'stop_completed_at', 'cluster', 'location_id_craft','day_of_week', 'date']].apply(lambda x: pd.Series({\n",
    "    'driver_id': x['driver_id'].tolist(),\n",
    "    'location_type_id': x['location_type_id'].tolist(),\n",
    "    'planned_route_location': x['address_id'].tolist(),\n",
    "    'stop_dispatched_at': x['stop_dispatched_at'].tolist(),\n",
    "    'stop_arrived_at': x['stop_arrived_at'].tolist(),\n",
    "    'stop_earliest': x['stop_earliest'].tolist(),\n",
    "    'stop_latest': x['stop_latest'].tolist(),\n",
    "    'current_lat': x['current_lat'].tolist(),\n",
    "    'current_lng': x['current_lng'].tolist(),\n",
    "    'stop_completed_at': x['stop_completed_at'].tolist(),\n",
    "    'planned_route_cluster': x['cluster'].tolist(),\n",
    "    'planned_route_craft': x['location_id_craft'].tolist(),\n",
    "    'day_of_week': x['day_of_week'].tolist(),\n",
    "    'date': x['date'].tolist()\n",
    "})).reset_index()"
   ],
   "metadata": {
    "collapsed": false,
    "pycharm": {
     "name": "#%%\n"
    }
   }
  },
  {
   "cell_type": "code",
   "execution_count": 17,
   "outputs": [
    {
     "name": "stdout",
     "output_type": "stream",
     "text": [
      "[55.647, 55.667, 55.677, 55.676, 55.671, 55.666, 55.669, 55.667, 55.666, 55.654] [12.152, 12.526, 12.566, 12.562, 12.561, 12.565, 12.57, 12.567, 12.565, 12.545]\n"
     ]
    }
   ],
   "source": [
    "import folium\n",
    "import math\n",
    "\n",
    "lat_seq = grouped_df['current_lat'][0]\n",
    "lon_seq = grouped_df['current_lng'][0]\n",
    "\n",
    "print(lat_seq, lon_seq)\n",
    "def build_route(lat_seq, lon_seq):\n",
    "    m = folium.Map(location=[lat_seq[0], lon_seq[0]], zoom_start=13)\n",
    "\n",
    "    # Add a polyline with arrows\n",
    "    for i in range(len(lat_seq)):\n",
    "        lat, lon = lat_seq[i], lon_seq[i]\n",
    "\n",
    "        # Add an index label\n",
    "        folium.Marker([lat, lon], icon=folium.DivIcon(html=f'<div style=\"font-size: 13pt; border: 2px solid white; border-radius: 50%; padding: 2px; background-color: white\">{i+1}</div>')).add_to(m)\n",
    "\n",
    "        if i < len(lat_seq) - 1:\n",
    "            next_lat, next_lon = lat_seq[i + 1], lon_seq[i + 1]\n",
    "            angle = np.rad2deg(np.arctan2(next_lat - lat, next_lon - lon))\n",
    "            arrow_lon = lon + 0.001 * np.cos(np.deg2rad(angle))\n",
    "\n",
    "            # Add a line segment\n",
    "            folium.PolyLine([[lat, lon], [next_lat, next_lon]], color='blue', dash_array='5, 5').add_to(m)\n",
    "\n",
    "            # Add an arrow at the end of the line segment\n",
    "            folium.Marker([next_lat, next_lon], icon=folium.Icon(color='blue', icon='arrow-up', prefix='fa')).add_to(m)\n",
    "\n",
    "    m.save('route_map.html')"
   ],
   "metadata": {
    "collapsed": false,
    "pycharm": {
     "name": "#%%\n"
    }
   }
  },
  {
   "cell_type": "code",
   "execution_count": null,
   "outputs": [],
   "source": [],
   "metadata": {
    "collapsed": false,
    "pycharm": {
     "name": "#%%\n"
    }
   }
  }
 ],
 "metadata": {
  "kernelspec": {
   "display_name": "Python 3",
   "language": "python",
   "name": "python3"
  },
  "language_info": {
   "codemirror_mode": {
    "name": "ipython",
    "version": 2
   },
   "file_extension": ".py",
   "mimetype": "text/x-python",
   "name": "python",
   "nbconvert_exporter": "python",
   "pygments_lexer": "ipython2",
   "version": "2.7.6"
  }
 },
 "nbformat": 4,
 "nbformat_minor": 0
}